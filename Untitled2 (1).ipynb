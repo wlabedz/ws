{
  "nbformat": 4,
  "nbformat_minor": 0,
  "metadata": {
    "colab": {
      "provenance": []
    },
    "kernelspec": {
      "name": "python3",
      "display_name": "Python 3"
    },
    "language_info": {
      "name": "python"
    }
  },
  "cells": [
    {
      "cell_type": "code",
      "execution_count": 1,
      "metadata": {
        "colab": {
          "base_uri": "https://localhost:8080/"
        },
        "id": "5pYh4c8j1w43",
        "outputId": "8a0dca73-64e5-4f0d-c493-2c5b38392363"
      },
      "outputs": [
        {
          "output_type": "stream",
          "name": "stdout",
          "text": [
            "['Mieszkanie piękne 3 pokoje, 64m², Warszawa Włochy', 'Kawalerka Śródmieście/Nowolipki', 'BEZPOŚREDNIO 3-pokojowe mieszkanie przy metrze', 'Czteropokojowe Z Dużym Balkonem Przy Metrze!', 'Blisko Centrum, na granicy Mokotowa i Śródmieścia', 'Atrakcyjne gotowe mieszkanie w luksusowym osiedlu', 'Dwa pokoje, 39m2, 11 piętro, piękny widok z okien', 'Mieszkanie / Inwestycja - w sercu Mokotowa', 'Komfortowe 2-pokojowe mieszkanie w dobrej lokaliza', 'Gotowe do zamieszkania - Targowa', 'Słoneczne 3 pok super lokalizacja Mokotów PARKING', 'Sprzedam mieszkanie 2-pokojowe z ogródkiem', 'BEZPOŚREDNIO Mieszkanie na Sadybie', 'Wyjątkowe trzypokojowe mieszkanie z dużym ogrodem', 'Miasteczko Wilanów/Bezpośrednio/Garaż + Komórka', 'Rondo Daszyńskiego-3 Pokoje, Wysoki Standard', 'Mieszkanie piękne 3 pokoje, 64m², Warszawa Włochy', '5 pokoi za balkonem', 'Bielany 3 pokoje z balkonem i garażem', 'Gotowe Do Wejścia 3 Pokoje, Oddzielna Kuchnia Wola', 'Przestronne trzypokojowe mieszkanie na Tarchominie', '3 pokojowe mieszkanie na sprzedaż', '2 pokoje 42 m, Sady Żoliborz, po remoncie', '4-pok. na Sadybie z dużymi możliwościami - 77m2 !', 'Słoneczne 3 pokojowe przy ul. Puławskiej', '3 pokoje | garaż | kom. lokatorska *PROMOCJA*', '2 pokojowy Apartament na Bergamotki.', 'Komfortowe 3 pokoje, Ursus', 'Mieszkanie - Warszawa Ochota Rakowiec', 'Mieszkanie Warszawa Wola ul. Danuty Siedzikówny 4', 'Mieszkanie po remoncie Klaudyny', 'Dwupokojowe mieszkanie | Garaż + komórka', 'Mieszkanie 37m²⭐PO REMONCIE⭐2 pokoje⭐Winda⭐Piwnica', 'Mieszkanie z piwnicą i dodatkową komórką', 'Piękna kawalerka z możliwością antresoli/2pok 3,2m', 'Ursus z dobrą komunikacją!2 pokoje z widną kuchnią', 'Piękna kawalerka w kamienicy 34,1m2 OKAZJA!', 'A może atrakcyjne mieszkanie w SOHO? Dostępne już!', 'Kawalerka Z Ogródkiem I Garażem Miasto Moje', 'Wola | 3 Pokoje | 2 Miejsca W Garażu | Widok', 'Mieszkanie Wawrzyszew Bielany 64,6 m2', 'Wyjątkowy, kompaktowy apartament z balkonem !', 'Mieszkanie przy metrze - sprzedam !', '2-pokojowe mieszkanie przy Rondzie Wiatraczna', '3 pok Ursynów 52m2  idealna lokalizacja przy parku', 'Kawalerka w kamienicy przy placu Hallera', 'Mieszkanie 4 pokojowe Wilanów', 'h= 290 cm, stan deweloperski z KW, bez PCC', '3 pokoje z ogródkiem w nowym budownictwie', 'ul. Złota w Śródmieściu, po generalnym remoncie', 'Piękne mieszkanie przy Sobieskiego i Dolnej', 'NOWE, 5 pokoi, Klima, Garaż, bez PCC, bezpośrednio', 'Leszczyńska Powiśle 3 Pokoje', 'Komfortowe i ładne 2 pokoje po remoncie obok lasu', 'Idealnie ergonomiczne, wyposażone i klimat. studio', 'Mieszkanie 2-pokoje ogródek, taras, garaż, komórka', 'Mieszkanie Bemowo tuż przy metrze! 36,3m', 'Wygodne mieszkanie, przy parku, blisko M Kabaty', 'Apartament z tarasem, ogrodem, komórką i garażem', 'Mieszkanie 35 m2 z ogródkiem, Białołęka', '2 pokoje z oddzielną widną kuchnią. Balkon', 'Żoliborz 3 pokoje oddzielna widna kuchnia. Parking', 'Żoliborz. 2 pokoje z widną kuchnią, parking. Park', 'Unikatowe studio loft. Znakomita lokalizacja!', 'Kawalerka Śródmieście/Nowolipki', '3 Pokoje | 2 Strony Świata | Metro | Las', '3 Pokoje*Mokotów*Gotowe Do Wprowadzenia', 'Widne mieszkanie na bliskiej Woli - Metro Młynów!', '2 pkoje, w nowym, bez PCC', '4 pokoje | Metro Imielin | balkon | od zaraz!', 'Przy Parku- Wysokość 2,8m- Do wykończenia', 'Zamieszkaj z rodziną nad Wisłą-Blisko ZOO- Metro', 'Bez PCC, bezpośrednio, 2 pokoje', '2 pok. (łatwo przywrócić oryginalną wersję 3-pok.)', 'Piękne 2 pok.Miasteczko Wilanów* Garaż UA BY', 'Czteropokojowe Z Dużym Balkonem Przy Metrze!']\n",
            "['1 275 000 zł', '489 000 zł', '649 900 zł', '2 198 000 zł', '790 000 zł', '940 000 zł', '717 800 zł', '869 990 zł', '620 000 zł', '899 000 zł', '829 000 zł', '680 000 zł', '672 000 zł', '1 169 000 zł', '799 000 zł', '2 350 000 zł', '1 275 000 zł', '1 350 000 zł', '1 150 000 zł', '1 367 000 zł', '980 000 zł', '899 000 zł', '770 000 zł', '1 231 000 zł', '960 000 zł', '950 000 zł', '1 182 000 zł', '1 030 000 zł', '799 000 zł', '995 000 zł', '878 000 zł', '880 000 zł', '673 000 zł', '839 000 zł', '749 999 zł', '485 000 zł', '539 000 zł', '1 299 000 zł', '499 000 zł', '1 200 000 zł', '930 000 zł', '655 000 zł', '860 000 zł', '595 000 zł', '960 000 zł', '385 000 zł', '1 058 000 zł', '629 000 zł', '605 000 zł', '1 074 000 zł', '1 010 000 zł', '1 290 000 zł', '2 800 000 zł', '589 900 zł', '600 000 zł', '790 000 zł', '799 000 zł', '992 000 zł', '1 950 000 zł', '525 000 zł', '770 000 zł', '760 500 zł', '799 000 zł', '920 000 zł', '489 000 zł', '1 280 000 zł', '1 550 000 zł', '649 000 zł', '1 079 000 zł', '960 000 zł', '689 000 zł', '759 000 zł', '1 150 000 zł', '1 175 000 zł', '995 000 zł', '2 198 000 zł']\n"
          ]
        }
      ],
      "source": [
        "import requests\n",
        "from bs4 import BeautifulSoup\n",
        "import pandas as pd\n",
        "\n",
        "url = \"https://www.otodom.pl/pl/wyniki/sprzedaz/mieszkanie,rynek-wtorny/mazowieckie/warszawa/warszawa/warszawa?limit=72\"\n",
        "\n",
        "headers = {\"User-Agent\": \"Mozilla/5.0\"}\n",
        "response = requests.get(url, headers=headers)\n",
        "\n",
        "soup = BeautifulSoup(response.content, \"html.parser\")\n",
        "\n",
        "# Pobieranie ofert mieszkań\n",
        "titles = [t.text for t in soup.find_all(\"p\", class_=\"css-u3orbr e1g5xnx10\")]\n",
        "\n",
        "prices = [p.text.replace(\"\\xa0\", \" \")  for p in soup.find_all(\"span\", class_=\"css-2bt9f1 evk7nst0\")]\n",
        "\n",
        "print(titles)\n",
        "print(prices)\n",
        "\n",
        "df = pd.DataFrame({\"Title\": titles, \"Price\": prices})\n",
        "\n",
        "# Zapisanie do pliku CSV\n",
        "df.to_csv(\"scraped_data.csv\", index=False)\n"
      ]
    }
  ]
}