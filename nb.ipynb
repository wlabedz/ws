{
  "cells": [
    {
      "cell_type": "code",
      "execution_count": null,
      "metadata": {
        "colab": {
          "base_uri": "https://localhost:8080/"
        },
        "id": "5pYh4c8j1w43",
        "outputId": "8a0dca73-64e5-4f0d-c493-2c5b38392363"
      },
      "outputs": [],
      "source": [
        "import requests\n",
        "from bs4 import BeautifulSoup\n",
        "import pandas as pd\n",
        "import os\n",
        "\n",
        "url = \"https://sprzedajemy.pl/krakow/nieruchomosci/mieszkania?offset=0&items_per_page=60\"\n",
        "\n",
        "headers = {\n",
        "    \"User-Agent\": \"Mozilla/5.0 (Windows NT 10.0; Win64; x64) AppleWebKit/537.36 (KHTML, like Gecko) Chrome/58.0.3029.110 Safari/537.36\",\n",
        "    \"Accept\": \"text/html,application/xhtml+xml,application/xml;q=0.9,image/webp,image/apng,*/*;q=0.8\",\n",
        "    \"Accept-Encoding\": \"gzip, deflate, br\",\n",
        "    \"Accept-Language\": \"en-US,en;q=0.9,pl;q=0.8\",\n",
        "    \"Connection\": \"keep-alive\"\n",
        "}\n",
        "\n",
        "response = requests.get(url, headers=headers)\n",
        "response = requests.get(url, headers=headers)\n",
        "\n",
        "# Debugowanie odpowiedzi\n",
        "print(f\"Status Code: {response.status_code}\")\n",
        "print(f\"Response Headers: {response.headers}\")\n",
        "print(f\"Response Text (first 2000 chars): {response.text[:2000]}\")\n",
        "\n",
        "# Jeśli odpowiedź jest poprawna, wykonaj webscraping\n",
        "if response.status_code == 200:\n",
        "    soup = BeautifulSoup(response.content, \"html.parser\")\n",
        "\n",
        "    # Pobieranie ofert mieszkań\n",
        "    titles = [h2.a.text.strip() for h2 in soup.find_all(\"h2\", class_=\"title\") if h2.a]\n",
        "    prices = [p.text.replace(\"\\xa0\", \" \").strip() for p in soup.find_all(\"span\", class_=\"price\")]\n",
        "\n",
        "    print(\"Titles:\", titles)\n",
        "    print(len(titles))\n",
        "    print(\"Prices:\", prices)\n",
        "    print(len(prices))\n",
        "\n",
        "    df = pd.DataFrame({\"Title\": titles, \"Price\": prices})\n",
        "\n",
        "    # Dopisanie do pliku CSV\n",
        "    df.to_csv(\"scraped_data.csv\", mode='a', header=not os.path.exists('scraped_data.csv'), index=False)\n",
        "else:\n",
        "    print(\"Failed to retrieve data.\")\n"
      ]
    }
  ],
  "metadata": {
    "colab": {
      "provenance": []
    },
    "kernelspec": {
      "display_name": "Python 3",
      "name": "python3"
    },
    "language_info": {
      "name": "python"
    }
  },
  "nbformat": 4,
  "nbformat_minor": 0
}
