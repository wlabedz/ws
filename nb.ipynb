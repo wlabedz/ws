{
  "cells": [
    {
      "cell_type": "code",
      "execution_count": null,
      "metadata": {
        "colab": {
          "base_uri": "https://localhost:8080/"
        },
        "id": "5pYh4c8j1w43",
        "outputId": "8a0dca73-64e5-4f0d-c493-2c5b38392363"
      },
      "outputs": [],
      "source": [
        "import requests\n",
        "from bs4 import BeautifulSoup\n",
        "import pandas as pd\n",
        "import os\n",
        "\n",
        "url = \"https://www.otodom.pl/pl/wyniki/sprzedaz/mieszkanie,rynek-wtorny/mazowieckie/warszawa/warszawa/warszawa?limit=72\"\n",
        "\n",
        "headers = {\"User-Agent\": \"Mozilla/5.0\"}\n",
        "response = requests.get(url, headers=headers)\n",
        "\n",
        "# Debugowanie odpowiedzi\n",
        "print(f\"Status Code: {response.status_code}\")\n",
        "print(f\"Response Headers: {response.headers}\")\n",
        "print(f\"Response Text (first 2000 chars): {response.text[:2000]}\")\n",
        "\n",
        "# Jeśli odpowiedź jest poprawna, wykonaj webscraping\n",
        "if response.status_code == 200:\n",
        "    soup = BeautifulSoup(response.content, \"html.parser\")\n",
        "\n",
        "    # Pobieranie ofert mieszkań\n",
        "    titles = [t.text for t in soup.find_all(\"p\", class_=\"css-u3orbr e1g5xnx10\")]\n",
        "    prices = [p.text.replace(\"\\xa0\", \" \") for p in soup.find_all(\"span\", class_=\"css-2bt9f1 evk7nst0\")]\n",
        "\n",
        "    print(\"Titles:\", titles)\n",
        "    print(\"Prices:\", prices)\n",
        "\n",
        "    df = pd.DataFrame({\"Title\": titles, \"Price\": prices})\n",
        "\n",
        "    # Dopisanie do pliku CSV\n",
        "    df.to_csv(\"scraped_data.csv\", mode='a', header=not os.path.exists('scraped_data.csv'), index=False)\n",
        "else:\n",
        "    print(\"Failed to retrieve data.\")\n"
      ]
    }
  ],
  "metadata": {
    "colab": {
      "provenance": []
    },
    "kernelspec": {
      "display_name": "Python 3",
      "name": "python3"
    },
    "language_info": {
      "name": "python"
    }
  },
  "nbformat": 4,
  "nbformat_minor": 0
}
