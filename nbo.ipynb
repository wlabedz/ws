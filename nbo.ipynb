{
 "cells": [
  {
   "cell_type": "code",
   "execution_count": 1,
   "id": "21744c2f",
   "metadata": {
    "colab": {
     "base_uri": "https://localhost:8080/"
    },
    "execution": {
     "iopub.execute_input": "2025-05-27T08:53:59.129812Z",
     "iopub.status.busy": "2025-05-27T08:53:59.129278Z",
     "iopub.status.idle": "2025-05-27T08:54:01.482541Z",
     "shell.execute_reply": "2025-05-27T08:54:01.481949Z"
    },
    "id": "5pYh4c8j1w43",
    "outputId": "8a0dca73-64e5-4f0d-c493-2c5b38392363",
    "papermill": {
     "duration": 2.356995,
     "end_time": "2025-05-27T08:54:01.483659",
     "exception": false,
     "start_time": "2025-05-27T08:53:59.126664",
     "status": "completed"
    },
    "tags": []
   },
   "outputs": [
    {
     "name": "stdout",
     "output_type": "stream",
     "text": [
      "Status Code: 200\n",
      "Response Headers: {'Server': 'nginx', 'Date': 'Tue, 27 May 2025 08:54:01 GMT', 'Content-Type': 'text/html; charset=UTF-8', 'Transfer-Encoding': 'chunked', 'Vary': 'Accept-Encoding, User-Agent', 'Set-Cookie': 'FRSPSID=4ltt1r8nevcjn233btp4ned0p4; path=/; domain=.sprzedajemy.pl; secure; HttpOnly, _items_per_page__offer_list=60; expires=Thu, 26-Jun-2025 08:54:00 GMT; Max-Age=2592000; path=/; domain=.sprzedajemy.pl; secure; httponly, observed_id=75795096068357da90b9da3108239495711747566; expires=Sun, 27-May-2125 09:54:01 GMT; Max-Age=3155677200; path=/; domain=.sprzedajemy.pl; secure; httponly', 'Expires': 'Thu, 19 Nov 1981 08:52:00 GMT', 'Cache-Control': 'no-store, no-cache, must-revalidate, post-check=0, pre-check=0', 'Pragma': 'no-cache', 'Content-Encoding': 'gzip'}\n",
      "Response Text (first 2000 chars): <!DOCTYPE html><html xmlns=\"http://www.w3.org/1999/xhtml\" xml:lang=\"pl\" lang=\"pl\" class=\"no-js\" >\n",
      "<head>\n",
      "\t\t\t<!-- Google Tag Manager -->\n",
      "\t\t\t<script>(function(w,d,s,l,i){w[l]=w[l]||[];w[l].push({'gtm.start':\n",
      "\t\t\t\t\t\tnew Date().getTime(),event:'gtm.js'});var f=d.getElementsByTagName(s)[0],\n",
      "\t\t\t\t\tj=d.createElement(s),dl=l!='dataLayer'?'&l='+l:'';j.async=true;j.src=\n",
      "\t\t\t\t\t'https://www.googletagmanager.com/gtm.js?id='+i+dl\n",
      "\t\t\t\t\t\t\t\t\t    ;f.parentNode.insertBefore(j,f);\n",
      "\t\t\t\t    })(window,document,'script','dataLayer','GTM-P3S238');</script>\n",
      "\t\t\t<!-- End Google Tag Manager -->\n",
      "\t<title>Mieszkania Kraków na sprzedaż, wynajem - Sprzedajemy.pl</title><meta http-equiv=\"Content-Type\" content=\"text/html; charset=UTF-8\" >\n",
      "<meta http-equiv=\"X-UA-Compatible\" content=\"IE=edge\" >\n",
      "<meta name=\"description\" content=\"Ogłoszenia o tematyce:  w kategorii Mieszkania - Kupuj i sprzedawaj rzeczy używane i nowe w kategorii Mieszkania na Sprzedajemy.pl\" >\n",
      "<meta property=\"og:title\" content=\"Mieszkania Kraków na sprzedaż, wynajem - Sprzedajemy.pl\" >\n",
      "<meta property=\"og:type\" content=\"website\" >\n",
      "<meta property=\"og:image\" content=\"https://thumbs.img-sprzedajemy.pl/facebook/sprzedajemy.pl.png\" >\n",
      "<meta property=\"og:image:width\" content=\"200\" >\n",
      "<meta property=\"og:image:height\" content=\"200\" >\n",
      "<meta property=\"og:url\" content=\"https://sprzedajemy.pl/krakow/nieruchomosci/mieszkania\" >\n",
      "<meta property=\"og:site_name\" content=\"Sprzedajemy.pl\" >\n",
      "<meta property=\"fb:app_id\" content=\"173258269367442\" >\n",
      "<meta property=\"og:description\" content=\"Ogłoszenia o tematyce:  w kategorii Mieszkania - Kupuj i sprzedawaj rzeczy używane i nowe w kategorii Mieszkania na Sprzedajemy.pl\" >\n",
      "<meta name=\"robots\" content=\"noindex, follow\" >\t\t<script  async=\"async\" src=\"https://static.criteo.net/js/ld/publishertag.js\"></script>\n",
      "        <script  async=\"async\" src=\"https://ap.lijit.com/www/sovrn_beacon_standalone/sovrn_standalone_beacon.js?iid=13417409&amp;uid=sprzedajemy\" id=\"sBeacon\"></script>\n",
      "\t\t<script  async=\"async\" src=\"https://securepuba\n",
      "Titles: ['2 pok,oddzielna kuchnia,klima,parking, Wrocławska', 'Strych do adaptacji, Błonia, ul. Filarecka', 'Kraków, Stare Miasto sprzedaż/zamiana', 'Nowoczesny apartament z panoramicznym widokiem - od właściciela', 'Stylowy apartament z widokiem na panoramę Krakowa - od właściciela', 'Wyjątkowe mieszkanie z widokiem na klasztor w Tyńcu i panoramę Tatr', 'Kraków Bronowice Stawowa 168 / 60m2 3 POK/ 22,5 m2 taras/ BEZ POŚREDNIKÓW', 'Nowe mieszkanie na sprzedaż 2-pokoje 38,6 m2 | Krowodrza - Kraków', 'Mieszkanie 4-pokoje Kraków - wolne od 1 Lipca 2025 r.', '2 lub 3 pokoje,62m2,balkon, Widok na Wawel', 'Sprzedaż mieszkania 42.14m2 Kraków', 'Mieszkanie na sprzedaż 38.07 metrów 1 pokój Kraków Stawowa', 'Mieszkanie 62m2 3 pokoje Kraków Filarecka', 'Mieszkanie sprzedam 35.22m2 2 pokoje Kraków', 'Mieszkanie Kraków 53.66m2 2-pok', 'Mieszkanie Kraków 63.29 metrów', 'Mieszkanie 45.44m2 2 pokoje Kraków', 'Mieszkanie Kraków Bieżanów 45.16 metrów 2-pok', 'Mieszkanie Kraków 46m2 2-pokojowe', 'Mieszkanie Kraków Bieżanów 45.17m2 2-pokojowe', 'Mieszkanie Kraków Grzegórzecka 47.8m2', 'Mieszkanie 35.56m2 2 pokoje Kraków Bieżanów', 'Sprzedaż mieszkania Kraków Bieżanów 35.06m2 2 pokojowe', 'Mieszkanie Kraków Bieżanów 45.18m2 2 pokoje', 'Mieszkanie do sprzedania 37m2 2 pokoje Kraków Dąbska', 'Oferta sprzedaży mieszkania 35.05 metrów 2-pokojowe Kraków', 'Mieszkanie Kraków Bieżanów 44.71m2 2 pokoje', 'Oferta sprzedaży mieszkania Kraków Bieżanów 53.66m2 2 pokoje', 'Mieszkanie Kraków 39.62m2 2-pokojowe', 'Mieszkanie Kraków 63.37m2 3 pokojowe', 'Mieszkanie Kraków 35.31m2 2-pokojowe', 'Mieszkanie 51.67m2 2 pokoje Kraków Bieżanów', 'Mieszkanie 53.66m2 Kraków', 'Do sprzedaży mieszkanie Kraków Bieżanów 31.8 metrów 2-pok', 'Ogłoszenie mieszkanie 45.44m2 2 pok Kraków Bieżanów', 'Sprzedaż mieszkania 36.44 metry 2-pokojowe Kraków Przybyszewskiego', 'Mieszkanie 49m2 3 pok Kraków', 'Mieszkanie 45.44m2 2-pok Kraków', 'Mieszkanie Kraków 63.32 metry 3-pok', 'Mieszkanie 47.11m2 3 pokojowe Kraków', 'Sprzedam mieszkanie 63.11m2 4-pok Kraków', 'Mieszkanie Kraków Bieżanów 45.36m2 2 pokojowe', 'Mieszkanie Kraków Bieżanów 35.25m2 2 pokoje', 'Mieszkanie Kraków 35.31m2', 'Mieszkanie Kraków 56.65m2 3 pokoje', 'Oferta sprzedaży mieszkania Kraków Bieżanów 44.63m2 2-pok', 'Mieszkanie 53.57 metrów 2 pokojowe Kraków Bieżanów', 'Mieszkanie 26.65m2 1-pokojowe Kraków Krowoderska', 'Mieszkanie do sprzedania 44.71m2 2-pok Kraków Bieżanów', 'Apartament centrum Krakowa ul. Rakowicka przy Galerii Krakowskiej', 'Mieszkanie 45.33m2 2 pokoje Kraków', 'Mieszkanie 35.56m2 2 pokoje Kraków Bieżanów', 'Apartament w ścisłym centrum Krakowa ul. Rakowicka Apartamenty Novum', 'Mieszkanie 45.36m Kraków', 'Mieszkanie 64.78m2 Kraków Bieżanów', 'Mieszkanie Kraków Mirosława Dzielskiego 58m2 3-pokojowe', 'Oferta sprzedaży mieszkania Kraków 46.4m2 2-pok', 'Oferta sprzedaży mieszkania 53.66m2 2 pokoje Kraków Bieżanów', 'Mieszkanie 39.48m2 2 pokojowe Kraków', 'Mieszkanie 35.56m2 Kraków']\n",
      "60\n",
      "Prices: ['3 200 zł', '379 999 zł', '2 243 000 zł', '997 000 zł', '897 000 zł', '790 000 zł', '1 137 500 zł', '799 000 zł', '4 800 zł', '1 490 000 zł', '611 030 zł', '599 000 zł', '4 000 zł', '521 256 zł', '751 240 zł', '854 415 zł', '658 880 zł', '632 240 zł', '2 400 zł', '632 380 zł', '950 000 zł', '544 068 zł', '518 888 zł', '632 520 zł', '665 000 zł', '518 296 zł', '648 295 zł', '697 580 zł', '594 300 zł', '855 495 zł', '557 898 zł', '671 710 zł', '697 580 zł', '502 440 zł', '681 600 zł', '590 000 zł', '640 000 zł', '681 600 zł', '886 480 zł', '609 000 zł', '820 430 zł', '657 720 zł', '521 700 zł', '540 243 zł', '679 000 zł', '624 820 zł', '696 410 zł', '399 000 zł', '648 295 zł', '730 000 zł', '634 620 zł', '561 848 zł', '730 000 zł', '680 400 zł', '906 920 zł', '2 800 zł', '558 000 zł', '751 240 zł', '572 460 zł', '544 068 zł']\n",
      "60\n"
     ]
    }
   ],
   "source": [
    "import requests\n",
    "from bs4 import BeautifulSoup\n",
    "import pandas as pd\n",
    "import os\n",
    "\n",
    "url = \"https://sprzedajemy.pl/krakow/nieruchomosci/mieszkania?offset=0&items_per_page=60\"\n",
    "\n",
    "headers = {\n",
    "    \"User-Agent\": \"Mozilla/5.0 (Windows NT 10.0; Win64; x64) AppleWebKit/537.36 (KHTML, like Gecko) Chrome/58.0.3029.110 Safari/537.36\",\n",
    "    \"Accept\": \"text/html,application/xhtml+xml,application/xml;q=0.9,image/webp,image/apng,*/*;q=0.8\",\n",
    "    \"Accept-Encoding\": \"gzip, deflate, br\",\n",
    "    \"Accept-Language\": \"en-US,en;q=0.9,pl;q=0.8\",\n",
    "    \"Connection\": \"keep-alive\"\n",
    "}\n",
    "\n",
    "response = requests.get(url, headers=headers)\n",
    "response = requests.get(url, headers=headers)\n",
    "\n",
    "# Debugowanie odpowiedzi\n",
    "print(f\"Status Code: {response.status_code}\")\n",
    "print(f\"Response Headers: {response.headers}\")\n",
    "print(f\"Response Text (first 2000 chars): {response.text[:2000]}\")\n",
    "\n",
    "# Jeśli odpowiedź jest poprawna, wykonaj webscraping\n",
    "if response.status_code == 200:\n",
    "    soup = BeautifulSoup(response.content, \"html.parser\")\n",
    "\n",
    "    # Pobieranie ofert mieszkań\n",
    "    titles = [h2.a.text.strip() for h2 in soup.find_all(\"h2\", class_=\"title\") if h2.a]\n",
    "    prices = [p.text.replace(\"\\xa0\", \" \").strip() for p in soup.find_all(\"span\", class_=\"price\")]\n",
    "\n",
    "    print(\"Titles:\", titles)\n",
    "    print(len(titles))\n",
    "    print(\"Prices:\", prices)\n",
    "    print(len(prices))\n",
    "\n",
    "    df = pd.DataFrame({\"Title\": titles, \"Price\": prices})\n",
    "\n",
    "    # Dopisanie do pliku CSV\n",
    "    df.to_csv(\"scraped_data.csv\", mode='a', header=not os.path.exists('scraped_data.csv'), index=False)\n",
    "else:\n",
    "    print(\"Failed to retrieve data.\")\n"
   ]
  }
 ],
 "metadata": {
  "colab": {
   "provenance": []
  },
  "kernelspec": {
   "display_name": "Python 3",
   "name": "python3"
  },
  "language_info": {
   "codemirror_mode": {
    "name": "ipython",
    "version": 3
   },
   "file_extension": ".py",
   "mimetype": "text/x-python",
   "name": "python",
   "nbconvert_exporter": "python",
   "pygments_lexer": "ipython3",
   "version": "3.9.22"
  },
  "papermill": {
   "default_parameters": {},
   "duration": 3.460744,
   "end_time": "2025-05-27T08:54:01.701768",
   "environment_variables": {},
   "exception": null,
   "input_path": "nb.ipynb",
   "output_path": "nbo.ipynb",
   "parameters": {},
   "start_time": "2025-05-27T08:53:58.241024",
   "version": "2.6.0"
  }
 },
 "nbformat": 4,
 "nbformat_minor": 5
}