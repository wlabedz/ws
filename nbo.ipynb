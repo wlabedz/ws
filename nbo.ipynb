{
 "cells": [
  {
   "cell_type": "code",
   "execution_count": 1,
   "id": "31768f53",
   "metadata": {
    "colab": {
     "base_uri": "https://localhost:8080/"
    },
    "execution": {
     "iopub.execute_input": "2025-05-24T21:49:46.187126Z",
     "iopub.status.busy": "2025-05-24T21:49:46.186834Z",
     "iopub.status.idle": "2025-05-24T21:49:48.309643Z",
     "shell.execute_reply": "2025-05-24T21:49:48.309091Z"
    },
    "id": "5pYh4c8j1w43",
    "outputId": "8a0dca73-64e5-4f0d-c493-2c5b38392363",
    "papermill": {
     "duration": 2.126592,
     "end_time": "2025-05-24T21:49:48.310725",
     "exception": false,
     "start_time": "2025-05-24T21:49:46.184133",
     "status": "completed"
    },
    "tags": []
   },
   "outputs": [
    {
     "name": "stdout",
     "output_type": "stream",
     "text": [
      "Status Code: 200\n",
      "Response Headers: {'Server': 'nginx', 'Date': 'Sat, 24 May 2025 21:49:47 GMT', 'Content-Type': 'text/html; charset=UTF-8', 'Transfer-Encoding': 'chunked', 'Vary': 'Accept-Encoding, User-Agent', 'Set-Cookie': 'FRSPSID=2gi24fdehglgnrd76og2hkgtr2; path=/; domain=.sprzedajemy.pl; secure; HttpOnly, _items_per_page__offer_list=60; expires=Mon, 23-Jun-2025 21:49:47 GMT; Max-Age=2592000; path=/; domain=.sprzedajemy.pl; secure; httponly, observed_id=10390888468323efbd75e50107677784392552587; expires=Thu, 24-May-2125 22:49:47 GMT; Max-Age=3155677200; path=/; domain=.sprzedajemy.pl; secure; httponly', 'Expires': 'Thu, 19 Nov 1981 08:52:00 GMT', 'Cache-Control': 'no-store, no-cache, must-revalidate, post-check=0, pre-check=0', 'Pragma': 'no-cache', 'Content-Encoding': 'gzip'}\n",
      "Response Text (first 2000 chars): <!DOCTYPE html><html xmlns=\"http://www.w3.org/1999/xhtml\" xml:lang=\"pl\" lang=\"pl\" class=\"no-js\" >\n",
      "<head>\n",
      "\t\t\t<!-- Google Tag Manager -->\n",
      "\t\t\t<script>(function(w,d,s,l,i){w[l]=w[l]||[];w[l].push({'gtm.start':\n",
      "\t\t\t\t\t\tnew Date().getTime(),event:'gtm.js'});var f=d.getElementsByTagName(s)[0],\n",
      "\t\t\t\t\tj=d.createElement(s),dl=l!='dataLayer'?'&l='+l:'';j.async=true;j.src=\n",
      "\t\t\t\t\t'https://www.googletagmanager.com/gtm.js?id='+i+dl\n",
      "\t\t\t\t\t\t\t\t\t    ;f.parentNode.insertBefore(j,f);\n",
      "\t\t\t\t    })(window,document,'script','dataLayer','GTM-P3S238');</script>\n",
      "\t\t\t<!-- End Google Tag Manager -->\n",
      "\t<title>Mieszkania Kraków na sprzedaż, wynajem - Sprzedajemy.pl</title><meta http-equiv=\"Content-Type\" content=\"text/html; charset=UTF-8\" >\n",
      "<meta http-equiv=\"X-UA-Compatible\" content=\"IE=edge\" >\n",
      "<meta name=\"description\" content=\"Ogłoszenia o tematyce:  w kategorii Mieszkania - Kupuj i sprzedawaj rzeczy używane i nowe w kategorii Mieszkania na Sprzedajemy.pl\" >\n",
      "<meta property=\"og:title\" content=\"Mieszkania Kraków na sprzedaż, wynajem - Sprzedajemy.pl\" >\n",
      "<meta property=\"og:type\" content=\"website\" >\n",
      "<meta property=\"og:image\" content=\"https://thumbs.img-sprzedajemy.pl/facebook/sprzedajemy.pl.png\" >\n",
      "<meta property=\"og:image:width\" content=\"200\" >\n",
      "<meta property=\"og:image:height\" content=\"200\" >\n",
      "<meta property=\"og:url\" content=\"https://sprzedajemy.pl/krakow/nieruchomosci/mieszkania\" >\n",
      "<meta property=\"og:site_name\" content=\"Sprzedajemy.pl\" >\n",
      "<meta property=\"fb:app_id\" content=\"173258269367442\" >\n",
      "<meta property=\"og:description\" content=\"Ogłoszenia o tematyce:  w kategorii Mieszkania - Kupuj i sprzedawaj rzeczy używane i nowe w kategorii Mieszkania na Sprzedajemy.pl\" >\n",
      "<meta name=\"robots\" content=\"noindex, follow\" >\t\t<script  async=\"async\" src=\"https://static.criteo.net/js/ld/publishertag.js\"></script>\n",
      "        <script  async=\"async\" src=\"https://ap.lijit.com/www/sovrn_beacon_standalone/sovrn_standalone_beacon.js?iid=13417409&amp;uid=sprzedajemy\" id=\"sBeacon\"></script>\n",
      "\t\t<script  async=\"async\" src=\"https://securepuba\n",
      "Titles: ['Kraków Bronowice Stawowa 168 / 60m2 3 POK/ 22,5 m2 taras/ BEZ POŚREDNIKÓW', 'Kraków, Stare Miasto sprzedaż/zamiana', 'Stylowy apartament z widokiem na panoramę Krakowa - od właściciela', 'Nowoczesny apartament z panoramicznym widokiem - od właściciela', 'Wyjątkowe mieszkanie z widokiem na klasztor w Tyńcu i panoramę Tatr', 'Mieszkanie na sprzedaż/zamiana 39m2', 'Nowe mieszkanie na sprzedaż 2-pokoje 38,6 m2 | Krowodrza - Kraków', 'Mieszkanie 4-pokoje Kraków - wolne od 1 Lipca 2025 r.', '2 lub 3 pokoje,62m2,balkon, Widok na Wawel', 'Strych do adaptacji, Błonia, ul. Filarecka', 'Oferta sprzedaży mieszkania Kraków os. Kalinowe 37m', 'Mieszkanie 74.57m2 3-pokojowe Kraków', 'Mieszkanie 74.57m2 4 pokoje Kraków Henryka Pachońskiego', '4 pokoje, Błonia, Wisła, Salwator, ul. Filarecka', 'Mieszkanie Kraków os. Jagiellońskie 44m2 2 pokoje', '4p mieszkanie z ogródkiem w pięknej szeregówce', '☆OKAZJA☆Po remoncie 3 pokoje☆', 'Mieszkanie Kraków 74.57m 3 pokoje', 'Mieszkanie 74.57m2 3-pok Kraków Henryka Pachońskiego', 'Sprzedaż mieszkania 74.57m2 3 pokoje Kraków Henryka Pachońskiego', 'Mieszkanie 74.57m2 4-pokojowe Kraków Henryka Pachońskiego', 'Oferta sprzedaży mieszkania 74.57m2 4 pokoje Kraków Henryka Pachońskiego', 'Mieszkanie Kraków Henryka Pachońskiego 74.57 metrów 3 pokoje', 'Mieszkanie 46.2m2 2 pokojowe Kraków', 'Mieszkanie 74.57m2 4 pokojowe Kraków Henryka Pachońskiego', 'Mieszkanie na sprzedaż Kraków Aleja Pokoju 24m2 1-pok', 'Oferta sprzedaży mieszkania Kraków 74.57m2 4 pokoje', 'Ogłoszenie mieszkanie 74.57 metrów 4-pokojowe Kraków', 'Mieszkanie 74.57m2 4 pokoje Kraków Henryka Pachońskiego', 'Mieszkanie Kraków Henryka Pachońskiego 74.57 metrów 4 pokoje', 'Słoneczne mieszkanko z dużym balkonem', 'Mieszkanie 44.52 metry Kraków', 'Mieszkanie 74.57m2 2 pok Kraków', 'MORCINKA, Zesławice, 2 Mieszkania, 36m2 i 21m2', 'Mieszkanie 67.09m2 4 pokojowe Kraków zabłocie', 'Apartament 45 m2, Kraków Ruczaj HSBC SHELL MOTOROLA', 'Sprzedam piękne mieszkanie Kraków borek Fałecki', 'Oferta sprzedaży mieszkania Kraków 74.57m2 2-pok', 'Mieszkanie 74.57m2 3 pokoje Kraków Henryka Pachońskiego', 'Oferta sprzedaży mieszkania 41.7m2 Kraków', 'Mieszkanie sprzedam Kraków 74.57m2 2 pokojowe', 'Mieszkanie do sprzedania 36m2 2 pokoje Kraków Praska', 'Mieszkanie Kraków 67.09m2', 'Mieszkanie Kraków 39.19m2 2-pokojowe', 'Mieszkanie 61.1m2 3 pokoje Kraków Włodkowica', 'Mieszkanie Kraków Stańczyka 52m2 2-pokojowe', 'Oferta sprzedaży mieszkania Kraków zabłocie 67.09m2 4 pokojowe', 'Mieszkanie 34m2 2-pok Kraków', 'Mieszkanie 74.57m2 1 pokój Kraków', 'Mieszkanie sprzedam Kraków Henryka Pachońskiego 74.57m2', 'Mieszkanie Kraków os. Kalinowe 25m2 1 pokój', 'Mieszkanie na sprzedaż 74.57m2 2 pokoje Kraków Henryka Pachońskiego', 'Mieszkanie Kraków Henryka Pachońskiego 74.57m2 2 pokojowe', 'Mieszkanie 74.57m2 3-pok Kraków Henryka Pachońskiego', 'Mieszkanie Kraków Stojałowskiego 113m2 5-pokojowe', 'Mieszkanie do wynajęcia Kraków STACHIEWICZA 40m 2-pokojowe', 'Mieszkanie Kraków 74.57m2 2-pokojowe', 'Mieszkanie Kraków 67.09m2 4 pokojowe', 'Mieszkanie Kraków Henryka Pachońskiego 74.57m2 3 pokoje', 'Sprzedam mieszkanie 61.3m2 2-pokojowe Kraków 29 listopada - okolice']\n",
      "60\n",
      "Prices: ['1 137 500 zł', '2 243 000 zł', '897 000 zł', '997 000 zł', '790 000 zł', '548 000 zł', '799 000 zł', '4 800 zł', '1 490 000 zł', '379 999 zł', '485 000 zł', '767 659 zł', '816 102 zł', '1 335 000 zł', '619 000 zł', '999 000 zł', '730 000 zł', '772 156 zł', '772 156 zł', '767 659 zł', '855 724 zł', '855 848 zł', '767 659 zł', '743 680 zł', '805 014 zł', '490 000 zł', '855 848 zł', '816 102 zł', '816 102 zł', '815 976 zł', '699 000 zł', '699 000 zł', '615 976 zł', '649 000 zł', '1 281 042 zł', '3 000 zł', '619 000 zł', '615 976 zł', '739 102 zł', '597 000 zł', '702 270 zł', '660 000 zł', '1 237 263 zł', '658 722 zł', '850 000 zł', '965 000 zł', '1 255 040 zł', '515 000 zł', '537 740 zł', '525 716 zł', '1 500 zł', '625 892 zł', '606 948 zł', '739 102 zł', '1 250 000 zł', '2 600 zł', '615 976 zł', '1 293 452 zł', '739 102 zł', '778 689 zł']\n",
      "60\n"
     ]
    }
   ],
   "source": [
    "import requests\n",
    "from bs4 import BeautifulSoup\n",
    "import pandas as pd\n",
    "import os\n",
    "\n",
    "url = \"https://sprzedajemy.pl/krakow/nieruchomosci/mieszkania?offset=0&items_per_page=60\"\n",
    "\n",
    "headers = {\n",
    "    \"User-Agent\": \"Mozilla/5.0 (Windows NT 10.0; Win64; x64) AppleWebKit/537.36 (KHTML, like Gecko) Chrome/58.0.3029.110 Safari/537.36\",\n",
    "    \"Accept\": \"text/html,application/xhtml+xml,application/xml;q=0.9,image/webp,image/apng,*/*;q=0.8\",\n",
    "    \"Accept-Encoding\": \"gzip, deflate, br\",\n",
    "    \"Accept-Language\": \"en-US,en;q=0.9,pl;q=0.8\",\n",
    "    \"Connection\": \"keep-alive\"\n",
    "}\n",
    "\n",
    "response = requests.get(url, headers=headers)\n",
    "response = requests.get(url, headers=headers)\n",
    "\n",
    "# Debugowanie odpowiedzi\n",
    "print(f\"Status Code: {response.status_code}\")\n",
    "print(f\"Response Headers: {response.headers}\")\n",
    "print(f\"Response Text (first 2000 chars): {response.text[:2000]}\")\n",
    "\n",
    "# Jeśli odpowiedź jest poprawna, wykonaj webscraping\n",
    "if response.status_code == 200:\n",
    "    soup = BeautifulSoup(response.content, \"html.parser\")\n",
    "\n",
    "    # Pobieranie ofert mieszkań\n",
    "    titles = [h2.a.text.strip() for h2 in soup.find_all(\"h2\", class_=\"title\") if h2.a]\n",
    "    prices = [p.text.replace(\"\\xa0\", \" \").strip() for p in soup.find_all(\"span\", class_=\"price\")]\n",
    "\n",
    "    print(\"Titles:\", titles)\n",
    "    print(len(titles))\n",
    "    print(\"Prices:\", prices)\n",
    "    print(len(prices))\n",
    "\n",
    "    df = pd.DataFrame({\"Title\": titles, \"Price\": prices})\n",
    "\n",
    "    # Dopisanie do pliku CSV\n",
    "    df.to_csv(\"scraped_data.csv\", mode='a', header=not os.path.exists('scraped_data.csv'), index=False)\n",
    "else:\n",
    "    print(\"Failed to retrieve data.\")\n"
   ]
  }
 ],
 "metadata": {
  "colab": {
   "provenance": []
  },
  "kernelspec": {
   "display_name": "Python 3",
   "name": "python3"
  },
  "language_info": {
   "codemirror_mode": {
    "name": "ipython",
    "version": 3
   },
   "file_extension": ".py",
   "mimetype": "text/x-python",
   "name": "python",
   "nbconvert_exporter": "python",
   "pygments_lexer": "ipython3",
   "version": "3.9.22"
  },
  "papermill": {
   "default_parameters": {},
   "duration": 3.277604,
   "end_time": "2025-05-24T21:49:48.527226",
   "environment_variables": {},
   "exception": null,
   "input_path": "nb.ipynb",
   "output_path": "nbo.ipynb",
   "parameters": {},
   "start_time": "2025-05-24T21:49:45.249622",
   "version": "2.6.0"
  }
 },
 "nbformat": 4,
 "nbformat_minor": 5
}