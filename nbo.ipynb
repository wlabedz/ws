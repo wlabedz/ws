{
 "cells": [
  {
   "cell_type": "code",
   "execution_count": 1,
   "id": "2d0daf4e",
   "metadata": {
    "colab": {
     "base_uri": "https://localhost:8080/"
    },
    "execution": {
     "iopub.execute_input": "2025-10-03T14:50:22.140880Z",
     "iopub.status.busy": "2025-10-03T14:50:22.140576Z",
     "iopub.status.idle": "2025-10-03T14:50:24.363501Z",
     "shell.execute_reply": "2025-10-03T14:50:24.362774Z"
    },
    "id": "5pYh4c8j1w43",
    "outputId": "8a0dca73-64e5-4f0d-c493-2c5b38392363",
    "papermill": {
     "duration": 2.226577,
     "end_time": "2025-10-03T14:50:24.364626",
     "exception": false,
     "start_time": "2025-10-03T14:50:22.138049",
     "status": "completed"
    },
    "tags": []
   },
   "outputs": [
    {
     "name": "stdout",
     "output_type": "stream",
     "text": [
      "Status Code: 200\n",
      "Response Headers: {'Server': 'nginx', 'Date': 'Fri, 03 Oct 2025 14:50:24 GMT', 'Content-Type': 'text/html; charset=UTF-8', 'Transfer-Encoding': 'chunked', 'Vary': 'Accept-Encoding, User-Agent', 'Set-Cookie': 'FRSPSID=ikmvp4bhkvsc8vk97lcmg2p5e3; path=/; domain=.sprzedajemy.pl; secure; HttpOnly, _items_per_page__offer_list=60; expires=Sun, 02-Nov-2025 14:50:23 GMT; Max-Age=2592000; path=/; domain=.sprzedajemy.pl; secure; httponly, observed_id=102617951168dfe2afe62c513535899706705137; expires=Wed, 03-Oct-2125 15:50:23 GMT; Max-Age=3155677200; path=/; domain=.sprzedajemy.pl; secure; httponly', 'Expires': 'Thu, 19 Nov 1981 08:52:00 GMT', 'Cache-Control': 'no-store, no-cache, must-revalidate, post-check=0, pre-check=0', 'Pragma': 'no-cache', 'Content-Encoding': 'gzip'}\n",
      "Response Text (first 2000 chars): <!DOCTYPE html><html xmlns=\"http://www.w3.org/1999/xhtml\" xml:lang=\"pl\" lang=\"pl\" class=\"no-js\" >\n",
      "<head>\n",
      "\t\t\t<!-- Google Tag Manager -->\n",
      "\t\t\t<script>(function(w,d,s,l,i){w[l]=w[l]||[];w[l].push({'gtm.start':\n",
      "\t\t\t\t\t\tnew Date().getTime(),event:'gtm.js'});var f=d.getElementsByTagName(s)[0],\n",
      "\t\t\t\t\tj=d.createElement(s),dl=l!='dataLayer'?'&l='+l:'';j.async=true;j.src=\n",
      "\t\t\t\t\t'https://www.googletagmanager.com/gtm.js?id='+i+dl\n",
      "\t\t\t\t\t\t\t\t\t    ;f.parentNode.insertBefore(j,f);\n",
      "\t\t\t\t    })(window,document,'script','dataLayer','GTM-P3S238');</script>\n",
      "\t\t\t<!-- End Google Tag Manager -->\n",
      "\t<title>Mieszkania Kraków na sprzedaż, wynajem - Sprzedajemy.pl</title><meta http-equiv=\"Content-Type\" content=\"text/html; charset=UTF-8\" >\n",
      "<meta http-equiv=\"X-UA-Compatible\" content=\"IE=edge\" >\n",
      "<meta name=\"description\" content=\"Ogłoszenia o tematyce:  w kategorii Mieszkania - Kupuj i sprzedawaj rzeczy używane i nowe w kategorii Mieszkania na Sprzedajemy.pl\" >\n",
      "<meta property=\"og:title\" content=\"Mieszkania Kraków na sprzedaż, wynajem - Sprzedajemy.pl\" >\n",
      "<meta property=\"og:type\" content=\"website\" >\n",
      "<meta property=\"og:image\" content=\"https://thumbs.img-sprzedajemy.pl/facebook/sprzedajemy.pl.png\" >\n",
      "<meta property=\"og:image:width\" content=\"200\" >\n",
      "<meta property=\"og:image:height\" content=\"200\" >\n",
      "<meta property=\"og:url\" content=\"https://sprzedajemy.pl/krakow/nieruchomosci/mieszkania\" >\n",
      "<meta property=\"og:site_name\" content=\"Sprzedajemy.pl\" >\n",
      "<meta property=\"fb:app_id\" content=\"173258269367442\" >\n",
      "<meta property=\"og:description\" content=\"Ogłoszenia o tematyce:  w kategorii Mieszkania - Kupuj i sprzedawaj rzeczy używane i nowe w kategorii Mieszkania na Sprzedajemy.pl\" >\n",
      "<meta name=\"robots\" content=\"noindex, follow\" >\t\t<script  async=\"async\" src=\"https://static.criteo.net/js/ld/publishertag.js\"></script>\n",
      "        <script  async=\"async\" src=\"https://ap.lijit.com/www/sovrn_beacon_standalone/sovrn_standalone_beacon.js?iid=13417409&amp;uid=sprzedajemy\" id=\"sBeacon\"></script>\n",
      "\t\t<script  async=\"async\" src=\"https://securepuba\n",
      "Titles: ['Sprzedam dwupokojowe mieszkanie os. Dywizjonu 303, 19C Kraków', 'Mieszkanie Wzgórza Krzesławickie bez prowizji.', 'Kraków – Bieńczyce, os. Kazimierzowskie', 'Mieszkanie z widokiem na góry', 'Podedworze 13', 'Mieszkanie 3-pokojowe Zakrzówek Ruczaj wynajem na 9 miesięcy', 'Wyjątkowy lokal przy ul. Krowoderskiej z widokiem na stronę ogrodową', 'Dwa pokoje - stare miasto - Do wejścia - Własność', 'Kraków, Stare Miasto sprzedaż/zamiana', 'Mieszkanie 38.53m2 2 pokojowe Kraków', 'Mieszkanie 72.4m2 3 pokoje Kraków Babińskiego', 'Mieszkanie 43.35m2 2 pokoje Kraków Wadowicka', 'Wprowadź się od zaraz! Wyposażone mieszkanie 39m² na Grzegórzkach', 'Mieszkanie Kraków Pękowicka 38.59m2 2-pok', 'Mieszkanie Kraków 49.62m2 3 pokoje', 'Ogłoszenie mieszkanie 35.05m2 2 pokoje Kraków Kantrowicka', 'Do sprzedaży mieszkanie Kraków Olszanicka 151.83m2 7-pokojowe', 'Mieszkanie Kraków 62.06m2 3 pok', 'Mieszkanie na sprzedaż Kraków 74.74 metry 3 pokojowe', 'Mieszkanie Kraków Wadowicka 62.46m2 5 pokoi', 'Mieszkanie 34m 1 pokój Kraków al. Mickiewicza', 'Mieszkanie Kraków 26.19m2 1 pokój', 'Oferta sprzedaży mieszkania Kraków Olszanicka 151.37m2', 'Oferta sprzedaży mieszkania Kraków 47.88m2 3-pokojowe', 'Mieszkanie 49.3m2 2 pokoje Kraków Bratysławska', 'Mieszkanie 61.82m2 3-pok Kraków Wadowicka', 'Mieszkanie Kraków 37.52m2 2 pok', 'Mieszkanie Kraków 40.73m2 2 pokoje', 'Mieszkanie Kraków 59.31m2 4 pokoje', 'Mieszkanie Kraków 39.34m2 2-pokojowe', 'Oferta sprzedaży mieszkania Kraków 83.94m2 3 pokojowe', 'Oferta sprzedaży mieszkania 56.47m2 3 pokoje Kraków Na Błonie', 'Do sprzedaży mieszkanie 46.66m2 2 pokoje Kraków Babińskiego', 'Mieszkanie Kraków 45.2 metry 3 pokoje', 'Oferta sprzedaży mieszkania Kraków 37.68m2', 'Mieszkanie Kraków Wadowicka 74.74m2 3-pokojowe', 'Mieszkanie 66.11m2 2 pokojowe Kraków', 'Oferta sprzedaży mieszkania 72.4m 3 pokojowe Kraków Babińskiego', 'Mieszkanie Kraków 45.84m2 2 pokojowe', 'Oferta sprzedaży mieszkania 44.15 metrów 2 pokoje Kraków', 'Sprzedam mieszkanie 40.96m2 2 pokoje Kraków', 'Mieszkanie 81.34m2 5 pokoi Kraków Wadowicka', 'Mieszkanie 51.54m2 3 pok Kraków', 'Sprzedam mieszkanie Kraków Kantrowicka 34.79m2 2-pok', 'Mieszkanie Kraków 90.48m2 4 pokoje', 'Oferta sprzedaży mieszkania Kraków Wadowicka 64.4m2 3 pokoje', 'Mieszkanie Kraków 29 listopada - okolice 35.25m2 2-pokojowe', 'Mieszkanie Kraków Pękowicka 39.05m2', 'Mieszkanie 151.37m2 Kraków Olszanicka', 'Mieszkanie 90.38m 4 pokoje Kraków', 'Mieszkanie Kraków Kantrowicka 51.54m2 3 pokoje', 'Mieszkanie 60.04m2 4 pokoje Kraków', 'Mieszkanie 31.74m2 1 pokój Kraków Babińskiego', 'Mieszkanie Kraków 29 listopada - okolice 35.25m2 2 pok', 'Mieszkanie Kraków Piasta Kołodzieja 70.96m2 4-pok', 'Mieszkanie na sprzedaż Kraków Wadowicka 70.67m2 4 pokoje', 'Do sprzedaży mieszkanie 51m2 Kraków Królowej Jadwigi', 'Przestronne 3-pokojowe mieszkanie 59m2 z balkonem i piwnicą Bieńczyce', 'Mieszkanie 63.9m2 3 pokoje Kraków Na Błonie', 'Mieszkanie Kraków 38.11m2 2-pok']\n",
      "60\n",
      "Prices: ['620 000 zł', '719 000 zł', '579 000 zł', '265 000 zł', '542 000 zł', '3 100 zł', '1 340 000 zł', '715 155 zł', '2 015 000 zł', '653 083 zł', '1 295 960 zł', '814 980 zł', '749 000 zł', '656 030 zł', '719 490 zł', '462 707 zł', '2 383 737 zł', '1 061 226 zł', '1 195 840 zł', '1 093 050 zł', '748 000 zł', '453 087 zł', '2 138 088 zł', '797 202 zł', '886 000 zł', '1 081 850 zł', '739 798 zł', '692 410 zł', '859 995 zł', '670 747 zł', '1 502 526 zł', '1 034 699 zł', '825 882 zł', '743 540 zł', '696 905 zł', '1 240 684 zł', '1 051 149 zł', '1 158 400 zł', '848 040 zł', '749 000 zł', '696 320 zł', '1 203 832 zł', '734 445 zł', '521 850 zł', '1 411 488 zł', '1 114 120 zł', '823 383 zł', '663 850 zł', '1 952 673 zł', '1 464 156 zł', '670 020 zł', '981 654 zł', '599 886 zł', '645 692 zł', '879 904 zł', '1 187 256 zł', '785 000 zł', '720 000 zł', '1 142 979 zł', '745 797 zł']\n",
      "60\n"
     ]
    }
   ],
   "source": [
    "import requests\n",
    "from bs4 import BeautifulSoup\n",
    "import pandas as pd\n",
    "import os\n",
    "\n",
    "url = \"https://sprzedajemy.pl/krakow/nieruchomosci/mieszkania?offset=0&items_per_page=60\"\n",
    "\n",
    "headers = {\n",
    "    \"User-Agent\": \"Mozilla/5.0 (Windows NT 10.0; Win64; x64) AppleWebKit/537.36 (KHTML, like Gecko) Chrome/58.0.3029.110 Safari/537.36\",\n",
    "    \"Accept\": \"text/html,application/xhtml+xml,application/xml;q=0.9,image/webp,image/apng,*/*;q=0.8\",\n",
    "    \"Accept-Encoding\": \"gzip, deflate, br\",\n",
    "    \"Accept-Language\": \"en-US,en;q=0.9,pl;q=0.8\",\n",
    "    \"Connection\": \"keep-alive\"\n",
    "}\n",
    "\n",
    "response = requests.get(url, headers=headers)\n",
    "response = requests.get(url, headers=headers)\n",
    "\n",
    "# Debugowanie odpowiedzi\n",
    "print(f\"Status Code: {response.status_code}\")\n",
    "print(f\"Response Headers: {response.headers}\")\n",
    "print(f\"Response Text (first 2000 chars): {response.text[:2000]}\")\n",
    "\n",
    "# Jeśli odpowiedź jest poprawna, wykonaj webscraping\n",
    "if response.status_code == 200:\n",
    "    soup = BeautifulSoup(response.content, \"html.parser\")\n",
    "\n",
    "    # Pobieranie ofert mieszkań\n",
    "    titles = [h2.a.text.strip() for h2 in soup.find_all(\"h2\", class_=\"title\") if h2.a]\n",
    "    prices = [p.text.replace(\"\\xa0\", \" \").strip() for p in soup.find_all(\"span\", class_=\"price\")]\n",
    "\n",
    "    print(\"Titles:\", titles)\n",
    "    print(len(titles))\n",
    "    print(\"Prices:\", prices)\n",
    "    print(len(prices))\n",
    "\n",
    "    df = pd.DataFrame({\"Title\": titles, \"Price\": prices})\n",
    "\n",
    "    # Dopisanie do pliku CSV\n",
    "    df.to_csv(\"scraped_data.csv\", mode='a', header=not os.path.exists('scraped_data.csv'), index=False)\n",
    "else:\n",
    "    print(\"Failed to retrieve data.\")\n"
   ]
  }
 ],
 "metadata": {
  "colab": {
   "provenance": []
  },
  "kernelspec": {
   "display_name": "Python 3",
   "name": "python3"
  },
  "language_info": {
   "codemirror_mode": {
    "name": "ipython",
    "version": 3
   },
   "file_extension": ".py",
   "mimetype": "text/x-python",
   "name": "python",
   "nbconvert_exporter": "python",
   "pygments_lexer": "ipython3",
   "version": "3.9.23"
  },
  "papermill": {
   "default_parameters": {},
   "duration": 3.354288,
   "end_time": "2025-10-03T14:50:24.582366",
   "environment_variables": {},
   "exception": null,
   "input_path": "nb.ipynb",
   "output_path": "nbo.ipynb",
   "parameters": {},
   "start_time": "2025-10-03T14:50:21.228078",
   "version": "2.6.0"
  }
 },
 "nbformat": 4,
 "nbformat_minor": 5
}