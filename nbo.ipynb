{
 "cells": [
  {
   "cell_type": "code",
   "execution_count": 1,
   "id": "c8e3690a",
   "metadata": {
    "colab": {
     "base_uri": "https://localhost:8080/"
    },
    "execution": {
     "iopub.execute_input": "2025-10-20T14:47:01.465692Z",
     "iopub.status.busy": "2025-10-20T14:47:01.465364Z",
     "iopub.status.idle": "2025-10-20T14:47:04.207706Z",
     "shell.execute_reply": "2025-10-20T14:47:04.206989Z"
    },
    "id": "5pYh4c8j1w43",
    "outputId": "8a0dca73-64e5-4f0d-c493-2c5b38392363",
    "papermill": {
     "duration": 2.745985,
     "end_time": "2025-10-20T14:47:04.208853",
     "exception": false,
     "start_time": "2025-10-20T14:47:01.462868",
     "status": "completed"
    },
    "tags": []
   },
   "outputs": [
    {
     "name": "stdout",
     "output_type": "stream",
     "text": [
      "Status Code: 200\n",
      "Response Headers: {'Server': 'nginx', 'Date': 'Mon, 20 Oct 2025 14:47:03 GMT', 'Content-Type': 'text/html; charset=UTF-8', 'Transfer-Encoding': 'chunked', 'Vary': 'Accept-Encoding, User-Agent', 'Set-Cookie': 'FRSPSID=9cr2pueb78ov2orr5kot47s9s7; path=/; domain=.sprzedajemy.pl; secure; HttpOnly, _items_per_page__offer_list=60; expires=Wed, 19-Nov-2025 14:47:03 GMT; Max-Age=2592000; path=/; domain=.sprzedajemy.pl; secure; httponly, observed_id=47281365968f64b67a5c686153712557318973802; expires=Sat, 20-Oct-2125 15:47:03 GMT; Max-Age=3155677200; path=/; domain=.sprzedajemy.pl; secure; httponly', 'Expires': 'Thu, 19 Nov 1981 08:52:00 GMT', 'Cache-Control': 'no-store, no-cache, must-revalidate, post-check=0, pre-check=0', 'Pragma': 'no-cache', 'Content-Encoding': 'gzip'}\n",
      "Response Text (first 2000 chars): <!DOCTYPE html><html xmlns=\"http://www.w3.org/1999/xhtml\" xml:lang=\"pl\" lang=\"pl\" class=\"no-js\" >\n",
      "<head>\n",
      "\t\t\t<!-- Google Tag Manager -->\n",
      "\t\t\t<script>(function(w,d,s,l,i){w[l]=w[l]||[];w[l].push({'gtm.start':\n",
      "\t\t\t\t\t\tnew Date().getTime(),event:'gtm.js'});var f=d.getElementsByTagName(s)[0],\n",
      "\t\t\t\t\tj=d.createElement(s),dl=l!='dataLayer'?'&l='+l:'';j.async=true;j.src=\n",
      "\t\t\t\t\t'https://www.googletagmanager.com/gtm.js?id='+i+dl\n",
      "\t\t\t\t\t\t\t\t\t    ;f.parentNode.insertBefore(j,f);\n",
      "\t\t\t\t    })(window,document,'script','dataLayer','GTM-P3S238');</script>\n",
      "\t\t\t<!-- End Google Tag Manager -->\n",
      "\t<title>Mieszkania Kraków na sprzedaż, wynajem - Sprzedajemy.pl</title><meta http-equiv=\"Content-Type\" content=\"text/html; charset=UTF-8\" >\n",
      "<meta http-equiv=\"X-UA-Compatible\" content=\"IE=edge\" >\n",
      "<meta name=\"description\" content=\"Ogłoszenia o tematyce:  w kategorii Mieszkania - Kupuj i sprzedawaj rzeczy używane i nowe w kategorii Mieszkania na Sprzedajemy.pl\" >\n",
      "<meta property=\"og:title\" content=\"Mieszkania Kraków na sprzedaż, wynajem - Sprzedajemy.pl\" >\n",
      "<meta property=\"og:type\" content=\"website\" >\n",
      "<meta property=\"og:image\" content=\"https://thumbs.img-sprzedajemy.pl/facebook/sprzedajemy.pl.png\" >\n",
      "<meta property=\"og:image:width\" content=\"200\" >\n",
      "<meta property=\"og:image:height\" content=\"200\" >\n",
      "<meta property=\"og:url\" content=\"https://sprzedajemy.pl/krakow/nieruchomosci/mieszkania\" >\n",
      "<meta property=\"og:site_name\" content=\"Sprzedajemy.pl\" >\n",
      "<meta property=\"fb:app_id\" content=\"173258269367442\" >\n",
      "<meta property=\"og:description\" content=\"Ogłoszenia o tematyce:  w kategorii Mieszkania - Kupuj i sprzedawaj rzeczy używane i nowe w kategorii Mieszkania na Sprzedajemy.pl\" >\n",
      "<meta name=\"robots\" content=\"noindex, follow\" >\t\t<script  async=\"async\" src=\"https://static.criteo.net/js/ld/publishertag.js\"></script>\n",
      "        <script  async=\"async\" src=\"https://ap.lijit.com/www/sovrn_beacon_standalone/sovrn_standalone_beacon.js?iid=13417409&amp;uid=sprzedajemy\" id=\"sBeacon\"></script>\n",
      "\t\t<script  async=\"async\" src=\"https://securepuba\n"
     ]
    },
    {
     "name": "stdout",
     "output_type": "stream",
     "text": [
      "Titles: ['Sprzedam dwupokojowe mieszkanie (balkon, piwnica) os. Dywizjonu 303, 19C K…', 'Mieszkanie 3-pokojowe Zakrzówek Ruczaj ul. Pychowicka wynajem od właścicie…', 'Kraków, Stare Miasto sprzedaż/zamiana', 'Mieszkanie z widokiem na góry', 'Grzegorzki mieszkanie na sprzedaż 30 m', 'Mieszkanie Wzgórza Krzesławickie bez prowizji.', 'Bezpośrednio Mieszkanie zadbane 3 pok 63m2 ogródek klima parking', 'Mieszkanie 2 pokoje ul. Gustawa Morcinka Kraków', 'Mieszkanie 68.1m2 3 pokoje Kraków Barska', 'Mieszkanie Kraków 40m2', 'Wynajmę mieszkanie Kraków Walerego Sławka 71.04 metry 3 pokoje', 'Mieszkanie 80m2 4-pokojowe Kraków', 'Mieszkanie Kraków 51m2 2 pokoje', 'Kawalerka 27m na Dąbiu | Pętla tramwajowa', 'Zamienię mieszkanie komunalne', 'Mieszkanie Kraków 54m2 2 pokojowe', '2 pokojowe mieszkanie z balkonem, ul. Bartla 19E, 43m2', 'Nowe umeblowane 2 pokoje z dużym balkonem - Park Bagry - Bez prowizji', 'Mieszkanie 4-pok. 73m2 z ogródkiem 130m2, Ruczaj, Federowicza Bunscha', 'Ogłoszenie mieszkanie 36.34m 2 pokoje Kraków Romanowicza', 'Oferta sprzedaży mieszkania Kraków Przewóz 43m2 2 pokoje', 'Ogłoszenie mieszkanie 36.34m2 3 pokojowe Kraków', 'Mieszkanie Kraków 36.34m2 2-pokojowe', 'Mieszkanie Kraków 65.5m2 3-pokojowe', 'Mieszkanie 25.1m2 1 pokój Kraków Romanowicza', 'BEZPOŚREDNIO Mieszkanie ul. Kielecka /Rondo Mogilskie', 'Mieszkanie 2-pokojowe Z Jasną Kuchnią Kraków-Krowodrza, Umeblowane', 'Jasne mieszkanie w kamienicy Salwator', 'Cudowne z ogródkiem - mieszkanie 3-pokojowe na Grzegórzkach w Krakowie', 'Piękny 4 pokojowy apartament na BRONOWICACH', '3 pokojowe mieszkanie w NOWYM bloku', '4 pokoje,balkon,klimatyzacja ul.Rostworowskiego 16', 'Piękne 2 pokojowe mieszkanie w Centrum', 'Nowe 2 pokoje z ogródkiem | Zakątek Dąbie | miejsce parkingowe w prezencie', '2 lub 3 pokoje,62m2,balkon,widok na Wawel', 'Oferta sprzedaży mieszkania 86.54m2 3 pokojowe Kraków Wenecja', 'Pokój dla studentów', 'Mieszkanie 51.04m2 2 pokoje Kraków Kazimierza Wielkiego', 'Apartament nad morzem od właściciela / Słoneczny Brzeg!', 'Wynajmę mieszkanie Kraków 8.8m2 1 pokojowe', 'Mieszkanie z garażem i komórką lokatorską', 'ul.Felińskiego, piękne 3 pokoje, garaż', 'Mieszkanie z widokiem!', 'Wynajmę mieszkanie', 'DWUPOKOJOWE ul.Rakowicka', 'Mieszkanie Kraków 52m2 2 pokoje', 'Do wynajęcia Kawalerka (20m) na ul.Mazowieckiej', 'Mieszkanie sprzedam 87.98m2 5 pokojowe Kraków', 'Do wynajęcia mieszkanie Kraków Walerego Sławka 32m2 1 pokój', 'WYNAJMĘ od zaraz mieszkanie 3 pokojowe-Krowodrza - Prądnik Biały-49 m2', 'Mieszkanie 47.8m2 3 pokoje Kraków Nawojki', 'Mieszkanie do sprzedania 36.05m2 2 pokoje Kraków Imbramowska', 'Oferta wynajmu mieszkania Kraków Urzędnicza 94m2 3 pok', 'Oferta sprzedaży mieszkania 38.69 metrów Kraków', 'Oferta sprzedaży mieszkania 23.06m2 1 pokój Kraków Dietla', 'Mieszkanie Kraków Cieszyńska 36m2 2-pokojowe', 'Mieszkanie Kraków 27.25m2', 'Mieszkanie 35m2 2 pokoje Kraków', 'Mieszkanie Kraków Imbramowska 38.69m2 3 pokoje', 'Mieszkanie Kraków Jasnogórska 62.19m2 3-pokojowe']\n",
      "60\n",
      "Prices: ['600 000 zł', '3 000 zł', '2 015 000 zł', '265 000 zł', '549 000 zł', '670 000 zł', '4 000 zł', '2 200 zł', '1 450 000 zł', '630 000 zł', '3 600 zł', '989 000 zł', '859 000 zł', '581 000 zł', '11 111 zł', '700 000 zł', '620 000 zł', '784 000 zł', '1 033 000 zł', '2 990 zł', '570 000 zł', '2 990 zł', '2 990 zł', '5 400 zł', '2 290 zł', '1 995 zł', '2 100 zł', '3 100 zł', '4 600 zł', '2 199 000 zł', '1 099 000 zł', '3 000 zł', '759 900 zł', '899 900 zł', '1 490 000 zł', '1 799 000 zł', '850 zł', '969 000 zł', '277 700 zł', '1 500 zł', '2 100 zł', '770 000 zł', '670 000 zł', '2 500 zł', '2 400 zł', '489 000 zł', '1 930 zł', '1 499 000 zł', '2 000 zł', '3 300 zł', '1 250 000 zł', '499 000 zł', '5 500 zł', '1 068 760 zł', '480 000 zł', '919 000 zł', '435 764 zł', '875 000 zł', '886 950 zł', '858 222 zł']\n",
      "60\n"
     ]
    }
   ],
   "source": [
    "import requests\n",
    "from bs4 import BeautifulSoup\n",
    "import pandas as pd\n",
    "import os\n",
    "\n",
    "url = \"https://sprzedajemy.pl/krakow/nieruchomosci/mieszkania?offset=0&items_per_page=60\"\n",
    "\n",
    "headers = {\n",
    "    \"User-Agent\": \"Mozilla/5.0 (Windows NT 10.0; Win64; x64) AppleWebKit/537.36 (KHTML, like Gecko) Chrome/58.0.3029.110 Safari/537.36\",\n",
    "    \"Accept\": \"text/html,application/xhtml+xml,application/xml;q=0.9,image/webp,image/apng,*/*;q=0.8\",\n",
    "    \"Accept-Encoding\": \"gzip, deflate, br\",\n",
    "    \"Accept-Language\": \"en-US,en;q=0.9,pl;q=0.8\",\n",
    "    \"Connection\": \"keep-alive\"\n",
    "}\n",
    "\n",
    "response = requests.get(url, headers=headers)\n",
    "response = requests.get(url, headers=headers)\n",
    "\n",
    "# Debugowanie odpowiedzi\n",
    "print(f\"Status Code: {response.status_code}\")\n",
    "print(f\"Response Headers: {response.headers}\")\n",
    "print(f\"Response Text (first 2000 chars): {response.text[:2000]}\")\n",
    "\n",
    "# Jeśli odpowiedź jest poprawna, wykonaj webscraping\n",
    "if response.status_code == 200:\n",
    "    soup = BeautifulSoup(response.content, \"html.parser\")\n",
    "\n",
    "    # Pobieranie ofert mieszkań\n",
    "    titles = [h2.a.text.strip() for h2 in soup.find_all(\"h2\", class_=\"title\") if h2.a]\n",
    "    prices = [p.text.replace(\"\\xa0\", \" \").strip() for p in soup.find_all(\"span\", class_=\"price\")]\n",
    "\n",
    "    print(\"Titles:\", titles)\n",
    "    print(len(titles))\n",
    "    print(\"Prices:\", prices)\n",
    "    print(len(prices))\n",
    "\n",
    "    df = pd.DataFrame({\"Title\": titles, \"Price\": prices})\n",
    "\n",
    "    # Dopisanie do pliku CSV\n",
    "    df.to_csv(\"scraped_data.csv\", mode='a', header=not os.path.exists('scraped_data.csv'), index=False)\n",
    "else:\n",
    "    print(\"Failed to retrieve data.\")\n"
   ]
  }
 ],
 "metadata": {
  "colab": {
   "provenance": []
  },
  "kernelspec": {
   "display_name": "Python 3",
   "name": "python3"
  },
  "language_info": {
   "codemirror_mode": {
    "name": "ipython",
    "version": 3
   },
   "file_extension": ".py",
   "mimetype": "text/x-python",
   "name": "python",
   "nbconvert_exporter": "python",
   "pygments_lexer": "ipython3",
   "version": "3.9.24"
  },
  "papermill": {
   "default_parameters": {},
   "duration": 3.965292,
   "end_time": "2025-10-20T14:47:04.426366",
   "environment_variables": {},
   "exception": null,
   "input_path": "nb.ipynb",
   "output_path": "nbo.ipynb",
   "parameters": {},
   "start_time": "2025-10-20T14:47:00.461074",
   "version": "2.6.0"
  }
 },
 "nbformat": 4,
 "nbformat_minor": 5
}