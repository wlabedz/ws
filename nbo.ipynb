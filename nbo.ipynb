{
 "cells": [
  {
   "cell_type": "code",
   "execution_count": 1,
   "id": "9d14260b",
   "metadata": {
    "colab": {
     "base_uri": "https://localhost:8080/"
    },
    "execution": {
     "iopub.execute_input": "2025-08-08T14:47:34.092137Z",
     "iopub.status.busy": "2025-08-08T14:47:34.091840Z",
     "iopub.status.idle": "2025-08-08T14:47:36.759515Z",
     "shell.execute_reply": "2025-08-08T14:47:36.758738Z"
    },
    "id": "5pYh4c8j1w43",
    "outputId": "8a0dca73-64e5-4f0d-c493-2c5b38392363",
    "papermill": {
     "duration": 2.67133,
     "end_time": "2025-08-08T14:47:36.760692",
     "exception": false,
     "start_time": "2025-08-08T14:47:34.089362",
     "status": "completed"
    },
    "tags": []
   },
   "outputs": [
    {
     "name": "stdout",
     "output_type": "stream",
     "text": [
      "Status Code: 200\n",
      "Response Headers: {'Server': 'nginx', 'Date': 'Fri, 08 Aug 2025 14:47:36 GMT', 'Content-Type': 'text/html; charset=UTF-8', 'Transfer-Encoding': 'chunked', 'Vary': 'Accept-Encoding, User-Agent', 'Set-Cookie': 'FRSPSID=cneicj616a2nh1pa2dr70va9p4; path=/; domain=.sprzedajemy.pl; secure; HttpOnly, _items_per_page__offer_list=60; expires=Sun, 07-Sep-2025 14:47:36 GMT; Max-Age=2592000; path=/; domain=.sprzedajemy.pl; secure; httponly, observed_id=97287858368960e08375e1241179579457596518; expires=Wed, 08-Aug-2125 15:47:36 GMT; Max-Age=3155677200; path=/; domain=.sprzedajemy.pl; secure; httponly', 'Expires': 'Thu, 19 Nov 1981 08:52:00 GMT', 'Cache-Control': 'no-store, no-cache, must-revalidate, post-check=0, pre-check=0', 'Pragma': 'no-cache', 'Content-Encoding': 'gzip'}\n",
      "Response Text (first 2000 chars): <!DOCTYPE html><html xmlns=\"http://www.w3.org/1999/xhtml\" xml:lang=\"pl\" lang=\"pl\" class=\"no-js\" >\n",
      "<head>\n",
      "\t\t\t<!-- Google Tag Manager -->\n",
      "\t\t\t<script>(function(w,d,s,l,i){w[l]=w[l]||[];w[l].push({'gtm.start':\n",
      "\t\t\t\t\t\tnew Date().getTime(),event:'gtm.js'});var f=d.getElementsByTagName(s)[0],\n",
      "\t\t\t\t\tj=d.createElement(s),dl=l!='dataLayer'?'&l='+l:'';j.async=true;j.src=\n",
      "\t\t\t\t\t'https://www.googletagmanager.com/gtm.js?id='+i+dl\n",
      "\t\t\t\t\t\t\t\t\t    ;f.parentNode.insertBefore(j,f);\n",
      "\t\t\t\t    })(window,document,'script','dataLayer','GTM-P3S238');</script>\n",
      "\t\t\t<!-- End Google Tag Manager -->\n",
      "\t<title>Mieszkania Kraków na sprzedaż, wynajem - Sprzedajemy.pl</title><meta http-equiv=\"Content-Type\" content=\"text/html; charset=UTF-8\" >\n",
      "<meta http-equiv=\"X-UA-Compatible\" content=\"IE=edge\" >\n",
      "<meta name=\"description\" content=\"Ogłoszenia o tematyce:  w kategorii Mieszkania - Kupuj i sprzedawaj rzeczy używane i nowe w kategorii Mieszkania na Sprzedajemy.pl\" >\n",
      "<meta property=\"og:title\" content=\"Mieszkania Kraków na sprzedaż, wynajem - Sprzedajemy.pl\" >\n",
      "<meta property=\"og:type\" content=\"website\" >\n",
      "<meta property=\"og:image\" content=\"https://thumbs.img-sprzedajemy.pl/facebook/sprzedajemy.pl.png\" >\n",
      "<meta property=\"og:image:width\" content=\"200\" >\n",
      "<meta property=\"og:image:height\" content=\"200\" >\n",
      "<meta property=\"og:url\" content=\"https://sprzedajemy.pl/krakow/nieruchomosci/mieszkania\" >\n",
      "<meta property=\"og:site_name\" content=\"Sprzedajemy.pl\" >\n",
      "<meta property=\"fb:app_id\" content=\"173258269367442\" >\n",
      "<meta property=\"og:description\" content=\"Ogłoszenia o tematyce:  w kategorii Mieszkania - Kupuj i sprzedawaj rzeczy używane i nowe w kategorii Mieszkania na Sprzedajemy.pl\" >\n",
      "<meta name=\"robots\" content=\"noindex, follow\" >\t\t<script  async=\"async\" src=\"https://static.criteo.net/js/ld/publishertag.js\"></script>\n",
      "        <script  async=\"async\" src=\"https://ap.lijit.com/www/sovrn_beacon_standalone/sovrn_standalone_beacon.js?iid=13417409&amp;uid=sprzedajemy\" id=\"sBeacon\"></script>\n",
      "\t\t<script  async=\"async\" src=\"https://securepuba\n"
     ]
    },
    {
     "name": "stdout",
     "output_type": "stream",
     "text": [
      "Titles: ['Dom - Kraków Tonie - Zielona okolica - 123 m2 | 5 - pok. | Ogród | Taras |…', 'Mieszkanie 3-pokojowe. Duży balkon. Dobra komunikacja, Od właściciela', '3 niezależne lokale z KW– inwestycja z potencjałem', 'Mieszkanie na sprzedaż/zamiana 39m2', 'Mieszkanie Wola Justowska /Bielany 36m2', '4pokoje 68m2 balkon KLIMA Śródmieście BEZ PROWIZJI od właściciela', 'Mieszkanie Kraków Pękowicka 51.64m2 3-pokojowe', 'Mieszkanie Kraków 40.61m2 1 pokój', 'Mieszkanie 63.68m2 4 pok Kraków', 'Oferta sprzedaży mieszkania 62.82m2 3 pokoje Kraków Pękowicka', 'Mieszkanie 52.14m 3 pokojowe Kraków Pękowicka', 'Mieszkanie sprzedam Kraków Pękowicka 53.6m2 4-pokojowe', 'Oferta sprzedaży mieszkania 38.92m2 2 pokoje Kraków Centralna', 'Mieszkanie 65.46m2 3-pok Kraków Wadowicka', 'Ogłoszenie mieszkanie 33.25m 1 pokój Kraków Babińskiego', 'Oferta sprzedaży mieszkania 36.21m2 2-pok Kraków', 'Mieszkanie 60.05m2 4 pokoje Kraków', 'Oferta sprzedaży mieszkania 63.45m2 3-pokojowe Kraków Wadowicka', 'Mieszkanie 52.32m2 3 pokojowe Kraków', 'Sprzedaż mieszkania 41.07m2 2 pokojowe Kraków Pękowicka', 'Sprzedaż mieszkania 31m2 1-pokojowe Kraków Ruczaj', 'Oferta sprzedaży mieszkania Kraków Na Błonie 72.6m2 2 pokoje', 'Do sprzedaży mieszkanie 54.62m2 3-pok Kraków', 'Mieszkanie Kraków 33.25m2', 'Mieszkanie 57.32m2 2-pokojowe Kraków', 'Mieszkanie 45.27m2 2 pokojowe Kraków Wadowicka', 'Mieszkanie Kraków Piasta Kołodzieja 56.19m2 3-pok', 'Mieszkanie Kraków Wadowicka 44.95 metrów 2 pok', 'Mieszkanie Kraków Pękowicka 55.99m2 3 pokojowe', 'Do sprzedaży mieszkanie 55.81m2 Kraków', 'Mieszkanie Kraków Piasta Kołodzieja 50.23m2 3-pokojowe', 'Mieszkanie 35.25m2 2 pokoje Kraków 29 listopada - okolice', 'Oferta sprzedaży mieszkania Kraków 35.79m2 2 pokoje', 'Ogłoszenie mieszkanie Kraków 27.38m2 1 pok', 'Oferta sprzedaży mieszkania Kraków Zyblikiewicza 65.16 metrów 3-pokojowe', 'Oferta sprzedaży mieszkania 51.54m2 3 pokojowe Kraków Kantrowicka', 'Oferta sprzedaży mieszkania Kraków Pękowicka 62.77m2 4 pokojowe', 'Ogłoszenie mieszkanie Kraków Pękowicka 52.07m 3 pokojowe', 'Mieszkanie Kraków 51.54m2 3 pokojowe', 'Oferta sprzedaży mieszkania Kraków Babińskiego 33.25m2 1-pokojowe', 'Oferta sprzedaży mieszkania 60.92m2 4 pokojowe Kraków Pękowicka', 'Mieszkanie Kraków Krowoderska 108m2', 'Mieszkanie Kraków 52.26m2 3 pokoje', 'Sprzedam mieszkanie 35.26m2 2-pok Kraków 29 listopada - okolice', 'Mieszkanie do sprzedania Kraków Na Błonie 26.52m2 1 pokojowe', 'Mieszkanie 67.69m2 Kraków Pękowicka', 'Mieszkanie Kraków 51.54m2 3-pokojowe', 'Oferta sprzedaży mieszkania Kraków Na Błonie 38.66m2 2 pokojowe', 'Mieszkanie 42.21m2 2-pok Kraków', 'Mieszkanie Kraków Grzegórzki 29.97m2 1-pok', 'Oferta sprzedaży mieszkania Kraków Na Błonie 58.55m2 3 pokoje', 'Oferta sprzedaży mieszkania 53.24m2 2 pokoje Kraków Pękowicka', 'Sprzedam mieszkanie 26.73m2 1 pokój Kraków', 'Mieszkanie 65.16m2 4-pokojowe Kraków Kantrowicka', 'Sprzedam mieszkanie Kraków Wadowicka 51.71 metrów 2 pokoje', 'Mieszkanie Kraków Pękowicka 26.92m2 1 pokój', 'Mieszkanie na sprzedaż Kraków Reduta 76.84m2 3 pok', 'Mieszkanie 64.26m2 3 pokoje Kraków', 'Oferta sprzedaży mieszkania 65.16m2 4 pokoje Kraków Kantrowicka', 'Mieszkanie 65m2 3 pok Kraków']\n",
      "60\n",
      "Prices: ['2 275 000 zł', '3 500 zł', '279 000 zł', '526 000 zł', '487 000 zł', '1 850 000 zł', '852 060 zł', '670 065 zł', '1 034 800 zł', '1 014 543 zł', '855 096 zł', '873 680 zł', '695 000 zł', '1 099 728 zł', '628 425 zł', '615 570 zł', '984 820 zł', '1 053 270 zł', '855 432 zł', '694 083 zł', '535 000 zł', '1 229 408 zł', '890 306 zł', '628 425 zł', '878 000 zł', '855 603 zł', '758 565 zł', '822 585 zł', '893 040 zł', '892 960 zł', '743 404 zł', '672 124 zł', '613 798 zł', '469 000 zł', '1 449 000 zł', '636 519 zł', '1 013 735 zł', '856 551 zł', '661 000 zł', '628 425 zł', '986 904 zł', '1 740 000 zł', '857 064 zł', '645 875 zł', '554 294 zł', '1 083 040 zł', '636 519 zł', '780 120 zł', '702 796 zł', '749 000 zł', '1 107 180 zł', '859 826 zł', '565 045 zł', '773 775 zł', '889 754 zł', '456 294 zł', '1 335 000 zł', '1 111 698 zł', '773 775 zł', '1 099 000 zł']\n",
      "60\n"
     ]
    }
   ],
   "source": [
    "import requests\n",
    "from bs4 import BeautifulSoup\n",
    "import pandas as pd\n",
    "import os\n",
    "\n",
    "url = \"https://sprzedajemy.pl/krakow/nieruchomosci/mieszkania?offset=0&items_per_page=60\"\n",
    "\n",
    "headers = {\n",
    "    \"User-Agent\": \"Mozilla/5.0 (Windows NT 10.0; Win64; x64) AppleWebKit/537.36 (KHTML, like Gecko) Chrome/58.0.3029.110 Safari/537.36\",\n",
    "    \"Accept\": \"text/html,application/xhtml+xml,application/xml;q=0.9,image/webp,image/apng,*/*;q=0.8\",\n",
    "    \"Accept-Encoding\": \"gzip, deflate, br\",\n",
    "    \"Accept-Language\": \"en-US,en;q=0.9,pl;q=0.8\",\n",
    "    \"Connection\": \"keep-alive\"\n",
    "}\n",
    "\n",
    "response = requests.get(url, headers=headers)\n",
    "response = requests.get(url, headers=headers)\n",
    "\n",
    "# Debugowanie odpowiedzi\n",
    "print(f\"Status Code: {response.status_code}\")\n",
    "print(f\"Response Headers: {response.headers}\")\n",
    "print(f\"Response Text (first 2000 chars): {response.text[:2000]}\")\n",
    "\n",
    "# Jeśli odpowiedź jest poprawna, wykonaj webscraping\n",
    "if response.status_code == 200:\n",
    "    soup = BeautifulSoup(response.content, \"html.parser\")\n",
    "\n",
    "    # Pobieranie ofert mieszkań\n",
    "    titles = [h2.a.text.strip() for h2 in soup.find_all(\"h2\", class_=\"title\") if h2.a]\n",
    "    prices = [p.text.replace(\"\\xa0\", \" \").strip() for p in soup.find_all(\"span\", class_=\"price\")]\n",
    "\n",
    "    print(\"Titles:\", titles)\n",
    "    print(len(titles))\n",
    "    print(\"Prices:\", prices)\n",
    "    print(len(prices))\n",
    "\n",
    "    df = pd.DataFrame({\"Title\": titles, \"Price\": prices})\n",
    "\n",
    "    # Dopisanie do pliku CSV\n",
    "    df.to_csv(\"scraped_data.csv\", mode='a', header=not os.path.exists('scraped_data.csv'), index=False)\n",
    "else:\n",
    "    print(\"Failed to retrieve data.\")\n"
   ]
  }
 ],
 "metadata": {
  "colab": {
   "provenance": []
  },
  "kernelspec": {
   "display_name": "Python 3",
   "name": "python3"
  },
  "language_info": {
   "codemirror_mode": {
    "name": "ipython",
    "version": 3
   },
   "file_extension": ".py",
   "mimetype": "text/x-python",
   "name": "python",
   "nbconvert_exporter": "python",
   "pygments_lexer": "ipython3",
   "version": "3.9.23"
  },
  "papermill": {
   "default_parameters": {},
   "duration": 3.955667,
   "end_time": "2025-08-08T14:47:37.079216",
   "environment_variables": {},
   "exception": null,
   "input_path": "nb.ipynb",
   "output_path": "nbo.ipynb",
   "parameters": {},
   "start_time": "2025-08-08T14:47:33.123549",
   "version": "2.6.0"
  }
 },
 "nbformat": 4,
 "nbformat_minor": 5
}