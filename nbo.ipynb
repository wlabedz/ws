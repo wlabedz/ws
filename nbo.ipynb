{
 "cells": [
  {
   "cell_type": "code",
   "execution_count": 1,
   "id": "3f330b61",
   "metadata": {
    "colab": {
     "base_uri": "https://localhost:8080/"
    },
    "execution": {
     "iopub.execute_input": "2025-09-09T15:45:40.024889Z",
     "iopub.status.busy": "2025-09-09T15:45:40.024596Z",
     "iopub.status.idle": "2025-09-09T15:45:42.166039Z",
     "shell.execute_reply": "2025-09-09T15:45:42.165308Z"
    },
    "id": "5pYh4c8j1w43",
    "outputId": "8a0dca73-64e5-4f0d-c493-2c5b38392363",
    "papermill": {
     "duration": 2.145139,
     "end_time": "2025-09-09T15:45:42.167207",
     "exception": false,
     "start_time": "2025-09-09T15:45:40.022068",
     "status": "completed"
    },
    "tags": []
   },
   "outputs": [
    {
     "name": "stdout",
     "output_type": "stream",
     "text": [
      "Status Code: 200\n",
      "Response Headers: {'Server': 'nginx', 'Date': 'Tue, 09 Sep 2025 15:45:41 GMT', 'Content-Type': 'text/html; charset=UTF-8', 'Transfer-Encoding': 'chunked', 'Vary': 'Accept-Encoding, User-Agent', 'Set-Cookie': 'FRSPSID=5rqcsv8rl3p4m6crtnvhupg2t3; path=/; domain=.sprzedajemy.pl; secure; HttpOnly, _items_per_page__offer_list=60; expires=Thu, 09-Oct-2025 15:45:41 GMT; Max-Age=2592000; path=/; domain=.sprzedajemy.pl; secure; httponly, observed_id=199766434768c04ba5b286f675718172028695677; expires=Sun, 09-Sep-2125 16:45:41 GMT; Max-Age=3155677200; path=/; domain=.sprzedajemy.pl; secure; httponly', 'Expires': 'Thu, 19 Nov 1981 08:52:00 GMT', 'Cache-Control': 'no-store, no-cache, must-revalidate, post-check=0, pre-check=0', 'Pragma': 'no-cache', 'Content-Encoding': 'gzip'}\n",
      "Response Text (first 2000 chars): <!DOCTYPE html><html xmlns=\"http://www.w3.org/1999/xhtml\" xml:lang=\"pl\" lang=\"pl\" class=\"no-js\" >\n",
      "<head>\n",
      "\t\t\t<!-- Google Tag Manager -->\n",
      "\t\t\t<script>(function(w,d,s,l,i){w[l]=w[l]||[];w[l].push({'gtm.start':\n",
      "\t\t\t\t\t\tnew Date().getTime(),event:'gtm.js'});var f=d.getElementsByTagName(s)[0],\n",
      "\t\t\t\t\tj=d.createElement(s),dl=l!='dataLayer'?'&l='+l:'';j.async=true;j.src=\n",
      "\t\t\t\t\t'https://www.googletagmanager.com/gtm.js?id='+i+dl\n",
      "\t\t\t\t\t\t\t\t\t    ;f.parentNode.insertBefore(j,f);\n",
      "\t\t\t\t    })(window,document,'script','dataLayer','GTM-P3S238');</script>\n",
      "\t\t\t<!-- End Google Tag Manager -->\n",
      "\t<title>Mieszkania Kraków na sprzedaż, wynajem - Sprzedajemy.pl</title><meta http-equiv=\"Content-Type\" content=\"text/html; charset=UTF-8\" >\n",
      "<meta http-equiv=\"X-UA-Compatible\" content=\"IE=edge\" >\n",
      "<meta name=\"description\" content=\"Ogłoszenia o tematyce:  w kategorii Mieszkania - Kupuj i sprzedawaj rzeczy używane i nowe w kategorii Mieszkania na Sprzedajemy.pl\" >\n",
      "<meta property=\"og:title\" content=\"Mieszkania Kraków na sprzedaż, wynajem - Sprzedajemy.pl\" >\n",
      "<meta property=\"og:type\" content=\"website\" >\n",
      "<meta property=\"og:image\" content=\"https://thumbs.img-sprzedajemy.pl/facebook/sprzedajemy.pl.png\" >\n",
      "<meta property=\"og:image:width\" content=\"200\" >\n",
      "<meta property=\"og:image:height\" content=\"200\" >\n",
      "<meta property=\"og:url\" content=\"https://sprzedajemy.pl/krakow/nieruchomosci/mieszkania\" >\n",
      "<meta property=\"og:site_name\" content=\"Sprzedajemy.pl\" >\n",
      "<meta property=\"fb:app_id\" content=\"173258269367442\" >\n",
      "<meta property=\"og:description\" content=\"Ogłoszenia o tematyce:  w kategorii Mieszkania - Kupuj i sprzedawaj rzeczy używane i nowe w kategorii Mieszkania na Sprzedajemy.pl\" >\n",
      "<meta name=\"robots\" content=\"noindex, follow\" >\t\t<script  async=\"async\" src=\"https://static.criteo.net/js/ld/publishertag.js\"></script>\n",
      "        <script  async=\"async\" src=\"https://ap.lijit.com/www/sovrn_beacon_standalone/sovrn_standalone_beacon.js?iid=13417409&amp;uid=sprzedajemy\" id=\"sBeacon\"></script>\n",
      "\t\t<script  async=\"async\" src=\"https://securepuba\n",
      "Titles: ['Stylowy lokal na parterze przy Krowoderskiej', 'Wyjątkowy lokal przy ul. Krowoderskiej z widokiem na stronę ogrodową', 'Dwa pokoje - stare miasto - Do wejścia - Własność', '2-pokojowe mieszkanie po remoncie | PROMOCJA | ul Bronowicka', 'Kraków, Stare Miasto sprzedaż/zamiana', 'Mieszkanie z widokiem na góry', 'Wyjątkowe mieszkanie z widokiem na klasztor w Tyńcu i panoramę Tatr', 'Stylowy apartament z widokiem na panoramę Krakowa - od właściciela', 'Nowoczesny apartament z panoramicznym widokiem - od właściciela', 'Do sprzedaży mieszkanie 36 metrów 2 pok Kraków', 'Mieszkanie Kraków 51.84m2 2 pokoje', 'Oferta sprzedaży mieszkania Kraków Marii Dąbrowskiej 47.49m2 2-pokojowe', 'Mieszkanie 2-pokojowe 44,4 m2 Kraków- Bronowice !', 'BEZPOŚREDNIO Mieszkanie ul. Kielecka /Rondo Mogilskie', 'Mieszkanie 23.65m2 Kraków Kobierzyńska', 'Mieszkanie Kraków 40m2 2-pokojowe', 'pokój w centrum Krakowa', 'Mieszkanie 32.43m2 2 pokoje Kraków os. Kalinowe', 'Bronowice - bardzo ładne mieszkanie dwupokojowe', 'Mieszkanie Kraków 60.9m 3-pok', 'Mieszkanie 49m2 3-pok Kraków', 'Kawalerka w kamienicy Salwator', 'Jasne mieszkanie w kamienicy Salwator', 'Pokój w domu wolnostojącym cena z mediami blisko UR i UEK i Lasu Wolskiego', 'Cudowne z ogródkiem - mieszkanie 3-pokojowe na Grzegórzkach w Krakowie', '4 pokoje,balkon,klimatyzacja ul.Rostworowskiego 16', 'Nowe 2 pokoje z ogródkiem | Zakątek Dąbie | miejsce parkingowe w prezencie', '2 lub 3 pokoje,62m2,balkon,widok na Wawel', 'Apartamentowiec 73m na Woli Justowskiej', 'Nowe mieszkanie 2 pokoje Kraków Prokocim', 'Sprzedam mieszkanie Kraków 2pokoje Jerzmanowskiego', 'Mieszkanie do wynajęcia', 'Dwupokojowe z balkonem', 'Mieszkanie 3-pokojowe na sprzedaż', 'Oferta wynajmu mieszkania Kraków pl. Wolnica 12m2 5 pokoi', 'Mieszkanie 3 pokojowe /64,3 m2 / w  super lokalizacji - od właściciela', 'Sprzedam przytulne mieszkanie w Krakowie, ul. Dobrego Pasterza', '2-pokojowe mieszkanie na sprzedaż  Bez pośrednika', 'Wynajem mieszkania 49m2 2-pok Kraków', 'Sprzedaż mieszkania Kraków 54.43m2 2 pokojowe', 'Do wynajęcia mieszkanie 55m2 3-pok Kraków', 'Kawalerka dla studenta/studentki, Kraków - Prokocim', 'Mieszkanie sprzedam 54.98m2 3 pokoje Kraków Republiki Korczakowskiej', 'Mieszkanie 54.86m 3 pokoje Kraków os. Oświecenia', 'Mieszkanie 50m2 2-pok Kraków prof. Michała Bobrzyńskiego', 'Mieszkanie do sprzedania 38.93m2 1 pokojowe Kraków', 'Kraków- 4 pokoje taras, miejsce postojow', 'Ogłoszenie mieszkanie 46.02m2 2 pokojowe Kraków os. Avia', 'Krowodrza Górka - 2 pokoje z wyjsciem do ogródka', 'Żabiniec - 2 pokoje, 2 balkony, garaż', 'Mieszkanie do sprzedania Kraków Osiedle na Wzgórzach 34m2 1-pokojowe', 'Mieszkanie Kraków Krakowska 77.24m2 3 pokoje', 'Mieszkanie 91.3m2 4 pokojowe Kraków', 'Sprzedam mieszkanie Kraków Krowoderskich Zuchów 64m2 4 pokojowe', 'Mieszkanie 48.96 metrów 2 pokojowe Kraków', 'Mieszkanie Kraków Radzikowskiego 73m2 3 pokojowe', 'Oferta wynajmu mieszkania Kraków 51.8m2 3 pok', 'Mieszkanie Kraków 66m2 3 pokoje', 'Mieszkanie Kraków płk. Francesco Nullo 75m2 3 pokoje', 'Mieszkanie Kraków Powstańców 46m2 3 pokoje']\n",
      "60\n",
      "Prices: ['1 800 000 zł', '1 350 000 zł', '739 455 zł', '710 000 zł', '2 083 000 zł', '265 000 zł', '779 000 zł', '890 000 zł', '997 000 zł', '2 700 zł', '799 703 zł', '770 000 zł', '600 000 zł', '2 150 zł', '420 000 zł', '2 550 zł', '1 600 zł', '388 000 zł', '599 000 zł', '725 000 zł', '635 000 zł', '2 300 zł', '3 100 zł', '1 900 zł', '4 600 zł', '3 200 zł', '899 900 zł', '1 490 000 zł', '1 750 000 zł', '799 000 zł', '779 000 zł', '2 500 zł', '2 700 zł', '758 000 zł', '1 600 zł', '997 000 zł', '600 000 zł', '695 000 zł', '2 500 zł', '675 000 zł', '5 500 zł', '2 275 zł', '780 000 zł', '729 000 zł', '729 000 zł', '709 000 zł', '1 040 000 zł', '799 000 zł', '625 000 zł', '2 600 zł', '430 000 zł', '1 250 000 zł', '1 450 000 zł', '770 000 zł', '750 849 zł', '699 000 zł', '2 200 zł', '769 000 zł', '4 200 zł', '3 200 zł']\n",
      "60\n"
     ]
    }
   ],
   "source": [
    "import requests\n",
    "from bs4 import BeautifulSoup\n",
    "import pandas as pd\n",
    "import os\n",
    "\n",
    "url = \"https://sprzedajemy.pl/krakow/nieruchomosci/mieszkania?offset=0&items_per_page=60\"\n",
    "\n",
    "headers = {\n",
    "    \"User-Agent\": \"Mozilla/5.0 (Windows NT 10.0; Win64; x64) AppleWebKit/537.36 (KHTML, like Gecko) Chrome/58.0.3029.110 Safari/537.36\",\n",
    "    \"Accept\": \"text/html,application/xhtml+xml,application/xml;q=0.9,image/webp,image/apng,*/*;q=0.8\",\n",
    "    \"Accept-Encoding\": \"gzip, deflate, br\",\n",
    "    \"Accept-Language\": \"en-US,en;q=0.9,pl;q=0.8\",\n",
    "    \"Connection\": \"keep-alive\"\n",
    "}\n",
    "\n",
    "response = requests.get(url, headers=headers)\n",
    "response = requests.get(url, headers=headers)\n",
    "\n",
    "# Debugowanie odpowiedzi\n",
    "print(f\"Status Code: {response.status_code}\")\n",
    "print(f\"Response Headers: {response.headers}\")\n",
    "print(f\"Response Text (first 2000 chars): {response.text[:2000]}\")\n",
    "\n",
    "# Jeśli odpowiedź jest poprawna, wykonaj webscraping\n",
    "if response.status_code == 200:\n",
    "    soup = BeautifulSoup(response.content, \"html.parser\")\n",
    "\n",
    "    # Pobieranie ofert mieszkań\n",
    "    titles = [h2.a.text.strip() for h2 in soup.find_all(\"h2\", class_=\"title\") if h2.a]\n",
    "    prices = [p.text.replace(\"\\xa0\", \" \").strip() for p in soup.find_all(\"span\", class_=\"price\")]\n",
    "\n",
    "    print(\"Titles:\", titles)\n",
    "    print(len(titles))\n",
    "    print(\"Prices:\", prices)\n",
    "    print(len(prices))\n",
    "\n",
    "    df = pd.DataFrame({\"Title\": titles, \"Price\": prices})\n",
    "\n",
    "    # Dopisanie do pliku CSV\n",
    "    df.to_csv(\"scraped_data.csv\", mode='a', header=not os.path.exists('scraped_data.csv'), index=False)\n",
    "else:\n",
    "    print(\"Failed to retrieve data.\")\n"
   ]
  }
 ],
 "metadata": {
  "colab": {
   "provenance": []
  },
  "kernelspec": {
   "display_name": "Python 3",
   "name": "python3"
  },
  "language_info": {
   "codemirror_mode": {
    "name": "ipython",
    "version": 3
   },
   "file_extension": ".py",
   "mimetype": "text/x-python",
   "name": "python",
   "nbconvert_exporter": "python",
   "pygments_lexer": "ipython3",
   "version": "3.9.23"
  },
  "papermill": {
   "default_parameters": {},
   "duration": 3.282414,
   "end_time": "2025-09-09T15:45:42.383470",
   "environment_variables": {},
   "exception": null,
   "input_path": "nb.ipynb",
   "output_path": "nbo.ipynb",
   "parameters": {},
   "start_time": "2025-09-09T15:45:39.101056",
   "version": "2.6.0"
  }
 },
 "nbformat": 4,
 "nbformat_minor": 5
}