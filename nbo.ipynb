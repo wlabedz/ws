{
 "cells": [
  {
   "cell_type": "code",
   "execution_count": 1,
   "id": "e260190a",
   "metadata": {
    "colab": {
     "base_uri": "https://localhost:8080/"
    },
    "execution": {
     "iopub.execute_input": "2025-09-05T16:17:34.023662Z",
     "iopub.status.busy": "2025-09-05T16:17:34.023389Z",
     "iopub.status.idle": "2025-09-05T16:17:36.577811Z",
     "shell.execute_reply": "2025-09-05T16:17:36.577105Z"
    },
    "id": "5pYh4c8j1w43",
    "outputId": "8a0dca73-64e5-4f0d-c493-2c5b38392363",
    "papermill": {
     "duration": 2.558085,
     "end_time": "2025-09-05T16:17:36.578917",
     "exception": false,
     "start_time": "2025-09-05T16:17:34.020832",
     "status": "completed"
    },
    "tags": []
   },
   "outputs": [
    {
     "name": "stdout",
     "output_type": "stream",
     "text": [
      "Status Code: 200\n",
      "Response Headers: {'Server': 'nginx', 'Date': 'Fri, 05 Sep 2025 16:17:36 GMT', 'Content-Type': 'text/html; charset=UTF-8', 'Transfer-Encoding': 'chunked', 'Vary': 'Accept-Encoding, User-Agent', 'Set-Cookie': 'FRSPSID=574ij7cadt0r4lf501bodf29a4; path=/; domain=.sprzedajemy.pl; secure; HttpOnly, _items_per_page__offer_list=60; expires=Sun, 05-Oct-2025 16:17:36 GMT; Max-Age=2592000; path=/; domain=.sprzedajemy.pl; secure; httponly, observed_id=138084108668bb0d20130f51206625284244597886; expires=Wed, 05-Sep-2125 17:17:36 GMT; Max-Age=3155677200; path=/; domain=.sprzedajemy.pl; secure; httponly', 'Expires': 'Thu, 19 Nov 1981 08:52:00 GMT', 'Cache-Control': 'no-store, no-cache, must-revalidate, post-check=0, pre-check=0', 'Pragma': 'no-cache', 'Content-Encoding': 'gzip'}\n",
      "Response Text (first 2000 chars): <!DOCTYPE html><html xmlns=\"http://www.w3.org/1999/xhtml\" xml:lang=\"pl\" lang=\"pl\" class=\"no-js\" >\n",
      "<head>\n",
      "\t\t\t<!-- Google Tag Manager -->\n",
      "\t\t\t<script>(function(w,d,s,l,i){w[l]=w[l]||[];w[l].push({'gtm.start':\n",
      "\t\t\t\t\t\tnew Date().getTime(),event:'gtm.js'});var f=d.getElementsByTagName(s)[0],\n",
      "\t\t\t\t\tj=d.createElement(s),dl=l!='dataLayer'?'&l='+l:'';j.async=true;j.src=\n",
      "\t\t\t\t\t'https://www.googletagmanager.com/gtm.js?id='+i+dl\n",
      "\t\t\t\t\t\t\t\t\t    ;f.parentNode.insertBefore(j,f);\n",
      "\t\t\t\t    })(window,document,'script','dataLayer','GTM-P3S238');</script>\n",
      "\t\t\t<!-- End Google Tag Manager -->\n",
      "\t<title>Mieszkania Kraków na sprzedaż, wynajem - Sprzedajemy.pl</title><meta http-equiv=\"Content-Type\" content=\"text/html; charset=UTF-8\" >\n",
      "<meta http-equiv=\"X-UA-Compatible\" content=\"IE=edge\" >\n",
      "<meta name=\"description\" content=\"Ogłoszenia o tematyce:  w kategorii Mieszkania - Kupuj i sprzedawaj rzeczy używane i nowe w kategorii Mieszkania na Sprzedajemy.pl\" >\n",
      "<meta property=\"og:title\" content=\"Mieszkania Kraków na sprzedaż, wynajem - Sprzedajemy.pl\" >\n",
      "<meta property=\"og:type\" content=\"website\" >\n",
      "<meta property=\"og:image\" content=\"https://thumbs.img-sprzedajemy.pl/facebook/sprzedajemy.pl.png\" >\n",
      "<meta property=\"og:image:width\" content=\"200\" >\n",
      "<meta property=\"og:image:height\" content=\"200\" >\n",
      "<meta property=\"og:url\" content=\"https://sprzedajemy.pl/krakow/nieruchomosci/mieszkania\" >\n",
      "<meta property=\"og:site_name\" content=\"Sprzedajemy.pl\" >\n",
      "<meta property=\"fb:app_id\" content=\"173258269367442\" >\n",
      "<meta property=\"og:description\" content=\"Ogłoszenia o tematyce:  w kategorii Mieszkania - Kupuj i sprzedawaj rzeczy używane i nowe w kategorii Mieszkania na Sprzedajemy.pl\" >\n",
      "<meta name=\"robots\" content=\"noindex, follow\" >\t\t<script  async=\"async\" src=\"https://static.criteo.net/js/ld/publishertag.js\"></script>\n",
      "        <script  async=\"async\" src=\"https://ap.lijit.com/www/sovrn_beacon_standalone/sovrn_standalone_beacon.js?iid=13417409&amp;uid=sprzedajemy\" id=\"sBeacon\"></script>\n",
      "\t\t<script  async=\"async\" src=\"https://securepuba\n",
      "Titles: ['Mieszkanie z widokiem na góry', 'Wyjątkowe mieszkanie z widokiem na klasztor w Tyńcu i panoramę Tatr', 'Stylowy apartament z widokiem na panoramę Krakowa - od właściciela', 'Nowoczesny apartament z panoramicznym widokiem - od właściciela', 'Kraków, Stare Miasto sprzedaż/zamiana', 'Stylowy lokal na parterze przy Krowoderskiej', '2-pokojowe mieszkanie po remoncie | PROMOCJA | ul Bronowicka', 'Mieszkanie 50.23m2 3 pokojowe Kraków', 'Mieszkanie na sprzedaż Kraków Pękowicka 36.12 metry 2 pokojowe', 'Mieszkanie Kraków Babińskiego 72.4m2 3-pok', 'Oferta sprzedaży mieszkania Kraków 35.79m2 2 pokoje', 'Mieszkanie 60.05m2 4 pokoje Kraków', 'Mieszkanie Kraków Piasta Kołodzieja 50.23m2 3-pokojowe', 'Mieszkanie Kraków Wadowicka 51.71m2 2 pokojowe', 'Ogłoszenie mieszkanie 37.85m2 2 pok Kraków Pękowicka', 'Mieszkanie Kraków Pękowicka 40.06m2 2-pok', 'Oferta sprzedaży mieszkania 36.21m2 2-pok Kraków', 'Mieszkanie do sprzedania Kraków 34.79m2 2-pok', 'Sprzedaż mieszkania 31m2 1-pokojowe Kraków Ruczaj', 'Mieszkanie 37.57m2 2 pokoje Kraków Na Błonie', 'Mieszkanie 34.79m2 2-pok Kraków Kantrowicka', 'Oferta sprzedaży mieszkania 35.12m2 2-pokojowe Kraków', 'Mieszkanie sprzedam 38.51m2 2 pok Kraków Na Błonie', 'Sprzedam mieszkanie 35.26m2 2-pok Kraków 29 listopada - okolice', 'Mieszkanie 94.61 metrów 4 pokojowe Kraków Olszanicka', 'Mieszkanie Kraków Na Błonie 38.07m2 2-pokojowe', 'Ogłoszenie mieszkanie Kraków 64.65m2 4 pokoje', 'Mieszkanie do sprzedania Kraków Na Błonie 26.52m2 1 pokojowe', 'Mieszkanie do sprzedania 50.39m2 2 pokoje Kraków Babińskiego', 'Kawalerka,balkon,miejsce postojowe,ul.Nullo 34 ENG', 'Mieszkanie 63m2 4 pokoje Kraków', 'Mieszkanie 46.66m2 Kraków Babińskiego', 'Mieszkanie Kraków Wadowicka 70.88m 4 pokoje', 'Mieszkanie 56.92m 3 pokoje Kraków', 'Mieszkanie Kraków Heleny 50m2', 'Mieszkanie Kraków Na Błonie 40.56m2 2-pokojowe', 'Mieszkanie Kraków 49.63m', 'Apartament 54 m2, Kraków Ruczaj Właściciel', 'Mieszkanie Kraków ul. Bobrzyńskiego 52m2 2-pokojowe', 'Oferta sprzedaży mieszkania Kraków 79.3m2 3 pok', 'Mieszkanie 81.22m 4-pok Kraków Tomickiego', 'Mieszkanie 64.4m2 Kraków Wadowicka', 'Mieszkanie Kraków 33.56m2 1 pokojowe', 'Oferta sprzedaży mieszkania 65.16m2 4 pokoje Kraków Kantrowicka', 'Mieszkanie Kraków 35.05m2 2 pokoje', 'Mieszkanie Kraków 56.19m2 3-pokojowe', 'Do sprzedaży mieszkanie 90.48m2 4-pokojowe Kraków Babińskiego', 'Sprzedam mieszkanie Kraków Kantrowicka 51.42m2 3 pokoje', 'Ogłoszenie mieszkanie 39.67 metrów 2 pokoje Kraków Pękowicka', 'Mieszkanie Kraków 45.27m2 2 pokoje', 'Mieszkanie Kraków Pękowicka 40.89m2', 'Mieszkanie Kraków Na Błonie 26.73m2 1-pokojowe', 'Mieszkanie Kraków 38.93m2 2 pok', 'Mieszkanie 65.16m2 4-pokojowe Kraków Kantrowicka', 'Mieszkanie Kraków 49.63m2 3 pokoje', 'Mieszkanie 67.69m2 Kraków Pękowicka', 'Oferta sprzedaży mieszkania 50.12m2 2 pok Kraków', 'Mieszkanie Kraków Pękowicka 39.76 metrów 2 pokojowe', 'Mieszkanie Kraków Wadowicka 44.95 metrów 2 pok', 'Oferta sprzedaży mieszkania 71.46m2 3 pok Kraków Na Błonie']\n",
      "60\n",
      "Prices: ['265 000 zł', '779 000 zł', '890 000 zł', '997 000 zł', '2 083 000 zł', '1 800 000 zł', '710 000 zł', '723 312 zł', '615 846 zł', '1 245 280 zł', '613 798 zł', '984 820 zł', '743 404 zł', '868 728 zł', '658 590 zł', '681 020 zł', '615 570 zł', '479 232 zł', '535 000 zł', '765 864 zł', '495 757 zł', '600 552 zł', '768 158 zł', '645 875 zł', '1 336 358 zł', '767 224 zł', '1 047 330 zł', '554 294 zł', '901 981 zł', '2 800 zł', '1 014 300 zł', '858 544 zł', '1 204 960 zł', '1 043 059 zł', '660 000 zł', '762 609 zł', '724 598 zł', '3 700 zł', '749 000 zł', '1 308 450 zł', '990 000 zł', '1 101 240 zł', '731 880 zł', '773 775 zł', '482 813 zł', '764 184 zł', '1 465 776 zł', '635 987 zł', '672 406 zł', '837 495 zł', '693 085 zł', '565 045 zł', '657 917 zł', '773 775 zł', '709 709 zł', '1 083 040 zł', '830 000 zł', '675 920 zł', '822 585 zł', '1 188 022 zł']\n",
      "60\n"
     ]
    }
   ],
   "source": [
    "import requests\n",
    "from bs4 import BeautifulSoup\n",
    "import pandas as pd\n",
    "import os\n",
    "\n",
    "url = \"https://sprzedajemy.pl/krakow/nieruchomosci/mieszkania?offset=0&items_per_page=60\"\n",
    "\n",
    "headers = {\n",
    "    \"User-Agent\": \"Mozilla/5.0 (Windows NT 10.0; Win64; x64) AppleWebKit/537.36 (KHTML, like Gecko) Chrome/58.0.3029.110 Safari/537.36\",\n",
    "    \"Accept\": \"text/html,application/xhtml+xml,application/xml;q=0.9,image/webp,image/apng,*/*;q=0.8\",\n",
    "    \"Accept-Encoding\": \"gzip, deflate, br\",\n",
    "    \"Accept-Language\": \"en-US,en;q=0.9,pl;q=0.8\",\n",
    "    \"Connection\": \"keep-alive\"\n",
    "}\n",
    "\n",
    "response = requests.get(url, headers=headers)\n",
    "response = requests.get(url, headers=headers)\n",
    "\n",
    "# Debugowanie odpowiedzi\n",
    "print(f\"Status Code: {response.status_code}\")\n",
    "print(f\"Response Headers: {response.headers}\")\n",
    "print(f\"Response Text (first 2000 chars): {response.text[:2000]}\")\n",
    "\n",
    "# Jeśli odpowiedź jest poprawna, wykonaj webscraping\n",
    "if response.status_code == 200:\n",
    "    soup = BeautifulSoup(response.content, \"html.parser\")\n",
    "\n",
    "    # Pobieranie ofert mieszkań\n",
    "    titles = [h2.a.text.strip() for h2 in soup.find_all(\"h2\", class_=\"title\") if h2.a]\n",
    "    prices = [p.text.replace(\"\\xa0\", \" \").strip() for p in soup.find_all(\"span\", class_=\"price\")]\n",
    "\n",
    "    print(\"Titles:\", titles)\n",
    "    print(len(titles))\n",
    "    print(\"Prices:\", prices)\n",
    "    print(len(prices))\n",
    "\n",
    "    df = pd.DataFrame({\"Title\": titles, \"Price\": prices})\n",
    "\n",
    "    # Dopisanie do pliku CSV\n",
    "    df.to_csv(\"scraped_data.csv\", mode='a', header=not os.path.exists('scraped_data.csv'), index=False)\n",
    "else:\n",
    "    print(\"Failed to retrieve data.\")\n"
   ]
  }
 ],
 "metadata": {
  "colab": {
   "provenance": []
  },
  "kernelspec": {
   "display_name": "Python 3",
   "name": "python3"
  },
  "language_info": {
   "codemirror_mode": {
    "name": "ipython",
    "version": 3
   },
   "file_extension": ".py",
   "mimetype": "text/x-python",
   "name": "python",
   "nbconvert_exporter": "python",
   "pygments_lexer": "ipython3",
   "version": "3.9.23"
  },
  "papermill": {
   "default_parameters": {},
   "duration": 3.664749,
   "end_time": "2025-09-05T16:17:36.796242",
   "environment_variables": {},
   "exception": null,
   "input_path": "nb.ipynb",
   "output_path": "nbo.ipynb",
   "parameters": {},
   "start_time": "2025-09-05T16:17:33.131493",
   "version": "2.6.0"
  }
 },
 "nbformat": 4,
 "nbformat_minor": 5
}