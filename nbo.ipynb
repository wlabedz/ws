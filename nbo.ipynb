{
 "cells": [
  {
   "cell_type": "code",
   "execution_count": 1,
   "id": "6e36f5de",
   "metadata": {
    "colab": {
     "base_uri": "https://localhost:8080/"
    },
    "execution": {
     "iopub.execute_input": "2025-06-25T07:53:17.945854Z",
     "iopub.status.busy": "2025-06-25T07:53:17.945341Z",
     "iopub.status.idle": "2025-06-25T07:53:20.160617Z",
     "shell.execute_reply": "2025-06-25T07:53:20.159866Z"
    },
    "id": "5pYh4c8j1w43",
    "outputId": "8a0dca73-64e5-4f0d-c493-2c5b38392363",
    "papermill": {
     "duration": 2.219013,
     "end_time": "2025-06-25T07:53:20.161731",
     "exception": false,
     "start_time": "2025-06-25T07:53:17.942718",
     "status": "completed"
    },
    "tags": []
   },
   "outputs": [
    {
     "name": "stdout",
     "output_type": "stream",
     "text": [
      "Status Code: 200\n",
      "Response Headers: {'Server': 'nginx', 'Date': 'Wed, 25 Jun 2025 07:53:19 GMT', 'Content-Type': 'text/html; charset=UTF-8', 'Transfer-Encoding': 'chunked', 'Vary': 'Accept-Encoding, User-Agent', 'Set-Cookie': 'FRSPSID=657l1qfoku6rec6cknjtjpi545; path=/; domain=.sprzedajemy.pl; secure; HttpOnly, _items_per_page__offer_list=60; expires=Fri, 25-Jul-2025 07:53:19 GMT; Max-Age=2592000; path=/; domain=.sprzedajemy.pl; secure; httponly, observed_id=2066843503685baaefb1feb529710464567534889; expires=Mon, 25-Jun-2125 08:53:19 GMT; Max-Age=3155677200; path=/; domain=.sprzedajemy.pl; secure; httponly', 'Expires': 'Thu, 19 Nov 1981 08:52:00 GMT', 'Cache-Control': 'no-store, no-cache, must-revalidate, post-check=0, pre-check=0', 'Pragma': 'no-cache', 'Content-Encoding': 'gzip'}\n",
      "Response Text (first 2000 chars): <!DOCTYPE html><html xmlns=\"http://www.w3.org/1999/xhtml\" xml:lang=\"pl\" lang=\"pl\" class=\"no-js\" >\n",
      "<head>\n",
      "\t\t\t<!-- Google Tag Manager -->\n",
      "\t\t\t<script>(function(w,d,s,l,i){w[l]=w[l]||[];w[l].push({'gtm.start':\n",
      "\t\t\t\t\t\tnew Date().getTime(),event:'gtm.js'});var f=d.getElementsByTagName(s)[0],\n",
      "\t\t\t\t\tj=d.createElement(s),dl=l!='dataLayer'?'&l='+l:'';j.async=true;j.src=\n",
      "\t\t\t\t\t'https://www.googletagmanager.com/gtm.js?id='+i+dl\n",
      "\t\t\t\t\t\t\t\t\t    ;f.parentNode.insertBefore(j,f);\n",
      "\t\t\t\t    })(window,document,'script','dataLayer','GTM-P3S238');</script>\n",
      "\t\t\t<!-- End Google Tag Manager -->\n",
      "\t<title>Mieszkania Kraków na sprzedaż, wynajem - Sprzedajemy.pl</title><meta http-equiv=\"Content-Type\" content=\"text/html; charset=UTF-8\" >\n",
      "<meta http-equiv=\"X-UA-Compatible\" content=\"IE=edge\" >\n",
      "<meta name=\"description\" content=\"Ogłoszenia o tematyce:  w kategorii Mieszkania - Kupuj i sprzedawaj rzeczy używane i nowe w kategorii Mieszkania na Sprzedajemy.pl\" >\n",
      "<meta property=\"og:title\" content=\"Mieszkania Kraków na sprzedaż, wynajem - Sprzedajemy.pl\" >\n",
      "<meta property=\"og:type\" content=\"website\" >\n",
      "<meta property=\"og:image\" content=\"https://thumbs.img-sprzedajemy.pl/facebook/sprzedajemy.pl.png\" >\n",
      "<meta property=\"og:image:width\" content=\"200\" >\n",
      "<meta property=\"og:image:height\" content=\"200\" >\n",
      "<meta property=\"og:url\" content=\"https://sprzedajemy.pl/krakow/nieruchomosci/mieszkania\" >\n",
      "<meta property=\"og:site_name\" content=\"Sprzedajemy.pl\" >\n",
      "<meta property=\"fb:app_id\" content=\"173258269367442\" >\n",
      "<meta property=\"og:description\" content=\"Ogłoszenia o tematyce:  w kategorii Mieszkania - Kupuj i sprzedawaj rzeczy używane i nowe w kategorii Mieszkania na Sprzedajemy.pl\" >\n",
      "<meta name=\"robots\" content=\"noindex, follow\" >\t\t<script  async=\"async\" src=\"https://static.criteo.net/js/ld/publishertag.js\"></script>\n",
      "        <script  async=\"async\" src=\"https://ap.lijit.com/www/sovrn_beacon_standalone/sovrn_standalone_beacon.js?iid=13417409&amp;uid=sprzedajemy\" id=\"sBeacon\"></script>\n",
      "\t\t<script  async=\"async\" src=\"https://securepuba\n",
      "Titles: ['Stylowy apartament z widokiem na panoramę Krakowa - od właściciela', 'Wyjątkowe mieszkanie z widokiem na klasztor w Tyńcu i panoramę Tatr', 'Nowoczesny apartament z panoramicznym widokiem - od właściciela', 'Mieszkanie na sprzedaż/zamiana 39m2', 'Kraków, Stare Miasto sprzedaż/zamiana', 'wykończone 27,56 m², balkon, Kniaźnina, TRAMWAJ, Prądnik Czerwony/Huta', 'Stare Miasto 61,5 m2 KLIMA Wawel wykończone Kazimierz wysokie ROI', 'Stare Miasto 32m2 KLIMA Wawel wykończone Kazimierz wysokie ROI', '3-pok od właściciela, wyremontowane wyposażone, blisko centrum, zieleń', 'Mieszkanie Kraków Dolna 100m2 3 pokojowe', 'Mieszkanie Kraków 27.42m2 2-pokojowe', 'Ogłoszenie mieszkanie 84.56m2 4 pokoje Kraków', 'Oferta sprzedaży mieszkania Kraków Bunscha 83.49m2', 'Mieszkanie 85m2 3-pok Kraków', 'Mieszkanie do sprzedania Kraków Henryka Pachońskiego 69.02m2 4 pok', 'Mieszkanie 33m2 2 pok Kraków Nowohucka', 'Mieszkanie 40m2 2 pok Kraków Karmelicka', 'Mieszkanie Kraków Henryka Pachońskiego 70.63 metry 4 pokoje', 'Mieszkanie Kraków 41.56 metrów 2-pokojowe', 'Oferta sprzedaży mieszkania Kraków Kapelanka 55m2 2-pokojowe', 'Sprzedaż mieszkania Kraków Tysiąclecia 38m2 2 pokoje', 'Oferta sprzedaży mieszkania Kraków Henryka Pachońskiego 70.64m2 4-pok', 'Mieszkanie 30m2 2 pokoje Kraków Nowohucka', '49m2, 3 pokoje, świeżo po remoncie, OD WŁAŚCICIELA', 'Mieszkanie Kraków 68.3m2', 'Mieszkanie 70.63 metry 4 pokojowe Kraków Henryka Pachońskiego', 'Mieszkanie Kraków 34.67m2 2 pokoje', 'Mieszkanie do sprzedania 30m2 2 pokojowe Kraków', 'ŚWIETNIE SKOMUNIKOWANE, Z KLIMATEM, DODATKOWY METRAŻ', 'Mieszkanie 60.41m2 3 pokoje Kraków Henryka Pachońskiego', 'Mieszkanie 35m2 1-pokojowe Kraków Karmelicka', 'Mieszkanie 71.5m2 4 pokojowe Kraków', 'Oferta wynajmu mieszkania 38.91m2 2 pokoje Kraków Konarskiego', 'Ustawne mieszkanie 2 pokojowe, Os. Kazimierzowskie', 'Mieszkanie Kraków Józefa Sarego 26.34m 1 pokój', 'Mieszkanie Kraków Henryka Pachońskiego 70.64m2 4-pok', 'Os. Botanika, apartament 4-5 pokoi, m. parkingowe', 'Mieszkanie 57.25m2 2 pokojowe Kraków', 'Mieszkanie sprzedam Kraków 65.57m2 3 pokojowe', 'Mieszkanie sprzedam Kraków Tadeusza Śliwiaka 65.57m2 3 pok', 'Oferta sprzedaży mieszkania 67m2 4-pokojowe Kraków', 'Sprzedaż mieszkania 65.57m2 3 pokoje Kraków Tadeusza Śliwiaka', 'Mieszkanie Kraków Kobierzyńska 91.1m2 4 pokoje', 'Mieszkanie 65.57m 3 pok Kraków Tadeusza Śliwiaka', 'Mieszkanie Kraków Marii i Bolesława Wysłouchów 56m2 3 pokojowe', 'Mieszkanie 65.57 metrów 3-pok Kraków', 'Ogłoszenie mieszkanie 46m2 2 pokoje Kraków Bukowa', 'Mieszkanie 51.71m2 2-pokojowe Kraków Wadowicka', 'Apartament, 2 pokoje, jadalnia, garaż,Krowodrza', 'Mieszkanie 65.57m2 3 pokoje Kraków Tadeusza Śliwiaka', 'Sprzedaż mieszkania Kraków Tadeusza Śliwiaka 82.34m2', 'Mieszkanie 43.08m2 Kraków Wadowicka', 'Mieszkanie Kraków 62.06m2', 'Mieszkanie Kraków Śliczna 45m2 2-pok', 'Ogłoszenie mieszkanie 59.31m2 3 pokojowe Kraków', 'Mieszkanie Kraków Tadeusza Śliwiaka 81.78m2 4 pokoje', 'Mieszkanie 61.82m2 Kraków', 'Mieszkanie Kraków 38.76m2 2 pokojowe', 'Oferta sprzedaży mieszkania 65.57m2 3 pokojowe Kraków', 'Mieszkanie na sprzedaż 65.57m2 3 pokoje Kraków']\n",
      "60\n",
      "Prices: ['897 000 zł', '779 000 zł', '997 000 zł', '539 000 zł', '2 205 000 zł', '569 000 zł', '1 748 885 zł', '939 000 zł', '839 000 zł', '3 300 zł', '857 556 zł', '1 272 461 zł', '999 900 zł', '1 649 000 zł', '855 848 zł', '650 000 zł', '2 500 zł', '868 749 zł', '650 000 zł', '935 000 zł', '555 000 zł', '868 872 zł', '2 500 zł', '669 000 zł', '930 000 zł', '868 749 zł', '639 000 zł', '600 000 zł', '599 000 zł', '789 133 zł', '2 500 zł', '990 000 zł', '2 300 zł', '499 000 zł', '570 000 zł', '868 872 zł', '1 500 000 zł', '859 800 zł', '747 498 zł', '740 941 zł', '1 090 000 zł', '747 498 zł', '1 290 000 zł', '747 498 zł', '980 000 zł', '747 498 zł', '552 000 zł', '889 412 zł', '3 800 zł', '760 612 zł', '930 442 zł', '801 288 zł', '1 048 814 zł', '3 000 zł', '770 000 zł', '932 292 zł', '1 044 758 zł', '580 000 zł', '760 612 zł', '760 612 zł']\n",
      "60\n"
     ]
    }
   ],
   "source": [
    "import requests\n",
    "from bs4 import BeautifulSoup\n",
    "import pandas as pd\n",
    "import os\n",
    "\n",
    "url = \"https://sprzedajemy.pl/krakow/nieruchomosci/mieszkania?offset=0&items_per_page=60\"\n",
    "\n",
    "headers = {\n",
    "    \"User-Agent\": \"Mozilla/5.0 (Windows NT 10.0; Win64; x64) AppleWebKit/537.36 (KHTML, like Gecko) Chrome/58.0.3029.110 Safari/537.36\",\n",
    "    \"Accept\": \"text/html,application/xhtml+xml,application/xml;q=0.9,image/webp,image/apng,*/*;q=0.8\",\n",
    "    \"Accept-Encoding\": \"gzip, deflate, br\",\n",
    "    \"Accept-Language\": \"en-US,en;q=0.9,pl;q=0.8\",\n",
    "    \"Connection\": \"keep-alive\"\n",
    "}\n",
    "\n",
    "response = requests.get(url, headers=headers)\n",
    "response = requests.get(url, headers=headers)\n",
    "\n",
    "# Debugowanie odpowiedzi\n",
    "print(f\"Status Code: {response.status_code}\")\n",
    "print(f\"Response Headers: {response.headers}\")\n",
    "print(f\"Response Text (first 2000 chars): {response.text[:2000]}\")\n",
    "\n",
    "# Jeśli odpowiedź jest poprawna, wykonaj webscraping\n",
    "if response.status_code == 200:\n",
    "    soup = BeautifulSoup(response.content, \"html.parser\")\n",
    "\n",
    "    # Pobieranie ofert mieszkań\n",
    "    titles = [h2.a.text.strip() for h2 in soup.find_all(\"h2\", class_=\"title\") if h2.a]\n",
    "    prices = [p.text.replace(\"\\xa0\", \" \").strip() for p in soup.find_all(\"span\", class_=\"price\")]\n",
    "\n",
    "    print(\"Titles:\", titles)\n",
    "    print(len(titles))\n",
    "    print(\"Prices:\", prices)\n",
    "    print(len(prices))\n",
    "\n",
    "    df = pd.DataFrame({\"Title\": titles, \"Price\": prices})\n",
    "\n",
    "    # Dopisanie do pliku CSV\n",
    "    df.to_csv(\"scraped_data.csv\", mode='a', header=not os.path.exists('scraped_data.csv'), index=False)\n",
    "else:\n",
    "    print(\"Failed to retrieve data.\")\n"
   ]
  }
 ],
 "metadata": {
  "colab": {
   "provenance": []
  },
  "kernelspec": {
   "display_name": "Python 3",
   "name": "python3"
  },
  "language_info": {
   "codemirror_mode": {
    "name": "ipython",
    "version": 3
   },
   "file_extension": ".py",
   "mimetype": "text/x-python",
   "name": "python",
   "nbconvert_exporter": "python",
   "pygments_lexer": "ipython3",
   "version": "3.9.22"
  },
  "papermill": {
   "default_parameters": {},
   "duration": 3.334962,
   "end_time": "2025-06-25T07:53:20.379125",
   "environment_variables": {},
   "exception": null,
   "input_path": "nb.ipynb",
   "output_path": "nbo.ipynb",
   "parameters": {},
   "start_time": "2025-06-25T07:53:17.044163",
   "version": "2.6.0"
  }
 },
 "nbformat": 4,
 "nbformat_minor": 5
}