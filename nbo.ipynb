{
 "cells": [
  {
   "cell_type": "code",
   "execution_count": 1,
   "id": "85e35953",
   "metadata": {
    "colab": {
     "base_uri": "https://localhost:8080/"
    },
    "execution": {
     "iopub.execute_input": "2025-10-16T16:42:43.388079Z",
     "iopub.status.busy": "2025-10-16T16:42:43.387852Z",
     "iopub.status.idle": "2025-10-16T16:42:45.631314Z",
     "shell.execute_reply": "2025-10-16T16:42:45.630674Z"
    },
    "id": "5pYh4c8j1w43",
    "outputId": "8a0dca73-64e5-4f0d-c493-2c5b38392363",
    "papermill": {
     "duration": 2.246839,
     "end_time": "2025-10-16T16:42:45.632482",
     "exception": false,
     "start_time": "2025-10-16T16:42:43.385643",
     "status": "completed"
    },
    "tags": []
   },
   "outputs": [
    {
     "name": "stdout",
     "output_type": "stream",
     "text": [
      "Status Code: 200\n",
      "Response Headers: {'Server': 'nginx', 'Date': 'Thu, 16 Oct 2025 16:42:45 GMT', 'Content-Type': 'text/html; charset=UTF-8', 'Transfer-Encoding': 'chunked', 'Vary': 'Accept-Encoding, User-Agent', 'Set-Cookie': 'FRSPSID=jqlh4ia377f75otcut37cmiuc7; path=/; domain=.sprzedajemy.pl; secure; HttpOnly, _items_per_page__offer_list=60; expires=Sat, 15-Nov-2025 16:42:45 GMT; Max-Age=2592000; path=/; domain=.sprzedajemy.pl; secure; httponly, observed_id=167052502568f120852e6af52888368509334805; expires=Tue, 16-Oct-2125 17:42:45 GMT; Max-Age=3155677200; path=/; domain=.sprzedajemy.pl; secure; httponly', 'Expires': 'Thu, 19 Nov 1981 08:52:00 GMT', 'Cache-Control': 'no-store, no-cache, must-revalidate, post-check=0, pre-check=0', 'Pragma': 'no-cache', 'Content-Encoding': 'gzip'}\n",
      "Response Text (first 2000 chars): <!DOCTYPE html><html xmlns=\"http://www.w3.org/1999/xhtml\" xml:lang=\"pl\" lang=\"pl\" class=\"no-js\" >\n",
      "<head>\n",
      "\t\t\t<!-- Google Tag Manager -->\n",
      "\t\t\t<script>(function(w,d,s,l,i){w[l]=w[l]||[];w[l].push({'gtm.start':\n",
      "\t\t\t\t\t\tnew Date().getTime(),event:'gtm.js'});var f=d.getElementsByTagName(s)[0],\n",
      "\t\t\t\t\tj=d.createElement(s),dl=l!='dataLayer'?'&l='+l:'';j.async=true;j.src=\n",
      "\t\t\t\t\t'https://www.googletagmanager.com/gtm.js?id='+i+dl\n",
      "\t\t\t\t\t\t\t\t\t    ;f.parentNode.insertBefore(j,f);\n",
      "\t\t\t\t    })(window,document,'script','dataLayer','GTM-P3S238');</script>\n",
      "\t\t\t<!-- End Google Tag Manager -->\n",
      "\t<title>Mieszkania Kraków na sprzedaż, wynajem - Sprzedajemy.pl</title><meta http-equiv=\"Content-Type\" content=\"text/html; charset=UTF-8\" >\n",
      "<meta http-equiv=\"X-UA-Compatible\" content=\"IE=edge\" >\n",
      "<meta name=\"description\" content=\"Ogłoszenia o tematyce:  w kategorii Mieszkania - Kupuj i sprzedawaj rzeczy używane i nowe w kategorii Mieszkania na Sprzedajemy.pl\" >\n",
      "<meta property=\"og:title\" content=\"Mieszkania Kraków na sprzedaż, wynajem - Sprzedajemy.pl\" >\n",
      "<meta property=\"og:type\" content=\"website\" >\n",
      "<meta property=\"og:image\" content=\"https://thumbs.img-sprzedajemy.pl/facebook/sprzedajemy.pl.png\" >\n",
      "<meta property=\"og:image:width\" content=\"200\" >\n",
      "<meta property=\"og:image:height\" content=\"200\" >\n",
      "<meta property=\"og:url\" content=\"https://sprzedajemy.pl/krakow/nieruchomosci/mieszkania\" >\n",
      "<meta property=\"og:site_name\" content=\"Sprzedajemy.pl\" >\n",
      "<meta property=\"fb:app_id\" content=\"173258269367442\" >\n",
      "<meta property=\"og:description\" content=\"Ogłoszenia o tematyce:  w kategorii Mieszkania - Kupuj i sprzedawaj rzeczy używane i nowe w kategorii Mieszkania na Sprzedajemy.pl\" >\n",
      "<meta name=\"robots\" content=\"noindex, follow\" >\t\t<script  async=\"async\" src=\"https://static.criteo.net/js/ld/publishertag.js\"></script>\n",
      "        <script  async=\"async\" src=\"https://ap.lijit.com/www/sovrn_beacon_standalone/sovrn_standalone_beacon.js?iid=13417409&amp;uid=sprzedajemy\" id=\"sBeacon\"></script>\n",
      "\t\t<script  async=\"async\" src=\"https://securepuba\n",
      "Titles: ['Mieszkanie 3-pokojowe Zakrzówek Ruczaj ul. Pychowicka wynajem od właścicie…', 'Mieszkanie z widokiem na góry', 'Kraków, Stare Miasto sprzedaż/zamiana', 'Mieszkanie Wzgórza Krzesławickie bez prowizji.', 'Piękne 2 pokojowe mieszkanie w Centrum', 'Oferta sprzedaży mieszkania 95 metrów Kraków Fiołkowa', 'Mieszkanie Kraków Komuny Paryskiej 78m2', 'Mieszkanie 2-pokojowe Z Jasną Kuchnią Kraków-Krowodrza, Umeblowane', 'Przestronne 3-pokojowe mieszkanie 59m2 z balkonem i piwnicą Bieńczyce', '5 min do centrum - 2-pokojowe mieszkanie 48 m² – wysoki standard', 'al. Karsińskiego - 3 pokoje, umeblowane', 'Przytulne 70m2 z 3 pokojami w centrum Krakowa – super lokalizacja Wisła', 'Mieszkanie Kraków 26.88m2 1-pok', 'Mieszkanie Kraków 57.93m2 3 pokojowe', 'Mieszkanie Kraków Zygmunta Glogera 68.12m 3 pok', 'Do sprzedaży mieszkanie Kraków 68.12m2', 'Mieszkanie 48.46m2 3 pokoje Kraków', 'Mieszkanie 39.16m2 2 pokoje Kraków Zygmunta Glogera', 'Oferta sprzedaży mieszkania 28.93m2 1 pokój Kraków Zygmunta Glogera', 'Mieszkanie Kraków Zygmunta Glogera 39.16m2 2 pokoje', 'Mieszkanie 59.23m2 3 pokoje Kraków', 'Mieszkanie 54.71m2 3 pokoje Kraków Zygmunta Glogera', 'Mieszkanie 57.93m2 3-pok Kraków Zygmunta Glogera', 'Mieszkanie 57.93m2 3-pok Kraków', 'Mieszkanie 38.52m2 2 pokoje Kraków Zygmunta Glogera', 'Oferta sprzedaży mieszkania 59.23m2 3-pokojowe Kraków Zygmunta Glogera', 'Mieszkanie do sprzedania 74m2 2 pokoje Kraków Twardowskiego', 'Mieszkanie 40.63m2 2 pokoje Kraków', 'Mieszkanie 70.4m2 3-pokojowe Kraków', 'Czyżyny - 1 pokojowe z dużym blakonem, 2018 r', 'Mieszkanie Kraków 58m2 3-pokojowe', 'Mieszkanie 54.71m2 Kraków Zygmunta Glogera', 'Do sprzedaży mieszkanie Kraków prof. Michała Bobrzyńskiego 60m2 3 pokoje', 'Mieszkanie Kraków Leona Petrażyckiego 74.74m2 3 pokojowe', 'Mieszkanie 40m2 2 pok Kraków płk. Francesco Nullo', 'Mieszkanie 3-pokojowe 67 m² – dobra lokalizacja', 'UKR/ENG Luxury Design,  2 poziomowe, ogródek, garaż, przy Galerii Bronowice', 'Mieszkanie na sprzedaż 71m2 3 pok Kraków', 'APARTAMENT DWUPOZIOMOWY KRAKÓW KAZIMIERZ', 'Mieszkanie na sprzedaż 58m2 3-pokojowe Kraków Prof. Tadeusza Seweryna', 'Oferta wynajmu mieszkania 51.87 metrów 2-pok Kraków', 'Mieszkanie Kraków Piastów 47.38m2 2 pokoje', 'MIESZKANIE KRAKÓW ul. TELIGI 2', 'Mieszkanie Kraków Armii Krajowej 69m2 3 pokojowe', 'Mieszkanie 37m2 2 pokoje Kraków', 'Zabłocie, mieszkanie, taras, 40 m2, ENG', '3pokoje,balkon,po remoncie,os.Albertyńskie,Czyżyny', 'Mieszkanie w zielonej okolicy Krakowa w domu jednorodzinym i 2 m.postojowe', 'Sprzedaż mieszkania 65.57m2 3 pokoje Kraków Tadeusza Śliwiaka', 'Ogłoszenie mieszkanie Kraków Tadeusza Śliwiaka 81.78m2 4 pok', 'Mieszkanie 56m2 3 pokojowe Kraków Wandy', 'Mieszkanie Kraków Tadeusza Śliwiaka 81.78m2 4 pokoje', 'Do sprzedaży mieszkanie 46.21m2 2 pok Kraków Bukowa', 'Oferta sprzedaży mieszkania Kraków 122m2 4 pokoje', 'Mieszkanie Kraków Imbramowska 65.62m2 3 pokojowe', 'Mieszkanie Kraków 65.62m2 3 pokojowe', 'Mieszkanie Kraków 211.89m2 5 pokoi', 'Mieszkanie 49.52m2 2-pokojowe Kraków', 'Mieszkanie 48.39m2 2-pok Kraków Imbramowska', 'Oferta sprzedaży mieszkania Kraków Imbramowska 47.39 metrów 2 pokoje']\n",
      "60\n",
      "Prices: ['3 000 zł', '265 000 zł', '2 015 000 zł', '670 000 zł', '759 900 zł', '1 300 000 zł', '870 000 zł', '2 300 zł', '720 000 zł', '3 550 zł', '1 450 000 zł', '4 299 zł', '604 773 zł', '828 399 zł', '892 372 zł', '878 748 zł', '770 514 zł', '610 896 zł', '471 559 zł', '603 064 zł', '835 143 zł', '809 708 zł', '816 813 zł', '758 883 zł', '620 172 zł', '823 297 zł', '1 350 000 zł', '576 946 zł', '1 200 000 zł', '605 000 zł', '1 440 000 zł', '771 411 zł', '999 000 zł', '890 000 zł', '2 700 zł', '795 000 zł', '7 500 zł', '999 999 zł', '1 890 000 zł', '927 000 zł', '2 950 zł', '745 000 zł', '690 000 zł', '4 400 zł', '2 050 zł', '3 500 zł', '679 999 zł', '2 275 000 zł', '746 586 zł', '924 679 zł', '824 999 zł', '932 862 zł', '572 912 zł', '1 150 000 zł', '898 994 zł', '885 870 zł', '7 416 150 zł', '639 000 zł', '706 494 zł', '710 850 zł']\n",
      "60\n"
     ]
    }
   ],
   "source": [
    "import requests\n",
    "from bs4 import BeautifulSoup\n",
    "import pandas as pd\n",
    "import os\n",
    "\n",
    "url = \"https://sprzedajemy.pl/krakow/nieruchomosci/mieszkania?offset=0&items_per_page=60\"\n",
    "\n",
    "headers = {\n",
    "    \"User-Agent\": \"Mozilla/5.0 (Windows NT 10.0; Win64; x64) AppleWebKit/537.36 (KHTML, like Gecko) Chrome/58.0.3029.110 Safari/537.36\",\n",
    "    \"Accept\": \"text/html,application/xhtml+xml,application/xml;q=0.9,image/webp,image/apng,*/*;q=0.8\",\n",
    "    \"Accept-Encoding\": \"gzip, deflate, br\",\n",
    "    \"Accept-Language\": \"en-US,en;q=0.9,pl;q=0.8\",\n",
    "    \"Connection\": \"keep-alive\"\n",
    "}\n",
    "\n",
    "response = requests.get(url, headers=headers)\n",
    "response = requests.get(url, headers=headers)\n",
    "\n",
    "# Debugowanie odpowiedzi\n",
    "print(f\"Status Code: {response.status_code}\")\n",
    "print(f\"Response Headers: {response.headers}\")\n",
    "print(f\"Response Text (first 2000 chars): {response.text[:2000]}\")\n",
    "\n",
    "# Jeśli odpowiedź jest poprawna, wykonaj webscraping\n",
    "if response.status_code == 200:\n",
    "    soup = BeautifulSoup(response.content, \"html.parser\")\n",
    "\n",
    "    # Pobieranie ofert mieszkań\n",
    "    titles = [h2.a.text.strip() for h2 in soup.find_all(\"h2\", class_=\"title\") if h2.a]\n",
    "    prices = [p.text.replace(\"\\xa0\", \" \").strip() for p in soup.find_all(\"span\", class_=\"price\")]\n",
    "\n",
    "    print(\"Titles:\", titles)\n",
    "    print(len(titles))\n",
    "    print(\"Prices:\", prices)\n",
    "    print(len(prices))\n",
    "\n",
    "    df = pd.DataFrame({\"Title\": titles, \"Price\": prices})\n",
    "\n",
    "    # Dopisanie do pliku CSV\n",
    "    df.to_csv(\"scraped_data.csv\", mode='a', header=not os.path.exists('scraped_data.csv'), index=False)\n",
    "else:\n",
    "    print(\"Failed to retrieve data.\")\n"
   ]
  }
 ],
 "metadata": {
  "colab": {
   "provenance": []
  },
  "kernelspec": {
   "display_name": "Python 3",
   "name": "python3"
  },
  "language_info": {
   "codemirror_mode": {
    "name": "ipython",
    "version": 3
   },
   "file_extension": ".py",
   "mimetype": "text/x-python",
   "name": "python",
   "nbconvert_exporter": "python",
   "pygments_lexer": "ipython3",
   "version": "3.9.23"
  },
  "papermill": {
   "default_parameters": {},
   "duration": 3.418852,
   "end_time": "2025-10-16T16:42:45.849799",
   "environment_variables": {},
   "exception": null,
   "input_path": "nb.ipynb",
   "output_path": "nbo.ipynb",
   "parameters": {},
   "start_time": "2025-10-16T16:42:42.430947",
   "version": "2.6.0"
  }
 },
 "nbformat": 4,
 "nbformat_minor": 5
}