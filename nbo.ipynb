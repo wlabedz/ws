{
 "cells": [
  {
   "cell_type": "code",
   "execution_count": 1,
   "id": "a56aabd0",
   "metadata": {
    "colab": {
     "base_uri": "https://localhost:8080/"
    },
    "execution": {
     "iopub.execute_input": "2025-10-17T15:31:23.488146Z",
     "iopub.status.busy": "2025-10-17T15:31:23.487881Z",
     "iopub.status.idle": "2025-10-17T15:31:25.551340Z",
     "shell.execute_reply": "2025-10-17T15:31:25.550589Z"
    },
    "id": "5pYh4c8j1w43",
    "outputId": "8a0dca73-64e5-4f0d-c493-2c5b38392363",
    "papermill": {
     "duration": 2.06711,
     "end_time": "2025-10-17T15:31:25.552528",
     "exception": false,
     "start_time": "2025-10-17T15:31:23.485418",
     "status": "completed"
    },
    "tags": []
   },
   "outputs": [
    {
     "name": "stdout",
     "output_type": "stream",
     "text": [
      "Status Code: 200\n",
      "Response Headers: {'Server': 'nginx', 'Date': 'Fri, 17 Oct 2025 15:31:25 GMT', 'Content-Type': 'text/html; charset=UTF-8', 'Transfer-Encoding': 'chunked', 'Vary': 'Accept-Encoding, User-Agent', 'Set-Cookie': 'FRSPSID=elevfcfjo12kd3qpgg2qnr1kb7; path=/; domain=.sprzedajemy.pl; secure; HttpOnly, _items_per_page__offer_list=60; expires=Sun, 16-Nov-2025 15:31:25 GMT; Max-Age=2592000; path=/; domain=.sprzedajemy.pl; secure; httponly, observed_id=56891977268f2614d224970753030681029666; expires=Wed, 17-Oct-2125 16:31:25 GMT; Max-Age=3155677200; path=/; domain=.sprzedajemy.pl; secure; httponly', 'Expires': 'Thu, 19 Nov 1981 08:52:00 GMT', 'Cache-Control': 'no-store, no-cache, must-revalidate, post-check=0, pre-check=0', 'Pragma': 'no-cache', 'Content-Encoding': 'gzip'}\n",
      "Response Text (first 2000 chars): <!DOCTYPE html><html xmlns=\"http://www.w3.org/1999/xhtml\" xml:lang=\"pl\" lang=\"pl\" class=\"no-js\" >\n",
      "<head>\n",
      "\t\t\t<!-- Google Tag Manager -->\n",
      "\t\t\t<script>(function(w,d,s,l,i){w[l]=w[l]||[];w[l].push({'gtm.start':\n",
      "\t\t\t\t\t\tnew Date().getTime(),event:'gtm.js'});var f=d.getElementsByTagName(s)[0],\n",
      "\t\t\t\t\tj=d.createElement(s),dl=l!='dataLayer'?'&l='+l:'';j.async=true;j.src=\n",
      "\t\t\t\t\t'https://www.googletagmanager.com/gtm.js?id='+i+dl\n",
      "\t\t\t\t\t\t\t\t\t    ;f.parentNode.insertBefore(j,f);\n",
      "\t\t\t\t    })(window,document,'script','dataLayer','GTM-P3S238');</script>\n",
      "\t\t\t<!-- End Google Tag Manager -->\n",
      "\t<title>Mieszkania Kraków na sprzedaż, wynajem - Sprzedajemy.pl</title><meta http-equiv=\"Content-Type\" content=\"text/html; charset=UTF-8\" >\n",
      "<meta http-equiv=\"X-UA-Compatible\" content=\"IE=edge\" >\n",
      "<meta name=\"description\" content=\"Ogłoszenia o tematyce:  w kategorii Mieszkania - Kupuj i sprzedawaj rzeczy używane i nowe w kategorii Mieszkania na Sprzedajemy.pl\" >\n",
      "<meta property=\"og:title\" content=\"Mieszkania Kraków na sprzedaż, wynajem - Sprzedajemy.pl\" >\n",
      "<meta property=\"og:type\" content=\"website\" >\n",
      "<meta property=\"og:image\" content=\"https://thumbs.img-sprzedajemy.pl/facebook/sprzedajemy.pl.png\" >\n",
      "<meta property=\"og:image:width\" content=\"200\" >\n",
      "<meta property=\"og:image:height\" content=\"200\" >\n",
      "<meta property=\"og:url\" content=\"https://sprzedajemy.pl/krakow/nieruchomosci/mieszkania\" >\n",
      "<meta property=\"og:site_name\" content=\"Sprzedajemy.pl\" >\n",
      "<meta property=\"fb:app_id\" content=\"173258269367442\" >\n",
      "<meta property=\"og:description\" content=\"Ogłoszenia o tematyce:  w kategorii Mieszkania - Kupuj i sprzedawaj rzeczy używane i nowe w kategorii Mieszkania na Sprzedajemy.pl\" >\n",
      "<meta name=\"robots\" content=\"noindex, follow\" >\t\t<script  async=\"async\" src=\"https://static.criteo.net/js/ld/publishertag.js\"></script>\n",
      "        <script  async=\"async\" src=\"https://ap.lijit.com/www/sovrn_beacon_standalone/sovrn_standalone_beacon.js?iid=13417409&amp;uid=sprzedajemy\" id=\"sBeacon\"></script>\n",
      "\t\t<script  async=\"async\" src=\"https://securepuba\n",
      "Titles: ['Mieszkanie z widokiem na góry', 'Grzegorzki mieszkanie na sprzedaż 30 m', 'Mieszkanie 3-pokojowe Zakrzówek Ruczaj ul. Pychowicka wynajem od właścicie…', 'Kraków, Stare Miasto sprzedaż/zamiana', 'Mieszkanie Wzgórza Krzesławickie bez prowizji.', 'Piękne 2 pokojowe mieszkanie w Centrum', 'Mieszkanie 63.82m2 3 pokojowe Kraków', 'Mieszkanie 114.76m2 5-pokojowe Kraków', 'Oferta sprzedaży mieszkania 50.23m2 3 pokojowe Kraków', 'Mieszkanie Kraków Kantrowicka 51.54m2 3-pokojowe', 'Mieszkanie 40.61m2 1 pokój Kraków Wadowicka', 'Wynajem mieszkania 48.61m2 2-pok Kraków', 'Mieszkanie Kraków Wadowicka 64.42m', 'Mieszkanie 51.88m2 3 pokojowe Kraków Pękowicka', 'Mieszkanie Kraków 39.34m2 2-pokojowe', 'Mieszkanie 43.35m2 2 pokoje Kraków Wadowicka', 'Mieszkanie na sprzedaż Kraków 74.74 metry 3 pokojowe', 'Mieszkanie Kraków Babińskiego 70.88m2 3 pokoje', 'Mieszkanie Kraków Piasta Kołodzieja 53.19 metrów 3-pokojowe', 'Mieszkanie Kraków Kantrowicka 51.42 metry 3 pokoje', 'Mieszkanie Kraków Babińskiego 31.74m2 1-pok', 'Mieszkanie na wynajem Kraków 53.2m2 2 pokojowe', 'Mieszkanie Kraków Piasta Kołodzieja 48.59m2 3-pok', 'Mieszkanie do sprzedania Kraków 37.45m2 2 pokojowe', 'Mieszkanie Kraków Na Błonie 101.11m2', 'Mieszkanie 51.65m2 3 pok Kraków', 'Mieszkanie 36.91m2 2 pokoje Kraków 29 listopada - okolice', 'Mieszkanie Kraków 29 listopada - okolice 35.25m2 2-pokojowe', 'Mieszkanie 36.09m2 2 pokoje Kraków Kantrowicka', 'Mieszkanie 43.35m2 2-pok Kraków Wadowicka', 'Mieszkanie Kraków 59.31m2 4 pokoje', 'Mieszkanie Kraków Wojciecha Bogusławskiego 55m2 3 pokoje', 'Oferta sprzedaży mieszkania Kraków Olszanicka 151.37m2', 'Mieszkanie 62.06m2 3-pokojowe Kraków Wadowicka', 'Mieszkanie 36.09m2 2-pok Kraków Kantrowicka', 'Mieszkanie Kraków Babińskiego 33.25 metrów 1 pok', 'Oferta sprzedaży mieszkania Kraków 37.68m2', 'Mieszkanie 37.56m2 2 pokoje Kraków', 'Mieszkanie 60.04m2 4 pokoje Kraków', 'Ogłoszenie mieszkanie Kraków 31.74m2', 'Mieszkanie sprzedam 62.46 metrów 3 pokojowe Kraków Wadowicka', 'Mieszkanie 65.16m2 4-pokojowe Kraków Kantrowicka', 'Oferta sprzedaży mieszkania Kraków Piasta Kołodzieja 48.59m2 3-pok', 'Oferta sprzedaży mieszkania Kraków Wadowicka 64.4m2 3 pokoje', 'Oferta sprzedaży mieszkania 51.41m2 3-pokojowe Kraków Kantrowicka', 'Mieszkanie do sprzedania Kraków Babińskiego 32.79m2 1 pokój', 'Mieszkanie 33.89m 1 pokojowe Kraków', 'Mieszkanie 43.35m2 2 pokoje Kraków Wadowicka', 'Mieszkanie 31.74m 1 pokój Kraków', 'Do sprzedaży mieszkanie Kraków Olszanicka 151.83m2 7-pokojowe', 'Mieszkanie 151.37m2 Kraków Olszanicka', 'Mieszkanie Kraków Wadowicka 74.74m2 3-pokojowe', 'Oferta sprzedaży mieszkania Kraków 41.16m2 2 pokoje', 'Mieszkanie Kraków Piasta Kołodzieja 70.96m2 4-pok', 'Ogłoszenie mieszkanie 36.09m2 2-pokojowe Kraków', 'Mieszkanie Kraków 90.48m2 4 pokoje', 'Mieszkanie 72.4m2 3 pokoje Kraków Babińskiego', 'Mieszkanie 38.19 metrów 2 pokoje Kraków Na Błonie', 'Mieszkanie 47.43m2 2 pokoje Kraków Wadowicka', 'Mieszkanie 52.04m2 2 pokojowe Kraków Na Błonie']\n",
      "60\n",
      "Prices: ['265 000 zł', '549 000 zł', '3 000 zł', '2 015 000 zł', '670 000 zł', '759 900 zł', '1 128 401 zł', '1 732 876 zł', '703 220 zł', '734 445 zł', '629 455 zł', '2 800 zł', '1 140 234 zł', '858 614 zł', '629 440 zł', '819 315 zł', '1 195 840 zł', '1 169 520 zł', '744 660 zł', '635 987 zł', '615 756 zł', '3 300 zł', '723 991 zł', '754 729 zł', '1 649 710 zł', '742 468 zł', '641 918 zł', '823 383 zł', '514 282 zł', '797 640 zł', '859 995 zł', '6 000 zł', '2 138 088 zł', '1 067 432 zł', '505 260 zł', '628 425 zł', '696 905 zł', '733 159 zł', '981 654 zł', '599 886 zł', '1 068 066 zł', '944 820 zł', '733 709 zł', '1 114 120 zł', '668 330 zł', '619 731 zł', '640 521 zł', '814 980 zł', '615 756 zł', '2 383 737 zł', '1 952 673 zł', '1 240 684 zł', '751 312 zł', '879 904 zł', '497 139 zł', '1 411 488 zł', '1 295 960 zł', '714 396 zł', '867 969 zł', '854 441 zł']\n",
      "60\n"
     ]
    }
   ],
   "source": [
    "import requests\n",
    "from bs4 import BeautifulSoup\n",
    "import pandas as pd\n",
    "import os\n",
    "\n",
    "url = \"https://sprzedajemy.pl/krakow/nieruchomosci/mieszkania?offset=0&items_per_page=60\"\n",
    "\n",
    "headers = {\n",
    "    \"User-Agent\": \"Mozilla/5.0 (Windows NT 10.0; Win64; x64) AppleWebKit/537.36 (KHTML, like Gecko) Chrome/58.0.3029.110 Safari/537.36\",\n",
    "    \"Accept\": \"text/html,application/xhtml+xml,application/xml;q=0.9,image/webp,image/apng,*/*;q=0.8\",\n",
    "    \"Accept-Encoding\": \"gzip, deflate, br\",\n",
    "    \"Accept-Language\": \"en-US,en;q=0.9,pl;q=0.8\",\n",
    "    \"Connection\": \"keep-alive\"\n",
    "}\n",
    "\n",
    "response = requests.get(url, headers=headers)\n",
    "response = requests.get(url, headers=headers)\n",
    "\n",
    "# Debugowanie odpowiedzi\n",
    "print(f\"Status Code: {response.status_code}\")\n",
    "print(f\"Response Headers: {response.headers}\")\n",
    "print(f\"Response Text (first 2000 chars): {response.text[:2000]}\")\n",
    "\n",
    "# Jeśli odpowiedź jest poprawna, wykonaj webscraping\n",
    "if response.status_code == 200:\n",
    "    soup = BeautifulSoup(response.content, \"html.parser\")\n",
    "\n",
    "    # Pobieranie ofert mieszkań\n",
    "    titles = [h2.a.text.strip() for h2 in soup.find_all(\"h2\", class_=\"title\") if h2.a]\n",
    "    prices = [p.text.replace(\"\\xa0\", \" \").strip() for p in soup.find_all(\"span\", class_=\"price\")]\n",
    "\n",
    "    print(\"Titles:\", titles)\n",
    "    print(len(titles))\n",
    "    print(\"Prices:\", prices)\n",
    "    print(len(prices))\n",
    "\n",
    "    df = pd.DataFrame({\"Title\": titles, \"Price\": prices})\n",
    "\n",
    "    # Dopisanie do pliku CSV\n",
    "    df.to_csv(\"scraped_data.csv\", mode='a', header=not os.path.exists('scraped_data.csv'), index=False)\n",
    "else:\n",
    "    print(\"Failed to retrieve data.\")\n"
   ]
  }
 ],
 "metadata": {
  "colab": {
   "provenance": []
  },
  "kernelspec": {
   "display_name": "Python 3",
   "name": "python3"
  },
  "language_info": {
   "codemirror_mode": {
    "name": "ipython",
    "version": 3
   },
   "file_extension": ".py",
   "mimetype": "text/x-python",
   "name": "python",
   "nbconvert_exporter": "python",
   "pygments_lexer": "ipython3",
   "version": "3.9.24"
  },
  "papermill": {
   "default_parameters": {},
   "duration": 3.238514,
   "end_time": "2025-10-17T15:31:25.769785",
   "environment_variables": {},
   "exception": null,
   "input_path": "nb.ipynb",
   "output_path": "nbo.ipynb",
   "parameters": {},
   "start_time": "2025-10-17T15:31:22.531271",
   "version": "2.6.0"
  }
 },
 "nbformat": 4,
 "nbformat_minor": 5
}