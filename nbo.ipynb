{
 "cells": [
  {
   "cell_type": "code",
   "execution_count": 1,
   "id": "634b42b7",
   "metadata": {
    "colab": {
     "base_uri": "https://localhost:8080/"
    },
    "execution": {
     "iopub.execute_input": "2025-10-13T11:36:54.780999Z",
     "iopub.status.busy": "2025-10-13T11:36:54.780694Z",
     "iopub.status.idle": "2025-10-13T11:36:57.092369Z",
     "shell.execute_reply": "2025-10-13T11:36:57.091769Z"
    },
    "id": "5pYh4c8j1w43",
    "outputId": "8a0dca73-64e5-4f0d-c493-2c5b38392363",
    "papermill": {
     "duration": 2.315736,
     "end_time": "2025-10-13T11:36:57.093487",
     "exception": false,
     "start_time": "2025-10-13T11:36:54.777751",
     "status": "completed"
    },
    "tags": []
   },
   "outputs": [
    {
     "name": "stdout",
     "output_type": "stream",
     "text": [
      "Status Code: 200\n",
      "Response Headers: {'Server': 'nginx', 'Date': 'Mon, 13 Oct 2025 11:36:56 GMT', 'Content-Type': 'text/html; charset=UTF-8', 'Transfer-Encoding': 'chunked', 'Vary': 'Accept-Encoding, User-Agent', 'Set-Cookie': 'FRSPSID=vqo9hmvs38k5p3c9vhj55efdu1; path=/; domain=.sprzedajemy.pl; secure; HttpOnly, _items_per_page__offer_list=60; expires=Wed, 12-Nov-2025 11:36:56 GMT; Max-Age=2592000; path=/; domain=.sprzedajemy.pl; secure; httponly, observed_id=196756522068ece45882921024186641865159217; expires=Sat, 13-Oct-2125 12:36:56 GMT; Max-Age=3155677200; path=/; domain=.sprzedajemy.pl; secure; httponly', 'Expires': 'Thu, 19 Nov 1981 08:52:00 GMT', 'Cache-Control': 'no-store, no-cache, must-revalidate, post-check=0, pre-check=0', 'Pragma': 'no-cache', 'Content-Encoding': 'gzip'}\n",
      "Response Text (first 2000 chars): <!DOCTYPE html><html xmlns=\"http://www.w3.org/1999/xhtml\" xml:lang=\"pl\" lang=\"pl\" class=\"no-js\" >\n",
      "<head>\n",
      "\t\t\t<!-- Google Tag Manager -->\n",
      "\t\t\t<script>(function(w,d,s,l,i){w[l]=w[l]||[];w[l].push({'gtm.start':\n",
      "\t\t\t\t\t\tnew Date().getTime(),event:'gtm.js'});var f=d.getElementsByTagName(s)[0],\n",
      "\t\t\t\t\tj=d.createElement(s),dl=l!='dataLayer'?'&l='+l:'';j.async=true;j.src=\n",
      "\t\t\t\t\t'https://www.googletagmanager.com/gtm.js?id='+i+dl\n",
      "\t\t\t\t\t\t\t\t\t    ;f.parentNode.insertBefore(j,f);\n",
      "\t\t\t\t    })(window,document,'script','dataLayer','GTM-P3S238');</script>\n",
      "\t\t\t<!-- End Google Tag Manager -->\n",
      "\t<title>Mieszkania Kraków na sprzedaż, wynajem - Sprzedajemy.pl</title><meta http-equiv=\"Content-Type\" content=\"text/html; charset=UTF-8\" >\n",
      "<meta http-equiv=\"X-UA-Compatible\" content=\"IE=edge\" >\n",
      "<meta name=\"description\" content=\"Ogłoszenia o tematyce:  w kategorii Mieszkania - Kupuj i sprzedawaj rzeczy używane i nowe w kategorii Mieszkania na Sprzedajemy.pl\" >\n",
      "<meta property=\"og:title\" content=\"Mieszkania Kraków na sprzedaż, wynajem - Sprzedajemy.pl\" >\n",
      "<meta property=\"og:type\" content=\"website\" >\n",
      "<meta property=\"og:image\" content=\"https://thumbs.img-sprzedajemy.pl/facebook/sprzedajemy.pl.png\" >\n",
      "<meta property=\"og:image:width\" content=\"200\" >\n",
      "<meta property=\"og:image:height\" content=\"200\" >\n",
      "<meta property=\"og:url\" content=\"https://sprzedajemy.pl/krakow/nieruchomosci/mieszkania\" >\n",
      "<meta property=\"og:site_name\" content=\"Sprzedajemy.pl\" >\n",
      "<meta property=\"fb:app_id\" content=\"173258269367442\" >\n",
      "<meta property=\"og:description\" content=\"Ogłoszenia o tematyce:  w kategorii Mieszkania - Kupuj i sprzedawaj rzeczy używane i nowe w kategorii Mieszkania na Sprzedajemy.pl\" >\n",
      "<meta name=\"robots\" content=\"noindex, follow\" >\t\t<script  async=\"async\" src=\"https://static.criteo.net/js/ld/publishertag.js\"></script>\n",
      "        <script  async=\"async\" src=\"https://ap.lijit.com/www/sovrn_beacon_standalone/sovrn_standalone_beacon.js?iid=13417409&amp;uid=sprzedajemy\" id=\"sBeacon\"></script>\n",
      "\t\t<script  async=\"async\" src=\"https://securepuba\n"
     ]
    },
    {
     "name": "stdout",
     "output_type": "stream",
     "text": [
      "Titles: ['Mieszkanie Wzgórza Krzesławickie bez prowizji.', 'Piękne 2 pokojowe mieszkanie w Centrum', 'Mieszkanie 3-pokojowe Zakrzówek Ruczaj wynajem na 9 miesięcy', 'Mieszkanie z widokiem na góry', 'Kraków, Stare Miasto sprzedaż/zamiana', '3-pokojowe mieszkanie 70m2 z klimatyzacją, 2 balkony - Wiślane Tarasy', 'Sprzedam dwupokojowe mieszkanie os. Dywizjonu 303, 19C Kraków', 'NOWY Apartament Premium | 3 Pokoje | Balkon | Bez PCC | Bez Prowizji', 'Mieszkanie 38.4m2 2 pokoje Kraków Romana Kiełkowskiego', 'Mieszkanie na sprzedaż Kraków 54m2 2-pokojowe', 'Mieszkanie dwupokojowe 52,7m2 na Lipińskiego, Ruczaj-Zaborze Kraków, od wł…', 'Mieszkanie sprzedam 53.5m2 2-pokojowe Kraków', 'Mieszkanie Kraków 58.16m2 2 pokojowe', 'Ogłoszenie mieszkanie 50m2 2 pokojowe Kraków Chocimska', 'MIeszkanie z ogródkiem w Czyżynach - os. Avia', 'Apartament, 2 pokoje, jadalnia, garaż,Krowodrza', 'sprzedam kawalerkę w dobrej lokalizacji', 'Mieszkanie z garażem i komórką lokatorską', 'Mieszkanie Kraków Jana Kurczaba 68.6m2 3-pokojowe', 'WYNAJMĘ od zaraz mieszkanie 3 pokojowe-Krowodrza - Prądnik Biały-49 m2', 'Mieszkanie z garażem i komórką lokatorską', '2 pokoje, do remontu, MPEC, os.Jagiellońskie', 'Mieszkanie 3 pokojowe (77,7m2) w centrum Krakowa', 'Kawalerka ul. Lea. Bezpośrednio! 0% prowizji! ENG', 'Wynajmę słoneczne mieszkanie 2-pokojowe w Krakowie, Wola Duchackie', 'Oferta sprzedaży mieszkania 49m2 3-pokojowe Kraków', '2 POKOJOWE 40 mkw na Bunscha na sprzedaż!', '2pokoje, oddzielna kuchnia,os.Albertyńskie,Czyżyny', 'Mieszkanie 3 pokojowe os. Na Wzgórzach', 'Do wynajecia mieszkanie dwupokojowe 52 m Kapelanka 6a', 'Do sprzedaży mieszkanie 50m 3 pok Kraków Ugorek', 'Nowe i GOTOWE | 2-pokojowe |ostatnie piętro | Vetulaniego | 39m2', 'Mieszkanie, Kraków os. Tysiąclecia 1 - 20 m 2', 'Mieszkanie na wynajem', 'Mieszkanie Os. Avia Kraków, widok na góry', 'Wynajmę mieszkanie 3 pokojowe-Prądnik Biały-A.Vetulaniego-49 m²+garden', 'Kraków – Bieńczyce, os. Kazimierzowskie', 'Do wynajęcia 1-pokojowe mieszkanie os. Jagiellońskie Kraków Nowa Huta', 'Mieszkanie 71.27m2 4 pokoje Kraków Stefana Banacha', 'Ogłoszenie mieszkanie 57.62m2 4 pokoje Kraków', 'Mieszkanie Kraków Rydlówka 42.88m2 3-pokojowe', 'Nowoczesne 3-pokojowe mieszkanie 48 m² – Pachońskiego / od zaraz', 'Pet Friendly - mieszkanie do wynajęcia na Czyżynach 30m² od zaraz', '? Przestronne mieszkanie 4-pokojowe | Kraków Bieżanów, ul. Helny 22', '2 POKOJE z klimatem | Dąbska | TAURON Arena | Balkon', 'Do wynajęcia mieszkanie 2 pokojowe+balkon Kraków ul. Rusznikarska', 'Bezpośrednio Jasne 2 pokoje Mieszkanie Centrum Ogrzewanie Parking Komunika…', 'Wynajmę 2 pokojowe 58m2', 'Bezpośrednio Jasne 2 pokojowe Mieszkanie Centrum Ogrzewanie Centralne Park…', 'Nowoczesne dwupoziomowe mieszkanie', 'Oferta sprzedaży mieszkania Kraków Mirosława Krzyżańskiego 122m2 4 pokoje', '12 600zł/m2 w nowym budownictwie - bez prowizji!', 'duże 2-pokojowe mieszkanie Z 2024r - 53m2 z balkonem APARTAMENT', 'Mieszkanie 50m 2 pokoje Kraków', 'MIESZKANIE KRAKÓW UL. ŁUŻYCKA 53 PIASKI NOWE', '2- pokojowe mieszkanie | K. Kołłątajowskiej | 57m2', 'Mieszkanie Ruczaj Park 73m', 'Podedworze 13', 'Mieszkanie 130m2 Kraków ul. Bielańska 16/2 wynajem', 'wynajmę mieszkanie dwupokojowe']\n",
      "60\n",
      "Prices: ['670 000 zł', '759 900 zł', '2 900 zł', '265 000 zł', '2 015 000 zł', '5 500 zł', '620 000 zł', '1 014 900 zł', '2 700 zł', '750 000 zł', '2 500 zł', '1 024 000 zł', '929 000 zł', '2 700 zł', '3 000 zł', '3 800 zł', '590 000 zł', '2 100 zł', '899 000 zł', '3 300 zł', '2 100 zł', '435 000 zł', '1 450 000 zł', '2 400 zł', '2 500 zł', '639 000 zł', '710 000 zł', '639 999 zł', '670 000 zł', '3 500 zł', '775 000 zł', '745 000 zł', '333 000 zł', '2 500 zł', '998 000 zł', '3 200 zł', '579 000 zł', '1 900 zł', '1 270 000 zł', '1 194 174 zł', '1 000 176 zł', '3 500 zł', '2 050 zł', '850 000 zł', '3 700 zł', '2 500 zł', '3 600 zł', '3 300 zł', '849 000 zł', '4 200 zł', '1 299 000 zł', '630 000 zł', '1 135 000 zł', '710 000 zł', '730 000 zł', '645 000 zł', '939 046 zł', '542 000 zł', '3 950 zł', '2 800 zł']\n",
      "60\n"
     ]
    }
   ],
   "source": [
    "import requests\n",
    "from bs4 import BeautifulSoup\n",
    "import pandas as pd\n",
    "import os\n",
    "\n",
    "url = \"https://sprzedajemy.pl/krakow/nieruchomosci/mieszkania?offset=0&items_per_page=60\"\n",
    "\n",
    "headers = {\n",
    "    \"User-Agent\": \"Mozilla/5.0 (Windows NT 10.0; Win64; x64) AppleWebKit/537.36 (KHTML, like Gecko) Chrome/58.0.3029.110 Safari/537.36\",\n",
    "    \"Accept\": \"text/html,application/xhtml+xml,application/xml;q=0.9,image/webp,image/apng,*/*;q=0.8\",\n",
    "    \"Accept-Encoding\": \"gzip, deflate, br\",\n",
    "    \"Accept-Language\": \"en-US,en;q=0.9,pl;q=0.8\",\n",
    "    \"Connection\": \"keep-alive\"\n",
    "}\n",
    "\n",
    "response = requests.get(url, headers=headers)\n",
    "response = requests.get(url, headers=headers)\n",
    "\n",
    "# Debugowanie odpowiedzi\n",
    "print(f\"Status Code: {response.status_code}\")\n",
    "print(f\"Response Headers: {response.headers}\")\n",
    "print(f\"Response Text (first 2000 chars): {response.text[:2000]}\")\n",
    "\n",
    "# Jeśli odpowiedź jest poprawna, wykonaj webscraping\n",
    "if response.status_code == 200:\n",
    "    soup = BeautifulSoup(response.content, \"html.parser\")\n",
    "\n",
    "    # Pobieranie ofert mieszkań\n",
    "    titles = [h2.a.text.strip() for h2 in soup.find_all(\"h2\", class_=\"title\") if h2.a]\n",
    "    prices = [p.text.replace(\"\\xa0\", \" \").strip() for p in soup.find_all(\"span\", class_=\"price\")]\n",
    "\n",
    "    print(\"Titles:\", titles)\n",
    "    print(len(titles))\n",
    "    print(\"Prices:\", prices)\n",
    "    print(len(prices))\n",
    "\n",
    "    df = pd.DataFrame({\"Title\": titles, \"Price\": prices})\n",
    "\n",
    "    # Dopisanie do pliku CSV\n",
    "    df.to_csv(\"scraped_data.csv\", mode='a', header=not os.path.exists('scraped_data.csv'), index=False)\n",
    "else:\n",
    "    print(\"Failed to retrieve data.\")\n"
   ]
  }
 ],
 "metadata": {
  "colab": {
   "provenance": []
  },
  "kernelspec": {
   "display_name": "Python 3",
   "name": "python3"
  },
  "language_info": {
   "codemirror_mode": {
    "name": "ipython",
    "version": 3
   },
   "file_extension": ".py",
   "mimetype": "text/x-python",
   "name": "python",
   "nbconvert_exporter": "python",
   "pygments_lexer": "ipython3",
   "version": "3.9.23"
  },
  "papermill": {
   "default_parameters": {},
   "duration": 3.517865,
   "end_time": "2025-10-13T11:36:57.310763",
   "environment_variables": {},
   "exception": null,
   "input_path": "nb.ipynb",
   "output_path": "nbo.ipynb",
   "parameters": {},
   "start_time": "2025-10-13T11:36:53.792898",
   "version": "2.6.0"
  }
 },
 "nbformat": 4,
 "nbformat_minor": 5
}