{
 "cells": [
  {
   "cell_type": "code",
   "execution_count": 1,
   "id": "d3490835",
   "metadata": {
    "colab": {
     "base_uri": "https://localhost:8080/"
    },
    "execution": {
     "iopub.execute_input": "2025-07-15T05:53:43.763252Z",
     "iopub.status.busy": "2025-07-15T05:53:43.763044Z",
     "iopub.status.idle": "2025-07-15T05:53:45.688993Z",
     "shell.execute_reply": "2025-07-15T05:53:45.688296Z"
    },
    "id": "5pYh4c8j1w43",
    "outputId": "8a0dca73-64e5-4f0d-c493-2c5b38392363",
    "papermill": {
     "duration": 1.929081,
     "end_time": "2025-07-15T05:53:45.690099",
     "exception": false,
     "start_time": "2025-07-15T05:53:43.761018",
     "status": "completed"
    },
    "tags": []
   },
   "outputs": [
    {
     "name": "stdout",
     "output_type": "stream",
     "text": [
      "Status Code: 200\n",
      "Response Headers: {'Server': 'nginx', 'Date': 'Tue, 15 Jul 2025 05:53:45 GMT', 'Content-Type': 'text/html; charset=UTF-8', 'Transfer-Encoding': 'chunked', 'Vary': 'Accept-Encoding, User-Agent', 'Set-Cookie': 'FRSPSID=225hj3nh7hp79ae4iim2pkuiu3; path=/; domain=.sprzedajemy.pl; secure; HttpOnly, _items_per_page__offer_list=60; expires=Thu, 14-Aug-2025 05:53:45 GMT; Max-Age=2592000; path=/; domain=.sprzedajemy.pl; secure; httponly, observed_id=10062394406875ece94aefe5175836699704993588; expires=Sun, 15-Jul-2125 06:53:45 GMT; Max-Age=3155677200; path=/; domain=.sprzedajemy.pl; secure; httponly', 'Expires': 'Thu, 19 Nov 1981 08:52:00 GMT', 'Cache-Control': 'no-store, no-cache, must-revalidate, post-check=0, pre-check=0', 'Pragma': 'no-cache', 'Content-Encoding': 'gzip'}\n",
      "Response Text (first 2000 chars): <!DOCTYPE html><html xmlns=\"http://www.w3.org/1999/xhtml\" xml:lang=\"pl\" lang=\"pl\" class=\"no-js\" >\n",
      "<head>\n",
      "\t\t\t<!-- Google Tag Manager -->\n",
      "\t\t\t<script>(function(w,d,s,l,i){w[l]=w[l]||[];w[l].push({'gtm.start':\n",
      "\t\t\t\t\t\tnew Date().getTime(),event:'gtm.js'});var f=d.getElementsByTagName(s)[0],\n",
      "\t\t\t\t\tj=d.createElement(s),dl=l!='dataLayer'?'&l='+l:'';j.async=true;j.src=\n",
      "\t\t\t\t\t'https://www.googletagmanager.com/gtm.js?id='+i+dl\n",
      "\t\t\t\t\t\t\t\t\t    ;f.parentNode.insertBefore(j,f);\n",
      "\t\t\t\t    })(window,document,'script','dataLayer','GTM-P3S238');</script>\n",
      "\t\t\t<!-- End Google Tag Manager -->\n",
      "\t<title>Mieszkania Kraków na sprzedaż, wynajem - Sprzedajemy.pl</title><meta http-equiv=\"Content-Type\" content=\"text/html; charset=UTF-8\" >\n",
      "<meta http-equiv=\"X-UA-Compatible\" content=\"IE=edge\" >\n",
      "<meta name=\"description\" content=\"Ogłoszenia o tematyce:  w kategorii Mieszkania - Kupuj i sprzedawaj rzeczy używane i nowe w kategorii Mieszkania na Sprzedajemy.pl\" >\n",
      "<meta property=\"og:title\" content=\"Mieszkania Kraków na sprzedaż, wynajem - Sprzedajemy.pl\" >\n",
      "<meta property=\"og:type\" content=\"website\" >\n",
      "<meta property=\"og:image\" content=\"https://thumbs.img-sprzedajemy.pl/facebook/sprzedajemy.pl.png\" >\n",
      "<meta property=\"og:image:width\" content=\"200\" >\n",
      "<meta property=\"og:image:height\" content=\"200\" >\n",
      "<meta property=\"og:url\" content=\"https://sprzedajemy.pl/krakow/nieruchomosci/mieszkania\" >\n",
      "<meta property=\"og:site_name\" content=\"Sprzedajemy.pl\" >\n",
      "<meta property=\"fb:app_id\" content=\"173258269367442\" >\n",
      "<meta property=\"og:description\" content=\"Ogłoszenia o tematyce:  w kategorii Mieszkania - Kupuj i sprzedawaj rzeczy używane i nowe w kategorii Mieszkania na Sprzedajemy.pl\" >\n",
      "<meta name=\"robots\" content=\"noindex, follow\" >\t\t<script  async=\"async\" src=\"https://static.criteo.net/js/ld/publishertag.js\"></script>\n",
      "        <script  async=\"async\" src=\"https://ap.lijit.com/www/sovrn_beacon_standalone/sovrn_standalone_beacon.js?iid=13417409&amp;uid=sprzedajemy\" id=\"sBeacon\"></script>\n",
      "\t\t<script  async=\"async\" src=\"https://securepuba\n",
      "Titles: ['4pokoje 68m2 balkon KLIMA Śródmieście BEZ PROWIZJI od właściciela', '2-pokojowe mieszkanie na Zabłociu – ciche, świetna lokalizacja!', 'Super lokalizacja! TRAMWAJ, niski czynsz, balkon, Prądnik Czerwony/Huta', 'Wyjątkowe mieszkanie z widokiem na klasztor w Tyńcu i panoramę Tatr', 'Stylowy apartament z widokiem na panoramę Krakowa - od właściciela', 'Nowoczesny apartament z panoramicznym widokiem - od właściciela', 'Kraków, Stare Miasto sprzedaż/zamiana', '49m2, 3 pokoje, świeżo po remoncie, OD WŁAŚCICIELA', 'ŚWIETNIE SKOMUNIKOWANE, Z KLIMATEM, DODATKOWY METRAŻ', 'Wynajmę mieszkanie w Krakowie Bronowicach', 'Apartament, 2 pokoje, jadalnia, garaż,Krowodrza', 'Syndyk sprzeda udział 1/6 w lokalu mieszkalnym w Krakowie', 'Ogłoszenie mieszkanie Kraków prof. Michała Bobrzyńskiego 50.56m2 2 pokojowe', 'Mieszkanie, os. Na Stoku, 3 pokoje+kuchnia+GRATIS', 'Mieszkanie Kraków Imbramowska 37.02m 2 pokojowe', 'Mieszkanie do wynajęcia po generalnym remoncie os Tysiąclecia Kraków', 'WŁAŚCICIEL Na sprzedaż – trzypokojowe mieszkanie w znakomitej lokalizacji!', 'Mieszkanie Kraków 50m2 3 pokoje', 'TBS Rżąka Rydygiera 1 pokój 33 m2 parter ogródek', 'Do wynajęcia mieszkanie 55m2 3-pok Kraków', 'Do wynajęcia mieszkanie Kraków Tadeusza Makowskiego 36m2 2 pok', 'Mieszkanie sprzedam 54.98m2 3 pokoje Kraków Republiki Korczakowskiej', 'Mieszkanie 54.86m 3 pokoje Kraków os. Oświecenia', 'Mieszkanie do sprzedania 38.93m2 1 pokojowe Kraków', 'Mieszkanie 50m2 2-pok Kraków prof. Michała Bobrzyńskiego', 'Mieszkanie Kraków Polonijna 38m2 2 pokoje', 'Mieszkanie Kraków 36m2 2-pokojowe', 'Mieszkanie Kraków 66.91m2 4 pokoje', 'Ogłoszenie mieszkanie 46.02m2 2 pokojowe Kraków os. Avia', 'Mieszkanie Kraków 27m2 2 pokoje', 'Nowe budownictwo. 2 pokoje ekskluzywnie odnowione', 'Mieszkanie Ruczaj Bobrzynskiego', 'Oferta sprzedaży mieszkania 49m2 3 pokojowe Kraków', 'Mieszkanie Kraków Radzikowskiego 73m2 3 pokojowe', 'Mieszkanie na sprzedaż ul. Wróblewskiego, Kraków, Stare Miasto _ 16 000zl/…', 'Mieszkanie sprzedam 38m2 Kraków os. Jagiellońskie', 'Mieszkanie 64m2 3 pokojowe Kraków', 'Mieszkanie, w Kamienicy po remoncie na rogu ul. Jana Sobieskiego', 'Wyjątkowe 3 pokoje 60 m² w Krakowie-Bronowicach | Premium | Gotowe!', 'Mieszkanie na wynajem', 'Mieszkanie Os. Avia Kraków, widok na góry', 'Ogłoszenie mieszkanie 57.62m2 4 pokoje Kraków', 'Mieszkanie Kraków Rydlówka 42.88m2 3-pokojowe', 'Mieszkanie do wynajęcia', 'Stare Miasto 32m2 KLIMA Wawel wykończone Kazimierz wysokie ROI', 'Kraków Stare Miasto 62 m2 KLIMA Wawel wykończone Kazimierz INWESTYCYJNE', 'Bieńczyce - 3 pokoje, balkon, jasna kuchnia', '2 POKOJE z klimatem | Dąbska | TAURON Arena | Balkon | aż 55 m²!', 'Pet Friendly - mieszkanie do wynajęcia na Czyżynach 30m² od zaraz', 'Bezpośrednio sprzedam mieszkanie Kraków ul. Batorego', '2 POKOJE z klimatem | Dąbska | TAURON Arena | Balkon', 'Słoneczne mieszkanko z dużym balkonem', 'Nowoczesne 3-pokojowe mieszkanie 48 m² – Pachońskiego / od zaraz', 'Sprzedam piękne mieszkanie Kraków borek Fałecki', 'Wynajmę mieszkanie na Starym Mieście', '2 pokoje z garderobą - bez barier - bez prowizji!', '2- pokojowe mieszkanie | K. Kołłątajowskiej | 57m2', 'Mieszkanie 3 pokojowe, Galicyjska Kraków Czyżyny, 61m2', 'OKAZJA Kraków Centrum KAZIMIERZ 3 pokoje 50m2', '2-pokojowe mieszkanie po remoncie | PROMOCJA | ul Bronowicka']\n",
      "60\n",
      "Prices: ['1 850 000 zł', '519 000 zł', '565 000 zł', '779 000 zł', '897 000 zł', '997 000 zł', '2 153 000 zł', '669 000 zł', '599 000 zł', '3 000 zł', '3 800 zł', '66 500 zł', '2 600 zł', '648 000 zł', '2 800 zł', '3 000 zł', '650 000 zł', '719 000 zł', '195 000 zł', '5 500 zł', '3 000 zł', '780 000 zł', '729 000 zł', '729 000 zł', '749 000 zł', '599 000 zł', '449 000 zł', '1 040 000 zł', '799 000 zł', '2 200 zł', '539 000 zł', '580 000 zł', '640 000 zł', '797 000 zł', '1 968 000 zł', '475 000 zł', '815 000 zł', '886 000 zł', '1 220 000 zł', '2 500 zł', '998 000 zł', '1 194 174 zł', '1 000 176 zł', '1 900 zł', '989 000 zł', '1 828 000 zł', '745 000 zł', '3 700 zł', '2 050 zł', '1 650 000 zł', '3 700 zł', '699 000 zł', '3 500 zł', '599 000 zł', '3 100 zł', '630 000 zł', '645 000 zł', '1 067 500 zł', '659 000 zł', '699 999 zł']\n",
      "60\n"
     ]
    }
   ],
   "source": [
    "import requests\n",
    "from bs4 import BeautifulSoup\n",
    "import pandas as pd\n",
    "import os\n",
    "\n",
    "url = \"https://sprzedajemy.pl/krakow/nieruchomosci/mieszkania?offset=0&items_per_page=60\"\n",
    "\n",
    "headers = {\n",
    "    \"User-Agent\": \"Mozilla/5.0 (Windows NT 10.0; Win64; x64) AppleWebKit/537.36 (KHTML, like Gecko) Chrome/58.0.3029.110 Safari/537.36\",\n",
    "    \"Accept\": \"text/html,application/xhtml+xml,application/xml;q=0.9,image/webp,image/apng,*/*;q=0.8\",\n",
    "    \"Accept-Encoding\": \"gzip, deflate, br\",\n",
    "    \"Accept-Language\": \"en-US,en;q=0.9,pl;q=0.8\",\n",
    "    \"Connection\": \"keep-alive\"\n",
    "}\n",
    "\n",
    "response = requests.get(url, headers=headers)\n",
    "response = requests.get(url, headers=headers)\n",
    "\n",
    "# Debugowanie odpowiedzi\n",
    "print(f\"Status Code: {response.status_code}\")\n",
    "print(f\"Response Headers: {response.headers}\")\n",
    "print(f\"Response Text (first 2000 chars): {response.text[:2000]}\")\n",
    "\n",
    "# Jeśli odpowiedź jest poprawna, wykonaj webscraping\n",
    "if response.status_code == 200:\n",
    "    soup = BeautifulSoup(response.content, \"html.parser\")\n",
    "\n",
    "    # Pobieranie ofert mieszkań\n",
    "    titles = [h2.a.text.strip() for h2 in soup.find_all(\"h2\", class_=\"title\") if h2.a]\n",
    "    prices = [p.text.replace(\"\\xa0\", \" \").strip() for p in soup.find_all(\"span\", class_=\"price\")]\n",
    "\n",
    "    print(\"Titles:\", titles)\n",
    "    print(len(titles))\n",
    "    print(\"Prices:\", prices)\n",
    "    print(len(prices))\n",
    "\n",
    "    df = pd.DataFrame({\"Title\": titles, \"Price\": prices})\n",
    "\n",
    "    # Dopisanie do pliku CSV\n",
    "    df.to_csv(\"scraped_data.csv\", mode='a', header=not os.path.exists('scraped_data.csv'), index=False)\n",
    "else:\n",
    "    print(\"Failed to retrieve data.\")\n"
   ]
  }
 ],
 "metadata": {
  "colab": {
   "provenance": []
  },
  "kernelspec": {
   "display_name": "Python 3",
   "name": "python3"
  },
  "language_info": {
   "codemirror_mode": {
    "name": "ipython",
    "version": 3
   },
   "file_extension": ".py",
   "mimetype": "text/x-python",
   "name": "python",
   "nbconvert_exporter": "python",
   "pygments_lexer": "ipython3",
   "version": "3.9.23"
  },
  "papermill": {
   "default_parameters": {},
   "duration": 3.116741,
   "end_time": "2025-07-15T05:53:45.906609",
   "environment_variables": {},
   "exception": null,
   "input_path": "nb.ipynb",
   "output_path": "nbo.ipynb",
   "parameters": {},
   "start_time": "2025-07-15T05:53:42.789868",
   "version": "2.6.0"
  }
 },
 "nbformat": 4,
 "nbformat_minor": 5
}