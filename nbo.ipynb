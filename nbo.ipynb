{
 "cells": [
  {
   "cell_type": "code",
   "execution_count": 1,
   "id": "5d4adf0c",
   "metadata": {
    "colab": {
     "base_uri": "https://localhost:8080/"
    },
    "execution": {
     "iopub.execute_input": "2025-10-17T15:55:47.978905Z",
     "iopub.status.busy": "2025-10-17T15:55:47.978630Z",
     "iopub.status.idle": "2025-10-17T15:55:50.458559Z",
     "shell.execute_reply": "2025-10-17T15:55:50.457881Z"
    },
    "id": "5pYh4c8j1w43",
    "outputId": "8a0dca73-64e5-4f0d-c493-2c5b38392363",
    "papermill": {
     "duration": 2.483391,
     "end_time": "2025-10-17T15:55:50.459621",
     "exception": false,
     "start_time": "2025-10-17T15:55:47.976230",
     "status": "completed"
    },
    "tags": []
   },
   "outputs": [
    {
     "name": "stdout",
     "output_type": "stream",
     "text": [
      "Status Code: 200\n",
      "Response Headers: {'Server': 'nginx', 'Date': 'Fri, 17 Oct 2025 15:55:50 GMT', 'Content-Type': 'text/html; charset=UTF-8', 'Transfer-Encoding': 'chunked', 'Vary': 'Accept-Encoding, User-Agent', 'Set-Cookie': 'FRSPSID=jnc8saf96m4of8bs2v3q0b9ff0; path=/; domain=.sprzedajemy.pl; secure; HttpOnly, _items_per_page__offer_list=60; expires=Sun, 16-Nov-2025 15:55:49 GMT; Max-Age=2592000; path=/; domain=.sprzedajemy.pl; secure; httponly, observed_id=145752546568f2670608f1d3200455897797576993; expires=Wed, 17-Oct-2125 16:55:50 GMT; Max-Age=3155677200; path=/; domain=.sprzedajemy.pl; secure; httponly', 'Expires': 'Thu, 19 Nov 1981 08:52:00 GMT', 'Cache-Control': 'no-store, no-cache, must-revalidate, post-check=0, pre-check=0', 'Pragma': 'no-cache', 'Content-Encoding': 'gzip'}\n",
      "Response Text (first 2000 chars): <!DOCTYPE html><html xmlns=\"http://www.w3.org/1999/xhtml\" xml:lang=\"pl\" lang=\"pl\" class=\"no-js\" >\n",
      "<head>\n",
      "\t\t\t<!-- Google Tag Manager -->\n",
      "\t\t\t<script>(function(w,d,s,l,i){w[l]=w[l]||[];w[l].push({'gtm.start':\n",
      "\t\t\t\t\t\tnew Date().getTime(),event:'gtm.js'});var f=d.getElementsByTagName(s)[0],\n",
      "\t\t\t\t\tj=d.createElement(s),dl=l!='dataLayer'?'&l='+l:'';j.async=true;j.src=\n",
      "\t\t\t\t\t'https://www.googletagmanager.com/gtm.js?id='+i+dl\n",
      "\t\t\t\t\t\t\t\t\t    ;f.parentNode.insertBefore(j,f);\n",
      "\t\t\t\t    })(window,document,'script','dataLayer','GTM-P3S238');</script>\n",
      "\t\t\t<!-- End Google Tag Manager -->\n",
      "\t<title>Mieszkania Kraków na sprzedaż, wynajem - Sprzedajemy.pl</title><meta http-equiv=\"Content-Type\" content=\"text/html; charset=UTF-8\" >\n",
      "<meta http-equiv=\"X-UA-Compatible\" content=\"IE=edge\" >\n",
      "<meta name=\"description\" content=\"Ogłoszenia o tematyce:  w kategorii Mieszkania - Kupuj i sprzedawaj rzeczy używane i nowe w kategorii Mieszkania na Sprzedajemy.pl\" >\n",
      "<meta property=\"og:title\" content=\"Mieszkania Kraków na sprzedaż, wynajem - Sprzedajemy.pl\" >\n",
      "<meta property=\"og:type\" content=\"website\" >\n",
      "<meta property=\"og:image\" content=\"https://thumbs.img-sprzedajemy.pl/facebook/sprzedajemy.pl.png\" >\n",
      "<meta property=\"og:image:width\" content=\"200\" >\n",
      "<meta property=\"og:image:height\" content=\"200\" >\n",
      "<meta property=\"og:url\" content=\"https://sprzedajemy.pl/krakow/nieruchomosci/mieszkania\" >\n",
      "<meta property=\"og:site_name\" content=\"Sprzedajemy.pl\" >\n",
      "<meta property=\"fb:app_id\" content=\"173258269367442\" >\n",
      "<meta property=\"og:description\" content=\"Ogłoszenia o tematyce:  w kategorii Mieszkania - Kupuj i sprzedawaj rzeczy używane i nowe w kategorii Mieszkania na Sprzedajemy.pl\" >\n",
      "<meta name=\"robots\" content=\"noindex, follow\" >\t\t<script  async=\"async\" src=\"https://static.criteo.net/js/ld/publishertag.js\"></script>\n",
      "        <script  async=\"async\" src=\"https://ap.lijit.com/www/sovrn_beacon_standalone/sovrn_standalone_beacon.js?iid=13417409&amp;uid=sprzedajemy\" id=\"sBeacon\"></script>\n",
      "\t\t<script  async=\"async\" src=\"https://securepuba\n",
      "Titles: ['Mieszkanie z widokiem na góry', 'Grzegorzki mieszkanie na sprzedaż 30 m', 'Mieszkanie 3-pokojowe Zakrzówek Ruczaj ul. Pychowicka wynajem od właścicie…', 'Kraków, Stare Miasto sprzedaż/zamiana', 'Mieszkanie Wzgórza Krzesławickie bez prowizji.', 'Piękne 2 pokojowe mieszkanie w Centrum', 'Do sprzedaży mieszkanie Kraków Kantrowicka 51.41m2 3 pokoje', 'Oferta sprzedaży mieszkania 57.1m2 3-pokojowe Kraków Na Błonie', 'Mieszkanie 71.45m2 4 pokoje Kraków Piasta Kołodzieja', 'Mieszkanie Kraków Wadowicka 45.27m 2-pok', 'Mieszkanie 50.95m2 Kraków Wadowicka', 'Mieszkanie sprzedam 34.79m2 2 pokoje Kraków Kantrowicka', 'Mieszkanie 64.82m2 3 pokojowe Kraków', 'Mieszkanie do sprzedania Kraków Erazma Jerzmanowskiego 39.2m2 2 pokoje', 'Mieszkanie 93.14 metry 4-pokojowe Kraków', 'Mieszkanie Kraków 44.28m2 2-pokojowe', 'Mieszkanie 73.62m2 Kraków', 'Sprzedam mieszkanie Kraków 56.09m2 3 pokoje', 'Sprzedam mieszkanie 64.89m2 4 pokoje Kraków Kantrowicka', 'Mieszkanie Kraków Pękowicka 64.92 metry 4 pokoje', 'Mieszkanie 38.51m2 2-pokojowe Kraków', 'Mieszkanie 37.8m2 2 pokoje Kraków Na Błonie', 'Ogłoszenie mieszkanie Kraków 70.36m2 3-pokojowe', 'Mieszkanie 45.38 metrów Kraków Wadowicka', 'Mieszkanie 34.97m2 1 pokój Kraków ul. Aleksandry', 'Oferta sprzedaży mieszkania 66.75m 4 pokoje Kraków', 'Oferta sprzedaży mieszkania Kraków Bukowa 46.95m2 2 pokojowe', 'Mieszkanie 32.79m2 1 pokojowe Kraków', 'Sprzedam mieszkanie 38.07m2 2 pokoje Kraków Na Błonie', 'Sprzedam mieszkanie 31.74m2 1 pokój Kraków Babińskiego', 'Mieszkanie Kraków Ludwinowska 110m2 3 pokojowe', 'Mieszkanie Kraków 50.64m2 3-pok', 'Mieszkanie Kraków 29 listopada - okolice 35.26m2 2 pok', 'Ogłoszenie mieszkanie Kraków Babińskiego 72.4m2 3 pok', 'Mieszkanie Kraków Zdzisława Przebindowskiego 113.08m2', 'Mieszkanie 72.12m2 Kraków', 'Oferta sprzedaży mieszkania Kraków Babińskiego 83.9m2 3 pokoje', 'Oferta sprzedaży mieszkania 68.05m2 4-pokojowe Kraków Pękowicka', 'Mieszkanie Kraków Babińskiego 59.52m2 3 pokojowe', 'Mieszkanie 62.62m2 4 pokojowe Kraków', 'Mieszkanie Kraków Na Błonie 41.41m2 2-pokojowe', 'Mieszkanie Kraków Wadowicka 62.46m2 5 pokoi', 'Mieszkanie 41.12m2 1 pok Kraków Na Błonie', 'Mieszkanie 68.78m2 3 pokojowe Kraków Wadowicka', 'Mieszkanie do sprzedania 70.67m2 4 pokojowe Kraków Wadowicka', 'Ogłoszenie mieszkanie 49.63m2 3-pokojowe Kraków Piasta Kołodzieja', 'Mieszkanie Kraków Pękowicka 39.09m2 2 pokojowe', 'Mieszkanie 38.76m2 Kraków Pękowicka', 'Mieszkanie Kraków Praska 138.7m2 5 pokojowe', 'Mieszkanie do sprzedania 70.88m2 3-pok Kraków Babińskiego', 'Do sprzedaży mieszkanie Kraków 44.29m2 2 pok', 'Mieszkanie Kraków 72.56m 2-pokojowe', 'Oferta sprzedaży mieszkania Kraków Myczkowskiego 35.31m2', 'Mieszkanie 38.65 metrów 2 pokoje Kraków Na Błonie', 'Oferta sprzedaży mieszkania Kraków 47.88m2 3-pokojowe', 'Mieszkanie Kraków Babińskiego 72.4m2', 'Mieszkanie do sprzedania 35.05m2 2-pokojowe Kraków', 'Mieszkanie 40.1m 2-pokojowe Kraków Na Błonie', 'Sprzedam mieszkanie Kraków Dąbrowskiego 41.3m2 2 pokoje', 'Mieszkanie 52.07m2 Kraków']\n",
      "60\n",
      "Prices: ['265 000 zł', '549 000 zł', '3 000 zł', '2 015 000 zł', '670 000 zł', '759 900 zł', '771 150 zł', '1 054 637 zł', '907 415 zł', '846 549 zł', '886 530 zł', '479 232 zł', '1 350 000 zł', '585 000 zł', '1 350 530 zł', '677 484 zł', '1 148 472 zł', '729 170 zł', '811 125 zł', '918 618 zł', '729 817 zł', '732 256 zł', '1 150 000 zł', '821 378 zł', '525 000 zł', '895 000 zł', '582 056 zł', '619 731 zł', '729 007 zł', '599 886 zł', '10 000 zł', '738 078 zł', '672 315 zł', '1 194 600 zł', '1 895 801 zł', '1 132 000 zł', '1 334 010 zł', '952 700 zł', '982 080 zł', '890 769 zł', '730 704 zł', '1 093 050 zł', '737 476 zł', '1 114 236 zł', '1 201 390 zł', '719 635 zł', '619 576 zł', '616 284 zł', '2 798 000 zł', '1 169 520 zł', '668 779 zł', '1 226 264 zł', '640 000 zł', '779 918 zł', '705 033 zł', '1 245 280 zł', '508 225 zł', '723 609 zł', '813 381 zł', '866 772 zł']\n",
      "60\n"
     ]
    }
   ],
   "source": [
    "import requests\n",
    "from bs4 import BeautifulSoup\n",
    "import pandas as pd\n",
    "import os\n",
    "\n",
    "url = \"https://sprzedajemy.pl/krakow/nieruchomosci/mieszkania?offset=0&items_per_page=60\"\n",
    "\n",
    "headers = {\n",
    "    \"User-Agent\": \"Mozilla/5.0 (Windows NT 10.0; Win64; x64) AppleWebKit/537.36 (KHTML, like Gecko) Chrome/58.0.3029.110 Safari/537.36\",\n",
    "    \"Accept\": \"text/html,application/xhtml+xml,application/xml;q=0.9,image/webp,image/apng,*/*;q=0.8\",\n",
    "    \"Accept-Encoding\": \"gzip, deflate, br\",\n",
    "    \"Accept-Language\": \"en-US,en;q=0.9,pl;q=0.8\",\n",
    "    \"Connection\": \"keep-alive\"\n",
    "}\n",
    "\n",
    "response = requests.get(url, headers=headers)\n",
    "response = requests.get(url, headers=headers)\n",
    "\n",
    "# Debugowanie odpowiedzi\n",
    "print(f\"Status Code: {response.status_code}\")\n",
    "print(f\"Response Headers: {response.headers}\")\n",
    "print(f\"Response Text (first 2000 chars): {response.text[:2000]}\")\n",
    "\n",
    "# Jeśli odpowiedź jest poprawna, wykonaj webscraping\n",
    "if response.status_code == 200:\n",
    "    soup = BeautifulSoup(response.content, \"html.parser\")\n",
    "\n",
    "    # Pobieranie ofert mieszkań\n",
    "    titles = [h2.a.text.strip() for h2 in soup.find_all(\"h2\", class_=\"title\") if h2.a]\n",
    "    prices = [p.text.replace(\"\\xa0\", \" \").strip() for p in soup.find_all(\"span\", class_=\"price\")]\n",
    "\n",
    "    print(\"Titles:\", titles)\n",
    "    print(len(titles))\n",
    "    print(\"Prices:\", prices)\n",
    "    print(len(prices))\n",
    "\n",
    "    df = pd.DataFrame({\"Title\": titles, \"Price\": prices})\n",
    "\n",
    "    # Dopisanie do pliku CSV\n",
    "    df.to_csv(\"scraped_data.csv\", mode='a', header=not os.path.exists('scraped_data.csv'), index=False)\n",
    "else:\n",
    "    print(\"Failed to retrieve data.\")\n"
   ]
  }
 ],
 "metadata": {
  "colab": {
   "provenance": []
  },
  "kernelspec": {
   "display_name": "Python 3",
   "name": "python3"
  },
  "language_info": {
   "codemirror_mode": {
    "name": "ipython",
    "version": 3
   },
   "file_extension": ".py",
   "mimetype": "text/x-python",
   "name": "python",
   "nbconvert_exporter": "python",
   "pygments_lexer": "ipython3",
   "version": "3.9.23"
  },
  "papermill": {
   "default_parameters": {},
   "duration": 3.636164,
   "end_time": "2025-10-17T15:55:50.676479",
   "environment_variables": {},
   "exception": null,
   "input_path": "nb.ipynb",
   "output_path": "nbo.ipynb",
   "parameters": {},
   "start_time": "2025-10-17T15:55:47.040315",
   "version": "2.6.0"
  }
 },
 "nbformat": 4,
 "nbformat_minor": 5
}