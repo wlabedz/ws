{
 "cells": [
  {
   "cell_type": "code",
   "execution_count": 1,
   "id": "131ec791",
   "metadata": {
    "colab": {
     "base_uri": "https://localhost:8080/"
    },
    "execution": {
     "iopub.execute_input": "2025-08-22T14:20:02.736241Z",
     "iopub.status.busy": "2025-08-22T14:20:02.735895Z",
     "iopub.status.idle": "2025-08-22T14:20:05.456207Z",
     "shell.execute_reply": "2025-08-22T14:20:05.455601Z"
    },
    "id": "5pYh4c8j1w43",
    "outputId": "8a0dca73-64e5-4f0d-c493-2c5b38392363",
    "papermill": {
     "duration": 2.723905,
     "end_time": "2025-08-22T14:20:05.457373",
     "exception": false,
     "start_time": "2025-08-22T14:20:02.733468",
     "status": "completed"
    },
    "tags": []
   },
   "outputs": [
    {
     "name": "stdout",
     "output_type": "stream",
     "text": [
      "Status Code: 200\n",
      "Response Headers: {'Server': 'nginx', 'Date': 'Fri, 22 Aug 2025 14:20:05 GMT', 'Content-Type': 'text/html; charset=UTF-8', 'Transfer-Encoding': 'chunked', 'Vary': 'Accept-Encoding, User-Agent', 'Set-Cookie': 'FRSPSID=8kpt7h2bakdglp82uvg4rtg664; path=/; domain=.sprzedajemy.pl; secure; HttpOnly, _items_per_page__offer_list=60; expires=Sun, 21-Sep-2025 14:20:04 GMT; Max-Age=2592000; path=/; domain=.sprzedajemy.pl; secure; httponly, observed_id=11477457368a87c94e3af24208698206760886552; expires=Wed, 22-Aug-2125 15:20:04 GMT; Max-Age=3155677200; path=/; domain=.sprzedajemy.pl; secure; httponly', 'Expires': 'Thu, 19 Nov 1981 08:52:00 GMT', 'Cache-Control': 'no-store, no-cache, must-revalidate, post-check=0, pre-check=0', 'Pragma': 'no-cache', 'Content-Encoding': 'gzip'}\n",
      "Response Text (first 2000 chars): <!DOCTYPE html><html xmlns=\"http://www.w3.org/1999/xhtml\" xml:lang=\"pl\" lang=\"pl\" class=\"no-js\" >\n",
      "<head>\n",
      "\t\t\t<!-- Google Tag Manager -->\n",
      "\t\t\t<script>(function(w,d,s,l,i){w[l]=w[l]||[];w[l].push({'gtm.start':\n",
      "\t\t\t\t\t\tnew Date().getTime(),event:'gtm.js'});var f=d.getElementsByTagName(s)[0],\n",
      "\t\t\t\t\tj=d.createElement(s),dl=l!='dataLayer'?'&l='+l:'';j.async=true;j.src=\n",
      "\t\t\t\t\t'https://www.googletagmanager.com/gtm.js?id='+i+dl\n",
      "\t\t\t\t\t\t\t\t\t    ;f.parentNode.insertBefore(j,f);\n",
      "\t\t\t\t    })(window,document,'script','dataLayer','GTM-P3S238');</script>\n",
      "\t\t\t<!-- End Google Tag Manager -->\n",
      "\t<title>Mieszkania Kraków na sprzedaż, wynajem - Sprzedajemy.pl</title><meta http-equiv=\"Content-Type\" content=\"text/html; charset=UTF-8\" >\n",
      "<meta http-equiv=\"X-UA-Compatible\" content=\"IE=edge\" >\n",
      "<meta name=\"description\" content=\"Ogłoszenia o tematyce:  w kategorii Mieszkania - Kupuj i sprzedawaj rzeczy używane i nowe w kategorii Mieszkania na Sprzedajemy.pl\" >\n",
      "<meta property=\"og:title\" content=\"Mieszkania Kraków na sprzedaż, wynajem - Sprzedajemy.pl\" >\n",
      "<meta property=\"og:type\" content=\"website\" >\n",
      "<meta property=\"og:image\" content=\"https://thumbs.img-sprzedajemy.pl/facebook/sprzedajemy.pl.png\" >\n",
      "<meta property=\"og:image:width\" content=\"200\" >\n",
      "<meta property=\"og:image:height\" content=\"200\" >\n",
      "<meta property=\"og:url\" content=\"https://sprzedajemy.pl/krakow/nieruchomosci/mieszkania\" >\n",
      "<meta property=\"og:site_name\" content=\"Sprzedajemy.pl\" >\n",
      "<meta property=\"fb:app_id\" content=\"173258269367442\" >\n",
      "<meta property=\"og:description\" content=\"Ogłoszenia o tematyce:  w kategorii Mieszkania - Kupuj i sprzedawaj rzeczy używane i nowe w kategorii Mieszkania na Sprzedajemy.pl\" >\n",
      "<meta name=\"robots\" content=\"noindex, follow\" >\t\t<script  async=\"async\" src=\"https://static.criteo.net/js/ld/publishertag.js\"></script>\n",
      "        <script  async=\"async\" src=\"https://ap.lijit.com/www/sovrn_beacon_standalone/sovrn_standalone_beacon.js?iid=13417409&amp;uid=sprzedajemy\" id=\"sBeacon\"></script>\n",
      "\t\t<script  async=\"async\" src=\"https://securepuba\n",
      "Titles: ['2-pokojowe mieszkanie po remoncie | PROMOCJA | ul Bronowicka', '3 niezależne lokale z KW– inwestycja z potencjałem', 'Kawalerka Salwator Centrum POD INWESTYCJE', 'Mieszkanie na sprzedaż/zamiana 39m2', 'Kraków, Stare Miasto sprzedaż/zamiana', 'Mieszkanie 59.63 metry Kraków', 'Mieszkanie 37.8m2 2 pokoje Kraków Na Błonie', 'Ogłoszenie mieszkanie Kraków 70.36m2 3-pokojowe', 'Mieszkanie 37.49 metrów 2 pok Kraków', 'Mieszkanie 72.4m2 3-pok Kraków', 'Sprzedaż mieszkania 70.88m2 3 pok Kraków', 'Sprzedam mieszkanie 51.97m2 3 pokoje Kraków', 'Mieszkanie 57.09m2 3 pokoje Kraków Na Błonie', 'Sprzedam mieszkanie 64.89m2 4 pokoje Kraków Kantrowicka', 'Mieszkanie 35.46 metrów 2-pokojowe Kraków 29 listopada - okolice', 'Mieszkanie 72.12m2 Kraków', 'Mieszkanie 70.96m2 4 pokojowe Kraków', 'Mieszkanie 79.3m2 3 pokoje Kraków Babińskiego', 'Mieszkanie 43.35m2 2-pok Kraków Wadowicka', 'Mieszkanie Kraków Wadowicka 50.95m2 2 pokoje', 'Mieszkanie 51.43m2 Kraków Babińskiego', 'Mieszkanie 48.28m2 3 pok Kraków Pękowicka', 'Oferta sprzedaży mieszkania 90.38m2 4 pokojowe Kraków', 'Mieszkanie na sprzedaż Kraków Na Błonie 38.09m2 2 pokojowe', 'Mieszkanie Kraków 38.19m2 2 pokoje', 'Mieszkanie Kraków Kantrowicka 59.75m2 4-pok', 'Ogłoszenie mieszkanie Kraków 39.05m2 2 pokojowe', 'Oferta sprzedaży mieszkania Kraków 37.54m2 2 pokojowe', 'Mieszkanie 39.1m2 2-pokojowe Kraków', 'Do sprzedaży mieszkanie Kraków Kantrowicka 51.41m2 3 pokoje', 'Oferta sprzedaży mieszkania 62.06m2 3 pokoje Kraków Wadowicka', 'Do sprzedaży mieszkanie Kraków Olszanicka 151.83m2 7-pokojowe', 'Oferta sprzedaży mieszkania 37.93 metry 2 pok Kraków Na Błonie', 'Mieszkanie Kraków Na Błonie 40.02m2 2-pokojowe', 'Mieszkanie 53.68m2 2 pokoje Kraków', 'Mieszkanie 51.41m2 Kraków', 'Mieszkanie 45.27m2 2-pok Kraków Wadowicka', 'Oferta sprzedaży mieszkania 48.58m2 3 pok Kraków Piasta Kołodzieja', 'Mieszkanie 51.41m2 3 pokoje Kraków Kantrowicka', 'Mieszkanie 40.15m2 2 pokoje Kraków Pękowicka', 'Mieszkanie 62.46 metrów Kraków', 'Oferta sprzedaży mieszkania Kraków 94.68m2 4-pok', 'Oferta sprzedaży mieszkania Kraków Babińskiego 31.74m2 1-pok', 'Mieszkanie 63.99m2 4 pok Kraków Pękowicka', 'Mieszkanie na sprzedaż Kraków 51.31 metrów 2 pokojowe', 'Mieszkanie Kraków 29 listopada - okolice 35.26m2 2 pok', 'Mieszkanie do sprzedania 58.27 metrów 2 pokoje Kraków', 'Mieszkanie 58m2 3-pok Kraków ul. dr. Jana Piltza', 'Sprzedam mieszkanie 59.85m2 3-pokojowe Kraków Babińskiego', 'Mieszkanie 27.42m2 Kraków', 'Mieszkanie 50.23m2 3-pok Kraków Piasta Kołodzieja', 'Mieszkanie do sprzedania 70.88m2 3-pok Kraków Babińskiego', 'Oferta sprzedaży mieszkania Kraków Na Błonie 69.8m2 3 pokojowe', 'Mieszkanie 50.86m2 2 pokoje Kraków', 'Do sprzedaży mieszkanie Kraków Kantrowicka 51.41m2 3 pokoje', 'Oferta sprzedaży mieszkania Kraków Pękowicka 40.56m2 2 pokoje', 'Mieszkanie sprzedam Kraków 90.38m2 4 pokoje', 'Mieszkanie 43.35m2 2-pok Kraków Wadowicka', 'Sprzedam mieszkanie 64.42m2 3-pokojowe Kraków', 'Oferta sprzedaży mieszkania Kraków 30.2m2 1 pokój']\n",
      "60\n",
      "Prices: ['710 000 zł', '265 000 zł', '428 824 zł', '526 000 zł', '2 083 000 zł', '986 876 zł', '762 766 zł', '1 150 000 zł', '771 956 zł', '1 295 960 zł', '1 119 904 zł', '857 505 zł', '1 057 763 zł', '770 568 zł', '633 331 zł', '1 132 000 zł', '872 808 zł', '1 276 730 zł', '788 970 zł', '855 960 zł', '889 739 zł', '796 620 zł', '1 418 966 zł', '786 253 zł', '656 868 zł', '823 056 zł', '663 850 zł', '765 252 zł', '662 745 zł', '659 333 zł', '1 073 638 zł', '2 383 737 zł', '756 589 zł', '751 895 zł', '923 296 zł', '659 333 zł', '828 441 zł', '694 694 zł', '634 913 zł', '680 542 zł', '1 105 542 zł', '1 435 706 zł', '615 756 zł', '1 027 039 zł', '918 449 zł', '672 315 zł', '664 734 zł', '1 049 000 zł', '957 600 zł', '472 995 zł', '738 381 zł', '1 169 520 zł', '1 147 721 zł', '910 394 zł', '732 592 zł', '683 436 zł', '1 464 156 zł', '797 640 zł', '1 114 466 zł', '785 200 zł']\n",
      "60\n"
     ]
    }
   ],
   "source": [
    "import requests\n",
    "from bs4 import BeautifulSoup\n",
    "import pandas as pd\n",
    "import os\n",
    "\n",
    "url = \"https://sprzedajemy.pl/krakow/nieruchomosci/mieszkania?offset=0&items_per_page=60\"\n",
    "\n",
    "headers = {\n",
    "    \"User-Agent\": \"Mozilla/5.0 (Windows NT 10.0; Win64; x64) AppleWebKit/537.36 (KHTML, like Gecko) Chrome/58.0.3029.110 Safari/537.36\",\n",
    "    \"Accept\": \"text/html,application/xhtml+xml,application/xml;q=0.9,image/webp,image/apng,*/*;q=0.8\",\n",
    "    \"Accept-Encoding\": \"gzip, deflate, br\",\n",
    "    \"Accept-Language\": \"en-US,en;q=0.9,pl;q=0.8\",\n",
    "    \"Connection\": \"keep-alive\"\n",
    "}\n",
    "\n",
    "response = requests.get(url, headers=headers)\n",
    "response = requests.get(url, headers=headers)\n",
    "\n",
    "# Debugowanie odpowiedzi\n",
    "print(f\"Status Code: {response.status_code}\")\n",
    "print(f\"Response Headers: {response.headers}\")\n",
    "print(f\"Response Text (first 2000 chars): {response.text[:2000]}\")\n",
    "\n",
    "# Jeśli odpowiedź jest poprawna, wykonaj webscraping\n",
    "if response.status_code == 200:\n",
    "    soup = BeautifulSoup(response.content, \"html.parser\")\n",
    "\n",
    "    # Pobieranie ofert mieszkań\n",
    "    titles = [h2.a.text.strip() for h2 in soup.find_all(\"h2\", class_=\"title\") if h2.a]\n",
    "    prices = [p.text.replace(\"\\xa0\", \" \").strip() for p in soup.find_all(\"span\", class_=\"price\")]\n",
    "\n",
    "    print(\"Titles:\", titles)\n",
    "    print(len(titles))\n",
    "    print(\"Prices:\", prices)\n",
    "    print(len(prices))\n",
    "\n",
    "    df = pd.DataFrame({\"Title\": titles, \"Price\": prices})\n",
    "\n",
    "    # Dopisanie do pliku CSV\n",
    "    df.to_csv(\"scraped_data.csv\", mode='a', header=not os.path.exists('scraped_data.csv'), index=False)\n",
    "else:\n",
    "    print(\"Failed to retrieve data.\")\n"
   ]
  }
 ],
 "metadata": {
  "colab": {
   "provenance": []
  },
  "kernelspec": {
   "display_name": "Python 3",
   "name": "python3"
  },
  "language_info": {
   "codemirror_mode": {
    "name": "ipython",
    "version": 3
   },
   "file_extension": ".py",
   "mimetype": "text/x-python",
   "name": "python",
   "nbconvert_exporter": "python",
   "pygments_lexer": "ipython3",
   "version": "3.9.23"
  },
  "papermill": {
   "default_parameters": {},
   "duration": 3.852323,
   "end_time": "2025-08-22T14:20:05.674183",
   "environment_variables": {},
   "exception": null,
   "input_path": "nb.ipynb",
   "output_path": "nbo.ipynb",
   "parameters": {},
   "start_time": "2025-08-22T14:20:01.821860",
   "version": "2.6.0"
  }
 },
 "nbformat": 4,
 "nbformat_minor": 5
}