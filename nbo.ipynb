{
 "cells": [
  {
   "cell_type": "code",
   "execution_count": 1,
   "id": "5688922b",
   "metadata": {
    "colab": {
     "base_uri": "https://localhost:8080/"
    },
    "execution": {
     "iopub.execute_input": "2025-08-08T14:57:55.939427Z",
     "iopub.status.busy": "2025-08-08T14:57:55.939110Z",
     "iopub.status.idle": "2025-08-08T14:57:57.943133Z",
     "shell.execute_reply": "2025-08-08T14:57:57.942453Z"
    },
    "id": "5pYh4c8j1w43",
    "outputId": "8a0dca73-64e5-4f0d-c493-2c5b38392363",
    "papermill": {
     "duration": 2.007745,
     "end_time": "2025-08-08T14:57:57.944314",
     "exception": false,
     "start_time": "2025-08-08T14:57:55.936569",
     "status": "completed"
    },
    "tags": []
   },
   "outputs": [
    {
     "name": "stdout",
     "output_type": "stream",
     "text": [
      "Status Code: 200\n",
      "Response Headers: {'Server': 'nginx', 'Date': 'Fri, 08 Aug 2025 14:57:57 GMT', 'Content-Type': 'text/html; charset=UTF-8', 'Transfer-Encoding': 'chunked', 'Vary': 'Accept-Encoding, User-Agent', 'Set-Cookie': 'FRSPSID=65tlfdcarvlu1jcftpnlcl17h6; path=/; domain=.sprzedajemy.pl; secure; HttpOnly, _items_per_page__offer_list=60; expires=Sun, 07-Sep-2025 14:57:57 GMT; Max-Age=2592000; path=/; domain=.sprzedajemy.pl; secure; httponly, observed_id=26296135468961075824df3198670343934316012; expires=Wed, 08-Aug-2125 15:57:57 GMT; Max-Age=3155677200; path=/; domain=.sprzedajemy.pl; secure; httponly', 'Expires': 'Thu, 19 Nov 1981 08:52:00 GMT', 'Cache-Control': 'no-store, no-cache, must-revalidate, post-check=0, pre-check=0', 'Pragma': 'no-cache', 'Content-Encoding': 'gzip'}\n",
      "Response Text (first 2000 chars): <!DOCTYPE html><html xmlns=\"http://www.w3.org/1999/xhtml\" xml:lang=\"pl\" lang=\"pl\" class=\"no-js\" >\n",
      "<head>\n",
      "\t\t\t<!-- Google Tag Manager -->\n",
      "\t\t\t<script>(function(w,d,s,l,i){w[l]=w[l]||[];w[l].push({'gtm.start':\n",
      "\t\t\t\t\t\tnew Date().getTime(),event:'gtm.js'});var f=d.getElementsByTagName(s)[0],\n",
      "\t\t\t\t\tj=d.createElement(s),dl=l!='dataLayer'?'&l='+l:'';j.async=true;j.src=\n",
      "\t\t\t\t\t'https://www.googletagmanager.com/gtm.js?id='+i+dl\n",
      "\t\t\t\t\t\t\t\t\t    ;f.parentNode.insertBefore(j,f);\n",
      "\t\t\t\t    })(window,document,'script','dataLayer','GTM-P3S238');</script>\n",
      "\t\t\t<!-- End Google Tag Manager -->\n",
      "\t<title>Mieszkania Kraków na sprzedaż, wynajem - Sprzedajemy.pl</title><meta http-equiv=\"Content-Type\" content=\"text/html; charset=UTF-8\" >\n",
      "<meta http-equiv=\"X-UA-Compatible\" content=\"IE=edge\" >\n",
      "<meta name=\"description\" content=\"Ogłoszenia o tematyce:  w kategorii Mieszkania - Kupuj i sprzedawaj rzeczy używane i nowe w kategorii Mieszkania na Sprzedajemy.pl\" >\n",
      "<meta property=\"og:title\" content=\"Mieszkania Kraków na sprzedaż, wynajem - Sprzedajemy.pl\" >\n",
      "<meta property=\"og:type\" content=\"website\" >\n",
      "<meta property=\"og:image\" content=\"https://thumbs.img-sprzedajemy.pl/facebook/sprzedajemy.pl.png\" >\n",
      "<meta property=\"og:image:width\" content=\"200\" >\n",
      "<meta property=\"og:image:height\" content=\"200\" >\n",
      "<meta property=\"og:url\" content=\"https://sprzedajemy.pl/krakow/nieruchomosci/mieszkania\" >\n",
      "<meta property=\"og:site_name\" content=\"Sprzedajemy.pl\" >\n",
      "<meta property=\"fb:app_id\" content=\"173258269367442\" >\n",
      "<meta property=\"og:description\" content=\"Ogłoszenia o tematyce:  w kategorii Mieszkania - Kupuj i sprzedawaj rzeczy używane i nowe w kategorii Mieszkania na Sprzedajemy.pl\" >\n",
      "<meta name=\"robots\" content=\"noindex, follow\" >\t\t<script  async=\"async\" src=\"https://static.criteo.net/js/ld/publishertag.js\"></script>\n",
      "        <script  async=\"async\" src=\"https://ap.lijit.com/www/sovrn_beacon_standalone/sovrn_standalone_beacon.js?iid=13417409&amp;uid=sprzedajemy\" id=\"sBeacon\"></script>\n",
      "\t\t<script  async=\"async\" src=\"https://securepuba\n"
     ]
    },
    {
     "name": "stdout",
     "output_type": "stream",
     "text": [
      "Titles: ['Dom - Kraków Tonie - Zielona okolica - 123 m2 | 5 - pok. | Ogród | Taras |…', 'Mieszkanie 3-pokojowe. Duży balkon. Dobra komunikacja, Od właściciela', '3 niezależne lokale z KW– inwestycja z potencjałem', 'Mieszkanie na sprzedaż/zamiana 39m2', 'Mieszkanie Wola Justowska /Bielany 36m2', '4pokoje 68m2 balkon KLIMA Śródmieście BEZ PROWIZJI od właściciela', 'Oferta sprzedaży mieszkania 77.12m2 3-pokojowe Kraków Reduta', 'Mieszkanie 37.57m2 2 pokoje Kraków Na Błonie', 'Mieszkanie 124.37m2 4 pokoje Kraków Podłużna - okolice', 'Mieszkanie Kraków Gramatyka 47.8m2 3-pok', 'Sprzedaż mieszkania 79.3m2 Kraków Babińskiego', 'Mieszkanie 41.16 metrów Kraków', 'Mieszkanie Kraków 45.27m2 2 pokoje', 'Mieszkanie Kraków Heleny 50m2', 'Ogłoszenie mieszkanie 37.85m2 2 pok Kraków Pękowicka', 'Oferta sprzedaży mieszkania Kraków 29 listopada - okolice 37.85m2 2 pokoje', 'Mieszkanie na sprzedaż Kraków 59.73m2 4 pokoje', 'Mieszkanie Kraków 26m2 1 pokój', 'Mieszkanie 48.2m Kraków', 'Sprzedam mieszkanie Kraków Kantrowicka 51.42m2 3 pokoje', 'Mieszkanie Kraków 49.63m', 'Oferta sprzedaży mieszkania Kraków 27.28m2 1 pokojowe', 'Sprzedam mieszkanie Kraków 62.46m2 3 pokoje', 'Mieszkanie Kraków Dąbrowskiego 58.2m2 3 pokoje', 'Oferta sprzedaży mieszkania Kraków Wadowicka 43.35m2 2 pokoje', 'Mieszkanie 56.92m 3 pokoje Kraków', 'Sprzedaż mieszkania 38.16m2 2-pokojowe Kraków Na Błonie', 'Oferta sprzedaży mieszkania 35.12m2 2-pokojowe Kraków', 'Oferta sprzedaży mieszkania 41.18m2 2-pokojowe Kraków Na Błonie', 'Wynajmę mieszkanie Kraków Bronowicka 64m2 3 pokoje', 'Mieszkanie 94.61 metrów 4 pokojowe Kraków Olszanicka', 'Oferta sprzedaży mieszkania 62.46m2 3 pokoje Kraków Wadowicka', 'Ogłoszenie mieszkanie 51.73m2 3 pokojowe Kraków', 'Oferta sprzedaży mieszkania 71.46m2 3 pok Kraków Na Błonie', 'Oferta wynajmu mieszkania Kraków Krowoderskich Zuchów 45m2 2 pokojowe', 'Mieszkanie 94.68m2 4 pokoje Kraków', 'Mieszkanie 55.72m2 2 pokoje Kraków Tuchowska', 'Mieszkanie 59.82m2 4 pokoje Kraków', 'Mieszkanie Kraków Na Błonie 26.73m2 1-pokojowe', 'Mieszkanie 56.3m2 3 pokojowe Kraków Pękowicka', 'Mieszkanie 59.85m2 3 pokoje Kraków Babińskiego', 'Oferta sprzedaży mieszkania Kraków Nałkowskiego 54.26m2 3 pokoje', 'Do sprzedaży mieszkanie Kraków 41.64 metry 2 pokojowe', 'Mieszkanie Kraków Pękowicka 40.89m2', 'Ogłoszenie mieszkanie Kraków 64.65m2 4 pokoje', 'Mieszkanie Kraków Pękowicka 62.4m2 4-pokojowe', 'Ogłoszenie mieszkanie Kraków Wadowicka 67.42m2 3 pokoje', 'Mieszkanie Kraków Pękowicka 51.64m2 3-pokojowe', 'Mieszkanie Kraków 40.61m2 1 pokój', 'Mieszkanie 63.68m2 4 pok Kraków', 'Oferta sprzedaży mieszkania 62.82m2 3 pokoje Kraków Pękowicka', 'Mieszkanie 52.14m 3 pokojowe Kraków Pękowicka', 'Mieszkanie sprzedam Kraków Pękowicka 53.6m2 4-pokojowe', 'Oferta sprzedaży mieszkania 38.92m2 2 pokoje Kraków Centralna', 'Mieszkanie 65.46m2 3-pok Kraków Wadowicka', 'Ogłoszenie mieszkanie 33.25m 1 pokój Kraków Babińskiego', 'Oferta sprzedaży mieszkania 36.21m2 2-pok Kraków', 'Mieszkanie 60.05m2 4 pokoje Kraków', 'Oferta sprzedaży mieszkania 63.45m2 3-pokojowe Kraków Wadowicka', 'Mieszkanie 52.32m2 3 pokojowe Kraków']\n",
      "60\n",
      "Prices: ['2 275 000 zł', '3 500 zł', '279 000 zł', '526 000 zł', '487 000 zł', '1 850 000 zł', '1 342 000 zł', '765 864 zł', '2 176 475 zł', '940 000 zł', '1 308 450 zł', '778 541 zł', '837 495 zł', '660 000 zł', '658 590 zł', '646 141 zł', '985 545 zł', '499 000 zł', '797 710 zł', '635 987 zł', '724 598 zł', '474 672 zł', '1 093 050 zł', '1 123 888 zł', '810 645 zł', '1 043 059 zł', '770 030 zł', '600 552 zł', '779 784 zł', '3 990 zł', '1 336 358 zł', '1 055 574 zł', '848 372 zł', '1 188 022 zł', '3 000 zł', '1 387 058 zł', '770 000 zł', '969 084 zł', '565 045 zł', '895 170 zł', '987 525 zł', '999 000 zł', '722 454 zł', '693 085 zł', '1 047 330 zł', '1 004 640 zł', '1 092 204 zł', '852 060 zł', '670 065 zł', '1 034 800 zł', '1 014 543 zł', '855 096 zł', '873 680 zł', '695 000 zł', '1 099 728 zł', '628 425 zł', '615 570 zł', '984 820 zł', '1 053 270 zł', '855 432 zł']\n",
      "60\n"
     ]
    }
   ],
   "source": [
    "import requests\n",
    "from bs4 import BeautifulSoup\n",
    "import pandas as pd\n",
    "import os\n",
    "\n",
    "url = \"https://sprzedajemy.pl/krakow/nieruchomosci/mieszkania?offset=0&items_per_page=60\"\n",
    "\n",
    "headers = {\n",
    "    \"User-Agent\": \"Mozilla/5.0 (Windows NT 10.0; Win64; x64) AppleWebKit/537.36 (KHTML, like Gecko) Chrome/58.0.3029.110 Safari/537.36\",\n",
    "    \"Accept\": \"text/html,application/xhtml+xml,application/xml;q=0.9,image/webp,image/apng,*/*;q=0.8\",\n",
    "    \"Accept-Encoding\": \"gzip, deflate, br\",\n",
    "    \"Accept-Language\": \"en-US,en;q=0.9,pl;q=0.8\",\n",
    "    \"Connection\": \"keep-alive\"\n",
    "}\n",
    "\n",
    "response = requests.get(url, headers=headers)\n",
    "response = requests.get(url, headers=headers)\n",
    "\n",
    "# Debugowanie odpowiedzi\n",
    "print(f\"Status Code: {response.status_code}\")\n",
    "print(f\"Response Headers: {response.headers}\")\n",
    "print(f\"Response Text (first 2000 chars): {response.text[:2000]}\")\n",
    "\n",
    "# Jeśli odpowiedź jest poprawna, wykonaj webscraping\n",
    "if response.status_code == 200:\n",
    "    soup = BeautifulSoup(response.content, \"html.parser\")\n",
    "\n",
    "    # Pobieranie ofert mieszkań\n",
    "    titles = [h2.a.text.strip() for h2 in soup.find_all(\"h2\", class_=\"title\") if h2.a]\n",
    "    prices = [p.text.replace(\"\\xa0\", \" \").strip() for p in soup.find_all(\"span\", class_=\"price\")]\n",
    "\n",
    "    print(\"Titles:\", titles)\n",
    "    print(len(titles))\n",
    "    print(\"Prices:\", prices)\n",
    "    print(len(prices))\n",
    "\n",
    "    df = pd.DataFrame({\"Title\": titles, \"Price\": prices})\n",
    "\n",
    "    # Dopisanie do pliku CSV\n",
    "    df.to_csv(\"scraped_data.csv\", mode='a', header=not os.path.exists('scraped_data.csv'), index=False)\n",
    "else:\n",
    "    print(\"Failed to retrieve data.\")\n"
   ]
  }
 ],
 "metadata": {
  "colab": {
   "provenance": []
  },
  "kernelspec": {
   "display_name": "Python 3",
   "name": "python3"
  },
  "language_info": {
   "codemirror_mode": {
    "name": "ipython",
    "version": 3
   },
   "file_extension": ".py",
   "mimetype": "text/x-python",
   "name": "python",
   "nbconvert_exporter": "python",
   "pygments_lexer": "ipython3",
   "version": "3.9.23"
  },
  "papermill": {
   "default_parameters": {},
   "duration": 3.097423,
   "end_time": "2025-08-08T14:57:58.162074",
   "environment_variables": {},
   "exception": null,
   "input_path": "nb.ipynb",
   "output_path": "nbo.ipynb",
   "parameters": {},
   "start_time": "2025-08-08T14:57:55.064651",
   "version": "2.6.0"
  }
 },
 "nbformat": 4,
 "nbformat_minor": 5
}