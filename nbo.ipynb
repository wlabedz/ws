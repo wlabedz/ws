{
 "cells": [
  {
   "cell_type": "code",
   "execution_count": 1,
   "id": "0753d0bd",
   "metadata": {
    "colab": {
     "base_uri": "https://localhost:8080/"
    },
    "execution": {
     "iopub.execute_input": "2025-09-05T15:29:12.565804Z",
     "iopub.status.busy": "2025-09-05T15:29:12.565611Z",
     "iopub.status.idle": "2025-09-05T15:29:14.780638Z",
     "shell.execute_reply": "2025-09-05T15:29:14.779877Z"
    },
    "id": "5pYh4c8j1w43",
    "outputId": "8a0dca73-64e5-4f0d-c493-2c5b38392363",
    "papermill": {
     "duration": 2.218209,
     "end_time": "2025-09-05T15:29:14.781762",
     "exception": false,
     "start_time": "2025-09-05T15:29:12.563553",
     "status": "completed"
    },
    "tags": []
   },
   "outputs": [
    {
     "name": "stdout",
     "output_type": "stream",
     "text": [
      "Status Code: 200\n",
      "Response Headers: {'Server': 'nginx', 'Date': 'Fri, 05 Sep 2025 15:29:14 GMT', 'Content-Type': 'text/html; charset=UTF-8', 'Transfer-Encoding': 'chunked', 'Vary': 'Accept-Encoding, User-Agent', 'Set-Cookie': 'FRSPSID=4r5f8d39356ou4t6oviopoeq60; path=/; domain=.sprzedajemy.pl; secure; HttpOnly, _items_per_page__offer_list=60; expires=Sun, 05-Oct-2025 15:29:14 GMT; Max-Age=2592000; path=/; domain=.sprzedajemy.pl; secure; httponly, observed_id=29829682768bb01ca59aa06142845048151512821; expires=Wed, 05-Sep-2125 16:29:14 GMT; Max-Age=3155677200; path=/; domain=.sprzedajemy.pl; secure; httponly', 'Expires': 'Thu, 19 Nov 1981 08:52:00 GMT', 'Cache-Control': 'no-store, no-cache, must-revalidate, post-check=0, pre-check=0', 'Pragma': 'no-cache', 'Content-Encoding': 'gzip'}\n",
      "Response Text (first 2000 chars): <!DOCTYPE html><html xmlns=\"http://www.w3.org/1999/xhtml\" xml:lang=\"pl\" lang=\"pl\" class=\"no-js\" >\n",
      "<head>\n",
      "\t\t\t<!-- Google Tag Manager -->\n",
      "\t\t\t<script>(function(w,d,s,l,i){w[l]=w[l]||[];w[l].push({'gtm.start':\n",
      "\t\t\t\t\t\tnew Date().getTime(),event:'gtm.js'});var f=d.getElementsByTagName(s)[0],\n",
      "\t\t\t\t\tj=d.createElement(s),dl=l!='dataLayer'?'&l='+l:'';j.async=true;j.src=\n",
      "\t\t\t\t\t'https://www.googletagmanager.com/gtm.js?id='+i+dl\n",
      "\t\t\t\t\t\t\t\t\t    ;f.parentNode.insertBefore(j,f);\n",
      "\t\t\t\t    })(window,document,'script','dataLayer','GTM-P3S238');</script>\n",
      "\t\t\t<!-- End Google Tag Manager -->\n",
      "\t<title>Mieszkania Kraków na sprzedaż, wynajem - Sprzedajemy.pl</title><meta http-equiv=\"Content-Type\" content=\"text/html; charset=UTF-8\" >\n",
      "<meta http-equiv=\"X-UA-Compatible\" content=\"IE=edge\" >\n",
      "<meta name=\"description\" content=\"Ogłoszenia o tematyce:  w kategorii Mieszkania - Kupuj i sprzedawaj rzeczy używane i nowe w kategorii Mieszkania na Sprzedajemy.pl\" >\n",
      "<meta property=\"og:title\" content=\"Mieszkania Kraków na sprzedaż, wynajem - Sprzedajemy.pl\" >\n",
      "<meta property=\"og:type\" content=\"website\" >\n",
      "<meta property=\"og:image\" content=\"https://thumbs.img-sprzedajemy.pl/facebook/sprzedajemy.pl.png\" >\n",
      "<meta property=\"og:image:width\" content=\"200\" >\n",
      "<meta property=\"og:image:height\" content=\"200\" >\n",
      "<meta property=\"og:url\" content=\"https://sprzedajemy.pl/krakow/nieruchomosci/mieszkania\" >\n",
      "<meta property=\"og:site_name\" content=\"Sprzedajemy.pl\" >\n",
      "<meta property=\"fb:app_id\" content=\"173258269367442\" >\n",
      "<meta property=\"og:description\" content=\"Ogłoszenia o tematyce:  w kategorii Mieszkania - Kupuj i sprzedawaj rzeczy używane i nowe w kategorii Mieszkania na Sprzedajemy.pl\" >\n",
      "<meta name=\"robots\" content=\"noindex, follow\" >\t\t<script  async=\"async\" src=\"https://static.criteo.net/js/ld/publishertag.js\"></script>\n",
      "        <script  async=\"async\" src=\"https://ap.lijit.com/www/sovrn_beacon_standalone/sovrn_standalone_beacon.js?iid=13417409&amp;uid=sprzedajemy\" id=\"sBeacon\"></script>\n",
      "\t\t<script  async=\"async\" src=\"https://securepuba\n",
      "Titles: ['Mieszkanie z widokiem na góry', 'Wyjątkowe mieszkanie z widokiem na klasztor w Tyńcu i panoramę Tatr', 'Stylowy apartament z widokiem na panoramę Krakowa - od właściciela', 'Nowoczesny apartament z panoramicznym widokiem - od właściciela', 'Kraków, Stare Miasto sprzedaż/zamiana', 'Stylowy lokal na parterze przy Krowoderskiej', '2-pokojowe mieszkanie po remoncie | PROMOCJA | ul Bronowicka', 'Oferta wynajmu mieszkania 35.84m2 2 pokoje Kraków Romanowicza', 'Mieszkanie Kraków 24.3m 1-pokojowe', 'Mieszkanie Kraków Babińskiego 72.4m2 3 pokoje', 'Mieszkanie Kraków Babińskiego 32.79 metrów 1 pokojowe', 'Sprzedam mieszkanie 43.35m2 2-pok Kraków', 'Sprzedaż mieszkania Kraków Osiedle Jagiellońskie 54.46m2 3 pokoje', 'Mieszkanie Kraków 39.08m2 2 pokoje', 'Mieszkanie 48.24m2 2 pokoje Kraków', 'Sprzedaż mieszkania Kraków Na Błonie 64.86m2', 'Mieszkanie sprzedam 79.28m2 4 pokoje Kraków', 'Mieszkanie 94.68m2 4 pokoje Kraków', 'Mieszkanie Kraków Na Błonie 37.49m2 2 pokoje', 'Mieszkanie 72.4m2 3 pokoje Kraków Babińskiego', 'Mieszkanie Kraków Kantrowicka 34.79 metrów 2 pokoje', 'Mieszkanie 83.66m2 5 pokoi Kraków Wadowicka', 'Oferta sprzedaży mieszkania Kraków Jana Kantego Federowicza 48.6m 3 pokoje', 'Mieszkanie Kraków 39.76m2', 'Mieszkanie do sprzedania Kraków 39.29m2 2 pok', 'Apartament nad Wisłą na Starym Podgórzu', 'Mieszkanie 60.68m2 2-pokojowe Kraków', 'Mieszkanie sprzedam Kraków Kantrowicka 77.54m2 5 pokoi', 'Oferta sprzedaży mieszkania 35.25 metrów 2-pok Kraków', 'Oferta sprzedaży mieszkania Kraków 65m2 3 pokoje', 'Mieszkanie 27.49m2 Kraków', 'Mieszkanie Kraków Wadowicka 61.82m2 3 pokoje', 'Mieszkanie Kraków Babińskiego 46.66 metrów 2-pokojowe', 'Sprzedam mieszkanie 80.41m2 4-pokojowe Kraków Na Błonie', 'Mieszkanie Kraków 68.78m 3 pokoje', 'Oferta wynajmu mieszkania 38.95m 2 pokoje Kraków Jana Kantego Federowicza', 'Mieszkanie sprzedam Kraków Wadowicka 42.61m2 2 pokoje', 'Mieszkanie Kraków 52.26m2 3 pokoje', 'Sprzedaż mieszkania 40.09m2 Kraków Pękowicka', 'Do sprzedaży mieszkanie Kraków Wadowicka 44.08m2 2-pokojowe', 'Mieszkanie Kraków Wadowicka 64.42m 3-pokojowe', 'Mieszkanie Kraków Gramatyka 47.8m2 3-pok', 'Mieszkanie 67.9 metrów 4 pokojowe Kraków', 'Mieszkanie 37.91m2 2-pokojowe Kraków Pękowicka', 'Oferta sprzedaży mieszkania Kraków Na Błonie 72.6m2 2 pokoje', 'Mieszkanie Kraków Pękowicka 65.47m2 4 pokoje', 'Mieszkanie Kraków Wadowicka 75.19 metrów 4 pok', 'Mieszkanie 70.83m2 3 pokoje Kraków Na Błonie', 'Oferta sprzedaży mieszkania Kraków 71.45m2 4 pokoje', 'Sprzedam mieszkanie Kraków Orzeszkowej 79m2 3-pok', 'Mieszkanie Kraków Kantrowicka 36.09m', 'Mieszkanie 41.06m2 2 pok Kraków', 'Wynajmę mieszkanie Kraków Wojciecha Bogusławskiego 45m2 2-pokojowe', 'Mieszkanie sprzedam 37.49 metrów 2-pokojowe Kraków', 'Oferta sprzedaży mieszkania Kraków 29 listopada - okolice 37.85m2 2 pokoje', 'Mieszkanie Kraków Półłanki 48.6m2 2-pokojowe', 'Mieszkanie 51.91m2 3-pokojowe Kraków Pękowicka', 'Mieszkanie 61.89m2 4-pokojowe Kraków', 'Mieszkanie 38.19m 2 pokoje Kraków', 'Oferta sprzedaży mieszkania 79.28m2 4 pokoje Kraków Wadowicka']\n",
      "60\n",
      "Prices: ['265 000 zł', '779 000 zł', '890 000 zł', '997 000 zł', '2 083 000 zł', '1 800 000 zł', '710 000 zł', '3 005 zł', '399 000 zł', '1 245 280 zł', '636 126 zł', '827 985 zł', '795 000 zł', '662 406 zł', '820 000 zł', '1 126 229 zł', '1 308 120 zł', '1 387 058 zł', '750 662 zł', '1 245 280 zł', '495 757 zł', '1 321 828 zł', '890 000 zł', '671 944 zł', '664 001 zł', '1 049 000 zł', '807 177 zł', '883 956 zł', '711 518 zł', '879 000 zł', '475 577 zł', '1 057 122 zł', '858 544 zł', '1 354 265 zł', '1 072 968 zł', '3 000 zł', '807 459 zł', '857 064 zł', '677 521 zł', '806 664 zł', '1 101 582 zł', '940 000 zł', '1 083 005 zł', '657 738 zł', '1 229 408 zł', '1 050 793 zł', '1 300 787 zł', '1 150 208 zł', '885 980 zł', '1 450 000 zł', '514 282 zł', '786 011 zł', '4 200 zł', '637 330 zł', '646 141 zł', '569 000 zł', '856 515 zł', '999 523 zł', '656 868 zł', '1 292 264 zł']\n",
      "60\n"
     ]
    }
   ],
   "source": [
    "import requests\n",
    "from bs4 import BeautifulSoup\n",
    "import pandas as pd\n",
    "import os\n",
    "\n",
    "url = \"https://sprzedajemy.pl/krakow/nieruchomosci/mieszkania?offset=0&items_per_page=60\"\n",
    "\n",
    "headers = {\n",
    "    \"User-Agent\": \"Mozilla/5.0 (Windows NT 10.0; Win64; x64) AppleWebKit/537.36 (KHTML, like Gecko) Chrome/58.0.3029.110 Safari/537.36\",\n",
    "    \"Accept\": \"text/html,application/xhtml+xml,application/xml;q=0.9,image/webp,image/apng,*/*;q=0.8\",\n",
    "    \"Accept-Encoding\": \"gzip, deflate, br\",\n",
    "    \"Accept-Language\": \"en-US,en;q=0.9,pl;q=0.8\",\n",
    "    \"Connection\": \"keep-alive\"\n",
    "}\n",
    "\n",
    "response = requests.get(url, headers=headers)\n",
    "response = requests.get(url, headers=headers)\n",
    "\n",
    "# Debugowanie odpowiedzi\n",
    "print(f\"Status Code: {response.status_code}\")\n",
    "print(f\"Response Headers: {response.headers}\")\n",
    "print(f\"Response Text (first 2000 chars): {response.text[:2000]}\")\n",
    "\n",
    "# Jeśli odpowiedź jest poprawna, wykonaj webscraping\n",
    "if response.status_code == 200:\n",
    "    soup = BeautifulSoup(response.content, \"html.parser\")\n",
    "\n",
    "    # Pobieranie ofert mieszkań\n",
    "    titles = [h2.a.text.strip() for h2 in soup.find_all(\"h2\", class_=\"title\") if h2.a]\n",
    "    prices = [p.text.replace(\"\\xa0\", \" \").strip() for p in soup.find_all(\"span\", class_=\"price\")]\n",
    "\n",
    "    print(\"Titles:\", titles)\n",
    "    print(len(titles))\n",
    "    print(\"Prices:\", prices)\n",
    "    print(len(prices))\n",
    "\n",
    "    df = pd.DataFrame({\"Title\": titles, \"Price\": prices})\n",
    "\n",
    "    # Dopisanie do pliku CSV\n",
    "    df.to_csv(\"scraped_data.csv\", mode='a', header=not os.path.exists('scraped_data.csv'), index=False)\n",
    "else:\n",
    "    print(\"Failed to retrieve data.\")\n"
   ]
  }
 ],
 "metadata": {
  "colab": {
   "provenance": []
  },
  "kernelspec": {
   "display_name": "Python 3",
   "name": "python3"
  },
  "language_info": {
   "codemirror_mode": {
    "name": "ipython",
    "version": 3
   },
   "file_extension": ".py",
   "mimetype": "text/x-python",
   "name": "python",
   "nbconvert_exporter": "python",
   "pygments_lexer": "ipython3",
   "version": "3.9.23"
  },
  "papermill": {
   "default_parameters": {},
   "duration": 3.352479,
   "end_time": "2025-09-05T15:29:14.998331",
   "environment_variables": {},
   "exception": null,
   "input_path": "nb.ipynb",
   "output_path": "nbo.ipynb",
   "parameters": {},
   "start_time": "2025-09-05T15:29:11.645852",
   "version": "2.6.0"
  }
 },
 "nbformat": 4,
 "nbformat_minor": 5
}