{
 "cells": [
  {
   "cell_type": "code",
   "execution_count": 1,
   "id": "a5b8dac2",
   "metadata": {
    "colab": {
     "base_uri": "https://localhost:8080/"
    },
    "execution": {
     "iopub.execute_input": "2025-06-15T06:44:43.636829Z",
     "iopub.status.busy": "2025-06-15T06:44:43.636538Z",
     "iopub.status.idle": "2025-06-15T06:44:45.727553Z",
     "shell.execute_reply": "2025-06-15T06:44:45.726829Z"
    },
    "id": "5pYh4c8j1w43",
    "outputId": "8a0dca73-64e5-4f0d-c493-2c5b38392363",
    "papermill": {
     "duration": 2.094969,
     "end_time": "2025-06-15T06:44:45.728778",
     "exception": false,
     "start_time": "2025-06-15T06:44:43.633809",
     "status": "completed"
    },
    "tags": []
   },
   "outputs": [
    {
     "name": "stdout",
     "output_type": "stream",
     "text": [
      "Status Code: 200\n",
      "Response Headers: {'Server': 'nginx', 'Date': 'Sun, 15 Jun 2025 06:44:45 GMT', 'Content-Type': 'text/html; charset=UTF-8', 'Transfer-Encoding': 'chunked', 'Vary': 'Accept-Encoding, User-Agent', 'Set-Cookie': 'FRSPSID=cubi9vpo4uc9claaljnuaphlp5; path=/; domain=.sprzedajemy.pl; secure; HttpOnly, _items_per_page__offer_list=60; expires=Tue, 15-Jul-2025 06:44:45 GMT; Max-Age=2592000; path=/; domain=.sprzedajemy.pl; secure; httponly, observed_id=486817936684e6bdd48b4c7104851828246685919; expires=Fri, 15-Jun-2125 07:44:45 GMT; Max-Age=3155677200; path=/; domain=.sprzedajemy.pl; secure; httponly', 'Expires': 'Thu, 19 Nov 1981 08:52:00 GMT', 'Cache-Control': 'no-store, no-cache, must-revalidate, post-check=0, pre-check=0', 'Pragma': 'no-cache', 'Content-Encoding': 'gzip'}\n",
      "Response Text (first 2000 chars): <!DOCTYPE html><html xmlns=\"http://www.w3.org/1999/xhtml\" xml:lang=\"pl\" lang=\"pl\" class=\"no-js\" >\n",
      "<head>\n",
      "\t\t\t<!-- Google Tag Manager -->\n",
      "\t\t\t<script>(function(w,d,s,l,i){w[l]=w[l]||[];w[l].push({'gtm.start':\n",
      "\t\t\t\t\t\tnew Date().getTime(),event:'gtm.js'});var f=d.getElementsByTagName(s)[0],\n",
      "\t\t\t\t\tj=d.createElement(s),dl=l!='dataLayer'?'&l='+l:'';j.async=true;j.src=\n",
      "\t\t\t\t\t'https://www.googletagmanager.com/gtm.js?id='+i+dl\n",
      "\t\t\t\t\t\t\t\t\t    ;f.parentNode.insertBefore(j,f);\n",
      "\t\t\t\t    })(window,document,'script','dataLayer','GTM-P3S238');</script>\n",
      "\t\t\t<!-- End Google Tag Manager -->\n",
      "\t<title>Mieszkania Kraków na sprzedaż, wynajem - Sprzedajemy.pl</title><meta http-equiv=\"Content-Type\" content=\"text/html; charset=UTF-8\" >\n",
      "<meta http-equiv=\"X-UA-Compatible\" content=\"IE=edge\" >\n",
      "<meta name=\"description\" content=\"Ogłoszenia o tematyce:  w kategorii Mieszkania - Kupuj i sprzedawaj rzeczy używane i nowe w kategorii Mieszkania na Sprzedajemy.pl\" >\n",
      "<meta property=\"og:title\" content=\"Mieszkania Kraków na sprzedaż, wynajem - Sprzedajemy.pl\" >\n",
      "<meta property=\"og:type\" content=\"website\" >\n",
      "<meta property=\"og:image\" content=\"https://thumbs.img-sprzedajemy.pl/facebook/sprzedajemy.pl.png\" >\n",
      "<meta property=\"og:image:width\" content=\"200\" >\n",
      "<meta property=\"og:image:height\" content=\"200\" >\n",
      "<meta property=\"og:url\" content=\"https://sprzedajemy.pl/krakow/nieruchomosci/mieszkania\" >\n",
      "<meta property=\"og:site_name\" content=\"Sprzedajemy.pl\" >\n",
      "<meta property=\"fb:app_id\" content=\"173258269367442\" >\n",
      "<meta property=\"og:description\" content=\"Ogłoszenia o tematyce:  w kategorii Mieszkania - Kupuj i sprzedawaj rzeczy używane i nowe w kategorii Mieszkania na Sprzedajemy.pl\" >\n",
      "<meta name=\"robots\" content=\"noindex, follow\" >\t\t<script  async=\"async\" src=\"https://static.criteo.net/js/ld/publishertag.js\"></script>\n",
      "        <script  async=\"async\" src=\"https://ap.lijit.com/www/sovrn_beacon_standalone/sovrn_standalone_beacon.js?iid=13417409&amp;uid=sprzedajemy\" id=\"sBeacon\"></script>\n",
      "\t\t<script  async=\"async\" src=\"https://securepuba\n",
      "Titles: ['Wyjątkowe mieszkanie z widokiem na klasztor w Tyńcu i panoramę Tatr', 'Stylowy apartament z widokiem na panoramę Krakowa - od właściciela', 'Nowoczesny apartament z panoramicznym widokiem - od właściciela', 'Mieszkanie na sprzedaż/zamiana 39m2', 'Nowe mieszkanie na sprzedaż 2-pokoje 38,6 m2 | Krowodrza - Kraków', 'Mieszkanie 4-pokoje Kraków - wolne od 1 Lipca 2025 r.', 'Mieszkanie 2 pokojowe', 'Stare Miasto 61,5 m2 KLIMA Wawel wykończone Kazimierz wysokie ROI', 'Stare Miasto 32m2 KLIMA Wawel wykończone Kazimierz wysokie ROI', 'Sprzedaż mieszkania Kraków 77.03m2 3-pokojowe', 'Wyjątkowe 2-pokojowe w sercu Kazimierza', 'Mieszkanie Kraków Wita Stwosza 21.62m2 1-pokojowe', '49m2, 3 pokoje, świeżo po remoncie, OD WŁAŚCICIELA', 'Mieszkanie 92.76m2 4 pokoje Kraków', 'Apartament, 2 pokoje, jadalnia, garaż,Krowodrza', 'Mieszkanie Kraków os. Piastów 92.69m2 4 pokoje', 'Mieszkanie Kraków 60.35m2 3-pok', 'Mieszkanie, os. Na Stoku, 3 pokoje+kuchnia+GRATIS', 'Oferta sprzedaży mieszkania Kraków os. Piastów 92.78m2', 'trzypokojowe do remontu: Aleja Pokoju/Nullo', 'Sprzedaż mieszkania Kraków 60.35m2 3-pokojowe', 'Mieszkanie 63.12m2 3-pok Kraków', 'Mieszkanie 63.12m2 3 pok Kraków os. Piastów', 'Wynajmę 2-pokojowe Ułanów', 'Mieszkanie 81.6m2 3-pok Kraków Armii Krajowej - okolice', 'Mieszkanie 66.72m2 3-pokojowe Kraków os. Piastów', 'Oferta sprzedaży mieszkania 70.75m2 3 pokojowe Kraków', 'Mieszkanie Kraków 77.16 metrów 3 pokoje', 'Mieszkanie Kraków os. Piastów 63.12m2 3 pok', 'Sprzedaż mieszkania 36.83m 2 pok Kraków', 'Mieszkanie Kraków os. Piastów 34.84m 2 pokoje', 'Mieszkanie Kraków 66.72m2', 'Mieszkanie 63.12m2 3-pokojowe Kraków', 'Oferta sprzedaży mieszkania 51.69m2 3-pok Kraków Józefa Łepkowskiego', 'Mieszkanie - 2 pokoje (47 m2) ul. Pychowicka (Kapelanka, Kobierzyńska)', 'Mieszkanie 59.45m2 Kraków os. Piastów', 'Mieszkanie Kraków 43.73m2 2-pokojowe', 'Mieszkanie Kraków os. Piastów 63.12m2 3 pok', 'Mieszkanie Kraków os. Piastów 63.12m2 3-pokojowe', 'Sprzedaż mieszkania Kraków os. Piastów 34.84 metry 2 pokoje', 'Mieszkanie 48.7m2 2 pokoje Kraków', 'Mieszkanie Kraków 58.68m2', 'Oferta sprzedaży mieszkania Kraków płk. Francesco Nullo 58m2 2-pok', 'Do sprzedaży mieszkanie 34.84m2 2-pok Kraków', 'Mieszkanie Kraków os. Piastów 66.72m2 3-pok', 'Mieszkanie do sprzedania 58.68m2 3 pokoje Kraków', 'Mieszkanie 63.12 metry 3 pokoje Kraków', 'Mieszkanie 36.83m2 2-pokojowe Kraków os. Piastów', 'Sprzedam mieszkanie Kraków os. Piastów 36.83m2 2-pokojowe', 'Oferta sprzedaży mieszkania 72.4m2 3 pokoje Kraków', 'Mieszkanie do sprzedania Kraków os. Piastów 60.35m2 3-pok', 'Mieszkanie 36.83m2 2-pokojowe Kraków os. Piastów', 'Mieszkanie 63.43m2 3 pokoje Kraków Józefa Łepkowskiego', '2-pokojowe mieszkanie na Prądniku Białym (ul. Siewna). PL/EN', 'Sprzedam mieszkanie w systemie TBS', 'Mieszkanie 80.17m2 4-pokojowe Kraków Józefa Łepkowskiego', 'Mieszkanie Kraków Armii Krajowej - okolice 93.92m2 4 pokoje', 'Mieszkanie 36.83m2 2 pokoje Kraków os. Piastów', 'Mieszkanie 49m2 2 pokoje Kraków Pszenna', 'Sprzedam mieszkanie 34.84m2 2-pokojowe Kraków']\n",
      "60\n",
      "Prices: ['779 000 zł', '897 000 zł', '997 000 zł', '548 000 zł', '799 000 zł', '4 800 zł', '489 000 zł', '1 782 885 zł', '989 000 zł', '1 600 000 zł', '3 200 zł', '432 400 zł', '669 000 zł', '946 152 zł', '3 800 zł', '945 438 zł', '736 270 zł', '648 000 zł', '946 356 zł', '685 000 zł', '736 270 zł', '789 000 zł', '789 000 zł', '2 650 zł', '1 546 320 zł', '813 984 zł', '1 291 188 zł', '1 361 874 zł', '789 000 zł', '589 280 zł', '567 892 zł', '813 984 zł', '789 000 zł', '842 547 zł', '3 150 zł', '749 070 zł', '634 085 zł', '789 000 zł', '770 064 zł', '578 344 zł', '647 710 zł', '733 500 zł', '1 495 000 zł', '578 344 zł', '834 000 zł', '739 368 zł', '770 064 zł', '600 329 zł', '611 378 zł', '868 800 zł', '718 165 zł', '600 329 zł', '1 033 909 zł', '863 900 zł', '184 000 zł', '1 435 043 zł', '2 254 080 zł', '622 427 zł', '750 000 zł', '588 796 zł']\n",
      "60\n"
     ]
    }
   ],
   "source": [
    "import requests\n",
    "from bs4 import BeautifulSoup\n",
    "import pandas as pd\n",
    "import os\n",
    "\n",
    "url = \"https://sprzedajemy.pl/krakow/nieruchomosci/mieszkania?offset=0&items_per_page=60\"\n",
    "\n",
    "headers = {\n",
    "    \"User-Agent\": \"Mozilla/5.0 (Windows NT 10.0; Win64; x64) AppleWebKit/537.36 (KHTML, like Gecko) Chrome/58.0.3029.110 Safari/537.36\",\n",
    "    \"Accept\": \"text/html,application/xhtml+xml,application/xml;q=0.9,image/webp,image/apng,*/*;q=0.8\",\n",
    "    \"Accept-Encoding\": \"gzip, deflate, br\",\n",
    "    \"Accept-Language\": \"en-US,en;q=0.9,pl;q=0.8\",\n",
    "    \"Connection\": \"keep-alive\"\n",
    "}\n",
    "\n",
    "response = requests.get(url, headers=headers)\n",
    "response = requests.get(url, headers=headers)\n",
    "\n",
    "# Debugowanie odpowiedzi\n",
    "print(f\"Status Code: {response.status_code}\")\n",
    "print(f\"Response Headers: {response.headers}\")\n",
    "print(f\"Response Text (first 2000 chars): {response.text[:2000]}\")\n",
    "\n",
    "# Jeśli odpowiedź jest poprawna, wykonaj webscraping\n",
    "if response.status_code == 200:\n",
    "    soup = BeautifulSoup(response.content, \"html.parser\")\n",
    "\n",
    "    # Pobieranie ofert mieszkań\n",
    "    titles = [h2.a.text.strip() for h2 in soup.find_all(\"h2\", class_=\"title\") if h2.a]\n",
    "    prices = [p.text.replace(\"\\xa0\", \" \").strip() for p in soup.find_all(\"span\", class_=\"price\")]\n",
    "\n",
    "    print(\"Titles:\", titles)\n",
    "    print(len(titles))\n",
    "    print(\"Prices:\", prices)\n",
    "    print(len(prices))\n",
    "\n",
    "    df = pd.DataFrame({\"Title\": titles, \"Price\": prices})\n",
    "\n",
    "    # Dopisanie do pliku CSV\n",
    "    df.to_csv(\"scraped_data.csv\", mode='a', header=not os.path.exists('scraped_data.csv'), index=False)\n",
    "else:\n",
    "    print(\"Failed to retrieve data.\")\n"
   ]
  }
 ],
 "metadata": {
  "colab": {
   "provenance": []
  },
  "kernelspec": {
   "display_name": "Python 3",
   "name": "python3"
  },
  "language_info": {
   "codemirror_mode": {
    "name": "ipython",
    "version": 3
   },
   "file_extension": ".py",
   "mimetype": "text/x-python",
   "name": "python",
   "nbconvert_exporter": "python",
   "pygments_lexer": "ipython3",
   "version": "3.9.22"
  },
  "papermill": {
   "default_parameters": {},
   "duration": 3.225098,
   "end_time": "2025-06-15T06:44:45.946936",
   "environment_variables": {},
   "exception": null,
   "input_path": "nb.ipynb",
   "output_path": "nbo.ipynb",
   "parameters": {},
   "start_time": "2025-06-15T06:44:42.721838",
   "version": "2.6.0"
  }
 },
 "nbformat": 4,
 "nbformat_minor": 5
}