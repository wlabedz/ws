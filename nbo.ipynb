{
 "cells": [
  {
   "cell_type": "code",
   "execution_count": 1,
   "id": "b9d8a108",
   "metadata": {
    "colab": {
     "base_uri": "https://localhost:8080/"
    },
    "execution": {
     "iopub.execute_input": "2025-10-15T15:41:34.837163Z",
     "iopub.status.busy": "2025-10-15T15:41:34.836929Z",
     "iopub.status.idle": "2025-10-15T15:41:37.583246Z",
     "shell.execute_reply": "2025-10-15T15:41:37.582504Z"
    },
    "id": "5pYh4c8j1w43",
    "outputId": "8a0dca73-64e5-4f0d-c493-2c5b38392363",
    "papermill": {
     "duration": 2.749644,
     "end_time": "2025-10-15T15:41:37.584397",
     "exception": false,
     "start_time": "2025-10-15T15:41:34.834753",
     "status": "completed"
    },
    "tags": []
   },
   "outputs": [
    {
     "name": "stdout",
     "output_type": "stream",
     "text": [
      "Status Code: 200\n",
      "Response Headers: {'Server': 'nginx', 'Date': 'Wed, 15 Oct 2025 15:41:37 GMT', 'Content-Type': 'text/html; charset=UTF-8', 'Transfer-Encoding': 'chunked', 'Vary': 'Accept-Encoding, User-Agent', 'Set-Cookie': 'FRSPSID=46ja4t06p23upl38dl5qd3ecf6; path=/; domain=.sprzedajemy.pl; secure; HttpOnly, _items_per_page__offer_list=60; expires=Fri, 14-Nov-2025 15:41:37 GMT; Max-Age=2592000; path=/; domain=.sprzedajemy.pl; secure; httponly, observed_id=149194883268efc0b1170af236351699571497783; expires=Mon, 15-Oct-2125 16:41:37 GMT; Max-Age=3155677200; path=/; domain=.sprzedajemy.pl; secure; httponly', 'Expires': 'Thu, 19 Nov 1981 08:52:00 GMT', 'Cache-Control': 'no-store, no-cache, must-revalidate, post-check=0, pre-check=0', 'Pragma': 'no-cache', 'Content-Encoding': 'gzip'}\n",
      "Response Text (first 2000 chars): <!DOCTYPE html><html xmlns=\"http://www.w3.org/1999/xhtml\" xml:lang=\"pl\" lang=\"pl\" class=\"no-js\" >\n",
      "<head>\n",
      "\t\t\t<!-- Google Tag Manager -->\n",
      "\t\t\t<script>(function(w,d,s,l,i){w[l]=w[l]||[];w[l].push({'gtm.start':\n",
      "\t\t\t\t\t\tnew Date().getTime(),event:'gtm.js'});var f=d.getElementsByTagName(s)[0],\n",
      "\t\t\t\t\tj=d.createElement(s),dl=l!='dataLayer'?'&l='+l:'';j.async=true;j.src=\n",
      "\t\t\t\t\t'https://www.googletagmanager.com/gtm.js?id='+i+dl\n",
      "\t\t\t\t\t\t\t\t\t    ;f.parentNode.insertBefore(j,f);\n",
      "\t\t\t\t    })(window,document,'script','dataLayer','GTM-P3S238');</script>\n",
      "\t\t\t<!-- End Google Tag Manager -->\n",
      "\t<title>Mieszkania Kraków na sprzedaż, wynajem - Sprzedajemy.pl</title><meta http-equiv=\"Content-Type\" content=\"text/html; charset=UTF-8\" >\n",
      "<meta http-equiv=\"X-UA-Compatible\" content=\"IE=edge\" >\n",
      "<meta name=\"description\" content=\"Ogłoszenia o tematyce:  w kategorii Mieszkania - Kupuj i sprzedawaj rzeczy używane i nowe w kategorii Mieszkania na Sprzedajemy.pl\" >\n",
      "<meta property=\"og:title\" content=\"Mieszkania Kraków na sprzedaż, wynajem - Sprzedajemy.pl\" >\n",
      "<meta property=\"og:type\" content=\"website\" >\n",
      "<meta property=\"og:image\" content=\"https://thumbs.img-sprzedajemy.pl/facebook/sprzedajemy.pl.png\" >\n",
      "<meta property=\"og:image:width\" content=\"200\" >\n",
      "<meta property=\"og:image:height\" content=\"200\" >\n",
      "<meta property=\"og:url\" content=\"https://sprzedajemy.pl/krakow/nieruchomosci/mieszkania\" >\n",
      "<meta property=\"og:site_name\" content=\"Sprzedajemy.pl\" >\n",
      "<meta property=\"fb:app_id\" content=\"173258269367442\" >\n",
      "<meta property=\"og:description\" content=\"Ogłoszenia o tematyce:  w kategorii Mieszkania - Kupuj i sprzedawaj rzeczy używane i nowe w kategorii Mieszkania na Sprzedajemy.pl\" >\n",
      "<meta name=\"robots\" content=\"noindex, follow\" >\t\t<script  async=\"async\" src=\"https://static.criteo.net/js/ld/publishertag.js\"></script>\n",
      "        <script  async=\"async\" src=\"https://ap.lijit.com/www/sovrn_beacon_standalone/sovrn_standalone_beacon.js?iid=13417409&amp;uid=sprzedajemy\" id=\"sBeacon\"></script>\n",
      "\t\t<script  async=\"async\" src=\"https://securepuba\n",
      "Titles: ['Mieszkanie z widokiem na góry', 'Kraków, Stare Miasto sprzedaż/zamiana', 'Mieszkanie Wzgórza Krzesławickie bez prowizji.', 'Sprzedam dwupokojowe mieszkanie os. Dywizjonu 303, 19C Kraków', 'Piękne 2 pokojowe mieszkanie w Centrum', 'Mieszkanie 3-pokojowe Zakrzówek Ruczaj wynajem na 9 miesięcy', 'studio w spokojnej okolicy (34.2m2 / 37m2)', 'Mieszkanie 61.15m2 3 pokoje Kraków Sebastiana Klonowica', 'Mieszkanie 2-pokojowe Z Jasną Kuchnią Kraków-Krowodrza, Umeblowane', 'Ruczaj - 2 pokojowe mieszkanie z ogródkiem', 'Apartament 3 pokoje w plombie ul. Lubelska Kraków sprzedam', 'Mieszkanie na sprzedaż 71.15m2 3-pok Kraków Józefa Łepkowskiego', 'BEZPOŚREDNIO z garażem 2-pok o pow. 46,39 m2 K-ów ul Rakowicka20J', 'Mieszkanie Kraków Ignacego Grabczaka 49.15m2 3 pokojowe', 'Mieszkanie Kraków 96m2 4-pokojowe', 'Mieszkanie 32.02m2 2-pokojowe Lusina Krakowska', '2 pokoje | 42 m² | Tramwaj | Balkon | Prądnik Biały | Górka Narodowa', 'Sprzedam mieszkanie/kawalerke', 'Kawalerka z ogródkiem do wynajęcia Ruczaj Kliny Zacisze', 'Mieszkanie Kraków Karmelicka 57m2', 'Prywatna Oferta Mieszkanie Kawalerka Wynajem', 'Ostatnie piętro z widokiem na Wawel – ul. Nullo, loggia', '3 pokoje, Os Piastów, bezpośrednio', 'Ogłoszenie mieszkanie 46m2 2 pokoje Kraków Bukowa', 'Mieszkanie 48.17m2 Kraków', 'Dla studenta lub na wynajem krótkoterminowy', 'Mieszkanie 47.83m2 2 pokoje Kraków', 'Mieszkanie na sprzedaż Kraków Halszki 35 metrów 1 pokój', 'WYNAJMĘ od zaraz mieszkanie 3 pokojowe-Krowodrza - Prądnik Biały-49 m2', 'Mieszkanie 103.89m2 3 pokoje Kraków Smocza', 'Mieszkanie 65.62 metry 2 pokojowe Kraków Imbramowska', 'Mieszkanie Kraków 47m2 2-pok', 'Mieszkanie na sprzedaż 44.7m2 2 pokoje Kraków Drukarska', 'Oferta sprzedaży mieszkania 72.4m2 3-pokojowe Kraków Babińskiego', 'Do sprzedaży mieszkanie 53.77m Kraków', 'Mieszkanie Kraków os. Piastów 51.59m2 3 pokoje', 'Oferta sprzedaży mieszkania Kraków 48.39 metrów 2-pokojowe', 'Oferta sprzedaży mieszkania 68.3m 3 pokojowe Kraków', 'Mieszkanie 72.4m2 3 pokoje Kraków Babińskiego', 'Oferta sprzedaży mieszkania Kraków 65.62m2 3-pokojowe', 'Mieszkanie 70.88m2 3 pokoje Kraków Babińskiego', 'Sprzedam mieszkanie Kraków Baziaka 49.3m2 2 pokoje', 'Sprzedam mieszkanie 42.44m2 2 pok Kraków Odrzańska', 'Mieszkanie Kraków os. Przy Arce 48.25m2 3-pok', 'Ogłoszenie mieszkanie 37m2 2-pokojowe Kraków Zubrzyckiego', 'Mieszkanie Kraków Lubomirskiego 33.16m2 2-pokojowe', 'Ogłoszenie mieszkanie Kraków 61.7m2 3-pok', 'Ogłoszenie mieszkanie 52.79 metrów 3 pok Kraków Rydlówka', 'Mieszkanie Kraków Vetulaniego 56.9 metrów 3 pokojowe', 'Mieszkanie 90m2 3 pokoje Kraków Juliusza Lea', 'Kawalerka do wynajęcia', 'Mieszkanie 45.65m2 2 pokoje Kraków Kwartowa', 'Rydlówka | 2 pokoje | balkon | nowy budynek', 'Mieszkanie 50.13m2 2-pok Kraków', 'Mieszkanie 31.74m2 2-pok Kraków Babińskiego', 'Mieszkanie 16.6m2 1-pokojowe Kraków Majora Pilota Stefana Janusa', 'Oferta sprzedaży mieszkania 66.62m2 3 pokoje Kraków Imbramowska', 'Mieszkanie Kraków os. Kazimierzowskie 24.76 metrów 1 pokój', 'Mieszkanie Kraków Cieszyńska 43.21m2', '2-pokojowe mieszkanie 49,52m2 z balkonem – Centralna Vita, Czyżyny']\n",
      "60\n",
      "Prices: ['265 000 zł', '2 015 000 zł', '670 000 zł', '620 000 zł', '759 900 zł', '2 900 zł', '498 000 zł', '979 000 zł', '2 300 zł', '890 000 zł', '1 195 000 zł', '1 131 285 zł', '4 000 zł', '926 000 zł', '1 249 000 zł', '570 000 zł', '3 050 zł', '419 000 zł', '2 000 zł', '4 900 zł', '1 800 zł', '143 000 zł', '830 000 zł', '570 524 zł', '750 000 zł', '545 000 zł', '810 000 zł', '460 000 zł', '3 300 zł', '6 300 zł', '677 460 zł', '686 200 zł', '615 000 zł', '1 143 920 zł', '824 000 zł', '830 000 zł', '687 138 zł', '899 000 zł', '1 158 400 zł', '859 622 zł', '1 219 136 zł', '755 000 zł', '590 000 zł', '672 000 zł', '600 000 zł', '630 000 zł', '660 000 zł', '1 050 000 zł', '1 100 000 zł', '6 900 zł', '1 800 zł', '699 000 zł', '740 000 zł', '779 000 zł', '615 756 zł', '385 000 zł', '872 722 zł', '399 000 zł', '3 900 zł', '618 990,04 zł']\n",
      "60\n"
     ]
    }
   ],
   "source": [
    "import requests\n",
    "from bs4 import BeautifulSoup\n",
    "import pandas as pd\n",
    "import os\n",
    "\n",
    "url = \"https://sprzedajemy.pl/krakow/nieruchomosci/mieszkania?offset=0&items_per_page=60\"\n",
    "\n",
    "headers = {\n",
    "    \"User-Agent\": \"Mozilla/5.0 (Windows NT 10.0; Win64; x64) AppleWebKit/537.36 (KHTML, like Gecko) Chrome/58.0.3029.110 Safari/537.36\",\n",
    "    \"Accept\": \"text/html,application/xhtml+xml,application/xml;q=0.9,image/webp,image/apng,*/*;q=0.8\",\n",
    "    \"Accept-Encoding\": \"gzip, deflate, br\",\n",
    "    \"Accept-Language\": \"en-US,en;q=0.9,pl;q=0.8\",\n",
    "    \"Connection\": \"keep-alive\"\n",
    "}\n",
    "\n",
    "response = requests.get(url, headers=headers)\n",
    "response = requests.get(url, headers=headers)\n",
    "\n",
    "# Debugowanie odpowiedzi\n",
    "print(f\"Status Code: {response.status_code}\")\n",
    "print(f\"Response Headers: {response.headers}\")\n",
    "print(f\"Response Text (first 2000 chars): {response.text[:2000]}\")\n",
    "\n",
    "# Jeśli odpowiedź jest poprawna, wykonaj webscraping\n",
    "if response.status_code == 200:\n",
    "    soup = BeautifulSoup(response.content, \"html.parser\")\n",
    "\n",
    "    # Pobieranie ofert mieszkań\n",
    "    titles = [h2.a.text.strip() for h2 in soup.find_all(\"h2\", class_=\"title\") if h2.a]\n",
    "    prices = [p.text.replace(\"\\xa0\", \" \").strip() for p in soup.find_all(\"span\", class_=\"price\")]\n",
    "\n",
    "    print(\"Titles:\", titles)\n",
    "    print(len(titles))\n",
    "    print(\"Prices:\", prices)\n",
    "    print(len(prices))\n",
    "\n",
    "    df = pd.DataFrame({\"Title\": titles, \"Price\": prices})\n",
    "\n",
    "    # Dopisanie do pliku CSV\n",
    "    df.to_csv(\"scraped_data.csv\", mode='a', header=not os.path.exists('scraped_data.csv'), index=False)\n",
    "else:\n",
    "    print(\"Failed to retrieve data.\")\n"
   ]
  }
 ],
 "metadata": {
  "colab": {
   "provenance": []
  },
  "kernelspec": {
   "display_name": "Python 3",
   "name": "python3"
  },
  "language_info": {
   "codemirror_mode": {
    "name": "ipython",
    "version": 3
   },
   "file_extension": ".py",
   "mimetype": "text/x-python",
   "name": "python",
   "nbconvert_exporter": "python",
   "pygments_lexer": "ipython3",
   "version": "3.9.23"
  },
  "papermill": {
   "default_parameters": {},
   "duration": 3.913108,
   "end_time": "2025-10-15T15:41:37.801801",
   "environment_variables": {},
   "exception": null,
   "input_path": "nb.ipynb",
   "output_path": "nbo.ipynb",
   "parameters": {},
   "start_time": "2025-10-15T15:41:33.888693",
   "version": "2.6.0"
  }
 },
 "nbformat": 4,
 "nbformat_minor": 5
}