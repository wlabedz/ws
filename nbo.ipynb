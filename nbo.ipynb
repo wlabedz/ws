{
 "cells": [
  {
   "cell_type": "code",
   "execution_count": 1,
   "id": "6e9e81dd",
   "metadata": {
    "colab": {
     "base_uri": "https://localhost:8080/"
    },
    "execution": {
     "iopub.execute_input": "2025-04-15T20:42:56.971371Z",
     "iopub.status.busy": "2025-04-15T20:42:56.970983Z",
     "iopub.status.idle": "2025-04-15T20:42:59.139213Z",
     "shell.execute_reply": "2025-04-15T20:42:59.138483Z"
    },
    "id": "5pYh4c8j1w43",
    "outputId": "8a0dca73-64e5-4f0d-c493-2c5b38392363",
    "papermill": {
     "duration": 2.171462,
     "end_time": "2025-04-15T20:42:59.140323",
     "exception": false,
     "start_time": "2025-04-15T20:42:56.968861",
     "status": "completed"
    },
    "tags": []
   },
   "outputs": [
    {
     "name": "stdout",
     "output_type": "stream",
     "text": [
      "Status Code: 200\n",
      "Response Headers: {'Server': 'nginx', 'Date': 'Tue, 15 Apr 2025 20:42:58 GMT', 'Content-Type': 'text/html; charset=UTF-8', 'Transfer-Encoding': 'chunked', 'Vary': 'Accept-Encoding, User-Agent', 'Set-Cookie': 'FRSPSID=3e1v76uictilsjkviikni67k92; path=/; domain=.sprzedajemy.pl; secure; HttpOnly, _items_per_page__offer_list=60; expires=Thu, 15-May-2025 20:42:58 GMT; Max-Age=2592000; path=/; domain=.sprzedajemy.pl; secure; httponly, observed_id=113249674867fec4d2b295d1178354949499782747; expires=Sun, 15-Apr-2125 21:42:58 GMT; Max-Age=3155677200; path=/; domain=.sprzedajemy.pl; secure; httponly', 'Expires': 'Thu, 19 Nov 1981 08:52:00 GMT', 'Cache-Control': 'no-store, no-cache, must-revalidate, post-check=0, pre-check=0', 'Pragma': 'no-cache', 'Content-Encoding': 'gzip'}\n",
      "Response Text (first 2000 chars): <!DOCTYPE html><html xmlns=\"http://www.w3.org/1999/xhtml\" xml:lang=\"pl\" lang=\"pl\" class=\"no-js\" >\n",
      "<head>\n",
      "\t\t\t<!-- Google Tag Manager -->\n",
      "\t\t\t<script>(function(w,d,s,l,i){w[l]=w[l]||[];w[l].push({'gtm.start':\n",
      "\t\t\t\t\t\tnew Date().getTime(),event:'gtm.js'});var f=d.getElementsByTagName(s)[0],\n",
      "\t\t\t\t\tj=d.createElement(s),dl=l!='dataLayer'?'&l='+l:'';j.async=true;j.src=\n",
      "\t\t\t\t\t'https://www.googletagmanager.com/gtm.js?id='+i+dl\n",
      "\t\t\t\t\t\t\t\t\t    ;f.parentNode.insertBefore(j,f);\n",
      "\t\t\t\t    })(window,document,'script','dataLayer','GTM-P3S238');</script>\n",
      "\t\t\t<!-- End Google Tag Manager -->\n",
      "\t<title>Mieszkania Kraków na sprzedaż, wynajem - Sprzedajemy.pl</title><meta http-equiv=\"Content-Type\" content=\"text/html; charset=UTF-8\" >\n",
      "<meta http-equiv=\"X-UA-Compatible\" content=\"IE=edge\" >\n",
      "<meta name=\"description\" content=\"Ogłoszenia o tematyce:  w kategorii Mieszkania - Kupuj i sprzedawaj rzeczy używane i nowe w kategorii Mieszkania na Sprzedajemy.pl\" >\n",
      "<meta property=\"og:title\" content=\"Mieszkania Kraków na sprzedaż, wynajem - Sprzedajemy.pl\" >\n",
      "<meta property=\"og:type\" content=\"website\" >\n",
      "<meta property=\"og:image\" content=\"https://thumbs.img-sprzedajemy.pl/facebook/sprzedajemy.pl.png\" >\n",
      "<meta property=\"og:image:width\" content=\"200\" >\n",
      "<meta property=\"og:image:height\" content=\"200\" >\n",
      "<meta property=\"og:url\" content=\"https://sprzedajemy.pl/krakow/nieruchomosci/mieszkania\" >\n",
      "<meta property=\"og:site_name\" content=\"Sprzedajemy.pl\" >\n",
      "<meta property=\"fb:app_id\" content=\"173258269367442\" >\n",
      "<meta property=\"og:description\" content=\"Ogłoszenia o tematyce:  w kategorii Mieszkania - Kupuj i sprzedawaj rzeczy używane i nowe w kategorii Mieszkania na Sprzedajemy.pl\" >\n",
      "<meta name=\"robots\" content=\"noindex, follow\" >\t\t<script  async=\"async\" src=\"https://static.criteo.net/js/ld/publishertag.js\"></script>\n",
      "        <script  async=\"async\" src=\"https://ap.lijit.com/www/sovrn_beacon_standalone/sovrn_standalone_beacon.js?iid=13417409&amp;uid=sprzedajemy\" id=\"sBeacon\"></script>\n",
      "\t\t<script  async=\"async\" src=\"https://securepuba\n",
      "Titles: ['Apartament, 2 pokoje, jadalnia, garaż,Krowodrza', '2 pokoje,garaż,wysoki standard,ul.Rakowicka,ENG', '2 pokoje 41m2 blisko Aquaparku wkrótce tramwaj!', 'Mieszkanie przy Parku Rzecznym Tonie', 'M2 dwustronne Bieńczyce dostępne do 25 kwietnia', 'Nowoczesne, wykończone, z garażem i balkonem', 'Kraków, Stare Miasto sprzedaż/zamiana', 'Mieszkanie na sprzedaż/zamiana 39m2', '2 lub 3 pokoje,62m2,balkon, Widok na Wawel', 'Mieszkanie z ogródkiem Zakrzówek bezczynszowe', 'Strych do adaptacji, Błonia, ul. Filarecka', 'Mieszkanie sprzedam Kraków 65.57m2 3 pokojowe', 'Mieszkanie 44.03m2 Kraków Józefa Chełmońskiego', 'Mieszkanie sprzedam Kraków Tadeusza Śliwiaka 65.57m2 3 pok', 'Mieszkanie Kraków Kobierzyńska 91.1m2 4 pokoje', 'Ogłoszenie mieszkanie 46m2 2 pokoje Kraków Bukowa', 'Oferta sprzedaży mieszkania 45m2 2 pokojowe Kraków Lubostroń', 'Sprzedaż mieszkania 65.57m2 3 pokoje Kraków Tadeusza Śliwiaka', '62m.kw 3pok BEZPOŚREDNIO Kraków ul Starego Dębu 18', 'Oferta sprzedaży mieszkania 67m2 4-pokojowe Kraków', 'Mieszkanie 62m2 3 pokoje Kraków Nowohucka', 'Mieszkanie 65.57m 3 pok Kraków Tadeusza Śliwiaka', 'Mieszkanie Kraków Przewóz 49.06 metrów 2 pokoje', 'Oferta sprzedaży mieszkania Kraków 41.6m2 2 pokojowe', 'Mieszkanie Kraków Marii i Bolesława Wysłouchów 56m2 3 pokojowe', 'Mieszkanie Kraków Tadeusza Śliwiaka 81.78m2 4 pokoje', 'Ogłoszenie mieszkanie 59.31m2 3 pokojowe Kraków', 'Mieszkanie 65.57 metrów 3-pok Kraków', 'Mieszkanie Ruczaj - Piltza 31 - 36 m2 - miejsce postojowe', 'Sprzedaż mieszkania Kraków 77.22m2 4 pok', 'Mieszkanie 65.57m2 3 pokoje Kraków Tadeusza Śliwiaka', 'Sprzedaż mieszkania Kraków Tadeusza Śliwiaka 82.34m2', 'Mieszkanie Kraków 74.79 metrów 4 pokoje', 'Mieszkanie na sprzedaż 65.57m2 3 pokoje Kraków', 'Oferta sprzedaży mieszkania 65.57m2 3 pokojowe Kraków', 'Sprzedam mieszkanie 65.57 metrów 3-pok Kraków Tadeusza Śliwiaka', 'Mieszkanie Kraków 16.04m2 1-pokojowe', 'Ogłoszenie mieszkanie Kraków Tadeusza Śliwiaka 81.78m2 4 pok', 'Mieszkanie 74.96m2 Kraków', 'Mieszkanie Kraków Reduta 77.04m2 3 pokojowe', 'Mieszkanie 65.57m2 3-pokojowe Kraków', 'Mieszkanie na sprzedaż Kraków 59.83m2 3 pokoje', 'Mieszkanie 65.57m2 3-pokojowe Kraków', 'Mieszkanie do sprzedania Kraków Reduta 77.24m2 3 pokoje', 'Mieszkanie Kraków al. 29 Listopada 16.13m2 1-pokojowe', 'Mieszkanie Kraków 82.34m2 4 pokoje', 'Mieszkanie Kraków 65.57m2 3 pok', 'Mieszkanie, os. Na Stoku, 3 pokoje+kuchnia+GRATIS', 'Mieszkanie Kraków Bukowa 46.21m2 2 pokoje', 'Mieszkanie 69.03m2 Kraków', 'Mieszkanie 16.04m2 1 pokojowe Kraków', 'Sprzedaż mieszkania 82.34m2 4-pokojowe Kraków Tadeusza Śliwiaka', 'Ogłoszenie mieszkanie 43.07m2 2 pokoje Kraków Dąbska', 'Do sprzedaży mieszkanie 46.21m2 2 pok Kraków Bukowa', 'Mieszkanie sprzedam Kraków 69.12m2 4 pokojowe', 'Mieszkanie Kraków 67.39m2 3 pokoje', 'Kurdwanów - 52m2, dwupokojowe z jasną kuchnią', 'Mieszkanie Kraków os. Strusia 43.5m2 2 pok', 'Ogłoszenie mieszkanie 16.13m2 1 pok Kraków', 'Mieszkanie: 1 pokój + balkon, 2000 r, 1 piętro']\n",
      "60\n",
      "Prices: ['3 800 zł', '3 000 zł', '710 000 zł', '550 000 zł', '599 000 zł', '990 000 zł', '2 254 000 zł', '548 000 zł', '1 590 000 zł', '460 000 zł', '379 999 zł', '747 498 zł', '819 000 zł', '740 941 zł', '1 290 000 zł', '552 000 zł', '800 000 zł', '747 498 zł', '3 000 zł', '1 090 000 zł', '1 095 000 zł', '747 498 zł', '699 000 zł', '559 000 zł', '990 000 zł', '932 292 zł', '770 000 zł', '747 498 zł', '620 000 zł', '1 198 000 zł', '760 612 zł', '930 442 zł', '1 157 385 zł', '760 612 zł', '760 612 zł', '754 055 zł', '304 760 zł', '924 114 zł', '1 156 920 zł', '1 329 332 zł', '760 612 zł', '935 877 zł', '754 055 zł', '1 243 000 zł', '306 470 zł', '938 676 zł', '754 055 zł', '648 000 zł', '549 899 zł', '1 047 643 zł', '307 760 zł', '955 144 zł', '819 000 zł', '545 278 zł', '999 000 zł', '999 000 zł', '620 000 zł', '2 500 zł', '306 890 zł', '435 000 zł']\n",
      "60\n"
     ]
    }
   ],
   "source": [
    "import requests\n",
    "from bs4 import BeautifulSoup\n",
    "import pandas as pd\n",
    "import os\n",
    "\n",
    "url = \"https://sprzedajemy.pl/krakow/nieruchomosci/mieszkania?offset=0&items_per_page=60\"\n",
    "\n",
    "headers = {\n",
    "    \"User-Agent\": \"Mozilla/5.0 (Windows NT 10.0; Win64; x64) AppleWebKit/537.36 (KHTML, like Gecko) Chrome/58.0.3029.110 Safari/537.36\",\n",
    "    \"Accept\": \"text/html,application/xhtml+xml,application/xml;q=0.9,image/webp,image/apng,*/*;q=0.8\",\n",
    "    \"Accept-Encoding\": \"gzip, deflate, br\",\n",
    "    \"Accept-Language\": \"en-US,en;q=0.9,pl;q=0.8\",\n",
    "    \"Connection\": \"keep-alive\"\n",
    "}\n",
    "\n",
    "response = requests.get(url, headers=headers)\n",
    "response = requests.get(url, headers=headers)\n",
    "\n",
    "# Debugowanie odpowiedzi\n",
    "print(f\"Status Code: {response.status_code}\")\n",
    "print(f\"Response Headers: {response.headers}\")\n",
    "print(f\"Response Text (first 2000 chars): {response.text[:2000]}\")\n",
    "\n",
    "# Jeśli odpowiedź jest poprawna, wykonaj webscraping\n",
    "if response.status_code == 200:\n",
    "    soup = BeautifulSoup(response.content, \"html.parser\")\n",
    "\n",
    "    # Pobieranie ofert mieszkań\n",
    "    titles = [h2.a.text.strip() for h2 in soup.find_all(\"h2\", class_=\"title\") if h2.a]\n",
    "    prices = [p.text.replace(\"\\xa0\", \" \").strip() for p in soup.find_all(\"span\", class_=\"price\")]\n",
    "\n",
    "    print(\"Titles:\", titles)\n",
    "    print(len(titles))\n",
    "    print(\"Prices:\", prices)\n",
    "    print(len(prices))\n",
    "\n",
    "    df = pd.DataFrame({\"Title\": titles, \"Price\": prices})\n",
    "\n",
    "    # Dopisanie do pliku CSV\n",
    "    df.to_csv(\"scraped_data.csv\", mode='a', header=not os.path.exists('scraped_data.csv'), index=False)\n",
    "else:\n",
    "    print(\"Failed to retrieve data.\")\n"
   ]
  }
 ],
 "metadata": {
  "colab": {
   "provenance": []
  },
  "kernelspec": {
   "display_name": "Python 3",
   "name": "python3"
  },
  "language_info": {
   "codemirror_mode": {
    "name": "ipython",
    "version": 3
   },
   "file_extension": ".py",
   "mimetype": "text/x-python",
   "name": "python",
   "nbconvert_exporter": "python",
   "pygments_lexer": "ipython3",
   "version": "3.9.21"
  },
  "papermill": {
   "default_parameters": {},
   "duration": 3.255489,
   "end_time": "2025-04-15T20:42:59.357263",
   "environment_variables": {},
   "exception": null,
   "input_path": "nb.ipynb",
   "output_path": "nbo.ipynb",
   "parameters": {},
   "start_time": "2025-04-15T20:42:56.101774",
   "version": "2.6.0"
  }
 },
 "nbformat": 4,
 "nbformat_minor": 5
}