{
 "cells": [
  {
   "cell_type": "code",
   "execution_count": 1,
   "id": "d9190b89",
   "metadata": {
    "colab": {
     "base_uri": "https://localhost:8080/"
    },
    "execution": {
     "iopub.execute_input": "2025-09-05T14:30:41.763380Z",
     "iopub.status.busy": "2025-09-05T14:30:41.763163Z",
     "iopub.status.idle": "2025-09-05T14:30:44.042798Z",
     "shell.execute_reply": "2025-09-05T14:30:44.042121Z"
    },
    "id": "5pYh4c8j1w43",
    "outputId": "8a0dca73-64e5-4f0d-c493-2c5b38392363",
    "papermill": {
     "duration": 2.282977,
     "end_time": "2025-09-05T14:30:44.043992",
     "exception": false,
     "start_time": "2025-09-05T14:30:41.761015",
     "status": "completed"
    },
    "tags": []
   },
   "outputs": [
    {
     "name": "stdout",
     "output_type": "stream",
     "text": [
      "Status Code: 200\n",
      "Response Headers: {'Server': 'nginx', 'Date': 'Fri, 05 Sep 2025 14:30:43 GMT', 'Content-Type': 'text/html; charset=UTF-8', 'Transfer-Encoding': 'chunked', 'Vary': 'Accept-Encoding, User-Agent', 'Set-Cookie': 'FRSPSID=gfg1g3autip1jvvvfo2jgpl501; path=/; domain=.sprzedajemy.pl; secure; HttpOnly, _items_per_page__offer_list=60; expires=Sun, 05-Oct-2025 14:30:43 GMT; Max-Age=2592000; path=/; domain=.sprzedajemy.pl; secure; httponly, observed_id=84889248568baf4139ba298182933775302386990; expires=Wed, 05-Sep-2125 15:30:43 GMT; Max-Age=3155677200; path=/; domain=.sprzedajemy.pl; secure; httponly', 'Expires': 'Thu, 19 Nov 1981 08:52:00 GMT', 'Cache-Control': 'no-store, no-cache, must-revalidate, post-check=0, pre-check=0', 'Pragma': 'no-cache', 'Content-Encoding': 'gzip'}\n",
      "Response Text (first 2000 chars): <!DOCTYPE html><html xmlns=\"http://www.w3.org/1999/xhtml\" xml:lang=\"pl\" lang=\"pl\" class=\"no-js\" >\n",
      "<head>\n",
      "\t\t\t<!-- Google Tag Manager -->\n",
      "\t\t\t<script>(function(w,d,s,l,i){w[l]=w[l]||[];w[l].push({'gtm.start':\n",
      "\t\t\t\t\t\tnew Date().getTime(),event:'gtm.js'});var f=d.getElementsByTagName(s)[0],\n",
      "\t\t\t\t\tj=d.createElement(s),dl=l!='dataLayer'?'&l='+l:'';j.async=true;j.src=\n",
      "\t\t\t\t\t'https://www.googletagmanager.com/gtm.js?id='+i+dl\n",
      "\t\t\t\t\t\t\t\t\t    ;f.parentNode.insertBefore(j,f);\n",
      "\t\t\t\t    })(window,document,'script','dataLayer','GTM-P3S238');</script>\n",
      "\t\t\t<!-- End Google Tag Manager -->\n",
      "\t<title>Mieszkania Kraków na sprzedaż, wynajem - Sprzedajemy.pl</title><meta http-equiv=\"Content-Type\" content=\"text/html; charset=UTF-8\" >\n",
      "<meta http-equiv=\"X-UA-Compatible\" content=\"IE=edge\" >\n",
      "<meta name=\"description\" content=\"Ogłoszenia o tematyce:  w kategorii Mieszkania - Kupuj i sprzedawaj rzeczy używane i nowe w kategorii Mieszkania na Sprzedajemy.pl\" >\n",
      "<meta property=\"og:title\" content=\"Mieszkania Kraków na sprzedaż, wynajem - Sprzedajemy.pl\" >\n",
      "<meta property=\"og:type\" content=\"website\" >\n",
      "<meta property=\"og:image\" content=\"https://thumbs.img-sprzedajemy.pl/facebook/sprzedajemy.pl.png\" >\n",
      "<meta property=\"og:image:width\" content=\"200\" >\n",
      "<meta property=\"og:image:height\" content=\"200\" >\n",
      "<meta property=\"og:url\" content=\"https://sprzedajemy.pl/krakow/nieruchomosci/mieszkania\" >\n",
      "<meta property=\"og:site_name\" content=\"Sprzedajemy.pl\" >\n",
      "<meta property=\"fb:app_id\" content=\"173258269367442\" >\n",
      "<meta property=\"og:description\" content=\"Ogłoszenia o tematyce:  w kategorii Mieszkania - Kupuj i sprzedawaj rzeczy używane i nowe w kategorii Mieszkania na Sprzedajemy.pl\" >\n",
      "<meta name=\"robots\" content=\"noindex, follow\" >\t\t<script  async=\"async\" src=\"https://static.criteo.net/js/ld/publishertag.js\"></script>\n",
      "        <script  async=\"async\" src=\"https://ap.lijit.com/www/sovrn_beacon_standalone/sovrn_standalone_beacon.js?iid=13417409&amp;uid=sprzedajemy\" id=\"sBeacon\"></script>\n",
      "\t\t<script  async=\"async\" src=\"https://securepuba\n",
      "Titles: ['Mieszkanie z widokiem na góry', 'Wyjątkowe mieszkanie z widokiem na klasztor w Tyńcu i panoramę Tatr', 'Stylowy apartament z widokiem na panoramę Krakowa - od właściciela', 'Nowoczesny apartament z panoramicznym widokiem - od właściciela', 'Kraków, Stare Miasto sprzedaż/zamiana', 'Stylowy lokal na parterze przy Krowoderskiej', '2-pokojowe mieszkanie po remoncie | PROMOCJA | ul Bronowicka', 'Oferta wynajmu mieszkania 35.84m2 2 pokoje Kraków Romanowicza', 'Mieszkanie Kraków 24.3m 1-pokojowe', 'Mieszkanie 60.55m2 3-pokojowe Kraków Wadowicka', 'Oferta sprzedaży mieszkania 45.84m2 2 pokoje Kraków Wadowicka', 'Mieszkanie 38.51m2 2 pokoje Kraków', 'Mieszkanie Kraków Wadowicka 74.74m2 3-pokojowe', 'Oferta sprzedaży mieszkania Kraków 37.54m2 2 pokojowe', 'Mieszkanie Kraków 43.35m2 2 pokoje', 'Oferta sprzedaży mieszkania 51.41m2 3-pokojowe Kraków Kantrowicka', 'Mieszkanie 40.61m2 1 pokój Kraków Wadowicka', 'Mieszkanie Kraków Pękowicka 38.08m2 2 pokoje', 'Mieszkanie 90.48m2 4 pokoje Kraków Babińskiego', 'Oferta sprzedaży mieszkania Kraków Olszanicka 151.37m2', 'Mieszkanie na sprzedaż Kraków 43.35m2 2-pokojowe', 'Ogłoszenie mieszkanie  Kraków Babińskiego', 'Mieszkanie 37.68m2 2 pokoje Kraków 29 listopada - okolice', 'Mieszkanie Kraków Piasta Kołodzieja 53.19 metrów 3-pokojowe', 'Mieszkanie sprzedam Kraków Pękowicka 51.42m2 3-pokojowe', 'Mieszkanie 65.16m2 4-pokojowe Kraków Kantrowicka', 'Mieszkanie 74.25m2 4-pok Kraków', 'Mieszkanie 51.88m2 3 pokojowe Kraków Pękowicka', 'Mieszkanie Kraków Na Błonie 40.02m2 2-pokojowe', 'Mieszkanie Kraków Kantrowicka 51.41m2 3 pokoje', 'Mieszkanie 37.56m2 2 pokoje Kraków', 'Mieszkanie Kraków 37.67m2 2 pokoje', 'Mieszkanie sprzedam Kraków Na Błonie 26.64m2 1 pokój', 'Mieszkanie 74.64m2 3-pokojowe Kraków', 'Mieszkanie Kraków 29 listopada - okolice 35.26m2 2 pok', 'Mieszkanie 68.78m2 3 pokojowe Kraków Wadowicka', 'Mieszkanie Kraków Pękowicka 40.96m2 3 pok', 'Mieszkanie Kraków Ludwinowska 110m2 3 pokojowe', 'Mieszkanie 64.82m2 3 pokojowe Kraków', 'Mieszkanie 52.15 metrów 3 pok Kraków Pękowicka', 'Oferta sprzedaży mieszkania 94.68m2 4 pokoje Kraków', 'Oferta sprzedaży mieszkania Kraków Pękowicka 40.56m2 2 pokoje', 'Mieszkanie sprzedam Kraków Na Błonie 58.53m2 3 pokoje', 'Ogłoszenie mieszkanie 49.63m2 3-pokojowe Kraków Piasta Kołodzieja', 'Mieszkanie Kraków 66.11m2 3-pok', 'Oferta sprzedaży mieszkania Kraków 35.06m2 2 pokoje', 'Oferta sprzedaży mieszkania Kraków Pękowicka 36.2m2 2-pok', 'Mieszkanie Kraków Pękowicka 38.59m2 2-pok', 'Mieszkanie Kraków Piasta Kołodzieja 56.19m 3 pokoje', 'Oferta sprzedaży mieszkania Kraków Bukowa 46.95m2 2 pokojowe', 'Mieszkanie Kraków Wadowicka 62.46m2 3-pokojowe', 'Oferta sprzedaży mieszkania 67.57m2 Kraków Pękowicka', 'Mieszkanie 72.56m2 3-pokojowe Kraków Wadowicka', 'Mieszkanie 39.1m2 2-pokojowe Kraków', 'Mieszkanie 51.51m2 3-pokojowe Kraków Pękowicka', 'Mieszkanie Kraków Pękowicka 64.92 metry 4 pokoje', 'Mieszkanie 38.51m2 2-pokojowe Kraków', 'Sprzedam mieszkanie Kraków Kantrowicka 77.54 metry 5 pokojowe', 'Sprzedam mieszkanie 31.74m2 1 pokój Kraków Babińskiego', 'Mieszkanie Kraków Praska 138.7m2 5 pokojowe']\n",
      "60\n",
      "Prices: ['265 000 zł', '779 000 zł', '890 000 zł', '997 000 zł', '2 083 000 zł', '1 800 000 zł', '710 000 zł', '3 005 zł', '399 000 zł', '938 525 zł', '857 208 zł', '768 158 zł', '1 240 684 zł', '765 252 zł', '814 980 zł', '634 913 zł', '678 187 zł', '641 648 zł', '1 420 536 zł', '2 138 088 zł', '806 310 zł', '982 080 zł', '654 426 zł', '744 660 zł', '848 430 zł', '944 820 zł', '1 134 000 zł', '858 614 zł', '751 895 zł', '732 592 zł', '763 707 zł', '644 157 zł', '567 245 zł', '1 200 000 zł', '672 315 zł', '1 114 236 zł', '696 320 zł', '10 000 zł', '1 350 000 zł', '852 652 zł', '1 287 648 zł', '683 436 zł', '1 084 619 zł', '719 635 zł', '1 064 371 zł', '725 400 zł', '615 400 zł', '656 030 zł', '741 708 zł', '582 056 zł', '1 055 574 zł', '1 084 498 zł', '1 255 288 zł', '662 745 zł', '844 764 zł', '1 045 212 zł', '760 225 zł', '883 956 zł', '599 886 zł', '2 798 000 zł']\n",
      "60\n"
     ]
    }
   ],
   "source": [
    "import requests\n",
    "from bs4 import BeautifulSoup\n",
    "import pandas as pd\n",
    "import os\n",
    "\n",
    "url = \"https://sprzedajemy.pl/krakow/nieruchomosci/mieszkania?offset=0&items_per_page=60\"\n",
    "\n",
    "headers = {\n",
    "    \"User-Agent\": \"Mozilla/5.0 (Windows NT 10.0; Win64; x64) AppleWebKit/537.36 (KHTML, like Gecko) Chrome/58.0.3029.110 Safari/537.36\",\n",
    "    \"Accept\": \"text/html,application/xhtml+xml,application/xml;q=0.9,image/webp,image/apng,*/*;q=0.8\",\n",
    "    \"Accept-Encoding\": \"gzip, deflate, br\",\n",
    "    \"Accept-Language\": \"en-US,en;q=0.9,pl;q=0.8\",\n",
    "    \"Connection\": \"keep-alive\"\n",
    "}\n",
    "\n",
    "response = requests.get(url, headers=headers)\n",
    "response = requests.get(url, headers=headers)\n",
    "\n",
    "# Debugowanie odpowiedzi\n",
    "print(f\"Status Code: {response.status_code}\")\n",
    "print(f\"Response Headers: {response.headers}\")\n",
    "print(f\"Response Text (first 2000 chars): {response.text[:2000]}\")\n",
    "\n",
    "# Jeśli odpowiedź jest poprawna, wykonaj webscraping\n",
    "if response.status_code == 200:\n",
    "    soup = BeautifulSoup(response.content, \"html.parser\")\n",
    "\n",
    "    # Pobieranie ofert mieszkań\n",
    "    titles = [h2.a.text.strip() for h2 in soup.find_all(\"h2\", class_=\"title\") if h2.a]\n",
    "    prices = [p.text.replace(\"\\xa0\", \" \").strip() for p in soup.find_all(\"span\", class_=\"price\")]\n",
    "\n",
    "    print(\"Titles:\", titles)\n",
    "    print(len(titles))\n",
    "    print(\"Prices:\", prices)\n",
    "    print(len(prices))\n",
    "\n",
    "    df = pd.DataFrame({\"Title\": titles, \"Price\": prices})\n",
    "\n",
    "    # Dopisanie do pliku CSV\n",
    "    df.to_csv(\"scraped_data.csv\", mode='a', header=not os.path.exists('scraped_data.csv'), index=False)\n",
    "else:\n",
    "    print(\"Failed to retrieve data.\")\n"
   ]
  }
 ],
 "metadata": {
  "colab": {
   "provenance": []
  },
  "kernelspec": {
   "display_name": "Python 3",
   "name": "python3"
  },
  "language_info": {
   "codemirror_mode": {
    "name": "ipython",
    "version": 3
   },
   "file_extension": ".py",
   "mimetype": "text/x-python",
   "name": "python",
   "nbconvert_exporter": "python",
   "pygments_lexer": "ipython3",
   "version": "3.9.23"
  },
  "papermill": {
   "default_parameters": {},
   "duration": 3.395273,
   "end_time": "2025-09-05T14:30:44.260591",
   "environment_variables": {},
   "exception": null,
   "input_path": "nb.ipynb",
   "output_path": "nbo.ipynb",
   "parameters": {},
   "start_time": "2025-09-05T14:30:40.865318",
   "version": "2.6.0"
  }
 },
 "nbformat": 4,
 "nbformat_minor": 5
}