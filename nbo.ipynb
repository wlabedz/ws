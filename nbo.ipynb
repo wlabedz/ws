{
 "cells": [
  {
   "cell_type": "code",
   "execution_count": 1,
   "id": "dd63a70c",
   "metadata": {
    "colab": {
     "base_uri": "https://localhost:8080/"
    },
    "execution": {
     "iopub.execute_input": "2025-04-20T10:33:10.848580Z",
     "iopub.status.busy": "2025-04-20T10:33:10.848163Z",
     "iopub.status.idle": "2025-04-20T10:33:12.691058Z",
     "shell.execute_reply": "2025-04-20T10:33:12.690320Z"
    },
    "id": "5pYh4c8j1w43",
    "outputId": "8a0dca73-64e5-4f0d-c493-2c5b38392363",
    "papermill": {
     "duration": 1.846088,
     "end_time": "2025-04-20T10:33:12.692118",
     "exception": false,
     "start_time": "2025-04-20T10:33:10.846030",
     "status": "completed"
    },
    "tags": []
   },
   "outputs": [
    {
     "name": "stdout",
     "output_type": "stream",
     "text": [
      "Status Code: 200\n",
      "Response Headers: {'Server': 'nginx', 'Date': 'Sun, 20 Apr 2025 10:33:12 GMT', 'Content-Type': 'text/html; charset=UTF-8', 'Transfer-Encoding': 'chunked', 'Vary': 'Accept-Encoding, User-Agent', 'Set-Cookie': 'FRSPSID=pef3mppbscpv7ntu2kguc721b1; path=/; domain=.sprzedajemy.pl; secure; HttpOnly, _items_per_page__offer_list=60; expires=Tue, 20-May-2025 10:33:12 GMT; Max-Age=2592000; path=/; domain=.sprzedajemy.pl; secure; httponly, observed_id=8398635626804cd6848b2b0124843011354841482; expires=Fri, 20-Apr-2125 11:33:12 GMT; Max-Age=3155677200; path=/; domain=.sprzedajemy.pl; secure; httponly', 'Expires': 'Thu, 19 Nov 1981 08:52:00 GMT', 'Cache-Control': 'no-store, no-cache, must-revalidate, post-check=0, pre-check=0', 'Pragma': 'no-cache', 'Content-Encoding': 'gzip'}\n",
      "Response Text (first 2000 chars): <!DOCTYPE html><html xmlns=\"http://www.w3.org/1999/xhtml\" xml:lang=\"pl\" lang=\"pl\" class=\"no-js\" >\n",
      "<head>\n",
      "\t\t\t<!-- Google Tag Manager -->\n",
      "\t\t\t<script>(function(w,d,s,l,i){w[l]=w[l]||[];w[l].push({'gtm.start':\n",
      "\t\t\t\t\t\tnew Date().getTime(),event:'gtm.js'});var f=d.getElementsByTagName(s)[0],\n",
      "\t\t\t\t\tj=d.createElement(s),dl=l!='dataLayer'?'&l='+l:'';j.async=true;j.src=\n",
      "\t\t\t\t\t'https://www.googletagmanager.com/gtm.js?id='+i+dl\n",
      "\t\t\t\t\t\t\t\t\t    ;f.parentNode.insertBefore(j,f);\n",
      "\t\t\t\t    })(window,document,'script','dataLayer','GTM-P3S238');</script>\n",
      "\t\t\t<!-- End Google Tag Manager -->\n",
      "\t<title>Mieszkania Kraków na sprzedaż, wynajem - Sprzedajemy.pl</title><meta http-equiv=\"Content-Type\" content=\"text/html; charset=UTF-8\" >\n",
      "<meta http-equiv=\"X-UA-Compatible\" content=\"IE=edge\" >\n",
      "<meta name=\"description\" content=\"Ogłoszenia o tematyce:  w kategorii Mieszkania - Kupuj i sprzedawaj rzeczy używane i nowe w kategorii Mieszkania na Sprzedajemy.pl\" >\n",
      "<meta property=\"og:title\" content=\"Mieszkania Kraków na sprzedaż, wynajem - Sprzedajemy.pl\" >\n",
      "<meta property=\"og:type\" content=\"website\" >\n",
      "<meta property=\"og:image\" content=\"https://thumbs.img-sprzedajemy.pl/facebook/sprzedajemy.pl.png\" >\n",
      "<meta property=\"og:image:width\" content=\"200\" >\n",
      "<meta property=\"og:image:height\" content=\"200\" >\n",
      "<meta property=\"og:url\" content=\"https://sprzedajemy.pl/krakow/nieruchomosci/mieszkania\" >\n",
      "<meta property=\"og:site_name\" content=\"Sprzedajemy.pl\" >\n",
      "<meta property=\"fb:app_id\" content=\"173258269367442\" >\n",
      "<meta property=\"og:description\" content=\"Ogłoszenia o tematyce:  w kategorii Mieszkania - Kupuj i sprzedawaj rzeczy używane i nowe w kategorii Mieszkania na Sprzedajemy.pl\" >\n",
      "<meta name=\"robots\" content=\"noindex, follow\" >\t\t<script  async=\"async\" src=\"https://static.criteo.net/js/ld/publishertag.js\"></script>\n",
      "        <script  async=\"async\" src=\"https://ap.lijit.com/www/sovrn_beacon_standalone/sovrn_standalone_beacon.js?iid=13417409&amp;uid=sprzedajemy\" id=\"sBeacon\"></script>\n",
      "\t\t<script  async=\"async\" src=\"https://securepuba\n",
      "Titles: ['Mieszkanie na sprzedaż/zamiana 39m2', 'Mieszkanie z ogródkiem Zakrzówek bezczynszowe', '2 pokoje 41m2 blisko Aquaparku wkrótce tramwaj!', 'Mieszkanie przy Parku Rzecznym Tonie', 'Kraków, Stare Miasto sprzedaż/zamiana', 'M2 dwustronne Bieńczyce dostępne do 25 kwietnia', 'Nowoczesne, wykończone, z garażem i balkonem', 'Oferta sprzedaży mieszkania Kraków 21.71m2 1-pok', 'Mieszkanie 89.93 metry Kraków Reduta', 'Mieszkanie Kraków Wita Stwosza 18.04m2 1 pokojowe', 'Sprzedam mieszkanie 137.1m2 5-pok Kraków Reduta', 'Mieszkanie 47.6m2 2 pokojowe Kraków Filipa - okolice', 'Ogłoszenie mieszkanie Kraków Wita Stwosza 17.24m2 1 pokojowe', 'Mieszkanie Kraków Kluczborska 47.12m2 2 pok', 'Sprzedaż mieszkania 77.03m2 3 pokojowe Kraków', 'Mieszkanie na sprzedaż Kraków 18.63 metrów', 'Mieszkanie sprzedam 92.18m2 4-pokojowe Kraków os. Piastów', 'Mieszkanie Kraków 74.79 metrów 4-pok', 'Mieszkanie 77.27m2 3-pok Kraków Reduta', 'Mieszkanie Kraków 16.03m2 1 pokój', 'Ogłoszenie mieszkanie 16.56m2 1-pokojowe Kraków Wita Stwosza', 'Mieszkanie Kraków 77.04m 3 pokojowe', 'Mieszkanie 16.56m2 1 pokojowe Kraków Wita Stwosza', 'Mieszkanie Kraków Kraszewskiego 114m2 4 pokojowe', 'Mieszkanie 89.93m2 Kraków', 'Mieszkanie 18.04m2 1 pokój Kraków Wita Stwosza', 'Mieszkanie 137.1m2 5-pokojowe Kraków', 'Mieszkanie 25.01m 1 pokój Kraków Św. Sebastiana - okolice', 'Mieszkanie 38 m Kraków  - Nowa Huta bez pośredników', 'Mieszkanie sprzedam Kraków al. 29 Listopada 16.13m2 1-pokojowe', 'Sprzedam mieszkanie Kraków Przewóz - okolice 65.61m2 3 pokojowe', 'Mieszkanie Kraków 45.55m2 2 pokojowe', 'Mieszkanie Kraków Bałuckiego 63.9m2 3-pok', 'Mieszkanie sprzedam 92.18m2 4 pokojowe Kraków os. Piastów', 'Sprzedam mieszkanie Kraków Św. Sebastiana - okolice 30.19m2', 'Mieszkanie 57.25m2 2 pokoje Kraków Reduta', 'Mieszkanie Kraków Reduta 45.55m2 2 pokoje', 'Oferta sprzedaży mieszkania 74.36m2 4 pokoje Kraków', 'Mieszkanie 27.5m2 1 pokój Kraków', 'Mieszkanie 90.17m2 3-pokojowe Kraków', 'Ogłoszenie mieszkanie 17.24m2 Kraków Wita Stwosza', 'Sprzedam mieszkanie 42.33m2 1 pokojowe Kraków Św. Sebastiana - okolice', 'Mieszkanie Kraków 90.62m2 4-pok', 'Oferta sprzedaży mieszkania 66.52 metry 3 pokoje Kraków Przewóz - okolice', 'Oferta sprzedaży mieszkania Kraków Reduta 90.17m2 3-pok', 'Mieszkanie Kraków Wita Stwosza 18.63m2 1 pokój', 'Mieszkanie Kraków 74.3m2', 'Sprzedaż mieszkania Kraków Reduta 74.96m2', 'Mieszkanie Kraków 17.51m2 1-pok', 'Mieszkanie 25.89m2 1 pok Kraków', 'Mieszkanie Kraków 77.22m2 4 pokoje', 'Sprzedam mieszkanie 74.33m2 4 pokojowe Kraków Reduta', 'Mieszkanie Kraków Bałuckiego 47.79 metrów 2 pokoje', 'Mieszkanie Kraków 21.62m2 1 pokój', 'Mieszkanie 120.73m 4 pokojowe Kraków Reduta', 'Sprzedam mieszkanie Kraków 16.52m2', 'Mieszkanie Kraków al. 29 Listopada 15.76m2 1 pokój', 'Do sprzedaży mieszkanie 53.4m2 Kraków', 'Mieszkanie 77.24m2 Kraków Reduta', 'Sprzedaż mieszkania Kraków 77.03m2 3-pokojowe']\n",
      "60\n",
      "Prices: ['548 000 zł', '460 000 zł', '710 000 zł', '550 000 zł', '2 254 000 zł', '599 000 zł', '990 000 zł', '417 917 zł', '1 305 725 zł', '468 750 zł', '2 368 370 zł', '1 128 970 zł', '383 590 zł', '3 300 zł', '1 600 000 zł', '409 860 zł', '940 236 zł', '1 157 385 zł', '1 334 176 zł', '372 697 zł', '368 460 zł', '1 329 332 zł', '376 740 zł', '1 799 000 zł', '1 305 725 zł', '419 430 zł', '2 368 370 zł', '1 000 400 zł', '550 000 zł', '314 535 zł', '726 791 zł', '765 240 zł', '1 200 000 zł', '940 236 zł', '1 207 600 zł', '859 800 zł', '778 000 zł', '803 757 zł', '1 100 000 zł', '1 338 000 zł', '392 210 zł', '1 481 550 zł', '924 120 zł', '731 622 zł', '1 308 625 zł', '428 490 zł', '810 761 zł', '1 156 920 zł', '407 107 zł', '1 035 600 zł', '1 198 000 zł', '1 128 600 zł', '1 050 000 zł', '410 780 zł', '2 097 000 zł', '351 050 zł', '299 440 zł', '472 590 zł', '1 243 000 zł', '1 600 000 zł']\n",
      "60\n"
     ]
    }
   ],
   "source": [
    "import requests\n",
    "from bs4 import BeautifulSoup\n",
    "import pandas as pd\n",
    "import os\n",
    "\n",
    "url = \"https://sprzedajemy.pl/krakow/nieruchomosci/mieszkania?offset=0&items_per_page=60\"\n",
    "\n",
    "headers = {\n",
    "    \"User-Agent\": \"Mozilla/5.0 (Windows NT 10.0; Win64; x64) AppleWebKit/537.36 (KHTML, like Gecko) Chrome/58.0.3029.110 Safari/537.36\",\n",
    "    \"Accept\": \"text/html,application/xhtml+xml,application/xml;q=0.9,image/webp,image/apng,*/*;q=0.8\",\n",
    "    \"Accept-Encoding\": \"gzip, deflate, br\",\n",
    "    \"Accept-Language\": \"en-US,en;q=0.9,pl;q=0.8\",\n",
    "    \"Connection\": \"keep-alive\"\n",
    "}\n",
    "\n",
    "response = requests.get(url, headers=headers)\n",
    "response = requests.get(url, headers=headers)\n",
    "\n",
    "# Debugowanie odpowiedzi\n",
    "print(f\"Status Code: {response.status_code}\")\n",
    "print(f\"Response Headers: {response.headers}\")\n",
    "print(f\"Response Text (first 2000 chars): {response.text[:2000]}\")\n",
    "\n",
    "# Jeśli odpowiedź jest poprawna, wykonaj webscraping\n",
    "if response.status_code == 200:\n",
    "    soup = BeautifulSoup(response.content, \"html.parser\")\n",
    "\n",
    "    # Pobieranie ofert mieszkań\n",
    "    titles = [h2.a.text.strip() for h2 in soup.find_all(\"h2\", class_=\"title\") if h2.a]\n",
    "    prices = [p.text.replace(\"\\xa0\", \" \").strip() for p in soup.find_all(\"span\", class_=\"price\")]\n",
    "\n",
    "    print(\"Titles:\", titles)\n",
    "    print(len(titles))\n",
    "    print(\"Prices:\", prices)\n",
    "    print(len(prices))\n",
    "\n",
    "    df = pd.DataFrame({\"Title\": titles, \"Price\": prices})\n",
    "\n",
    "    # Dopisanie do pliku CSV\n",
    "    df.to_csv(\"scraped_data.csv\", mode='a', header=not os.path.exists('scraped_data.csv'), index=False)\n",
    "else:\n",
    "    print(\"Failed to retrieve data.\")\n"
   ]
  }
 ],
 "metadata": {
  "colab": {
   "provenance": []
  },
  "kernelspec": {
   "display_name": "Python 3",
   "name": "python3"
  },
  "language_info": {
   "codemirror_mode": {
    "name": "ipython",
    "version": 3
   },
   "file_extension": ".py",
   "mimetype": "text/x-python",
   "name": "python",
   "nbconvert_exporter": "python",
   "pygments_lexer": "ipython3",
   "version": "3.9.22"
  },
  "papermill": {
   "default_parameters": {},
   "duration": 2.931635,
   "end_time": "2025-04-20T10:33:12.909073",
   "environment_variables": {},
   "exception": null,
   "input_path": "nb.ipynb",
   "output_path": "nbo.ipynb",
   "parameters": {},
   "start_time": "2025-04-20T10:33:09.977438",
   "version": "2.6.0"
  }
 },
 "nbformat": 4,
 "nbformat_minor": 5
}