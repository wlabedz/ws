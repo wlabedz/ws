{
 "cells": [
  {
   "cell_type": "code",
   "execution_count": 1,
   "id": "0b882718",
   "metadata": {
    "colab": {
     "base_uri": "https://localhost:8080/"
    },
    "execution": {
     "iopub.execute_input": "2025-08-08T14:01:42.772889Z",
     "iopub.status.busy": "2025-08-08T14:01:42.772624Z",
     "iopub.status.idle": "2025-08-08T14:01:45.325885Z",
     "shell.execute_reply": "2025-08-08T14:01:45.325135Z"
    },
    "id": "5pYh4c8j1w43",
    "outputId": "8a0dca73-64e5-4f0d-c493-2c5b38392363",
    "papermill": {
     "duration": 2.557013,
     "end_time": "2025-08-08T14:01:45.327170",
     "exception": false,
     "start_time": "2025-08-08T14:01:42.770157",
     "status": "completed"
    },
    "tags": []
   },
   "outputs": [
    {
     "name": "stdout",
     "output_type": "stream",
     "text": [
      "Status Code: 200\n",
      "Response Headers: {'Server': 'nginx', 'Date': 'Fri, 08 Aug 2025 14:01:44 GMT', 'Content-Type': 'text/html; charset=UTF-8', 'Transfer-Encoding': 'chunked', 'Vary': 'Accept-Encoding, User-Agent', 'Set-Cookie': 'FRSPSID=7233nbqss1q0ed0r5mjppsq6m0; path=/; domain=.sprzedajemy.pl; secure; HttpOnly, _items_per_page__offer_list=60; expires=Sun, 07-Sep-2025 14:01:44 GMT; Max-Age=2592000; path=/; domain=.sprzedajemy.pl; secure; httponly, observed_id=196012711568960348c8059028358111022265632; expires=Wed, 08-Aug-2125 15:01:44 GMT; Max-Age=3155677200; path=/; domain=.sprzedajemy.pl; secure; httponly', 'Expires': 'Thu, 19 Nov 1981 08:52:00 GMT', 'Cache-Control': 'no-store, no-cache, must-revalidate, post-check=0, pre-check=0', 'Pragma': 'no-cache', 'Content-Encoding': 'gzip'}\n",
      "Response Text (first 2000 chars): <!DOCTYPE html><html xmlns=\"http://www.w3.org/1999/xhtml\" xml:lang=\"pl\" lang=\"pl\" class=\"no-js\" >\n",
      "<head>\n",
      "\t\t\t<!-- Google Tag Manager -->\n",
      "\t\t\t<script>(function(w,d,s,l,i){w[l]=w[l]||[];w[l].push({'gtm.start':\n",
      "\t\t\t\t\t\tnew Date().getTime(),event:'gtm.js'});var f=d.getElementsByTagName(s)[0],\n",
      "\t\t\t\t\tj=d.createElement(s),dl=l!='dataLayer'?'&l='+l:'';j.async=true;j.src=\n",
      "\t\t\t\t\t'https://www.googletagmanager.com/gtm.js?id='+i+dl\n",
      "\t\t\t\t\t\t\t\t\t    ;f.parentNode.insertBefore(j,f);\n",
      "\t\t\t\t    })(window,document,'script','dataLayer','GTM-P3S238');</script>\n",
      "\t\t\t<!-- End Google Tag Manager -->\n",
      "\t<title>Mieszkania Kraków na sprzedaż, wynajem - Sprzedajemy.pl</title><meta http-equiv=\"Content-Type\" content=\"text/html; charset=UTF-8\" >\n",
      "<meta http-equiv=\"X-UA-Compatible\" content=\"IE=edge\" >\n",
      "<meta name=\"description\" content=\"Ogłoszenia o tematyce:  w kategorii Mieszkania - Kupuj i sprzedawaj rzeczy używane i nowe w kategorii Mieszkania na Sprzedajemy.pl\" >\n",
      "<meta property=\"og:title\" content=\"Mieszkania Kraków na sprzedaż, wynajem - Sprzedajemy.pl\" >\n",
      "<meta property=\"og:type\" content=\"website\" >\n",
      "<meta property=\"og:image\" content=\"https://thumbs.img-sprzedajemy.pl/facebook/sprzedajemy.pl.png\" >\n",
      "<meta property=\"og:image:width\" content=\"200\" >\n",
      "<meta property=\"og:image:height\" content=\"200\" >\n",
      "<meta property=\"og:url\" content=\"https://sprzedajemy.pl/krakow/nieruchomosci/mieszkania\" >\n",
      "<meta property=\"og:site_name\" content=\"Sprzedajemy.pl\" >\n",
      "<meta property=\"fb:app_id\" content=\"173258269367442\" >\n",
      "<meta property=\"og:description\" content=\"Ogłoszenia o tematyce:  w kategorii Mieszkania - Kupuj i sprzedawaj rzeczy używane i nowe w kategorii Mieszkania na Sprzedajemy.pl\" >\n",
      "<meta name=\"robots\" content=\"noindex, follow\" >\t\t<script  async=\"async\" src=\"https://static.criteo.net/js/ld/publishertag.js\"></script>\n",
      "        <script  async=\"async\" src=\"https://ap.lijit.com/www/sovrn_beacon_standalone/sovrn_standalone_beacon.js?iid=13417409&amp;uid=sprzedajemy\" id=\"sBeacon\"></script>\n",
      "\t\t<script  async=\"async\" src=\"https://securepuba\n"
     ]
    },
    {
     "name": "stdout",
     "output_type": "stream",
     "text": [
      "Titles: ['Dom - Kraków Tonie - Zielona okolica - 123 m2 | 5 - pok. | Ogród | Taras |…', 'Mieszkanie 3-pokojowe. Duży balkon. Dobra komunikacja, Od właściciela', '3 niezależne lokale z KW– inwestycja z potencjałem', 'Mieszkanie na sprzedaż/zamiana 39m2', 'Mieszkanie Wola Justowska /Bielany 36m2', '4pokoje 68m2 balkon KLIMA Śródmieście BEZ PROWIZJI od właściciela', 'Mieszkanie na sprzedaż Kraków 35.27m2 2-pok', 'Oferta sprzedaży mieszkania 48.62m2 2 pokoje Kraków', 'Mieszkanie Kraków 34.79m2 2-pok', 'Oferta sprzedaży mieszkania 51.41m2 3-pokojowe Kraków Kantrowicka', 'Sprzedam mieszkanie 64.42m2 3-pokojowe Kraków', 'Mieszkanie 35.6m2 2-pok Kraków Rydlówka', 'Mieszkanie na sprzedaż 37.41m2 2 pokoje Kraków', 'Mieszkanie sprzedam 36.09m2 Kraków', 'Mieszkanie 58m2 3-pok Kraków ul. dr. Jana Piltza', 'Oferta sprzedaży mieszkania 52.19m2 3-pokojowe Kraków', 'Mieszkanie na sprzedaż Kraków Na Błonie 38.09m2 2 pokojowe', 'Mieszkanie 51.91m2 3-pokojowe Kraków Pękowicka', 'Mieszkanie 33.25m2 1-pokojowe Kraków', 'Mieszkanie Kraków Pękowicka 38.08m2 2 pokoje', 'Mieszkanie 41.06m2 2 pok Kraków', 'Mieszkanie Kraków Piasta Kołodzieja 48.59m2 3-pok', 'Mieszkanie Kraków 40.29m2', 'Mieszkanie Kraków 51.55m2 3 pokoje', 'Ogłoszenie mieszkanie Kraków 69.35m2 3 pokoje', 'Oferta sprzedaży mieszkania 65.05m2 4 pokoje Kraków', 'Mieszkanie sprzedam 65.16m2 4-pokojowe Kraków Kantrowicka', 'Mieszkanie Kraków Babińskiego 59.85m2 3 pokojowe', 'Mieszkanie Kraków 29 listopada - okolice 35.26m2 2 pokoje', 'Mieszkanie 48.24m2 2 pokoje Kraków', 'Oferta sprzedaży mieszkania Kraków 61.1m2 3 pokoje', 'Mieszkanie Kraków 51.67m2 3-pok', 'Mieszkanie Kraków 51.89m2 2 pokojowe', 'Mieszkanie 64.26m2 3-pok Kraków', 'Mieszkanie 44m2 2 pokoje Kraków', 'Mieszkanie 48.58m2 3 pokoje Kraków', 'Ogłoszenie mieszkanie 49.63m2 3-pokojowe Kraków Piasta Kołodzieja', 'Mieszkanie 70.88m2 4 pokoje Kraków Wadowicka', 'Mieszkanie Kraków 55.09m2 2 pokoje', 'Mieszkanie Kraków 64.4 metry 3 pokoje', 'Mieszkanie Kraków Babińskiego 46.66 metrów 2-pokojowe', 'Sprzedaż mieszkania Kraków Pękowicka 53.68m2 4 pok', 'Oferta sprzedaży mieszkania 66.75m 4 pokoje Kraków', 'Oferta sprzedaży mieszkania Kraków 41.16m2 2 pokoje', 'Mieszkanie Kraków Babińskiego 51.31m 2-pok', 'Mieszkanie Kraków Wadowicka 43.35m2 3 pokoje', 'Ogłoszenie mieszkanie 39.88m2 2 pokoje Kraków', 'Mieszkanie 32.79m2 1 pokój Kraków', 'Wynajem mieszkania 48.61m2 2-pok Kraków', 'Mieszkanie 37.49 metrów 2 pok Kraków', 'Mieszkanie do sprzedania Kraków Pękowicka 63.11m2 4 pok', 'Mieszkanie Kraków 72.4m2 3 pokojowe', 'Mieszkanie 50.23m2 3 pokojowe Kraków Piasta Kołodzieja', 'Mieszkanie Kraków Wadowicka 43.08m2', 'Oferta sprzedaży mieszkania Kraków Kantrowicka 35.05 metrów 2 pokoje', 'Mieszkanie na sprzedaż 37.45m2 2 pokoje Kraków Na Błonie', 'Mieszkanie Kraków Wadowicka 66.11m2 3 pokoje', 'Mieszkanie 48.18m2 2 pok Kraków Nowa', 'Mieszkanie 56.09 metrów 3 pok Kraków', 'Mieszkanie Kraków Babińskiego 82.79m2 3 pokojowe']\n",
      "60\n",
      "Prices: ['2 275 000 zł', '3 500 zł', '279 000 zł', '526 000 zł', '487 000 zł', '1 850 000 zł', '642 280 zł', '947 132 zł', '495 757 zł', '634 913 zł', '1 114 466 zł', '841 050 zł', '776 070 zł', '514 282 zł', '1 049 000 zł', '853 306 zł', '786 253 zł', '856 515 zł', '608 475 zł', '641 648 zł', '786 011 zł', '723 991 zł', '680 901 zł', '1 078 683 zł', '1 240 000 zł', '1 050 557 zł', '835 677 zł', '1 029 420 zł', '657 206 zł', '820 000 zł', '870 000 zł', '1 091 528 zł', '906 725 zł', '1 124 550 zł', '829 400 zł', '714 126 zł', '719 635 zł', '1 176 608 zł', '949 916 zł', '1 088 360 zł', '858 544 zł', '872 300 zł', '939 000 zł', '782 616 zł', '918 449 zł', '801 975 zł', '675 966 zł', '636 126 zł', '2 800 zł', '771 956 zł', '1 094 958 zł', '1 194 600 zł', '718 289 zł', '779 748 zł', '466 165 zł', '754 729 zł', '1 077 593 zł', '1 150 000 zł', '1 061 110 zł', '1 481 941 zł']\n",
      "60\n"
     ]
    }
   ],
   "source": [
    "import requests\n",
    "from bs4 import BeautifulSoup\n",
    "import pandas as pd\n",
    "import os\n",
    "\n",
    "url = \"https://sprzedajemy.pl/krakow/nieruchomosci/mieszkania?offset=0&items_per_page=60\"\n",
    "\n",
    "headers = {\n",
    "    \"User-Agent\": \"Mozilla/5.0 (Windows NT 10.0; Win64; x64) AppleWebKit/537.36 (KHTML, like Gecko) Chrome/58.0.3029.110 Safari/537.36\",\n",
    "    \"Accept\": \"text/html,application/xhtml+xml,application/xml;q=0.9,image/webp,image/apng,*/*;q=0.8\",\n",
    "    \"Accept-Encoding\": \"gzip, deflate, br\",\n",
    "    \"Accept-Language\": \"en-US,en;q=0.9,pl;q=0.8\",\n",
    "    \"Connection\": \"keep-alive\"\n",
    "}\n",
    "\n",
    "response = requests.get(url, headers=headers)\n",
    "response = requests.get(url, headers=headers)\n",
    "\n",
    "# Debugowanie odpowiedzi\n",
    "print(f\"Status Code: {response.status_code}\")\n",
    "print(f\"Response Headers: {response.headers}\")\n",
    "print(f\"Response Text (first 2000 chars): {response.text[:2000]}\")\n",
    "\n",
    "# Jeśli odpowiedź jest poprawna, wykonaj webscraping\n",
    "if response.status_code == 200:\n",
    "    soup = BeautifulSoup(response.content, \"html.parser\")\n",
    "\n",
    "    # Pobieranie ofert mieszkań\n",
    "    titles = [h2.a.text.strip() for h2 in soup.find_all(\"h2\", class_=\"title\") if h2.a]\n",
    "    prices = [p.text.replace(\"\\xa0\", \" \").strip() for p in soup.find_all(\"span\", class_=\"price\")]\n",
    "\n",
    "    print(\"Titles:\", titles)\n",
    "    print(len(titles))\n",
    "    print(\"Prices:\", prices)\n",
    "    print(len(prices))\n",
    "\n",
    "    df = pd.DataFrame({\"Title\": titles, \"Price\": prices})\n",
    "\n",
    "    # Dopisanie do pliku CSV\n",
    "    df.to_csv(\"scraped_data.csv\", mode='a', header=not os.path.exists('scraped_data.csv'), index=False)\n",
    "else:\n",
    "    print(\"Failed to retrieve data.\")\n"
   ]
  }
 ],
 "metadata": {
  "colab": {
   "provenance": []
  },
  "kernelspec": {
   "display_name": "Python 3",
   "name": "python3"
  },
  "language_info": {
   "codemirror_mode": {
    "name": "ipython",
    "version": 3
   },
   "file_extension": ".py",
   "mimetype": "text/x-python",
   "name": "python",
   "nbconvert_exporter": "python",
   "pygments_lexer": "ipython3",
   "version": "3.9.23"
  },
  "papermill": {
   "default_parameters": {},
   "duration": 3.807988,
   "end_time": "2025-08-08T14:01:45.645229",
   "environment_variables": {},
   "exception": null,
   "input_path": "nb.ipynb",
   "output_path": "nbo.ipynb",
   "parameters": {},
   "start_time": "2025-08-08T14:01:41.837241",
   "version": "2.6.0"
  }
 },
 "nbformat": 4,
 "nbformat_minor": 5
}