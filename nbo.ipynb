{
 "cells": [
  {
   "cell_type": "code",
   "execution_count": 1,
   "id": "67f9bce8",
   "metadata": {
    "colab": {
     "base_uri": "https://localhost:8080/"
    },
    "execution": {
     "iopub.execute_input": "2025-06-27T15:52:16.362980Z",
     "iopub.status.busy": "2025-06-27T15:52:16.362692Z",
     "iopub.status.idle": "2025-06-27T15:52:18.909330Z",
     "shell.execute_reply": "2025-06-27T15:52:18.908510Z"
    },
    "id": "5pYh4c8j1w43",
    "outputId": "8a0dca73-64e5-4f0d-c493-2c5b38392363",
    "papermill": {
     "duration": 2.550338,
     "end_time": "2025-06-27T15:52:18.910446",
     "exception": false,
     "start_time": "2025-06-27T15:52:16.360108",
     "status": "completed"
    },
    "tags": []
   },
   "outputs": [
    {
     "name": "stdout",
     "output_type": "stream",
     "text": [
      "Status Code: 200\n",
      "Response Headers: {'Server': 'nginx', 'Date': 'Fri, 27 Jun 2025 15:52:18 GMT', 'Content-Type': 'text/html; charset=UTF-8', 'Transfer-Encoding': 'chunked', 'Vary': 'Accept-Encoding, User-Agent', 'Set-Cookie': 'FRSPSID=ocppri75chgtkskjkfotpon7l0; path=/; domain=.sprzedajemy.pl; secure; HttpOnly, _items_per_page__offer_list=60; expires=Sun, 27-Jul-2025 15:52:18 GMT; Max-Age=2592000; path=/; domain=.sprzedajemy.pl; secure; httponly, observed_id=1390115383685ebe3267eff0118632934605897220; expires=Wed, 27-Jun-2125 16:52:18 GMT; Max-Age=3155677200; path=/; domain=.sprzedajemy.pl; secure; httponly', 'Expires': 'Thu, 19 Nov 1981 08:52:00 GMT', 'Cache-Control': 'no-store, no-cache, must-revalidate, post-check=0, pre-check=0', 'Pragma': 'no-cache', 'Content-Encoding': 'gzip'}\n",
      "Response Text (first 2000 chars): <!DOCTYPE html><html xmlns=\"http://www.w3.org/1999/xhtml\" xml:lang=\"pl\" lang=\"pl\" class=\"no-js\" >\n",
      "<head>\n",
      "\t\t\t<!-- Google Tag Manager -->\n",
      "\t\t\t<script>(function(w,d,s,l,i){w[l]=w[l]||[];w[l].push({'gtm.start':\n",
      "\t\t\t\t\t\tnew Date().getTime(),event:'gtm.js'});var f=d.getElementsByTagName(s)[0],\n",
      "\t\t\t\t\tj=d.createElement(s),dl=l!='dataLayer'?'&l='+l:'';j.async=true;j.src=\n",
      "\t\t\t\t\t'https://www.googletagmanager.com/gtm.js?id='+i+dl\n",
      "\t\t\t\t\t\t\t\t\t    ;f.parentNode.insertBefore(j,f);\n",
      "\t\t\t\t    })(window,document,'script','dataLayer','GTM-P3S238');</script>\n",
      "\t\t\t<!-- End Google Tag Manager -->\n",
      "\t<title>Mieszkania Kraków na sprzedaż, wynajem - Sprzedajemy.pl</title><meta http-equiv=\"Content-Type\" content=\"text/html; charset=UTF-8\" >\n",
      "<meta http-equiv=\"X-UA-Compatible\" content=\"IE=edge\" >\n",
      "<meta name=\"description\" content=\"Ogłoszenia o tematyce:  w kategorii Mieszkania - Kupuj i sprzedawaj rzeczy używane i nowe w kategorii Mieszkania na Sprzedajemy.pl\" >\n",
      "<meta property=\"og:title\" content=\"Mieszkania Kraków na sprzedaż, wynajem - Sprzedajemy.pl\" >\n",
      "<meta property=\"og:type\" content=\"website\" >\n",
      "<meta property=\"og:image\" content=\"https://thumbs.img-sprzedajemy.pl/facebook/sprzedajemy.pl.png\" >\n",
      "<meta property=\"og:image:width\" content=\"200\" >\n",
      "<meta property=\"og:image:height\" content=\"200\" >\n",
      "<meta property=\"og:url\" content=\"https://sprzedajemy.pl/krakow/nieruchomosci/mieszkania\" >\n",
      "<meta property=\"og:site_name\" content=\"Sprzedajemy.pl\" >\n",
      "<meta property=\"fb:app_id\" content=\"173258269367442\" >\n",
      "<meta property=\"og:description\" content=\"Ogłoszenia o tematyce:  w kategorii Mieszkania - Kupuj i sprzedawaj rzeczy używane i nowe w kategorii Mieszkania na Sprzedajemy.pl\" >\n",
      "<meta name=\"robots\" content=\"noindex, follow\" >\t\t<script  async=\"async\" src=\"https://static.criteo.net/js/ld/publishertag.js\"></script>\n",
      "        <script  async=\"async\" src=\"https://ap.lijit.com/www/sovrn_beacon_standalone/sovrn_standalone_beacon.js?iid=13417409&amp;uid=sprzedajemy\" id=\"sBeacon\"></script>\n",
      "\t\t<script  async=\"async\" src=\"https://securepuba\n",
      "Titles: ['wykończone 27,56 m², balkon, Kniaźnina, TRAMWAJ, Prądnik Czerwony/Huta', 'Stylowy apartament z widokiem na panoramę Krakowa - od właściciela', 'Nowoczesny apartament z panoramicznym widokiem - od właściciela', 'Wyjątkowe mieszkanie z widokiem na klasztor w Tyńcu i panoramę Tatr', 'Stare Miasto 61,5 m2 KLIMA Wawel wykończone Kazimierz wysokie ROI', 'Stare Miasto 32m2 KLIMA Wawel wykończone Kazimierz wysokie ROI', 'Mieszkanie na sprzedaż/zamiana 39m2', 'Mieszkanie Kraków 51.85 metrów 2-pokojowe', 'Sprzedaż mieszkania Kraków os. Bohaterów Września 39m2 2-pokojowe', 'Mieszkanie Kraków Podbrzezie 52m2 3 pokoje', 'Apartamentowiec 73m na Woli Justowskiej', 'CENTRUM_Pełne wyposażenie_Balkon_NOWE', '1os Kawalerka 25m2 kilka przystanków od Centrum - Krowodrza Górka', 'Bezpośrednio Jasne 2 pokoje Mieszkanie Centrum Ogrzewanie Parking Komunika…', 'Mieszkanie 82m2 3 pok Kraków', 'Sprzedaż mieszkania 31m2 1-pokojowe Kraków Ruczaj', 'Mieszkanie Kraków Kantrowicka 51.41m 3-pokojowe', 'Oferta sprzedaży mieszkania 50.12m2 2 pok Kraków', 'Mieszkanie Kraków Pękowicka 35.37m2 2 pokoje', 'Mieszkanie do sprzedania Kraków 116.81m2 4 pokojowe', 'Mieszkanie 38.13m2 2 pok Kraków Na Błonie', 'Mieszkanie Kraków 57.32m2 2 pokoje', 'Mieszkanie Kraków 35.05m2 2 pokoje', 'Mieszkanie do sprzedania Kraków 72.4m2 3 pokoje', 'Mieszkanie 45.57m2 2-pokojowe Kraków', 'Ogłoszenie mieszkanie 33.25m 1 pokój Kraków Babińskiego', 'Mieszkanie 50.23m2 3 pokoje Kraków', 'Sprzedam mieszkanie Kraków Bukowa 57.19m2 3-pokojowe', 'Mieszkanie 62.7m2 3 pokojowe Kraków Dywizjonu 303', 'Oferta sprzedaży mieszkania Kraków Wadowicka 46.32m2 2 pokoje', 'Ogłoszenie mieszkanie 37.85m2 2 pok Kraków Pękowicka', 'Mieszkanie 72.4m2 Kraków Babińskiego', 'Oferta sprzedaży mieszkania 35.12m2 2-pokojowe Kraków', 'Oferta sprzedaży mieszkania Kraków Wadowicka 43.35m2 2-pok', 'Ogłoszenie mieszkanie 63.08m2 4-pok Kraków Pękowicka', 'Mieszkanie 50.95m2 2 pokojowe Kraków', 'Mieszkanie Kraków 142m2 4 pokoje', 'Oferta sprzedaży mieszkania Kraków Wadowicka 43.35m2 2 pokoje', 'Mieszkanie 65.46m2 3-pok Kraków Wadowicka', 'Mieszkanie Kraków Kantrowicka 34.79 metrów 2 pokoje', 'Mieszkanie Kraków 33.56m2 1 pokojowe', 'Mieszkanie Kraków Pękowicka 39.05m2', 'Oferta sprzedaży mieszkania 43.35m2 2 pokojowe Kraków Wadowicka', 'Sprzedam mieszkanie 77.4m2 3 pokojowe Kraków os. Wolfganga Amadeusa Mozarta', 'Oferta wynajmu mieszkania Kraków Krowoderskich Zuchów 45m2 2 pokojowe', 'Mieszkanie 50.5m 2-pokojowe Kraków Dąbrowskiego', 'Ogłoszenie mieszkanie Kraków Na Błonie 37.5m2 2 pokoje', 'Mieszkanie Kraków 36.09m2', 'Sprzedam mieszkanie 64.03m2 4-pokojowe Kraków Pękowicka', 'Mieszkanie 72.4m2 3-pok Kraków Babińskiego', 'Mieszkanie Kraków Wadowicka 44.95 metrów 2 pok', 'Mieszkanie Kraków Pękowicka 36.17m2 2-pok', 'Mieszkanie 59.63 metry Kraków', 'Mieszkanie 81.34m2 5 pokoi Kraków Wadowicka', 'Mieszkanie na sprzedaż Kraków 59.73m2 4 pokoje', 'Sprzedam mieszkanie 64.42m2 3-pokojowe Kraków', 'Mieszkanie Kraków Wadowicka 43.35m2 3 pokoje', 'Mieszkanie Kraków Pękowicka 43.45m2 2 pokoje', 'Mieszkanie do sprzedania 50.6m2 2 pokojowe Kraków', 'Mieszkanie Kraków 56.19m2 3-pokojowe']\n",
      "60\n",
      "Prices: ['569 000 zł', '897 000 zł', '997 000 zł', '779 000 zł', '1 748 885 zł', '959 000 zł', '539 000 zł', '889 000 zł', '575 000 zł', '5 300 zł', '1 750 000 zł', '2 500 zł', '1 755 zł', '3 200 zł', '1 049 000 zł', '550 000 zł', '668 330 zł', '830 000 zł', '601 290 zł', '1 711 261 zł', '774 229 zł', '878 000 zł', '508 225 zł', '1 158 400 zł', '699 000 zł', '628 425 zł', '708 243 zł', '651 966 zł', '3 000 zł', '856 920 zł', '658 590 zł', '1 194 600 zł', '600 552 zł', '806 310 zł', '1 075 514 zł', '935 000 zł', '2 790 000 zł', '810 645 zł', '1 099 728 zł', '521 850 zł', '701 404 zł', '663 850 zł', '806 310 zł', '1 330 000 zł', '3 000 zł', '1 044 551 zł', '781 800 zł', '505 260 zł', '1 034 084 zł', '1 245 280 zł', '822 585 zł', '613 081 zł', '986 876 zł', '1 195 698 zł', '985 545 zł', '1 114 466 zł', '801 975 zł', '712 580 zł', '988 785 zł', '764 184 zł']\n",
      "60\n"
     ]
    }
   ],
   "source": [
    "import requests\n",
    "from bs4 import BeautifulSoup\n",
    "import pandas as pd\n",
    "import os\n",
    "\n",
    "url = \"https://sprzedajemy.pl/krakow/nieruchomosci/mieszkania?offset=0&items_per_page=60\"\n",
    "\n",
    "headers = {\n",
    "    \"User-Agent\": \"Mozilla/5.0 (Windows NT 10.0; Win64; x64) AppleWebKit/537.36 (KHTML, like Gecko) Chrome/58.0.3029.110 Safari/537.36\",\n",
    "    \"Accept\": \"text/html,application/xhtml+xml,application/xml;q=0.9,image/webp,image/apng,*/*;q=0.8\",\n",
    "    \"Accept-Encoding\": \"gzip, deflate, br\",\n",
    "    \"Accept-Language\": \"en-US,en;q=0.9,pl;q=0.8\",\n",
    "    \"Connection\": \"keep-alive\"\n",
    "}\n",
    "\n",
    "response = requests.get(url, headers=headers)\n",
    "response = requests.get(url, headers=headers)\n",
    "\n",
    "# Debugowanie odpowiedzi\n",
    "print(f\"Status Code: {response.status_code}\")\n",
    "print(f\"Response Headers: {response.headers}\")\n",
    "print(f\"Response Text (first 2000 chars): {response.text[:2000]}\")\n",
    "\n",
    "# Jeśli odpowiedź jest poprawna, wykonaj webscraping\n",
    "if response.status_code == 200:\n",
    "    soup = BeautifulSoup(response.content, \"html.parser\")\n",
    "\n",
    "    # Pobieranie ofert mieszkań\n",
    "    titles = [h2.a.text.strip() for h2 in soup.find_all(\"h2\", class_=\"title\") if h2.a]\n",
    "    prices = [p.text.replace(\"\\xa0\", \" \").strip() for p in soup.find_all(\"span\", class_=\"price\")]\n",
    "\n",
    "    print(\"Titles:\", titles)\n",
    "    print(len(titles))\n",
    "    print(\"Prices:\", prices)\n",
    "    print(len(prices))\n",
    "\n",
    "    df = pd.DataFrame({\"Title\": titles, \"Price\": prices})\n",
    "\n",
    "    # Dopisanie do pliku CSV\n",
    "    df.to_csv(\"scraped_data.csv\", mode='a', header=not os.path.exists('scraped_data.csv'), index=False)\n",
    "else:\n",
    "    print(\"Failed to retrieve data.\")\n"
   ]
  }
 ],
 "metadata": {
  "colab": {
   "provenance": []
  },
  "kernelspec": {
   "display_name": "Python 3",
   "name": "python3"
  },
  "language_info": {
   "codemirror_mode": {
    "name": "ipython",
    "version": 3
   },
   "file_extension": ".py",
   "mimetype": "text/x-python",
   "name": "python",
   "nbconvert_exporter": "python",
   "pygments_lexer": "ipython3",
   "version": "3.9.23"
  },
  "papermill": {
   "default_parameters": {},
   "duration": 3.677982,
   "end_time": "2025-06-27T15:52:19.127459",
   "environment_variables": {},
   "exception": null,
   "input_path": "nb.ipynb",
   "output_path": "nbo.ipynb",
   "parameters": {},
   "start_time": "2025-06-27T15:52:15.449477",
   "version": "2.6.0"
  }
 },
 "nbformat": 4,
 "nbformat_minor": 5
}