{
 "cells": [
  {
   "cell_type": "code",
   "execution_count": 1,
   "id": "1c6b7243",
   "metadata": {
    "colab": {
     "base_uri": "https://localhost:8080/"
    },
    "execution": {
     "iopub.execute_input": "2025-09-19T15:42:18.990606Z",
     "iopub.status.busy": "2025-09-19T15:42:18.990340Z",
     "iopub.status.idle": "2025-09-19T15:42:21.187345Z",
     "shell.execute_reply": "2025-09-19T15:42:21.186606Z"
    },
    "id": "5pYh4c8j1w43",
    "outputId": "8a0dca73-64e5-4f0d-c493-2c5b38392363",
    "papermill": {
     "duration": 2.200631,
     "end_time": "2025-09-19T15:42:21.188425",
     "exception": false,
     "start_time": "2025-09-19T15:42:18.987794",
     "status": "completed"
    },
    "tags": []
   },
   "outputs": [
    {
     "name": "stdout",
     "output_type": "stream",
     "text": [
      "Status Code: 200\n",
      "Response Headers: {'Server': 'nginx', 'Date': 'Fri, 19 Sep 2025 15:42:20 GMT', 'Content-Type': 'text/html; charset=UTF-8', 'Transfer-Encoding': 'chunked', 'Vary': 'Accept-Encoding, User-Agent', 'Set-Cookie': 'FRSPSID=g6gc33j9a2oe4it7uap6reqtp5; path=/; domain=.sprzedajemy.pl; secure; HttpOnly, _items_per_page__offer_list=60; expires=Sun, 19-Oct-2025 15:42:20 GMT; Max-Age=2592000; path=/; domain=.sprzedajemy.pl; secure; httponly, observed_id=170289584568cd79dcb56b8148298052706148566; expires=Wed, 19-Sep-2125 16:42:20 GMT; Max-Age=3155677200; path=/; domain=.sprzedajemy.pl; secure; httponly', 'Expires': 'Thu, 19 Nov 1981 08:52:00 GMT', 'Cache-Control': 'no-store, no-cache, must-revalidate, post-check=0, pre-check=0', 'Pragma': 'no-cache', 'Content-Encoding': 'gzip'}\n",
      "Response Text (first 2000 chars): <!DOCTYPE html><html xmlns=\"http://www.w3.org/1999/xhtml\" xml:lang=\"pl\" lang=\"pl\" class=\"no-js\" >\n",
      "<head>\n",
      "\t\t\t<!-- Google Tag Manager -->\n",
      "\t\t\t<script>(function(w,d,s,l,i){w[l]=w[l]||[];w[l].push({'gtm.start':\n",
      "\t\t\t\t\t\tnew Date().getTime(),event:'gtm.js'});var f=d.getElementsByTagName(s)[0],\n",
      "\t\t\t\t\tj=d.createElement(s),dl=l!='dataLayer'?'&l='+l:'';j.async=true;j.src=\n",
      "\t\t\t\t\t'https://www.googletagmanager.com/gtm.js?id='+i+dl\n",
      "\t\t\t\t\t\t\t\t\t    ;f.parentNode.insertBefore(j,f);\n",
      "\t\t\t\t    })(window,document,'script','dataLayer','GTM-P3S238');</script>\n",
      "\t\t\t<!-- End Google Tag Manager -->\n",
      "\t<title>Mieszkania Kraków na sprzedaż, wynajem - Sprzedajemy.pl</title><meta http-equiv=\"Content-Type\" content=\"text/html; charset=UTF-8\" >\n",
      "<meta http-equiv=\"X-UA-Compatible\" content=\"IE=edge\" >\n",
      "<meta name=\"description\" content=\"Ogłoszenia o tematyce:  w kategorii Mieszkania - Kupuj i sprzedawaj rzeczy używane i nowe w kategorii Mieszkania na Sprzedajemy.pl\" >\n",
      "<meta property=\"og:title\" content=\"Mieszkania Kraków na sprzedaż, wynajem - Sprzedajemy.pl\" >\n",
      "<meta property=\"og:type\" content=\"website\" >\n",
      "<meta property=\"og:image\" content=\"https://thumbs.img-sprzedajemy.pl/facebook/sprzedajemy.pl.png\" >\n",
      "<meta property=\"og:image:width\" content=\"200\" >\n",
      "<meta property=\"og:image:height\" content=\"200\" >\n",
      "<meta property=\"og:url\" content=\"https://sprzedajemy.pl/krakow/nieruchomosci/mieszkania\" >\n",
      "<meta property=\"og:site_name\" content=\"Sprzedajemy.pl\" >\n",
      "<meta property=\"fb:app_id\" content=\"173258269367442\" >\n",
      "<meta property=\"og:description\" content=\"Ogłoszenia o tematyce:  w kategorii Mieszkania - Kupuj i sprzedawaj rzeczy używane i nowe w kategorii Mieszkania na Sprzedajemy.pl\" >\n",
      "<meta name=\"robots\" content=\"noindex, follow\" >\t\t<script  async=\"async\" src=\"https://static.criteo.net/js/ld/publishertag.js\"></script>\n",
      "        <script  async=\"async\" src=\"https://ap.lijit.com/www/sovrn_beacon_standalone/sovrn_standalone_beacon.js?iid=13417409&amp;uid=sprzedajemy\" id=\"sBeacon\"></script>\n",
      "\t\t<script  async=\"async\" src=\"https://securepuba\n",
      "Titles: ['Podedworze 13', 'Stylowy lokal na parterze przy Krowoderskiej', 'Wyjątkowy lokal przy ul. Krowoderskiej z widokiem na stronę ogrodową', 'Dwa pokoje - stare miasto - Do wejścia - Własność', '2-pokojowe mieszkanie po remoncie | PROMOCJA | ul Bronowicka', 'Sprzedam dwupokojowe mieszkanie os. Dywizjonu 303, 19C Kraków', 'Mieszkanie z widokiem na góry', 'Wyjątkowe mieszkanie z widokiem na klasztor w Tyńcu i panoramę Tatr', 'Stylowy apartament z widokiem na panoramę Krakowa - od właściciela', 'Nowoczesny apartament z panoramicznym widokiem - od właściciela', 'Mieszkanie na sprzedaż 66.11m2 3 pokojowe Kraków', 'Mieszkanie Kraków Piasta Kołodzieja 71.2m2 4-pokojowe', 'Mieszkanie 62.85m2 3 pokojowe Kraków Wadowicka', 'Mieszkanie Kraków 55.09m2 2 pokoje', 'Oferta sprzedaży mieszkania Kraków Pękowicka 35.87m2 2-pokojowe', 'Mieszkanie Kraków 26.11m2 1-pok', 'Oferta sprzedaży mieszkania 83.66m2 Kraków Wadowicka', 'Mieszkanie 72.48m2 2 pokoje Kraków Na Błonie', 'Mieszkanie Kraków Półłanki 48.6m2 2-pokojowe', 'Oferta sprzedaży mieszkania 38.55m2 Kraków Pękowicka', 'Mieszkanie Kraków 56.67m2', 'Sprzedam mieszkanie 39.76 metrów 2 pok Kraków Pękowicka', 'Oferta sprzedaży mieszkania 72.18m2 4-pokojowe Kraków Pękowicka', 'Mieszkanie Kraków Grzegórzki 29.97m2 1-pok', 'Mieszkanie do sprzedania Kraków 39.29m2 2 pok', 'Mieszkanie 44m2 2 pokoje Kraków', 'Mieszkanie 37.83m2 2 pokojowe Kraków', 'Mieszkanie sprzedam 43.08m2 2-pokojowe Kraków', 'Sprzedaż mieszkania 48.5m2 3-pokojowe Kraków', 'Mieszkanie 51.72m2 2 pok Kraków', 'Mieszkanie Kraków 74.1m2 3-pokojowe', 'Mieszkanie 65.46m2 3 pokoje Kraków Wadowicka', 'Mieszkanie 51.91m2 3-pokojowe Kraków Pękowicka', 'Oferta sprzedaży mieszkania 41.56m2 2 pokoje Kraków', 'Oferta sprzedaży mieszkania 52.19m2 3-pokojowe Kraków', 'Mieszkanie Kraków 45m2 2-pokojowe', 'Mieszkanie Kraków 64.65m2 3 pokoje', 'Mieszkanie Kraków Wadowicka 61.82m2 3 pokoje', 'Oferta sprzedaży mieszkania Kraków 61.1m2 3 pokoje', 'Mieszkanie 38.19m 2 pokoje Kraków', 'Mieszkanie Kraków Piasta Kołodzieja 49.63m2 3 pokojowe', 'Mieszkanie 48.18m2 2 pok Kraków Nowa', 'Ogłoszenie mieszkanie Kraków 69.35m2 3 pokoje', 'Mieszkanie 61.89m2 4-pokojowe Kraków', 'Mieszkanie Kraków Bukowa 57.19 metrów 3 pokoje', 'Mieszkanie 37.92m2 2 pokojowe Kraków', 'Mieszkanie Kraków Babińskiego 70.88m2 3 pokoje', 'Mieszkanie do sprzedania Kraków 72.4m2 3 pokoje', 'Oferta sprzedaży mieszkania Kraków Wadowicka 73.62m2 3-pok', 'Oferta sprzedaży mieszkania 35.25 metrów 2-pok Kraków', 'Mieszkanie Kraków Kantrowicka 59.31m2 4 pokoje', 'Mieszkanie 42.21m2 2-pok Kraków', 'Mieszkanie 65.16m2 4 pokoje Kraków Kantrowicka', 'Mieszkanie Kraków Wadowicka 43.35m2 2 pok', 'Mieszkanie Kraków 50.64m2 3-pok', 'Mieszkanie 35.26m2 Kraków', 'Mieszkanie 146.73m2 4-pok Kraków', 'Mieszkanie Kraków Wadowicka 64.42m 3-pokojowe', 'Mieszkanie Kraków Wadowicka 43.35m2 3 pokoje', 'Mieszkanie Kraków 36.09m2 2 pok']\n",
      "60\n",
      "Prices: ['542 000 zł', '1 890 000 zł', '1 340 000 zł', '715 155 zł', '710 000 zł', '635 000 zł', '265 000 zł', '779 000 zł', '890 000 zł', '997 000 zł', '991 650 zł', '904 240 zł', '986 745 zł', '949 916 zł', '615 170 zł', '453 008 zł', '1 271 632 zł', '1 212 445 zł', '569 000 zł', '653 422 zł', '849 000 zł', '671 944 zł', '1 144 053 zł', '689 000 zł', '664 001 zł', '829 400 zł', '645 001 zł', '792 672 zł', '759 000 zł', '1 060 000 zł', '999 000 zł', '1 125 912 zł', '856 515 zł', '650 000 zł', '853 306 zł', '4 000 zł', '4 000 zł', '1 057 122 zł', '870 000 zł', '656 868 zł', '714 672 zł', '1 150 000 zł', '1 240 000 zł', '999 523 zł', '657 685 zł', '640 848 zł', '1 268 752 zł', '1 158 400 zł', '1 177 920 zł', '711 518 zł', '704 306 zł', '702 796 zł', '944 820 zł', '780 300 zł', '843 156 zł', '657 206 zł', '2 100 000 zł', '1 101 582 zł', '801 975 zł', '479 997 zł']\n",
      "60\n"
     ]
    }
   ],
   "source": [
    "import requests\n",
    "from bs4 import BeautifulSoup\n",
    "import pandas as pd\n",
    "import os\n",
    "\n",
    "url = \"https://sprzedajemy.pl/krakow/nieruchomosci/mieszkania?offset=0&items_per_page=60\"\n",
    "\n",
    "headers = {\n",
    "    \"User-Agent\": \"Mozilla/5.0 (Windows NT 10.0; Win64; x64) AppleWebKit/537.36 (KHTML, like Gecko) Chrome/58.0.3029.110 Safari/537.36\",\n",
    "    \"Accept\": \"text/html,application/xhtml+xml,application/xml;q=0.9,image/webp,image/apng,*/*;q=0.8\",\n",
    "    \"Accept-Encoding\": \"gzip, deflate, br\",\n",
    "    \"Accept-Language\": \"en-US,en;q=0.9,pl;q=0.8\",\n",
    "    \"Connection\": \"keep-alive\"\n",
    "}\n",
    "\n",
    "response = requests.get(url, headers=headers)\n",
    "response = requests.get(url, headers=headers)\n",
    "\n",
    "# Debugowanie odpowiedzi\n",
    "print(f\"Status Code: {response.status_code}\")\n",
    "print(f\"Response Headers: {response.headers}\")\n",
    "print(f\"Response Text (first 2000 chars): {response.text[:2000]}\")\n",
    "\n",
    "# Jeśli odpowiedź jest poprawna, wykonaj webscraping\n",
    "if response.status_code == 200:\n",
    "    soup = BeautifulSoup(response.content, \"html.parser\")\n",
    "\n",
    "    # Pobieranie ofert mieszkań\n",
    "    titles = [h2.a.text.strip() for h2 in soup.find_all(\"h2\", class_=\"title\") if h2.a]\n",
    "    prices = [p.text.replace(\"\\xa0\", \" \").strip() for p in soup.find_all(\"span\", class_=\"price\")]\n",
    "\n",
    "    print(\"Titles:\", titles)\n",
    "    print(len(titles))\n",
    "    print(\"Prices:\", prices)\n",
    "    print(len(prices))\n",
    "\n",
    "    df = pd.DataFrame({\"Title\": titles, \"Price\": prices})\n",
    "\n",
    "    # Dopisanie do pliku CSV\n",
    "    df.to_csv(\"scraped_data.csv\", mode='a', header=not os.path.exists('scraped_data.csv'), index=False)\n",
    "else:\n",
    "    print(\"Failed to retrieve data.\")\n"
   ]
  }
 ],
 "metadata": {
  "colab": {
   "provenance": []
  },
  "kernelspec": {
   "display_name": "Python 3",
   "name": "python3"
  },
  "language_info": {
   "codemirror_mode": {
    "name": "ipython",
    "version": 3
   },
   "file_extension": ".py",
   "mimetype": "text/x-python",
   "name": "python",
   "nbconvert_exporter": "python",
   "pygments_lexer": "ipython3",
   "version": "3.9.23"
  },
  "papermill": {
   "default_parameters": {},
   "duration": 3.308415,
   "end_time": "2025-09-19T15:42:21.405482",
   "environment_variables": {},
   "exception": null,
   "input_path": "nb.ipynb",
   "output_path": "nbo.ipynb",
   "parameters": {},
   "start_time": "2025-09-19T15:42:18.097067",
   "version": "2.6.0"
  }
 },
 "nbformat": 4,
 "nbformat_minor": 5
}