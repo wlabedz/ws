{
 "cells": [
  {
   "cell_type": "code",
   "execution_count": 1,
   "id": "101ff693",
   "metadata": {
    "colab": {
     "base_uri": "https://localhost:8080/"
    },
    "execution": {
     "iopub.execute_input": "2025-09-05T13:50:15.350682Z",
     "iopub.status.busy": "2025-09-05T13:50:15.350377Z",
     "iopub.status.idle": "2025-09-05T13:50:17.716392Z",
     "shell.execute_reply": "2025-09-05T13:50:17.715680Z"
    },
    "id": "5pYh4c8j1w43",
    "outputId": "8a0dca73-64e5-4f0d-c493-2c5b38392363",
    "papermill": {
     "duration": 2.369366,
     "end_time": "2025-09-05T13:50:17.717504",
     "exception": false,
     "start_time": "2025-09-05T13:50:15.348138",
     "status": "completed"
    },
    "tags": []
   },
   "outputs": [
    {
     "name": "stdout",
     "output_type": "stream",
     "text": [
      "Status Code: 200\n",
      "Response Headers: {'Server': 'nginx', 'Date': 'Fri, 05 Sep 2025 13:50:17 GMT', 'Content-Type': 'text/html; charset=UTF-8', 'Transfer-Encoding': 'chunked', 'Vary': 'Accept-Encoding, User-Agent', 'Set-Cookie': 'FRSPSID=e4rp52dep8fkkbrclidvqsdds3; path=/; domain=.sprzedajemy.pl; secure; HttpOnly, _items_per_page__offer_list=60; expires=Sun, 05-Oct-2025 13:50:17 GMT; Max-Age=2592000; path=/; domain=.sprzedajemy.pl; secure; httponly, observed_id=115251302668baea99327f71167843602169496854; expires=Wed, 05-Sep-2125 14:50:17 GMT; Max-Age=3155677200; path=/; domain=.sprzedajemy.pl; secure; httponly', 'Expires': 'Thu, 19 Nov 1981 08:52:00 GMT', 'Cache-Control': 'no-store, no-cache, must-revalidate, post-check=0, pre-check=0', 'Pragma': 'no-cache', 'Content-Encoding': 'gzip'}\n",
      "Response Text (first 2000 chars): <!DOCTYPE html><html xmlns=\"http://www.w3.org/1999/xhtml\" xml:lang=\"pl\" lang=\"pl\" class=\"no-js\" >\n",
      "<head>\n",
      "\t\t\t<!-- Google Tag Manager -->\n",
      "\t\t\t<script>(function(w,d,s,l,i){w[l]=w[l]||[];w[l].push({'gtm.start':\n",
      "\t\t\t\t\t\tnew Date().getTime(),event:'gtm.js'});var f=d.getElementsByTagName(s)[0],\n",
      "\t\t\t\t\tj=d.createElement(s),dl=l!='dataLayer'?'&l='+l:'';j.async=true;j.src=\n",
      "\t\t\t\t\t'https://www.googletagmanager.com/gtm.js?id='+i+dl\n",
      "\t\t\t\t\t\t\t\t\t    ;f.parentNode.insertBefore(j,f);\n",
      "\t\t\t\t    })(window,document,'script','dataLayer','GTM-P3S238');</script>\n",
      "\t\t\t<!-- End Google Tag Manager -->\n",
      "\t<title>Mieszkania Kraków na sprzedaż, wynajem - Sprzedajemy.pl</title><meta http-equiv=\"Content-Type\" content=\"text/html; charset=UTF-8\" >\n",
      "<meta http-equiv=\"X-UA-Compatible\" content=\"IE=edge\" >\n",
      "<meta name=\"description\" content=\"Ogłoszenia o tematyce:  w kategorii Mieszkania - Kupuj i sprzedawaj rzeczy używane i nowe w kategorii Mieszkania na Sprzedajemy.pl\" >\n",
      "<meta property=\"og:title\" content=\"Mieszkania Kraków na sprzedaż, wynajem - Sprzedajemy.pl\" >\n",
      "<meta property=\"og:type\" content=\"website\" >\n",
      "<meta property=\"og:image\" content=\"https://thumbs.img-sprzedajemy.pl/facebook/sprzedajemy.pl.png\" >\n",
      "<meta property=\"og:image:width\" content=\"200\" >\n",
      "<meta property=\"og:image:height\" content=\"200\" >\n",
      "<meta property=\"og:url\" content=\"https://sprzedajemy.pl/krakow/nieruchomosci/mieszkania\" >\n",
      "<meta property=\"og:site_name\" content=\"Sprzedajemy.pl\" >\n",
      "<meta property=\"fb:app_id\" content=\"173258269367442\" >\n",
      "<meta property=\"og:description\" content=\"Ogłoszenia o tematyce:  w kategorii Mieszkania - Kupuj i sprzedawaj rzeczy używane i nowe w kategorii Mieszkania na Sprzedajemy.pl\" >\n",
      "<meta name=\"robots\" content=\"noindex, follow\" >\t\t<script  async=\"async\" src=\"https://static.criteo.net/js/ld/publishertag.js\"></script>\n",
      "        <script  async=\"async\" src=\"https://ap.lijit.com/www/sovrn_beacon_standalone/sovrn_standalone_beacon.js?iid=13417409&amp;uid=sprzedajemy\" id=\"sBeacon\"></script>\n",
      "\t\t<script  async=\"async\" src=\"https://securepuba\n",
      "Titles: ['Mieszkanie z widokiem na góry', 'Wyjątkowe mieszkanie z widokiem na klasztor w Tyńcu i panoramę Tatr', 'Stylowy apartament z widokiem na panoramę Krakowa - od właściciela', 'Nowoczesny apartament z panoramicznym widokiem - od właściciela', 'Kraków, Stare Miasto sprzedaż/zamiana', 'Stylowy lokal na parterze przy Krowoderskiej', '2-pokojowe mieszkanie po remoncie | PROMOCJA | ul Bronowicka', 'Oferta wynajmu mieszkania 35.84m2 2 pokoje Kraków Romanowicza', 'Mieszkanie Kraków 24.3m 1-pokojowe', 'Mieszkanie Kraków 61.13m2 4 pokoje', 'Mieszkanie 38.19 metrów 2 pokoje Kraków Na Błonie', 'Mieszkanie 60.04m2 4 pokoje Kraków', 'Sprzedam mieszkanie Kraków 37.38m2 2-pokojowe', 'Mieszkanie do sprzedania 35.05m2 2-pokojowe Kraków', 'Mieszkanie 90.38m 4 pokoje Kraków', 'Mieszkanie 50.95m2 Kraków Wadowicka', 'Oferta sprzedaży mieszkania Kraków Pękowicka 72.03m2 4 pok', '3pokoje,balkon,po remoncie,os.Albertyńskie,Czyżyny', 'Mieszkanie Kraków 37m2', 'Mieszkanie sprzedam 45.84m2 2 pokojowe Kraków', 'Mieszkanie 32.1m2 2 pokoje Kraków Klimeckiego', 'Mieszkanie Kraków Kantrowicka 51.54m2 3 pokoje', 'Oferta sprzedaży mieszkania Kraków 37.68m2', 'Do sprzedaży mieszkanie Kraków Babińskiego 59.52 metry 3 pokoje', 'Mieszkanie 36.09m2 2-pok Kraków Kantrowicka', 'Mieszkanie Kraków Pękowicka 39.05m2', 'Mieszkanie na sprzedaż 35.25m2 Kraków', 'Mieszkanie 62.62m2 4 pokojowe Kraków', 'Sprzedam mieszkanie Kraków Kantrowicka 34.79m2 2-pok', 'Do sprzedaży mieszkanie 46.66m2 2 pokoje Kraków Babińskiego', 'Mieszkanie 31.74m2 1 pokój Kraków Babińskiego', 'Mieszkanie Kraków 45.2 metry 3 pokoje', 'Mieszkanie Kraków 29 listopada - okolice 35.25m2 2 pok', 'Mieszkanie 51.54m2 3 pok Kraków', 'Oferta sprzedaży mieszkania Kraków Wadowicka 64.4m2 3 pokoje', 'Mieszkanie Kraków Piasta Kołodzieja 70.96m2 4-pok', 'Mieszkanie Kraków Kantrowicka 34.79m2 2 pokoje', 'Mieszkanie 70.5m2 3 pokoje Kraków Bohomolca', 'Oferta sprzedaży mieszkania 51.04m 2-pokojowe Kraków', 'Mieszkanie na sprzedaż Kraków Wadowicka 70.67m2 4 pokoje', 'Mieszkanie Kraków 58.09m2 3-pokojowe', 'Mieszkanie 34m 1 pokój Kraków al. Mickiewicza', 'Mieszkanie 63.9m2 3 pokoje Kraków Na Błonie', 'Mieszkanie Kraków 39.34m2 2-pokojowe', 'Mieszkanie 50m2 do wynajęcia - Ruczaj / os. Europejskie /Kraków', 'Oferta sprzedaży mieszkania 58.35m2 Kraków Powstańców', 'Mieszkanie Kraków Zdrowa 40.29m2 2 pokoje', 'Mieszkanie Kraków 46.88m2 2-pokojowe', 'Oferta sprzedaży mieszkania 51.69m2 3-pok Kraków Józefa Łepkowskiego', 'Mieszkanie sprzedam Kraków 32.28m2 2-pokojowe', 'Mieszkanie do sprzedania Kraków os. Bohaterów Września 52.79m2 2 pokoje', 'Gotowa Urządzona mikro kawalerka+balkon+ogród', 'Nowa Kameralna Inwestycja -od Dewelopera, Bieżanów', 'Kawalerka Salwator Centrum POD INWESTYCJE', '3 pokoje – 68,6 m2 – Prokocim Nowy – mieszkanie bezpośrednio od właściciela', 'Os. Botanika, apartament 4-5 pokoi, m. parkingowe', 'Kazimierz. Garsoniera po remoncie. Inwestycyjnie', 'Dla studenta lub na wynajem krótkoterminowy', 'Kawalerka do wynajęcia -Kraków Grzegórzki, Centrum', 'Sprzedam mieszkanie 43.6m2 2 pokoje Kraków']\n",
      "60\n",
      "Prices: ['265 000 zł', '779 000 zł', '890 000 zł', '997 000 zł', '2 083 000 zł', '1 800 000 zł', '710 000 zł', '3 005 zł', '399 000 zł', '987 249 zł', '776 517 zł', '981 654 zł', '767 747 zł', '482 813 zł', '1 464 156 zł', '886 530 zł', '1 148 878 zł', '679 999 zł', '795 000 zł', '820 536 zł', '749 000 zł', '636 519 zł', '696 905 zł', '982 080 zł', '479 997 zł', '663 850 zł', '700 884 zł', '1 014 444 zł', '495 757 zł', '825 882 zł', '599 886 zł', '743 540 zł', '645 692 zł', '734 445 zł', '1 114 120 zł', '879 904 zł', '462 707 zł', '1 198 000 zł', '913 616 zł', '1 187 256 zł', '1 076 233 zł', '748 000 zł', '1 142 979 zł', '670 747 zł', '2 800 zł', '789 000 zł', '699 000 zł', '2 200 zł', '796 026 zł', '290 000 zł', '422 000 zł', '229 000 zł', '840 000 zł', '428 824 zł', '809 000 zł', '1 350 000 zł', '399 000 zł', '545 000 zł', '2 400 zł', '670 000 zł']\n",
      "60\n"
     ]
    }
   ],
   "source": [
    "import requests\n",
    "from bs4 import BeautifulSoup\n",
    "import pandas as pd\n",
    "import os\n",
    "\n",
    "url = \"https://sprzedajemy.pl/krakow/nieruchomosci/mieszkania?offset=0&items_per_page=60\"\n",
    "\n",
    "headers = {\n",
    "    \"User-Agent\": \"Mozilla/5.0 (Windows NT 10.0; Win64; x64) AppleWebKit/537.36 (KHTML, like Gecko) Chrome/58.0.3029.110 Safari/537.36\",\n",
    "    \"Accept\": \"text/html,application/xhtml+xml,application/xml;q=0.9,image/webp,image/apng,*/*;q=0.8\",\n",
    "    \"Accept-Encoding\": \"gzip, deflate, br\",\n",
    "    \"Accept-Language\": \"en-US,en;q=0.9,pl;q=0.8\",\n",
    "    \"Connection\": \"keep-alive\"\n",
    "}\n",
    "\n",
    "response = requests.get(url, headers=headers)\n",
    "response = requests.get(url, headers=headers)\n",
    "\n",
    "# Debugowanie odpowiedzi\n",
    "print(f\"Status Code: {response.status_code}\")\n",
    "print(f\"Response Headers: {response.headers}\")\n",
    "print(f\"Response Text (first 2000 chars): {response.text[:2000]}\")\n",
    "\n",
    "# Jeśli odpowiedź jest poprawna, wykonaj webscraping\n",
    "if response.status_code == 200:\n",
    "    soup = BeautifulSoup(response.content, \"html.parser\")\n",
    "\n",
    "    # Pobieranie ofert mieszkań\n",
    "    titles = [h2.a.text.strip() for h2 in soup.find_all(\"h2\", class_=\"title\") if h2.a]\n",
    "    prices = [p.text.replace(\"\\xa0\", \" \").strip() for p in soup.find_all(\"span\", class_=\"price\")]\n",
    "\n",
    "    print(\"Titles:\", titles)\n",
    "    print(len(titles))\n",
    "    print(\"Prices:\", prices)\n",
    "    print(len(prices))\n",
    "\n",
    "    df = pd.DataFrame({\"Title\": titles, \"Price\": prices})\n",
    "\n",
    "    # Dopisanie do pliku CSV\n",
    "    df.to_csv(\"scraped_data.csv\", mode='a', header=not os.path.exists('scraped_data.csv'), index=False)\n",
    "else:\n",
    "    print(\"Failed to retrieve data.\")\n"
   ]
  }
 ],
 "metadata": {
  "colab": {
   "provenance": []
  },
  "kernelspec": {
   "display_name": "Python 3",
   "name": "python3"
  },
  "language_info": {
   "codemirror_mode": {
    "name": "ipython",
    "version": 3
   },
   "file_extension": ".py",
   "mimetype": "text/x-python",
   "name": "python",
   "nbconvert_exporter": "python",
   "pygments_lexer": "ipython3",
   "version": "3.9.23"
  },
  "papermill": {
   "default_parameters": {},
   "duration": 3.464148,
   "end_time": "2025-09-05T13:50:17.935597",
   "environment_variables": {},
   "exception": null,
   "input_path": "nb.ipynb",
   "output_path": "nbo.ipynb",
   "parameters": {},
   "start_time": "2025-09-05T13:50:14.471449",
   "version": "2.6.0"
  }
 },
 "nbformat": 4,
 "nbformat_minor": 5
}