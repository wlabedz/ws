{
 "cells": [
  {
   "cell_type": "code",
   "execution_count": 1,
   "id": "50185a3d",
   "metadata": {
    "colab": {
     "base_uri": "https://localhost:8080/"
    },
    "execution": {
     "iopub.execute_input": "2025-05-28T20:59:00.857028Z",
     "iopub.status.busy": "2025-05-28T20:59:00.856631Z",
     "iopub.status.idle": "2025-05-28T20:59:02.942848Z",
     "shell.execute_reply": "2025-05-28T20:59:02.942158Z"
    },
    "id": "5pYh4c8j1w43",
    "outputId": "8a0dca73-64e5-4f0d-c493-2c5b38392363",
    "papermill": {
     "duration": 2.091193,
     "end_time": "2025-05-28T20:59:02.944073",
     "exception": false,
     "start_time": "2025-05-28T20:59:00.852880",
     "status": "completed"
    },
    "tags": []
   },
   "outputs": [
    {
     "name": "stdout",
     "output_type": "stream",
     "text": [
      "Status Code: 200\n",
      "Response Headers: {'Server': 'nginx', 'Date': 'Wed, 28 May 2025 20:59:02 GMT', 'Content-Type': 'text/html; charset=UTF-8', 'Transfer-Encoding': 'chunked', 'Vary': 'Accept-Encoding, User-Agent', 'Set-Cookie': 'FRSPSID=ukh84abrm5kun808s0pc7etec7; path=/; domain=.sprzedajemy.pl; secure; HttpOnly, _items_per_page__offer_list=60; expires=Fri, 27-Jun-2025 20:59:02 GMT; Max-Age=2592000; path=/; domain=.sprzedajemy.pl; secure; httponly, observed_id=1919170953683779167cbdf5109620409803533196; expires=Mon, 28-May-2125 21:59:02 GMT; Max-Age=3155677200; path=/; domain=.sprzedajemy.pl; secure; httponly', 'Expires': 'Thu, 19 Nov 1981 08:52:00 GMT', 'Cache-Control': 'no-store, no-cache, must-revalidate, post-check=0, pre-check=0', 'Pragma': 'no-cache', 'Content-Encoding': 'gzip'}\n",
      "Response Text (first 2000 chars): <!DOCTYPE html><html xmlns=\"http://www.w3.org/1999/xhtml\" xml:lang=\"pl\" lang=\"pl\" class=\"no-js\" >\n",
      "<head>\n",
      "\t\t\t<!-- Google Tag Manager -->\n",
      "\t\t\t<script>(function(w,d,s,l,i){w[l]=w[l]||[];w[l].push({'gtm.start':\n",
      "\t\t\t\t\t\tnew Date().getTime(),event:'gtm.js'});var f=d.getElementsByTagName(s)[0],\n",
      "\t\t\t\t\tj=d.createElement(s),dl=l!='dataLayer'?'&l='+l:'';j.async=true;j.src=\n",
      "\t\t\t\t\t'https://www.googletagmanager.com/gtm.js?id='+i+dl\n",
      "\t\t\t\t\t\t\t\t\t    ;f.parentNode.insertBefore(j,f);\n",
      "\t\t\t\t    })(window,document,'script','dataLayer','GTM-P3S238');</script>\n",
      "\t\t\t<!-- End Google Tag Manager -->\n",
      "\t<title>Mieszkania Kraków na sprzedaż, wynajem - Sprzedajemy.pl</title><meta http-equiv=\"Content-Type\" content=\"text/html; charset=UTF-8\" >\n",
      "<meta http-equiv=\"X-UA-Compatible\" content=\"IE=edge\" >\n",
      "<meta name=\"description\" content=\"Ogłoszenia o tematyce:  w kategorii Mieszkania - Kupuj i sprzedawaj rzeczy używane i nowe w kategorii Mieszkania na Sprzedajemy.pl\" >\n",
      "<meta property=\"og:title\" content=\"Mieszkania Kraków na sprzedaż, wynajem - Sprzedajemy.pl\" >\n",
      "<meta property=\"og:type\" content=\"website\" >\n",
      "<meta property=\"og:image\" content=\"https://thumbs.img-sprzedajemy.pl/facebook/sprzedajemy.pl.png\" >\n",
      "<meta property=\"og:image:width\" content=\"200\" >\n",
      "<meta property=\"og:image:height\" content=\"200\" >\n",
      "<meta property=\"og:url\" content=\"https://sprzedajemy.pl/krakow/nieruchomosci/mieszkania\" >\n",
      "<meta property=\"og:site_name\" content=\"Sprzedajemy.pl\" >\n",
      "<meta property=\"fb:app_id\" content=\"173258269367442\" >\n",
      "<meta property=\"og:description\" content=\"Ogłoszenia o tematyce:  w kategorii Mieszkania - Kupuj i sprzedawaj rzeczy używane i nowe w kategorii Mieszkania na Sprzedajemy.pl\" >\n",
      "<meta name=\"robots\" content=\"noindex, follow\" >\t\t<script  async=\"async\" src=\"https://static.criteo.net/js/ld/publishertag.js\"></script>\n",
      "        <script  async=\"async\" src=\"https://ap.lijit.com/www/sovrn_beacon_standalone/sovrn_standalone_beacon.js?iid=13417409&amp;uid=sprzedajemy\" id=\"sBeacon\"></script>\n",
      "\t\t<script  async=\"async\" src=\"https://securepuba\n"
     ]
    },
    {
     "name": "stdout",
     "output_type": "stream",
     "text": [
      "Titles: ['2 pok,oddzielna kuchnia,klima,parking, Wrocławska', 'Strych do adaptacji, Błonia, ul. Filarecka', 'Kraków, Stare Miasto sprzedaż/zamiana', 'Nowoczesny apartament z panoramicznym widokiem - od właściciela', 'Stylowy apartament z widokiem na panoramę Krakowa - od właściciela', 'Wyjątkowe mieszkanie z widokiem na klasztor w Tyńcu i panoramę Tatr', 'Kraków Bronowice Stawowa 168 / 60m2 3 POK/ 22,5 m2 taras/ BEZ POŚREDNIKÓW', 'Nowe mieszkanie na sprzedaż 2-pokoje 38,6 m2 | Krowodrza - Kraków', 'Mieszkanie 4-pokoje Kraków - wolne od 1 Lipca 2025 r.', '2 lub 3 pokoje,62m2,balkon, Widok na Wawel', 'Mieszkanie na Złocieniu! Super cena i GRATIS', '3 pokoje, na Kazimierzu w Super Cenie!', 'Mieszkanie Kraków 57.77m2 3-pok', 'Mieszkanie Kraków Wincentego Witosa 67.56m2 3 pokoje', 'Oferta sprzedaży mieszkania Kraków Wincentego Witosa 67.57m2 3 pokoje', 'Oferta sprzedaży mieszkania 60.45m2 Kraków', 'Mieszkanie Kraków Reduta 90.05m2', 'Apartament nad Wisłą na Starym Podgórzu', 'Mieszkanie 2-pokojowe 44,4 m2 Kraków- Bronowice !', 'Mieszkanie Kraków Reduta 136.9m2 5 pokoi', 'Sprzedam mieszkanie Kraków 33.87m2 3-pokojowe', 'Mieszkanie Kraków Piasta Kołodzieja 44.25m2', 'Mieszkanie 48.2 metry 2 pok Kraków Wysockiej', 'Mieszkanie sprzedam 120.54m2 Kraków Reduta', 'Oferta sprzedaży mieszkania Kraków 52.32m2 2-pokojowe', 'Mieszkanie 38.5m2 2-pok Kraków', 'Sprzedam mieszkanie 52.27m2 Kraków Czerwone Maki', 'Na sprzedaż 2 pokojowe, stan - bardzo dobry', 'Mieszkanie 60.45m2 3 pokojowe Kraków Wincentego Witosa', 'Mieszkanie 80m 4 pokoje Kraków', 'Mieszkanie 42.93m2 Kraków Czerwone Maki', 'Mieszkanie Kraków Przy Arce 54.16m2 3 pokoje', 'Apartament: 3 pokoje, 2 łazienki, garaż', 'Mieszkanie Kraków 90.25m2 3 pokoje', 'Sprzedaż mieszkania Kraków Wincentego Witosa 66.86m2', 'Mieszkanie 52.22m2 2 pok Kraków Czerwone Maki', 'Oferta sprzedaży mieszkania 136.9m2 5 pokoi Kraków Reduta', 'Mieszkanie Kraków 41m 1 pok', 'Mieszkanie Kraków 51.85 metrów 2-pokojowe', 'Oferta sprzedaży mieszkania Kraków Armii Krajowej - okolice 89.16m2 4-pokojowe', 'Sprzedaż mieszkania Kraków os. Bohaterów Września 39m2 2-pokojowe', 'Mieszkanie 27.42m2 Kraków', 'Mieszkanie Kraków 27.42 metry 4-pokojowe', 'Mieszkanie na sprzedaż 77.26m2 3 pokojowe Kraków', 'Mieszkanie Kraków Rydlówka 27.42m2 3 pokoje', 'Ogłoszenie mieszkanie 89.16m2 4-pokojowe Kraków', 'Oferta sprzedaży mieszkania Kraków Rydlówka 27.42m2 4 pokoje', 'Oferta sprzedaży mieszkania Kraków Rydlówka 27.42m2 3-pokojowe', 'Mieszkanie Kraków Rydlówka 27.42m2', 'Mieszkanie Kraków 27.42m2 1-pokojowe', 'Nowoczesne 3 pokojowe mieszkanie ul. Domagały', 'Mieszkanie Kraków Leonida Teligi 638 metrów', 'Mieszkanie Kraków Obozowa 115.2m2 4 pokoje', 'Mieszkanie 27.42m2 Kraków Rydlówka', 'Bezpośrednio wynajmę 2-pokojowe ul.Batorego po remoncie.', 'Mieszkanie Kraków 27.42m2 3 pokoje', 'Mieszkanie Kraków Rydlówka 27.42m2 3 pok', 'Mieszkanie 69.86m2 3-pok Kraków', 'Mieszkanie Kraków Rydlówka 27.42m2 3 pok', 'Mieszkanie 19.11m2 1 pokojowe Kraków IGNACEGO DASZYŃSKIEGO']\n",
      "60\n",
      "Prices: ['3 200 zł', '379 999 zł', '2 243 000 zł', '997 000 zł', '897 000 zł', '790 000 zł', '1 137 500 zł', '799 000 zł', '4 800 zł', '1 490 000 zł', '648 000 zł', '880 000 zł', '860 000 zł', '982 810 zł', '966 823 zł', '861 940 zł', '1 338 000 zł', '1 049 000 zł', '600 000 zł', '2 418 000 zł', '519 000 zł', '663 750 zł', '758 000 zł', '2 097 000 zł', '784 245 zł', '2 000 zł', '799 011 zł', '699 999 zł', '871 056 zł', '1 120 000 zł', '698 712 zł', '650 000 zł', '3 700 000 zł', '1 338 000 zł', '912 696 zł', '790 496 zł', '2 418 000 zł', '2 400 zł', '899 000 zł', '1 638 914 zł', '575 000 zł', '1 036 821 zł', '1 198 496 zł', '1 348 885 zł', '1 078 683 zł', '1 726 600 zł', '1 149 640 zł', '969 190 zł', '852 145 zł', '852 145 zł', '2 800 zł', '650 000 zł', '1 367 000 zł', '1 091 400 zł', '3 800 zł', '1 096 750 zł', '960 778 zł', '1 249 859 zł', '914 085 zł', '1 800 zł']\n",
      "60\n"
     ]
    }
   ],
   "source": [
    "import requests\n",
    "from bs4 import BeautifulSoup\n",
    "import pandas as pd\n",
    "import os\n",
    "\n",
    "url = \"https://sprzedajemy.pl/krakow/nieruchomosci/mieszkania?offset=0&items_per_page=60\"\n",
    "\n",
    "headers = {\n",
    "    \"User-Agent\": \"Mozilla/5.0 (Windows NT 10.0; Win64; x64) AppleWebKit/537.36 (KHTML, like Gecko) Chrome/58.0.3029.110 Safari/537.36\",\n",
    "    \"Accept\": \"text/html,application/xhtml+xml,application/xml;q=0.9,image/webp,image/apng,*/*;q=0.8\",\n",
    "    \"Accept-Encoding\": \"gzip, deflate, br\",\n",
    "    \"Accept-Language\": \"en-US,en;q=0.9,pl;q=0.8\",\n",
    "    \"Connection\": \"keep-alive\"\n",
    "}\n",
    "\n",
    "response = requests.get(url, headers=headers)\n",
    "response = requests.get(url, headers=headers)\n",
    "\n",
    "# Debugowanie odpowiedzi\n",
    "print(f\"Status Code: {response.status_code}\")\n",
    "print(f\"Response Headers: {response.headers}\")\n",
    "print(f\"Response Text (first 2000 chars): {response.text[:2000]}\")\n",
    "\n",
    "# Jeśli odpowiedź jest poprawna, wykonaj webscraping\n",
    "if response.status_code == 200:\n",
    "    soup = BeautifulSoup(response.content, \"html.parser\")\n",
    "\n",
    "    # Pobieranie ofert mieszkań\n",
    "    titles = [h2.a.text.strip() for h2 in soup.find_all(\"h2\", class_=\"title\") if h2.a]\n",
    "    prices = [p.text.replace(\"\\xa0\", \" \").strip() for p in soup.find_all(\"span\", class_=\"price\")]\n",
    "\n",
    "    print(\"Titles:\", titles)\n",
    "    print(len(titles))\n",
    "    print(\"Prices:\", prices)\n",
    "    print(len(prices))\n",
    "\n",
    "    df = pd.DataFrame({\"Title\": titles, \"Price\": prices})\n",
    "\n",
    "    # Dopisanie do pliku CSV\n",
    "    df.to_csv(\"scraped_data.csv\", mode='a', header=not os.path.exists('scraped_data.csv'), index=False)\n",
    "else:\n",
    "    print(\"Failed to retrieve data.\")\n"
   ]
  }
 ],
 "metadata": {
  "colab": {
   "provenance": []
  },
  "kernelspec": {
   "display_name": "Python 3",
   "name": "python3"
  },
  "language_info": {
   "codemirror_mode": {
    "name": "ipython",
    "version": 3
   },
   "file_extension": ".py",
   "mimetype": "text/x-python",
   "name": "python",
   "nbconvert_exporter": "python",
   "pygments_lexer": "ipython3",
   "version": "3.9.22"
  },
  "papermill": {
   "default_parameters": {},
   "duration": 3.396118,
   "end_time": "2025-05-28T20:59:03.262695",
   "environment_variables": {},
   "exception": null,
   "input_path": "nb.ipynb",
   "output_path": "nbo.ipynb",
   "parameters": {},
   "start_time": "2025-05-28T20:58:59.866577",
   "version": "2.6.0"
  }
 },
 "nbformat": 4,
 "nbformat_minor": 5
}