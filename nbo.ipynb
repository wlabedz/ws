{
 "cells": [
  {
   "cell_type": "code",
   "execution_count": 1,
   "id": "8294fdd0",
   "metadata": {
    "colab": {
     "base_uri": "https://localhost:8080/"
    },
    "execution": {
     "iopub.execute_input": "2025-07-11T12:47:42.103535Z",
     "iopub.status.busy": "2025-07-11T12:47:42.102804Z",
     "iopub.status.idle": "2025-07-11T12:47:44.404201Z",
     "shell.execute_reply": "2025-07-11T12:47:44.403474Z"
    },
    "id": "5pYh4c8j1w43",
    "outputId": "8a0dca73-64e5-4f0d-c493-2c5b38392363",
    "papermill": {
     "duration": 2.305162,
     "end_time": "2025-07-11T12:47:44.405360",
     "exception": false,
     "start_time": "2025-07-11T12:47:42.100198",
     "status": "completed"
    },
    "tags": []
   },
   "outputs": [
    {
     "name": "stdout",
     "output_type": "stream",
     "text": [
      "Status Code: 200\n",
      "Response Headers: {'Server': 'nginx', 'Date': 'Fri, 11 Jul 2025 12:47:44 GMT', 'Content-Type': 'text/html; charset=UTF-8', 'Transfer-Encoding': 'chunked', 'Vary': 'Accept-Encoding, User-Agent', 'Set-Cookie': 'FRSPSID=k7v1stn6qsb876606k155b0pa6; path=/; domain=.sprzedajemy.pl; secure; HttpOnly, _items_per_page__offer_list=60; expires=Sun, 10-Aug-2025 12:47:43 GMT; Max-Age=2592000; path=/; domain=.sprzedajemy.pl; secure; httponly, observed_id=664430560687107efdf4e6882519939602423992; expires=Wed, 11-Jul-2125 13:47:43 GMT; Max-Age=3155677200; path=/; domain=.sprzedajemy.pl; secure; httponly', 'Expires': 'Thu, 19 Nov 1981 08:52:00 GMT', 'Cache-Control': 'no-store, no-cache, must-revalidate, post-check=0, pre-check=0', 'Pragma': 'no-cache', 'Content-Encoding': 'gzip'}\n",
      "Response Text (first 2000 chars): <!DOCTYPE html><html xmlns=\"http://www.w3.org/1999/xhtml\" xml:lang=\"pl\" lang=\"pl\" class=\"no-js\" >\n",
      "<head>\n",
      "\t\t\t<!-- Google Tag Manager -->\n",
      "\t\t\t<script>(function(w,d,s,l,i){w[l]=w[l]||[];w[l].push({'gtm.start':\n",
      "\t\t\t\t\t\tnew Date().getTime(),event:'gtm.js'});var f=d.getElementsByTagName(s)[0],\n",
      "\t\t\t\t\tj=d.createElement(s),dl=l!='dataLayer'?'&l='+l:'';j.async=true;j.src=\n",
      "\t\t\t\t\t'https://www.googletagmanager.com/gtm.js?id='+i+dl\n",
      "\t\t\t\t\t\t\t\t\t    ;f.parentNode.insertBefore(j,f);\n",
      "\t\t\t\t    })(window,document,'script','dataLayer','GTM-P3S238');</script>\n",
      "\t\t\t<!-- End Google Tag Manager -->\n",
      "\t<title>Mieszkania Kraków na sprzedaż, wynajem - Sprzedajemy.pl</title><meta http-equiv=\"Content-Type\" content=\"text/html; charset=UTF-8\" >\n",
      "<meta http-equiv=\"X-UA-Compatible\" content=\"IE=edge\" >\n",
      "<meta name=\"description\" content=\"Ogłoszenia o tematyce:  w kategorii Mieszkania - Kupuj i sprzedawaj rzeczy używane i nowe w kategorii Mieszkania na Sprzedajemy.pl\" >\n",
      "<meta property=\"og:title\" content=\"Mieszkania Kraków na sprzedaż, wynajem - Sprzedajemy.pl\" >\n",
      "<meta property=\"og:type\" content=\"website\" >\n",
      "<meta property=\"og:image\" content=\"https://thumbs.img-sprzedajemy.pl/facebook/sprzedajemy.pl.png\" >\n",
      "<meta property=\"og:image:width\" content=\"200\" >\n",
      "<meta property=\"og:image:height\" content=\"200\" >\n",
      "<meta property=\"og:url\" content=\"https://sprzedajemy.pl/krakow/nieruchomosci/mieszkania\" >\n",
      "<meta property=\"og:site_name\" content=\"Sprzedajemy.pl\" >\n",
      "<meta property=\"fb:app_id\" content=\"173258269367442\" >\n",
      "<meta property=\"og:description\" content=\"Ogłoszenia o tematyce:  w kategorii Mieszkania - Kupuj i sprzedawaj rzeczy używane i nowe w kategorii Mieszkania na Sprzedajemy.pl\" >\n",
      "<meta name=\"robots\" content=\"noindex, follow\" >\t\t<script  async=\"async\" src=\"https://static.criteo.net/js/ld/publishertag.js\"></script>\n",
      "        <script  async=\"async\" src=\"https://ap.lijit.com/www/sovrn_beacon_standalone/sovrn_standalone_beacon.js?iid=13417409&amp;uid=sprzedajemy\" id=\"sBeacon\"></script>\n",
      "\t\t<script  async=\"async\" src=\"https://securepuba\n",
      "Titles: ['Super lokalizacja! TRAMWAJ, kawalerka do wejścia! Prądnik Czerwony/Huta', '2-pokojowe mieszkanie na Zabłociu – ciche, świetna lokalizacja!', 'Mieszkanie na sprzedaż/zamiana 39m2', 'Wyjątkowe mieszkanie z widokiem na klasztor w Tyńcu i panoramę Tatr', 'Stylowy apartament z widokiem na panoramę Krakowa - od właściciela', 'Nowoczesny apartament z panoramicznym widokiem - od właściciela', 'Kraków, Stare Miasto sprzedaż/zamiana', 'Mieszkanie Kraków Pędzichów 82m2 3 pokojowe', 'Oferta sprzedaży mieszkania 34.79m2 2 pokoje Kraków Kantrowicka', 'Mieszkanie Kraków Babińskiego 82.79m2 3 pokojowe', 'Mieszkanie 52.15 metrów 3 pok Kraków Pękowicka', 'Mieszkanie Kraków Piasta Kołodzieja 49.63m2 3 pokojowe', 'Oferta sprzedaży mieszkania Kraków Pękowicka 36.2m2 2-pok', 'Mieszkanie na sprzedaż 42.61m2 2 pokojowe Kraków', 'Oferta sprzedaży mieszkania Kraków Aleja Jurajska 118.87m2 4-pok', 'Mieszkanie Kraków 34m2', 'Do sprzedaży mieszkanie 41.06 metrów Kraków Na Błonie', 'Mieszkanie 43.35m2 2-pok Kraków Wadowicka', 'Mieszkanie Kraków Kantrowicka 59.75m2 4-pok', 'Sprzedam mieszkanie Kraków Babińskiego 31.74m2 1 pok', 'Mieszkanie 35.6m2 2-pok Kraków Rydlówka', 'Mieszkanie sprzedam Kraków Pękowicka 51.42m2 3-pokojowe', 'Mieszkanie 57m2 Kraków', 'Mieszkanie Kraków 56.67m2', 'Mieszkanie 94.61m2 4-pok Kraków', 'Oferta sprzedaży mieszkania 54.77m2 3 pokoje Kraków Pękowicka', 'Oferta sprzedaży mieszkania Kraków Pękowicka 35.87m2 2-pokojowe', 'Mieszkanie 49.63m2 3 pokoje Kraków', 'Mieszkanie 64.82m2 3 pokojowe Kraków', 'Mieszkanie Kraków 53.81m2 4 pokoje', 'Mieszkanie 63.9m2 3 pokoje Kraków Na Błonie', 'Mieszkanie sprzedam 45.84m2 2 pokojowe Kraków', 'Mieszkanie Kraków Babińskiego 50.57m2 2 pokojowe', 'Mieszkanie 45.02 metry 2 pokoje Kraków Śliczna', 'Oferta sprzedaży mieszkania 72.21 metrów 4 pokojowe Kraków Pękowicka', 'Sprzedaż mieszkania 70.88m2 3 pok Kraków', 'Mieszkanie 51.19m2 Kraków Pękowicka', 'Sprzedam mieszkanie 54.28 metrów 3 pokoje Kraków Pękowicka', 'Mieszkanie Kraków Paulińska 26.4m2 1-pokojowe', 'Wynajmę mieszkanie Kraków Wojciecha Bogusławskiego 45m2 2-pokojowe', 'Do sprzedaży mieszkanie 46.66m2 2 pokoje Kraków Babińskiego', 'Mieszkanie do sprzedania 65.46m2 3-pok Kraków Wadowicka', 'Mieszkanie 40.15m2 2 pokoje Kraków Pękowicka', 'Oferta sprzedaży mieszkania Kraków Geremka 60.77m2 3 pokoje', 'Oferta sprzedaży mieszkania 83.66m2 Kraków Wadowicka', 'Sprzedam mieszkanie 43.35m2 2 pokoje Kraków', 'Mieszkanie 70.88m2 3-pokojowe Kraków', 'Oferta sprzedaży mieszkania Kraków Babińskiego 72.4m2 3-pokojowe', 'Mieszkanie 68.78m2 3 pokojowe Kraków Wadowicka', 'Mieszkanie 37.56m2 2 pokoje Kraków', 'Mieszkanie do sprzedania Kraków 51.71m2 2 pokoje', 'Mieszkanie 50.86m2 2 pokoje Kraków', 'Mieszkanie 40m 2 pokojowe Kraków', 'Mieszkanie na wynajem Kraków 53.2m2 2 pokojowe', 'Mieszkanie sprzedam 62.46 metrów 3 pokojowe Kraków Wadowicka', 'Sprzedam mieszkanie Kraków 42.08m2 20 pokoi', 'Mieszkanie sprzedam 49 metrów Kraków Dąbrowskiego', 'Mieszkanie sprzedam Kraków Wadowicka 46.32m2', 'Mieszkanie Kraków 38.11m2 2-pok', 'Mieszkanie Kraków Piasta Kołodzieja 71.45m2 4-pok']\n",
      "60\n",
      "Prices: ['565 000 zł', '519 000 zł', '526 000 zł', '779 000 zł', '897 000 zł', '997 000 zł', '2 200 000 zł', '1 499 000 zł', '487 060 zł', '1 481 941 zł', '852 652 zł', '714 672 zł', '615 400 zł', '815 981 zł', '860 000 zł', '2 000 zł', '789 214 zł', '797 640 zł', '866 375 zł', '615 756 zł', '841 050 zł', '848 430 zł', '950 000 zł', '849 000 zł', '1 435 706 zł', '890 012 zł', '615 170 zł', '699 783 zł', '1 370 000 zł', '871 722 zł', '1 142 979 zł', '820 536 zł', '884 975 zł', '839 520 zł', '1 148 139 zł', '1 119 904 zł', '844 635 zł', '879 336 zł', '499 000 zł', '4 200 zł', '825 882 zł', '1 112 820 zł', '680 542 zł', '734 000 zł', '1 271 632 zł', '758 625 zł', '1 169 520 zł', '1 194 600 zł', '1 114 236 zł', '763 707 zł', '858 386 zł', '910 394 zł', '3 000 zł', '3 300 zł', '1 068 066 zł', '1 030 960 zł', '1 034 395 zł', '866 184 zł', '776 872 zł', '893 125 zł']\n",
      "60\n"
     ]
    }
   ],
   "source": [
    "import requests\n",
    "from bs4 import BeautifulSoup\n",
    "import pandas as pd\n",
    "import os\n",
    "\n",
    "url = \"https://sprzedajemy.pl/krakow/nieruchomosci/mieszkania?offset=0&items_per_page=60\"\n",
    "\n",
    "headers = {\n",
    "    \"User-Agent\": \"Mozilla/5.0 (Windows NT 10.0; Win64; x64) AppleWebKit/537.36 (KHTML, like Gecko) Chrome/58.0.3029.110 Safari/537.36\",\n",
    "    \"Accept\": \"text/html,application/xhtml+xml,application/xml;q=0.9,image/webp,image/apng,*/*;q=0.8\",\n",
    "    \"Accept-Encoding\": \"gzip, deflate, br\",\n",
    "    \"Accept-Language\": \"en-US,en;q=0.9,pl;q=0.8\",\n",
    "    \"Connection\": \"keep-alive\"\n",
    "}\n",
    "\n",
    "response = requests.get(url, headers=headers)\n",
    "response = requests.get(url, headers=headers)\n",
    "\n",
    "# Debugowanie odpowiedzi\n",
    "print(f\"Status Code: {response.status_code}\")\n",
    "print(f\"Response Headers: {response.headers}\")\n",
    "print(f\"Response Text (first 2000 chars): {response.text[:2000]}\")\n",
    "\n",
    "# Jeśli odpowiedź jest poprawna, wykonaj webscraping\n",
    "if response.status_code == 200:\n",
    "    soup = BeautifulSoup(response.content, \"html.parser\")\n",
    "\n",
    "    # Pobieranie ofert mieszkań\n",
    "    titles = [h2.a.text.strip() for h2 in soup.find_all(\"h2\", class_=\"title\") if h2.a]\n",
    "    prices = [p.text.replace(\"\\xa0\", \" \").strip() for p in soup.find_all(\"span\", class_=\"price\")]\n",
    "\n",
    "    print(\"Titles:\", titles)\n",
    "    print(len(titles))\n",
    "    print(\"Prices:\", prices)\n",
    "    print(len(prices))\n",
    "\n",
    "    df = pd.DataFrame({\"Title\": titles, \"Price\": prices})\n",
    "\n",
    "    # Dopisanie do pliku CSV\n",
    "    df.to_csv(\"scraped_data.csv\", mode='a', header=not os.path.exists('scraped_data.csv'), index=False)\n",
    "else:\n",
    "    print(\"Failed to retrieve data.\")\n"
   ]
  }
 ],
 "metadata": {
  "colab": {
   "provenance": []
  },
  "kernelspec": {
   "display_name": "Python 3",
   "name": "python3"
  },
  "language_info": {
   "codemirror_mode": {
    "name": "ipython",
    "version": 3
   },
   "file_extension": ".py",
   "mimetype": "text/x-python",
   "name": "python",
   "nbconvert_exporter": "python",
   "pygments_lexer": "ipython3",
   "version": "3.9.23"
  },
  "papermill": {
   "default_parameters": {},
   "duration": 3.413644,
   "end_time": "2025-07-11T12:47:44.622463",
   "environment_variables": {},
   "exception": null,
   "input_path": "nb.ipynb",
   "output_path": "nbo.ipynb",
   "parameters": {},
   "start_time": "2025-07-11T12:47:41.208819",
   "version": "2.6.0"
  }
 },
 "nbformat": 4,
 "nbformat_minor": 5
}