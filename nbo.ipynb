{
 "cells": [
  {
   "cell_type": "code",
   "execution_count": 1,
   "id": "c51cb7c3",
   "metadata": {
    "colab": {
     "base_uri": "https://localhost:8080/"
    },
    "execution": {
     "iopub.execute_input": "2025-10-29T09:12:05.166757Z",
     "iopub.status.busy": "2025-10-29T09:12:05.166467Z",
     "iopub.status.idle": "2025-10-29T09:12:07.386267Z",
     "shell.execute_reply": "2025-10-29T09:12:07.385502Z"
    },
    "id": "5pYh4c8j1w43",
    "outputId": "8a0dca73-64e5-4f0d-c493-2c5b38392363",
    "papermill": {
     "duration": 2.223317,
     "end_time": "2025-10-29T09:12:07.387416",
     "exception": false,
     "start_time": "2025-10-29T09:12:05.164099",
     "status": "completed"
    },
    "tags": []
   },
   "outputs": [
    {
     "name": "stdout",
     "output_type": "stream",
     "text": [
      "Status Code: 200\n",
      "Response Headers: {'Server': 'nginx', 'Date': 'Wed, 29 Oct 2025 09:12:07 GMT', 'Content-Type': 'text/html; charset=UTF-8', 'Transfer-Encoding': 'chunked', 'Vary': 'Accept-Encoding, User-Agent', 'Set-Cookie': 'FRSPSID=f326mrg0r84mq6svp6a4ldp1q2; path=/; domain=.sprzedajemy.pl; secure; HttpOnly, _items_per_page__offer_list=60; expires=Fri, 28-Nov-2025 09:12:06 GMT; Max-Age=2592000; path=/; domain=.sprzedajemy.pl; secure; httponly, observed_id=8281688136901da66e71ff8146323041271563153; expires=Mon, 29-Oct-2125 09:12:06 GMT; Max-Age=3155673600; path=/; domain=.sprzedajemy.pl; secure; httponly', 'Expires': 'Thu, 19 Nov 1981 08:52:00 GMT', 'Cache-Control': 'no-store, no-cache, must-revalidate, post-check=0, pre-check=0', 'Pragma': 'no-cache', 'Content-Encoding': 'gzip'}\n",
      "Response Text (first 2000 chars): <!DOCTYPE html><html xmlns=\"http://www.w3.org/1999/xhtml\" xml:lang=\"pl\" lang=\"pl\" class=\"no-js\" >\n",
      "<head>\n",
      "\t\t\t<!-- Google Tag Manager -->\n",
      "\t\t\t<script>(function(w,d,s,l,i){w[l]=w[l]||[];w[l].push({'gtm.start':\n",
      "\t\t\t\t\t\tnew Date().getTime(),event:'gtm.js'});var f=d.getElementsByTagName(s)[0],\n",
      "\t\t\t\t\tj=d.createElement(s),dl=l!='dataLayer'?'&l='+l:'';j.async=true;j.src=\n",
      "\t\t\t\t\t'https://www.googletagmanager.com/gtm.js?id='+i+dl\n",
      "\t\t\t\t\t\t\t\t\t    ;f.parentNode.insertBefore(j,f);\n",
      "\t\t\t\t    })(window,document,'script','dataLayer','GTM-P3S238');</script>\n",
      "\t\t\t<!-- End Google Tag Manager -->\n",
      "\t<title>Mieszkania Kraków na sprzedaż, wynajem - Sprzedajemy.pl</title><meta http-equiv=\"Content-Type\" content=\"text/html; charset=UTF-8\" >\n",
      "<meta http-equiv=\"X-UA-Compatible\" content=\"IE=edge\" >\n",
      "<meta name=\"description\" content=\"Ogłoszenia o tematyce:  w kategorii Mieszkania - Kupuj i sprzedawaj rzeczy używane i nowe w kategorii Mieszkania na Sprzedajemy.pl\" >\n",
      "<meta property=\"og:title\" content=\"Mieszkania Kraków na sprzedaż, wynajem - Sprzedajemy.pl\" >\n",
      "<meta property=\"og:type\" content=\"website\" >\n",
      "<meta property=\"og:image\" content=\"https://thumbs.img-sprzedajemy.pl/facebook/sprzedajemy.pl.png\" >\n",
      "<meta property=\"og:image:width\" content=\"200\" >\n",
      "<meta property=\"og:image:height\" content=\"200\" >\n",
      "<meta property=\"og:url\" content=\"https://sprzedajemy.pl/krakow/nieruchomosci/mieszkania\" >\n",
      "<meta property=\"og:site_name\" content=\"Sprzedajemy.pl\" >\n",
      "<meta property=\"fb:app_id\" content=\"173258269367442\" >\n",
      "<meta property=\"og:description\" content=\"Ogłoszenia o tematyce:  w kategorii Mieszkania - Kupuj i sprzedawaj rzeczy używane i nowe w kategorii Mieszkania na Sprzedajemy.pl\" >\n",
      "<meta name=\"robots\" content=\"noindex, follow\" >\t\t<script  async=\"async\" src=\"https://static.criteo.net/js/ld/publishertag.js\"></script>\n",
      "        <script  async=\"async\" src=\"https://ap.lijit.com/www/sovrn_beacon_standalone/sovrn_standalone_beacon.js?iid=13417409&amp;uid=sprzedajemy\" id=\"sBeacon\"></script>\n",
      "\t\t<script  async=\"async\" src=\"https://securepuba\n"
     ]
    },
    {
     "name": "stdout",
     "output_type": "stream",
     "text": [
      "Titles: ['PILNE dwupokojowe mieszkanie (balkon, piwnica) os. Dywizjonu 303, 19C Krak…', 'Mieszkanie z widokiem na góry', 'Grzegorzki mieszkanie na sprzedaż 30 m', 'ul.Felińskiego, piękne 3 pokoje, garaż', 'Żabiniec - 2 pokoje, 2 balkony, garaż, komórka', 'Bronowice: 3 pokoje +3 balkony, miejsce parkingowe', '3-pokoje osobne - Ugorek, pet friendly', 'Pokój w domu wolnostojącym cena z mediami blisko UR i UEK i Lasu Wolskiego', 'Pokój dla studentów', 'Mieszkanie Kraków Karmelicka 57m2', 'Ogłoszenie mieszkanie 46m2 2 pokoje Kraków Bukowa', 'Mieszkanie 47.83m2 2 pokoje Kraków', 'WYNAJMĘ od zaraz mieszkanie 3 pokojowe-Krowodrza - Prądnik Biały-49 m2', 'Mieszkanie 103.89m2 3 pokoje Kraków Smocza', 'Do sprzedaży mieszkanie 53.77m Kraków', 'Mieszkanie 65.62 metry 2 pokojowe Kraków Imbramowska', 'Oferta sprzedaży mieszkania 68.3m 3 pokojowe Kraków', 'Oferta sprzedaży mieszkania 72.4m2 3-pokojowe Kraków Babińskiego', 'Mieszkanie Kraków 47m2 2-pok', 'Mieszkanie Kraków os. Piastów 51.59m2 3 pokoje', 'Mieszkanie na sprzedaż 44.7m2 2 pokoje Kraków Drukarska', 'Oferta sprzedaży mieszkania Kraków 48.39 metrów 2-pokojowe', 'Mieszkanie 72.4m2 3 pokoje Kraków Babińskiego', 'Mieszkanie 70.88m2 3 pokoje Kraków Babińskiego', 'Mieszkanie 48.17m2 2-pokojowe Kraków Sołtysowska', 'Sprzedam mieszkanie 42.44m2 2 pok Kraków Odrzańska', 'Mieszkanie 115m2 5 pokojowe Kraków Wrocławska', 'Mieszkanie Kraków os. Przy Arce 48.25m2 3-pok', 'Ogłoszenie mieszkanie 37m2 2-pokojowe Kraków Zubrzyckiego', 'Oferta sprzedaży mieszkania Kraków 65.62m2 3-pokojowe', 'Sprzedam mieszkanie Kraków Baziaka 49.3m2 2 pokoje', 'Ogłoszenie mieszkanie 52.79 metrów 3 pok Kraków Rydlówka', 'Mieszkanie Kraków Lubomirskiego 33.16m2 2-pokojowe', 'Ogłoszenie mieszkanie Kraków 61.7m2 3-pok', 'Mieszkanie Kraków Vetulaniego 56.9 metrów 3 pokojowe', 'Mieszkanie 90m2 3 pokoje Kraków Juliusza Lea', 'Oferta sprzedaży mieszkania Kraków 44m2 2-pokojowe', 'Mieszkanie 16.6m2 1-pokojowe Kraków Majora Pilota Stefana Janusa', 'Mieszkanie 45.65m2 2 pokoje Kraków Kwartowa', 'Mieszkanie Kraków Bajeczna 41.64m2', 'Oferta sprzedaży mieszkania 67.37m2 3-pok Kraków Królowej Jadwigi', 'Mieszkanie 50.13m2 2-pok Kraków', 'Oferta sprzedaży mieszkania 48.39m2 2 pokojowe Kraków', 'Oferta sprzedaży mieszkania 66.62m2 3 pokoje Kraków Imbramowska', 'Mieszkanie Kraków Cieszyńska 43.21m2', 'Mieszkanie Kraków 51m2 2-pok', 'Mieszkanie 50m2 2-pokojowe Kraków', 'Oferta sprzedaży mieszkania Kraków Józefa Łepkowskiego 41.76m2 2-pok', 'Wynajem mieszkania 38.5m2 2 pokojowe Kraków Białoruska', 'Mieszkanie Kraków Babińskiego 31.74 metry 1 pokojowe', 'Mieszkanie 50 metrów 2 pokoje Kraków os. Szkolne', 'Mieszkanie 31.74m2 2-pok Kraków Babińskiego', 'Mieszkanie Kraków Imbramowska 66.62m2 3-pokojowe', 'Mieszkanie 33.12m2 2 pok Kraków', 'Mieszkanie Kraków 31.74m2', 'Mieszkanie Kraków Włodkowica 61.1 metrów 3 pokoje', 'Mieszkanie 56.19m2 2-pokojowe Kraków', 'Mieszkanie Kraków 52m2 2 pokoje', 'Mieszkanie sprzedam 36.6m2 2-pok Kraków', 'Sprzedaż mieszkania 36.9m2 1 pokojowe Kraków']\n",
      "60\n",
      "Prices: ['590 000 zł', '265 000 zł', '549 000 zł', '770 000 zł', '750 000 zł', '985 000 zł', '3 400 zł', '1 800 zł', '850 zł', '4 900 zł', '570 524 zł', '810 000 zł', '3 300 zł', '6 300 zł', '824 000 zł', '677 460 zł', '899 000 zł', '1 143 920 zł', '686 200 zł', '830 000 zł', '615 000 zł', '687 138 zł', '1 158 400 zł', '1 219 136 zł', '750 000 zł', '570 000 zł', '1 050 000 zł', '672 000 zł', '600 000 zł', '859 622 zł', '755 000 zł', '1 050 000 zł', '630 000 zł', '660 000 zł', '1 100 000 zł', '6 900 zł', '740 000 zł', '385 000 zł', '699 000 zł', '875 000 zł', '1 715 000 zł', '750 000 zł', '687 138 zł', '872 722 zł', '3 900 zł', '650 000 zł', '3 799 zł', '630 576 zł', '2 000 zł', '599 886 zł', '2 200 zł', '615 756 zł', '872 722 zł', '795 000 zł', '580 842 zł', '850 000 zł', '749 000 zł', '720 000 zł', '495 000 zł', '518 000 zł']\n",
      "60\n"
     ]
    }
   ],
   "source": [
    "import requests\n",
    "from bs4 import BeautifulSoup\n",
    "import pandas as pd\n",
    "import os\n",
    "\n",
    "url = \"https://sprzedajemy.pl/krakow/nieruchomosci/mieszkania?offset=0&items_per_page=60\"\n",
    "\n",
    "headers = {\n",
    "    \"User-Agent\": \"Mozilla/5.0 (Windows NT 10.0; Win64; x64) AppleWebKit/537.36 (KHTML, like Gecko) Chrome/58.0.3029.110 Safari/537.36\",\n",
    "    \"Accept\": \"text/html,application/xhtml+xml,application/xml;q=0.9,image/webp,image/apng,*/*;q=0.8\",\n",
    "    \"Accept-Encoding\": \"gzip, deflate, br\",\n",
    "    \"Accept-Language\": \"en-US,en;q=0.9,pl;q=0.8\",\n",
    "    \"Connection\": \"keep-alive\"\n",
    "}\n",
    "\n",
    "response = requests.get(url, headers=headers)\n",
    "response = requests.get(url, headers=headers)\n",
    "\n",
    "# Debugowanie odpowiedzi\n",
    "print(f\"Status Code: {response.status_code}\")\n",
    "print(f\"Response Headers: {response.headers}\")\n",
    "print(f\"Response Text (first 2000 chars): {response.text[:2000]}\")\n",
    "\n",
    "# Jeśli odpowiedź jest poprawna, wykonaj webscraping\n",
    "if response.status_code == 200:\n",
    "    soup = BeautifulSoup(response.content, \"html.parser\")\n",
    "\n",
    "    # Pobieranie ofert mieszkań\n",
    "    titles = [h2.a.text.strip() for h2 in soup.find_all(\"h2\", class_=\"title\") if h2.a]\n",
    "    prices = [p.text.replace(\"\\xa0\", \" \").strip() for p in soup.find_all(\"span\", class_=\"price\")]\n",
    "\n",
    "    print(\"Titles:\", titles)\n",
    "    print(len(titles))\n",
    "    print(\"Prices:\", prices)\n",
    "    print(len(prices))\n",
    "\n",
    "    df = pd.DataFrame({\"Title\": titles, \"Price\": prices})\n",
    "\n",
    "    # Dopisanie do pliku CSV\n",
    "    df.to_csv(\"scraped_data.csv\", mode='a', header=not os.path.exists('scraped_data.csv'), index=False)\n",
    "else:\n",
    "    print(\"Failed to retrieve data.\")\n"
   ]
  }
 ],
 "metadata": {
  "colab": {
   "provenance": []
  },
  "kernelspec": {
   "display_name": "Python 3",
   "name": "python3"
  },
  "language_info": {
   "codemirror_mode": {
    "name": "ipython",
    "version": 3
   },
   "file_extension": ".py",
   "mimetype": "text/x-python",
   "name": "python",
   "nbconvert_exporter": "python",
   "pygments_lexer": "ipython3",
   "version": "3.9.23"
  },
  "papermill": {
   "default_parameters": {},
   "duration": 3.42121,
   "end_time": "2025-10-29T09:12:07.604210",
   "environment_variables": {},
   "exception": null,
   "input_path": "nb.ipynb",
   "output_path": "nbo.ipynb",
   "parameters": {},
   "start_time": "2025-10-29T09:12:04.183000",
   "version": "2.6.0"
  }
 },
 "nbformat": 4,
 "nbformat_minor": 5
}