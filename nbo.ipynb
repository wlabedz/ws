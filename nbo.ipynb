{
 "cells": [
  {
   "cell_type": "code",
   "execution_count": 1,
   "id": "91fa86d4",
   "metadata": {
    "colab": {
     "base_uri": "https://localhost:8080/"
    },
    "execution": {
     "iopub.execute_input": "2025-05-13T04:01:08.779492Z",
     "iopub.status.busy": "2025-05-13T04:01:08.779237Z",
     "iopub.status.idle": "2025-05-13T04:01:11.436250Z",
     "shell.execute_reply": "2025-05-13T04:01:11.435520Z"
    },
    "id": "5pYh4c8j1w43",
    "outputId": "8a0dca73-64e5-4f0d-c493-2c5b38392363",
    "papermill": {
     "duration": 2.660713,
     "end_time": "2025-05-13T04:01:11.437396",
     "exception": false,
     "start_time": "2025-05-13T04:01:08.776683",
     "status": "completed"
    },
    "tags": []
   },
   "outputs": [
    {
     "name": "stdout",
     "output_type": "stream",
     "text": [
      "Status Code: 200\n",
      "Response Headers: {'Server': 'nginx', 'Date': 'Tue, 13 May 2025 04:01:10 GMT', 'Content-Type': 'text/html; charset=UTF-8', 'Transfer-Encoding': 'chunked', 'Vary': 'Accept-Encoding, User-Agent', 'Set-Cookie': 'FRSPSID=non2bugo9bn5k10952qipnttb4; path=/; domain=.sprzedajemy.pl; secure; HttpOnly, _items_per_page__offer_list=60; expires=Thu, 12-Jun-2025 04:01:10 GMT; Max-Age=2592000; path=/; domain=.sprzedajemy.pl; secure; httponly, observed_id=15300513636822c406dfb7a5149273988050994563; expires=Sun, 13-May-2125 05:01:10 GMT; Max-Age=3155677200; path=/; domain=.sprzedajemy.pl; secure; httponly', 'Expires': 'Thu, 19 Nov 1981 08:52:00 GMT', 'Cache-Control': 'no-store, no-cache, must-revalidate, post-check=0, pre-check=0', 'Pragma': 'no-cache', 'Content-Encoding': 'gzip'}\n",
      "Response Text (first 2000 chars): <!DOCTYPE html><html xmlns=\"http://www.w3.org/1999/xhtml\" xml:lang=\"pl\" lang=\"pl\" class=\"no-js\" >\n",
      "<head>\n",
      "\t\t\t<!-- Google Tag Manager -->\n",
      "\t\t\t<script>(function(w,d,s,l,i){w[l]=w[l]||[];w[l].push({'gtm.start':\n",
      "\t\t\t\t\t\tnew Date().getTime(),event:'gtm.js'});var f=d.getElementsByTagName(s)[0],\n",
      "\t\t\t\t\tj=d.createElement(s),dl=l!='dataLayer'?'&l='+l:'';j.async=true;j.src=\n",
      "\t\t\t\t\t'https://www.googletagmanager.com/gtm.js?id='+i+dl\n",
      "\t\t\t\t\t\t\t\t\t    ;f.parentNode.insertBefore(j,f);\n",
      "\t\t\t\t    })(window,document,'script','dataLayer','GTM-P3S238');</script>\n",
      "\t\t\t<!-- End Google Tag Manager -->\n",
      "\t<title>Mieszkania Kraków na sprzedaż, wynajem - Sprzedajemy.pl</title><meta http-equiv=\"Content-Type\" content=\"text/html; charset=UTF-8\" >\n",
      "<meta http-equiv=\"X-UA-Compatible\" content=\"IE=edge\" >\n",
      "<meta name=\"description\" content=\"Ogłoszenia o tematyce:  w kategorii Mieszkania - Kupuj i sprzedawaj rzeczy używane i nowe w kategorii Mieszkania na Sprzedajemy.pl\" >\n",
      "<meta property=\"og:title\" content=\"Mieszkania Kraków na sprzedaż, wynajem - Sprzedajemy.pl\" >\n",
      "<meta property=\"og:type\" content=\"website\" >\n",
      "<meta property=\"og:image\" content=\"https://thumbs.img-sprzedajemy.pl/facebook/sprzedajemy.pl.png\" >\n",
      "<meta property=\"og:image:width\" content=\"200\" >\n",
      "<meta property=\"og:image:height\" content=\"200\" >\n",
      "<meta property=\"og:url\" content=\"https://sprzedajemy.pl/krakow/nieruchomosci/mieszkania\" >\n",
      "<meta property=\"og:site_name\" content=\"Sprzedajemy.pl\" >\n",
      "<meta property=\"fb:app_id\" content=\"173258269367442\" >\n",
      "<meta property=\"og:description\" content=\"Ogłoszenia o tematyce:  w kategorii Mieszkania - Kupuj i sprzedawaj rzeczy używane i nowe w kategorii Mieszkania na Sprzedajemy.pl\" >\n",
      "<meta name=\"robots\" content=\"noindex, follow\" >\t\t<script  async=\"async\" src=\"https://static.criteo.net/js/ld/publishertag.js\"></script>\n",
      "        <script  async=\"async\" src=\"https://ap.lijit.com/www/sovrn_beacon_standalone/sovrn_standalone_beacon.js?iid=13417409&amp;uid=sprzedajemy\" id=\"sBeacon\"></script>\n",
      "\t\t<script  async=\"async\" src=\"https://securepuba\n"
     ]
    },
    {
     "name": "stdout",
     "output_type": "stream",
     "text": [
      "Titles: ['Kraków Bronowice Stawowa 168 / 60m2 3 POK/ 22,5 m2 taras/ BEZ POŚREDNIKÓW', 'Kraków, Stare Miasto sprzedaż/zamiana', 'Nowoczesny apartament z panoramicznym widokiem - od właściciela', 'Stylowy apartament z widokiem na panoramę Krakowa - od właściciela', 'Wyjątkowe mieszkanie z widokiem na klasztor w Tyńcu i panoramę Tatr', 'Oferta sprzedaży mieszkania 53.66m2 2 pokoje Kraków', 'Oferta sprzedaży mieszkania 35.22m2 2-pok Kraków Bieżanów', 'Mieszkanie Kraków 35.25m2 2 pok', 'Mieszkanie Kraków Bieżanów 35.31m2 2 pokoje', 'Sprzedam mieszkanie Kraków Bieżanów 62.89m2 3 pokoje', 'Sprzedam mieszkanie Kraków Bieżanów 48.44 metry 2-pok', 'Mieszkanie Kraków 35.56m2 2-pokojowe', 'Ogłoszenie mieszkanie 50.2m2 2 pokoje Kraków', 'Oferta sprzedaży mieszkania Kraków Bieżanów 35.56m', 'Mieszkanie Kraków 45.44m2 2-pok', 'Mieszkanie 45.44m2 2 pokoje Kraków Bieżanów', 'Sprzedam mieszkanie 45.36m2 2-pokojowe Kraków Bieżanów', 'Do sprzedaży mieszkanie 72.01 metrów 4-pokojowe Kraków Bieżanów', 'Mieszkanie 35.56m2 2 pokoje Kraków Bieżanów', 'Mieszkanie Kraków Bieżanów 63.11m2 4-pokojowe', 'Mieszkanie 35.31m2 2 pok Kraków', 'Mieszkanie 35.56 metrów 2-pokojowe Kraków Bieżanów', 'Mieszkanie 53.17m2 2-pok Kraków', 'Oferta sprzedaży mieszkania 31.73m2 2 pokojowe Kraków', 'Mieszkanie Kraków os. Bohaterów Września 34.24m2 2-pokojowe', 'Mieszkanie 53.66m2 2 pokojowe Kraków Bieżanów', 'Mieszkanie 56.38m2 3 pok Kraków', 'Mieszkanie na sprzedaż 47.53m2 2 pokojowe Kraków', 'Mieszkanie 53.66m2 Kraków Bieżanów', 'Oferta wynajmu mieszkania Kraków 33m2 1 pokój', 'Mieszkanie Kraków 45.44m2 2-pok', 'Mieszkanie wynajmę Kraków 75m2', 'Wynajmę mieszkanie 45m2 2-pokojowe Kraków Sołtysowska', 'Oferta wynajmu mieszkania Kraków 50m2 2 pokoje', 'Krowodrza Górka - 4 pokoje, jasna kuchnia, loggia', 'Mieszkanie 57.19m Kraków', 'Wynajmę mieszkanie 50m2 2 pokoje Kraków dr. Jana Piltza', 'Oferta sprzedaży mieszkania Kraków Henryka Pachońskiego 52.5m2 3 pokojowe', 'Mieszkanie Kraków Bukowa 57.19m 3 pokojowe', 'Mieszkanie Kraków Zgody 61.11m2 3-pokojowe', 'Oferta sprzedaży mieszkania Kraków 54.53m2 4 pokoje', 'Mieszkanie 63.3 metry 3 pokoje Kraków Aleja Pokoju', 'Mieszkanie Kraków Radzikowskiego 30m2 1-pokojowe', 'Komfortowy, luksusowy apartament Wiślane Tarasy', 'Centrum Krakowa, 2019r., ul.Wrocławska 79', 'Mieszkanie 36m2, 2 pokoje, Wzgórza Krzesławickie', 'Kawalerka, 21m2, Wzgórza Krzesławickie', 'MORCINKA, Zesławice, 2 Mieszkania, 36m2 i 21m2', 'Mieszkanie na sprzedaż/zamiana 39m2', 'Komfortowe mieszkanie na sprzedaż', 'Mieszkanie sprzedam Kraków os. Willowe 56m2', 'Mieszkanie do wynajęcia 46m2 2 pokoje Kraków Zwierzyniecka', 'Apartament w ścisłym centrum Krakowa ul. Rakowicka Apartamenty Novum', 'Apartament centrum Krakowa ul. Rakowicka przy Galerii Krakowskiej', 'OKAZJA ŁOBZÓW, UL. LITEWSKA KRAKÓW, KAWALERKA BEZPOŚR.', 'Mieszkanie do wynajęcia Kraków Stawowa 51.87m2 2 pokoje', '2 lub 3 pokoje,62m2,balkon, Widok na Wawel', 'Sprzedam Mieszkanie', '3 pokojowe 59mkw na Mackiewicza na sprzedaż!', 'Mieszkanie na wynajem, 52m2, 2 pokoje - Kraków os. Europejskie Piltza']\n",
      "60\n",
      "Prices: ['1 137 500 zł', '2 243 000 zł', '997 000 zł', '897 000 zł', '790 000 zł', '692 900 zł', '521 256 zł', '521 700 zł', '540 243 zł', '817 570 zł', '678 160 zł', '544 068 zł', '746 029 zł', '544 068 zł', '681 600 zł', '636 160 zł', '680 400 zł', '936 130 zł', '561 848 zł', '820 430 zł', '557 898 zł', '561 848 zł', '479 000 zł', '286 000 zł', '309 000 zł', '719 550 zł', '799 000 zł', '659 000 zł', '746 200 zł', '2 000 zł', '681 600 zł', '5 700 zł', '2 950 zł', '3 000 zł', '750 000 zł', '651 966 zł', '2 600 zł', '660 000 zł', '651 966 zł', '749 800 zł', '699 000 zł', '799 999 zł', '476 000 zł', '4 600 zł', '950 000 zł', '424 500 zł', '244 500 zł', '669 000 zł', '548 000 zł', '999 900 zł', '669 000 zł', '2 700 zł', '755 244 zł', '755 244 zł', '2 100 zł', '2 750 zł', '1 490 000 zł', '859 000 zł', '696 000 zł', '2 600 zł']\n",
      "60\n"
     ]
    }
   ],
   "source": [
    "import requests\n",
    "from bs4 import BeautifulSoup\n",
    "import pandas as pd\n",
    "import os\n",
    "\n",
    "url = \"https://sprzedajemy.pl/krakow/nieruchomosci/mieszkania?offset=0&items_per_page=60\"\n",
    "\n",
    "headers = {\n",
    "    \"User-Agent\": \"Mozilla/5.0 (Windows NT 10.0; Win64; x64) AppleWebKit/537.36 (KHTML, like Gecko) Chrome/58.0.3029.110 Safari/537.36\",\n",
    "    \"Accept\": \"text/html,application/xhtml+xml,application/xml;q=0.9,image/webp,image/apng,*/*;q=0.8\",\n",
    "    \"Accept-Encoding\": \"gzip, deflate, br\",\n",
    "    \"Accept-Language\": \"en-US,en;q=0.9,pl;q=0.8\",\n",
    "    \"Connection\": \"keep-alive\"\n",
    "}\n",
    "\n",
    "response = requests.get(url, headers=headers)\n",
    "response = requests.get(url, headers=headers)\n",
    "\n",
    "# Debugowanie odpowiedzi\n",
    "print(f\"Status Code: {response.status_code}\")\n",
    "print(f\"Response Headers: {response.headers}\")\n",
    "print(f\"Response Text (first 2000 chars): {response.text[:2000]}\")\n",
    "\n",
    "# Jeśli odpowiedź jest poprawna, wykonaj webscraping\n",
    "if response.status_code == 200:\n",
    "    soup = BeautifulSoup(response.content, \"html.parser\")\n",
    "\n",
    "    # Pobieranie ofert mieszkań\n",
    "    titles = [h2.a.text.strip() for h2 in soup.find_all(\"h2\", class_=\"title\") if h2.a]\n",
    "    prices = [p.text.replace(\"\\xa0\", \" \").strip() for p in soup.find_all(\"span\", class_=\"price\")]\n",
    "\n",
    "    print(\"Titles:\", titles)\n",
    "    print(len(titles))\n",
    "    print(\"Prices:\", prices)\n",
    "    print(len(prices))\n",
    "\n",
    "    df = pd.DataFrame({\"Title\": titles, \"Price\": prices})\n",
    "\n",
    "    # Dopisanie do pliku CSV\n",
    "    df.to_csv(\"scraped_data.csv\", mode='a', header=not os.path.exists('scraped_data.csv'), index=False)\n",
    "else:\n",
    "    print(\"Failed to retrieve data.\")\n"
   ]
  }
 ],
 "metadata": {
  "colab": {
   "provenance": []
  },
  "kernelspec": {
   "display_name": "Python 3",
   "name": "python3"
  },
  "language_info": {
   "codemirror_mode": {
    "name": "ipython",
    "version": 3
   },
   "file_extension": ".py",
   "mimetype": "text/x-python",
   "name": "python",
   "nbconvert_exporter": "python",
   "pygments_lexer": "ipython3",
   "version": "3.9.22"
  },
  "papermill": {
   "default_parameters": {},
   "duration": 3.866758,
   "end_time": "2025-05-13T04:01:11.654894",
   "environment_variables": {},
   "exception": null,
   "input_path": "nb.ipynb",
   "output_path": "nbo.ipynb",
   "parameters": {},
   "start_time": "2025-05-13T04:01:07.788136",
   "version": "2.6.0"
  }
 },
 "nbformat": 4,
 "nbformat_minor": 5
}