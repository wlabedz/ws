{
 "cells": [
  {
   "cell_type": "code",
   "execution_count": 1,
   "id": "f8808f33",
   "metadata": {
    "colab": {
     "base_uri": "https://localhost:8080/"
    },
    "execution": {
     "iopub.execute_input": "2025-04-11T07:50:26.044268Z",
     "iopub.status.busy": "2025-04-11T07:50:26.044001Z",
     "iopub.status.idle": "2025-04-11T07:50:28.412493Z",
     "shell.execute_reply": "2025-04-11T07:50:28.411801Z"
    },
    "id": "5pYh4c8j1w43",
    "outputId": "8a0dca73-64e5-4f0d-c493-2c5b38392363",
    "papermill": {
     "duration": 2.371951,
     "end_time": "2025-04-11T07:50:28.413663",
     "exception": false,
     "start_time": "2025-04-11T07:50:26.041712",
     "status": "completed"
    },
    "tags": []
   },
   "outputs": [
    {
     "name": "stdout",
     "output_type": "stream",
     "text": [
      "Status Code: 200\n",
      "Response Headers: {'Server': 'nginx', 'Date': 'Fri, 11 Apr 2025 07:50:28 GMT', 'Content-Type': 'text/html; charset=UTF-8', 'Transfer-Encoding': 'chunked', 'Vary': 'Accept-Encoding, User-Agent', 'Set-Cookie': 'FRSPSID=3nio5vknk3lpcbu04vqd11jnq1; path=/; domain=.sprzedajemy.pl; secure; HttpOnly, _items_per_page__offer_list=60; expires=Sun, 11-May-2025 07:50:27 GMT; Max-Age=2592000; path=/; domain=.sprzedajemy.pl; secure; httponly, observed_id=142883602267f8c9c3eb134216238567826593893; expires=Wed, 11-Apr-2125 08:50:27 GMT; Max-Age=3155677200; path=/; domain=.sprzedajemy.pl; secure; httponly', 'Expires': 'Thu, 19 Nov 1981 08:52:00 GMT', 'Cache-Control': 'no-store, no-cache, must-revalidate, post-check=0, pre-check=0', 'Pragma': 'no-cache', 'Content-Encoding': 'gzip'}\n",
      "Response Text (first 2000 chars): <!DOCTYPE html><html xmlns=\"http://www.w3.org/1999/xhtml\" xml:lang=\"pl\" lang=\"pl\" class=\"no-js\" >\n",
      "<head>\n",
      "\t\t\t<!-- Google Tag Manager -->\n",
      "\t\t\t<script>(function(w,d,s,l,i){w[l]=w[l]||[];w[l].push({'gtm.start':\n",
      "\t\t\t\t\t\tnew Date().getTime(),event:'gtm.js'});var f=d.getElementsByTagName(s)[0],\n",
      "\t\t\t\t\tj=d.createElement(s),dl=l!='dataLayer'?'&l='+l:'';j.async=true;j.src=\n",
      "\t\t\t\t\t'https://www.googletagmanager.com/gtm.js?id='+i+dl\n",
      "\t\t\t\t\t\t\t\t\t    ;f.parentNode.insertBefore(j,f);\n",
      "\t\t\t\t    })(window,document,'script','dataLayer','GTM-P3S238');</script>\n",
      "\t\t\t<!-- End Google Tag Manager -->\n",
      "\t<title>Mieszkania Kraków na sprzedaż, wynajem - Sprzedajemy.pl</title><meta http-equiv=\"Content-Type\" content=\"text/html; charset=UTF-8\" >\n",
      "<meta http-equiv=\"X-UA-Compatible\" content=\"IE=edge\" >\n",
      "<meta name=\"description\" content=\"Ogłoszenia o tematyce:  w kategorii Mieszkania - Kupuj i sprzedawaj rzeczy używane i nowe w kategorii Mieszkania na Sprzedajemy.pl\" >\n",
      "<meta property=\"og:title\" content=\"Mieszkania Kraków na sprzedaż, wynajem - Sprzedajemy.pl\" >\n",
      "<meta property=\"og:type\" content=\"website\" >\n",
      "<meta property=\"og:image\" content=\"https://thumbs.img-sprzedajemy.pl/facebook/sprzedajemy.pl.png\" >\n",
      "<meta property=\"og:image:width\" content=\"200\" >\n",
      "<meta property=\"og:image:height\" content=\"200\" >\n",
      "<meta property=\"og:url\" content=\"https://sprzedajemy.pl/krakow/nieruchomosci/mieszkania\" >\n",
      "<meta property=\"og:site_name\" content=\"Sprzedajemy.pl\" >\n",
      "<meta property=\"fb:app_id\" content=\"173258269367442\" >\n",
      "<meta property=\"og:description\" content=\"Ogłoszenia o tematyce:  w kategorii Mieszkania - Kupuj i sprzedawaj rzeczy używane i nowe w kategorii Mieszkania na Sprzedajemy.pl\" >\n",
      "<meta name=\"robots\" content=\"noindex, follow\" >\t\t<script  async=\"async\" src=\"https://static.criteo.net/js/ld/publishertag.js\"></script>\n",
      "        <script  async=\"async\" src=\"https://ap.lijit.com/www/sovrn_beacon_standalone/sovrn_standalone_beacon.js?iid=13417409&amp;uid=sprzedajemy\" id=\"sBeacon\"></script>\n",
      "\t\t<script  async=\"async\" src=\"https://securepuba\n",
      "Titles: ['Wyjątkowe 2 mieszkania w 1, gotowe do wprowadzenia, po remoncie', 'Mieszkanie z ogródkiem Zakrzówek', 'Strych do adaptacji, Błonia, ul. Filarecka', '2 lub 3 pokoje,62m2,balkon, Widok na Wawel', '2 pokoje 41m2 blisko Aquaparku wkrótce tramwaj!', 'Mieszkanie przy Parku Rzecznym Tonie', 'Kraków, Stare Miasto sprzedaż/zamiana', 'Apartament, 2 pokoje, jadalnia, garaż,Krowodrza', '2 pokoje,garaż,wysoki standard,ul.Rakowicka,ENG', 'Nowoczesne, wykończone, z garażem i balkonem', 'Kraków Bronowice Stawowa 168 / 60m2 3 POK/ 22,5 m2 taras/ BEZ POŚREDNIKÓW', 'Mieszkanie 62.9m2 3 pokoje Kraków Bieżanów', 'Mieszkanie Kraków Bieżanów 35.22m2 2 pokojowe', 'Mieszkanie 53.57m2 Kraków', 'Oferta sprzedaży mieszkania 53.66m2 Kraków Bieżanów', 'Mieszkanie Kraków Bieżanów 39.62 metry 2-pok', 'Mieszkanie Kraków 53.66m2 2 pokojowe', 'Mieszkanie 31.73m2 2 pokoje Kraków Bieżanów', 'Mieszkanie 63.32m2 3 pokoje Kraków Bieżanów', 'Mieszkanie Kraków Bieżanów 45.16m2 2 pok', 'Mieszkanie 48.04m2 3 pokoje Kraków Bieżanów', 'Mieszkanie 64.33m2 3-pok Kraków Bieżanów', 'Mieszkanie 45.57m2 2 pokoje Kraków zabłocie', 'Sprzedaż mieszkania Kraków Bieżanów 51.95m2 2 pokoje', 'Oferta sprzedaży mieszkania Kraków 42.14m 2 pokoje', 'Mieszkanie 62.89m2 3 pok Kraków', 'Mieszkanie do sprzedania 45.4m2 Kraków', 'Oferta sprzedaży mieszkania Kraków Bieżanów 63.36m2 3 pokojowe', 'Mieszkanie 42.14m2 Kraków Bieżanów', 'Mieszkanie Kraków 63.36m2 3 pokoje', 'Oferta wynajmu mieszkania Kraków Osiedle Górali 52m2 2 pokojowe', 'Mieszkanie na sprzedaż Kraków Bieżanów 35.25m2 2 pokoje', 'Oferta sprzedaży mieszkania 63.07m2 3 pokoje Kraków Bieżanów', 'Sprzedam mieszkanie 53.66m2 2 pokojowe Kraków Bieżanów', 'Mieszkanie 35.06m 2 pok Kraków Bieżanów', 'Oferta sprzedaży mieszkania 194.32m2 5 pokojowe Kraków Kotlarska - okolice', 'Mieszkanie Kraków Bieżanów 53.66m2 2 pokoje', 'Mieszkanie do sprzedania 44.62m2 2-pokojowe Kraków Bieżanów', 'Mieszkanie Kraków Bieżanów 39.48m2 2 pokoje', 'Sprzedam mieszkanie 52.92m2 3-pokojowe Kraków Bieżanów', 'Mieszkanie sprzedam Kraków Bieżanów 31.54m2 2-pok', 'Mieszkanie 34.5m2 2 pok Kraków os. Jagiellońskie', 'Mieszkanie 45.89m2 2 pokojowe Kraków zabłocie', 'Mieszkanie Kraków Bieżanów 44.63m2 2 pokojowe', 'Oferta sprzedaży mieszkania Kraków zabłocie 45.89m2', 'Mieszkanie 53.66m2 2 pokoje Kraków', 'Oferta sprzedaży mieszkania 53.57 metrów 2 pokoje Kraków Bieżanów', 'Mieszkanie 72m2 3 pokoje Kraków', 'Oferta sprzedaży mieszkania Kraków 31.51m2 2 pok', 'Sprzedam mieszkanie 65.16m2 3 pokoje Kraków Zyblikiewicza', 'Mieszkanie 46.6m2 2 pokoje Kraków', 'Mieszkanie 39.15m2 Kraków Bunscha', 'Mieszkanie Kraków Podskale 34.5m2', 'Mieszkanie Kraków 41.96m2 2-pok', 'Mieszkanie Kraków Kuźnicy Kołłątajowskiej 31.3 metry 1 pokój', 'Mieszkanie 43.75m2 2-pokojowe Kraków Bunscha', 'Sprzedam mieszkanie 43m2 2 pokojowe Kraków Bartla', 'Mieszkanie 80.2m2 Kraków Józefa Friedleina', 'Mieszkanie 39.09m2 2-pokojowe Kraków', 'Mieszkanie Kraków 40.12m2 2 pok']\n",
      "60\n",
      "Prices: ['1 185 000 zł', '470 000 zł', '379 999 zł', '1 590 000 zł', '710 000 zł', '550 000 zł', '2 254 000 zł', '3 800 zł', '3 000 zł', '990 000 zł', '1 137 500 zł', '817 700 zł', '521 256 zł', '696 410 zł', '697 060 zł', '594 300 zł', '697 580 zł', '501 334 zł', '886 480 zł', '632 240 zł', '672 560 zł', '836 290 zł', '841 251 zł', '727 300 zł', '611 030 zł', '817 570 zł', '799 000 zł', '823 680 zł', '611 030 zł', '887 040 zł', '2 500 zł', '521 700 zł', '819 910 zł', '723 870 zł', '518 888 zł', '5 052 320 zł', '697 580 zł', '624 680 zł', '572 460 zł', '687 960 zł', '482 562 zł', '570 000 zł', '871 568 zł', '624 820 zł', '860 064 zł', '697 060 zł', '696 410 zł', '3 700 zł', '482 103 zł', '1 449 000 zł', '2 500 zł', '652 904 zł', '768 000 zł', '697 626 zł', '2 100 zł', '720 654 zł', '669 000 zł', '1 545 000 zł', '651 903 zł', '666 902 zł']\n",
      "60\n"
     ]
    }
   ],
   "source": [
    "import requests\n",
    "from bs4 import BeautifulSoup\n",
    "import pandas as pd\n",
    "import os\n",
    "\n",
    "url = \"https://sprzedajemy.pl/krakow/nieruchomosci/mieszkania?offset=0&items_per_page=60\"\n",
    "\n",
    "headers = {\n",
    "    \"User-Agent\": \"Mozilla/5.0 (Windows NT 10.0; Win64; x64) AppleWebKit/537.36 (KHTML, like Gecko) Chrome/58.0.3029.110 Safari/537.36\",\n",
    "    \"Accept\": \"text/html,application/xhtml+xml,application/xml;q=0.9,image/webp,image/apng,*/*;q=0.8\",\n",
    "    \"Accept-Encoding\": \"gzip, deflate, br\",\n",
    "    \"Accept-Language\": \"en-US,en;q=0.9,pl;q=0.8\",\n",
    "    \"Connection\": \"keep-alive\"\n",
    "}\n",
    "\n",
    "response = requests.get(url, headers=headers)\n",
    "response = requests.get(url, headers=headers)\n",
    "\n",
    "# Debugowanie odpowiedzi\n",
    "print(f\"Status Code: {response.status_code}\")\n",
    "print(f\"Response Headers: {response.headers}\")\n",
    "print(f\"Response Text (first 2000 chars): {response.text[:2000]}\")\n",
    "\n",
    "# Jeśli odpowiedź jest poprawna, wykonaj webscraping\n",
    "if response.status_code == 200:\n",
    "    soup = BeautifulSoup(response.content, \"html.parser\")\n",
    "\n",
    "    # Pobieranie ofert mieszkań\n",
    "    titles = [h2.a.text.strip() for h2 in soup.find_all(\"h2\", class_=\"title\") if h2.a]\n",
    "    prices = [p.text.replace(\"\\xa0\", \" \").strip() for p in soup.find_all(\"span\", class_=\"price\")]\n",
    "\n",
    "    print(\"Titles:\", titles)\n",
    "    print(len(titles))\n",
    "    print(\"Prices:\", prices)\n",
    "    print(len(prices))\n",
    "\n",
    "    df = pd.DataFrame({\"Title\": titles, \"Price\": prices})\n",
    "\n",
    "    # Dopisanie do pliku CSV\n",
    "    df.to_csv(\"scraped_data.csv\", mode='a', header=not os.path.exists('scraped_data.csv'), index=False)\n",
    "else:\n",
    "    print(\"Failed to retrieve data.\")\n"
   ]
  }
 ],
 "metadata": {
  "colab": {
   "provenance": []
  },
  "kernelspec": {
   "display_name": "Python 3",
   "name": "python3"
  },
  "language_info": {
   "codemirror_mode": {
    "name": "ipython",
    "version": 3
   },
   "file_extension": ".py",
   "mimetype": "text/x-python",
   "name": "python",
   "nbconvert_exporter": "python",
   "pygments_lexer": "ipython3",
   "version": "3.9.21"
  },
  "papermill": {
   "default_parameters": {},
   "duration": 3.457003,
   "end_time": "2025-04-11T07:50:28.630656",
   "environment_variables": {},
   "exception": null,
   "input_path": "nb.ipynb",
   "output_path": "nbo.ipynb",
   "parameters": {},
   "start_time": "2025-04-11T07:50:25.173653",
   "version": "2.6.0"
  }
 },
 "nbformat": 4,
 "nbformat_minor": 5
}