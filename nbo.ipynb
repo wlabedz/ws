{
 "cells": [
  {
   "cell_type": "code",
   "execution_count": 1,
   "id": "1eead6f4",
   "metadata": {
    "colab": {
     "base_uri": "https://localhost:8080/"
    },
    "execution": {
     "iopub.execute_input": "2025-05-07T07:59:35.419223Z",
     "iopub.status.busy": "2025-05-07T07:59:35.419014Z",
     "iopub.status.idle": "2025-05-07T07:59:37.936913Z",
     "shell.execute_reply": "2025-05-07T07:59:37.936230Z"
    },
    "id": "5pYh4c8j1w43",
    "outputId": "8a0dca73-64e5-4f0d-c493-2c5b38392363",
    "papermill": {
     "duration": 2.521407,
     "end_time": "2025-05-07T07:59:37.938090",
     "exception": false,
     "start_time": "2025-05-07T07:59:35.416683",
     "status": "completed"
    },
    "tags": []
   },
   "outputs": [
    {
     "name": "stdout",
     "output_type": "stream",
     "text": [
      "Status Code: 200\n",
      "Response Headers: {'Server': 'nginx', 'Date': 'Wed, 07 May 2025 07:59:37 GMT', 'Content-Type': 'text/html; charset=UTF-8', 'Transfer-Encoding': 'chunked', 'Vary': 'Accept-Encoding, User-Agent', 'Set-Cookie': 'FRSPSID=ig2hkcsr9t7pvsljm2a0lheth5; path=/; domain=.sprzedajemy.pl; secure; HttpOnly, _items_per_page__offer_list=60; expires=Fri, 06-Jun-2025 07:59:37 GMT; Max-Age=2592000; path=/; domain=.sprzedajemy.pl; secure; httponly, observed_id=171405158681b12e965fac896527431967449249; expires=Mon, 07-May-2125 08:59:37 GMT; Max-Age=3155677200; path=/; domain=.sprzedajemy.pl; secure; httponly', 'Expires': 'Thu, 19 Nov 1981 08:52:00 GMT', 'Cache-Control': 'no-store, no-cache, must-revalidate, post-check=0, pre-check=0', 'Pragma': 'no-cache', 'Content-Encoding': 'gzip'}\n",
      "Response Text (first 2000 chars): <!DOCTYPE html><html xmlns=\"http://www.w3.org/1999/xhtml\" xml:lang=\"pl\" lang=\"pl\" class=\"no-js\" >\n",
      "<head>\n",
      "\t\t\t<!-- Google Tag Manager -->\n",
      "\t\t\t<script>(function(w,d,s,l,i){w[l]=w[l]||[];w[l].push({'gtm.start':\n",
      "\t\t\t\t\t\tnew Date().getTime(),event:'gtm.js'});var f=d.getElementsByTagName(s)[0],\n",
      "\t\t\t\t\tj=d.createElement(s),dl=l!='dataLayer'?'&l='+l:'';j.async=true;j.src=\n",
      "\t\t\t\t\t'https://www.googletagmanager.com/gtm.js?id='+i+dl\n",
      "\t\t\t\t\t\t\t\t\t    ;f.parentNode.insertBefore(j,f);\n",
      "\t\t\t\t    })(window,document,'script','dataLayer','GTM-P3S238');</script>\n",
      "\t\t\t<!-- End Google Tag Manager -->\n",
      "\t<title>Mieszkania Kraków na sprzedaż, wynajem - Sprzedajemy.pl</title><meta http-equiv=\"Content-Type\" content=\"text/html; charset=UTF-8\" >\n",
      "<meta http-equiv=\"X-UA-Compatible\" content=\"IE=edge\" >\n",
      "<meta name=\"description\" content=\"Ogłoszenia o tematyce:  w kategorii Mieszkania - Kupuj i sprzedawaj rzeczy używane i nowe w kategorii Mieszkania na Sprzedajemy.pl\" >\n",
      "<meta property=\"og:title\" content=\"Mieszkania Kraków na sprzedaż, wynajem - Sprzedajemy.pl\" >\n",
      "<meta property=\"og:type\" content=\"website\" >\n",
      "<meta property=\"og:image\" content=\"https://thumbs.img-sprzedajemy.pl/facebook/sprzedajemy.pl.png\" >\n",
      "<meta property=\"og:image:width\" content=\"200\" >\n",
      "<meta property=\"og:image:height\" content=\"200\" >\n",
      "<meta property=\"og:url\" content=\"https://sprzedajemy.pl/krakow/nieruchomosci/mieszkania\" >\n",
      "<meta property=\"og:site_name\" content=\"Sprzedajemy.pl\" >\n",
      "<meta property=\"fb:app_id\" content=\"173258269367442\" >\n",
      "<meta property=\"og:description\" content=\"Ogłoszenia o tematyce:  w kategorii Mieszkania - Kupuj i sprzedawaj rzeczy używane i nowe w kategorii Mieszkania na Sprzedajemy.pl\" >\n",
      "<meta name=\"robots\" content=\"noindex, follow\" >\t\t<script  async=\"async\" src=\"https://static.criteo.net/js/ld/publishertag.js\"></script>\n",
      "        <script  async=\"async\" src=\"https://ap.lijit.com/www/sovrn_beacon_standalone/sovrn_standalone_beacon.js?iid=13417409&amp;uid=sprzedajemy\" id=\"sBeacon\"></script>\n",
      "\t\t<script  async=\"async\" src=\"https://securepuba\n",
      "Titles: ['2 pokoje 41m2 blisko Aquaparku wkrótce tramwaj!', 'Nowoczesny apartament z panoramicznym widokiem - od właściciela', 'Stylowy apartament z widokiem na panoramę Krakowa - od właściciela', 'Wyjątkowe mieszkanie z widokiem na klasztor w Tyńcu i panoramę Tatr', 'Kraków, Stare Miasto sprzedaż/zamiana', 'Mieszkanie na sprzedaż/zamiana 39m2', 'Wynajmę mieszkanie Kraków 30m2', 'Mieszkanie Kraków 108m2 4 pokoje', 'Sprzedaż mieszkania 67.08m2 4 pokojowe Kraków zabłocie', 'Mieszkanie Kraków 108 metrów 4 pok', 'Oferta wynajmu mieszkania Kraków Szuwarowa 34.3m 1-pokojowe', 'Mieszkanie Kraków 41m2', 'Mieszkanie 49.6m2 2-pokojowe Kraków', 'Mieszkanie sprzedam 32m2 1-pokojowe Kraków Św. Jacka', 'Ustawne mieszkanie 2 pokojowe, Os. Kazimierzowskie', 'Oferta sprzedaży mieszkania Kraków 51.89m2 2 pokojowe', 'Oferta sprzedaży mieszkania 108 metrów 4 pokojowe Kraków Pilotów', 'Mieszkanie na Czyżynach do remontu.', 'Mieszkanie do sprzedania Kraków Krowodrza 84m2 4-pokojowe', 'Mieszkanie 55.24m2 2-pokojowe Kraków Leona Petrażyckiego', 'Oferta sprzedaży mieszkania Kraków Henryka Pachońskiego 45.5m2 3-pokojowe', 'Mieszkanie na sprzedaż 44m2 2 pokoje Kraków', 'Mieszkanie Kraków Mieczysława Pszona 43.3m2 2 pok', 'Oferta sprzedaży mieszkania 38.7m2 2 pok Kraków Pleszowska', 'Oferta sprzedaży mieszkania 47.9m2 2 pokoje Kraków Aleja Pokoju', 'Mieszkanie 60.91 metrów 3 pokojowe Kraków Domagały', 'Mieszkanie 52m2 2-pok Kraków prof. Michała Bobrzyńskiego', 'Mieszkanie Kraków prof. Michała Bobrzyńskiego 60m2 3 pokojowe', 'Mieszkanie Kraków Wrocławska 27.86m2 1 pokój', 'Mieszkanie Kraków os. Albertyńskie 38m2 2 pokoje', '3 pokojowe mieszkanie z parkingiem ul. Bronowicka', 'Mieszkanie 46.5 metrów 2-pok Kraków', 'Mieszkanie Kraków 58m2 2 pokoje', 'Mieszkanie Kraków Reduta 77.12 metry 3 pokoje', 'Piękne mieszkanie |2 pokoje + kuchnia| DO WEJ|ŚCIA', 'Oferta sprzedaży mieszkania 48m2 3 pok Kraków Bohaterów Września', 'Mieszkanie 51m2 Kraków', 'Atrakcyjne mieszkanie 3 pok.61,4 m2 Kraków ul. Młyńska', 'Mieszkanie Kraków os. Górali 46m2 2 pokoje', 'Mieszkanie, Kraków os. Tysiąclecia 1 - 20 m 2', 'OD ZARAZ | BEZ KAUCJI | Centrum ul. Wrocławska 53', 'Mieszkanie z potencjałem od właściciela, Nowa Huta Os. Na Skarpie, jasne i…', 'Mieszkanie Kraków 51m2 3 pokoje', 'Świeżo wykończone mieszkanie do wynajęcia', 'Mieszkanie Kraków Włoska 56m2 3 pokojowe', 'Mieszkanie Krowodrz Górka 40m2', 'Mieszkanie do sprzedania 38.7m2 2 pok Kraków Kamieńskiego - okolice', 'Mieszkanie Kraków Bratysławska 36.45m2 1 pok', 'Mieszkanie Kraków Stanisława Przybyszewskiego 35m2 1 pok', 'Oferta sprzedaży mieszkania 46m2 2-pokojowe Kraków', 'Mieszkanie 41 metrów 2 pok Kraków Wawrzyńca', 'Sprzedaż mieszkania 34.2m2 Kraków', 'Oferta sprzedaży mieszkania 30m2 Kraków Krowoderskich Zuchów', 'Mieszkanie 20m2 1 pokój Kraków Juliusza Lea', 'Mieszkanie Kraków 46.76m2 2-pokojowe', 'Mieszkanie Kraków Starego Dębu 32m2', 'Mieszkanie 50.3 metry 4-pok Kraków Altanowa', 'Mieszkanie 71.51m2 3 pokoje Kraków Przewóz', 'Mieszkanie Kraków 29 listopada - okolice 103.86m2 2-pokojowe', 'Mieszkanie 52m2 2 pokojowe Kraków Pszczelna']\n",
      "60\n",
      "Prices: ['710 000 zł', '997 000 zł', '897 000 zł', '790 000 zł', '2 254 000 zł', '548 000 zł', '2 300 zł', '859 000 zł', '1 213 620 zł', '859 000 zł', '1 900 zł', '1 800 zł', '800 000 zł', '567 000 zł', '520 000 zł', '670 000 zł', '859 000 zł', '669 900 zł', '1 350 000 zł', '760 000 zł', '620 000 zł', '799 000 zł', '649 000 zł', '553 000 zł', '839 000 zł', '940 000 zł', '749 000 zł', '1 050 000 zł', '567 000 zł', '470 000 zł', '3 400 zł', '679 000 zł', '3 000 zł', '1 342 000 zł', '566 000 zł', '624 000 zł', '864 500 zł', '940 000 zł', '529 000 zł', '363 000 zł', '3 600 zł', '480 000 zł', '799 000 zł', '2 700 zł', '649 000 zł', '2 800 zł', '683 294 zł', '656 000 zł', '2 500 zł', '650 000 zł', '750 000 zł', '499 000 zł', '539 000 zł', '2 000 zł', '1 100 000 zł', '615 000 zł', '1 395 000 zł', '1 065 000 zł', '1 713 690 zł', '3 000 zł']\n",
      "60\n"
     ]
    }
   ],
   "source": [
    "import requests\n",
    "from bs4 import BeautifulSoup\n",
    "import pandas as pd\n",
    "import os\n",
    "\n",
    "url = \"https://sprzedajemy.pl/krakow/nieruchomosci/mieszkania?offset=0&items_per_page=60\"\n",
    "\n",
    "headers = {\n",
    "    \"User-Agent\": \"Mozilla/5.0 (Windows NT 10.0; Win64; x64) AppleWebKit/537.36 (KHTML, like Gecko) Chrome/58.0.3029.110 Safari/537.36\",\n",
    "    \"Accept\": \"text/html,application/xhtml+xml,application/xml;q=0.9,image/webp,image/apng,*/*;q=0.8\",\n",
    "    \"Accept-Encoding\": \"gzip, deflate, br\",\n",
    "    \"Accept-Language\": \"en-US,en;q=0.9,pl;q=0.8\",\n",
    "    \"Connection\": \"keep-alive\"\n",
    "}\n",
    "\n",
    "response = requests.get(url, headers=headers)\n",
    "response = requests.get(url, headers=headers)\n",
    "\n",
    "# Debugowanie odpowiedzi\n",
    "print(f\"Status Code: {response.status_code}\")\n",
    "print(f\"Response Headers: {response.headers}\")\n",
    "print(f\"Response Text (first 2000 chars): {response.text[:2000]}\")\n",
    "\n",
    "# Jeśli odpowiedź jest poprawna, wykonaj webscraping\n",
    "if response.status_code == 200:\n",
    "    soup = BeautifulSoup(response.content, \"html.parser\")\n",
    "\n",
    "    # Pobieranie ofert mieszkań\n",
    "    titles = [h2.a.text.strip() for h2 in soup.find_all(\"h2\", class_=\"title\") if h2.a]\n",
    "    prices = [p.text.replace(\"\\xa0\", \" \").strip() for p in soup.find_all(\"span\", class_=\"price\")]\n",
    "\n",
    "    print(\"Titles:\", titles)\n",
    "    print(len(titles))\n",
    "    print(\"Prices:\", prices)\n",
    "    print(len(prices))\n",
    "\n",
    "    df = pd.DataFrame({\"Title\": titles, \"Price\": prices})\n",
    "\n",
    "    # Dopisanie do pliku CSV\n",
    "    df.to_csv(\"scraped_data.csv\", mode='a', header=not os.path.exists('scraped_data.csv'), index=False)\n",
    "else:\n",
    "    print(\"Failed to retrieve data.\")\n"
   ]
  }
 ],
 "metadata": {
  "colab": {
   "provenance": []
  },
  "kernelspec": {
   "display_name": "Python 3",
   "name": "python3"
  },
  "language_info": {
   "codemirror_mode": {
    "name": "ipython",
    "version": 3
   },
   "file_extension": ".py",
   "mimetype": "text/x-python",
   "name": "python",
   "nbconvert_exporter": "python",
   "pygments_lexer": "ipython3",
   "version": "3.9.22"
  },
  "papermill": {
   "default_parameters": {},
   "duration": 3.628205,
   "end_time": "2025-05-07T07:59:38.154776",
   "environment_variables": {},
   "exception": null,
   "input_path": "nb.ipynb",
   "output_path": "nbo.ipynb",
   "parameters": {},
   "start_time": "2025-05-07T07:59:34.526571",
   "version": "2.6.0"
  }
 },
 "nbformat": 4,
 "nbformat_minor": 5
}