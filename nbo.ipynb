{
 "cells": [
  {
   "cell_type": "code",
   "execution_count": 1,
   "id": "91993c92",
   "metadata": {
    "colab": {
     "base_uri": "https://localhost:8080/"
    },
    "execution": {
     "iopub.execute_input": "2025-09-02T15:13:29.630895Z",
     "iopub.status.busy": "2025-09-02T15:13:29.630618Z",
     "iopub.status.idle": "2025-09-02T15:13:33.095414Z",
     "shell.execute_reply": "2025-09-02T15:13:33.094675Z"
    },
    "id": "5pYh4c8j1w43",
    "outputId": "8a0dca73-64e5-4f0d-c493-2c5b38392363",
    "papermill": {
     "duration": 3.468298,
     "end_time": "2025-09-02T15:13:33.096537",
     "exception": false,
     "start_time": "2025-09-02T15:13:29.628239",
     "status": "completed"
    },
    "tags": []
   },
   "outputs": [
    {
     "name": "stdout",
     "output_type": "stream",
     "text": [
      "Status Code: 200\n",
      "Response Headers: {'Server': 'nginx', 'Date': 'Tue, 02 Sep 2025 15:13:32 GMT', 'Content-Type': 'text/html; charset=UTF-8', 'Transfer-Encoding': 'chunked', 'Vary': 'Accept-Encoding, User-Agent', 'Set-Cookie': 'FRSPSID=53vs1l7puedhg5juppuffncer2; path=/; domain=.sprzedajemy.pl; secure; HttpOnly, _items_per_page__offer_list=60; expires=Thu, 02-Oct-2025 15:13:32 GMT; Max-Age=2592000; path=/; domain=.sprzedajemy.pl; secure; httponly, observed_id=188980279068b7099c31624898616225394319484; expires=Sun, 02-Sep-2125 16:13:32 GMT; Max-Age=3155677200; path=/; domain=.sprzedajemy.pl; secure; httponly', 'Expires': 'Thu, 19 Nov 1981 08:52:00 GMT', 'Cache-Control': 'no-store, no-cache, must-revalidate, post-check=0, pre-check=0', 'Pragma': 'no-cache', 'Content-Encoding': 'gzip'}\n",
      "Response Text (first 2000 chars): <!DOCTYPE html><html xmlns=\"http://www.w3.org/1999/xhtml\" xml:lang=\"pl\" lang=\"pl\" class=\"no-js\" >\n",
      "<head>\n",
      "\t\t\t<!-- Google Tag Manager -->\n",
      "\t\t\t<script>(function(w,d,s,l,i){w[l]=w[l]||[];w[l].push({'gtm.start':\n",
      "\t\t\t\t\t\tnew Date().getTime(),event:'gtm.js'});var f=d.getElementsByTagName(s)[0],\n",
      "\t\t\t\t\tj=d.createElement(s),dl=l!='dataLayer'?'&l='+l:'';j.async=true;j.src=\n",
      "\t\t\t\t\t'https://www.googletagmanager.com/gtm.js?id='+i+dl\n",
      "\t\t\t\t\t\t\t\t\t    ;f.parentNode.insertBefore(j,f);\n",
      "\t\t\t\t    })(window,document,'script','dataLayer','GTM-P3S238');</script>\n",
      "\t\t\t<!-- End Google Tag Manager -->\n",
      "\t<title>Mieszkania Kraków na sprzedaż, wynajem - Sprzedajemy.pl</title><meta http-equiv=\"Content-Type\" content=\"text/html; charset=UTF-8\" >\n",
      "<meta http-equiv=\"X-UA-Compatible\" content=\"IE=edge\" >\n",
      "<meta name=\"description\" content=\"Ogłoszenia o tematyce:  w kategorii Mieszkania - Kupuj i sprzedawaj rzeczy używane i nowe w kategorii Mieszkania na Sprzedajemy.pl\" >\n",
      "<meta property=\"og:title\" content=\"Mieszkania Kraków na sprzedaż, wynajem - Sprzedajemy.pl\" >\n",
      "<meta property=\"og:type\" content=\"website\" >\n",
      "<meta property=\"og:image\" content=\"https://thumbs.img-sprzedajemy.pl/facebook/sprzedajemy.pl.png\" >\n",
      "<meta property=\"og:image:width\" content=\"200\" >\n",
      "<meta property=\"og:image:height\" content=\"200\" >\n",
      "<meta property=\"og:url\" content=\"https://sprzedajemy.pl/krakow/nieruchomosci/mieszkania\" >\n",
      "<meta property=\"og:site_name\" content=\"Sprzedajemy.pl\" >\n",
      "<meta property=\"fb:app_id\" content=\"173258269367442\" >\n",
      "<meta property=\"og:description\" content=\"Ogłoszenia o tematyce:  w kategorii Mieszkania - Kupuj i sprzedawaj rzeczy używane i nowe w kategorii Mieszkania na Sprzedajemy.pl\" >\n",
      "<meta name=\"robots\" content=\"noindex, follow\" >\t\t<script  async=\"async\" src=\"https://static.criteo.net/js/ld/publishertag.js\"></script>\n",
      "        <script  async=\"async\" src=\"https://ap.lijit.com/www/sovrn_beacon_standalone/sovrn_standalone_beacon.js?iid=13417409&amp;uid=sprzedajemy\" id=\"sBeacon\"></script>\n",
      "\t\t<script  async=\"async\" src=\"https://securepuba\n",
      "Titles: ['Stylowy lokal na parterze przy Krowoderskiej', '2-pokojowe mieszkanie po remoncie | PROMOCJA | ul Bronowicka', '3 niezależne lokale z KW– inwestycja z potencjałem', 'Oferta wynajmu mieszkania 35.84m2 2 pokoje Kraków Romanowicza', 'Mieszkanie Kraków 24.3m 1-pokojowe', 'Mieszkanie na sprzedaż/zamiana 39m2', 'Kraków, Stare Miasto sprzedaż/zamiana', 'Mieszkanie 34.3m2 Kraków Starowiślna', 'Ogłoszenie mieszkanie Kraków 61.7m2 3-pok', 'Mieszkanie 55.7m2 Kraków Łużycka', 'Mieszkanie Kraków os. Centrum A 46m2 2-pokojowe', 'Mieszkanie sprzedam 36.6m2 2-pok Kraków', 'Ogłoszenie mieszkanie Kraków Zawodzie 74m2 3-pok', 'Mieszkanie 33.12m2 2 pok Kraków', 'Mieszkanie dwupokojowe 52,7m2 na Lipińskiego, Ruczaj-Zaborze Kraków, od wł…', '2pok|44,38m²|kom.lokatorska|piwnica-Os.Wandy', 'Mieszkanie Kraków 52m2 2 pokoje', 'Mieszkanie 43m2 2 pokoje Kraków Miłkowskiego', 'Sprzedaż mieszkania 62.63m2 4 pokoje Kraków os. Krakowiaków', 'Apartamentowiec ATAL Residence 4 pokoje 2 miejsca', 'Oferta sprzedaży mieszkania Kraków Józefa Łepkowskiego 41.76m2 2-pok', 'Mieszkanie 16.6m2 1-pokojowe Kraków Majora Pilota Stefana Janusa', 'Mieszkanie 90m2 3 pokoje Kraków Juliusza Lea', 'Mieszkanie Kraków Lubomirskiego 33.16m2 2-pokojowe', 'Ogłoszenie mieszkanie 37m2 2-pokojowe Kraków Zubrzyckiego', 'Mieszkanie 56.19m2 2-pokojowe Kraków', 'Kawalerka 20m2 Wysoki Standard STARE MIASTO', 'Mieszkanie Kraków Józefa Łepkowskiego 47m2 2 pokoje', 'Ogłoszenie mieszkanie 38.14m2 2 pokojowe Kraków Kordiana', 'Oferta sprzedaży mieszkania Kraków 65.37m2 4 pokoje', 'Oferta sprzedaży mieszkania Kraków 46.71m2 2 pokoje', 'Mieszkanie 38.24m2 2 pokojowe Kraków Lipska', 'Oferta sprzedaży mieszkania 40.78m2 2-pokojowe Kraków', 'Jordanowska Prądnik Biały m.postojowe bez prowizji', 'Mieszkanie 31.83m2 1-pok Kraków', 'Oferta wynajmu mieszkania 55.49m2 2-pok Kraków Zakrzowiecka', 'Mieszkanie Kraków 47m2 2-pokojowe', 'Sprzedam mieszkanie Kraków Szlak 28.18m2 1-pokojowe', 'Mieszkanie 47.22m2 2 pokoje Kraków os. Kalinowe', 'Oferta sprzedaży mieszkania 54.72m2 3 pokoje Kraków', 'Mieszkanie, w Kamienicy po remoncie na rogu ul. Jana Sobieskiego', 'Mieszkanie-Podgórze', 'Mieszkanie na wynajem', 'Wynajmę', 'Mieszkanie Os. Avia Kraków, widok na góry', 'Mieszkanie Kraków 39m2 2 pokoje', 'Sprzedaż mieszkania Kraków 40.5m2 2-pokojowe', 'Mieszkanie Kraków Sosnowiecka 42m2 2-pokojowe', 'Mieszkanie Kraków Plac Matejki 52m2 2 pokoje', 'Mieszkanie Kraków Józefa Dwernickiego 45.7m2 2 pokoje', 'Mieszkanie 60 metrów 2 pokoje Kraków Teligi', 'Mieszkanie Kraków 64 metry 4 pokojowe', 'Ogłoszenie mieszkanie Kraków Agatowa 64.43m2 3 pokoje', 'Oferta sprzedaży mieszkania Kraków 47m2 3 pokoje', '4pokoje 68m2 balkon KLIMA Śródmieście BEZ PROWIZJI od właściciela', 'Kraków Stare Miasto 62 m2 KLIMA Wawel wykończone Kazimierz INWESTYCYJNE', 'Sprzedaż mieszkania 36.22m2 1 pok Kraków Tuchowska', 'Sprzedaż mieszkania Kraków 64.33 metry 3 pokoje', 'Stare Miasto 32m2 KLIMA Wawel wykończone Kazimierz wysokie ROI', 'Pet Friendly - mieszkanie do wynajęcia na Czyżynach 30m² od zaraz']\n",
      "60\n",
      "Prices: ['1 800 000 zł', '710 000 zł', '265 000 zł', '3 005 zł', '429 000 zł', '526 000 zł', '2 083 000 zł', '680 000 zł', '660 000 zł', '670 000 zł', '650 000 zł', '495 000 zł', '998 000 zł', '795 000 zł', '3 000 zł', '675 000 zł', '720 000 zł', '3 000 zł', '715 000 zł', '1 300 000 zł', '630 576 zł', '399 000 zł', '4 900 zł', '630 000 zł', '600 000 zł', '749 000 zł', '2 400 zł', '723 800 zł', '3 000 zł', '1 130 000 zł', '729 000 zł', '3 300 zł', '790 000 zł', '699 000 zł', '2 800 zł', '3 500 zł', '709 700 zł', '730 000 zł', '600 000 zł', '799 000 zł', '886 000 zł', '628 000 zł', '2 500 zł', '2 620 zł', '998 000 zł', '749 000 zł', '267 240 zł', '720 000 zł', '2 600 zł', '750 000 zł', '735 000 zł', '830 000 zł', '789 000 zł', '650 000 zł', '1 850 000 zł', '1 828 000 zł', '518 000 zł', '769 000 zł', '989 000 zł', '2 050 zł']\n",
      "60\n"
     ]
    }
   ],
   "source": [
    "import requests\n",
    "from bs4 import BeautifulSoup\n",
    "import pandas as pd\n",
    "import os\n",
    "\n",
    "url = \"https://sprzedajemy.pl/krakow/nieruchomosci/mieszkania?offset=0&items_per_page=60\"\n",
    "\n",
    "headers = {\n",
    "    \"User-Agent\": \"Mozilla/5.0 (Windows NT 10.0; Win64; x64) AppleWebKit/537.36 (KHTML, like Gecko) Chrome/58.0.3029.110 Safari/537.36\",\n",
    "    \"Accept\": \"text/html,application/xhtml+xml,application/xml;q=0.9,image/webp,image/apng,*/*;q=0.8\",\n",
    "    \"Accept-Encoding\": \"gzip, deflate, br\",\n",
    "    \"Accept-Language\": \"en-US,en;q=0.9,pl;q=0.8\",\n",
    "    \"Connection\": \"keep-alive\"\n",
    "}\n",
    "\n",
    "response = requests.get(url, headers=headers)\n",
    "response = requests.get(url, headers=headers)\n",
    "\n",
    "# Debugowanie odpowiedzi\n",
    "print(f\"Status Code: {response.status_code}\")\n",
    "print(f\"Response Headers: {response.headers}\")\n",
    "print(f\"Response Text (first 2000 chars): {response.text[:2000]}\")\n",
    "\n",
    "# Jeśli odpowiedź jest poprawna, wykonaj webscraping\n",
    "if response.status_code == 200:\n",
    "    soup = BeautifulSoup(response.content, \"html.parser\")\n",
    "\n",
    "    # Pobieranie ofert mieszkań\n",
    "    titles = [h2.a.text.strip() for h2 in soup.find_all(\"h2\", class_=\"title\") if h2.a]\n",
    "    prices = [p.text.replace(\"\\xa0\", \" \").strip() for p in soup.find_all(\"span\", class_=\"price\")]\n",
    "\n",
    "    print(\"Titles:\", titles)\n",
    "    print(len(titles))\n",
    "    print(\"Prices:\", prices)\n",
    "    print(len(prices))\n",
    "\n",
    "    df = pd.DataFrame({\"Title\": titles, \"Price\": prices})\n",
    "\n",
    "    # Dopisanie do pliku CSV\n",
    "    df.to_csv(\"scraped_data.csv\", mode='a', header=not os.path.exists('scraped_data.csv'), index=False)\n",
    "else:\n",
    "    print(\"Failed to retrieve data.\")\n"
   ]
  }
 ],
 "metadata": {
  "colab": {
   "provenance": []
  },
  "kernelspec": {
   "display_name": "Python 3",
   "name": "python3"
  },
  "language_info": {
   "codemirror_mode": {
    "name": "ipython",
    "version": 3
   },
   "file_extension": ".py",
   "mimetype": "text/x-python",
   "name": "python",
   "nbconvert_exporter": "python",
   "pygments_lexer": "ipython3",
   "version": "3.9.23"
  },
  "papermill": {
   "default_parameters": {},
   "duration": 4.582155,
   "end_time": "2025-09-02T15:13:33.314898",
   "environment_variables": {},
   "exception": null,
   "input_path": "nb.ipynb",
   "output_path": "nbo.ipynb",
   "parameters": {},
   "start_time": "2025-09-02T15:13:28.732743",
   "version": "2.6.0"
  }
 },
 "nbformat": 4,
 "nbformat_minor": 5
}