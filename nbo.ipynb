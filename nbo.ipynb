{
 "cells": [
  {
   "cell_type": "code",
   "execution_count": 1,
   "id": "67cbd6ee",
   "metadata": {
    "colab": {
     "base_uri": "https://localhost:8080/"
    },
    "execution": {
     "iopub.execute_input": "2025-10-17T16:49:35.554792Z",
     "iopub.status.busy": "2025-10-17T16:49:35.554461Z",
     "iopub.status.idle": "2025-10-17T16:49:38.389162Z",
     "shell.execute_reply": "2025-10-17T16:49:38.388545Z"
    },
    "id": "5pYh4c8j1w43",
    "outputId": "8a0dca73-64e5-4f0d-c493-2c5b38392363",
    "papermill": {
     "duration": 2.838223,
     "end_time": "2025-10-17T16:49:38.390309",
     "exception": false,
     "start_time": "2025-10-17T16:49:35.552086",
     "status": "completed"
    },
    "tags": []
   },
   "outputs": [
    {
     "name": "stdout",
     "output_type": "stream",
     "text": [
      "Status Code: 200\n",
      "Response Headers: {'Server': 'nginx', 'Date': 'Fri, 17 Oct 2025 16:49:37 GMT', 'Content-Type': 'text/html; charset=UTF-8', 'Transfer-Encoding': 'chunked', 'Vary': 'Accept-Encoding, User-Agent', 'Set-Cookie': 'FRSPSID=veni31te2s708q0vfj4pg8b4t4; path=/; domain=.sprzedajemy.pl; secure; HttpOnly, _items_per_page__offer_list=60; expires=Sun, 16-Nov-2025 16:49:37 GMT; Max-Age=2592000; path=/; domain=.sprzedajemy.pl; secure; httponly, observed_id=16669736768f273a1d2c7a134011890035080340; expires=Wed, 17-Oct-2125 17:49:37 GMT; Max-Age=3155677200; path=/; domain=.sprzedajemy.pl; secure; httponly', 'Expires': 'Thu, 19 Nov 1981 08:52:00 GMT', 'Cache-Control': 'no-store, no-cache, must-revalidate, post-check=0, pre-check=0', 'Pragma': 'no-cache', 'Content-Encoding': 'gzip'}\n",
      "Response Text (first 2000 chars): <!DOCTYPE html><html xmlns=\"http://www.w3.org/1999/xhtml\" xml:lang=\"pl\" lang=\"pl\" class=\"no-js\" >\n",
      "<head>\n",
      "\t\t\t<!-- Google Tag Manager -->\n",
      "\t\t\t<script>(function(w,d,s,l,i){w[l]=w[l]||[];w[l].push({'gtm.start':\n",
      "\t\t\t\t\t\tnew Date().getTime(),event:'gtm.js'});var f=d.getElementsByTagName(s)[0],\n",
      "\t\t\t\t\tj=d.createElement(s),dl=l!='dataLayer'?'&l='+l:'';j.async=true;j.src=\n",
      "\t\t\t\t\t'https://www.googletagmanager.com/gtm.js?id='+i+dl\n",
      "\t\t\t\t\t\t\t\t\t    ;f.parentNode.insertBefore(j,f);\n",
      "\t\t\t\t    })(window,document,'script','dataLayer','GTM-P3S238');</script>\n",
      "\t\t\t<!-- End Google Tag Manager -->\n",
      "\t<title>Mieszkania Kraków na sprzedaż, wynajem - Sprzedajemy.pl</title><meta http-equiv=\"Content-Type\" content=\"text/html; charset=UTF-8\" >\n",
      "<meta http-equiv=\"X-UA-Compatible\" content=\"IE=edge\" >\n",
      "<meta name=\"description\" content=\"Ogłoszenia o tematyce:  w kategorii Mieszkania - Kupuj i sprzedawaj rzeczy używane i nowe w kategorii Mieszkania na Sprzedajemy.pl\" >\n",
      "<meta property=\"og:title\" content=\"Mieszkania Kraków na sprzedaż, wynajem - Sprzedajemy.pl\" >\n",
      "<meta property=\"og:type\" content=\"website\" >\n",
      "<meta property=\"og:image\" content=\"https://thumbs.img-sprzedajemy.pl/facebook/sprzedajemy.pl.png\" >\n",
      "<meta property=\"og:image:width\" content=\"200\" >\n",
      "<meta property=\"og:image:height\" content=\"200\" >\n",
      "<meta property=\"og:url\" content=\"https://sprzedajemy.pl/krakow/nieruchomosci/mieszkania\" >\n",
      "<meta property=\"og:site_name\" content=\"Sprzedajemy.pl\" >\n",
      "<meta property=\"fb:app_id\" content=\"173258269367442\" >\n",
      "<meta property=\"og:description\" content=\"Ogłoszenia o tematyce:  w kategorii Mieszkania - Kupuj i sprzedawaj rzeczy używane i nowe w kategorii Mieszkania na Sprzedajemy.pl\" >\n",
      "<meta name=\"robots\" content=\"noindex, follow\" >\t\t<script  async=\"async\" src=\"https://static.criteo.net/js/ld/publishertag.js\"></script>\n",
      "        <script  async=\"async\" src=\"https://ap.lijit.com/www/sovrn_beacon_standalone/sovrn_standalone_beacon.js?iid=13417409&amp;uid=sprzedajemy\" id=\"sBeacon\"></script>\n",
      "\t\t<script  async=\"async\" src=\"https://securepuba\n",
      "Titles: ['Mieszkanie z widokiem na góry', 'Grzegorzki mieszkanie na sprzedaż 30 m', 'Mieszkanie 3-pokojowe Zakrzówek Ruczaj ul. Pychowicka wynajem od właścicie…', 'Kraków, Stare Miasto sprzedaż/zamiana', 'Mieszkanie Wzgórza Krzesławickie bez prowizji.', 'Piękne 2 pokojowe mieszkanie w Centrum', 'Mieszkanie Kraków Wadowicka 50.95m2 2 pokoje', 'Mieszkanie Kraków Piasta Kołodzieja 50.29 metrów 3 pokojowe', 'Mieszkanie 45.27m2 2 pokojowe Kraków Wadowicka', 'Mieszkanie Kraków Pękowicka 40.37m2 2-pok', 'Sprzedaż mieszkania 40.09m2 Kraków Pękowicka', 'Oferta sprzedaży mieszkania Kraków ks. Wincentego Turka 33.05m2 1 pokojowe', 'Sprzedam mieszkanie 77.4m2 3 pokojowe Kraków os. Wolfganga Amadeusa Mozarta', 'Mieszkanie 69.46m2 4 pokoje Kraków', 'Oferta sprzedaży mieszkania Kraków 35.05m2 2 pok', 'Mieszkanie Kraków Piasta Kołodzieja 49.86m2 3 pokoje', 'Mieszkanie 60.05m2 2 pokojowe Kraków', 'Sprzedaż mieszkania Kraków Na Błonie 64.86m2', 'Mieszkanie Kraków Na Błonie 40.02m2 2-pokojowe', 'Oferta sprzedaży mieszkania 30.14m2 1 pok Kraków Grzegórzki', 'Sprzedam mieszkanie Kraków 72.4m2 3 pokojowe', 'Mieszkanie do sprzedania Kraków 72.4m2 3 pokoje', 'Oferta sprzedaży mieszkania Kraków 56.19m2', 'Oferta sprzedaży mieszkania 52.7m2 3 pokoje Kraków Kobierzyńska', 'Ogłoszenie mieszkanie Kraków 64.65m2 4 pokoje', 'Mieszkanie 62.46m2 3 pokoje Kraków Wadowicka', 'Mieszkanie 35.46 metrów 2-pokojowe Kraków 29 listopada - okolice', 'Mieszkanie Kraków Erazma Jerzmanowskiego 35.74m2 1-pok', 'Oferta sprzedaży mieszkania Kraków Kantrowicka 35.05m2 2 pokoje', 'Mieszkanie Kraków 63.83m2 4-pokojowe', 'Mieszkanie 51.91m2 3-pokojowe Kraków Pękowicka', 'Mieszkanie 126.7 metrów 5-pokojowe Kraków', 'Mieszkanie na sprzedaż 79.3m2 3-pokojowe Kraków', 'Mieszkanie 64.98m2 4 pokojowe Kraków', 'Mieszkanie Kraków 68.78m 3 pokoje', 'Mieszkanie 67.9 metrów 4 pokojowe Kraków', 'Mieszkanie sprzedam 43.08m2 2-pokojowe Kraków', 'Do sprzedaży mieszkanie Kraków Wadowicka 44.08m2 2-pokojowe', 'Mieszkanie do sprzedania Kraków Piasta Kołodzieja 44.28m2 2 pokoje', 'Mieszkanie Kraków 72.4m2 2 pokoje', 'Ogłoszenie mieszkanie Kraków Hoffmanowej 34.41m2 1 pokój', 'Mieszkanie Kraków Wadowicka 61.82m2 3 pokoje', 'Oferta sprzedaży mieszkania Kraków 44.27m2 2 pokoje', 'Mieszkanie 38.17m2 2 pokojowe Kraków', 'Oferta sprzedaży mieszkania Kraków Jana Kantego Federowicza 48.6m 3 pokoje', 'Mieszkanie sprzedam 44.25m2 2-pok Kraków Wadowicka', 'Mieszkanie 64.89m2 4-pok Kraków Kantrowicka', 'Mieszkanie Kraków Piasta Kołodzieja 50.23m2 3 pokoje', 'Mieszkanie Kraków Bukowa 57.19 metrów 3 pokoje', 'Oferta wynajmu mieszkania 38.95m 2 pokoje Kraków Jana Kantego Federowicza', 'Mieszkanie Kraków 70.67m2 4 pokoje', 'Ogłoszenie mieszkanie Kraków Pękowicka 51.72 metry 3 pokoje', 'Mieszkanie 70m2 3-pokojowe Kraków Chełmońskiego', 'Sprzedam mieszkanie 64.42m2 3-pokojowe Kraków', 'Oferta sprzedaży mieszkania Kraków Pękowicka 40.56m2 2 pokoje', 'Sprzedaż mieszkania 59.31m2 4 pokoje Kraków Kantrowicka', 'Mieszkanie Kraków Na Błonie 57.09m2 3 pokoje', 'Sprzedam mieszkanie Kraków 29 listopada - okolice 36.93m2 2 pokoje', 'Ogłoszenie mieszkanie Kraków Na Błonie 37.5m2 2 pokoje', 'Mieszkanie sprzedam Kraków Pękowicka 51.42m2 3-pokojowe']\n",
      "60\n",
      "Prices: ['265 000 zł', '549 000 zł', '3 000 zł', '2 015 000 zł', '670 000 zł', '759 900 zł', '855 960 zł', '714 118 zł', '855 603 zł', '682 253 zł', '613 377 zł', '445 000 zł', '1 330 000 zł', '868 250 zł', '490 700 zł', '698 040 zł', '1 134 945 zł', '1 126 229 zł', '721 820 zł', '688 720 zł', '1 245 280 zł', '1 158 400 zł', '769 803 zł', '750 000 zł', '919 646 zł', '1 080 558 zł', '633 331 zł', '2 950 zł', '499 462 zł', '907 981 zł', '750 099 zł', '1 330 000 zł', '1 276 730 zł', '924 340 zł', '1 072 968 zł', '952 297 zł', '740 976 zł', '806 664 zł', '673 056 zł', '1 194 600 zł', '898 000 zł', '1 057 122 zł', '743 736 zł', '721 256 zł', '890 000 zł', '743 400 zł', '811 125 zł', '728 335 zł', '657 685 zł', '2 700 zł', '1 173 122 zł', '855 966 zł', '3 900 zł', '1 114 466 zł', '618 540 zł', '800 685 zł', '1 046 174 zł', '640 163 zł', '750 528 zł', '743 019 zł']\n",
      "60\n"
     ]
    }
   ],
   "source": [
    "import requests\n",
    "from bs4 import BeautifulSoup\n",
    "import pandas as pd\n",
    "import os\n",
    "\n",
    "url = \"https://sprzedajemy.pl/krakow/nieruchomosci/mieszkania?offset=0&items_per_page=60\"\n",
    "\n",
    "headers = {\n",
    "    \"User-Agent\": \"Mozilla/5.0 (Windows NT 10.0; Win64; x64) AppleWebKit/537.36 (KHTML, like Gecko) Chrome/58.0.3029.110 Safari/537.36\",\n",
    "    \"Accept\": \"text/html,application/xhtml+xml,application/xml;q=0.9,image/webp,image/apng,*/*;q=0.8\",\n",
    "    \"Accept-Encoding\": \"gzip, deflate, br\",\n",
    "    \"Accept-Language\": \"en-US,en;q=0.9,pl;q=0.8\",\n",
    "    \"Connection\": \"keep-alive\"\n",
    "}\n",
    "\n",
    "response = requests.get(url, headers=headers)\n",
    "response = requests.get(url, headers=headers)\n",
    "\n",
    "# Debugowanie odpowiedzi\n",
    "print(f\"Status Code: {response.status_code}\")\n",
    "print(f\"Response Headers: {response.headers}\")\n",
    "print(f\"Response Text (first 2000 chars): {response.text[:2000]}\")\n",
    "\n",
    "# Jeśli odpowiedź jest poprawna, wykonaj webscraping\n",
    "if response.status_code == 200:\n",
    "    soup = BeautifulSoup(response.content, \"html.parser\")\n",
    "\n",
    "    # Pobieranie ofert mieszkań\n",
    "    titles = [h2.a.text.strip() for h2 in soup.find_all(\"h2\", class_=\"title\") if h2.a]\n",
    "    prices = [p.text.replace(\"\\xa0\", \" \").strip() for p in soup.find_all(\"span\", class_=\"price\")]\n",
    "\n",
    "    print(\"Titles:\", titles)\n",
    "    print(len(titles))\n",
    "    print(\"Prices:\", prices)\n",
    "    print(len(prices))\n",
    "\n",
    "    df = pd.DataFrame({\"Title\": titles, \"Price\": prices})\n",
    "\n",
    "    # Dopisanie do pliku CSV\n",
    "    df.to_csv(\"scraped_data.csv\", mode='a', header=not os.path.exists('scraped_data.csv'), index=False)\n",
    "else:\n",
    "    print(\"Failed to retrieve data.\")\n"
   ]
  }
 ],
 "metadata": {
  "colab": {
   "provenance": []
  },
  "kernelspec": {
   "display_name": "Python 3",
   "name": "python3"
  },
  "language_info": {
   "codemirror_mode": {
    "name": "ipython",
    "version": 3
   },
   "file_extension": ".py",
   "mimetype": "text/x-python",
   "name": "python",
   "nbconvert_exporter": "python",
   "pygments_lexer": "ipython3",
   "version": "3.9.24"
  },
  "papermill": {
   "default_parameters": {},
   "duration": 4.004201,
   "end_time": "2025-10-17T16:49:38.608009",
   "environment_variables": {},
   "exception": null,
   "input_path": "nb.ipynb",
   "output_path": "nbo.ipynb",
   "parameters": {},
   "start_time": "2025-10-17T16:49:34.603808",
   "version": "2.6.0"
  }
 },
 "nbformat": 4,
 "nbformat_minor": 5
}