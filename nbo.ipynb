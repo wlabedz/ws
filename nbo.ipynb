{
 "cells": [
  {
   "cell_type": "code",
   "execution_count": 1,
   "id": "c6f75b3d",
   "metadata": {
    "colab": {
     "base_uri": "https://localhost:8080/"
    },
    "execution": {
     "iopub.execute_input": "2025-08-22T15:33:50.044122Z",
     "iopub.status.busy": "2025-08-22T15:33:50.043888Z",
     "iopub.status.idle": "2025-08-22T15:33:52.323198Z",
     "shell.execute_reply": "2025-08-22T15:33:52.322430Z"
    },
    "id": "5pYh4c8j1w43",
    "outputId": "8a0dca73-64e5-4f0d-c493-2c5b38392363",
    "papermill": {
     "duration": 2.282748,
     "end_time": "2025-08-22T15:33:52.324331",
     "exception": false,
     "start_time": "2025-08-22T15:33:50.041583",
     "status": "completed"
    },
    "tags": []
   },
   "outputs": [
    {
     "name": "stdout",
     "output_type": "stream",
     "text": [
      "Status Code: 200\n",
      "Response Headers: {'Server': 'nginx', 'Date': 'Fri, 22 Aug 2025 15:33:51 GMT', 'Content-Type': 'text/html; charset=UTF-8', 'Transfer-Encoding': 'chunked', 'Vary': 'Accept-Encoding, User-Agent', 'Set-Cookie': 'FRSPSID=5mls3egn9s69hbd4gh5f0s1up3; path=/; domain=.sprzedajemy.pl; secure; HttpOnly, _items_per_page__offer_list=60; expires=Sun, 21-Sep-2025 15:33:51 GMT; Max-Age=2592000; path=/; domain=.sprzedajemy.pl; secure; httponly, observed_id=113919396368a88ddfd4b728149166819274535066; expires=Wed, 22-Aug-2125 16:33:51 GMT; Max-Age=3155677200; path=/; domain=.sprzedajemy.pl; secure; httponly', 'Expires': 'Thu, 19 Nov 1981 08:52:00 GMT', 'Cache-Control': 'no-store, no-cache, must-revalidate, post-check=0, pre-check=0', 'Pragma': 'no-cache', 'Content-Encoding': 'gzip'}\n",
      "Response Text (first 2000 chars): <!DOCTYPE html><html xmlns=\"http://www.w3.org/1999/xhtml\" xml:lang=\"pl\" lang=\"pl\" class=\"no-js\" >\n",
      "<head>\n",
      "\t\t\t<!-- Google Tag Manager -->\n",
      "\t\t\t<script>(function(w,d,s,l,i){w[l]=w[l]||[];w[l].push({'gtm.start':\n",
      "\t\t\t\t\t\tnew Date().getTime(),event:'gtm.js'});var f=d.getElementsByTagName(s)[0],\n",
      "\t\t\t\t\tj=d.createElement(s),dl=l!='dataLayer'?'&l='+l:'';j.async=true;j.src=\n",
      "\t\t\t\t\t'https://www.googletagmanager.com/gtm.js?id='+i+dl\n",
      "\t\t\t\t\t\t\t\t\t    ;f.parentNode.insertBefore(j,f);\n",
      "\t\t\t\t    })(window,document,'script','dataLayer','GTM-P3S238');</script>\n",
      "\t\t\t<!-- End Google Tag Manager -->\n",
      "\t<title>Mieszkania Kraków na sprzedaż, wynajem - Sprzedajemy.pl</title><meta http-equiv=\"Content-Type\" content=\"text/html; charset=UTF-8\" >\n",
      "<meta http-equiv=\"X-UA-Compatible\" content=\"IE=edge\" >\n",
      "<meta name=\"description\" content=\"Ogłoszenia o tematyce:  w kategorii Mieszkania - Kupuj i sprzedawaj rzeczy używane i nowe w kategorii Mieszkania na Sprzedajemy.pl\" >\n",
      "<meta property=\"og:title\" content=\"Mieszkania Kraków na sprzedaż, wynajem - Sprzedajemy.pl\" >\n",
      "<meta property=\"og:type\" content=\"website\" >\n",
      "<meta property=\"og:image\" content=\"https://thumbs.img-sprzedajemy.pl/facebook/sprzedajemy.pl.png\" >\n",
      "<meta property=\"og:image:width\" content=\"200\" >\n",
      "<meta property=\"og:image:height\" content=\"200\" >\n",
      "<meta property=\"og:url\" content=\"https://sprzedajemy.pl/krakow/nieruchomosci/mieszkania\" >\n",
      "<meta property=\"og:site_name\" content=\"Sprzedajemy.pl\" >\n",
      "<meta property=\"fb:app_id\" content=\"173258269367442\" >\n",
      "<meta property=\"og:description\" content=\"Ogłoszenia o tematyce:  w kategorii Mieszkania - Kupuj i sprzedawaj rzeczy używane i nowe w kategorii Mieszkania na Sprzedajemy.pl\" >\n",
      "<meta name=\"robots\" content=\"noindex, follow\" >\t\t<script  async=\"async\" src=\"https://static.criteo.net/js/ld/publishertag.js\"></script>\n",
      "        <script  async=\"async\" src=\"https://ap.lijit.com/www/sovrn_beacon_standalone/sovrn_standalone_beacon.js?iid=13417409&amp;uid=sprzedajemy\" id=\"sBeacon\"></script>\n",
      "\t\t<script  async=\"async\" src=\"https://securepuba\n",
      "Titles: ['2-pokojowe mieszkanie po remoncie | PROMOCJA | ul Bronowicka', '3 niezależne lokale z KW– inwestycja z potencjałem', 'Kawalerka Salwator Centrum POD INWESTYCJE', 'Mieszkanie na sprzedaż/zamiana 39m2', 'Kraków, Stare Miasto sprzedaż/zamiana', 'Mieszkanie Kraków 49.63m2 3 pokoje', 'Oferta sprzedaży mieszkania 77.12m2 3-pokojowe Kraków Reduta', 'Mieszkanie Kraków Na Błonie 41.12m2 1 pokój', 'Mieszkanie 65.46m2 3-pok Kraków Wadowicka', 'Oferta sprzedaży mieszkania 71.46m2 3 pok Kraków Na Błonie', 'Mieszkanie Kraków Na Błonie 40.71 metrów 2 pokojowe', 'Mieszkanie do sprzedania Kraków 34.79m2 2-pok', 'Mieszkanie 35.25m2 2 pokoje Kraków 29 listopada - okolice', 'Mieszkanie 60.05m2 4 pokoje Kraków', 'Mieszkanie Kraków Kantrowicka 51.41m 3-pokojowe', 'Oferta sprzedaży mieszkania 65.16m2 4 pokoje Kraków Kantrowicka', 'Mieszkanie 46.66m2 Kraków Babińskiego', 'Sprzedam mieszkanie 35.26m2 2-pok Kraków 29 listopada - okolice', 'Ogłoszenie mieszkanie 51.73m2 3 pokojowe Kraków', 'Sprzedam mieszkanie 26.73m2 1 pokój Kraków', 'Mieszkanie 26.07m2 Kraków Skałeczna', 'Oferta sprzedaży mieszkania 53.24m2 2 pokoje Kraków Pękowicka', 'Mieszkanie 72.4m2 Kraków Babińskiego', 'Mieszkanie 79.28m2 Kraków Wadowicka', 'Mieszkanie Kraków Olszanicka 94.68m2 4-pokojowe', 'Mieszkanie 3 pokojowe /64,3 m2 / w  super lokalizacji - od właściciela', 'Mieszkanie 56.92m 3 pokoje Kraków', 'Oferta sprzedaży mieszkania 63.45m2 3-pokojowe Kraków Wadowicka', 'Wynajmę mieszkanie Kraków Bronowicka 64m2 3 pokoje', 'Mieszkanie Kraków 36.76 metrów 2 pokojowe', 'Mieszkanie 67.69m2 Kraków Pękowicka', 'Sprzedam mieszkanie 53.88m2 3 pokojowe Kraków', 'Oferta sprzedaży mieszkania Kraków Babińskiego 50.39m', 'Sprzedaż mieszkania 41.07m2 2 pokojowe Kraków Pękowicka', 'Do sprzedaży mieszkanie 90.48m2 4-pokojowe Kraków Babińskiego', 'Oferta sprzedaży mieszkania Kraków Henryka i Karola Czeczów 62.62m 3-pokojowe', 'Mieszkanie Kraków 35.05m2 2 pokoje', 'Mieszkanie 32.1m2 2-pokojowe Kraków Klimeckiego', 'Mieszkanie na sprzedaż Kraków Pękowicka 36.12 metry 2 pokojowe', 'Mieszkanie Kraków 45.27m2 2 pokoje', 'Mieszkanie do sprzedania 50.39m2 2 pokoje Kraków Babińskiego', 'Mieszkanie 124.37m2 4 pokoje Kraków Podłużna - okolice', 'Mieszkanie Kraków 52.26m2 3 pokoje', 'Mieszkanie 83.66m2 5 pokoi Kraków Wadowicka', 'Mieszkanie 56.3m2 3 pokojowe Kraków Pękowicka', 'Mieszkanie 62.88m2 3 pokojowe Kraków', 'Mieszkanie 37.57m2 2 pokoje Kraków Na Błonie', 'Mieszkanie Kraków Pękowicka 36.17m2 2-pok', 'Mieszkanie 48.2m Kraków', 'Ogłoszenie mieszkanie Kraków 43.42m2', 'Sprzedaż mieszkania Kraków Kantrowicka 35.05m 2 pokojowe', 'Do sprzedaży mieszkanie Kraków Wadowicka 44.08m2 2-pokojowe', 'Oferta sprzedaży mieszkania 62.82m2 3 pokoje Kraków Pękowicka', 'Ogłoszenie mieszkanie 39.67 metrów 2 pokoje Kraków Pękowicka', 'Mieszkanie 50.23m2 3 pokojowe Kraków', 'Mieszkanie 59.82m2 4 pokoje Kraków', 'Mieszkanie 63m2 4 pokoje Kraków', 'Mieszkanie sprzedam Kraków Kantrowicka 77.54m2 5 pokoi', 'Oferta sprzedaży mieszkania Kraków 35.79m2 2 pokoje', 'Mieszkanie Kraków 40.61m2 1 pokój']\n",
      "60\n",
      "Prices: ['710 000 zł', '265 000 zł', '428 824 zł', '526 000 zł', '2 083 000 zł', '699 783 zł', '1 342 000 zł', '768 203 zł', '1 099 728 zł', '1 188 022 zł', '774 914 zł', '479 232 zł', '670 057 zł', '984 820 zł', '634 913 zł', '773 775 zł', '858 544 zł', '645 875 zł', '848 372 zł', '565 045 zł', '614 000 zł', '859 826 zł', '1 194 600 zł', '1 339 832 zł', '1 387 058 zł', '997 000 zł', '1 043 059 zł', '1 053 270 zł', '3 990 zł', '691 817 zł', '1 083 040 zł', '878 244 zł', '901 981 zł', '694 083 zł', '1 465 776 zł', '978 000 zł', '482 813 zł', '3 500 zł', '615 846 zł', '837 495 zł', '901 981 zł', '2 176 475 zł', '857 064 zł', '1 321 828 zł', '895 170 zł', '987 216 zł', '765 864 zł', '613 081 zł', '797 710 zł', '700 000 zł', '499 462 zł', '806 664 zł', '1 014 543 zł', '672 406 zł', '723 312 zł', '969 084 zł', '1 014 300 zł', '883 956 zł', '613 798 zł', '670 065 zł']\n",
      "60\n"
     ]
    }
   ],
   "source": [
    "import requests\n",
    "from bs4 import BeautifulSoup\n",
    "import pandas as pd\n",
    "import os\n",
    "\n",
    "url = \"https://sprzedajemy.pl/krakow/nieruchomosci/mieszkania?offset=0&items_per_page=60\"\n",
    "\n",
    "headers = {\n",
    "    \"User-Agent\": \"Mozilla/5.0 (Windows NT 10.0; Win64; x64) AppleWebKit/537.36 (KHTML, like Gecko) Chrome/58.0.3029.110 Safari/537.36\",\n",
    "    \"Accept\": \"text/html,application/xhtml+xml,application/xml;q=0.9,image/webp,image/apng,*/*;q=0.8\",\n",
    "    \"Accept-Encoding\": \"gzip, deflate, br\",\n",
    "    \"Accept-Language\": \"en-US,en;q=0.9,pl;q=0.8\",\n",
    "    \"Connection\": \"keep-alive\"\n",
    "}\n",
    "\n",
    "response = requests.get(url, headers=headers)\n",
    "response = requests.get(url, headers=headers)\n",
    "\n",
    "# Debugowanie odpowiedzi\n",
    "print(f\"Status Code: {response.status_code}\")\n",
    "print(f\"Response Headers: {response.headers}\")\n",
    "print(f\"Response Text (first 2000 chars): {response.text[:2000]}\")\n",
    "\n",
    "# Jeśli odpowiedź jest poprawna, wykonaj webscraping\n",
    "if response.status_code == 200:\n",
    "    soup = BeautifulSoup(response.content, \"html.parser\")\n",
    "\n",
    "    # Pobieranie ofert mieszkań\n",
    "    titles = [h2.a.text.strip() for h2 in soup.find_all(\"h2\", class_=\"title\") if h2.a]\n",
    "    prices = [p.text.replace(\"\\xa0\", \" \").strip() for p in soup.find_all(\"span\", class_=\"price\")]\n",
    "\n",
    "    print(\"Titles:\", titles)\n",
    "    print(len(titles))\n",
    "    print(\"Prices:\", prices)\n",
    "    print(len(prices))\n",
    "\n",
    "    df = pd.DataFrame({\"Title\": titles, \"Price\": prices})\n",
    "\n",
    "    # Dopisanie do pliku CSV\n",
    "    df.to_csv(\"scraped_data.csv\", mode='a', header=not os.path.exists('scraped_data.csv'), index=False)\n",
    "else:\n",
    "    print(\"Failed to retrieve data.\")\n"
   ]
  }
 ],
 "metadata": {
  "colab": {
   "provenance": []
  },
  "kernelspec": {
   "display_name": "Python 3",
   "name": "python3"
  },
  "language_info": {
   "codemirror_mode": {
    "name": "ipython",
    "version": 3
   },
   "file_extension": ".py",
   "mimetype": "text/x-python",
   "name": "python",
   "nbconvert_exporter": "python",
   "pygments_lexer": "ipython3",
   "version": "3.9.23"
  },
  "papermill": {
   "default_parameters": {},
   "duration": 3.399836,
   "end_time": "2025-08-22T15:33:52.540752",
   "environment_variables": {},
   "exception": null,
   "input_path": "nb.ipynb",
   "output_path": "nbo.ipynb",
   "parameters": {},
   "start_time": "2025-08-22T15:33:49.140916",
   "version": "2.6.0"
  }
 },
 "nbformat": 4,
 "nbformat_minor": 5
}