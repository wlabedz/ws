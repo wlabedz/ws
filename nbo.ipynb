{
 "cells": [
  {
   "cell_type": "code",
   "execution_count": 1,
   "id": "b3bf5a67",
   "metadata": {
    "colab": {
     "base_uri": "https://localhost:8080/"
    },
    "execution": {
     "iopub.execute_input": "2025-04-28T06:59:15.941551Z",
     "iopub.status.busy": "2025-04-28T06:59:15.940862Z",
     "iopub.status.idle": "2025-04-28T06:59:18.042771Z",
     "shell.execute_reply": "2025-04-28T06:59:18.042065Z"
    },
    "id": "5pYh4c8j1w43",
    "outputId": "8a0dca73-64e5-4f0d-c493-2c5b38392363",
    "papermill": {
     "duration": 2.105677,
     "end_time": "2025-04-28T06:59:18.043907",
     "exception": false,
     "start_time": "2025-04-28T06:59:15.938230",
     "status": "completed"
    },
    "tags": []
   },
   "outputs": [
    {
     "name": "stdout",
     "output_type": "stream",
     "text": [
      "Status Code: 200\n",
      "Response Headers: {'Server': 'nginx', 'Date': 'Mon, 28 Apr 2025 06:59:17 GMT', 'Content-Type': 'text/html; charset=UTF-8', 'Transfer-Encoding': 'chunked', 'Vary': 'Accept-Encoding, User-Agent', 'Set-Cookie': 'FRSPSID=4hjd7rmq0910arhiiakutdb3e7; path=/; domain=.sprzedajemy.pl; secure; HttpOnly, _items_per_page__offer_list=60; expires=Wed, 28-May-2025 06:59:17 GMT; Max-Age=2592000; path=/; domain=.sprzedajemy.pl; secure; httponly, observed_id=263872378680f274593b47760419811151848227; expires=Sat, 28-Apr-2125 07:59:17 GMT; Max-Age=3155677200; path=/; domain=.sprzedajemy.pl; secure; httponly', 'Expires': 'Thu, 19 Nov 1981 08:52:00 GMT', 'Cache-Control': 'no-store, no-cache, must-revalidate, post-check=0, pre-check=0', 'Pragma': 'no-cache', 'Content-Encoding': 'gzip'}\n",
      "Response Text (first 2000 chars): <!DOCTYPE html><html xmlns=\"http://www.w3.org/1999/xhtml\" xml:lang=\"pl\" lang=\"pl\" class=\"no-js\" >\n",
      "<head>\n",
      "\t\t\t<!-- Google Tag Manager -->\n",
      "\t\t\t<script>(function(w,d,s,l,i){w[l]=w[l]||[];w[l].push({'gtm.start':\n",
      "\t\t\t\t\t\tnew Date().getTime(),event:'gtm.js'});var f=d.getElementsByTagName(s)[0],\n",
      "\t\t\t\t\tj=d.createElement(s),dl=l!='dataLayer'?'&l='+l:'';j.async=true;j.src=\n",
      "\t\t\t\t\t'https://www.googletagmanager.com/gtm.js?id='+i+dl\n",
      "\t\t\t\t\t\t\t\t\t    ;f.parentNode.insertBefore(j,f);\n",
      "\t\t\t\t    })(window,document,'script','dataLayer','GTM-P3S238');</script>\n",
      "\t\t\t<!-- End Google Tag Manager -->\n",
      "\t<title>Mieszkania Kraków na sprzedaż, wynajem - Sprzedajemy.pl</title><meta http-equiv=\"Content-Type\" content=\"text/html; charset=UTF-8\" >\n",
      "<meta http-equiv=\"X-UA-Compatible\" content=\"IE=edge\" >\n",
      "<meta name=\"description\" content=\"Ogłoszenia o tematyce:  w kategorii Mieszkania - Kupuj i sprzedawaj rzeczy używane i nowe w kategorii Mieszkania na Sprzedajemy.pl\" >\n",
      "<meta property=\"og:title\" content=\"Mieszkania Kraków na sprzedaż, wynajem - Sprzedajemy.pl\" >\n",
      "<meta property=\"og:type\" content=\"website\" >\n",
      "<meta property=\"og:image\" content=\"https://thumbs.img-sprzedajemy.pl/facebook/sprzedajemy.pl.png\" >\n",
      "<meta property=\"og:image:width\" content=\"200\" >\n",
      "<meta property=\"og:image:height\" content=\"200\" >\n",
      "<meta property=\"og:url\" content=\"https://sprzedajemy.pl/krakow/nieruchomosci/mieszkania\" >\n",
      "<meta property=\"og:site_name\" content=\"Sprzedajemy.pl\" >\n",
      "<meta property=\"fb:app_id\" content=\"173258269367442\" >\n",
      "<meta property=\"og:description\" content=\"Ogłoszenia o tematyce:  w kategorii Mieszkania - Kupuj i sprzedawaj rzeczy używane i nowe w kategorii Mieszkania na Sprzedajemy.pl\" >\n",
      "<meta name=\"robots\" content=\"noindex, follow\" >\t\t<script  async=\"async\" src=\"https://static.criteo.net/js/ld/publishertag.js\"></script>\n",
      "        <script  async=\"async\" src=\"https://ap.lijit.com/www/sovrn_beacon_standalone/sovrn_standalone_beacon.js?iid=13417409&amp;uid=sprzedajemy\" id=\"sBeacon\"></script>\n",
      "\t\t<script  async=\"async\" src=\"https://securepuba\n",
      "Titles: ['Mieszkanie z ogródkiem Zakrzówek bezczynszowe', '2 pokoje 41m2 blisko Aquaparku wkrótce tramwaj!', 'Mieszkanie przy Parku Rzecznym Tonie', 'Kraków, Stare Miasto sprzedaż/zamiana', 'Mieszkanie na sprzedaż/zamiana 39m2', '3 pokoje |59,5m2| Orlińskiego AVIA | BEZPOŚREDNIO', 'Mieszkanie do wynajęcia 46m2 2 pokoje Kraków Zwierzyniecka', 'Wynajmę pokoik', '3 pokoje + kuchnia, bez prowizji od właściciela, 10 piętro widokowe', 'Mieszkanie do wynajęcia Kraków Stawowa 51.87m2 2 pokoje', 'Sprzedam Mieszkanie', '2 POKOJOWE 43MKW na Stachiewicza na sprzedaż!', 'Mieszkanie Kraków Stare Miasto Grodzka', 'Sprzedam 2pokojowe Mieszkanie os. Kalinowe, do wejścia, 3piętro, winda', 'Mieszkanie na Grzegórzkach na wynajem!', '3 pokojowe 59mkw na Mackiewicza na sprzedaż!', 'Bezczynszowe 3-pokojowe mieszkanie w szeregówce', 'Sprzedam 47m2 ul Bochenka 25', 'Sprzedam mieszkanie Kraków ulica Wawelska 8', 'Mieszkanie 89.57m2 5 pokoi Kraków', 'Apartament w ścisłym centrum Krakowa ul. Rakowicka Apartamenty Novum', 'Apartament centrum Krakowa ul. Rakowicka przy Galerii Krakowskiej', 'Mieszkanie na Czyżynach do remontu.', 'Mieszkanie Kraków 62m2 3 pokoje', '2 pokojowe mieszkanie z balkonem - bezpośrednio ,bez prowizji', 'Mieszkanie Kraków 42.88m2 2 pok', 'Ogłoszenie mieszkanie 50m2 Kraków Meiselsa', 'Mieszkanie 74.57m2 3-pokojowe Kraków', 'Mieszkanie 74.57m2 4 pokoje Kraków Henryka Pachońskiego', 'Mieszkanie Kraków 74.57m 3 pokoje', 'Kawalerka  na sprzedaż', 'Sprzedaż mieszkania 74.57m2 3 pokoje Kraków Henryka Pachońskiego', 'Pokój na wynajem Kraków Romanowicza Zabłocie', 'Oferta sprzedaży mieszkania 74.57m2 4 pokoje Kraków Henryka Pachońskiego', 'Prądnik Czerwony- 2 pokoje, balkon, jasna kuchnia', 'Krowodrza Górka, 4 pokoje, jasna kuchnia', 'Ruczaj - dwupokojowe z aneksem kuchennym, 2002r.', 'Mieszkanie 74.57m2 3-pok Kraków Henryka Pachońskiego', 'Oferta sprzedaży mieszkania Kraków 37m2 2-pok', 'os Kazimierzowskie - mieszkanie 2 pokojowe', 'Wzgórza Krzesławickie 5 pokoi, garaż', 'Os. Centrum A - mieszkanie 2 pokoje, jasna kuchnia', 'Kraków,56,72m2+ogódek ok 145m2, miejsce postojowe', 'NOWE M2, ogródek, Podedworze 45 m2, FV, bez PCC WŁ', 'Mieszkanie 74.57m2 4 pokojowe Kraków Henryka Pachońskiego', 'Bieńczyce - 3 pokoje, balkon, jasna kuchnia', 'Ul. Bratysławska - 2 pokoje w apartamentowcu', 'Piękne mieszkanie po generalnym remoncie', 'Mieszkanie 74.57m2 4-pokojowe Kraków Henryka Pachońskiego', 'OD ZARAZ | BEZ KAUCJI | Centrum ul. Wrocławska 53', 'os.Szkolne, 3 pokojowe mieszkanie', 'Mieszkanie Kraków Henryka Pachońskiego 74.57 metrów 3 pokoje', 'Wola Duchacka 2 pokoje, dwie komórki lokatorskie', 'Kraków- 4 pokoje taras, miejsce postojowe', 'Oferta sprzedaży mieszkania Kraków 74.57m2 4 pokoje', 'Mieszkanie 46.2m2 2 pokojowe Kraków', 'Ruczaj - 2 pokoje, balkon, jasna kuchnia, garaż', 'Mieszkanie z potencjałem od właściciela, Nowa Huta Os. Na Skarpie, jasne i…', 'Ogłoszenie mieszkanie 74.57 metrów 4-pokojowe Kraków', 'Mieszkanie 74.57m2 4 pokoje Kraków Henryka Pachońskiego']\n",
      "60\n",
      "Prices: ['460 000 zł', '710 000 zł', '535 000 zł', '2 254 000 zł', '548 000 zł', '950 000 zł', '2 700 zł', '500 zł', '858 000 zł', '2 750 zł', '859 000 zł', '525 000 zł', '1 483 000 zł', '575 000 zł', '4 000 zł', '696 000 zł', '999 000 zł', '690 000 zł', '1 099 000 zł', '2 248 207 zł', '755 244 zł', '755 244 zł', '669 900 zł', '4 000 zł', '580 000 zł', '1 000 176 zł', '750 000 zł', '767 659 zł', '816 102 zł', '772 156 zł', '595 000 zł', '767 659 zł', '1 360 zł', '855 848 zł', '599 000 zł', '830 000 zł', '669 000 zł', '772 156 zł', '740 000 zł', '515 000 zł', '1 149 000 zł', '695 000 zł', '780 000 zł', '849 500 zł', '805 014 zł', '745 000 zł', '2 700 zł', '650 000 zł', '855 724 zł', '3 600 zł', '770 000 zł', '767 659 zł', '700 000 zł', '1 199 000 zł', '855 848 zł', '743 680 zł', '760 000 zł', '480 000 zł', '816 102 zł', '816 102 zł']\n",
      "60\n"
     ]
    }
   ],
   "source": [
    "import requests\n",
    "from bs4 import BeautifulSoup\n",
    "import pandas as pd\n",
    "import os\n",
    "\n",
    "url = \"https://sprzedajemy.pl/krakow/nieruchomosci/mieszkania?offset=0&items_per_page=60\"\n",
    "\n",
    "headers = {\n",
    "    \"User-Agent\": \"Mozilla/5.0 (Windows NT 10.0; Win64; x64) AppleWebKit/537.36 (KHTML, like Gecko) Chrome/58.0.3029.110 Safari/537.36\",\n",
    "    \"Accept\": \"text/html,application/xhtml+xml,application/xml;q=0.9,image/webp,image/apng,*/*;q=0.8\",\n",
    "    \"Accept-Encoding\": \"gzip, deflate, br\",\n",
    "    \"Accept-Language\": \"en-US,en;q=0.9,pl;q=0.8\",\n",
    "    \"Connection\": \"keep-alive\"\n",
    "}\n",
    "\n",
    "response = requests.get(url, headers=headers)\n",
    "response = requests.get(url, headers=headers)\n",
    "\n",
    "# Debugowanie odpowiedzi\n",
    "print(f\"Status Code: {response.status_code}\")\n",
    "print(f\"Response Headers: {response.headers}\")\n",
    "print(f\"Response Text (first 2000 chars): {response.text[:2000]}\")\n",
    "\n",
    "# Jeśli odpowiedź jest poprawna, wykonaj webscraping\n",
    "if response.status_code == 200:\n",
    "    soup = BeautifulSoup(response.content, \"html.parser\")\n",
    "\n",
    "    # Pobieranie ofert mieszkań\n",
    "    titles = [h2.a.text.strip() for h2 in soup.find_all(\"h2\", class_=\"title\") if h2.a]\n",
    "    prices = [p.text.replace(\"\\xa0\", \" \").strip() for p in soup.find_all(\"span\", class_=\"price\")]\n",
    "\n",
    "    print(\"Titles:\", titles)\n",
    "    print(len(titles))\n",
    "    print(\"Prices:\", prices)\n",
    "    print(len(prices))\n",
    "\n",
    "    df = pd.DataFrame({\"Title\": titles, \"Price\": prices})\n",
    "\n",
    "    # Dopisanie do pliku CSV\n",
    "    df.to_csv(\"scraped_data.csv\", mode='a', header=not os.path.exists('scraped_data.csv'), index=False)\n",
    "else:\n",
    "    print(\"Failed to retrieve data.\")\n"
   ]
  }
 ],
 "metadata": {
  "colab": {
   "provenance": []
  },
  "kernelspec": {
   "display_name": "Python 3",
   "name": "python3"
  },
  "language_info": {
   "codemirror_mode": {
    "name": "ipython",
    "version": 3
   },
   "file_extension": ".py",
   "mimetype": "text/x-python",
   "name": "python",
   "nbconvert_exporter": "python",
   "pygments_lexer": "ipython3",
   "version": "3.9.22"
  },
  "papermill": {
   "default_parameters": {},
   "duration": 3.215854,
   "end_time": "2025-04-28T06:59:18.260676",
   "environment_variables": {},
   "exception": null,
   "input_path": "nb.ipynb",
   "output_path": "nbo.ipynb",
   "parameters": {},
   "start_time": "2025-04-28T06:59:15.044822",
   "version": "2.6.0"
  }
 },
 "nbformat": 4,
 "nbformat_minor": 5
}