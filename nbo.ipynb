{
 "cells": [
  {
   "cell_type": "code",
   "execution_count": 1,
   "id": "cb8e4ab5",
   "metadata": {
    "colab": {
     "base_uri": "https://localhost:8080/"
    },
    "execution": {
     "iopub.execute_input": "2025-06-14T07:55:41.678039Z",
     "iopub.status.busy": "2025-06-14T07:55:41.677746Z",
     "iopub.status.idle": "2025-06-14T07:55:43.811967Z",
     "shell.execute_reply": "2025-06-14T07:55:43.811265Z"
    },
    "id": "5pYh4c8j1w43",
    "outputId": "8a0dca73-64e5-4f0d-c493-2c5b38392363",
    "papermill": {
     "duration": 2.138098,
     "end_time": "2025-06-14T07:55:43.813188",
     "exception": false,
     "start_time": "2025-06-14T07:55:41.675090",
     "status": "completed"
    },
    "tags": []
   },
   "outputs": [
    {
     "name": "stdout",
     "output_type": "stream",
     "text": [
      "Status Code: 200\n",
      "Response Headers: {'Server': 'nginx', 'Date': 'Sat, 14 Jun 2025 07:55:43 GMT', 'Content-Type': 'text/html; charset=UTF-8', 'Transfer-Encoding': 'chunked', 'Vary': 'Accept-Encoding, User-Agent', 'Set-Cookie': 'FRSPSID=9krtc927l1kmisqs84raafehp5; path=/; domain=.sprzedajemy.pl; secure; HttpOnly, _items_per_page__offer_list=60; expires=Mon, 14-Jul-2025 07:55:43 GMT; Max-Age=2592000; path=/; domain=.sprzedajemy.pl; secure; httponly, observed_id=1625755628684d2aff5e45b086452380554208696; expires=Thu, 14-Jun-2125 08:55:43 GMT; Max-Age=3155677200; path=/; domain=.sprzedajemy.pl; secure; httponly', 'Expires': 'Thu, 19 Nov 1981 08:52:00 GMT', 'Cache-Control': 'no-store, no-cache, must-revalidate, post-check=0, pre-check=0', 'Pragma': 'no-cache', 'Content-Encoding': 'gzip'}\n",
      "Response Text (first 2000 chars): <!DOCTYPE html><html xmlns=\"http://www.w3.org/1999/xhtml\" xml:lang=\"pl\" lang=\"pl\" class=\"no-js\" >\n",
      "<head>\n",
      "\t\t\t<!-- Google Tag Manager -->\n",
      "\t\t\t<script>(function(w,d,s,l,i){w[l]=w[l]||[];w[l].push({'gtm.start':\n",
      "\t\t\t\t\t\tnew Date().getTime(),event:'gtm.js'});var f=d.getElementsByTagName(s)[0],\n",
      "\t\t\t\t\tj=d.createElement(s),dl=l!='dataLayer'?'&l='+l:'';j.async=true;j.src=\n",
      "\t\t\t\t\t'https://www.googletagmanager.com/gtm.js?id='+i+dl\n",
      "\t\t\t\t\t\t\t\t\t    ;f.parentNode.insertBefore(j,f);\n",
      "\t\t\t\t    })(window,document,'script','dataLayer','GTM-P3S238');</script>\n",
      "\t\t\t<!-- End Google Tag Manager -->\n",
      "\t<title>Mieszkania Kraków na sprzedaż, wynajem - Sprzedajemy.pl</title><meta http-equiv=\"Content-Type\" content=\"text/html; charset=UTF-8\" >\n",
      "<meta http-equiv=\"X-UA-Compatible\" content=\"IE=edge\" >\n",
      "<meta name=\"description\" content=\"Ogłoszenia o tematyce:  w kategorii Mieszkania - Kupuj i sprzedawaj rzeczy używane i nowe w kategorii Mieszkania na Sprzedajemy.pl\" >\n",
      "<meta property=\"og:title\" content=\"Mieszkania Kraków na sprzedaż, wynajem - Sprzedajemy.pl\" >\n",
      "<meta property=\"og:type\" content=\"website\" >\n",
      "<meta property=\"og:image\" content=\"https://thumbs.img-sprzedajemy.pl/facebook/sprzedajemy.pl.png\" >\n",
      "<meta property=\"og:image:width\" content=\"200\" >\n",
      "<meta property=\"og:image:height\" content=\"200\" >\n",
      "<meta property=\"og:url\" content=\"https://sprzedajemy.pl/krakow/nieruchomosci/mieszkania\" >\n",
      "<meta property=\"og:site_name\" content=\"Sprzedajemy.pl\" >\n",
      "<meta property=\"fb:app_id\" content=\"173258269367442\" >\n",
      "<meta property=\"og:description\" content=\"Ogłoszenia o tematyce:  w kategorii Mieszkania - Kupuj i sprzedawaj rzeczy używane i nowe w kategorii Mieszkania na Sprzedajemy.pl\" >\n",
      "<meta name=\"robots\" content=\"noindex, follow\" >\t\t<script  async=\"async\" src=\"https://static.criteo.net/js/ld/publishertag.js\"></script>\n",
      "        <script  async=\"async\" src=\"https://ap.lijit.com/www/sovrn_beacon_standalone/sovrn_standalone_beacon.js?iid=13417409&amp;uid=sprzedajemy\" id=\"sBeacon\"></script>\n",
      "\t\t<script  async=\"async\" src=\"https://securepuba\n",
      "Titles: ['Wyjątkowe mieszkanie z widokiem na klasztor w Tyńcu i panoramę Tatr', 'Stylowy apartament z widokiem na panoramę Krakowa - od właściciela', 'Nowoczesny apartament z panoramicznym widokiem - od właściciela', 'Mieszkanie na sprzedaż/zamiana 39m2', '2 lub 3 pokoje,62m2,balkon, Widok na Wawel', 'Nowe mieszkanie na sprzedaż 2-pokoje 38,6 m2 | Krowodrza - Kraków', 'Mieszkanie 4-pokoje Kraków - wolne od 1 Lipca 2025 r.', 'Mieszkanie 2 pokojowe', 'Stare Miasto 61,5 m2 KLIMA Wawel wykończone Kazimierz wysokie ROI', 'Stare Miasto 32m2 KLIMA Wawel wykończone Kazimierz wysokie ROI', 'Strych do adaptacji, Błonia, ul. Filarecka', 'Mieszkanie Kraków os. Kalinowe 24m2', 'Mieszkanie 63.43m2 Kraków', 'Mieszkanie 47m2 3 pokoje Kraków os. Piastów', 'Mieszkanie sprzedam Kraków Józefa Łepkowskiego 38.76m2 2 pokoje', 'Mieszkanie 32.63m2 2-pokojowe Kraków Józefa Łepkowskiego', 'Mieszkanie Kraków Józefa Łepkowskiego 45.4m 2 pokoje', 'Mieszkanie do sprzedania Kraków 50.58m2 2-pokojowe', 'Ogłoszenie mieszkanie Kraków 54.27m2 3 pokoje', 'Mieszkanie 39.14m2 2 pokoje Kraków zabłocie', 'Oferta wynajmu mieszkania Kraków Jerozolimska 52m2 2 pokojowe', 'Mieszkanie 77.24m2 3 pokojowe Kraków Krakowska', 'Mieszkanie Kraków Reduta 77.27 metrów 3 pok', 'Mieszkanie Kraków Józefa Łepkowskiego 38.76m2 2-pokojowe', 'Mieszkanie Kraków al. Kijowska 30.5m2 1 pokojowe', 'Mieszkanie Kraków Dobrego Pasterza 50.22m2 2 pokojowe', 'Mieszkanie Kraków bp. Albina Małysiaka 42.03m2 2-pokojowe', 'Oferta sprzedaży mieszkania Kraków Józefa Łepkowskiego 41.76m2 2-pok', 'Do sprzedaży mieszkanie 43m2 2 pokoje Kraków Siewna', 'Mieszkanie do sprzedania Kraków Józefa Łepkowskiego 41.7m2 2 pok', 'Mieszkanie 37.24m2 2 pokoje Kraków Stachiewicza', 'Mieszkanie 32.63m2 2 pokoje Kraków Józefa Łepkowskiego', 'Mieszkanie 53.61m2 2-pok Kraków Rozdroże', 'Mieszkanie 140 metrów 3 pok Kraków', 'Mieszkanie Kraków Siewna 53m2 2-pokojowe', 'Oferta sprzedaży mieszkania Kraków os. Piastów 66.72 metry 3-pokojowe', 'Oferta sprzedaży mieszkania 35.44m2 2 pokojowe Kraków', 'Mieszkanie sprzedam Kraków Józefa Łepkowskiego 38.76m2 2 pokojowe', 'Mieszkanie 56.89m2 2 pokoje Kraków', 'Mieszkanie 53.08 metrów 3 pokojowe Kraków', 'Ogłoszenie mieszkanie 33 metry 1 pokojowe Kraków', 'Mieszkanie, na rogu ul. Stefana Batorego z Sobieskiego', 'Sprzedam mieszkanie 42.88m2 2 pokoje Kraków Józefa Łepkowskiego', 'Mieszkanie 39.5m2 2 pokojowe Kraków Teligi', 'Mieszkanie 3-pokojowe 50m2 ul. Polonijna', 'Ogłoszenie mieszkanie Kraków Juliusza Lea 31m2 1-pokojowe', 'Mieszkanie 59.5m2 2-pokojowe Kraków', 'Mieszkanie Kraków 32.44m2 2-pok', 'Mieszkanie Kraków 26.7m2 1-pok', 'Mieszkanie Kraków 45.4m2 2 pokojowe', 'Mieszkanie na wynajem', 'Oferta sprzedaży mieszkania 49.89 metrów 3 pokojowe Kraków Romana Żelazowskiego', 'Mieszkanie 64.97m2 3 pok Kraków', 'Do sprzedaży mieszkanie Kraków 57.06 metrów', 'Mieszkanie Os. Avia Kraków, widok na góry', 'Ogłoszenie mieszkanie 57.62m2 4 pokoje Kraków', 'Mieszkanie na sprzedaż Kraków os. Piastów 34.55m2 2 pokoje', 'Mieszkanie Kraków Rydlówka 42.88m2 3-pokojowe', 'Mieszkanie 46.58m2 2 pokoje Kraków', 'Oferta sprzedaży mieszkania Kraków os. Piastów 36.96m2 2 pok']\n",
      "60\n",
      "Prices: ['779 000 zł', '897 000 zł', '997 000 zł', '548 000 zł', '1 490 000 zł', '799 000 zł', '4 800 zł', '489 000 zł', '1 782 885 zł', '989 000 zł', '379 999 zł', '409 000 zł', '1 033 909 zł', '2 700 zł', '670 548 zł', '544 921 zł', '794 500 zł', '790 000 zł', '735 000 zł', '779 135 zł', '3 500 zł', '1 250 000 zł', '1 334 176 zł', '647 292 zł', '798 000 zł', '780 000 zł', '684 000 zł', '680 688 zł', '750 000 zł', '696 390 zł', '550 000 zł', '544 921 zł', '820 000 zł', '9 000 zł', '699 000 zł', '834 000 zł', '650 000 zł', '678 300 zł', '950 000 zł', '669 000 zł', '1 850 zł', '870 000 zł', '716 096 zł', '2 400 zł', '3 500 zł', '2 600 zł', '1 069 000 zł', '2 700 zł', '691 000 zł', '769 000 zł', '2 500 zł', '699 000 zł', '1 090 000 zł', '890 000 zł', '998 000 zł', '1 194 174 zł', '573 530 zł', '1 000 176 zł', '540 000 zł', '613 536 zł']\n",
      "60\n"
     ]
    }
   ],
   "source": [
    "import requests\n",
    "from bs4 import BeautifulSoup\n",
    "import pandas as pd\n",
    "import os\n",
    "\n",
    "url = \"https://sprzedajemy.pl/krakow/nieruchomosci/mieszkania?offset=0&items_per_page=60\"\n",
    "\n",
    "headers = {\n",
    "    \"User-Agent\": \"Mozilla/5.0 (Windows NT 10.0; Win64; x64) AppleWebKit/537.36 (KHTML, like Gecko) Chrome/58.0.3029.110 Safari/537.36\",\n",
    "    \"Accept\": \"text/html,application/xhtml+xml,application/xml;q=0.9,image/webp,image/apng,*/*;q=0.8\",\n",
    "    \"Accept-Encoding\": \"gzip, deflate, br\",\n",
    "    \"Accept-Language\": \"en-US,en;q=0.9,pl;q=0.8\",\n",
    "    \"Connection\": \"keep-alive\"\n",
    "}\n",
    "\n",
    "response = requests.get(url, headers=headers)\n",
    "response = requests.get(url, headers=headers)\n",
    "\n",
    "# Debugowanie odpowiedzi\n",
    "print(f\"Status Code: {response.status_code}\")\n",
    "print(f\"Response Headers: {response.headers}\")\n",
    "print(f\"Response Text (first 2000 chars): {response.text[:2000]}\")\n",
    "\n",
    "# Jeśli odpowiedź jest poprawna, wykonaj webscraping\n",
    "if response.status_code == 200:\n",
    "    soup = BeautifulSoup(response.content, \"html.parser\")\n",
    "\n",
    "    # Pobieranie ofert mieszkań\n",
    "    titles = [h2.a.text.strip() for h2 in soup.find_all(\"h2\", class_=\"title\") if h2.a]\n",
    "    prices = [p.text.replace(\"\\xa0\", \" \").strip() for p in soup.find_all(\"span\", class_=\"price\")]\n",
    "\n",
    "    print(\"Titles:\", titles)\n",
    "    print(len(titles))\n",
    "    print(\"Prices:\", prices)\n",
    "    print(len(prices))\n",
    "\n",
    "    df = pd.DataFrame({\"Title\": titles, \"Price\": prices})\n",
    "\n",
    "    # Dopisanie do pliku CSV\n",
    "    df.to_csv(\"scraped_data.csv\", mode='a', header=not os.path.exists('scraped_data.csv'), index=False)\n",
    "else:\n",
    "    print(\"Failed to retrieve data.\")\n"
   ]
  }
 ],
 "metadata": {
  "colab": {
   "provenance": []
  },
  "kernelspec": {
   "display_name": "Python 3",
   "name": "python3"
  },
  "language_info": {
   "codemirror_mode": {
    "name": "ipython",
    "version": 3
   },
   "file_extension": ".py",
   "mimetype": "text/x-python",
   "name": "python",
   "nbconvert_exporter": "python",
   "pygments_lexer": "ipython3",
   "version": "3.9.22"
  },
  "papermill": {
   "default_parameters": {},
   "duration": 3.301418,
   "end_time": "2025-06-14T07:55:44.030509",
   "environment_variables": {},
   "exception": null,
   "input_path": "nb.ipynb",
   "output_path": "nbo.ipynb",
   "parameters": {},
   "start_time": "2025-06-14T07:55:40.729091",
   "version": "2.6.0"
  }
 },
 "nbformat": 4,
 "nbformat_minor": 5
}