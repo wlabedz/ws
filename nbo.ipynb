{
 "cells": [
  {
   "cell_type": "code",
   "execution_count": 1,
   "id": "290ce423",
   "metadata": {
    "colab": {
     "base_uri": "https://localhost:8080/"
    },
    "execution": {
     "iopub.execute_input": "2025-10-03T15:44:46.083598Z",
     "iopub.status.busy": "2025-10-03T15:44:46.083325Z",
     "iopub.status.idle": "2025-10-03T15:44:49.008736Z",
     "shell.execute_reply": "2025-10-03T15:44:49.008117Z"
    },
    "id": "5pYh4c8j1w43",
    "outputId": "8a0dca73-64e5-4f0d-c493-2c5b38392363",
    "papermill": {
     "duration": 2.92896,
     "end_time": "2025-10-03T15:44:49.009843",
     "exception": false,
     "start_time": "2025-10-03T15:44:46.080883",
     "status": "completed"
    },
    "tags": []
   },
   "outputs": [
    {
     "name": "stdout",
     "output_type": "stream",
     "text": [
      "Status Code: 200\n",
      "Response Headers: {'Server': 'nginx', 'Date': 'Fri, 03 Oct 2025 15:44:48 GMT', 'Content-Type': 'text/html; charset=UTF-8', 'Transfer-Encoding': 'chunked', 'Vary': 'Accept-Encoding, User-Agent', 'Set-Cookie': 'FRSPSID=u22oabpi3c7bv3mb0j3ihd6ns4; path=/; domain=.sprzedajemy.pl; secure; HttpOnly, _items_per_page__offer_list=60; expires=Sun, 02-Nov-2025 15:44:48 GMT; Max-Age=2592000; path=/; domain=.sprzedajemy.pl; secure; httponly, observed_id=6293690768dfef7072f347124785245146873565; expires=Wed, 03-Oct-2125 16:44:48 GMT; Max-Age=3155677200; path=/; domain=.sprzedajemy.pl; secure; httponly', 'Expires': 'Thu, 19 Nov 1981 08:52:00 GMT', 'Cache-Control': 'no-store, no-cache, must-revalidate, post-check=0, pre-check=0', 'Pragma': 'no-cache', 'Content-Encoding': 'gzip'}\n",
      "Response Text (first 2000 chars): <!DOCTYPE html><html xmlns=\"http://www.w3.org/1999/xhtml\" xml:lang=\"pl\" lang=\"pl\" class=\"no-js\" >\n",
      "<head>\n",
      "\t\t\t<!-- Google Tag Manager -->\n",
      "\t\t\t<script>(function(w,d,s,l,i){w[l]=w[l]||[];w[l].push({'gtm.start':\n",
      "\t\t\t\t\t\tnew Date().getTime(),event:'gtm.js'});var f=d.getElementsByTagName(s)[0],\n",
      "\t\t\t\t\tj=d.createElement(s),dl=l!='dataLayer'?'&l='+l:'';j.async=true;j.src=\n",
      "\t\t\t\t\t'https://www.googletagmanager.com/gtm.js?id='+i+dl\n",
      "\t\t\t\t\t\t\t\t\t    ;f.parentNode.insertBefore(j,f);\n",
      "\t\t\t\t    })(window,document,'script','dataLayer','GTM-P3S238');</script>\n",
      "\t\t\t<!-- End Google Tag Manager -->\n",
      "\t<title>Mieszkania Kraków na sprzedaż, wynajem - Sprzedajemy.pl</title><meta http-equiv=\"Content-Type\" content=\"text/html; charset=UTF-8\" >\n",
      "<meta http-equiv=\"X-UA-Compatible\" content=\"IE=edge\" >\n",
      "<meta name=\"description\" content=\"Ogłoszenia o tematyce:  w kategorii Mieszkania - Kupuj i sprzedawaj rzeczy używane i nowe w kategorii Mieszkania na Sprzedajemy.pl\" >\n",
      "<meta property=\"og:title\" content=\"Mieszkania Kraków na sprzedaż, wynajem - Sprzedajemy.pl\" >\n",
      "<meta property=\"og:type\" content=\"website\" >\n",
      "<meta property=\"og:image\" content=\"https://thumbs.img-sprzedajemy.pl/facebook/sprzedajemy.pl.png\" >\n",
      "<meta property=\"og:image:width\" content=\"200\" >\n",
      "<meta property=\"og:image:height\" content=\"200\" >\n",
      "<meta property=\"og:url\" content=\"https://sprzedajemy.pl/krakow/nieruchomosci/mieszkania\" >\n",
      "<meta property=\"og:site_name\" content=\"Sprzedajemy.pl\" >\n",
      "<meta property=\"fb:app_id\" content=\"173258269367442\" >\n",
      "<meta property=\"og:description\" content=\"Ogłoszenia o tematyce:  w kategorii Mieszkania - Kupuj i sprzedawaj rzeczy używane i nowe w kategorii Mieszkania na Sprzedajemy.pl\" >\n",
      "<meta name=\"robots\" content=\"noindex, follow\" >\t\t<script  async=\"async\" src=\"https://static.criteo.net/js/ld/publishertag.js\"></script>\n",
      "        <script  async=\"async\" src=\"https://ap.lijit.com/www/sovrn_beacon_standalone/sovrn_standalone_beacon.js?iid=13417409&amp;uid=sprzedajemy\" id=\"sBeacon\"></script>\n",
      "\t\t<script  async=\"async\" src=\"https://securepuba\n"
     ]
    },
    {
     "name": "stdout",
     "output_type": "stream",
     "text": [
      "Titles: ['Sprzedam dwupokojowe mieszkanie os. Dywizjonu 303, 19C Kraków', 'Mieszkanie Wzgórza Krzesławickie bez prowizji.', 'Kraków – Bieńczyce, os. Kazimierzowskie', 'Mieszkanie z widokiem na góry', 'Podedworze 13', 'Mieszkanie 3-pokojowe Zakrzówek Ruczaj wynajem na 9 miesięcy', 'Wyjątkowy lokal przy ul. Krowoderskiej z widokiem na stronę ogrodową', 'Dwa pokoje - stare miasto - Do wejścia - Własność', 'Kraków, Stare Miasto sprzedaż/zamiana', 'Sprzedaż mieszkania 60.38m2 3-pokojowe Kraków Babińskiego', 'Mieszkanie Kraków Pękowicka 41.33m2 2 pokojowe', 'Mieszkanie Kraków 50.64m2 3-pok', 'Oferta sprzedaży mieszkania 66.75m 4 pokoje Kraków', 'Mieszkanie Kraków 35.02m2 2 pokojowe', 'Mieszkanie Kraków Sołtysowska 30.76m2 1-pokojowe', 'Mieszkanie 64.89m2 4-pok Kraków Kantrowicka', 'Mieszkanie 70.88m2 3 pokojowe Kraków Babińskiego', 'Mieszkanie 33.25m2 1-pokojowe Kraków', 'Mieszkanie Kraków Wadowicka 66.11m2 3 pokoje', 'Mieszkanie Kraków 64.99m2 4-pokojowe', 'Mieszkanie do sprzedania 56.09m2 Kraków', 'Oferta sprzedaży mieszkania 38.55m2 Kraków Pękowicka', 'Mieszkanie 83.1 metrów 4 pokoje Kraków Wadowicka', 'Mieszkanie 64.42m2 3 pokojowe Kraków', 'Mieszkanie 34.97m2 1 pokój Kraków ul. Aleksandry', 'Mieszkanie Kraków ul. Klimeckiego 80m2 4 pokoje', 'Mieszkanie Kraków 72.15m2 3 pokojowe', 'Oferta sprzedaży mieszkania Kraków 37.54m2 2 pokojowe', 'Sprzedaż mieszkania 70.88m2 3 pok Kraków', 'Oferta sprzedaży mieszkania 57.09m2 3 pokoje Kraków', 'Mieszkanie 54.36m2 3 pokoje Kraków', 'Oferta sprzedaży mieszkania 68.05m2 4-pokojowe Kraków Pękowicka', 'Mieszkanie 41.13m2 2 pokojowe Kraków Pękowicka', 'Mieszkanie Kraków Wadowicka 64.42m 3-pokojowe', 'Oferta sprzedaży mieszkania Kraków Myczkowskiego 35.31m2', 'Mieszkanie Kraków Kantrowicka 51.41m2 3 pokoje', 'Oferta sprzedaży mieszkania 100m2 3 pokoje Kraków Gustawa Ehrenberga', 'Mieszkanie 70.88m2 4-pok Kraków', 'Mieszkanie 37.68m2 2 pokoje Kraków 29 listopada - okolice', 'Mieszkanie sprzedam Kraków Pękowicka 51.42m2 3-pokojowe', 'Mieszkanie 64.82m2 3 pokojowe Kraków', 'Mieszkanie Kraków 73.62m2 3 pokoje', 'Sprzedam mieszkanie Kraków 71.2m2 4 pokojowe', 'Sprzedam mieszkanie 64.89m2 4 pokoje Kraków Kantrowicka', 'Mieszkanie Kraków Babińskiego 72.4m2', 'Mieszkanie 70.67m2 2-pokojowe Kraków Wadowicka', 'Mieszkanie 93.14 metry 4-pokojowe Kraków', 'Mieszkanie na sprzedaż 47.61m2 Kraków Grzegórzki', 'Mieszkanie Kraków 51.54m2 3 pokojowe', 'Mieszkanie do sprzedania 70.67m2 4 pok Kraków', 'Ogłoszenie mieszkanie 49.63m2 3 pokojowe Kraków Piasta Kołodzieja', 'Oferta sprzedaży mieszkania 41.06m2 2-pokojowe Kraków Na Błonie', 'Mieszkanie 38.94m2 2 pok Kraków Pękowicka', 'Mieszkanie Kraków Wadowicka 68.78m2 3-pokojowe', 'Mieszkanie na sprzedaż Kraków 35.27m2 2-pok', 'Mieszkanie Kraków Wadowicka 69.31m2 2 pokoje', 'Mieszkanie Kraków 65.46m2', 'Mieszkanie 48.28m2 3 pok Kraków Pękowicka', 'Mieszkanie 45.84m2 2 pokojowe Kraków Wadowicka', 'Mieszkanie 38.51m2 2-pokojowe Kraków']\n",
      "60\n",
      "Prices: ['620 000 zł', '719 000 zł', '579 000 zł', '265 000 zł', '542 000 zł', '3 100 zł', '1 340 000 zł', '715 155 zł', '2 015 000 zł', '1 080 802 zł', '698 477 zł', '843 156 zł', '895 000 zł', '600 593 zł', '707 000 zł', '811 125 zł', '1 268 752 zł', '608 475 zł', '1 077 593 zł', '1 046 339 zł', '729 170 zł', '653 422 zł', '1 279 740 zł', '1 127 350 zł', '525 000 zł', '1 399 000 zł', '1 060 605 zł', '734 643 zł', '1 119 904 zł', '1 054 966 zł', '967 608 zł', '1 081 995 zł', '697 153 zł', '1 101 582 zł', '640 000 zł', '771 150 zł', '1 497 000 zł', '1 190 784 zł', '654 426 zł', '848 430 zł', '1 350 000 zł', '1 163 196 zł', '890 000 zł', '811 125 zł', '1 245 280 zł', '1 158 988 zł', '1 350 530 zł', '1 003 780 zł', '695 790 zł', '1 180 189 zł', '709 709 zł', '753 743 zł', '661 980 zł', '1 127 992 zł', '642 280 zł', '1 136 684 zł', '1 139 004 zł', '796 620 zł', '829 704 zł', '729 817 zł']\n",
      "60\n"
     ]
    }
   ],
   "source": [
    "import requests\n",
    "from bs4 import BeautifulSoup\n",
    "import pandas as pd\n",
    "import os\n",
    "\n",
    "url = \"https://sprzedajemy.pl/krakow/nieruchomosci/mieszkania?offset=0&items_per_page=60\"\n",
    "\n",
    "headers = {\n",
    "    \"User-Agent\": \"Mozilla/5.0 (Windows NT 10.0; Win64; x64) AppleWebKit/537.36 (KHTML, like Gecko) Chrome/58.0.3029.110 Safari/537.36\",\n",
    "    \"Accept\": \"text/html,application/xhtml+xml,application/xml;q=0.9,image/webp,image/apng,*/*;q=0.8\",\n",
    "    \"Accept-Encoding\": \"gzip, deflate, br\",\n",
    "    \"Accept-Language\": \"en-US,en;q=0.9,pl;q=0.8\",\n",
    "    \"Connection\": \"keep-alive\"\n",
    "}\n",
    "\n",
    "response = requests.get(url, headers=headers)\n",
    "response = requests.get(url, headers=headers)\n",
    "\n",
    "# Debugowanie odpowiedzi\n",
    "print(f\"Status Code: {response.status_code}\")\n",
    "print(f\"Response Headers: {response.headers}\")\n",
    "print(f\"Response Text (first 2000 chars): {response.text[:2000]}\")\n",
    "\n",
    "# Jeśli odpowiedź jest poprawna, wykonaj webscraping\n",
    "if response.status_code == 200:\n",
    "    soup = BeautifulSoup(response.content, \"html.parser\")\n",
    "\n",
    "    # Pobieranie ofert mieszkań\n",
    "    titles = [h2.a.text.strip() for h2 in soup.find_all(\"h2\", class_=\"title\") if h2.a]\n",
    "    prices = [p.text.replace(\"\\xa0\", \" \").strip() for p in soup.find_all(\"span\", class_=\"price\")]\n",
    "\n",
    "    print(\"Titles:\", titles)\n",
    "    print(len(titles))\n",
    "    print(\"Prices:\", prices)\n",
    "    print(len(prices))\n",
    "\n",
    "    df = pd.DataFrame({\"Title\": titles, \"Price\": prices})\n",
    "\n",
    "    # Dopisanie do pliku CSV\n",
    "    df.to_csv(\"scraped_data.csv\", mode='a', header=not os.path.exists('scraped_data.csv'), index=False)\n",
    "else:\n",
    "    print(\"Failed to retrieve data.\")\n"
   ]
  }
 ],
 "metadata": {
  "colab": {
   "provenance": []
  },
  "kernelspec": {
   "display_name": "Python 3",
   "name": "python3"
  },
  "language_info": {
   "codemirror_mode": {
    "name": "ipython",
    "version": 3
   },
   "file_extension": ".py",
   "mimetype": "text/x-python",
   "name": "python",
   "nbconvert_exporter": "python",
   "pygments_lexer": "ipython3",
   "version": "3.9.23"
  },
  "papermill": {
   "default_parameters": {},
   "duration": 4.081518,
   "end_time": "2025-10-03T15:44:49.227271",
   "environment_variables": {},
   "exception": null,
   "input_path": "nb.ipynb",
   "output_path": "nbo.ipynb",
   "parameters": {},
   "start_time": "2025-10-03T15:44:45.145753",
   "version": "2.6.0"
  }
 },
 "nbformat": 4,
 "nbformat_minor": 5
}