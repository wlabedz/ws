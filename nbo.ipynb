{
 "cells": [
  {
   "cell_type": "code",
   "execution_count": 1,
   "id": "80a83088",
   "metadata": {
    "colab": {
     "base_uri": "https://localhost:8080/"
    },
    "execution": {
     "iopub.execute_input": "2025-10-12T14:38:26.827276Z",
     "iopub.status.busy": "2025-10-12T14:38:26.827004Z",
     "iopub.status.idle": "2025-10-12T14:38:29.056331Z",
     "shell.execute_reply": "2025-10-12T14:38:29.055547Z"
    },
    "id": "5pYh4c8j1w43",
    "outputId": "8a0dca73-64e5-4f0d-c493-2c5b38392363",
    "papermill": {
     "duration": 2.233071,
     "end_time": "2025-10-12T14:38:29.057647",
     "exception": false,
     "start_time": "2025-10-12T14:38:26.824576",
     "status": "completed"
    },
    "tags": []
   },
   "outputs": [
    {
     "name": "stdout",
     "output_type": "stream",
     "text": [
      "Status Code: 200\n",
      "Response Headers: {'Server': 'nginx', 'Date': 'Sun, 12 Oct 2025 14:38:28 GMT', 'Content-Type': 'text/html; charset=UTF-8', 'Transfer-Encoding': 'chunked', 'Vary': 'Accept-Encoding, User-Agent', 'Set-Cookie': 'FRSPSID=4l92lpnrs02n2j1iqoqutc5hk7; path=/; domain=.sprzedajemy.pl; secure; HttpOnly, _items_per_page__offer_list=60; expires=Tue, 11-Nov-2025 14:38:28 GMT; Max-Age=2592000; path=/; domain=.sprzedajemy.pl; secure; httponly, observed_id=188813045668ebbd649a22343166867388426287; expires=Fri, 12-Oct-2125 15:38:28 GMT; Max-Age=3155677200; path=/; domain=.sprzedajemy.pl; secure; httponly', 'Expires': 'Thu, 19 Nov 1981 08:52:00 GMT', 'Cache-Control': 'no-store, no-cache, must-revalidate, post-check=0, pre-check=0', 'Pragma': 'no-cache', 'Content-Encoding': 'gzip'}\n",
      "Response Text (first 2000 chars): <!DOCTYPE html><html xmlns=\"http://www.w3.org/1999/xhtml\" xml:lang=\"pl\" lang=\"pl\" class=\"no-js\" >\n",
      "<head>\n",
      "\t\t\t<!-- Google Tag Manager -->\n",
      "\t\t\t<script>(function(w,d,s,l,i){w[l]=w[l]||[];w[l].push({'gtm.start':\n",
      "\t\t\t\t\t\tnew Date().getTime(),event:'gtm.js'});var f=d.getElementsByTagName(s)[0],\n",
      "\t\t\t\t\tj=d.createElement(s),dl=l!='dataLayer'?'&l='+l:'';j.async=true;j.src=\n",
      "\t\t\t\t\t'https://www.googletagmanager.com/gtm.js?id='+i+dl\n",
      "\t\t\t\t\t\t\t\t\t    ;f.parentNode.insertBefore(j,f);\n",
      "\t\t\t\t    })(window,document,'script','dataLayer','GTM-P3S238');</script>\n",
      "\t\t\t<!-- End Google Tag Manager -->\n",
      "\t<title>Mieszkania Kraków na sprzedaż, wynajem - Sprzedajemy.pl</title><meta http-equiv=\"Content-Type\" content=\"text/html; charset=UTF-8\" >\n",
      "<meta http-equiv=\"X-UA-Compatible\" content=\"IE=edge\" >\n",
      "<meta name=\"description\" content=\"Ogłoszenia o tematyce:  w kategorii Mieszkania - Kupuj i sprzedawaj rzeczy używane i nowe w kategorii Mieszkania na Sprzedajemy.pl\" >\n",
      "<meta property=\"og:title\" content=\"Mieszkania Kraków na sprzedaż, wynajem - Sprzedajemy.pl\" >\n",
      "<meta property=\"og:type\" content=\"website\" >\n",
      "<meta property=\"og:image\" content=\"https://thumbs.img-sprzedajemy.pl/facebook/sprzedajemy.pl.png\" >\n",
      "<meta property=\"og:image:width\" content=\"200\" >\n",
      "<meta property=\"og:image:height\" content=\"200\" >\n",
      "<meta property=\"og:url\" content=\"https://sprzedajemy.pl/krakow/nieruchomosci/mieszkania\" >\n",
      "<meta property=\"og:site_name\" content=\"Sprzedajemy.pl\" >\n",
      "<meta property=\"fb:app_id\" content=\"173258269367442\" >\n",
      "<meta property=\"og:description\" content=\"Ogłoszenia o tematyce:  w kategorii Mieszkania - Kupuj i sprzedawaj rzeczy używane i nowe w kategorii Mieszkania na Sprzedajemy.pl\" >\n",
      "<meta name=\"robots\" content=\"noindex, follow\" >\t\t<script  async=\"async\" src=\"https://static.criteo.net/js/ld/publishertag.js\"></script>\n",
      "        <script  async=\"async\" src=\"https://ap.lijit.com/www/sovrn_beacon_standalone/sovrn_standalone_beacon.js?iid=13417409&amp;uid=sprzedajemy\" id=\"sBeacon\"></script>\n",
      "\t\t<script  async=\"async\" src=\"https://securepuba\n",
      "Titles: ['Mieszkanie Wzgórza Krzesławickie bez prowizji.', 'Piękne 2 pokojowe mieszkanie w Centrum', 'Mieszkanie 3-pokojowe Zakrzówek Ruczaj wynajem na 9 miesięcy', 'Mieszkanie z widokiem na góry', 'Kraków, Stare Miasto sprzedaż/zamiana', '3-pokojowe mieszkanie 70m2 z klimatyzacją, 2 balkony - Wiślane Tarasy', 'Sprzedam dwupokojowe mieszkanie os. Dywizjonu 303, 19C Kraków', 'Kawalerka ul. Lea. Bezpośrednio! 0% prowizji! ENG', 'Wynajmę słoneczne mieszkanie 2-pokojowe w Krakowie, Wola Duchackie', 'Oferta sprzedaży mieszkania 49m2 3-pokojowe Kraków', '2 POKOJOWE 40 mkw na Bunscha na sprzedaż!', '2pokoje, oddzielna kuchnia,os.Albertyńskie,Czyżyny', 'Mieszkanie 3 pokojowe os. Na Wzgórzach', 'Do wynajecia mieszkanie dwupokojowe 52 m Kapelanka 6a', 'Do sprzedaży mieszkanie 50m 3 pok Kraków Ugorek', 'Nowe i GOTOWE | 2-pokojowe |ostatnie piętro | Vetulaniego | 39m2', 'Mieszkanie, Kraków os. Tysiąclecia 1 - 20 m 2', 'Mieszkanie na wynajem', 'Mieszkanie Os. Avia Kraków, widok na góry', 'Wynajmę mieszkanie 3 pokojowe-Prądnik Biały-A.Vetulaniego-49 m²+garden', 'Kraków – Bieńczyce, os. Kazimierzowskie', 'Do wynajęcia 1-pokojowe mieszkanie os. Jagiellońskie Kraków Nowa Huta', 'Mieszkanie 71.27m2 4 pokoje Kraków Stefana Banacha', 'Ogłoszenie mieszkanie 57.62m2 4 pokoje Kraków', 'Mieszkanie Kraków Rydlówka 42.88m2 3-pokojowe', 'WYNAJMĘ od zaraz mieszkanie 3 pokojowe-Krowodrza - Prądnik Biały-49 m2', 'Nowoczesne 3-pokojowe mieszkanie 48 m² – Pachońskiego / od zaraz', 'Pet Friendly - mieszkanie do wynajęcia na Czyżynach 30m² od zaraz', '? Przestronne mieszkanie 4-pokojowe | Kraków Bieżanów, ul. Helny 22', '2 POKOJE z klimatem | Dąbska | TAURON Arena | Balkon', 'Do wynajęcia mieszkanie 2 pokojowe+balkon Kraków ul. Rusznikarska', 'Bezpośrednio Jasne 2 pokoje Mieszkanie Centrum Ogrzewanie Parking Komunika…', 'Wynajmę 2 pokojowe 58m2', 'Bezpośrednio Jasne 2 pokojowe Mieszkanie Centrum Ogrzewanie Centralne Park…', 'Nowoczesne dwupoziomowe mieszkanie', 'Oferta sprzedaży mieszkania Kraków Mirosława Krzyżańskiego 122m2 4 pokoje', '12 600zł/m2 w nowym budownictwie - bez prowizji!', 'duże 2-pokojowe mieszkanie Z 2024r - 53m2 z balkonem APARTAMENT', 'Mieszkanie 50m 2 pokoje Kraków', 'MIESZKANIE KRAKÓW UL. ŁUŻYCKA 53 PIASKI NOWE', '2- pokojowe mieszkanie | K. Kołłątajowskiej | 57m2', 'Mieszkanie Ruczaj Park 73m', 'Wynajmę mieszkanie 2 pokojowe+ogródek Kraków, ul. Żabiniec', 'Podedworze 13', 'Mieszkanie 130m2 Kraków ul. Bielańska 16/2 wynajem', 'wynajmę mieszkanie dwupokojowe', '2-pokojowe 45m2 pod Lasem Borkowskim', 'Mieszkanie z potencjałem – 1 pokój + kuchnia, Kraków', 'Mieszkanie 56m2 | Rynek Główny | ul. Grodzka', 'Mieszkanie Kraków 71.81m2 3 pok', '4-pok. na Ruczaju na sprzedaż!', 'Mieszkanie Kraków Krupnicza 32m2 1 pokojowe', 'Sprzedam mieszkanie 58m2 3-pokojowe Kraków Fatimska', 'Mieszkanie 98 metrów 3 pokoje Kraków Bolesława Komorowskiego', 'Kraków – 3 pokojowy apartament na sprzedaż na kameralnym osiedlu', 'Mieszkanie 38.4m2 2 pokojowe Kraków', 'Oferta sprzedaży mieszkania Kraków 32.9 metrów 2 pokoje', 'Oferta sprzedaży mieszkania Kraków Macieja Dębskiego 53.69m2 3 pokoje', 'Oferta wynajmu mieszkania Kraków os. 2 Pułku Lotniczego 37m2 1-pokojowe', 'Oferta wynajmu mieszkania 40m2 2 pokoje Kraków Na Kozłówce']\n",
      "60\n",
      "Prices: ['670 000 zł', '759 900 zł', '2 900 zł', '265 000 zł', '2 015 000 zł', '5 900 zł', '620 000 zł', '2 400 zł', '2 500 zł', '639 000 zł', '710 000 zł', '639 999 zł', '670 000 zł', '3 500 zł', '775 000 zł', '745 000 zł', '333 000 zł', '2 500 zł', '998 000 zł', '3 200 zł', '579 000 zł', '1 900 zł', '1 270 000 zł', '1 194 174 zł', '1 000 176 zł', '3 300 zł', '3 500 zł', '2 050 zł', '850 000 zł', '3 700 zł', '2 500 zł', '3 600 zł', '3 300 zł', '849 000 zł', '4 200 zł', '1 299 000 zł', '630 000 zł', '1 135 000 zł', '710 000 zł', '730 000 zł', '645 000 zł', '939 046 zł', '3 100 zł', '542 000 zł', '3 950 zł', '2 800 zł', '4 100 zł', '431 000 zł', '1 060 000 zł', '8 200 zł', '899 000 zł', '2 500 zł', '733 000 zł', '5 800 zł', '939 000 zł', '2 700 zł', '525 000 zł', '729 000 zł', '2 100 zł', '2 980 zł']\n",
      "60\n"
     ]
    }
   ],
   "source": [
    "import requests\n",
    "from bs4 import BeautifulSoup\n",
    "import pandas as pd\n",
    "import os\n",
    "\n",
    "url = \"https://sprzedajemy.pl/krakow/nieruchomosci/mieszkania?offset=0&items_per_page=60\"\n",
    "\n",
    "headers = {\n",
    "    \"User-Agent\": \"Mozilla/5.0 (Windows NT 10.0; Win64; x64) AppleWebKit/537.36 (KHTML, like Gecko) Chrome/58.0.3029.110 Safari/537.36\",\n",
    "    \"Accept\": \"text/html,application/xhtml+xml,application/xml;q=0.9,image/webp,image/apng,*/*;q=0.8\",\n",
    "    \"Accept-Encoding\": \"gzip, deflate, br\",\n",
    "    \"Accept-Language\": \"en-US,en;q=0.9,pl;q=0.8\",\n",
    "    \"Connection\": \"keep-alive\"\n",
    "}\n",
    "\n",
    "response = requests.get(url, headers=headers)\n",
    "response = requests.get(url, headers=headers)\n",
    "\n",
    "# Debugowanie odpowiedzi\n",
    "print(f\"Status Code: {response.status_code}\")\n",
    "print(f\"Response Headers: {response.headers}\")\n",
    "print(f\"Response Text (first 2000 chars): {response.text[:2000]}\")\n",
    "\n",
    "# Jeśli odpowiedź jest poprawna, wykonaj webscraping\n",
    "if response.status_code == 200:\n",
    "    soup = BeautifulSoup(response.content, \"html.parser\")\n",
    "\n",
    "    # Pobieranie ofert mieszkań\n",
    "    titles = [h2.a.text.strip() for h2 in soup.find_all(\"h2\", class_=\"title\") if h2.a]\n",
    "    prices = [p.text.replace(\"\\xa0\", \" \").strip() for p in soup.find_all(\"span\", class_=\"price\")]\n",
    "\n",
    "    print(\"Titles:\", titles)\n",
    "    print(len(titles))\n",
    "    print(\"Prices:\", prices)\n",
    "    print(len(prices))\n",
    "\n",
    "    df = pd.DataFrame({\"Title\": titles, \"Price\": prices})\n",
    "\n",
    "    # Dopisanie do pliku CSV\n",
    "    df.to_csv(\"scraped_data.csv\", mode='a', header=not os.path.exists('scraped_data.csv'), index=False)\n",
    "else:\n",
    "    print(\"Failed to retrieve data.\")\n"
   ]
  }
 ],
 "metadata": {
  "colab": {
   "provenance": []
  },
  "kernelspec": {
   "display_name": "Python 3",
   "name": "python3"
  },
  "language_info": {
   "codemirror_mode": {
    "name": "ipython",
    "version": 3
   },
   "file_extension": ".py",
   "mimetype": "text/x-python",
   "name": "python",
   "nbconvert_exporter": "python",
   "pygments_lexer": "ipython3",
   "version": "3.9.23"
  },
  "papermill": {
   "default_parameters": {},
   "duration": 3.41245,
   "end_time": "2025-10-12T14:38:29.274567",
   "environment_variables": {},
   "exception": null,
   "input_path": "nb.ipynb",
   "output_path": "nbo.ipynb",
   "parameters": {},
   "start_time": "2025-10-12T14:38:25.862117",
   "version": "2.6.0"
  }
 },
 "nbformat": 4,
 "nbformat_minor": 5
}