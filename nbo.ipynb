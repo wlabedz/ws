{
 "cells": [
  {
   "cell_type": "code",
   "execution_count": 1,
   "id": "b7d67363",
   "metadata": {
    "colab": {
     "base_uri": "https://localhost:8080/"
    },
    "execution": {
     "iopub.execute_input": "2025-07-25T07:46:17.419056Z",
     "iopub.status.busy": "2025-07-25T07:46:17.418779Z",
     "iopub.status.idle": "2025-07-25T07:46:19.309450Z",
     "shell.execute_reply": "2025-07-25T07:46:19.308752Z"
    },
    "id": "5pYh4c8j1w43",
    "outputId": "8a0dca73-64e5-4f0d-c493-2c5b38392363",
    "papermill": {
     "duration": 1.894218,
     "end_time": "2025-07-25T07:46:19.310545",
     "exception": false,
     "start_time": "2025-07-25T07:46:17.416327",
     "status": "completed"
    },
    "tags": []
   },
   "outputs": [
    {
     "name": "stdout",
     "output_type": "stream",
     "text": [
      "Status Code: 200\n",
      "Response Headers: {'Server': 'nginx', 'Date': 'Fri, 25 Jul 2025 07:46:18 GMT', 'Content-Type': 'text/html; charset=UTF-8', 'Transfer-Encoding': 'chunked', 'Vary': 'Accept-Encoding, User-Agent', 'Set-Cookie': 'FRSPSID=j0c3o0ml15sgnvdkdkugeeh3c0; path=/; domain=.sprzedajemy.pl; secure; HttpOnly, _items_per_page__offer_list=60; expires=Sun, 24-Aug-2025 07:46:18 GMT; Max-Age=2592000; path=/; domain=.sprzedajemy.pl; secure; httponly, observed_id=12572097426883364adfacc4193497856510686214; expires=Wed, 25-Jul-2125 08:46:18 GMT; Max-Age=3155677200; path=/; domain=.sprzedajemy.pl; secure; httponly', 'Expires': 'Thu, 19 Nov 1981 08:52:00 GMT', 'Cache-Control': 'no-store, no-cache, must-revalidate, post-check=0, pre-check=0', 'Pragma': 'no-cache', 'Content-Encoding': 'gzip'}\n",
      "Response Text (first 2000 chars): <!DOCTYPE html><html xmlns=\"http://www.w3.org/1999/xhtml\" xml:lang=\"pl\" lang=\"pl\" class=\"no-js\" >\n",
      "<head>\n",
      "\t\t\t<!-- Google Tag Manager -->\n",
      "\t\t\t<script>(function(w,d,s,l,i){w[l]=w[l]||[];w[l].push({'gtm.start':\n",
      "\t\t\t\t\t\tnew Date().getTime(),event:'gtm.js'});var f=d.getElementsByTagName(s)[0],\n",
      "\t\t\t\t\tj=d.createElement(s),dl=l!='dataLayer'?'&l='+l:'';j.async=true;j.src=\n",
      "\t\t\t\t\t'https://www.googletagmanager.com/gtm.js?id='+i+dl\n",
      "\t\t\t\t\t\t\t\t\t    ;f.parentNode.insertBefore(j,f);\n",
      "\t\t\t\t    })(window,document,'script','dataLayer','GTM-P3S238');</script>\n",
      "\t\t\t<!-- End Google Tag Manager -->\n",
      "\t<title>Mieszkania Kraków na sprzedaż, wynajem - Sprzedajemy.pl</title><meta http-equiv=\"Content-Type\" content=\"text/html; charset=UTF-8\" >\n",
      "<meta http-equiv=\"X-UA-Compatible\" content=\"IE=edge\" >\n",
      "<meta name=\"description\" content=\"Ogłoszenia o tematyce:  w kategorii Mieszkania - Kupuj i sprzedawaj rzeczy używane i nowe w kategorii Mieszkania na Sprzedajemy.pl\" >\n",
      "<meta property=\"og:title\" content=\"Mieszkania Kraków na sprzedaż, wynajem - Sprzedajemy.pl\" >\n",
      "<meta property=\"og:type\" content=\"website\" >\n",
      "<meta property=\"og:image\" content=\"https://thumbs.img-sprzedajemy.pl/facebook/sprzedajemy.pl.png\" >\n",
      "<meta property=\"og:image:width\" content=\"200\" >\n",
      "<meta property=\"og:image:height\" content=\"200\" >\n",
      "<meta property=\"og:url\" content=\"https://sprzedajemy.pl/krakow/nieruchomosci/mieszkania\" >\n",
      "<meta property=\"og:site_name\" content=\"Sprzedajemy.pl\" >\n",
      "<meta property=\"fb:app_id\" content=\"173258269367442\" >\n",
      "<meta property=\"og:description\" content=\"Ogłoszenia o tematyce:  w kategorii Mieszkania - Kupuj i sprzedawaj rzeczy używane i nowe w kategorii Mieszkania na Sprzedajemy.pl\" >\n",
      "<meta name=\"robots\" content=\"noindex, follow\" >\t\t<script  async=\"async\" src=\"https://static.criteo.net/js/ld/publishertag.js\"></script>\n",
      "        <script  async=\"async\" src=\"https://ap.lijit.com/www/sovrn_beacon_standalone/sovrn_standalone_beacon.js?iid=13417409&amp;uid=sprzedajemy\" id=\"sBeacon\"></script>\n",
      "\t\t<script  async=\"async\" src=\"https://securepuba\n",
      "Titles: ['Nowoczesny apartament z panoramicznym widokiem - od właściciela', 'Wyjątkowe mieszkanie z widokiem na klasztor w Tyńcu i panoramę Tatr', 'Stylowy apartament z widokiem na panoramę Krakowa - od właściciela', 'Kraków, Stare Miasto sprzedaż/zamiana', '2-pokojowe mieszkanie na Zabłociu – ciche, świetna lokalizacja! [Wirtualny…', '4pokoje 68m2 balkon KLIMA Śródmieście BEZ PROWIZJI od właściciela', 'Mieszkanie na sprzedaż/zamiana 39m2', 'Mieszkanie Wola Justowska /Bielany 36m2', 'Dom - Kraków Tonie - Zielona okolica - 123 m2 | 5 - pok. | Ogród | Taras |…', 'Bezpośrednio wynajmę 2-pokojowe ul.Batorego po remoncie.', '49m2, 3 pokoje, świeżo po remoncie, OD WŁAŚCICIELA', 'Nowa Kameralna Inwestycja -od Dewelopera, Bieżanów', 'Na sprzedaż – 3-pokojowe mieszkanie KRAKÓW', 'Wynajmę mieszkanie w Krakowie Bronowicach', 'Apartament, 2 pokoje, jadalnia, garaż,Krowodrza', 'Mieszkanie, os. Na Stoku, 3 pokoje+kuchnia+GRATIS', 'Mieszkanie 25m2 Kraków Szlak', 'Apartament inwestycyjny w sercu Krakowa', 'WŁAŚCICIEL Na sprzedaż – trzypokojowe mieszkanie w znakomitej lokalizacji!', '2 poziomowe, ogródek, garaż przy Galerii Bronowice', 'Wynajmę mieszkanie', 'Oferta sprzedaży mieszkania Kraków 58.4m2 5 pokoi', 'Mieszkanie 38.69m2 3 pokoje Kraków Imbramowska', 'Oferta wynajmu mieszkania 113m2 3-pokojowe Kraków Krowoderska', 'Mieszkanie Kraków Kameralna 54.36m2 3 pokoje', 'Oferta sprzedaży mieszkania Kraków 39.27m2', 'Mieszkanie Kraków Jerzego Szablowskiego 47m2 1-pokojowe', 'Mieszkanie Kraków 50m2 2 pokoje', 'Jordanowska Prądnik Biały m.postojowe bez prowizji', 'Do wynajęcia 3 pok mieszkanie Krakow', 'Wykończone//Prywatnie//3 pok./Nowe//Bez Pcc', 'Mieszkanie Kraków Bohaterów Września 47m2 3-pok', 'Mieszkanie Kraków 26.88m2 1-pok', 'Mieszkanie na sprzedaż ul. Wróblewskiego, Kraków, Stare Miasto _ 16 000zl/…', 'Mieszkanie, w Kamienicy po remoncie na rogu ul. Jana Sobieskiego', 'Wyjątkowe 3 pokoje 60 m² w Krakowie-Bronowicach | Premium | Gotowe!', 'Mieszkanie 150 metrów 6 pokojowe Kraków Wielopole', 'Mieszkanie na wynajem', 'Mieszkanie Os. Avia Kraków, widok na góry', 'Mistrzejowice - 2 pokoje, jasna kuchnia, balkon', 'Mieszkanie Kraków Imbramowska 37.02 metry', 'Oferta wynajmu mieszkania 51.87 metrów 2-pok Kraków', 'Urokliwy apartament nad Wisłą na Starym Podgórzu', 'Mieszkanie Kraków 51.92m2 2 pokoje', 'Wynajmę mieszkanie 25m2 1 pok Kraków', 'Kraków Stare Miasto 62 m2 KLIMA Wawel wykończone Kazimierz INWESTYCYJNE', 'Oferta sprzedaży mieszkania 136.9m2 5 pokoi Kraków Reduta', 'Stare Miasto 32m2 KLIMA Wawel wykończone Kazimierz wysokie ROI', 'Os. Szkolne - dwupokojowe mieszkanie po remoncie', '2 POKOJE z klimatem | Dąbska | TAURON Arena | Balkon | aż 55 m²!', 'Ruczaj - dwupokojowe z aneksem kuchennym, 2002r.', 'Mieszkanie sprzedam 43m2 2-pok Kraków', 'Ogłoszenie mieszkanie Kraków Tadeusza Śliwiaka 81.78m2 4 pok', 'Pet Friendly - mieszkanie do wynajęcia na Czyżynach 30m² od zaraz', 'Mieszkanie Kraków Tadeusza Śliwiaka 81.78m2 4 pokoje', 'Do sprzedaży mieszkanie 46.21m2 2 pok Kraków Bukowa', 'Sprzedaż mieszkania 65.57m2 3 pokoje Kraków Tadeusza Śliwiaka', 'Mieszkanie 32m2 1 pokojowe Kraków Obozowa', '2 POKOJE z klimatem | Dąbska | TAURON Arena | Balkon', 'Słoneczne mieszkanko z dużym balkonem']\n",
      "60\n",
      "Prices: ['997 000 zł', '779 000 zł', '897 000 zł', '2 153 000 zł', '499 000 zł', '1 850 000 zł', '526 000 zł', '487 000 zł', '2 275 000 zł', '3 600 zł', '669 000 zł', '840 000 zł', '1 090 000 zł', '3 000 zł', '3 800 zł', '648 000 zł', '2 000 zł', '1 499 000 zł', '650 000 zł', '5 900 zł', '2 600 zł', '890 000 zł', '708 772 zł', '5 500 zł', '899 000 zł', '655 000 zł', '2 850 zł', '2 950 zł', '699 000 zł', '3 000 zł', '847 500 zł', '630 000 zł', '604 773 zł', '1 968 000 zł', '886 000 zł', '1 220 000 zł', '1 950 000 zł', '2 500 zł', '998 000 zł', '560 000 zł', '2 500 zł', '2 950 zł', '1 049 000 zł', '3 500 zł', '2 290 zł', '1 828 000 zł', '2 420 000 zł', '989 000 zł', '580 000 zł', '3 700 zł', '659 000 zł', '595 000 zł', '924 679 zł', '2 050 zł', '932 862 zł', '572 912 zł', '746 586 zł', '470 000 zł', '3 700 zł', '699 000 zł']\n",
      "60\n"
     ]
    }
   ],
   "source": [
    "import requests\n",
    "from bs4 import BeautifulSoup\n",
    "import pandas as pd\n",
    "import os\n",
    "\n",
    "url = \"https://sprzedajemy.pl/krakow/nieruchomosci/mieszkania?offset=0&items_per_page=60\"\n",
    "\n",
    "headers = {\n",
    "    \"User-Agent\": \"Mozilla/5.0 (Windows NT 10.0; Win64; x64) AppleWebKit/537.36 (KHTML, like Gecko) Chrome/58.0.3029.110 Safari/537.36\",\n",
    "    \"Accept\": \"text/html,application/xhtml+xml,application/xml;q=0.9,image/webp,image/apng,*/*;q=0.8\",\n",
    "    \"Accept-Encoding\": \"gzip, deflate, br\",\n",
    "    \"Accept-Language\": \"en-US,en;q=0.9,pl;q=0.8\",\n",
    "    \"Connection\": \"keep-alive\"\n",
    "}\n",
    "\n",
    "response = requests.get(url, headers=headers)\n",
    "response = requests.get(url, headers=headers)\n",
    "\n",
    "# Debugowanie odpowiedzi\n",
    "print(f\"Status Code: {response.status_code}\")\n",
    "print(f\"Response Headers: {response.headers}\")\n",
    "print(f\"Response Text (first 2000 chars): {response.text[:2000]}\")\n",
    "\n",
    "# Jeśli odpowiedź jest poprawna, wykonaj webscraping\n",
    "if response.status_code == 200:\n",
    "    soup = BeautifulSoup(response.content, \"html.parser\")\n",
    "\n",
    "    # Pobieranie ofert mieszkań\n",
    "    titles = [h2.a.text.strip() for h2 in soup.find_all(\"h2\", class_=\"title\") if h2.a]\n",
    "    prices = [p.text.replace(\"\\xa0\", \" \").strip() for p in soup.find_all(\"span\", class_=\"price\")]\n",
    "\n",
    "    print(\"Titles:\", titles)\n",
    "    print(len(titles))\n",
    "    print(\"Prices:\", prices)\n",
    "    print(len(prices))\n",
    "\n",
    "    df = pd.DataFrame({\"Title\": titles, \"Price\": prices})\n",
    "\n",
    "    # Dopisanie do pliku CSV\n",
    "    df.to_csv(\"scraped_data.csv\", mode='a', header=not os.path.exists('scraped_data.csv'), index=False)\n",
    "else:\n",
    "    print(\"Failed to retrieve data.\")\n"
   ]
  }
 ],
 "metadata": {
  "colab": {
   "provenance": []
  },
  "kernelspec": {
   "display_name": "Python 3",
   "name": "python3"
  },
  "language_info": {
   "codemirror_mode": {
    "name": "ipython",
    "version": 3
   },
   "file_extension": ".py",
   "mimetype": "text/x-python",
   "name": "python",
   "nbconvert_exporter": "python",
   "pygments_lexer": "ipython3",
   "version": "3.9.23"
  },
  "papermill": {
   "default_parameters": {},
   "duration": 3.031678,
   "end_time": "2025-07-25T07:46:19.527056",
   "environment_variables": {},
   "exception": null,
   "input_path": "nb.ipynb",
   "output_path": "nbo.ipynb",
   "parameters": {},
   "start_time": "2025-07-25T07:46:16.495378",
   "version": "2.6.0"
  }
 },
 "nbformat": 4,
 "nbformat_minor": 5
}