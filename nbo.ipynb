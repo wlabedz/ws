{
 "cells": [
  {
   "cell_type": "code",
   "execution_count": 1,
   "id": "3ef1df3c",
   "metadata": {
    "colab": {
     "base_uri": "https://localhost:8080/"
    },
    "execution": {
     "iopub.execute_input": "2025-08-22T15:00:08.103881Z",
     "iopub.status.busy": "2025-08-22T15:00:08.103563Z",
     "iopub.status.idle": "2025-08-22T15:00:10.099476Z",
     "shell.execute_reply": "2025-08-22T15:00:10.098762Z"
    },
    "id": "5pYh4c8j1w43",
    "outputId": "8a0dca73-64e5-4f0d-c493-2c5b38392363",
    "papermill": {
     "duration": 1.999396,
     "end_time": "2025-08-22T15:00:10.100586",
     "exception": false,
     "start_time": "2025-08-22T15:00:08.101190",
     "status": "completed"
    },
    "tags": []
   },
   "outputs": [
    {
     "name": "stdout",
     "output_type": "stream",
     "text": [
      "Status Code: 200\n",
      "Response Headers: {'Server': 'nginx', 'Date': 'Fri, 22 Aug 2025 15:00:09 GMT', 'Content-Type': 'text/html; charset=UTF-8', 'Transfer-Encoding': 'chunked', 'Vary': 'Accept-Encoding, User-Agent', 'Set-Cookie': 'FRSPSID=l7sifpmcfpsuk4h7n4j9sa9me0; path=/; domain=.sprzedajemy.pl; secure; HttpOnly, _items_per_page__offer_list=60; expires=Sun, 21-Sep-2025 15:00:09 GMT; Max-Age=2592000; path=/; domain=.sprzedajemy.pl; secure; httponly, observed_id=178816807068a885f9aafe80199128614541927702; expires=Wed, 22-Aug-2125 16:00:09 GMT; Max-Age=3155677200; path=/; domain=.sprzedajemy.pl; secure; httponly', 'Expires': 'Thu, 19 Nov 1981 08:52:00 GMT', 'Cache-Control': 'no-store, no-cache, must-revalidate, post-check=0, pre-check=0', 'Pragma': 'no-cache', 'Content-Encoding': 'gzip'}\n",
      "Response Text (first 2000 chars): <!DOCTYPE html><html xmlns=\"http://www.w3.org/1999/xhtml\" xml:lang=\"pl\" lang=\"pl\" class=\"no-js\" >\n",
      "<head>\n",
      "\t\t\t<!-- Google Tag Manager -->\n",
      "\t\t\t<script>(function(w,d,s,l,i){w[l]=w[l]||[];w[l].push({'gtm.start':\n",
      "\t\t\t\t\t\tnew Date().getTime(),event:'gtm.js'});var f=d.getElementsByTagName(s)[0],\n",
      "\t\t\t\t\tj=d.createElement(s),dl=l!='dataLayer'?'&l='+l:'';j.async=true;j.src=\n",
      "\t\t\t\t\t'https://www.googletagmanager.com/gtm.js?id='+i+dl\n",
      "\t\t\t\t\t\t\t\t\t    ;f.parentNode.insertBefore(j,f);\n",
      "\t\t\t\t    })(window,document,'script','dataLayer','GTM-P3S238');</script>\n",
      "\t\t\t<!-- End Google Tag Manager -->\n",
      "\t<title>Mieszkania Kraków na sprzedaż, wynajem - Sprzedajemy.pl</title><meta http-equiv=\"Content-Type\" content=\"text/html; charset=UTF-8\" >\n",
      "<meta http-equiv=\"X-UA-Compatible\" content=\"IE=edge\" >\n",
      "<meta name=\"description\" content=\"Ogłoszenia o tematyce:  w kategorii Mieszkania - Kupuj i sprzedawaj rzeczy używane i nowe w kategorii Mieszkania na Sprzedajemy.pl\" >\n",
      "<meta property=\"og:title\" content=\"Mieszkania Kraków na sprzedaż, wynajem - Sprzedajemy.pl\" >\n",
      "<meta property=\"og:type\" content=\"website\" >\n",
      "<meta property=\"og:image\" content=\"https://thumbs.img-sprzedajemy.pl/facebook/sprzedajemy.pl.png\" >\n",
      "<meta property=\"og:image:width\" content=\"200\" >\n",
      "<meta property=\"og:image:height\" content=\"200\" >\n",
      "<meta property=\"og:url\" content=\"https://sprzedajemy.pl/krakow/nieruchomosci/mieszkania\" >\n",
      "<meta property=\"og:site_name\" content=\"Sprzedajemy.pl\" >\n",
      "<meta property=\"fb:app_id\" content=\"173258269367442\" >\n",
      "<meta property=\"og:description\" content=\"Ogłoszenia o tematyce:  w kategorii Mieszkania - Kupuj i sprzedawaj rzeczy używane i nowe w kategorii Mieszkania na Sprzedajemy.pl\" >\n",
      "<meta name=\"robots\" content=\"noindex, follow\" >\t\t<script  async=\"async\" src=\"https://static.criteo.net/js/ld/publishertag.js\"></script>\n",
      "        <script  async=\"async\" src=\"https://ap.lijit.com/www/sovrn_beacon_standalone/sovrn_standalone_beacon.js?iid=13417409&amp;uid=sprzedajemy\" id=\"sBeacon\"></script>\n",
      "\t\t<script  async=\"async\" src=\"https://securepuba\n",
      "Titles: ['2-pokojowe mieszkanie po remoncie | PROMOCJA | ul Bronowicka', '3 niezależne lokale z KW– inwestycja z potencjałem', 'Kawalerka Salwator Centrum POD INWESTYCJE', 'Mieszkanie na sprzedaż/zamiana 39m2', 'Kraków, Stare Miasto sprzedaż/zamiana', 'Oferta sprzedaży mieszkania Kraków Na Błonie 38.52m2 2-pokojowe', 'Mieszkanie Kraków Babińskiego 51.53m2 2-pokojowe', 'Mieszkanie 42.2 metry 2 pokoje Kraków Wadowicka', 'Sprzedaż mieszkania 40.09m2 Kraków Pękowicka', 'Mieszkanie Kraków Pękowicka 38.84m2 2 pokojowe', 'Mieszkanie na wynajem Kraków 20.81m2 1 pok', 'Mieszkanie do sprzedania 35.28m2 2 pokojowe Kraków Pękowicka', 'Mieszkanie 94.61m2 4-pok Kraków', 'Sprzedaż mieszkania 48.5m2 3-pokojowe Kraków', 'Mieszkanie 52.13 metry 3-pokojowe Kraków Pękowicka', 'Mieszkanie Kraków Reduta 74.64 metry 3-pok', 'Mieszkanie 54.06m2 3 pokoje Kraków Pękowicka', 'Mieszkanie 61.89m2 4-pokojowe Kraków', 'Oferta sprzedaży mieszkania 51.55m2 3 pokoje Kraków Pękowicka', 'Mieszkanie 50.86m2 1 pokój Kraków Babińskiego', 'Mieszkanie 72.18m2 4 pokojowe Kraków', 'Mieszkanie Kraków Wadowicka 64.42m 3-pokojowe', 'Mieszkanie Kraków Gramatyka 47.8m2 3-pok', 'Mieszkanie Kraków Kantrowicka 51.54m2 3 pokoje', 'Oferta sprzedaży mieszkania 59.31m 4 pokoje Kraków', 'Sprzedam mieszkanie 39.76 metrów 2 pok Kraków Pękowicka', 'Mieszkanie 46.46m2 2-pokojowe Kraków Babińskiego', 'Mieszkanie Kraków Półłanki 48.6m2 2-pokojowe', 'Mieszkanie Kraków Babińskiego 46.66 metrów 2-pokojowe', 'Oferta sprzedaży mieszkania Kraków Kantrowicka 35.05 metrów 2 pokoje', 'Mieszkanie 58m2 3 pokoje Kraków dr. Jana Piltza', 'Mieszkanie 24.5m2 Kraków ul. Fatimska', 'Do sprzedaży mieszkanie 55.11m2 3 pokoje Kraków Pękowicka', 'Mieszkanie 35.44 metry 2-pokojowe Kraków 29 listopada - okolice', 'Mieszkanie Kraków Wadowicka 43.57m2 2 pokoje', 'Mieszkanie na sprzedaż 38.1m2 2 pok Kraków Na Błonie', 'Mieszkanie Kraków Wadowicka 61.82m2 3 pokoje', 'Mieszkanie Kraków 65.46m2 3-pokojowe', 'Mieszkanie 42.1m2 2 pok Kraków Pękowicka', 'Mieszkanie 37.98m2 2-pokojowe Kraków Pękowicka', 'Mieszkanie Kraków 64.4 metry 3 pokoje', 'Mieszkanie Kraków Pękowicka 33.98m2 2 pokoje', 'Mieszkanie 57.32m2 2-pokojowe Kraków', 'Oferta wynajmu mieszkania 38.95m 2 pokoje Kraków Jana Kantego Federowicza', 'Oferta sprzedaży mieszkania 41.18m2 2-pokojowe Kraków Na Błonie', 'Sprzedam mieszkanie 102m2 Kraków', 'Ogłoszenie mieszkanie Kraków ul. Opatkowicka 44m2 3-pokojowe', 'Sprzedaż mieszkania Kraków Pękowicka 53.68m2 4 pok', 'Mieszkanie Kraków Wadowicka 43.08m2', 'Mieszkanie Kraków Babińskiego 72.4m2', 'Sprzedaż mieszkania 38.16m2 2-pokojowe Kraków Na Błonie', 'Mieszkanie do sprzedania 62.73m2 4 pokoje Kraków Pękowicka', 'Mieszkanie 60.05m2 2 pokojowe Kraków', 'Oferta sprzedaży mieszkania Kraków 35.05m2 2 pok', 'Oferta sprzedaży mieszkania Kraków Wadowicka 73.62m2 3-pok', 'Sprzedaż mieszkania 66.5m 3 pokojowe Kraków Wadowicka', 'Mieszkanie Kraków 36.09m2', 'Mieszkanie Kraków 35.45m2 2 pokoje', 'Ogłoszenie mieszkanie Kraków Wadowicka 67.42m2 3 pokoje', 'Oferta sprzedaży mieszkania 41.99m2 2 pokoje Kraków Wadowicka']\n",
      "60\n",
      "Prices: ['710 000 zł', '265 000 zł', '428 824 zł', '526 000 zł', '2 083 000 zł', '760 423 zł', '948 152 zł', '776 480 zł', '677 521 zł', '662 222 zł', '2 600 zł', '601 524 zł', '1 435 706 zł', '759 000 zł', '857 538 zł', '1 200 000 zł', '878 475 zł', '999 523 zł', '847 997 zł', '935 824 zł', '1 144 053 zł', '1 101 582 zł', '940 000 zł', '661 000 zł', '760 650 zł', '671 944 zł', '878 094 zł', '569 000 zł', '858 544 zł', '466 165 zł', '1 049 000 zł', '450 000 zł', '890 026 zł', '633 549 zł', '806 045 zł', '768 819 zł', '1 057 122 zł', '1 184 826 zł', '688 335 zł', '653 256 zł', '1 088 360 zł', '581 058 zł', '878 000 zł', '3 000 zł', '779 784 zł', '1 725 000 zł', '749 000 zł', '872 300 zł', '779 748 zł', '1 245 280 zł', '770 030 zł', '1 016 226 zł', '1 134 945 zł', '466 165 zł', '1 177 920 zł', '1 004 150 zł', '479 997 zł', '633 157 zł', '1 092 204 zł', '755 820 zł']\n",
      "60\n"
     ]
    }
   ],
   "source": [
    "import requests\n",
    "from bs4 import BeautifulSoup\n",
    "import pandas as pd\n",
    "import os\n",
    "\n",
    "url = \"https://sprzedajemy.pl/krakow/nieruchomosci/mieszkania?offset=0&items_per_page=60\"\n",
    "\n",
    "headers = {\n",
    "    \"User-Agent\": \"Mozilla/5.0 (Windows NT 10.0; Win64; x64) AppleWebKit/537.36 (KHTML, like Gecko) Chrome/58.0.3029.110 Safari/537.36\",\n",
    "    \"Accept\": \"text/html,application/xhtml+xml,application/xml;q=0.9,image/webp,image/apng,*/*;q=0.8\",\n",
    "    \"Accept-Encoding\": \"gzip, deflate, br\",\n",
    "    \"Accept-Language\": \"en-US,en;q=0.9,pl;q=0.8\",\n",
    "    \"Connection\": \"keep-alive\"\n",
    "}\n",
    "\n",
    "response = requests.get(url, headers=headers)\n",
    "response = requests.get(url, headers=headers)\n",
    "\n",
    "# Debugowanie odpowiedzi\n",
    "print(f\"Status Code: {response.status_code}\")\n",
    "print(f\"Response Headers: {response.headers}\")\n",
    "print(f\"Response Text (first 2000 chars): {response.text[:2000]}\")\n",
    "\n",
    "# Jeśli odpowiedź jest poprawna, wykonaj webscraping\n",
    "if response.status_code == 200:\n",
    "    soup = BeautifulSoup(response.content, \"html.parser\")\n",
    "\n",
    "    # Pobieranie ofert mieszkań\n",
    "    titles = [h2.a.text.strip() for h2 in soup.find_all(\"h2\", class_=\"title\") if h2.a]\n",
    "    prices = [p.text.replace(\"\\xa0\", \" \").strip() for p in soup.find_all(\"span\", class_=\"price\")]\n",
    "\n",
    "    print(\"Titles:\", titles)\n",
    "    print(len(titles))\n",
    "    print(\"Prices:\", prices)\n",
    "    print(len(prices))\n",
    "\n",
    "    df = pd.DataFrame({\"Title\": titles, \"Price\": prices})\n",
    "\n",
    "    # Dopisanie do pliku CSV\n",
    "    df.to_csv(\"scraped_data.csv\", mode='a', header=not os.path.exists('scraped_data.csv'), index=False)\n",
    "else:\n",
    "    print(\"Failed to retrieve data.\")\n"
   ]
  }
 ],
 "metadata": {
  "colab": {
   "provenance": []
  },
  "kernelspec": {
   "display_name": "Python 3",
   "name": "python3"
  },
  "language_info": {
   "codemirror_mode": {
    "name": "ipython",
    "version": 3
   },
   "file_extension": ".py",
   "mimetype": "text/x-python",
   "name": "python",
   "nbconvert_exporter": "python",
   "pygments_lexer": "ipython3",
   "version": "3.9.23"
  },
  "papermill": {
   "default_parameters": {},
   "duration": 3.169425,
   "end_time": "2025-08-22T15:00:10.316961",
   "environment_variables": {},
   "exception": null,
   "input_path": "nb.ipynb",
   "output_path": "nbo.ipynb",
   "parameters": {},
   "start_time": "2025-08-22T15:00:07.147536",
   "version": "2.6.0"
  }
 },
 "nbformat": 4,
 "nbformat_minor": 5
}