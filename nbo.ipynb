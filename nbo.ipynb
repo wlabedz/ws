{
 "cells": [
  {
   "cell_type": "code",
   "execution_count": 1,
   "id": "0c1244fa",
   "metadata": {
    "colab": {
     "base_uri": "https://localhost:8080/"
    },
    "execution": {
     "iopub.execute_input": "2025-04-25T08:55:17.044250Z",
     "iopub.status.busy": "2025-04-25T08:55:17.043948Z",
     "iopub.status.idle": "2025-04-25T08:55:18.905686Z",
     "shell.execute_reply": "2025-04-25T08:55:18.904974Z"
    },
    "id": "5pYh4c8j1w43",
    "outputId": "8a0dca73-64e5-4f0d-c493-2c5b38392363",
    "papermill": {
     "duration": 1.865375,
     "end_time": "2025-04-25T08:55:18.906814",
     "exception": false,
     "start_time": "2025-04-25T08:55:17.041439",
     "status": "completed"
    },
    "tags": []
   },
   "outputs": [
    {
     "name": "stdout",
     "output_type": "stream",
     "text": [
      "Status Code: 200\n",
      "Response Headers: {'Server': 'nginx', 'Date': 'Fri, 25 Apr 2025 08:55:18 GMT', 'Content-Type': 'text/html; charset=UTF-8', 'Transfer-Encoding': 'chunked', 'Vary': 'Accept-Encoding, User-Agent', 'Set-Cookie': 'FRSPSID=cgn42ckoabutkaf2900l4mvra7; path=/; domain=.sprzedajemy.pl; secure; HttpOnly, _items_per_page__offer_list=60; expires=Sun, 25-May-2025 08:55:18 GMT; Max-Age=2592000; path=/; domain=.sprzedajemy.pl; secure; httponly, observed_id=1179235836680b4df67dc120109500160876509317; expires=Wed, 25-Apr-2125 09:55:18 GMT; Max-Age=3155677200; path=/; domain=.sprzedajemy.pl; secure; httponly', 'Expires': 'Thu, 19 Nov 1981 08:52:00 GMT', 'Cache-Control': 'no-store, no-cache, must-revalidate, post-check=0, pre-check=0', 'Pragma': 'no-cache', 'Content-Encoding': 'gzip'}\n",
      "Response Text (first 2000 chars): <!DOCTYPE html><html xmlns=\"http://www.w3.org/1999/xhtml\" xml:lang=\"pl\" lang=\"pl\" class=\"no-js\" >\n",
      "<head>\n",
      "\t\t\t<!-- Google Tag Manager -->\n",
      "\t\t\t<script>(function(w,d,s,l,i){w[l]=w[l]||[];w[l].push({'gtm.start':\n",
      "\t\t\t\t\t\tnew Date().getTime(),event:'gtm.js'});var f=d.getElementsByTagName(s)[0],\n",
      "\t\t\t\t\tj=d.createElement(s),dl=l!='dataLayer'?'&l='+l:'';j.async=true;j.src=\n",
      "\t\t\t\t\t'https://www.googletagmanager.com/gtm.js?id='+i+dl\n",
      "\t\t\t\t\t\t\t\t\t    ;f.parentNode.insertBefore(j,f);\n",
      "\t\t\t\t    })(window,document,'script','dataLayer','GTM-P3S238');</script>\n",
      "\t\t\t<!-- End Google Tag Manager -->\n",
      "\t<title>Mieszkania Kraków na sprzedaż, wynajem - Sprzedajemy.pl</title><meta http-equiv=\"Content-Type\" content=\"text/html; charset=UTF-8\" >\n",
      "<meta http-equiv=\"X-UA-Compatible\" content=\"IE=edge\" >\n",
      "<meta name=\"description\" content=\"Ogłoszenia o tematyce:  w kategorii Mieszkania - Kupuj i sprzedawaj rzeczy używane i nowe w kategorii Mieszkania na Sprzedajemy.pl\" >\n",
      "<meta property=\"og:title\" content=\"Mieszkania Kraków na sprzedaż, wynajem - Sprzedajemy.pl\" >\n",
      "<meta property=\"og:type\" content=\"website\" >\n",
      "<meta property=\"og:image\" content=\"https://thumbs.img-sprzedajemy.pl/facebook/sprzedajemy.pl.png\" >\n",
      "<meta property=\"og:image:width\" content=\"200\" >\n",
      "<meta property=\"og:image:height\" content=\"200\" >\n",
      "<meta property=\"og:url\" content=\"https://sprzedajemy.pl/krakow/nieruchomosci/mieszkania\" >\n",
      "<meta property=\"og:site_name\" content=\"Sprzedajemy.pl\" >\n",
      "<meta property=\"fb:app_id\" content=\"173258269367442\" >\n",
      "<meta property=\"og:description\" content=\"Ogłoszenia o tematyce:  w kategorii Mieszkania - Kupuj i sprzedawaj rzeczy używane i nowe w kategorii Mieszkania na Sprzedajemy.pl\" >\n",
      "<meta name=\"robots\" content=\"noindex, follow\" >\t\t<script  async=\"async\" src=\"https://static.criteo.net/js/ld/publishertag.js\"></script>\n",
      "        <script  async=\"async\" src=\"https://ap.lijit.com/www/sovrn_beacon_standalone/sovrn_standalone_beacon.js?iid=13417409&amp;uid=sprzedajemy\" id=\"sBeacon\"></script>\n",
      "\t\t<script  async=\"async\" src=\"https://securepuba\n",
      "Titles: ['2 pokoje 41m2 blisko Aquaparku wkrótce tramwaj!', 'Mieszkanie przy Parku Rzecznym Tonie', 'Kraków, Stare Miasto sprzedaż/zamiana', 'Mieszkanie na sprzedaż/zamiana 39m2', 'Mieszkanie z ogródkiem Zakrzówek bezczynszowe', 'Oferta sprzedaży mieszkania Kraków 123 metry 3-pokojowe', 'Mieszkanie Kraków Bieżanów 51.93m2 2-pok', 'Mieszkanie Kraków 35.05m2 2 pokoje', 'Mieszkanie 31.52m2 2-pokojowe Kraków', 'Mieszkanie 63.37m2 3 pokoje Kraków Bieżanów', 'Mieszkanie Kraków Bieżanów 39.62 metry 2-pok', 'Mieszkanie 39.62 metry 2 pok Kraków Bieżanów', 'Mieszkanie Kraków Bieżanów 42.14 metry 2 pokoje', 'Mieszkanie Kraków Bieżanów 35.22m2 2 pokojowe', 'Mieszkanie 31.73m2 2 pokoje Kraków Bieżanów', 'Mieszkanie 63.32m2 3 pokoje Kraków Bieżanów', 'Mieszkanie Kraków 44.71m2', 'Mieszkanie 53.57m2 Kraków', 'Sprzedaż mieszkania Kraków Bieżanów 51.95m2 2 pokoje', 'Oferta sprzedaży mieszkania 53.66m2 Kraków Bieżanów', 'Mieszkanie 62.9m2 3 pokoje Kraków Bieżanów', 'Mieszkanie 48.04m2 3 pokoje Kraków Bieżanów', 'Mieszkanie Kraków Bieżanów 45.16m2 2 pok', 'Mieszkanie 45.57m2 2 pokoje Kraków zabłocie', 'Mieszkanie do sprzedania 45.4m2 Kraków', 'Mieszkanie Kraków 53.66m2 2 pokojowe', 'Mieszkanie 64.33m2 3-pok Kraków Bieżanów', 'Oferta sprzedaży mieszkania Kraków Bieżanów 63.36m2 3 pokojowe', 'Mieszkanie na sprzedaż Kraków Bieżanów 35.25m2 2 pokoje', 'Mieszkanie Kraków 63.36m2 3 pokoje', 'Mieszkanie 42.14m2 Kraków Bieżanów', 'Oferta sprzedaży mieszkania Kraków 42.14m 2 pokoje', 'Mieszkanie 62.89m2 3 pok Kraków', 'Oferta sprzedaży mieszkania 194.32m2 5 pokojowe Kraków Kotlarska - okolice', 'Oferta sprzedaży mieszkania 63.07m2 3 pokoje Kraków Bieżanów', 'Oferta wynajmu mieszkania Kraków Osiedle Górali 52m2 2 pokojowe', 'Sprzedam mieszkanie 53.66m2 2 pokojowe Kraków Bieżanów', 'Mieszkanie do sprzedania 44.62m2 2-pokojowe Kraków Bieżanów', 'Mieszkanie 35.06m 2 pok Kraków Bieżanów', 'Mieszkanie Kraków Bieżanów 53.66m2 2 pokoje', 'Mieszkanie Kraków Bieżanów 39.48m2 2 pokoje', 'Mieszkanie 34.5m2 2 pok Kraków os. Jagiellońskie', 'Sprzedam mieszkanie 52.92m2 3-pokojowe Kraków Bieżanów', 'Mieszkanie sprzedam Kraków Bieżanów 31.54m2 2-pok', 'Mieszkanie Kraków Bieżanów 44.63m2 2 pokojowe', 'Oferta sprzedaży mieszkania 53.57 metrów 2 pokoje Kraków Bieżanów', 'Oferta sprzedaży mieszkania Kraków zabłocie 45.89m2', 'Widokowe mieszkanie 3 pokoje', 'Mieszkanie 45.89m2 2 pokojowe Kraków zabłocie', 'Mieszkanie 53.66m2 2 pokoje Kraków', 'Mieszkanie 72m2 3 pokoje Kraków', 'Oferta sprzedaży mieszkania Kraków 31.51m2 2 pok', 'Mieszkanie 46.6m2 2 pokoje Kraków', 'Mieszkanie 39.15m2 Kraków Bunscha', 'Sprzedam mieszkanie 65.16m2 3 pokoje Kraków Zyblikiewicza', 'Mieszkanie Kraków Podskale 34.5m2', 'Mieszkanie Kraków 41.96m2 2-pok', 'Sprzedam mieszkanie 43m2 2 pokojowe Kraków Bartla', 'Mieszkanie Kraków Kuźnicy Kołłątajowskiej 31.3 metry 1 pokój', 'Mieszkanie 43.75m2 2-pokojowe Kraków Bunscha']\n",
      "60\n",
      "Prices: ['710 000 zł', '535 000 zł', '2 254 000 zł', '548 000 zł', '460 000 zł', '2 600 000 zł', '701 055 zł', '518 296 zł', '498 016 zł', '855 495 zł', '594 300 zł', '594 300 zł', '611 030 zł', '521 256 zł', '501 334 zł', '886 480 zł', '670 650 zł', '696 410 zł', '727 300 zł', '697 060 zł', '817 700 zł', '672 560 zł', '632 240 zł', '841 251 zł', '799 000 zł', '697 580 zł', '836 290 zł', '823 680 zł', '521 700 zł', '887 040 zł', '611 030 zł', '611 030 zł', '817 570 zł', '5 052 320 zł', '819 910 zł', '2 500 zł', '723 870 zł', '624 680 zł', '518 888 zł', '697 580 zł', '572 460 zł', '570 000 zł', '687 960 zł', '482 562 zł', '624 820 zł', '696 410 zł', '860 064 zł', '748 000 zł', '871 568 zł', '697 060 zł', '3 700 zł', '482 103 zł', '2 500 zł', '652 904 zł', '1 449 000 zł', '768 000 zł', '697 626 zł', '669 000 zł', '2 100 zł', '720 654 zł']\n",
      "60\n"
     ]
    }
   ],
   "source": [
    "import requests\n",
    "from bs4 import BeautifulSoup\n",
    "import pandas as pd\n",
    "import os\n",
    "\n",
    "url = \"https://sprzedajemy.pl/krakow/nieruchomosci/mieszkania?offset=0&items_per_page=60\"\n",
    "\n",
    "headers = {\n",
    "    \"User-Agent\": \"Mozilla/5.0 (Windows NT 10.0; Win64; x64) AppleWebKit/537.36 (KHTML, like Gecko) Chrome/58.0.3029.110 Safari/537.36\",\n",
    "    \"Accept\": \"text/html,application/xhtml+xml,application/xml;q=0.9,image/webp,image/apng,*/*;q=0.8\",\n",
    "    \"Accept-Encoding\": \"gzip, deflate, br\",\n",
    "    \"Accept-Language\": \"en-US,en;q=0.9,pl;q=0.8\",\n",
    "    \"Connection\": \"keep-alive\"\n",
    "}\n",
    "\n",
    "response = requests.get(url, headers=headers)\n",
    "response = requests.get(url, headers=headers)\n",
    "\n",
    "# Debugowanie odpowiedzi\n",
    "print(f\"Status Code: {response.status_code}\")\n",
    "print(f\"Response Headers: {response.headers}\")\n",
    "print(f\"Response Text (first 2000 chars): {response.text[:2000]}\")\n",
    "\n",
    "# Jeśli odpowiedź jest poprawna, wykonaj webscraping\n",
    "if response.status_code == 200:\n",
    "    soup = BeautifulSoup(response.content, \"html.parser\")\n",
    "\n",
    "    # Pobieranie ofert mieszkań\n",
    "    titles = [h2.a.text.strip() for h2 in soup.find_all(\"h2\", class_=\"title\") if h2.a]\n",
    "    prices = [p.text.replace(\"\\xa0\", \" \").strip() for p in soup.find_all(\"span\", class_=\"price\")]\n",
    "\n",
    "    print(\"Titles:\", titles)\n",
    "    print(len(titles))\n",
    "    print(\"Prices:\", prices)\n",
    "    print(len(prices))\n",
    "\n",
    "    df = pd.DataFrame({\"Title\": titles, \"Price\": prices})\n",
    "\n",
    "    # Dopisanie do pliku CSV\n",
    "    df.to_csv(\"scraped_data.csv\", mode='a', header=not os.path.exists('scraped_data.csv'), index=False)\n",
    "else:\n",
    "    print(\"Failed to retrieve data.\")\n"
   ]
  }
 ],
 "metadata": {
  "colab": {
   "provenance": []
  },
  "kernelspec": {
   "display_name": "Python 3",
   "name": "python3"
  },
  "language_info": {
   "codemirror_mode": {
    "name": "ipython",
    "version": 3
   },
   "file_extension": ".py",
   "mimetype": "text/x-python",
   "name": "python",
   "nbconvert_exporter": "python",
   "pygments_lexer": "ipython3",
   "version": "3.9.22"
  },
  "papermill": {
   "default_parameters": {},
   "duration": 3.104726,
   "end_time": "2025-04-25T08:55:19.125307",
   "environment_variables": {},
   "exception": null,
   "input_path": "nb.ipynb",
   "output_path": "nbo.ipynb",
   "parameters": {},
   "start_time": "2025-04-25T08:55:16.020581",
   "version": "2.6.0"
  }
 },
 "nbformat": 4,
 "nbformat_minor": 5
}