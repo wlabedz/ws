{
 "cells": [
  {
   "cell_type": "code",
   "execution_count": 1,
   "id": "d6d810ef",
   "metadata": {
    "colab": {
     "base_uri": "https://localhost:8080/"
    },
    "execution": {
     "iopub.execute_input": "2025-06-04T17:45:15.117761Z",
     "iopub.status.busy": "2025-06-04T17:45:15.117497Z",
     "iopub.status.idle": "2025-06-04T17:45:17.566234Z",
     "shell.execute_reply": "2025-06-04T17:45:17.565628Z"
    },
    "id": "5pYh4c8j1w43",
    "outputId": "8a0dca73-64e5-4f0d-c493-2c5b38392363",
    "papermill": {
     "duration": 2.452567,
     "end_time": "2025-06-04T17:45:17.567397",
     "exception": false,
     "start_time": "2025-06-04T17:45:15.114830",
     "status": "completed"
    },
    "tags": []
   },
   "outputs": [
    {
     "name": "stdout",
     "output_type": "stream",
     "text": [
      "Status Code: 200\n",
      "Response Headers: {'Server': 'nginx', 'Date': 'Wed, 04 Jun 2025 17:45:17 GMT', 'Content-Type': 'text/html; charset=UTF-8', 'Transfer-Encoding': 'chunked', 'Vary': 'Accept-Encoding, User-Agent', 'Set-Cookie': 'FRSPSID=tbjoqtk3ceapt6k8nj3r8huhc2; path=/; domain=.sprzedajemy.pl; secure; HttpOnly, _items_per_page__offer_list=60; expires=Fri, 04-Jul-2025 17:45:17 GMT; Max-Age=2592000; path=/; domain=.sprzedajemy.pl; secure; httponly, observed_id=17152406656840862d1379e6115783775490232457; expires=Mon, 04-Jun-2125 18:45:17 GMT; Max-Age=3155677200; path=/; domain=.sprzedajemy.pl; secure; httponly', 'Expires': 'Thu, 19 Nov 1981 08:52:00 GMT', 'Cache-Control': 'no-store, no-cache, must-revalidate, post-check=0, pre-check=0', 'Pragma': 'no-cache', 'Content-Encoding': 'gzip'}\n",
      "Response Text (first 2000 chars): <!DOCTYPE html><html xmlns=\"http://www.w3.org/1999/xhtml\" xml:lang=\"pl\" lang=\"pl\" class=\"no-js\" >\n",
      "<head>\n",
      "\t\t\t<!-- Google Tag Manager -->\n",
      "\t\t\t<script>(function(w,d,s,l,i){w[l]=w[l]||[];w[l].push({'gtm.start':\n",
      "\t\t\t\t\t\tnew Date().getTime(),event:'gtm.js'});var f=d.getElementsByTagName(s)[0],\n",
      "\t\t\t\t\tj=d.createElement(s),dl=l!='dataLayer'?'&l='+l:'';j.async=true;j.src=\n",
      "\t\t\t\t\t'https://www.googletagmanager.com/gtm.js?id='+i+dl\n",
      "\t\t\t\t\t\t\t\t\t    ;f.parentNode.insertBefore(j,f);\n",
      "\t\t\t\t    })(window,document,'script','dataLayer','GTM-P3S238');</script>\n",
      "\t\t\t<!-- End Google Tag Manager -->\n",
      "\t<title>Mieszkania Kraków na sprzedaż, wynajem - Sprzedajemy.pl</title><meta http-equiv=\"Content-Type\" content=\"text/html; charset=UTF-8\" >\n",
      "<meta http-equiv=\"X-UA-Compatible\" content=\"IE=edge\" >\n",
      "<meta name=\"description\" content=\"Ogłoszenia o tematyce:  w kategorii Mieszkania - Kupuj i sprzedawaj rzeczy używane i nowe w kategorii Mieszkania na Sprzedajemy.pl\" >\n",
      "<meta property=\"og:title\" content=\"Mieszkania Kraków na sprzedaż, wynajem - Sprzedajemy.pl\" >\n",
      "<meta property=\"og:type\" content=\"website\" >\n",
      "<meta property=\"og:image\" content=\"https://thumbs.img-sprzedajemy.pl/facebook/sprzedajemy.pl.png\" >\n",
      "<meta property=\"og:image:width\" content=\"200\" >\n",
      "<meta property=\"og:image:height\" content=\"200\" >\n",
      "<meta property=\"og:url\" content=\"https://sprzedajemy.pl/krakow/nieruchomosci/mieszkania\" >\n",
      "<meta property=\"og:site_name\" content=\"Sprzedajemy.pl\" >\n",
      "<meta property=\"fb:app_id\" content=\"173258269367442\" >\n",
      "<meta property=\"og:description\" content=\"Ogłoszenia o tematyce:  w kategorii Mieszkania - Kupuj i sprzedawaj rzeczy używane i nowe w kategorii Mieszkania na Sprzedajemy.pl\" >\n",
      "<meta name=\"robots\" content=\"noindex, follow\" >\t\t<script  async=\"async\" src=\"https://static.criteo.net/js/ld/publishertag.js\"></script>\n",
      "        <script  async=\"async\" src=\"https://ap.lijit.com/www/sovrn_beacon_standalone/sovrn_standalone_beacon.js?iid=13417409&amp;uid=sprzedajemy\" id=\"sBeacon\"></script>\n",
      "\t\t<script  async=\"async\" src=\"https://securepuba\n",
      "Titles: ['4 pokoje 64m, hala garażowa, komórka lokatorska, duży balkon, wysoki stand…', 'Kraków Bronowice Stawowa 168 / 60m2 3 POK/ 22,5 m2 taras/ BEZ POŚREDNIKÓW', 'Kraków, Stare Miasto sprzedaż/zamiana', 'Nowoczesny apartament z panoramicznym widokiem - od właściciela', 'Stylowy apartament z widokiem na panoramę Krakowa - od właściciela', 'Wyjątkowe mieszkanie z widokiem na klasztor w Tyńcu i panoramę Tatr', '2 lub 3 pokoje,62m2,balkon, Widok na Wawel', 'Mieszkanie 56.89m2 2 pokoje Kraków', 'Nowe mieszkanie na sprzedaż 2-pokoje 38,6 m2 | Krowodrza - Kraków', 'Mieszkanie 4-pokoje Kraków - wolne od 1 Lipca 2025 r.', '2 pok,oddzielna kuchnia,klima,parking, Wrocławska', 'Strych do adaptacji, Błonia, ul. Filarecka', 'Wynajem mieszkania Kraków Mitery 45m2 3 pokoje', 'Sprzedam mieszkanie 137m2 4 pok Kraków Morelowa', 'Oferta sprzedaży mieszkania 37m2 2 pokoje Kraków Obozowa', 'Sprzedam mieszkanie 49.77m2 2 pokoje Kraków os. Stalowe', 'Mieszkanie 37.4m2 2 pokoje Kraków Glogera', 'Mieszkanie 65m 3-pokojowe Kraków Widna', 'Mieszkanie 57 metrów 3 pokoje Kraków', 'Oferta wynajmu mieszkania 50m2 Kraków', 'Mieszkanie 46.23m2 2 pokoje Kraków Jana Kantego Federowicza', 'Mieszkanie 34.49m2+Loggia os. 2 Pułku Lotniczego', 'Apartamentowiec 73m na Woli Justowskiej', '2-pokojowe mieszkanie na Prądniku Białym (ul. Siewna). PL/EN', 'Mieszkanie 67.57m2 3 pokojowe Kraków Wincentego Witosa', 'Wynajmę, pokój jednoosobowy dla pracującego mężczyzny', 'Ogłoszenie mieszkanie Kraków 46m2 2-pokojowe', 'Oferta sprzedaży mieszkania Kraków 42m2 2 pokoje', 'Oferta sprzedaży mieszkania 64.59m2 2 pokoje Kraków', 'Kraków – 3 pokojowy apartament na sprzedaż na kameralnym osiedlu – 59,5 m2', 'Mieszkanie do sprzedania 37.35m2 2 pokoje Kraków', 'Wynajmę mieszkanie Kraków 30m2', 'Mieszkanie na sprzedaż ul. Wróblewskiego, Kraków, Stare Miasto _ 16 000zl/…', 'Mieszkanie Kraków 108m2 4 pokoje', 'Sprzedaż mieszkania 67.08m2 4 pokojowe Kraków zabłocie', 'Mieszkanie Kraków 41m2', 'Oferta wynajmu mieszkania Kraków Szuwarowa 34.3m 1-pokojowe', 'Mieszkanie Kraków 108 metrów 4 pok', 'Mieszkanie sprzedam 32m2 1-pokojowe Kraków Św. Jacka', 'Mieszkanie 49.6m2 2-pokojowe Kraków', 'Oferta sprzedaży mieszkania 108 metrów 4 pokojowe Kraków Pilotów', 'Oferta sprzedaży mieszkania Kraków 51.89m2 2 pokojowe', 'Nieruchomość która Cię zachwyci!', 'Mieszkanie do sprzedania Kraków Krowodrza 84m2 4-pokojowe', 'Mieszkanie 3-pokojowe 50m2 ul. Polonijna', 'Mieszkanie 55.24m2 2-pokojowe Kraków Leona Petrażyckiego', 'Mieszkanie 3 pokojowe, oddzielna kuchnia, balkon', 'Oferta sprzedaży mieszkania Kraków Henryka Pachońskiego 45.5m2 3-pokojowe', 'Mieszkanie na sprzedaż 44m2 2 pokoje Kraków', 'Oferta sprzedaży mieszkania 38.7m2 2 pok Kraków Pleszowska', 'Mieszkanie na wynajem', 'Oferta sprzedaży mieszkania 47.9m2 2 pokoje Kraków Aleja Pokoju', 'Mieszkanie 3p w kamienicy w pobliżu Salwatoru', 'Mieszkanie Kraków Mieczysława Pszona 43.3m2 2 pok', 'Mieszkanie 60.91 metrów 3 pokojowe Kraków Domagały', 'Mieszkanie Os. Avia Kraków, widok na góry', 'Mieszkanie Kraków os. Albertyńskie 38m2 2 pokoje', 'Mieszkanie Kraków Reduta 77.12 metry 3 pokoje', 'Mieszkanie Kraków 64m2 3 pokoje', 'Mieszkanie Kraków Wrocławska 27.86m2 1 pokój']\n",
      "60\n",
      "Prices: ['1 168 000 zł', '1 067 500 zł', '2 231 000 zł', '997 000 zł', '897 000 zł', '790 000 zł', '1 490 000 zł', '950 000 zł', '799 000 zł', '4 800 zł', '3 200 zł', '379 999 zł', '2 800 zł', '2 000 000 zł', '596 000 zł', '770 000 zł', '630 000 zł', '365 000 zł', '3 000 zł', '2 800 zł', '779 000 zł', '599 000 zł', '1 750 000 zł', '863 900 zł', '948 640 zł', '600 zł', '3 100 zł', '725 000 zł', '939 000 zł', '999 000 zł', '690 000 zł', '2 300 zł', '1 968 000 zł', '859 000 zł', '1 213 620 zł', '1 800 zł', '1 900 zł', '859 000 zł', '567 000 zł', '800 000 zł', '859 000 zł', '670 000 zł', '1 790 000 zł', '1 350 000 zł', '3 500 zł', '760 000 zł', '825 000 zł', '620 000 zł', '799 000 zł', '553 000 zł', '2 500 zł', '839 000 zł', '799 000 zł', '649 000 zł', '940 000 zł', '998 000 zł', '470 000 zł', '1 342 000 zł', '949 000 zł', '567 000 zł']\n",
      "60\n"
     ]
    }
   ],
   "source": [
    "import requests\n",
    "from bs4 import BeautifulSoup\n",
    "import pandas as pd\n",
    "import os\n",
    "\n",
    "url = \"https://sprzedajemy.pl/krakow/nieruchomosci/mieszkania?offset=0&items_per_page=60\"\n",
    "\n",
    "headers = {\n",
    "    \"User-Agent\": \"Mozilla/5.0 (Windows NT 10.0; Win64; x64) AppleWebKit/537.36 (KHTML, like Gecko) Chrome/58.0.3029.110 Safari/537.36\",\n",
    "    \"Accept\": \"text/html,application/xhtml+xml,application/xml;q=0.9,image/webp,image/apng,*/*;q=0.8\",\n",
    "    \"Accept-Encoding\": \"gzip, deflate, br\",\n",
    "    \"Accept-Language\": \"en-US,en;q=0.9,pl;q=0.8\",\n",
    "    \"Connection\": \"keep-alive\"\n",
    "}\n",
    "\n",
    "response = requests.get(url, headers=headers)\n",
    "response = requests.get(url, headers=headers)\n",
    "\n",
    "# Debugowanie odpowiedzi\n",
    "print(f\"Status Code: {response.status_code}\")\n",
    "print(f\"Response Headers: {response.headers}\")\n",
    "print(f\"Response Text (first 2000 chars): {response.text[:2000]}\")\n",
    "\n",
    "# Jeśli odpowiedź jest poprawna, wykonaj webscraping\n",
    "if response.status_code == 200:\n",
    "    soup = BeautifulSoup(response.content, \"html.parser\")\n",
    "\n",
    "    # Pobieranie ofert mieszkań\n",
    "    titles = [h2.a.text.strip() for h2 in soup.find_all(\"h2\", class_=\"title\") if h2.a]\n",
    "    prices = [p.text.replace(\"\\xa0\", \" \").strip() for p in soup.find_all(\"span\", class_=\"price\")]\n",
    "\n",
    "    print(\"Titles:\", titles)\n",
    "    print(len(titles))\n",
    "    print(\"Prices:\", prices)\n",
    "    print(len(prices))\n",
    "\n",
    "    df = pd.DataFrame({\"Title\": titles, \"Price\": prices})\n",
    "\n",
    "    # Dopisanie do pliku CSV\n",
    "    df.to_csv(\"scraped_data.csv\", mode='a', header=not os.path.exists('scraped_data.csv'), index=False)\n",
    "else:\n",
    "    print(\"Failed to retrieve data.\")\n"
   ]
  }
 ],
 "metadata": {
  "colab": {
   "provenance": []
  },
  "kernelspec": {
   "display_name": "Python 3",
   "name": "python3"
  },
  "language_info": {
   "codemirror_mode": {
    "name": "ipython",
    "version": 3
   },
   "file_extension": ".py",
   "mimetype": "text/x-python",
   "name": "python",
   "nbconvert_exporter": "python",
   "pygments_lexer": "ipython3",
   "version": "3.9.22"
  },
  "papermill": {
   "default_parameters": {},
   "duration": 3.567853,
   "end_time": "2025-06-04T17:45:17.784648",
   "environment_variables": {},
   "exception": null,
   "input_path": "nb.ipynb",
   "output_path": "nbo.ipynb",
   "parameters": {},
   "start_time": "2025-06-04T17:45:14.216795",
   "version": "2.6.0"
  }
 },
 "nbformat": 4,
 "nbformat_minor": 5
}