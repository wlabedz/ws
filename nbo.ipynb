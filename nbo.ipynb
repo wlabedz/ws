{
 "cells": [
  {
   "cell_type": "code",
   "execution_count": 1,
   "id": "48d367ef",
   "metadata": {
    "colab": {
     "base_uri": "https://localhost:8080/"
    },
    "execution": {
     "iopub.execute_input": "2025-10-03T17:08:43.783296Z",
     "iopub.status.busy": "2025-10-03T17:08:43.783003Z",
     "iopub.status.idle": "2025-10-03T17:08:45.927323Z",
     "shell.execute_reply": "2025-10-03T17:08:45.926724Z"
    },
    "id": "5pYh4c8j1w43",
    "outputId": "8a0dca73-64e5-4f0d-c493-2c5b38392363",
    "papermill": {
     "duration": 2.147974,
     "end_time": "2025-10-03T17:08:45.928441",
     "exception": false,
     "start_time": "2025-10-03T17:08:43.780467",
     "status": "completed"
    },
    "tags": []
   },
   "outputs": [
    {
     "name": "stdout",
     "output_type": "stream",
     "text": [
      "Status Code: 200\n",
      "Response Headers: {'Server': 'nginx', 'Date': 'Fri, 03 Oct 2025 17:08:45 GMT', 'Content-Type': 'text/html; charset=UTF-8', 'Transfer-Encoding': 'chunked', 'Vary': 'Accept-Encoding, User-Agent', 'Set-Cookie': 'FRSPSID=f1hrfknqg0pi1cgcedmni4h8k7; path=/; domain=.sprzedajemy.pl; secure; HttpOnly, _items_per_page__offer_list=60; expires=Sun, 02-Nov-2025 17:08:45 GMT; Max-Age=2592000; path=/; domain=.sprzedajemy.pl; secure; httponly, observed_id=119541444068e0031d7cc67174792836103336367; expires=Wed, 03-Oct-2125 18:08:45 GMT; Max-Age=3155677200; path=/; domain=.sprzedajemy.pl; secure; httponly', 'Expires': 'Thu, 19 Nov 1981 08:52:00 GMT', 'Cache-Control': 'no-store, no-cache, must-revalidate, post-check=0, pre-check=0', 'Pragma': 'no-cache', 'Content-Encoding': 'gzip'}\n",
      "Response Text (first 2000 chars): <!DOCTYPE html><html xmlns=\"http://www.w3.org/1999/xhtml\" xml:lang=\"pl\" lang=\"pl\" class=\"no-js\" >\n",
      "<head>\n",
      "\t\t\t<!-- Google Tag Manager -->\n",
      "\t\t\t<script>(function(w,d,s,l,i){w[l]=w[l]||[];w[l].push({'gtm.start':\n",
      "\t\t\t\t\t\tnew Date().getTime(),event:'gtm.js'});var f=d.getElementsByTagName(s)[0],\n",
      "\t\t\t\t\tj=d.createElement(s),dl=l!='dataLayer'?'&l='+l:'';j.async=true;j.src=\n",
      "\t\t\t\t\t'https://www.googletagmanager.com/gtm.js?id='+i+dl\n",
      "\t\t\t\t\t\t\t\t\t    ;f.parentNode.insertBefore(j,f);\n",
      "\t\t\t\t    })(window,document,'script','dataLayer','GTM-P3S238');</script>\n",
      "\t\t\t<!-- End Google Tag Manager -->\n",
      "\t<title>Mieszkania Kraków na sprzedaż, wynajem - Sprzedajemy.pl</title><meta http-equiv=\"Content-Type\" content=\"text/html; charset=UTF-8\" >\n",
      "<meta http-equiv=\"X-UA-Compatible\" content=\"IE=edge\" >\n",
      "<meta name=\"description\" content=\"Ogłoszenia o tematyce:  w kategorii Mieszkania - Kupuj i sprzedawaj rzeczy używane i nowe w kategorii Mieszkania na Sprzedajemy.pl\" >\n",
      "<meta property=\"og:title\" content=\"Mieszkania Kraków na sprzedaż, wynajem - Sprzedajemy.pl\" >\n",
      "<meta property=\"og:type\" content=\"website\" >\n",
      "<meta property=\"og:image\" content=\"https://thumbs.img-sprzedajemy.pl/facebook/sprzedajemy.pl.png\" >\n",
      "<meta property=\"og:image:width\" content=\"200\" >\n",
      "<meta property=\"og:image:height\" content=\"200\" >\n",
      "<meta property=\"og:url\" content=\"https://sprzedajemy.pl/krakow/nieruchomosci/mieszkania\" >\n",
      "<meta property=\"og:site_name\" content=\"Sprzedajemy.pl\" >\n",
      "<meta property=\"fb:app_id\" content=\"173258269367442\" >\n",
      "<meta property=\"og:description\" content=\"Ogłoszenia o tematyce:  w kategorii Mieszkania - Kupuj i sprzedawaj rzeczy używane i nowe w kategorii Mieszkania na Sprzedajemy.pl\" >\n",
      "<meta name=\"robots\" content=\"noindex, follow\" >\t\t<script  async=\"async\" src=\"https://static.criteo.net/js/ld/publishertag.js\"></script>\n",
      "        <script  async=\"async\" src=\"https://ap.lijit.com/www/sovrn_beacon_standalone/sovrn_standalone_beacon.js?iid=13417409&amp;uid=sprzedajemy\" id=\"sBeacon\"></script>\n",
      "\t\t<script  async=\"async\" src=\"https://securepuba\n",
      "Titles: ['Sprzedam dwupokojowe mieszkanie os. Dywizjonu 303, 19C Kraków', 'Mieszkanie Wzgórza Krzesławickie bez prowizji.', 'Kraków – Bieńczyce, os. Kazimierzowskie', 'Mieszkanie z widokiem na góry', 'Podedworze 13', 'Mieszkanie 3-pokojowe Zakrzówek Ruczaj wynajem na 9 miesięcy', 'Wyjątkowy lokal przy ul. Krowoderskiej z widokiem na stronę ogrodową', 'Dwa pokoje - stare miasto - Do wejścia - Własność', 'Kraków, Stare Miasto sprzedaż/zamiana', 'Oferta sprzedaży mieszkania Kraków 74.67m2 4 pokoje', 'Mieszkanie Kraków 40.61m2 1 pokój', 'Mieszkanie 72.4m2 3-pok Kraków Babińskiego', 'Mieszkanie Kraków 33.56m2 1 pokojowe', 'Mieszkanie 58m2 3-pokojowe Kraków dr. Jana Piltza', 'Mieszkanie 62.88m2 3 pokojowe Kraków', 'Oferta sprzedaży mieszkania 60.92m2 4 pokojowe Kraków Pękowicka', 'Do sprzedaży mieszkanie 55.11m2 3 pokoje Kraków Pękowicka', 'Mieszkanie 70.88m2 3-pokojowe Kraków', 'Mieszkanie Kraków Wadowicka 44.9m2 2 pokojowe', 'Oferta sprzedaży mieszkania Kraków 27.28m2 1 pokojowe', 'Ogłoszenie mieszkanie 37.85m2 2 pok Kraków Pękowicka', 'Do sprzedaży mieszkanie 90.48m2 4-pokojowe Kraków Babińskiego', 'Ogłoszenie mieszkanie Kraków ul. Opatkowicka 44m2 3-pokojowe', 'Mieszkanie 52.32m2 3 pokojowe Kraków', 'Mieszkanie Kraków Wadowicka 70.88m 4 pokoje', 'Mieszkanie 50.23m2 3 pokoje Kraków', 'Mieszkanie Kraków Kantrowicka 36.09m', 'Mieszkanie 27.42m2 1 pokojowe Kraków Pękowicka', 'Mieszkanie Kraków Pękowicka 39.76 metrów 2 pokojowe', 'Oferta sprzedaży mieszkania 71.46m2 3 pok Kraków Na Błonie', 'Mieszkanie 38.19m2 2-pok Kraków Pękowicka', 'Oferta sprzedaży mieszkania 59.31m 4 pokoje Kraków', 'Mieszkanie Kraków 38.93m2 2 pok', 'Mieszkanie 31.74m2 1 pokój Kraków Babińskiego', 'Mieszkanie Kraków Pękowicka 60.73m2 4-pokojowe', 'Mieszkanie Kraków 72.4m2', 'Mieszkanie Kraków 38.37m2 2 pok', 'Mieszkanie Kraków Na Błonie 40.71 metrów 2 pokojowe', 'Oferta sprzedaży mieszkania 41.99m2 2 pokoje Kraków Wadowicka', 'Sprzedaż mieszkania 41.07m2 2 pokojowe Kraków Pękowicka', 'Mieszkanie Kraków 35.05m2 2 pokoje', 'Sprzedam mieszkanie Kraków Wadowicka 51.71 metrów 2 pokoje', 'Mieszkanie 41.16 metrów Kraków', 'Mieszkanie 63.68m2 4 pok Kraków', 'Mieszkanie Kraków Pękowicka 26.92m2 1 pokój', 'Mieszkanie na sprzedaż Kraków Reduta 76.84m2 3 pok', 'Oferta sprzedaży mieszkania 50.12m2 2 pok Kraków', 'Mieszkanie do sprzedania 46.66 metrów 2 pokojowe Kraków Babińskiego', 'Sprzedaż mieszkania Kraków Pękowicka 53.68m2 4 pok', 'Mieszkanie Kraków Na Błonie 38.07m2 2-pokojowe', 'Mieszkanie Kraków 51.54m2 3-pokojowe', 'Oferta sprzedaży mieszkania Kraków 58.95m2 3 pokojowe', 'Ogłoszenie mieszkanie 33.25m 1 pokój Kraków Babińskiego', 'Mieszkanie 74.03m2 3 pokojowe Kraków', 'Mieszkanie 59.31m2 4-pokojowe Kraków Kantrowicka', 'Mieszkanie 64.26m2 3 pokoje Kraków', 'Mieszkanie sprzedam 37.49 metrów 2-pokojowe Kraków', 'Mieszkanie 37.57m2 2 pokoje Kraków Na Błonie', 'Mieszkanie 59.82m2 4 pokoje Kraków', 'Oferta sprzedaży mieszkania 72.21 metrów 4 pokojowe Kraków Pękowicka']\n",
      "60\n",
      "Prices: ['620 000 zł', '719 000 zł', '579 000 zł', '265 000 zł', '542 000 zł', '3 100 zł', '1 340 000 zł', '715 155 zł', '2 015 000 zł', '1 177 000 zł', '621 333 zł', '1 245 280 zł', '731 880 zł', '1 049 000 zł', '987 216 zł', '986 904 zł', '890 026 zł', '1 169 520 zł', '794 730 zł', '474 672 zł', '658 590 zł', '1 465 776 zł', '749 000 zł', '855 432 zł', '1 204 960 zł', '708 243 zł', '541 350 zł', '472 995 zł', '675 920 zł', '1 188 022 zł', '654 958 zł', '760 650 zł', '657 917 zł', '615 756 zł', '986 862 zł', '1 245 280 zł', '646 457 zł', '712 922 zł', '705 432 zł', '694 083 zł', '482 813 zł', '889 754 zł', '747 400 zł', '1 034 800 zł', '456 294 zł', '1 335 000 zł', '830 000 zł', '835 214 zł', '872 300 zł', '736 536 zł', '670 020 zł', '1 055 912 zł', '628 425 zł', '1 698 000 zł', '816 995 zł', '1 111 698 zł', '637 330 zł', '735 230 zł', '969 084 zł', '1 148 139 zł']\n",
      "60\n"
     ]
    }
   ],
   "source": [
    "import requests\n",
    "from bs4 import BeautifulSoup\n",
    "import pandas as pd\n",
    "import os\n",
    "\n",
    "url = \"https://sprzedajemy.pl/krakow/nieruchomosci/mieszkania?offset=0&items_per_page=60\"\n",
    "\n",
    "headers = {\n",
    "    \"User-Agent\": \"Mozilla/5.0 (Windows NT 10.0; Win64; x64) AppleWebKit/537.36 (KHTML, like Gecko) Chrome/58.0.3029.110 Safari/537.36\",\n",
    "    \"Accept\": \"text/html,application/xhtml+xml,application/xml;q=0.9,image/webp,image/apng,*/*;q=0.8\",\n",
    "    \"Accept-Encoding\": \"gzip, deflate, br\",\n",
    "    \"Accept-Language\": \"en-US,en;q=0.9,pl;q=0.8\",\n",
    "    \"Connection\": \"keep-alive\"\n",
    "}\n",
    "\n",
    "response = requests.get(url, headers=headers)\n",
    "response = requests.get(url, headers=headers)\n",
    "\n",
    "# Debugowanie odpowiedzi\n",
    "print(f\"Status Code: {response.status_code}\")\n",
    "print(f\"Response Headers: {response.headers}\")\n",
    "print(f\"Response Text (first 2000 chars): {response.text[:2000]}\")\n",
    "\n",
    "# Jeśli odpowiedź jest poprawna, wykonaj webscraping\n",
    "if response.status_code == 200:\n",
    "    soup = BeautifulSoup(response.content, \"html.parser\")\n",
    "\n",
    "    # Pobieranie ofert mieszkań\n",
    "    titles = [h2.a.text.strip() for h2 in soup.find_all(\"h2\", class_=\"title\") if h2.a]\n",
    "    prices = [p.text.replace(\"\\xa0\", \" \").strip() for p in soup.find_all(\"span\", class_=\"price\")]\n",
    "\n",
    "    print(\"Titles:\", titles)\n",
    "    print(len(titles))\n",
    "    print(\"Prices:\", prices)\n",
    "    print(len(prices))\n",
    "\n",
    "    df = pd.DataFrame({\"Title\": titles, \"Price\": prices})\n",
    "\n",
    "    # Dopisanie do pliku CSV\n",
    "    df.to_csv(\"scraped_data.csv\", mode='a', header=not os.path.exists('scraped_data.csv'), index=False)\n",
    "else:\n",
    "    print(\"Failed to retrieve data.\")\n"
   ]
  }
 ],
 "metadata": {
  "colab": {
   "provenance": []
  },
  "kernelspec": {
   "display_name": "Python 3",
   "name": "python3"
  },
  "language_info": {
   "codemirror_mode": {
    "name": "ipython",
    "version": 3
   },
   "file_extension": ".py",
   "mimetype": "text/x-python",
   "name": "python",
   "nbconvert_exporter": "python",
   "pygments_lexer": "ipython3",
   "version": "3.9.23"
  },
  "papermill": {
   "default_parameters": {},
   "duration": 3.262008,
   "end_time": "2025-10-03T17:08:46.144918",
   "environment_variables": {},
   "exception": null,
   "input_path": "nb.ipynb",
   "output_path": "nbo.ipynb",
   "parameters": {},
   "start_time": "2025-10-03T17:08:42.882910",
   "version": "2.6.0"
  }
 },
 "nbformat": 4,
 "nbformat_minor": 5
}