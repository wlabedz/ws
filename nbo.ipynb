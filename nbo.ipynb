{
 "cells": [
  {
   "cell_type": "code",
   "execution_count": 1,
   "id": "792a6150",
   "metadata": {
    "colab": {
     "base_uri": "https://localhost:8080/"
    },
    "execution": {
     "iopub.execute_input": "2025-05-02T11:36:10.501771Z",
     "iopub.status.busy": "2025-05-02T11:36:10.501150Z",
     "iopub.status.idle": "2025-05-02T11:36:13.497013Z",
     "shell.execute_reply": "2025-05-02T11:36:13.496427Z"
    },
    "id": "5pYh4c8j1w43",
    "outputId": "8a0dca73-64e5-4f0d-c493-2c5b38392363",
    "papermill": {
     "duration": 2.999482,
     "end_time": "2025-05-02T11:36:13.498093",
     "exception": false,
     "start_time": "2025-05-02T11:36:10.498611",
     "status": "completed"
    },
    "tags": []
   },
   "outputs": [
    {
     "name": "stdout",
     "output_type": "stream",
     "text": [
      "Status Code: 200\n",
      "Response Headers: {'Server': 'nginx', 'Date': 'Fri, 02 May 2025 11:36:13 GMT', 'Content-Type': 'text/html; charset=UTF-8', 'Transfer-Encoding': 'chunked', 'Vary': 'Accept-Encoding, User-Agent', 'Set-Cookie': 'FRSPSID=3ikeknichbcadhai3i518i8s60; path=/; domain=.sprzedajemy.pl; secure; HttpOnly, _items_per_page__offer_list=60; expires=Sun, 01-Jun-2025 11:36:12 GMT; Max-Age=2592000; path=/; domain=.sprzedajemy.pl; secure; httponly, observed_id=11250420496814ae2cede8b3208780061698511872; expires=Wed, 02-May-2125 12:36:12 GMT; Max-Age=3155677200; path=/; domain=.sprzedajemy.pl; secure; httponly', 'Expires': 'Thu, 19 Nov 1981 08:52:00 GMT', 'Cache-Control': 'no-store, no-cache, must-revalidate, post-check=0, pre-check=0', 'Pragma': 'no-cache', 'Content-Encoding': 'gzip'}\n",
      "Response Text (first 2000 chars): <!DOCTYPE html><html xmlns=\"http://www.w3.org/1999/xhtml\" xml:lang=\"pl\" lang=\"pl\" class=\"no-js\" >\n",
      "<head>\n",
      "\t\t\t<!-- Google Tag Manager -->\n",
      "\t\t\t<script>(function(w,d,s,l,i){w[l]=w[l]||[];w[l].push({'gtm.start':\n",
      "\t\t\t\t\t\tnew Date().getTime(),event:'gtm.js'});var f=d.getElementsByTagName(s)[0],\n",
      "\t\t\t\t\tj=d.createElement(s),dl=l!='dataLayer'?'&l='+l:'';j.async=true;j.src=\n",
      "\t\t\t\t\t'https://www.googletagmanager.com/gtm.js?id='+i+dl\n",
      "\t\t\t\t\t\t\t\t\t    ;f.parentNode.insertBefore(j,f);\n",
      "\t\t\t\t    })(window,document,'script','dataLayer','GTM-P3S238');</script>\n",
      "\t\t\t<!-- End Google Tag Manager -->\n",
      "\t<title>Mieszkania Kraków na sprzedaż, wynajem - Sprzedajemy.pl</title><meta http-equiv=\"Content-Type\" content=\"text/html; charset=UTF-8\" >\n",
      "<meta http-equiv=\"X-UA-Compatible\" content=\"IE=edge\" >\n",
      "<meta name=\"description\" content=\"Ogłoszenia o tematyce:  w kategorii Mieszkania - Kupuj i sprzedawaj rzeczy używane i nowe w kategorii Mieszkania na Sprzedajemy.pl\" >\n",
      "<meta property=\"og:title\" content=\"Mieszkania Kraków na sprzedaż, wynajem - Sprzedajemy.pl\" >\n",
      "<meta property=\"og:type\" content=\"website\" >\n",
      "<meta property=\"og:image\" content=\"https://thumbs.img-sprzedajemy.pl/facebook/sprzedajemy.pl.png\" >\n",
      "<meta property=\"og:image:width\" content=\"200\" >\n",
      "<meta property=\"og:image:height\" content=\"200\" >\n",
      "<meta property=\"og:url\" content=\"https://sprzedajemy.pl/krakow/nieruchomosci/mieszkania\" >\n",
      "<meta property=\"og:site_name\" content=\"Sprzedajemy.pl\" >\n",
      "<meta property=\"fb:app_id\" content=\"173258269367442\" >\n",
      "<meta property=\"og:description\" content=\"Ogłoszenia o tematyce:  w kategorii Mieszkania - Kupuj i sprzedawaj rzeczy używane i nowe w kategorii Mieszkania na Sprzedajemy.pl\" >\n",
      "<meta name=\"robots\" content=\"noindex, follow\" >\t\t<script  async=\"async\" src=\"https://static.criteo.net/js/ld/publishertag.js\"></script>\n",
      "        <script  async=\"async\" src=\"https://ap.lijit.com/www/sovrn_beacon_standalone/sovrn_standalone_beacon.js?iid=13417409&amp;uid=sprzedajemy\" id=\"sBeacon\"></script>\n",
      "\t\t<script  async=\"async\" src=\"https://securepuba\n",
      "Titles: ['Mieszkanie na sprzedaż/zamiana 39m2', '2 pokoje 41m2 blisko Aquaparku wkrótce tramwaj!', 'Mieszkanie przy Parku Rzecznym Tonie', 'Kraków, Stare Miasto sprzedaż/zamiana', 'Mieszkanie Kraków 27.42m2 4-pok', 'Mieszkanie 167.59m2 5-pok Kraków', 'Oferta sprzedaży mieszkania 78.3m2 3-pok Kraków', 'Mieszkanie 34m2 2 pok Kraków Armii Krajowej', 'Mieszkanie Kraków 53.04m2 3 pokoje', 'Mieszkanie 27.42m2 3 pokojowe Kraków Rydlówka', 'Do sprzedaży mieszkanie 32m2 1 pokój Kraków', 'Mieszkanie do sprzedania 27.42m2 3 pokojowe Kraków Rydlówka', 'Oferta sprzedaży mieszkania 47.5m2 2 pokoje Kraków 29 listopada - okolice', 'Mieszkanie Kraków 29 listopada - okolice 60.62m2 2-pok', 'Mieszkanie na sprzedaż 45.5m2 3 pok Kraków', 'Oferta sprzedaży mieszkania Kraków 27.42m2 3-pokojowe', 'Do sprzedaży mieszkanie 55.75 metrów 2 pokoje Kraków 29 listopada - okolice', 'Mieszkanie Kraków 29 listopada - okolice 60.68m2 2 pokojowe', 'Oferta wynajmu mieszkania Kraków św.Bronisławy 147.51m2 4 pok', 'Ogłoszenie mieszkanie 45.51m2 2 pok Kraków', 'Mieszkanie 27.42m2 3 pokoje Kraków', 'Mieszkanie Kraków Starowiślna 30.69m2 2 pokoje', 'Mieszkanie 27.42 metry 4-pokojowe Kraków Rydlówka', 'Sprzedam mieszkanie Kraków Rakowicka 77 metrów 3 pok', 'Wynajem mieszkania Kraków 31m2 1 pokojowe', 'Mieszkanie 36.58m2 2-pok Kraków Jana Kantego Federowicza', 'Mieszkanie 53.25m2 2 pokojowe Kraków Cieszyńska', 'Komfortowe mieszkanie na sprzedaż', 'Żabiniec Prądnik 30m2 winda balkon klimatyzacja', 'Mieszkanie na sprzedaż 50.15m2 2-pokojowe Kraków', 'Mieszkanie Kraków 119.45m2 4 pokoje', 'Oferta sprzedaży mieszkania Kraków 29 listopada - okolice 50.15m2 2 pok', 'Mieszkanie Kraków 56.7m2', 'Mieszkanie Kraków 27.42m2 1 pokojowe', 'Mieszkanie Kraków Rydlówka 27.42m2 4 pokoje', 'Mieszkanie na sprzedaż 61.3m2 3 pokoje Kraków 29 listopada - okolice', 'Mieszkanie 150m2 6 pokoi Kraków Zyblikiewicza', 'Mieszkanie sprzedam 54 metry 3-pok Kraków Kombatantów', 'Oferta sprzedaży mieszkania 95.88 metrów 4-pokojowe Kraków', 'Mieszkanie Kraków 50.12m2 2 pokojowe', 'Mieszkanie Kraków 26.7 metrów 1-pokojowe', 'Mieszkanie Kraków 46m2 3 pokoje', 'Mieszkanie Kraków Fredry 52.7m2 2-pokojowe', '2 lub 3 pokoje,62m2,balkon, Widok na Wawel', 'Mieszkanie 40.5m2 2 pokojowe Kraków os. Albertyńskie', 'Ogłoszenie mieszkanie Kraków 64.14m2 3-pokojowe', 'Mieszkanie 32.7m2 1 pokój Kraków Sołtysowska', 'Mieszkanie 46m2 2 pok Kraków', 'Mieszkanie Kraków 55.64m2 3 pok', 'Sprzedam mieszkanie Kraków Dywizjonu 303 50.1m2 2-pokojowe', 'Mieszkanie Kraków Gen. Leopolda Okulickiego 29.96m2 1 pokojowe', 'Mieszkanie Kraków Filipa - okolice 39.84m2 2 pokoje', 'Mieszkanie 42.51m2 2 pokoje Kraków Filipa - okolice', 'Mieszkanie do wynajęcia 26m2 1 pokój Kraków Mazowiecka', 'Oferta sprzedaży mieszkania 37m2 2-pokojowe Kraków', 'Wynajmę mieszkanie Kraków ul. Myczkowskiego 36m2', 'Oferta sprzedaży mieszkania Kraków Filipa - okolice 57.45m2 2 pokojowe', 'Mieszkanie 35m2 Kraków Zygmuntowska', 'Mieszkanie Kraków Filipa - okolice 83.43m2 2-pok', 'Mieszkanie 38.92m2 2-pokojowe Kraków Centralna']\n",
      "60\n",
      "Prices: ['548 000 zł', '710 000 zł', '535 000 zł', '2 254 000 zł', '1 043 280 zł', '4 100 000 zł', '1 390 000 zł', '570 000 zł', '1 050 000 zł', '1 102 513 zł', '539 000 zł', '1 016 421 zł', '739 148 zł', '828 904 zł', '615 000 zł', '1 114 137 zł', '756 514 zł', '817 794 zł', '15 000 zł', '3 100 zł', '1 017 705 zł', '769 000 zł', '1 085 575 zł', '1 399 000 zł', '2 000 zł', '650 000 zł', '1 150 000 zł', '999 900 zł', '549 450 zł', '711 976 zł', '1 350 000 zł', '733 265 zł', '850 000 zł', '793 936 zł', '1 003 832 zł', '778 689 zł', '1 950 000 zł', '720 000 zł', '1 109 980 zł', '744 840 zł', '1 850 zł', '660 900 zł', '730 000 zł', '1 590 000 zł', '660 000 zł', '4 000 zł', '2 000 zł', '905 000 zł', '933 000 zł', '699 000 zł', '499 000 zł', '1 155 360 zł', '1 232 790 zł', '1 800 zł', '665 000 zł', '2 100 zł', '1 723 500 zł', '2 800 zł', '2 586 330 zł', '695 000 zł']\n",
      "60\n"
     ]
    }
   ],
   "source": [
    "import requests\n",
    "from bs4 import BeautifulSoup\n",
    "import pandas as pd\n",
    "import os\n",
    "\n",
    "url = \"https://sprzedajemy.pl/krakow/nieruchomosci/mieszkania?offset=0&items_per_page=60\"\n",
    "\n",
    "headers = {\n",
    "    \"User-Agent\": \"Mozilla/5.0 (Windows NT 10.0; Win64; x64) AppleWebKit/537.36 (KHTML, like Gecko) Chrome/58.0.3029.110 Safari/537.36\",\n",
    "    \"Accept\": \"text/html,application/xhtml+xml,application/xml;q=0.9,image/webp,image/apng,*/*;q=0.8\",\n",
    "    \"Accept-Encoding\": \"gzip, deflate, br\",\n",
    "    \"Accept-Language\": \"en-US,en;q=0.9,pl;q=0.8\",\n",
    "    \"Connection\": \"keep-alive\"\n",
    "}\n",
    "\n",
    "response = requests.get(url, headers=headers)\n",
    "response = requests.get(url, headers=headers)\n",
    "\n",
    "# Debugowanie odpowiedzi\n",
    "print(f\"Status Code: {response.status_code}\")\n",
    "print(f\"Response Headers: {response.headers}\")\n",
    "print(f\"Response Text (first 2000 chars): {response.text[:2000]}\")\n",
    "\n",
    "# Jeśli odpowiedź jest poprawna, wykonaj webscraping\n",
    "if response.status_code == 200:\n",
    "    soup = BeautifulSoup(response.content, \"html.parser\")\n",
    "\n",
    "    # Pobieranie ofert mieszkań\n",
    "    titles = [h2.a.text.strip() for h2 in soup.find_all(\"h2\", class_=\"title\") if h2.a]\n",
    "    prices = [p.text.replace(\"\\xa0\", \" \").strip() for p in soup.find_all(\"span\", class_=\"price\")]\n",
    "\n",
    "    print(\"Titles:\", titles)\n",
    "    print(len(titles))\n",
    "    print(\"Prices:\", prices)\n",
    "    print(len(prices))\n",
    "\n",
    "    df = pd.DataFrame({\"Title\": titles, \"Price\": prices})\n",
    "\n",
    "    # Dopisanie do pliku CSV\n",
    "    df.to_csv(\"scraped_data.csv\", mode='a', header=not os.path.exists('scraped_data.csv'), index=False)\n",
    "else:\n",
    "    print(\"Failed to retrieve data.\")\n"
   ]
  }
 ],
 "metadata": {
  "colab": {
   "provenance": []
  },
  "kernelspec": {
   "display_name": "Python 3",
   "name": "python3"
  },
  "language_info": {
   "codemirror_mode": {
    "name": "ipython",
    "version": 3
   },
   "file_extension": ".py",
   "mimetype": "text/x-python",
   "name": "python",
   "nbconvert_exporter": "python",
   "pygments_lexer": "ipython3",
   "version": "3.9.22"
  },
  "papermill": {
   "default_parameters": {},
   "duration": 4.093895,
   "end_time": "2025-05-02T11:36:13.714833",
   "environment_variables": {},
   "exception": null,
   "input_path": "nb.ipynb",
   "output_path": "nbo.ipynb",
   "parameters": {},
   "start_time": "2025-05-02T11:36:09.620938",
   "version": "2.6.0"
  }
 },
 "nbformat": 4,
 "nbformat_minor": 5
}