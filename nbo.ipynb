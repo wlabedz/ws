{
 "cells": [
  {
   "cell_type": "code",
   "execution_count": 1,
   "id": "610a1240",
   "metadata": {
    "colab": {
     "base_uri": "https://localhost:8080/"
    },
    "execution": {
     "iopub.execute_input": "2025-10-27T10:59:00.747592Z",
     "iopub.status.busy": "2025-10-27T10:59:00.747300Z",
     "iopub.status.idle": "2025-10-27T10:59:02.906680Z",
     "shell.execute_reply": "2025-10-27T10:59:02.905955Z"
    },
    "id": "5pYh4c8j1w43",
    "outputId": "8a0dca73-64e5-4f0d-c493-2c5b38392363",
    "papermill": {
     "duration": 2.162698,
     "end_time": "2025-10-27T10:59:02.907807",
     "exception": false,
     "start_time": "2025-10-27T10:59:00.745109",
     "status": "completed"
    },
    "tags": []
   },
   "outputs": [
    {
     "name": "stdout",
     "output_type": "stream",
     "text": [
      "Status Code: 200\n",
      "Response Headers: {'Server': 'nginx', 'Date': 'Mon, 27 Oct 2025 10:59:02 GMT', 'Content-Type': 'text/html; charset=UTF-8', 'Transfer-Encoding': 'chunked', 'Vary': 'Accept-Encoding, User-Agent', 'Set-Cookie': 'FRSPSID=q3ntdc4uc24c3ocq97o1m11nt2; path=/; domain=.sprzedajemy.pl; secure; HttpOnly, _items_per_page__offer_list=60; expires=Wed, 26-Nov-2025 10:59:02 GMT; Max-Age=2592000; path=/; domain=.sprzedajemy.pl; secure; httponly, observed_id=107687663568ff50767a729281321806722329585; expires=Sat, 27-Oct-2125 10:59:02 GMT; Max-Age=3155673600; path=/; domain=.sprzedajemy.pl; secure; httponly', 'Expires': 'Thu, 19 Nov 1981 08:52:00 GMT', 'Cache-Control': 'no-store, no-cache, must-revalidate, post-check=0, pre-check=0', 'Pragma': 'no-cache', 'Content-Encoding': 'gzip'}\n",
      "Response Text (first 2000 chars): <!DOCTYPE html><html xmlns=\"http://www.w3.org/1999/xhtml\" xml:lang=\"pl\" lang=\"pl\" class=\"no-js\" >\n",
      "<head>\n",
      "\t\t\t<!-- Google Tag Manager -->\n",
      "\t\t\t<script>(function(w,d,s,l,i){w[l]=w[l]||[];w[l].push({'gtm.start':\n",
      "\t\t\t\t\t\tnew Date().getTime(),event:'gtm.js'});var f=d.getElementsByTagName(s)[0],\n",
      "\t\t\t\t\tj=d.createElement(s),dl=l!='dataLayer'?'&l='+l:'';j.async=true;j.src=\n",
      "\t\t\t\t\t'https://www.googletagmanager.com/gtm.js?id='+i+dl\n",
      "\t\t\t\t\t\t\t\t\t    ;f.parentNode.insertBefore(j,f);\n",
      "\t\t\t\t    })(window,document,'script','dataLayer','GTM-P3S238');</script>\n",
      "\t\t\t<!-- End Google Tag Manager -->\n",
      "\t<title>Mieszkania Kraków na sprzedaż, wynajem - Sprzedajemy.pl</title><meta http-equiv=\"Content-Type\" content=\"text/html; charset=UTF-8\" >\n",
      "<meta http-equiv=\"X-UA-Compatible\" content=\"IE=edge\" >\n",
      "<meta name=\"description\" content=\"Ogłoszenia o tematyce:  w kategorii Mieszkania - Kupuj i sprzedawaj rzeczy używane i nowe w kategorii Mieszkania na Sprzedajemy.pl\" >\n",
      "<meta property=\"og:title\" content=\"Mieszkania Kraków na sprzedaż, wynajem - Sprzedajemy.pl\" >\n",
      "<meta property=\"og:type\" content=\"website\" >\n",
      "<meta property=\"og:image\" content=\"https://thumbs.img-sprzedajemy.pl/facebook/sprzedajemy.pl.png\" >\n",
      "<meta property=\"og:image:width\" content=\"200\" >\n",
      "<meta property=\"og:image:height\" content=\"200\" >\n",
      "<meta property=\"og:url\" content=\"https://sprzedajemy.pl/krakow/nieruchomosci/mieszkania\" >\n",
      "<meta property=\"og:site_name\" content=\"Sprzedajemy.pl\" >\n",
      "<meta property=\"fb:app_id\" content=\"173258269367442\" >\n",
      "<meta property=\"og:description\" content=\"Ogłoszenia o tematyce:  w kategorii Mieszkania - Kupuj i sprzedawaj rzeczy używane i nowe w kategorii Mieszkania na Sprzedajemy.pl\" >\n",
      "<meta name=\"robots\" content=\"noindex, follow\" >\t\t<script  async=\"async\" src=\"https://static.criteo.net/js/ld/publishertag.js\"></script>\n",
      "        <script  async=\"async\" src=\"https://ap.lijit.com/www/sovrn_beacon_standalone/sovrn_standalone_beacon.js?iid=13417409&amp;uid=sprzedajemy\" id=\"sBeacon\"></script>\n",
      "\t\t<script  async=\"async\" src=\"https://securepuba\n",
      "Titles: ['Sprzedam dwupokojowe mieszkanie (balkon, piwnica) os. Dywizjonu 303, 19C K…', 'Grzegorzki mieszkanie na sprzedaż 30 m', 'ul.Felińskiego, piękne 3 pokoje, garaż', 'Żabiniec - 2 pokje, 2 balkony, garaż, komórka', 'Bronowice: 3 pokoje +3 balkony, miejsce parkingowe', 'Mieszkanie z widokiem na góry', '3-pokoje osobne - Ugorek, pet friendly', 'Do sprzedaży mieszkanie 70.36m2 3 pokojowe Kraków', 'Apartament 54 m2, Kraków Ruczaj Właściciel', 'Mieszkanie 36.21m2 2 pokoje Kraków', 'Jasne atrakcyjne mieszkanie 45m z tarasem 17m i ogrodem 33m taras parter', 'Wynajmę mieszkanie 30m2 Kraków Czyzyny', 'Mieszkanie Kraków Jana Kurczaba 68.6m2 3-pokojowe', 'Oferta sprzedaży mieszkania 48m2 3 pok Kraków', 'Przestronne mieszkanie w słonecznym Płaszowie', 'Przestronne 3-pokojowe mieszkanie 59m2 z balkonem i piwnicą Bieńczyce', '5 min do centrum - 2-pokojowe mieszkanie 48 m² – wysoki standard', 'Mieszkanie Ruczaj Park 73m', 'Przytulne 70m2 z 3 pokojami w centrum Krakowa – super lokalizacja Wisła', 'Mieszkanie Kraków Drukarska do wynajęcia', 'Wynajmę słoneczne mieszkanie 2-pokojowe w Krakowie, Wola Duchackie', 'Mieszkanie 3-pokojowe 67 m² – dobra lokalizacja', 'Mieszkanie 2-pokojowe Z Jasną Kuchnią Kraków-Krowodrza, Umeblowane', 'Mieszkanie, Kraków os. Tysiąclecia 1 - 20 m 2', 'Mieszkanie Kraków 103m2', 'Mieszkanie 71.27m2 4 pokoje Kraków Stefana Banacha', '2-pok. mieszkanie, 43\\u202fm² – Kraków Prądnik Biały', 'APARTAMENT DWUPOZIOMOWY KRAKÓW KAZIMIERZ', 'MIESZKANIE KRAKÓW ul. TELIGI 2', '3pokoje,balkon,po remoncie,os.Albertyńskie,Czyżyny', 'Zabłocie, mieszkanie, taras, 40 m2, ENG', 'Apartament: 3 pokoje, 2 łazienki, garaż', 'Dwa pokoje - stare miasto - Do wejścia - Własność', 'studio w spokojnej okolicy (34.2m2 / 37m2)', 'Mieszkanie 50m 2 pokoje Kraków', 'Apartament 3 pokoje w plombie ul. Lubelska Kraków sprzedam', 'Pachnące nowością z garażem 2-pok o pow. 46,39 m2 K-ów ul Rakowicka20J', 'Ostatnie piętro z widokiem na Wawel – ul. Nullo, loggia', '3 pokoje, Os Piastów, bezpośrednio', 'Dla studenta lub na wynajem krótkoterminowy', 'Sprzedam mieszkanie 58m2 3-pokojowe Kraków Fatimska', 'Mieszkanie 98 metrów 3 pokoje Kraków Bolesława Komorowskiego', 'Oferta sprzedaży mieszkania Kraków 32.9 metrów 2 pokoje', 'Oferta wynajmu mieszkania Kraków os. 2 Pułku Lotniczego 37m2 1-pokojowe', 'Mieszkanie na wynajem Kraków ul. Bunscha Czerwone Maki', 'Mieszkanie Kraków Wandy 30.15m 1 pokojowe', 'Mieszkanie 45m2 2 pokoje Kraków', 'Czyżyny - 1 pokojowe z dużym blakonem, 2018 r', 'Mieszkanie Kraków 43.56m2 3 pokoje', 'Mieszkanie Kraków 54.4m2 3-pokojowe', 'Mieszkanie Kraków 57.13m2 4-pokojowe', 'Mieszkanie 39m2 Kraków Czyżewskiego', 'Mieszkanie Kraków 64.3m2 3 pokoje', '2-pokojowe mieszkanie 49,52m2 z balkonem – Centralna Vita, Czyżyny', 'Mieszkanie Kraków 24.3m 1-pokojowe', 'Mieszkanie 59.3m2 2 pok Kraków Kotlarska', 'Mieszkanie 34.6m2 2 pokoje Kraków', 'Mieszkanie 24m2 1 pokój Kraków os. Kalinowe', 'Oferta sprzedaży mieszkania 65m2 3 pokojowe Kraków', 'Oferta sprzedaży mieszkania Kraków 70.02m2 3 pokojowe']\n",
      "60\n",
      "Prices: ['600 000 zł', '549 000 zł', '770 000 zł', '750 000 zł', '985 000 zł', '265 000 zł', '3 400 zł', '1 150 000 zł', '3 600 zł', '555 000 zł', '860 000 zł', '2 300 zł', '849 000 zł', '799 000 zł', '3 700 zł', '720 000 zł', '3 550 zł', '939 046 zł', '4 299 zł', '1 900 zł', '2 500 zł', '795 000 zł', '2 100 zł', '333 000 zł', '2 500 000 zł', '1 270 000 zł', '3 400 zł', '1 890 000 zł', '690 000 zł', '679 999 zł', '3 500 zł', '3 700 000 zł', '715 155 zł', '498 000 zł', '710 000 zł', '1 195 000 zł', '3 900 zł', '1 430 000 zł', '830 000 zł', '545 000 zł', '733 000 zł', '5 800 zł', '525 000 zł', '2 100 zł', '2 700 zł', '394 000 zł', '719 000 zł', '605 000 zł', '699 000 zł', '765 000 zł', '920 000 zł', '479 265 zł', '765 000 zł', '618 990,04 zł', '399 000 zł', '765 000 zł', '700 000 zł', '398 000 zł', '870 000 zł', '904 797 zł']\n",
      "60\n"
     ]
    }
   ],
   "source": [
    "import requests\n",
    "from bs4 import BeautifulSoup\n",
    "import pandas as pd\n",
    "import os\n",
    "\n",
    "url = \"https://sprzedajemy.pl/krakow/nieruchomosci/mieszkania?offset=0&items_per_page=60\"\n",
    "\n",
    "headers = {\n",
    "    \"User-Agent\": \"Mozilla/5.0 (Windows NT 10.0; Win64; x64) AppleWebKit/537.36 (KHTML, like Gecko) Chrome/58.0.3029.110 Safari/537.36\",\n",
    "    \"Accept\": \"text/html,application/xhtml+xml,application/xml;q=0.9,image/webp,image/apng,*/*;q=0.8\",\n",
    "    \"Accept-Encoding\": \"gzip, deflate, br\",\n",
    "    \"Accept-Language\": \"en-US,en;q=0.9,pl;q=0.8\",\n",
    "    \"Connection\": \"keep-alive\"\n",
    "}\n",
    "\n",
    "response = requests.get(url, headers=headers)\n",
    "response = requests.get(url, headers=headers)\n",
    "\n",
    "# Debugowanie odpowiedzi\n",
    "print(f\"Status Code: {response.status_code}\")\n",
    "print(f\"Response Headers: {response.headers}\")\n",
    "print(f\"Response Text (first 2000 chars): {response.text[:2000]}\")\n",
    "\n",
    "# Jeśli odpowiedź jest poprawna, wykonaj webscraping\n",
    "if response.status_code == 200:\n",
    "    soup = BeautifulSoup(response.content, \"html.parser\")\n",
    "\n",
    "    # Pobieranie ofert mieszkań\n",
    "    titles = [h2.a.text.strip() for h2 in soup.find_all(\"h2\", class_=\"title\") if h2.a]\n",
    "    prices = [p.text.replace(\"\\xa0\", \" \").strip() for p in soup.find_all(\"span\", class_=\"price\")]\n",
    "\n",
    "    print(\"Titles:\", titles)\n",
    "    print(len(titles))\n",
    "    print(\"Prices:\", prices)\n",
    "    print(len(prices))\n",
    "\n",
    "    df = pd.DataFrame({\"Title\": titles, \"Price\": prices})\n",
    "\n",
    "    # Dopisanie do pliku CSV\n",
    "    df.to_csv(\"scraped_data.csv\", mode='a', header=not os.path.exists('scraped_data.csv'), index=False)\n",
    "else:\n",
    "    print(\"Failed to retrieve data.\")\n"
   ]
  }
 ],
 "metadata": {
  "colab": {
   "provenance": []
  },
  "kernelspec": {
   "display_name": "Python 3",
   "name": "python3"
  },
  "language_info": {
   "codemirror_mode": {
    "name": "ipython",
    "version": 3
   },
   "file_extension": ".py",
   "mimetype": "text/x-python",
   "name": "python",
   "nbconvert_exporter": "python",
   "pygments_lexer": "ipython3",
   "version": "3.9.23"
  },
  "papermill": {
   "default_parameters": {},
   "duration": 3.341269,
   "end_time": "2025-10-27T10:59:03.124334",
   "environment_variables": {},
   "exception": null,
   "input_path": "nb.ipynb",
   "output_path": "nbo.ipynb",
   "parameters": {},
   "start_time": "2025-10-27T10:58:59.783065",
   "version": "2.6.0"
  }
 },
 "nbformat": 4,
 "nbformat_minor": 5
}