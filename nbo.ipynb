{
 "cells": [
  {
   "cell_type": "code",
   "execution_count": 1,
   "id": "b3d21436",
   "metadata": {
    "colab": {
     "base_uri": "https://localhost:8080/"
    },
    "execution": {
     "iopub.execute_input": "2025-07-19T06:57:55.195294Z",
     "iopub.status.busy": "2025-07-19T06:57:55.195035Z",
     "iopub.status.idle": "2025-07-19T06:57:57.843921Z",
     "shell.execute_reply": "2025-07-19T06:57:57.843189Z"
    },
    "id": "5pYh4c8j1w43",
    "outputId": "8a0dca73-64e5-4f0d-c493-2c5b38392363",
    "papermill": {
     "duration": 2.652565,
     "end_time": "2025-07-19T06:57:57.845041",
     "exception": false,
     "start_time": "2025-07-19T06:57:55.192476",
     "status": "completed"
    },
    "tags": []
   },
   "outputs": [
    {
     "name": "stdout",
     "output_type": "stream",
     "text": [
      "Status Code: 200\n",
      "Response Headers: {'Server': 'nginx', 'Date': 'Sat, 19 Jul 2025 06:57:57 GMT', 'Content-Type': 'text/html; charset=UTF-8', 'Transfer-Encoding': 'chunked', 'Vary': 'Accept-Encoding, User-Agent', 'Set-Cookie': 'FRSPSID=cmpfgvlha0b56s6oaoe1rr7bm0; path=/; domain=.sprzedajemy.pl; secure; HttpOnly, _items_per_page__offer_list=60; expires=Mon, 18-Aug-2025 06:57:57 GMT; Max-Age=2592000; path=/; domain=.sprzedajemy.pl; secure; httponly, observed_id=1215474072687b41f55da9f662098437480964322; expires=Thu, 19-Jul-2125 07:57:57 GMT; Max-Age=3155677200; path=/; domain=.sprzedajemy.pl; secure; httponly', 'Expires': 'Thu, 19 Nov 1981 08:52:00 GMT', 'Cache-Control': 'no-store, no-cache, must-revalidate, post-check=0, pre-check=0', 'Pragma': 'no-cache', 'Content-Encoding': 'gzip'}\n",
      "Response Text (first 2000 chars): <!DOCTYPE html><html xmlns=\"http://www.w3.org/1999/xhtml\" xml:lang=\"pl\" lang=\"pl\" class=\"no-js\" >\n",
      "<head>\n",
      "\t\t\t<!-- Google Tag Manager -->\n",
      "\t\t\t<script>(function(w,d,s,l,i){w[l]=w[l]||[];w[l].push({'gtm.start':\n",
      "\t\t\t\t\t\tnew Date().getTime(),event:'gtm.js'});var f=d.getElementsByTagName(s)[0],\n",
      "\t\t\t\t\tj=d.createElement(s),dl=l!='dataLayer'?'&l='+l:'';j.async=true;j.src=\n",
      "\t\t\t\t\t'https://www.googletagmanager.com/gtm.js?id='+i+dl\n",
      "\t\t\t\t\t\t\t\t\t    ;f.parentNode.insertBefore(j,f);\n",
      "\t\t\t\t    })(window,document,'script','dataLayer','GTM-P3S238');</script>\n",
      "\t\t\t<!-- End Google Tag Manager -->\n",
      "\t<title>Mieszkania Kraków na sprzedaż, wynajem - Sprzedajemy.pl</title><meta http-equiv=\"Content-Type\" content=\"text/html; charset=UTF-8\" >\n",
      "<meta http-equiv=\"X-UA-Compatible\" content=\"IE=edge\" >\n",
      "<meta name=\"description\" content=\"Ogłoszenia o tematyce:  w kategorii Mieszkania - Kupuj i sprzedawaj rzeczy używane i nowe w kategorii Mieszkania na Sprzedajemy.pl\" >\n",
      "<meta property=\"og:title\" content=\"Mieszkania Kraków na sprzedaż, wynajem - Sprzedajemy.pl\" >\n",
      "<meta property=\"og:type\" content=\"website\" >\n",
      "<meta property=\"og:image\" content=\"https://thumbs.img-sprzedajemy.pl/facebook/sprzedajemy.pl.png\" >\n",
      "<meta property=\"og:image:width\" content=\"200\" >\n",
      "<meta property=\"og:image:height\" content=\"200\" >\n",
      "<meta property=\"og:url\" content=\"https://sprzedajemy.pl/krakow/nieruchomosci/mieszkania\" >\n",
      "<meta property=\"og:site_name\" content=\"Sprzedajemy.pl\" >\n",
      "<meta property=\"fb:app_id\" content=\"173258269367442\" >\n",
      "<meta property=\"og:description\" content=\"Ogłoszenia o tematyce:  w kategorii Mieszkania - Kupuj i sprzedawaj rzeczy używane i nowe w kategorii Mieszkania na Sprzedajemy.pl\" >\n",
      "<meta name=\"robots\" content=\"noindex, follow\" >\t\t<script  async=\"async\" src=\"https://static.criteo.net/js/ld/publishertag.js\"></script>\n",
      "        <script  async=\"async\" src=\"https://ap.lijit.com/www/sovrn_beacon_standalone/sovrn_standalone_beacon.js?iid=13417409&amp;uid=sprzedajemy\" id=\"sBeacon\"></script>\n",
      "\t\t<script  async=\"async\" src=\"https://securepuba\n",
      "Titles: ['Super lokalizacja! TRAMWAJ, niski czynsz, balkon, Prądnik Czerwony/Huta', 'Nowoczesny apartament z panoramicznym widokiem - od właściciela', 'Wyjątkowe mieszkanie z widokiem na klasztor w Tyńcu i panoramę Tatr', 'Stylowy apartament z widokiem na panoramę Krakowa - od właściciela', 'Kraków, Stare Miasto sprzedaż/zamiana', 'Mieszkanie na sprzedaż/zamiana 39m2', 'Mieszkanie Wola Justowska /Bielany 36m2', '4pokoje 68m2 balkon KLIMA Śródmieście BEZ PROWIZJI od właściciela', '2-pokojowe mieszkanie na Zabłociu – ciche, świetna lokalizacja!', 'Dom - Kraków Tonie - Zielona okolica - 123 m2 | 5 - pok. | Ogród | Taras |…', 'Na sprzedaż mieszkanie | Wiślane Tarasy | 44,3 m²', 'Mieszkanie Kraków Bartosza Głowackiego 34.11m2 1 pokój', 'Mieszkanie Kraków 61.9m2 3 pokojowe', 'Mieszkanie 34m2 1 pokój Kraków Śliczna', 'Mieszkanie Kraków Krupnicza 32m2 1 pokojowe', 'Mieszkanie osiedle Złocień ,2 pokoje + piwnica', '3 pokoje os. Oświecnia w stanie bardzo dobrym', 'Jednopokojowe z oddzielną kuchnią', 'Mieszkanie przy Rynku Głównym! Centrum Krakowa', 'Mieszkanie Kraków 51.71m2 3 pokojowe', 'Oferta sprzedaży mieszkania Kraków Torfowa 60.85m2 4 pokoje', 'Mieszkanie 98 metrów 3 pokoje Kraków Bolesława Komorowskiego', 'Mieszkanie 51.71m2 3 pokoje Kraków al. 29 Listopada', 'Mieszkanie 38.4m2 2 pokojowe Kraków', 'Bezpośrednio wynajmę 2-pokojowe ul.Batorego po remoncie.', 'Strych, Błonia, ul. Filarecka, Rezerwacja', 'Duża kawalerka - Kraków – Salwator – ul. Kościuszki – 2 pokoje – 35 m²', '5 min do centrum - 2-pokojowe mieszkanie 48 m² – wysoki standard', 'Kraków – Prądnik Biały – ul. Pachońskiego – 2 pokoje – 36 m² – BALKON', 'Kurdwanów - ul. Stojałowskiego I 3 pokoje, 62,5 m2', 'Mieszkanie na sprzedaż 71m2 3 pok Kraków', 'Os. Tysiaclecia -blisko parku, 2 pokoje, balkon', 'APARTAMENT DWUPOZIOMOWY KRAKÓW KAZIMIERZ', 'MIESZKANIE KRAKÓW ul. TELIGI 2', 'Mieszkanie Kraków 70m2 3-pokojowe', 'Mieszkanie na wynajem Kraków Dobrego Pasterza 41.9m2 2 pokojowe', 'Ogłoszenie mieszkanie 58 metrów 3 pokoje Kraków Nullo', 'Borkowska - 2 pokojowe mieszkanie z balkonem', 'ul.Felińskiego, piękne 3 pokoje, garaż', 'Apartamentowiec 73m na Woli Justowskiej', 'Oferta sprzedaży mieszkania Kraków Aleja Kijowska 41.39m2 2 pokoje', 'Wola Duchacka 2 pokoje + komórka w cenie', 'Bezpośrednio Jasne 2 pokoje Mieszkanie Centrum Ogrzewanie Parking Komunika…', '1os Kawalerka 25m2 kilka przystanków od Centrum - Krowodrza Górka', 'Mieszkanie 44.91m2 2 pokoje Kraków', 'Mieszkanie Kraków 41.04m2 2-pokojowe', 'Oferta sprzedaży mieszkania Kraków Aleja Kijowska 41.4m2 2 pokoje', 'Mieszkanie Kraków 76.94m2 3 pokojowe', 'Ogłoszenie mieszkanie 48.1m2 2 pokoje Kraków', 'Oferta sprzedaży mieszkania Kraków Starowiślna 52m2 3 pokojowe', 'Żabiniec - dwupokojowe z miejscem parkingowym', 'Oferta sprzedaży mieszkania Kraków os. Jagiellońskie 44m2 2 pokoje', 'Wyjątkowe 2-pokojowe poddasze Stare Podgórze – gotowe do zamieszkania', 'Mieszkanie', 'Nowe I Wykończone I 4-pok. I Bez PCC i Prowizji', 'Mieszkanie 45.69 metrów 2 pokojowe Kraków', 'Mieszkanie kawalerka do wynajęcia w Krakowie', 'Mieszkanie 34.49m2+Loggia os. 2 Pułku Lotniczego', 'Wynajmę mieszkanie Kraków 55.8m2 3-pokojowe', 'Kawalerka do wynajęcia -Kraków Grzegórzki']\n",
      "60\n",
      "Prices: ['549 900 zł', '997 000 zł', '779 000 zł', '897 000 zł', '2 153 000 zł', '526 000 zł', '487 000 zł', '1 850 000 zł', '499 000 zł', '2 275 000 zł', '999 000 zł', '648 000 zł', '780 000 zł', '1 800 zł', '2 700 zł', '667 000 zł', '859 000 zł', '2 000 zł', '1 400 000 zł', '3 500 zł', '819 000 zł', '6 300 zł', '925 000 zł', '2 900 zł', '3 850 zł', '389 999 zł', '2 800 zł', '3 550 zł', '2 800 zł', '799 000 zł', '1 065 000 zł', '635 000 zł', '1 890 000 zł', '690 000 zł', '890 000 zł', '2 900 zł', '1 449 000 zł', '600 000 zł', '800 000 zł', '1 750 000 zł', '922 955 zł', '670 000 zł', '3 200 zł', '1 755 zł', '996 957 zł', '902 838 zł', '931 458 zł', '1 198 000 zł', '680 000 zł', '929 000 zł', '2 600 zł', '619 000 zł', '829 000 zł', '2 500 zł', '969 000 zł', '639 000 zł', '2 100 zł', '579 000 zł', '3 000 zł', '2 400 zł']\n",
      "60\n"
     ]
    }
   ],
   "source": [
    "import requests\n",
    "from bs4 import BeautifulSoup\n",
    "import pandas as pd\n",
    "import os\n",
    "\n",
    "url = \"https://sprzedajemy.pl/krakow/nieruchomosci/mieszkania?offset=0&items_per_page=60\"\n",
    "\n",
    "headers = {\n",
    "    \"User-Agent\": \"Mozilla/5.0 (Windows NT 10.0; Win64; x64) AppleWebKit/537.36 (KHTML, like Gecko) Chrome/58.0.3029.110 Safari/537.36\",\n",
    "    \"Accept\": \"text/html,application/xhtml+xml,application/xml;q=0.9,image/webp,image/apng,*/*;q=0.8\",\n",
    "    \"Accept-Encoding\": \"gzip, deflate, br\",\n",
    "    \"Accept-Language\": \"en-US,en;q=0.9,pl;q=0.8\",\n",
    "    \"Connection\": \"keep-alive\"\n",
    "}\n",
    "\n",
    "response = requests.get(url, headers=headers)\n",
    "response = requests.get(url, headers=headers)\n",
    "\n",
    "# Debugowanie odpowiedzi\n",
    "print(f\"Status Code: {response.status_code}\")\n",
    "print(f\"Response Headers: {response.headers}\")\n",
    "print(f\"Response Text (first 2000 chars): {response.text[:2000]}\")\n",
    "\n",
    "# Jeśli odpowiedź jest poprawna, wykonaj webscraping\n",
    "if response.status_code == 200:\n",
    "    soup = BeautifulSoup(response.content, \"html.parser\")\n",
    "\n",
    "    # Pobieranie ofert mieszkań\n",
    "    titles = [h2.a.text.strip() for h2 in soup.find_all(\"h2\", class_=\"title\") if h2.a]\n",
    "    prices = [p.text.replace(\"\\xa0\", \" \").strip() for p in soup.find_all(\"span\", class_=\"price\")]\n",
    "\n",
    "    print(\"Titles:\", titles)\n",
    "    print(len(titles))\n",
    "    print(\"Prices:\", prices)\n",
    "    print(len(prices))\n",
    "\n",
    "    df = pd.DataFrame({\"Title\": titles, \"Price\": prices})\n",
    "\n",
    "    # Dopisanie do pliku CSV\n",
    "    df.to_csv(\"scraped_data.csv\", mode='a', header=not os.path.exists('scraped_data.csv'), index=False)\n",
    "else:\n",
    "    print(\"Failed to retrieve data.\")\n"
   ]
  }
 ],
 "metadata": {
  "colab": {
   "provenance": []
  },
  "kernelspec": {
   "display_name": "Python 3",
   "name": "python3"
  },
  "language_info": {
   "codemirror_mode": {
    "name": "ipython",
    "version": 3
   },
   "file_extension": ".py",
   "mimetype": "text/x-python",
   "name": "python",
   "nbconvert_exporter": "python",
   "pygments_lexer": "ipython3",
   "version": "3.9.23"
  },
  "papermill": {
   "default_parameters": {},
   "duration": 3.752879,
   "end_time": "2025-07-19T06:57:58.062568",
   "environment_variables": {},
   "exception": null,
   "input_path": "nb.ipynb",
   "output_path": "nbo.ipynb",
   "parameters": {},
   "start_time": "2025-07-19T06:57:54.309689",
   "version": "2.6.0"
  }
 },
 "nbformat": 4,
 "nbformat_minor": 5
}