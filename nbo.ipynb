{
 "cells": [
  {
   "cell_type": "code",
   "execution_count": 1,
   "id": "c955d6f4",
   "metadata": {
    "colab": {
     "base_uri": "https://localhost:8080/"
    },
    "execution": {
     "iopub.execute_input": "2025-09-05T14:11:24.035306Z",
     "iopub.status.busy": "2025-09-05T14:11:24.035049Z",
     "iopub.status.idle": "2025-09-05T14:11:26.589275Z",
     "shell.execute_reply": "2025-09-05T14:11:26.588578Z"
    },
    "id": "5pYh4c8j1w43",
    "outputId": "8a0dca73-64e5-4f0d-c493-2c5b38392363",
    "papermill": {
     "duration": 2.55757,
     "end_time": "2025-09-05T14:11:26.590300",
     "exception": false,
     "start_time": "2025-09-05T14:11:24.032730",
     "status": "completed"
    },
    "tags": []
   },
   "outputs": [
    {
     "name": "stdout",
     "output_type": "stream",
     "text": [
      "Status Code: 200\n",
      "Response Headers: {'Server': 'nginx', 'Date': 'Fri, 05 Sep 2025 14:11:26 GMT', 'Content-Type': 'text/html; charset=UTF-8', 'Transfer-Encoding': 'chunked', 'Vary': 'Accept-Encoding, User-Agent', 'Set-Cookie': 'FRSPSID=rfhdf4osmatmq2v7l85sd7l7q2; path=/; domain=.sprzedajemy.pl; secure; HttpOnly, _items_per_page__offer_list=60; expires=Sun, 05-Oct-2025 14:11:26 GMT; Max-Age=2592000; path=/; domain=.sprzedajemy.pl; secure; httponly, observed_id=135717987868baef8e2331b990024217885012927; expires=Wed, 05-Sep-2125 15:11:26 GMT; Max-Age=3155677200; path=/; domain=.sprzedajemy.pl; secure; httponly', 'Expires': 'Thu, 19 Nov 1981 08:52:00 GMT', 'Cache-Control': 'no-store, no-cache, must-revalidate, post-check=0, pre-check=0', 'Pragma': 'no-cache', 'Content-Encoding': 'gzip'}\n",
      "Response Text (first 2000 chars): <!DOCTYPE html><html xmlns=\"http://www.w3.org/1999/xhtml\" xml:lang=\"pl\" lang=\"pl\" class=\"no-js\" >\n",
      "<head>\n",
      "\t\t\t<!-- Google Tag Manager -->\n",
      "\t\t\t<script>(function(w,d,s,l,i){w[l]=w[l]||[];w[l].push({'gtm.start':\n",
      "\t\t\t\t\t\tnew Date().getTime(),event:'gtm.js'});var f=d.getElementsByTagName(s)[0],\n",
      "\t\t\t\t\tj=d.createElement(s),dl=l!='dataLayer'?'&l='+l:'';j.async=true;j.src=\n",
      "\t\t\t\t\t'https://www.googletagmanager.com/gtm.js?id='+i+dl\n",
      "\t\t\t\t\t\t\t\t\t    ;f.parentNode.insertBefore(j,f);\n",
      "\t\t\t\t    })(window,document,'script','dataLayer','GTM-P3S238');</script>\n",
      "\t\t\t<!-- End Google Tag Manager -->\n",
      "\t<title>Mieszkania Kraków na sprzedaż, wynajem - Sprzedajemy.pl</title><meta http-equiv=\"Content-Type\" content=\"text/html; charset=UTF-8\" >\n",
      "<meta http-equiv=\"X-UA-Compatible\" content=\"IE=edge\" >\n",
      "<meta name=\"description\" content=\"Ogłoszenia o tematyce:  w kategorii Mieszkania - Kupuj i sprzedawaj rzeczy używane i nowe w kategorii Mieszkania na Sprzedajemy.pl\" >\n",
      "<meta property=\"og:title\" content=\"Mieszkania Kraków na sprzedaż, wynajem - Sprzedajemy.pl\" >\n",
      "<meta property=\"og:type\" content=\"website\" >\n",
      "<meta property=\"og:image\" content=\"https://thumbs.img-sprzedajemy.pl/facebook/sprzedajemy.pl.png\" >\n",
      "<meta property=\"og:image:width\" content=\"200\" >\n",
      "<meta property=\"og:image:height\" content=\"200\" >\n",
      "<meta property=\"og:url\" content=\"https://sprzedajemy.pl/krakow/nieruchomosci/mieszkania\" >\n",
      "<meta property=\"og:site_name\" content=\"Sprzedajemy.pl\" >\n",
      "<meta property=\"fb:app_id\" content=\"173258269367442\" >\n",
      "<meta property=\"og:description\" content=\"Ogłoszenia o tematyce:  w kategorii Mieszkania - Kupuj i sprzedawaj rzeczy używane i nowe w kategorii Mieszkania na Sprzedajemy.pl\" >\n",
      "<meta name=\"robots\" content=\"noindex, follow\" >\t\t<script  async=\"async\" src=\"https://static.criteo.net/js/ld/publishertag.js\"></script>\n",
      "        <script  async=\"async\" src=\"https://ap.lijit.com/www/sovrn_beacon_standalone/sovrn_standalone_beacon.js?iid=13417409&amp;uid=sprzedajemy\" id=\"sBeacon\"></script>\n",
      "\t\t<script  async=\"async\" src=\"https://securepuba\n",
      "Titles: ['Mieszkanie z widokiem na góry', 'Wyjątkowe mieszkanie z widokiem na klasztor w Tyńcu i panoramę Tatr', 'Stylowy apartament z widokiem na panoramę Krakowa - od właściciela', 'Nowoczesny apartament z panoramicznym widokiem - od właściciela', 'Kraków, Stare Miasto sprzedaż/zamiana', 'Stylowy lokal na parterze przy Krowoderskiej', '2-pokojowe mieszkanie po remoncie | PROMOCJA | ul Bronowicka', 'Oferta wynajmu mieszkania 35.84m2 2 pokoje Kraków Romanowicza', 'Mieszkanie Kraków 24.3m 1-pokojowe', 'Mieszkanie 51.19m2 Kraków Pękowicka', 'Sprzedaż mieszkania Kraków 68.78m2 3 pokojowe', 'Mieszkanie Kraków Pękowicka 41.41m2 2 pokojowe', 'Mieszkanie Kraków 40.73m2 2 pokoje', 'Mieszkanie Kraków Babińskiego 59.52 metry 3 pokojowe', 'Mieszkanie Kraków Pękowicka 39.66m2 2-pok', 'Mieszkanie 38.53m2 2 pokojowe Kraków', 'Mieszkanie 32.79m2 1 pokój Kraków', 'Ogłoszenie mieszkanie Kraków 31.74m2', 'Mieszkanie 52.04m2 2 pokojowe Kraków Na Błonie', 'Mieszkanie 45.02 metry 2 pokoje Kraków Śliczna', 'Mieszkanie 83.1 metrów 4 pokoje Kraków Wadowicka', 'Mieszkanie do sprzedania 65.46m2 3-pok Kraków Wadowicka', 'Sprzedam mieszkanie Kraków Wadowicka 43.25m2 2 pokojowe', 'Mieszkanie do sprzedania Kraków Babińskiego 32.79m2 1 pokój', 'Mieszkanie Kraków 71.47m2 3 pok', 'Mieszkanie sprzedam 62.46 metrów 3 pokojowe Kraków Wadowicka', 'Mieszkanie Kraków 72.15m2 3 pokojowe', 'Mieszkanie Kraków Wadowicka 62.46m2 5 pokoi', 'Oferta sprzedaży mieszkania 62.1m2 4 pokoje Kraków Pękowicka', 'Mieszkanie 47.43m2 2 pokoje Kraków Wadowicka', 'Mieszkanie 38.76m2 Kraków Pękowicka', 'Mieszkanie 70.88m2 4 pokoje Kraków Wadowicka', 'Mieszkanie 61.82m2 3-pok Kraków Wadowicka', 'Mieszkanie Kraków Babińskiego 59.52m2 3 pokojowe', 'Mieszkanie 62.06m2 3-pokojowe Kraków Wadowicka', 'Mieszkanie do sprzedania Kraków Piasta Kołodzieja 71.45m2 4 pokoje', 'Mieszkanie 73.62m2 Kraków', 'Do sprzedaży mieszkanie 51m2 Kraków Królowej Jadwigi', 'Ogłoszenie mieszkanie 35.05m2 2 pokoje Kraków Kantrowicka', 'Do sprzedaży mieszkanie 62.01m2 4 pokoje Kraków', 'Sprzedam mieszkanie Kraków Dąbrowskiego 41.3m2 2 pokoje', 'Sprzedam mieszkanie Kraków Pękowicka 38.85m2 2 pok', 'Mieszkanie 81.34m2 5 pokoi Kraków Wadowicka', 'Oferta sprzedaży mieszkania Kraków 47.88m2 3-pokojowe', 'Oferta sprzedaży mieszkania 46.8m2 3 pokoje Kraków Modrzewskiego', 'Mieszkanie Kraków 53.81m2 4 pokoje', 'Mieszkanie Kraków 35.05m2', 'Mieszkanie 42.8m2 2-pokojowe Kraków Macieja Słomczyńskiego', 'Do sprzedaży mieszkanie 41.48m Kraków Wadowicka', 'Oferta sprzedaży mieszkania 34.79m2 2 pokojowe Kraków', 'Oferta sprzedaży mieszkania 20.81m2 1 pokojowe Kraków os. Hutnicze', 'Mieszkanie Kraków Wadowicka 62.06m2 3-pokojowe', 'Mieszkanie do sprzedania 70.67m2 4 pokojowe Kraków Wadowicka', 'Mieszkanie do sprzedania 70.67m2 4 pok Kraków', 'Oferta sprzedaży mieszkania Kraków 83.94m2 3 pokojowe', 'Mieszkanie na wynajem Kraków 53.2m2 2 pokojowe', 'Mieszkanie 51.65m2 3 pok Kraków', 'Mieszkanie na sprzedaż 50.39 metrów 2-pok Kraków Babińskiego', 'Ogłoszenie mieszkanie 58 metrów 3 pok Kraków ul. Fatimska', 'Mieszkanie Kraków 38.11m2 2-pok']\n",
      "60\n",
      "Prices: ['265 000 zł', '779 000 zł', '890 000 zł', '997 000 zł', '2 083 000 zł', '1 800 000 zł', '710 000 zł', '3 005 zł', '399 000 zł', '844 635 zł', '1 086 724 zł', '697 758 zł', '692 410 zł', '952 320 zł', '668 271 zł', '653 083 zł', '636 126 zł', '599 886 zł', '871 878 zł', '839 520 zł', '1 279 740 zł', '1 112 820 zł', '787 150 zł', '619 731 zł', '1 177 182 zł', '1 068 066 zł', '1 060 605 zł', '1 093 050 zł', '999 810 zł', '867 969 zł', '655 044 zł', '1 176 608 zł', '1 081 850 zł', '982 080 zł', '1 067 432 zł', '900 270 zł', '1 148 472 zł', '785 000 zł', '462 707 zł', '1 004 562 zł', '813 381 zł', '763 402 zł', '1 203 832 zł', '797 202 zł', '780 000 zł', '871 722 zł', '482 813 zł', '684 000 zł', '759 084 zł', '462 707 zł', '479 000 zł', '1 086 050 zł', '1 201 390 zł', '1 180 189 zł', '1 502 526 zł', '3 300 zł', '847 060 zł', '871 747 zł', '729 000 zł', '776 872 zł']\n",
      "60\n"
     ]
    }
   ],
   "source": [
    "import requests\n",
    "from bs4 import BeautifulSoup\n",
    "import pandas as pd\n",
    "import os\n",
    "\n",
    "url = \"https://sprzedajemy.pl/krakow/nieruchomosci/mieszkania?offset=0&items_per_page=60\"\n",
    "\n",
    "headers = {\n",
    "    \"User-Agent\": \"Mozilla/5.0 (Windows NT 10.0; Win64; x64) AppleWebKit/537.36 (KHTML, like Gecko) Chrome/58.0.3029.110 Safari/537.36\",\n",
    "    \"Accept\": \"text/html,application/xhtml+xml,application/xml;q=0.9,image/webp,image/apng,*/*;q=0.8\",\n",
    "    \"Accept-Encoding\": \"gzip, deflate, br\",\n",
    "    \"Accept-Language\": \"en-US,en;q=0.9,pl;q=0.8\",\n",
    "    \"Connection\": \"keep-alive\"\n",
    "}\n",
    "\n",
    "response = requests.get(url, headers=headers)\n",
    "response = requests.get(url, headers=headers)\n",
    "\n",
    "# Debugowanie odpowiedzi\n",
    "print(f\"Status Code: {response.status_code}\")\n",
    "print(f\"Response Headers: {response.headers}\")\n",
    "print(f\"Response Text (first 2000 chars): {response.text[:2000]}\")\n",
    "\n",
    "# Jeśli odpowiedź jest poprawna, wykonaj webscraping\n",
    "if response.status_code == 200:\n",
    "    soup = BeautifulSoup(response.content, \"html.parser\")\n",
    "\n",
    "    # Pobieranie ofert mieszkań\n",
    "    titles = [h2.a.text.strip() for h2 in soup.find_all(\"h2\", class_=\"title\") if h2.a]\n",
    "    prices = [p.text.replace(\"\\xa0\", \" \").strip() for p in soup.find_all(\"span\", class_=\"price\")]\n",
    "\n",
    "    print(\"Titles:\", titles)\n",
    "    print(len(titles))\n",
    "    print(\"Prices:\", prices)\n",
    "    print(len(prices))\n",
    "\n",
    "    df = pd.DataFrame({\"Title\": titles, \"Price\": prices})\n",
    "\n",
    "    # Dopisanie do pliku CSV\n",
    "    df.to_csv(\"scraped_data.csv\", mode='a', header=not os.path.exists('scraped_data.csv'), index=False)\n",
    "else:\n",
    "    print(\"Failed to retrieve data.\")\n"
   ]
  }
 ],
 "metadata": {
  "colab": {
   "provenance": []
  },
  "kernelspec": {
   "display_name": "Python 3",
   "name": "python3"
  },
  "language_info": {
   "codemirror_mode": {
    "name": "ipython",
    "version": 3
   },
   "file_extension": ".py",
   "mimetype": "text/x-python",
   "name": "python",
   "nbconvert_exporter": "python",
   "pygments_lexer": "ipython3",
   "version": "3.9.23"
  },
  "papermill": {
   "default_parameters": {},
   "duration": 3.841987,
   "end_time": "2025-09-05T14:11:26.807452",
   "environment_variables": {},
   "exception": null,
   "input_path": "nb.ipynb",
   "output_path": "nbo.ipynb",
   "parameters": {},
   "start_time": "2025-09-05T14:11:22.965465",
   "version": "2.6.0"
  }
 },
 "nbformat": 4,
 "nbformat_minor": 5
}