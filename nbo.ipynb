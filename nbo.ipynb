{
 "cells": [
  {
   "cell_type": "code",
   "execution_count": 1,
   "id": "c057fbbd",
   "metadata": {
    "colab": {
     "base_uri": "https://localhost:8080/"
    },
    "execution": {
     "iopub.execute_input": "2025-09-03T21:38:32.430356Z",
     "iopub.status.busy": "2025-09-03T21:38:32.430084Z",
     "iopub.status.idle": "2025-09-03T21:38:34.533780Z",
     "shell.execute_reply": "2025-09-03T21:38:34.533006Z"
    },
    "id": "5pYh4c8j1w43",
    "outputId": "8a0dca73-64e5-4f0d-c493-2c5b38392363",
    "papermill": {
     "duration": 2.10744,
     "end_time": "2025-09-03T21:38:34.535084",
     "exception": false,
     "start_time": "2025-09-03T21:38:32.427644",
     "status": "completed"
    },
    "tags": []
   },
   "outputs": [
    {
     "name": "stdout",
     "output_type": "stream",
     "text": [
      "Status Code: 200\n",
      "Response Headers: {'Server': 'nginx', 'Date': 'Wed, 03 Sep 2025 21:38:34 GMT', 'Content-Type': 'text/html; charset=UTF-8', 'Transfer-Encoding': 'chunked', 'Vary': 'Accept-Encoding, User-Agent', 'Set-Cookie': 'FRSPSID=iq7383s5q2fojjphegltk1nin5; path=/; domain=.sprzedajemy.pl; secure; HttpOnly, _items_per_page__offer_list=60; expires=Fri, 03-Oct-2025 21:38:34 GMT; Max-Age=2592000; path=/; domain=.sprzedajemy.pl; secure; httponly, observed_id=76693542568b8b55a20b8f3138418039803667247; expires=Mon, 03-Sep-2125 22:38:34 GMT; Max-Age=3155677200; path=/; domain=.sprzedajemy.pl; secure; httponly', 'Expires': 'Thu, 19 Nov 1981 08:52:00 GMT', 'Cache-Control': 'no-store, no-cache, must-revalidate, post-check=0, pre-check=0', 'Pragma': 'no-cache', 'Content-Encoding': 'gzip'}\n",
      "Response Text (first 2000 chars): <!DOCTYPE html><html xmlns=\"http://www.w3.org/1999/xhtml\" xml:lang=\"pl\" lang=\"pl\" class=\"no-js\" >\n",
      "<head>\n",
      "\t\t\t<!-- Google Tag Manager -->\n",
      "\t\t\t<script>(function(w,d,s,l,i){w[l]=w[l]||[];w[l].push({'gtm.start':\n",
      "\t\t\t\t\t\tnew Date().getTime(),event:'gtm.js'});var f=d.getElementsByTagName(s)[0],\n",
      "\t\t\t\t\tj=d.createElement(s),dl=l!='dataLayer'?'&l='+l:'';j.async=true;j.src=\n",
      "\t\t\t\t\t'https://www.googletagmanager.com/gtm.js?id='+i+dl\n",
      "\t\t\t\t\t\t\t\t\t    ;f.parentNode.insertBefore(j,f);\n",
      "\t\t\t\t    })(window,document,'script','dataLayer','GTM-P3S238');</script>\n",
      "\t\t\t<!-- End Google Tag Manager -->\n",
      "\t<title>Mieszkania Kraków na sprzedaż, wynajem - Sprzedajemy.pl</title><meta http-equiv=\"Content-Type\" content=\"text/html; charset=UTF-8\" >\n",
      "<meta http-equiv=\"X-UA-Compatible\" content=\"IE=edge\" >\n",
      "<meta name=\"description\" content=\"Ogłoszenia o tematyce:  w kategorii Mieszkania - Kupuj i sprzedawaj rzeczy używane i nowe w kategorii Mieszkania na Sprzedajemy.pl\" >\n",
      "<meta property=\"og:title\" content=\"Mieszkania Kraków na sprzedaż, wynajem - Sprzedajemy.pl\" >\n",
      "<meta property=\"og:type\" content=\"website\" >\n",
      "<meta property=\"og:image\" content=\"https://thumbs.img-sprzedajemy.pl/facebook/sprzedajemy.pl.png\" >\n",
      "<meta property=\"og:image:width\" content=\"200\" >\n",
      "<meta property=\"og:image:height\" content=\"200\" >\n",
      "<meta property=\"og:url\" content=\"https://sprzedajemy.pl/krakow/nieruchomosci/mieszkania\" >\n",
      "<meta property=\"og:site_name\" content=\"Sprzedajemy.pl\" >\n",
      "<meta property=\"fb:app_id\" content=\"173258269367442\" >\n",
      "<meta property=\"og:description\" content=\"Ogłoszenia o tematyce:  w kategorii Mieszkania - Kupuj i sprzedawaj rzeczy używane i nowe w kategorii Mieszkania na Sprzedajemy.pl\" >\n",
      "<meta name=\"robots\" content=\"noindex, follow\" >\t\t<script  async=\"async\" src=\"https://static.criteo.net/js/ld/publishertag.js\"></script>\n",
      "        <script  async=\"async\" src=\"https://ap.lijit.com/www/sovrn_beacon_standalone/sovrn_standalone_beacon.js?iid=13417409&amp;uid=sprzedajemy\" id=\"sBeacon\"></script>\n",
      "\t\t<script  async=\"async\" src=\"https://securepuba\n",
      "Titles: ['Kawalerka z ogródkiem przy Kampusie UJ - komfort, cisza, parking i natura', 'Kraków, Stare Miasto sprzedaż/zamiana', 'Mieszkanie na sprzedaż/zamiana 39m2', 'Stylowy lokal na parterze przy Krowoderskiej', '2-pokojowe mieszkanie po remoncie | PROMOCJA | ul Bronowicka', 'Oferta wynajmu mieszkania 35.84m2 2 pokoje Kraków Romanowicza', 'Mieszkanie Kraków 24.3m 1-pokojowe', 'Oferta wynajmu mieszkania 51.87 metrów 2-pok Kraków', 'Wynajem 3-pokojowych mieszkań | Azory Kraków | Wyremontowane i umeblowane', 'Mieszkanie Kraków Piastów 47.38m2 2 pokoje', 'MIESZKANIE KRAKÓW BIEŃCZYCE', 'Oferta sprzedaży mieszkania 136.9m2 5 pokoi Kraków Reduta', 'Mieszkanie 24 metry 1 pokój Kraków Komandosów', 'Kaucja 1000 zł! 2-pokojowe mieszkanie 53 m², Prądnik Czerwony, Ugorek', 'Mieszkanie Kraków Tadeusza Śliwiaka 81.78m2 4 pokoje', 'Ogłoszenie mieszkanie Kraków Tadeusza Śliwiaka 81.78m2 4 pok', 'Do sprzedaży mieszkanie 46.21m2 2 pok Kraków Bukowa', 'Ogłoszenie mieszkanie 51.67m2 2 pok Kraków', 'Sprzedaż mieszkania 65.57m2 3 pokoje Kraków Tadeusza Śliwiaka', 'Mieszkanie 49.52m2 2-pokojowe Kraków', 'Mieszkanie Kraków 211.89m2 5 pokoi', 'Mieszkanie 50m2 3 pok Kraków Henryka i Karola Czeczów', 'Mieszkanie Kraków os. Kazimierzowskie 24.14m2 1 pokój', 'Oferta sprzedaży mieszkania 33.1m2 2 pokoje Kraków Kombatantów', 'Mieszkanie 61.15m2 3 pokoje Kraków Sebastiana Klonowica', 'Syndyk sprzeda udział 1/6 w spółdzielczym własnościowym prawie do lokalu w…', 'Wprowadź się od zaraz! Wyposażone mieszkanie 39m² na Grzegórzkach', 'Mieszkanie 64m2 3-pokojowe Kraków os. Szkolne', 'Sprzedamy wyjątkowe mieszkanie na urokliwym osiedlu Kliny. :)', 'Mieszkanie 32.02m2 2-pokojowe Lusina Krakowska', 'Mieszkanie wynajmę Kraków Nad Zalewem 110m2 5 pokoi', 'Wynajmę mieszkanie w Krakowie Bronowicach', 'REZERWACJA Bezpośrednio nowe dwupoziomowe 4 pokoje', 'Sprzedamy wyjątkowe mieszkanie na urokliwym osiedlu Kliny. :)', 'Mieszkanie na wynajem 42m2 2 pokoje Kraków', 'Mieszkanie Kraków Karmelicka 57m2', 'Apartament, 2 pokoje, jadalnia, garaż,Krowodrza', 'Ogłoszenie mieszkanie 46m2 2 pokoje Kraków Bukowa', 'Mieszkanie 47.83m2 2 pokoje Kraków', 'Mieszkanie na sprzedaż Kraków Halszki 35 metrów 1 pokój', 'Mieszkanie 103.89m2 3 pokoje Kraków Smocza', 'Mieszkanie z garażem i komórką lokatorską', 'Mieszkanie Kraków 77m2 4 pokojowe', 'Ogłoszenie mieszkanie 64.93 metry 3-pokojowe Kraków Czerwone Maki', 'Sprzedam mieszkanie 42.44m2 2 pok Kraków Odrzańska', 'Ogłoszenie mieszkanie Kraków 61.7m2 3-pok', 'Mieszkanie Kraków Lubomirskiego 33.16m2 2-pokojowe', 'Mieszkanie Kraków Vetulaniego 56.9 metrów 3 pokojowe', 'Ogłoszenie mieszkanie 52.79 metrów 3 pok Kraków Rydlówka', 'Ogłoszenie mieszkanie 37m2 2-pokojowe Kraków Zubrzyckiego', 'Mieszkanie 34.3m2 Kraków Starowiślna', 'Mieszkanie 90m2 3 pokoje Kraków Juliusza Lea', 'Mieszkanie dwupokojowe 52,7m2 na Lipińskiego, Ruczaj-Zaborze Kraków, od wł…', 'Mieszkanie 55.7m2 Kraków Łużycka', 'Mieszkanie Kraków os. Centrum A 46m2 2-pokojowe', 'Mieszkanie sprzedam 36.6m2 2-pok Kraków', 'Ogłoszenie mieszkanie Kraków Zawodzie 74m2 3-pok', 'Mieszkanie 33.12m2 2 pok Kraków', '2pok|44,38m²|kom.lokatorska|piwnica-Os.Wandy', 'Mieszkanie Kraków 52m2 2 pokoje']\n",
      "60\n",
      "Prices: ['2 700 zł', '2 083 000 zł', '526 000 zł', '1 800 000 zł', '710 000 zł', '3 005 zł', '429 000 zł', '2 950 zł', '3 200 zł', '745 000 zł', '2 200 zł', '2 420 000 zł', '2 500 zł', '2 150 zł', '932 862 zł', '924 679 zł', '572 912 zł', '649 000 zł', '746 586 zł', '639 000 zł', '7 416 150 zł', '669 000 zł', '340 000 zł', '525 000 zł', '988 000 zł', '91 800 zł', '749 000 zł', '695 000 zł', '689 000 zł', '600 000 zł', '3 900 zł', '3 000 zł', '4 200 zł', '689 000 zł', '3 200 zł', '4 900 zł', '3 800 zł', '570 524 zł', '885 000 zł', '460 000 zł', '6 300 zł', '2 100 zł', '898 000 zł', '3 000 zł', '590 000 zł', '660 000 zł', '630 000 zł', '1 100 000 zł', '1 050 000 zł', '600 000 zł', '680 000 zł', '6 900 zł', '3 000 zł', '670 000 zł', '650 000 zł', '495 000 zł', '998 000 zł', '795 000 zł', '675 000 zł', '720 000 zł']\n",
      "60\n"
     ]
    }
   ],
   "source": [
    "import requests\n",
    "from bs4 import BeautifulSoup\n",
    "import pandas as pd\n",
    "import os\n",
    "\n",
    "url = \"https://sprzedajemy.pl/krakow/nieruchomosci/mieszkania?offset=0&items_per_page=60\"\n",
    "\n",
    "headers = {\n",
    "    \"User-Agent\": \"Mozilla/5.0 (Windows NT 10.0; Win64; x64) AppleWebKit/537.36 (KHTML, like Gecko) Chrome/58.0.3029.110 Safari/537.36\",\n",
    "    \"Accept\": \"text/html,application/xhtml+xml,application/xml;q=0.9,image/webp,image/apng,*/*;q=0.8\",\n",
    "    \"Accept-Encoding\": \"gzip, deflate, br\",\n",
    "    \"Accept-Language\": \"en-US,en;q=0.9,pl;q=0.8\",\n",
    "    \"Connection\": \"keep-alive\"\n",
    "}\n",
    "\n",
    "response = requests.get(url, headers=headers)\n",
    "response = requests.get(url, headers=headers)\n",
    "\n",
    "# Debugowanie odpowiedzi\n",
    "print(f\"Status Code: {response.status_code}\")\n",
    "print(f\"Response Headers: {response.headers}\")\n",
    "print(f\"Response Text (first 2000 chars): {response.text[:2000]}\")\n",
    "\n",
    "# Jeśli odpowiedź jest poprawna, wykonaj webscraping\n",
    "if response.status_code == 200:\n",
    "    soup = BeautifulSoup(response.content, \"html.parser\")\n",
    "\n",
    "    # Pobieranie ofert mieszkań\n",
    "    titles = [h2.a.text.strip() for h2 in soup.find_all(\"h2\", class_=\"title\") if h2.a]\n",
    "    prices = [p.text.replace(\"\\xa0\", \" \").strip() for p in soup.find_all(\"span\", class_=\"price\")]\n",
    "\n",
    "    print(\"Titles:\", titles)\n",
    "    print(len(titles))\n",
    "    print(\"Prices:\", prices)\n",
    "    print(len(prices))\n",
    "\n",
    "    df = pd.DataFrame({\"Title\": titles, \"Price\": prices})\n",
    "\n",
    "    # Dopisanie do pliku CSV\n",
    "    df.to_csv(\"scraped_data.csv\", mode='a', header=not os.path.exists('scraped_data.csv'), index=False)\n",
    "else:\n",
    "    print(\"Failed to retrieve data.\")\n"
   ]
  }
 ],
 "metadata": {
  "colab": {
   "provenance": []
  },
  "kernelspec": {
   "display_name": "Python 3",
   "name": "python3"
  },
  "language_info": {
   "codemirror_mode": {
    "name": "ipython",
    "version": 3
   },
   "file_extension": ".py",
   "mimetype": "text/x-python",
   "name": "python",
   "nbconvert_exporter": "python",
   "pygments_lexer": "ipython3",
   "version": "3.9.23"
  },
  "papermill": {
   "default_parameters": {},
   "duration": 3.297525,
   "end_time": "2025-09-03T21:38:34.753024",
   "environment_variables": {},
   "exception": null,
   "input_path": "nb.ipynb",
   "output_path": "nbo.ipynb",
   "parameters": {},
   "start_time": "2025-09-03T21:38:31.455499",
   "version": "2.6.0"
  }
 },
 "nbformat": 4,
 "nbformat_minor": 5
}