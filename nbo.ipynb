{
 "cells": [
  {
   "cell_type": "code",
   "execution_count": 1,
   "id": "bc7f62db",
   "metadata": {
    "colab": {
     "base_uri": "https://localhost:8080/"
    },
    "execution": {
     "iopub.execute_input": "2025-08-22T14:00:03.587727Z",
     "iopub.status.busy": "2025-08-22T14:00:03.587454Z",
     "iopub.status.idle": "2025-08-22T14:00:05.746922Z",
     "shell.execute_reply": "2025-08-22T14:00:05.746212Z"
    },
    "id": "5pYh4c8j1w43",
    "outputId": "8a0dca73-64e5-4f0d-c493-2c5b38392363",
    "papermill": {
     "duration": 2.163043,
     "end_time": "2025-08-22T14:00:05.748057",
     "exception": false,
     "start_time": "2025-08-22T14:00:03.585014",
     "status": "completed"
    },
    "tags": []
   },
   "outputs": [
    {
     "name": "stdout",
     "output_type": "stream",
     "text": [
      "Status Code: 200\n",
      "Response Headers: {'Server': 'nginx', 'Date': 'Fri, 22 Aug 2025 14:00:05 GMT', 'Content-Type': 'text/html; charset=UTF-8', 'Transfer-Encoding': 'chunked', 'Vary': 'Accept-Encoding, User-Agent', 'Set-Cookie': 'FRSPSID=a4m82orjntt5dal0m3tmr9cfl5; path=/; domain=.sprzedajemy.pl; secure; HttpOnly, _items_per_page__offer_list=60; expires=Sun, 21-Sep-2025 14:00:05 GMT; Max-Age=2592000; path=/; domain=.sprzedajemy.pl; secure; httponly, observed_id=100168311368a877e557d338120555843340227509; expires=Wed, 22-Aug-2125 15:00:05 GMT; Max-Age=3155677200; path=/; domain=.sprzedajemy.pl; secure; httponly', 'Expires': 'Thu, 19 Nov 1981 08:52:00 GMT', 'Cache-Control': 'no-store, no-cache, must-revalidate, post-check=0, pre-check=0', 'Pragma': 'no-cache', 'Content-Encoding': 'gzip'}\n",
      "Response Text (first 2000 chars): <!DOCTYPE html><html xmlns=\"http://www.w3.org/1999/xhtml\" xml:lang=\"pl\" lang=\"pl\" class=\"no-js\" >\n",
      "<head>\n",
      "\t\t\t<!-- Google Tag Manager -->\n",
      "\t\t\t<script>(function(w,d,s,l,i){w[l]=w[l]||[];w[l].push({'gtm.start':\n",
      "\t\t\t\t\t\tnew Date().getTime(),event:'gtm.js'});var f=d.getElementsByTagName(s)[0],\n",
      "\t\t\t\t\tj=d.createElement(s),dl=l!='dataLayer'?'&l='+l:'';j.async=true;j.src=\n",
      "\t\t\t\t\t'https://www.googletagmanager.com/gtm.js?id='+i+dl\n",
      "\t\t\t\t\t\t\t\t\t    ;f.parentNode.insertBefore(j,f);\n",
      "\t\t\t\t    })(window,document,'script','dataLayer','GTM-P3S238');</script>\n",
      "\t\t\t<!-- End Google Tag Manager -->\n",
      "\t<title>Mieszkania Kraków na sprzedaż, wynajem - Sprzedajemy.pl</title><meta http-equiv=\"Content-Type\" content=\"text/html; charset=UTF-8\" >\n",
      "<meta http-equiv=\"X-UA-Compatible\" content=\"IE=edge\" >\n",
      "<meta name=\"description\" content=\"Ogłoszenia o tematyce:  w kategorii Mieszkania - Kupuj i sprzedawaj rzeczy używane i nowe w kategorii Mieszkania na Sprzedajemy.pl\" >\n",
      "<meta property=\"og:title\" content=\"Mieszkania Kraków na sprzedaż, wynajem - Sprzedajemy.pl\" >\n",
      "<meta property=\"og:type\" content=\"website\" >\n",
      "<meta property=\"og:image\" content=\"https://thumbs.img-sprzedajemy.pl/facebook/sprzedajemy.pl.png\" >\n",
      "<meta property=\"og:image:width\" content=\"200\" >\n",
      "<meta property=\"og:image:height\" content=\"200\" >\n",
      "<meta property=\"og:url\" content=\"https://sprzedajemy.pl/krakow/nieruchomosci/mieszkania\" >\n",
      "<meta property=\"og:site_name\" content=\"Sprzedajemy.pl\" >\n",
      "<meta property=\"fb:app_id\" content=\"173258269367442\" >\n",
      "<meta property=\"og:description\" content=\"Ogłoszenia o tematyce:  w kategorii Mieszkania - Kupuj i sprzedawaj rzeczy używane i nowe w kategorii Mieszkania na Sprzedajemy.pl\" >\n",
      "<meta name=\"robots\" content=\"noindex, follow\" >\t\t<script  async=\"async\" src=\"https://static.criteo.net/js/ld/publishertag.js\"></script>\n",
      "        <script  async=\"async\" src=\"https://ap.lijit.com/www/sovrn_beacon_standalone/sovrn_standalone_beacon.js?iid=13417409&amp;uid=sprzedajemy\" id=\"sBeacon\"></script>\n",
      "\t\t<script  async=\"async\" src=\"https://securepuba\n",
      "Titles: ['2-pokojowe mieszkanie po remoncie | PROMOCJA | ul Bronowicka', '3 niezależne lokale z KW– inwestycja z potencjałem', 'Kawalerka Salwator Centrum POD INWESTYCJE', 'Mieszkanie na sprzedaż/zamiana 39m2', 'Kraków, Stare Miasto sprzedaż/zamiana', 'Mieszkanie 59.85m 3 pokojowe Kraków', 'Mieszkanie 51.34m2 3 pokoje Kraków', 'Mieszkanie Kraków 44.28m2 2-pokojowe', 'Mieszkanie do sprzedania Kraków Babińskiego 32.79m2 1 pokój', 'Mieszkanie Kraków 29 listopada - okolice 35.44m2 2 pokoje', 'Oferta sprzedaży mieszkania Kraków Piasta Kołodzieja 50.23m2 3-pok', 'Mieszkanie Kraków 32m2 2 pokoje', 'Mieszkanie Kraków 66.11m2 3-pok', 'Sprzedaż mieszkania 51.79m2 3-pokojowe Kraków Pękowicka', 'Ogłoszenie mieszkanie Kraków 31.74m2', 'Mieszkanie Kraków Wadowicka 62.06m2 3-pokojowe', 'Mieszkanie Kraków 62.06m2 3 pok', 'Oferta sprzedaży mieszkania 94.61m2 4-pokojowe Kraków', 'Mieszkanie 81.34m2 5 pokoi Kraków Wadowicka', 'Sprzedaż mieszkania 42.3m2 Kraków', 'Do sprzedaży mieszkanie Kraków 44.29m2 2 pok', 'Oferta sprzedaży mieszkania Kraków 83.94m2 3 pokojowe', 'Mieszkanie 65.16m2 4-pokojowe Kraków Kantrowicka', 'Mieszkanie 63.82m2 3 pokojowe Kraków', 'Mieszkanie 47.99m2 3-pokojowe Kraków Pękowicka', 'Do sprzedaży mieszkanie Kraków 65.31m2 4 pokoje', 'Mieszkanie 73.62m2 Kraków', 'Mieszkanie na wynajem Kraków 110m2 4 pokoje', 'Sprzedaż mieszkania 44.29 metrów 2 pok Kraków', 'Sprzedaż mieszkania Kraków 68.78m2 3 pokojowe', 'Oferta sprzedaży mieszkania Kraków 59.85m2 3 pokojowe', 'Mieszkanie Kraków 43.35m2 2 pokoje', 'Do sprzedaży mieszkanie 60.07 metrów 4-pokojowe Kraków', 'Sprzedam mieszkanie Kraków 56.09m2 3 pokoje', 'Mieszkanie 42.8m2 2-pokojowe Kraków Macieja Słomczyńskiego', 'Oferta sprzedaży mieszkania Kraków Myczkowskiego 35.31m2', 'Sprzedam mieszkanie Kraków Lubostroń 36.91m2 2 pokoje', 'Mieszkanie Kraków Pękowicka 39.09m2 2 pokojowe', 'Oferta sprzedaży mieszkania Kraków 47.88m2 3-pokojowe', 'Mieszkanie Kraków 64.74m2 4 pokoje', 'Mieszkanie Kraków Wadowicka 62.46m2 3-pokojowe', 'Mieszkanie Kraków Babińskiego 70.88m2 3 pokoje', 'Oferta sprzedaży mieszkania Kraków Babińskiego 51.53m2 2 pokoje', 'Oferta sprzedaży mieszkania Kraków Olszanicka 151.37m2', 'Mieszkanie 62.06m2 3-pokojowe Kraków Wadowicka', 'Mieszkanie 51.51m2 3-pokojowe Kraków Pękowicka', 'Mieszkanie 41.42m2 2 pokoje Kraków', 'Mieszkanie Kraków Babińskiego 59.52m2 3 pokojowe', 'Sprzedam mieszkanie Kraków Kantrowicka 77.54 metry 5 pokojowe', 'Mieszkanie 51.88m2 3 pokojowe Kraków Pękowicka', 'Mieszkanie do sprzedania Kraków Piasta Kołodzieja 71.45m2 4 pokoje', 'Mieszkanie 38.01m2 Kraków', 'Mieszkanie sprzedam 74.74m2 3 pokoje Kraków', 'Mieszkanie 59.31m2 4 pok Kraków Kantrowicka', 'Mieszkanie Kraków Na Błonie 101.11m2', 'Sprzedam mieszkanie 38.07m2 2 pokoje Kraków Na Błonie', 'Mieszkanie 64.42m2 3 pokojowe Kraków Wadowicka', 'Mieszkanie 38.53m2 2 pokojowe Kraków', 'Mieszkanie Kraków 37.51 metrów 2-pokojowe', 'Mieszkanie 41.13m2 2 pokojowe Kraków Pękowicka']\n",
      "60\n",
      "Prices: ['710 000 zł', '265 000 zł', '428 824 zł', '526 000 zł', '2 083 000 zł', '987 525 zł', '844 543 zł', '677 484 zł', '619 731 zł', '1 024 441 zł', '733 358 zł', '2 600 zł', '1 064 371 zł', '914 093 zł', '599 886 zł', '1 086 050 zł', '1 061 226 zł', '1 386 032 zł', '1 203 832 zł', '706 410 zł', '668 779 zł', '1 502 526 zł', '944 820 zł', '1 128 401 zł', '796 634 zł', '1 051 491 zł', '1 148 472 zł', '8 500 zł', '664 350 zł', '1 086 724 zł', '957 600 zł', '814 980 zł', '970 130 zł', '692 711 zł', '684 000 zł', '640 000 zł', '610 000 zł', '658 666 zł', '797 202 zł', '1 045 551 zł', '1 055 574 zł', '1 169 520 zł', '922 387 zł', '2 138 088 zł', '1 067 432 zł', '844 764 zł', '803 009 zł', '982 080 zł', '883 956 zł', '858 614 zł', '900 270 zł', '655 672 zł', '1 225 736 zł', '704 306 zł', '1 649 710 zł', '759 382 zł', '1 088 698 zł', '653 083 zł', '756 914 zł', '697 153 zł']\n",
      "60\n"
     ]
    }
   ],
   "source": [
    "import requests\n",
    "from bs4 import BeautifulSoup\n",
    "import pandas as pd\n",
    "import os\n",
    "\n",
    "url = \"https://sprzedajemy.pl/krakow/nieruchomosci/mieszkania?offset=0&items_per_page=60\"\n",
    "\n",
    "headers = {\n",
    "    \"User-Agent\": \"Mozilla/5.0 (Windows NT 10.0; Win64; x64) AppleWebKit/537.36 (KHTML, like Gecko) Chrome/58.0.3029.110 Safari/537.36\",\n",
    "    \"Accept\": \"text/html,application/xhtml+xml,application/xml;q=0.9,image/webp,image/apng,*/*;q=0.8\",\n",
    "    \"Accept-Encoding\": \"gzip, deflate, br\",\n",
    "    \"Accept-Language\": \"en-US,en;q=0.9,pl;q=0.8\",\n",
    "    \"Connection\": \"keep-alive\"\n",
    "}\n",
    "\n",
    "response = requests.get(url, headers=headers)\n",
    "response = requests.get(url, headers=headers)\n",
    "\n",
    "# Debugowanie odpowiedzi\n",
    "print(f\"Status Code: {response.status_code}\")\n",
    "print(f\"Response Headers: {response.headers}\")\n",
    "print(f\"Response Text (first 2000 chars): {response.text[:2000]}\")\n",
    "\n",
    "# Jeśli odpowiedź jest poprawna, wykonaj webscraping\n",
    "if response.status_code == 200:\n",
    "    soup = BeautifulSoup(response.content, \"html.parser\")\n",
    "\n",
    "    # Pobieranie ofert mieszkań\n",
    "    titles = [h2.a.text.strip() for h2 in soup.find_all(\"h2\", class_=\"title\") if h2.a]\n",
    "    prices = [p.text.replace(\"\\xa0\", \" \").strip() for p in soup.find_all(\"span\", class_=\"price\")]\n",
    "\n",
    "    print(\"Titles:\", titles)\n",
    "    print(len(titles))\n",
    "    print(\"Prices:\", prices)\n",
    "    print(len(prices))\n",
    "\n",
    "    df = pd.DataFrame({\"Title\": titles, \"Price\": prices})\n",
    "\n",
    "    # Dopisanie do pliku CSV\n",
    "    df.to_csv(\"scraped_data.csv\", mode='a', header=not os.path.exists('scraped_data.csv'), index=False)\n",
    "else:\n",
    "    print(\"Failed to retrieve data.\")\n"
   ]
  }
 ],
 "metadata": {
  "colab": {
   "provenance": []
  },
  "kernelspec": {
   "display_name": "Python 3",
   "name": "python3"
  },
  "language_info": {
   "codemirror_mode": {
    "name": "ipython",
    "version": 3
   },
   "file_extension": ".py",
   "mimetype": "text/x-python",
   "name": "python",
   "nbconvert_exporter": "python",
   "pygments_lexer": "ipython3",
   "version": "3.9.23"
  },
  "papermill": {
   "default_parameters": {},
   "duration": 3.368755,
   "end_time": "2025-08-22T14:00:05.964963",
   "environment_variables": {},
   "exception": null,
   "input_path": "nb.ipynb",
   "output_path": "nbo.ipynb",
   "parameters": {},
   "start_time": "2025-08-22T14:00:02.596208",
   "version": "2.6.0"
  }
 },
 "nbformat": 4,
 "nbformat_minor": 5
}