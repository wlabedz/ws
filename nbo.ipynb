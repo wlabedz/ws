{
 "cells": [
  {
   "cell_type": "code",
   "execution_count": 1,
   "id": "44b80bca",
   "metadata": {
    "colab": {
     "base_uri": "https://localhost:8080/"
    },
    "execution": {
     "iopub.execute_input": "2025-10-17T13:56:42.011988Z",
     "iopub.status.busy": "2025-10-17T13:56:42.011753Z",
     "iopub.status.idle": "2025-10-17T13:56:44.092143Z",
     "shell.execute_reply": "2025-10-17T13:56:44.091387Z"
    },
    "id": "5pYh4c8j1w43",
    "outputId": "8a0dca73-64e5-4f0d-c493-2c5b38392363",
    "papermill": {
     "duration": 2.083757,
     "end_time": "2025-10-17T13:56:44.093188",
     "exception": false,
     "start_time": "2025-10-17T13:56:42.009431",
     "status": "completed"
    },
    "tags": []
   },
   "outputs": [
    {
     "name": "stdout",
     "output_type": "stream",
     "text": [
      "Status Code: 200\n",
      "Response Headers: {'Server': 'nginx', 'Date': 'Fri, 17 Oct 2025 13:56:43 GMT', 'Content-Type': 'text/html; charset=UTF-8', 'Transfer-Encoding': 'chunked', 'Vary': 'Accept-Encoding, User-Agent', 'Set-Cookie': 'FRSPSID=cu52ubrvc3eq4rvp93q3kqn5q5; path=/; domain=.sprzedajemy.pl; secure; HttpOnly, _items_per_page__offer_list=60; expires=Sun, 16-Nov-2025 13:56:43 GMT; Max-Age=2592000; path=/; domain=.sprzedajemy.pl; secure; httponly, observed_id=62110238468f24b1ba8ff4215997056768939343; expires=Wed, 17-Oct-2125 14:56:43 GMT; Max-Age=3155677200; path=/; domain=.sprzedajemy.pl; secure; httponly', 'Expires': 'Thu, 19 Nov 1981 08:52:00 GMT', 'Cache-Control': 'no-store, no-cache, must-revalidate, post-check=0, pre-check=0', 'Pragma': 'no-cache', 'Content-Encoding': 'gzip'}\n",
      "Response Text (first 2000 chars): <!DOCTYPE html><html xmlns=\"http://www.w3.org/1999/xhtml\" xml:lang=\"pl\" lang=\"pl\" class=\"no-js\" >\n",
      "<head>\n",
      "\t\t\t<!-- Google Tag Manager -->\n",
      "\t\t\t<script>(function(w,d,s,l,i){w[l]=w[l]||[];w[l].push({'gtm.start':\n",
      "\t\t\t\t\t\tnew Date().getTime(),event:'gtm.js'});var f=d.getElementsByTagName(s)[0],\n",
      "\t\t\t\t\tj=d.createElement(s),dl=l!='dataLayer'?'&l='+l:'';j.async=true;j.src=\n",
      "\t\t\t\t\t'https://www.googletagmanager.com/gtm.js?id='+i+dl\n",
      "\t\t\t\t\t\t\t\t\t    ;f.parentNode.insertBefore(j,f);\n",
      "\t\t\t\t    })(window,document,'script','dataLayer','GTM-P3S238');</script>\n",
      "\t\t\t<!-- End Google Tag Manager -->\n",
      "\t<title>Mieszkania Kraków na sprzedaż, wynajem - Sprzedajemy.pl</title><meta http-equiv=\"Content-Type\" content=\"text/html; charset=UTF-8\" >\n",
      "<meta http-equiv=\"X-UA-Compatible\" content=\"IE=edge\" >\n",
      "<meta name=\"description\" content=\"Ogłoszenia o tematyce:  w kategorii Mieszkania - Kupuj i sprzedawaj rzeczy używane i nowe w kategorii Mieszkania na Sprzedajemy.pl\" >\n",
      "<meta property=\"og:title\" content=\"Mieszkania Kraków na sprzedaż, wynajem - Sprzedajemy.pl\" >\n",
      "<meta property=\"og:type\" content=\"website\" >\n",
      "<meta property=\"og:image\" content=\"https://thumbs.img-sprzedajemy.pl/facebook/sprzedajemy.pl.png\" >\n",
      "<meta property=\"og:image:width\" content=\"200\" >\n",
      "<meta property=\"og:image:height\" content=\"200\" >\n",
      "<meta property=\"og:url\" content=\"https://sprzedajemy.pl/krakow/nieruchomosci/mieszkania\" >\n",
      "<meta property=\"og:site_name\" content=\"Sprzedajemy.pl\" >\n",
      "<meta property=\"fb:app_id\" content=\"173258269367442\" >\n",
      "<meta property=\"og:description\" content=\"Ogłoszenia o tematyce:  w kategorii Mieszkania - Kupuj i sprzedawaj rzeczy używane i nowe w kategorii Mieszkania na Sprzedajemy.pl\" >\n",
      "<meta name=\"robots\" content=\"noindex, follow\" >\t\t<script  async=\"async\" src=\"https://static.criteo.net/js/ld/publishertag.js\"></script>\n",
      "        <script  async=\"async\" src=\"https://ap.lijit.com/www/sovrn_beacon_standalone/sovrn_standalone_beacon.js?iid=13417409&amp;uid=sprzedajemy\" id=\"sBeacon\"></script>\n",
      "\t\t<script  async=\"async\" src=\"https://securepuba\n",
      "Titles: ['Mieszkanie z widokiem na góry', 'Grzegorzki mieszkanie na sprzedaż 30 m', 'Mieszkanie 3-pokojowe Zakrzówek Ruczaj ul. Pychowicka wynajem od właścicie…', 'Kraków, Stare Miasto sprzedaż/zamiana', 'Mieszkanie Wzgórza Krzesławickie bez prowizji.', 'Piękne 2 pokojowe mieszkanie w Centrum', 'Mieszkanie 35.2m2 2 pokoje Kraków', 'Mieszkanie 20.99m2 1-pokojowe Kraków Kątowa', 'Mieszkanie Kraków 58.09m2 3-pokojowe', 'Mieszkanie Kraków 71.19m2 4-pokojowe', 'Przestronne 3-pokojowe mieszkanie 59m2 z balkonem', 'Mieszkanie 56.89m2 2 pokoje Kraków', 'Mieszkanie Kraków 39m2 2 pok', '3-pokojowe mieszkanie 70m2 z klimatyzacją, 2 balkony - Wiślane Tarasy', 'Mieszkanie Kraków 34.5m2 1-pok', 'Pet Friendly 2-pokojowe mieszkanie z balkonem', 'Przytulne 2-pokojowe mieszkanie z jasnym salonem', '1-pokojowe mieszkanie z balkonem blisko centrum!', 'Kawalerka 27m2 w kamienicy z parkingiem – Prądnik Czerwony, inwestycja', 'DOSTĘPNE JUŻ\\xa04-pokojowe mieszkanie w nowo wybudowanym budynku', 'Mieszkanie 46.45m2 Kraków Okólna', 'Mieszkanie do wynajęcia jednopokojowe 36m', 'Mieszkanie Kraków 46.88m2 2-pokojowe', 'Oferta sprzedaży mieszkania 51.69m2 3-pok Kraków Józefa Łepkowskiego', 'Mieszkanie do wynajęcia 24.53m2 3 pokoje Kraków', 'Sprzedaż mieszkania 47.5m2 3 pokoje Kraków Komandosów', 'Mieszkanie na sprzedaż Kraków 40.5m2 2 pokoje', 'Ogłoszenie mieszkanie Kraków 23.1m2 1 pokój', 'Wynajmę', 'Oferta wynajmu mieszkania Kraków al. Jana Pawła II 46m2 2 pok', 'Apartament 54 m2, Kraków Ruczaj Właściciel', 'Jasne atrakcyjne mieszkanie 45m z tarasem 17m i ogrodem 33m taras parter', 'Wynajmę mieszkanie 30m2 Kraków Czyzyny', 'Mieszkanie Kraków Fabryczna 36.19m2', 'Sprzedam mieszkanie 43.6m2 2 pokoje Kraków', 'Mieszkanie Kraków 36.19m2 2 pokojowe', 'Mieszkanie 26.93m2 1 pok Kraków Fabryczna', 'Wynajem mieszkania 35.74m2 2 pok Kraków Romanowicza', 'Mieszkanie 38.69m2 3 pokoje Kraków Imbramowska', 'Oferta sprzedaży mieszkania Kraków 58.4m2 5 pokoi', 'Oferta wynajmu mieszkania 113m2 3-pokojowe Kraków Krowoderska', 'Pokój do wynajęcia Kurczaba po remoncie', 'Ogłoszenie mieszkanie Kraków 74.25m2 4 pok', 'Mieszkanie 38.52m2 2 pokoje Kraków Zygmunta Glogera', 'Mieszkanie Kraków 57.93m2 3 pokojowe', 'Mieszkanie 38.69 metrów Kraków Imbramowska', 'Mieszkanie Kraków Reduta 120.54m2 4-pokojowe', 'Mieszkanie Kraków Jerzego Szablowskiego 47m2 1-pokojowe', 'Mieszkanie 57.93m2 3-pok Kraków', 'Do sprzedaży mieszkanie Kraków 68.12m2', 'Mieszkanie 54.71m2 3 pokoje Kraków Zygmunta Glogera', 'Mieszkanie 59.23m2 3 pokoje Kraków', 'Oferta sprzedaży mieszkania 59.23m2 3-pokojowe Kraków Zygmunta Glogera', 'Mieszkanie 74.41m 3 pokojowe Kraków', 'Oferta sprzedaży mieszkania 28.93m2 1 pokój Kraków Zygmunta Glogera', 'Mieszkanie Kraków Leona Petrażyckiego 74.74m2 3 pokojowe', 'Do sprzedaży mieszkanie Kraków prof. Michała Bobrzyńskiego 60m2 3 pokoje', 'Oferta sprzedaży mieszkania Kraków 77.01m2 4 pokojowe', 'Mieszkanie Kraków 58m2 3-pokojowe', 'Mieszkanie 48.46m2 3 pokoje Kraków']\n",
      "60\n",
      "Prices: ['265 000 zł', '549 000 zł', '3 000 zł', '2 015 000 zł', '670 000 zł', '759 900 zł', '2 300 zł', '479 000 zł', '1 076 233 zł', '1 460 000 zł', '720 000 zł', '880 000 zł', '764 504 zł', '5 500 zł', '1 900 zł', '3 000 zł', '2 600 zł', '1 990 zł', '369 000 zł', '850 000 zł', '699 000 zł', '2 000 zł', '1 950 zł', '796 026 zł', '1 990 zł', '660 000 zł', '565 000 zł', '1 900 zł', '3 500 zł', '2 900 zł', '3 600 zł', '860 000 zł', '2 300 zł', '542 846 zł', '655 000 zł', '542 846 zł', '412 484 zł', '3 015 zł', '708 772 zł', '890 000 zł', '4 500 zł', '850 zł', '1 134 000 zł', '620 172 zł', '828 399 zł', '827 820 zł', '2 100 000 zł', '2 850 zł', '758 883 zł', '878 748 zł', '809 708 zł', '835 143 zł', '823 297 zł', '1 175 000 zł', '471 559 zł', '890 000 zł', '999 000 zł', '1 370 000 zł', '1 440 000 zł', '770 514 zł']\n",
      "60\n"
     ]
    }
   ],
   "source": [
    "import requests\n",
    "from bs4 import BeautifulSoup\n",
    "import pandas as pd\n",
    "import os\n",
    "\n",
    "url = \"https://sprzedajemy.pl/krakow/nieruchomosci/mieszkania?offset=0&items_per_page=60\"\n",
    "\n",
    "headers = {\n",
    "    \"User-Agent\": \"Mozilla/5.0 (Windows NT 10.0; Win64; x64) AppleWebKit/537.36 (KHTML, like Gecko) Chrome/58.0.3029.110 Safari/537.36\",\n",
    "    \"Accept\": \"text/html,application/xhtml+xml,application/xml;q=0.9,image/webp,image/apng,*/*;q=0.8\",\n",
    "    \"Accept-Encoding\": \"gzip, deflate, br\",\n",
    "    \"Accept-Language\": \"en-US,en;q=0.9,pl;q=0.8\",\n",
    "    \"Connection\": \"keep-alive\"\n",
    "}\n",
    "\n",
    "response = requests.get(url, headers=headers)\n",
    "response = requests.get(url, headers=headers)\n",
    "\n",
    "# Debugowanie odpowiedzi\n",
    "print(f\"Status Code: {response.status_code}\")\n",
    "print(f\"Response Headers: {response.headers}\")\n",
    "print(f\"Response Text (first 2000 chars): {response.text[:2000]}\")\n",
    "\n",
    "# Jeśli odpowiedź jest poprawna, wykonaj webscraping\n",
    "if response.status_code == 200:\n",
    "    soup = BeautifulSoup(response.content, \"html.parser\")\n",
    "\n",
    "    # Pobieranie ofert mieszkań\n",
    "    titles = [h2.a.text.strip() for h2 in soup.find_all(\"h2\", class_=\"title\") if h2.a]\n",
    "    prices = [p.text.replace(\"\\xa0\", \" \").strip() for p in soup.find_all(\"span\", class_=\"price\")]\n",
    "\n",
    "    print(\"Titles:\", titles)\n",
    "    print(len(titles))\n",
    "    print(\"Prices:\", prices)\n",
    "    print(len(prices))\n",
    "\n",
    "    df = pd.DataFrame({\"Title\": titles, \"Price\": prices})\n",
    "\n",
    "    # Dopisanie do pliku CSV\n",
    "    df.to_csv(\"scraped_data.csv\", mode='a', header=not os.path.exists('scraped_data.csv'), index=False)\n",
    "else:\n",
    "    print(\"Failed to retrieve data.\")\n"
   ]
  }
 ],
 "metadata": {
  "colab": {
   "provenance": []
  },
  "kernelspec": {
   "display_name": "Python 3",
   "name": "python3"
  },
  "language_info": {
   "codemirror_mode": {
    "name": "ipython",
    "version": 3
   },
   "file_extension": ".py",
   "mimetype": "text/x-python",
   "name": "python",
   "nbconvert_exporter": "python",
   "pygments_lexer": "ipython3",
   "version": "3.9.23"
  },
  "papermill": {
   "default_parameters": {},
   "duration": 3.236079,
   "end_time": "2025-10-17T13:56:44.311253",
   "environment_variables": {},
   "exception": null,
   "input_path": "nb.ipynb",
   "output_path": "nbo.ipynb",
   "parameters": {},
   "start_time": "2025-10-17T13:56:41.075174",
   "version": "2.6.0"
  }
 },
 "nbformat": 4,
 "nbformat_minor": 5
}