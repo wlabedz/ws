{
 "cells": [
  {
   "cell_type": "code",
   "execution_count": 1,
   "id": "73d45312",
   "metadata": {
    "colab": {
     "base_uri": "https://localhost:8080/"
    },
    "execution": {
     "iopub.execute_input": "2025-10-22T13:11:18.710175Z",
     "iopub.status.busy": "2025-10-22T13:11:18.709954Z",
     "iopub.status.idle": "2025-10-22T13:11:21.595701Z",
     "shell.execute_reply": "2025-10-22T13:11:21.595019Z"
    },
    "id": "5pYh4c8j1w43",
    "outputId": "8a0dca73-64e5-4f0d-c493-2c5b38392363",
    "papermill": {
     "duration": 2.888968,
     "end_time": "2025-10-22T13:11:21.596914",
     "exception": false,
     "start_time": "2025-10-22T13:11:18.707946",
     "status": "completed"
    },
    "tags": []
   },
   "outputs": [
    {
     "name": "stdout",
     "output_type": "stream",
     "text": [
      "Status Code: 200\n",
      "Response Headers: {'Server': 'nginx', 'Date': 'Wed, 22 Oct 2025 13:11:21 GMT', 'Content-Type': 'text/html; charset=UTF-8', 'Transfer-Encoding': 'chunked', 'Vary': 'Accept-Encoding, User-Agent', 'Set-Cookie': 'FRSPSID=kej7us2g3tjdrf4ic5v2cp6mp0; path=/; domain=.sprzedajemy.pl; secure; HttpOnly, _items_per_page__offer_list=60; expires=Fri, 21-Nov-2025 13:11:20 GMT; Max-Age=2592000; path=/; domain=.sprzedajemy.pl; secure; httponly, observed_id=111314658068f8d7f91399a891414646993704443; expires=Mon, 22-Oct-2125 14:11:21 GMT; Max-Age=3155677200; path=/; domain=.sprzedajemy.pl; secure; httponly', 'Expires': 'Thu, 19 Nov 1981 08:52:00 GMT', 'Cache-Control': 'no-store, no-cache, must-revalidate, post-check=0, pre-check=0', 'Pragma': 'no-cache', 'Content-Encoding': 'gzip'}\n",
      "Response Text (first 2000 chars): <!DOCTYPE html><html xmlns=\"http://www.w3.org/1999/xhtml\" xml:lang=\"pl\" lang=\"pl\" class=\"no-js\" >\n",
      "<head>\n",
      "\t\t\t<!-- Google Tag Manager -->\n",
      "\t\t\t<script>(function(w,d,s,l,i){w[l]=w[l]||[];w[l].push({'gtm.start':\n",
      "\t\t\t\t\t\tnew Date().getTime(),event:'gtm.js'});var f=d.getElementsByTagName(s)[0],\n",
      "\t\t\t\t\tj=d.createElement(s),dl=l!='dataLayer'?'&l='+l:'';j.async=true;j.src=\n",
      "\t\t\t\t\t'https://www.googletagmanager.com/gtm.js?id='+i+dl\n",
      "\t\t\t\t\t\t\t\t\t    ;f.parentNode.insertBefore(j,f);\n",
      "\t\t\t\t    })(window,document,'script','dataLayer','GTM-P3S238');</script>\n",
      "\t\t\t<!-- End Google Tag Manager -->\n",
      "\t<title>Mieszkania Kraków na sprzedaż, wynajem - Sprzedajemy.pl</title><meta http-equiv=\"Content-Type\" content=\"text/html; charset=UTF-8\" >\n",
      "<meta http-equiv=\"X-UA-Compatible\" content=\"IE=edge\" >\n",
      "<meta name=\"description\" content=\"Ogłoszenia o tematyce:  w kategorii Mieszkania - Kupuj i sprzedawaj rzeczy używane i nowe w kategorii Mieszkania na Sprzedajemy.pl\" >\n",
      "<meta property=\"og:title\" content=\"Mieszkania Kraków na sprzedaż, wynajem - Sprzedajemy.pl\" >\n",
      "<meta property=\"og:type\" content=\"website\" >\n",
      "<meta property=\"og:image\" content=\"https://thumbs.img-sprzedajemy.pl/facebook/sprzedajemy.pl.png\" >\n",
      "<meta property=\"og:image:width\" content=\"200\" >\n",
      "<meta property=\"og:image:height\" content=\"200\" >\n",
      "<meta property=\"og:url\" content=\"https://sprzedajemy.pl/krakow/nieruchomosci/mieszkania\" >\n",
      "<meta property=\"og:site_name\" content=\"Sprzedajemy.pl\" >\n",
      "<meta property=\"fb:app_id\" content=\"173258269367442\" >\n",
      "<meta property=\"og:description\" content=\"Ogłoszenia o tematyce:  w kategorii Mieszkania - Kupuj i sprzedawaj rzeczy używane i nowe w kategorii Mieszkania na Sprzedajemy.pl\" >\n",
      "<meta name=\"robots\" content=\"noindex, follow\" >\t\t<script  async=\"async\" src=\"https://static.criteo.net/js/ld/publishertag.js\"></script>\n",
      "        <script  async=\"async\" src=\"https://ap.lijit.com/www/sovrn_beacon_standalone/sovrn_standalone_beacon.js?iid=13417409&amp;uid=sprzedajemy\" id=\"sBeacon\"></script>\n",
      "\t\t<script  async=\"async\" src=\"https://securepuba\n",
      "Titles: ['Mieszkanie Wzgórza Krzesławickie bez prowizji.', 'Sprzedam dwupokojowe mieszkanie (balkon, piwnica) os. Dywizjonu 303, 19C K…', 'Mieszkanie 3-pokojowe Zakrzówek Ruczaj ul. Pychowicka wynajem od właścicie…', 'Kraków, Stare Miasto sprzedaż/zamiana', 'Mieszkanie z widokiem na góry', 'Grzegorzki mieszkanie na sprzedaż 30 m', 'Oferta sprzedaży mieszkania 49.2m2 3 pokoje Kraków Borkowska', 'Mieszkanie 64.96m2 3-pokojowe Kraków', 'Mieszkanie 47.32m2 2 pokojowe Kraków Aleja Kijowska', 'Mieszkanie na sprzedaż Kraków Aleja Kijowska 56.4m2 3-pokojowe', 'Mieszkanie do sprzedania Kraków 180m2 4 pokoje', 'Mieszkanie Kraków Piastów 65.07m2 3-pokojowe', 'Mieszkanie 62.2m2 2-pokojowe Kraków Osiedle na Wzgórzach', 'Duży pokój Kraków, J. Mackiewicza - Prądnik Biały', 'Mieszkanie Kraków 45m 2-pok', 'Nowe i GOTOWE | 2-pokojowe |ostatnie piętro | Vetulaniego | 39m2', 'Mieszkanie sprzedam Kraków Jana Kantego Federowicza 28.37m2 1-pokojowe', 'Mieszkanie na wynajem', 'Mieszkanie Os. Avia Kraków, widok na góry', 'Kraków – Bieńczyce, os. Kazimierzowskie', 'Do wynajęcia 1-pokojowe mieszkanie os. Jagiellońskie Kraków Nowa Huta', 'Wynajmę mieszkanie z oddzielną kuchnią przy ul. Sarmackiej', 'Mieszkanie 24.74m2 1 pokój Kraków', 'Mieszkanie 31m2 2 pokoje Kraków', 'Oferta wynajmu mieszkania Kraków 49.42m2 2 pokoje', 'Mieszkanie do sprzedania Kraków Prandoty 98m2', 'Nowoczesne 3-pokojowe mieszkanie 48 m² – Pachońskiego / od zaraz', 'Pet Friendly - mieszkanie do wynajęcia na Czyżynach 30m² od zaraz', '2 POKOJE z klimatem | Dąbska | TAURON Arena | Balkon', 'Mieszkanie 63.5m2 3 pokojowe Kraków', 'Mieszkanie Kraków Odrzańska 49.89m2 3-pok', 'Do wynajęcia mieszkanie 2 pokojowe+balkon Kraków ul. Rusznikarska', 'Mieszkanie Kraków 42.81m2 2-pokojowe', 'Oferta sprzedaży mieszkania 131.4m2 4-pok Kraków', 'Os. Szkolne - dwupokojowe mieszkanie po remoncie', 'Mieszkanie 47m2 Kraków', 'Mieszkanie 57m2 2 pokoje Kraków Radzikowskiego', 'Wynajmę mieszkanie Kraków Armii Krajowej 69m2', 'Wynajmę 2 pokojowe 58m2', 'Oferta sprzedaży mieszkania 36m2 2 pok Kraków Bronowicka', 'Bezpośrednio Jasne 2 pokojowe Mieszkanie Centrum Ogrzewanie Centralne Park…', 'Mieszkanie Kraków 72.9m 4-pokojowe', 'Mieszkanie 28.35m2 1 pokój Kraków Pękowicka', 'Mieszkanie 47m2 2 pokoje Kraków dr. Jana Piltza', 'Bezpośrednio Jasne 2 pokoje Mieszkanie Centrum Ogrzewanie Parking Komunika…', 'Oferta wynajmu mieszkania Kraków 43m2 2 pok', 'Sprzedam mieszkanie Kraków Osiedle na Wzgórzach 57.13m2 3-pokojowe', 'Nowoczesne dwupoziomowe mieszkanie', 'Mieszkanie 23.65m2 Kraków Kobierzyńska', 'Kawalerka do wynajęcia', 'Mieszkanie Kraków 51.84m2 2 pokoje', 'Mieszkanie 55.49 metrów 2 pok Kraków Zakrzowiecka', '12 600zł/m2 w nowym budownictwie - bez prowizji!', 'Mieszkanie 2-pokojowe 44,4 m2 Kraków- Bronowice !', 'Mieszkanie do sprzedania 59.42m2 3 pok Kraków dr. Jana Piltza', 'Mieszkanie 2-pokojowe Z Jasną Kuchnią Kraków-Krowodrza, Umeblowane', 'duże 2-pokojowe mieszkanie Z 2024r - 53m2 z balkonem APARTAMENT', 'Mieszkanie 31m2 2 pok Kraków Kiełkowskiego', 'Oferta wynajmu mieszkania Kraków 34 metry 2 pokoje', 'MIESZKANIE KRAKÓW UL. ŁUŻYCKA 53 PIASKI NOWE']\n",
      "60\n",
      "Prices: ['670 000 zł', '600 000 zł', '3 000 zł', '2 015 000 zł', '265 000 zł', '549 000 zł', '675 000 zł', '730 000 zł', '1 031 528 zł', '1 240 743 zł', '2 800 000 zł', '795 000 zł', '864 000 zł', '1 350 zł', '4 000 zł', '745 000 zł', '498 000 zł', '2 500 zł', '998 000 zł', '579 000 zł', '1 900 zł', '2 200 zł', '449 000 zł', '3 200 zł', '2 700 zł', '1 565 000 zł', '3 500 zł', '2 050 zł', '3 700 zł', '1 140 000 zł', '708 000 zł', '2 500 zł', '729 770 zł', '1 980 000 zł', '580 000 zł', '714 000 zł', '730 000 zł', '4 000 zł', '3 300 zł', '569 000 zł', '849 000 zł', '970 000 zł', '2 200 zł', '2 700 zł', '3 600 zł', '3 100 zł', '670 000 zł', '4 200 zł', '420 000 zł', '1 800 zł', '799 703 zł', '3 200 zł', '630 000 zł', '600 000 zł', '985 000 zł', '2 100 zł', '1 135 000 zł', '3 900 zł', '2 400 zł', '695 000 zł']\n",
      "60\n"
     ]
    }
   ],
   "source": [
    "import requests\n",
    "from bs4 import BeautifulSoup\n",
    "import pandas as pd\n",
    "import os\n",
    "\n",
    "url = \"https://sprzedajemy.pl/krakow/nieruchomosci/mieszkania?offset=0&items_per_page=60\"\n",
    "\n",
    "headers = {\n",
    "    \"User-Agent\": \"Mozilla/5.0 (Windows NT 10.0; Win64; x64) AppleWebKit/537.36 (KHTML, like Gecko) Chrome/58.0.3029.110 Safari/537.36\",\n",
    "    \"Accept\": \"text/html,application/xhtml+xml,application/xml;q=0.9,image/webp,image/apng,*/*;q=0.8\",\n",
    "    \"Accept-Encoding\": \"gzip, deflate, br\",\n",
    "    \"Accept-Language\": \"en-US,en;q=0.9,pl;q=0.8\",\n",
    "    \"Connection\": \"keep-alive\"\n",
    "}\n",
    "\n",
    "response = requests.get(url, headers=headers)\n",
    "response = requests.get(url, headers=headers)\n",
    "\n",
    "# Debugowanie odpowiedzi\n",
    "print(f\"Status Code: {response.status_code}\")\n",
    "print(f\"Response Headers: {response.headers}\")\n",
    "print(f\"Response Text (first 2000 chars): {response.text[:2000]}\")\n",
    "\n",
    "# Jeśli odpowiedź jest poprawna, wykonaj webscraping\n",
    "if response.status_code == 200:\n",
    "    soup = BeautifulSoup(response.content, \"html.parser\")\n",
    "\n",
    "    # Pobieranie ofert mieszkań\n",
    "    titles = [h2.a.text.strip() for h2 in soup.find_all(\"h2\", class_=\"title\") if h2.a]\n",
    "    prices = [p.text.replace(\"\\xa0\", \" \").strip() for p in soup.find_all(\"span\", class_=\"price\")]\n",
    "\n",
    "    print(\"Titles:\", titles)\n",
    "    print(len(titles))\n",
    "    print(\"Prices:\", prices)\n",
    "    print(len(prices))\n",
    "\n",
    "    df = pd.DataFrame({\"Title\": titles, \"Price\": prices})\n",
    "\n",
    "    # Dopisanie do pliku CSV\n",
    "    df.to_csv(\"scraped_data.csv\", mode='a', header=not os.path.exists('scraped_data.csv'), index=False)\n",
    "else:\n",
    "    print(\"Failed to retrieve data.\")\n"
   ]
  }
 ],
 "metadata": {
  "colab": {
   "provenance": []
  },
  "kernelspec": {
   "display_name": "Python 3",
   "name": "python3"
  },
  "language_info": {
   "codemirror_mode": {
    "name": "ipython",
    "version": 3
   },
   "file_extension": ".py",
   "mimetype": "text/x-python",
   "name": "python",
   "nbconvert_exporter": "python",
   "pygments_lexer": "ipython3",
   "version": "3.9.23"
  },
  "papermill": {
   "default_parameters": {},
   "duration": 4.100948,
   "end_time": "2025-10-22T13:11:21.813350",
   "environment_variables": {},
   "exception": null,
   "input_path": "nb.ipynb",
   "output_path": "nbo.ipynb",
   "parameters": {},
   "start_time": "2025-10-22T13:11:17.712402",
   "version": "2.6.0"
  }
 },
 "nbformat": 4,
 "nbformat_minor": 5
}