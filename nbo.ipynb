{
 "cells": [
  {
   "cell_type": "code",
   "execution_count": 1,
   "id": "4d009949",
   "metadata": {
    "colab": {
     "base_uri": "https://localhost:8080/"
    },
    "execution": {
     "iopub.execute_input": "2025-10-31T18:13:29.922008Z",
     "iopub.status.busy": "2025-10-31T18:13:29.921736Z",
     "iopub.status.idle": "2025-10-31T18:13:31.926819Z",
     "shell.execute_reply": "2025-10-31T18:13:31.926050Z"
    },
    "id": "5pYh4c8j1w43",
    "outputId": "8a0dca73-64e5-4f0d-c493-2c5b38392363",
    "papermill": {
     "duration": 2.008562,
     "end_time": "2025-10-31T18:13:31.927925",
     "exception": false,
     "start_time": "2025-10-31T18:13:29.919363",
     "status": "completed"
    },
    "tags": []
   },
   "outputs": [
    {
     "name": "stdout",
     "output_type": "stream",
     "text": [
      "Status Code: 200\n",
      "Response Headers: {'Server': 'nginx', 'Date': 'Fri, 31 Oct 2025 18:13:31 GMT', 'Content-Type': 'text/html; charset=UTF-8', 'Transfer-Encoding': 'chunked', 'Vary': 'Accept-Encoding, User-Agent', 'Set-Cookie': 'FRSPSID=p55059fm3uc777isbbt33vsmh1; path=/; domain=.sprzedajemy.pl; secure; HttpOnly, _items_per_page__offer_list=60; expires=Sun, 30-Nov-2025 18:13:31 GMT; Max-Age=2592000; path=/; domain=.sprzedajemy.pl; secure; httponly, observed_id=3189025856904fc4b7b280853797252641118225; expires=Wed, 31-Oct-2125 18:13:31 GMT; Max-Age=3155673600; path=/; domain=.sprzedajemy.pl; secure; httponly', 'Expires': 'Thu, 19 Nov 1981 08:52:00 GMT', 'Cache-Control': 'no-store, no-cache, must-revalidate, post-check=0, pre-check=0', 'Pragma': 'no-cache', 'Content-Encoding': 'gzip'}\n",
      "Response Text (first 2000 chars): <!DOCTYPE html><html xmlns=\"http://www.w3.org/1999/xhtml\" xml:lang=\"pl\" lang=\"pl\" class=\"no-js\" >\n",
      "<head>\n",
      "\t\t\t<!-- Google Tag Manager -->\n",
      "\t\t\t<script>(function(w,d,s,l,i){w[l]=w[l]||[];w[l].push({'gtm.start':\n",
      "\t\t\t\t\t\tnew Date().getTime(),event:'gtm.js'});var f=d.getElementsByTagName(s)[0],\n",
      "\t\t\t\t\tj=d.createElement(s),dl=l!='dataLayer'?'&l='+l:'';j.async=true;j.src=\n",
      "\t\t\t\t\t'https://www.googletagmanager.com/gtm.js?id='+i+dl\n",
      "\t\t\t\t\t\t\t\t\t    ;f.parentNode.insertBefore(j,f);\n",
      "\t\t\t\t    })(window,document,'script','dataLayer','GTM-P3S238');</script>\n",
      "\t\t\t<!-- End Google Tag Manager -->\n",
      "\t<title>Mieszkania Kraków na sprzedaż, wynajem - Sprzedajemy.pl</title><meta http-equiv=\"Content-Type\" content=\"text/html; charset=UTF-8\" >\n",
      "<meta http-equiv=\"X-UA-Compatible\" content=\"IE=edge\" >\n",
      "<meta name=\"description\" content=\"Ogłoszenia o tematyce:  w kategorii Mieszkania - Kupuj i sprzedawaj rzeczy używane i nowe w kategorii Mieszkania na Sprzedajemy.pl\" >\n",
      "<meta property=\"og:title\" content=\"Mieszkania Kraków na sprzedaż, wynajem - Sprzedajemy.pl\" >\n",
      "<meta property=\"og:type\" content=\"website\" >\n",
      "<meta property=\"og:image\" content=\"https://thumbs.img-sprzedajemy.pl/facebook/sprzedajemy.pl.png\" >\n",
      "<meta property=\"og:image:width\" content=\"200\" >\n",
      "<meta property=\"og:image:height\" content=\"200\" >\n",
      "<meta property=\"og:url\" content=\"https://sprzedajemy.pl/krakow/nieruchomosci/mieszkania\" >\n",
      "<meta property=\"og:site_name\" content=\"Sprzedajemy.pl\" >\n",
      "<meta property=\"fb:app_id\" content=\"173258269367442\" >\n",
      "<meta property=\"og:description\" content=\"Ogłoszenia o tematyce:  w kategorii Mieszkania - Kupuj i sprzedawaj rzeczy używane i nowe w kategorii Mieszkania na Sprzedajemy.pl\" >\n",
      "<meta name=\"robots\" content=\"noindex, follow\" >\t\t<script  async=\"async\" src=\"https://static.criteo.net/js/ld/publishertag.js\"></script>\n",
      "        <script  async=\"async\" src=\"https://ap.lijit.com/www/sovrn_beacon_standalone/sovrn_standalone_beacon.js?iid=13417409&amp;uid=sprzedajemy\" id=\"sBeacon\"></script>\n",
      "\t\t<script  async=\"async\" src=\"https://securepuba\n",
      "Titles: ['PILNE dwupokojowe mieszkanie (balkon, piwnica) os. Dywizjonu 303, 19C Krak…', 'Mieszkanie z widokiem na góry', 'Grzegorzki mieszkanie na sprzedaż 30 m', 'Mieszkanie Kraków 36.76 metrów 2 pokojowe', 'Mieszkanie 33.25m2 1-pok Kraków', 'Mieszkanie sprzedam Kraków Babińskiego 33.89m2 1-pok', 'Mieszkanie 70m2 3-pokojowe Kraków Chełmońskiego', 'Do sprzedaży mieszkanie Kraków Wadowicka 44.08m2 2-pokojowe', 'Sprzedam mieszkanie 64.03m2 4-pokojowe Kraków Pękowicka', 'Mieszkanie 67.69m2 Kraków Pękowicka', 'Mieszkanie 38.17m2 2 pokojowe Kraków', 'Oferta sprzedaży mieszkania Kraków 35.05m2 2 pok', 'Mieszkanie sprzedam 79.28m2 4 pokoje Kraków', 'Ogłoszenie mieszkanie Kraków Pękowicka 51.72 metry 3 pokoje', 'Mieszkanie Kraków 51.89m2 2 pokojowe', 'Mieszkanie do sprzedania 58.27 metrów 2 pokoje Kraków', 'Mieszkanie Kraków Piasta Kołodzieja 50.29 metrów 3 pokojowe', 'Oferta sprzedaży mieszkania 65.05m2 4 pokoje Kraków', 'Mieszkanie Kraków 57.32m2 2 pokoje', 'Mieszkanie do sprzedania 52.08m2 3 pokoje Kraków Pękowicka', 'Oferta sprzedaży mieszkania 72.21 metrów 4 pokojowe Kraków Pękowicka', 'Mieszkanie Kraków 61.13m2 4 pokoje', 'Sprzedam mieszkanie 39.76 metrów 2 pok Kraków Pękowicka', 'Sprzedaż mieszkania 48.5m2 3-pokojowe Kraków', 'Oferta sprzedaży mieszkania Kraków Nałkowskiego 54.26m2 3 pokoje', 'Sprzedaż mieszkania 60.38m2 3-pokojowe Kraków Babińskiego', 'Mieszkanie Kraków Wadowicka 74.74m2 3 pokoje', 'Mieszkanie do sprzedania Kraków 72.4m2 3 pokoje', 'Mieszkanie Kraków Pękowicka 54.95m2 3 pokoje', 'Mieszkanie 49.76 metrów 2 pokojowe Kraków', 'Mieszkanie Kraków 63.83m2 4-pokojowe', 'Ogłoszenie mieszkanie 64.69m2 3-pokojowe Kraków Na Błonie', 'Ogłoszenie mieszkanie Kraków Na Błonie 37.5m2 2 pokoje', 'Mieszkanie 53.68m2 2 pokoje Kraków', 'Mieszkanie 55.08m2 2 pokojowe Kraków Na Błonie', 'Wynajmę mieszkanie Kraków Wojciecha Bogusławskiego 45m2 2-pokojowe', 'Sprzedaż mieszkania 40.09m2 Kraków Pękowicka', 'Mieszkanie Kraków 70.88m2 4 pokojowe', 'Mieszkanie 77.01m2 4 pokoje Kraków Reduta', 'Mieszkanie 37.49 metrów 2 pok Kraków', 'Mieszkanie Kraków 51.54m2 3 pokojowe', 'Mieszkanie Kraków 72.15m2 3 pokojowe', 'Sprzedaż mieszkania 42.08 metrów 2 pokoje Kraków', 'Mieszkanie do sprzedania Kraków Piasta Kołodzieja 44.28m2 2 pokoje', 'Mieszkanie na sprzedaż Kraków 35.8m2 2 pokojowe', 'Sprzedaż mieszkania 51.79m2 3-pokojowe Kraków Pękowicka', 'Mieszkanie Kraków Kantrowicka 59.31m2 4 pokoje', 'Mieszkanie 60.21m2 4-pokojowe Kraków Pękowicka', 'Mieszkanie Kraków 38.1m2 2 pokoje', 'Oferta sprzedaży mieszkania Kraków Pękowicka 40m2 2 pokojowe', 'Ogłoszenie mieszkanie Kraków 39.56 metrów 2-pokojowe', 'Mieszkanie Kraków Piasta Kołodzieja 71.45m2 4-pok', 'Mieszkanie do sprzedania 62.73m2 4 pokoje Kraków Pękowicka', 'Ogłoszenie mieszkanie Kraków 64.65m2 4 pokoje', 'Mieszkanie na sprzedaż 43.57m2 2-pokojowe Kraków Wadowicka', 'Mieszkanie 72.48m2 2 pokoje Kraków Na Błonie', 'Sprzedam mieszkanie Kraków Orzeszkowej 79m2 3-pok', 'Mieszkanie 46.66m2 2-pok Kraków Babińskiego', 'Mieszkanie Kraków Pękowicka 40.37m2 2-pok', 'Mieszkanie 41.42m2 2 pokoje Kraków']\n",
      "60\n",
      "Prices: ['590 000 zł', '265 000 zł', '549 000 zł', '691 817 zł', '611 800 zł', '620 187 zł', '3 900 zł', '806 664 zł', '907 625 zł', '952 736 zł', '721 256 zł', '490 700 zł', '1 308 120 zł', '855 966 zł', '888 591 zł', '664 734 zł', '714 118 zł', '922 083 zł', '878 000 zł', '751 254 zł', '1 010 940 zł', '987 249 zł', '632 184 zł', '759 000 zł', '999 000 zł', '1 080 802 zł', '1 210 788 zł', '1 158 400 zł', '781 663 zł', '699 000 zł', '907 981 zł', '1 104 000 zł', '750 528 zł', '923 296 zł', '941 869 zł', '4 200 zł', '613 377 zł', '1 162 432 zł', '1 370 000 zł', '741 078 zł', '695 790 zł', '1 060 605 zł', '967 840 zł', '673 056 zł', '859 200 zł', '743 186 zł', '704 306 zł', '851 971 zł', '732 032 zł', '639 000 zł', '631 971 zł', '893 125 zł', '892 334 zł', '919 646 zł', '823 473 zł', '1 212 445 zł', '1 450 000 zł', '835 214 zł', '682 253 zł', '738 769 zł']\n",
      "60\n"
     ]
    }
   ],
   "source": [
    "import requests\n",
    "from bs4 import BeautifulSoup\n",
    "import pandas as pd\n",
    "import os\n",
    "\n",
    "url = \"https://sprzedajemy.pl/krakow/nieruchomosci/mieszkania?offset=0&items_per_page=60\"\n",
    "\n",
    "headers = {\n",
    "    \"User-Agent\": \"Mozilla/5.0 (Windows NT 10.0; Win64; x64) AppleWebKit/537.36 (KHTML, like Gecko) Chrome/58.0.3029.110 Safari/537.36\",\n",
    "    \"Accept\": \"text/html,application/xhtml+xml,application/xml;q=0.9,image/webp,image/apng,*/*;q=0.8\",\n",
    "    \"Accept-Encoding\": \"gzip, deflate, br\",\n",
    "    \"Accept-Language\": \"en-US,en;q=0.9,pl;q=0.8\",\n",
    "    \"Connection\": \"keep-alive\"\n",
    "}\n",
    "\n",
    "response = requests.get(url, headers=headers)\n",
    "response = requests.get(url, headers=headers)\n",
    "\n",
    "# Debugowanie odpowiedzi\n",
    "print(f\"Status Code: {response.status_code}\")\n",
    "print(f\"Response Headers: {response.headers}\")\n",
    "print(f\"Response Text (first 2000 chars): {response.text[:2000]}\")\n",
    "\n",
    "# Jeśli odpowiedź jest poprawna, wykonaj webscraping\n",
    "if response.status_code == 200:\n",
    "    soup = BeautifulSoup(response.content, \"html.parser\")\n",
    "\n",
    "    # Pobieranie ofert mieszkań\n",
    "    titles = [h2.a.text.strip() for h2 in soup.find_all(\"h2\", class_=\"title\") if h2.a]\n",
    "    prices = [p.text.replace(\"\\xa0\", \" \").strip() for p in soup.find_all(\"span\", class_=\"price\")]\n",
    "\n",
    "    print(\"Titles:\", titles)\n",
    "    print(len(titles))\n",
    "    print(\"Prices:\", prices)\n",
    "    print(len(prices))\n",
    "\n",
    "    df = pd.DataFrame({\"Title\": titles, \"Price\": prices})\n",
    "\n",
    "    # Dopisanie do pliku CSV\n",
    "    df.to_csv(\"scraped_data.csv\", mode='a', header=not os.path.exists('scraped_data.csv'), index=False)\n",
    "else:\n",
    "    print(\"Failed to retrieve data.\")\n"
   ]
  }
 ],
 "metadata": {
  "colab": {
   "provenance": []
  },
  "kernelspec": {
   "display_name": "Python 3",
   "name": "python3"
  },
  "language_info": {
   "codemirror_mode": {
    "name": "ipython",
    "version": 3
   },
   "file_extension": ".py",
   "mimetype": "text/x-python",
   "name": "python",
   "nbconvert_exporter": "python",
   "pygments_lexer": "ipython3",
   "version": "3.9.24"
  },
  "papermill": {
   "default_parameters": {},
   "duration": 3.264366,
   "end_time": "2025-10-31T18:13:32.144768",
   "environment_variables": {},
   "exception": null,
   "input_path": "nb.ipynb",
   "output_path": "nbo.ipynb",
   "parameters": {},
   "start_time": "2025-10-31T18:13:28.880402",
   "version": "2.6.0"
  }
 },
 "nbformat": 4,
 "nbformat_minor": 5
}