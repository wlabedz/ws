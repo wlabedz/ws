{
 "cells": [
  {
   "cell_type": "code",
   "execution_count": 1,
   "id": "e7721665",
   "metadata": {
    "colab": {
     "base_uri": "https://localhost:8080/"
    },
    "execution": {
     "iopub.execute_input": "2025-05-16T08:46:50.117988Z",
     "iopub.status.busy": "2025-05-16T08:46:50.117513Z",
     "iopub.status.idle": "2025-05-16T08:46:52.491945Z",
     "shell.execute_reply": "2025-05-16T08:46:52.491244Z"
    },
    "id": "5pYh4c8j1w43",
    "outputId": "8a0dca73-64e5-4f0d-c493-2c5b38392363",
    "papermill": {
     "duration": 2.378037,
     "end_time": "2025-05-16T08:46:52.493088",
     "exception": false,
     "start_time": "2025-05-16T08:46:50.115051",
     "status": "completed"
    },
    "tags": []
   },
   "outputs": [
    {
     "name": "stdout",
     "output_type": "stream",
     "text": [
      "Status Code: 200\n",
      "Response Headers: {'Server': 'nginx', 'Date': 'Fri, 16 May 2025 08:46:52 GMT', 'Content-Type': 'text/html; charset=UTF-8', 'Transfer-Encoding': 'chunked', 'Vary': 'Accept-Encoding, User-Agent', 'Set-Cookie': 'FRSPSID=kjlb71c8hmk18o12mh45lr41q7; path=/; domain=.sprzedajemy.pl; secure; HttpOnly, _items_per_page__offer_list=60; expires=Sun, 15-Jun-2025 08:46:51 GMT; Max-Age=2592000; path=/; domain=.sprzedajemy.pl; secure; httponly, observed_id=10659896696826fb7c0dfd27140214322474454136; expires=Wed, 16-May-2125 09:46:52 GMT; Max-Age=3155677200; path=/; domain=.sprzedajemy.pl; secure; httponly', 'Expires': 'Thu, 19 Nov 1981 08:52:00 GMT', 'Cache-Control': 'no-store, no-cache, must-revalidate, post-check=0, pre-check=0', 'Pragma': 'no-cache', 'Content-Encoding': 'gzip'}\n",
      "Response Text (first 2000 chars): <!DOCTYPE html><html xmlns=\"http://www.w3.org/1999/xhtml\" xml:lang=\"pl\" lang=\"pl\" class=\"no-js\" >\n",
      "<head>\n",
      "\t\t\t<!-- Google Tag Manager -->\n",
      "\t\t\t<script>(function(w,d,s,l,i){w[l]=w[l]||[];w[l].push({'gtm.start':\n",
      "\t\t\t\t\t\tnew Date().getTime(),event:'gtm.js'});var f=d.getElementsByTagName(s)[0],\n",
      "\t\t\t\t\tj=d.createElement(s),dl=l!='dataLayer'?'&l='+l:'';j.async=true;j.src=\n",
      "\t\t\t\t\t'https://www.googletagmanager.com/gtm.js?id='+i+dl\n",
      "\t\t\t\t\t\t\t\t\t    ;f.parentNode.insertBefore(j,f);\n",
      "\t\t\t\t    })(window,document,'script','dataLayer','GTM-P3S238');</script>\n",
      "\t\t\t<!-- End Google Tag Manager -->\n",
      "\t<title>Mieszkania Kraków na sprzedaż, wynajem - Sprzedajemy.pl</title><meta http-equiv=\"Content-Type\" content=\"text/html; charset=UTF-8\" >\n",
      "<meta http-equiv=\"X-UA-Compatible\" content=\"IE=edge\" >\n",
      "<meta name=\"description\" content=\"Ogłoszenia o tematyce:  w kategorii Mieszkania - Kupuj i sprzedawaj rzeczy używane i nowe w kategorii Mieszkania na Sprzedajemy.pl\" >\n",
      "<meta property=\"og:title\" content=\"Mieszkania Kraków na sprzedaż, wynajem - Sprzedajemy.pl\" >\n",
      "<meta property=\"og:type\" content=\"website\" >\n",
      "<meta property=\"og:image\" content=\"https://thumbs.img-sprzedajemy.pl/facebook/sprzedajemy.pl.png\" >\n",
      "<meta property=\"og:image:width\" content=\"200\" >\n",
      "<meta property=\"og:image:height\" content=\"200\" >\n",
      "<meta property=\"og:url\" content=\"https://sprzedajemy.pl/krakow/nieruchomosci/mieszkania\" >\n",
      "<meta property=\"og:site_name\" content=\"Sprzedajemy.pl\" >\n",
      "<meta property=\"fb:app_id\" content=\"173258269367442\" >\n",
      "<meta property=\"og:description\" content=\"Ogłoszenia o tematyce:  w kategorii Mieszkania - Kupuj i sprzedawaj rzeczy używane i nowe w kategorii Mieszkania na Sprzedajemy.pl\" >\n",
      "<meta name=\"robots\" content=\"noindex, follow\" >\t\t<script  async=\"async\" src=\"https://static.criteo.net/js/ld/publishertag.js\"></script>\n",
      "        <script  async=\"async\" src=\"https://ap.lijit.com/www/sovrn_beacon_standalone/sovrn_standalone_beacon.js?iid=13417409&amp;uid=sprzedajemy\" id=\"sBeacon\"></script>\n",
      "\t\t<script  async=\"async\" src=\"https://securepuba\n",
      "Titles: ['Kraków, Stare Miasto sprzedaż/zamiana', 'Stylowy apartament z widokiem na panoramę Krakowa - od właściciela', 'Nowoczesny apartament z panoramicznym widokiem - od właściciela', 'Wyjątkowe mieszkanie z widokiem na klasztor w Tyńcu i panoramę Tatr', 'Strych do adaptacji, Błonia, ul. Filarecka', '2 lub 3 pokoje,62m2,balkon, Widok na Wawel', 'Kraków Bronowice Stawowa 168 / 60m2 3 POK/ 22,5 m2 taras/ BEZ POŚREDNIKÓW', 'Syndyk ogłasza konkurs na sprzedaż 1/2 nieruchomości.', 'Mieszkanie Kraków Starowiślna 30.69m2 2 pokoje', 'Mieszkanie 27.42 metry 4-pokojowe Kraków Rydlówka', 'Mieszkanie 27.42m2 3 pokoje Kraków', 'Sprzedam mieszkanie Kraków Rakowicka 77 metrów 3 pok', 'Mieszkanie na sprzedaż 50.15m2 2-pokojowe Kraków', 'Żabiniec Prądnik 30m2 winda balkon klimatyzacja', 'Wynajem mieszkania Kraków 31m2 1 pokojowe', 'Mieszkanie 53.25m2 2 pokojowe Kraków Cieszyńska', 'Oferta sprzedaży mieszkania Kraków 29 listopada - okolice 50.15m2 2 pok', 'Mieszkanie Kraków 119.45m2 4 pokoje', 'Mieszkanie Kraków 56.7m2', 'Mieszkanie na sprzedaż 61.3m2 3 pokoje Kraków 29 listopada - okolice', 'Mieszkanie Kraków Rydlówka 27.42m2 4 pokoje', 'Mieszkanie Kraków 27.42m2 1 pokojowe', 'Mieszkanie 150m2 6 pokoi Kraków Zyblikiewicza', 'Sprzedam kawalerkę TBS z Balkonem - Plac Centralny - Czyżyny', 'Mieszkanie sprzedam 54 metry 3-pok Kraków Kombatantów', 'Mieszkanie Kraków 50.12m2 2 pokojowe', '2 pokojowe mieszkanie z balkonem - bezpośrednio ,bez prowizji', 'Oferta sprzedaży mieszkania 95.88 metrów 4-pokojowe Kraków', 'Mieszkanie na wynajem Prądnik Biały', 'Mieszkanie Kraków 26.7 metrów 1-pokojowe', 'Mieszkanie Kraków 46m2 3 pokoje', 'Mieszkanie Kraków Fredry 52.7m2 2-pokojowe', 'Ogłoszenie mieszkanie Kraków 64.14m2 3-pokojowe', 'Mieszkanie 40.5m2 2 pokojowe Kraków os. Albertyńskie', 'Mieszkanie 46m2 2 pok Kraków', 'Mieszkanie 32.7m2 1 pokój Kraków Sołtysowska', 'Sprzedam mieszkanie Kraków Dywizjonu 303 50.1m2 2-pokojowe', 'Mieszkanie Kraków 55.64m2 3 pok', 'Mieszkanie Kraków Gen. Leopolda Okulickiego 29.96m2 1 pokojowe', 'Mieszkanie 42.51m2 2 pokoje Kraków Filipa - okolice', 'Mieszkanie Kraków Filipa - okolice 39.84m2 2 pokoje', 'Mieszkanie do wynajęcia 26m2 1 pokój Kraków Mazowiecka', 'Oferta sprzedaży mieszkania Kraków Filipa - okolice 57.45m2 2 pokojowe', 'Apartament, 2 pokoje, jadalnia, garaż,Krowodrza', 'Mieszkanie, os. Na Stoku, 3 pokoje+kuchnia+GRATIS', 'Mieszkanie 35m2 Kraków Zygmuntowska', 'Mieszkanie 38.92m2 2-pokojowe Kraków Centralna', 'Mieszkanie Kraków Filipa - okolice 83.43m2 2-pok', 'Sprzedaż mieszkania 65.7m2 3-pokojowe Kraków Montwiłła-Mireckiego', 'Oferta sprzedaży mieszkania Kraków Gustawa Ehrenberga 100m2 3 pokoje', 'Oferta sprzedaży mieszkania 56.7m2 2 pokoje Kraków', 'Mieszkanie przy Galerii Bronowice - Kraków', 'Oferta sprzedaży mieszkania Kraków 70.02m2 3 pokojowe', 'Mieszkanie 59.17m2 3-pokojowe Kraków Bieżanów', 'Oferta sprzedaży mieszkania 63.82m2 3 pokojowe Kraków Bieżanów', 'Mieszkanie 77.27m2 4 pokoje Kraków', 'Wynajmę mieszkanie Kraków Przemysłowa 64m2 2 pokoje', 'Mieszkanie Kraków płk. Francesco Nullo 38.36m2 1 pokojowe', 'Mieszkanie 27.3m2 1 pok Kraków al. Pokoju', 'Mieszkanie Kraków 77.27m2 4 pokojowe']\n",
      "60\n",
      "Prices: ['2 243 000 zł', '897 000 zł', '997 000 zł', '790 000 zł', '379 999 zł', '1 490 000 zł', '1 137 500 zł', '233 500 zł', '769 000 zł', '1 085 575 zł', '1 017 705 zł', '1 399 000 zł', '711 976 zł', '529 000 zł', '2 000 zł', '1 150 000 zł', '733 265 zł', '1 350 000 zł', '850 000 zł', '778 689 zł', '1 003 832 zł', '793 936 zł', '1 950 000 zł', '200 000 zł', '720 000 zł', '744 840 zł', '585 000 zł', '1 109 980 zł', '2 900 zł', '1 850 zł', '660 900 zł', '730 000 zł', '4 000 zł', '660 000 zł', '905 000 zł', '2 000 zł', '699 000 zł', '933 000 zł', '499 000 zł', '1 232 790 zł', '1 155 360 zł', '1 800 zł', '1 723 500 zł', '3 800 zł', '648 000 zł', '2 800 zł', '695 000 zł', '2 586 330 zł', '1 175 000 zł', '1 497 000 zł', '1 159 000 zł', '900 000 zł', '904 797 zł', '763 430 zł', '821 804 zł', '1 355 000 zł', '3 700 zł', '985 000 zł', '615 000 zł', '1 347 675 zł']\n",
      "60\n"
     ]
    }
   ],
   "source": [
    "import requests\n",
    "from bs4 import BeautifulSoup\n",
    "import pandas as pd\n",
    "import os\n",
    "\n",
    "url = \"https://sprzedajemy.pl/krakow/nieruchomosci/mieszkania?offset=0&items_per_page=60\"\n",
    "\n",
    "headers = {\n",
    "    \"User-Agent\": \"Mozilla/5.0 (Windows NT 10.0; Win64; x64) AppleWebKit/537.36 (KHTML, like Gecko) Chrome/58.0.3029.110 Safari/537.36\",\n",
    "    \"Accept\": \"text/html,application/xhtml+xml,application/xml;q=0.9,image/webp,image/apng,*/*;q=0.8\",\n",
    "    \"Accept-Encoding\": \"gzip, deflate, br\",\n",
    "    \"Accept-Language\": \"en-US,en;q=0.9,pl;q=0.8\",\n",
    "    \"Connection\": \"keep-alive\"\n",
    "}\n",
    "\n",
    "response = requests.get(url, headers=headers)\n",
    "response = requests.get(url, headers=headers)\n",
    "\n",
    "# Debugowanie odpowiedzi\n",
    "print(f\"Status Code: {response.status_code}\")\n",
    "print(f\"Response Headers: {response.headers}\")\n",
    "print(f\"Response Text (first 2000 chars): {response.text[:2000]}\")\n",
    "\n",
    "# Jeśli odpowiedź jest poprawna, wykonaj webscraping\n",
    "if response.status_code == 200:\n",
    "    soup = BeautifulSoup(response.content, \"html.parser\")\n",
    "\n",
    "    # Pobieranie ofert mieszkań\n",
    "    titles = [h2.a.text.strip() for h2 in soup.find_all(\"h2\", class_=\"title\") if h2.a]\n",
    "    prices = [p.text.replace(\"\\xa0\", \" \").strip() for p in soup.find_all(\"span\", class_=\"price\")]\n",
    "\n",
    "    print(\"Titles:\", titles)\n",
    "    print(len(titles))\n",
    "    print(\"Prices:\", prices)\n",
    "    print(len(prices))\n",
    "\n",
    "    df = pd.DataFrame({\"Title\": titles, \"Price\": prices})\n",
    "\n",
    "    # Dopisanie do pliku CSV\n",
    "    df.to_csv(\"scraped_data.csv\", mode='a', header=not os.path.exists('scraped_data.csv'), index=False)\n",
    "else:\n",
    "    print(\"Failed to retrieve data.\")\n"
   ]
  }
 ],
 "metadata": {
  "colab": {
   "provenance": []
  },
  "kernelspec": {
   "display_name": "Python 3",
   "name": "python3"
  },
  "language_info": {
   "codemirror_mode": {
    "name": "ipython",
    "version": 3
   },
   "file_extension": ".py",
   "mimetype": "text/x-python",
   "name": "python",
   "nbconvert_exporter": "python",
   "pygments_lexer": "ipython3",
   "version": "3.9.22"
  },
  "papermill": {
   "default_parameters": {},
   "duration": 3.541656,
   "end_time": "2025-05-16T08:46:52.710421",
   "environment_variables": {},
   "exception": null,
   "input_path": "nb.ipynb",
   "output_path": "nbo.ipynb",
   "parameters": {},
   "start_time": "2025-05-16T08:46:49.168765",
   "version": "2.6.0"
  }
 },
 "nbformat": 4,
 "nbformat_minor": 5
}