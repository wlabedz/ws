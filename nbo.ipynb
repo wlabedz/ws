{
 "cells": [
  {
   "cell_type": "code",
   "execution_count": 1,
   "id": "55cd4183",
   "metadata": {
    "colab": {
     "base_uri": "https://localhost:8080/"
    },
    "execution": {
     "iopub.execute_input": "2025-08-22T15:21:11.685910Z",
     "iopub.status.busy": "2025-08-22T15:21:11.685605Z",
     "iopub.status.idle": "2025-08-22T15:21:14.014352Z",
     "shell.execute_reply": "2025-08-22T15:21:14.013707Z"
    },
    "id": "5pYh4c8j1w43",
    "outputId": "8a0dca73-64e5-4f0d-c493-2c5b38392363",
    "papermill": {
     "duration": 2.332569,
     "end_time": "2025-08-22T15:21:14.015525",
     "exception": false,
     "start_time": "2025-08-22T15:21:11.682956",
     "status": "completed"
    },
    "tags": []
   },
   "outputs": [
    {
     "name": "stdout",
     "output_type": "stream",
     "text": [
      "Status Code: 200\n",
      "Response Headers: {'Server': 'nginx', 'Date': 'Fri, 22 Aug 2025 15:21:13 GMT', 'Content-Type': 'text/html; charset=UTF-8', 'Transfer-Encoding': 'chunked', 'Vary': 'Accept-Encoding, User-Agent', 'Set-Cookie': 'FRSPSID=kiuvkrpe8oboa0sdh910lvgig7; path=/; domain=.sprzedajemy.pl; secure; HttpOnly, _items_per_page__offer_list=60; expires=Sun, 21-Sep-2025 15:21:13 GMT; Max-Age=2592000; path=/; domain=.sprzedajemy.pl; secure; httponly, observed_id=41865139568a88ae98c3a9412541614287972014; expires=Wed, 22-Aug-2125 16:21:13 GMT; Max-Age=3155677200; path=/; domain=.sprzedajemy.pl; secure; httponly', 'Expires': 'Thu, 19 Nov 1981 08:52:00 GMT', 'Cache-Control': 'no-store, no-cache, must-revalidate, post-check=0, pre-check=0', 'Pragma': 'no-cache', 'Content-Encoding': 'gzip'}\n",
      "Response Text (first 2000 chars): <!DOCTYPE html><html xmlns=\"http://www.w3.org/1999/xhtml\" xml:lang=\"pl\" lang=\"pl\" class=\"no-js\" >\n",
      "<head>\n",
      "\t\t\t<!-- Google Tag Manager -->\n",
      "\t\t\t<script>(function(w,d,s,l,i){w[l]=w[l]||[];w[l].push({'gtm.start':\n",
      "\t\t\t\t\t\tnew Date().getTime(),event:'gtm.js'});var f=d.getElementsByTagName(s)[0],\n",
      "\t\t\t\t\tj=d.createElement(s),dl=l!='dataLayer'?'&l='+l:'';j.async=true;j.src=\n",
      "\t\t\t\t\t'https://www.googletagmanager.com/gtm.js?id='+i+dl\n",
      "\t\t\t\t\t\t\t\t\t    ;f.parentNode.insertBefore(j,f);\n",
      "\t\t\t\t    })(window,document,'script','dataLayer','GTM-P3S238');</script>\n",
      "\t\t\t<!-- End Google Tag Manager -->\n",
      "\t<title>Mieszkania Kraków na sprzedaż, wynajem - Sprzedajemy.pl</title><meta http-equiv=\"Content-Type\" content=\"text/html; charset=UTF-8\" >\n",
      "<meta http-equiv=\"X-UA-Compatible\" content=\"IE=edge\" >\n",
      "<meta name=\"description\" content=\"Ogłoszenia o tematyce:  w kategorii Mieszkania - Kupuj i sprzedawaj rzeczy używane i nowe w kategorii Mieszkania na Sprzedajemy.pl\" >\n",
      "<meta property=\"og:title\" content=\"Mieszkania Kraków na sprzedaż, wynajem - Sprzedajemy.pl\" >\n",
      "<meta property=\"og:type\" content=\"website\" >\n",
      "<meta property=\"og:image\" content=\"https://thumbs.img-sprzedajemy.pl/facebook/sprzedajemy.pl.png\" >\n",
      "<meta property=\"og:image:width\" content=\"200\" >\n",
      "<meta property=\"og:image:height\" content=\"200\" >\n",
      "<meta property=\"og:url\" content=\"https://sprzedajemy.pl/krakow/nieruchomosci/mieszkania\" >\n",
      "<meta property=\"og:site_name\" content=\"Sprzedajemy.pl\" >\n",
      "<meta property=\"fb:app_id\" content=\"173258269367442\" >\n",
      "<meta property=\"og:description\" content=\"Ogłoszenia o tematyce:  w kategorii Mieszkania - Kupuj i sprzedawaj rzeczy używane i nowe w kategorii Mieszkania na Sprzedajemy.pl\" >\n",
      "<meta name=\"robots\" content=\"noindex, follow\" >\t\t<script  async=\"async\" src=\"https://static.criteo.net/js/ld/publishertag.js\"></script>\n",
      "        <script  async=\"async\" src=\"https://ap.lijit.com/www/sovrn_beacon_standalone/sovrn_standalone_beacon.js?iid=13417409&amp;uid=sprzedajemy\" id=\"sBeacon\"></script>\n",
      "\t\t<script  async=\"async\" src=\"https://securepuba\n"
     ]
    },
    {
     "name": "stdout",
     "output_type": "stream",
     "text": [
      "Titles: ['2-pokojowe mieszkanie po remoncie | PROMOCJA | ul Bronowicka', '3 niezależne lokale z KW– inwestycja z potencjałem', 'Kawalerka Salwator Centrum POD INWESTYCJE', 'Mieszkanie na sprzedaż/zamiana 39m2', 'Kraków, Stare Miasto sprzedaż/zamiana', 'Mieszkanie 63m2 4 pokoje Kraków', 'Mieszkanie sprzedam Kraków Kantrowicka 77.54m2 5 pokoi', 'Oferta sprzedaży mieszkania Kraków 35.79m2 2 pokoje', 'Mieszkanie Kraków 40.61m2 1 pokój', 'Mieszkanie Kraków Wadowicka 43.57m2 2 pokoje', 'Mieszkanie 42.21m2 2-pok Kraków', 'Do sprzedaży mieszkanie 55.81m2 Kraków', 'Mieszkanie sprzedam Kraków Wadowicka 42.61m2 2 pokoje', 'Oferta sprzedaży mieszkania 26.03m2 Kraków Pękowicka', 'Oferta sprzedaży mieszkania Kraków Na Błonie 58.55m2 3 pokoje', 'Mieszkanie Kraków Babińskiego 72.4m2 3-pok', 'Mieszkanie 42.3m2 2-pokojowe Kraków Wadowicka', 'Oferta sprzedaży mieszkania Kraków Pękowicka 38.79m2 2-pokojowe', 'Mieszkanie Kraków Piasta Kołodzieja 50.23m2 3 pokoje', 'Mieszkanie 34.79m2 2-pok Kraków Kantrowicka', 'Ogłoszenie mieszkanie Kraków 64.65m2 4 pokoje', 'Mieszkanie 70.96m2 3 pokoje Kraków Walerego Sławka', 'Oferta sprzedaży mieszkania Kraków Wadowicka 80.83m2 4-pok', 'Mieszkanie Kraków 35.97m2', 'Mieszkanie 64.26m2 3 pokoje Kraków', 'Mieszkanie Kraków 51.04 metry 2 pok', 'Mieszkanie Kraków Kantrowicka 65.16m2 4 pokojowe', 'Mieszkanie 37.91m2 2-pokojowe Kraków Pękowicka', 'Mieszkanie Kraków Wadowicka 44.95 metrów 2 pok', 'Mieszkanie Kraków Pękowicka 40.89m2', 'Oferta sprzedaży mieszkania Kraków 29 listopada - okolice 37.85m2 2 pokoje', 'Mieszkanie Kraków 49.86m2 3-pokojowe', 'Mieszkanie do sprzedania 42.61m2 2 pokoje Kraków Wadowicka', 'Oferta sprzedaży mieszkania 36.21m2 2-pok Kraków', 'Mieszkanie Kraków Wadowicka 51.71m2 2 pokojowe', 'Mieszkanie 94.68m2 4 pokoje Kraków', 'Mieszkanie Kraków 50.95m2 2-pokojowe', 'Mieszkanie Kraków Olszanicka 94.68m2 4 pokoje', 'Oferta sprzedaży mieszkania Kraków 50.3m2 3 pokojowe', 'Sprzedaż mieszkania Kraków Osiedle Jagiellońskie 54.46m2 3 pokoje', 'Mieszkanie Kraków Babińskiego 32.79 metrów 1 pokojowe', 'Mieszkanie 41.16 metrów Kraków', 'Ogłoszenie mieszkanie 65.16m 4-pokojowe Kraków Kantrowicka', 'Ogłoszenie mieszkanie 50 metrów 2 pokoje Kraków Starego Dębu', 'Sprzedam mieszkanie 51.54m2 3 pokoje Kraków', 'Oferta sprzedaży mieszkania Kraków 34m2 1 pok', 'Mieszkanie Kraków Na Błonie 40.56m2 2-pokojowe', 'Mieszkanie Kraków Wadowicka 70.88m 4 pokoje', 'Do sprzedaży mieszkanie Kraków Na Błonie 57.11m2 3-pokojowe', 'Mieszkanie Kraków 37.47 metrów 2 pokojowe', 'Mieszkanie 64.33m2 3 pokojowe Kraków Wadowicka', 'Mieszkanie Kraków Pękowicka 26.92m2 1 pokój', 'Mieszkanie do sprzedania 82.03m2 4-pokojowe Kraków', 'Mieszkanie Kraków 46.03m 2 pokoje', 'Oferta sprzedaży mieszkania 60.92m2 4 pokojowe Kraków Pękowicka', 'Oferta wynajmu mieszkania Kraków Krowoderskich Zuchów 45m2 2 pokojowe', 'Mieszkanie Kraków Wadowicka 83.1m2 4 pok', 'Oferta sprzedaży mieszkania 43.35m2 2 pokojowe Kraków', 'Mieszkanie Kraków 49.63m', 'Mieszkanie 38.19m2 2-pok Kraków Pękowicka']\n",
      "60\n",
      "Prices: ['710 000 zł', '265 000 zł', '428 824 zł', '526 000 zł', '2 083 000 zł', '1 014 300 zł', '883 956 zł', '613 798 zł', '670 065 zł', '797 331 zł', '702 796 zł', '892 960 zł', '807 459 zł', '449 017 zł', '1 107 180 zł', '1 245 280 zł', '765 630 zł', '657 490 zł', '728 335 zł', '495 757 zł', '1 047 330 zł', '1 419 000 zł', '1 188 201 zł', '642 859 zł', '1 111 698 zł', '882 992 zł', '773 775 zł', '657 738 zł', '822 585 zł', '693 085 zł', '646 141 zł', '703 026 zł', '798 937 zł', '615 570 zł', '868 728 zł', '1 387 058 zł', '845 770 zł', '1 387 058 zł', '724 320 zł', '795 000 zł', '636 126 zł', '778 541 zł', '835 677 zł', '850 000 zł', '661 000 zł', '509 000 zł', '762 609 zł', '1 204 960 zł', '1 058 305 zł', '777 315 zł', '984 249 zł', '456 294 zł', '1 350 000 zł', '738 000 zł', '986 904 zł', '3 000 zł', '1 296 360 zł', '788 970 zł', '724 598 zł', '654 958 zł']\n",
      "60\n"
     ]
    }
   ],
   "source": [
    "import requests\n",
    "from bs4 import BeautifulSoup\n",
    "import pandas as pd\n",
    "import os\n",
    "\n",
    "url = \"https://sprzedajemy.pl/krakow/nieruchomosci/mieszkania?offset=0&items_per_page=60\"\n",
    "\n",
    "headers = {\n",
    "    \"User-Agent\": \"Mozilla/5.0 (Windows NT 10.0; Win64; x64) AppleWebKit/537.36 (KHTML, like Gecko) Chrome/58.0.3029.110 Safari/537.36\",\n",
    "    \"Accept\": \"text/html,application/xhtml+xml,application/xml;q=0.9,image/webp,image/apng,*/*;q=0.8\",\n",
    "    \"Accept-Encoding\": \"gzip, deflate, br\",\n",
    "    \"Accept-Language\": \"en-US,en;q=0.9,pl;q=0.8\",\n",
    "    \"Connection\": \"keep-alive\"\n",
    "}\n",
    "\n",
    "response = requests.get(url, headers=headers)\n",
    "response = requests.get(url, headers=headers)\n",
    "\n",
    "# Debugowanie odpowiedzi\n",
    "print(f\"Status Code: {response.status_code}\")\n",
    "print(f\"Response Headers: {response.headers}\")\n",
    "print(f\"Response Text (first 2000 chars): {response.text[:2000]}\")\n",
    "\n",
    "# Jeśli odpowiedź jest poprawna, wykonaj webscraping\n",
    "if response.status_code == 200:\n",
    "    soup = BeautifulSoup(response.content, \"html.parser\")\n",
    "\n",
    "    # Pobieranie ofert mieszkań\n",
    "    titles = [h2.a.text.strip() for h2 in soup.find_all(\"h2\", class_=\"title\") if h2.a]\n",
    "    prices = [p.text.replace(\"\\xa0\", \" \").strip() for p in soup.find_all(\"span\", class_=\"price\")]\n",
    "\n",
    "    print(\"Titles:\", titles)\n",
    "    print(len(titles))\n",
    "    print(\"Prices:\", prices)\n",
    "    print(len(prices))\n",
    "\n",
    "    df = pd.DataFrame({\"Title\": titles, \"Price\": prices})\n",
    "\n",
    "    # Dopisanie do pliku CSV\n",
    "    df.to_csv(\"scraped_data.csv\", mode='a', header=not os.path.exists('scraped_data.csv'), index=False)\n",
    "else:\n",
    "    print(\"Failed to retrieve data.\")\n"
   ]
  }
 ],
 "metadata": {
  "colab": {
   "provenance": []
  },
  "kernelspec": {
   "display_name": "Python 3",
   "name": "python3"
  },
  "language_info": {
   "codemirror_mode": {
    "name": "ipython",
    "version": 3
   },
   "file_extension": ".py",
   "mimetype": "text/x-python",
   "name": "python",
   "nbconvert_exporter": "python",
   "pygments_lexer": "ipython3",
   "version": "3.9.23"
  },
  "papermill": {
   "default_parameters": {},
   "duration": 3.587686,
   "end_time": "2025-08-22T15:21:14.332815",
   "environment_variables": {},
   "exception": null,
   "input_path": "nb.ipynb",
   "output_path": "nbo.ipynb",
   "parameters": {},
   "start_time": "2025-08-22T15:21:10.745129",
   "version": "2.6.0"
  }
 },
 "nbformat": 4,
 "nbformat_minor": 5
}