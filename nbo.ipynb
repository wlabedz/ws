{
 "cells": [
  {
   "cell_type": "code",
   "execution_count": 1,
   "id": "a2c8b902",
   "metadata": {
    "colab": {
     "base_uri": "https://localhost:8080/"
    },
    "execution": {
     "iopub.execute_input": "2025-05-23T07:53:30.074932Z",
     "iopub.status.busy": "2025-05-23T07:53:30.074656Z",
     "iopub.status.idle": "2025-05-23T07:53:32.068439Z",
     "shell.execute_reply": "2025-05-23T07:53:32.067704Z"
    },
    "id": "5pYh4c8j1w43",
    "outputId": "8a0dca73-64e5-4f0d-c493-2c5b38392363",
    "papermill": {
     "duration": 1.998279,
     "end_time": "2025-05-23T07:53:32.069633",
     "exception": false,
     "start_time": "2025-05-23T07:53:30.071354",
     "status": "completed"
    },
    "tags": []
   },
   "outputs": [
    {
     "name": "stdout",
     "output_type": "stream",
     "text": [
      "Status Code: 200\n",
      "Response Headers: {'Server': 'nginx', 'Date': 'Fri, 23 May 2025 07:53:31 GMT', 'Content-Type': 'text/html; charset=UTF-8', 'Transfer-Encoding': 'chunked', 'Vary': 'Accept-Encoding, User-Agent', 'Set-Cookie': 'FRSPSID=v34j31ha7ee7jjig4rlernphl3; path=/; domain=.sprzedajemy.pl; secure; HttpOnly, _items_per_page__offer_list=60; expires=Sun, 22-Jun-2025 07:53:31 GMT; Max-Age=2592000; path=/; domain=.sprzedajemy.pl; secure; httponly, observed_id=11304839966830297b8871f9189288935563256263; expires=Wed, 23-May-2125 08:53:31 GMT; Max-Age=3155677200; path=/; domain=.sprzedajemy.pl; secure; httponly', 'Expires': 'Thu, 19 Nov 1981 08:52:00 GMT', 'Cache-Control': 'no-store, no-cache, must-revalidate, post-check=0, pre-check=0', 'Pragma': 'no-cache', 'Content-Encoding': 'gzip'}\n",
      "Response Text (first 2000 chars): <!DOCTYPE html><html xmlns=\"http://www.w3.org/1999/xhtml\" xml:lang=\"pl\" lang=\"pl\" class=\"no-js\" >\n",
      "<head>\n",
      "\t\t\t<!-- Google Tag Manager -->\n",
      "\t\t\t<script>(function(w,d,s,l,i){w[l]=w[l]||[];w[l].push({'gtm.start':\n",
      "\t\t\t\t\t\tnew Date().getTime(),event:'gtm.js'});var f=d.getElementsByTagName(s)[0],\n",
      "\t\t\t\t\tj=d.createElement(s),dl=l!='dataLayer'?'&l='+l:'';j.async=true;j.src=\n",
      "\t\t\t\t\t'https://www.googletagmanager.com/gtm.js?id='+i+dl\n",
      "\t\t\t\t\t\t\t\t\t    ;f.parentNode.insertBefore(j,f);\n",
      "\t\t\t\t    })(window,document,'script','dataLayer','GTM-P3S238');</script>\n",
      "\t\t\t<!-- End Google Tag Manager -->\n",
      "\t<title>Mieszkania Kraków na sprzedaż, wynajem - Sprzedajemy.pl</title><meta http-equiv=\"Content-Type\" content=\"text/html; charset=UTF-8\" >\n",
      "<meta http-equiv=\"X-UA-Compatible\" content=\"IE=edge\" >\n",
      "<meta name=\"description\" content=\"Ogłoszenia o tematyce:  w kategorii Mieszkania - Kupuj i sprzedawaj rzeczy używane i nowe w kategorii Mieszkania na Sprzedajemy.pl\" >\n",
      "<meta property=\"og:title\" content=\"Mieszkania Kraków na sprzedaż, wynajem - Sprzedajemy.pl\" >\n",
      "<meta property=\"og:type\" content=\"website\" >\n",
      "<meta property=\"og:image\" content=\"https://thumbs.img-sprzedajemy.pl/facebook/sprzedajemy.pl.png\" >\n",
      "<meta property=\"og:image:width\" content=\"200\" >\n",
      "<meta property=\"og:image:height\" content=\"200\" >\n",
      "<meta property=\"og:url\" content=\"https://sprzedajemy.pl/krakow/nieruchomosci/mieszkania\" >\n",
      "<meta property=\"og:site_name\" content=\"Sprzedajemy.pl\" >\n",
      "<meta property=\"fb:app_id\" content=\"173258269367442\" >\n",
      "<meta property=\"og:description\" content=\"Ogłoszenia o tematyce:  w kategorii Mieszkania - Kupuj i sprzedawaj rzeczy używane i nowe w kategorii Mieszkania na Sprzedajemy.pl\" >\n",
      "<meta name=\"robots\" content=\"noindex, follow\" >\t\t<script  async=\"async\" src=\"https://static.criteo.net/js/ld/publishertag.js\"></script>\n",
      "        <script  async=\"async\" src=\"https://ap.lijit.com/www/sovrn_beacon_standalone/sovrn_standalone_beacon.js?iid=13417409&amp;uid=sprzedajemy\" id=\"sBeacon\"></script>\n",
      "\t\t<script  async=\"async\" src=\"https://securepuba\n",
      "Titles: ['Kraków, Stare Miasto sprzedaż/zamiana', 'Stylowy apartament z widokiem na panoramę Krakowa - od właściciela', 'Nowoczesny apartament z panoramicznym widokiem - od właściciela', 'Wyjątkowe mieszkanie z widokiem na klasztor w Tyńcu i panoramę Tatr', 'Mieszkanie na sprzedaż/zamiana 39m2', 'Nowe mieszkanie na sprzedaż 2-pokoje 38,6 m2 | Krowodrza - Kraków', 'Mieszkanie 4-pokoje Kraków - wolne od 1 Lipca 2025 r.', '2 lub 3 pokoje,62m2,balkon, Widok na Wawel', 'Kraków Bronowice Stawowa 168 / 60m2 3 POK/ 22,5 m2 taras/ BEZ POŚREDNIKÓW', 'Strych do adaptacji, Błonia, ul. Filarecka', 'Mieszkanie 34.5m2 2 pok Kraków os. Jagiellońskie', 'Mieszkanie do sprzedania 44.62m2 2-pokojowe Kraków Bieżanów', 'Oferta wynajmu mieszkania Kraków Osiedle Górali 52m2 2 pokojowe', 'Mieszkanie Kraków 63.36m2 3 pokoje', 'Oferta sprzedaży mieszkania Kraków 42.14m 2 pokoje', 'Mieszkanie 35.06m 2 pok Kraków Bieżanów', 'Mieszkanie 41m2 2 pokoje Kraków', 'Mieszkanie Kraków Bieżanów 44.63m2 2 pokojowe', 'Mieszkanie 62.89m2 3 pok Kraków', 'Sprzedam mieszkanie 53.66m2 2 pokojowe Kraków Bieżanów', 'Mieszkanie Kraków Bieżanów 53.66m2 2 pokoje', 'Mieszkanie 53.66m2 2 pokoje Kraków', 'Sprzedam mieszkanie 52.92m2 3-pokojowe Kraków Bieżanów', 'Mieszkanie sprzedam Kraków Bieżanów 31.54m2 2-pok', 'Oferta sprzedaży mieszkania Kraków zabłocie 45.89m2', 'Mieszkanie 45.89m2 2 pokojowe Kraków zabłocie', 'Oferta sprzedaży mieszkania 53.57 metrów 2 pokoje Kraków Bieżanów', 'Mieszkanie 39.15m2 Kraków Bunscha', 'Mieszkanie 72m2 3 pokoje Kraków', 'Mieszkanie 46.6m2 2 pokoje Kraków', 'Oferta sprzedaży mieszkania Kraków 31.51m2 2 pok', 'Mieszkanie Kraków 41.96m2 2-pok', 'Mieszkanie Kraków Podskale 34.5m2', 'Sprzedam mieszkanie 43m2 2 pokojowe Kraków Bartla', 'Sprzedam mieszkanie 65.16m2 3 pokoje Kraków Zyblikiewicza', 'Mieszkanie 43.75m2 2-pokojowe Kraków Bunscha', 'Mieszkanie Kraków Bunscha 52.06m2 2 pokoje', 'Mieszkanie Kraków Bunscha 58.7m2', 'Mieszkanie 33.74m2 1 pokojowe Kraków', 'Mieszkanie Kraków Kuźnicy Kołłątajowskiej 31.3 metry 1 pokój', 'Ogłoszenie mieszkanie 98m2 4 pokoje Kraków Prandoty', 'Mieszkanie 52.24m2 2 pokojowe Kraków Bunscha', 'Mieszkanie 80.2m2 Kraków Józefa Friedleina', 'Dom modułowy prefabrykowany Dubai Prestige', 'Mieszkanie Kraków Bunscha 41.07m2 2 pok', 'Mieszkanie 39.09m2 2-pokojowe Kraków', 'Oferta sprzedaży mieszkania Kraków Bunscha 51.9m2', 'Mieszkanie 52.12m2 2 pokoje Kraków Bunscha', 'Mieszkanie Kraków 51.84m2 2 pokoje', 'Oferta sprzedaży mieszkania Kraków Laskowa 135m2 4 pokoje', 'Mieszkanie Kraków Bunscha 41.97m2 2 pokoje', 'Oferta sprzedaży mieszkania Kraków Podeworze 45m2 2-pok', 'Mieszkanie Kraków Bunscha 51.72 metry 2-pok', 'Mieszkanie 43.45m2 2-pok Kraków Bunscha', 'Mieszkanie Kraków 40.12m2 2 pok', 'Sprzedaż mieszkania 52.27m2 2 pokoje Kraków', 'Mieszkanie Kraków 52.37m2 2-pok', 'Sprzedaż mieszkania 52.2m2 2 pokoje Kraków Bunscha', 'Mieszkanie Kraków 52.35m2 2 pokojowe', 'Oferta sprzedaży mieszkania Kraków Bunscha 43.33m2 2 pokojowe']\n",
      "60\n",
      "Prices: ['2 243 000 zł', '897 000 zł', '997 000 zł', '790 000 zł', '548 000 zł', '799 000 zł', '4 800 zł', '1 490 000 zł', '1 137 500 zł', '379 999 zł', '570 000 zł', '624 680 zł', '2 500 zł', '887 040 zł', '611 030 zł', '518 888 zł', '509 000 zł', '624 820 zł', '817 570 zł', '723 870 zł', '697 580 zł', '697 060 zł', '687 960 zł', '482 562 zł', '860 064 zł', '871 568 zł', '696 410 zł', '652 904 zł', '3 700 zł', '2 500 zł', '482 103 zł', '697 626 zł', '768 000 zł', '669 000 zł', '1 449 000 zł', '720 654 zł', '798 384 zł', '907 091 zł', '545 802 zł', '2 100 zł', '1 959 000 zł', '798 552 zł', '1 545 000 zł', '580 000 zł', '682 829 zł', '651 903 zł', '777 338 zł', '788 983 zł', '799 703 zł', '834 000 zł', '691 371 zł', '600 000 zł', '822 459 zł', '729 047 zł', '666 902 zł', '807 728 zł', '792 767 zł', '782 447 zł', '808 964 zł', '692 316 zł']\n",
      "60\n"
     ]
    }
   ],
   "source": [
    "import requests\n",
    "from bs4 import BeautifulSoup\n",
    "import pandas as pd\n",
    "import os\n",
    "\n",
    "url = \"https://sprzedajemy.pl/krakow/nieruchomosci/mieszkania?offset=0&items_per_page=60\"\n",
    "\n",
    "headers = {\n",
    "    \"User-Agent\": \"Mozilla/5.0 (Windows NT 10.0; Win64; x64) AppleWebKit/537.36 (KHTML, like Gecko) Chrome/58.0.3029.110 Safari/537.36\",\n",
    "    \"Accept\": \"text/html,application/xhtml+xml,application/xml;q=0.9,image/webp,image/apng,*/*;q=0.8\",\n",
    "    \"Accept-Encoding\": \"gzip, deflate, br\",\n",
    "    \"Accept-Language\": \"en-US,en;q=0.9,pl;q=0.8\",\n",
    "    \"Connection\": \"keep-alive\"\n",
    "}\n",
    "\n",
    "response = requests.get(url, headers=headers)\n",
    "response = requests.get(url, headers=headers)\n",
    "\n",
    "# Debugowanie odpowiedzi\n",
    "print(f\"Status Code: {response.status_code}\")\n",
    "print(f\"Response Headers: {response.headers}\")\n",
    "print(f\"Response Text (first 2000 chars): {response.text[:2000]}\")\n",
    "\n",
    "# Jeśli odpowiedź jest poprawna, wykonaj webscraping\n",
    "if response.status_code == 200:\n",
    "    soup = BeautifulSoup(response.content, \"html.parser\")\n",
    "\n",
    "    # Pobieranie ofert mieszkań\n",
    "    titles = [h2.a.text.strip() for h2 in soup.find_all(\"h2\", class_=\"title\") if h2.a]\n",
    "    prices = [p.text.replace(\"\\xa0\", \" \").strip() for p in soup.find_all(\"span\", class_=\"price\")]\n",
    "\n",
    "    print(\"Titles:\", titles)\n",
    "    print(len(titles))\n",
    "    print(\"Prices:\", prices)\n",
    "    print(len(prices))\n",
    "\n",
    "    df = pd.DataFrame({\"Title\": titles, \"Price\": prices})\n",
    "\n",
    "    # Dopisanie do pliku CSV\n",
    "    df.to_csv(\"scraped_data.csv\", mode='a', header=not os.path.exists('scraped_data.csv'), index=False)\n",
    "else:\n",
    "    print(\"Failed to retrieve data.\")\n"
   ]
  }
 ],
 "metadata": {
  "colab": {
   "provenance": []
  },
  "kernelspec": {
   "display_name": "Python 3",
   "name": "python3"
  },
  "language_info": {
   "codemirror_mode": {
    "name": "ipython",
    "version": 3
   },
   "file_extension": ".py",
   "mimetype": "text/x-python",
   "name": "python",
   "nbconvert_exporter": "python",
   "pygments_lexer": "ipython3",
   "version": "3.9.22"
  },
  "papermill": {
   "default_parameters": {},
   "duration": 3.088906,
   "end_time": "2025-05-23T07:53:32.286350",
   "environment_variables": {},
   "exception": null,
   "input_path": "nb.ipynb",
   "output_path": "nbo.ipynb",
   "parameters": {},
   "start_time": "2025-05-23T07:53:29.197444",
   "version": "2.6.0"
  }
 },
 "nbformat": 4,
 "nbformat_minor": 5
}