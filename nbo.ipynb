{
 "cells": [
  {
   "cell_type": "code",
   "execution_count": 1,
   "id": "d660556c",
   "metadata": {
    "colab": {
     "base_uri": "https://localhost:8080/"
    },
    "execution": {
     "iopub.execute_input": "2025-07-30T19:30:58.541871Z",
     "iopub.status.busy": "2025-07-30T19:30:58.541601Z",
     "iopub.status.idle": "2025-07-30T19:31:00.664530Z",
     "shell.execute_reply": "2025-07-30T19:31:00.663789Z"
    },
    "id": "5pYh4c8j1w43",
    "outputId": "8a0dca73-64e5-4f0d-c493-2c5b38392363",
    "papermill": {
     "duration": 2.126368,
     "end_time": "2025-07-30T19:31:00.665651",
     "exception": false,
     "start_time": "2025-07-30T19:30:58.539283",
     "status": "completed"
    },
    "tags": []
   },
   "outputs": [
    {
     "name": "stdout",
     "output_type": "stream",
     "text": [
      "Status Code: 200\n",
      "Response Headers: {'Server': 'nginx', 'Date': 'Wed, 30 Jul 2025 19:31:00 GMT', 'Content-Type': 'text/html; charset=UTF-8', 'Transfer-Encoding': 'chunked', 'Vary': 'Accept-Encoding, User-Agent', 'Set-Cookie': 'FRSPSID=6k33pnc89ddg2a2ffnuc9835s4; path=/; domain=.sprzedajemy.pl; secure; HttpOnly, _items_per_page__offer_list=60; expires=Fri, 29-Aug-2025 19:31:00 GMT; Max-Age=2592000; path=/; domain=.sprzedajemy.pl; secure; httponly, observed_id=2136934794688a72f43d62d5122812467065760599; expires=Mon, 30-Jul-2125 20:31:00 GMT; Max-Age=3155677200; path=/; domain=.sprzedajemy.pl; secure; httponly', 'Expires': 'Thu, 19 Nov 1981 08:52:00 GMT', 'Cache-Control': 'no-store, no-cache, must-revalidate, post-check=0, pre-check=0', 'Pragma': 'no-cache', 'Content-Encoding': 'gzip'}\n",
      "Response Text (first 2000 chars): <!DOCTYPE html><html xmlns=\"http://www.w3.org/1999/xhtml\" xml:lang=\"pl\" lang=\"pl\" class=\"no-js\" >\n",
      "<head>\n",
      "\t\t\t<!-- Google Tag Manager -->\n",
      "\t\t\t<script>(function(w,d,s,l,i){w[l]=w[l]||[];w[l].push({'gtm.start':\n",
      "\t\t\t\t\t\tnew Date().getTime(),event:'gtm.js'});var f=d.getElementsByTagName(s)[0],\n",
      "\t\t\t\t\tj=d.createElement(s),dl=l!='dataLayer'?'&l='+l:'';j.async=true;j.src=\n",
      "\t\t\t\t\t'https://www.googletagmanager.com/gtm.js?id='+i+dl\n",
      "\t\t\t\t\t\t\t\t\t    ;f.parentNode.insertBefore(j,f);\n",
      "\t\t\t\t    })(window,document,'script','dataLayer','GTM-P3S238');</script>\n",
      "\t\t\t<!-- End Google Tag Manager -->\n",
      "\t<title>Mieszkania Kraków na sprzedaż, wynajem - Sprzedajemy.pl</title><meta http-equiv=\"Content-Type\" content=\"text/html; charset=UTF-8\" >\n",
      "<meta http-equiv=\"X-UA-Compatible\" content=\"IE=edge\" >\n",
      "<meta name=\"description\" content=\"Ogłoszenia o tematyce:  w kategorii Mieszkania - Kupuj i sprzedawaj rzeczy używane i nowe w kategorii Mieszkania na Sprzedajemy.pl\" >\n",
      "<meta property=\"og:title\" content=\"Mieszkania Kraków na sprzedaż, wynajem - Sprzedajemy.pl\" >\n",
      "<meta property=\"og:type\" content=\"website\" >\n",
      "<meta property=\"og:image\" content=\"https://thumbs.img-sprzedajemy.pl/facebook/sprzedajemy.pl.png\" >\n",
      "<meta property=\"og:image:width\" content=\"200\" >\n",
      "<meta property=\"og:image:height\" content=\"200\" >\n",
      "<meta property=\"og:url\" content=\"https://sprzedajemy.pl/krakow/nieruchomosci/mieszkania\" >\n",
      "<meta property=\"og:site_name\" content=\"Sprzedajemy.pl\" >\n",
      "<meta property=\"fb:app_id\" content=\"173258269367442\" >\n",
      "<meta property=\"og:description\" content=\"Ogłoszenia o tematyce:  w kategorii Mieszkania - Kupuj i sprzedawaj rzeczy używane i nowe w kategorii Mieszkania na Sprzedajemy.pl\" >\n",
      "<meta name=\"robots\" content=\"noindex, follow\" >\t\t<script  async=\"async\" src=\"https://static.criteo.net/js/ld/publishertag.js\"></script>\n",
      "        <script  async=\"async\" src=\"https://ap.lijit.com/www/sovrn_beacon_standalone/sovrn_standalone_beacon.js?iid=13417409&amp;uid=sprzedajemy\" id=\"sBeacon\"></script>\n",
      "\t\t<script  async=\"async\" src=\"https://securepuba\n",
      "Titles: ['4pokoje 68m2 balkon KLIMA Śródmieście BEZ PROWIZJI od właściciela', 'Mieszkanie 3-pokojowe. Duży balkon. Dobra komunikacja, Od właściciela', 'Dom - Kraków Tonie - Zielona okolica - 123 m2 | 5 - pok. | Ogród | Taras |…', 'Nowoczesny apartament z panoramicznym widokiem - od właściciela', 'Wyjątkowe mieszkanie z widokiem na klasztor w Tyńcu i panoramę Tatr', 'Stylowy apartament z widokiem na panoramę Krakowa - od właściciela', 'Kraków, Stare Miasto sprzedaż/zamiana', 'Mieszkanie na sprzedaż/zamiana 39m2', 'Mieszkanie Wola Justowska /Bielany 36m2', '2-pokojowe mieszkanie na Zabłociu – ciche, świetna lokalizacja! [Wirtualny…', 'Sprzedam mieszkanie w systemie TBS', 'Mieszkanie do sprzedania 43.6m2 2 pokoje Kraków Ściegiennego', 'Mieszkanie 45m2 2-pokojowe Kraków', 'Mieszkanie przy ul. Sołtysowskiej, 2 pokoje 42 m2', 'Mieszkanie 48.5m2 2 pokojowe Kraków Szuwarowa', '3 pokojowe mieszkanie św.Jana', 'Mieszkanie 80m 4 pokoje Kraków', 'Mieszkanie Kraków 46.8m2 3-pok', 'Sprzedam mieszkanie Kraków 52m2 2-pokojowe', 'Mieszkanie Kraków 38.53 metry 2 pokojowe', 'Mieszkanie 55.7m2 3-pok Kraków Łużycka', 'Bieńczyce. 3-pok.+ kuchnia+ loggia + piwnica. II p', 'Mieszkanie 46.23m2 2 pokoje Kraków Jana Kantego Federowicza', '2 pokoje kuchnia. Blok pośród drzew. Parking', 'Sprzedam mieszkanie po remoncie na os. Hutniczym', 'Czyżyny, Os. Dywizjony 303, ustawne z balkonem', 'Mieszkanie sprzedam Kraków 58.69m2 3 pok', 'Mieszkanie 23m2 1 pokój Kraków', 'Mieszkanie 46m2 2 pokoje Kraków os. Górali', 'Oferta sprzedaży mieszkania Kraków os. Złotego Wieku 49m2 3 pok', 'Oferta sprzedaży mieszkania 49m2 3-pokojowe Kraków', 'Mieszkanie Kraków 48m2', 'Mieszkanie Kraków 70.6m2 3 pokoje', 'Mieszkanie 59.17m2 3-pokojowe Kraków Bieżanów', '3-pokojowe mieszkanie z ogrodem , Zwierzyniec', 'Oferta sprzedaży mieszkania Kraków 42.14m 2 pokoje', '24 m2 | os. Kalinowe | po remoncie | bez pośredników', 'Mieszkanie do wynajęcia jednopokojowe 36m', 'Mieszkanie Kraków Słomiana 38m2 2 pokoje', 'Klimatyczne 2 pokoje, 70 m2 w pobliżu Bronowice', 'Centrum Krakowa - 3 oddzielne pokoje / biura - po generalnym remoncie', 'Sprzedam mieszkanie 3 pokojowe w Krakowie-Podgórzu', 'Oferta sprzedaży mieszkania Kraków 70.19m2 3 pokojowe', 'Mieszkanie Kraków Lechicka 90m2 3 pok', 'Mieszkanie 38 metrów kwadratowych sprzedam bezpośrednio', 'Mieszkanie 25m2 1 pokój Kraków', 'Piękne mieszkanie |2 pokoje + kuchnia| DO WEJŚCIA', 'Mieszkanie Kraków 43m2 2 pokojowe', 'Oferta wynajmu mieszkania 45.74m2 3-pok Kraków Zygmunta Glogera', 'Krowodrza Górka - dwupokoje mieszkanie z ogródkiem', 'Mieszkanie do sprzedania Kraków Prandoty 98m2', 'Mieszkanie 47m2 Kraków', 'Mieszkanie 63.5m2 3 pokojowe Kraków', 'Oferta sprzedaży mieszkania 131.4m2 4-pok Kraków', 'Oferta wynajmu mieszkania 70m2 3 pokojowe Kraków Dąbska', 'Mieszkanie Kraków Macieja Dębskiego 40m2 2-pokojowe', 'Mieszkanie wynajmę Kraków 36.34m2 2 pokoje', 'Mieszkanie 36.34m2 2 pok Kraków Romanowicza', '55m², 3-pokojowe, w bloku na Starym Mieście, Kraków, ul. Wielopole', 'Mieszkanie Kraków Lubomirskiego 45m2 2-pokojowe']\n",
      "60\n",
      "Prices: ['1 850 000 zł', '3 500 zł', '2 275 000 zł', '997 000 zł', '779 000 zł', '897 000 zł', '2 153 000 zł', '526 000 zł', '487 000 zł', '499 000 zł', '180 000 zł', '565 000 zł', '1 150 000 zł', '690 000 zł', '2 900 zł', '3 700 zł', '1 120 000 zł', '695 000 zł', '750 000 zł', '669 900 zł', '668 000 zł', '673 000 zł', '779 000 zł', '660 000 zł', '595 000 zł', '499 000 zł', '789 000 zł', '398 000 zł', '529 000 zł', '590 000 zł', '640 000 zł', '572 000 zł', '2 700 zł', '780 000 zł', '1 280 000 zł', '611 030 zł', '429 000 zł', '2 000 zł', '599 000 zł', '2 700 zł', '1 199 000 zł', '777 000 zł', '489 000 zł', '3 000 zł', '500 000 zł', '485 000 zł', '535 000 zł', '534 700 zł', '3 800 zł', '650 000 zł', '1 565 000 zł', '730 000 zł', '1 190 000 zł', '1 980 000 zł', '4 500 zł', '2 500 zł', '2 990 zł', '2 990 zł', '4 900 zł', '2 850 zł']\n",
      "60\n"
     ]
    }
   ],
   "source": [
    "import requests\n",
    "from bs4 import BeautifulSoup\n",
    "import pandas as pd\n",
    "import os\n",
    "\n",
    "url = \"https://sprzedajemy.pl/krakow/nieruchomosci/mieszkania?offset=0&items_per_page=60\"\n",
    "\n",
    "headers = {\n",
    "    \"User-Agent\": \"Mozilla/5.0 (Windows NT 10.0; Win64; x64) AppleWebKit/537.36 (KHTML, like Gecko) Chrome/58.0.3029.110 Safari/537.36\",\n",
    "    \"Accept\": \"text/html,application/xhtml+xml,application/xml;q=0.9,image/webp,image/apng,*/*;q=0.8\",\n",
    "    \"Accept-Encoding\": \"gzip, deflate, br\",\n",
    "    \"Accept-Language\": \"en-US,en;q=0.9,pl;q=0.8\",\n",
    "    \"Connection\": \"keep-alive\"\n",
    "}\n",
    "\n",
    "response = requests.get(url, headers=headers)\n",
    "response = requests.get(url, headers=headers)\n",
    "\n",
    "# Debugowanie odpowiedzi\n",
    "print(f\"Status Code: {response.status_code}\")\n",
    "print(f\"Response Headers: {response.headers}\")\n",
    "print(f\"Response Text (first 2000 chars): {response.text[:2000]}\")\n",
    "\n",
    "# Jeśli odpowiedź jest poprawna, wykonaj webscraping\n",
    "if response.status_code == 200:\n",
    "    soup = BeautifulSoup(response.content, \"html.parser\")\n",
    "\n",
    "    # Pobieranie ofert mieszkań\n",
    "    titles = [h2.a.text.strip() for h2 in soup.find_all(\"h2\", class_=\"title\") if h2.a]\n",
    "    prices = [p.text.replace(\"\\xa0\", \" \").strip() for p in soup.find_all(\"span\", class_=\"price\")]\n",
    "\n",
    "    print(\"Titles:\", titles)\n",
    "    print(len(titles))\n",
    "    print(\"Prices:\", prices)\n",
    "    print(len(prices))\n",
    "\n",
    "    df = pd.DataFrame({\"Title\": titles, \"Price\": prices})\n",
    "\n",
    "    # Dopisanie do pliku CSV\n",
    "    df.to_csv(\"scraped_data.csv\", mode='a', header=not os.path.exists('scraped_data.csv'), index=False)\n",
    "else:\n",
    "    print(\"Failed to retrieve data.\")\n"
   ]
  }
 ],
 "metadata": {
  "colab": {
   "provenance": []
  },
  "kernelspec": {
   "display_name": "Python 3",
   "name": "python3"
  },
  "language_info": {
   "codemirror_mode": {
    "name": "ipython",
    "version": 3
   },
   "file_extension": ".py",
   "mimetype": "text/x-python",
   "name": "python",
   "nbconvert_exporter": "python",
   "pygments_lexer": "ipython3",
   "version": "3.9.23"
  },
  "papermill": {
   "default_parameters": {},
   "duration": 3.270301,
   "end_time": "2025-07-30T19:31:00.882937",
   "environment_variables": {},
   "exception": null,
   "input_path": "nb.ipynb",
   "output_path": "nbo.ipynb",
   "parameters": {},
   "start_time": "2025-07-30T19:30:57.612636",
   "version": "2.6.0"
  }
 },
 "nbformat": 4,
 "nbformat_minor": 5
}