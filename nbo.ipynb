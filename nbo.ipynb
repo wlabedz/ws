{
 "cells": [
  {
   "cell_type": "code",
   "execution_count": 1,
   "id": "aa0b7c70",
   "metadata": {
    "colab": {
     "base_uri": "https://localhost:8080/"
    },
    "execution": {
     "iopub.execute_input": "2025-09-05T14:42:04.546585Z",
     "iopub.status.busy": "2025-09-05T14:42:04.546321Z",
     "iopub.status.idle": "2025-09-05T14:42:06.463610Z",
     "shell.execute_reply": "2025-09-05T14:42:06.462951Z"
    },
    "id": "5pYh4c8j1w43",
    "outputId": "8a0dca73-64e5-4f0d-c493-2c5b38392363",
    "papermill": {
     "duration": 1.920896,
     "end_time": "2025-09-05T14:42:06.464777",
     "exception": false,
     "start_time": "2025-09-05T14:42:04.543881",
     "status": "completed"
    },
    "tags": []
   },
   "outputs": [
    {
     "name": "stdout",
     "output_type": "stream",
     "text": [
      "Status Code: 200\n",
      "Response Headers: {'Server': 'nginx', 'Date': 'Fri, 05 Sep 2025 14:42:06 GMT', 'Content-Type': 'text/html; charset=UTF-8', 'Transfer-Encoding': 'chunked', 'Vary': 'Accept-Encoding, User-Agent', 'Set-Cookie': 'FRSPSID=cs3t4hejk55ukf89ig7k8a0h11; path=/; domain=.sprzedajemy.pl; secure; HttpOnly, _items_per_page__offer_list=60; expires=Sun, 05-Oct-2025 14:42:06 GMT; Max-Age=2592000; path=/; domain=.sprzedajemy.pl; secure; httponly, observed_id=169426636168baf6be0fa5a2205550127840029024; expires=Wed, 05-Sep-2125 15:42:06 GMT; Max-Age=3155677200; path=/; domain=.sprzedajemy.pl; secure; httponly', 'Expires': 'Thu, 19 Nov 1981 08:52:00 GMT', 'Cache-Control': 'no-store, no-cache, must-revalidate, post-check=0, pre-check=0', 'Pragma': 'no-cache', 'Content-Encoding': 'gzip'}\n",
      "Response Text (first 2000 chars): <!DOCTYPE html><html xmlns=\"http://www.w3.org/1999/xhtml\" xml:lang=\"pl\" lang=\"pl\" class=\"no-js\" >\n",
      "<head>\n",
      "\t\t\t<!-- Google Tag Manager -->\n",
      "\t\t\t<script>(function(w,d,s,l,i){w[l]=w[l]||[];w[l].push({'gtm.start':\n",
      "\t\t\t\t\t\tnew Date().getTime(),event:'gtm.js'});var f=d.getElementsByTagName(s)[0],\n",
      "\t\t\t\t\tj=d.createElement(s),dl=l!='dataLayer'?'&l='+l:'';j.async=true;j.src=\n",
      "\t\t\t\t\t'https://www.googletagmanager.com/gtm.js?id='+i+dl\n",
      "\t\t\t\t\t\t\t\t\t    ;f.parentNode.insertBefore(j,f);\n",
      "\t\t\t\t    })(window,document,'script','dataLayer','GTM-P3S238');</script>\n",
      "\t\t\t<!-- End Google Tag Manager -->\n",
      "\t<title>Mieszkania Kraków na sprzedaż, wynajem - Sprzedajemy.pl</title><meta http-equiv=\"Content-Type\" content=\"text/html; charset=UTF-8\" >\n",
      "<meta http-equiv=\"X-UA-Compatible\" content=\"IE=edge\" >\n",
      "<meta name=\"description\" content=\"Ogłoszenia o tematyce:  w kategorii Mieszkania - Kupuj i sprzedawaj rzeczy używane i nowe w kategorii Mieszkania na Sprzedajemy.pl\" >\n",
      "<meta property=\"og:title\" content=\"Mieszkania Kraków na sprzedaż, wynajem - Sprzedajemy.pl\" >\n",
      "<meta property=\"og:type\" content=\"website\" >\n",
      "<meta property=\"og:image\" content=\"https://thumbs.img-sprzedajemy.pl/facebook/sprzedajemy.pl.png\" >\n",
      "<meta property=\"og:image:width\" content=\"200\" >\n",
      "<meta property=\"og:image:height\" content=\"200\" >\n",
      "<meta property=\"og:url\" content=\"https://sprzedajemy.pl/krakow/nieruchomosci/mieszkania\" >\n",
      "<meta property=\"og:site_name\" content=\"Sprzedajemy.pl\" >\n",
      "<meta property=\"fb:app_id\" content=\"173258269367442\" >\n",
      "<meta property=\"og:description\" content=\"Ogłoszenia o tematyce:  w kategorii Mieszkania - Kupuj i sprzedawaj rzeczy używane i nowe w kategorii Mieszkania na Sprzedajemy.pl\" >\n",
      "<meta name=\"robots\" content=\"noindex, follow\" >\t\t<script  async=\"async\" src=\"https://static.criteo.net/js/ld/publishertag.js\"></script>\n",
      "        <script  async=\"async\" src=\"https://ap.lijit.com/www/sovrn_beacon_standalone/sovrn_standalone_beacon.js?iid=13417409&amp;uid=sprzedajemy\" id=\"sBeacon\"></script>\n",
      "\t\t<script  async=\"async\" src=\"https://securepuba\n",
      "Titles: ['Mieszkanie z widokiem na góry', 'Wyjątkowe mieszkanie z widokiem na klasztor w Tyńcu i panoramę Tatr', 'Stylowy apartament z widokiem na panoramę Krakowa - od właściciela', 'Nowoczesny apartament z panoramicznym widokiem - od właściciela', 'Kraków, Stare Miasto sprzedaż/zamiana', 'Stylowy lokal na parterze przy Krowoderskiej', '2-pokojowe mieszkanie po remoncie | PROMOCJA | ul Bronowicka', 'Oferta wynajmu mieszkania 35.84m2 2 pokoje Kraków Romanowicza', 'Mieszkanie Kraków 24.3m 1-pokojowe', 'Sprzedam mieszkanie 64.03m2 4-pokojowe Kraków Pękowicka', 'Mieszkanie 59.63 metry Kraków', 'Do sprzedaży mieszkanie 60.07 metrów 4-pokojowe Kraków', 'Mieszkanie 70.88m2 4-pok Kraków', 'Oferta sprzedaży mieszkania 83.66m2 Kraków Wadowicka', 'Mieszkanie 72.4m2 3 pokoje Kraków Babińskiego', 'Mieszkanie 39.8m2 2 pok Kraków', 'Ogłoszenie mieszkanie Kraków Babińskiego 72.4m2 3 pok', 'Mieszkanie 36.09m2 2 pokoje Kraków', 'Mieszkanie Kraków Grzegórzki 29.96m2 1-pokojowe', 'Mieszkanie 51.86m2 3 pokoje Kraków Pękowicka', 'Mieszkanie 59.31m2 4 pok Kraków Kantrowicka', 'Mieszkanie Kraków Wadowicka 66.11m2 3 pokoje', 'Mieszkanie Kraków Kantrowicka 51.54m2 3-pokojowe', 'Mieszkanie 37.8m2 2 pokoje Kraków Na Błonie', 'Ogłoszenie mieszkanie Kraków 69.35m2 3 pokoje', 'Mieszkanie sprzedam 34.79m2 2 pokoje Kraków Kantrowicka', 'Mieszkanie 27.42m2 Kraków', 'Ogłoszenie mieszkanie 49.63m2 3 pokojowe Kraków Piasta Kołodzieja', 'Mieszkanie 37.92m2 2 pokojowe Kraków', 'Mieszkanie Kraków Bukowa 47.73m2 2 pok', 'Oddzielna kuchnia,balkon,piwnica', 'Mieszkanie 33.25m2 1-pok Kraków', 'Mieszkanie 48.28m2 3 pok Kraków Pękowicka', 'Mieszkanie 41.13m2 2 pokojowe Kraków Pękowicka', 'Mieszkanie 79.3m2 3 pokoje Kraków Babińskiego', 'Mieszkanie 51.41m2 3 pokoje Kraków Kantrowicka', 'Mieszkanie 64.89m2 4-pok Kraków Kantrowicka', 'Sprzedam mieszkanie 38.07m2 2 pokoje Kraków Na Błonie', 'Oferta sprzedaży mieszkania Kraków Piasta Kołodzieja 50.23m2 3-pok', 'Mieszkanie Kraków 40.97m 2-pok', 'Mieszkanie 32.79m2 1 pokojowe Kraków', 'Mieszkanie Kraków 64.74m2 4 pokoje', 'Mieszkanie 73.4m2 Kraków', 'Mieszkanie 51.34m2 3 pokoje Kraków', 'Mieszkanie 33.89m 1 pokojowe Kraków', 'Oferta sprzedaży mieszkania 51.75m2 2 pok Kraków Grzegórzki', 'Sprzedam mieszkanie 54.28 metrów 3 pokoje Kraków Pękowicka', 'Oferta sprzedaży mieszkania Kraków 38.52m2 2-pok', 'Mieszkanie Kraków 49.62m2 3 pokoje', 'Mieszkanie 59.85m 3 pokojowe Kraków', 'Mieszkanie 53.68m2 2 pokoje Kraków', 'Mieszkanie 70.67m2 2-pokojowe Kraków Wadowicka', 'Mieszkanie do sprzedania Kraków 51.71m2 2 pokoje', 'Mieszkanie 31.74m 1 pokój Kraków', 'Oferta sprzedaży mieszkania Kraków Piasta Kołodzieja 48.59m2 3-pok', 'Mieszkanie 72.12m2 Kraków', 'Mieszkanie do sprzedania 70.88m2 3-pok Kraków Babińskiego', 'Mieszkanie 62.46 metrów Kraków', 'Mieszkanie Kraków ul. Klimeckiego 80m2 4 pokoje', 'Ogłoszenie mieszkanie 36.09m2 2-pokojowe Kraków']\n",
      "60\n",
      "Prices: ['265 000 zł', '779 000 zł', '890 000 zł', '997 000 zł', '2 083 000 zł', '1 800 000 zł', '710 000 zł', '3 005 zł', '399 000 zł', '1 034 084 zł', '986 876 zł', '970 130 zł', '1 190 784 zł', '1 271 632 zł', '1 295 960 zł', '684 560 zł', '1 194 600 zł', '497 139 zł', '689 000 zł', '855 690 zł', '704 306 zł', '1 077 593 zł', '734 445 zł', '762 766 zł', '1 240 000 zł', '479 232 zł', '472 995 zł', '709 709 zł', '640 848 zł', '577 533 zł', '399 000 zł', '611 800 zł', '796 620 zł', '697 153 zł', '1 276 730 zł', '634 913 zł', '811 125 zł', '759 382 zł', '733 358 zł', '725 169 zł', '619 731 zł', '1 045 551 zł', '1 258 810 zł', '844 543 zł', '640 521 zł', '1 060 000 zł', '879 336 zł', '768 358 zł', '719 490 zł', '987 525 zł', '923 296 zł', '1 158 988 zł', '858 386 zł', '615 756 zł', '733 709 zł', '1 132 000 zł', '1 169 520 zł', '1 105 542 zł', '1 399 000 zł', '497 139 zł']\n",
      "60\n"
     ]
    }
   ],
   "source": [
    "import requests\n",
    "from bs4 import BeautifulSoup\n",
    "import pandas as pd\n",
    "import os\n",
    "\n",
    "url = \"https://sprzedajemy.pl/krakow/nieruchomosci/mieszkania?offset=0&items_per_page=60\"\n",
    "\n",
    "headers = {\n",
    "    \"User-Agent\": \"Mozilla/5.0 (Windows NT 10.0; Win64; x64) AppleWebKit/537.36 (KHTML, like Gecko) Chrome/58.0.3029.110 Safari/537.36\",\n",
    "    \"Accept\": \"text/html,application/xhtml+xml,application/xml;q=0.9,image/webp,image/apng,*/*;q=0.8\",\n",
    "    \"Accept-Encoding\": \"gzip, deflate, br\",\n",
    "    \"Accept-Language\": \"en-US,en;q=0.9,pl;q=0.8\",\n",
    "    \"Connection\": \"keep-alive\"\n",
    "}\n",
    "\n",
    "response = requests.get(url, headers=headers)\n",
    "response = requests.get(url, headers=headers)\n",
    "\n",
    "# Debugowanie odpowiedzi\n",
    "print(f\"Status Code: {response.status_code}\")\n",
    "print(f\"Response Headers: {response.headers}\")\n",
    "print(f\"Response Text (first 2000 chars): {response.text[:2000]}\")\n",
    "\n",
    "# Jeśli odpowiedź jest poprawna, wykonaj webscraping\n",
    "if response.status_code == 200:\n",
    "    soup = BeautifulSoup(response.content, \"html.parser\")\n",
    "\n",
    "    # Pobieranie ofert mieszkań\n",
    "    titles = [h2.a.text.strip() for h2 in soup.find_all(\"h2\", class_=\"title\") if h2.a]\n",
    "    prices = [p.text.replace(\"\\xa0\", \" \").strip() for p in soup.find_all(\"span\", class_=\"price\")]\n",
    "\n",
    "    print(\"Titles:\", titles)\n",
    "    print(len(titles))\n",
    "    print(\"Prices:\", prices)\n",
    "    print(len(prices))\n",
    "\n",
    "    df = pd.DataFrame({\"Title\": titles, \"Price\": prices})\n",
    "\n",
    "    # Dopisanie do pliku CSV\n",
    "    df.to_csv(\"scraped_data.csv\", mode='a', header=not os.path.exists('scraped_data.csv'), index=False)\n",
    "else:\n",
    "    print(\"Failed to retrieve data.\")\n"
   ]
  }
 ],
 "metadata": {
  "colab": {
   "provenance": []
  },
  "kernelspec": {
   "display_name": "Python 3",
   "name": "python3"
  },
  "language_info": {
   "codemirror_mode": {
    "name": "ipython",
    "version": 3
   },
   "file_extension": ".py",
   "mimetype": "text/x-python",
   "name": "python",
   "nbconvert_exporter": "python",
   "pygments_lexer": "ipython3",
   "version": "3.9.23"
  },
  "papermill": {
   "default_parameters": {},
   "duration": 3.042347,
   "end_time": "2025-09-05T14:42:06.682314",
   "environment_variables": {},
   "exception": null,
   "input_path": "nb.ipynb",
   "output_path": "nbo.ipynb",
   "parameters": {},
   "start_time": "2025-09-05T14:42:03.639967",
   "version": "2.6.0"
  }
 },
 "nbformat": 4,
 "nbformat_minor": 5
}