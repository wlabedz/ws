{
 "cells": [
  {
   "cell_type": "code",
   "execution_count": 1,
   "id": "16d4856a",
   "metadata": {
    "colab": {
     "base_uri": "https://localhost:8080/"
    },
    "execution": {
     "iopub.execute_input": "2025-09-19T14:37:08.318911Z",
     "iopub.status.busy": "2025-09-19T14:37:08.318627Z",
     "iopub.status.idle": "2025-09-19T14:37:10.651825Z",
     "shell.execute_reply": "2025-09-19T14:37:10.651093Z"
    },
    "id": "5pYh4c8j1w43",
    "outputId": "8a0dca73-64e5-4f0d-c493-2c5b38392363",
    "papermill": {
     "duration": 2.336714,
     "end_time": "2025-09-19T14:37:10.653005",
     "exception": false,
     "start_time": "2025-09-19T14:37:08.316291",
     "status": "completed"
    },
    "tags": []
   },
   "outputs": [
    {
     "name": "stdout",
     "output_type": "stream",
     "text": [
      "Status Code: 200\n",
      "Response Headers: {'Server': 'nginx', 'Date': 'Fri, 19 Sep 2025 14:37:10 GMT', 'Content-Type': 'text/html; charset=UTF-8', 'Transfer-Encoding': 'chunked', 'Vary': 'Accept-Encoding, User-Agent', 'Set-Cookie': 'FRSPSID=knvkbnrqeagefj43lcmg137q32; path=/; domain=.sprzedajemy.pl; secure; HttpOnly, _items_per_page__offer_list=60; expires=Sun, 19-Oct-2025 14:37:10 GMT; Max-Age=2592000; path=/; domain=.sprzedajemy.pl; secure; httponly, observed_id=96272313468cd6a963581c037782324654370822; expires=Wed, 19-Sep-2125 15:37:10 GMT; Max-Age=3155677200; path=/; domain=.sprzedajemy.pl; secure; httponly', 'Expires': 'Thu, 19 Nov 1981 08:52:00 GMT', 'Cache-Control': 'no-store, no-cache, must-revalidate, post-check=0, pre-check=0', 'Pragma': 'no-cache', 'Content-Encoding': 'gzip'}\n",
      "Response Text (first 2000 chars): <!DOCTYPE html><html xmlns=\"http://www.w3.org/1999/xhtml\" xml:lang=\"pl\" lang=\"pl\" class=\"no-js\" >\n",
      "<head>\n",
      "\t\t\t<!-- Google Tag Manager -->\n",
      "\t\t\t<script>(function(w,d,s,l,i){w[l]=w[l]||[];w[l].push({'gtm.start':\n",
      "\t\t\t\t\t\tnew Date().getTime(),event:'gtm.js'});var f=d.getElementsByTagName(s)[0],\n",
      "\t\t\t\t\tj=d.createElement(s),dl=l!='dataLayer'?'&l='+l:'';j.async=true;j.src=\n",
      "\t\t\t\t\t'https://www.googletagmanager.com/gtm.js?id='+i+dl\n",
      "\t\t\t\t\t\t\t\t\t    ;f.parentNode.insertBefore(j,f);\n",
      "\t\t\t\t    })(window,document,'script','dataLayer','GTM-P3S238');</script>\n",
      "\t\t\t<!-- End Google Tag Manager -->\n",
      "\t<title>Mieszkania Kraków na sprzedaż, wynajem - Sprzedajemy.pl</title><meta http-equiv=\"Content-Type\" content=\"text/html; charset=UTF-8\" >\n",
      "<meta http-equiv=\"X-UA-Compatible\" content=\"IE=edge\" >\n",
      "<meta name=\"description\" content=\"Ogłoszenia o tematyce:  w kategorii Mieszkania - Kupuj i sprzedawaj rzeczy używane i nowe w kategorii Mieszkania na Sprzedajemy.pl\" >\n",
      "<meta property=\"og:title\" content=\"Mieszkania Kraków na sprzedaż, wynajem - Sprzedajemy.pl\" >\n",
      "<meta property=\"og:type\" content=\"website\" >\n",
      "<meta property=\"og:image\" content=\"https://thumbs.img-sprzedajemy.pl/facebook/sprzedajemy.pl.png\" >\n",
      "<meta property=\"og:image:width\" content=\"200\" >\n",
      "<meta property=\"og:image:height\" content=\"200\" >\n",
      "<meta property=\"og:url\" content=\"https://sprzedajemy.pl/krakow/nieruchomosci/mieszkania\" >\n",
      "<meta property=\"og:site_name\" content=\"Sprzedajemy.pl\" >\n",
      "<meta property=\"fb:app_id\" content=\"173258269367442\" >\n",
      "<meta property=\"og:description\" content=\"Ogłoszenia o tematyce:  w kategorii Mieszkania - Kupuj i sprzedawaj rzeczy używane i nowe w kategorii Mieszkania na Sprzedajemy.pl\" >\n",
      "<meta name=\"robots\" content=\"noindex, follow\" >\t\t<script  async=\"async\" src=\"https://static.criteo.net/js/ld/publishertag.js\"></script>\n",
      "        <script  async=\"async\" src=\"https://ap.lijit.com/www/sovrn_beacon_standalone/sovrn_standalone_beacon.js?iid=13417409&amp;uid=sprzedajemy\" id=\"sBeacon\"></script>\n",
      "\t\t<script  async=\"async\" src=\"https://securepuba\n",
      "Titles: ['Podedworze 13', 'Stylowy lokal na parterze przy Krowoderskiej', 'Wyjątkowy lokal przy ul. Krowoderskiej z widokiem na stronę ogrodową', 'Dwa pokoje - stare miasto - Do wejścia - Własność', '2-pokojowe mieszkanie po remoncie | PROMOCJA | ul Bronowicka', 'Sprzedam dwupokojowe mieszkanie os. Dywizjonu 303, 19C Kraków', 'Mieszkanie z widokiem na góry', 'Wyjątkowe mieszkanie z widokiem na klasztor w Tyńcu i panoramę Tatr', 'Stylowy apartament z widokiem na panoramę Krakowa - od właściciela', 'Nowoczesny apartament z panoramicznym widokiem - od właściciela', 'Mieszkanie Kraków Babińskiego 59.52m2 3 pokojowe', 'Mieszkanie 72.12m2 Kraków', 'Mieszkanie 73.62m2 Kraków', 'Mieszkanie na sprzedaż 47.61m2 Kraków Grzegórzki', 'Mieszkanie Kraków Kantrowicka 51.42 metry 3 pokoje', 'Mieszkanie sprzedam 45.84m2 2 pokojowe Kraków', 'Mieszkanie 72.56m2 3-pokojowe Kraków Wadowicka', 'Mieszkanie Kraków Wadowicka 62.06m2 3-pokojowe', 'Mieszkanie 64.42m2 3 pokojowe Kraków Wadowicka', 'Mieszkanie 41.35m2 2 pokojowe Kraków', 'Mieszkanie 49.3m2 2 pokoje Kraków Bratysławska', 'Mieszkanie 43.54m2 2 pok Kraków', 'Oferta sprzedaży mieszkania 56.47m2 3 pokoje Kraków Na Błonie', 'Oferta sprzedaży mieszkania Kraków Olszanicka 151.37m2', 'Mieszkanie Kraków Wadowicka 74.74m2 3-pokojowe', 'Mieszkanie Kraków 70.88m2 4 pokojowe', 'Mieszkanie na sprzedaż Kraków 74.74 metry 3 pokojowe', 'Do sprzedaży mieszkanie Kraków Olszanicka 151.83m2 7-pokojowe', 'Oferta sprzedaży mieszkania 50.23m2 3 pokojowe Kraków', 'Oferta sprzedaży mieszkania 40.38m2 2 pokojowe Kraków Wadowicka', 'Mieszkanie Kraków 37.67m2 2 pokoje', 'Oferta sprzedaży mieszkania Kraków Bukowa 46.95m2 2 pokojowe', 'Mieszkanie 38.53m2 2 pokojowe Kraków', 'Oferta sprzedaży mieszkania Kraków Pękowicka 72.03m2 4 pok', 'Mieszkanie Kraków 66.11m2 3-pok', 'Oferta sprzedaży mieszkania 67.57m2 Kraków Pękowicka', 'Mieszkanie 36.09m2 2 pokoje Kraków Kantrowicka', 'Oferta sprzedaży mieszkania 72.4m 3 pokojowe Kraków Babińskiego', 'Mieszkanie Kraków 59.31m2 4 pokoje', 'Mieszkanie 43.35m2 2-pok Kraków Wadowicka', 'Mieszkanie do sprzedania Kraków 37.45m2 2 pokojowe', 'Mieszkanie 39.1m2 2-pokojowe Kraków', 'Oferta sprzedaży mieszkania 44.15 metrów 2 pokoje Kraków', 'Mieszkanie Kraków 29 listopada - okolice 35.25m2 2-pokojowe', 'Mieszkanie Kraków Wadowicka 62.46m2 5 pokoi', 'Sprzedam mieszkanie Kraków 56.09m2 3 pokoje', 'Oferta sprzedaży mieszkania Kraków 83.94m2 3 pokojowe', 'Mieszkanie Kraków 90.48m2 4 pokoje', 'Mieszkanie Kraków 26.19m2 1 pokój', 'Mieszkanie Kraków 37m2', 'Mieszkanie 32.1m2 2 pokoje Kraków Klimeckiego', 'Mieszkanie 62.06m2 3-pokojowe Kraków Wadowicka', 'Sprzedam mieszkanie Kraków Wadowicka 43.25m2 2 pokojowe', 'Mieszkanie 81.34m2 5 pokoi Kraków Wadowicka', 'Mieszkanie Kraków 62.06m2 3 pok', 'Mieszkanie Kraków Pękowicka 39.05m2', 'Mieszkanie do sprzedania 70.67m2 4 pokojowe Kraków Wadowicka', 'Sprzedam mieszkanie 40.96m2 2 pokoje Kraków', 'Mieszkanie 151.37m2 Kraków Olszanicka', 'Mieszkanie 51.19m2 Kraków Pękowicka']\n",
      "60\n",
      "Prices: ['542 000 zł', '1 890 000 zł', '1 340 000 zł', '715 155 zł', '710 000 zł', '635 000 zł', '265 000 zł', '779 000 zł', '890 000 zł', '997 000 zł', '982 080 zł', '1 132 000 zł', '1 148 472 zł', '1 003 780 zł', '635 987 zł', '820 536 zł', '1 255 288 zł', '1 086 050 zł', '1 088 698 zł', '779 447 zł', '886 000 zł', '777 189 zł', '1 034 699 zł', '2 138 088 zł', '1 240 684 zł', '1 162 432 zł', '1 195 840 zł', '2 383 737 zł', '703 220 zł', '714 726 zł', '644 157 zł', '582 056 zł', '653 083 zł', '1 148 878 zł', '1 064 371 zł', '1 084 498 zł', '514 282 zł', '1 158 400 zł', '859 995 zł', '797 640 zł', '754 729 zł', '662 745 zł', '749 000 zł', '823 383 zł', '1 093 050 zł', '729 170 zł', '1 502 526 zł', '1 411 488 zł', '453 087 zł', '795 000 zł', '749 000 zł', '1 067 432 zł', '787 150 zł', '1 203 832 zł', '1 061 226 zł', '663 850 zł', '1 201 390 zł', '696 320 zł', '1 952 673 zł', '844 635 zł']\n",
      "60\n"
     ]
    }
   ],
   "source": [
    "import requests\n",
    "from bs4 import BeautifulSoup\n",
    "import pandas as pd\n",
    "import os\n",
    "\n",
    "url = \"https://sprzedajemy.pl/krakow/nieruchomosci/mieszkania?offset=0&items_per_page=60\"\n",
    "\n",
    "headers = {\n",
    "    \"User-Agent\": \"Mozilla/5.0 (Windows NT 10.0; Win64; x64) AppleWebKit/537.36 (KHTML, like Gecko) Chrome/58.0.3029.110 Safari/537.36\",\n",
    "    \"Accept\": \"text/html,application/xhtml+xml,application/xml;q=0.9,image/webp,image/apng,*/*;q=0.8\",\n",
    "    \"Accept-Encoding\": \"gzip, deflate, br\",\n",
    "    \"Accept-Language\": \"en-US,en;q=0.9,pl;q=0.8\",\n",
    "    \"Connection\": \"keep-alive\"\n",
    "}\n",
    "\n",
    "response = requests.get(url, headers=headers)\n",
    "response = requests.get(url, headers=headers)\n",
    "\n",
    "# Debugowanie odpowiedzi\n",
    "print(f\"Status Code: {response.status_code}\")\n",
    "print(f\"Response Headers: {response.headers}\")\n",
    "print(f\"Response Text (first 2000 chars): {response.text[:2000]}\")\n",
    "\n",
    "# Jeśli odpowiedź jest poprawna, wykonaj webscraping\n",
    "if response.status_code == 200:\n",
    "    soup = BeautifulSoup(response.content, \"html.parser\")\n",
    "\n",
    "    # Pobieranie ofert mieszkań\n",
    "    titles = [h2.a.text.strip() for h2 in soup.find_all(\"h2\", class_=\"title\") if h2.a]\n",
    "    prices = [p.text.replace(\"\\xa0\", \" \").strip() for p in soup.find_all(\"span\", class_=\"price\")]\n",
    "\n",
    "    print(\"Titles:\", titles)\n",
    "    print(len(titles))\n",
    "    print(\"Prices:\", prices)\n",
    "    print(len(prices))\n",
    "\n",
    "    df = pd.DataFrame({\"Title\": titles, \"Price\": prices})\n",
    "\n",
    "    # Dopisanie do pliku CSV\n",
    "    df.to_csv(\"scraped_data.csv\", mode='a', header=not os.path.exists('scraped_data.csv'), index=False)\n",
    "else:\n",
    "    print(\"Failed to retrieve data.\")\n"
   ]
  }
 ],
 "metadata": {
  "colab": {
   "provenance": []
  },
  "kernelspec": {
   "display_name": "Python 3",
   "name": "python3"
  },
  "language_info": {
   "codemirror_mode": {
    "name": "ipython",
    "version": 3
   },
   "file_extension": ".py",
   "mimetype": "text/x-python",
   "name": "python",
   "nbconvert_exporter": "python",
   "pygments_lexer": "ipython3",
   "version": "3.9.23"
  },
  "papermill": {
   "default_parameters": {},
   "duration": 3.471142,
   "end_time": "2025-09-19T14:37:10.870217",
   "environment_variables": {},
   "exception": null,
   "input_path": "nb.ipynb",
   "output_path": "nbo.ipynb",
   "parameters": {},
   "start_time": "2025-09-19T14:37:07.399075",
   "version": "2.6.0"
  }
 },
 "nbformat": 4,
 "nbformat_minor": 5
}