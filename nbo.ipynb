{
 "cells": [
  {
   "cell_type": "code",
   "execution_count": 1,
   "id": "baff05ad",
   "metadata": {
    "colab": {
     "base_uri": "https://localhost:8080/"
    },
    "execution": {
     "iopub.execute_input": "2025-08-23T19:53:39.580422Z",
     "iopub.status.busy": "2025-08-23T19:53:39.580130Z",
     "iopub.status.idle": "2025-08-23T19:53:41.591568Z",
     "shell.execute_reply": "2025-08-23T19:53:41.590813Z"
    },
    "id": "5pYh4c8j1w43",
    "outputId": "8a0dca73-64e5-4f0d-c493-2c5b38392363",
    "papermill": {
     "duration": 2.015005,
     "end_time": "2025-08-23T19:53:41.592738",
     "exception": false,
     "start_time": "2025-08-23T19:53:39.577733",
     "status": "completed"
    },
    "tags": []
   },
   "outputs": [
    {
     "name": "stdout",
     "output_type": "stream",
     "text": [
      "Status Code: 200\n",
      "Response Headers: {'Server': 'nginx', 'Date': 'Sat, 23 Aug 2025 19:53:41 GMT', 'Content-Type': 'text/html; charset=UTF-8', 'Transfer-Encoding': 'chunked', 'Vary': 'Accept-Encoding, User-Agent', 'Set-Cookie': 'FRSPSID=04r51dsljb8i0l2br037u3n5b4; path=/; domain=.sprzedajemy.pl; secure; HttpOnly, _items_per_page__offer_list=60; expires=Mon, 22-Sep-2025 19:53:41 GMT; Max-Age=2592000; path=/; domain=.sprzedajemy.pl; secure; httponly, observed_id=36496975168aa1c452713a98864087599212027; expires=Thu, 23-Aug-2125 20:53:41 GMT; Max-Age=3155677200; path=/; domain=.sprzedajemy.pl; secure; httponly', 'Expires': 'Thu, 19 Nov 1981 08:52:00 GMT', 'Cache-Control': 'no-store, no-cache, must-revalidate, post-check=0, pre-check=0', 'Pragma': 'no-cache', 'Content-Encoding': 'gzip'}\n",
      "Response Text (first 2000 chars): <!DOCTYPE html><html xmlns=\"http://www.w3.org/1999/xhtml\" xml:lang=\"pl\" lang=\"pl\" class=\"no-js\" >\n",
      "<head>\n",
      "\t\t\t<!-- Google Tag Manager -->\n",
      "\t\t\t<script>(function(w,d,s,l,i){w[l]=w[l]||[];w[l].push({'gtm.start':\n",
      "\t\t\t\t\t\tnew Date().getTime(),event:'gtm.js'});var f=d.getElementsByTagName(s)[0],\n",
      "\t\t\t\t\tj=d.createElement(s),dl=l!='dataLayer'?'&l='+l:'';j.async=true;j.src=\n",
      "\t\t\t\t\t'https://www.googletagmanager.com/gtm.js?id='+i+dl\n",
      "\t\t\t\t\t\t\t\t\t    ;f.parentNode.insertBefore(j,f);\n",
      "\t\t\t\t    })(window,document,'script','dataLayer','GTM-P3S238');</script>\n",
      "\t\t\t<!-- End Google Tag Manager -->\n",
      "\t<title>Mieszkania Kraków na sprzedaż, wynajem - Sprzedajemy.pl</title><meta http-equiv=\"Content-Type\" content=\"text/html; charset=UTF-8\" >\n",
      "<meta http-equiv=\"X-UA-Compatible\" content=\"IE=edge\" >\n",
      "<meta name=\"description\" content=\"Ogłoszenia o tematyce:  w kategorii Mieszkania - Kupuj i sprzedawaj rzeczy używane i nowe w kategorii Mieszkania na Sprzedajemy.pl\" >\n",
      "<meta property=\"og:title\" content=\"Mieszkania Kraków na sprzedaż, wynajem - Sprzedajemy.pl\" >\n",
      "<meta property=\"og:type\" content=\"website\" >\n",
      "<meta property=\"og:image\" content=\"https://thumbs.img-sprzedajemy.pl/facebook/sprzedajemy.pl.png\" >\n",
      "<meta property=\"og:image:width\" content=\"200\" >\n",
      "<meta property=\"og:image:height\" content=\"200\" >\n",
      "<meta property=\"og:url\" content=\"https://sprzedajemy.pl/krakow/nieruchomosci/mieszkania\" >\n",
      "<meta property=\"og:site_name\" content=\"Sprzedajemy.pl\" >\n",
      "<meta property=\"fb:app_id\" content=\"173258269367442\" >\n",
      "<meta property=\"og:description\" content=\"Ogłoszenia o tematyce:  w kategorii Mieszkania - Kupuj i sprzedawaj rzeczy używane i nowe w kategorii Mieszkania na Sprzedajemy.pl\" >\n",
      "<meta name=\"robots\" content=\"noindex, follow\" >\t\t<script  async=\"async\" src=\"https://static.criteo.net/js/ld/publishertag.js\"></script>\n",
      "        <script  async=\"async\" src=\"https://ap.lijit.com/www/sovrn_beacon_standalone/sovrn_standalone_beacon.js?iid=13417409&amp;uid=sprzedajemy\" id=\"sBeacon\"></script>\n",
      "\t\t<script  async=\"async\" src=\"https://securepuba\n",
      "Titles: ['2-pokojowe mieszkanie po remoncie | PROMOCJA | ul Bronowicka', '3 niezależne lokale z KW– inwestycja z potencjałem', 'Kawalerka Salwator Centrum POD INWESTYCJE', 'Mieszkanie na sprzedaż/zamiana 39m2', 'Kraków, Stare Miasto sprzedaż/zamiana', 'Mieszkanie z garażem i komórką lokatorską', 'Oferta wynajmu mieszkania Kraków 36.79m2 2 pokojowe', 'Mieszkanie Ruczaj Park 73m', '2-pokojowe mieszkanie – Myśliwska, Kraków – 42 m²', 'Mieszkanie 3 pokojowe /64,3 m2 / w  super lokalizacji - od właściciela', 'Sprzedaż BEZPOŚREDNIA od właściciela - 40,20 m2', 'Mieszkanie sprzedam 41m2 Kraków os. Piastów', 'Stare Miasto 3 pokoje oddzielna kuchnia inwestycja', '2-pok. ładne mieszkanie wynajmę od 01.09.2025 – Łagiewniki T-pętla', 'Mieszkanie, w Kamienicy po remoncie na rogu ul. Jana Sobieskiego', 'Mieszkanie-Podgórze', '2-pokojowe mieszkanie na Zabłociu – ciche, świetna lokalizacja! [Wirtualny…', 'Wyjątkowe 3 pokoje 60 m² w Krakowie-Bronowicach | Premium | Gotowe!', 'Mieszkanie na wynajem', 'Wynajmę', 'Mieszkanie Os. Avia Kraków, widok na góry', 'PRYWATNIE//3 pok.// Wykończone//brak PCC', 'Do wynajęcia mieszkanie Kraków Walerego Sławka 32m2 1 pokój', 'Mieszkanie 47.8m2 3 pokoje Kraków Nawojki', 'Mieszkanie sprzedam 87.98m2 5 pokojowe Kraków', 'Mieszkanie Kraków 14.51m2 1 pokój', 'Wynajmę mieszkanie 55.8m2 3 pokoje Kraków', 'Oferta sprzedaży mieszkania 23.06m2 1 pokój Kraków Dietla', 'Mieszkanie Kraków Cieszyńska 36m2 2-pokojowe', 'Mieszkanie do sprzedania 36.05m2 2 pokoje Kraków Imbramowska', 'Mieszkanie 38.4m2 2-pokojowe Kraków', 'Mieszkanie Kraków 36.07m2 2 pokoje', 'Oferta sprzedaży mieszkania 38.69 metrów Kraków', 'Ogłoszenie mieszkanie Kraków Walerego Sławka 52.01 metrów', 'Mieszkanie 38m2 1 pokojowe Kraków Komuny Paryskiej', 'Oferta sprzedaży mieszkania Kraków Imbramowska 38.69m2 2 pokoje', 'Mieszkanie Kraków Krowoderska 105.9 metrów 3 pokoje', 'Mieszkanie 67.5m2 3-pok Kraków', 'Sprzedam mieszkanie Kraków Imbramowska 38.69 metrów 2 pokojowe', 'Oferta sprzedaży mieszkania 51.51m2 2 pok Kraków Żywiecka', 'Oferta wynajmu mieszkania Kraków Bosacka 59m 2 pokoje', 'Mieszkanie Kraków 38.69m2 2 pokoje', 'Sprzedam mieszkanie Kraków Macieja Dębskiego 49.5m2 3 pok', 'Oferta sprzedaży mieszkania Kraków 55.27m2 3-pokojowe', 'Mieszkanie sprzedam 38.69m2 2 pok Kraków Imbramowska', 'Mieszkanie 66.4m2 Kraków Przemysłowa', 'Do sprzedaży mieszkanie 50.8m2 2-pokojowe Kraków', 'Mieszkanie Kraków Bojki 61.4m2 3 pokojowe', 'Mieszkanie 35m2 2 pokoje Kraków', 'Mieszkanie Kraków 62.19 metrów 2 pok', 'Oferta wynajmu mieszkania Kraków Urzędnicza 94m2 3 pok', 'Mieszkanie Kraków Jasnogórska 62.19m2 3-pokojowe', 'Oferta wynajmu mieszkania 33m2 2 pokoje Kraków Cieszyńska', 'Mieszkanie 38.69m2 2 pokoje Kraków', 'Mieszkanie 48.36m2 Kraków', 'Oferta sprzedaży mieszkania 48m2 3 pokoje Kraków Os. Złotego Wieku', 'Sprzedaż mieszkania Kraków Lubomirskiego 103.1m2 4-pokojowe', 'Sprzedaż mieszkania 90.48m2 4-pokojowe Kraków', 'Mieszkanie Kraków św. Kingi 19.5m2', 'Mieszkanie 40m2 2 pokojowe Kraków Bunscha']\n",
      "60\n",
      "Prices: ['710 000 zł', '265 000 zł', '428 824 zł', '526 000 zł', '2 083 000 zł', '2 400 zł', '2 500 zł', '939 046 zł', '3 400 zł', '997 000 zł', '650 000 zł', '610 000 zł', '1 155 000 zł', '2 500 zł', '886 000 zł', '628 000 zł', '499 000 zł', '1 220 000 zł', '2 500 zł', '2 620 zł', '998 000 zł', '1 049 000 zł', '2 000 zł', '1 250 000 zł', '1 499 000 zł', '360 000 zł', '3 000 zł', '480 000 zł', '895 000 zł', '499 000 zł', '2 900 zł', '2 800 zł', '1 068 760 zł', '2 800 zł', '1 950 zł', '794 252 zł', '8 500 zł', '1 249 501 zł', '879 384 zł', '669 000 zł', '3 200 zł', '742 295 zł', '770 000 zł', '898 000 zł', '673 920 zł', '996 000 zł', '1 025 000 zł', '769 000 zł', '875 000 zł', '870 660 zł', '5 500 zł', '858 222 zł', '3 700 zł', '665 496 zł', '1 295 000 zł', '617 000 zł', '2 153 000 zł', '1 481 941 zł', '369 000 zł', '799 000 zł']\n",
      "60\n"
     ]
    }
   ],
   "source": [
    "import requests\n",
    "from bs4 import BeautifulSoup\n",
    "import pandas as pd\n",
    "import os\n",
    "\n",
    "url = \"https://sprzedajemy.pl/krakow/nieruchomosci/mieszkania?offset=0&items_per_page=60\"\n",
    "\n",
    "headers = {\n",
    "    \"User-Agent\": \"Mozilla/5.0 (Windows NT 10.0; Win64; x64) AppleWebKit/537.36 (KHTML, like Gecko) Chrome/58.0.3029.110 Safari/537.36\",\n",
    "    \"Accept\": \"text/html,application/xhtml+xml,application/xml;q=0.9,image/webp,image/apng,*/*;q=0.8\",\n",
    "    \"Accept-Encoding\": \"gzip, deflate, br\",\n",
    "    \"Accept-Language\": \"en-US,en;q=0.9,pl;q=0.8\",\n",
    "    \"Connection\": \"keep-alive\"\n",
    "}\n",
    "\n",
    "response = requests.get(url, headers=headers)\n",
    "response = requests.get(url, headers=headers)\n",
    "\n",
    "# Debugowanie odpowiedzi\n",
    "print(f\"Status Code: {response.status_code}\")\n",
    "print(f\"Response Headers: {response.headers}\")\n",
    "print(f\"Response Text (first 2000 chars): {response.text[:2000]}\")\n",
    "\n",
    "# Jeśli odpowiedź jest poprawna, wykonaj webscraping\n",
    "if response.status_code == 200:\n",
    "    soup = BeautifulSoup(response.content, \"html.parser\")\n",
    "\n",
    "    # Pobieranie ofert mieszkań\n",
    "    titles = [h2.a.text.strip() for h2 in soup.find_all(\"h2\", class_=\"title\") if h2.a]\n",
    "    prices = [p.text.replace(\"\\xa0\", \" \").strip() for p in soup.find_all(\"span\", class_=\"price\")]\n",
    "\n",
    "    print(\"Titles:\", titles)\n",
    "    print(len(titles))\n",
    "    print(\"Prices:\", prices)\n",
    "    print(len(prices))\n",
    "\n",
    "    df = pd.DataFrame({\"Title\": titles, \"Price\": prices})\n",
    "\n",
    "    # Dopisanie do pliku CSV\n",
    "    df.to_csv(\"scraped_data.csv\", mode='a', header=not os.path.exists('scraped_data.csv'), index=False)\n",
    "else:\n",
    "    print(\"Failed to retrieve data.\")\n"
   ]
  }
 ],
 "metadata": {
  "colab": {
   "provenance": []
  },
  "kernelspec": {
   "display_name": "Python 3",
   "name": "python3"
  },
  "language_info": {
   "codemirror_mode": {
    "name": "ipython",
    "version": 3
   },
   "file_extension": ".py",
   "mimetype": "text/x-python",
   "name": "python",
   "nbconvert_exporter": "python",
   "pygments_lexer": "ipython3",
   "version": "3.9.23"
  },
  "papermill": {
   "default_parameters": {},
   "duration": 3.128493,
   "end_time": "2025-08-23T19:53:41.809835",
   "environment_variables": {},
   "exception": null,
   "input_path": "nb.ipynb",
   "output_path": "nbo.ipynb",
   "parameters": {},
   "start_time": "2025-08-23T19:53:38.681342",
   "version": "2.6.0"
  }
 },
 "nbformat": 4,
 "nbformat_minor": 5
}