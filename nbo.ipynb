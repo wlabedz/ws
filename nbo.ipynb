{
 "cells": [
  {
   "cell_type": "code",
   "execution_count": 1,
   "id": "01d3b820",
   "metadata": {
    "colab": {
     "base_uri": "https://localhost:8080/"
    },
    "execution": {
     "iopub.execute_input": "2025-06-28T17:40:26.362137Z",
     "iopub.status.busy": "2025-06-28T17:40:26.361933Z",
     "iopub.status.idle": "2025-06-28T17:40:28.243647Z",
     "shell.execute_reply": "2025-06-28T17:40:28.242932Z"
    },
    "id": "5pYh4c8j1w43",
    "outputId": "8a0dca73-64e5-4f0d-c493-2c5b38392363",
    "papermill": {
     "duration": 1.885018,
     "end_time": "2025-06-28T17:40:28.244679",
     "exception": false,
     "start_time": "2025-06-28T17:40:26.359661",
     "status": "completed"
    },
    "tags": []
   },
   "outputs": [
    {
     "name": "stdout",
     "output_type": "stream",
     "text": [
      "Status Code: 200\n",
      "Response Headers: {'Server': 'nginx', 'Date': 'Sat, 28 Jun 2025 17:40:27 GMT', 'Content-Type': 'text/html; charset=UTF-8', 'Transfer-Encoding': 'chunked', 'Vary': 'Accept-Encoding, User-Agent', 'Set-Cookie': 'FRSPSID=g09ntn8p2rgvk7uj2e2c1m04r6; path=/; domain=.sprzedajemy.pl; secure; HttpOnly, _items_per_page__offer_list=60; expires=Mon, 28-Jul-2025 17:40:27 GMT; Max-Age=2592000; path=/; domain=.sprzedajemy.pl; secure; httponly, observed_id=1820298786860290bcc9950121076627433680955; expires=Thu, 28-Jun-2125 18:40:27 GMT; Max-Age=3155677200; path=/; domain=.sprzedajemy.pl; secure; httponly', 'Expires': 'Thu, 19 Nov 1981 08:52:00 GMT', 'Cache-Control': 'no-store, no-cache, must-revalidate, post-check=0, pre-check=0', 'Pragma': 'no-cache', 'Content-Encoding': 'gzip'}\n",
      "Response Text (first 2000 chars): <!DOCTYPE html><html xmlns=\"http://www.w3.org/1999/xhtml\" xml:lang=\"pl\" lang=\"pl\" class=\"no-js\" >\n",
      "<head>\n",
      "\t\t\t<!-- Google Tag Manager -->\n",
      "\t\t\t<script>(function(w,d,s,l,i){w[l]=w[l]||[];w[l].push({'gtm.start':\n",
      "\t\t\t\t\t\tnew Date().getTime(),event:'gtm.js'});var f=d.getElementsByTagName(s)[0],\n",
      "\t\t\t\t\tj=d.createElement(s),dl=l!='dataLayer'?'&l='+l:'';j.async=true;j.src=\n",
      "\t\t\t\t\t'https://www.googletagmanager.com/gtm.js?id='+i+dl\n",
      "\t\t\t\t\t\t\t\t\t    ;f.parentNode.insertBefore(j,f);\n",
      "\t\t\t\t    })(window,document,'script','dataLayer','GTM-P3S238');</script>\n",
      "\t\t\t<!-- End Google Tag Manager -->\n",
      "\t<title>Mieszkania Kraków na sprzedaż, wynajem - Sprzedajemy.pl</title><meta http-equiv=\"Content-Type\" content=\"text/html; charset=UTF-8\" >\n",
      "<meta http-equiv=\"X-UA-Compatible\" content=\"IE=edge\" >\n",
      "<meta name=\"description\" content=\"Ogłoszenia o tematyce:  w kategorii Mieszkania - Kupuj i sprzedawaj rzeczy używane i nowe w kategorii Mieszkania na Sprzedajemy.pl\" >\n",
      "<meta property=\"og:title\" content=\"Mieszkania Kraków na sprzedaż, wynajem - Sprzedajemy.pl\" >\n",
      "<meta property=\"og:type\" content=\"website\" >\n",
      "<meta property=\"og:image\" content=\"https://thumbs.img-sprzedajemy.pl/facebook/sprzedajemy.pl.png\" >\n",
      "<meta property=\"og:image:width\" content=\"200\" >\n",
      "<meta property=\"og:image:height\" content=\"200\" >\n",
      "<meta property=\"og:url\" content=\"https://sprzedajemy.pl/krakow/nieruchomosci/mieszkania\" >\n",
      "<meta property=\"og:site_name\" content=\"Sprzedajemy.pl\" >\n",
      "<meta property=\"fb:app_id\" content=\"173258269367442\" >\n",
      "<meta property=\"og:description\" content=\"Ogłoszenia o tematyce:  w kategorii Mieszkania - Kupuj i sprzedawaj rzeczy używane i nowe w kategorii Mieszkania na Sprzedajemy.pl\" >\n",
      "<meta name=\"robots\" content=\"noindex, follow\" >\t\t<script  async=\"async\" src=\"https://static.criteo.net/js/ld/publishertag.js\"></script>\n",
      "        <script  async=\"async\" src=\"https://ap.lijit.com/www/sovrn_beacon_standalone/sovrn_standalone_beacon.js?iid=13417409&amp;uid=sprzedajemy\" id=\"sBeacon\"></script>\n",
      "\t\t<script  async=\"async\" src=\"https://securepuba\n",
      "Titles: ['Stare Miasto 61,5 m2 KLIMA Wawel wykończone Kazimierz wysokie ROI', 'Stare Miasto 32m2 KLIMA Wawel wykończone Kazimierz wysokie ROI', 'wykończone 27,56 m², balkon, Kniaźnina, TRAMWAJ, Prądnik Czerwony/Huta', 'Stylowy apartament z widokiem na panoramę Krakowa - od właściciela', 'Nowoczesny apartament z panoramicznym widokiem - od właściciela', 'Wyjątkowe mieszkanie z widokiem na klasztor w Tyńcu i panoramę Tatr', 'Mieszkanie na sprzedaż/zamiana 39m2', 'Mieszkanie Kraków Mirosława Krzyżańskiego 122m 4 pokoje', 'Mieszkanie przy Rynku Głównym! Centrum Krakowa', 'Mieszkanie Kraków Władysława Taklińskiego 57m2 3 pokoje', 'Mieszkanie Kraków Mirosława Krzyżańskiego 122m2 4-pokojowe', 'Mieszkanie do sprzedania Kraków 55m2 3 pokoje', 'Sprzedam mieszkanie w systemie TBS', 'Sprzedaż BEZPOŚREDNIA od właściciela - 40,20 m2', 'Mieszkanie sprzedam 41m2 Kraków os. Piastów', 'Mieszkanie 80m2 3 pokojowe Kraków Zygmunta Augusta', 'Bezpośrednio wynajmę 2-pokojowe ul.Batorego po remoncie.', 'Strych, Błonia, ul. Filarecka, Rezerwacja', 'Duża kawalerka - Kraków – Salwator – ul. Kościuszki – 2 pokoje – 35 m²', 'Kraków – Prądnik Biały – ul. Pachońskiego – 2 pokoje – 36 m² – BALKON', '5 min do centrum - 2-pokojowe mieszkanie 48 m² – wysoki standard', 'Sprzedam mieszkanie 3 pokojowe słoneczne 2 Pulku Lotniczego', 'Mieszkanie 53.46m2 3 pokoje Kraków', 'Mieszkanie Kraków 53m2 3 pokoje', 'Mieszkanie Kraków 103m2', 'Mieszkanie 58.4m2 Kraków Śliczna', 'Przetarg - sprzedaż lokalu mieszkalnego - Kraków', 'Mieszkanie Kraków Rydlówka 36.95m2', 'Oferta wynajmu mieszkania 33m2 2 pokoje Kraków Cieszyńska', 'Mieszkanie 45 metrów Kraków', 'Mieszkanie Kraków os. Zielone 67m2', 'Mieszkanie Kraków 38.69m2 2 pokoje', 'Sprzedaż mieszkania 90.48m2 4-pokojowe Kraków', 'Mieszkanie do sprzedania 36.05m2 2 pokoje Kraków Imbramowska', 'Mieszkanie 28.75m2 Kraków', 'Oferta wynajmu mieszkania Kraków 51.8m2 3 pok', 'Oferta wynajmu mieszkania Kraków Bosacka 59m 2 pokoje', 'Ogłoszenie mieszkanie Kraków Walerego Sławka 52.01 metrów', 'Mieszkanie Kraków Imbramowska 38.69 metrów 2 pok', 'Mieszkanie Kraków 62.19 metrów 2 pok', 'Sprzedaż mieszkania Kraków Jasnogórska 62.19m2 3 pokoje', 'Oferta sprzedaży mieszkania 48m2 3 pokoje Kraków Os. Złotego Wieku', 'Mieszkanie 33.77m2 1 pokój Kraków', 'Ogłoszenie mieszkanie 47.37 metrów 1 pokój Kraków', 'Oferta sprzedaży mieszkania Kraków 62.19m2 3 pokojowe', 'Mieszkanie 120.46m2 3 pokoje Kraków Retoryka', 'Mieszkanie Kraków os. Strusia 36.6m2 2 pokoje', 'Mieszkanie 38.69m2 2 pokoje Kraków', 'Sprzedam mieszkanie Kraków os. Albertyńskie 50m 3 pokoje', 'Mieszkanie Kraków 47.31 metrów 2 pokoje', 'Mieszkanie 73m2 3-pok Kraków', 'Mieszkanie 35m2 2 pokoje Kraków', 'Mieszkanie Kraków Krowoderska 105.9 metrów 3 pokoje', 'Mieszkanie Kraków al. Aleje Zygmunta Krasińskiego 43.71m2 1 pokojowe', 'Mieszkanie sprzedam 38.69m2 2 pok Kraków Imbramowska', 'Mieszkanie Kraków Fredry 52.36m2 3 pokoje', 'Mieszkanie Kraków Jasnogórska 62.19m2 3-pokojowe', 'Mieszkanie Kraków 40.5m2 2 pokoje', 'Mieszkanie 38.62m2 2 pokoje Kraków', 'Oferta sprzedaży mieszkania Kraków Imbramowska 38.69m2 2 pokoje']\n",
      "60\n",
      "Prices: ['1 748 885 zł', '959 000 zł', '569 000 zł', '897 000 zł', '997 000 zł', '779 000 zł', '539 000 zł', '1 150 000 zł', '1 400 000 zł', '3 000 zł', '1 299 000 zł', '609 000 zł', '180 000 zł', '650 000 zł', '610 000 zł', '5 000 zł', '3 850 zł', '389 999 zł', '2 800 zł', '2 800 zł', '3 550 zł', '949 000 zł', '739 000 zł', '679 000 zł', '2 500 000 zł', '959 000 zł', '4 243 500 zł', '880 000 zł', '3 700 zł', '615 000 zł', '799 000 zł', '833 286 zł', '1 481 941 zł', '499 000 zł', '808 954 zł', '2 200 zł', '3 200 zł', '2 800 zł', '837 540 zł', '870 660 zł', '858 222 zł', '617 000 zł', '559 000 zł', '3 200 zł', '858 222 zł', '3 210 461 zł', '590 000 zł', '711 828 zł', '750 000 zł', '520 000 zł', '1 195 000 zł', '875 000 zł', '9 000 zł', '749 000 zł', '720 252 zł', '3 500 zł', '858 222 zł', '550 000 zł', '459 000 zł', '794 252 zł']\n",
      "60\n"
     ]
    }
   ],
   "source": [
    "import requests\n",
    "from bs4 import BeautifulSoup\n",
    "import pandas as pd\n",
    "import os\n",
    "\n",
    "url = \"https://sprzedajemy.pl/krakow/nieruchomosci/mieszkania?offset=0&items_per_page=60\"\n",
    "\n",
    "headers = {\n",
    "    \"User-Agent\": \"Mozilla/5.0 (Windows NT 10.0; Win64; x64) AppleWebKit/537.36 (KHTML, like Gecko) Chrome/58.0.3029.110 Safari/537.36\",\n",
    "    \"Accept\": \"text/html,application/xhtml+xml,application/xml;q=0.9,image/webp,image/apng,*/*;q=0.8\",\n",
    "    \"Accept-Encoding\": \"gzip, deflate, br\",\n",
    "    \"Accept-Language\": \"en-US,en;q=0.9,pl;q=0.8\",\n",
    "    \"Connection\": \"keep-alive\"\n",
    "}\n",
    "\n",
    "response = requests.get(url, headers=headers)\n",
    "response = requests.get(url, headers=headers)\n",
    "\n",
    "# Debugowanie odpowiedzi\n",
    "print(f\"Status Code: {response.status_code}\")\n",
    "print(f\"Response Headers: {response.headers}\")\n",
    "print(f\"Response Text (first 2000 chars): {response.text[:2000]}\")\n",
    "\n",
    "# Jeśli odpowiedź jest poprawna, wykonaj webscraping\n",
    "if response.status_code == 200:\n",
    "    soup = BeautifulSoup(response.content, \"html.parser\")\n",
    "\n",
    "    # Pobieranie ofert mieszkań\n",
    "    titles = [h2.a.text.strip() for h2 in soup.find_all(\"h2\", class_=\"title\") if h2.a]\n",
    "    prices = [p.text.replace(\"\\xa0\", \" \").strip() for p in soup.find_all(\"span\", class_=\"price\")]\n",
    "\n",
    "    print(\"Titles:\", titles)\n",
    "    print(len(titles))\n",
    "    print(\"Prices:\", prices)\n",
    "    print(len(prices))\n",
    "\n",
    "    df = pd.DataFrame({\"Title\": titles, \"Price\": prices})\n",
    "\n",
    "    # Dopisanie do pliku CSV\n",
    "    df.to_csv(\"scraped_data.csv\", mode='a', header=not os.path.exists('scraped_data.csv'), index=False)\n",
    "else:\n",
    "    print(\"Failed to retrieve data.\")\n"
   ]
  }
 ],
 "metadata": {
  "colab": {
   "provenance": []
  },
  "kernelspec": {
   "display_name": "Python 3",
   "name": "python3"
  },
  "language_info": {
   "codemirror_mode": {
    "name": "ipython",
    "version": 3
   },
   "file_extension": ".py",
   "mimetype": "text/x-python",
   "name": "python",
   "nbconvert_exporter": "python",
   "pygments_lexer": "ipython3",
   "version": "3.9.23"
  },
  "papermill": {
   "default_parameters": {},
   "duration": 2.966383,
   "end_time": "2025-06-28T17:40:28.461764",
   "environment_variables": {},
   "exception": null,
   "input_path": "nb.ipynb",
   "output_path": "nbo.ipynb",
   "parameters": {},
   "start_time": "2025-06-28T17:40:25.495381",
   "version": "2.6.0"
  }
 },
 "nbformat": 4,
 "nbformat_minor": 5
}