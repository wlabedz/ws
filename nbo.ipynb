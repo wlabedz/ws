{
 "cells": [
  {
   "cell_type": "code",
   "execution_count": 1,
   "id": "050073ce",
   "metadata": {
    "colab": {
     "base_uri": "https://localhost:8080/"
    },
    "execution": {
     "iopub.execute_input": "2025-08-22T13:47:11.345211Z",
     "iopub.status.busy": "2025-08-22T13:47:11.344964Z",
     "iopub.status.idle": "2025-08-22T13:47:13.966341Z",
     "shell.execute_reply": "2025-08-22T13:47:13.965551Z"
    },
    "id": "5pYh4c8j1w43",
    "outputId": "8a0dca73-64e5-4f0d-c493-2c5b38392363",
    "papermill": {
     "duration": 2.624946,
     "end_time": "2025-08-22T13:47:13.967459",
     "exception": false,
     "start_time": "2025-08-22T13:47:11.342513",
     "status": "completed"
    },
    "tags": []
   },
   "outputs": [
    {
     "name": "stdout",
     "output_type": "stream",
     "text": [
      "Status Code: 200\n",
      "Response Headers: {'Server': 'nginx', 'Date': 'Fri, 22 Aug 2025 13:47:13 GMT', 'Content-Type': 'text/html; charset=UTF-8', 'Transfer-Encoding': 'chunked', 'Vary': 'Accept-Encoding, User-Agent', 'Set-Cookie': 'FRSPSID=phmvd3hinldm6l501bsdvmaco1; path=/; domain=.sprzedajemy.pl; secure; HttpOnly, _items_per_page__offer_list=60; expires=Sun, 21-Sep-2025 13:47:13 GMT; Max-Age=2592000; path=/; domain=.sprzedajemy.pl; secure; httponly, observed_id=115069933368a874e171183570017369491845698; expires=Wed, 22-Aug-2125 14:47:13 GMT; Max-Age=3155677200; path=/; domain=.sprzedajemy.pl; secure; httponly', 'Expires': 'Thu, 19 Nov 1981 08:52:00 GMT', 'Cache-Control': 'no-store, no-cache, must-revalidate, post-check=0, pre-check=0', 'Pragma': 'no-cache', 'Content-Encoding': 'gzip'}\n",
      "Response Text (first 2000 chars): <!DOCTYPE html><html xmlns=\"http://www.w3.org/1999/xhtml\" xml:lang=\"pl\" lang=\"pl\" class=\"no-js\" >\n",
      "<head>\n",
      "\t\t\t<!-- Google Tag Manager -->\n",
      "\t\t\t<script>(function(w,d,s,l,i){w[l]=w[l]||[];w[l].push({'gtm.start':\n",
      "\t\t\t\t\t\tnew Date().getTime(),event:'gtm.js'});var f=d.getElementsByTagName(s)[0],\n",
      "\t\t\t\t\tj=d.createElement(s),dl=l!='dataLayer'?'&l='+l:'';j.async=true;j.src=\n",
      "\t\t\t\t\t'https://www.googletagmanager.com/gtm.js?id='+i+dl\n",
      "\t\t\t\t\t\t\t\t\t    ;f.parentNode.insertBefore(j,f);\n",
      "\t\t\t\t    })(window,document,'script','dataLayer','GTM-P3S238');</script>\n",
      "\t\t\t<!-- End Google Tag Manager -->\n",
      "\t<title>Mieszkania Kraków na sprzedaż, wynajem - Sprzedajemy.pl</title><meta http-equiv=\"Content-Type\" content=\"text/html; charset=UTF-8\" >\n",
      "<meta http-equiv=\"X-UA-Compatible\" content=\"IE=edge\" >\n",
      "<meta name=\"description\" content=\"Ogłoszenia o tematyce:  w kategorii Mieszkania - Kupuj i sprzedawaj rzeczy używane i nowe w kategorii Mieszkania na Sprzedajemy.pl\" >\n",
      "<meta property=\"og:title\" content=\"Mieszkania Kraków na sprzedaż, wynajem - Sprzedajemy.pl\" >\n",
      "<meta property=\"og:type\" content=\"website\" >\n",
      "<meta property=\"og:image\" content=\"https://thumbs.img-sprzedajemy.pl/facebook/sprzedajemy.pl.png\" >\n",
      "<meta property=\"og:image:width\" content=\"200\" >\n",
      "<meta property=\"og:image:height\" content=\"200\" >\n",
      "<meta property=\"og:url\" content=\"https://sprzedajemy.pl/krakow/nieruchomosci/mieszkania\" >\n",
      "<meta property=\"og:site_name\" content=\"Sprzedajemy.pl\" >\n",
      "<meta property=\"fb:app_id\" content=\"173258269367442\" >\n",
      "<meta property=\"og:description\" content=\"Ogłoszenia o tematyce:  w kategorii Mieszkania - Kupuj i sprzedawaj rzeczy używane i nowe w kategorii Mieszkania na Sprzedajemy.pl\" >\n",
      "<meta name=\"robots\" content=\"noindex, follow\" >\t\t<script  async=\"async\" src=\"https://static.criteo.net/js/ld/publishertag.js\"></script>\n",
      "        <script  async=\"async\" src=\"https://ap.lijit.com/www/sovrn_beacon_standalone/sovrn_standalone_beacon.js?iid=13417409&amp;uid=sprzedajemy\" id=\"sBeacon\"></script>\n",
      "\t\t<script  async=\"async\" src=\"https://securepuba\n",
      "Titles: ['2-pokojowe mieszkanie po remoncie | PROMOCJA | ul Bronowicka', '3 niezależne lokale z KW– inwestycja z potencjałem', 'Kawalerka Salwator Centrum POD INWESTYCJE', 'Mieszkanie na sprzedaż/zamiana 39m2', 'Kraków, Stare Miasto sprzedaż/zamiana', 'Oferta sprzedaży mieszkania 94.68m2 4 pokoje Kraków', 'Mieszkanie 37.92m2 2 pokojowe Kraków', 'Mieszkanie Kraków 64.89m2 4 pokojowe', 'Mieszkanie 72.56m2 3-pokojowe Kraków Wadowicka', 'Mieszkanie 74.64m2 3-pokojowe Kraków', 'Mieszkanie 70.88m2 4-pok Kraków', 'Mieszkanie Kraków 53.81m2 4 pokoje', 'Mieszkanie 83.1 metrów 4 pokoje Kraków Wadowicka', 'Mieszkanie Kraków Praska 120.23m 4 pokoje', 'Mieszkanie Kraków Babińskiego 51.31m2 2 pokoje', 'Mieszkanie 41.35m2 2 pokojowe Kraków', 'Mieszkanie 52.04m2 2 pokojowe Kraków Na Błonie', 'Mieszkanie 43.35m2 2 pokoje Kraków Wadowicka', 'Mieszkanie do sprzedania 65.46m2 3-pok Kraków Wadowicka', 'Mieszkanie 38.44m2 2 pokoje Kraków Na Błonie', 'Mieszkanie 57m2 Kraków', 'Oferta sprzedaży mieszkania Kraków 50.86m2 2 pokoje', 'Mieszkanie Kraków 38.11m2 2-pok', 'Mieszkanie Kraków Kantrowicka 51.42 metry 3 pokoje', 'Do sprzedaży mieszkanie 41.48m Kraków Wadowicka', 'Mieszkanie do sprzedania 35.05m2 2-pokojowe Kraków', 'Mieszkanie 64.89m2 4-pok Kraków Kantrowicka', 'Oferta sprzedaży mieszkania 45.84m2 2 pokoje Kraków Wadowicka', 'Mieszkanie Kraków Piasta Kołodzieja 56.19m 3 pokoje', 'Mieszkanie sprzedam Kraków Na Błonie 26.64m2 1 pokój', 'Mieszkanie 51.65m2 3 pok Kraków', 'Mieszkanie Kraków Wita Stwosza 28.75m2 1-pokojowe', 'Mieszkanie Kraków Pękowicka 64.92 metry 4 pokoje', 'Mieszkanie 34.97m2 1 pokój Kraków ul. Aleksandry', 'Mieszkanie Kraków 35.05m2', 'Oferta sprzedaży mieszkania Kraków Pękowicka 72.03m2 4 pok', 'Mieszkanie 39.8m2 2 pok Kraków', 'Sprzedam mieszkanie Kraków 37.38m2 2-pokojowe', 'Mieszkanie 38.51m2 2 pokoje Kraków', 'Mieszkanie do sprzedania 70.67m2 4 pokojowe Kraków Wadowicka', 'Mieszkanie Kraków 70.88m2 4 pokojowe', 'Mieszkanie 45.02 metry 2 pokoje Kraków Śliczna', 'Mieszkanie 36.09m2 2 pokoje Kraków Kantrowicka', '2 pokoje z garderobą - bez barier - bez prowizji!', 'Mieszkanie Kraków 45.84m2 2 pokojowe', 'Mieszkanie 47.43m2 2 pokoje Kraków Wadowicka', 'Mieszkanie 31.74m 1 pokój Kraków', 'Mieszkanie do sprzedania 70.67m2 4 pok Kraków', 'Mieszkanie 38.76m2 Kraków Pękowicka', 'Mieszkanie 93.14 metry 4-pokojowe Kraków', 'Ogłoszenie mieszkanie 36.09m2 2-pokojowe Kraków', 'Mieszkanie Kraków 71.47m2 3 pok', 'Mieszkanie na sprzedaż Kraków 74.74 metry 3 pokojowe', 'Mieszkanie Kraków 35.26m2 2 pokoje', 'Oferta sprzedaży mieszkania 40.38m2 2 pokojowe Kraków Wadowicka', 'Ogłoszenie mieszkanie 43m2 Kraków Banacha', 'Mieszkanie na sprzedaż Kraków 48.62m2 2-pok', 'Oferta sprzedaży mieszkania Kraków 51.43m2 3 pokoje', 'Oferta sprzedaży mieszkania 44.15 metrów 2 pokoje Kraków', 'Mieszkanie 73.4m2 Kraków']\n",
      "60\n",
      "Prices: ['710 000 zł', '265 000 zł', '428 824 zł', '526 000 zł', '2 083 000 zł', '1 287 648 zł', '640 848 zł', '811 125 zł', '1 255 288 zł', '1 178 000 zł', '1 190 784 zł', '871 722 zł', '1 279 740 zł', '3 000 000 zł', '944 104 zł', '779 447 zł', '871 878 zł', '814 980 zł', '1 112 820 zł', '774 681 zł', '950 000 zł', '935 824 zł', '776 872 zł', '635 987 zł', '759 084 zł', '482 813 zł', '811 125 zł', '857 208 zł', '741 708 zł', '567 245 zł', '847 060 zł', '649 612 zł', '1 045 212 zł', '525 000 zł', '482 813 zł', '1 148 878 zł', '684 560 zł', '767 747 zł', '768 158 zł', '1 201 390 zł', '1 162 432 zł', '839 520 zł', '514 282 zł', '630 000 zł', '848 040 zł', '867 969 zł', '615 756 zł', '1 180 189 zł', '655 044 zł', '1 350 530 zł', '497 139 zł', '1 177 182 zł', '1 195 840 zł', '632 124 zł', '714 726 zł', '659 000 zł', '876 923 zł', '848 595 zł', '749 000 zł', '1 258 810 zł']\n",
      "60\n"
     ]
    }
   ],
   "source": [
    "import requests\n",
    "from bs4 import BeautifulSoup\n",
    "import pandas as pd\n",
    "import os\n",
    "\n",
    "url = \"https://sprzedajemy.pl/krakow/nieruchomosci/mieszkania?offset=0&items_per_page=60\"\n",
    "\n",
    "headers = {\n",
    "    \"User-Agent\": \"Mozilla/5.0 (Windows NT 10.0; Win64; x64) AppleWebKit/537.36 (KHTML, like Gecko) Chrome/58.0.3029.110 Safari/537.36\",\n",
    "    \"Accept\": \"text/html,application/xhtml+xml,application/xml;q=0.9,image/webp,image/apng,*/*;q=0.8\",\n",
    "    \"Accept-Encoding\": \"gzip, deflate, br\",\n",
    "    \"Accept-Language\": \"en-US,en;q=0.9,pl;q=0.8\",\n",
    "    \"Connection\": \"keep-alive\"\n",
    "}\n",
    "\n",
    "response = requests.get(url, headers=headers)\n",
    "response = requests.get(url, headers=headers)\n",
    "\n",
    "# Debugowanie odpowiedzi\n",
    "print(f\"Status Code: {response.status_code}\")\n",
    "print(f\"Response Headers: {response.headers}\")\n",
    "print(f\"Response Text (first 2000 chars): {response.text[:2000]}\")\n",
    "\n",
    "# Jeśli odpowiedź jest poprawna, wykonaj webscraping\n",
    "if response.status_code == 200:\n",
    "    soup = BeautifulSoup(response.content, \"html.parser\")\n",
    "\n",
    "    # Pobieranie ofert mieszkań\n",
    "    titles = [h2.a.text.strip() for h2 in soup.find_all(\"h2\", class_=\"title\") if h2.a]\n",
    "    prices = [p.text.replace(\"\\xa0\", \" \").strip() for p in soup.find_all(\"span\", class_=\"price\")]\n",
    "\n",
    "    print(\"Titles:\", titles)\n",
    "    print(len(titles))\n",
    "    print(\"Prices:\", prices)\n",
    "    print(len(prices))\n",
    "\n",
    "    df = pd.DataFrame({\"Title\": titles, \"Price\": prices})\n",
    "\n",
    "    # Dopisanie do pliku CSV\n",
    "    df.to_csv(\"scraped_data.csv\", mode='a', header=not os.path.exists('scraped_data.csv'), index=False)\n",
    "else:\n",
    "    print(\"Failed to retrieve data.\")\n"
   ]
  }
 ],
 "metadata": {
  "colab": {
   "provenance": []
  },
  "kernelspec": {
   "display_name": "Python 3",
   "name": "python3"
  },
  "language_info": {
   "codemirror_mode": {
    "name": "ipython",
    "version": 3
   },
   "file_extension": ".py",
   "mimetype": "text/x-python",
   "name": "python",
   "nbconvert_exporter": "python",
   "pygments_lexer": "ipython3",
   "version": "3.9.23"
  },
  "papermill": {
   "default_parameters": {},
   "duration": 3.710942,
   "end_time": "2025-08-22T13:47:14.184169",
   "environment_variables": {},
   "exception": null,
   "input_path": "nb.ipynb",
   "output_path": "nbo.ipynb",
   "parameters": {},
   "start_time": "2025-08-22T13:47:10.473227",
   "version": "2.6.0"
  }
 },
 "nbformat": 4,
 "nbformat_minor": 5
}