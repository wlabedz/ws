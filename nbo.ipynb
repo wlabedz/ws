{
 "cells": [
  {
   "cell_type": "code",
   "execution_count": 1,
   "id": "ac0e4096",
   "metadata": {
    "colab": {
     "base_uri": "https://localhost:8080/"
    },
    "execution": {
     "iopub.execute_input": "2025-05-06T07:45:38.098745Z",
     "iopub.status.busy": "2025-05-06T07:45:38.098473Z",
     "iopub.status.idle": "2025-05-06T07:45:40.172895Z",
     "shell.execute_reply": "2025-05-06T07:45:40.172182Z"
    },
    "id": "5pYh4c8j1w43",
    "outputId": "8a0dca73-64e5-4f0d-c493-2c5b38392363",
    "papermill": {
     "duration": 2.07774,
     "end_time": "2025-05-06T07:45:40.173983",
     "exception": false,
     "start_time": "2025-05-06T07:45:38.096243",
     "status": "completed"
    },
    "tags": []
   },
   "outputs": [
    {
     "name": "stdout",
     "output_type": "stream",
     "text": [
      "Status Code: 200\n",
      "Response Headers: {'Server': 'nginx', 'Date': 'Tue, 06 May 2025 07:45:39 GMT', 'Content-Type': 'text/html; charset=UTF-8', 'Transfer-Encoding': 'chunked', 'Vary': 'Accept-Encoding, User-Agent', 'Set-Cookie': 'FRSPSID=tl022tq108f2klsk4gfnv4o302; path=/; domain=.sprzedajemy.pl; secure; HttpOnly, _items_per_page__offer_list=60; expires=Thu, 05-Jun-2025 07:45:39 GMT; Max-Age=2592000; path=/; domain=.sprzedajemy.pl; secure; httponly, observed_id=6242603006819be23bb47d6182609015411692881; expires=Sun, 06-May-2125 08:45:39 GMT; Max-Age=3155677200; path=/; domain=.sprzedajemy.pl; secure; httponly', 'Expires': 'Thu, 19 Nov 1981 08:52:00 GMT', 'Cache-Control': 'no-store, no-cache, must-revalidate, post-check=0, pre-check=0', 'Pragma': 'no-cache', 'Content-Encoding': 'gzip'}\n",
      "Response Text (first 2000 chars): <!DOCTYPE html><html xmlns=\"http://www.w3.org/1999/xhtml\" xml:lang=\"pl\" lang=\"pl\" class=\"no-js\" >\n",
      "<head>\n",
      "\t\t\t<!-- Google Tag Manager -->\n",
      "\t\t\t<script>(function(w,d,s,l,i){w[l]=w[l]||[];w[l].push({'gtm.start':\n",
      "\t\t\t\t\t\tnew Date().getTime(),event:'gtm.js'});var f=d.getElementsByTagName(s)[0],\n",
      "\t\t\t\t\tj=d.createElement(s),dl=l!='dataLayer'?'&l='+l:'';j.async=true;j.src=\n",
      "\t\t\t\t\t'https://www.googletagmanager.com/gtm.js?id='+i+dl\n",
      "\t\t\t\t\t\t\t\t\t    ;f.parentNode.insertBefore(j,f);\n",
      "\t\t\t\t    })(window,document,'script','dataLayer','GTM-P3S238');</script>\n",
      "\t\t\t<!-- End Google Tag Manager -->\n",
      "\t<title>Mieszkania Kraków na sprzedaż, wynajem - Sprzedajemy.pl</title><meta http-equiv=\"Content-Type\" content=\"text/html; charset=UTF-8\" >\n",
      "<meta http-equiv=\"X-UA-Compatible\" content=\"IE=edge\" >\n",
      "<meta name=\"description\" content=\"Ogłoszenia o tematyce:  w kategorii Mieszkania - Kupuj i sprzedawaj rzeczy używane i nowe w kategorii Mieszkania na Sprzedajemy.pl\" >\n",
      "<meta property=\"og:title\" content=\"Mieszkania Kraków na sprzedaż, wynajem - Sprzedajemy.pl\" >\n",
      "<meta property=\"og:type\" content=\"website\" >\n",
      "<meta property=\"og:image\" content=\"https://thumbs.img-sprzedajemy.pl/facebook/sprzedajemy.pl.png\" >\n",
      "<meta property=\"og:image:width\" content=\"200\" >\n",
      "<meta property=\"og:image:height\" content=\"200\" >\n",
      "<meta property=\"og:url\" content=\"https://sprzedajemy.pl/krakow/nieruchomosci/mieszkania\" >\n",
      "<meta property=\"og:site_name\" content=\"Sprzedajemy.pl\" >\n",
      "<meta property=\"fb:app_id\" content=\"173258269367442\" >\n",
      "<meta property=\"og:description\" content=\"Ogłoszenia o tematyce:  w kategorii Mieszkania - Kupuj i sprzedawaj rzeczy używane i nowe w kategorii Mieszkania na Sprzedajemy.pl\" >\n",
      "<meta name=\"robots\" content=\"noindex, follow\" >\t\t<script  async=\"async\" src=\"https://static.criteo.net/js/ld/publishertag.js\"></script>\n",
      "        <script  async=\"async\" src=\"https://ap.lijit.com/www/sovrn_beacon_standalone/sovrn_standalone_beacon.js?iid=13417409&amp;uid=sprzedajemy\" id=\"sBeacon\"></script>\n",
      "\t\t<script  async=\"async\" src=\"https://securepuba\n",
      "Titles: ['Kraków, Stare Miasto sprzedaż/zamiana', '2 pokoje 41m2 blisko Aquaparku wkrótce tramwaj!', 'Mieszkanie na sprzedaż/zamiana 39m2', 'Mieszkanie Kraków 46.76m2 2-pokojowe', 'Mieszkanie Kraków Starego Dębu 32m2', 'Mieszkanie 50.3 metry 4-pok Kraków Altanowa', 'Mieszkanie 71.51m2 3 pokoje Kraków Przewóz', 'Mieszkanie Kraków 29 listopada - okolice 103.86m2 2-pokojowe', 'Mieszkanie 52m2 2 pokojowe Kraków Pszczelna', 'Mieszkanie 57m2 2 pokoje Kraków', 'Oferta sprzedaży mieszkania 39.36m2 2 pok Kraków', 'Mieszkanie Kraków Ludowa 58.51m2 3-pok', 'Sprzedam kawalerkę TBS z Balkonem - Plac Centralny - Czyżyny', 'Wynajmę mieszkanie 3-pokojowe Ruczaj Bobrzyńskiego', 'Mieszkanie do sprzedania Kraków Filipowicza 72m2 2 pokojowe', '2 pokojowe mieszkanie z balkonem - bezpośrednio ,bez prowizji', 'Mieszkanie 34m2 2 pokoje Kraków Na Wzgórzach', 'Mieszkanie Kraków os. Hutnicze 20.81m2 1 pokój', 'Stylowy apartament z widokiem na panoramę Krakowa - od właściciela', 'Nowoczesny apartament z panoramicznym widokiem - od właściciela', 'Wyjątkowe mieszkanie z widokiem na klasztor w Tyńcu i panoramę Tatr', 'Wynajmę mieszkanie Kraków Kantora 36m2 1 pokój', 'Mieszkanie do wynajęcia Górka Narodowa, 79m2', 'Mieszkanie 30.45m2 1 pokojowe Kraków', 'Mieszkanie Kraków Chełmońskiego 64.14m2 3 pokoje', 'Mieszkanie 101.17m2 4 pokoje Kraków Dożynkowa', 'Sprzedaż mieszkania Kraków Podmiejska 74.7m2 3-pok', 'Oferta sprzedaży mieszkania 29.44m2 1-pokojowe Kraków', 'Mieszkanie Kraków Kazimierza Wielkiego 53m2 2 pokojowe', 'Mieszkanie 66.15m2 2 pok Kraków Majowa', 'Sprzedam mieszkanie Kraków 66.9m2 3 pokoje', 'Mieszkanie sprzedam Kraków 45m2 3-pok', 'Mieszkanie Kraków 40 metrów 2 pokoje', 'Mieszkanie Kraków Balicka 76.3 metry', 'Oferta sprzedaży mieszkania Kraków Dworcowa 43.28m2 2 pokoje', 'Apartament, 2 pokoje, jadalnia, garaż,Krowodrza', 'Mieszkanie Kraków os. Krakowiaków 57m2 3-pokojowe', 'Mieszkanie, os. Na Stoku, 3 pokoje+kuchnia+GRATIS', 'Ogłoszenie mieszkanie Kraków 30 metrów 1 pokojowe', 'Mieszkanie na sprzedaż Kraków 57.76m2 3 pokoje', 'Mieszkanie Kraków Snycerska 57.04m2 4-pok', 'Mieszkanie Kraków Dąbska 37m2 2-pokojowe', 'TBS Rżąka Rydygiera 1 pokój 33 m2 parter ogródek', 'Jednopokojowe z oddzielną kuchnią', 'Oferta sprzedaży mieszkania Kraków Olszanicka 151.83m2 7 pokojowe', 'Mieszkanie Kraków os. Tysiąclecia 28.2m2 1-pokojowe', 'Ogłoszenie mieszkanie 49.9m2 2 pok Kraków Szlak', '2 pokoje oddzielna kuchnia z jadalnią Przy parku', '4-POKOJOWE MIESZKANIE - BEZPOŚREDNIO', 'Do sprzedaży mieszkanie 61.99m2 4 pok Kraków Cegielniana', 'Sprzedam dwupokojowe mieszkanie ul. Prądnicka Kraków', 'nowe 2- pokojowe Kraków/Dębniki/ Kapelanka/ Pychowicka', 'Sprzedam mieszkanie 26m oś Szkolne Kraków', 'Mieszkanie 38 m Kraków  - Nowa Huta bez pośredników', 'Wynajmę, pokój jednoosobowy dla pracującego mężczyzny', '2-pokojowe mieszkanie na Prądniku Białym (ul. Siewna). PL/EN', 'Mieszkanie na sprzedaż ul. Wróblewskiego, Kraków, Stare Miasto _ 16 000zl/…', 'Widokowe mieszkanie 3 pokoje', 'Do wynajęcia mieszkanie jednopokojowe 36m', 'Mieszkanie na wynajem']\n",
      "60\n",
      "Prices: ['2 254 000 zł', '710 000 zł', '548 000 zł', '1 100 000 zł', '615 000 zł', '1 395 000 zł', '1 065 000 zł', '1 713 690 zł', '3 000 zł', '3 000 zł', '599 000 zł', '829 000 zł', '200 000 zł', '3 500 zł', '849 000 zł', '585 000 zł', '1 850 zł', '499 000 zł', '897 000 zł', '997 000 zł', '790 000 zł', '1 900 zł', '3 600 zł', '850 000 zł', '4 000 zł', '1 080 000 zł', '1 159 000 zł', '569 000 zł', '739 000 zł', '2 600 zł', '999 999 zł', '690 000 zł', '3 000 zł', '3 600 zł', '569 000 zł', '3 800 zł', '2 900 zł', '648 000 zł', '1 950 zł', '855 000 zł', '740 000 zł', '665 000 zł', '195 000 zł', '2 200 zł', '2 383 737 zł', '499 000 zł', '3 200 zł', '549 500 zł', '880 000 zł', '990 000 zł', '542 000 zł', '3 250 zł', '400 000 zł', '550 000 zł', '600 zł', '863 900 zł', '1 968 000 zł', '748 000 zł', '2 000 zł', '2 500 zł']\n",
      "60\n"
     ]
    }
   ],
   "source": [
    "import requests\n",
    "from bs4 import BeautifulSoup\n",
    "import pandas as pd\n",
    "import os\n",
    "\n",
    "url = \"https://sprzedajemy.pl/krakow/nieruchomosci/mieszkania?offset=0&items_per_page=60\"\n",
    "\n",
    "headers = {\n",
    "    \"User-Agent\": \"Mozilla/5.0 (Windows NT 10.0; Win64; x64) AppleWebKit/537.36 (KHTML, like Gecko) Chrome/58.0.3029.110 Safari/537.36\",\n",
    "    \"Accept\": \"text/html,application/xhtml+xml,application/xml;q=0.9,image/webp,image/apng,*/*;q=0.8\",\n",
    "    \"Accept-Encoding\": \"gzip, deflate, br\",\n",
    "    \"Accept-Language\": \"en-US,en;q=0.9,pl;q=0.8\",\n",
    "    \"Connection\": \"keep-alive\"\n",
    "}\n",
    "\n",
    "response = requests.get(url, headers=headers)\n",
    "response = requests.get(url, headers=headers)\n",
    "\n",
    "# Debugowanie odpowiedzi\n",
    "print(f\"Status Code: {response.status_code}\")\n",
    "print(f\"Response Headers: {response.headers}\")\n",
    "print(f\"Response Text (first 2000 chars): {response.text[:2000]}\")\n",
    "\n",
    "# Jeśli odpowiedź jest poprawna, wykonaj webscraping\n",
    "if response.status_code == 200:\n",
    "    soup = BeautifulSoup(response.content, \"html.parser\")\n",
    "\n",
    "    # Pobieranie ofert mieszkań\n",
    "    titles = [h2.a.text.strip() for h2 in soup.find_all(\"h2\", class_=\"title\") if h2.a]\n",
    "    prices = [p.text.replace(\"\\xa0\", \" \").strip() for p in soup.find_all(\"span\", class_=\"price\")]\n",
    "\n",
    "    print(\"Titles:\", titles)\n",
    "    print(len(titles))\n",
    "    print(\"Prices:\", prices)\n",
    "    print(len(prices))\n",
    "\n",
    "    df = pd.DataFrame({\"Title\": titles, \"Price\": prices})\n",
    "\n",
    "    # Dopisanie do pliku CSV\n",
    "    df.to_csv(\"scraped_data.csv\", mode='a', header=not os.path.exists('scraped_data.csv'), index=False)\n",
    "else:\n",
    "    print(\"Failed to retrieve data.\")\n"
   ]
  }
 ],
 "metadata": {
  "colab": {
   "provenance": []
  },
  "kernelspec": {
   "display_name": "Python 3",
   "name": "python3"
  },
  "language_info": {
   "codemirror_mode": {
    "name": "ipython",
    "version": 3
   },
   "file_extension": ".py",
   "mimetype": "text/x-python",
   "name": "python",
   "nbconvert_exporter": "python",
   "pygments_lexer": "ipython3",
   "version": "3.9.22"
  },
  "papermill": {
   "default_parameters": {},
   "duration": 3.165903,
   "end_time": "2025-05-06T07:45:40.391378",
   "environment_variables": {},
   "exception": null,
   "input_path": "nb.ipynb",
   "output_path": "nbo.ipynb",
   "parameters": {},
   "start_time": "2025-05-06T07:45:37.225475",
   "version": "2.6.0"
  }
 },
 "nbformat": 4,
 "nbformat_minor": 5
}