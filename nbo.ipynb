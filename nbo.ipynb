{
 "cells": [
  {
   "cell_type": "code",
   "execution_count": 1,
   "id": "626e8bd4",
   "metadata": {
    "colab": {
     "base_uri": "https://localhost:8080/"
    },
    "execution": {
     "iopub.execute_input": "2025-10-03T16:37:50.839504Z",
     "iopub.status.busy": "2025-10-03T16:37:50.839230Z",
     "iopub.status.idle": "2025-10-03T16:37:52.915226Z",
     "shell.execute_reply": "2025-10-03T16:37:52.914588Z"
    },
    "id": "5pYh4c8j1w43",
    "outputId": "8a0dca73-64e5-4f0d-c493-2c5b38392363",
    "papermill": {
     "duration": 2.079688,
     "end_time": "2025-10-03T16:37:52.916420",
     "exception": false,
     "start_time": "2025-10-03T16:37:50.836732",
     "status": "completed"
    },
    "tags": []
   },
   "outputs": [
    {
     "name": "stdout",
     "output_type": "stream",
     "text": [
      "Status Code: 200\n",
      "Response Headers: {'Server': 'nginx', 'Date': 'Fri, 03 Oct 2025 16:37:52 GMT', 'Content-Type': 'text/html; charset=UTF-8', 'Transfer-Encoding': 'chunked', 'Vary': 'Accept-Encoding, User-Agent', 'Set-Cookie': 'FRSPSID=podem1sm2pdbibr8nhcounc217; path=/; domain=.sprzedajemy.pl; secure; HttpOnly, _items_per_page__offer_list=60; expires=Sun, 02-Nov-2025 16:37:52 GMT; Max-Age=2592000; path=/; domain=.sprzedajemy.pl; secure; httponly, observed_id=76252867868dffbe07ac59842281803138753556; expires=Wed, 03-Oct-2125 17:37:52 GMT; Max-Age=3155677200; path=/; domain=.sprzedajemy.pl; secure; httponly', 'Expires': 'Thu, 19 Nov 1981 08:52:00 GMT', 'Cache-Control': 'no-store, no-cache, must-revalidate, post-check=0, pre-check=0', 'Pragma': 'no-cache', 'Content-Encoding': 'gzip'}\n",
      "Response Text (first 2000 chars): <!DOCTYPE html><html xmlns=\"http://www.w3.org/1999/xhtml\" xml:lang=\"pl\" lang=\"pl\" class=\"no-js\" >\n",
      "<head>\n",
      "\t\t\t<!-- Google Tag Manager -->\n",
      "\t\t\t<script>(function(w,d,s,l,i){w[l]=w[l]||[];w[l].push({'gtm.start':\n",
      "\t\t\t\t\t\tnew Date().getTime(),event:'gtm.js'});var f=d.getElementsByTagName(s)[0],\n",
      "\t\t\t\t\tj=d.createElement(s),dl=l!='dataLayer'?'&l='+l:'';j.async=true;j.src=\n",
      "\t\t\t\t\t'https://www.googletagmanager.com/gtm.js?id='+i+dl\n",
      "\t\t\t\t\t\t\t\t\t    ;f.parentNode.insertBefore(j,f);\n",
      "\t\t\t\t    })(window,document,'script','dataLayer','GTM-P3S238');</script>\n",
      "\t\t\t<!-- End Google Tag Manager -->\n",
      "\t<title>Mieszkania Kraków na sprzedaż, wynajem - Sprzedajemy.pl</title><meta http-equiv=\"Content-Type\" content=\"text/html; charset=UTF-8\" >\n",
      "<meta http-equiv=\"X-UA-Compatible\" content=\"IE=edge\" >\n",
      "<meta name=\"description\" content=\"Ogłoszenia o tematyce:  w kategorii Mieszkania - Kupuj i sprzedawaj rzeczy używane i nowe w kategorii Mieszkania na Sprzedajemy.pl\" >\n",
      "<meta property=\"og:title\" content=\"Mieszkania Kraków na sprzedaż, wynajem - Sprzedajemy.pl\" >\n",
      "<meta property=\"og:type\" content=\"website\" >\n",
      "<meta property=\"og:image\" content=\"https://thumbs.img-sprzedajemy.pl/facebook/sprzedajemy.pl.png\" >\n",
      "<meta property=\"og:image:width\" content=\"200\" >\n",
      "<meta property=\"og:image:height\" content=\"200\" >\n",
      "<meta property=\"og:url\" content=\"https://sprzedajemy.pl/krakow/nieruchomosci/mieszkania\" >\n",
      "<meta property=\"og:site_name\" content=\"Sprzedajemy.pl\" >\n",
      "<meta property=\"fb:app_id\" content=\"173258269367442\" >\n",
      "<meta property=\"og:description\" content=\"Ogłoszenia o tematyce:  w kategorii Mieszkania - Kupuj i sprzedawaj rzeczy używane i nowe w kategorii Mieszkania na Sprzedajemy.pl\" >\n",
      "<meta name=\"robots\" content=\"noindex, follow\" >\t\t<script  async=\"async\" src=\"https://static.criteo.net/js/ld/publishertag.js\"></script>\n",
      "        <script  async=\"async\" src=\"https://ap.lijit.com/www/sovrn_beacon_standalone/sovrn_standalone_beacon.js?iid=13417409&amp;uid=sprzedajemy\" id=\"sBeacon\"></script>\n",
      "\t\t<script  async=\"async\" src=\"https://securepuba\n",
      "Titles: ['Sprzedam dwupokojowe mieszkanie os. Dywizjonu 303, 19C Kraków', 'Mieszkanie Wzgórza Krzesławickie bez prowizji.', 'Kraków – Bieńczyce, os. Kazimierzowskie', 'Mieszkanie z widokiem na góry', 'Podedworze 13', 'Mieszkanie 3-pokojowe Zakrzówek Ruczaj wynajem na 9 miesięcy', 'Wyjątkowy lokal przy ul. Krowoderskiej z widokiem na stronę ogrodową', 'Dwa pokoje - stare miasto - Do wejścia - Własność', 'Kraków, Stare Miasto sprzedaż/zamiana', 'Mieszkanie Kraków Wadowicka 51.71 metrów 2-pokojowe', 'Mieszkanie 70.88m2 Kraków', 'Mieszkanie sprzedam Kraków 64.14m2 4-pokojowe', 'Ogłoszenie mieszkanie Kraków 64.65m2 4 pokoje', 'Oferta sprzedaży mieszkania Kraków Nałkowskiego 54.26m2 3 pokoje', 'Oferta wynajmu mieszkania 38.95m 2 pokoje Kraków Jana Kantego Federowicza', 'Mieszkanie 60.05m2 2 pokojowe Kraków', 'Mieszkanie na sprzedaż 66.11m2 3 pokojowe Kraków', 'Mieszkanie 83.1m2 4-pok Kraków Wadowicka', 'Mieszkanie Kraków 29 listopada - okolice 35.26m2 2-pokojowe', 'Mieszkanie Kraków Babińskiego 46.66 metrów 2-pokojowe', 'Mieszkanie Kraków Pękowicka 40.37m2 2-pok', 'Mieszkanie Kraków Pękowicka 54.95m2 3 pokoje', 'Mieszkanie do sprzedania Kraków 39.29m2 2 pok', 'Oferta sprzedaży mieszkania Kraków 44.27m2 2 pokoje', 'Mieszkanie Kraków Podłużna - okolice 124.97m2 4 pokoje', 'Mieszkanie 61.89m2 4-pokojowe Kraków', 'Oferta sprzedaży mieszkania 72.18m2 4-pokojowe Kraków Pękowicka', 'Do sprzedaży mieszkanie Kraków Wadowicka 44.08m2 2-pokojowe', 'Mieszkanie Kraków Pękowicka 33.98m2 2 pokoje', 'Mieszkanie Kraków Pękowicka 65.47m2 4 pokoje', 'Mieszkanie Kraków 52.26m2 3 pokoje', 'Apartament nad Wisłą na Starym Podgórzu', 'Mieszkanie 72.4m2 3 pokoje Kraków Babińskiego', 'Mieszkanie 72.4m2 Kraków Babińskiego', 'Mieszkanie 65.16m2 4 pokoje Kraków Kantrowicka', 'Mieszkanie 54.06m2 3 pokoje Kraków Pękowicka', 'Mieszkanie Kraków 55.09m2 2 pokoje', 'Mieszkanie na sprzedaż 79.3m2 3-pokojowe Kraków', 'Mieszkanie 51.41m2 Kraków', 'Ogłoszenie mieszkanie Kraków 39.56 metrów 2-pokojowe', 'Mieszkanie Kraków 49.86m2 3-pokojowe', 'Mieszkanie 68.78m2 3 pokoje Kraków Wadowicka', 'Mieszkanie 56.09 metrów 3 pok Kraków', 'Do sprzedaży mieszkanie Kraków Na Błonie 57.11m2 3-pokojowe', 'Mieszkanie 38.19m 2 pokoje Kraków', 'Mieszkanie Kraków Bukowa 57.19 metrów 3 pokoje', 'Oferta sprzedaży mieszkania Kraków 50.3m2 3 pokojowe', 'Sprzedaż mieszkania 62.46m2 3 pokoje Kraków Wadowicka', 'Mieszkanie 57.32m2 2-pokojowe Kraków', 'Mieszkanie Kraków 72.4m2 2 pokoje', 'Mieszkanie Kraków 37.17m2 2 pokoje', 'Mieszkanie Kraków Reduta 74.64 metry 3-pok', 'Mieszkanie do sprzedania 35.26m 2 pokoje Kraków', 'Mieszkanie na sprzedaż 48m2 Kraków 29 Listopada', 'Mieszkanie sprzedam Kraków Pękowicka 53.6m2 4-pokojowe', 'Sprzedaż mieszkania Kraków Pękowicka 40.46m2 2-pok', 'Mieszkanie 37.83m2 2 pokojowe Kraków', 'Oferta sprzedaży mieszkania 65.05m2 4 pokoje Kraków', 'Oferta sprzedaży mieszkania 62.82m2 3 pokoje Kraków Pękowicka', 'Oferta wynajmu mieszkania Kraków Krowoderskich Zuchów 45m2 2 pokojowe']\n",
      "60\n",
      "Prices: ['620 000 zł', '719 000 zł', '579 000 zł', '265 000 zł', '542 000 zł', '3 100 zł', '1 340 000 zł', '715 155 zł', '2 015 000 zł', '879 070 zł', '1 219 136 zł', '1 032 654 zł', '1 047 330 zł', '999 000 zł', '2 700 zł', '1 134 945 zł', '991 650 zł', '1 312 980 zł', '657 206 zł', '858 544 zł', '682 253 zł', '890 190 zł', '664 001 zł', '743 736 zł', '2 186 975 zł', '999 523 zł', '1 144 053 zł', '806 664 zł', '581 058 zł', '1 050 793 zł', '857 064 zł', '1 049 000 zł', '1 245 280 zł', '1 194 600 zł', '835 677 zł', '878 475 zł', '930 919 zł', '1 276 730 zł', '694 035 zł', '672 520 zł', '703 026 zł', '1 100 480 zł', '1 061 110 zł', '1 058 305 zł', '656 868 zł', '657 685 zł', '724 320 zł', '1 068 066 zł', '878 000 zł', '1 194 600 zł', '633 748 zł', '1 200 000 zł', '587 079 zł', '975 000 zł', '873 680 zł', '681 751 zł', '645 001 zł', '1 050 557 zł', '1 014 543 zł', '3 000 zł']\n",
      "60\n"
     ]
    }
   ],
   "source": [
    "import requests\n",
    "from bs4 import BeautifulSoup\n",
    "import pandas as pd\n",
    "import os\n",
    "\n",
    "url = \"https://sprzedajemy.pl/krakow/nieruchomosci/mieszkania?offset=0&items_per_page=60\"\n",
    "\n",
    "headers = {\n",
    "    \"User-Agent\": \"Mozilla/5.0 (Windows NT 10.0; Win64; x64) AppleWebKit/537.36 (KHTML, like Gecko) Chrome/58.0.3029.110 Safari/537.36\",\n",
    "    \"Accept\": \"text/html,application/xhtml+xml,application/xml;q=0.9,image/webp,image/apng,*/*;q=0.8\",\n",
    "    \"Accept-Encoding\": \"gzip, deflate, br\",\n",
    "    \"Accept-Language\": \"en-US,en;q=0.9,pl;q=0.8\",\n",
    "    \"Connection\": \"keep-alive\"\n",
    "}\n",
    "\n",
    "response = requests.get(url, headers=headers)\n",
    "response = requests.get(url, headers=headers)\n",
    "\n",
    "# Debugowanie odpowiedzi\n",
    "print(f\"Status Code: {response.status_code}\")\n",
    "print(f\"Response Headers: {response.headers}\")\n",
    "print(f\"Response Text (first 2000 chars): {response.text[:2000]}\")\n",
    "\n",
    "# Jeśli odpowiedź jest poprawna, wykonaj webscraping\n",
    "if response.status_code == 200:\n",
    "    soup = BeautifulSoup(response.content, \"html.parser\")\n",
    "\n",
    "    # Pobieranie ofert mieszkań\n",
    "    titles = [h2.a.text.strip() for h2 in soup.find_all(\"h2\", class_=\"title\") if h2.a]\n",
    "    prices = [p.text.replace(\"\\xa0\", \" \").strip() for p in soup.find_all(\"span\", class_=\"price\")]\n",
    "\n",
    "    print(\"Titles:\", titles)\n",
    "    print(len(titles))\n",
    "    print(\"Prices:\", prices)\n",
    "    print(len(prices))\n",
    "\n",
    "    df = pd.DataFrame({\"Title\": titles, \"Price\": prices})\n",
    "\n",
    "    # Dopisanie do pliku CSV\n",
    "    df.to_csv(\"scraped_data.csv\", mode='a', header=not os.path.exists('scraped_data.csv'), index=False)\n",
    "else:\n",
    "    print(\"Failed to retrieve data.\")\n"
   ]
  }
 ],
 "metadata": {
  "colab": {
   "provenance": []
  },
  "kernelspec": {
   "display_name": "Python 3",
   "name": "python3"
  },
  "language_info": {
   "codemirror_mode": {
    "name": "ipython",
    "version": 3
   },
   "file_extension": ".py",
   "mimetype": "text/x-python",
   "name": "python",
   "nbconvert_exporter": "python",
   "pygments_lexer": "ipython3",
   "version": "3.9.23"
  },
  "papermill": {
   "default_parameters": {},
   "duration": 3.346347,
   "end_time": "2025-10-03T16:37:53.233367",
   "environment_variables": {},
   "exception": null,
   "input_path": "nb.ipynb",
   "output_path": "nbo.ipynb",
   "parameters": {},
   "start_time": "2025-10-03T16:37:49.887020",
   "version": "2.6.0"
  }
 },
 "nbformat": 4,
 "nbformat_minor": 5
}