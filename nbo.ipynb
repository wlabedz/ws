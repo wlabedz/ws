{
 "cells": [
  {
   "cell_type": "code",
   "execution_count": 1,
   "id": "5e604015",
   "metadata": {
    "colab": {
     "base_uri": "https://localhost:8080/"
    },
    "execution": {
     "iopub.execute_input": "2025-10-03T15:57:49.678030Z",
     "iopub.status.busy": "2025-10-03T15:57:49.677730Z",
     "iopub.status.idle": "2025-10-03T15:57:51.634127Z",
     "shell.execute_reply": "2025-10-03T15:57:51.633516Z"
    },
    "id": "5pYh4c8j1w43",
    "outputId": "8a0dca73-64e5-4f0d-c493-2c5b38392363",
    "papermill": {
     "duration": 1.960094,
     "end_time": "2025-10-03T15:57:51.635281",
     "exception": false,
     "start_time": "2025-10-03T15:57:49.675187",
     "status": "completed"
    },
    "tags": []
   },
   "outputs": [
    {
     "name": "stdout",
     "output_type": "stream",
     "text": [
      "Status Code: 200\n",
      "Response Headers: {'Server': 'nginx', 'Date': 'Fri, 03 Oct 2025 15:57:51 GMT', 'Content-Type': 'text/html; charset=UTF-8', 'Transfer-Encoding': 'chunked', 'Vary': 'Accept-Encoding, User-Agent', 'Set-Cookie': 'FRSPSID=tjj0qlmupug02b9a7g8232hca7; path=/; domain=.sprzedajemy.pl; secure; HttpOnly, _items_per_page__offer_list=60; expires=Sun, 02-Nov-2025 15:57:51 GMT; Max-Age=2592000; path=/; domain=.sprzedajemy.pl; secure; httponly, observed_id=101840675468dff27f35c3e8184445210686554263; expires=Wed, 03-Oct-2125 16:57:51 GMT; Max-Age=3155677200; path=/; domain=.sprzedajemy.pl; secure; httponly', 'Expires': 'Thu, 19 Nov 1981 08:52:00 GMT', 'Cache-Control': 'no-store, no-cache, must-revalidate, post-check=0, pre-check=0', 'Pragma': 'no-cache', 'Content-Encoding': 'gzip'}\n",
      "Response Text (first 2000 chars): <!DOCTYPE html><html xmlns=\"http://www.w3.org/1999/xhtml\" xml:lang=\"pl\" lang=\"pl\" class=\"no-js\" >\n",
      "<head>\n",
      "\t\t\t<!-- Google Tag Manager -->\n",
      "\t\t\t<script>(function(w,d,s,l,i){w[l]=w[l]||[];w[l].push({'gtm.start':\n",
      "\t\t\t\t\t\tnew Date().getTime(),event:'gtm.js'});var f=d.getElementsByTagName(s)[0],\n",
      "\t\t\t\t\tj=d.createElement(s),dl=l!='dataLayer'?'&l='+l:'';j.async=true;j.src=\n",
      "\t\t\t\t\t'https://www.googletagmanager.com/gtm.js?id='+i+dl\n",
      "\t\t\t\t\t\t\t\t\t    ;f.parentNode.insertBefore(j,f);\n",
      "\t\t\t\t    })(window,document,'script','dataLayer','GTM-P3S238');</script>\n",
      "\t\t\t<!-- End Google Tag Manager -->\n",
      "\t<title>Mieszkania Kraków na sprzedaż, wynajem - Sprzedajemy.pl</title><meta http-equiv=\"Content-Type\" content=\"text/html; charset=UTF-8\" >\n",
      "<meta http-equiv=\"X-UA-Compatible\" content=\"IE=edge\" >\n",
      "<meta name=\"description\" content=\"Ogłoszenia o tematyce:  w kategorii Mieszkania - Kupuj i sprzedawaj rzeczy używane i nowe w kategorii Mieszkania na Sprzedajemy.pl\" >\n",
      "<meta property=\"og:title\" content=\"Mieszkania Kraków na sprzedaż, wynajem - Sprzedajemy.pl\" >\n",
      "<meta property=\"og:type\" content=\"website\" >\n",
      "<meta property=\"og:image\" content=\"https://thumbs.img-sprzedajemy.pl/facebook/sprzedajemy.pl.png\" >\n",
      "<meta property=\"og:image:width\" content=\"200\" >\n",
      "<meta property=\"og:image:height\" content=\"200\" >\n",
      "<meta property=\"og:url\" content=\"https://sprzedajemy.pl/krakow/nieruchomosci/mieszkania\" >\n",
      "<meta property=\"og:site_name\" content=\"Sprzedajemy.pl\" >\n",
      "<meta property=\"fb:app_id\" content=\"173258269367442\" >\n",
      "<meta property=\"og:description\" content=\"Ogłoszenia o tematyce:  w kategorii Mieszkania - Kupuj i sprzedawaj rzeczy używane i nowe w kategorii Mieszkania na Sprzedajemy.pl\" >\n",
      "<meta name=\"robots\" content=\"noindex, follow\" >\t\t<script  async=\"async\" src=\"https://static.criteo.net/js/ld/publishertag.js\"></script>\n",
      "        <script  async=\"async\" src=\"https://ap.lijit.com/www/sovrn_beacon_standalone/sovrn_standalone_beacon.js?iid=13417409&amp;uid=sprzedajemy\" id=\"sBeacon\"></script>\n",
      "\t\t<script  async=\"async\" src=\"https://securepuba\n",
      "Titles: ['Sprzedam dwupokojowe mieszkanie os. Dywizjonu 303, 19C Kraków', 'Mieszkanie Wzgórza Krzesławickie bez prowizji.', 'Kraków – Bieńczyce, os. Kazimierzowskie', 'Mieszkanie z widokiem na góry', 'Podedworze 13', 'Mieszkanie 3-pokojowe Zakrzówek Ruczaj wynajem na 9 miesięcy', 'Wyjątkowy lokal przy ul. Krowoderskiej z widokiem na stronę ogrodową', 'Dwa pokoje - stare miasto - Do wejścia - Własność', 'Kraków, Stare Miasto sprzedaż/zamiana', 'Mieszkanie Kraków 70.67m2 4 pokoje', 'Ogłoszenie mieszkanie Kraków Pękowicka 51.72 metry 3 pokoje', 'Mieszkanie 79.3m2 2 pokoje Kraków Babińskiego', 'Mieszkanie Kraków Piasta Kołodzieja 44.28m2 2 pok', 'Mieszkanie Kraków 29 listopada - okolice 35.44m2 2 pokoje', 'Mieszkanie do sprzedania Kraków Piasta Kołodzieja 44.28m2 2 pokoje', 'Oferta sprzedaży mieszkania Kraków Na Błonie 38.52m2 2-pokojowe', 'Mieszkanie na sprzedaż 93.9m2 3 pokoje Kraków Na Błonie', 'Oferta sprzedaży mieszkania 35.25 metrów 2-pok Kraków', 'Ogłoszenie mieszkanie 52.2m2 3 pokoje Kraków', 'Mieszkanie Kraków 39.08m2 2 pokoje', 'Mieszkanie 49.76 metrów 2 pokojowe Kraków', 'Mieszkanie sprzedam 43.08m2 2-pokojowe Kraków', 'Oferta sprzedaży mieszkania 54.77m2 3 pokoje Kraków Pękowicka', 'Oferta sprzedaży mieszkania Kraków Na Błonie 38.66m2 2 pokojowe', 'Mieszkanie 53.68m2 2 pokoje Kraków', 'Mieszkanie na sprzedaż 37.45m2 2 pokoje Kraków Na Błonie', 'Mieszkanie 75.19m2 Kraków', 'Mieszkanie 38.44m2 2 pokoje Kraków Na Błonie', 'Mieszkanie 37.91m2 2-pokojowe Kraków Pękowicka', 'Oferta sprzedaży mieszkania Kraków 71.79m2 4-pokojowe', 'Ogłoszenie mieszkanie 43.56m 3 pokoje Kraków', 'Mieszkanie Kraków Pękowicka 39.66m2 2-pok', 'Mieszkanie 51.91m2 3-pokojowe Kraków Pękowicka', 'Mieszkanie 62.85m2 3 pokojowe Kraków Wadowicka', 'Mieszkanie 37.92m2 2 pokojowe Kraków', 'Oferta sprzedaży mieszkania Kraków 40.61m2 1-pokojowe', 'Mieszkanie 51.72m2 2 pok Kraków', 'Mieszkanie 59.85m2 3 pokoje Kraków Babińskiego', 'Mieszkanie Kraków Pękowicka 55.99m2 3 pokojowe', 'Mieszkanie 73.4m2 Kraków', 'Mieszkanie Kraków 68.78m 3 pokoje', 'Mieszkanie 146.73m2 4-pok Kraków', 'Mieszkanie do sprzedania 61.68m2 Kraków Pękowicka', 'Sprzedam mieszkanie 77.4m2 3 pokojowe Kraków os. Wolfganga Amadeusa Mozarta', 'Mieszkanie 36.16m2 2-pokojowe Kraków', 'Mieszkanie sprzedam Kraków Na Błonie 26.64m2 1 pokój', 'Mieszkanie 52.13 metry 3-pokojowe Kraków Pękowicka', 'Sprzedam mieszkanie Kraków 72.4m2 3 pokojowe', 'Mieszkanie 126.7 metrów 5-pokojowe Kraków', 'Mieszkanie do sprzedania 58.27 metrów 2 pokoje Kraków', 'Mieszkanie na sprzedaż Kraków 34.79m2 2 pokoje', 'Mieszkanie 39.8m2 2 pok Kraków', 'Sprzedam mieszkanie 37.64m2 2 pokoje Kraków', 'Mieszkanie do sprzedania 46.46 metrów 2-pok Kraków', 'Mieszkanie Kraków 64.74m2 4 pokoje', 'Mieszkanie do sprzedania Kraków Pękowicka 63.11m2 4 pok', 'Mieszkanie 52.15 metrów 3 pok Kraków Pękowicka', 'Mieszkanie 59.85m 3 pokojowe Kraków', 'Mieszkanie Kraków Piasta Kołodzieja 71.2m2 4-pokojowe', 'Mieszkanie 71.45m2 4 pokoje Kraków Piasta Kołodzieja']\n",
      "60\n",
      "Prices: ['620 000 zł', '719 000 zł', '579 000 zł', '265 000 zł', '542 000 zł', '3 100 zł', '1 340 000 zł', '715 155 zł', '2 015 000 zł', '1 173 122 zł', '855 966 zł', '1 308 450 zł', '659 772 zł', '1 024 441 zł', '673 056 zł', '730 006 zł', '1 583 717 zł', '711 518 zł', '856 080 zł', '662 406 zł', '699 000 zł', '740 976 zł', '890 012 zł', '748 915 zł', '923 296 zł', '724 541 zł', '1 285 749 zł', '743 694 zł', '657 738 zł', '1 152 229 zł', '749 000 zł', '668 271 zł', '856 515 zł', '986 745 zł', '640 848 zł', '637 577 zł', '1 060 000 zł', '987 525 zł', '893 040 zł', '1 258 810 zł', '1 072 968 zł', '2 100 000 zł', '999 216 zł', '1 330 000 zł', '612 912 zł', '567 245 zł', '857 538 zł', '1 245 280 zł', '1 330 000 zł', '664 734 zł', '487 060 zł', '684 560 zł', '656 818 zł', '854 864 zł', '1 045 551 zł', '1 094 958 zł', '852 652 zł', '987 525 zł', '904 240 zł', '907 415 zł']\n",
      "60\n"
     ]
    }
   ],
   "source": [
    "import requests\n",
    "from bs4 import BeautifulSoup\n",
    "import pandas as pd\n",
    "import os\n",
    "\n",
    "url = \"https://sprzedajemy.pl/krakow/nieruchomosci/mieszkania?offset=0&items_per_page=60\"\n",
    "\n",
    "headers = {\n",
    "    \"User-Agent\": \"Mozilla/5.0 (Windows NT 10.0; Win64; x64) AppleWebKit/537.36 (KHTML, like Gecko) Chrome/58.0.3029.110 Safari/537.36\",\n",
    "    \"Accept\": \"text/html,application/xhtml+xml,application/xml;q=0.9,image/webp,image/apng,*/*;q=0.8\",\n",
    "    \"Accept-Encoding\": \"gzip, deflate, br\",\n",
    "    \"Accept-Language\": \"en-US,en;q=0.9,pl;q=0.8\",\n",
    "    \"Connection\": \"keep-alive\"\n",
    "}\n",
    "\n",
    "response = requests.get(url, headers=headers)\n",
    "response = requests.get(url, headers=headers)\n",
    "\n",
    "# Debugowanie odpowiedzi\n",
    "print(f\"Status Code: {response.status_code}\")\n",
    "print(f\"Response Headers: {response.headers}\")\n",
    "print(f\"Response Text (first 2000 chars): {response.text[:2000]}\")\n",
    "\n",
    "# Jeśli odpowiedź jest poprawna, wykonaj webscraping\n",
    "if response.status_code == 200:\n",
    "    soup = BeautifulSoup(response.content, \"html.parser\")\n",
    "\n",
    "    # Pobieranie ofert mieszkań\n",
    "    titles = [h2.a.text.strip() for h2 in soup.find_all(\"h2\", class_=\"title\") if h2.a]\n",
    "    prices = [p.text.replace(\"\\xa0\", \" \").strip() for p in soup.find_all(\"span\", class_=\"price\")]\n",
    "\n",
    "    print(\"Titles:\", titles)\n",
    "    print(len(titles))\n",
    "    print(\"Prices:\", prices)\n",
    "    print(len(prices))\n",
    "\n",
    "    df = pd.DataFrame({\"Title\": titles, \"Price\": prices})\n",
    "\n",
    "    # Dopisanie do pliku CSV\n",
    "    df.to_csv(\"scraped_data.csv\", mode='a', header=not os.path.exists('scraped_data.csv'), index=False)\n",
    "else:\n",
    "    print(\"Failed to retrieve data.\")\n"
   ]
  }
 ],
 "metadata": {
  "colab": {
   "provenance": []
  },
  "kernelspec": {
   "display_name": "Python 3",
   "name": "python3"
  },
  "language_info": {
   "codemirror_mode": {
    "name": "ipython",
    "version": 3
   },
   "file_extension": ".py",
   "mimetype": "text/x-python",
   "name": "python",
   "nbconvert_exporter": "python",
   "pygments_lexer": "ipython3",
   "version": "3.9.23"
  },
  "papermill": {
   "default_parameters": {},
   "duration": 3.104296,
   "end_time": "2025-10-03T15:57:51.852180",
   "environment_variables": {},
   "exception": null,
   "input_path": "nb.ipynb",
   "output_path": "nbo.ipynb",
   "parameters": {},
   "start_time": "2025-10-03T15:57:48.747884",
   "version": "2.6.0"
  }
 },
 "nbformat": 4,
 "nbformat_minor": 5
}