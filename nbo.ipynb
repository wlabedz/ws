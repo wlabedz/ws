{
 "cells": [
  {
   "cell_type": "code",
   "execution_count": 1,
   "id": "e5c840a1",
   "metadata": {
    "colab": {
     "base_uri": "https://localhost:8080/"
    },
    "execution": {
     "iopub.execute_input": "2025-09-19T14:46:07.390340Z",
     "iopub.status.busy": "2025-09-19T14:46:07.390140Z",
     "iopub.status.idle": "2025-09-19T14:46:09.615760Z",
     "shell.execute_reply": "2025-09-19T14:46:09.615013Z"
    },
    "id": "5pYh4c8j1w43",
    "outputId": "8a0dca73-64e5-4f0d-c493-2c5b38392363",
    "papermill": {
     "duration": 2.228642,
     "end_time": "2025-09-19T14:46:09.616846",
     "exception": false,
     "start_time": "2025-09-19T14:46:07.388204",
     "status": "completed"
    },
    "tags": []
   },
   "outputs": [
    {
     "name": "stdout",
     "output_type": "stream",
     "text": [
      "Status Code: 200\n",
      "Response Headers: {'Server': 'nginx', 'Date': 'Fri, 19 Sep 2025 14:46:09 GMT', 'Content-Type': 'text/html; charset=UTF-8', 'Transfer-Encoding': 'chunked', 'Vary': 'Accept-Encoding, User-Agent', 'Set-Cookie': 'FRSPSID=ncng6u52ve6lcjtbe3naips6c7; path=/; domain=.sprzedajemy.pl; secure; HttpOnly, _items_per_page__offer_list=60; expires=Sun, 19-Oct-2025 14:46:09 GMT; Max-Age=2592000; path=/; domain=.sprzedajemy.pl; secure; httponly, observed_id=79260209368cd6cb138457720809736270685087; expires=Wed, 19-Sep-2125 15:46:09 GMT; Max-Age=3155677200; path=/; domain=.sprzedajemy.pl; secure; httponly', 'Expires': 'Thu, 19 Nov 1981 08:52:00 GMT', 'Cache-Control': 'no-store, no-cache, must-revalidate, post-check=0, pre-check=0', 'Pragma': 'no-cache', 'Content-Encoding': 'gzip'}\n",
      "Response Text (first 2000 chars): <!DOCTYPE html><html xmlns=\"http://www.w3.org/1999/xhtml\" xml:lang=\"pl\" lang=\"pl\" class=\"no-js\" >\n",
      "<head>\n",
      "\t\t\t<!-- Google Tag Manager -->\n",
      "\t\t\t<script>(function(w,d,s,l,i){w[l]=w[l]||[];w[l].push({'gtm.start':\n",
      "\t\t\t\t\t\tnew Date().getTime(),event:'gtm.js'});var f=d.getElementsByTagName(s)[0],\n",
      "\t\t\t\t\tj=d.createElement(s),dl=l!='dataLayer'?'&l='+l:'';j.async=true;j.src=\n",
      "\t\t\t\t\t'https://www.googletagmanager.com/gtm.js?id='+i+dl\n",
      "\t\t\t\t\t\t\t\t\t    ;f.parentNode.insertBefore(j,f);\n",
      "\t\t\t\t    })(window,document,'script','dataLayer','GTM-P3S238');</script>\n",
      "\t\t\t<!-- End Google Tag Manager -->\n",
      "\t<title>Mieszkania Kraków na sprzedaż, wynajem - Sprzedajemy.pl</title><meta http-equiv=\"Content-Type\" content=\"text/html; charset=UTF-8\" >\n",
      "<meta http-equiv=\"X-UA-Compatible\" content=\"IE=edge\" >\n",
      "<meta name=\"description\" content=\"Ogłoszenia o tematyce:  w kategorii Mieszkania - Kupuj i sprzedawaj rzeczy używane i nowe w kategorii Mieszkania na Sprzedajemy.pl\" >\n",
      "<meta property=\"og:title\" content=\"Mieszkania Kraków na sprzedaż, wynajem - Sprzedajemy.pl\" >\n",
      "<meta property=\"og:type\" content=\"website\" >\n",
      "<meta property=\"og:image\" content=\"https://thumbs.img-sprzedajemy.pl/facebook/sprzedajemy.pl.png\" >\n",
      "<meta property=\"og:image:width\" content=\"200\" >\n",
      "<meta property=\"og:image:height\" content=\"200\" >\n",
      "<meta property=\"og:url\" content=\"https://sprzedajemy.pl/krakow/nieruchomosci/mieszkania\" >\n",
      "<meta property=\"og:site_name\" content=\"Sprzedajemy.pl\" >\n",
      "<meta property=\"fb:app_id\" content=\"173258269367442\" >\n",
      "<meta property=\"og:description\" content=\"Ogłoszenia o tematyce:  w kategorii Mieszkania - Kupuj i sprzedawaj rzeczy używane i nowe w kategorii Mieszkania na Sprzedajemy.pl\" >\n",
      "<meta name=\"robots\" content=\"noindex, follow\" >\t\t<script  async=\"async\" src=\"https://static.criteo.net/js/ld/publishertag.js\"></script>\n",
      "        <script  async=\"async\" src=\"https://ap.lijit.com/www/sovrn_beacon_standalone/sovrn_standalone_beacon.js?iid=13417409&amp;uid=sprzedajemy\" id=\"sBeacon\"></script>\n",
      "\t\t<script  async=\"async\" src=\"https://securepuba\n",
      "Titles: ['Podedworze 13', 'Stylowy lokal na parterze przy Krowoderskiej', 'Wyjątkowy lokal przy ul. Krowoderskiej z widokiem na stronę ogrodową', 'Dwa pokoje - stare miasto - Do wejścia - Własność', '2-pokojowe mieszkanie po remoncie | PROMOCJA | ul Bronowicka', 'Sprzedam dwupokojowe mieszkanie os. Dywizjonu 303, 19C Kraków', 'Mieszkanie z widokiem na góry', 'Wyjątkowe mieszkanie z widokiem na klasztor w Tyńcu i panoramę Tatr', 'Stylowy apartament z widokiem na panoramę Krakowa - od właściciela', 'Nowoczesny apartament z panoramicznym widokiem - od właściciela', 'Mieszkanie 51.51m2 3-pokojowe Kraków Pękowicka', 'Sprzedam mieszkanie Kraków 37.38m2 2-pokojowe', 'Mieszkanie 32.79m2 1 pokój Kraków', 'Mieszkanie Kraków 61.7m2 3 pokoje', 'Mieszkanie 38.51m2 2-pokojowe Kraków', 'Sprzedam mieszkanie 54.28 metrów 3 pokoje Kraków Pękowicka', 'Mieszkanie Kraków Wadowicka 66.11m2 3 pokoje', 'Mieszkanie Kraków Babińskiego 33.25 metrów 1 pok', 'Oferta sprzedaży mieszkania 51.41m2 3-pokojowe Kraków Kantrowicka', 'Mieszkanie 43.35m2 2 pokoje Kraków Wadowicka', 'Mieszkanie Kraków 53.81m2 4 pokoje', 'Oferta sprzedaży mieszkania Kraków 51.43m2 3 pokoje', 'Oferta sprzedaży mieszkania Kraków Pękowicka 36.2m2 2-pok', 'Oferta sprzedaży mieszkania 62.1m2 4 pokoje Kraków Pękowicka', 'Mieszkanie 72.4m2 3 pokoje Kraków Babińskiego', 'Mieszkanie Kraków 61.13m2 4 pokoje', 'Mieszkanie Kraków 35.26m2 2 pokoje', 'Mieszkanie 62.46 metrów Kraków', 'Ogłoszenie mieszkanie Kraków 31.74m2', 'Oferta sprzedaży mieszkania Kraków 47.88m2 3-pokojowe', 'Mieszkanie Kraków Praska 138.7m2 5 pokojowe', 'Do sprzedaży mieszkanie Kraków 44.29m2 2 pok', 'Mieszkanie 27.42m2 Kraków', 'Mieszkanie Kraków Wadowicka 69.31m2 2 pokoje', 'Do sprzedaży mieszkanie 41.48m Kraków Wadowicka', 'Mieszkanie do sprzedania 70.88m2 3-pok Kraków Babińskiego', 'Mieszkanie 37.8m2 2 pokoje Kraków Na Błonie', 'Mieszkanie Kraków Pękowicka 38.59m2 2-pok', 'Oferta sprzedaży mieszkania 41.06m2 2-pokojowe Kraków Na Błonie', 'Mieszkanie Kraków 49.62m2 3 pokoje', 'Mieszkanie 41.12m2 1 pok Kraków Na Błonie', 'Mieszkanie 45.38 metrów Kraków Wadowicka', 'Sprzedaż mieszkania 44.29 metrów 2 pok Kraków', 'Mieszkanie Kraków 39.65m2 2-pokojowe', 'Mieszkanie do sprzedania 35.05m2 2-pokojowe Kraków', 'Ogłoszenie mieszkanie 35.05m2 2 pokoje Kraków Kantrowicka', 'Mieszkanie 38.76m2 Kraków Pękowicka', 'Mieszkanie Kraków Kantrowicka 51.41m2 3 pokoje', 'Ogłoszenie mieszkanie 49.63m2 3-pokojowe Kraków Piasta Kołodzieja', 'Mieszkanie Kraków Na Błonie 101.11m2', 'Oferta sprzedaży mieszkania 94.68m2 4 pokoje Kraków', 'Ogłoszenie mieszkanie 36.09m2 2-pokojowe Kraków', 'Mieszkanie 70.88m2 4 pokoje Kraków Wadowicka', 'Mieszkanie Kraków Babińskiego 59.52m2 3 pokojowe', 'Mieszkanie 72.12m2 Kraków', 'Mieszkanie 73.62m2 Kraków', 'Mieszkanie na sprzedaż 47.61m2 Kraków Grzegórzki', 'Mieszkanie Kraków Kantrowicka 51.42 metry 3 pokoje', 'Mieszkanie sprzedam 45.84m2 2 pokojowe Kraków', 'Mieszkanie 72.56m2 3-pokojowe Kraków Wadowicka']\n",
      "60\n",
      "Prices: ['542 000 zł', '1 890 000 zł', '1 340 000 zł', '715 155 zł', '710 000 zł', '635 000 zł', '265 000 zł', '779 000 zł', '890 000 zł', '997 000 zł', '844 764 zł', '767 747 zł', '636 126 zł', '860 000 zł', '760 225 zł', '879 336 zł', '1 077 593 zł', '628 425 zł', '668 330 zł', '814 980 zł', '871 722 zł', '848 595 zł', '615 400 zł', '999 810 zł', '1 295 960 zł', '987 249 zł', '632 124 zł', '1 105 542 zł', '599 886 zł', '797 202 zł', '2 798 000 zł', '668 779 zł', '472 995 zł', '1 136 684 zł', '759 084 zł', '1 169 520 zł', '762 766 zł', '656 030 zł', '785 149 zł', '719 490 zł', '768 203 zł', '821 378 zł', '664 350 zł', '672 067 zł', '508 225 zł', '462 707 zł', '655 044 zł', '771 150 zł', '719 635 zł', '1 649 710 zł', '1 287 648 zł', '497 139 zł', '1 176 608 zł', '982 080 zł', '1 132 000 zł', '1 148 472 zł', '1 003 780 zł', '635 987 zł', '820 536 zł', '1 255 288 zł']\n",
      "60\n"
     ]
    }
   ],
   "source": [
    "import requests\n",
    "from bs4 import BeautifulSoup\n",
    "import pandas as pd\n",
    "import os\n",
    "\n",
    "url = \"https://sprzedajemy.pl/krakow/nieruchomosci/mieszkania?offset=0&items_per_page=60\"\n",
    "\n",
    "headers = {\n",
    "    \"User-Agent\": \"Mozilla/5.0 (Windows NT 10.0; Win64; x64) AppleWebKit/537.36 (KHTML, like Gecko) Chrome/58.0.3029.110 Safari/537.36\",\n",
    "    \"Accept\": \"text/html,application/xhtml+xml,application/xml;q=0.9,image/webp,image/apng,*/*;q=0.8\",\n",
    "    \"Accept-Encoding\": \"gzip, deflate, br\",\n",
    "    \"Accept-Language\": \"en-US,en;q=0.9,pl;q=0.8\",\n",
    "    \"Connection\": \"keep-alive\"\n",
    "}\n",
    "\n",
    "response = requests.get(url, headers=headers)\n",
    "response = requests.get(url, headers=headers)\n",
    "\n",
    "# Debugowanie odpowiedzi\n",
    "print(f\"Status Code: {response.status_code}\")\n",
    "print(f\"Response Headers: {response.headers}\")\n",
    "print(f\"Response Text (first 2000 chars): {response.text[:2000]}\")\n",
    "\n",
    "# Jeśli odpowiedź jest poprawna, wykonaj webscraping\n",
    "if response.status_code == 200:\n",
    "    soup = BeautifulSoup(response.content, \"html.parser\")\n",
    "\n",
    "    # Pobieranie ofert mieszkań\n",
    "    titles = [h2.a.text.strip() for h2 in soup.find_all(\"h2\", class_=\"title\") if h2.a]\n",
    "    prices = [p.text.replace(\"\\xa0\", \" \").strip() for p in soup.find_all(\"span\", class_=\"price\")]\n",
    "\n",
    "    print(\"Titles:\", titles)\n",
    "    print(len(titles))\n",
    "    print(\"Prices:\", prices)\n",
    "    print(len(prices))\n",
    "\n",
    "    df = pd.DataFrame({\"Title\": titles, \"Price\": prices})\n",
    "\n",
    "    # Dopisanie do pliku CSV\n",
    "    df.to_csv(\"scraped_data.csv\", mode='a', header=not os.path.exists('scraped_data.csv'), index=False)\n",
    "else:\n",
    "    print(\"Failed to retrieve data.\")\n"
   ]
  }
 ],
 "metadata": {
  "colab": {
   "provenance": []
  },
  "kernelspec": {
   "display_name": "Python 3",
   "name": "python3"
  },
  "language_info": {
   "codemirror_mode": {
    "name": "ipython",
    "version": 3
   },
   "file_extension": ".py",
   "mimetype": "text/x-python",
   "name": "python",
   "nbconvert_exporter": "python",
   "pygments_lexer": "ipython3",
   "version": "3.9.23"
  },
  "papermill": {
   "default_parameters": {},
   "duration": 3.322329,
   "end_time": "2025-09-19T14:46:09.833518",
   "environment_variables": {},
   "exception": null,
   "input_path": "nb.ipynb",
   "output_path": "nbo.ipynb",
   "parameters": {},
   "start_time": "2025-09-19T14:46:06.511189",
   "version": "2.6.0"
  }
 },
 "nbformat": 4,
 "nbformat_minor": 5
}