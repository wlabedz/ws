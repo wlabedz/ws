{
 "cells": [
  {
   "cell_type": "code",
   "execution_count": 1,
   "id": "86d65fdb",
   "metadata": {
    "colab": {
     "base_uri": "https://localhost:8080/"
    },
    "execution": {
     "iopub.execute_input": "2025-04-16T13:03:30.994128Z",
     "iopub.status.busy": "2025-04-16T13:03:30.993550Z",
     "iopub.status.idle": "2025-04-16T13:03:33.113588Z",
     "shell.execute_reply": "2025-04-16T13:03:33.112877Z"
    },
    "id": "5pYh4c8j1w43",
    "outputId": "8a0dca73-64e5-4f0d-c493-2c5b38392363",
    "papermill": {
     "duration": 2.123738,
     "end_time": "2025-04-16T13:03:33.114672",
     "exception": false,
     "start_time": "2025-04-16T13:03:30.990934",
     "status": "completed"
    },
    "tags": []
   },
   "outputs": [
    {
     "name": "stdout",
     "output_type": "stream",
     "text": [
      "Status Code: 200\n",
      "Response Headers: {'Server': 'nginx', 'Date': 'Wed, 16 Apr 2025 13:03:32 GMT', 'Content-Type': 'text/html; charset=UTF-8', 'Transfer-Encoding': 'chunked', 'Vary': 'Accept-Encoding, User-Agent', 'Set-Cookie': 'FRSPSID=dkfdnrnl32sg7qh22p70g293e6; path=/; domain=.sprzedajemy.pl; secure; HttpOnly, _items_per_page__offer_list=60; expires=Fri, 16-May-2025 13:03:32 GMT; Max-Age=2592000; path=/; domain=.sprzedajemy.pl; secure; httponly, observed_id=187960620967ffaaa4a6bc72130221439852946243; expires=Mon, 16-Apr-2125 14:03:32 GMT; Max-Age=3155677200; path=/; domain=.sprzedajemy.pl; secure; httponly', 'Expires': 'Thu, 19 Nov 1981 08:52:00 GMT', 'Cache-Control': 'no-store, no-cache, must-revalidate, post-check=0, pre-check=0', 'Pragma': 'no-cache', 'Content-Encoding': 'gzip'}\n",
      "Response Text (first 2000 chars): <!DOCTYPE html><html xmlns=\"http://www.w3.org/1999/xhtml\" xml:lang=\"pl\" lang=\"pl\" class=\"no-js\" >\n",
      "<head>\n",
      "\t\t\t<!-- Google Tag Manager -->\n",
      "\t\t\t<script>(function(w,d,s,l,i){w[l]=w[l]||[];w[l].push({'gtm.start':\n",
      "\t\t\t\t\t\tnew Date().getTime(),event:'gtm.js'});var f=d.getElementsByTagName(s)[0],\n",
      "\t\t\t\t\tj=d.createElement(s),dl=l!='dataLayer'?'&l='+l:'';j.async=true;j.src=\n",
      "\t\t\t\t\t'https://www.googletagmanager.com/gtm.js?id='+i+dl\n",
      "\t\t\t\t\t\t\t\t\t    ;f.parentNode.insertBefore(j,f);\n",
      "\t\t\t\t    })(window,document,'script','dataLayer','GTM-P3S238');</script>\n",
      "\t\t\t<!-- End Google Tag Manager -->\n",
      "\t<title>Mieszkania Kraków na sprzedaż, wynajem - Sprzedajemy.pl</title><meta http-equiv=\"Content-Type\" content=\"text/html; charset=UTF-8\" >\n",
      "<meta http-equiv=\"X-UA-Compatible\" content=\"IE=edge\" >\n",
      "<meta name=\"description\" content=\"Ogłoszenia o tematyce:  w kategorii Mieszkania - Kupuj i sprzedawaj rzeczy używane i nowe w kategorii Mieszkania na Sprzedajemy.pl\" >\n",
      "<meta property=\"og:title\" content=\"Mieszkania Kraków na sprzedaż, wynajem - Sprzedajemy.pl\" >\n",
      "<meta property=\"og:type\" content=\"website\" >\n",
      "<meta property=\"og:image\" content=\"https://thumbs.img-sprzedajemy.pl/facebook/sprzedajemy.pl.png\" >\n",
      "<meta property=\"og:image:width\" content=\"200\" >\n",
      "<meta property=\"og:image:height\" content=\"200\" >\n",
      "<meta property=\"og:url\" content=\"https://sprzedajemy.pl/krakow/nieruchomosci/mieszkania\" >\n",
      "<meta property=\"og:site_name\" content=\"Sprzedajemy.pl\" >\n",
      "<meta property=\"fb:app_id\" content=\"173258269367442\" >\n",
      "<meta property=\"og:description\" content=\"Ogłoszenia o tematyce:  w kategorii Mieszkania - Kupuj i sprzedawaj rzeczy używane i nowe w kategorii Mieszkania na Sprzedajemy.pl\" >\n",
      "<meta name=\"robots\" content=\"noindex, follow\" >\t\t<script  async=\"async\" src=\"https://static.criteo.net/js/ld/publishertag.js\"></script>\n",
      "        <script  async=\"async\" src=\"https://ap.lijit.com/www/sovrn_beacon_standalone/sovrn_standalone_beacon.js?iid=13417409&amp;uid=sprzedajemy\" id=\"sBeacon\"></script>\n",
      "\t\t<script  async=\"async\" src=\"https://securepuba\n",
      "Titles: ['Mieszkanie przy Parku Rzecznym Tonie', 'Strych do adaptacji, Błonia, ul. Filarecka', 'Kraków, Stare Miasto sprzedaż/zamiana', 'Apartament, 2 pokoje, jadalnia, garaż,Krowodrza', '2 pokoje,garaż,wysoki standard,ul.Rakowicka,ENG', '2 pokoje 41m2 blisko Aquaparku wkrótce tramwaj!', 'M2 dwustronne Bieńczyce dostępne do 25 kwietnia', 'Nowoczesne, wykończone, z garażem i balkonem', 'Mieszkanie na sprzedaż/zamiana 39m2', '2 lub 3 pokoje,62m2,balkon, Widok na Wawel', 'Mieszkanie z ogródkiem Zakrzówek bezczynszowe', 'Mieszkanie Kraków 41m 1 pok', 'Mieszkanie Kraków 27.42 metry 4-pokojowe', 'Mieszkanie z potencjałem od właściciela, Nowa Huta Os. Na Skarpie, jasne i…', 'Oferta sprzedaży mieszkania Kraków Armii Krajowej - okolice 89.16m2 4-pokojowe', 'OD ZARAZ | BEZ KAUCJI | Centrum ul. Wrocławska 53', 'Mieszkanie na sprzedaż 77.26m2 3 pokojowe Kraków', 'Ogłoszenie mieszkanie 89.16m2 4-pokojowe Kraków', 'Mieszkanie Kraków Rydlówka 27.42m2 3 pokoje', 'Mieszkanie Kraków Armii Krajowej - okolice 70.72m2 3-pokojowe', 'Mieszkanie 27.42m2 Kraków', 'Mieszkanie 56m2 2-pok Kraków', 'Oferta sprzedaży mieszkania Kraków Rydlówka 27.42m2 4 pokoje', 'Mieszkanie Kraków Leonida Teligi 638 metrów', 'Mieszkanie Kraków 27.42m2 1-pokojowe', 'Mieszkanie 96.9m2 4-pokojowe Kraków Armii Krajowej - okolice', 'Mieszkanie Kraków Rydlówka 27.42m2', 'Mieszkanie 51.82m2 3 pokoje Kraków Centralna', 'Mieszkanie Kraków Rydlówka 27.42m2 3 pok', 'Mieszkanie Kraków Rydlówka 27.42m2 3 pok', 'Mieszkanie Krowodrz Górka 40m2', 'Mieszkanie 27.42m2 Kraków Rydlówka', 'Oferta sprzedaży mieszkania Kraków Rydlówka 27.42m2 3-pokojowe', 'Oferta sprzedaży mieszkania 101.64m2 4 pokojowe Kraków Armii Krajowej - okolice', 'Mieszkanie Kraków 27.42m2 3 pokoje', 'Mieszkanie Kraków Obozowa 115.2m2 4 pokoje', 'Mieszkanie sprzedam Kraków 51.82m2 3 pokoje', 'NOWE Mieszkanie Centrum Krakowa Rakowicka NOVUM', 'Mieszkanie do sprzedania Kraków Rydlówka 27.42m2 3 pokojowe', 'Mieszkanie 69.86m2 3-pok Kraków', 'Oferta sprzedaży mieszkania Kraków os. Avia 47.2m2 3 pok', 'Mieszkanie Kraków Rydlówka 27.42m2 1 pokój', 'Mieszkanie Kraków 27.42m2 1 pokój', 'Mieszkanie Kraków Rydlówka 27.42m2 3-pokojowe', 'Mieszkanie Kraków 78.1m2', 'Mieszkanie do sprzedania Kraków 27.42m2 1-pokojowe', 'Ogłoszenie mieszkanie 83.1m 4 pokoje Kraków Armii Krajowej - okolice', 'Mieszkanie Kraków 27.42m2', 'Mieszkanie 123.27m2 4-pokojowe Kraków', 'Mieszkanie 99.07m2 4 pokoje Kraków Armii Krajowej - okolice', 'Do sprzedaży mieszkanie Kraków Rydlówka 27.42 metry', 'Mieszkanie Kraków Rydlówka 27.42m2', 'Oferta sprzedaży mieszkania Kraków Rydlówka 27.42 metry 3 pokoje', 'Mieszkanie Kraków Pszczelna 58m2', 'Oferta sprzedaży mieszkania 27.42m2 Kraków', 'Sprzedaż mieszkania 27.42m2 1 pokój Kraków', 'Sprzedaż mieszkania Kraków Nawojki 47.8m2 3 pokojowe', 'Mieszkanie 27.42m2 3 pokoje Kraków', 'Mieszkanie 27.42m2 3-pokojowe Kraków Rydlówka', 'Oferta sprzedaży mieszkania 27.42m2 3-pok Kraków']\n",
      "60\n",
      "Prices: ['550 000 zł', '379 999 zł', '2 254 000 zł', '3 800 zł', '3 000 zł', '710 000 zł', '599 000 zł', '990 000 zł', '548 000 zł', '1 590 000 zł', '460 000 zł', '2 400 zł', '1 198 496 zł', '480 000 zł', '1 638 914 zł', '3 600 zł', '1 348 885 zł', '1 726 600 zł', '1 078 683 zł', '1 360 783 zł', '1 036 821 zł', '3 300 zł', '1 149 640 zł', '650 000 zł', '852 145 zł', '2 120 809 zł', '852 145 zł', '740 000 zł', '914 085 zł', '960 778 zł', '2 800 zł', '1 091 400 zł', '969 190 zł', '1 842 588 zł', '1 096 750 zł', '1 367 000 zł', '739 000 zł', '3 920 zł', '1 139 550 zł', '1 249 859 zł', '777 000 zł', '848 328 zł', '855 962 zł', '1 083 514 zł', '1 576 206 zł', '870 276 zł', '1 617 268 zł', '847 374 zł', '2 588 670 zł', '1 898 723 zł', '1 071 199 zł', '878 864 zł', '941 316 zł', '915 000 zł', '924 075 zł', '852 145 zł', '1 250 000 zł', '1 102 513 zł', '896 253 zł', '1 005 225 zł']\n",
      "60\n"
     ]
    }
   ],
   "source": [
    "import requests\n",
    "from bs4 import BeautifulSoup\n",
    "import pandas as pd\n",
    "import os\n",
    "\n",
    "url = \"https://sprzedajemy.pl/krakow/nieruchomosci/mieszkania?offset=0&items_per_page=60\"\n",
    "\n",
    "headers = {\n",
    "    \"User-Agent\": \"Mozilla/5.0 (Windows NT 10.0; Win64; x64) AppleWebKit/537.36 (KHTML, like Gecko) Chrome/58.0.3029.110 Safari/537.36\",\n",
    "    \"Accept\": \"text/html,application/xhtml+xml,application/xml;q=0.9,image/webp,image/apng,*/*;q=0.8\",\n",
    "    \"Accept-Encoding\": \"gzip, deflate, br\",\n",
    "    \"Accept-Language\": \"en-US,en;q=0.9,pl;q=0.8\",\n",
    "    \"Connection\": \"keep-alive\"\n",
    "}\n",
    "\n",
    "response = requests.get(url, headers=headers)\n",
    "response = requests.get(url, headers=headers)\n",
    "\n",
    "# Debugowanie odpowiedzi\n",
    "print(f\"Status Code: {response.status_code}\")\n",
    "print(f\"Response Headers: {response.headers}\")\n",
    "print(f\"Response Text (first 2000 chars): {response.text[:2000]}\")\n",
    "\n",
    "# Jeśli odpowiedź jest poprawna, wykonaj webscraping\n",
    "if response.status_code == 200:\n",
    "    soup = BeautifulSoup(response.content, \"html.parser\")\n",
    "\n",
    "    # Pobieranie ofert mieszkań\n",
    "    titles = [h2.a.text.strip() for h2 in soup.find_all(\"h2\", class_=\"title\") if h2.a]\n",
    "    prices = [p.text.replace(\"\\xa0\", \" \").strip() for p in soup.find_all(\"span\", class_=\"price\")]\n",
    "\n",
    "    print(\"Titles:\", titles)\n",
    "    print(len(titles))\n",
    "    print(\"Prices:\", prices)\n",
    "    print(len(prices))\n",
    "\n",
    "    df = pd.DataFrame({\"Title\": titles, \"Price\": prices})\n",
    "\n",
    "    # Dopisanie do pliku CSV\n",
    "    df.to_csv(\"scraped_data.csv\", mode='a', header=not os.path.exists('scraped_data.csv'), index=False)\n",
    "else:\n",
    "    print(\"Failed to retrieve data.\")\n"
   ]
  }
 ],
 "metadata": {
  "colab": {
   "provenance": []
  },
  "kernelspec": {
   "display_name": "Python 3",
   "name": "python3"
  },
  "language_info": {
   "codemirror_mode": {
    "name": "ipython",
    "version": 3
   },
   "file_extension": ".py",
   "mimetype": "text/x-python",
   "name": "python",
   "nbconvert_exporter": "python",
   "pygments_lexer": "ipython3",
   "version": "3.9.22"
  },
  "papermill": {
   "default_parameters": {},
   "duration": 3.206278,
   "end_time": "2025-04-16T13:03:33.331613",
   "environment_variables": {},
   "exception": null,
   "input_path": "nb.ipynb",
   "output_path": "nbo.ipynb",
   "parameters": {},
   "start_time": "2025-04-16T13:03:30.125335",
   "version": "2.6.0"
  }
 },
 "nbformat": 4,
 "nbformat_minor": 5
}