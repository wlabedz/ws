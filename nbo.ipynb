{
 "cells": [
  {
   "cell_type": "code",
   "execution_count": 1,
   "id": "d3c23adf",
   "metadata": {
    "colab": {
     "base_uri": "https://localhost:8080/"
    },
    "execution": {
     "iopub.execute_input": "2025-10-03T16:49:00.475377Z",
     "iopub.status.busy": "2025-10-03T16:49:00.475126Z",
     "iopub.status.idle": "2025-10-03T16:49:02.641439Z",
     "shell.execute_reply": "2025-10-03T16:49:02.640719Z"
    },
    "id": "5pYh4c8j1w43",
    "outputId": "8a0dca73-64e5-4f0d-c493-2c5b38392363",
    "papermill": {
     "duration": 2.169715,
     "end_time": "2025-10-03T16:49:02.642558",
     "exception": false,
     "start_time": "2025-10-03T16:49:00.472843",
     "status": "completed"
    },
    "tags": []
   },
   "outputs": [
    {
     "name": "stdout",
     "output_type": "stream",
     "text": [
      "Status Code: 200\n",
      "Response Headers: {'Server': 'nginx', 'Date': 'Fri, 03 Oct 2025 16:49:02 GMT', 'Content-Type': 'text/html; charset=UTF-8', 'Transfer-Encoding': 'chunked', 'Vary': 'Accept-Encoding, User-Agent', 'Set-Cookie': 'FRSPSID=adfegsep7cgd39jq6tji3n0j40; path=/; domain=.sprzedajemy.pl; secure; HttpOnly, _items_per_page__offer_list=60; expires=Sun, 02-Nov-2025 16:49:02 GMT; Max-Age=2592000; path=/; domain=.sprzedajemy.pl; secure; httponly, observed_id=5446856868dffe7e33eb64149723100420797929; expires=Wed, 03-Oct-2125 17:49:02 GMT; Max-Age=3155677200; path=/; domain=.sprzedajemy.pl; secure; httponly', 'Expires': 'Thu, 19 Nov 1981 08:52:00 GMT', 'Cache-Control': 'no-store, no-cache, must-revalidate, post-check=0, pre-check=0', 'Pragma': 'no-cache', 'Content-Encoding': 'gzip'}\n",
      "Response Text (first 2000 chars): <!DOCTYPE html><html xmlns=\"http://www.w3.org/1999/xhtml\" xml:lang=\"pl\" lang=\"pl\" class=\"no-js\" >\n",
      "<head>\n",
      "\t\t\t<!-- Google Tag Manager -->\n",
      "\t\t\t<script>(function(w,d,s,l,i){w[l]=w[l]||[];w[l].push({'gtm.start':\n",
      "\t\t\t\t\t\tnew Date().getTime(),event:'gtm.js'});var f=d.getElementsByTagName(s)[0],\n",
      "\t\t\t\t\tj=d.createElement(s),dl=l!='dataLayer'?'&l='+l:'';j.async=true;j.src=\n",
      "\t\t\t\t\t'https://www.googletagmanager.com/gtm.js?id='+i+dl\n",
      "\t\t\t\t\t\t\t\t\t    ;f.parentNode.insertBefore(j,f);\n",
      "\t\t\t\t    })(window,document,'script','dataLayer','GTM-P3S238');</script>\n",
      "\t\t\t<!-- End Google Tag Manager -->\n",
      "\t<title>Mieszkania Kraków na sprzedaż, wynajem - Sprzedajemy.pl</title><meta http-equiv=\"Content-Type\" content=\"text/html; charset=UTF-8\" >\n",
      "<meta http-equiv=\"X-UA-Compatible\" content=\"IE=edge\" >\n",
      "<meta name=\"description\" content=\"Ogłoszenia o tematyce:  w kategorii Mieszkania - Kupuj i sprzedawaj rzeczy używane i nowe w kategorii Mieszkania na Sprzedajemy.pl\" >\n",
      "<meta property=\"og:title\" content=\"Mieszkania Kraków na sprzedaż, wynajem - Sprzedajemy.pl\" >\n",
      "<meta property=\"og:type\" content=\"website\" >\n",
      "<meta property=\"og:image\" content=\"https://thumbs.img-sprzedajemy.pl/facebook/sprzedajemy.pl.png\" >\n",
      "<meta property=\"og:image:width\" content=\"200\" >\n",
      "<meta property=\"og:image:height\" content=\"200\" >\n",
      "<meta property=\"og:url\" content=\"https://sprzedajemy.pl/krakow/nieruchomosci/mieszkania\" >\n",
      "<meta property=\"og:site_name\" content=\"Sprzedajemy.pl\" >\n",
      "<meta property=\"fb:app_id\" content=\"173258269367442\" >\n",
      "<meta property=\"og:description\" content=\"Ogłoszenia o tematyce:  w kategorii Mieszkania - Kupuj i sprzedawaj rzeczy używane i nowe w kategorii Mieszkania na Sprzedajemy.pl\" >\n",
      "<meta name=\"robots\" content=\"noindex, follow\" >\t\t<script  async=\"async\" src=\"https://static.criteo.net/js/ld/publishertag.js\"></script>\n",
      "        <script  async=\"async\" src=\"https://ap.lijit.com/www/sovrn_beacon_standalone/sovrn_standalone_beacon.js?iid=13417409&amp;uid=sprzedajemy\" id=\"sBeacon\"></script>\n",
      "\t\t<script  async=\"async\" src=\"https://securepuba\n",
      "Titles: ['Sprzedam dwupokojowe mieszkanie os. Dywizjonu 303, 19C Kraków', 'Mieszkanie Wzgórza Krzesławickie bez prowizji.', 'Kraków – Bieńczyce, os. Kazimierzowskie', 'Mieszkanie z widokiem na góry', 'Podedworze 13', 'Mieszkanie 3-pokojowe Zakrzówek Ruczaj wynajem na 9 miesięcy', 'Wyjątkowy lokal przy ul. Krowoderskiej z widokiem na stronę ogrodową', 'Dwa pokoje - stare miasto - Do wejścia - Własność', 'Kraków, Stare Miasto sprzedaż/zamiana', 'Mieszkanie Kraków 51.89m2 2 pokojowe', 'Mieszkanie 26.07m2 Kraków Skałeczna', 'Mieszkanie Kraków Babińskiego 72.4m2 3 pokoje', 'Mieszkanie 50.46m2 2-pokojowe Kraków Stefana Banacha', 'Mieszkanie 60.21m2 4-pokojowe Kraków Pękowicka', 'Oferta sprzedaży mieszkania 57.19m2 3 pokojowe Kraków', 'Oferta sprzedaży mieszkania Kraków 34m2 1 pok', 'Mieszkanie Kraków os. Dywizjonu 303 73m2 3 pokojowe', 'Sprzedam mieszkanie 26.73m2 1 pokój Kraków', 'Mieszkanie Kraków Augustiańska 37.35m2 2-pokojowe', 'Mieszkanie 42.1m2 2 pok Kraków Pękowicka', 'Ogłoszenie mieszkanie Kraków Wadowicka 67.42m2 3 pokoje', 'Mieszkanie do sprzedania 35.28m2 2 pokojowe Kraków Pękowicka', 'Sprzedam mieszkanie 80.41m2 4-pokojowe Kraków Na Błonie', 'Mieszkanie 70.83m2 3 pokoje Kraków Na Błonie', 'Mieszkanie 81.22m 4-pok Kraków Tomickiego', 'Ogłoszenie mieszkanie 63.08m2 4-pok Kraków Pękowicka', 'Mieszkanie Kraków Krowoderska 74.7m2 3 pokojowe', 'Mieszkanie wynajmę Kraków Augustiańska 40.38m2 2-pokojowe', 'Oferta sprzedaży mieszkania 30.14m2 1 pok Kraków Grzegórzki', 'Mieszkanie sprzedam 34.79m2 2 pokoje Kraków Kantrowicka', 'Mieszkanie 24.5m2 Kraków ul. Fatimska', 'Oferta sprzedaży mieszkania Kraków 35.26 metrów 2 pokoje', 'Mieszkanie na sprzedaż 38.1m2 2 pok Kraków Na Błonie', 'Mieszkanie Kraków Na Błonie 26.73m2 1-pokojowe', 'Sprzedam mieszkanie 53.88m2 3 pokojowe Kraków', 'Mieszkanie Kraków Na Błonie 52.24m2 2 pokoje', 'Mieszkanie 62.46m2 3 pokoje Kraków Wadowicka', 'Mieszkanie Kraków 38.1m2 2 pokoje', 'Mieszkanie 57.09m2 3 pokoje Kraków Na Błonie', 'Mieszkanie 72.18m2 4 pokojowe Kraków', 'Mieszkanie 37.98m2 2-pokojowe Kraków Pękowicka', 'Mieszkanie do sprzedania 52.45m2 Kraków Na Błonie', 'Mieszkanie 71.99m2 Kraków Pękowicka', 'Oferta sprzedaży mieszkania Kraków Babińskiego 33.25m2 1-pokojowe', 'Mieszkanie 27.36m 1 pokój Kraków', 'Sprzedaż mieszkania Kraków Lubomirskiego 23.3 metry 1-pokojowe', 'Mieszkanie 37.49 metrów 2 pok Kraków', 'Mieszkanie 50.95m2 2 pokoje Kraków Wadowicka', 'Ogłoszenie mieszkanie 38.67m2 2 pok Kraków Na Błonie', 'Mieszkanie Kraków Kantrowicka 65.16m2 4 pokojowe', 'Oferta sprzedaży mieszkania Kraków Wadowicka 80.83m2 4-pok', 'Ogłoszenie mieszkanie 39.67 metrów 2 pokoje Kraków Pękowicka', 'Mieszkanie 71.47m2 3-pokojowe Kraków', 'Sprzedam mieszkanie 102m2 Kraków', 'Mieszkanie Kraków Wadowicka 43.57m2 2 pokoje', 'Mieszkanie Kraków Babińskiego 59.85m2 3 pokojowe', 'Sprzedaż mieszkania 66.5m 3 pokojowe Kraków Wadowicka', 'Oferta sprzedaży mieszkania 52.7m2 3 pokoje Kraków Kobierzyńska', 'Mieszkanie Kraków Piasta Kołodzieja 50.23m2 3 pokoje', 'Mieszkanie 51.8m2 Kraków']\n",
      "60\n",
      "Prices: ['620 000 zł', '719 000 zł', '579 000 zł', '265 000 zł', '542 000 zł', '3 100 zł', '1 340 000 zł', '715 155 zł', '2 015 000 zł', '888 591 zł', '614 000 zł', '1 245 280 zł', '799 000 zł', '969 381 zł', '657 685 zł', '495 000 zł', '900 000 zł', '565 045 zł', '897 000 zł', '688 335 zł', '1 092 204 zł', '601 524 zł', '1 354 265 zł', '1 150 208 zł', '990 000 zł', '1 075 514 zł', '1 418 000 zł', '5 000 zł', '688 720 zł', '487 060 zł', '450 000 zł', '645 875 zł', '738 067 zł', '565 045 zł', '878 244 zł', '877 486 zł', '1 080 558 zł', '732 032 zł', '1 057 763 zł', '1 144 053 zł', '653 256 zł', '834 701 zł', '1 151 840 zł', '628 425 zł', '474 696 zł', '518 000 zł', '741 078 zł', '876 340 zł', '749 109 zł', '773 775 zł', '1 188 201 zł', '672 406 zł', '1 188 188 zł', '1 725 000 zł', '806 045 zł', '1 029 420 zł', '1 004 150 zł', '750 000 zł', '728 335 zł', '873 598 zł']\n",
      "60\n"
     ]
    }
   ],
   "source": [
    "import requests\n",
    "from bs4 import BeautifulSoup\n",
    "import pandas as pd\n",
    "import os\n",
    "\n",
    "url = \"https://sprzedajemy.pl/krakow/nieruchomosci/mieszkania?offset=0&items_per_page=60\"\n",
    "\n",
    "headers = {\n",
    "    \"User-Agent\": \"Mozilla/5.0 (Windows NT 10.0; Win64; x64) AppleWebKit/537.36 (KHTML, like Gecko) Chrome/58.0.3029.110 Safari/537.36\",\n",
    "    \"Accept\": \"text/html,application/xhtml+xml,application/xml;q=0.9,image/webp,image/apng,*/*;q=0.8\",\n",
    "    \"Accept-Encoding\": \"gzip, deflate, br\",\n",
    "    \"Accept-Language\": \"en-US,en;q=0.9,pl;q=0.8\",\n",
    "    \"Connection\": \"keep-alive\"\n",
    "}\n",
    "\n",
    "response = requests.get(url, headers=headers)\n",
    "response = requests.get(url, headers=headers)\n",
    "\n",
    "# Debugowanie odpowiedzi\n",
    "print(f\"Status Code: {response.status_code}\")\n",
    "print(f\"Response Headers: {response.headers}\")\n",
    "print(f\"Response Text (first 2000 chars): {response.text[:2000]}\")\n",
    "\n",
    "# Jeśli odpowiedź jest poprawna, wykonaj webscraping\n",
    "if response.status_code == 200:\n",
    "    soup = BeautifulSoup(response.content, \"html.parser\")\n",
    "\n",
    "    # Pobieranie ofert mieszkań\n",
    "    titles = [h2.a.text.strip() for h2 in soup.find_all(\"h2\", class_=\"title\") if h2.a]\n",
    "    prices = [p.text.replace(\"\\xa0\", \" \").strip() for p in soup.find_all(\"span\", class_=\"price\")]\n",
    "\n",
    "    print(\"Titles:\", titles)\n",
    "    print(len(titles))\n",
    "    print(\"Prices:\", prices)\n",
    "    print(len(prices))\n",
    "\n",
    "    df = pd.DataFrame({\"Title\": titles, \"Price\": prices})\n",
    "\n",
    "    # Dopisanie do pliku CSV\n",
    "    df.to_csv(\"scraped_data.csv\", mode='a', header=not os.path.exists('scraped_data.csv'), index=False)\n",
    "else:\n",
    "    print(\"Failed to retrieve data.\")\n"
   ]
  }
 ],
 "metadata": {
  "colab": {
   "provenance": []
  },
  "kernelspec": {
   "display_name": "Python 3",
   "name": "python3"
  },
  "language_info": {
   "codemirror_mode": {
    "name": "ipython",
    "version": 3
   },
   "file_extension": ".py",
   "mimetype": "text/x-python",
   "name": "python",
   "nbconvert_exporter": "python",
   "pygments_lexer": "ipython3",
   "version": "3.9.23"
  },
  "papermill": {
   "default_parameters": {},
   "duration": 3.271438,
   "end_time": "2025-10-03T16:49:02.859397",
   "environment_variables": {},
   "exception": null,
   "input_path": "nb.ipynb",
   "output_path": "nbo.ipynb",
   "parameters": {},
   "start_time": "2025-10-03T16:48:59.587959",
   "version": "2.6.0"
  }
 },
 "nbformat": 4,
 "nbformat_minor": 5
}