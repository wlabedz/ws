{
 "cells": [
  {
   "cell_type": "code",
   "execution_count": 1,
   "id": "ba9278ae",
   "metadata": {
    "colab": {
     "base_uri": "https://localhost:8080/"
    },
    "execution": {
     "iopub.execute_input": "2025-09-05T14:48:43.555518Z",
     "iopub.status.busy": "2025-09-05T14:48:43.555305Z",
     "iopub.status.idle": "2025-09-05T14:48:45.895223Z",
     "shell.execute_reply": "2025-09-05T14:48:45.894546Z"
    },
    "id": "5pYh4c8j1w43",
    "outputId": "8a0dca73-64e5-4f0d-c493-2c5b38392363",
    "papermill": {
     "duration": 2.343288,
     "end_time": "2025-09-05T14:48:45.896362",
     "exception": false,
     "start_time": "2025-09-05T14:48:43.553074",
     "status": "completed"
    },
    "tags": []
   },
   "outputs": [
    {
     "name": "stdout",
     "output_type": "stream",
     "text": [
      "Status Code: 200\n",
      "Response Headers: {'Server': 'nginx', 'Date': 'Fri, 05 Sep 2025 14:48:45 GMT', 'Content-Type': 'text/html; charset=UTF-8', 'Transfer-Encoding': 'chunked', 'Vary': 'Accept-Encoding, User-Agent', 'Set-Cookie': 'FRSPSID=7n47f87jr1ttvnkjl91qomosj3; path=/; domain=.sprzedajemy.pl; secure; HttpOnly, _items_per_page__offer_list=60; expires=Sun, 05-Oct-2025 14:48:45 GMT; Max-Age=2592000; path=/; domain=.sprzedajemy.pl; secure; httponly, observed_id=62957284468baf84d715db3107914163292150247; expires=Wed, 05-Sep-2125 15:48:45 GMT; Max-Age=3155677200; path=/; domain=.sprzedajemy.pl; secure; httponly', 'Expires': 'Thu, 19 Nov 1981 08:52:00 GMT', 'Cache-Control': 'no-store, no-cache, must-revalidate, post-check=0, pre-check=0', 'Pragma': 'no-cache', 'Content-Encoding': 'gzip'}\n",
      "Response Text (first 2000 chars): <!DOCTYPE html><html xmlns=\"http://www.w3.org/1999/xhtml\" xml:lang=\"pl\" lang=\"pl\" class=\"no-js\" >\n",
      "<head>\n",
      "\t\t\t<!-- Google Tag Manager -->\n",
      "\t\t\t<script>(function(w,d,s,l,i){w[l]=w[l]||[];w[l].push({'gtm.start':\n",
      "\t\t\t\t\t\tnew Date().getTime(),event:'gtm.js'});var f=d.getElementsByTagName(s)[0],\n",
      "\t\t\t\t\tj=d.createElement(s),dl=l!='dataLayer'?'&l='+l:'';j.async=true;j.src=\n",
      "\t\t\t\t\t'https://www.googletagmanager.com/gtm.js?id='+i+dl\n",
      "\t\t\t\t\t\t\t\t\t    ;f.parentNode.insertBefore(j,f);\n",
      "\t\t\t\t    })(window,document,'script','dataLayer','GTM-P3S238');</script>\n",
      "\t\t\t<!-- End Google Tag Manager -->\n",
      "\t<title>Mieszkania Kraków na sprzedaż, wynajem - Sprzedajemy.pl</title><meta http-equiv=\"Content-Type\" content=\"text/html; charset=UTF-8\" >\n",
      "<meta http-equiv=\"X-UA-Compatible\" content=\"IE=edge\" >\n",
      "<meta name=\"description\" content=\"Ogłoszenia o tematyce:  w kategorii Mieszkania - Kupuj i sprzedawaj rzeczy używane i nowe w kategorii Mieszkania na Sprzedajemy.pl\" >\n",
      "<meta property=\"og:title\" content=\"Mieszkania Kraków na sprzedaż, wynajem - Sprzedajemy.pl\" >\n",
      "<meta property=\"og:type\" content=\"website\" >\n",
      "<meta property=\"og:image\" content=\"https://thumbs.img-sprzedajemy.pl/facebook/sprzedajemy.pl.png\" >\n",
      "<meta property=\"og:image:width\" content=\"200\" >\n",
      "<meta property=\"og:image:height\" content=\"200\" >\n",
      "<meta property=\"og:url\" content=\"https://sprzedajemy.pl/krakow/nieruchomosci/mieszkania\" >\n",
      "<meta property=\"og:site_name\" content=\"Sprzedajemy.pl\" >\n",
      "<meta property=\"fb:app_id\" content=\"173258269367442\" >\n",
      "<meta property=\"og:description\" content=\"Ogłoszenia o tematyce:  w kategorii Mieszkania - Kupuj i sprzedawaj rzeczy używane i nowe w kategorii Mieszkania na Sprzedajemy.pl\" >\n",
      "<meta name=\"robots\" content=\"noindex, follow\" >\t\t<script  async=\"async\" src=\"https://static.criteo.net/js/ld/publishertag.js\"></script>\n",
      "        <script  async=\"async\" src=\"https://ap.lijit.com/www/sovrn_beacon_standalone/sovrn_standalone_beacon.js?iid=13417409&amp;uid=sprzedajemy\" id=\"sBeacon\"></script>\n",
      "\t\t<script  async=\"async\" src=\"https://securepuba\n",
      "Titles: ['Mieszkanie z widokiem na góry', 'Wyjątkowe mieszkanie z widokiem na klasztor w Tyńcu i panoramę Tatr', 'Stylowy apartament z widokiem na panoramę Krakowa - od właściciela', 'Nowoczesny apartament z panoramicznym widokiem - od właściciela', 'Kraków, Stare Miasto sprzedaż/zamiana', 'Stylowy lokal na parterze przy Krowoderskiej', '2-pokojowe mieszkanie po remoncie | PROMOCJA | ul Bronowicka', 'Oferta wynajmu mieszkania 35.84m2 2 pokoje Kraków Romanowicza', 'Mieszkanie Kraków 24.3m 1-pokojowe', 'Do sprzedaży mieszkanie Kraków 74.74m2 3 pokojowe', 'Mieszkanie 46.32 metry 2 pokojowe Kraków', 'Mieszkanie 72.4 metry 4 pokoje Kraków', 'Mieszkanie Kraków Wadowicka 68.78m2 3-pokojowe', 'Mieszkanie Kraków Wadowicka 74.74m2 3 pokoje', 'Mieszkanie na sprzedaż 43.57m2 2-pokojowe Kraków Wadowicka', 'Mieszkanie Kraków 32m2 2 pokoje', 'Mieszkanie Kraków Zdzisława Przebindowskiego 113.08m2', 'Mieszkanie 40.15m2 2 pokoje Kraków Pękowicka', 'Sprzedaż mieszkania 42.3m2 Kraków', 'Mieszkanie 62.85m2 3 pokojowe Kraków Wadowicka', 'Mieszkanie 51.42m2 Kraków Pękowicka', 'Sprzedam mieszkanie Kraków Babińskiego 31.74m2 1 pok', 'Mieszkanie 38.13m2 2 pok Kraków Na Błonie', 'Mieszkanie 64.26m2 3-pok Kraków', 'Mieszkanie Kraków Wojciecha Bogusławskiego 55m2 3 pokoje', 'Ogłoszenie mieszkanie 52.2m2 3 pokoje Kraków', 'Oferta sprzedaży mieszkania Kraków Myczkowskiego 35.31m2', 'Mieszkanie na sprzedaż 37.41m2 2 pokoje Kraków', 'Mieszkanie Kraków Wadowicka 40.38m2 2 pokoje', 'Mieszkanie 38.37m2 2-pokojowe Kraków 29 listopada - okolice', 'Oferta sprzedaży mieszkania 57.1m2 3-pokojowe Kraków Na Błonie', 'Sprzedam mieszkanie Kraków Lubostroń 36.91m2 2 pokoje', 'Mieszkanie 59.85m2 3 pok Kraków', 'Oferta sprzedaży mieszkania Kraków 41.16m2 2 pokoje', 'Mieszkanie Kraków 50.64m2 3-pok', 'Oferta sprzedaży mieszkania 62.15m2 3 pokojowe Kraków Potrzask', 'Mieszkanie Kraków 61.7m2 3 pokoje', 'Mieszkanie 41.42m2 2 pokoje Kraków', 'Mieszkanie Kraków Babińskiego 70.88m2 3 pokoje', 'Mieszkanie Kraków Piasta Kołodzieja 48.59m2 3-pok', 'Mieszkanie Kraków 57.32m2 2 pokoje', 'Mieszkanie 57m2 Kraków', 'Mieszkanie Kraków Na Błonie 41.41m2 2-pokojowe', 'Mieszkanie 64.42m2 3 pokojowe Kraków', 'Mieszkanie Kraków 37.06m 2 pokoje', 'Mieszkanie na sprzedaż 37.45m2 2 pokoje Kraków Na Błonie', 'Oferta sprzedaży mieszkania 100m2 3 pokoje Kraków Gustawa Ehrenberga', 'Oferta sprzedaży mieszkania 37.93 metry 2 pok Kraków Na Błonie', 'Sprzedam mieszkanie Kraków 37.74m2 2-pok', 'Mieszkanie sprzedam 43.08m2 2-pokojowe Kraków', 'Mieszkanie 63.99m2 4 pok Kraków Pękowicka', 'Ogłoszenie mieszkanie 39.88m2 2 pokoje Kraków', 'Mieszkanie na sprzedaż Kraków 35.8m2 2 pokojowe', 'Oferta sprzedaży mieszkania 45.84m2 2-pokojowe Kraków Wadowicka', 'Mieszkanie Kraków Szlak 54.5m2', 'Mieszkanie Kraków Piasta Kołodzieja 50.29 metrów 3 pokojowe', 'Sprzedam mieszkanie 70.88m2 3 pokoje Kraków Babińskiego', 'Mieszkanie na sprzedaż 79.3m2 3-pokojowe Kraków', 'Mieszkanie do sprzedania Kraków Pękowicka 63.11m2 4 pok', 'Mieszkanie 43.35m2 2 pokoje Kraków Wadowicka']\n",
      "60\n",
      "Prices: ['265 000 zł', '779 000 zł', '890 000 zł', '997 000 zł', '2 083 000 zł', '1 800 000 zł', '710 000 zł', '3 005 zł', '399 000 zł', '1 240 684 zł', '847 656 zł', '1 245 280 zł', '1 127 992 zł', '1 210 788 zł', '823 473 zł', '2 600 zł', '1 895 801 zł', '680 542 zł', '706 410 zł', '986 745 zł', '848 430 zł', '615 756 zł', '774 229 zł', '1 124 550 zł', '6 000 zł', '856 080 zł', '640 000 zł', '776 070 zł', '722 802 zł', '666 410 zł', '1 054 637 zł', '610 000 zł', '987 525 zł', '782 616 zł', '843 156 zł', '748 907 zł', '860 000 zł', '803 009 zł', '1 169 520 zł', '723 991 zł', '878 000 zł', '950 000 zł', '794 243 zł', '1 127 350 zł', '633 726 zł', '754 729 zł', '1 497 000 zł', '756 589 zł', '656 676 zł', '792 672 zł', '1 027 039 zł', '675 966 zł', '859 200 zł', '838 872 zł', '999 000 zł', '714 118 zł', '1 219 136 zł', '1 276 730 zł', '1 094 958 zł', '819 315 zł']\n",
      "60\n"
     ]
    }
   ],
   "source": [
    "import requests\n",
    "from bs4 import BeautifulSoup\n",
    "import pandas as pd\n",
    "import os\n",
    "\n",
    "url = \"https://sprzedajemy.pl/krakow/nieruchomosci/mieszkania?offset=0&items_per_page=60\"\n",
    "\n",
    "headers = {\n",
    "    \"User-Agent\": \"Mozilla/5.0 (Windows NT 10.0; Win64; x64) AppleWebKit/537.36 (KHTML, like Gecko) Chrome/58.0.3029.110 Safari/537.36\",\n",
    "    \"Accept\": \"text/html,application/xhtml+xml,application/xml;q=0.9,image/webp,image/apng,*/*;q=0.8\",\n",
    "    \"Accept-Encoding\": \"gzip, deflate, br\",\n",
    "    \"Accept-Language\": \"en-US,en;q=0.9,pl;q=0.8\",\n",
    "    \"Connection\": \"keep-alive\"\n",
    "}\n",
    "\n",
    "response = requests.get(url, headers=headers)\n",
    "response = requests.get(url, headers=headers)\n",
    "\n",
    "# Debugowanie odpowiedzi\n",
    "print(f\"Status Code: {response.status_code}\")\n",
    "print(f\"Response Headers: {response.headers}\")\n",
    "print(f\"Response Text (first 2000 chars): {response.text[:2000]}\")\n",
    "\n",
    "# Jeśli odpowiedź jest poprawna, wykonaj webscraping\n",
    "if response.status_code == 200:\n",
    "    soup = BeautifulSoup(response.content, \"html.parser\")\n",
    "\n",
    "    # Pobieranie ofert mieszkań\n",
    "    titles = [h2.a.text.strip() for h2 in soup.find_all(\"h2\", class_=\"title\") if h2.a]\n",
    "    prices = [p.text.replace(\"\\xa0\", \" \").strip() for p in soup.find_all(\"span\", class_=\"price\")]\n",
    "\n",
    "    print(\"Titles:\", titles)\n",
    "    print(len(titles))\n",
    "    print(\"Prices:\", prices)\n",
    "    print(len(prices))\n",
    "\n",
    "    df = pd.DataFrame({\"Title\": titles, \"Price\": prices})\n",
    "\n",
    "    # Dopisanie do pliku CSV\n",
    "    df.to_csv(\"scraped_data.csv\", mode='a', header=not os.path.exists('scraped_data.csv'), index=False)\n",
    "else:\n",
    "    print(\"Failed to retrieve data.\")\n"
   ]
  }
 ],
 "metadata": {
  "colab": {
   "provenance": []
  },
  "kernelspec": {
   "display_name": "Python 3",
   "name": "python3"
  },
  "language_info": {
   "codemirror_mode": {
    "name": "ipython",
    "version": 3
   },
   "file_extension": ".py",
   "mimetype": "text/x-python",
   "name": "python",
   "nbconvert_exporter": "python",
   "pygments_lexer": "ipython3",
   "version": "3.9.23"
  },
  "papermill": {
   "default_parameters": {},
   "duration": 3.443583,
   "end_time": "2025-09-05T14:48:46.112916",
   "environment_variables": {},
   "exception": null,
   "input_path": "nb.ipynb",
   "output_path": "nbo.ipynb",
   "parameters": {},
   "start_time": "2025-09-05T14:48:42.669333",
   "version": "2.6.0"
  }
 },
 "nbformat": 4,
 "nbformat_minor": 5
}