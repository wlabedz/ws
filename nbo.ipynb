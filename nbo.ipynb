{
 "cells": [
  {
   "cell_type": "code",
   "execution_count": 1,
   "id": "66a4248f",
   "metadata": {
    "colab": {
     "base_uri": "https://localhost:8080/"
    },
    "execution": {
     "iopub.execute_input": "2025-10-14T14:34:48.473492Z",
     "iopub.status.busy": "2025-10-14T14:34:48.473274Z",
     "iopub.status.idle": "2025-10-14T14:34:51.284324Z",
     "shell.execute_reply": "2025-10-14T14:34:51.283605Z"
    },
    "id": "5pYh4c8j1w43",
    "outputId": "8a0dca73-64e5-4f0d-c493-2c5b38392363",
    "papermill": {
     "duration": 2.814344,
     "end_time": "2025-10-14T14:34:51.285503",
     "exception": false,
     "start_time": "2025-10-14T14:34:48.471159",
     "status": "completed"
    },
    "tags": []
   },
   "outputs": [
    {
     "name": "stdout",
     "output_type": "stream",
     "text": [
      "Status Code: 200\n",
      "Response Headers: {'Server': 'nginx', 'Date': 'Tue, 14 Oct 2025 14:34:50 GMT', 'Content-Type': 'text/html; charset=UTF-8', 'Transfer-Encoding': 'chunked', 'Vary': 'Accept-Encoding, User-Agent', 'Set-Cookie': 'FRSPSID=r5k2sbsp4rvvcmusbt3qaa72b5; path=/; domain=.sprzedajemy.pl; secure; HttpOnly, _items_per_page__offer_list=60; expires=Thu, 13-Nov-2025 14:34:50 GMT; Max-Age=2592000; path=/; domain=.sprzedajemy.pl; secure; httponly, observed_id=152359209668ee5f8abda993160130194272483151; expires=Sun, 14-Oct-2125 15:34:50 GMT; Max-Age=3155677200; path=/; domain=.sprzedajemy.pl; secure; httponly', 'Expires': 'Thu, 19 Nov 1981 08:52:00 GMT', 'Cache-Control': 'no-store, no-cache, must-revalidate, post-check=0, pre-check=0', 'Pragma': 'no-cache', 'Content-Encoding': 'gzip'}\n",
      "Response Text (first 2000 chars): <!DOCTYPE html><html xmlns=\"http://www.w3.org/1999/xhtml\" xml:lang=\"pl\" lang=\"pl\" class=\"no-js\" >\n",
      "<head>\n",
      "\t\t\t<!-- Google Tag Manager -->\n",
      "\t\t\t<script>(function(w,d,s,l,i){w[l]=w[l]||[];w[l].push({'gtm.start':\n",
      "\t\t\t\t\t\tnew Date().getTime(),event:'gtm.js'});var f=d.getElementsByTagName(s)[0],\n",
      "\t\t\t\t\tj=d.createElement(s),dl=l!='dataLayer'?'&l='+l:'';j.async=true;j.src=\n",
      "\t\t\t\t\t'https://www.googletagmanager.com/gtm.js?id='+i+dl\n",
      "\t\t\t\t\t\t\t\t\t    ;f.parentNode.insertBefore(j,f);\n",
      "\t\t\t\t    })(window,document,'script','dataLayer','GTM-P3S238');</script>\n",
      "\t\t\t<!-- End Google Tag Manager -->\n",
      "\t<title>Mieszkania Kraków na sprzedaż, wynajem - Sprzedajemy.pl</title><meta http-equiv=\"Content-Type\" content=\"text/html; charset=UTF-8\" >\n",
      "<meta http-equiv=\"X-UA-Compatible\" content=\"IE=edge\" >\n",
      "<meta name=\"description\" content=\"Ogłoszenia o tematyce:  w kategorii Mieszkania - Kupuj i sprzedawaj rzeczy używane i nowe w kategorii Mieszkania na Sprzedajemy.pl\" >\n",
      "<meta property=\"og:title\" content=\"Mieszkania Kraków na sprzedaż, wynajem - Sprzedajemy.pl\" >\n",
      "<meta property=\"og:type\" content=\"website\" >\n",
      "<meta property=\"og:image\" content=\"https://thumbs.img-sprzedajemy.pl/facebook/sprzedajemy.pl.png\" >\n",
      "<meta property=\"og:image:width\" content=\"200\" >\n",
      "<meta property=\"og:image:height\" content=\"200\" >\n",
      "<meta property=\"og:url\" content=\"https://sprzedajemy.pl/krakow/nieruchomosci/mieszkania\" >\n",
      "<meta property=\"og:site_name\" content=\"Sprzedajemy.pl\" >\n",
      "<meta property=\"fb:app_id\" content=\"173258269367442\" >\n",
      "<meta property=\"og:description\" content=\"Ogłoszenia o tematyce:  w kategorii Mieszkania - Kupuj i sprzedawaj rzeczy używane i nowe w kategorii Mieszkania na Sprzedajemy.pl\" >\n",
      "<meta name=\"robots\" content=\"noindex, follow\" >\t\t<script  async=\"async\" src=\"https://static.criteo.net/js/ld/publishertag.js\"></script>\n",
      "        <script  async=\"async\" src=\"https://ap.lijit.com/www/sovrn_beacon_standalone/sovrn_standalone_beacon.js?iid=13417409&amp;uid=sprzedajemy\" id=\"sBeacon\"></script>\n",
      "\t\t<script  async=\"async\" src=\"https://securepuba\n",
      "Titles: ['Mieszkanie Wzgórza Krzesławickie bez prowizji.', 'Sprzedam dwupokojowe mieszkanie os. Dywizjonu 303, 19C Kraków', 'Piękne 2 pokojowe mieszkanie w Centrum', 'Mieszkanie 3-pokojowe Zakrzówek Ruczaj wynajem na 9 miesięcy', 'Mieszkanie z widokiem na góry', 'Kraków, Stare Miasto sprzedaż/zamiana', 'Sprzedaż mieszkania 62.63m2 4 pokoje Kraków os. Krakowiaków', 'Oferta wynajmu mieszkania Kraków 36.29m2 1 pokój', 'Mieszkanie Kraków Babińskiego 31.74m2 1 pok', 'Mieszkanie Kraków 47m2 2-pokojowe', 'Mieszkanie 50m2 2-pokojowe Kraków', 'Mieszkanie 50.13m2 2-pok Kraków', 'Oferta sprzedaży mieszkania 54.72m2 3 pokoje Kraków', 'Sprzedam mieszkanie Kraków Szlak 28.18m2 1-pokojowe', 'Mieszkanie 47.22m2 2 pokoje Kraków os. Kalinowe', 'Mieszkanie Kraków Świętokrzyska 85.3m2 4 pok', 'Sprzedam mieszkanie Kraków Okulickiego 25.5m2 1 pokojowe', 'Mieszkanie Kraków Macieja Dębskiego 114 metry 4 pokoje', 'Garsoniera do wynajęcia os. Tysiąclecia 1, Kraków', 'Do sprzedaży mieszkanie 47.3m2 3-pokojowe Kraków', 'Pokój w domu wolnostojącym cena z mediami blisko UR i UEK i Lasu Wolskiego', 'Mieszkanie sprzedam 67m2 4 pokoje Kraków Józefa Łepkowskiego', 'Mieszkanie Kraków os. Kolorowe 57.54 metry', 'Wynajmę kawalerkę Kraków Chodkiewicza', '2- pokojowe do wynajęcia. Wysoki standard', 'Kraków, Reduta Prądnik Czerwony - Wynajmę kawalerkę 37 mkw', 'Mieszkanie Kraków Sosnowiecka 42m2 2-pokojowe', 'WYNAJMĘ od zaraz mieszkanie 3 pokojowe-Krowodrza - Prądnik Biały-49 m2', 'Mieszkanie Kraków Przewóz 59.35m2 3 pok', 'Ogłoszenie mieszkanie Kraków Agatowa 64.43m2 3 pokoje', 'Oferta sprzedaży mieszkania Kraków 47m2 3 pokoje', 'Sprzedaż mieszkania Kraków 64.33 metry 3 pokoje', 'Mieszkanie Kraków 35.45m2 2 pokoje', 'Mieszkanie Kraków Przewóz 30.6m2 1-pokojowe', 'Mieszkanie Kraków Profesora Tadeusza Seweryna 125m2 4 pokoje', 'Apartament 2-pok | balkon | garaż | Wola Justowska', 'Mieszkanie 32m2 1 pokojowe Kraków', 'Sprzedaż mieszkania Kraków os. Tysiąclecia 63.5m2 3-pok', 'Lokal z możliwością mieszkania – Zakrzówek', 'Do wynajęcia śliczny apartament z ogrodem', 'Mieszkanie do sprzedania Kraków os. Osiedle Piastów 33.95 metrów 1 pokojowe', 'Mieszkanie 54m2 2 pokoje Kraków', 'Ogłoszenie mieszkanie 181.88m2 7-pok Kraków', 'Mieszkanie 53.5m2 2 pok Kraków', '2 pok | 52m2 | balkon - Grota Roweckiego, Ruczaj', 'Wykończone-Wiślane Tarasy 2-ul. Grzegórzecka', 'Mieszkanie Kraków Prof. Wł. Szafera 66.1 metrów 3-pok', 'Ogłoszenie mieszkanie Kraków Juliusza Lea 29.02m2 1 pokojowe', 'Funkcjonalne 3-pokoje/wysoki parter/duża łazienka', 'HIT! 2 pokoje (35 m²) tuż przy AGH! Gotowe do zamieszkania od zaraz!', 'Wprowadź się od zaraz! Wyposażone mieszkanie 39m² na Grzegórzkach', 'Mieszkanie 38.4m2 2 pokoje Kraków Romana Kiełkowskiego', 'Mieszkanie Kraków 58.16m2 2 pokojowe', 'Ogłoszenie mieszkanie 50m2 2 pokojowe Kraków Chocimska', 'Mieszkanie 2-pokojowe w sercu Mistrzejowic', '3 pokoje I 47 m2 I Os. Złotego Wieku', 'Nowe mieszkanie 2 pokoje Kraków Prokocim', 'Luksusowy PENTHOUSE | DUŻY TARAS | Umeblowany | BEZ PCC | Bezpośrednio', 'Oferta wynajmu mieszkania 120m2 4 pokoje Kraków Przedwiośnie', 'Sprzedam mieszkanie Kraków 2pokoje Jerzmanowskiego']\n",
      "60\n",
      "Prices: ['670 000 zł', '620 000 zł', '759 900 zł', '2 900 zł', '265 000 zł', '2 015 000 zł', '709 000 zł', '2 300 zł', '580 842 zł', '709 700 zł', '3 799 zł', '779 000 zł', '799 000 zł', '730 000 zł', '600 000 zł', '3 600 zł', '417 000 zł', '990 000 zł', '1 400 zł', '510 000 zł', '1 800 zł', '998 300 zł', '699 000 zł', '2 300 zł', '2 999 zł', '2 400 zł', '720 000 zł', '3 300 zł', '938 000 zł', '789 000 zł', '650 000 zł', '769 000 zł', '649 000 zł', '573 000 zł', '1 400 000 zł', '960 000 zł', '599 000 zł', '750 000 zł', '503 000 zł', '2 950 zł', '550 000 zł', '3 000 zł', '4 900 000 zł', '1 100 000 zł', '2 700 zł', '899 000 zł', '1 199 000 zł', '569 000 zł', '636 000 zł', '3 300 zł', '749 000 zł', '2 700 zł', '929 000 zł', '2 700 zł', '2 850 zł', '590 000 zł', '799 000 zł', '1 568 600 zł', '7 100 zł', '779 000 zł']\n",
      "60\n"
     ]
    }
   ],
   "source": [
    "import requests\n",
    "from bs4 import BeautifulSoup\n",
    "import pandas as pd\n",
    "import os\n",
    "\n",
    "url = \"https://sprzedajemy.pl/krakow/nieruchomosci/mieszkania?offset=0&items_per_page=60\"\n",
    "\n",
    "headers = {\n",
    "    \"User-Agent\": \"Mozilla/5.0 (Windows NT 10.0; Win64; x64) AppleWebKit/537.36 (KHTML, like Gecko) Chrome/58.0.3029.110 Safari/537.36\",\n",
    "    \"Accept\": \"text/html,application/xhtml+xml,application/xml;q=0.9,image/webp,image/apng,*/*;q=0.8\",\n",
    "    \"Accept-Encoding\": \"gzip, deflate, br\",\n",
    "    \"Accept-Language\": \"en-US,en;q=0.9,pl;q=0.8\",\n",
    "    \"Connection\": \"keep-alive\"\n",
    "}\n",
    "\n",
    "response = requests.get(url, headers=headers)\n",
    "response = requests.get(url, headers=headers)\n",
    "\n",
    "# Debugowanie odpowiedzi\n",
    "print(f\"Status Code: {response.status_code}\")\n",
    "print(f\"Response Headers: {response.headers}\")\n",
    "print(f\"Response Text (first 2000 chars): {response.text[:2000]}\")\n",
    "\n",
    "# Jeśli odpowiedź jest poprawna, wykonaj webscraping\n",
    "if response.status_code == 200:\n",
    "    soup = BeautifulSoup(response.content, \"html.parser\")\n",
    "\n",
    "    # Pobieranie ofert mieszkań\n",
    "    titles = [h2.a.text.strip() for h2 in soup.find_all(\"h2\", class_=\"title\") if h2.a]\n",
    "    prices = [p.text.replace(\"\\xa0\", \" \").strip() for p in soup.find_all(\"span\", class_=\"price\")]\n",
    "\n",
    "    print(\"Titles:\", titles)\n",
    "    print(len(titles))\n",
    "    print(\"Prices:\", prices)\n",
    "    print(len(prices))\n",
    "\n",
    "    df = pd.DataFrame({\"Title\": titles, \"Price\": prices})\n",
    "\n",
    "    # Dopisanie do pliku CSV\n",
    "    df.to_csv(\"scraped_data.csv\", mode='a', header=not os.path.exists('scraped_data.csv'), index=False)\n",
    "else:\n",
    "    print(\"Failed to retrieve data.\")\n"
   ]
  }
 ],
 "metadata": {
  "colab": {
   "provenance": []
  },
  "kernelspec": {
   "display_name": "Python 3",
   "name": "python3"
  },
  "language_info": {
   "codemirror_mode": {
    "name": "ipython",
    "version": 3
   },
   "file_extension": ".py",
   "mimetype": "text/x-python",
   "name": "python",
   "nbconvert_exporter": "python",
   "pygments_lexer": "ipython3",
   "version": "3.9.23"
  },
  "papermill": {
   "default_parameters": {},
   "duration": 3.953937,
   "end_time": "2025-10-14T14:34:51.502577",
   "environment_variables": {},
   "exception": null,
   "input_path": "nb.ipynb",
   "output_path": "nbo.ipynb",
   "parameters": {},
   "start_time": "2025-10-14T14:34:47.548640",
   "version": "2.6.0"
  }
 },
 "nbformat": 4,
 "nbformat_minor": 5
}