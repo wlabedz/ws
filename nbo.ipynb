{
 "cells": [
  {
   "cell_type": "code",
   "execution_count": 1,
   "id": "18d2c59a",
   "metadata": {
    "colab": {
     "base_uri": "https://localhost:8080/"
    },
    "execution": {
     "iopub.execute_input": "2025-09-19T15:31:48.889581Z",
     "iopub.status.busy": "2025-09-19T15:31:48.889357Z",
     "iopub.status.idle": "2025-09-19T15:31:51.617640Z",
     "shell.execute_reply": "2025-09-19T15:31:51.616942Z"
    },
    "id": "5pYh4c8j1w43",
    "outputId": "8a0dca73-64e5-4f0d-c493-2c5b38392363",
    "papermill": {
     "duration": 2.731575,
     "end_time": "2025-09-19T15:31:51.618806",
     "exception": false,
     "start_time": "2025-09-19T15:31:48.887231",
     "status": "completed"
    },
    "tags": []
   },
   "outputs": [
    {
     "name": "stdout",
     "output_type": "stream",
     "text": [
      "Status Code: 200\n",
      "Response Headers: {'Server': 'nginx', 'Date': 'Fri, 19 Sep 2025 15:31:51 GMT', 'Content-Type': 'text/html; charset=UTF-8', 'Transfer-Encoding': 'chunked', 'Vary': 'Accept-Encoding, User-Agent', 'Set-Cookie': 'FRSPSID=9ojnib3a7ddnfpqhnlblrvef76; path=/; domain=.sprzedajemy.pl; secure; HttpOnly, _items_per_page__offer_list=60; expires=Sun, 19-Oct-2025 15:31:51 GMT; Max-Age=2592000; path=/; domain=.sprzedajemy.pl; secure; httponly, observed_id=132152204768cd77671af5a683382620958007193; expires=Wed, 19-Sep-2125 16:31:51 GMT; Max-Age=3155677200; path=/; domain=.sprzedajemy.pl; secure; httponly', 'Expires': 'Thu, 19 Nov 1981 08:52:00 GMT', 'Cache-Control': 'no-store, no-cache, must-revalidate, post-check=0, pre-check=0', 'Pragma': 'no-cache', 'Content-Encoding': 'gzip'}\n",
      "Response Text (first 2000 chars): <!DOCTYPE html><html xmlns=\"http://www.w3.org/1999/xhtml\" xml:lang=\"pl\" lang=\"pl\" class=\"no-js\" >\n",
      "<head>\n",
      "\t\t\t<!-- Google Tag Manager -->\n",
      "\t\t\t<script>(function(w,d,s,l,i){w[l]=w[l]||[];w[l].push({'gtm.start':\n",
      "\t\t\t\t\t\tnew Date().getTime(),event:'gtm.js'});var f=d.getElementsByTagName(s)[0],\n",
      "\t\t\t\t\tj=d.createElement(s),dl=l!='dataLayer'?'&l='+l:'';j.async=true;j.src=\n",
      "\t\t\t\t\t'https://www.googletagmanager.com/gtm.js?id='+i+dl\n",
      "\t\t\t\t\t\t\t\t\t    ;f.parentNode.insertBefore(j,f);\n",
      "\t\t\t\t    })(window,document,'script','dataLayer','GTM-P3S238');</script>\n",
      "\t\t\t<!-- End Google Tag Manager -->\n",
      "\t<title>Mieszkania Kraków na sprzedaż, wynajem - Sprzedajemy.pl</title><meta http-equiv=\"Content-Type\" content=\"text/html; charset=UTF-8\" >\n",
      "<meta http-equiv=\"X-UA-Compatible\" content=\"IE=edge\" >\n",
      "<meta name=\"description\" content=\"Ogłoszenia o tematyce:  w kategorii Mieszkania - Kupuj i sprzedawaj rzeczy używane i nowe w kategorii Mieszkania na Sprzedajemy.pl\" >\n",
      "<meta property=\"og:title\" content=\"Mieszkania Kraków na sprzedaż, wynajem - Sprzedajemy.pl\" >\n",
      "<meta property=\"og:type\" content=\"website\" >\n",
      "<meta property=\"og:image\" content=\"https://thumbs.img-sprzedajemy.pl/facebook/sprzedajemy.pl.png\" >\n",
      "<meta property=\"og:image:width\" content=\"200\" >\n",
      "<meta property=\"og:image:height\" content=\"200\" >\n",
      "<meta property=\"og:url\" content=\"https://sprzedajemy.pl/krakow/nieruchomosci/mieszkania\" >\n",
      "<meta property=\"og:site_name\" content=\"Sprzedajemy.pl\" >\n",
      "<meta property=\"fb:app_id\" content=\"173258269367442\" >\n",
      "<meta property=\"og:description\" content=\"Ogłoszenia o tematyce:  w kategorii Mieszkania - Kupuj i sprzedawaj rzeczy używane i nowe w kategorii Mieszkania na Sprzedajemy.pl\" >\n",
      "<meta name=\"robots\" content=\"noindex, follow\" >\t\t<script  async=\"async\" src=\"https://static.criteo.net/js/ld/publishertag.js\"></script>\n",
      "        <script  async=\"async\" src=\"https://ap.lijit.com/www/sovrn_beacon_standalone/sovrn_standalone_beacon.js?iid=13417409&amp;uid=sprzedajemy\" id=\"sBeacon\"></script>\n",
      "\t\t<script  async=\"async\" src=\"https://securepuba\n",
      "Titles: ['Podedworze 13', 'Stylowy lokal na parterze przy Krowoderskiej', 'Wyjątkowy lokal przy ul. Krowoderskiej z widokiem na stronę ogrodową', 'Dwa pokoje - stare miasto - Do wejścia - Własność', '2-pokojowe mieszkanie po remoncie | PROMOCJA | ul Bronowicka', 'Sprzedam dwupokojowe mieszkanie os. Dywizjonu 303, 19C Kraków', 'Mieszkanie z widokiem na góry', 'Wyjątkowe mieszkanie z widokiem na klasztor w Tyńcu i panoramę Tatr', 'Stylowy apartament z widokiem na panoramę Krakowa - od właściciela', 'Nowoczesny apartament z panoramicznym widokiem - od właściciela', 'Mieszkanie Kraków 63.83m2 4-pokojowe', 'Ogłoszenie mieszkanie Kraków Na Błonie 37.5m2 2 pokoje', 'Ogłoszenie mieszkanie Kraków 39.05m2 2 pokojowe', 'Mieszkanie 79.3 metry 3 pokojowe Kraków', 'Mieszkanie Kraków Pękowicka 50.71m2 3 pok', 'Sprzedam mieszkanie 59.85m2 3-pokojowe Kraków Babińskiego', 'Do sprzedaży mieszkanie 60.07 metrów 4-pokojowe Kraków', 'Mieszkanie 70.67m2 2-pokojowe Kraków Wadowicka', 'Mieszkanie 38.01m2 Kraków', 'Oferta sprzedaży mieszkania Kraków 38.52m2 2-pok', 'Oferta sprzedaży mieszkania 37.93 metry 2 pok Kraków Na Błonie', 'Oferta sprzedaży mieszkania 62.46m2 3 pokoje Kraków Wadowicka', 'Mieszkanie Kraków 47.43m2 2-pok', 'Mieszkanie Kraków 37.5 metrów 2-pokojowe', 'Mieszkanie na sprzedaż 79.3m2 3-pokojowe Kraków', 'Mieszkanie 72.4m2 3-pok Kraków', 'Mieszkanie Kraków 39.08m2 2 pokoje', 'Mieszkanie 57m2 Kraków', 'Sprzedaż mieszkania 62.22 metry 4-pok Kraków Pękowicka', 'Mieszkanie Kraków Sołtysowska 30.76m2 1-pokojowe', 'Mieszkanie 65m2 3 pok Kraków', 'Sprzedam mieszkanie Kraków 37.74m2 2-pok', 'Mieszkanie 64.26m2 3 pok Kraków Wadowicka', 'Mieszkanie Kraków 40.29m2', 'Ogłoszenie mieszkanie 50 metrów 2 pokoje Kraków Starego Dębu', 'Mieszkanie sprzedam 74.74m2 3 pokoje Kraków', 'Oferta sprzedaży mieszkania 100m2 3 pokoje Kraków Gustawa Ehrenberga', 'Mieszkanie 72.4 metry 4 pokoje Kraków', 'Mieszkanie Kraków Krowoderska 108m2', 'Mieszkanie do sprzedania 35.26m 2 pokoje Kraków', 'Mieszkanie 43.35m2 2-pok Kraków Wadowicka', 'Mieszkanie na sprzedaż Kraków 34.79m2 2 pokoje', 'Mieszkanie Kraków Piasta Kołodzieja 44.28m2 2 pok', 'Mieszkanie Kraków Pękowicka 38.08m2 2 pokoje', 'Mieszkanie 60.68m2 2-pokojowe Kraków', 'Mieszkanie Kraków 33.25m2', 'Mieszkanie Kraków Na Błonie 52.49m2 2 pok', 'Oferta sprzedaży mieszkania Kraków 56.19m2', 'Mieszkanie 38.37m2 2-pokojowe Kraków 29 listopada - okolice', 'Mieszkanie 38.51m2 2 pokoje Kraków', 'Mieszkanie do sprzedania Kraków Piasta Kołodzieja 44.28m2 2 pokoje', 'Mieszkanie sprzedam Kraków Wadowicka 42.61m2 2 pokoje', 'Mieszkanie na sprzedaż Kraków 35.27m2 2-pok', 'Mieszkanie 69.46m2 4 pokoje Kraków', 'Oferta sprzedaży mieszkania 57.09m2 3 pokoje Kraków', 'Mieszkanie 48.28m2 3 pok Kraków Pękowicka', 'Mieszkanie Kraków 37.47 metrów 2 pokojowe', 'Oferta sprzedaży mieszkania Kraków Wadowicka 41.48m2 3 pok', 'Sprzedam mieszkanie 51.97m2 3 pokoje Kraków', 'Mieszkanie Kraków 44.28m2 2 pokoje']\n",
      "60\n",
      "Prices: ['542 000 zł', '1 890 000 zł', '1 340 000 zł', '715 155 zł', '710 000 zł', '635 000 zł', '265 000 zł', '779 000 zł', '890 000 zł', '997 000 zł', '1 034 046 zł', '781 800 zł', '663 850 zł', '1 252 940 zł', '846 857 zł', '957 600 zł', '970 130 zł', '1 158 988 zł', '655 672 zł', '768 358 zł', '756 589 zł', '1 055 574 zł', '929 628 zł', '729 000 zł', '1 276 730 zł', '1 295 960 zł', '662 406 zł', '950 000 zł', '1 004 853 zł', '707 000 zł', '889 000 zł', '656 676 zł', '1 098 846 zł', '680 901 zł', '850 000 zł', '1 225 736 zł', '1 497 000 zł', '1 245 280 zł', '1 740 000 zł', '587 079 zł', '788 970 zł', '487 060 zł', '659 772 zł', '641 648 zł', '807 177 zł', '628 425 zł', '864 562 zł', '769 803 zł', '666 410 zł', '768 158 zł', '673 056 zł', '807 459 zł', '642 280 zł', '868 250 zł', '1 054 966 zł', '796 620 zł', '777 315 zł', '759 084 zł', '857 505 zł', '650 916 zł']\n",
      "60\n"
     ]
    }
   ],
   "source": [
    "import requests\n",
    "from bs4 import BeautifulSoup\n",
    "import pandas as pd\n",
    "import os\n",
    "\n",
    "url = \"https://sprzedajemy.pl/krakow/nieruchomosci/mieszkania?offset=0&items_per_page=60\"\n",
    "\n",
    "headers = {\n",
    "    \"User-Agent\": \"Mozilla/5.0 (Windows NT 10.0; Win64; x64) AppleWebKit/537.36 (KHTML, like Gecko) Chrome/58.0.3029.110 Safari/537.36\",\n",
    "    \"Accept\": \"text/html,application/xhtml+xml,application/xml;q=0.9,image/webp,image/apng,*/*;q=0.8\",\n",
    "    \"Accept-Encoding\": \"gzip, deflate, br\",\n",
    "    \"Accept-Language\": \"en-US,en;q=0.9,pl;q=0.8\",\n",
    "    \"Connection\": \"keep-alive\"\n",
    "}\n",
    "\n",
    "response = requests.get(url, headers=headers)\n",
    "response = requests.get(url, headers=headers)\n",
    "\n",
    "# Debugowanie odpowiedzi\n",
    "print(f\"Status Code: {response.status_code}\")\n",
    "print(f\"Response Headers: {response.headers}\")\n",
    "print(f\"Response Text (first 2000 chars): {response.text[:2000]}\")\n",
    "\n",
    "# Jeśli odpowiedź jest poprawna, wykonaj webscraping\n",
    "if response.status_code == 200:\n",
    "    soup = BeautifulSoup(response.content, \"html.parser\")\n",
    "\n",
    "    # Pobieranie ofert mieszkań\n",
    "    titles = [h2.a.text.strip() for h2 in soup.find_all(\"h2\", class_=\"title\") if h2.a]\n",
    "    prices = [p.text.replace(\"\\xa0\", \" \").strip() for p in soup.find_all(\"span\", class_=\"price\")]\n",
    "\n",
    "    print(\"Titles:\", titles)\n",
    "    print(len(titles))\n",
    "    print(\"Prices:\", prices)\n",
    "    print(len(prices))\n",
    "\n",
    "    df = pd.DataFrame({\"Title\": titles, \"Price\": prices})\n",
    "\n",
    "    # Dopisanie do pliku CSV\n",
    "    df.to_csv(\"scraped_data.csv\", mode='a', header=not os.path.exists('scraped_data.csv'), index=False)\n",
    "else:\n",
    "    print(\"Failed to retrieve data.\")\n"
   ]
  }
 ],
 "metadata": {
  "colab": {
   "provenance": []
  },
  "kernelspec": {
   "display_name": "Python 3",
   "name": "python3"
  },
  "language_info": {
   "codemirror_mode": {
    "name": "ipython",
    "version": 3
   },
   "file_extension": ".py",
   "mimetype": "text/x-python",
   "name": "python",
   "nbconvert_exporter": "python",
   "pygments_lexer": "ipython3",
   "version": "3.9.23"
  },
  "papermill": {
   "default_parameters": {},
   "duration": 3.841976,
   "end_time": "2025-09-19T15:31:51.836243",
   "environment_variables": {},
   "exception": null,
   "input_path": "nb.ipynb",
   "output_path": "nbo.ipynb",
   "parameters": {},
   "start_time": "2025-09-19T15:31:47.994267",
   "version": "2.6.0"
  }
 },
 "nbformat": 4,
 "nbformat_minor": 5
}