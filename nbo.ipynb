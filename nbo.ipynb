{
 "cells": [
  {
   "cell_type": "code",
   "execution_count": 1,
   "id": "1ea520df",
   "metadata": {
    "colab": {
     "base_uri": "https://localhost:8080/"
    },
    "execution": {
     "iopub.execute_input": "2025-08-16T05:15:23.710508Z",
     "iopub.status.busy": "2025-08-16T05:15:23.710230Z",
     "iopub.status.idle": "2025-08-16T05:15:25.878411Z",
     "shell.execute_reply": "2025-08-16T05:15:25.877678Z"
    },
    "id": "5pYh4c8j1w43",
    "outputId": "8a0dca73-64e5-4f0d-c493-2c5b38392363",
    "papermill": {
     "duration": 2.171614,
     "end_time": "2025-08-16T05:15:25.879543",
     "exception": false,
     "start_time": "2025-08-16T05:15:23.707929",
     "status": "completed"
    },
    "tags": []
   },
   "outputs": [
    {
     "name": "stdout",
     "output_type": "stream",
     "text": [
      "Status Code: 200\n",
      "Response Headers: {'Server': 'nginx', 'Date': 'Sat, 16 Aug 2025 05:15:25 GMT', 'Content-Type': 'text/html; charset=UTF-8', 'Transfer-Encoding': 'chunked', 'Vary': 'Accept-Encoding, User-Agent', 'Set-Cookie': 'FRSPSID=8ip2rm5qr5ck3kc17b677tstm6; path=/; domain=.sprzedajemy.pl; secure; HttpOnly, _items_per_page__offer_list=60; expires=Mon, 15-Sep-2025 05:15:25 GMT; Max-Age=2592000; path=/; domain=.sprzedajemy.pl; secure; httponly, observed_id=154826504568a013ed757020204342946016949106; expires=Thu, 16-Aug-2125 06:15:25 GMT; Max-Age=3155677200; path=/; domain=.sprzedajemy.pl; secure; httponly', 'Expires': 'Thu, 19 Nov 1981 08:52:00 GMT', 'Cache-Control': 'no-store, no-cache, must-revalidate, post-check=0, pre-check=0', 'Pragma': 'no-cache', 'Content-Encoding': 'gzip'}\n",
      "Response Text (first 2000 chars): <!DOCTYPE html><html xmlns=\"http://www.w3.org/1999/xhtml\" xml:lang=\"pl\" lang=\"pl\" class=\"no-js\" >\n",
      "<head>\n",
      "\t\t\t<!-- Google Tag Manager -->\n",
      "\t\t\t<script>(function(w,d,s,l,i){w[l]=w[l]||[];w[l].push({'gtm.start':\n",
      "\t\t\t\t\t\tnew Date().getTime(),event:'gtm.js'});var f=d.getElementsByTagName(s)[0],\n",
      "\t\t\t\t\tj=d.createElement(s),dl=l!='dataLayer'?'&l='+l:'';j.async=true;j.src=\n",
      "\t\t\t\t\t'https://www.googletagmanager.com/gtm.js?id='+i+dl\n",
      "\t\t\t\t\t\t\t\t\t    ;f.parentNode.insertBefore(j,f);\n",
      "\t\t\t\t    })(window,document,'script','dataLayer','GTM-P3S238');</script>\n",
      "\t\t\t<!-- End Google Tag Manager -->\n",
      "\t<title>Mieszkania Kraków na sprzedaż, wynajem - Sprzedajemy.pl</title><meta http-equiv=\"Content-Type\" content=\"text/html; charset=UTF-8\" >\n",
      "<meta http-equiv=\"X-UA-Compatible\" content=\"IE=edge\" >\n",
      "<meta name=\"description\" content=\"Ogłoszenia o tematyce:  w kategorii Mieszkania - Kupuj i sprzedawaj rzeczy używane i nowe w kategorii Mieszkania na Sprzedajemy.pl\" >\n",
      "<meta property=\"og:title\" content=\"Mieszkania Kraków na sprzedaż, wynajem - Sprzedajemy.pl\" >\n",
      "<meta property=\"og:type\" content=\"website\" >\n",
      "<meta property=\"og:image\" content=\"https://thumbs.img-sprzedajemy.pl/facebook/sprzedajemy.pl.png\" >\n",
      "<meta property=\"og:image:width\" content=\"200\" >\n",
      "<meta property=\"og:image:height\" content=\"200\" >\n",
      "<meta property=\"og:url\" content=\"https://sprzedajemy.pl/krakow/nieruchomosci/mieszkania\" >\n",
      "<meta property=\"og:site_name\" content=\"Sprzedajemy.pl\" >\n",
      "<meta property=\"fb:app_id\" content=\"173258269367442\" >\n",
      "<meta property=\"og:description\" content=\"Ogłoszenia o tematyce:  w kategorii Mieszkania - Kupuj i sprzedawaj rzeczy używane i nowe w kategorii Mieszkania na Sprzedajemy.pl\" >\n",
      "<meta name=\"robots\" content=\"noindex, follow\" >\t\t<script  async=\"async\" src=\"https://static.criteo.net/js/ld/publishertag.js\"></script>\n",
      "        <script  async=\"async\" src=\"https://ap.lijit.com/www/sovrn_beacon_standalone/sovrn_standalone_beacon.js?iid=13417409&amp;uid=sprzedajemy\" id=\"sBeacon\"></script>\n",
      "\t\t<script  async=\"async\" src=\"https://securepuba\n",
      "Titles: ['Dom - Kraków Tonie - Zielona okolica - 123 m2 | 5 - pok. | Ogród | Taras |…', 'studio kawalerka Stare Podgórze', '3 niezależne lokale z KW– inwestycja z potencjałem', 'Kraków, Stare Miasto sprzedaż/zamiana', 'Mieszkanie 3-pokojowe. Duży balkon. Dobra komunikacja, Od właściciela', 'Wynajmę mieszkanie przy ul. Pychowickiej', 'Kawalerka Salwator Centrum POD INWESTYCJE', 'Na sprzedaż mieszkanie | Wiślane Tarasy | 44,3 m²', 'Dla studenta lub na wynajem krótkoterminowy', 'Mieszkanie Kraków 61.9m2 3 pokojowe', 'Mieszkanie Kraków Bartosza Głowackiego 34.11m2 1 pokój', 'Kawalerka do wynajęcia -Kraków Grzegórzki', 'Mieszkanie Kraków Krupnicza 32m2 1 pokojowe', 'Oferta sprzedaży mieszkania Kraków Macieja Dębskiego 49.93 metry 3-pokojowe', 'Sprzedam mieszkanie 58m2 3-pokojowe Kraków Fatimska', 'Mieszkanie Kraków 51.71m2 3 pokojowe', 'Mieszkanie 98 metrów 3 pokoje Kraków Bolesława Komorowskiego', 'Mieszkanie 51.71m2 3 pokoje Kraków al. 29 Listopada', 'Mieszkanie 38.4m2 2 pokojowe Kraków', 'Mieszkanie Kraków 51.92m2 2 pokojowe', 'Oferta sprzedaży mieszkania 182.9m2 4-pokojowe Kraków', 'Mieszkanie Kraków 57.13m2 4-pokojowe', 'Mieszkanie 59.3m2 2 pok Kraków Kotlarska', '2 Pokoje aneks luksusowe Kazimierz blisko Bulwarów', 'Mieszkanie przy ul. Piusa Welońskiego - Kraków', 'Mieszkanie Kraków Świętokrzyska 85.3m2 4 pok', 'Mieszkanie Kraków Macieja Dębskiego 114 metry 4 pokoje', 'Mieszkanie sprzedam Kraków Barbary 49m2 2-pokojowe', 'Oferta sprzedaży mieszkania 59.42m2 Kraków', 'Mieszkanie Kraków 70m2 3-pokojowe', 'Mieszkanie Kraków Przewóz 59.35m2 3 pok', 'Mieszkanie Kraków 35.45m2 2 pokoje', 'Ogłoszenie mieszkanie 58 metrów 3 pokoje Kraków Nullo', 'Mieszkanie Kraków Przewóz 30.6m2 1-pokojowe', 'Mieszkanie Kraków Banacha 47.54m2 2-pokojowe', 'Kaucja 1000 zł! 2-pokojowe mieszkanie 53 m², Prądnik Czerwony, Ugorek', '3 pokoje, 2 balkony | 62m² i widok z 11 piętra', 'Mieszkanie Kraków 73.4m2 3 pokoje', 'Mieszkanie Kraków Mogilska 39 metrów 2 pokoje', 'Centrum Miasta - 3-pok. mieszkanie blisko Wawelu', 'Oferta sprzedaży mieszkania Kraków Aleja Kijowska 41.39m2 2 pokoje', 'Mieszkanie 44.91m2 2 pokoje Kraków', 'Mieszkanie Kraków 41.04m2 2-pokojowe', 'Mieszkanie Kraków 76.94m2 3 pokojowe', 'Oferta sprzedaży mieszkania Kraków Aleja Kijowska 41.4m2 2 pokoje', 'Mieszkanie 54m2 2-pokojowe Kraków', 'Mieszkanie 66.9m2 3-pokojowe Kraków Makowa', 'Wprowadź się od zaraz! Wyposażone mieszkanie 39m² na Grzegórzkach', 'Mieszkanie na sprzedaż/zamiana 39m2', 'Wyjątkowe 2-pokojowe poddasze Stare Podgórze – gotowe do zamieszkania', 'Sprzedamy wyjątkowe mieszkanie na urokliwym osiedlu Kliny. :)', 'Mieszkanie do wynajęcia jednopokojowe 36m', 'Pokój jednoosobowy ul. Słomiana / 1250 zł', 'Wynajmę mieszkanie w Krakowie Bronowicach', '2 pokojowe Konfederacka / Rondo Grunwaldzkie, ICE', '3 pokojowe Rakowcka 22C', 'Sprzedamy wyjątkowe mieszkanie na urokliwym osiedlu Kliny. :)', 'Mieszkanie 55.75m2 Kraków 29 listopada - okolice', 'Przytulne mieszkanie 38 m² z balkonem – Osiedle Złotego Wieku', 'Mieszkanie do sprzedania Kraków 50.12m2 2 pokoje']\n",
      "60\n",
      "Prices: ['2 275 000 zł', '2 600 zł', '265 000 zł', '2 153 000 zł', '3 500 zł', '3 000 zł', '428 824 zł', '999 000 zł', '545 000 zł', '780 000 zł', '648 000 zł', '2 400 zł', '2 700 zł', '649 000 zł', '753 000 zł', '3 500 zł', '5 800 zł', '925 000 zł', '2 900 zł', '3 000 zł', '3 900 000 zł', '920 000 zł', '799 000 zł', '999 000 zł', '1 138 000 zł', '3 600 zł', '990 000 zł', '560 000 zł', '985 000 zł', '890 000 zł', '938 000 zł', '649 000 zł', '1 449 000 zł', '573 000 zł', '728 000 zł', '2 150 zł', '895 000 zł', '5 500 zł', '3 000 zł', '1 450 000 zł', '922 955 zł', '996 957 zł', '902 838 zł', '1 198 000 zł', '931 458 zł', '670 000 zł', '3 500 zł', '749 000 zł', '526 000 zł', '819 000 zł', '689 000 zł', '2 000 zł', '1 250 zł', '3 000 zł', '3 000 zł', '4 300 zł', '689 000 zł', '756 514 zł', '512 000 zł', '744 840 zł']\n",
      "60\n"
     ]
    }
   ],
   "source": [
    "import requests\n",
    "from bs4 import BeautifulSoup\n",
    "import pandas as pd\n",
    "import os\n",
    "\n",
    "url = \"https://sprzedajemy.pl/krakow/nieruchomosci/mieszkania?offset=0&items_per_page=60\"\n",
    "\n",
    "headers = {\n",
    "    \"User-Agent\": \"Mozilla/5.0 (Windows NT 10.0; Win64; x64) AppleWebKit/537.36 (KHTML, like Gecko) Chrome/58.0.3029.110 Safari/537.36\",\n",
    "    \"Accept\": \"text/html,application/xhtml+xml,application/xml;q=0.9,image/webp,image/apng,*/*;q=0.8\",\n",
    "    \"Accept-Encoding\": \"gzip, deflate, br\",\n",
    "    \"Accept-Language\": \"en-US,en;q=0.9,pl;q=0.8\",\n",
    "    \"Connection\": \"keep-alive\"\n",
    "}\n",
    "\n",
    "response = requests.get(url, headers=headers)\n",
    "response = requests.get(url, headers=headers)\n",
    "\n",
    "# Debugowanie odpowiedzi\n",
    "print(f\"Status Code: {response.status_code}\")\n",
    "print(f\"Response Headers: {response.headers}\")\n",
    "print(f\"Response Text (first 2000 chars): {response.text[:2000]}\")\n",
    "\n",
    "# Jeśli odpowiedź jest poprawna, wykonaj webscraping\n",
    "if response.status_code == 200:\n",
    "    soup = BeautifulSoup(response.content, \"html.parser\")\n",
    "\n",
    "    # Pobieranie ofert mieszkań\n",
    "    titles = [h2.a.text.strip() for h2 in soup.find_all(\"h2\", class_=\"title\") if h2.a]\n",
    "    prices = [p.text.replace(\"\\xa0\", \" \").strip() for p in soup.find_all(\"span\", class_=\"price\")]\n",
    "\n",
    "    print(\"Titles:\", titles)\n",
    "    print(len(titles))\n",
    "    print(\"Prices:\", prices)\n",
    "    print(len(prices))\n",
    "\n",
    "    df = pd.DataFrame({\"Title\": titles, \"Price\": prices})\n",
    "\n",
    "    # Dopisanie do pliku CSV\n",
    "    df.to_csv(\"scraped_data.csv\", mode='a', header=not os.path.exists('scraped_data.csv'), index=False)\n",
    "else:\n",
    "    print(\"Failed to retrieve data.\")\n"
   ]
  }
 ],
 "metadata": {
  "colab": {
   "provenance": []
  },
  "kernelspec": {
   "display_name": "Python 3",
   "name": "python3"
  },
  "language_info": {
   "codemirror_mode": {
    "name": "ipython",
    "version": 3
   },
   "file_extension": ".py",
   "mimetype": "text/x-python",
   "name": "python",
   "nbconvert_exporter": "python",
   "pygments_lexer": "ipython3",
   "version": "3.9.23"
  },
  "papermill": {
   "default_parameters": {},
   "duration": 3.347082,
   "end_time": "2025-08-16T05:15:26.097493",
   "environment_variables": {},
   "exception": null,
   "input_path": "nb.ipynb",
   "output_path": "nbo.ipynb",
   "parameters": {},
   "start_time": "2025-08-16T05:15:22.750411",
   "version": "2.6.0"
  }
 },
 "nbformat": 4,
 "nbformat_minor": 5
}