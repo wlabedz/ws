{
 "cells": [
  {
   "cell_type": "code",
   "execution_count": 1,
   "id": "3ea7fee6",
   "metadata": {
    "colab": {
     "base_uri": "https://localhost:8080/"
    },
    "execution": {
     "iopub.execute_input": "2025-09-19T20:39:46.731511Z",
     "iopub.status.busy": "2025-09-19T20:39:46.731222Z",
     "iopub.status.idle": "2025-09-19T20:39:49.552276Z",
     "shell.execute_reply": "2025-09-19T20:39:49.551555Z"
    },
    "id": "5pYh4c8j1w43",
    "outputId": "8a0dca73-64e5-4f0d-c493-2c5b38392363",
    "papermill": {
     "duration": 2.824747,
     "end_time": "2025-09-19T20:39:49.553502",
     "exception": false,
     "start_time": "2025-09-19T20:39:46.728755",
     "status": "completed"
    },
    "tags": []
   },
   "outputs": [
    {
     "name": "stdout",
     "output_type": "stream",
     "text": [
      "Status Code: 200\n",
      "Response Headers: {'Server': 'nginx', 'Date': 'Fri, 19 Sep 2025 20:39:49 GMT', 'Content-Type': 'text/html; charset=UTF-8', 'Transfer-Encoding': 'chunked', 'Vary': 'Accept-Encoding, User-Agent', 'Set-Cookie': 'FRSPSID=ubba72ptfuhs99sagp588m0rp0; path=/; domain=.sprzedajemy.pl; secure; HttpOnly, _items_per_page__offer_list=60; expires=Sun, 19-Oct-2025 20:39:48 GMT; Max-Age=2592000; path=/; domain=.sprzedajemy.pl; secure; httponly, observed_id=28331015868cdbf9505b4d395052467928459507; expires=Wed, 19-Sep-2125 21:39:49 GMT; Max-Age=3155677200; path=/; domain=.sprzedajemy.pl; secure; httponly', 'Expires': 'Thu, 19 Nov 1981 08:52:00 GMT', 'Cache-Control': 'no-store, no-cache, must-revalidate, post-check=0, pre-check=0', 'Pragma': 'no-cache', 'Content-Encoding': 'gzip'}\n",
      "Response Text (first 2000 chars): <!DOCTYPE html><html xmlns=\"http://www.w3.org/1999/xhtml\" xml:lang=\"pl\" lang=\"pl\" class=\"no-js\" >\n",
      "<head>\n",
      "\t\t\t<!-- Google Tag Manager -->\n",
      "\t\t\t<script>(function(w,d,s,l,i){w[l]=w[l]||[];w[l].push({'gtm.start':\n",
      "\t\t\t\t\t\tnew Date().getTime(),event:'gtm.js'});var f=d.getElementsByTagName(s)[0],\n",
      "\t\t\t\t\tj=d.createElement(s),dl=l!='dataLayer'?'&l='+l:'';j.async=true;j.src=\n",
      "\t\t\t\t\t'https://www.googletagmanager.com/gtm.js?id='+i+dl\n",
      "\t\t\t\t\t\t\t\t\t    ;f.parentNode.insertBefore(j,f);\n",
      "\t\t\t\t    })(window,document,'script','dataLayer','GTM-P3S238');</script>\n",
      "\t\t\t<!-- End Google Tag Manager -->\n",
      "\t<title>Mieszkania Kraków na sprzedaż, wynajem - Sprzedajemy.pl</title><meta http-equiv=\"Content-Type\" content=\"text/html; charset=UTF-8\" >\n",
      "<meta http-equiv=\"X-UA-Compatible\" content=\"IE=edge\" >\n",
      "<meta name=\"description\" content=\"Ogłoszenia o tematyce:  w kategorii Mieszkania - Kupuj i sprzedawaj rzeczy używane i nowe w kategorii Mieszkania na Sprzedajemy.pl\" >\n",
      "<meta property=\"og:title\" content=\"Mieszkania Kraków na sprzedaż, wynajem - Sprzedajemy.pl\" >\n",
      "<meta property=\"og:type\" content=\"website\" >\n",
      "<meta property=\"og:image\" content=\"https://thumbs.img-sprzedajemy.pl/facebook/sprzedajemy.pl.png\" >\n",
      "<meta property=\"og:image:width\" content=\"200\" >\n",
      "<meta property=\"og:image:height\" content=\"200\" >\n",
      "<meta property=\"og:url\" content=\"https://sprzedajemy.pl/krakow/nieruchomosci/mieszkania\" >\n",
      "<meta property=\"og:site_name\" content=\"Sprzedajemy.pl\" >\n",
      "<meta property=\"fb:app_id\" content=\"173258269367442\" >\n",
      "<meta property=\"og:description\" content=\"Ogłoszenia o tematyce:  w kategorii Mieszkania - Kupuj i sprzedawaj rzeczy używane i nowe w kategorii Mieszkania na Sprzedajemy.pl\" >\n",
      "<meta name=\"robots\" content=\"noindex, follow\" >\t\t<script  async=\"async\" src=\"https://static.criteo.net/js/ld/publishertag.js\"></script>\n",
      "        <script  async=\"async\" src=\"https://ap.lijit.com/www/sovrn_beacon_standalone/sovrn_standalone_beacon.js?iid=13417409&amp;uid=sprzedajemy\" id=\"sBeacon\"></script>\n",
      "\t\t<script  async=\"async\" src=\"https://securepuba\n",
      "Titles: ['Podedworze 13', 'Stylowy lokal na parterze przy Krowoderskiej', 'Wyjątkowy lokal przy ul. Krowoderskiej z widokiem na stronę ogrodową', 'Dwa pokoje - stare miasto - Do wejścia - Własność', '2-pokojowe mieszkanie po remoncie | PROMOCJA | ul Bronowicka', 'Sprzedam dwupokojowe mieszkanie os. Dywizjonu 303, 19C Kraków', 'Mieszkanie z widokiem na góry', 'Wyjątkowe mieszkanie z widokiem na klasztor w Tyńcu i panoramę Tatr', 'Stylowy apartament z widokiem na panoramę Krakowa - od właściciela', 'Nowoczesny apartament z panoramicznym widokiem - od właściciela', 'Mieszkanie 63.3m2 3-pok Kraków Aleja Pokoju', 'Ogłoszenie mieszkanie 35.31m2 2 pokoje Kraków Mitery', 'Mieszkanie na sprzedaż Kraków 38.69m2 2 pokojowe', 'Mieszkanie 38.69m2 3-pokojowe Kraków Imbramowska', 'Wynajmę mieszkanie 51m2 2 pokojowe Kraków', 'Mieszkanie Kraków św. Sebastiana 51.9m2 2 pokoje', 'Oferta wynajmu mieszkania 33m2 2 pokoje Kraków Cieszyńska', 'Mieszkanie Kraków Imbramowska 38.69m2 2 pok', 'Mieszkanie 40m2 2 pokojowe Kraków Bunscha', 'Sprzedaż mieszkania Kraków Jasnogórska 62.19m2 3 pokoje', 'Mieszkanie Kraków św. Kingi 19.5m2', 'Oferta sprzedaży mieszkania Kraków 122.05m2 3 pok', 'Mieszkanie Kraków Gałczyńskiego 80.28 metrów', 'Mieszkanie 38.69m2 4 pokoje Kraków', 'Mieszkanie 112m2 5 pokoi Kraków', 'Ogłoszenie mieszkanie Kraków dr. Jana Piltza 67.9m2 3-pok', 'Ogłoszenie mieszkanie 58.66m2 2 pokoje Kraków', 'Mieszkanie sprzedam 38.69m2 2 pokoje Kraków', 'Mieszkanie Kraków Jasnogórska 62.19m2 3-pokojowe', 'Mieszkanie 28.75m2 Kraków', 'Mieszkanie 45 metrów Kraków', 'Mieszkanie 33.3m2 2 pok Kraków', 'Sprzedam mieszkanie Kraków os. Albertyńskie 50m 3 pokoje', 'Mieszkanie 53.9m2 Kraków', '3-pokojowe mieszkanie z miejscem parkingowym', 'Oferta sprzedaży mieszkania 51.83m2 2 pokojowe Kraków Królewska', 'Mieszkanie 38.69 metrów 2 pokoje Kraków Imbramowska', 'Mieszkanie Kraków 38.69m2 2 pokoje', 'Mieszkanie 41.97m2 1 pokojowe Kraków Kątowa', 'Mieszkanie 51.44m2 2 pokojowe Kraków os. Centrum C', 'Sprzedam mieszkanie Kraków Imbramowska 38.69m2 2 pokoje', 'Mieszkanie 73m2 3-pok Kraków', 'Mieszkanie 55m2 3 pokoje Kraków os. Na Stoku', 'Sprzedam mieszkanie Kraków 108m2 4 pok', 'Mieszkanie 51m2 2 pok Kraków', 'Oferta sprzedaży mieszkania Kraków 62.19m2 3 pokojowe', 'Mieszkanie 34m2 1 pok Kraków Topolowa', 'Mieszkanie 62.19m2 3 pok Kraków Jasnogórska', 'Mieszkanie Kraków Imbramowska 38.69 metrów 2 pok', 'Mieszkanie Kraków os. Strusia 36.6m2 2 pokoje', 'Mieszkanie 573.12m2 2 pokoje Kraków Józefińska', 'Oferta sprzedaży mieszkania 38.69m2 2-pokojowe Kraków Imbramowska', 'Mieszkanie Kraków Przemysłowa 64m2 2 pokojowe', 'Mieszkanie Kraków 62.19m2 3 pokojowe', 'Mieszkanie Kraków Imbramowska 38.69m2 4 pokoje', 'Mieszkanie Kraków Strzelców 46.01m2 2 pok', 'Mieszkanie Kraków Obozowa 75.6m2 3-pok', 'Mieszkanie 54.5m2 2-pokojowe Kraków os. Spółdzielcze', 'Mieszkanie 38.69m2 3-pokojowe Kraków Imbramowska', 'Mieszkanie 44m2 Kraków']\n",
      "60\n",
      "Prices: ['542 000 zł', '1 890 000 zł', '1 340 000 zł', '715 155 zł', '710 000 zł', '635 000 zł', '265 000 zł', '779 000 zł', '890 000 zł', '997 000 zł', '1 099 000 zł', '689 000 zł', '756 324 zł', '900 090 zł', '4 000 zł', '1 700 000 zł', '3 700 zł', '700 488 zł', '789 000 zł', '858 222 zł', '369 000 zł', '3 782 574 zł', '1 411 460 zł', '687 706 zł', '2 190 000 zł', '1 100 000 zł', '978 000 zł', '718 350 zł', '858 222 zł', '808 954 zł', '630 000 zł', '760 000 zł', '699 000 zł', '849 000 zł', '799 000 zł', '698 000 zł', '741 096 zł', '727 928 zł', '899 000 zł', '620 000 zł', '823 310 zł', '1 140 000 zł', '730 000 zł', '1 450 000 zł', '1 699 000 zł', '858 222 zł', '525 000 zł', '870 660 zł', '730 944 zł', '590 000 zł', '8 000 000 zł', '707 078 zł', '3 400 zł', '870 660 zł', '1 000 054 zł', '780 000 zł', '1 150 000 zł', '609 000 zł', '873 810 zł', '2 900 zł']\n",
      "60\n"
     ]
    }
   ],
   "source": [
    "import requests\n",
    "from bs4 import BeautifulSoup\n",
    "import pandas as pd\n",
    "import os\n",
    "\n",
    "url = \"https://sprzedajemy.pl/krakow/nieruchomosci/mieszkania?offset=0&items_per_page=60\"\n",
    "\n",
    "headers = {\n",
    "    \"User-Agent\": \"Mozilla/5.0 (Windows NT 10.0; Win64; x64) AppleWebKit/537.36 (KHTML, like Gecko) Chrome/58.0.3029.110 Safari/537.36\",\n",
    "    \"Accept\": \"text/html,application/xhtml+xml,application/xml;q=0.9,image/webp,image/apng,*/*;q=0.8\",\n",
    "    \"Accept-Encoding\": \"gzip, deflate, br\",\n",
    "    \"Accept-Language\": \"en-US,en;q=0.9,pl;q=0.8\",\n",
    "    \"Connection\": \"keep-alive\"\n",
    "}\n",
    "\n",
    "response = requests.get(url, headers=headers)\n",
    "response = requests.get(url, headers=headers)\n",
    "\n",
    "# Debugowanie odpowiedzi\n",
    "print(f\"Status Code: {response.status_code}\")\n",
    "print(f\"Response Headers: {response.headers}\")\n",
    "print(f\"Response Text (first 2000 chars): {response.text[:2000]}\")\n",
    "\n",
    "# Jeśli odpowiedź jest poprawna, wykonaj webscraping\n",
    "if response.status_code == 200:\n",
    "    soup = BeautifulSoup(response.content, \"html.parser\")\n",
    "\n",
    "    # Pobieranie ofert mieszkań\n",
    "    titles = [h2.a.text.strip() for h2 in soup.find_all(\"h2\", class_=\"title\") if h2.a]\n",
    "    prices = [p.text.replace(\"\\xa0\", \" \").strip() for p in soup.find_all(\"span\", class_=\"price\")]\n",
    "\n",
    "    print(\"Titles:\", titles)\n",
    "    print(len(titles))\n",
    "    print(\"Prices:\", prices)\n",
    "    print(len(prices))\n",
    "\n",
    "    df = pd.DataFrame({\"Title\": titles, \"Price\": prices})\n",
    "\n",
    "    # Dopisanie do pliku CSV\n",
    "    df.to_csv(\"scraped_data.csv\", mode='a', header=not os.path.exists('scraped_data.csv'), index=False)\n",
    "else:\n",
    "    print(\"Failed to retrieve data.\")\n"
   ]
  }
 ],
 "metadata": {
  "colab": {
   "provenance": []
  },
  "kernelspec": {
   "display_name": "Python 3",
   "name": "python3"
  },
  "language_info": {
   "codemirror_mode": {
    "name": "ipython",
    "version": 3
   },
   "file_extension": ".py",
   "mimetype": "text/x-python",
   "name": "python",
   "nbconvert_exporter": "python",
   "pygments_lexer": "ipython3",
   "version": "3.9.23"
  },
  "papermill": {
   "default_parameters": {},
   "duration": 3.936282,
   "end_time": "2025-09-19T20:39:49.770629",
   "environment_variables": {},
   "exception": null,
   "input_path": "nb.ipynb",
   "output_path": "nbo.ipynb",
   "parameters": {},
   "start_time": "2025-09-19T20:39:45.834347",
   "version": "2.6.0"
  }
 },
 "nbformat": 4,
 "nbformat_minor": 5
}