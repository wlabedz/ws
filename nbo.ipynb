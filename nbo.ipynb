{
 "cells": [
  {
   "cell_type": "code",
   "execution_count": 1,
   "id": "6231c638",
   "metadata": {
    "colab": {
     "base_uri": "https://localhost:8080/"
    },
    "execution": {
     "iopub.execute_input": "2025-07-11T17:46:11.861246Z",
     "iopub.status.busy": "2025-07-11T17:46:11.860969Z",
     "iopub.status.idle": "2025-07-11T17:46:14.481696Z",
     "shell.execute_reply": "2025-07-11T17:46:14.481114Z"
    },
    "id": "5pYh4c8j1w43",
    "outputId": "8a0dca73-64e5-4f0d-c493-2c5b38392363",
    "papermill": {
     "duration": 2.624399,
     "end_time": "2025-07-11T17:46:14.482876",
     "exception": false,
     "start_time": "2025-07-11T17:46:11.858477",
     "status": "completed"
    },
    "tags": []
   },
   "outputs": [
    {
     "name": "stdout",
     "output_type": "stream",
     "text": [
      "Status Code: 200\n",
      "Response Headers: {'Server': 'nginx', 'Date': 'Fri, 11 Jul 2025 17:46:14 GMT', 'Content-Type': 'text/html; charset=UTF-8', 'Transfer-Encoding': 'chunked', 'Vary': 'Accept-Encoding, User-Agent', 'Set-Cookie': 'FRSPSID=1a7tf2vs55o9dn100gdgdsa6a2; path=/; domain=.sprzedajemy.pl; secure; HttpOnly, _items_per_page__offer_list=60; expires=Sun, 10-Aug-2025 17:46:13 GMT; Max-Age=2592000; path=/; domain=.sprzedajemy.pl; secure; httponly, observed_id=111045226668714de5ecfd95101636391256315076; expires=Wed, 11-Jul-2125 18:46:13 GMT; Max-Age=3155677200; path=/; domain=.sprzedajemy.pl; secure; httponly', 'Expires': 'Thu, 19 Nov 1981 08:52:00 GMT', 'Cache-Control': 'no-store, no-cache, must-revalidate, post-check=0, pre-check=0', 'Pragma': 'no-cache', 'Content-Encoding': 'gzip'}\n",
      "Response Text (first 2000 chars): <!DOCTYPE html><html xmlns=\"http://www.w3.org/1999/xhtml\" xml:lang=\"pl\" lang=\"pl\" class=\"no-js\" >\n",
      "<head>\n",
      "\t\t\t<!-- Google Tag Manager -->\n",
      "\t\t\t<script>(function(w,d,s,l,i){w[l]=w[l]||[];w[l].push({'gtm.start':\n",
      "\t\t\t\t\t\tnew Date().getTime(),event:'gtm.js'});var f=d.getElementsByTagName(s)[0],\n",
      "\t\t\t\t\tj=d.createElement(s),dl=l!='dataLayer'?'&l='+l:'';j.async=true;j.src=\n",
      "\t\t\t\t\t'https://www.googletagmanager.com/gtm.js?id='+i+dl\n",
      "\t\t\t\t\t\t\t\t\t    ;f.parentNode.insertBefore(j,f);\n",
      "\t\t\t\t    })(window,document,'script','dataLayer','GTM-P3S238');</script>\n",
      "\t\t\t<!-- End Google Tag Manager -->\n",
      "\t<title>Mieszkania Kraków na sprzedaż, wynajem - Sprzedajemy.pl</title><meta http-equiv=\"Content-Type\" content=\"text/html; charset=UTF-8\" >\n",
      "<meta http-equiv=\"X-UA-Compatible\" content=\"IE=edge\" >\n",
      "<meta name=\"description\" content=\"Ogłoszenia o tematyce:  w kategorii Mieszkania - Kupuj i sprzedawaj rzeczy używane i nowe w kategorii Mieszkania na Sprzedajemy.pl\" >\n",
      "<meta property=\"og:title\" content=\"Mieszkania Kraków na sprzedaż, wynajem - Sprzedajemy.pl\" >\n",
      "<meta property=\"og:type\" content=\"website\" >\n",
      "<meta property=\"og:image\" content=\"https://thumbs.img-sprzedajemy.pl/facebook/sprzedajemy.pl.png\" >\n",
      "<meta property=\"og:image:width\" content=\"200\" >\n",
      "<meta property=\"og:image:height\" content=\"200\" >\n",
      "<meta property=\"og:url\" content=\"https://sprzedajemy.pl/krakow/nieruchomosci/mieszkania\" >\n",
      "<meta property=\"og:site_name\" content=\"Sprzedajemy.pl\" >\n",
      "<meta property=\"fb:app_id\" content=\"173258269367442\" >\n",
      "<meta property=\"og:description\" content=\"Ogłoszenia o tematyce:  w kategorii Mieszkania - Kupuj i sprzedawaj rzeczy używane i nowe w kategorii Mieszkania na Sprzedajemy.pl\" >\n",
      "<meta name=\"robots\" content=\"noindex, follow\" >\t\t<script  async=\"async\" src=\"https://static.criteo.net/js/ld/publishertag.js\"></script>\n",
      "        <script  async=\"async\" src=\"https://ap.lijit.com/www/sovrn_beacon_standalone/sovrn_standalone_beacon.js?iid=13417409&amp;uid=sprzedajemy\" id=\"sBeacon\"></script>\n",
      "\t\t<script  async=\"async\" src=\"https://securepuba\n",
      "Titles: ['Super lokalizacja! TRAMWAJ, kawalerka do wejścia! Prądnik Czerwony/Huta', '2-pokojowe mieszkanie na Zabłociu – ciche, świetna lokalizacja!', 'Mieszkanie na sprzedaż/zamiana 39m2', 'Wyjątkowe mieszkanie z widokiem na klasztor w Tyńcu i panoramę Tatr', 'Stylowy apartament z widokiem na panoramę Krakowa - od właściciela', 'Nowoczesny apartament z panoramicznym widokiem - od właściciela', 'Kraków, Stare Miasto sprzedaż/zamiana', 'Oferta wynajmu mieszkania Kraków Fredry 66m2 3-pok', 'Mieszkanie 62.19m2 3 pok Kraków Jasnogórska', 'Mieszkanie Kraków św. Sebastiana 51.9m2 2 pokoje', 'Oferta sprzedaży mieszkania Kraków 55.27m2 3-pokojowe', 'Mieszkanie 55m2 3 pokoje Kraków os. Na Stoku', 'Mieszkanie Kraków Przemysłowa 64m2 2 pokojowe', 'Mieszkanie Kraków Jasnogórska 62.19m2 3-pokojowe', 'Mieszkanie Kraków 38.69m2 2 pokoje', 'Oferta sprzedaży mieszkania Kraków 85.9m2 3 pokojowe', 'Mieszkanie 51m2 2 pok Kraków', 'Mieszkanie Kraków 46.71m2 2-pokojowe', 'Mieszkanie Kraków Obozowa 75.6m2 3-pok', 'Mieszkanie 76m2 4-pok Kraków Głowackiego', 'Sprzedaż mieszkania Kraków Agatowa 44.48m2 2 pokoje', 'Do sprzedaży mieszkanie Kraków Marii i Bolesława Wysłouchów 52m2 3 pokoje', 'Mieszkanie 47.22m2 2 pokoje Kraków', 'Mieszkanie Kraków 62.19m2 3 pokojowe', 'Mieszkanie Kraków Podbrzezie 52m2 3 pokoje', 'Mieszkanie Kraków Imbramowska 38.69m2 2 pok', 'Sprzedam mieszkanie Kraków Imbramowska 38.69m2 2 pokoje', 'Mieszkanie Kraków Babińskiego 82.96m2 3-pokojowe', 'Mieszkanie 38.69m2 3-pokojowe Kraków Imbramowska', 'Mieszkanie 38.69 metrów 2 pokoje Kraków Imbramowska', 'Ogłoszenie mieszkanie Kraków dr. Jana Piltza 67.9m2 3-pok', 'Mieszkanie Kraków Strzelców 46.01m2 2 pok', 'Do sprzedaży mieszkanie 45.53m2 2 pokojowe Kraków os. Teatralne', 'Oferta sprzedaży mieszkania 38.69m2 2-pokojowe Kraków Imbramowska', 'Mieszkanie 33.3m2 2 pok Kraków', 'Ogłoszenie mieszkanie 58.66m2 2 pokoje Kraków', 'Mieszkanie 44m2 Kraków', 'Do sprzedaży mieszkanie Kraków Romana Żelazowskiego 55.07m2', 'Umeblowana kawalerka 33m2- Dębniki', 'Mieszkanie 573.12m2 2 pokoje Kraków Józefińska', 'Mieszkanie Kraków Batalionu Skała AK 48m2 3 pokojowe', 'Mieszkanie Kraków Jana Pawła II 32.54m2 1 pokój', 'Mieszkanie 112m2 5 pokoi Kraków', 'Mieszkanie 45.82m2 2 pokoje Kraków', 'Kurdwanów - 52m2, dwupokojowe z jasną kuchnią', 'ul.Felińskiego, piękne 3 pokoje, garaż', 'CENTRUM_Pełne wyposażenie_Balkon_NOWE', 'Sprzedam mieszkanie', 'Mieszkanie 50.23m2 3 pokoje Kraków', 'Oferta sprzedaży mieszkania 43.35m2 2 pokojowe Kraków Wadowicka', 'Mieszkanie 62.7m2 3 pokojowe Kraków Dywizjonu 303', 'Mieszkanie 72.4m2 3-pok Kraków Babińskiego', 'Mieszkanie na wynajem Kraków 20.81m2 1 pok', 'Ogłoszenie mieszkanie Kraków 43.42m2', 'Mieszkanie 94.61 metrów 4 pokojowe Kraków Olszanicka', 'Sprzedaż mieszkania Kraków Pękowicka 40m2 2 pokoje', 'Mieszkanie Kraków Pękowicka 36.17m2 2-pok', 'Mieszkanie 70.96m2 3 pokoje Kraków Walerego Sławka', 'Oferta sprzedaży mieszkania Kraków Babińskiego 33.25m2 1-pokojowe', 'Mieszkanie 48.2m Kraków']\n",
      "60\n",
      "Prices: ['565 000 zł', '519 000 zł', '526 000 zł', '779 000 zł', '897 000 zł', '997 000 zł', '2 200 000 zł', '4 500 zł', '870 660 zł', '1 700 000 zł', '898 000 zł', '730 000 zł', '4 000 zł', '858 222 zł', '727 928 zł', '1 230 000 zł', '1 699 000 zł', '752 000 zł', '1 150 000 zł', '3 800 zł', '667 000 zł', '709 000 zł', '600 000 zł', '870 660 zł', '5 300 zł', '700 488 zł', '823 310 zł', '1 484 984 zł', '873 810 zł', '741 096 zł', '1 100 000 zł', '780 000 zł', '538 000 zł', '707 078 zł', '790 000 zł', '978 000 zł', '2 900 zł', '590 000 zł', '550 000 zł', '8 000 000 zł', '2 900 zł', '640 000 zł', '2 190 000 zł', '830 000 zł', '599 000 zł', '800 000 zł', '2 500 zł', '635 000 zł', '708 243 zł', '806 310 zł', '3 000 zł', '1 245 280 zł', '2 600 zł', '700 000 zł', '1 336 358 zł', '786 000 zł', '613 081 zł', '1 419 000 zł', '628 425 zł', '797 710 zł']\n",
      "60\n"
     ]
    }
   ],
   "source": [
    "import requests\n",
    "from bs4 import BeautifulSoup\n",
    "import pandas as pd\n",
    "import os\n",
    "\n",
    "url = \"https://sprzedajemy.pl/krakow/nieruchomosci/mieszkania?offset=0&items_per_page=60\"\n",
    "\n",
    "headers = {\n",
    "    \"User-Agent\": \"Mozilla/5.0 (Windows NT 10.0; Win64; x64) AppleWebKit/537.36 (KHTML, like Gecko) Chrome/58.0.3029.110 Safari/537.36\",\n",
    "    \"Accept\": \"text/html,application/xhtml+xml,application/xml;q=0.9,image/webp,image/apng,*/*;q=0.8\",\n",
    "    \"Accept-Encoding\": \"gzip, deflate, br\",\n",
    "    \"Accept-Language\": \"en-US,en;q=0.9,pl;q=0.8\",\n",
    "    \"Connection\": \"keep-alive\"\n",
    "}\n",
    "\n",
    "response = requests.get(url, headers=headers)\n",
    "response = requests.get(url, headers=headers)\n",
    "\n",
    "# Debugowanie odpowiedzi\n",
    "print(f\"Status Code: {response.status_code}\")\n",
    "print(f\"Response Headers: {response.headers}\")\n",
    "print(f\"Response Text (first 2000 chars): {response.text[:2000]}\")\n",
    "\n",
    "# Jeśli odpowiedź jest poprawna, wykonaj webscraping\n",
    "if response.status_code == 200:\n",
    "    soup = BeautifulSoup(response.content, \"html.parser\")\n",
    "\n",
    "    # Pobieranie ofert mieszkań\n",
    "    titles = [h2.a.text.strip() for h2 in soup.find_all(\"h2\", class_=\"title\") if h2.a]\n",
    "    prices = [p.text.replace(\"\\xa0\", \" \").strip() for p in soup.find_all(\"span\", class_=\"price\")]\n",
    "\n",
    "    print(\"Titles:\", titles)\n",
    "    print(len(titles))\n",
    "    print(\"Prices:\", prices)\n",
    "    print(len(prices))\n",
    "\n",
    "    df = pd.DataFrame({\"Title\": titles, \"Price\": prices})\n",
    "\n",
    "    # Dopisanie do pliku CSV\n",
    "    df.to_csv(\"scraped_data.csv\", mode='a', header=not os.path.exists('scraped_data.csv'), index=False)\n",
    "else:\n",
    "    print(\"Failed to retrieve data.\")\n"
   ]
  }
 ],
 "metadata": {
  "colab": {
   "provenance": []
  },
  "kernelspec": {
   "display_name": "Python 3",
   "name": "python3"
  },
  "language_info": {
   "codemirror_mode": {
    "name": "ipython",
    "version": 3
   },
   "file_extension": ".py",
   "mimetype": "text/x-python",
   "name": "python",
   "nbconvert_exporter": "python",
   "pygments_lexer": "ipython3",
   "version": "3.9.23"
  },
  "papermill": {
   "default_parameters": {},
   "duration": 3.813185,
   "end_time": "2025-07-11T17:46:14.700827",
   "environment_variables": {},
   "exception": null,
   "input_path": "nb.ipynb",
   "output_path": "nbo.ipynb",
   "parameters": {},
   "start_time": "2025-07-11T17:46:10.887642",
   "version": "2.6.0"
  }
 },
 "nbformat": 4,
 "nbformat_minor": 5
}