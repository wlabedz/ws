{
 "cells": [
  {
   "cell_type": "code",
   "execution_count": 1,
   "id": "1cb943b7",
   "metadata": {
    "colab": {
     "base_uri": "https://localhost:8080/"
    },
    "execution": {
     "iopub.execute_input": "2025-10-30T04:59:32.771089Z",
     "iopub.status.busy": "2025-10-30T04:59:32.770840Z",
     "iopub.status.idle": "2025-10-30T04:59:34.919248Z",
     "shell.execute_reply": "2025-10-30T04:59:34.918509Z"
    },
    "id": "5pYh4c8j1w43",
    "outputId": "8a0dca73-64e5-4f0d-c493-2c5b38392363",
    "papermill": {
     "duration": 2.151843,
     "end_time": "2025-10-30T04:59:34.920345",
     "exception": false,
     "start_time": "2025-10-30T04:59:32.768502",
     "status": "completed"
    },
    "tags": []
   },
   "outputs": [
    {
     "name": "stdout",
     "output_type": "stream",
     "text": [
      "Status Code: 200\n",
      "Response Headers: {'Server': 'nginx', 'Date': 'Thu, 30 Oct 2025 04:59:34 GMT', 'Content-Type': 'text/html; charset=UTF-8', 'Transfer-Encoding': 'chunked', 'Vary': 'Accept-Encoding, User-Agent', 'Set-Cookie': 'FRSPSID=l79vdpk7b3ijr7hij9v4qbr0e6; path=/; domain=.sprzedajemy.pl; secure; HttpOnly, _items_per_page__offer_list=60; expires=Sat, 29-Nov-2025 04:59:34 GMT; Max-Age=2592000; path=/; domain=.sprzedajemy.pl; secure; httponly, observed_id=3837187516902f0b6718a16139252952808490812; expires=Tue, 30-Oct-2125 04:59:34 GMT; Max-Age=3155673600; path=/; domain=.sprzedajemy.pl; secure; httponly', 'Expires': 'Thu, 19 Nov 1981 08:52:00 GMT', 'Cache-Control': 'no-store, no-cache, must-revalidate, post-check=0, pre-check=0', 'Pragma': 'no-cache', 'Content-Encoding': 'gzip'}\n",
      "Response Text (first 2000 chars): <!DOCTYPE html><html xmlns=\"http://www.w3.org/1999/xhtml\" xml:lang=\"pl\" lang=\"pl\" class=\"no-js\" >\n",
      "<head>\n",
      "\t\t\t<!-- Google Tag Manager -->\n",
      "\t\t\t<script>(function(w,d,s,l,i){w[l]=w[l]||[];w[l].push({'gtm.start':\n",
      "\t\t\t\t\t\tnew Date().getTime(),event:'gtm.js'});var f=d.getElementsByTagName(s)[0],\n",
      "\t\t\t\t\tj=d.createElement(s),dl=l!='dataLayer'?'&l='+l:'';j.async=true;j.src=\n",
      "\t\t\t\t\t'https://www.googletagmanager.com/gtm.js?id='+i+dl\n",
      "\t\t\t\t\t\t\t\t\t    ;f.parentNode.insertBefore(j,f);\n",
      "\t\t\t\t    })(window,document,'script','dataLayer','GTM-P3S238');</script>\n",
      "\t\t\t<!-- End Google Tag Manager -->\n",
      "\t<title>Mieszkania Kraków na sprzedaż, wynajem - Sprzedajemy.pl</title><meta http-equiv=\"Content-Type\" content=\"text/html; charset=UTF-8\" >\n",
      "<meta http-equiv=\"X-UA-Compatible\" content=\"IE=edge\" >\n",
      "<meta name=\"description\" content=\"Ogłoszenia o tematyce:  w kategorii Mieszkania - Kupuj i sprzedawaj rzeczy używane i nowe w kategorii Mieszkania na Sprzedajemy.pl\" >\n",
      "<meta property=\"og:title\" content=\"Mieszkania Kraków na sprzedaż, wynajem - Sprzedajemy.pl\" >\n",
      "<meta property=\"og:type\" content=\"website\" >\n",
      "<meta property=\"og:image\" content=\"https://thumbs.img-sprzedajemy.pl/facebook/sprzedajemy.pl.png\" >\n",
      "<meta property=\"og:image:width\" content=\"200\" >\n",
      "<meta property=\"og:image:height\" content=\"200\" >\n",
      "<meta property=\"og:url\" content=\"https://sprzedajemy.pl/krakow/nieruchomosci/mieszkania\" >\n",
      "<meta property=\"og:site_name\" content=\"Sprzedajemy.pl\" >\n",
      "<meta property=\"fb:app_id\" content=\"173258269367442\" >\n",
      "<meta property=\"og:description\" content=\"Ogłoszenia o tematyce:  w kategorii Mieszkania - Kupuj i sprzedawaj rzeczy używane i nowe w kategorii Mieszkania na Sprzedajemy.pl\" >\n",
      "<meta name=\"robots\" content=\"noindex, follow\" >\t\t<script  async=\"async\" src=\"https://static.criteo.net/js/ld/publishertag.js\"></script>\n",
      "        <script  async=\"async\" src=\"https://ap.lijit.com/www/sovrn_beacon_standalone/sovrn_standalone_beacon.js?iid=13417409&amp;uid=sprzedajemy\" id=\"sBeacon\"></script>\n",
      "\t\t<script  async=\"async\" src=\"https://securepuba\n",
      "Titles: ['PILNE dwupokojowe mieszkanie (balkon, piwnica) os. Dywizjonu 303, 19C Krak…', 'Mieszkanie z widokiem na góry', 'Grzegorzki mieszkanie na sprzedaż 30 m', 'ul.Felińskiego, piękne 3 pokoje, garaż', 'Żabiniec - 2 pokoje, 2 balkony, garaż, komórka', 'Bronowice: 3 pokoje +3 balkony, miejsce parkingowe', '3-pokoje osobne - Ugorek, pet friendly', '2-pokojowe od właściciela, Ruczaj (z dodatkowym wydzielonym miejscem do pr…', 'Mieszkanie Kraków Piastów 47.38m2 2 pokoje', 'Sprzedam mieszkanie Kraków ulica Wawelska 8', 'Bezpośrednio wynajmę 2-pokojowe ul.Batorego po remoncie.', 'Mieszkanie do sprzedania 41.53m2 2-pok Kraków os. Teatralne', 'Mieszkanie w zielonej okolicy Krakowa w domu jednorodzinym i 2 m.postojowe', 'Mieszkanie Kraków 95.24m 2 pokoje', 'Sprzedaż mieszkania 65.57m2 3 pokoje Kraków Tadeusza Śliwiaka', 'Ogłoszenie mieszkanie Kraków Tadeusza Śliwiaka 81.78m2 4 pok', 'Mieszkanie Kraków Tadeusza Śliwiaka 81.78m2 4 pokoje', 'Mieszkanie Kraków Imbramowska 65.62m2 3 pokojowe', 'Oferta sprzedaży mieszkania Kraków Imbramowska 47.39 metrów 2 pokoje', 'Do sprzedaży mieszkanie 46.21m2 2 pok Kraków Bukowa', 'Mieszkanie 48.39m2 2-pok Kraków Imbramowska', 'Mieszkanie Kraków 65.62m2 3 pokojowe', 'Mieszkanie Kraków 211.89m2 5 pokoi', 'Mieszkanie 49.52m2 2-pokojowe Kraków', 'Ogłoszenie mieszkanie 49.18m2 2 pokoje Kraków', 'Mieszkanie do sprzedania Kraków os. Kościuszkowskie 49.4m2 3 pok', 'Oferta sprzedaży mieszkania 66.62 metry 3-pokojowe Kraków Imbramowska', 'Ogłoszenie mieszkanie 51.67m2 2 pok Kraków', 'BEZPOŚREDNIO Mieszkanie ul. Kielecka /Rondo Mogilskie', 'Mieszkanie Kraków os. Kazimierzowskie 24.14m2 1 pokój', 'Mieszkanie 48.39m2 2 pok Kraków Imbramowska', 'Mieszkanie 66.62m2 3 pokoje Kraków', 'Mieszkanie Kraków 46.03m 3 pokoje', 'Mieszkanie do sprzedania Kraków 47m2 2 pokojowe', 'Mieszkanie 45.5m2 3 pokoje Kraków Zielińska', 'Mieszkanie Kraków Imbramowska 65.62m2 3 pokoje', 'Mieszkanie 61.15m2 3 pokoje Kraków Sebastiana Klonowica', 'Mieszkanie Kraków 96m2 4-pokojowe', 'Mieszkanie na sprzedaż 71.15m2 3-pok Kraków Józefa Łepkowskiego', 'Mieszkanie Kraków Ignacego Grabczaka 49.15m2 3 pokojowe', 'DOSTĘPNE JUŻ\\xa04-pokojowe mieszkanie w nowo wybudowanym budynku', 'Marzenie o idealnym wnętrzu- Penthouse Bagry Park', 'Cudowne z ogródkiem - mieszkanie 3-pokojowe na Grzegórzkach w Krakowie', 'Piękny 4 pokojowy apartament na BRONOWICACH', 'Mieszkanie 32.02m2 2-pokojowe Lusina Krakowska', 'NOWY Apartament Premium | 3 Pokoje | Balkon | Bez PCC | Bez Prowizji', 'Ekskluzywny apartament pod klucz|3 pokoje | Bagry| BEZ PCC I PROWIZJI', '3 pokojowe mieszkanie w NOWYM bloku', 'Piękne 2 pokojowe mieszkanie w Centrum', 'Nowe 2 pokoje z ogródkiem | Zakątek Dąbie | miejsce parkingowe w prezencie', '2 lub 3 pokoje,62m2,balkon,widok na Wawel', 'Pokój w domu wolnostojącym cena z mediami blisko UR i UEK i Lasu Wolskiego', 'Pokój dla studentów', 'Mieszkanie Kraków Karmelicka 57m2', 'Ogłoszenie mieszkanie 46m2 2 pokoje Kraków Bukowa', 'Mieszkanie 47.83m2 2 pokoje Kraków', 'WYNAJMĘ od zaraz mieszkanie 3 pokojowe-Krowodrza - Prądnik Biały-49 m2', 'Mieszkanie 103.89m2 3 pokoje Kraków Smocza', 'Do sprzedaży mieszkanie 53.77m Kraków', 'Mieszkanie 65.62 metry 2 pokojowe Kraków Imbramowska']\n",
      "60\n",
      "Prices: ['590 000 zł', '265 000 zł', '549 000 zł', '770 000 zł', '750 000 zł', '985 000 zł', '3 400 zł', '2 400 zł', '745 000 zł', '1 199 000 zł', '3 800 zł', '498 000 zł', '2 275 000 zł', '3 500 zł', '746 586 zł', '924 679 zł', '932 862 zł', '898 994 zł', '710 850 zł', '572 912 zł', '706 494 zł', '885 870 zł', '7 416 150 zł', '619 000 zł', '938 000 zł', '629 000 zł', '899 370 zł', '599 000 zł', '1 995 zł', '315 000 zł', '706 494 zł', '879 384 zł', '3 800 zł', '705 000 zł', '2 600 zł', '885 870 zł', '979 000 zł', '1 249 000 zł', '1 131 285 zł', '926 000 zł', '850 000 zł', '1 568 600 zł', '4 600 zł', '2 199 000 zł', '570 000 zł', '987 400 zł', '1 014 900 zł', '1 099 000 zł', '759 900 zł', '899 900 zł', '1 490 000 zł', '1 800 zł', '850 zł', '4 900 zł', '570 524 zł', '810 000 zł', '3 300 zł', '6 300 zł', '824 000 zł', '677 460 zł']\n",
      "60\n"
     ]
    }
   ],
   "source": [
    "import requests\n",
    "from bs4 import BeautifulSoup\n",
    "import pandas as pd\n",
    "import os\n",
    "\n",
    "url = \"https://sprzedajemy.pl/krakow/nieruchomosci/mieszkania?offset=0&items_per_page=60\"\n",
    "\n",
    "headers = {\n",
    "    \"User-Agent\": \"Mozilla/5.0 (Windows NT 10.0; Win64; x64) AppleWebKit/537.36 (KHTML, like Gecko) Chrome/58.0.3029.110 Safari/537.36\",\n",
    "    \"Accept\": \"text/html,application/xhtml+xml,application/xml;q=0.9,image/webp,image/apng,*/*;q=0.8\",\n",
    "    \"Accept-Encoding\": \"gzip, deflate, br\",\n",
    "    \"Accept-Language\": \"en-US,en;q=0.9,pl;q=0.8\",\n",
    "    \"Connection\": \"keep-alive\"\n",
    "}\n",
    "\n",
    "response = requests.get(url, headers=headers)\n",
    "response = requests.get(url, headers=headers)\n",
    "\n",
    "# Debugowanie odpowiedzi\n",
    "print(f\"Status Code: {response.status_code}\")\n",
    "print(f\"Response Headers: {response.headers}\")\n",
    "print(f\"Response Text (first 2000 chars): {response.text[:2000]}\")\n",
    "\n",
    "# Jeśli odpowiedź jest poprawna, wykonaj webscraping\n",
    "if response.status_code == 200:\n",
    "    soup = BeautifulSoup(response.content, \"html.parser\")\n",
    "\n",
    "    # Pobieranie ofert mieszkań\n",
    "    titles = [h2.a.text.strip() for h2 in soup.find_all(\"h2\", class_=\"title\") if h2.a]\n",
    "    prices = [p.text.replace(\"\\xa0\", \" \").strip() for p in soup.find_all(\"span\", class_=\"price\")]\n",
    "\n",
    "    print(\"Titles:\", titles)\n",
    "    print(len(titles))\n",
    "    print(\"Prices:\", prices)\n",
    "    print(len(prices))\n",
    "\n",
    "    df = pd.DataFrame({\"Title\": titles, \"Price\": prices})\n",
    "\n",
    "    # Dopisanie do pliku CSV\n",
    "    df.to_csv(\"scraped_data.csv\", mode='a', header=not os.path.exists('scraped_data.csv'), index=False)\n",
    "else:\n",
    "    print(\"Failed to retrieve data.\")\n"
   ]
  }
 ],
 "metadata": {
  "colab": {
   "provenance": []
  },
  "kernelspec": {
   "display_name": "Python 3",
   "name": "python3"
  },
  "language_info": {
   "codemirror_mode": {
    "name": "ipython",
    "version": 3
   },
   "file_extension": ".py",
   "mimetype": "text/x-python",
   "name": "python",
   "nbconvert_exporter": "python",
   "pygments_lexer": "ipython3",
   "version": "3.9.23"
  },
  "papermill": {
   "default_parameters": {},
   "duration": 3.323999,
   "end_time": "2025-10-30T04:59:35.136639",
   "environment_variables": {},
   "exception": null,
   "input_path": "nb.ipynb",
   "output_path": "nbo.ipynb",
   "parameters": {},
   "start_time": "2025-10-30T04:59:31.812640",
   "version": "2.6.0"
  }
 },
 "nbformat": 4,
 "nbformat_minor": 5
}