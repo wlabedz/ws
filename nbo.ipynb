{
 "cells": [
  {
   "cell_type": "code",
   "execution_count": 1,
   "id": "236053c2",
   "metadata": {
    "colab": {
     "base_uri": "https://localhost:8080/"
    },
    "execution": {
     "iopub.execute_input": "2025-08-25T22:51:09.967426Z",
     "iopub.status.busy": "2025-08-25T22:51:09.967224Z",
     "iopub.status.idle": "2025-08-25T22:51:12.462707Z",
     "shell.execute_reply": "2025-08-25T22:51:12.461968Z"
    },
    "id": "5pYh4c8j1w43",
    "outputId": "8a0dca73-64e5-4f0d-c493-2c5b38392363",
    "papermill": {
     "duration": 2.498837,
     "end_time": "2025-08-25T22:51:12.463957",
     "exception": false,
     "start_time": "2025-08-25T22:51:09.965120",
     "status": "completed"
    },
    "tags": []
   },
   "outputs": [
    {
     "name": "stdout",
     "output_type": "stream",
     "text": [
      "Status Code: 200\n",
      "Response Headers: {'Server': 'nginx', 'Date': 'Mon, 25 Aug 2025 22:51:12 GMT', 'Content-Type': 'text/html; charset=UTF-8', 'Transfer-Encoding': 'chunked', 'Vary': 'Accept-Encoding, User-Agent', 'Set-Cookie': 'FRSPSID=vfotnadf6ii7fvsnaq13o6tbr4; path=/; domain=.sprzedajemy.pl; secure; HttpOnly, _items_per_page__offer_list=60; expires=Wed, 24-Sep-2025 22:51:11 GMT; Max-Age=2592000; path=/; domain=.sprzedajemy.pl; secure; httponly, observed_id=22679409768ace8e0029e36141736422744289825; expires=Sat, 25-Aug-2125 23:51:12 GMT; Max-Age=3155677200; path=/; domain=.sprzedajemy.pl; secure; httponly', 'Expires': 'Thu, 19 Nov 1981 08:52:00 GMT', 'Cache-Control': 'no-store, no-cache, must-revalidate, post-check=0, pre-check=0', 'Pragma': 'no-cache', 'Content-Encoding': 'gzip'}\n",
      "Response Text (first 2000 chars): <!DOCTYPE html><html xmlns=\"http://www.w3.org/1999/xhtml\" xml:lang=\"pl\" lang=\"pl\" class=\"no-js\" >\n",
      "<head>\n",
      "\t\t\t<!-- Google Tag Manager -->\n",
      "\t\t\t<script>(function(w,d,s,l,i){w[l]=w[l]||[];w[l].push({'gtm.start':\n",
      "\t\t\t\t\t\tnew Date().getTime(),event:'gtm.js'});var f=d.getElementsByTagName(s)[0],\n",
      "\t\t\t\t\tj=d.createElement(s),dl=l!='dataLayer'?'&l='+l:'';j.async=true;j.src=\n",
      "\t\t\t\t\t'https://www.googletagmanager.com/gtm.js?id='+i+dl\n",
      "\t\t\t\t\t\t\t\t\t    ;f.parentNode.insertBefore(j,f);\n",
      "\t\t\t\t    })(window,document,'script','dataLayer','GTM-P3S238');</script>\n",
      "\t\t\t<!-- End Google Tag Manager -->\n",
      "\t<title>Mieszkania Kraków na sprzedaż, wynajem - Sprzedajemy.pl</title><meta http-equiv=\"Content-Type\" content=\"text/html; charset=UTF-8\" >\n",
      "<meta http-equiv=\"X-UA-Compatible\" content=\"IE=edge\" >\n",
      "<meta name=\"description\" content=\"Ogłoszenia o tematyce:  w kategorii Mieszkania - Kupuj i sprzedawaj rzeczy używane i nowe w kategorii Mieszkania na Sprzedajemy.pl\" >\n",
      "<meta property=\"og:title\" content=\"Mieszkania Kraków na sprzedaż, wynajem - Sprzedajemy.pl\" >\n",
      "<meta property=\"og:type\" content=\"website\" >\n",
      "<meta property=\"og:image\" content=\"https://thumbs.img-sprzedajemy.pl/facebook/sprzedajemy.pl.png\" >\n",
      "<meta property=\"og:image:width\" content=\"200\" >\n",
      "<meta property=\"og:image:height\" content=\"200\" >\n",
      "<meta property=\"og:url\" content=\"https://sprzedajemy.pl/krakow/nieruchomosci/mieszkania\" >\n",
      "<meta property=\"og:site_name\" content=\"Sprzedajemy.pl\" >\n",
      "<meta property=\"fb:app_id\" content=\"173258269367442\" >\n",
      "<meta property=\"og:description\" content=\"Ogłoszenia o tematyce:  w kategorii Mieszkania - Kupuj i sprzedawaj rzeczy używane i nowe w kategorii Mieszkania na Sprzedajemy.pl\" >\n",
      "<meta name=\"robots\" content=\"noindex, follow\" >\t\t<script  async=\"async\" src=\"https://static.criteo.net/js/ld/publishertag.js\"></script>\n",
      "        <script  async=\"async\" src=\"https://ap.lijit.com/www/sovrn_beacon_standalone/sovrn_standalone_beacon.js?iid=13417409&amp;uid=sprzedajemy\" id=\"sBeacon\"></script>\n",
      "\t\t<script  async=\"async\" src=\"https://securepuba\n",
      "Titles: ['2-pok. ładne mieszkanie wynajmę od 01.09.2025 – Łagiewniki T-pętla', 'Kraków, Stare Miasto sprzedaż/zamiana', '3 niezależne lokale z KW– inwestycja z potencjałem', '2-pokojowe mieszkanie po remoncie | PROMOCJA | ul Bronowicka', 'Dla studenta lub na wynajem krótkoterminowy', 'Oferta wynajmu mieszkania Kraków pl. Wolnica 12m2 5 pokoi', 'Kawalerka do wynajęcia -Kraków Grzegórzki', 'Mieszkanie 3 pokojowe /64,3 m2 / w  super lokalizacji - od właściciela', 'Sprzedam przytulne mieszkanie w Krakowie, ul. Dobrego Pasterza', 'Sprzedaż mieszkania Kraków 54.43m2 2 pokojowe', 'Mieszkanie Kraków 49.32m2 2 pokoje', 'Kawalerka dla studenta/studentki, Kraków - Prokocim', 'Do wynajęcia mieszkanie 55m2 3-pok Kraków', 'Wynajem mieszkania 49m2 2-pok Kraków', 'Mieszkanie sprzedam 54.98m2 3 pokoje Kraków Republiki Korczakowskiej', 'Mieszkanie 50m2 2-pok Kraków prof. Michała Bobrzyńskiego', 'Mieszkanie 54.86m 3 pokoje Kraków os. Oświecenia', 'Mieszkanie do sprzedania 38.93m2 1 pokojowe Kraków', 'Mieszkanie 46m2 2 pokojowe Kraków', 'Ogłoszenie mieszkanie 46.02m2 2 pokojowe Kraków os. Avia', 'Żabiniec - dwupokojowe z miejscem parkingowym', 'Krowodrza Górka - 2 pokoje z wyjsciem do ogródka', 'Mieszkanie Kraków Krakowska 77.24m2 3 pokoje', 'Sprzedam mieszkanie Kraków Krowoderskich Zuchów 64m2 4 pokojowe', 'Mieszkanie do sprzedania Kraków Osiedle na Wzgórzach 34m2 1-pokojowe', 'Oferta wynajmu mieszkania Kraków 51.8m2 3 pok', 'Mieszkanie 91.3m2 4 pokojowe Kraków', 'Mieszkanie Kraków 66m2 3 pokoje', 'Mieszkanie Kraków Powstańców 46m2 3 pokoje', 'Mieszkanie Kraków Radzikowskiego 73m2 3 pokojowe', 'Mieszkanie sprzedam 38m2 2-pok Kraków', 'Mieszkanie 51.35m2 2 pokojowe Kraków', 'Do sprzedaży mieszkanie Kraków 47.2m2 2-pokojowe', '2 poziomowe, ogródek, garaż przy Galerii Bronowice', '3 pokoje I 47 m2 I Os. Złotego Wieku', 'Mieszkanie Kraków 42.88m2 2 pok', 'Sprzedamy wyjątkowe mieszkanie na urokliwym osiedlu Kliny. :)', 'Mieszkanie Kraków 65.5m2 3-pokojowe', '✩ 4 pokoje ✩ PO REMONCIE ✩ wyposażone ✩', 'Ogłoszenie mieszkanie 36.34m2 3 pokojowe Kraków', 'Mieszkanie Kraków 36.34m2 2-pokojowe', 'Ogłoszenie mieszkanie 36.34m 2 pokoje Kraków Romanowicza', '3 pokoje, 2 balkony | 62m² i widok z 11 piętra', 'Kaucja 1000 zł! 2-pokojowe mieszkanie 53 m², Prądnik Czerwony, Ugorek', 'Mieszkanie 25.1m2 1 pokój Kraków Romanowicza', 'Mieszkanie Kraków 37.02m2 2 pok', '✩SŁONECZNA KAWALERKA✩winda✩blok po renowacji✩', 'Wzgórza Krzesławickie 5 pokoi, garaż', 'Os. Centrum A - mieszkanie 2 pokoje, jasna kuchnia', 'os Kazimierzowskie - mieszkanie 2 pokojowe', 'Kurdwanów - 52m2, dwupokojowe z jasną kuchnią', 'Wprowadź się od zaraz! Wyposażone mieszkanie 39m² na Grzegórzkach', 'Mieszkanie na sprzedaż/zamiana 39m2', 'Sprzedamy wyjątkowe mieszkanie na urokliwym osiedlu Kliny. :)', 'Pokój jednoosobowy ul. Słomiana / 1250 zł', 'Do wynajęcia mieszkanie jednopokojowe 36m', 'Wynajmę mieszkanie w Krakowie Bronowicach', '3 pokojowe Rakowcka 22C', 'Sprzedamy wyjątkowe mieszkanie na urokliwym osiedlu Kliny. :)', '2 pokojowe Konfederacka / Rondo Grunwaldzkie, ICE']\n",
      "60\n",
      "Prices: ['2 500 zł', '2 083 000 zł', '265 000 zł', '710 000 zł', '545 000 zł', '1 700 zł', '2 400 zł', '997 000 zł', '600 000 zł', '675 000 zł', '2 250 zł', '2 275 zł', '5 500 zł', '2 500 zł', '780 000 zł', '749 000 zł', '729 000 zł', '709 000 zł', '2 700 zł', '799 000 zł', '2 600 zł', '650 000 zł', '1 250 000 zł', '770 000 zł', '430 000 zł', '2 200 zł', '1 450 000 zł', '769 000 zł', '3 200 zł', '699 000 zł', '469 000 zł', '639 000 zł', '1 100 000 zł', '5 900 zł', '590 000 zł', '1 000 176 zł', '689 000 zł', '5 400 zł', '728 000 zł', '2 990 zł', '2 990 zł', '2 990 zł', '895 000 zł', '2 150 zł', '2 290 zł', '2 400 zł', '459 000 zł', '1 199 000 zł', '695 000 zł', '515 000 zł', '599 000 zł', '749 000 zł', '526 000 zł', '689 000 zł', '1 250 zł', '2 000 zł', '3 000 zł', '4 300 zł', '689 000 zł', '3 000 zł']\n",
      "60\n"
     ]
    }
   ],
   "source": [
    "import requests\n",
    "from bs4 import BeautifulSoup\n",
    "import pandas as pd\n",
    "import os\n",
    "\n",
    "url = \"https://sprzedajemy.pl/krakow/nieruchomosci/mieszkania?offset=0&items_per_page=60\"\n",
    "\n",
    "headers = {\n",
    "    \"User-Agent\": \"Mozilla/5.0 (Windows NT 10.0; Win64; x64) AppleWebKit/537.36 (KHTML, like Gecko) Chrome/58.0.3029.110 Safari/537.36\",\n",
    "    \"Accept\": \"text/html,application/xhtml+xml,application/xml;q=0.9,image/webp,image/apng,*/*;q=0.8\",\n",
    "    \"Accept-Encoding\": \"gzip, deflate, br\",\n",
    "    \"Accept-Language\": \"en-US,en;q=0.9,pl;q=0.8\",\n",
    "    \"Connection\": \"keep-alive\"\n",
    "}\n",
    "\n",
    "response = requests.get(url, headers=headers)\n",
    "response = requests.get(url, headers=headers)\n",
    "\n",
    "# Debugowanie odpowiedzi\n",
    "print(f\"Status Code: {response.status_code}\")\n",
    "print(f\"Response Headers: {response.headers}\")\n",
    "print(f\"Response Text (first 2000 chars): {response.text[:2000]}\")\n",
    "\n",
    "# Jeśli odpowiedź jest poprawna, wykonaj webscraping\n",
    "if response.status_code == 200:\n",
    "    soup = BeautifulSoup(response.content, \"html.parser\")\n",
    "\n",
    "    # Pobieranie ofert mieszkań\n",
    "    titles = [h2.a.text.strip() for h2 in soup.find_all(\"h2\", class_=\"title\") if h2.a]\n",
    "    prices = [p.text.replace(\"\\xa0\", \" \").strip() for p in soup.find_all(\"span\", class_=\"price\")]\n",
    "\n",
    "    print(\"Titles:\", titles)\n",
    "    print(len(titles))\n",
    "    print(\"Prices:\", prices)\n",
    "    print(len(prices))\n",
    "\n",
    "    df = pd.DataFrame({\"Title\": titles, \"Price\": prices})\n",
    "\n",
    "    # Dopisanie do pliku CSV\n",
    "    df.to_csv(\"scraped_data.csv\", mode='a', header=not os.path.exists('scraped_data.csv'), index=False)\n",
    "else:\n",
    "    print(\"Failed to retrieve data.\")\n"
   ]
  }
 ],
 "metadata": {
  "colab": {
   "provenance": []
  },
  "kernelspec": {
   "display_name": "Python 3",
   "name": "python3"
  },
  "language_info": {
   "codemirror_mode": {
    "name": "ipython",
    "version": 3
   },
   "file_extension": ".py",
   "mimetype": "text/x-python",
   "name": "python",
   "nbconvert_exporter": "python",
   "pygments_lexer": "ipython3",
   "version": "3.9.23"
  },
  "papermill": {
   "default_parameters": {},
   "duration": 3.616152,
   "end_time": "2025-08-25T22:51:12.680638",
   "environment_variables": {},
   "exception": null,
   "input_path": "nb.ipynb",
   "output_path": "nbo.ipynb",
   "parameters": {},
   "start_time": "2025-08-25T22:51:09.064486",
   "version": "2.6.0"
  }
 },
 "nbformat": 4,
 "nbformat_minor": 5
}