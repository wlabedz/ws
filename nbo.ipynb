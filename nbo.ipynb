{
 "cells": [
  {
   "cell_type": "code",
   "execution_count": 1,
   "id": "3558df2d",
   "metadata": {
    "colab": {
     "base_uri": "https://localhost:8080/"
    },
    "execution": {
     "iopub.execute_input": "2025-10-31T17:48:04.544350Z",
     "iopub.status.busy": "2025-10-31T17:48:04.544075Z",
     "iopub.status.idle": "2025-10-31T17:48:06.782154Z",
     "shell.execute_reply": "2025-10-31T17:48:06.781441Z"
    },
    "id": "5pYh4c8j1w43",
    "outputId": "8a0dca73-64e5-4f0d-c493-2c5b38392363",
    "papermill": {
     "duration": 2.241971,
     "end_time": "2025-10-31T17:48:06.783366",
     "exception": false,
     "start_time": "2025-10-31T17:48:04.541395",
     "status": "completed"
    },
    "tags": []
   },
   "outputs": [
    {
     "name": "stdout",
     "output_type": "stream",
     "text": [
      "Status Code: 200\n",
      "Response Headers: {'Server': 'nginx', 'Date': 'Fri, 31 Oct 2025 17:48:06 GMT', 'Content-Type': 'text/html; charset=UTF-8', 'Transfer-Encoding': 'chunked', 'Vary': 'Accept-Encoding, User-Agent', 'Set-Cookie': 'FRSPSID=34ikejak9orfk7fn3bn4jafmg1; path=/; domain=.sprzedajemy.pl; secure; HttpOnly, _items_per_page__offer_list=60; expires=Sun, 30-Nov-2025 17:48:06 GMT; Max-Age=2592000; path=/; domain=.sprzedajemy.pl; secure; httponly, observed_id=10710591576904f6565780e337265996540011648; expires=Wed, 31-Oct-2125 17:48:06 GMT; Max-Age=3155673600; path=/; domain=.sprzedajemy.pl; secure; httponly', 'Expires': 'Thu, 19 Nov 1981 08:52:00 GMT', 'Cache-Control': 'no-store, no-cache, must-revalidate, post-check=0, pre-check=0', 'Pragma': 'no-cache', 'Content-Encoding': 'gzip'}\n",
      "Response Text (first 2000 chars): <!DOCTYPE html><html xmlns=\"http://www.w3.org/1999/xhtml\" xml:lang=\"pl\" lang=\"pl\" class=\"no-js\" >\n",
      "<head>\n",
      "\t\t\t<!-- Google Tag Manager -->\n",
      "\t\t\t<script>(function(w,d,s,l,i){w[l]=w[l]||[];w[l].push({'gtm.start':\n",
      "\t\t\t\t\t\tnew Date().getTime(),event:'gtm.js'});var f=d.getElementsByTagName(s)[0],\n",
      "\t\t\t\t\tj=d.createElement(s),dl=l!='dataLayer'?'&l='+l:'';j.async=true;j.src=\n",
      "\t\t\t\t\t'https://www.googletagmanager.com/gtm.js?id='+i+dl\n",
      "\t\t\t\t\t\t\t\t\t    ;f.parentNode.insertBefore(j,f);\n",
      "\t\t\t\t    })(window,document,'script','dataLayer','GTM-P3S238');</script>\n",
      "\t\t\t<!-- End Google Tag Manager -->\n",
      "\t<title>Mieszkania Kraków na sprzedaż, wynajem - Sprzedajemy.pl</title><meta http-equiv=\"Content-Type\" content=\"text/html; charset=UTF-8\" >\n",
      "<meta http-equiv=\"X-UA-Compatible\" content=\"IE=edge\" >\n",
      "<meta name=\"description\" content=\"Ogłoszenia o tematyce:  w kategorii Mieszkania - Kupuj i sprzedawaj rzeczy używane i nowe w kategorii Mieszkania na Sprzedajemy.pl\" >\n",
      "<meta property=\"og:title\" content=\"Mieszkania Kraków na sprzedaż, wynajem - Sprzedajemy.pl\" >\n",
      "<meta property=\"og:type\" content=\"website\" >\n",
      "<meta property=\"og:image\" content=\"https://thumbs.img-sprzedajemy.pl/facebook/sprzedajemy.pl.png\" >\n",
      "<meta property=\"og:image:width\" content=\"200\" >\n",
      "<meta property=\"og:image:height\" content=\"200\" >\n",
      "<meta property=\"og:url\" content=\"https://sprzedajemy.pl/krakow/nieruchomosci/mieszkania\" >\n",
      "<meta property=\"og:site_name\" content=\"Sprzedajemy.pl\" >\n",
      "<meta property=\"fb:app_id\" content=\"173258269367442\" >\n",
      "<meta property=\"og:description\" content=\"Ogłoszenia o tematyce:  w kategorii Mieszkania - Kupuj i sprzedawaj rzeczy używane i nowe w kategorii Mieszkania na Sprzedajemy.pl\" >\n",
      "<meta name=\"robots\" content=\"noindex, follow\" >\t\t<script  async=\"async\" src=\"https://static.criteo.net/js/ld/publishertag.js\"></script>\n",
      "        <script  async=\"async\" src=\"https://ap.lijit.com/www/sovrn_beacon_standalone/sovrn_standalone_beacon.js?iid=13417409&amp;uid=sprzedajemy\" id=\"sBeacon\"></script>\n",
      "\t\t<script  async=\"async\" src=\"https://securepuba\n",
      "Titles: ['PILNE dwupokojowe mieszkanie (balkon, piwnica) os. Dywizjonu 303, 19C Krak…', 'Mieszkanie z widokiem na góry', 'Grzegorzki mieszkanie na sprzedaż 30 m', 'Mieszkanie Kraków 56.7m2 2-pok', 'Mieszkanie Kraków Bukowa 47.73m2 2 pok', 'Mieszkanie Kraków Wadowicka 66.11m2 3 pokoje', 'Oferta sprzedaży mieszkania Kraków Wadowicka 46.32m2 2 pokoje', 'Mieszkanie 63.99m2 4 pok Kraków Pękowicka', 'Mieszkanie Kraków 44.28m2 2 pokoje', 'Mieszkanie Kraków 71.47m2 3 pok', 'Sprzedaż mieszkania 44.29 metrów 2 pok Kraków', 'Mieszkanie do sprzedania 65.46m2 3-pok Kraków Wadowicka', 'Mieszkanie 41.13m2 2 pokojowe Kraków Pękowicka', 'Sprzedam mieszkanie 57.07m2 3 pok Kraków', 'Oferta sprzedaży mieszkania Kraków Piasta Kołodzieja 50.23m2 3-pok', 'Mieszkanie 73.62m2 Kraków', 'Mieszkanie Kraków 29 listopada - okolice 35.44m2 2 pokoje', 'Mieszkanie 67.9 metrów 4 pokojowe Kraków', 'Mieszkanie Kraków 64.4 metry 3 pokoje', 'Ogłoszenie mieszkanie 49.63m2 3 pokojowe Kraków Piasta Kołodzieja', 'Mieszkanie Kraków 64.99m2 4-pokojowe', 'Mieszkanie sprzedam 43.08m2 2-pokojowe Kraków', 'Mieszkanie 146.73m2 4-pok Kraków', 'Mieszkanie Kraków 64.74m2 4 pokoje', 'Oferta sprzedaży mieszkania Kraków Jana Kantego Federowicza 48.6m 3 pokoje', 'Mieszkanie Kraków Na Błonie 57.09m2 3 pokoje', 'Oferta sprzedaży mieszkania Kraków Pękowicka 40.56m2 2 pokoje', 'Mieszkanie 54.36m2 3 pokoje Kraków', 'Mieszkanie sprzedam 45.84m2 2 pokojowe Kraków', 'Sprzedam mieszkanie 64.42m2 3-pokojowe Kraków', 'Mieszkanie Kraków Pędzichów 82m2 3 pokojowe', 'Mieszkanie Kraków 65.46m2 3-pokojowe', 'Sprzedam mieszkanie 38.07m2 2 pokoje Kraków Na Błonie', 'Mieszkanie sprzedam Kraków Na Błonie 58.53m2 3 pokoje', 'Mieszkanie Kraków Piasta Kołodzieja 56.19m 3 pokoje', 'Mieszkanie 72.4m2 3-pok Kraków', 'Mieszkanie 32.79m2 1 pokojowe Kraków', 'Mieszkanie 65.13m2 4-pokojowe Kraków Pękowicka', 'Mieszkanie Kraków Wadowicka 68.88m2 4 pokoje', 'Oferta sprzedaży mieszkania Kraków Bukowa 46.21 metrów 2-pok', 'Mieszkanie 46.66m2 2 pokoje Kraków Babińskiego', 'Mieszkanie Kraków 68.7m2 3-pok', 'Oferta sprzedaży mieszkania Kraków Na Błonie 38.1m2', 'Mieszkanie 40.17m2 Kraków Jerzego Szablowskiego', 'Mieszkanie 51.72m2 2 pok Kraków', 'Mieszkanie do sprzedania 61.68m2 Kraków Pękowicka', '12 600zł/m2 w nowym budownictwie - bez prowizji!', 'Mieszkanie Kraków 47.43m2 2-pok', 'Do sprzedaży mieszkanie Kraków Kantrowicka 51.41m2 3 pokoje', 'Oferta sprzedaży mieszkania 45.84m2 2-pokojowe Kraków Wadowicka', 'Mieszkanie do sprzedania Kraków Pękowicka 63.11m2 4 pok', 'Oferta sprzedaży mieszkania 62.46m2 3 pokoje Kraków Wadowicka', 'Mieszkanie 44m2 2 pokoje Kraków', 'Mieszkanie 37.68m2 2 pokoje Kraków 29 listopada - okolice', 'Mieszkanie Kraków Pękowicka 50.71m2 3 pok', 'Ogłoszenie mieszkanie Kraków 39.05m2 2 pokojowe', 'Mieszkanie Kraków Wadowicka 62.46m2 5 pokoi', 'Mieszkanie Kraków Kantrowicka 59.31m2 4 pok', 'Mieszkanie 83.1 metrów 4 pokoje Kraków Wadowicka', 'Mieszkanie sprzedam 74.74m2 3 pokoje Kraków']\n",
      "60\n",
      "Prices: ['590 000 zł', '265 000 zł', '549 000 zł', '1 159 000 zł', '577 533 zł', '1 077 593 zł', '856 920 zł', '902 259 zł', '650 916 zł', '1 177 182 zł', '664 350 zł', '1 112 820 zł', '630 317 zł', '1 045 636 zł', '733 358 zł', '1 148 472 zł', '1 024 441 zł', '952 297 zł', '1 088 360 zł', '709 709 zł', '919 608 zł', '740 976 zł', '2 100 000 zł', '917 689 zł', '890 000 zł', '1 046 174 zł', '618 540 zł', '967 608 zł', '820 536 zł', '1 114 466 zł', '1 190 000 zł', '1 184 826 zł', '729 007 zł', '1 084 619 zł', '741 708 zł', '1 295 960 zł', '619 731 zł', '918 333 zł', '1 046 976 zł', '554 520 zł', '881 874 zł', '1 190 000 zł', '762 533 zł', '590 000 zł', '1 060 000 zł', '877 398 zł', '630 000 zł', '929 628 zł', '771 150 zł', '838 872 zł', '889 851 zł', '1 055 574 zł', '721 600 zł', '654 426 zł', '740 366 zł', '623 823 zł', '1 093 050 zł', '704 306 zł', '1 279 740 zł', '1 225 736 zł']\n",
      "60\n"
     ]
    }
   ],
   "source": [
    "import requests\n",
    "from bs4 import BeautifulSoup\n",
    "import pandas as pd\n",
    "import os\n",
    "\n",
    "url = \"https://sprzedajemy.pl/krakow/nieruchomosci/mieszkania?offset=0&items_per_page=60\"\n",
    "\n",
    "headers = {\n",
    "    \"User-Agent\": \"Mozilla/5.0 (Windows NT 10.0; Win64; x64) AppleWebKit/537.36 (KHTML, like Gecko) Chrome/58.0.3029.110 Safari/537.36\",\n",
    "    \"Accept\": \"text/html,application/xhtml+xml,application/xml;q=0.9,image/webp,image/apng,*/*;q=0.8\",\n",
    "    \"Accept-Encoding\": \"gzip, deflate, br\",\n",
    "    \"Accept-Language\": \"en-US,en;q=0.9,pl;q=0.8\",\n",
    "    \"Connection\": \"keep-alive\"\n",
    "}\n",
    "\n",
    "response = requests.get(url, headers=headers)\n",
    "response = requests.get(url, headers=headers)\n",
    "\n",
    "# Debugowanie odpowiedzi\n",
    "print(f\"Status Code: {response.status_code}\")\n",
    "print(f\"Response Headers: {response.headers}\")\n",
    "print(f\"Response Text (first 2000 chars): {response.text[:2000]}\")\n",
    "\n",
    "# Jeśli odpowiedź jest poprawna, wykonaj webscraping\n",
    "if response.status_code == 200:\n",
    "    soup = BeautifulSoup(response.content, \"html.parser\")\n",
    "\n",
    "    # Pobieranie ofert mieszkań\n",
    "    titles = [h2.a.text.strip() for h2 in soup.find_all(\"h2\", class_=\"title\") if h2.a]\n",
    "    prices = [p.text.replace(\"\\xa0\", \" \").strip() for p in soup.find_all(\"span\", class_=\"price\")]\n",
    "\n",
    "    print(\"Titles:\", titles)\n",
    "    print(len(titles))\n",
    "    print(\"Prices:\", prices)\n",
    "    print(len(prices))\n",
    "\n",
    "    df = pd.DataFrame({\"Title\": titles, \"Price\": prices})\n",
    "\n",
    "    # Dopisanie do pliku CSV\n",
    "    df.to_csv(\"scraped_data.csv\", mode='a', header=not os.path.exists('scraped_data.csv'), index=False)\n",
    "else:\n",
    "    print(\"Failed to retrieve data.\")\n"
   ]
  }
 ],
 "metadata": {
  "colab": {
   "provenance": []
  },
  "kernelspec": {
   "display_name": "Python 3",
   "name": "python3"
  },
  "language_info": {
   "codemirror_mode": {
    "name": "ipython",
    "version": 3
   },
   "file_extension": ".py",
   "mimetype": "text/x-python",
   "name": "python",
   "nbconvert_exporter": "python",
   "pygments_lexer": "ipython3",
   "version": "3.9.24"
  },
  "papermill": {
   "default_parameters": {},
   "duration": 3.443381,
   "end_time": "2025-10-31T17:48:07.000271",
   "environment_variables": {},
   "exception": null,
   "input_path": "nb.ipynb",
   "output_path": "nbo.ipynb",
   "parameters": {},
   "start_time": "2025-10-31T17:48:03.556890",
   "version": "2.6.0"
  }
 },
 "nbformat": 4,
 "nbformat_minor": 5
}