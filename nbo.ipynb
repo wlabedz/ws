{
 "cells": [
  {
   "cell_type": "code",
   "execution_count": 1,
   "id": "2eefc0dc",
   "metadata": {
    "colab": {
     "base_uri": "https://localhost:8080/"
    },
    "execution": {
     "iopub.execute_input": "2025-08-05T17:57:45.954201Z",
     "iopub.status.busy": "2025-08-05T17:57:45.954003Z",
     "iopub.status.idle": "2025-08-05T17:57:48.007998Z",
     "shell.execute_reply": "2025-08-05T17:57:48.007288Z"
    },
    "id": "5pYh4c8j1w43",
    "outputId": "8a0dca73-64e5-4f0d-c493-2c5b38392363",
    "papermill": {
     "duration": 2.057036,
     "end_time": "2025-08-05T17:57:48.009115",
     "exception": false,
     "start_time": "2025-08-05T17:57:45.952079",
     "status": "completed"
    },
    "tags": []
   },
   "outputs": [
    {
     "name": "stdout",
     "output_type": "stream",
     "text": [
      "Status Code: 200\n",
      "Response Headers: {'Server': 'nginx', 'Date': 'Tue, 05 Aug 2025 17:57:47 GMT', 'Content-Type': 'text/html; charset=UTF-8', 'Transfer-Encoding': 'chunked', 'Vary': 'Accept-Encoding, User-Agent', 'Set-Cookie': 'FRSPSID=320t61k860oo9720rksp6l2il5; path=/; domain=.sprzedajemy.pl; secure; HttpOnly, _items_per_page__offer_list=60; expires=Thu, 04-Sep-2025 17:57:47 GMT; Max-Age=2592000; path=/; domain=.sprzedajemy.pl; secure; httponly, observed_id=16889852286892461b7986059567754874179648; expires=Sun, 05-Aug-2125 18:57:47 GMT; Max-Age=3155677200; path=/; domain=.sprzedajemy.pl; secure; httponly', 'Expires': 'Thu, 19 Nov 1981 08:52:00 GMT', 'Cache-Control': 'no-store, no-cache, must-revalidate, post-check=0, pre-check=0', 'Pragma': 'no-cache', 'Content-Encoding': 'gzip'}\n",
      "Response Text (first 2000 chars): <!DOCTYPE html><html xmlns=\"http://www.w3.org/1999/xhtml\" xml:lang=\"pl\" lang=\"pl\" class=\"no-js\" >\n",
      "<head>\n",
      "\t\t\t<!-- Google Tag Manager -->\n",
      "\t\t\t<script>(function(w,d,s,l,i){w[l]=w[l]||[];w[l].push({'gtm.start':\n",
      "\t\t\t\t\t\tnew Date().getTime(),event:'gtm.js'});var f=d.getElementsByTagName(s)[0],\n",
      "\t\t\t\t\tj=d.createElement(s),dl=l!='dataLayer'?'&l='+l:'';j.async=true;j.src=\n",
      "\t\t\t\t\t'https://www.googletagmanager.com/gtm.js?id='+i+dl\n",
      "\t\t\t\t\t\t\t\t\t    ;f.parentNode.insertBefore(j,f);\n",
      "\t\t\t\t    })(window,document,'script','dataLayer','GTM-P3S238');</script>\n",
      "\t\t\t<!-- End Google Tag Manager -->\n",
      "\t<title>Mieszkania Kraków na sprzedaż, wynajem - Sprzedajemy.pl</title><meta http-equiv=\"Content-Type\" content=\"text/html; charset=UTF-8\" >\n",
      "<meta http-equiv=\"X-UA-Compatible\" content=\"IE=edge\" >\n",
      "<meta name=\"description\" content=\"Ogłoszenia o tematyce:  w kategorii Mieszkania - Kupuj i sprzedawaj rzeczy używane i nowe w kategorii Mieszkania na Sprzedajemy.pl\" >\n",
      "<meta property=\"og:title\" content=\"Mieszkania Kraków na sprzedaż, wynajem - Sprzedajemy.pl\" >\n",
      "<meta property=\"og:type\" content=\"website\" >\n",
      "<meta property=\"og:image\" content=\"https://thumbs.img-sprzedajemy.pl/facebook/sprzedajemy.pl.png\" >\n",
      "<meta property=\"og:image:width\" content=\"200\" >\n",
      "<meta property=\"og:image:height\" content=\"200\" >\n",
      "<meta property=\"og:url\" content=\"https://sprzedajemy.pl/krakow/nieruchomosci/mieszkania\" >\n",
      "<meta property=\"og:site_name\" content=\"Sprzedajemy.pl\" >\n",
      "<meta property=\"fb:app_id\" content=\"173258269367442\" >\n",
      "<meta property=\"og:description\" content=\"Ogłoszenia o tematyce:  w kategorii Mieszkania - Kupuj i sprzedawaj rzeczy używane i nowe w kategorii Mieszkania na Sprzedajemy.pl\" >\n",
      "<meta name=\"robots\" content=\"noindex, follow\" >\t\t<script  async=\"async\" src=\"https://static.criteo.net/js/ld/publishertag.js\"></script>\n",
      "        <script  async=\"async\" src=\"https://ap.lijit.com/www/sovrn_beacon_standalone/sovrn_standalone_beacon.js?iid=13417409&amp;uid=sprzedajemy\" id=\"sBeacon\"></script>\n",
      "\t\t<script  async=\"async\" src=\"https://securepuba\n",
      "Titles: ['Dom - Kraków Tonie - Zielona okolica - 123 m2 | 5 - pok. | Ogród | Taras |…', '3 niezależne lokale z KW– inwestycja z potencjałem', 'Mieszkanie na sprzedaż/zamiana 39m2', 'Mieszkanie Wola Justowska /Bielany 36m2', 'Nowoczesny apartament z panoramicznym widokiem - od właściciela', 'Wyjątkowe mieszkanie z widokiem na klasztor w Tyńcu i panoramę Tatr', 'Stylowy apartament z widokiem na panoramę Krakowa - od właściciela', 'Kraków, Stare Miasto sprzedaż/zamiana', '4pokoje 68m2 balkon KLIMA Śródmieście BEZ PROWIZJI od właściciela', 'Mieszkanie 3-pokojowe. Duży balkon. Dobra komunikacja, Od właściciela', 'Ogłoszenie mieszkanie 64.93 metry 3-pokojowe Kraków Czerwone Maki', 'Ruczaj - 2 pokoje, balkon, jasna kuchnia, garaż', 'Kraków – 2 pokojowy apartament w wysokim standardzie w inwestycji – Piasta…', 'Oferta wynajmu mieszkania Kraków Benedykta 46.5m2 2 pokojowe', 'Mieszkanie 55.7m2 Kraków Łużycka', 'Ogłoszenie mieszkanie Kraków Zawodzie 74m2 3-pok', 'Mieszkanie 2-pok z balkonem-Malwowa, Kurdwanów', '2-pok | 44,38 m² + piwnica – Os. Wandy, Nowa Huta', 'Wybickiego - 2 pokoje, balkon, garaż, komórka', 'Mieszkanie Kraków 109.55m2 3 pokoje', 'Mieszkanie 73m2 2-pok Kraków Krowoderska', 'Duży balkon, mieszkanie 2-pokojowe w Krakowie, ul. Bochenka', 'Mieszkanie 56.19m2 2-pokojowe Kraków', 'ul.Felińskiego, piękne 3 pokoje, garaż', 'Mieszkanie Kraków os. Józefa Strusia 48m2 3 pokoje', 'Mieszkanie Kraków Komandosów 40m2 2-pokojowe', 'Mieszkanie Ruczaj Park 73m', 'Mieszkanie Kraków 39m2 2 pokoje', 'Mieszkanie Kraków Józefa Dwernickiego 45.7m2 2 pokoje', 'Mieszkanie Kraków 64 metry 4 pokojowe', 'Mieszkanie 3 pokojowe /64,3 m2 / w  super lokalizacji - od właściciela', 'Mieszkanie 60 metrów 2 pokoje Kraków Teligi', 'Ogłoszenie mieszkanie Kraków Agatowa 64.43m2 3 pokoje', 'Sprzedaż mieszkania 36.22m2 1 pok Kraków Tuchowska', 'Sprzedaż mieszkania Kraków 64.33 metry 3 pokoje', 'Kaucja 1000 zł! 2-pokojowe mieszkanie 53 m², Prądnik Czerwony, Ugorek', 'Mieszkanie do sprzedania Kraków dr. Jana Piltza 36.89m2', 'Oferta sprzedaży mieszkania 36.05m2 2 pokoje Kraków Bronowicka', 'Mieszkanie 30m2 Kraków Fieldorfa-Nila', 'Oferta sprzedaży mieszkania Kraków płk. Francesco Nullo 54.3m2 2-pokojowe', 'Ogłoszenie mieszkanie Kraków Juliusza Lea 29.02m2 1 pokojowe', 'Mieszkanie 62.12m2 3 pok Kraków', 'Mieszkanie 38.53m2 Kraków os. Bohaterów Września', 'Mieszkanie 35m2 1 pokój Kraków Lubomirskiego', 'Wprowadź się od zaraz! Wyposażone mieszkanie 39m² na Grzegórzkach', 'Oferta wynajmu mieszkania 120m2 4 pokoje Kraków Przedwiośnie', 'Kawalerka 24m2 - widok I Park Krowoderski', 'Mieszkanie 54.3m2 3 pokojowe Kraków os. Strusia', 'Sprzedamy wyjątkowe mieszkanie na urokliwym osiedlu Kliny. :)', '49m2, 3 pokoje, świeżo po remoncie, OD WŁAŚCICIELA', 'Pokój jednoosobowy ul. Słomiana / 1250 zł', 'Wynajmę mieszkanie w Krakowie Bronowicach', '2 pokojowe Konfederacka / Rondo Grunwaldzkie, ICE', 'Sprzedamy wyjątkowe mieszkanie na urokliwym osiedlu Kliny. :)', '3 pokojowe Rakowcka 22C', '3-pokojowe na Republiki Korczakowskiej na sprzedaż!', '2 POKOJOWE 34MKW na Okólnej na sprzedaż!', 'Apartament, 2 pokoje, jadalnia, garaż,Krowodrza', 'Nowoczesny apartament 4 pokoje 2 miejsca okazja', 'Mieszkanie Kraków Bonarka 30 metrów 1 pokój']\n",
      "60\n",
      "Prices: ['2 275 000 zł', '279 000 zł', '526 000 zł', '487 000 zł', '997 000 zł', '779 000 zł', '897 000 zł', '2 153 000 zł', '1 850 000 zł', '3 500 zł', '3 000 zł', '760 000 zł', '799 000 zł', '2 800 zł', '696 000 zł', '998 000 zł', '2 500 zł', '675 000 zł', '750 000 zł', '6 200 zł', '5 000 zł', '580 000 zł', '749 000 zł', '770 000 zł', '515 000 zł', '3 200 zł', '939 046 zł', '749 000 zł', '799 000 zł', '865 000 zł', '997 000 zł', '780 000 zł', '789 000 zł', '515 000 zł', '769 000 zł', '2 150 zł', '628 000 zł', '545 000 zł', '2 000 zł', '915 000 zł', '590 000 zł', '1 049 000 zł', '649 000 zł', '2 200 zł', '749 000 zł', '9 000 zł', '369 000 zł', '619 000 zł', '689 000 zł', '669 000 zł', '1 250 zł', '3 000 zł', '3 000 zł', '689 000 zł', '4 300 zł', '860 000 zł', '525 000 zł', '3 800 zł', '1 200 000 zł', '2 000 zł']\n",
      "60\n"
     ]
    }
   ],
   "source": [
    "import requests\n",
    "from bs4 import BeautifulSoup\n",
    "import pandas as pd\n",
    "import os\n",
    "\n",
    "url = \"https://sprzedajemy.pl/krakow/nieruchomosci/mieszkania?offset=0&items_per_page=60\"\n",
    "\n",
    "headers = {\n",
    "    \"User-Agent\": \"Mozilla/5.0 (Windows NT 10.0; Win64; x64) AppleWebKit/537.36 (KHTML, like Gecko) Chrome/58.0.3029.110 Safari/537.36\",\n",
    "    \"Accept\": \"text/html,application/xhtml+xml,application/xml;q=0.9,image/webp,image/apng,*/*;q=0.8\",\n",
    "    \"Accept-Encoding\": \"gzip, deflate, br\",\n",
    "    \"Accept-Language\": \"en-US,en;q=0.9,pl;q=0.8\",\n",
    "    \"Connection\": \"keep-alive\"\n",
    "}\n",
    "\n",
    "response = requests.get(url, headers=headers)\n",
    "response = requests.get(url, headers=headers)\n",
    "\n",
    "# Debugowanie odpowiedzi\n",
    "print(f\"Status Code: {response.status_code}\")\n",
    "print(f\"Response Headers: {response.headers}\")\n",
    "print(f\"Response Text (first 2000 chars): {response.text[:2000]}\")\n",
    "\n",
    "# Jeśli odpowiedź jest poprawna, wykonaj webscraping\n",
    "if response.status_code == 200:\n",
    "    soup = BeautifulSoup(response.content, \"html.parser\")\n",
    "\n",
    "    # Pobieranie ofert mieszkań\n",
    "    titles = [h2.a.text.strip() for h2 in soup.find_all(\"h2\", class_=\"title\") if h2.a]\n",
    "    prices = [p.text.replace(\"\\xa0\", \" \").strip() for p in soup.find_all(\"span\", class_=\"price\")]\n",
    "\n",
    "    print(\"Titles:\", titles)\n",
    "    print(len(titles))\n",
    "    print(\"Prices:\", prices)\n",
    "    print(len(prices))\n",
    "\n",
    "    df = pd.DataFrame({\"Title\": titles, \"Price\": prices})\n",
    "\n",
    "    # Dopisanie do pliku CSV\n",
    "    df.to_csv(\"scraped_data.csv\", mode='a', header=not os.path.exists('scraped_data.csv'), index=False)\n",
    "else:\n",
    "    print(\"Failed to retrieve data.\")\n"
   ]
  }
 ],
 "metadata": {
  "colab": {
   "provenance": []
  },
  "kernelspec": {
   "display_name": "Python 3",
   "name": "python3"
  },
  "language_info": {
   "codemirror_mode": {
    "name": "ipython",
    "version": 3
   },
   "file_extension": ".py",
   "mimetype": "text/x-python",
   "name": "python",
   "nbconvert_exporter": "python",
   "pygments_lexer": "ipython3",
   "version": "3.9.23"
  },
  "papermill": {
   "default_parameters": {},
   "duration": 3.146106,
   "end_time": "2025-08-05T17:57:48.225695",
   "environment_variables": {},
   "exception": null,
   "input_path": "nb.ipynb",
   "output_path": "nbo.ipynb",
   "parameters": {},
   "start_time": "2025-08-05T17:57:45.079589",
   "version": "2.6.0"
  }
 },
 "nbformat": 4,
 "nbformat_minor": 5
}