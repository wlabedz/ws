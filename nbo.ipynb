{
 "cells": [
  {
   "cell_type": "code",
   "execution_count": 1,
   "id": "55015936",
   "metadata": {
    "colab": {
     "base_uri": "https://localhost:8080/"
    },
    "execution": {
     "iopub.execute_input": "2025-04-04T21:26:36.033589Z",
     "iopub.status.busy": "2025-04-04T21:26:36.033095Z",
     "iopub.status.idle": "2025-04-04T21:26:38.689077Z",
     "shell.execute_reply": "2025-04-04T21:26:38.688387Z"
    },
    "id": "5pYh4c8j1w43",
    "outputId": "8a0dca73-64e5-4f0d-c493-2c5b38392363",
    "papermill": {
     "duration": 2.659114,
     "end_time": "2025-04-04T21:26:38.690182",
     "exception": false,
     "start_time": "2025-04-04T21:26:36.031068",
     "status": "completed"
    },
    "tags": []
   },
   "outputs": [
    {
     "name": "stdout",
     "output_type": "stream",
     "text": [
      "Status Code: 200\n",
      "Response Headers: {'Server': 'nginx', 'Date': 'Fri, 04 Apr 2025 21:26:38 GMT', 'Content-Type': 'text/html; charset=UTF-8', 'Transfer-Encoding': 'chunked', 'Vary': 'Accept-Encoding, User-Agent', 'Set-Cookie': 'FRSPSID=97n2vgd82i5nuc3fjrjptcoja2; path=/; domain=.sprzedajemy.pl; secure; HttpOnly, _items_per_page__offer_list=60; expires=Sun, 04-May-2025 21:26:38 GMT; Max-Age=2592000; path=/; domain=.sprzedajemy.pl; secure; httponly, observed_id=77175441067f04e8e3c4cc6101853363483592019; expires=Wed, 04-Apr-2125 22:26:38 GMT; Max-Age=3155677200; path=/; domain=.sprzedajemy.pl; secure; httponly', 'Expires': 'Thu, 19 Nov 1981 08:52:00 GMT', 'Cache-Control': 'no-store, no-cache, must-revalidate, post-check=0, pre-check=0', 'Pragma': 'no-cache', 'Content-Encoding': 'gzip'}\n",
      "Response Text (first 2000 chars): <!DOCTYPE html><html xmlns=\"http://www.w3.org/1999/xhtml\" xml:lang=\"pl\" lang=\"pl\" class=\"no-js\" >\n",
      "<head>\n",
      "\t\t\t<!-- Google Tag Manager -->\n",
      "\t\t\t<script>(function(w,d,s,l,i){w[l]=w[l]||[];w[l].push({'gtm.start':\n",
      "\t\t\t\t\t\tnew Date().getTime(),event:'gtm.js'});var f=d.getElementsByTagName(s)[0],\n",
      "\t\t\t\t\tj=d.createElement(s),dl=l!='dataLayer'?'&l='+l:'';j.async=true;j.src=\n",
      "\t\t\t\t\t'https://www.googletagmanager.com/gtm.js?id='+i+dl\n",
      "\t\t\t\t\t\t\t\t\t    ;f.parentNode.insertBefore(j,f);\n",
      "\t\t\t\t    })(window,document,'script','dataLayer','GTM-P3S238');</script>\n",
      "\t\t\t<!-- End Google Tag Manager -->\n",
      "\t<title>Mieszkania Kraków na sprzedaż, wynajem - Sprzedajemy.pl</title><meta http-equiv=\"Content-Type\" content=\"text/html; charset=UTF-8\" >\n",
      "<meta http-equiv=\"X-UA-Compatible\" content=\"IE=edge\" >\n",
      "<meta name=\"description\" content=\"Ogłoszenia o tematyce:  w kategorii Mieszkania - Kupuj i sprzedawaj rzeczy używane i nowe w kategorii Mieszkania na Sprzedajemy.pl\" >\n",
      "<meta property=\"og:title\" content=\"Mieszkania Kraków na sprzedaż, wynajem - Sprzedajemy.pl\" >\n",
      "<meta property=\"og:type\" content=\"website\" >\n",
      "<meta property=\"og:image\" content=\"https://thumbs.img-sprzedajemy.pl/facebook/sprzedajemy.pl.png\" >\n",
      "<meta property=\"og:image:width\" content=\"200\" >\n",
      "<meta property=\"og:image:height\" content=\"200\" >\n",
      "<meta property=\"og:url\" content=\"https://sprzedajemy.pl/krakow/nieruchomosci/mieszkania\" >\n",
      "<meta property=\"og:site_name\" content=\"Sprzedajemy.pl\" >\n",
      "<meta property=\"fb:app_id\" content=\"173258269367442\" >\n",
      "<meta property=\"og:description\" content=\"Ogłoszenia o tematyce:  w kategorii Mieszkania - Kupuj i sprzedawaj rzeczy używane i nowe w kategorii Mieszkania na Sprzedajemy.pl\" >\n",
      "<meta name=\"robots\" content=\"noindex, follow\" >\t\t<script  async=\"async\" src=\"https://static.criteo.net/js/ld/publishertag.js\"></script>\n",
      "        <script  async=\"async\" src=\"https://ap.lijit.com/www/sovrn_beacon_standalone/sovrn_standalone_beacon.js?iid=13417409&amp;uid=sprzedajemy\" id=\"sBeacon\"></script>\n",
      "\t\t<script  async=\"async\" src=\"https://securepuba\n",
      "Titles: ['Kraków Bronowice Stawowa 168 / 60m2 3 POK/ 22,5 m2 taras/ BEZ POŚREDNIKÓW', 'Wyjątkowe 2 mieszkania w 1, gotowe do wprowadzenia, po remoncie', 'Apartament, 2 pokoje, jadalnia, garaż,Krowodrza', '2 pokoje,garaż,wysoki standard,ul.Rakowicka,ENG', 'Nowoczesne, wykończone, z garażem i balkonem', '2 lub 3 pokoje,62m2,balkon, Widok na Wawel', 'Mieszkanie z ogródkiem Zakrzówek', 'Strych do adaptacji, Błonia, ul. Filarecka', 'Mieszkanie 64.97m2 3 pok Kraków', 'Oferta sprzedaży mieszkania 49.89 metrów 3 pokojowe Kraków Romana Żelazowskiego', 'Do sprzedaży mieszkanie Kraków 57.06 metrów', 'Mieszkanie Os. Avia Kraków, widok na góry', '3 pokoje, na Kazimierzu w Super Cenie!', 'Mieszkanie 3p w kamienicy w pobliżu Salwatoru', 'Mieszkanie 46.58m2 2 pokoje Kraków', 'Mieszkanie na sprzedaż Kraków os. Piastów 34.55m2 2 pokoje', 'Mieszkanie 41.93m2 2 pok Kraków os. Piastów', 'Wynajmę 1-pokojowe mieszkanie w Borku Fałęckim', 'Mieszkanie Kraków os. Piastów 34.55m2 2-pok', 'Oferta sprzedaży mieszkania Kraków 63.64m2 3-pokojowe', 'Mieszkanie Kraków os. Piastów 36.96m2 2-pokojowe', 'Oferta sprzedaży mieszkania Kraków os. Piastów 36.96m2 2 pok', 'Mieszkanie Kraków os. Piastów 36.95m2 2 pokoje', 'Mieszkanie 37.89m2 Kraków', 'Mieszkanie 86.23m2 3 pokoje Kraków os. Piastów', 'Oferta sprzedaży mieszkania Kraków 36.96m2 2-pokojowe', 'Mieszkanie Kraków os. Piastów 37.89 metrów 2-pok', 'Oferta sprzedaży mieszkania Kraków os. Piastów 36.96m2 2-pokojowe', 'Urokliwy apartament nad Wisłą na Starym Podgórzu', 'Mieszkanie Kraków os. Piastów 68.17m2 3 pokojowe', 'Sprzedam mieszkanie Kraków os. Piastów 36.96m2 2 pok', 'Mieszkanie 86.23m2 3-pokojowe Kraków os. Piastów', 'Do sprzedaży mieszkanie Kraków os. Piastów 86.71m2 4 pokoje', 'Oferta sprzedaży mieszkania Kraków 72m2 3 pok', '4 pokoje, Błonia, Wisła, Salwator, ul. Filarecka', 'Mieszkanie Kraków 37.89m2 2 pok', 'Sprzedam mieszkanie w systemie TBS', 'Mieszkanie 36.96m2 2 pokoje Kraków os. Piastów', 'Oferta sprzedaży mieszkania 37.58m2 2 pokoje Kraków os. Piastów', 'Oferta sprzedaży mieszkania Kraków 29 Listopada 19.1m2 1 pokój', 'Mieszkanie Kraków os. Piastów 36.63m2 2-pokojowe', 'Mieszkanie 38 m Kraków  - Nowa Huta bez pośredników', 'Mieszkanie Kraków 76.89m2 4-pok', 'Sprzedaż mieszkania 36.96m2 2 pokoje Kraków', 'Mieszkanie 54.97m2 3 pokoje Kraków os. Piastów', 'Oferta sprzedaży mieszkania Kraków 47.55m2 3-pokojowe', 'Mieszkanie 123.25m2 5 pokoi Kraków', 'Mieszkanie Kraków os. Piastów 76.89m2 4-pok', 'Do sprzedaży mieszkanie 86.23m2 3-pok Kraków', '4p mieszkanie z ogródkiem w pięknej szeregówce', 'Mieszkanie 36.96m2 2 pok Kraków os. Piastów', 'Mieszkanie sprzedam 41.73m2 2 pokoje Kraków os. Piastów', 'Mieszkanie 34.55m2 2 pokoje Kraków os. Piastów', 'Oferta sprzedaży mieszkania Kraków os. Piastów 41.73m2 2 pokoje', 'Wykończone 2-pok., najwyższe piętro, okolice Zalewu Bagry', 'Mieszkanie 36.96m2 2 pokojowe Kraków os. Piastów', 'Mieszkanie 57.88 metrów 2 pokojowe Kraków', 'Mieszkanie 37.89m2 2 pokojowe Kraków os. Piastów', 'Mieszkanie 37.89m2 2 pok Kraków', 'Mieszkanie sprzedam Kraków 38m2 2 pok']\n",
      "60\n",
      "Prices: ['1 137 500 zł', '1 185 000 zł', '3 800 zł', '3 000 zł', '990 000 zł', '1 590 000 zł', '470 000 zł', '379 999 zł', '1 090 000 zł', '699 000 zł', '890 000 zł', '1 150 000 zł', '880 000 zł', '799 000 zł', '540 000 zł', '573 530 zł', '624 757 zł', '2 400 zł', '573 530 zł', '795 500 zł', '613 536 zł', '613 536 zł', '602 285 zł', '621 396 zł', '939 907 zł', '613 536 zł', '636 552 zł', '613 536 zł', '1 059 000 zł', '852 125 zł', '613 536 zł', '965 776 zł', '1 040 520 zł', '1 576 800 zł', '1 335 000 zł', '632 763 zł', '200 000 zł', '613 536 zł', '605 038 zł', '339 000 zł', '586 080 zł', '550 000 zł', '899 613 zł', '613 536 zł', '670 634 zł', '799 000 zł', '1 503 650 zł', '899 613 zł', '965 776 zł', '999 000 zł', '613 536 zł', '630 123 zł', '573 530 zł', '630 123 zł', '785 500 zł', '613 536 zł', '982 224 zł', '621 396 zł', '632 763 zł', '649 000 zł']\n",
      "60\n"
     ]
    }
   ],
   "source": [
    "import requests\n",
    "from bs4 import BeautifulSoup\n",
    "import pandas as pd\n",
    "import os\n",
    "\n",
    "url = \"https://sprzedajemy.pl/krakow/nieruchomosci/mieszkania?offset=0&items_per_page=60\"\n",
    "\n",
    "headers = {\n",
    "    \"User-Agent\": \"Mozilla/5.0 (Windows NT 10.0; Win64; x64) AppleWebKit/537.36 (KHTML, like Gecko) Chrome/58.0.3029.110 Safari/537.36\",\n",
    "    \"Accept\": \"text/html,application/xhtml+xml,application/xml;q=0.9,image/webp,image/apng,*/*;q=0.8\",\n",
    "    \"Accept-Encoding\": \"gzip, deflate, br\",\n",
    "    \"Accept-Language\": \"en-US,en;q=0.9,pl;q=0.8\",\n",
    "    \"Connection\": \"keep-alive\"\n",
    "}\n",
    "\n",
    "response = requests.get(url, headers=headers)\n",
    "response = requests.get(url, headers=headers)\n",
    "\n",
    "# Debugowanie odpowiedzi\n",
    "print(f\"Status Code: {response.status_code}\")\n",
    "print(f\"Response Headers: {response.headers}\")\n",
    "print(f\"Response Text (first 2000 chars): {response.text[:2000]}\")\n",
    "\n",
    "# Jeśli odpowiedź jest poprawna, wykonaj webscraping\n",
    "if response.status_code == 200:\n",
    "    soup = BeautifulSoup(response.content, \"html.parser\")\n",
    "\n",
    "    # Pobieranie ofert mieszkań\n",
    "    titles = [h2.a.text.strip() for h2 in soup.find_all(\"h2\", class_=\"title\") if h2.a]\n",
    "    prices = [p.text.replace(\"\\xa0\", \" \").strip() for p in soup.find_all(\"span\", class_=\"price\")]\n",
    "\n",
    "    print(\"Titles:\", titles)\n",
    "    print(len(titles))\n",
    "    print(\"Prices:\", prices)\n",
    "    print(len(prices))\n",
    "\n",
    "    df = pd.DataFrame({\"Title\": titles, \"Price\": prices})\n",
    "\n",
    "    # Dopisanie do pliku CSV\n",
    "    df.to_csv(\"scraped_data.csv\", mode='a', header=not os.path.exists('scraped_data.csv'), index=False)\n",
    "else:\n",
    "    print(\"Failed to retrieve data.\")\n"
   ]
  }
 ],
 "metadata": {
  "colab": {
   "provenance": []
  },
  "kernelspec": {
   "display_name": "Python 3",
   "name": "python3"
  },
  "language_info": {
   "codemirror_mode": {
    "name": "ipython",
    "version": 3
   },
   "file_extension": ".py",
   "mimetype": "text/x-python",
   "name": "python",
   "nbconvert_exporter": "python",
   "pygments_lexer": "ipython3",
   "version": "3.9.21"
  },
  "papermill": {
   "default_parameters": {},
   "duration": 3.821614,
   "end_time": "2025-04-04T21:26:38.907258",
   "environment_variables": {},
   "exception": null,
   "input_path": "nb.ipynb",
   "output_path": "nbo.ipynb",
   "parameters": {},
   "start_time": "2025-04-04T21:26:35.085644",
   "version": "2.6.0"
  }
 },
 "nbformat": 4,
 "nbformat_minor": 5
}