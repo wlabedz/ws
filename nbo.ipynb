{
 "cells": [
  {
   "cell_type": "code",
   "execution_count": 1,
   "id": "3f6ff75d",
   "metadata": {
    "colab": {
     "base_uri": "https://localhost:8080/"
    },
    "execution": {
     "iopub.execute_input": "2025-06-27T12:40:01.161487Z",
     "iopub.status.busy": "2025-06-27T12:40:01.161218Z",
     "iopub.status.idle": "2025-06-27T12:40:04.187216Z",
     "shell.execute_reply": "2025-06-27T12:40:04.186485Z"
    },
    "id": "5pYh4c8j1w43",
    "outputId": "8a0dca73-64e5-4f0d-c493-2c5b38392363",
    "papermill": {
     "duration": 3.029619,
     "end_time": "2025-06-27T12:40:04.188315",
     "exception": false,
     "start_time": "2025-06-27T12:40:01.158696",
     "status": "completed"
    },
    "tags": []
   },
   "outputs": [
    {
     "name": "stdout",
     "output_type": "stream",
     "text": [
      "Status Code: 200\n",
      "Response Headers: {'Server': 'nginx', 'Date': 'Fri, 27 Jun 2025 12:40:03 GMT', 'Content-Type': 'text/html; charset=UTF-8', 'Transfer-Encoding': 'chunked', 'Vary': 'Accept-Encoding, User-Agent', 'Set-Cookie': 'FRSPSID=c4sv9lkljf7fkd8tefaccgmck1; path=/; domain=.sprzedajemy.pl; secure; HttpOnly, _items_per_page__offer_list=60; expires=Sun, 27-Jul-2025 12:40:03 GMT; Max-Age=2592000; path=/; domain=.sprzedajemy.pl; secure; httponly, observed_id=1698155169685e9123c5ad1651483814623703939; expires=Wed, 27-Jun-2125 13:40:03 GMT; Max-Age=3155677200; path=/; domain=.sprzedajemy.pl; secure; httponly', 'Expires': 'Thu, 19 Nov 1981 08:52:00 GMT', 'Cache-Control': 'no-store, no-cache, must-revalidate, post-check=0, pre-check=0', 'Pragma': 'no-cache', 'Content-Encoding': 'gzip'}\n",
      "Response Text (first 2000 chars): <!DOCTYPE html><html xmlns=\"http://www.w3.org/1999/xhtml\" xml:lang=\"pl\" lang=\"pl\" class=\"no-js\" >\n",
      "<head>\n",
      "\t\t\t<!-- Google Tag Manager -->\n",
      "\t\t\t<script>(function(w,d,s,l,i){w[l]=w[l]||[];w[l].push({'gtm.start':\n",
      "\t\t\t\t\t\tnew Date().getTime(),event:'gtm.js'});var f=d.getElementsByTagName(s)[0],\n",
      "\t\t\t\t\tj=d.createElement(s),dl=l!='dataLayer'?'&l='+l:'';j.async=true;j.src=\n",
      "\t\t\t\t\t'https://www.googletagmanager.com/gtm.js?id='+i+dl\n",
      "\t\t\t\t\t\t\t\t\t    ;f.parentNode.insertBefore(j,f);\n",
      "\t\t\t\t    })(window,document,'script','dataLayer','GTM-P3S238');</script>\n",
      "\t\t\t<!-- End Google Tag Manager -->\n",
      "\t<title>Mieszkania Kraków na sprzedaż, wynajem - Sprzedajemy.pl</title><meta http-equiv=\"Content-Type\" content=\"text/html; charset=UTF-8\" >\n",
      "<meta http-equiv=\"X-UA-Compatible\" content=\"IE=edge\" >\n",
      "<meta name=\"description\" content=\"Ogłoszenia o tematyce:  w kategorii Mieszkania - Kupuj i sprzedawaj rzeczy używane i nowe w kategorii Mieszkania na Sprzedajemy.pl\" >\n",
      "<meta property=\"og:title\" content=\"Mieszkania Kraków na sprzedaż, wynajem - Sprzedajemy.pl\" >\n",
      "<meta property=\"og:type\" content=\"website\" >\n",
      "<meta property=\"og:image\" content=\"https://thumbs.img-sprzedajemy.pl/facebook/sprzedajemy.pl.png\" >\n",
      "<meta property=\"og:image:width\" content=\"200\" >\n",
      "<meta property=\"og:image:height\" content=\"200\" >\n",
      "<meta property=\"og:url\" content=\"https://sprzedajemy.pl/krakow/nieruchomosci/mieszkania\" >\n",
      "<meta property=\"og:site_name\" content=\"Sprzedajemy.pl\" >\n",
      "<meta property=\"fb:app_id\" content=\"173258269367442\" >\n",
      "<meta property=\"og:description\" content=\"Ogłoszenia o tematyce:  w kategorii Mieszkania - Kupuj i sprzedawaj rzeczy używane i nowe w kategorii Mieszkania na Sprzedajemy.pl\" >\n",
      "<meta name=\"robots\" content=\"noindex, follow\" >\t\t<script  async=\"async\" src=\"https://static.criteo.net/js/ld/publishertag.js\"></script>\n",
      "        <script  async=\"async\" src=\"https://ap.lijit.com/www/sovrn_beacon_standalone/sovrn_standalone_beacon.js?iid=13417409&amp;uid=sprzedajemy\" id=\"sBeacon\"></script>\n",
      "\t\t<script  async=\"async\" src=\"https://securepuba\n",
      "Titles: ['wykończone 27,56 m², balkon, Kniaźnina, TRAMWAJ, Prądnik Czerwony/Huta', 'Stylowy apartament z widokiem na panoramę Krakowa - od właściciela', 'Nowoczesny apartament z panoramicznym widokiem - od właściciela', 'Wyjątkowe mieszkanie z widokiem na klasztor w Tyńcu i panoramę Tatr', 'Stare Miasto 61,5 m2 KLIMA Wawel wykończone Kazimierz wysokie ROI', 'Stare Miasto 32m2 KLIMA Wawel wykończone Kazimierz wysokie ROI', 'Mieszkanie na sprzedaż/zamiana 39m2', 'Do sprzedaży mieszkanie 55.81m2 Kraków', 'Mieszkanie Kraków Kantrowicka 51.41m2 3 pokoje', 'Mieszkanie Kraków 37.51 metrów 2-pokojowe', 'Mieszkanie 58m2 3 pokoje Kraków dr. Jana Piltza', 'Mieszkanie Kraków 64.99m2 4-pokojowe', 'Mieszkanie 48.59 metrów 3 pokojowe Kraków Piasta Kołodzieja', 'Oferta sprzedaży mieszkania 45.84m2 2 pokoje Kraków Wadowicka', 'Mieszkanie Kraków 87m2 3 pok', 'Oferta sprzedaży mieszkania Kraków 47.88m2 3-pokojowe', 'Mieszkanie Kraków Kantrowicka 34.79 metrów', 'Mieszkanie Kraków Olszanicka 94.68m2 4-pokojowe', 'Mieszkanie Kraków 37.67m2 2 pokoje', 'Mieszkanie sprzedam Kraków 64.14m2 4-pokojowe', 'Mieszkanie 50.23m2 Kraków Piasta Kołodzieja', 'Oferta sprzedaży mieszkania 41.18m2 2-pokojowe Kraków Na Błonie', 'Do sprzedaży mieszkanie 32.79m2 1 pokojowe Kraków Babińskiego', 'Do sprzedaży mieszkanie Kraków Podgórska 23.8 metrów 1 pokój', 'Mieszkanie 50.95m2 2 pokoje Kraków Wadowicka', 'Mieszkanie Kraków 55.09m2 2 pokoje', 'Oferta sprzedaży mieszkania 57.19m2 3 pokojowe Kraków', 'Mieszkanie do sprzedania Kraków Erazma Jerzmanowskiego 39.2m2 2 pokoje', 'Mieszkanie Kraków 71.47m2 3 pok', 'Oferta sprzedaży mieszkania 59.52 metry 3 pokojowe Kraków Babińskiego', 'Mieszkanie Kraków 50.64m2 3-pok', 'Mieszkanie 51.8m2 Kraków', 'Mieszkanie Kraków Pękowicka 59.97m2 4 pokoje', 'Mieszkanie 49.76 metrów 2 pokojowe Kraków', 'Mieszkanie Kraków 49.86m2 3-pokojowe', 'Mieszkanie 41.16 metrów Kraków', 'Mieszkanie 59.31m2 4-pokojowe Kraków Kantrowicka', 'Mieszkanie Kraków Kantrowicka 34.79m2 2-pokojowe', 'Do sprzedaży mieszkanie 90.48m2 4-pokojowe Kraków Babińskiego', 'Oferta sprzedaży mieszkania Kraków 50.3m2 3 pokojowe', 'Mieszkanie do sprzedania Kraków 51.71m2 2 pokoje', 'Mieszkanie 56.92m 3 pokoje Kraków', 'Mieszkanie Kraków Krowoderska 74.7m2 3 pokojowe', 'Mieszkanie Kraków 44.03m2 2 pokoje', 'Mieszkanie sprzedam Kraków 90.38m2 4 pokoje', 'Mieszkanie na wynajem Kraków 110m2 4 pokoje', 'Ogłoszenie mieszkanie Kraków Babińskiego 72.4m2 3 pok', 'Sprzedaż mieszkania Kraków Kantrowicka 35.05m 2 pokojowe', 'Sprzedam mieszkanie 70.88m2 3 pokoje Kraków Babińskiego', 'Oferta sprzedaży mieszkania Kraków 35.79m2 2 pokoje', 'Ogłoszenie mieszkanie Kraków 56.09m2 3 pokoje', 'Mieszkanie Kraków Piasta Kołodzieja 44.28m2 2 pok', 'Mieszkanie Kraków 118.87m2 4 pokoje', 'Mieszkanie 48.62m2 2 pokoje Kraków Dąbrowskiego', 'Mieszkanie 51.55m2 Kraków', 'Do sprzedaży mieszkanie Kraków 47.8m2 2 pokojowe', 'Mieszkanie Kraków Wadowicka 75.19 metrów 4 pok', 'Oferta sprzedaży mieszkania Kraków Na Błonie 38.66m2 2 pokojowe', 'Mieszkanie 57.32m2 2-pokojowe Kraków', 'Mieszkanie sprzedam Kraków Wadowicka 42.61m2 2 pokoje']\n",
      "60\n",
      "Prices: ['569 000 zł', '897 000 zł', '997 000 zł', '779 000 zł', '1 748 885 zł', '959 000 zł', '539 000 zł', '892 960 zł', '771 150 zł', '756 914 zł', '1 049 000 zł', '1 046 339 zł', '699 696 zł', '857 208 zł', '7 500 zł', '797 202 zł', '504 455 zł', '1 387 058 zł', '644 157 zł', '1 032 654 zł', '713 266 zł', '779 784 zł', '636 126 zł', '299 000 zł', '876 340 zł', '949 916 zł', '657 685 zł', '585 000 zł', '1 177 182 zł', '982 080 zł', '843 156 zł', '891 426 zł', '986 506 zł', '699 000 zł', '703 026 zł', '778 541 zł', '859 995 zł', '487 060 zł', '1 465 776 zł', '724 320 zł', '858 386 zł', '1 043 059 zł', '1 418 000 zł', '550 000 zł', '1 464 156 zł', '8 500 zł', '1 194 600 zł', '525 750 zł', '1 219 136 zł', '613 798 zł', '729 170 zł', '659 772 zł', '860 000 zł', '874 602 zł', '1 083 838 zł', '954 499 zł', '1 300 787 zł', '780 120 zł', '878 000 zł', '807 459 zł']\n",
      "60\n"
     ]
    }
   ],
   "source": [
    "import requests\n",
    "from bs4 import BeautifulSoup\n",
    "import pandas as pd\n",
    "import os\n",
    "\n",
    "url = \"https://sprzedajemy.pl/krakow/nieruchomosci/mieszkania?offset=0&items_per_page=60\"\n",
    "\n",
    "headers = {\n",
    "    \"User-Agent\": \"Mozilla/5.0 (Windows NT 10.0; Win64; x64) AppleWebKit/537.36 (KHTML, like Gecko) Chrome/58.0.3029.110 Safari/537.36\",\n",
    "    \"Accept\": \"text/html,application/xhtml+xml,application/xml;q=0.9,image/webp,image/apng,*/*;q=0.8\",\n",
    "    \"Accept-Encoding\": \"gzip, deflate, br\",\n",
    "    \"Accept-Language\": \"en-US,en;q=0.9,pl;q=0.8\",\n",
    "    \"Connection\": \"keep-alive\"\n",
    "}\n",
    "\n",
    "response = requests.get(url, headers=headers)\n",
    "response = requests.get(url, headers=headers)\n",
    "\n",
    "# Debugowanie odpowiedzi\n",
    "print(f\"Status Code: {response.status_code}\")\n",
    "print(f\"Response Headers: {response.headers}\")\n",
    "print(f\"Response Text (first 2000 chars): {response.text[:2000]}\")\n",
    "\n",
    "# Jeśli odpowiedź jest poprawna, wykonaj webscraping\n",
    "if response.status_code == 200:\n",
    "    soup = BeautifulSoup(response.content, \"html.parser\")\n",
    "\n",
    "    # Pobieranie ofert mieszkań\n",
    "    titles = [h2.a.text.strip() for h2 in soup.find_all(\"h2\", class_=\"title\") if h2.a]\n",
    "    prices = [p.text.replace(\"\\xa0\", \" \").strip() for p in soup.find_all(\"span\", class_=\"price\")]\n",
    "\n",
    "    print(\"Titles:\", titles)\n",
    "    print(len(titles))\n",
    "    print(\"Prices:\", prices)\n",
    "    print(len(prices))\n",
    "\n",
    "    df = pd.DataFrame({\"Title\": titles, \"Price\": prices})\n",
    "\n",
    "    # Dopisanie do pliku CSV\n",
    "    df.to_csv(\"scraped_data.csv\", mode='a', header=not os.path.exists('scraped_data.csv'), index=False)\n",
    "else:\n",
    "    print(\"Failed to retrieve data.\")\n"
   ]
  }
 ],
 "metadata": {
  "colab": {
   "provenance": []
  },
  "kernelspec": {
   "display_name": "Python 3",
   "name": "python3"
  },
  "language_info": {
   "codemirror_mode": {
    "name": "ipython",
    "version": 3
   },
   "file_extension": ".py",
   "mimetype": "text/x-python",
   "name": "python",
   "nbconvert_exporter": "python",
   "pygments_lexer": "ipython3",
   "version": "3.9.23"
  },
  "papermill": {
   "default_parameters": {},
   "duration": 4.202778,
   "end_time": "2025-06-27T12:40:04.405112",
   "environment_variables": {},
   "exception": null,
   "input_path": "nb.ipynb",
   "output_path": "nbo.ipynb",
   "parameters": {},
   "start_time": "2025-06-27T12:40:00.202334",
   "version": "2.6.0"
  }
 },
 "nbformat": 4,
 "nbformat_minor": 5
}