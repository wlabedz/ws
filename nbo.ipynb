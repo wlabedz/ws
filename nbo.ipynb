{
 "cells": [
  {
   "cell_type": "code",
   "execution_count": 1,
   "id": "54fc0bc0",
   "metadata": {
    "colab": {
     "base_uri": "https://localhost:8080/"
    },
    "execution": {
     "iopub.execute_input": "2025-10-11T16:57:28.499660Z",
     "iopub.status.busy": "2025-10-11T16:57:28.499420Z",
     "iopub.status.idle": "2025-10-11T16:57:30.528870Z",
     "shell.execute_reply": "2025-10-11T16:57:30.528168Z"
    },
    "id": "5pYh4c8j1w43",
    "outputId": "8a0dca73-64e5-4f0d-c493-2c5b38392363",
    "papermill": {
     "duration": 2.032733,
     "end_time": "2025-10-11T16:57:30.529974",
     "exception": false,
     "start_time": "2025-10-11T16:57:28.497241",
     "status": "completed"
    },
    "tags": []
   },
   "outputs": [
    {
     "name": "stdout",
     "output_type": "stream",
     "text": [
      "Status Code: 200\n",
      "Response Headers: {'Server': 'nginx', 'Date': 'Sat, 11 Oct 2025 16:57:30 GMT', 'Content-Type': 'text/html; charset=UTF-8', 'Transfer-Encoding': 'chunked', 'Vary': 'Accept-Encoding, User-Agent', 'Set-Cookie': 'FRSPSID=3kk0aihgas5429pidfo33ijqb0; path=/; domain=.sprzedajemy.pl; secure; HttpOnly, _items_per_page__offer_list=60; expires=Mon, 10-Nov-2025 16:57:30 GMT; Max-Age=2592000; path=/; domain=.sprzedajemy.pl; secure; httponly, observed_id=105569972268ea8c7a22c99713898533013195234; expires=Thu, 11-Oct-2125 17:57:30 GMT; Max-Age=3155677200; path=/; domain=.sprzedajemy.pl; secure; httponly', 'Expires': 'Thu, 19 Nov 1981 08:52:00 GMT', 'Cache-Control': 'no-store, no-cache, must-revalidate, post-check=0, pre-check=0', 'Pragma': 'no-cache', 'Content-Encoding': 'gzip'}\n",
      "Response Text (first 2000 chars): <!DOCTYPE html><html xmlns=\"http://www.w3.org/1999/xhtml\" xml:lang=\"pl\" lang=\"pl\" class=\"no-js\" >\n",
      "<head>\n",
      "\t\t\t<!-- Google Tag Manager -->\n",
      "\t\t\t<script>(function(w,d,s,l,i){w[l]=w[l]||[];w[l].push({'gtm.start':\n",
      "\t\t\t\t\t\tnew Date().getTime(),event:'gtm.js'});var f=d.getElementsByTagName(s)[0],\n",
      "\t\t\t\t\tj=d.createElement(s),dl=l!='dataLayer'?'&l='+l:'';j.async=true;j.src=\n",
      "\t\t\t\t\t'https://www.googletagmanager.com/gtm.js?id='+i+dl\n",
      "\t\t\t\t\t\t\t\t\t    ;f.parentNode.insertBefore(j,f);\n",
      "\t\t\t\t    })(window,document,'script','dataLayer','GTM-P3S238');</script>\n",
      "\t\t\t<!-- End Google Tag Manager -->\n",
      "\t<title>Mieszkania Kraków na sprzedaż, wynajem - Sprzedajemy.pl</title><meta http-equiv=\"Content-Type\" content=\"text/html; charset=UTF-8\" >\n",
      "<meta http-equiv=\"X-UA-Compatible\" content=\"IE=edge\" >\n",
      "<meta name=\"description\" content=\"Ogłoszenia o tematyce:  w kategorii Mieszkania - Kupuj i sprzedawaj rzeczy używane i nowe w kategorii Mieszkania na Sprzedajemy.pl\" >\n",
      "<meta property=\"og:title\" content=\"Mieszkania Kraków na sprzedaż, wynajem - Sprzedajemy.pl\" >\n",
      "<meta property=\"og:type\" content=\"website\" >\n",
      "<meta property=\"og:image\" content=\"https://thumbs.img-sprzedajemy.pl/facebook/sprzedajemy.pl.png\" >\n",
      "<meta property=\"og:image:width\" content=\"200\" >\n",
      "<meta property=\"og:image:height\" content=\"200\" >\n",
      "<meta property=\"og:url\" content=\"https://sprzedajemy.pl/krakow/nieruchomosci/mieszkania\" >\n",
      "<meta property=\"og:site_name\" content=\"Sprzedajemy.pl\" >\n",
      "<meta property=\"fb:app_id\" content=\"173258269367442\" >\n",
      "<meta property=\"og:description\" content=\"Ogłoszenia o tematyce:  w kategorii Mieszkania - Kupuj i sprzedawaj rzeczy używane i nowe w kategorii Mieszkania na Sprzedajemy.pl\" >\n",
      "<meta name=\"robots\" content=\"noindex, follow\" >\t\t<script  async=\"async\" src=\"https://static.criteo.net/js/ld/publishertag.js\"></script>\n",
      "        <script  async=\"async\" src=\"https://ap.lijit.com/www/sovrn_beacon_standalone/sovrn_standalone_beacon.js?iid=13417409&amp;uid=sprzedajemy\" id=\"sBeacon\"></script>\n",
      "\t\t<script  async=\"async\" src=\"https://securepuba\n",
      "Titles: ['Podedworze 13', 'Mieszkanie Wzgórza Krzesławickie bez prowizji.', 'Piękne 2 pokojowe mieszkanie w Centrum', 'Mieszkanie 3-pokojowe Zakrzówek Ruczaj wynajem na 9 miesięcy', 'Mieszkanie z widokiem na góry', 'Kraków, Stare Miasto sprzedaż/zamiana', '3-pokojowe mieszkanie 70m2 z klimatyzacją, 2 balkony - Wiślane Tarasy', 'Sprzedam dwupokojowe mieszkanie os. Dywizjonu 303, 19C Kraków', 'Oferta sprzedaży mieszkania Kraków Mirosława Krzyżańskiego 122m2 4 pokoje', '12 600zł/m2 w nowym budownictwie - bez prowizji!', 'duże 2-pokojowe mieszkanie Z 2024r - 53m2 z balkonem APARTAMENT', 'Mieszkanie 50m 2 pokoje Kraków', 'Wynajmę 2 pokojowe 58m2', 'MIESZKANIE KRAKÓW UL. ŁUŻYCKA 53 PIASKI NOWE', '2- pokojowe mieszkanie | K. Kołłątajowskiej | 57m2', 'Mieszkanie Ruczaj Park 73m', 'Wynajmę mieszkanie 2 pokojowe+ogródek Kraków, ul. Żabiniec', 'Mieszkanie 130m2 Kraków ul. Bielańska 16/2 wynajem', 'wynajmę mieszkanie dwupokojowe', '2-pokojowe 45m2 pod Lasem Borkowskim', 'Mieszkanie z potencjałem – 1 pokój + kuchnia, Kraków', 'Mieszkanie 56m2 | Rynek Główny | ul. Grodzka', 'Mieszkanie Kraków 71.81m2 3 pok', '4-pok. na Ruczaju na sprzedaż!', 'Mieszkanie Kraków Krupnicza 32m2 1 pokojowe', 'WYNAJMĘ od zaraz mieszkanie 3 pokojowe-Krowodrza - Prądnik Biały-49 m2', 'Sprzedam mieszkanie 58m2 3-pokojowe Kraków Fatimska', 'Mieszkanie 98 metrów 3 pokoje Kraków Bolesława Komorowskiego', 'Kraków – 3 pokojowy apartament na sprzedaż na kameralnym osiedlu', 'Mieszkanie 38.4m2 2 pokojowe Kraków', 'Oferta sprzedaży mieszkania Kraków 32.9 metrów 2 pokoje', 'Oferta sprzedaży mieszkania Kraków Macieja Dębskiego 53.69m2 3 pokoje', 'Oferta wynajmu mieszkania Kraków os. 2 Pułku Lotniczego 37m2 1-pokojowe', 'Oferta wynajmu mieszkania 40m2 2 pokoje Kraków Na Kozłówce', 'Mieszkanie Kraków 54.4m2 3-pokojowe', 'Mieszkanie Kraków Wandy 30.15m 1 pokojowe', 'Gotowa Urządzona mikro kawalerka+balkon+ogród', 'Wynajmę pokój z kuchnią blisko centrum, ul. Cieszyńska', 'Kraków – 2 pokojowy apartament w wysokim standardzie Piasta Towers', 'Mieszkanie 39m2 Kraków Czyżewskiego', 'Mieszkanie Kraków 57.13m2 4-pokojowe', 'Mieszkanie Kraków 58.7m2 3 pokojowe', 'Mieszkanie Kraków 24.3m 1-pokojowe', 'Mieszkanie na sprzedaż ul. Wróblewskiego, Kraków, Stare Miasto _ 16 000zl/…', 'Mieszkanie Kraków 64.3m2 3 pokoje', 'Mieszkanie 59.3m2 2 pok Kraków Kotlarska', 'Czyżyny - 1 pokojowe z dużym balkonem, 2018r', 'Po remoncie 2 pokoje Przy Bulwarach Nowa cena', 'Sprzedam mieszkanie w systemie TBS', 'Bezpośrednio Mieszkanie zadbane 3 pok 63m2 ogródek klima parking', 'Oferta sprzedaży mieszkania 65m2 3 pokojowe Kraków', 'Mieszkanie Kraków 43.36m2 3-pokojowe', 'Kawalerka 27m na Dąbiu | Pętla tramwajowa', 'Mieszkanie 101.65m2 Kraków Lenartowicza', '2 pokojowe mieszkanie z balkonem, ul. Bartla 19E, 43m2', 'Nowe umeblowane 2 pokoje z dużym balkonem - Park Bagry - Bez prowizji', 'Mieszkanie 4-pok. 73m2 z ogródkiem 130m2, Ruczaj, Federowicza Bunscha', 'Mieszkanie 59m2 3-pok Kraków Fieldorfa-Nila', 'Mieszkanie Kraków 70m2 3-pokojowe', 'Ogłoszenie mieszkanie 58 metrów 3 pokoje Kraków Nullo']\n",
      "60\n",
      "Prices: ['542 000 zł', '670 000 zł', '759 900 zł', '2 900 zł', '265 000 zł', '2 015 000 zł', '5 900 zł', '620 000 zł', '1 299 000 zł', '630 000 zł', '1 135 000 zł', '710 000 zł', '3 300 zł', '730 000 zł', '645 000 zł', '939 046 zł', '3 100 zł', '3 950 zł', '2 800 zł', '4 100 zł', '431 000 zł', '1 060 000 zł', '8 200 zł', '899 000 zł', '2 500 zł', '3 300 zł', '733 000 zł', '5 800 zł', '939 000 zł', '2 700 zł', '525 000 zł', '729 000 zł', '2 100 zł', '2 980 zł', '765 000 zł', '394 000 zł', '209 000 zł', '1 800 zł', '799 000 zł', '479 265 zł', '920 000 zł', '830 000 zł', '399 000 zł', '1 968 000 zł', '775 000 zł', '769 000 zł', '605 000 zł', '980 000 zł', '169 000 zł', '4 000 zł', '920 000 zł', '520 000 zł', '581 000 zł', '1 590 000 zł', '620 000 zł', '784 000 zł', '1 033 000 zł', '899 000 zł', '890 000 zł', '1 449 000 zł']\n",
      "60\n"
     ]
    }
   ],
   "source": [
    "import requests\n",
    "from bs4 import BeautifulSoup\n",
    "import pandas as pd\n",
    "import os\n",
    "\n",
    "url = \"https://sprzedajemy.pl/krakow/nieruchomosci/mieszkania?offset=0&items_per_page=60\"\n",
    "\n",
    "headers = {\n",
    "    \"User-Agent\": \"Mozilla/5.0 (Windows NT 10.0; Win64; x64) AppleWebKit/537.36 (KHTML, like Gecko) Chrome/58.0.3029.110 Safari/537.36\",\n",
    "    \"Accept\": \"text/html,application/xhtml+xml,application/xml;q=0.9,image/webp,image/apng,*/*;q=0.8\",\n",
    "    \"Accept-Encoding\": \"gzip, deflate, br\",\n",
    "    \"Accept-Language\": \"en-US,en;q=0.9,pl;q=0.8\",\n",
    "    \"Connection\": \"keep-alive\"\n",
    "}\n",
    "\n",
    "response = requests.get(url, headers=headers)\n",
    "response = requests.get(url, headers=headers)\n",
    "\n",
    "# Debugowanie odpowiedzi\n",
    "print(f\"Status Code: {response.status_code}\")\n",
    "print(f\"Response Headers: {response.headers}\")\n",
    "print(f\"Response Text (first 2000 chars): {response.text[:2000]}\")\n",
    "\n",
    "# Jeśli odpowiedź jest poprawna, wykonaj webscraping\n",
    "if response.status_code == 200:\n",
    "    soup = BeautifulSoup(response.content, \"html.parser\")\n",
    "\n",
    "    # Pobieranie ofert mieszkań\n",
    "    titles = [h2.a.text.strip() for h2 in soup.find_all(\"h2\", class_=\"title\") if h2.a]\n",
    "    prices = [p.text.replace(\"\\xa0\", \" \").strip() for p in soup.find_all(\"span\", class_=\"price\")]\n",
    "\n",
    "    print(\"Titles:\", titles)\n",
    "    print(len(titles))\n",
    "    print(\"Prices:\", prices)\n",
    "    print(len(prices))\n",
    "\n",
    "    df = pd.DataFrame({\"Title\": titles, \"Price\": prices})\n",
    "\n",
    "    # Dopisanie do pliku CSV\n",
    "    df.to_csv(\"scraped_data.csv\", mode='a', header=not os.path.exists('scraped_data.csv'), index=False)\n",
    "else:\n",
    "    print(\"Failed to retrieve data.\")\n"
   ]
  }
 ],
 "metadata": {
  "colab": {
   "provenance": []
  },
  "kernelspec": {
   "display_name": "Python 3",
   "name": "python3"
  },
  "language_info": {
   "codemirror_mode": {
    "name": "ipython",
    "version": 3
   },
   "file_extension": ".py",
   "mimetype": "text/x-python",
   "name": "python",
   "nbconvert_exporter": "python",
   "pygments_lexer": "ipython3",
   "version": "3.9.23"
  },
  "papermill": {
   "default_parameters": {},
   "duration": 3.24804,
   "end_time": "2025-10-11T16:57:30.746488",
   "environment_variables": {},
   "exception": null,
   "input_path": "nb.ipynb",
   "output_path": "nbo.ipynb",
   "parameters": {},
   "start_time": "2025-10-11T16:57:27.498448",
   "version": "2.6.0"
  }
 },
 "nbformat": 4,
 "nbformat_minor": 5
}