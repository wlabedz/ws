{
 "cells": [
  {
   "cell_type": "code",
   "execution_count": 1,
   "id": "a59b0d0c",
   "metadata": {
    "colab": {
     "base_uri": "https://localhost:8080/"
    },
    "execution": {
     "iopub.execute_input": "2025-04-02T07:49:16.030999Z",
     "iopub.status.busy": "2025-04-02T07:49:16.030514Z",
     "iopub.status.idle": "2025-04-02T07:49:18.036968Z",
     "shell.execute_reply": "2025-04-02T07:49:18.036287Z"
    },
    "id": "5pYh4c8j1w43",
    "outputId": "8a0dca73-64e5-4f0d-c493-2c5b38392363",
    "papermill": {
     "duration": 2.009634,
     "end_time": "2025-04-02T07:49:18.038056",
     "exception": false,
     "start_time": "2025-04-02T07:49:16.028422",
     "status": "completed"
    },
    "tags": []
   },
   "outputs": [
    {
     "name": "stdout",
     "output_type": "stream",
     "text": [
      "Status Code: 200\n",
      "Response Headers: {'Server': 'nginx', 'Date': 'Wed, 02 Apr 2025 07:49:17 GMT', 'Content-Type': 'text/html; charset=UTF-8', 'Transfer-Encoding': 'chunked', 'Vary': 'Accept-Encoding, User-Agent', 'Set-Cookie': 'FRSPSID=km71fiiu0v13j5jvkp1ur7ku51; path=/; domain=.sprzedajemy.pl; secure; HttpOnly, _items_per_page__offer_list=60; expires=Fri, 02-May-2025 07:49:17 GMT; Max-Age=2592000; path=/; domain=.sprzedajemy.pl; secure; httponly, observed_id=195350880367ecebfda55d4519110208624576343; expires=Mon, 02-Apr-2125 08:49:17 GMT; Max-Age=3155677200; path=/; domain=.sprzedajemy.pl; secure; httponly', 'Expires': 'Thu, 19 Nov 1981 08:52:00 GMT', 'Cache-Control': 'no-store, no-cache, must-revalidate, post-check=0, pre-check=0', 'Pragma': 'no-cache', 'Content-Encoding': 'gzip'}\n",
      "Response Text (first 2000 chars): <!DOCTYPE html><html xmlns=\"http://www.w3.org/1999/xhtml\" xml:lang=\"pl\" lang=\"pl\" class=\"no-js\" >\n",
      "<head>\n",
      "\t\t\t<!-- Google Tag Manager -->\n",
      "\t\t\t<script>(function(w,d,s,l,i){w[l]=w[l]||[];w[l].push({'gtm.start':\n",
      "\t\t\t\t\t\tnew Date().getTime(),event:'gtm.js'});var f=d.getElementsByTagName(s)[0],\n",
      "\t\t\t\t\tj=d.createElement(s),dl=l!='dataLayer'?'&l='+l:'';j.async=true;j.src=\n",
      "\t\t\t\t\t'https://www.googletagmanager.com/gtm.js?id='+i+dl\n",
      "\t\t\t\t\t\t\t\t\t    ;f.parentNode.insertBefore(j,f);\n",
      "\t\t\t\t    })(window,document,'script','dataLayer','GTM-P3S238');</script>\n",
      "\t\t\t<!-- End Google Tag Manager -->\n",
      "\t<title>Mieszkania Kraków na sprzedaż, wynajem - Sprzedajemy.pl</title><meta http-equiv=\"Content-Type\" content=\"text/html; charset=UTF-8\" >\n",
      "<meta http-equiv=\"X-UA-Compatible\" content=\"IE=edge\" >\n",
      "<meta name=\"description\" content=\"Ogłoszenia o tematyce:  w kategorii Mieszkania - Kupuj i sprzedawaj rzeczy używane i nowe w kategorii Mieszkania na Sprzedajemy.pl\" >\n",
      "<meta property=\"og:title\" content=\"Mieszkania Kraków na sprzedaż, wynajem - Sprzedajemy.pl\" >\n",
      "<meta property=\"og:type\" content=\"website\" >\n",
      "<meta property=\"og:image\" content=\"https://thumbs.img-sprzedajemy.pl/facebook/sprzedajemy.pl.png\" >\n",
      "<meta property=\"og:image:width\" content=\"200\" >\n",
      "<meta property=\"og:image:height\" content=\"200\" >\n",
      "<meta property=\"og:url\" content=\"https://sprzedajemy.pl/krakow/nieruchomosci/mieszkania\" >\n",
      "<meta property=\"og:site_name\" content=\"Sprzedajemy.pl\" >\n",
      "<meta property=\"fb:app_id\" content=\"173258269367442\" >\n",
      "<meta property=\"og:description\" content=\"Ogłoszenia o tematyce:  w kategorii Mieszkania - Kupuj i sprzedawaj rzeczy używane i nowe w kategorii Mieszkania na Sprzedajemy.pl\" >\n",
      "<meta name=\"robots\" content=\"noindex, follow\" >\t\t<script  async=\"async\" src=\"https://static.criteo.net/js/ld/publishertag.js\"></script>\n",
      "        <script  async=\"async\" src=\"https://ap.lijit.com/www/sovrn_beacon_standalone/sovrn_standalone_beacon.js?iid=13417409&amp;uid=sprzedajemy\" id=\"sBeacon\"></script>\n",
      "\t\t<script  async=\"async\" src=\"https://securepuba\n",
      "Titles: ['Nowoczesne, wykończone, z garażem i balkonem', '2 lub 3 pokoje,62m2,balkon, Widok na Wawel', 'Kraków Bronowice Stawowa 168 / 60m2 3 POK/ 22,5 m2 taras/ BEZ POŚREDNIKÓW', 'Kraków, Stare Miasto sprzedaż/zamiana', 'Wyjątkowe 2 mieszkania w 1, gotowe do wprowadzenia, po remoncie', 'Mieszkanie z ogródkiem Zakrzówek', 'Strych do adaptacji, Błonia, ul. Filarecka', 'Mistrzejowice - dwupokojowe z jasną kuchnią,balkon', 'Mieszkanie 1 pokojowe z balkonem, blok 2000r', 'Ruczaj - dwupokojowe z aneksem kuchennym, 2002r.', 'Olsza - 62 m2 + 2 tarasy, blisko centrum', 'Apartament, 2 pokoje, jadalnia, garaż,Krowodrza', '2 pokoje,garaż,wysoki standard,ul.Rakowicka,ENG', 'Mieszkanie Kraków Rydlówka 27.42m2 3 pokoje', 'Ogłoszenie mieszkanie Kraków Rydlówka 27.42m2 2 pokoje', 'Sprzedam mieszkanie Kraków Rydlówka 27.42m2 3 pokoje', 'Mieszkanie 27.42m2 3 pokoje Kraków Rydlówka', 'Mieszkanie 96.9m2 4 pokoje Kraków Armii Krajowej - okolice', 'Mieszkanie 27.42m2 3 pokoje Kraków Rydlówka', 'Mieszkanie Kraków Nowohucka 33m2 2 pokojowe', 'Sprzedaż mieszkania 27.42m2 3 pokoje Kraków', 'Mieszkanie Kraków 84.55m2 4 pokoje', 'Ogłoszenie mieszkanie Kraków Armii Krajowej - okolice 67.99m2 3-pokojowe', 'Mieszkanie 27.42m2 3 pokoje Kraków', 'Mieszkanie 67.32m2 4 pokojowe Kraków', 'Mieszkanie do wynajęcia jednopokojowe 36m', 'Mieszkanie Kraków Rydlówka 27.42m2 3 pok', 'Oferta sprzedaży mieszkania Kraków Rydlówka 27.42m2 3-pok', 'Mieszkanie 27.42m2 3 pokoje Kraków', 'Mieszkanie Kraków 45.63m2 2-pok', 'Mieszkanie 27.42m2 3-pokojowe Kraków Rydlówka', 'Oferta sprzedaży mieszkania Kraków Bunscha 83.49m2', 'Mieszkanie Kraków Rydlówka 27.42m2 2 pok', 'Oferta sprzedaży mieszkania 27.42m2 3 pokoje Kraków', 'Oferta sprzedaży mieszkania Kraków Rydlówka 27.42 metry 3-pokojowe', 'Oferta sprzedaży mieszkania 27.42m2 2 pok Kraków Rydlówka', 'Sprzedaż mieszkania 56.44m2 2 pokoje Kraków Armii Krajowej - okolice', 'Mieszkanie Kraków Kamieńskiego - okolice 82.12m2 4-pokojowe', 'Wyjatkowe mieszkanie z ogrodkiem odbior IIIkw.2025', 'Mieszkanie 74.57m2 4 pok Kraków Henryka Pachońskiego', 'Mieszkanie Kraków 27.42m2 2-pokojowe', 'Mieszkanie Kraków Dolna 100m2 3 pokojowe', 'Mieszkanie Kraków Juliusza Lea 101.6m2 3 pokoje', 'Mieszkanie do sprzedania Kraków Henryka Pachońskiego 69.02m2 4 pok', 'Ogłoszenie mieszkanie 84.56m2 4 pokoje Kraków', 'Mieszkanie 85m2 3-pok Kraków', 'Mieszkanie Kraków Henryka Pachońskiego 70.63 metry 4 pokoje', 'Mieszkanie 40m2 2 pok Kraków Karmelicka', 'Oferta sprzedaży mieszkania Kraków 36m2 2-pokojowe', 'Oferta sprzedaży mieszkania Kraków Kapelanka 55m2 2-pokojowe', 'Mieszkanie do sprzedania 32.64m2 1 pokój Kraków Grzegórzecka', 'Oferta sprzedaży mieszkania Kraków Henryka Pachońskiego 70.64m2 4-pok', 'Mieszkanie 33m2 2 pok Kraków Nowohucka', 'Mieszkanie do sprzedania Kraków Kazimierza Wielkiego 36m2 2 pokojowe', 'Mieszkanie do sprzedania 30m2 2 pokojowe Kraków', 'Mieszkanie 70.63 metry 4 pokojowe Kraków Henryka Pachońskiego', 'Mieszkanie Kraków 68.3m2', 'Mieszkanie 30m2 2 pokoje Kraków Nowohucka', '3-pokojowe na Strzelców na sprzedaż!', '2-pokojowe na Kraszewskiego na sprzedaż!']\n",
      "60\n",
      "Prices: ['990 000 zł', '1 590 000 zł', '1 137 500 zł', '2 254 000 zł', '1 185 000 zł', '470 000 zł', '379 999 zł', '599 000 zł', '435 000 zł', '669 000 zł', '819 000 zł', '3 800 zł', '3 000 zł', '1 096 695 zł', '993 560 zł', '919 080 zł', '1 091 400 zł', '2 003 346 zł', '1 077 586 zł', '3 000 zł', '1 109 909 zł', '1 287 350 zł', '1 254 416 zł', '1 114 137 zł', '1 050 000 zł', '1 900 zł', '1 051 407 zł', '907 270 zł', '1 002 885 zł', '675 000 zł', '1 081 157 zł', '999 900 zł', '900 610 zł', '1 115 188 zł', '1 109 909 zł', '865 164 zł', '1 015 920 zł', '1 227 738 zł', '735 000 zł', '932 125 zł', '857 556 zł', '3 300 zł', '1 790 000 zł', '855 848 zł', '1 272 461 zł', '1 649 000 zł', '868 749 zł', '2 500 zł', '735 000 zł', '935 000 zł', '869 000 zł', '868 872 zł', '650 000 zł', '759 000 zł', '600 000 zł', '868 749 zł', '930 000 zł', '2 500 zł', '625 000 zł', '600 000 zł']\n",
      "60\n"
     ]
    }
   ],
   "source": [
    "import requests\n",
    "from bs4 import BeautifulSoup\n",
    "import pandas as pd\n",
    "import os\n",
    "\n",
    "url = \"https://sprzedajemy.pl/krakow/nieruchomosci/mieszkania?offset=0&items_per_page=60\"\n",
    "\n",
    "headers = {\n",
    "    \"User-Agent\": \"Mozilla/5.0 (Windows NT 10.0; Win64; x64) AppleWebKit/537.36 (KHTML, like Gecko) Chrome/58.0.3029.110 Safari/537.36\",\n",
    "    \"Accept\": \"text/html,application/xhtml+xml,application/xml;q=0.9,image/webp,image/apng,*/*;q=0.8\",\n",
    "    \"Accept-Encoding\": \"gzip, deflate, br\",\n",
    "    \"Accept-Language\": \"en-US,en;q=0.9,pl;q=0.8\",\n",
    "    \"Connection\": \"keep-alive\"\n",
    "}\n",
    "\n",
    "response = requests.get(url, headers=headers)\n",
    "response = requests.get(url, headers=headers)\n",
    "\n",
    "# Debugowanie odpowiedzi\n",
    "print(f\"Status Code: {response.status_code}\")\n",
    "print(f\"Response Headers: {response.headers}\")\n",
    "print(f\"Response Text (first 2000 chars): {response.text[:2000]}\")\n",
    "\n",
    "# Jeśli odpowiedź jest poprawna, wykonaj webscraping\n",
    "if response.status_code == 200:\n",
    "    soup = BeautifulSoup(response.content, \"html.parser\")\n",
    "\n",
    "    # Pobieranie ofert mieszkań\n",
    "    titles = [h2.a.text.strip() for h2 in soup.find_all(\"h2\", class_=\"title\") if h2.a]\n",
    "    prices = [p.text.replace(\"\\xa0\", \" \").strip() for p in soup.find_all(\"span\", class_=\"price\")]\n",
    "\n",
    "    print(\"Titles:\", titles)\n",
    "    print(len(titles))\n",
    "    print(\"Prices:\", prices)\n",
    "    print(len(prices))\n",
    "\n",
    "    df = pd.DataFrame({\"Title\": titles, \"Price\": prices})\n",
    "\n",
    "    # Dopisanie do pliku CSV\n",
    "    df.to_csv(\"scraped_data.csv\", mode='a', header=not os.path.exists('scraped_data.csv'), index=False)\n",
    "else:\n",
    "    print(\"Failed to retrieve data.\")\n"
   ]
  }
 ],
 "metadata": {
  "colab": {
   "provenance": []
  },
  "kernelspec": {
   "display_name": "Python 3",
   "name": "python3"
  },
  "language_info": {
   "codemirror_mode": {
    "name": "ipython",
    "version": 3
   },
   "file_extension": ".py",
   "mimetype": "text/x-python",
   "name": "python",
   "nbconvert_exporter": "python",
   "pygments_lexer": "ipython3",
   "version": "3.9.21"
  },
  "papermill": {
   "default_parameters": {},
   "duration": 3.156241,
   "end_time": "2025-04-02T07:49:18.256291",
   "environment_variables": {},
   "exception": null,
   "input_path": "nb.ipynb",
   "output_path": "nbo.ipynb",
   "parameters": {},
   "start_time": "2025-04-02T07:49:15.100050",
   "version": "2.6.0"
  }
 },
 "nbformat": 4,
 "nbformat_minor": 5
}