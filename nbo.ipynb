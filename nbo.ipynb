{
 "cells": [
  {
   "cell_type": "code",
   "execution_count": 1,
   "id": "3cdc276a",
   "metadata": {
    "colab": {
     "base_uri": "https://localhost:8080/"
    },
    "execution": {
     "iopub.execute_input": "2025-10-31T19:16:24.492635Z",
     "iopub.status.busy": "2025-10-31T19:16:24.492405Z",
     "iopub.status.idle": "2025-10-31T19:16:26.739951Z",
     "shell.execute_reply": "2025-10-31T19:16:26.739229Z"
    },
    "id": "5pYh4c8j1w43",
    "outputId": "8a0dca73-64e5-4f0d-c493-2c5b38392363",
    "papermill": {
     "duration": 2.250862,
     "end_time": "2025-10-31T19:16:26.741033",
     "exception": false,
     "start_time": "2025-10-31T19:16:24.490171",
     "status": "completed"
    },
    "tags": []
   },
   "outputs": [
    {
     "name": "stdout",
     "output_type": "stream",
     "text": [
      "Status Code: 200\n",
      "Response Headers: {'Server': 'nginx', 'Date': 'Fri, 31 Oct 2025 19:16:26 GMT', 'Content-Type': 'text/html; charset=UTF-8', 'Transfer-Encoding': 'chunked', 'Vary': 'Accept-Encoding, User-Agent', 'Set-Cookie': 'FRSPSID=3smq0tbuf30frqcdhb9l9vu0b3; path=/; domain=.sprzedajemy.pl; secure; HttpOnly, _items_per_page__offer_list=60; expires=Sun, 30-Nov-2025 19:16:26 GMT; Max-Age=2592000; path=/; domain=.sprzedajemy.pl; secure; httponly, observed_id=117137445969050b0a4da529164500025950151670; expires=Wed, 31-Oct-2125 19:16:26 GMT; Max-Age=3155673600; path=/; domain=.sprzedajemy.pl; secure; httponly', 'Expires': 'Thu, 19 Nov 1981 08:52:00 GMT', 'Cache-Control': 'no-store, no-cache, must-revalidate, post-check=0, pre-check=0', 'Pragma': 'no-cache', 'Content-Encoding': 'gzip'}\n",
      "Response Text (first 2000 chars): <!DOCTYPE html><html xmlns=\"http://www.w3.org/1999/xhtml\" xml:lang=\"pl\" lang=\"pl\" class=\"no-js\" >\n",
      "<head>\n",
      "\t\t\t<!-- Google Tag Manager -->\n",
      "\t\t\t<script>(function(w,d,s,l,i){w[l]=w[l]||[];w[l].push({'gtm.start':\n",
      "\t\t\t\t\t\tnew Date().getTime(),event:'gtm.js'});var f=d.getElementsByTagName(s)[0],\n",
      "\t\t\t\t\tj=d.createElement(s),dl=l!='dataLayer'?'&l='+l:'';j.async=true;j.src=\n",
      "\t\t\t\t\t'https://www.googletagmanager.com/gtm.js?id='+i+dl\n",
      "\t\t\t\t\t\t\t\t\t    ;f.parentNode.insertBefore(j,f);\n",
      "\t\t\t\t    })(window,document,'script','dataLayer','GTM-P3S238');</script>\n",
      "\t\t\t<!-- End Google Tag Manager -->\n",
      "\t<title>Mieszkania Kraków na sprzedaż, wynajem - Sprzedajemy.pl</title><meta http-equiv=\"Content-Type\" content=\"text/html; charset=UTF-8\" >\n",
      "<meta http-equiv=\"X-UA-Compatible\" content=\"IE=edge\" >\n",
      "<meta name=\"description\" content=\"Ogłoszenia o tematyce:  w kategorii Mieszkania - Kupuj i sprzedawaj rzeczy używane i nowe w kategorii Mieszkania na Sprzedajemy.pl\" >\n",
      "<meta property=\"og:title\" content=\"Mieszkania Kraków na sprzedaż, wynajem - Sprzedajemy.pl\" >\n",
      "<meta property=\"og:type\" content=\"website\" >\n",
      "<meta property=\"og:image\" content=\"https://thumbs.img-sprzedajemy.pl/facebook/sprzedajemy.pl.png\" >\n",
      "<meta property=\"og:image:width\" content=\"200\" >\n",
      "<meta property=\"og:image:height\" content=\"200\" >\n",
      "<meta property=\"og:url\" content=\"https://sprzedajemy.pl/krakow/nieruchomosci/mieszkania\" >\n",
      "<meta property=\"og:site_name\" content=\"Sprzedajemy.pl\" >\n",
      "<meta property=\"fb:app_id\" content=\"173258269367442\" >\n",
      "<meta property=\"og:description\" content=\"Ogłoszenia o tematyce:  w kategorii Mieszkania - Kupuj i sprzedawaj rzeczy używane i nowe w kategorii Mieszkania na Sprzedajemy.pl\" >\n",
      "<meta name=\"robots\" content=\"noindex, follow\" >\t\t<script  async=\"async\" src=\"https://static.criteo.net/js/ld/publishertag.js\"></script>\n",
      "        <script  async=\"async\" src=\"https://ap.lijit.com/www/sovrn_beacon_standalone/sovrn_standalone_beacon.js?iid=13417409&amp;uid=sprzedajemy\" id=\"sBeacon\"></script>\n",
      "\t\t<script  async=\"async\" src=\"https://securepuba\n",
      "Titles: ['PILNE dwupokojowe mieszkanie (balkon, piwnica) os. Dywizjonu 303, 19C Krak…', 'Mieszkanie z widokiem na góry', 'Grzegorzki mieszkanie na sprzedaż 30 m', 'Oferta sprzedaży mieszkania 43.35m2 2 pokojowe Kraków', 'Oferta sprzedaży mieszkania 50.12m2 2 pok Kraków', 'Oferta sprzedaży mieszkania 65.16m2 4 pokoje Kraków Kantrowicka', 'Mieszkanie 35.25m2 2 pokoje Kraków 29 listopada - okolice', 'Oferta sprzedaży mieszkania Kraków 71.45m2 4 pokoje', 'Oferta sprzedaży mieszkania Kraków 58.95m2 3 pokojowe', 'Do sprzedaży mieszkanie 41.06 metrów Kraków Na Błonie', 'Mieszkanie 124.37m2 4 pokoje Kraków Podłużna - okolice', 'Oferta sprzedaży mieszkania Kraków 74.67m2 4 pokoje', 'Mieszkanie Kraków 51.54m2 3-pokojowe', 'Mieszkanie 60.05m2 4 pokoje Kraków', 'Mieszkanie na sprzedaż 96.96m2 3-pok Kraków Na Błonie', 'Mieszkanie Kraków 29 listopada - okolice 35.26m2 2-pokojowe', 'Mieszkanie 51.42m2 3-pok Kraków Kantrowicka', 'Mieszkanie 35.44 metry 2-pokojowe Kraków 29 listopada - okolice', 'Oferta sprzedaży mieszkania Kraków Wadowicka 43.35m2 2-pok', 'Mieszkanie 64.4m2 Kraków Wadowicka', 'Mieszkanie 36.09m2 2-pokojowe Kraków Kantrowicka', 'Mieszkanie 65.16m2 4 pokoje Kraków Kantrowicka', 'Mieszkanie 72.4m2 3 pokoje Kraków Babińskiego', 'Sprzedaż mieszkania 62.46m2 3 pokoje Kraków Wadowicka', 'Oferta sprzedaży mieszkania 37.8m2 2 pokoje Kraków Na Błonie', 'Mieszkanie 42.2 metry 2 pokoje Kraków Wadowicka', 'Nowoczesne dwupoziomowe mieszkanie', 'Mieszkanie 81.22m 4-pok Kraków Tomickiego', 'Mieszkanie 52.32m2 3 pokojowe Kraków', 'Mieszkanie Kraków Kantrowicka 34.79 metrów 2 pokoje', 'Ogłoszenie mieszkanie Kraków Pękowicka 52.07m 3 pokojowe', 'Do sprzedaży mieszkanie Kraków Na Błonie 57.11m2 3-pokojowe', 'Ogłoszenie mieszkanie 33.25m 1 pokój Kraków Babińskiego', 'Mieszkanie 37.57m2 2 pokoje Kraków Na Błonie', 'Mieszkanie Kraków Babińskiego 46.66 metrów 2-pokojowe', 'Mieszkanie 64.26m2 3 pokoje Kraków', 'Mieszkanie Kraków 36.09m2', 'Oferta sprzedaży mieszkania 63.45m2 3-pokojowe Kraków Wadowicka', 'Sprzedaż mieszkania Kraków Lubomirskiego 23.3 metry 1-pokojowe', 'Oferta sprzedaży mieszkania Kraków Kantrowicka 36.09m2 2 pokojowe', 'Bezpośrednio Jasne 2 pokoje Mieszkanie Centrum Ogrzewanie Parking Komunika…', 'Mieszkanie Kraków Wadowicka 83.1m2 4 pok', 'Oferta sprzedaży mieszkania Kraków Wadowicka 43.35m2 2 pokoje', 'Oferta sprzedaży mieszkania 35.12m2 2-pokojowe Kraków', 'Mieszkanie Kraków Na Błonie 52.24m2 2 pokoje', 'Oferta sprzedaży mieszkania 62.82m2 3 pokoje Kraków Pękowicka', 'Mieszkanie 64.26m2 3 pok Kraków Wadowicka', 'Mieszkanie Kraków Kantrowicka 34.79 metrów', 'Oferta sprzedaży mieszkania Kraków Babińskiego 72.4m2 3-pokojowe', 'Mieszkanie Kraków Pękowicka 26.92m2 1 pokój', 'Mieszkanie Kraków Babińskiego 72.4m2 3 pokoje', 'Mieszkanie 50.46m2 2-pokojowe Kraków Stefana Banacha', 'Oferta sprzedaży mieszkania 32.79m2 Kraków', 'Oferta sprzedaży mieszkania 52.19m2 3-pokojowe Kraków', 'Mieszkanie 83.1m2 4-pok Kraków Wadowicka', 'Mieszkanie do sprzedania Kraków 39.29m2 2 pok', 'Mieszkanie sprzedam 37.49 metrów 2-pokojowe Kraków', 'Mieszkanie Kraków 38.37m2 2 pok', 'Mieszkanie 72.4m2 Kraków Babińskiego', 'Mieszkanie Kraków Kantrowicka 36.09m']\n",
      "60\n",
      "Prices: ['590 000 zł', '265 000 zł', '549 000 zł', '788 970 zł', '830 000 zł', '773 775 zł', '670 057 zł', '885 980 zł', '1 055 912 zł', '757 646 zł', '2 176 475 zł', '1 177 000 zł', '670 020 zł', '984 820 zł', '1 639 981 zł', '657 206 zł', '635 987 zł', '633 549 zł', '806 310 zł', '1 101 240 zł', '505 260 zł', '835 677 zł', '1 245 280 zł', '1 068 066 zł', '726 268 zł', '725 840 zł', '4 200 zł', '990 000 zł', '855 432 zł', '495 757 zł', '856 551 zł', '1 058 305 zł', '628 425 zł', '735 230 zł', '858 544 zł', '1 111 698 zł', '505 260 zł', '1 053 270 zł', '518 000 zł', '505 260 zł', '3 600 zł', '1 296 360 zł', '758 625 zł', '600 552 zł', '877 486 zł', '890 473 zł', '1 098 846 zł', '504 455 zł', '1 194 600 zł', '469 754 zł', '1 245 280 zł', '799 000 zł', '619 731 zł', '748 926 zł', '1 312 980 zł', '624 711 zł', '595 754 zł', '646 457 zł', '1 194 600 zł', '541 350 zł']\n",
      "60\n"
     ]
    }
   ],
   "source": [
    "import requests\n",
    "from bs4 import BeautifulSoup\n",
    "import pandas as pd\n",
    "import os\n",
    "\n",
    "url = \"https://sprzedajemy.pl/krakow/nieruchomosci/mieszkania?offset=0&items_per_page=60\"\n",
    "\n",
    "headers = {\n",
    "    \"User-Agent\": \"Mozilla/5.0 (Windows NT 10.0; Win64; x64) AppleWebKit/537.36 (KHTML, like Gecko) Chrome/58.0.3029.110 Safari/537.36\",\n",
    "    \"Accept\": \"text/html,application/xhtml+xml,application/xml;q=0.9,image/webp,image/apng,*/*;q=0.8\",\n",
    "    \"Accept-Encoding\": \"gzip, deflate, br\",\n",
    "    \"Accept-Language\": \"en-US,en;q=0.9,pl;q=0.8\",\n",
    "    \"Connection\": \"keep-alive\"\n",
    "}\n",
    "\n",
    "response = requests.get(url, headers=headers)\n",
    "response = requests.get(url, headers=headers)\n",
    "\n",
    "# Debugowanie odpowiedzi\n",
    "print(f\"Status Code: {response.status_code}\")\n",
    "print(f\"Response Headers: {response.headers}\")\n",
    "print(f\"Response Text (first 2000 chars): {response.text[:2000]}\")\n",
    "\n",
    "# Jeśli odpowiedź jest poprawna, wykonaj webscraping\n",
    "if response.status_code == 200:\n",
    "    soup = BeautifulSoup(response.content, \"html.parser\")\n",
    "\n",
    "    # Pobieranie ofert mieszkań\n",
    "    titles = [h2.a.text.strip() for h2 in soup.find_all(\"h2\", class_=\"title\") if h2.a]\n",
    "    prices = [p.text.replace(\"\\xa0\", \" \").strip() for p in soup.find_all(\"span\", class_=\"price\")]\n",
    "\n",
    "    print(\"Titles:\", titles)\n",
    "    print(len(titles))\n",
    "    print(\"Prices:\", prices)\n",
    "    print(len(prices))\n",
    "\n",
    "    df = pd.DataFrame({\"Title\": titles, \"Price\": prices})\n",
    "\n",
    "    # Dopisanie do pliku CSV\n",
    "    df.to_csv(\"scraped_data.csv\", mode='a', header=not os.path.exists('scraped_data.csv'), index=False)\n",
    "else:\n",
    "    print(\"Failed to retrieve data.\")\n"
   ]
  }
 ],
 "metadata": {
  "colab": {
   "provenance": []
  },
  "kernelspec": {
   "display_name": "Python 3",
   "name": "python3"
  },
  "language_info": {
   "codemirror_mode": {
    "name": "ipython",
    "version": 3
   },
   "file_extension": ".py",
   "mimetype": "text/x-python",
   "name": "python",
   "nbconvert_exporter": "python",
   "pygments_lexer": "ipython3",
   "version": "3.9.24"
  },
  "papermill": {
   "default_parameters": {},
   "duration": 3.424372,
   "end_time": "2025-10-31T19:16:26.958279",
   "environment_variables": {},
   "exception": null,
   "input_path": "nb.ipynb",
   "output_path": "nbo.ipynb",
   "parameters": {},
   "start_time": "2025-10-31T19:16:23.533907",
   "version": "2.6.0"
  }
 },
 "nbformat": 4,
 "nbformat_minor": 5
}