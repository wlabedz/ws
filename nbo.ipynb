{
 "cells": [
  {
   "cell_type": "code",
   "execution_count": 1,
   "id": "b08cbb12",
   "metadata": {
    "colab": {
     "base_uri": "https://localhost:8080/"
    },
    "execution": {
     "iopub.execute_input": "2025-09-23T08:36:42.983032Z",
     "iopub.status.busy": "2025-09-23T08:36:42.982768Z",
     "iopub.status.idle": "2025-09-23T08:36:45.317464Z",
     "shell.execute_reply": "2025-09-23T08:36:45.316707Z"
    },
    "id": "5pYh4c8j1w43",
    "outputId": "8a0dca73-64e5-4f0d-c493-2c5b38392363",
    "papermill": {
     "duration": 2.338416,
     "end_time": "2025-09-23T08:36:45.318533",
     "exception": false,
     "start_time": "2025-09-23T08:36:42.980117",
     "status": "completed"
    },
    "tags": []
   },
   "outputs": [
    {
     "name": "stdout",
     "output_type": "stream",
     "text": [
      "Status Code: 200\n",
      "Response Headers: {'Server': 'nginx', 'Date': 'Tue, 23 Sep 2025 08:36:44 GMT', 'Content-Type': 'text/html; charset=UTF-8', 'Transfer-Encoding': 'chunked', 'Vary': 'Accept-Encoding, User-Agent', 'Set-Cookie': 'FRSPSID=le9g3hves3qbn8pdu1kjj9jis3; path=/; domain=.sprzedajemy.pl; secure; HttpOnly, _items_per_page__offer_list=60; expires=Thu, 23-Oct-2025 08:36:44 GMT; Max-Age=2592000; path=/; domain=.sprzedajemy.pl; secure; httponly, observed_id=31530732068d25c1cddc0e521990787448229763; expires=Sun, 23-Sep-2125 09:36:44 GMT; Max-Age=3155677200; path=/; domain=.sprzedajemy.pl; secure; httponly', 'Expires': 'Thu, 19 Nov 1981 08:52:00 GMT', 'Cache-Control': 'no-store, no-cache, must-revalidate, post-check=0, pre-check=0', 'Pragma': 'no-cache', 'Content-Encoding': 'gzip'}\n",
      "Response Text (first 2000 chars): <!DOCTYPE html><html xmlns=\"http://www.w3.org/1999/xhtml\" xml:lang=\"pl\" lang=\"pl\" class=\"no-js\" >\n",
      "<head>\n",
      "\t\t\t<!-- Google Tag Manager -->\n",
      "\t\t\t<script>(function(w,d,s,l,i){w[l]=w[l]||[];w[l].push({'gtm.start':\n",
      "\t\t\t\t\t\tnew Date().getTime(),event:'gtm.js'});var f=d.getElementsByTagName(s)[0],\n",
      "\t\t\t\t\tj=d.createElement(s),dl=l!='dataLayer'?'&l='+l:'';j.async=true;j.src=\n",
      "\t\t\t\t\t'https://www.googletagmanager.com/gtm.js?id='+i+dl\n",
      "\t\t\t\t\t\t\t\t\t    ;f.parentNode.insertBefore(j,f);\n",
      "\t\t\t\t    })(window,document,'script','dataLayer','GTM-P3S238');</script>\n",
      "\t\t\t<!-- End Google Tag Manager -->\n",
      "\t<title>Mieszkania Kraków na sprzedaż, wynajem - Sprzedajemy.pl</title><meta http-equiv=\"Content-Type\" content=\"text/html; charset=UTF-8\" >\n",
      "<meta http-equiv=\"X-UA-Compatible\" content=\"IE=edge\" >\n",
      "<meta name=\"description\" content=\"Ogłoszenia o tematyce:  w kategorii Mieszkania - Kupuj i sprzedawaj rzeczy używane i nowe w kategorii Mieszkania na Sprzedajemy.pl\" >\n",
      "<meta property=\"og:title\" content=\"Mieszkania Kraków na sprzedaż, wynajem - Sprzedajemy.pl\" >\n",
      "<meta property=\"og:type\" content=\"website\" >\n",
      "<meta property=\"og:image\" content=\"https://thumbs.img-sprzedajemy.pl/facebook/sprzedajemy.pl.png\" >\n",
      "<meta property=\"og:image:width\" content=\"200\" >\n",
      "<meta property=\"og:image:height\" content=\"200\" >\n",
      "<meta property=\"og:url\" content=\"https://sprzedajemy.pl/krakow/nieruchomosci/mieszkania\" >\n",
      "<meta property=\"og:site_name\" content=\"Sprzedajemy.pl\" >\n",
      "<meta property=\"fb:app_id\" content=\"173258269367442\" >\n",
      "<meta property=\"og:description\" content=\"Ogłoszenia o tematyce:  w kategorii Mieszkania - Kupuj i sprzedawaj rzeczy używane i nowe w kategorii Mieszkania na Sprzedajemy.pl\" >\n",
      "<meta name=\"robots\" content=\"noindex, follow\" >\t\t<script  async=\"async\" src=\"https://static.criteo.net/js/ld/publishertag.js\"></script>\n",
      "        <script  async=\"async\" src=\"https://ap.lijit.com/www/sovrn_beacon_standalone/sovrn_standalone_beacon.js?iid=13417409&amp;uid=sprzedajemy\" id=\"sBeacon\"></script>\n",
      "\t\t<script  async=\"async\" src=\"https://securepuba\n",
      "Titles: ['Kraków, Stare Miasto sprzedaż/zamiana', 'Mieszkanie z widokiem na góry', 'Stylowy lokal na parterze przy Krowoderskiej', 'Podedworze 13', 'Wyjątkowe mieszkanie z widokiem na klasztor w Tyńcu i panoramę Tatr', 'Stylowy apartament z widokiem na panoramę Krakowa - od właściciela', 'Nowoczesny apartament z panoramicznym widokiem - od właściciela', 'Wyjątkowy lokal przy ul. Krowoderskiej z widokiem na stronę ogrodową', 'Dwa pokoje - stare miasto - Do wejścia - Własność', 'Sprzedam dwupokojowe mieszkanie os. Dywizjonu 303, 19C Kraków', 'Ogłoszenie mieszkanie 51.92m2 2 pok Kraków Węgierska', 'Mieszkanie Kraków 34m2 2 pok', 'Oferta sprzedaży mieszkania 49m2 3 pokojowe Kraków os. Złotego Wieku', 'Sprzedamy wyjątkowe mieszkanie na urokliwym osiedlu Kliny. :)', 'Mieszkanie Ruczaj Park 73m', 'Apartament, 2 pokoje, jadalnia, garaż,Krowodrza', 'Mieszkanie z garażem i komórką lokatorską', 'Mieszkanie 3-pokojowe na sprzedaż', 'Sprzedaż mieszkania Kraków Pędzichów 39m2 2-pok', 'Mieszkanie z garażem i komórką lokatorską', 'Mieszkanie 3 pokojowe /64,3 m2 / w  super lokalizacji - od właściciela', 'Sprzedaż mieszkania Kraków 54.43m2 2 pokojowe', 'Do wynajęcia mieszkanie 55m2 3-pok Kraków', 'Mieszkanie sprzedam 54.98m2 3 pokoje Kraków Republiki Korczakowskiej', 'Mieszkanie do sprzedania 38.93m2 1 pokojowe Kraków', 'Mieszkanie dwupokojowe 52,7m2 na Lipińskiego, Ruczaj-Zaborze Kraków, od wł…', 'Mieszkanie 50m2 2-pok Kraków prof. Michała Bobrzyńskiego', 'Mieszkanie 43.02m2 2-pok Kraków Kołowa', 'Mieszkanie 62m2 3 pokojowe Kraków Duża Góra', 'Ogłoszenie mieszkanie 46.02m2 2 pokojowe Kraków os. Avia', 'Mieszkanie Kraków Krakowska 77.24m2 3 pokoje', 'Sprzedam mieszkanie Kraków dr. Jana Piltza 47.9m2', 'Mieszkanie sprzedam Kraków Młyńska 48.88m2 2 pokoje', 'Sprzedam mieszkanie Kraków Krowoderskich Zuchów 64m2 4 pokojowe', 'Mieszkanie do sprzedania Kraków Osiedle na Wzgórzach 34m2 1-pokojowe', 'Mieszkanie 48.96 metrów 2 pokojowe Kraków', 'Mieszkanie 91.3m2 4 pokojowe Kraków', 'Mieszkanie Kraków płk. Francesco Nullo 75m2 3 pokoje', 'Mieszkanie Kraków Radzikowskiego 73m2 3 pokojowe', 'Mieszkanie Kraków 66m2 3 pokoje', 'Oferta wynajmu mieszkania Kraków 51.8m2 3 pok', 'Oferta wynajmu mieszkania Kraków os. Willowe 30.62m2', 'Mieszkanie Kraków Powstańców 46m2 3 pokoje', 'Oferta sprzedaży mieszkania 65.23m2 3 pokojowe Kraków os. Teatralne', 'HIT! 2 pokoje (35 m²) tuż przy AGH! Gotowe do zamieszkania od zaraz!', 'Kawalerka ul. Lea. Bezpośrednio! 0% prowizji! ENG', 'Mieszkanie 68.1m2 3 pokoje Kraków Barska', '2pokoje, oddzielna kuchnia,os.Albertyńskie,Czyżyny', 'Mieszkanie 26.32m2 1-pok Kraków Bratysławska', 'Do wynajęcia mieszkanie jednopokojowe 36m', 'Mieszkanie na wynajem', 'Mieszkanie Os. Avia Kraków, widok na góry', 'Wynajmę mieszkanie 3 pokojowe-Prądnik Biały-A.Vetulaniego-49 m²+garden', 'DWA unikalne mieszkania w sercu Krakowa', '3-pokojowe mieszkanie po remoncie 57m2 Os.Na Stoku', '2-pokojowe mieszkanie 45m2, po remoncie - Na Stoku', 'Sprzedamy wyjątkowe mieszkanie na urokliwym osiedlu Kliny. :)', 'Ogłoszenie mieszkanie 36.34m 2 pokoje Kraków Romanowicza', 'Mieszkanie Kraków 65.5m2 3-pokojowe', 'Kraków 3 pokoje z jasną kuchnią 48,5m2 od zaraz']\n",
      "60\n",
      "Prices: ['2 083 000 zł', '265 000 zł', '1 890 000 zł', '542 000 zł', '779 000 zł', '890 000 zł', '997 000 zł', '1 340 000 zł', '715 155 zł', '635 000 zł', '2 600 zł', '2 500 zł', '555 000 zł', '689 000 zł', '939 046 zł', '3 800 zł', '2 100 zł', '758 000 zł', '700 000 zł', '2 100 zł', '997 000 zł', '675 000 zł', '5 500 zł', '780 000 zł', '709 000 zł', '3 000 zł', '729 000 zł', '2 100 zł', '699 000 zł', '779 000 zł', '1 250 000 zł', '766 300 zł', '528 000 zł', '770 000 zł', '430 000 zł', '750 849 zł', '1 450 000 zł', '4 200 zł', '699 000 zł', '750 000 zł', '2 200 zł', '2 100 zł', '3 000 zł', '759 000 zł', '3 300 zł', '2 400 zł', '1 450 000 zł', '639 999 zł', '469 000 zł', '2 000 zł', '2 500 zł', '998 000 zł', '3 500 zł', '1 490 000 zł', '770 000 zł', '640 000 zł', '689 000 zł', '2 990 zł', '5 400 zł', '639 000 zł']\n",
      "60\n"
     ]
    }
   ],
   "source": [
    "import requests\n",
    "from bs4 import BeautifulSoup\n",
    "import pandas as pd\n",
    "import os\n",
    "\n",
    "url = \"https://sprzedajemy.pl/krakow/nieruchomosci/mieszkania?offset=0&items_per_page=60\"\n",
    "\n",
    "headers = {\n",
    "    \"User-Agent\": \"Mozilla/5.0 (Windows NT 10.0; Win64; x64) AppleWebKit/537.36 (KHTML, like Gecko) Chrome/58.0.3029.110 Safari/537.36\",\n",
    "    \"Accept\": \"text/html,application/xhtml+xml,application/xml;q=0.9,image/webp,image/apng,*/*;q=0.8\",\n",
    "    \"Accept-Encoding\": \"gzip, deflate, br\",\n",
    "    \"Accept-Language\": \"en-US,en;q=0.9,pl;q=0.8\",\n",
    "    \"Connection\": \"keep-alive\"\n",
    "}\n",
    "\n",
    "response = requests.get(url, headers=headers)\n",
    "response = requests.get(url, headers=headers)\n",
    "\n",
    "# Debugowanie odpowiedzi\n",
    "print(f\"Status Code: {response.status_code}\")\n",
    "print(f\"Response Headers: {response.headers}\")\n",
    "print(f\"Response Text (first 2000 chars): {response.text[:2000]}\")\n",
    "\n",
    "# Jeśli odpowiedź jest poprawna, wykonaj webscraping\n",
    "if response.status_code == 200:\n",
    "    soup = BeautifulSoup(response.content, \"html.parser\")\n",
    "\n",
    "    # Pobieranie ofert mieszkań\n",
    "    titles = [h2.a.text.strip() for h2 in soup.find_all(\"h2\", class_=\"title\") if h2.a]\n",
    "    prices = [p.text.replace(\"\\xa0\", \" \").strip() for p in soup.find_all(\"span\", class_=\"price\")]\n",
    "\n",
    "    print(\"Titles:\", titles)\n",
    "    print(len(titles))\n",
    "    print(\"Prices:\", prices)\n",
    "    print(len(prices))\n",
    "\n",
    "    df = pd.DataFrame({\"Title\": titles, \"Price\": prices})\n",
    "\n",
    "    # Dopisanie do pliku CSV\n",
    "    df.to_csv(\"scraped_data.csv\", mode='a', header=not os.path.exists('scraped_data.csv'), index=False)\n",
    "else:\n",
    "    print(\"Failed to retrieve data.\")\n"
   ]
  }
 ],
 "metadata": {
  "colab": {
   "provenance": []
  },
  "kernelspec": {
   "display_name": "Python 3",
   "name": "python3"
  },
  "language_info": {
   "codemirror_mode": {
    "name": "ipython",
    "version": 3
   },
   "file_extension": ".py",
   "mimetype": "text/x-python",
   "name": "python",
   "nbconvert_exporter": "python",
   "pygments_lexer": "ipython3",
   "version": "3.9.23"
  },
  "papermill": {
   "default_parameters": {},
   "duration": 3.496901,
   "end_time": "2025-09-23T08:36:45.535746",
   "environment_variables": {},
   "exception": null,
   "input_path": "nb.ipynb",
   "output_path": "nbo.ipynb",
   "parameters": {},
   "start_time": "2025-09-23T08:36:42.038845",
   "version": "2.6.0"
  }
 },
 "nbformat": 4,
 "nbformat_minor": 5
}