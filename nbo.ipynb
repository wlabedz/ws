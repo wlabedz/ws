{
 "cells": [
  {
   "cell_type": "code",
   "execution_count": 1,
   "id": "af2b3940",
   "metadata": {
    "colab": {
     "base_uri": "https://localhost:8080/"
    },
    "execution": {
     "iopub.execute_input": "2025-03-29T22:43:20.618710Z",
     "iopub.status.busy": "2025-03-29T22:43:20.618084Z",
     "iopub.status.idle": "2025-03-29T22:43:21.316860Z",
     "shell.execute_reply": "2025-03-29T22:43:21.316193Z"
    },
    "id": "5pYh4c8j1w43",
    "outputId": "8a0dca73-64e5-4f0d-c493-2c5b38392363",
    "papermill": {
     "duration": 0.702123,
     "end_time": "2025-03-29T22:43:21.317985",
     "exception": false,
     "start_time": "2025-03-29T22:43:20.615862",
     "status": "completed"
    },
    "tags": []
   },
   "outputs": [
    {
     "name": "stdout",
     "output_type": "stream",
     "text": [
      "done\n",
      "[]\n",
      "[]\n"
     ]
    }
   ],
   "source": [
    "import requests\n",
    "from bs4 import BeautifulSoup\n",
    "import pandas as pd\n",
    "import os\n",
    "\n",
    "url = \"https://www.otodom.pl/pl/wyniki/sprzedaz/mieszkanie,rynek-wtorny/mazowieckie/warszawa/warszawa/warszawa?limit=72\"\n",
    "\n",
    "headers = {\"User-Agent\": \"Mozilla/5.0\"}\n",
    "response = requests.get(url, headers=headers)\n",
    "\n",
    "print('done')\n",
    "\n",
    "soup = BeautifulSoup(response.content, \"html.parser\")\n",
    "\n",
    "# Pobieranie ofert mieszkań\n",
    "titles = [t.text for t in soup.find_all(\"p\", class_=\"css-u3orbr e1g5xnx10\")]\n",
    "\n",
    "prices = [p.text.replace(\"\\xa0\", \" \")  for p in soup.find_all(\"span\", class_=\"css-2bt9f1 evk7nst0\")]\n",
    "\n",
    "print(titles)\n",
    "print(prices)\n",
    "\n",
    "df = pd.DataFrame({\"Title\": titles, \"Price\": prices})\n",
    "\n",
    "df.to_csv(\"scraped_data.csv\", mode='a', header=not os.path.exists('scraped_data.csv'), index=False)\n",
    "\n"
   ]
  }
 ],
 "metadata": {
  "colab": {
   "provenance": []
  },
  "kernelspec": {
   "display_name": "Python 3",
   "name": "python3"
  },
  "language_info": {
   "codemirror_mode": {
    "name": "ipython",
    "version": 3
   },
   "file_extension": ".py",
   "mimetype": "text/x-python",
   "name": "python",
   "nbconvert_exporter": "python",
   "pygments_lexer": "ipython3",
   "version": "3.9.21"
  },
  "papermill": {
   "default_parameters": {},
   "duration": 1.789297,
   "end_time": "2025-03-29T22:43:21.535533",
   "environment_variables": {},
   "exception": null,
   "input_path": "nb.ipynb",
   "output_path": "nbo.ipynb",
   "parameters": {},
   "start_time": "2025-03-29T22:43:19.746236",
   "version": "2.6.0"
  }
 },
 "nbformat": 4,
 "nbformat_minor": 5
}