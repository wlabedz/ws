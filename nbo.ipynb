{
 "cells": [
  {
   "cell_type": "code",
   "execution_count": 1,
   "id": "7f101abb",
   "metadata": {
    "colab": {
     "base_uri": "https://localhost:8080/"
    },
    "execution": {
     "iopub.execute_input": "2025-10-31T16:26:25.712652Z",
     "iopub.status.busy": "2025-10-31T16:26:25.712384Z",
     "iopub.status.idle": "2025-10-31T16:26:28.513590Z",
     "shell.execute_reply": "2025-10-31T16:26:28.512825Z"
    },
    "id": "5pYh4c8j1w43",
    "outputId": "8a0dca73-64e5-4f0d-c493-2c5b38392363",
    "papermill": {
     "duration": 2.804631,
     "end_time": "2025-10-31T16:26:28.514701",
     "exception": false,
     "start_time": "2025-10-31T16:26:25.710070",
     "status": "completed"
    },
    "tags": []
   },
   "outputs": [
    {
     "name": "stdout",
     "output_type": "stream",
     "text": [
      "Status Code: 200\n",
      "Response Headers: {'Server': 'nginx', 'Date': 'Fri, 31 Oct 2025 16:26:28 GMT', 'Content-Type': 'text/html; charset=UTF-8', 'Transfer-Encoding': 'chunked', 'Vary': 'Accept-Encoding, User-Agent', 'Set-Cookie': 'FRSPSID=bp80f7sq7vi2i0pjp3itc5ivf6; path=/; domain=.sprzedajemy.pl; secure; HttpOnly, _items_per_page__offer_list=60; expires=Sun, 30-Nov-2025 16:26:27 GMT; Max-Age=2592000; path=/; domain=.sprzedajemy.pl; secure; httponly, observed_id=5410807226904e334025ac728971996993362536; expires=Wed, 31-Oct-2125 16:26:28 GMT; Max-Age=3155673600; path=/; domain=.sprzedajemy.pl; secure; httponly', 'Expires': 'Thu, 19 Nov 1981 08:52:00 GMT', 'Cache-Control': 'no-store, no-cache, must-revalidate, post-check=0, pre-check=0', 'Pragma': 'no-cache', 'Content-Encoding': 'gzip'}\n",
      "Response Text (first 2000 chars): <!DOCTYPE html><html xmlns=\"http://www.w3.org/1999/xhtml\" xml:lang=\"pl\" lang=\"pl\" class=\"no-js\" >\n",
      "<head>\n",
      "\t\t\t<!-- Google Tag Manager -->\n",
      "\t\t\t<script>(function(w,d,s,l,i){w[l]=w[l]||[];w[l].push({'gtm.start':\n",
      "\t\t\t\t\t\tnew Date().getTime(),event:'gtm.js'});var f=d.getElementsByTagName(s)[0],\n",
      "\t\t\t\t\tj=d.createElement(s),dl=l!='dataLayer'?'&l='+l:'';j.async=true;j.src=\n",
      "\t\t\t\t\t'https://www.googletagmanager.com/gtm.js?id='+i+dl\n",
      "\t\t\t\t\t\t\t\t\t    ;f.parentNode.insertBefore(j,f);\n",
      "\t\t\t\t    })(window,document,'script','dataLayer','GTM-P3S238');</script>\n",
      "\t\t\t<!-- End Google Tag Manager -->\n",
      "\t<title>Mieszkania Kraków na sprzedaż, wynajem - Sprzedajemy.pl</title><meta http-equiv=\"Content-Type\" content=\"text/html; charset=UTF-8\" >\n",
      "<meta http-equiv=\"X-UA-Compatible\" content=\"IE=edge\" >\n",
      "<meta name=\"description\" content=\"Ogłoszenia o tematyce:  w kategorii Mieszkania - Kupuj i sprzedawaj rzeczy używane i nowe w kategorii Mieszkania na Sprzedajemy.pl\" >\n",
      "<meta property=\"og:title\" content=\"Mieszkania Kraków na sprzedaż, wynajem - Sprzedajemy.pl\" >\n",
      "<meta property=\"og:type\" content=\"website\" >\n",
      "<meta property=\"og:image\" content=\"https://thumbs.img-sprzedajemy.pl/facebook/sprzedajemy.pl.png\" >\n",
      "<meta property=\"og:image:width\" content=\"200\" >\n",
      "<meta property=\"og:image:height\" content=\"200\" >\n",
      "<meta property=\"og:url\" content=\"https://sprzedajemy.pl/krakow/nieruchomosci/mieszkania\" >\n",
      "<meta property=\"og:site_name\" content=\"Sprzedajemy.pl\" >\n",
      "<meta property=\"fb:app_id\" content=\"173258269367442\" >\n",
      "<meta property=\"og:description\" content=\"Ogłoszenia o tematyce:  w kategorii Mieszkania - Kupuj i sprzedawaj rzeczy używane i nowe w kategorii Mieszkania na Sprzedajemy.pl\" >\n",
      "<meta name=\"robots\" content=\"noindex, follow\" >\t\t<script  async=\"async\" src=\"https://static.criteo.net/js/ld/publishertag.js\"></script>\n",
      "        <script  async=\"async\" src=\"https://ap.lijit.com/www/sovrn_beacon_standalone/sovrn_standalone_beacon.js?iid=13417409&amp;uid=sprzedajemy\" id=\"sBeacon\"></script>\n",
      "\t\t<script  async=\"async\" src=\"https://securepuba\n",
      "Titles: ['PILNE dwupokojowe mieszkanie (balkon, piwnica) os. Dywizjonu 303, 19C Krak…', 'Mieszkanie z widokiem na góry', 'Grzegorzki mieszkanie na sprzedaż 30 m', 'Ogłoszenie mieszkanie Kraków 31.74m2', 'Do sprzedaży mieszkanie Kraków Olszanicka 151.83m2 7-pokojowe', 'Mieszkanie Kraków 90.48m2 4 pokoje', 'Mieszkanie na sprzedaż Kraków 40.5m2 2 pokoje', 'Mieszkanie 90.38m 4 pokoje Kraków', 'Sprzedaż mieszkania 47.5m2 3 pokoje Kraków Komandosów', 'Mieszkanie 47.43m2 2 pokoje Kraków Wadowicka', 'Ogłoszenie mieszkanie 35.05m2 2 pokoje Kraków Kantrowicka', 'Mieszkanie na sprzedaż 35.25m2 Kraków', 'Mieszkanie Kraków 66.11m2 3-pok', 'Mieszkanie 31.74m 1 pokój Kraków', 'Mieszkanie 66.11m2 2 pokojowe Kraków', 'MIESZKANIE KRAKÓW UL. ŁUŻYCKA 53 PIASKI NOWE', 'Do sprzedaży mieszkanie 46.66m2 2 pokoje Kraków Babińskiego', 'Oferta sprzedaży mieszkania Kraków 83.94m2 3 pokojowe', 'Mieszkanie 61.82m2 3-pok Kraków Wadowicka', 'Mieszkanie 41.35m2 2 pokojowe Kraków', 'Mieszkanie 57.4m2 3 pokojowe Kraków', 'Mieszkanie 49.3m2 2 pokoje Kraków Bratysławska', 'Sprzedam mieszkanie Kraków 37.38m2 2-pokojowe', 'Mieszkanie Kraków 38.11m2 2-pok', 'Mieszkanie Kraków 49.62m2 3 pokoje', 'Mieszkanie 63.9m2 3 pokoje Kraków Na Błonie', 'Mieszkanie do wynajęcia 24.53m2 3 pokoje Kraków', 'Mieszkanie Kraków 45.84m2 2 pokojowe', 'Sprzedam mieszkanie Kraków Kantrowicka 34.79m2 2-pok', 'Mieszkanie 81.34m2 5 pokoi Kraków Wadowicka', 'Mieszkanie 51.54m2 3 pok Kraków', 'Oferta sprzedaży mieszkania 56.47m2 3 pokoje Kraków Na Błonie', 'Mieszkanie na sprzedaż Kraków Wadowicka 70.67m2 4 pokoje', 'Mieszkanie Kraków 29 listopada - okolice 35.25m2 2 pok', 'Mieszkanie 56.89m2 2 pokoje Kraków', 'Do sprzedaży mieszkanie 51m2 Kraków Królowej Jadwigi', 'Sprzedam mieszkanie w systemie TBS', 'Mieszkanie 29.1 metrów 1 pokojowe Kraków Ugorek', '2- pokojowe mieszkanie | K. Kołłątajowskiej | 57m2', 'Mieszkanie Kraków 39m2 2 pok', 'Mieszkanie Kraków Macieja Miechowity 72m2 3 pokoje', 'Wynajem mieszkania Kraków 43.39m2 2 pokoje', 'Wynajem mieszkania 25.32m2 Kraków', 'Mieszkanie Kraków 36.2m2 1-pokojowe', 'Mieszkanie Kraków 58.09m2 3-pokojowe', 'Mieszkanie 20.99m2 1-pokojowe Kraków Kątowa', 'Mieszkanie Kraków 42.4m2 2-pok', 'Mieszkanie Kraków 71.19m2 4-pokojowe', 'Mieszkanie Kraków 34.5m2 1-pok', '3 osobne pokoje - Grzegórzecka centrum 5 min', 'Mieszkanie 62.49m2 3 pokoje Kraków Złocieniowa', 'Mieszkanie Kraków 46.88m2 2-pokojowe', 'Sprzedam dom Kraków Swoszowice Opatkowice południe', 'Oferta sprzedaży mieszkania 51.69m2 3-pok Kraków Józefa Łepkowskiego', 'Podedworze 13', 'Mieszkanie 130m2 Kraków ul. Bielańska 16/2 wynajem', 'Ogłoszenie mieszkanie Kraków 23.1m2 1 pokój', 'Sprzedam mieszkanie Kraków 2pokoje Jerzmanowskiego', 'Nowe mieszkanie 2 pokoje Kraków Prokocim', 'Mieszkanie 56m2 | Rynek Główny | ul. Grodzka']\n",
      "60\n",
      "Prices: ['590 000 zł', '265 000 zł', '549 000 zł', '599 886 zł', '2 383 737 zł', '1 411 488 zł', '565 000 zł', '1 464 156 zł', '660 000 zł', '867 969 zł', '462 707 zł', '700 884 zł', '1 064 371 zł', '615 756 zł', '1 051 149 zł', '695 000 zł', '825 882 zł', '1 502 526 zł', '1 081 850 zł', '630 587 zł', '799 000 zł', '886 000 zł', '737 038 zł', '745 797 zł', '719 490 zł', '1 142 979 zł', '1 990 zł', '848 040 zł', '521 850 zł', '1 203 832 zł', '734 445 zł', '1 034 699 zł', '1 187 256 zł', '645 692 zł', '880 000 zł', '785 000 zł', '169 000 zł', '433 500 zł', '645 000 zł', '764 504 zł', '990 000 zł', '3 000 zł', '1 990 zł', '2 500 zł', '1 076 233 zł', '479 000 zł', '649 000 zł', '1 460 000 zł', '1 900 zł', '3 900 zł', '840 000 zł', '1 950 zł', '1 495 000 zł', '796 026 zł', '542 000 zł', '3 950 zł', '1 900 zł', '779 000 zł', '799 000 zł', '1 060 000 zł']\n",
      "60\n"
     ]
    }
   ],
   "source": [
    "import requests\n",
    "from bs4 import BeautifulSoup\n",
    "import pandas as pd\n",
    "import os\n",
    "\n",
    "url = \"https://sprzedajemy.pl/krakow/nieruchomosci/mieszkania?offset=0&items_per_page=60\"\n",
    "\n",
    "headers = {\n",
    "    \"User-Agent\": \"Mozilla/5.0 (Windows NT 10.0; Win64; x64) AppleWebKit/537.36 (KHTML, like Gecko) Chrome/58.0.3029.110 Safari/537.36\",\n",
    "    \"Accept\": \"text/html,application/xhtml+xml,application/xml;q=0.9,image/webp,image/apng,*/*;q=0.8\",\n",
    "    \"Accept-Encoding\": \"gzip, deflate, br\",\n",
    "    \"Accept-Language\": \"en-US,en;q=0.9,pl;q=0.8\",\n",
    "    \"Connection\": \"keep-alive\"\n",
    "}\n",
    "\n",
    "response = requests.get(url, headers=headers)\n",
    "response = requests.get(url, headers=headers)\n",
    "\n",
    "# Debugowanie odpowiedzi\n",
    "print(f\"Status Code: {response.status_code}\")\n",
    "print(f\"Response Headers: {response.headers}\")\n",
    "print(f\"Response Text (first 2000 chars): {response.text[:2000]}\")\n",
    "\n",
    "# Jeśli odpowiedź jest poprawna, wykonaj webscraping\n",
    "if response.status_code == 200:\n",
    "    soup = BeautifulSoup(response.content, \"html.parser\")\n",
    "\n",
    "    # Pobieranie ofert mieszkań\n",
    "    titles = [h2.a.text.strip() for h2 in soup.find_all(\"h2\", class_=\"title\") if h2.a]\n",
    "    prices = [p.text.replace(\"\\xa0\", \" \").strip() for p in soup.find_all(\"span\", class_=\"price\")]\n",
    "\n",
    "    print(\"Titles:\", titles)\n",
    "    print(len(titles))\n",
    "    print(\"Prices:\", prices)\n",
    "    print(len(prices))\n",
    "\n",
    "    df = pd.DataFrame({\"Title\": titles, \"Price\": prices})\n",
    "\n",
    "    # Dopisanie do pliku CSV\n",
    "    df.to_csv(\"scraped_data.csv\", mode='a', header=not os.path.exists('scraped_data.csv'), index=False)\n",
    "else:\n",
    "    print(\"Failed to retrieve data.\")\n"
   ]
  }
 ],
 "metadata": {
  "colab": {
   "provenance": []
  },
  "kernelspec": {
   "display_name": "Python 3",
   "name": "python3"
  },
  "language_info": {
   "codemirror_mode": {
    "name": "ipython",
    "version": 3
   },
   "file_extension": ".py",
   "mimetype": "text/x-python",
   "name": "python",
   "nbconvert_exporter": "python",
   "pygments_lexer": "ipython3",
   "version": "3.9.23"
  },
  "papermill": {
   "default_parameters": {},
   "duration": 4.002731,
   "end_time": "2025-10-31T16:26:28.731200",
   "environment_variables": {},
   "exception": null,
   "input_path": "nb.ipynb",
   "output_path": "nbo.ipynb",
   "parameters": {},
   "start_time": "2025-10-31T16:26:24.728469",
   "version": "2.6.0"
  }
 },
 "nbformat": 4,
 "nbformat_minor": 5
}