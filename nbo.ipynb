{
 "cells": [
  {
   "cell_type": "code",
   "execution_count": 1,
   "id": "f718c50d",
   "metadata": {
    "colab": {
     "base_uri": "https://localhost:8080/"
    },
    "execution": {
     "iopub.execute_input": "2025-10-03T17:34:43.099784Z",
     "iopub.status.busy": "2025-10-03T17:34:43.099567Z",
     "iopub.status.idle": "2025-10-03T17:34:45.117967Z",
     "shell.execute_reply": "2025-10-03T17:34:45.117245Z"
    },
    "id": "5pYh4c8j1w43",
    "outputId": "8a0dca73-64e5-4f0d-c493-2c5b38392363",
    "papermill": {
     "duration": 2.021762,
     "end_time": "2025-10-03T17:34:45.119083",
     "exception": false,
     "start_time": "2025-10-03T17:34:43.097321",
     "status": "completed"
    },
    "tags": []
   },
   "outputs": [
    {
     "name": "stdout",
     "output_type": "stream",
     "text": [
      "Status Code: 200\n",
      "Response Headers: {'Server': 'nginx', 'Date': 'Fri, 03 Oct 2025 17:34:44 GMT', 'Content-Type': 'text/html; charset=UTF-8', 'Transfer-Encoding': 'chunked', 'Vary': 'Accept-Encoding, User-Agent', 'Set-Cookie': 'FRSPSID=sqgpea5c77kdv4m5tqa2of58o4; path=/; domain=.sprzedajemy.pl; secure; HttpOnly, _items_per_page__offer_list=60; expires=Sun, 02-Nov-2025 17:34:44 GMT; Max-Age=2592000; path=/; domain=.sprzedajemy.pl; secure; httponly, observed_id=141804766968e00934b20a8698322820772683284; expires=Wed, 03-Oct-2125 18:34:44 GMT; Max-Age=3155677200; path=/; domain=.sprzedajemy.pl; secure; httponly', 'Expires': 'Thu, 19 Nov 1981 08:52:00 GMT', 'Cache-Control': 'no-store, no-cache, must-revalidate, post-check=0, pre-check=0', 'Pragma': 'no-cache', 'Content-Encoding': 'gzip'}\n",
      "Response Text (first 2000 chars): <!DOCTYPE html><html xmlns=\"http://www.w3.org/1999/xhtml\" xml:lang=\"pl\" lang=\"pl\" class=\"no-js\" >\n",
      "<head>\n",
      "\t\t\t<!-- Google Tag Manager -->\n",
      "\t\t\t<script>(function(w,d,s,l,i){w[l]=w[l]||[];w[l].push({'gtm.start':\n",
      "\t\t\t\t\t\tnew Date().getTime(),event:'gtm.js'});var f=d.getElementsByTagName(s)[0],\n",
      "\t\t\t\t\tj=d.createElement(s),dl=l!='dataLayer'?'&l='+l:'';j.async=true;j.src=\n",
      "\t\t\t\t\t'https://www.googletagmanager.com/gtm.js?id='+i+dl\n",
      "\t\t\t\t\t\t\t\t\t    ;f.parentNode.insertBefore(j,f);\n",
      "\t\t\t\t    })(window,document,'script','dataLayer','GTM-P3S238');</script>\n",
      "\t\t\t<!-- End Google Tag Manager -->\n",
      "\t<title>Mieszkania Kraków na sprzedaż, wynajem - Sprzedajemy.pl</title><meta http-equiv=\"Content-Type\" content=\"text/html; charset=UTF-8\" >\n",
      "<meta http-equiv=\"X-UA-Compatible\" content=\"IE=edge\" >\n",
      "<meta name=\"description\" content=\"Ogłoszenia o tematyce:  w kategorii Mieszkania - Kupuj i sprzedawaj rzeczy używane i nowe w kategorii Mieszkania na Sprzedajemy.pl\" >\n",
      "<meta property=\"og:title\" content=\"Mieszkania Kraków na sprzedaż, wynajem - Sprzedajemy.pl\" >\n",
      "<meta property=\"og:type\" content=\"website\" >\n",
      "<meta property=\"og:image\" content=\"https://thumbs.img-sprzedajemy.pl/facebook/sprzedajemy.pl.png\" >\n",
      "<meta property=\"og:image:width\" content=\"200\" >\n",
      "<meta property=\"og:image:height\" content=\"200\" >\n",
      "<meta property=\"og:url\" content=\"https://sprzedajemy.pl/krakow/nieruchomosci/mieszkania\" >\n",
      "<meta property=\"og:site_name\" content=\"Sprzedajemy.pl\" >\n",
      "<meta property=\"fb:app_id\" content=\"173258269367442\" >\n",
      "<meta property=\"og:description\" content=\"Ogłoszenia o tematyce:  w kategorii Mieszkania - Kupuj i sprzedawaj rzeczy używane i nowe w kategorii Mieszkania na Sprzedajemy.pl\" >\n",
      "<meta name=\"robots\" content=\"noindex, follow\" >\t\t<script  async=\"async\" src=\"https://static.criteo.net/js/ld/publishertag.js\"></script>\n",
      "        <script  async=\"async\" src=\"https://ap.lijit.com/www/sovrn_beacon_standalone/sovrn_standalone_beacon.js?iid=13417409&amp;uid=sprzedajemy\" id=\"sBeacon\"></script>\n",
      "\t\t<script  async=\"async\" src=\"https://securepuba\n",
      "Titles: ['Sprzedam dwupokojowe mieszkanie os. Dywizjonu 303, 19C Kraków', 'Mieszkanie Wzgórza Krzesławickie bez prowizji.', 'Kraków – Bieńczyce, os. Kazimierzowskie', 'Mieszkanie z widokiem na góry', 'Podedworze 13', 'Mieszkanie 3-pokojowe Zakrzówek Ruczaj wynajem na 9 miesięcy', 'Wyjątkowy lokal przy ul. Krowoderskiej z widokiem na stronę ogrodową', 'Dwa pokoje - stare miasto - Do wejścia - Własność', 'Kraków, Stare Miasto sprzedaż/zamiana', 'Mieszkanie Kraków 49.63m2 3 pokoje', 'Mieszkanie Kraków Kantrowicka 51.41m 3-pokojowe', 'Mieszkanie Kraków Heleny 50m2', 'Oferta sprzedaży mieszkania 35.5m2 2 pokojowe Kraków Dunin-Wąsowicza', 'Mieszkanie na sprzedaż 96.96m2 3-pok Kraków Na Błonie', 'Mieszkanie Kraków Na Błonie 40.56m2 2-pokojowe', 'Oferta sprzedaży mieszkania Kraków Wadowicka 43.35m2 2 pokoje', 'Mieszkanie Kraków Wadowicka 83.1m2 4 pok', 'Mieszkanie Kraków Pękowicka 62.4m2 4-pokojowe', 'Mieszkanie Kraków 34.79m2 2-pok', 'Sprzedam mieszkanie Kraków Kantrowicka 51.42m2 3 pokoje', 'Mieszkanie Kraków 35.97m2', 'Sprzedaż mieszkania 31m2 1-pokojowe Kraków Ruczaj', 'Mieszkanie 36.09m2 2 pokoje Kraków', 'Oferta sprzedaży mieszkania Kraków 79.3m2 3 pok', 'Mieszkanie 56.3m2 3 pokojowe Kraków Pękowicka', 'Oferta sprzedaży mieszkania 83.1m2 Kraków', 'Mieszkanie 56.92m 3 pokoje Kraków', 'Oferta sprzedaży mieszkania 43.35m2 2 pokojowe Kraków', 'Mieszkanie Kraków Kantrowicka 35.05m2', 'Mieszkanie Kraków Olszanicka 94.68m2 4-pokojowe', 'Mieszkanie 48.24m2 2 pokoje Kraków', 'Mieszkanie Kraków Pękowicka 38.84m2 2 pokojowe', 'Mieszkanie do sprzedania Kraków 34.79m2 2-pok', 'Mieszkanie 124.37m2 4 pokoje Kraków Podłużna - okolice', 'Mieszkanie 36.09m2 2-pokojowe Kraków Kantrowicka', 'Mieszkanie 63m2 4 pokoje Kraków', 'Oferta sprzedaży mieszkania Kraków Henryka i Karola Czeczów 62.62m 3-pokojowe', 'Mieszkanie 50.23m2 3 pokojowe Kraków', 'Mieszkanie 49.63m2 3 pokoje Kraków', 'Oferta sprzedaży mieszkania 34m2 2 pok Kraków os. Sportowe', 'Oferta sprzedaży mieszkania 37.8m2 2 pokoje Kraków Na Błonie', 'Mieszkanie 69.31m2 3 pokojowe Kraków Wadowicka', 'Oferta sprzedaży mieszkania Kraków Wadowicka 43.35m2 2-pok', 'Mieszkanie 39.87m2 2 pokoje Kraków Pękowicka', 'Mieszkanie Kraków Pękowicka 56.34m2 3 pokoje', 'Mieszkanie do sprzedania Kraków Na Błonie 26.52m2 1 pokojowe', 'Sprzedam mieszkanie Kraków 62.46m2 3 pokoje', 'Mieszkanie Kraków Wadowicka 51.71m2 2 pokojowe', 'Oferta sprzedaży mieszkania Kraków Kantrowicka 36.09m2 2 pokojowe', 'Do sprzedaży mieszkanie 54.62m2 3-pok Kraków', 'Mieszkanie Kraków Wadowicka 44.95 metrów 2 pok', 'Mieszkanie Kraków 45.27m2 2 pokoje', 'Oferta sprzedaży mieszkania Kraków Na Błonie 72.6m2 2 pokoje', 'Oferta sprzedaży mieszkania 53.24m2 2 pokoje Kraków Pękowicka', 'Oferta sprzedaży mieszkania 79.28m2 4 pokoje Kraków Wadowicka', 'Mieszkanie 57.07m2 Kraków', 'Mieszkanie Kraków Romanowicza 35.94m2', 'Mieszkanie 60.05m2 4 pokoje Kraków', 'Do sprzedaży mieszkanie 55.81m2 Kraków', 'Mieszkanie do sprzedania Kraków 39.43m2 2 pokoje']\n",
      "60\n",
      "Prices: ['620 000 zł', '719 000 zł', '579 000 zł', '265 000 zł', '542 000 zł', '3 100 zł', '1 340 000 zł', '715 155 zł', '2 015 000 zł', '709 709 zł', '668 330 zł', '660 000 zł', '719 000 zł', '1 639 981 zł', '701 600 zł', '758 625 zł', '1 296 360 zł', '1 004 640 zł', '521 850 zł', '635 987 zł', '642 859 zł', '535 000 zł', '523 305 zł', '1 308 450 zł', '895 170 zł', '1 312 980 zł', '1 043 059 zł', '788 970 zł', '525 750 zł', '1 387 058 zł', '820 000 zł', '662 222 zł', '504 455 zł', '2 176 475 zł', '505 260 zł', '1 014 300 zł', '978 000 zł', '723 312 zł', '714 672 zł', '509 000 zł', '726 268 zł', '1 150 546 zł', '806 310 zł', '673 803 zł', '966 231 zł', '554 294 zł', '1 093 050 zł', '868 728 zł', '505 260 zł', '890 306 zł', '822 585 zł', '837 495 zł', '1 229 408 zł', '859 826 zł', '1 292 264 zł', '1 036 391 zł', '3 030 zł', '984 820 zł', '892 960 zł', '670 310 zł']\n",
      "60\n"
     ]
    }
   ],
   "source": [
    "import requests\n",
    "from bs4 import BeautifulSoup\n",
    "import pandas as pd\n",
    "import os\n",
    "\n",
    "url = \"https://sprzedajemy.pl/krakow/nieruchomosci/mieszkania?offset=0&items_per_page=60\"\n",
    "\n",
    "headers = {\n",
    "    \"User-Agent\": \"Mozilla/5.0 (Windows NT 10.0; Win64; x64) AppleWebKit/537.36 (KHTML, like Gecko) Chrome/58.0.3029.110 Safari/537.36\",\n",
    "    \"Accept\": \"text/html,application/xhtml+xml,application/xml;q=0.9,image/webp,image/apng,*/*;q=0.8\",\n",
    "    \"Accept-Encoding\": \"gzip, deflate, br\",\n",
    "    \"Accept-Language\": \"en-US,en;q=0.9,pl;q=0.8\",\n",
    "    \"Connection\": \"keep-alive\"\n",
    "}\n",
    "\n",
    "response = requests.get(url, headers=headers)\n",
    "response = requests.get(url, headers=headers)\n",
    "\n",
    "# Debugowanie odpowiedzi\n",
    "print(f\"Status Code: {response.status_code}\")\n",
    "print(f\"Response Headers: {response.headers}\")\n",
    "print(f\"Response Text (first 2000 chars): {response.text[:2000]}\")\n",
    "\n",
    "# Jeśli odpowiedź jest poprawna, wykonaj webscraping\n",
    "if response.status_code == 200:\n",
    "    soup = BeautifulSoup(response.content, \"html.parser\")\n",
    "\n",
    "    # Pobieranie ofert mieszkań\n",
    "    titles = [h2.a.text.strip() for h2 in soup.find_all(\"h2\", class_=\"title\") if h2.a]\n",
    "    prices = [p.text.replace(\"\\xa0\", \" \").strip() for p in soup.find_all(\"span\", class_=\"price\")]\n",
    "\n",
    "    print(\"Titles:\", titles)\n",
    "    print(len(titles))\n",
    "    print(\"Prices:\", prices)\n",
    "    print(len(prices))\n",
    "\n",
    "    df = pd.DataFrame({\"Title\": titles, \"Price\": prices})\n",
    "\n",
    "    # Dopisanie do pliku CSV\n",
    "    df.to_csv(\"scraped_data.csv\", mode='a', header=not os.path.exists('scraped_data.csv'), index=False)\n",
    "else:\n",
    "    print(\"Failed to retrieve data.\")\n"
   ]
  }
 ],
 "metadata": {
  "colab": {
   "provenance": []
  },
  "kernelspec": {
   "display_name": "Python 3",
   "name": "python3"
  },
  "language_info": {
   "codemirror_mode": {
    "name": "ipython",
    "version": 3
   },
   "file_extension": ".py",
   "mimetype": "text/x-python",
   "name": "python",
   "nbconvert_exporter": "python",
   "pygments_lexer": "ipython3",
   "version": "3.9.23"
  },
  "papermill": {
   "default_parameters": {},
   "duration": 3.187597,
   "end_time": "2025-10-03T17:34:45.337316",
   "environment_variables": {},
   "exception": null,
   "input_path": "nb.ipynb",
   "output_path": "nbo.ipynb",
   "parameters": {},
   "start_time": "2025-10-03T17:34:42.149719",
   "version": "2.6.0"
  }
 },
 "nbformat": 4,
 "nbformat_minor": 5
}