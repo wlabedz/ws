{
 "cells": [
  {
   "cell_type": "code",
   "execution_count": 1,
   "id": "67b9d5c0",
   "metadata": {
    "colab": {
     "base_uri": "https://localhost:8080/"
    },
    "execution": {
     "iopub.execute_input": "2025-09-30T14:42:13.354010Z",
     "iopub.status.busy": "2025-09-30T14:42:13.353746Z",
     "iopub.status.idle": "2025-09-30T14:42:15.737007Z",
     "shell.execute_reply": "2025-09-30T14:42:15.736273Z"
    },
    "id": "5pYh4c8j1w43",
    "outputId": "8a0dca73-64e5-4f0d-c493-2c5b38392363",
    "papermill": {
     "duration": 2.386924,
     "end_time": "2025-09-30T14:42:15.738199",
     "exception": false,
     "start_time": "2025-09-30T14:42:13.351275",
     "status": "completed"
    },
    "tags": []
   },
   "outputs": [
    {
     "name": "stdout",
     "output_type": "stream",
     "text": [
      "Status Code: 200\n",
      "Response Headers: {'Server': 'nginx', 'Date': 'Tue, 30 Sep 2025 14:42:15 GMT', 'Content-Type': 'text/html; charset=UTF-8', 'Transfer-Encoding': 'chunked', 'Vary': 'Accept-Encoding, User-Agent', 'Set-Cookie': 'FRSPSID=ggoj1dvvv2o7gq9kpibeo77pk1; path=/; domain=.sprzedajemy.pl; secure; HttpOnly, _items_per_page__offer_list=60; expires=Thu, 30-Oct-2025 14:42:15 GMT; Max-Age=2592000; path=/; domain=.sprzedajemy.pl; secure; httponly, observed_id=131300003468dbec473b5980123618726386177534; expires=Sun, 30-Sep-2125 15:42:15 GMT; Max-Age=3155677200; path=/; domain=.sprzedajemy.pl; secure; httponly', 'Expires': 'Thu, 19 Nov 1981 08:52:00 GMT', 'Cache-Control': 'no-store, no-cache, must-revalidate, post-check=0, pre-check=0', 'Pragma': 'no-cache', 'Content-Encoding': 'gzip'}\n",
      "Response Text (first 2000 chars): <!DOCTYPE html><html xmlns=\"http://www.w3.org/1999/xhtml\" xml:lang=\"pl\" lang=\"pl\" class=\"no-js\" >\n",
      "<head>\n",
      "\t\t\t<!-- Google Tag Manager -->\n",
      "\t\t\t<script>(function(w,d,s,l,i){w[l]=w[l]||[];w[l].push({'gtm.start':\n",
      "\t\t\t\t\t\tnew Date().getTime(),event:'gtm.js'});var f=d.getElementsByTagName(s)[0],\n",
      "\t\t\t\t\tj=d.createElement(s),dl=l!='dataLayer'?'&l='+l:'';j.async=true;j.src=\n",
      "\t\t\t\t\t'https://www.googletagmanager.com/gtm.js?id='+i+dl\n",
      "\t\t\t\t\t\t\t\t\t    ;f.parentNode.insertBefore(j,f);\n",
      "\t\t\t\t    })(window,document,'script','dataLayer','GTM-P3S238');</script>\n",
      "\t\t\t<!-- End Google Tag Manager -->\n",
      "\t<title>Mieszkania Kraków na sprzedaż, wynajem - Sprzedajemy.pl</title><meta http-equiv=\"Content-Type\" content=\"text/html; charset=UTF-8\" >\n",
      "<meta http-equiv=\"X-UA-Compatible\" content=\"IE=edge\" >\n",
      "<meta name=\"description\" content=\"Ogłoszenia o tematyce:  w kategorii Mieszkania - Kupuj i sprzedawaj rzeczy używane i nowe w kategorii Mieszkania na Sprzedajemy.pl\" >\n",
      "<meta property=\"og:title\" content=\"Mieszkania Kraków na sprzedaż, wynajem - Sprzedajemy.pl\" >\n",
      "<meta property=\"og:type\" content=\"website\" >\n",
      "<meta property=\"og:image\" content=\"https://thumbs.img-sprzedajemy.pl/facebook/sprzedajemy.pl.png\" >\n",
      "<meta property=\"og:image:width\" content=\"200\" >\n",
      "<meta property=\"og:image:height\" content=\"200\" >\n",
      "<meta property=\"og:url\" content=\"https://sprzedajemy.pl/krakow/nieruchomosci/mieszkania\" >\n",
      "<meta property=\"og:site_name\" content=\"Sprzedajemy.pl\" >\n",
      "<meta property=\"fb:app_id\" content=\"173258269367442\" >\n",
      "<meta property=\"og:description\" content=\"Ogłoszenia o tematyce:  w kategorii Mieszkania - Kupuj i sprzedawaj rzeczy używane i nowe w kategorii Mieszkania na Sprzedajemy.pl\" >\n",
      "<meta name=\"robots\" content=\"noindex, follow\" >\t\t<script  async=\"async\" src=\"https://static.criteo.net/js/ld/publishertag.js\"></script>\n",
      "        <script  async=\"async\" src=\"https://ap.lijit.com/www/sovrn_beacon_standalone/sovrn_standalone_beacon.js?iid=13417409&amp;uid=sprzedajemy\" id=\"sBeacon\"></script>\n",
      "\t\t<script  async=\"async\" src=\"https://securepuba\n"
     ]
    },
    {
     "name": "stdout",
     "output_type": "stream",
     "text": [
      "Titles: ['Mieszkanie 3-pokojowe Zakrzówek Ruczaj wynajem na 9 miesięcy', 'Stylowy lokal na parterze przy Krowoderskiej', 'Podedworze 13', 'Wyjątkowy lokal przy ul. Krowoderskiej z widokiem na stronę ogrodową', 'Dwa pokoje - stare miasto - Do wejścia - Własność', 'Kraków, Stare Miasto sprzedaż/zamiana', 'Sprzedam dwupokojowe mieszkanie os. Dywizjonu 303, 19C Kraków', 'Mieszkanie Wzgórza Krzesławickie bez prowizji.', 'Mieszkanie z widokiem na góry', 'Wyjątkowe mieszkanie z widokiem na klasztor w Tyńcu i panoramę Tatr', 'Nowoczesny apartament z panoramicznym widokiem - od właściciela', 'Stylowy apartament z widokiem na panoramę Krakowa - od właściciela', 'Oferta sprzedaży mieszkania Kraków Józefa Łepkowskiego 41.76m2 2-pok', 'Oferta sprzedaży mieszkania Kraków 65.37m2 4 pokoje', 'Mieszkanie 33.12m2 2 pok Kraków', 'Mieszkanie 43m2 2 pokoje Kraków Miłkowskiego', 'Mieszkanie na wynajem Kraków Nowohucka 40.5m2 2 pokojowe', 'Mieszkanie 56.19m2 2-pokojowe Kraków', 'Oferta sprzedaży mieszkania Kraków 43.36m2 3-pokojowe', 'Mieszkanie Kraków Józefa Łepkowskiego 47m2 2 pokoje', 'Oferta wynajmu mieszkania Kraków 36.29m2 1 pokój', 'Mieszkanie Kraków Babińskiego 31.74m2 1 pok', 'Mieszkanie Kraków Cieszyńska 43.21m2', 'Ogłoszenie mieszkanie 38.14m2 2 pokojowe Kraków Kordiana', 'Mieszkanie Kraków 52m2 2 pokoje', 'Mieszkanie Kraków Babińskiego 31.74 metry 1 pokojowe', 'Mieszkanie Kraków 31.74m2', 'Wynajem mieszkania 38.5m2 2 pokojowe Kraków Białoruska', 'Sprzedaż mieszkania 36.9m2 1 pokojowe Kraków', 'Przestronne 3-pokojowe mieszkanie 59m2 z balkonem i piwnicą Bieńczyce', 'Sprzedaż mieszkania 62.63m2 4 pokoje Kraków os. Krakowiaków', 'Mieszkanie Kraków 47m2 2-pokojowe', 'Jordanowska Prądnik Biały m.postojowe bez prowizji', 'Mieszkanie 31.83m2 1-pok Kraków', 'Bezpośrednio Mieszkanie zadbane 3 pok 63m2 ogródek klima parking', 'Sprzedam mieszkanie Kraków Szlak 28.18m2 1-pokojowe', 'Rydlówka | 2 pokoje | balkon | nowy budynek', 'Oferta sprzedaży mieszkania 54.72m2 3 pokoje Kraków', 'Mieszkanie 47.22m2 2 pokoje Kraków os. Kalinowe', 'Mieszkanie Kraków 51m2 2-pok', 'Mieszkanie 19.15 metrów 1 pokojowe Kraków Kazimierza Wielkiego', 'Sprzedam mieszkanie Kraków Okulickiego 25.5m2 1 pokojowe', 'Piękne, 2-pokojowe, po remoncie', 'Do sprzedaży mieszkanie 47.3m2 3-pokojowe Kraków', 'Mieszkanie na sprzedaż 50m2 3-pok Kraków', 'Pokój w domu wolnostojącym cena z mediami blisko UR i UEK i Lasu Wolskiego', 'Mieszkanie sprzedam 67m2 4 pokoje Kraków Józefa Łepkowskiego', 'Kawalerka 27m na Dąbiu | Pętla tramwajowa', 'Mieszkanie Kraków os. Kolorowe 57.54 metry', 'Sprzedam mieszkanie Kraków ulica Wawelska 8', '2 pokojowe mieszkanie z balkonem, ul. Bartla 19E, 43m2', 'Nowe umeblowane 2 pokoje z dużym balkonem - Park Bagry - Bez prowizji', 'Mieszkanie 4-pok. 73m2 z ogródkiem 130m2, Ruczaj, Federowicza Bunscha', 'Mieszkanie Kraków Sosnowiecka 42m2 2-pokojowe', 'Mieszkanie Kraków 64 metry 4 pokojowe', 'Ogłoszenie mieszkanie Kraków Agatowa 64.43m2 3 pokoje', 'Oferta sprzedaży mieszkania Kraków 47m2 3 pokoje', 'Sprzedaż mieszkania Kraków 64.33 metry 3 pokoje', 'Mieszkanie do sprzedania 41.53m2 2-pok Kraków os. Teatralne', 'Apartament 2-pok | balkon | garaż | Wola Justowska']\n",
      "60\n",
      "Prices: ['3 200 zł', '1 890 000 zł', '542 000 zł', '1 340 000 zł', '715 155 zł', '2 083 000 zł', '620 000 zł', '719 000 zł', '265 000 zł', '779 000 zł', '997 000 zł', '890 000 zł', '630 576 zł', '1 130 000 zł', '795 000 zł', '2 700 zł', '2 500 zł', '749 000 zł', '520 000 zł', '723 800 zł', '2 500 zł', '580 842 zł', '3 900 zł', '2 700 zł', '720 000 zł', '599 886 zł', '580 842 zł', '2 300 zł', '518 000 zł', '720 000 zł', '709 000 zł', '709 700 zł', '659 000 zł', '2 500 zł', '4 000 zł', '730 000 zł', '740 000 zł', '799 000 zł', '600 000 zł', '670 000 zł', '529 999 zł', '417 000 zł', '719 000 zł', '510 000 zł', '699 000 zł', '1 800 zł', '998 300 zł', '581 000 zł', '699 000 zł', '1 199 000 zł', '620 000 zł', '784 000 zł', '1 033 000 zł', '720 000 zł', '830 000 zł', '789 000 zł', '650 000 zł', '769 000 zł', '498 000 zł', '960 000 zł']\n",
      "60\n"
     ]
    }
   ],
   "source": [
    "import requests\n",
    "from bs4 import BeautifulSoup\n",
    "import pandas as pd\n",
    "import os\n",
    "\n",
    "url = \"https://sprzedajemy.pl/krakow/nieruchomosci/mieszkania?offset=0&items_per_page=60\"\n",
    "\n",
    "headers = {\n",
    "    \"User-Agent\": \"Mozilla/5.0 (Windows NT 10.0; Win64; x64) AppleWebKit/537.36 (KHTML, like Gecko) Chrome/58.0.3029.110 Safari/537.36\",\n",
    "    \"Accept\": \"text/html,application/xhtml+xml,application/xml;q=0.9,image/webp,image/apng,*/*;q=0.8\",\n",
    "    \"Accept-Encoding\": \"gzip, deflate, br\",\n",
    "    \"Accept-Language\": \"en-US,en;q=0.9,pl;q=0.8\",\n",
    "    \"Connection\": \"keep-alive\"\n",
    "}\n",
    "\n",
    "response = requests.get(url, headers=headers)\n",
    "response = requests.get(url, headers=headers)\n",
    "\n",
    "# Debugowanie odpowiedzi\n",
    "print(f\"Status Code: {response.status_code}\")\n",
    "print(f\"Response Headers: {response.headers}\")\n",
    "print(f\"Response Text (first 2000 chars): {response.text[:2000]}\")\n",
    "\n",
    "# Jeśli odpowiedź jest poprawna, wykonaj webscraping\n",
    "if response.status_code == 200:\n",
    "    soup = BeautifulSoup(response.content, \"html.parser\")\n",
    "\n",
    "    # Pobieranie ofert mieszkań\n",
    "    titles = [h2.a.text.strip() for h2 in soup.find_all(\"h2\", class_=\"title\") if h2.a]\n",
    "    prices = [p.text.replace(\"\\xa0\", \" \").strip() for p in soup.find_all(\"span\", class_=\"price\")]\n",
    "\n",
    "    print(\"Titles:\", titles)\n",
    "    print(len(titles))\n",
    "    print(\"Prices:\", prices)\n",
    "    print(len(prices))\n",
    "\n",
    "    df = pd.DataFrame({\"Title\": titles, \"Price\": prices})\n",
    "\n",
    "    # Dopisanie do pliku CSV\n",
    "    df.to_csv(\"scraped_data.csv\", mode='a', header=not os.path.exists('scraped_data.csv'), index=False)\n",
    "else:\n",
    "    print(\"Failed to retrieve data.\")\n"
   ]
  }
 ],
 "metadata": {
  "colab": {
   "provenance": []
  },
  "kernelspec": {
   "display_name": "Python 3",
   "name": "python3"
  },
  "language_info": {
   "codemirror_mode": {
    "name": "ipython",
    "version": 3
   },
   "file_extension": ".py",
   "mimetype": "text/x-python",
   "name": "python",
   "nbconvert_exporter": "python",
   "pygments_lexer": "ipython3",
   "version": "3.9.23"
  },
  "papermill": {
   "default_parameters": {},
   "duration": 3.489073,
   "end_time": "2025-09-30T14:42:15.955634",
   "environment_variables": {},
   "exception": null,
   "input_path": "nb.ipynb",
   "output_path": "nbo.ipynb",
   "parameters": {},
   "start_time": "2025-09-30T14:42:12.466561",
   "version": "2.6.0"
  }
 },
 "nbformat": 4,
 "nbformat_minor": 5
}