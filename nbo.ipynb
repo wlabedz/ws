{
 "cells": [
  {
   "cell_type": "code",
   "execution_count": 1,
   "id": "63926b1e",
   "metadata": {
    "colab": {
     "base_uri": "https://localhost:8080/"
    },
    "execution": {
     "iopub.execute_input": "2025-05-13T19:00:46.530292Z",
     "iopub.status.busy": "2025-05-13T19:00:46.529890Z",
     "iopub.status.idle": "2025-05-13T19:00:48.946407Z",
     "shell.execute_reply": "2025-05-13T19:00:48.945650Z"
    },
    "id": "5pYh4c8j1w43",
    "outputId": "8a0dca73-64e5-4f0d-c493-2c5b38392363",
    "papermill": {
     "duration": 2.419885,
     "end_time": "2025-05-13T19:00:48.947562",
     "exception": false,
     "start_time": "2025-05-13T19:00:46.527677",
     "status": "completed"
    },
    "tags": []
   },
   "outputs": [
    {
     "name": "stdout",
     "output_type": "stream",
     "text": [
      "Status Code: 200\n",
      "Response Headers: {'Server': 'nginx', 'Date': 'Tue, 13 May 2025 19:00:48 GMT', 'Content-Type': 'text/html; charset=UTF-8', 'Transfer-Encoding': 'chunked', 'Vary': 'Accept-Encoding, User-Agent', 'Set-Cookie': 'FRSPSID=8dh80bkg4tnqbcora80p7m0s95; path=/; domain=.sprzedajemy.pl; secure; HttpOnly, _items_per_page__offer_list=60; expires=Thu, 12-Jun-2025 19:00:48 GMT; Max-Age=2592000; path=/; domain=.sprzedajemy.pl; secure; httponly, observed_id=715298828682396e07f9d50199152323155672065; expires=Sun, 13-May-2125 20:00:48 GMT; Max-Age=3155677200; path=/; domain=.sprzedajemy.pl; secure; httponly', 'Expires': 'Thu, 19 Nov 1981 08:52:00 GMT', 'Cache-Control': 'no-store, no-cache, must-revalidate, post-check=0, pre-check=0', 'Pragma': 'no-cache', 'Content-Encoding': 'gzip'}\n",
      "Response Text (first 2000 chars): <!DOCTYPE html><html xmlns=\"http://www.w3.org/1999/xhtml\" xml:lang=\"pl\" lang=\"pl\" class=\"no-js\" >\n",
      "<head>\n",
      "\t\t\t<!-- Google Tag Manager -->\n",
      "\t\t\t<script>(function(w,d,s,l,i){w[l]=w[l]||[];w[l].push({'gtm.start':\n",
      "\t\t\t\t\t\tnew Date().getTime(),event:'gtm.js'});var f=d.getElementsByTagName(s)[0],\n",
      "\t\t\t\t\tj=d.createElement(s),dl=l!='dataLayer'?'&l='+l:'';j.async=true;j.src=\n",
      "\t\t\t\t\t'https://www.googletagmanager.com/gtm.js?id='+i+dl\n",
      "\t\t\t\t\t\t\t\t\t    ;f.parentNode.insertBefore(j,f);\n",
      "\t\t\t\t    })(window,document,'script','dataLayer','GTM-P3S238');</script>\n",
      "\t\t\t<!-- End Google Tag Manager -->\n",
      "\t<title>Mieszkania Kraków na sprzedaż, wynajem - Sprzedajemy.pl</title><meta http-equiv=\"Content-Type\" content=\"text/html; charset=UTF-8\" >\n",
      "<meta http-equiv=\"X-UA-Compatible\" content=\"IE=edge\" >\n",
      "<meta name=\"description\" content=\"Ogłoszenia o tematyce:  w kategorii Mieszkania - Kupuj i sprzedawaj rzeczy używane i nowe w kategorii Mieszkania na Sprzedajemy.pl\" >\n",
      "<meta property=\"og:title\" content=\"Mieszkania Kraków na sprzedaż, wynajem - Sprzedajemy.pl\" >\n",
      "<meta property=\"og:type\" content=\"website\" >\n",
      "<meta property=\"og:image\" content=\"https://thumbs.img-sprzedajemy.pl/facebook/sprzedajemy.pl.png\" >\n",
      "<meta property=\"og:image:width\" content=\"200\" >\n",
      "<meta property=\"og:image:height\" content=\"200\" >\n",
      "<meta property=\"og:url\" content=\"https://sprzedajemy.pl/krakow/nieruchomosci/mieszkania\" >\n",
      "<meta property=\"og:site_name\" content=\"Sprzedajemy.pl\" >\n",
      "<meta property=\"fb:app_id\" content=\"173258269367442\" >\n",
      "<meta property=\"og:description\" content=\"Ogłoszenia o tematyce:  w kategorii Mieszkania - Kupuj i sprzedawaj rzeczy używane i nowe w kategorii Mieszkania na Sprzedajemy.pl\" >\n",
      "<meta name=\"robots\" content=\"noindex, follow\" >\t\t<script  async=\"async\" src=\"https://static.criteo.net/js/ld/publishertag.js\"></script>\n",
      "        <script  async=\"async\" src=\"https://ap.lijit.com/www/sovrn_beacon_standalone/sovrn_standalone_beacon.js?iid=13417409&amp;uid=sprzedajemy\" id=\"sBeacon\"></script>\n",
      "\t\t<script  async=\"async\" src=\"https://securepuba\n",
      "Titles: ['Stylowy apartament z widokiem na panoramę Krakowa - od właściciela', 'Nowoczesny apartament z panoramicznym widokiem - od właściciela', 'Wyjątkowe mieszkanie z widokiem na klasztor w Tyńcu i panoramę Tatr', 'Kraków Bronowice Stawowa 168 / 60m2 3 POK/ 22,5 m2 taras/ BEZ POŚREDNIKÓW', 'Kraków, Stare Miasto sprzedaż/zamiana', 'Mieszkanie 74.96m2 Kraków', 'Ogłoszenie mieszkanie Kraków Tadeusza Śliwiaka 81.78m2 4 pok', 'Oferta sprzedaży mieszkania 65.57m2 3 pokojowe Kraków', 'Mieszkanie Kraków 16.04m2 1-pokojowe', 'Mieszkanie Kraków Reduta 77.04m2 3 pokojowe', 'Sprzedam mieszkanie 65.57 metrów 3-pok Kraków Tadeusza Śliwiaka', 'Mieszkanie 65.57m2 3-pokojowe Kraków', 'Mieszkanie na sprzedaż Kraków 59.83m2 3 pokoje', 'Mieszkanie Kraków al. 29 Listopada 16.13m2 1-pokojowe', 'Mieszkanie Kraków 65.57m2 3 pok', 'Mieszkanie do sprzedania Kraków Reduta 77.24m2 3 pokoje', 'Mieszkanie 65.57m2 3-pokojowe Kraków', 'Mieszkanie Kraków 82.34m2 4 pokoje', 'Mieszkanie 16.04m2 1 pokojowe Kraków', 'Mieszkanie Kraków Bukowa 46.21m2 2 pokoje', 'Mieszkanie 69.03m2 Kraków', 'Sprzedaż mieszkania 82.34m2 4-pokojowe Kraków Tadeusza Śliwiaka', 'Apartament 40 m2, Kraków Ruczaj Właściciel', 'Do sprzedaży mieszkanie 46.21m2 2 pok Kraków Bukowa', 'Mieszkanie Kraków Gustawa Morcinka 43.94m2 2-pokojowe', 'Ogłoszenie mieszkanie 16.13m2 1 pok Kraków', 'Mieszkanie sprzedam Kraków 69.12m2 4 pokojowe', 'Mieszkanie na wynajem 34.55m2 2-pok Kraków', 'Mieszkanie Kraków os. Jagiellońskie 37.49m2 2-pokojowe', 'Mieszkanie Kraków os. Strusia 43.5m2 2 pok', 'Mieszkanie 43m2 2 pokoje Kraków', 'Mieszkanie Kraków 56.02m2 3 pokoje', 'Mieszkanie 64.79 metrów 3-pok Kraków', 'Oferta sprzedaży mieszkania 68.83m2 4-pok Kraków', 'Sprzedaż mieszkania 53.66m2 Kraków', 'Mieszkanie sprzedam 51.95 metrów 2-pok Kraków Bieżanów', 'Mieszkanie 67.49m2 3 pokoje Kraków Powstańców', 'Oferta sprzedaży mieszkania 68.86m2 4-pokojowe Kraków Kamieńskiego - okolice', 'Mieszkanie 31.58m2 2 pokoje Kraków Bieżanów', 'Oferta sprzedaży mieszkania 47m2 2-pok Kraków Hoffmanowej', 'Mieszkanie Kraków 53.57m2 2 pokojowe', 'Mieszkanie 53.66m2 2-pokojowe Kraków', 'Mieszkanie 44.63m2 Kraków', 'Mieszkanie Kraków Bieżanów 35.22m2 2-pokojowe', 'Mieszkanie 75.83m2 4 pokojowe Kraków Radzikowskiego', 'Mieszkanie 55.12 metry 3 pokoje Kraków Gen. Leopolda Okulickiego', 'Mieszkanie Kraków Bieżanów 35.56m2 2 pokojowe', 'Mieszkanie Kraków Pszczelna 99.13m2 3 pokojowe', 'Do sprzedaży mieszkanie 39.62m2 2 pokojowe Kraków', 'Mieszkanie 41m2 2 pokoje Kraków', 'Sprzedaż mieszkania 52m2 3-pokojowe Kraków ul. Dzielskiego', 'Mieszkanie na sprzedaż', 'Mieszkanie sprzedam Kraków 48.04m2 3 pokoje', 'Sprzedaż mieszkania Kraków 31.54m2 2 pokoje', 'Mieszkanie 31.51m2 2 pokoje Kraków', 'Mieszkanie sprzedam Kraków Bieżanów 45.36m2 2-pokojowe', 'Mieszkanie Kraków 63.36m2', 'Oferta sprzedaży mieszkania Kraków Bieżanów 31.73m2 2 pokoje', 'Słoneczne 3-pokojowe mieszkanie w okolicy Bonarki', 'Kurdwanów - ul. Stojałowskiego I 3 pokoje, 62,5 m2']\n",
      "60\n",
      "Prices: ['897 000 zł', '997 000 zł', '790 000 zł', '1 137 500 zł', '2 243 000 zł', '1 156 920 zł', '924 114 zł', '760 612 zł', '304 760 zł', '1 329 332 zł', '754 055 zł', '760 612 zł', '935 877 zł', '306 470 zł', '754 055 zł', '1 243 000 zł', '754 055 zł', '938 676 zł', '307 760 zł', '549 899 zł', '1 047 643 zł', '955 144 zł', '3 200 zł', '545 278 zł', '669 000 zł', '306 890 zł', '999 000 zł', '2 400 zł', '552 000 zł', '2 500 zł', '860 000 zł', '669 000 zł', '874 665 zł', '1 044 607 zł', '724 410 zł', '727 300 zł', '1 590 000 zł', '1 000 017 zł', '483 174 zł', '729 000 zł', '696 410 zł', '697 580 zł', '624 820 zł', '521 256 zł', '1 228 000 zł', '865 000 zł', '561 848 zł', '1 385 000 zł', '594 300 zł', '529 000 zł', '775 000 zł', '669 000 zł', '672 560 zł', '482 562 zł', '482 103 zł', '657 720 zł', '823 680 zł', '501 334 zł', '3 300 zł', '799 000 zł']\n",
      "60\n"
     ]
    }
   ],
   "source": [
    "import requests\n",
    "from bs4 import BeautifulSoup\n",
    "import pandas as pd\n",
    "import os\n",
    "\n",
    "url = \"https://sprzedajemy.pl/krakow/nieruchomosci/mieszkania?offset=0&items_per_page=60\"\n",
    "\n",
    "headers = {\n",
    "    \"User-Agent\": \"Mozilla/5.0 (Windows NT 10.0; Win64; x64) AppleWebKit/537.36 (KHTML, like Gecko) Chrome/58.0.3029.110 Safari/537.36\",\n",
    "    \"Accept\": \"text/html,application/xhtml+xml,application/xml;q=0.9,image/webp,image/apng,*/*;q=0.8\",\n",
    "    \"Accept-Encoding\": \"gzip, deflate, br\",\n",
    "    \"Accept-Language\": \"en-US,en;q=0.9,pl;q=0.8\",\n",
    "    \"Connection\": \"keep-alive\"\n",
    "}\n",
    "\n",
    "response = requests.get(url, headers=headers)\n",
    "response = requests.get(url, headers=headers)\n",
    "\n",
    "# Debugowanie odpowiedzi\n",
    "print(f\"Status Code: {response.status_code}\")\n",
    "print(f\"Response Headers: {response.headers}\")\n",
    "print(f\"Response Text (first 2000 chars): {response.text[:2000]}\")\n",
    "\n",
    "# Jeśli odpowiedź jest poprawna, wykonaj webscraping\n",
    "if response.status_code == 200:\n",
    "    soup = BeautifulSoup(response.content, \"html.parser\")\n",
    "\n",
    "    # Pobieranie ofert mieszkań\n",
    "    titles = [h2.a.text.strip() for h2 in soup.find_all(\"h2\", class_=\"title\") if h2.a]\n",
    "    prices = [p.text.replace(\"\\xa0\", \" \").strip() for p in soup.find_all(\"span\", class_=\"price\")]\n",
    "\n",
    "    print(\"Titles:\", titles)\n",
    "    print(len(titles))\n",
    "    print(\"Prices:\", prices)\n",
    "    print(len(prices))\n",
    "\n",
    "    df = pd.DataFrame({\"Title\": titles, \"Price\": prices})\n",
    "\n",
    "    # Dopisanie do pliku CSV\n",
    "    df.to_csv(\"scraped_data.csv\", mode='a', header=not os.path.exists('scraped_data.csv'), index=False)\n",
    "else:\n",
    "    print(\"Failed to retrieve data.\")\n"
   ]
  }
 ],
 "metadata": {
  "colab": {
   "provenance": []
  },
  "kernelspec": {
   "display_name": "Python 3",
   "name": "python3"
  },
  "language_info": {
   "codemirror_mode": {
    "name": "ipython",
    "version": 3
   },
   "file_extension": ".py",
   "mimetype": "text/x-python",
   "name": "python",
   "nbconvert_exporter": "python",
   "pygments_lexer": "ipython3",
   "version": "3.9.22"
  },
  "papermill": {
   "default_parameters": {},
   "duration": 3.55863,
   "end_time": "2025-05-13T19:00:49.164606",
   "environment_variables": {},
   "exception": null,
   "input_path": "nb.ipynb",
   "output_path": "nbo.ipynb",
   "parameters": {},
   "start_time": "2025-05-13T19:00:45.605976",
   "version": "2.6.0"
  }
 },
 "nbformat": 4,
 "nbformat_minor": 5
}