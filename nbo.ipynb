{
 "cells": [
  {
   "cell_type": "code",
   "execution_count": 1,
   "id": "1c0fe316",
   "metadata": {
    "colab": {
     "base_uri": "https://localhost:8080/"
    },
    "execution": {
     "iopub.execute_input": "2025-06-12T23:54:43.522250Z",
     "iopub.status.busy": "2025-06-12T23:54:43.522036Z",
     "iopub.status.idle": "2025-06-12T23:54:45.436388Z",
     "shell.execute_reply": "2025-06-12T23:54:45.435651Z"
    },
    "id": "5pYh4c8j1w43",
    "outputId": "8a0dca73-64e5-4f0d-c493-2c5b38392363",
    "papermill": {
     "duration": 1.917771,
     "end_time": "2025-06-12T23:54:45.437461",
     "exception": false,
     "start_time": "2025-06-12T23:54:43.519690",
     "status": "completed"
    },
    "tags": []
   },
   "outputs": [
    {
     "name": "stdout",
     "output_type": "stream",
     "text": [
      "Status Code: 503\n",
      "Response Headers: {'Server': 'nginx', 'Date': 'Thu, 12 Jun 2025 23:54:45 GMT', 'Content-Type': 'text/html', 'Content-Length': '234882', 'ETag': '\"5eb70e18-39582\"'}\n",
      "Response Text (first 2000 chars): <!DOCTYPE html>\n",
      "<html>\n",
      "<head>\n",
      "    <meta charset=\"UTF-8\">\n",
      "    <title>Tablica ogÅoszeÅ - sprzedam na Sprzedajemy.pl</title>\n",
      "    <meta name=\"description\" content=\"Darmowe ogÅoszenia sprzedaÅ¼y rzeczy uÅ¼ywanych i nowych w Twojej okolicy. Szybka, Åatwa i lokalna sprzedaÅ¼ rzeczy z drugiej rÄki. NieruchomoÅci, Motoryzacja, Komputery, Meble, Antyki, Telefony, SprzÄt sportowy i inne\" />\n",
      "    <meta name=\"viewport\" content=\"width=device-width\">\n",
      "    <style type=\"text/css\">\n",
      "        html, body { color: #313c62; font-family: arial,tahoma,sans-serif; font-size: 11px; line-height: 18px; font-weight: normal; margin: 0; padding: 0; text-align: left; }\n",
      "        #wrap {  margin: 0 auto; width: 100%; text-align: center;}\n",
      "        .errorLogo {\n",
      "            background: #f3f6f7;\n",
      "            height: 86px;\n",
      "            padding: 22px 0;\n",
      "            margin: 0;\n",
      "            width: 100%;\n",
      "            box-sizing: border-box;\n",
      "            text-align: center;\n",
      "        }\n",
      "        .errorLogo >div {\n",
      "            max-width: 1140px;\n",
      "            width: 100%;\n",
      "            margin: 0 auto;\n",
      "            text-align: left;\n",
      "        }\n",
      "\n",
      "        .errorLogo .logo{\n",
      "            margin-top: -1px;\n",
      "            margin-bottom: 19px;\n",
      "            background: url( 'data:image/png;base64,iVBORw0KGgoAAAANSUhEUgAAAeQAAABkCAYAAABXaUOVAAA2SElEQVR4AezdBXDbWhYG4LPMOLDM7Ov2sWSXuSGnsJPW9Jjfs8rtMjMzDS4zMzMzo2WHyt0X5jh3z/EbeTROFEOixvL+d+Y7R7Z0C0P/3CvZpv+XgYGBgYGBYW+74mG5iIplI+rFthn6iG2oX3PPZ43Qhayhpvj1GPde7n+wjdB3bVN9ImeGj3VHw2t0a+v9GPlFCgAAQNPqi6qn25Hwy+8OXzXL4avrNMlh/fOcEX5h79rLHstoOUkBAABoKrqr6152JJTiAP2ZhOlyk2DngP9K3li1W2/adG9GSyWlOQAAAHAQ5yLqJg7irBOe/lNZXoHvZbQUUgIPAAAgb66OyL1fCcmVoX7YHb3kMkb1kBJYAAAAxe1pU73NNkJzEowryTZCBdtQb6lnG1tKIAEAAPSsW/UI2wx9R8Kwkdhm6Mfd6694DKNqSQkcAACAfHTVszn4/i0B2IhsQ53OGavXM6qGlEABAADIR1ULB96gBF9jU1PZyKpWRpVICQwAAAAJY+fzxEFgm2q821SbGS1GSiAAAADINrWzMg4UU410r1kVZeRFSsMDAACQB7ice8ZBZBtqIB+59MmMFiKlkQEAADgfbfp2IwSrx6h2+/qn8n9hVE5KQwMAAJDPGUugBTqQHaZ6CaNyUhoWAADA3d/AFZprokCeyUdWm4zcpDQkAAAA2d71+DrM4AayMNVvsUIODAAAk\n",
      "Failed to retrieve data.\n"
     ]
    }
   ],
   "source": [
    "import requests\n",
    "from bs4 import BeautifulSoup\n",
    "import pandas as pd\n",
    "import os\n",
    "\n",
    "url = \"https://sprzedajemy.pl/krakow/nieruchomosci/mieszkania?offset=0&items_per_page=60\"\n",
    "\n",
    "headers = {\n",
    "    \"User-Agent\": \"Mozilla/5.0 (Windows NT 10.0; Win64; x64) AppleWebKit/537.36 (KHTML, like Gecko) Chrome/58.0.3029.110 Safari/537.36\",\n",
    "    \"Accept\": \"text/html,application/xhtml+xml,application/xml;q=0.9,image/webp,image/apng,*/*;q=0.8\",\n",
    "    \"Accept-Encoding\": \"gzip, deflate, br\",\n",
    "    \"Accept-Language\": \"en-US,en;q=0.9,pl;q=0.8\",\n",
    "    \"Connection\": \"keep-alive\"\n",
    "}\n",
    "\n",
    "response = requests.get(url, headers=headers)\n",
    "response = requests.get(url, headers=headers)\n",
    "\n",
    "# Debugowanie odpowiedzi\n",
    "print(f\"Status Code: {response.status_code}\")\n",
    "print(f\"Response Headers: {response.headers}\")\n",
    "print(f\"Response Text (first 2000 chars): {response.text[:2000]}\")\n",
    "\n",
    "# Jeśli odpowiedź jest poprawna, wykonaj webscraping\n",
    "if response.status_code == 200:\n",
    "    soup = BeautifulSoup(response.content, \"html.parser\")\n",
    "\n",
    "    # Pobieranie ofert mieszkań\n",
    "    titles = [h2.a.text.strip() for h2 in soup.find_all(\"h2\", class_=\"title\") if h2.a]\n",
    "    prices = [p.text.replace(\"\\xa0\", \" \").strip() for p in soup.find_all(\"span\", class_=\"price\")]\n",
    "\n",
    "    print(\"Titles:\", titles)\n",
    "    print(len(titles))\n",
    "    print(\"Prices:\", prices)\n",
    "    print(len(prices))\n",
    "\n",
    "    df = pd.DataFrame({\"Title\": titles, \"Price\": prices})\n",
    "\n",
    "    # Dopisanie do pliku CSV\n",
    "    df.to_csv(\"scraped_data.csv\", mode='a', header=not os.path.exists('scraped_data.csv'), index=False)\n",
    "else:\n",
    "    print(\"Failed to retrieve data.\")\n"
   ]
  }
 ],
 "metadata": {
  "colab": {
   "provenance": []
  },
  "kernelspec": {
   "display_name": "Python 3",
   "name": "python3"
  },
  "language_info": {
   "codemirror_mode": {
    "name": "ipython",
    "version": 3
   },
   "file_extension": ".py",
   "mimetype": "text/x-python",
   "name": "python",
   "nbconvert_exporter": "python",
   "pygments_lexer": "ipython3",
   "version": "3.9.22"
  },
  "papermill": {
   "default_parameters": {},
   "duration": 3.107796,
   "end_time": "2025-06-12T23:54:45.654783",
   "environment_variables": {},
   "exception": null,
   "input_path": "nb.ipynb",
   "output_path": "nbo.ipynb",
   "parameters": {},
   "start_time": "2025-06-12T23:54:42.546987",
   "version": "2.6.0"
  }
 },
 "nbformat": 4,
 "nbformat_minor": 5
}