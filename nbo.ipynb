{
 "cells": [
  {
   "cell_type": "code",
   "execution_count": 1,
   "id": "68f31929",
   "metadata": {
    "colab": {
     "base_uri": "https://localhost:8080/"
    },
    "execution": {
     "iopub.execute_input": "2025-04-03T22:47:11.403438Z",
     "iopub.status.busy": "2025-04-03T22:47:11.402902Z",
     "iopub.status.idle": "2025-04-03T22:47:13.852846Z",
     "shell.execute_reply": "2025-04-03T22:47:13.852042Z"
    },
    "id": "5pYh4c8j1w43",
    "outputId": "8a0dca73-64e5-4f0d-c493-2c5b38392363",
    "papermill": {
     "duration": 2.453729,
     "end_time": "2025-04-03T22:47:13.854134",
     "exception": false,
     "start_time": "2025-04-03T22:47:11.400405",
     "status": "completed"
    },
    "tags": []
   },
   "outputs": [
    {
     "name": "stdout",
     "output_type": "stream",
     "text": [
      "Status Code: 200\n",
      "Response Headers: {'Server': 'nginx', 'Date': 'Thu, 03 Apr 2025 22:47:13 GMT', 'Content-Type': 'text/html; charset=UTF-8', 'Transfer-Encoding': 'chunked', 'Vary': 'Accept-Encoding, User-Agent', 'Set-Cookie': 'FRSPSID=d5q1fhsdfvkbuhpj8vmobcf6k2; path=/; domain=.sprzedajemy.pl; secure; HttpOnly, _items_per_page__offer_list=60; expires=Sat, 03-May-2025 22:47:13 GMT; Max-Age=2592000; path=/; domain=.sprzedajemy.pl; secure; httponly, observed_id=207468086267ef0ff15cdab510652297149198933; expires=Tue, 03-Apr-2125 23:47:13 GMT; Max-Age=3155677200; path=/; domain=.sprzedajemy.pl; secure; httponly', 'Expires': 'Thu, 19 Nov 1981 08:52:00 GMT', 'Cache-Control': 'no-store, no-cache, must-revalidate, post-check=0, pre-check=0', 'Pragma': 'no-cache', 'Content-Encoding': 'gzip'}\n",
      "Response Text (first 2000 chars): <!DOCTYPE html><html xmlns=\"http://www.w3.org/1999/xhtml\" xml:lang=\"pl\" lang=\"pl\" class=\"no-js\" >\n",
      "<head>\n",
      "\t\t\t<!-- Google Tag Manager -->\n",
      "\t\t\t<script>(function(w,d,s,l,i){w[l]=w[l]||[];w[l].push({'gtm.start':\n",
      "\t\t\t\t\t\tnew Date().getTime(),event:'gtm.js'});var f=d.getElementsByTagName(s)[0],\n",
      "\t\t\t\t\tj=d.createElement(s),dl=l!='dataLayer'?'&l='+l:'';j.async=true;j.src=\n",
      "\t\t\t\t\t'https://www.googletagmanager.com/gtm.js?id='+i+dl\n",
      "\t\t\t\t\t\t\t\t\t    ;f.parentNode.insertBefore(j,f);\n",
      "\t\t\t\t    })(window,document,'script','dataLayer','GTM-P3S238');</script>\n",
      "\t\t\t<!-- End Google Tag Manager -->\n",
      "\t<title>Mieszkania Kraków na sprzedaż, wynajem - Sprzedajemy.pl</title><meta http-equiv=\"Content-Type\" content=\"text/html; charset=UTF-8\" >\n",
      "<meta http-equiv=\"X-UA-Compatible\" content=\"IE=edge\" >\n",
      "<meta name=\"description\" content=\"Ogłoszenia o tematyce:  w kategorii Mieszkania - Kupuj i sprzedawaj rzeczy używane i nowe w kategorii Mieszkania na Sprzedajemy.pl\" >\n",
      "<meta property=\"og:title\" content=\"Mieszkania Kraków na sprzedaż, wynajem - Sprzedajemy.pl\" >\n",
      "<meta property=\"og:type\" content=\"website\" >\n",
      "<meta property=\"og:image\" content=\"https://thumbs.img-sprzedajemy.pl/facebook/sprzedajemy.pl.png\" >\n",
      "<meta property=\"og:image:width\" content=\"200\" >\n",
      "<meta property=\"og:image:height\" content=\"200\" >\n",
      "<meta property=\"og:url\" content=\"https://sprzedajemy.pl/krakow/nieruchomosci/mieszkania\" >\n",
      "<meta property=\"og:site_name\" content=\"Sprzedajemy.pl\" >\n",
      "<meta property=\"fb:app_id\" content=\"173258269367442\" >\n",
      "<meta property=\"og:description\" content=\"Ogłoszenia o tematyce:  w kategorii Mieszkania - Kupuj i sprzedawaj rzeczy używane i nowe w kategorii Mieszkania na Sprzedajemy.pl\" >\n",
      "<meta name=\"robots\" content=\"noindex, follow\" >\t\t<script  async=\"async\" src=\"https://static.criteo.net/js/ld/publishertag.js\"></script>\n",
      "        <script  async=\"async\" src=\"https://ap.lijit.com/www/sovrn_beacon_standalone/sovrn_standalone_beacon.js?iid=13417409&amp;uid=sprzedajemy\" id=\"sBeacon\"></script>\n",
      "\t\t<script  async=\"async\" src=\"https://securepuba\n",
      "Titles: ['Apartament, 2 pokoje, jadalnia, garaż,Krowodrza', '2 pokoje,garaż,wysoki standard,ul.Rakowicka,ENG', 'Nowoczesne, wykończone, z garażem i balkonem', '2 lub 3 pokoje,62m2,balkon, Widok na Wawel', 'Kraków Bronowice Stawowa 168 / 60m2 3 POK/ 22,5 m2 taras/ BEZ POŚREDNIKÓW', 'Wyjątkowe 2 mieszkania w 1, gotowe do wprowadzenia, po remoncie', 'Mieszkanie z ogródkiem Zakrzówek', 'Strych do adaptacji, Błonia, ul. Filarecka', 'Mistrzejowice - dwupokojowe z jasną kuchnią,balkon', 'Mieszkanie 1 pokojowe z balkonem, blok 2000r', 'Ruczaj - dwupokojowe z aneksem kuchennym, 2002r.', 'Olsza - 62 m2 + 2 tarasy, blisko centrum', 'Mieszkanie Kraków 125.67m2 3 pokojowe', 'Mieszkanie 40.5m2 2 pokojowe Kraków os. Albertyńskie', 'Mieszkanie na wynajem 56m2 3-pokojowe Kraków Poznańska', 'Sprzedam mieszkanie Kraków Dywizjonu 303 50.1m2 2-pokojowe', 'Mieszkanie Kraków os. Osiedle Piastów 72.98m2', 'Mieszkanie Kraków 55.64m2 3 pok', 'Mieszkanie Kraków Filipa - okolice 39.84m2 2 pokoje', 'Mieszkanie Kraków 57.77m2 3 pokoje', 'Mieszkanie 42.51m2 2 pokoje Kraków Filipa - okolice', 'Mieszkanie do wynajęcia 26m2 1 pokój Kraków Mazowiecka', 'Mieszkanie Kraków Gen. Leopolda Okulickiego 29.96m2 1 pokojowe', 'Oferta sprzedaży mieszkania Kraków Filipa - okolice 57.45m2 2 pokojowe', 'Mieszkanie Kraków 49m2 3 pokoje', 'Sprzedaż mieszkania 65.7m2 3-pokojowe Kraków Montwiłła-Mireckiego', 'Sprzedam mieszkanie w systemie TBS', 'Mieszkanie Kraków Filipa - okolice 83.43m2 2-pok', 'Oferta sprzedaży mieszkania 56.7m2 2 pokoje Kraków', 'Mieszkanie 35m2 Kraków Zygmuntowska', '2 pokoje z kuchnią po generalnym remoncie', 'Mieszkanie Kraków 50.02m2 3 pokoje', 'Oferta sprzedaży mieszkania Kraków 70.02m2 3 pokojowe', 'Mieszkanie 59.17m2 3-pokojowe Kraków Bieżanów', 'Mieszkanie 59.17m2 3 pokojowe Kraków', 'Oferta sprzedaży mieszkania 63.82m2 3 pokojowe Kraków Bieżanów', 'Mieszkanie 77.27m2 4 pokoje Kraków', 'Mieszkanie Kraków św. Jana 172m2 4 pokoje', 'Wynajmę mieszkanie Kraków Przemysłowa 64m2 2 pokoje', 'Mieszkanie Kraków płk. Francesco Nullo 38.36m2 1 pokojowe', 'Mieszkanie 64.3m2 3-pok Kraków Myśliwska', 'Mieszkanie 63.82m 3-pokojowe Kraków', 'Mieszkanie Kraków 77.27m2 4 pokojowe', 'Do sprzedaży mieszkanie 120m2 5 pokoi Kraków Fiołkowa', 'Oferta sprzedaży mieszkania Kraków Niepodległości 49m2 3 pokojowe', 'Mieszkanie Kraków Kołłątaja 52.2 metry', 'Komfortowe mieszkanie 70 m ul. Myślenicka', 'Oferta sprzedaży mieszkania 975000m2 Kraków 29 Listopada', 'Mieszkanie na wynajem 46,04m2 ul. Rakowicka NOVUM', 'Mieszkanie do sprzedania 50.78m2 2 pokoje Kraków', 'Mieszkanie Kraków Grodzka 130m2 3 pokoje', 'Mieszkanie Kraków Syrokomli 25m2 1 pokój', 'Sprzedam mieszkanie 72.05m2 3 pokoje Kraków Aleja Kasztanowa', 'Mieszkanie Luxusowe - Podgórze Duchackie', 'MORCINKA, Zesławice, 2 Mieszkania, 36m2 i 21m2', 'Mieszkanie na sprzedaż 40m2 2 pokojowe Kraków Osiedle na Stoku', 'Przestronne mieszkanie 60 m² w doskonałej lokalizacji w śródmieściu Krakowa', 'Mieszkanie 79m2 3-pokojowe Kraków', '? 2-pokojowe mieszkanie z balkonem – Kraków, ul. Nad Potokiem', 'Mieszkanie Kraków 29 listopada - okolice 67.5m2 3 pokoje']\n",
      "60\n",
      "Prices: ['3 800 zł', '3 000 zł', '990 000 zł', '1 590 000 zł', '1 137 500 zł', '1 185 000 zł', '470 000 zł', '379 999 zł', '599 000 zł', '435 000 zł', '669 000 zł', '819 000 zł', '1 680 000 zł', '660 000 zł', '3 900 zł', '699 000 zł', '868 462 zł', '933 000 zł', '1 155 360 zł', '880 000 zł', '1 232 790 zł', '1 800 zł', '499 000 zł', '1 723 500 zł', '799 000 zł', '1 175 000 zł', '200 000 zł', '2 586 330 zł', '1 159 000 zł', '2 800 zł', '709 999 zł', '825 000 zł', '904 797 zł', '763 430 zł', '750 867 zł', '821 804 zł', '1 355 000 zł', '4 700 000 zł', '3 700 zł', '985 000 zł', '860 000 zł', '821 804 zł', '1 347 675 zł', '1 699 000 zł', '650 000 zł', '3 000 zł', '3 300 zł', '975 000 zł', '4 143 zł', '790 000 zł', '2 200 zł', '2 400 zł', '1 330 000 zł', '669 000 zł', '669 000 zł', '494 000 zł', '2 800 zł', '1 595 000 zł', '2 200 zł', '870 750 zł']\n",
      "60\n"
     ]
    }
   ],
   "source": [
    "import requests\n",
    "from bs4 import BeautifulSoup\n",
    "import pandas as pd\n",
    "import os\n",
    "\n",
    "url = \"https://sprzedajemy.pl/krakow/nieruchomosci/mieszkania?offset=0&items_per_page=60\"\n",
    "\n",
    "headers = {\n",
    "    \"User-Agent\": \"Mozilla/5.0 (Windows NT 10.0; Win64; x64) AppleWebKit/537.36 (KHTML, like Gecko) Chrome/58.0.3029.110 Safari/537.36\",\n",
    "    \"Accept\": \"text/html,application/xhtml+xml,application/xml;q=0.9,image/webp,image/apng,*/*;q=0.8\",\n",
    "    \"Accept-Encoding\": \"gzip, deflate, br\",\n",
    "    \"Accept-Language\": \"en-US,en;q=0.9,pl;q=0.8\",\n",
    "    \"Connection\": \"keep-alive\"\n",
    "}\n",
    "\n",
    "response = requests.get(url, headers=headers)\n",
    "response = requests.get(url, headers=headers)\n",
    "\n",
    "# Debugowanie odpowiedzi\n",
    "print(f\"Status Code: {response.status_code}\")\n",
    "print(f\"Response Headers: {response.headers}\")\n",
    "print(f\"Response Text (first 2000 chars): {response.text[:2000]}\")\n",
    "\n",
    "# Jeśli odpowiedź jest poprawna, wykonaj webscraping\n",
    "if response.status_code == 200:\n",
    "    soup = BeautifulSoup(response.content, \"html.parser\")\n",
    "\n",
    "    # Pobieranie ofert mieszkań\n",
    "    titles = [h2.a.text.strip() for h2 in soup.find_all(\"h2\", class_=\"title\") if h2.a]\n",
    "    prices = [p.text.replace(\"\\xa0\", \" \").strip() for p in soup.find_all(\"span\", class_=\"price\")]\n",
    "\n",
    "    print(\"Titles:\", titles)\n",
    "    print(len(titles))\n",
    "    print(\"Prices:\", prices)\n",
    "    print(len(prices))\n",
    "\n",
    "    df = pd.DataFrame({\"Title\": titles, \"Price\": prices})\n",
    "\n",
    "    # Dopisanie do pliku CSV\n",
    "    df.to_csv(\"scraped_data.csv\", mode='a', header=not os.path.exists('scraped_data.csv'), index=False)\n",
    "else:\n",
    "    print(\"Failed to retrieve data.\")\n"
   ]
  }
 ],
 "metadata": {
  "colab": {
   "provenance": []
  },
  "kernelspec": {
   "display_name": "Python 3",
   "name": "python3"
  },
  "language_info": {
   "codemirror_mode": {
    "name": "ipython",
    "version": 3
   },
   "file_extension": ".py",
   "mimetype": "text/x-python",
   "name": "python",
   "nbconvert_exporter": "python",
   "pygments_lexer": "ipython3",
   "version": "3.9.21"
  },
  "papermill": {
   "default_parameters": {},
   "duration": 3.685032,
   "end_time": "2025-04-03T22:47:14.172240",
   "environment_variables": {},
   "exception": null,
   "input_path": "nb.ipynb",
   "output_path": "nbo.ipynb",
   "parameters": {},
   "start_time": "2025-04-03T22:47:10.487208",
   "version": "2.6.0"
  }
 },
 "nbformat": 4,
 "nbformat_minor": 5
}