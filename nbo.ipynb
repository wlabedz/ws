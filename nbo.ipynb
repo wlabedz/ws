{
 "cells": [
  {
   "cell_type": "code",
   "execution_count": 1,
   "id": "8be2b7a0",
   "metadata": {
    "colab": {
     "base_uri": "https://localhost:8080/"
    },
    "execution": {
     "iopub.execute_input": "2025-08-04T14:57:52.269810Z",
     "iopub.status.busy": "2025-08-04T14:57:52.269528Z",
     "iopub.status.idle": "2025-08-04T14:57:54.507190Z",
     "shell.execute_reply": "2025-08-04T14:57:54.506456Z"
    },
    "id": "5pYh4c8j1w43",
    "outputId": "8a0dca73-64e5-4f0d-c493-2c5b38392363",
    "papermill": {
     "duration": 2.241925,
     "end_time": "2025-08-04T14:57:54.508273",
     "exception": false,
     "start_time": "2025-08-04T14:57:52.266348",
     "status": "completed"
    },
    "tags": []
   },
   "outputs": [
    {
     "name": "stdout",
     "output_type": "stream",
     "text": [
      "Status Code: 200\n",
      "Response Headers: {'Server': 'nginx', 'Date': 'Mon, 04 Aug 2025 14:57:54 GMT', 'Content-Type': 'text/html; charset=UTF-8', 'Transfer-Encoding': 'chunked', 'Vary': 'Accept-Encoding, User-Agent', 'Set-Cookie': 'FRSPSID=7uk8tm7d6pckfu4p6bc0k4po56; path=/; domain=.sprzedajemy.pl; secure; HttpOnly, _items_per_page__offer_list=60; expires=Wed, 03-Sep-2025 14:57:53 GMT; Max-Age=2592000; path=/; domain=.sprzedajemy.pl; secure; httponly, observed_id=4325601326890ca7210f745123182554625783878; expires=Sat, 04-Aug-2125 15:57:54 GMT; Max-Age=3155677200; path=/; domain=.sprzedajemy.pl; secure; httponly', 'Expires': 'Thu, 19 Nov 1981 08:52:00 GMT', 'Cache-Control': 'no-store, no-cache, must-revalidate, post-check=0, pre-check=0', 'Pragma': 'no-cache', 'Content-Encoding': 'gzip'}\n",
      "Response Text (first 2000 chars): <!DOCTYPE html><html xmlns=\"http://www.w3.org/1999/xhtml\" xml:lang=\"pl\" lang=\"pl\" class=\"no-js\" >\n",
      "<head>\n",
      "\t\t\t<!-- Google Tag Manager -->\n",
      "\t\t\t<script>(function(w,d,s,l,i){w[l]=w[l]||[];w[l].push({'gtm.start':\n",
      "\t\t\t\t\t\tnew Date().getTime(),event:'gtm.js'});var f=d.getElementsByTagName(s)[0],\n",
      "\t\t\t\t\tj=d.createElement(s),dl=l!='dataLayer'?'&l='+l:'';j.async=true;j.src=\n",
      "\t\t\t\t\t'https://www.googletagmanager.com/gtm.js?id='+i+dl\n",
      "\t\t\t\t\t\t\t\t\t    ;f.parentNode.insertBefore(j,f);\n",
      "\t\t\t\t    })(window,document,'script','dataLayer','GTM-P3S238');</script>\n",
      "\t\t\t<!-- End Google Tag Manager -->\n",
      "\t<title>Mieszkania Kraków na sprzedaż, wynajem - Sprzedajemy.pl</title><meta http-equiv=\"Content-Type\" content=\"text/html; charset=UTF-8\" >\n",
      "<meta http-equiv=\"X-UA-Compatible\" content=\"IE=edge\" >\n",
      "<meta name=\"description\" content=\"Ogłoszenia o tematyce:  w kategorii Mieszkania - Kupuj i sprzedawaj rzeczy używane i nowe w kategorii Mieszkania na Sprzedajemy.pl\" >\n",
      "<meta property=\"og:title\" content=\"Mieszkania Kraków na sprzedaż, wynajem - Sprzedajemy.pl\" >\n",
      "<meta property=\"og:type\" content=\"website\" >\n",
      "<meta property=\"og:image\" content=\"https://thumbs.img-sprzedajemy.pl/facebook/sprzedajemy.pl.png\" >\n",
      "<meta property=\"og:image:width\" content=\"200\" >\n",
      "<meta property=\"og:image:height\" content=\"200\" >\n",
      "<meta property=\"og:url\" content=\"https://sprzedajemy.pl/krakow/nieruchomosci/mieszkania\" >\n",
      "<meta property=\"og:site_name\" content=\"Sprzedajemy.pl\" >\n",
      "<meta property=\"fb:app_id\" content=\"173258269367442\" >\n",
      "<meta property=\"og:description\" content=\"Ogłoszenia o tematyce:  w kategorii Mieszkania - Kupuj i sprzedawaj rzeczy używane i nowe w kategorii Mieszkania na Sprzedajemy.pl\" >\n",
      "<meta name=\"robots\" content=\"noindex, follow\" >\t\t<script  async=\"async\" src=\"https://static.criteo.net/js/ld/publishertag.js\"></script>\n",
      "        <script  async=\"async\" src=\"https://ap.lijit.com/www/sovrn_beacon_standalone/sovrn_standalone_beacon.js?iid=13417409&amp;uid=sprzedajemy\" id=\"sBeacon\"></script>\n",
      "\t\t<script  async=\"async\" src=\"https://securepuba\n",
      "Titles: ['3 niezależne lokale z KW– inwestycja z potencjałem', 'Mieszkanie na sprzedaż/zamiana 39m2', 'Mieszkanie Wola Justowska /Bielany 36m2', 'Nowoczesny apartament z panoramicznym widokiem - od właściciela', 'Wyjątkowe mieszkanie z widokiem na klasztor w Tyńcu i panoramę Tatr', 'Stylowy apartament z widokiem na panoramę Krakowa - od właściciela', 'Kraków, Stare Miasto sprzedaż/zamiana', '4pokoje 68m2 balkon KLIMA Śródmieście BEZ PROWIZJI od właściciela', 'Mieszkanie 3-pokojowe. Duży balkon. Dobra komunikacja, Od właściciela', 'Dom - Kraków Tonie - Zielona okolica - 123 m2 | 5 - pok. | Ogród | Taras |…', 'Mieszkanie 30m2 Kraków Fieldorfa-Nila', 'Oferta sprzedaży mieszkania Kraków płk. Francesco Nullo 54.3m2 2-pokojowe', 'Ogłoszenie mieszkanie Kraków Juliusza Lea 29.02m2 1 pokojowe', 'Mieszkanie 62.12m2 3 pok Kraków', 'Mieszkanie 38.53m2 Kraków os. Bohaterów Września', 'Mieszkanie 35m2 1 pokój Kraków Lubomirskiego', 'Wprowadź się od zaraz! Wyposażone mieszkanie 39m² na Grzegórzkach', 'Mieszkanie Kraków Stachiewicza 37m2 2 pokojowe', 'Oferta wynajmu mieszkania 120m2 4 pokoje Kraków Przedwiośnie', 'Kawalerka 24m2 - widok I Park Krowoderski', 'Mieszkanie 54.3m2 3 pokojowe Kraków os. Strusia', 'Sprzedamy wyjątkowe mieszkanie na urokliwym osiedlu Kliny. :)', '49m2, 3 pokoje, świeżo po remoncie, OD WŁAŚCICIELA', 'Pokój jednoosobowy ul. Słomiana / 1250 zł', 'Wynajmę mieszkanie w Krakowie Bronowicach', '2 pokojowe Konfederacka / Rondo Grunwaldzkie, ICE', 'Sprzedamy wyjątkowe mieszkanie na urokliwym osiedlu Kliny. :)', '3 pokojowe Rakowcka 22C', '3-pokojowe na Republiki Korczakowskiej na sprzedaż!', '2 POKOJOWE 34MKW na Okólnej na sprzedaż!', 'Apartament, 2 pokoje, jadalnia, garaż,Krowodrza', 'Wyjątkowe dwupokojowe mieszkanie przy ul. Domagały', 'Nowoczesny apartament 4 pokoje 2 miejsca okazja', 'Mieszkanie Kraków Bonarka 30 metrów 1 pokój', 'Sprzedamy wyjątkowe mieszkanie na urokliwym osiedlu Kliny. :)', 'Mieszkanie do wynajęcia', 'Mieszkanie 74.41m 3 pokojowe Kraków', 'Do wynajęcia 3 pok mieszkanie Krakow', '3-pokojowe na Powstańców na sprzedaż!', 'Mieszkanie, w Kamienicy po remoncie na rogu ul. Jana Sobieskiego', 'Wyjątkowe 3 pokoje 60 m² w Krakowie-Bronowicach | Premium | Gotowe!', '2-pokojowe mieszkanie na Zabłociu – ciche, świetna lokalizacja! [Wirtualny…', 'Apartament 45 m2, Kraków Ruczaj HSBC SHELL MOTOROLA', '3 pok. Wieliczka Park, msc. post., wysoki standard', 'Mieszkanie na wynajem', 'Mieszkanie Os. Avia Kraków, widok na góry', 'Mieszkanie 71.27m2 4 pokoje Kraków Stefana Banacha', 'Stare Miasto 32m2 KLIMA Wawel wykończone Kazimierz wysokie ROI', 'Kraków Stare Miasto 62 m2 KLIMA Wawel wykończone Kazimierz INWESTYCYJNE', 'Pet Friendly - mieszkanie do wynajęcia na Czyżynach 30m² od zaraz', '2 POKOJE z klimatem | Dąbska | TAURON Arena | Balkon', 'Nowoczesne 3-pokojowe mieszkanie 48 m² – Pachońskiego / od zaraz', 'Mieszkanie 54.87m2 Kraków', 'Mieszkanie 50m 2 pokoje Kraków', '2 pokoje z garderobą - bez barier - bez prowizji!', '2- pokojowe mieszkanie | K. Kołłątajowskiej | 57m2', 'Mieszkanie Ruczaj Bobrzynskiego', 'Piękne 3 pokojowe mieszkanie z widokiem na Park Orlińskiego / Avia', '2-pokojowe mieszkanie po remoncie | PROMOCJA | ul Bronowicka', 'Mieszkanie 3 pokojowe, Galicyjska Kraków Czyżyny, 61m2']\n",
      "60\n",
      "Prices: ['279 000 zł', '526 000 zł', '487 000 zł', '997 000 zł', '779 000 zł', '897 000 zł', '2 153 000 zł', '1 850 000 zł', '3 500 zł', '2 275 000 zł', '2 000 zł', '915 000 zł', '590 000 zł', '1 049 000 zł', '649 000 zł', '2 200 zł', '749 000 zł', '579 000 zł', '9 000 zł', '369 000 zł', '619 000 zł', '689 000 zł', '669 000 zł', '1 250 zł', '3 000 zł', '3 000 zł', '689 000 zł', '4 300 zł', '860 000 zł', '525 000 zł', '3 800 zł', '549 000 zł', '1 200 000 zł', '2 000 zł', '689 000 zł', '1 900 zł', '1 175 000 zł', '3 000 zł', '675 000 zł', '886 000 zł', '1 220 000 zł', '499 000 zł', '3 100 zł', '840 000 zł', '2 500 zł', '998 000 zł', '1 299 000 zł', '989 000 zł', '1 828 000 zł', '2 050 zł', '3 700 zł', '3 500 zł', '819 000 zł', '710 000 zł', '630 000 zł', '645 000 zł', '580 000 zł', '3 500 zł', '699 999 zł', '1 067 500 zł']\n",
      "60\n"
     ]
    }
   ],
   "source": [
    "import requests\n",
    "from bs4 import BeautifulSoup\n",
    "import pandas as pd\n",
    "import os\n",
    "\n",
    "url = \"https://sprzedajemy.pl/krakow/nieruchomosci/mieszkania?offset=0&items_per_page=60\"\n",
    "\n",
    "headers = {\n",
    "    \"User-Agent\": \"Mozilla/5.0 (Windows NT 10.0; Win64; x64) AppleWebKit/537.36 (KHTML, like Gecko) Chrome/58.0.3029.110 Safari/537.36\",\n",
    "    \"Accept\": \"text/html,application/xhtml+xml,application/xml;q=0.9,image/webp,image/apng,*/*;q=0.8\",\n",
    "    \"Accept-Encoding\": \"gzip, deflate, br\",\n",
    "    \"Accept-Language\": \"en-US,en;q=0.9,pl;q=0.8\",\n",
    "    \"Connection\": \"keep-alive\"\n",
    "}\n",
    "\n",
    "response = requests.get(url, headers=headers)\n",
    "response = requests.get(url, headers=headers)\n",
    "\n",
    "# Debugowanie odpowiedzi\n",
    "print(f\"Status Code: {response.status_code}\")\n",
    "print(f\"Response Headers: {response.headers}\")\n",
    "print(f\"Response Text (first 2000 chars): {response.text[:2000]}\")\n",
    "\n",
    "# Jeśli odpowiedź jest poprawna, wykonaj webscraping\n",
    "if response.status_code == 200:\n",
    "    soup = BeautifulSoup(response.content, \"html.parser\")\n",
    "\n",
    "    # Pobieranie ofert mieszkań\n",
    "    titles = [h2.a.text.strip() for h2 in soup.find_all(\"h2\", class_=\"title\") if h2.a]\n",
    "    prices = [p.text.replace(\"\\xa0\", \" \").strip() for p in soup.find_all(\"span\", class_=\"price\")]\n",
    "\n",
    "    print(\"Titles:\", titles)\n",
    "    print(len(titles))\n",
    "    print(\"Prices:\", prices)\n",
    "    print(len(prices))\n",
    "\n",
    "    df = pd.DataFrame({\"Title\": titles, \"Price\": prices})\n",
    "\n",
    "    # Dopisanie do pliku CSV\n",
    "    df.to_csv(\"scraped_data.csv\", mode='a', header=not os.path.exists('scraped_data.csv'), index=False)\n",
    "else:\n",
    "    print(\"Failed to retrieve data.\")\n"
   ]
  }
 ],
 "metadata": {
  "colab": {
   "provenance": []
  },
  "kernelspec": {
   "display_name": "Python 3",
   "name": "python3"
  },
  "language_info": {
   "codemirror_mode": {
    "name": "ipython",
    "version": 3
   },
   "file_extension": ".py",
   "mimetype": "text/x-python",
   "name": "python",
   "nbconvert_exporter": "python",
   "pygments_lexer": "ipython3",
   "version": "3.9.23"
  },
  "papermill": {
   "default_parameters": {},
   "duration": 6.236272,
   "end_time": "2025-08-04T14:57:57.630188",
   "environment_variables": {},
   "exception": null,
   "input_path": "nb.ipynb",
   "output_path": "nbo.ipynb",
   "parameters": {},
   "start_time": "2025-08-04T14:57:51.393916",
   "version": "2.6.0"
  }
 },
 "nbformat": 4,
 "nbformat_minor": 5
}