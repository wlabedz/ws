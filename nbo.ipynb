{
 "cells": [
  {
   "cell_type": "code",
   "execution_count": 1,
   "id": "1328924b",
   "metadata": {
    "colab": {
     "base_uri": "https://localhost:8080/"
    },
    "execution": {
     "iopub.execute_input": "2025-09-01T10:56:39.086524Z",
     "iopub.status.busy": "2025-09-01T10:56:39.086257Z",
     "iopub.status.idle": "2025-09-01T10:56:41.530231Z",
     "shell.execute_reply": "2025-09-01T10:56:41.529594Z"
    },
    "id": "5pYh4c8j1w43",
    "outputId": "8a0dca73-64e5-4f0d-c493-2c5b38392363",
    "papermill": {
     "duration": 2.447583,
     "end_time": "2025-09-01T10:56:41.531325",
     "exception": false,
     "start_time": "2025-09-01T10:56:39.083742",
     "status": "completed"
    },
    "tags": []
   },
   "outputs": [
    {
     "name": "stdout",
     "output_type": "stream",
     "text": [
      "Status Code: 200\n",
      "Response Headers: {'Server': 'nginx', 'Date': 'Mon, 01 Sep 2025 10:56:41 GMT', 'Content-Type': 'text/html; charset=UTF-8', 'Transfer-Encoding': 'chunked', 'Vary': 'Accept-Encoding, User-Agent', 'Set-Cookie': 'FRSPSID=m99st9lfcb0b42nu1lgt4b1sg5; path=/; domain=.sprzedajemy.pl; secure; HttpOnly, _items_per_page__offer_list=60; expires=Wed, 01-Oct-2025 10:56:40 GMT; Max-Age=2592000; path=/; domain=.sprzedajemy.pl; secure; httponly, observed_id=184173382868b57be913196271215923877411561; expires=Sat, 01-Sep-2125 11:56:41 GMT; Max-Age=3155677200; path=/; domain=.sprzedajemy.pl; secure; httponly', 'Expires': 'Thu, 19 Nov 1981 08:52:00 GMT', 'Cache-Control': 'no-store, no-cache, must-revalidate, post-check=0, pre-check=0', 'Pragma': 'no-cache', 'Content-Encoding': 'gzip'}\n",
      "Response Text (first 2000 chars): <!DOCTYPE html><html xmlns=\"http://www.w3.org/1999/xhtml\" xml:lang=\"pl\" lang=\"pl\" class=\"no-js\" >\n",
      "<head>\n",
      "\t\t\t<!-- Google Tag Manager -->\n",
      "\t\t\t<script>(function(w,d,s,l,i){w[l]=w[l]||[];w[l].push({'gtm.start':\n",
      "\t\t\t\t\t\tnew Date().getTime(),event:'gtm.js'});var f=d.getElementsByTagName(s)[0],\n",
      "\t\t\t\t\tj=d.createElement(s),dl=l!='dataLayer'?'&l='+l:'';j.async=true;j.src=\n",
      "\t\t\t\t\t'https://www.googletagmanager.com/gtm.js?id='+i+dl\n",
      "\t\t\t\t\t\t\t\t\t    ;f.parentNode.insertBefore(j,f);\n",
      "\t\t\t\t    })(window,document,'script','dataLayer','GTM-P3S238');</script>\n",
      "\t\t\t<!-- End Google Tag Manager -->\n",
      "\t<title>Mieszkania Kraków na sprzedaż, wynajem - Sprzedajemy.pl</title><meta http-equiv=\"Content-Type\" content=\"text/html; charset=UTF-8\" >\n",
      "<meta http-equiv=\"X-UA-Compatible\" content=\"IE=edge\" >\n",
      "<meta name=\"description\" content=\"Ogłoszenia o tematyce:  w kategorii Mieszkania - Kupuj i sprzedawaj rzeczy używane i nowe w kategorii Mieszkania na Sprzedajemy.pl\" >\n",
      "<meta property=\"og:title\" content=\"Mieszkania Kraków na sprzedaż, wynajem - Sprzedajemy.pl\" >\n",
      "<meta property=\"og:type\" content=\"website\" >\n",
      "<meta property=\"og:image\" content=\"https://thumbs.img-sprzedajemy.pl/facebook/sprzedajemy.pl.png\" >\n",
      "<meta property=\"og:image:width\" content=\"200\" >\n",
      "<meta property=\"og:image:height\" content=\"200\" >\n",
      "<meta property=\"og:url\" content=\"https://sprzedajemy.pl/krakow/nieruchomosci/mieszkania\" >\n",
      "<meta property=\"og:site_name\" content=\"Sprzedajemy.pl\" >\n",
      "<meta property=\"fb:app_id\" content=\"173258269367442\" >\n",
      "<meta property=\"og:description\" content=\"Ogłoszenia o tematyce:  w kategorii Mieszkania - Kupuj i sprzedawaj rzeczy używane i nowe w kategorii Mieszkania na Sprzedajemy.pl\" >\n",
      "<meta name=\"robots\" content=\"noindex, follow\" >\t\t<script  async=\"async\" src=\"https://static.criteo.net/js/ld/publishertag.js\"></script>\n",
      "        <script  async=\"async\" src=\"https://ap.lijit.com/www/sovrn_beacon_standalone/sovrn_standalone_beacon.js?iid=13417409&amp;uid=sprzedajemy\" id=\"sBeacon\"></script>\n",
      "\t\t<script  async=\"async\" src=\"https://securepuba\n"
     ]
    },
    {
     "name": "stdout",
     "output_type": "stream",
     "text": [
      "Titles: ['2-pokojowe mieszkanie po remoncie | PROMOCJA | ul Bronowicka', '3 niezależne lokale z KW– inwestycja z potencjałem', 'Oferta wynajmu mieszkania 35.84m2 2 pokoje Kraków Romanowicza', 'Mieszkanie Kraków 24.3m 1-pokojowe', 'Mieszkanie na sprzedaż/zamiana 39m2', 'Kraków, Stare Miasto sprzedaż/zamiana', 'Wynajmę mieszkanie 2 pokojowe+ogródek Kraków, ul. Żabiniec', 'Mieszkanie do wynajęcia 38m2 2 pokojowe Kraków', 'Do sprzedaży mieszkanie Kraków os. Górali 46m2 2 pok', 'Stylowy lokal na parterze przy Krowoderskiej', 'Mieszkanie dwupokojowe 52,7m2 na Lipińskiego, Ruczaj-Zaborze, od właścicie…', 'MIESZKANIE KRAKÓW UL. ŁUŻYCKA 53 PIASKI NOWE', 'wynajme 2 pok z aneksem 34m, os Dywizjonu 303 , od wlasciciela', '2-pokojowe 45m2 pod Lasem Borkowskim', 'Oferta wynajmu mieszkania Kraków 35m2 2-pok', 'Mieszkanie 3 pokojowe, oddzielna kuchnia, balkon', 'Dwa ustawne pokoje w centrum - do remontu', 'Dom modułowy prefabrykowany Dubai Prestige', 'Kraków – 3 pokojowy apartament na sprzedaż na kameralnym osiedlu', 'Mieszkanie Kraków 50.02m2 3 pokoje', 'Sprzedam mieszkanie w systemie TBS', '2 POKOJE z klimatem | Dąbska | TAURON Arena | Balkon | aż 55 m²!', 'NOWA CENA Kraków – 3 pokojowy apartament na sprzedaż na kameralnym osiedlu…', 'Wynajmę pokój z kuchnią blisko centrum, ul. Cieszyńska', 'Kraków – 2 pokojowy apartament w wysokim standardzie Piasta Towers', 'Bezpośrednio Mieszkanie zadbane 3 pok 63m2 ogródek klima parking', 'Blisko centrum i tramwaju | kawalerka 27m na Dąbiu', '3-pokojowe na Powstańców na sprzedaż!', 'WŁAŚCICIEL Na sprzedaż – trzypokojowe mieszkanie w znakomitej lokalizacji!', 'Mieszkanie 71.27m2 4 pokoje Kraków Stefana Banacha', 'BEZ PROWIZJI 2 niezależne, zamykane pokoje |osobna kuchnia z oknem | balko…', 'Mieszkanie 63m2 3 pokoje Kraków', '3-pokojowe mieszkanie z miejscem parkingowym', 'Mieszkanie do sprzedania 41.53m2 2-pok Kraków os. Teatralne', 'mieszkanie 38m² z widokiem na las | Borek Fałęcki', 'Mieszkanie Kraków 95.24m 2 pokoje', 'Kawalerka z ogródkiem w Krakowie na sprzedaż – Prądnik Czerwony.', 'Mieszkanie w stanie deweloperskim Mistrzejowice', 'Mieszkanie 50m 2 pokoje Kraków', 'Jasne mieszkanie w kamienicy Salwator', 'Kawalerka w kamienicy Salwator', 'Mieszkanie 69m2 3 pokoje Kraków', 'Mieszkanie Ruczaj Bobrzynskiego', 'Nowe 2 pokoje z ogródkiem | Zakątek Dąbie | miejsce parkingowe w prezencie', '2 lub 3 pokoje,62m2,balkon,widok na Wawel', 'Nowoczesny 2-pokojowy apartament Kazimierz Kraków!', 'Nowe mieszkanie 2 pokoje Kraków Prokocim', 'Sprzedam mieszkanie Kraków 2pokoje Jerzmanowskiego', 'Na sprzedaż mieszkanie | Wiślane Tarasy | 44,3 m²', 'Mieszkanie Kraków Bartosza Głowackiego 34.11m2 1 pokój', 'Mieszkanie Kraków 61.9m2 3 pokojowe', 'Mieszkanie Kraków Krupnicza 32m2 1 pokojowe', 'Oferta sprzedaży mieszkania Kraków Macieja Dębskiego 49.93 metry 3-pokojowe', 'Mieszkanie 45m2 2-pokojowe Kraków', 'Sprzedam mieszkanie 58m2 3-pokojowe Kraków Fatimska', 'Mieszkanie Kraków 51.71m2 3 pokojowe', 'Mieszkanie 98 metrów 3 pokoje Kraków Bolesława Komorowskiego', 'Mieszkanie 38.4m2 2 pokojowe Kraków', 'Mieszkanie 51.71m2 3 pokoje Kraków al. 29 Listopada', 'Mieszkanie Kraków Borkowska 50m2']\n",
      "60\n",
      "Prices: ['710 000 zł', '265 000 zł', '3 005 zł', '429 000 zł', '526 000 zł', '2 083 000 zł', '3 400 zł', '572 zł', '529 000 zł', '1 800 000 zł', '3 200 zł', '730 000 zł', '2 200 zł', '4 100 zł', '2 500 zł', '825 000 zł', '399 000 zł', '580 000 zł', '939 000 zł', '775 000 zł', '175 000 zł', '3 700 zł', '939 000 zł', '2 000 zł', '799 000 zł', '4 000 zł', '581 000 zł', '675 000 zł', '650 000 zł', '1 299 000 zł', '639 000 zł', '4 000 zł', '799 000 zł', '495 000 zł', '495 000 zł', '3 500 zł', '449 000 zł', '590 000 zł', '710 000 zł', '3 300 zł', '2 300 zł', '2 500 zł', '580 000 zł', '899 900 zł', '1 490 000 zł', '819 000 zł', '799 000 zł', '779 000 zł', '999 000 zł', '648 000 zł', '780 000 zł', '2 700 zł', '639 000 zł', '1 150 000 zł', '753 000 zł', '3 500 zł', '5 800 zł', '2 900 zł', '925 000 zł', '699 000 zł']\n",
      "60\n"
     ]
    }
   ],
   "source": [
    "import requests\n",
    "from bs4 import BeautifulSoup\n",
    "import pandas as pd\n",
    "import os\n",
    "\n",
    "url = \"https://sprzedajemy.pl/krakow/nieruchomosci/mieszkania?offset=0&items_per_page=60\"\n",
    "\n",
    "headers = {\n",
    "    \"User-Agent\": \"Mozilla/5.0 (Windows NT 10.0; Win64; x64) AppleWebKit/537.36 (KHTML, like Gecko) Chrome/58.0.3029.110 Safari/537.36\",\n",
    "    \"Accept\": \"text/html,application/xhtml+xml,application/xml;q=0.9,image/webp,image/apng,*/*;q=0.8\",\n",
    "    \"Accept-Encoding\": \"gzip, deflate, br\",\n",
    "    \"Accept-Language\": \"en-US,en;q=0.9,pl;q=0.8\",\n",
    "    \"Connection\": \"keep-alive\"\n",
    "}\n",
    "\n",
    "response = requests.get(url, headers=headers)\n",
    "response = requests.get(url, headers=headers)\n",
    "\n",
    "# Debugowanie odpowiedzi\n",
    "print(f\"Status Code: {response.status_code}\")\n",
    "print(f\"Response Headers: {response.headers}\")\n",
    "print(f\"Response Text (first 2000 chars): {response.text[:2000]}\")\n",
    "\n",
    "# Jeśli odpowiedź jest poprawna, wykonaj webscraping\n",
    "if response.status_code == 200:\n",
    "    soup = BeautifulSoup(response.content, \"html.parser\")\n",
    "\n",
    "    # Pobieranie ofert mieszkań\n",
    "    titles = [h2.a.text.strip() for h2 in soup.find_all(\"h2\", class_=\"title\") if h2.a]\n",
    "    prices = [p.text.replace(\"\\xa0\", \" \").strip() for p in soup.find_all(\"span\", class_=\"price\")]\n",
    "\n",
    "    print(\"Titles:\", titles)\n",
    "    print(len(titles))\n",
    "    print(\"Prices:\", prices)\n",
    "    print(len(prices))\n",
    "\n",
    "    df = pd.DataFrame({\"Title\": titles, \"Price\": prices})\n",
    "\n",
    "    # Dopisanie do pliku CSV\n",
    "    df.to_csv(\"scraped_data.csv\", mode='a', header=not os.path.exists('scraped_data.csv'), index=False)\n",
    "else:\n",
    "    print(\"Failed to retrieve data.\")\n"
   ]
  }
 ],
 "metadata": {
  "colab": {
   "provenance": []
  },
  "kernelspec": {
   "display_name": "Python 3",
   "name": "python3"
  },
  "language_info": {
   "codemirror_mode": {
    "name": "ipython",
    "version": 3
   },
   "file_extension": ".py",
   "mimetype": "text/x-python",
   "name": "python",
   "nbconvert_exporter": "python",
   "pygments_lexer": "ipython3",
   "version": "3.9.23"
  },
  "papermill": {
   "default_parameters": {},
   "duration": 3.670064,
   "end_time": "2025-09-01T10:56:41.849327",
   "environment_variables": {},
   "exception": null,
   "input_path": "nb.ipynb",
   "output_path": "nbo.ipynb",
   "parameters": {},
   "start_time": "2025-09-01T10:56:38.179263",
   "version": "2.6.0"
  }
 },
 "nbformat": 4,
 "nbformat_minor": 5
}