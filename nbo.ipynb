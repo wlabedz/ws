{
 "cells": [
  {
   "cell_type": "code",
   "execution_count": 1,
   "id": "e5505fff",
   "metadata": {
    "colab": {
     "base_uri": "https://localhost:8080/"
    },
    "execution": {
     "iopub.execute_input": "2025-08-08T06:34:23.224783Z",
     "iopub.status.busy": "2025-08-08T06:34:23.224556Z",
     "iopub.status.idle": "2025-08-08T06:34:25.188584Z",
     "shell.execute_reply": "2025-08-08T06:34:25.187861Z"
    },
    "id": "5pYh4c8j1w43",
    "outputId": "8a0dca73-64e5-4f0d-c493-2c5b38392363",
    "papermill": {
     "duration": 1.967268,
     "end_time": "2025-08-08T06:34:25.189722",
     "exception": false,
     "start_time": "2025-08-08T06:34:23.222454",
     "status": "completed"
    },
    "tags": []
   },
   "outputs": [
    {
     "name": "stdout",
     "output_type": "stream",
     "text": [
      "Status Code: 200\n",
      "Response Headers: {'Server': 'nginx', 'Date': 'Fri, 08 Aug 2025 06:34:24 GMT', 'Content-Type': 'text/html; charset=UTF-8', 'Transfer-Encoding': 'chunked', 'Vary': 'Accept-Encoding, User-Agent', 'Set-Cookie': 'FRSPSID=7jvqrop6o4ed6g2jhmlitccb00; path=/; domain=.sprzedajemy.pl; secure; HttpOnly, _items_per_page__offer_list=60; expires=Sun, 07-Sep-2025 06:34:24 GMT; Max-Age=2592000; path=/; domain=.sprzedajemy.pl; secure; httponly, observed_id=150730707168959a70c0230324875329165034783; expires=Wed, 08-Aug-2125 07:34:24 GMT; Max-Age=3155677200; path=/; domain=.sprzedajemy.pl; secure; httponly', 'Expires': 'Thu, 19 Nov 1981 08:52:00 GMT', 'Cache-Control': 'no-store, no-cache, must-revalidate, post-check=0, pre-check=0', 'Pragma': 'no-cache', 'Content-Encoding': 'gzip'}\n",
      "Response Text (first 2000 chars): <!DOCTYPE html><html xmlns=\"http://www.w3.org/1999/xhtml\" xml:lang=\"pl\" lang=\"pl\" class=\"no-js\" >\n",
      "<head>\n",
      "\t\t\t<!-- Google Tag Manager -->\n",
      "\t\t\t<script>(function(w,d,s,l,i){w[l]=w[l]||[];w[l].push({'gtm.start':\n",
      "\t\t\t\t\t\tnew Date().getTime(),event:'gtm.js'});var f=d.getElementsByTagName(s)[0],\n",
      "\t\t\t\t\tj=d.createElement(s),dl=l!='dataLayer'?'&l='+l:'';j.async=true;j.src=\n",
      "\t\t\t\t\t'https://www.googletagmanager.com/gtm.js?id='+i+dl\n",
      "\t\t\t\t\t\t\t\t\t    ;f.parentNode.insertBefore(j,f);\n",
      "\t\t\t\t    })(window,document,'script','dataLayer','GTM-P3S238');</script>\n",
      "\t\t\t<!-- End Google Tag Manager -->\n",
      "\t<title>Mieszkania Kraków na sprzedaż, wynajem - Sprzedajemy.pl</title><meta http-equiv=\"Content-Type\" content=\"text/html; charset=UTF-8\" >\n",
      "<meta http-equiv=\"X-UA-Compatible\" content=\"IE=edge\" >\n",
      "<meta name=\"description\" content=\"Ogłoszenia o tematyce:  w kategorii Mieszkania - Kupuj i sprzedawaj rzeczy używane i nowe w kategorii Mieszkania na Sprzedajemy.pl\" >\n",
      "<meta property=\"og:title\" content=\"Mieszkania Kraków na sprzedaż, wynajem - Sprzedajemy.pl\" >\n",
      "<meta property=\"og:type\" content=\"website\" >\n",
      "<meta property=\"og:image\" content=\"https://thumbs.img-sprzedajemy.pl/facebook/sprzedajemy.pl.png\" >\n",
      "<meta property=\"og:image:width\" content=\"200\" >\n",
      "<meta property=\"og:image:height\" content=\"200\" >\n",
      "<meta property=\"og:url\" content=\"https://sprzedajemy.pl/krakow/nieruchomosci/mieszkania\" >\n",
      "<meta property=\"og:site_name\" content=\"Sprzedajemy.pl\" >\n",
      "<meta property=\"fb:app_id\" content=\"173258269367442\" >\n",
      "<meta property=\"og:description\" content=\"Ogłoszenia o tematyce:  w kategorii Mieszkania - Kupuj i sprzedawaj rzeczy używane i nowe w kategorii Mieszkania na Sprzedajemy.pl\" >\n",
      "<meta name=\"robots\" content=\"noindex, follow\" >\t\t<script  async=\"async\" src=\"https://static.criteo.net/js/ld/publishertag.js\"></script>\n",
      "        <script  async=\"async\" src=\"https://ap.lijit.com/www/sovrn_beacon_standalone/sovrn_standalone_beacon.js?iid=13417409&amp;uid=sprzedajemy\" id=\"sBeacon\"></script>\n",
      "\t\t<script  async=\"async\" src=\"https://securepuba\n",
      "Titles: ['Mieszkanie 3-pokojowe. Duży balkon. Dobra komunikacja, Od właściciela', 'Dom - Kraków Tonie - Zielona okolica - 123 m2 | 5 - pok. | Ogród | Taras |…', '3 niezależne lokale z KW– inwestycja z potencjałem', 'Mieszkanie na sprzedaż/zamiana 39m2', 'Mieszkanie Wola Justowska /Bielany 36m2', '4pokoje 68m2 balkon KLIMA Śródmieście BEZ PROWIZJI od właściciela', 'Na sprzedaż – 3-pokojowe mieszkanie KRAKÓW', 'Nowa Kameralna Inwestycja -od Dewelopera, Bieżanów', 'Os. Botanika, apartament 4-5 pokoi, m. parkingowe', 'Kazimierz. Garsoniera po remoncie. Inwestycyjnie', 'Mieszkanie 59.3m2 3 pokojowe Kraków', 'Apartament inwestycyjny w sercu Krakowa', 'Oferta wynajmu mieszkania 63m2 Kraków Władysława Taklińskiego', 'Mieszkanie 3 pokojowe /64,3 m2 / w  super lokalizacji - od właściciela', 'Oferta sprzedaży mieszkania Kraków 58.4m2 5 pokoi', 'Mieszkanie 38.69m2 3 pokoje Kraków Imbramowska', 'Mieszkanie ul. Grodzka | 90m od Rynku Głównego!', 'Oferta wynajmu mieszkania 113m2 3-pokojowe Kraków Krowoderska', 'Oferta sprzedaży mieszkania Kraków 39.27m2', 'Mieszkanie Kraków Jerzego Szablowskiego 47m2 1-pokojowe', 'Mieszkanie 42m2 2 pokoje Kraków Śliczna', 'Mieszkanie 45m2 2 pok Kraków Wiktora Heltmana', 'Na Stoku. Super 2-pokoje. Kuchnia, logia, piwnica', 'Oferta wynajmu mieszkania 49.32m2 2 pok Kraków', 'Do wynajęcia mieszkanie 70m2 3-pokojowe Kraków', 'Wykończone//Prywatnie//3 pok./Nowe//Bez Pcc', 'mieszkanie 2 pokojow dla 1-2 osób od października', 'Kraków, Stare Miasto sprzedaż/zamiana', 'Mieszkanie 38.83m2 2 pokoje Kraków Jana Kantego Federowicza', 'Bezpośrednio wynajmę 2-pokojowe ul.Batorego po remoncie.', 'Mieszkanie Kraków Bohaterów Września 47m2 3-pok', 'Strych, Błonia, ul. Filarecka, Rezerwacja', 'Kraków – Prądnik Biały – ul. Pachońskiego – 2 pokoje – 36 m² – BALKON', '5 min do centrum - 2-pokojowe mieszkanie 48 m² – wysoki standard', 'Mieszkanie Kraków 26.88m2 1-pok', 'Duża kawalerka - Kraków – Salwator – ul. Kościuszki – 2 pokoje – 35 m²', 'Mieszkanie 53m2 z 2 pokojami – ul. Wysockiej, blisko AWF/Politechniki', 'Przytulne 70m2 z 3 pokojami w centrum Krakowa – super lokalizacja Wisła', 'Mieszkanie 104m2 6 pokoi Kraków', 'Apartament 40 m2, Kraków Ruczaj HSBC SHELL MOTOROLA', 'Mieszkanie 3 pokojowe,  pow. 63.80 m2, os. Złotego Wieku', 'APARTAMENT DWUPOZIOMOWY KRAKÓW KAZIMIERZ', 'MIESZKANIE KRAKÓW ul. TELIGI 2', 'Oferta wynajmu mieszkania 51.87 metrów 2-pok Kraków', 'Mieszkanie Kraków Imbramowska 37.02 metry', 'Urokliwy apartament nad Wisłą na Starym Podgórzu', 'Wynajmę mieszkanie 25m2 1 pok Kraków', 'Mieszkanie Kraków Piastów 47.38m2 2 pokoje', 'Oferta sprzedaży mieszkania 136.9m2 5 pokoi Kraków Reduta', 'Jordanowska Prądnik Biały m.postojowe bez prowizji', 'Ogłoszenie mieszkanie Kraków Tadeusza Śliwiaka 81.78m2 4 pok', 'Mieszkanie Kraków Tadeusza Śliwiaka 81.78m2 4 pokoje', 'Do sprzedaży mieszkanie 46.21m2 2 pok Kraków Bukowa', 'Sprzedaż mieszkania 65.57m2 3 pokoje Kraków Tadeusza Śliwiaka', 'Ogłoszenie mieszkanie 51.67m2 2 pok Kraków', 'Mieszkanie 49.52m2 2-pokojowe Kraków', 'Mieszkanie Kraków 211.89m2 5 pokoi', 'Mieszkanie 38.59m2 2 pokojowe Kraków', 'Mieszkanie 50m2 3 pok Kraków Henryka i Karola Czeczów', 'Mieszkanie Kraków os. Kazimierzowskie 24.14m2 1 pokój']\n",
      "60\n",
      "Prices: ['3 500 zł', '2 275 000 zł', '279 000 zł', '526 000 zł', '487 000 zł', '1 850 000 zł', '1 090 000 zł', '840 000 zł', '1 350 000 zł', '399 000 zł', '1 180 000 zł', '1 499 000 zł', '4 000 zł', '997 000 zł', '890 000 zł', '708 772 zł', '1 270 000 zł', '5 500 zł', '655 000 zł', '2 850 zł', '3 600 zł', '3 300 zł', '548 000 zł', '2 250 zł', '3 800 zł', '847 500 zł', '3 000 zł', '2 153 000 zł', '594 252 zł', '3 850 zł', '630 000 zł', '389 999 zł', '2 800 zł', '3 550 zł', '604 773 zł', '2 800 zł', '2 500 zł', '4 299 zł', '1 540 000 zł', '3 100 zł', '769 000 zł', '1 890 000 zł', '690 000 zł', '2 950 zł', '2 500 zł', '1 049 000 zł', '2 290 zł', '745 000 zł', '2 420 000 zł', '699 000 zł', '924 679 zł', '932 862 zł', '572 912 zł', '746 586 zł', '649 000 zł', '639 000 zł', '7 416 150 zł', '530 000 zł', '669 000 zł', '340 000 zł']\n",
      "60\n"
     ]
    }
   ],
   "source": [
    "import requests\n",
    "from bs4 import BeautifulSoup\n",
    "import pandas as pd\n",
    "import os\n",
    "\n",
    "url = \"https://sprzedajemy.pl/krakow/nieruchomosci/mieszkania?offset=0&items_per_page=60\"\n",
    "\n",
    "headers = {\n",
    "    \"User-Agent\": \"Mozilla/5.0 (Windows NT 10.0; Win64; x64) AppleWebKit/537.36 (KHTML, like Gecko) Chrome/58.0.3029.110 Safari/537.36\",\n",
    "    \"Accept\": \"text/html,application/xhtml+xml,application/xml;q=0.9,image/webp,image/apng,*/*;q=0.8\",\n",
    "    \"Accept-Encoding\": \"gzip, deflate, br\",\n",
    "    \"Accept-Language\": \"en-US,en;q=0.9,pl;q=0.8\",\n",
    "    \"Connection\": \"keep-alive\"\n",
    "}\n",
    "\n",
    "response = requests.get(url, headers=headers)\n",
    "response = requests.get(url, headers=headers)\n",
    "\n",
    "# Debugowanie odpowiedzi\n",
    "print(f\"Status Code: {response.status_code}\")\n",
    "print(f\"Response Headers: {response.headers}\")\n",
    "print(f\"Response Text (first 2000 chars): {response.text[:2000]}\")\n",
    "\n",
    "# Jeśli odpowiedź jest poprawna, wykonaj webscraping\n",
    "if response.status_code == 200:\n",
    "    soup = BeautifulSoup(response.content, \"html.parser\")\n",
    "\n",
    "    # Pobieranie ofert mieszkań\n",
    "    titles = [h2.a.text.strip() for h2 in soup.find_all(\"h2\", class_=\"title\") if h2.a]\n",
    "    prices = [p.text.replace(\"\\xa0\", \" \").strip() for p in soup.find_all(\"span\", class_=\"price\")]\n",
    "\n",
    "    print(\"Titles:\", titles)\n",
    "    print(len(titles))\n",
    "    print(\"Prices:\", prices)\n",
    "    print(len(prices))\n",
    "\n",
    "    df = pd.DataFrame({\"Title\": titles, \"Price\": prices})\n",
    "\n",
    "    # Dopisanie do pliku CSV\n",
    "    df.to_csv(\"scraped_data.csv\", mode='a', header=not os.path.exists('scraped_data.csv'), index=False)\n",
    "else:\n",
    "    print(\"Failed to retrieve data.\")\n"
   ]
  }
 ],
 "metadata": {
  "colab": {
   "provenance": []
  },
  "kernelspec": {
   "display_name": "Python 3",
   "name": "python3"
  },
  "language_info": {
   "codemirror_mode": {
    "name": "ipython",
    "version": 3
   },
   "file_extension": ".py",
   "mimetype": "text/x-python",
   "name": "python",
   "nbconvert_exporter": "python",
   "pygments_lexer": "ipython3",
   "version": "3.9.23"
  },
  "papermill": {
   "default_parameters": {},
   "duration": 3.118016,
   "end_time": "2025-08-08T06:34:25.406828",
   "environment_variables": {},
   "exception": null,
   "input_path": "nb.ipynb",
   "output_path": "nbo.ipynb",
   "parameters": {},
   "start_time": "2025-08-08T06:34:22.288812",
   "version": "2.6.0"
  }
 },
 "nbformat": 4,
 "nbformat_minor": 5
}