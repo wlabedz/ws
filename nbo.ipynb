{
 "cells": [
  {
   "cell_type": "code",
   "execution_count": 1,
   "id": "0e6a6ed3",
   "metadata": {
    "colab": {
     "base_uri": "https://localhost:8080/"
    },
    "execution": {
     "iopub.execute_input": "2025-09-19T14:20:46.675036Z",
     "iopub.status.busy": "2025-09-19T14:20:46.674797Z",
     "iopub.status.idle": "2025-09-19T14:20:49.035627Z",
     "shell.execute_reply": "2025-09-19T14:20:49.034873Z"
    },
    "id": "5pYh4c8j1w43",
    "outputId": "8a0dca73-64e5-4f0d-c493-2c5b38392363",
    "papermill": {
     "duration": 2.364248,
     "end_time": "2025-09-19T14:20:49.036761",
     "exception": false,
     "start_time": "2025-09-19T14:20:46.672513",
     "status": "completed"
    },
    "tags": []
   },
   "outputs": [
    {
     "name": "stdout",
     "output_type": "stream",
     "text": [
      "Status Code: 200\n",
      "Response Headers: {'Server': 'nginx', 'Date': 'Fri, 19 Sep 2025 14:20:48 GMT', 'Content-Type': 'text/html; charset=UTF-8', 'Transfer-Encoding': 'chunked', 'Vary': 'Accept-Encoding, User-Agent', 'Set-Cookie': 'FRSPSID=6diupscgq7jrtvujh081p7qlo0; path=/; domain=.sprzedajemy.pl; secure; HttpOnly, _items_per_page__offer_list=60; expires=Sun, 19-Oct-2025 14:20:48 GMT; Max-Age=2592000; path=/; domain=.sprzedajemy.pl; secure; httponly, observed_id=160661253268cd66c095d1d52008610891946384; expires=Wed, 19-Sep-2125 15:20:48 GMT; Max-Age=3155677200; path=/; domain=.sprzedajemy.pl; secure; httponly', 'Expires': 'Thu, 19 Nov 1981 08:52:00 GMT', 'Cache-Control': 'no-store, no-cache, must-revalidate, post-check=0, pre-check=0', 'Pragma': 'no-cache', 'Content-Encoding': 'gzip'}\n",
      "Response Text (first 2000 chars): <!DOCTYPE html><html xmlns=\"http://www.w3.org/1999/xhtml\" xml:lang=\"pl\" lang=\"pl\" class=\"no-js\" >\n",
      "<head>\n",
      "\t\t\t<!-- Google Tag Manager -->\n",
      "\t\t\t<script>(function(w,d,s,l,i){w[l]=w[l]||[];w[l].push({'gtm.start':\n",
      "\t\t\t\t\t\tnew Date().getTime(),event:'gtm.js'});var f=d.getElementsByTagName(s)[0],\n",
      "\t\t\t\t\tj=d.createElement(s),dl=l!='dataLayer'?'&l='+l:'';j.async=true;j.src=\n",
      "\t\t\t\t\t'https://www.googletagmanager.com/gtm.js?id='+i+dl\n",
      "\t\t\t\t\t\t\t\t\t    ;f.parentNode.insertBefore(j,f);\n",
      "\t\t\t\t    })(window,document,'script','dataLayer','GTM-P3S238');</script>\n",
      "\t\t\t<!-- End Google Tag Manager -->\n",
      "\t<title>Mieszkania Kraków na sprzedaż, wynajem - Sprzedajemy.pl</title><meta http-equiv=\"Content-Type\" content=\"text/html; charset=UTF-8\" >\n",
      "<meta http-equiv=\"X-UA-Compatible\" content=\"IE=edge\" >\n",
      "<meta name=\"description\" content=\"Ogłoszenia o tematyce:  w kategorii Mieszkania - Kupuj i sprzedawaj rzeczy używane i nowe w kategorii Mieszkania na Sprzedajemy.pl\" >\n",
      "<meta property=\"og:title\" content=\"Mieszkania Kraków na sprzedaż, wynajem - Sprzedajemy.pl\" >\n",
      "<meta property=\"og:type\" content=\"website\" >\n",
      "<meta property=\"og:image\" content=\"https://thumbs.img-sprzedajemy.pl/facebook/sprzedajemy.pl.png\" >\n",
      "<meta property=\"og:image:width\" content=\"200\" >\n",
      "<meta property=\"og:image:height\" content=\"200\" >\n",
      "<meta property=\"og:url\" content=\"https://sprzedajemy.pl/krakow/nieruchomosci/mieszkania\" >\n",
      "<meta property=\"og:site_name\" content=\"Sprzedajemy.pl\" >\n",
      "<meta property=\"fb:app_id\" content=\"173258269367442\" >\n",
      "<meta property=\"og:description\" content=\"Ogłoszenia o tematyce:  w kategorii Mieszkania - Kupuj i sprzedawaj rzeczy używane i nowe w kategorii Mieszkania na Sprzedajemy.pl\" >\n",
      "<meta name=\"robots\" content=\"noindex, follow\" >\t\t<script  async=\"async\" src=\"https://static.criteo.net/js/ld/publishertag.js\"></script>\n",
      "        <script  async=\"async\" src=\"https://ap.lijit.com/www/sovrn_beacon_standalone/sovrn_standalone_beacon.js?iid=13417409&amp;uid=sprzedajemy\" id=\"sBeacon\"></script>\n",
      "\t\t<script  async=\"async\" src=\"https://securepuba\n",
      "Titles: ['Podedworze 13', 'Stylowy lokal na parterze przy Krowoderskiej', 'Wyjątkowy lokal przy ul. Krowoderskiej z widokiem na stronę ogrodową', 'Dwa pokoje - stare miasto - Do wejścia - Własność', '2-pokojowe mieszkanie po remoncie | PROMOCJA | ul Bronowicka', 'Sprzedam dwupokojowe mieszkanie os. Dywizjonu 303, 19C Kraków', 'Mieszkanie z widokiem na góry', 'Wyjątkowe mieszkanie z widokiem na klasztor w Tyńcu i panoramę Tatr', 'Stylowy apartament z widokiem na panoramę Krakowa - od właściciela', 'Nowoczesny apartament z panoramicznym widokiem - od właściciela', 'Sprzedam mieszkanie 40.96m2 2 pokoje Kraków', 'Mieszkanie 151.37m2 Kraków Olszanicka', 'Mieszkanie 51.19m2 Kraków Pękowicka', 'Mieszkanie 45.27m2 2-pok Kraków Wadowicka', 'Mieszkanie Kraków 37.94m2 2 pokojowe', 'Mieszkanie Kraków 40.73m2 2 pokoje', 'Sprzedam mieszkanie Kraków Kantrowicka 34.79m2 2-pok', 'Mieszkanie 47.43m2 2 pokoje Kraków Wadowicka', 'Mieszkanie 40.1m 2-pokojowe Kraków Na Błonie', 'Oferta sprzedaży mieszkania 46.8m2 3 pokoje Kraków Modrzewskiego', 'Mieszkanie Kraków 37.52m2 2 pok', 'Mieszkanie 50.95m2 Kraków Wadowicka', 'Mieszkanie 62.62m2 4 pokojowe Kraków', 'Mieszkanie 34m 1 pokój Kraków al. Mickiewicza', 'Mieszkanie Kraków 45.84m2 2 pokojowe', 'Mieszkanie sprzedam 62.46 metrów 3 pokojowe Kraków Wadowicka', 'Do sprzedaży mieszkanie 51m2 Kraków Królowej Jadwigi', 'Mieszkanie 61.82m2 3-pok Kraków Wadowicka', 'Mieszkanie 66.11m2 2 pokojowe Kraków', 'Mieszkanie na wynajem Kraków 53.2m2 2 pokojowe', 'Mieszkanie 36.09m2 2-pok Kraków Kantrowicka', 'Oferta sprzedaży mieszkania 20.81m2 1 pokojowe Kraków os. Hutnicze', 'Mieszkanie Kraków 38.11m2 2-pok', 'Mieszkanie 90.38m 4 pokoje Kraków', 'Ogłoszenie mieszkanie 58 metrów 3 pok Kraków ul. Fatimska', 'Mieszkanie 37.11m2 2 pokoje Kraków Spółdzielców', 'Mieszkanie Kraków Kantrowicka 51.54m2 3 pokoje', 'Mieszkanie 38.19 metrów 2 pokoje Kraków Na Błonie', 'Mieszkanie 51.65m2 3 pok Kraków', 'Mieszkanie 60.04m2 4 pokoje Kraków', 'Mieszkanie 51.54m2 3 pok Kraków', 'Oferta sprzedaży mieszkania Kraków Wadowicka 64.4m2 3 pokoje', 'Mieszkanie 63.9m2 3 pokoje Kraków Na Błonie', 'Do sprzedaży mieszkanie 46.66m2 2 pokoje Kraków Babińskiego', 'Mieszkanie na sprzedaż Kraków Wadowicka 70.67m2 4 pokoje', 'Mieszkanie Kraków 45.2 metry 3 pokoje', 'Mieszkanie Kraków 39.34m2 2-pokojowe', 'Oferta sprzedaży mieszkania Kraków 37.68m2', 'Mieszkanie Kraków 29 listopada - okolice 35.25m2 2 pok', 'Mieszkanie na sprzedaż 35.25m2 Kraków', 'Mieszkanie 31.74m2 1 pokój Kraków Babińskiego', 'Mieszkanie Kraków 58.09m2 3-pokojowe', 'Mieszkanie Kraków Piasta Kołodzieja 70.96m2 4-pok', 'Mieszkanie 70.5m2 3 pokoje Kraków Bohomolca', 'Mieszkanie 51.96m2 2 pokoje Kraków Kwartowa', 'Mieszkanie 57.4m2 3 pokojowe Kraków', 'Mieszkanie Kraków 39m2 2 pok', 'Mieszkanie 56.89m2 2 pokoje Kraków', 'Mieszkanie Kraków Sołtysa Dytmara 151m2 4-pokojowe', 'Marzenie o idealnym wnętrzu- Penthouse Bagry Park']\n",
      "60\n",
      "Prices: ['542 000 zł', '1 890 000 zł', '1 340 000 zł', '715 155 zł', '710 000 zł', '635 000 zł', '265 000 zł', '779 000 zł', '890 000 zł', '997 000 zł', '696 320 zł', '1 952 673 zł', '844 635 zł', '828 441 zł', '643 083 zł', '692 410 zł', '521 850 zł', '867 969 zł', '753 759 zł', '780 000 zł', '770 623 zł', '886 530 zł', '1 014 444 zł', '748 000 zł', '848 040 zł', '1 068 066 zł', '785 000 zł', '1 081 850 zł', '1 051 149 zł', '3 300 zł', '505 260 zł', '479 000 zł', '776 872 zł', '1 464 156 zł', '729 000 zł', '550 000 zł', '670 020 zł', '776 517 zł', '847 060 zł', '981 654 zł', '734 445 zł', '1 114 120 zł', '1 142 979 zł', '825 882 zł', '1 187 256 zł', '743 540 zł', '670 747 zł', '696 905 zł', '645 692 zł', '700 884 zł', '599 886 zł', '1 076 233 zł', '879 904 zł', '1 198 000 zł', '835 000 zł', '799 000 zł', '764 504 zł', '880 000 zł', '3 150 000 zł', '1 568 600 zł']\n",
      "60\n"
     ]
    }
   ],
   "source": [
    "import requests\n",
    "from bs4 import BeautifulSoup\n",
    "import pandas as pd\n",
    "import os\n",
    "\n",
    "url = \"https://sprzedajemy.pl/krakow/nieruchomosci/mieszkania?offset=0&items_per_page=60\"\n",
    "\n",
    "headers = {\n",
    "    \"User-Agent\": \"Mozilla/5.0 (Windows NT 10.0; Win64; x64) AppleWebKit/537.36 (KHTML, like Gecko) Chrome/58.0.3029.110 Safari/537.36\",\n",
    "    \"Accept\": \"text/html,application/xhtml+xml,application/xml;q=0.9,image/webp,image/apng,*/*;q=0.8\",\n",
    "    \"Accept-Encoding\": \"gzip, deflate, br\",\n",
    "    \"Accept-Language\": \"en-US,en;q=0.9,pl;q=0.8\",\n",
    "    \"Connection\": \"keep-alive\"\n",
    "}\n",
    "\n",
    "response = requests.get(url, headers=headers)\n",
    "response = requests.get(url, headers=headers)\n",
    "\n",
    "# Debugowanie odpowiedzi\n",
    "print(f\"Status Code: {response.status_code}\")\n",
    "print(f\"Response Headers: {response.headers}\")\n",
    "print(f\"Response Text (first 2000 chars): {response.text[:2000]}\")\n",
    "\n",
    "# Jeśli odpowiedź jest poprawna, wykonaj webscraping\n",
    "if response.status_code == 200:\n",
    "    soup = BeautifulSoup(response.content, \"html.parser\")\n",
    "\n",
    "    # Pobieranie ofert mieszkań\n",
    "    titles = [h2.a.text.strip() for h2 in soup.find_all(\"h2\", class_=\"title\") if h2.a]\n",
    "    prices = [p.text.replace(\"\\xa0\", \" \").strip() for p in soup.find_all(\"span\", class_=\"price\")]\n",
    "\n",
    "    print(\"Titles:\", titles)\n",
    "    print(len(titles))\n",
    "    print(\"Prices:\", prices)\n",
    "    print(len(prices))\n",
    "\n",
    "    df = pd.DataFrame({\"Title\": titles, \"Price\": prices})\n",
    "\n",
    "    # Dopisanie do pliku CSV\n",
    "    df.to_csv(\"scraped_data.csv\", mode='a', header=not os.path.exists('scraped_data.csv'), index=False)\n",
    "else:\n",
    "    print(\"Failed to retrieve data.\")\n"
   ]
  }
 ],
 "metadata": {
  "colab": {
   "provenance": []
  },
  "kernelspec": {
   "display_name": "Python 3",
   "name": "python3"
  },
  "language_info": {
   "codemirror_mode": {
    "name": "ipython",
    "version": 3
   },
   "file_extension": ".py",
   "mimetype": "text/x-python",
   "name": "python",
   "nbconvert_exporter": "python",
   "pygments_lexer": "ipython3",
   "version": "3.9.23"
  },
  "papermill": {
   "default_parameters": {},
   "duration": 3.457951,
   "end_time": "2025-09-19T14:20:49.253455",
   "environment_variables": {},
   "exception": null,
   "input_path": "nb.ipynb",
   "output_path": "nbo.ipynb",
   "parameters": {},
   "start_time": "2025-09-19T14:20:45.795504",
   "version": "2.6.0"
  }
 },
 "nbformat": 4,
 "nbformat_minor": 5
}