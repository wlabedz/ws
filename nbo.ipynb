{
 "cells": [
  {
   "cell_type": "code",
   "execution_count": 1,
   "id": "dcc1b1ec",
   "metadata": {
    "colab": {
     "base_uri": "https://localhost:8080/"
    },
    "execution": {
     "iopub.execute_input": "2025-08-08T14:28:00.282896Z",
     "iopub.status.busy": "2025-08-08T14:28:00.282619Z",
     "iopub.status.idle": "2025-08-08T14:28:02.556910Z",
     "shell.execute_reply": "2025-08-08T14:28:02.556304Z"
    },
    "id": "5pYh4c8j1w43",
    "outputId": "8a0dca73-64e5-4f0d-c493-2c5b38392363",
    "papermill": {
     "duration": 2.277839,
     "end_time": "2025-08-08T14:28:02.558049",
     "exception": false,
     "start_time": "2025-08-08T14:28:00.280210",
     "status": "completed"
    },
    "tags": []
   },
   "outputs": [
    {
     "name": "stdout",
     "output_type": "stream",
     "text": [
      "Status Code: 200\n",
      "Response Headers: {'Server': 'nginx', 'Date': 'Fri, 08 Aug 2025 14:28:02 GMT', 'Content-Type': 'text/html; charset=UTF-8', 'Transfer-Encoding': 'chunked', 'Vary': 'Accept-Encoding, User-Agent', 'Set-Cookie': 'FRSPSID=ujhjbgv41fur0khk4lb5vlljh6; path=/; domain=.sprzedajemy.pl; secure; HttpOnly, _items_per_page__offer_list=60; expires=Sun, 07-Sep-2025 14:28:01 GMT; Max-Age=2592000; path=/; domain=.sprzedajemy.pl; secure; httponly, observed_id=17100036168960972091f19114207372776448683; expires=Wed, 08-Aug-2125 15:28:02 GMT; Max-Age=3155677200; path=/; domain=.sprzedajemy.pl; secure; httponly', 'Expires': 'Thu, 19 Nov 1981 08:52:00 GMT', 'Cache-Control': 'no-store, no-cache, must-revalidate, post-check=0, pre-check=0', 'Pragma': 'no-cache', 'Content-Encoding': 'gzip'}\n",
      "Response Text (first 2000 chars): <!DOCTYPE html><html xmlns=\"http://www.w3.org/1999/xhtml\" xml:lang=\"pl\" lang=\"pl\" class=\"no-js\" >\n",
      "<head>\n",
      "\t\t\t<!-- Google Tag Manager -->\n",
      "\t\t\t<script>(function(w,d,s,l,i){w[l]=w[l]||[];w[l].push({'gtm.start':\n",
      "\t\t\t\t\t\tnew Date().getTime(),event:'gtm.js'});var f=d.getElementsByTagName(s)[0],\n",
      "\t\t\t\t\tj=d.createElement(s),dl=l!='dataLayer'?'&l='+l:'';j.async=true;j.src=\n",
      "\t\t\t\t\t'https://www.googletagmanager.com/gtm.js?id='+i+dl\n",
      "\t\t\t\t\t\t\t\t\t    ;f.parentNode.insertBefore(j,f);\n",
      "\t\t\t\t    })(window,document,'script','dataLayer','GTM-P3S238');</script>\n",
      "\t\t\t<!-- End Google Tag Manager -->\n",
      "\t<title>Mieszkania Kraków na sprzedaż, wynajem - Sprzedajemy.pl</title><meta http-equiv=\"Content-Type\" content=\"text/html; charset=UTF-8\" >\n",
      "<meta http-equiv=\"X-UA-Compatible\" content=\"IE=edge\" >\n",
      "<meta name=\"description\" content=\"Ogłoszenia o tematyce:  w kategorii Mieszkania - Kupuj i sprzedawaj rzeczy używane i nowe w kategorii Mieszkania na Sprzedajemy.pl\" >\n",
      "<meta property=\"og:title\" content=\"Mieszkania Kraków na sprzedaż, wynajem - Sprzedajemy.pl\" >\n",
      "<meta property=\"og:type\" content=\"website\" >\n",
      "<meta property=\"og:image\" content=\"https://thumbs.img-sprzedajemy.pl/facebook/sprzedajemy.pl.png\" >\n",
      "<meta property=\"og:image:width\" content=\"200\" >\n",
      "<meta property=\"og:image:height\" content=\"200\" >\n",
      "<meta property=\"og:url\" content=\"https://sprzedajemy.pl/krakow/nieruchomosci/mieszkania\" >\n",
      "<meta property=\"og:site_name\" content=\"Sprzedajemy.pl\" >\n",
      "<meta property=\"fb:app_id\" content=\"173258269367442\" >\n",
      "<meta property=\"og:description\" content=\"Ogłoszenia o tematyce:  w kategorii Mieszkania - Kupuj i sprzedawaj rzeczy używane i nowe w kategorii Mieszkania na Sprzedajemy.pl\" >\n",
      "<meta name=\"robots\" content=\"noindex, follow\" >\t\t<script  async=\"async\" src=\"https://static.criteo.net/js/ld/publishertag.js\"></script>\n",
      "        <script  async=\"async\" src=\"https://ap.lijit.com/www/sovrn_beacon_standalone/sovrn_standalone_beacon.js?iid=13417409&amp;uid=sprzedajemy\" id=\"sBeacon\"></script>\n",
      "\t\t<script  async=\"async\" src=\"https://securepuba\n",
      "Titles: ['Dom - Kraków Tonie - Zielona okolica - 123 m2 | 5 - pok. | Ogród | Taras |…', 'Mieszkanie 3-pokojowe. Duży balkon. Dobra komunikacja, Od właściciela', '3 niezależne lokale z KW– inwestycja z potencjałem', 'Mieszkanie na sprzedaż/zamiana 39m2', 'Mieszkanie Wola Justowska /Bielany 36m2', '4pokoje 68m2 balkon KLIMA Śródmieście BEZ PROWIZJI od właściciela', 'Do sprzedaży mieszkanie 32.79m2 1 pokojowe Kraków Babińskiego', 'Mieszkanie Kraków Kantrowicka 59.31m2 4 pokoje', 'Mieszkanie 27.42m2 1 pokojowe Kraków Pękowicka', 'Mieszkanie Kraków 72.4m2', 'Mieszkanie 72.18m2 4 pokojowe Kraków', 'Mieszkanie Kraków Wadowicka 64.42m', 'Mieszkanie 59.31m2 4-pokojowe Kraków Kantrowicka', 'Mieszkanie Kraków 56.19m2 3 pokojowe', 'Mieszkanie Kraków Wadowicka 74.74m2 3 pokoje', 'Mieszkanie Kraków 56.7m2 2-pok', 'Mieszkanie 32.1m2 2-pokojowe Kraków Klimeckiego', 'Oferta sprzedaży mieszkania Kraków Babińskiego 50.39m', 'Mieszkanie Kraków 36.09m2', 'Sprzedam mieszkanie Kraków Reduta 74.67 metrów 4 pokoje', 'Mieszkanie do sprzedania Kraków 48.58m2 3 pokoje', 'Oferta sprzedaży mieszkania 94.61m2 4 pokoje Kraków', 'Mieszkanie Kraków Wadowicka 70.88m 4 pokoje', 'Oferta sprzedaży mieszkania 32.79m2 Kraków', 'Mieszkanie 72.4 metry 4 pokoje Kraków', 'Mieszkanie Kraków 49.86m2 3-pokojowe', 'Oferta sprzedaży mieszkania 52.7m2 3 pokoje Kraków Kobierzyńska', 'Mieszkanie Kraków Półłanki 48.6m2 2-pokojowe', 'Mieszkanie 72.4m2 3 pokoje Kraków Babińskiego', 'Mieszkanie na sprzedaż 66.11m2 3 pokojowe Kraków', 'Mieszkanie Kraków Babińskiego 51.53m2 2-pokojowe', 'Mieszkanie 83.66m2 5 pokoi Kraków Wadowicka', 'Mieszkanie 50.5m 2-pokojowe Kraków Dąbrowskiego', 'Mieszkanie Kraków 36.09m2 2-pokojowe', 'Do sprzedaży mieszkanie Kraków Wadowicka 44.08m2 2-pokojowe', 'Mieszkanie Kraków Na Błonie 57.09m2 3 pokoje', 'Oferta sprzedaży mieszkania Kraków Babińskiego 31.74m2 1 pokój', 'Mieszkanie 65.37m2 3 pokoje Kraków Na Błonie', 'Oferta sprzedaży mieszkania 26.03m2 Kraków Pękowicka', 'Mieszkanie do sprzedania 50.39m2 2 pokoje Kraków Babińskiego', 'Mieszkanie 34.79m2 2-pok Kraków Kantrowicka', 'Mieszkanie Kraków Na Błonie 40.56m2 2-pokojowe', 'Mieszkanie 31.74m2 1 pokojowe Kraków', 'Oferta sprzedaży mieszkania 100m2 3 pokoje Kraków Gustawa Ehrenberga', 'Mieszkanie 36.16m2 2-pokojowe Kraków', 'Mieszkanie Kraków Wadowicka 75.19 metrów 4 pok', 'Sprzedam mieszkanie 43.35m2 2 pokoje Kraków', 'Mieszkanie Kraków Erazma Jerzmanowskiego 35.74m2 1-pok', 'Mieszkanie 69.46m2 4 pokoje Kraków', 'Oferta sprzedaży mieszkania Kraków Wadowicka 41.48m2 3 pok', 'Mieszkanie Kraków Pękowicka 33.98m2 2 pokoje', 'Mieszkanie 62.85m2 3 pokojowe Kraków Wadowicka', 'Mieszkanie 51.81m2 2 pok Kraków Na Błonie', 'Mieszkanie 50.46m2 2-pokojowe Kraków Stefana Banacha', 'Mieszkanie do sprzedania Kraków 70.6m2 3 pokojowe', 'Mieszkanie 46.66m2 2-pok Kraków Babińskiego', 'Mieszkanie 42.61m2 2 pokojowe Kraków Wadowicka', 'Mieszkanie na sprzedaż 93.9m2 3 pokoje Kraków Na Błonie', 'Ogłoszenie mieszkanie Kraków 56.09m2 3 pokoje', 'Mieszkanie 31.74m2 1 pokój Kraków Babińskiego']\n",
      "60\n",
      "Prices: ['2 275 000 zł', '3 500 zł', '279 000 zł', '526 000 zł', '487 000 zł', '1 850 000 zł', '636 126 zł', '704 306 zł', '472 995 zł', '1 245 280 zł', '1 144 053 zł', '1 140 234 zł', '816 995 zł', '752 946 zł', '1 210 788 zł', '1 159 000 zł', '3 500 zł', '901 981 zł', '479 997 zł', '1 177 000 zł', '709 268 zł', '1 386 032 zł', '1 204 960 zł', '619 731 zł', '1 245 280 zł', '703 026 zł', '750 000 zł', '569 000 zł', '1 245 280 zł', '991 650 zł', '948 152 zł', '1 321 828 zł', '1 044 551 zł', '479 997 zł', '806 664 zł', '1 046 174 zł', '615 756 zł', '1 127 240 zł', '449 017 zł', '901 981 zł', '495 757 zł', '762 609 zł', '615 756 zł', '1 497 000 zł', '612 912 zł', '1 300 787 zł', '758 625 zł', '2 950 zł', '861 304 zł', '759 084 zł', '581 058 zł', '986 745 zł', '895 017 zł', '799 000 zł', '1 307 747 zł', '835 214 zł', '790 415 zł', '1 583 717 zł', '692 711 zł', '615 756 zł']\n",
      "60\n"
     ]
    }
   ],
   "source": [
    "import requests\n",
    "from bs4 import BeautifulSoup\n",
    "import pandas as pd\n",
    "import os\n",
    "\n",
    "url = \"https://sprzedajemy.pl/krakow/nieruchomosci/mieszkania?offset=0&items_per_page=60\"\n",
    "\n",
    "headers = {\n",
    "    \"User-Agent\": \"Mozilla/5.0 (Windows NT 10.0; Win64; x64) AppleWebKit/537.36 (KHTML, like Gecko) Chrome/58.0.3029.110 Safari/537.36\",\n",
    "    \"Accept\": \"text/html,application/xhtml+xml,application/xml;q=0.9,image/webp,image/apng,*/*;q=0.8\",\n",
    "    \"Accept-Encoding\": \"gzip, deflate, br\",\n",
    "    \"Accept-Language\": \"en-US,en;q=0.9,pl;q=0.8\",\n",
    "    \"Connection\": \"keep-alive\"\n",
    "}\n",
    "\n",
    "response = requests.get(url, headers=headers)\n",
    "response = requests.get(url, headers=headers)\n",
    "\n",
    "# Debugowanie odpowiedzi\n",
    "print(f\"Status Code: {response.status_code}\")\n",
    "print(f\"Response Headers: {response.headers}\")\n",
    "print(f\"Response Text (first 2000 chars): {response.text[:2000]}\")\n",
    "\n",
    "# Jeśli odpowiedź jest poprawna, wykonaj webscraping\n",
    "if response.status_code == 200:\n",
    "    soup = BeautifulSoup(response.content, \"html.parser\")\n",
    "\n",
    "    # Pobieranie ofert mieszkań\n",
    "    titles = [h2.a.text.strip() for h2 in soup.find_all(\"h2\", class_=\"title\") if h2.a]\n",
    "    prices = [p.text.replace(\"\\xa0\", \" \").strip() for p in soup.find_all(\"span\", class_=\"price\")]\n",
    "\n",
    "    print(\"Titles:\", titles)\n",
    "    print(len(titles))\n",
    "    print(\"Prices:\", prices)\n",
    "    print(len(prices))\n",
    "\n",
    "    df = pd.DataFrame({\"Title\": titles, \"Price\": prices})\n",
    "\n",
    "    # Dopisanie do pliku CSV\n",
    "    df.to_csv(\"scraped_data.csv\", mode='a', header=not os.path.exists('scraped_data.csv'), index=False)\n",
    "else:\n",
    "    print(\"Failed to retrieve data.\")\n"
   ]
  }
 ],
 "metadata": {
  "colab": {
   "provenance": []
  },
  "kernelspec": {
   "display_name": "Python 3",
   "name": "python3"
  },
  "language_info": {
   "codemirror_mode": {
    "name": "ipython",
    "version": 3
   },
   "file_extension": ".py",
   "mimetype": "text/x-python",
   "name": "python",
   "nbconvert_exporter": "python",
   "pygments_lexer": "ipython3",
   "version": "3.9.23"
  },
  "papermill": {
   "default_parameters": {},
   "duration": 3.428917,
   "end_time": "2025-08-08T14:28:02.775012",
   "environment_variables": {},
   "exception": null,
   "input_path": "nb.ipynb",
   "output_path": "nbo.ipynb",
   "parameters": {},
   "start_time": "2025-08-08T14:27:59.346095",
   "version": "2.6.0"
  }
 },
 "nbformat": 4,
 "nbformat_minor": 5
}