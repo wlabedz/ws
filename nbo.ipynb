{
 "cells": [
  {
   "cell_type": "code",
   "execution_count": 1,
   "id": "587614af",
   "metadata": {
    "colab": {
     "base_uri": "https://localhost:8080/"
    },
    "execution": {
     "iopub.execute_input": "2025-07-09T18:45:00.524215Z",
     "iopub.status.busy": "2025-07-09T18:45:00.523707Z",
     "iopub.status.idle": "2025-07-09T18:45:02.757195Z",
     "shell.execute_reply": "2025-07-09T18:45:02.756628Z"
    },
    "id": "5pYh4c8j1w43",
    "outputId": "8a0dca73-64e5-4f0d-c493-2c5b38392363",
    "papermill": {
     "duration": 2.237434,
     "end_time": "2025-07-09T18:45:02.758330",
     "exception": false,
     "start_time": "2025-07-09T18:45:00.520896",
     "status": "completed"
    },
    "tags": []
   },
   "outputs": [
    {
     "name": "stdout",
     "output_type": "stream",
     "text": [
      "Status Code: 200\n",
      "Response Headers: {'Server': 'nginx', 'Date': 'Wed, 09 Jul 2025 18:45:02 GMT', 'Content-Type': 'text/html; charset=UTF-8', 'Transfer-Encoding': 'chunked', 'Vary': 'Accept-Encoding, User-Agent', 'Set-Cookie': 'FRSPSID=blcas6o5qa5jr6fcblj9d04jf0; path=/; domain=.sprzedajemy.pl; secure; HttpOnly, _items_per_page__offer_list=60; expires=Fri, 08-Aug-2025 18:45:02 GMT; Max-Age=2592000; path=/; domain=.sprzedajemy.pl; secure; httponly, observed_id=1758798436686eb8ae5113f171905540270267763; expires=Mon, 09-Jul-2125 19:45:02 GMT; Max-Age=3155677200; path=/; domain=.sprzedajemy.pl; secure; httponly', 'Expires': 'Thu, 19 Nov 1981 08:52:00 GMT', 'Cache-Control': 'no-store, no-cache, must-revalidate, post-check=0, pre-check=0', 'Pragma': 'no-cache', 'Content-Encoding': 'gzip'}\n",
      "Response Text (first 2000 chars): <!DOCTYPE html><html xmlns=\"http://www.w3.org/1999/xhtml\" xml:lang=\"pl\" lang=\"pl\" class=\"no-js\" >\n",
      "<head>\n",
      "\t\t\t<!-- Google Tag Manager -->\n",
      "\t\t\t<script>(function(w,d,s,l,i){w[l]=w[l]||[];w[l].push({'gtm.start':\n",
      "\t\t\t\t\t\tnew Date().getTime(),event:'gtm.js'});var f=d.getElementsByTagName(s)[0],\n",
      "\t\t\t\t\tj=d.createElement(s),dl=l!='dataLayer'?'&l='+l:'';j.async=true;j.src=\n",
      "\t\t\t\t\t'https://www.googletagmanager.com/gtm.js?id='+i+dl\n",
      "\t\t\t\t\t\t\t\t\t    ;f.parentNode.insertBefore(j,f);\n",
      "\t\t\t\t    })(window,document,'script','dataLayer','GTM-P3S238');</script>\n",
      "\t\t\t<!-- End Google Tag Manager -->\n",
      "\t<title>Mieszkania Kraków na sprzedaż, wynajem - Sprzedajemy.pl</title><meta http-equiv=\"Content-Type\" content=\"text/html; charset=UTF-8\" >\n",
      "<meta http-equiv=\"X-UA-Compatible\" content=\"IE=edge\" >\n",
      "<meta name=\"description\" content=\"Ogłoszenia o tematyce:  w kategorii Mieszkania - Kupuj i sprzedawaj rzeczy używane i nowe w kategorii Mieszkania na Sprzedajemy.pl\" >\n",
      "<meta property=\"og:title\" content=\"Mieszkania Kraków na sprzedaż, wynajem - Sprzedajemy.pl\" >\n",
      "<meta property=\"og:type\" content=\"website\" >\n",
      "<meta property=\"og:image\" content=\"https://thumbs.img-sprzedajemy.pl/facebook/sprzedajemy.pl.png\" >\n",
      "<meta property=\"og:image:width\" content=\"200\" >\n",
      "<meta property=\"og:image:height\" content=\"200\" >\n",
      "<meta property=\"og:url\" content=\"https://sprzedajemy.pl/krakow/nieruchomosci/mieszkania\" >\n",
      "<meta property=\"og:site_name\" content=\"Sprzedajemy.pl\" >\n",
      "<meta property=\"fb:app_id\" content=\"173258269367442\" >\n",
      "<meta property=\"og:description\" content=\"Ogłoszenia o tematyce:  w kategorii Mieszkania - Kupuj i sprzedawaj rzeczy używane i nowe w kategorii Mieszkania na Sprzedajemy.pl\" >\n",
      "<meta name=\"robots\" content=\"noindex, follow\" >\t\t<script  async=\"async\" src=\"https://static.criteo.net/js/ld/publishertag.js\"></script>\n",
      "        <script  async=\"async\" src=\"https://ap.lijit.com/www/sovrn_beacon_standalone/sovrn_standalone_beacon.js?iid=13417409&amp;uid=sprzedajemy\" id=\"sBeacon\"></script>\n",
      "\t\t<script  async=\"async\" src=\"https://securepuba\n",
      "Titles: ['Mieszkanie na sprzedaż/zamiana 39m2', 'Wyjątkowe mieszkanie z widokiem na klasztor w Tyńcu i panoramę Tatr', 'Stylowy apartament z widokiem na panoramę Krakowa - od właściciela', 'Nowoczesny apartament z panoramicznym widokiem - od właściciela', 'Kraków, Stare Miasto sprzedaż/zamiana', 'Super lokalizacja! TRAMWAJ, kawalerka do wejścia! Prądnik Czerwony/Huta', '2-pokojowe mieszkanie na Zabłociu – ciche, świetna lokalizacja!', 'Sprzedam mieszkanie', 'Sprzedam mieszkanie w systemie TBS', 'Krowodrza Górka - dwupokojowe mieszkanie, 2003r.', 'Os. Szkolne - dwupokojowe mieszkanie po remoncie', 'Oferta sprzedaży mieszkania 136.9m2 5 pokoi Kraków Reduta', 'Mieszkanie sprzedam 43m2 2-pok Kraków', 'Mieszkanie 32m2 1 pokojowe Kraków Obozowa', 'Sprzedaż mieszkania 65.57m2 3 pokoje Kraków Tadeusza Śliwiaka', 'Ogłoszenie mieszkanie Kraków Tadeusza Śliwiaka 81.78m2 4 pok', 'Mieszkanie Kraków Tadeusza Śliwiaka 81.78m2 4 pokoje', 'Ul. Bratysławska - 2 pokoje w apartamentowcu', 'Do sprzedaży mieszkanie 46.21m2 2 pok Kraków Bukowa', 'Sprzedaż mieszkania 60.03m2 3-pokojowe Kraków', '55m², 3-pokojowe, w bloku na Starym Mieście, Kraków, ul. Józefa Dietla', 'Do wynajęcia 3 pok mieszkanie Krakow', '24 m2 | os. Kalinowe | po remoncie | bez pośredników', 'Ogłoszenie mieszkanie Kraków Wielicka 57.76m2 3 pokojowe', 'Ustawne mieszkanie 2 pokojowe, Os. Kazimierzowskie', 'Os. Botanika, apartament 4-5 pokoi, m. parkingowe', 'Ogłoszenie mieszkanie 46m2 2 pokoje Kraków Bukowa', 'Mieszkanie Kraków 36m2 1-pokojowe', 'Mieszkanie Kraków 38.76m2 2 pokojowe', 'Mieszkanie 59.3m2 3 pokojowe Kraków', 'Mieszkanie na sprzedaż Kraków Halszki 35 metrów 1 pokój', '2 poziomowe, ogródek, garaż przy Galerii Bronowice', '2 pokojowe mieszkanie ul. Gnieźnieńska (Azory)', 'Kawalerka 33m2 ul. Domagały', 'Mieszkanie przy Rynku Głównym! Centrum Krakowa', 'Mieszkanie 38.83m2 2 pokoje Kraków Jana Kantego Federowicza', 'Bezpośrednio wynajmę 2-pokojowe ul.Batorego po remoncie.', 'Mieszkanie Kraków os. Józefa Strusia 48m2 3 pokoje', 'Strych, Błonia, ul. Filarecka, Rezerwacja', 'Mieszkanie 56.19m2 2-pokojowe Kraków', 'Duża kawalerka - Kraków – Salwator – ul. Kościuszki – 2 pokoje – 35 m²', 'Mieszkanie 2 pok Kraków Łobzowska Wynajem', 'Mieszkanie 47.11m2 3 pokojowe Kraków', 'Mieszkanie 36.07m2 2 pokojowe Kraków', '5 min do centrum - 2-pokojowe mieszkanie 48 m² – wysoki standard', 'Kraków – Prądnik Biały – ul. Pachońskiego – 2 pokoje – 36 m² – BALKON', 'Do wynajęcia mieszkanie jednopokojowe 36m', 'Mieszkanie na sprzedaż 47.53m2 2 pokojowe Kraków', '3 pokojowe mieszkanie Blok pośród zieleni i łąka', 'Mieszkanie na wynajem Kraków 37.02m2 2 pok', 'Mieszkanie Kraków 39m2 2 pokoje', 'Mieszkanie 58.4m2 Kraków Śliczna', 'APARTAMENT DWUPOZIOMOWY KRAKÓW KAZIMIERZ', 'MIESZKANIE KRAKÓW ul. TELIGI 2', 'BEZ PROWIZJI I BEZ PCC | Wykończone | 3 pokoje | Ruczaj | Ostatnie piętro', 'BEZ prowizji | Stare Miasto | Taras z ogrodem 42 m² | Centrum | WITA', 'Bez PROWIZJI I BEZ PCC | Wykończone 4 pokoje | City Vibe | Ost piętro', 'Mieszkanie do wynajęcia po generalnym remoncie os Tysiąclecia Kraków', 'Mieszkanie Kraków 64 metry 4 pokojowe', 'Mieszkanie Kraków Józefa Dwernickiego 45.7m2 2 pokoje']\n",
      "60\n",
      "Prices: ['526 000 zł', '779 000 zł', '897 000 zł', '997 000 zł', '2 200 000 zł', '565 000 zł', '519 000 zł', '635 000 zł', '180 000 zł', '650 000 zł', '580 000 zł', '2 420 000 zł', '595 000 zł', '470 000 zł', '746 586 zł', '924 679 zł', '932 862 zł', '2 700 zł', '572 912 zł', '750 000 zł', '4 999 zł', '2 900 zł', '429 000 zł', '948 000 zł', '499 000 zł', '1 350 000 zł', '570 524 zł', '425 000 zł', '580 000 zł', '1 180 000 zł', '460 000 zł', '5 900 zł', '2 000 zł', '2 200 zł', '1 400 000 zł', '594 252 zł', '3 850 zł', '515 000 zł', '389 999 zł', '749 000 zł', '2 800 zł', '3 500 zł', '515 000 zł', '599 000 zł', '3 550 zł', '2 800 zł', '2 000 zł', '659 000 zł', '699 000 zł', '2 800 zł', '749 000 zł', '959 000 zł', '1 890 000 zł', '690 000 zł', '859 000 zł', '778 000 zł', '1 199 000 zł', '3 000 zł', '865 000 zł', '799 000 zł']\n",
      "60\n"
     ]
    }
   ],
   "source": [
    "import requests\n",
    "from bs4 import BeautifulSoup\n",
    "import pandas as pd\n",
    "import os\n",
    "\n",
    "url = \"https://sprzedajemy.pl/krakow/nieruchomosci/mieszkania?offset=0&items_per_page=60\"\n",
    "\n",
    "headers = {\n",
    "    \"User-Agent\": \"Mozilla/5.0 (Windows NT 10.0; Win64; x64) AppleWebKit/537.36 (KHTML, like Gecko) Chrome/58.0.3029.110 Safari/537.36\",\n",
    "    \"Accept\": \"text/html,application/xhtml+xml,application/xml;q=0.9,image/webp,image/apng,*/*;q=0.8\",\n",
    "    \"Accept-Encoding\": \"gzip, deflate, br\",\n",
    "    \"Accept-Language\": \"en-US,en;q=0.9,pl;q=0.8\",\n",
    "    \"Connection\": \"keep-alive\"\n",
    "}\n",
    "\n",
    "response = requests.get(url, headers=headers)\n",
    "response = requests.get(url, headers=headers)\n",
    "\n",
    "# Debugowanie odpowiedzi\n",
    "print(f\"Status Code: {response.status_code}\")\n",
    "print(f\"Response Headers: {response.headers}\")\n",
    "print(f\"Response Text (first 2000 chars): {response.text[:2000]}\")\n",
    "\n",
    "# Jeśli odpowiedź jest poprawna, wykonaj webscraping\n",
    "if response.status_code == 200:\n",
    "    soup = BeautifulSoup(response.content, \"html.parser\")\n",
    "\n",
    "    # Pobieranie ofert mieszkań\n",
    "    titles = [h2.a.text.strip() for h2 in soup.find_all(\"h2\", class_=\"title\") if h2.a]\n",
    "    prices = [p.text.replace(\"\\xa0\", \" \").strip() for p in soup.find_all(\"span\", class_=\"price\")]\n",
    "\n",
    "    print(\"Titles:\", titles)\n",
    "    print(len(titles))\n",
    "    print(\"Prices:\", prices)\n",
    "    print(len(prices))\n",
    "\n",
    "    df = pd.DataFrame({\"Title\": titles, \"Price\": prices})\n",
    "\n",
    "    # Dopisanie do pliku CSV\n",
    "    df.to_csv(\"scraped_data.csv\", mode='a', header=not os.path.exists('scraped_data.csv'), index=False)\n",
    "else:\n",
    "    print(\"Failed to retrieve data.\")\n"
   ]
  }
 ],
 "metadata": {
  "colab": {
   "provenance": []
  },
  "kernelspec": {
   "display_name": "Python 3",
   "name": "python3"
  },
  "language_info": {
   "codemirror_mode": {
    "name": "ipython",
    "version": 3
   },
   "file_extension": ".py",
   "mimetype": "text/x-python",
   "name": "python",
   "nbconvert_exporter": "python",
   "pygments_lexer": "ipython3",
   "version": "3.9.23"
  },
  "papermill": {
   "default_parameters": {},
   "duration": 3.466022,
   "end_time": "2025-07-09T18:45:03.076056",
   "environment_variables": {},
   "exception": null,
   "input_path": "nb.ipynb",
   "output_path": "nbo.ipynb",
   "parameters": {},
   "start_time": "2025-07-09T18:44:59.610034",
   "version": "2.6.0"
  }
 },
 "nbformat": 4,
 "nbformat_minor": 5
}