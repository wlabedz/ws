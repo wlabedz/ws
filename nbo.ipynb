{
 "cells": [
  {
   "cell_type": "code",
   "execution_count": 1,
   "id": "832b9db6",
   "metadata": {
    "colab": {
     "base_uri": "https://localhost:8080/"
    },
    "execution": {
     "iopub.execute_input": "2025-09-19T13:22:21.894433Z",
     "iopub.status.busy": "2025-09-19T13:22:21.894172Z",
     "iopub.status.idle": "2025-09-19T13:22:24.293825Z",
     "shell.execute_reply": "2025-09-19T13:22:24.293116Z"
    },
    "id": "5pYh4c8j1w43",
    "outputId": "8a0dca73-64e5-4f0d-c493-2c5b38392363",
    "papermill": {
     "duration": 2.40312,
     "end_time": "2025-09-19T13:22:24.294961",
     "exception": false,
     "start_time": "2025-09-19T13:22:21.891841",
     "status": "completed"
    },
    "tags": []
   },
   "outputs": [
    {
     "name": "stdout",
     "output_type": "stream",
     "text": [
      "Status Code: 200\n",
      "Response Headers: {'Server': 'nginx', 'Date': 'Fri, 19 Sep 2025 13:22:23 GMT', 'Content-Type': 'text/html; charset=UTF-8', 'Transfer-Encoding': 'chunked', 'Vary': 'Accept-Encoding, User-Agent', 'Set-Cookie': 'FRSPSID=9ec2iu5fnmghie2lpb4hoho3c7; path=/; domain=.sprzedajemy.pl; secure; HttpOnly, _items_per_page__offer_list=60; expires=Sun, 19-Oct-2025 13:22:23 GMT; Max-Age=2592000; path=/; domain=.sprzedajemy.pl; secure; httponly, observed_id=119010903768cd590fd043b9126647227346203341; expires=Wed, 19-Sep-2125 14:22:23 GMT; Max-Age=3155677200; path=/; domain=.sprzedajemy.pl; secure; httponly', 'Expires': 'Thu, 19 Nov 1981 08:52:00 GMT', 'Cache-Control': 'no-store, no-cache, must-revalidate, post-check=0, pre-check=0', 'Pragma': 'no-cache', 'Content-Encoding': 'gzip'}\n",
      "Response Text (first 2000 chars): <!DOCTYPE html><html xmlns=\"http://www.w3.org/1999/xhtml\" xml:lang=\"pl\" lang=\"pl\" class=\"no-js\" >\n",
      "<head>\n",
      "\t\t\t<!-- Google Tag Manager -->\n",
      "\t\t\t<script>(function(w,d,s,l,i){w[l]=w[l]||[];w[l].push({'gtm.start':\n",
      "\t\t\t\t\t\tnew Date().getTime(),event:'gtm.js'});var f=d.getElementsByTagName(s)[0],\n",
      "\t\t\t\t\tj=d.createElement(s),dl=l!='dataLayer'?'&l='+l:'';j.async=true;j.src=\n",
      "\t\t\t\t\t'https://www.googletagmanager.com/gtm.js?id='+i+dl\n",
      "\t\t\t\t\t\t\t\t\t    ;f.parentNode.insertBefore(j,f);\n",
      "\t\t\t\t    })(window,document,'script','dataLayer','GTM-P3S238');</script>\n",
      "\t\t\t<!-- End Google Tag Manager -->\n",
      "\t<title>Mieszkania Kraków na sprzedaż, wynajem - Sprzedajemy.pl</title><meta http-equiv=\"Content-Type\" content=\"text/html; charset=UTF-8\" >\n",
      "<meta http-equiv=\"X-UA-Compatible\" content=\"IE=edge\" >\n",
      "<meta name=\"description\" content=\"Ogłoszenia o tematyce:  w kategorii Mieszkania - Kupuj i sprzedawaj rzeczy używane i nowe w kategorii Mieszkania na Sprzedajemy.pl\" >\n",
      "<meta property=\"og:title\" content=\"Mieszkania Kraków na sprzedaż, wynajem - Sprzedajemy.pl\" >\n",
      "<meta property=\"og:type\" content=\"website\" >\n",
      "<meta property=\"og:image\" content=\"https://thumbs.img-sprzedajemy.pl/facebook/sprzedajemy.pl.png\" >\n",
      "<meta property=\"og:image:width\" content=\"200\" >\n",
      "<meta property=\"og:image:height\" content=\"200\" >\n",
      "<meta property=\"og:url\" content=\"https://sprzedajemy.pl/krakow/nieruchomosci/mieszkania\" >\n",
      "<meta property=\"og:site_name\" content=\"Sprzedajemy.pl\" >\n",
      "<meta property=\"fb:app_id\" content=\"173258269367442\" >\n",
      "<meta property=\"og:description\" content=\"Ogłoszenia o tematyce:  w kategorii Mieszkania - Kupuj i sprzedawaj rzeczy używane i nowe w kategorii Mieszkania na Sprzedajemy.pl\" >\n",
      "<meta name=\"robots\" content=\"noindex, follow\" >\t\t<script  async=\"async\" src=\"https://static.criteo.net/js/ld/publishertag.js\"></script>\n",
      "        <script  async=\"async\" src=\"https://ap.lijit.com/www/sovrn_beacon_standalone/sovrn_standalone_beacon.js?iid=13417409&amp;uid=sprzedajemy\" id=\"sBeacon\"></script>\n",
      "\t\t<script  async=\"async\" src=\"https://securepuba\n",
      "Titles: ['Podedworze 13', 'Stylowy lokal na parterze przy Krowoderskiej', 'Wyjątkowy lokal przy ul. Krowoderskiej z widokiem na stronę ogrodową', 'Dwa pokoje - stare miasto - Do wejścia - Własność', '2-pokojowe mieszkanie po remoncie | PROMOCJA | ul Bronowicka', 'Sprzedam dwupokojowe mieszkanie os. Dywizjonu 303, 19C Kraków', 'Mieszkanie z widokiem na góry', 'Wyjątkowe mieszkanie z widokiem na klasztor w Tyńcu i panoramę Tatr', 'Stylowy apartament z widokiem na panoramę Krakowa - od właściciela', 'Nowoczesny apartament z panoramicznym widokiem - od właściciela', 'Mieszkanie 51.96m2 2 pokoje Kraków Kwartowa', 'Mieszkanie 57.4m2 3 pokojowe Kraków', 'Mieszkanie Kraków 39m2 2 pok', 'Mieszkanie 56.89m2 2 pokoje Kraków', 'Mieszkanie Kraków Sołtysa Dytmara 151m2 4-pokojowe', 'Marzenie o idealnym wnętrzu- Penthouse Bagry Park', 'Oferta wynajmu mieszkania Kraków Myśliwska 33.3m2 2 pok', '3 pok,klimatyzacja,taras,garaż,wysoki standard,ENG', 'Mieszkanie 29.1 metrów 1 pokojowe Kraków Ugorek', 'Mieszkanie Kraków 46.88m2 2-pokojowe', 'Jasne mieszkanie w kamienicy Salwator', 'Oferta sprzedaży mieszkania 51.69m2 3-pok Kraków Józefa Łepkowskiego', 'Kawalerka w kamienicy Salwator', 'Oferta wynajmu mieszkania Kraków os. Na Stoku 26m2', 'Cudowne z ogródkiem - mieszkanie 3-pokojowe na Grzegórzkach w Krakowie', '4 pokoje,balkon,klimatyzacja ul.Rostworowskiego 16', 'Nowe 2 pokoje z ogródkiem | Zakątek Dąbie | miejsce parkingowe w prezencie', '2 lub 3 pokoje,62m2,balkon,widok na Wawel', 'Nowa Kameralna Inwestycja -od Dewelopera, Bieżanów', 'Apartamentowiec 73m na Woli Justowskiej', 'Mieszkanie do wynajęcia', 'Na sprzedaż mieszkanie 26,18 m²świetna lokalizacja', 'Mieszkanie Kraków Fabryczna 36.19m2', 'Sprzedam mieszkanie 43.6m2 2 pokoje Kraków', 'Mieszkanie Kraków 36.19m2 2 pokojowe', 'Apartament inwestycyjny w sercu Krakowa', 'Mieszkanie Kraków 26.32m', 'Wynajem mieszkania 35.74m2 2 pok Kraków Romanowicza', 'Mieszkanie 26.93m2 1 pok Kraków Fabryczna', 'Mieszkanie 43m2 2 pokoje Kraków', 'Mieszkanie 38.69m2 3 pokoje Kraków Imbramowska', 'Oferta sprzedaży mieszkania Kraków 58.4m2 5 pokoi', 'Oferta wynajmu mieszkania 113m2 3-pokojowe Kraków Krowoderska', 'Mieszkanie 42m2 2 pokoje Kraków Śliczna', 'Mieszkanie Kraków Jerzego Szablowskiego 47m2 1-pokojowe', 'Mieszkanie 45m2 2 pok Kraków Wiktora Heltmana', 'Do wynajęcia mieszkanie 70m2 3-pokojowe Kraków', 'Mieszkanie Kraków Malachitowa 51.4m2 2 pokojowe', 'Wynajmę mieszkanie Kraków 8.8m2 1 pokojowe', 'Mieszkanie 61.6m Kraków Jana Sas-Zubrzyckiego', 'Oferta sprzedaży mieszkania 95 metrów Kraków Fiołkowa', 'Mieszkanie Kraków Czerwone Maki 57m2 3-pok', 'Wykończone//Prywatnie//3 pok./Nowe//Bez Pcc', 'Mieszkanie Kraków Komuny Paryskiej 78m2', 'Unikalny PENTHOUSE PREMIUM bez PCC i prowizji', 'Mieszkanie Kraków Bohaterów Września 47m2 3-pok', 'ul.Felińskiego, piękne 3 pokoje, garaż', '4-pok. Apartament, ul. Śliczna, Kraków, ustawny, jasny.', 'Mieszkanie Kraków 26.88m2 1-pok', 'Mieszkanie 104m2 6 pokoi Kraków']\n",
      "60\n",
      "Prices: ['542 000 zł', '1 890 000 zł', '1 340 000 zł', '715 155 zł', '710 000 zł', '635 000 zł', '265 000 zł', '779 000 zł', '890 000 zł', '997 000 zł', '835 000 zł', '799 000 zł', '764 504 zł', '880 000 zł', '3 150 000 zł', '1 568 600 zł', '2 800 zł', '3 300 zł', '433 500 zł', '2 200 zł', '3 100 zł', '796 026 zł', '2 200 zł', '1 600 zł', '4 600 zł', '3 200 zł', '899 900 zł', '1 490 000 zł', '840 000 zł', '1 750 000 zł', '2 500 zł', '337 000 zł', '542 846 zł', '655 000 zł', '542 846 zł', '1 499 000 zł', '475 000 zł', '3 015 zł', '412 484 zł', '860 000 zł', '708 772 zł', '890 000 zł', '4 990 zł', '3 600 zł', '2 850 zł', '3 300 zł', '3 800 zł', '739 000 zł', '1 500 zł', '740 000 zł', '1 300 000 zł', '819 000 zł', '847 500 zł', '899 000 zł', '1 599 412 zł', '630 000 zł', '770 000 zł', '5 600 zł', '604 773 zł', '1 540 000 zł']\n",
      "60\n"
     ]
    }
   ],
   "source": [
    "import requests\n",
    "from bs4 import BeautifulSoup\n",
    "import pandas as pd\n",
    "import os\n",
    "\n",
    "url = \"https://sprzedajemy.pl/krakow/nieruchomosci/mieszkania?offset=0&items_per_page=60\"\n",
    "\n",
    "headers = {\n",
    "    \"User-Agent\": \"Mozilla/5.0 (Windows NT 10.0; Win64; x64) AppleWebKit/537.36 (KHTML, like Gecko) Chrome/58.0.3029.110 Safari/537.36\",\n",
    "    \"Accept\": \"text/html,application/xhtml+xml,application/xml;q=0.9,image/webp,image/apng,*/*;q=0.8\",\n",
    "    \"Accept-Encoding\": \"gzip, deflate, br\",\n",
    "    \"Accept-Language\": \"en-US,en;q=0.9,pl;q=0.8\",\n",
    "    \"Connection\": \"keep-alive\"\n",
    "}\n",
    "\n",
    "response = requests.get(url, headers=headers)\n",
    "response = requests.get(url, headers=headers)\n",
    "\n",
    "# Debugowanie odpowiedzi\n",
    "print(f\"Status Code: {response.status_code}\")\n",
    "print(f\"Response Headers: {response.headers}\")\n",
    "print(f\"Response Text (first 2000 chars): {response.text[:2000]}\")\n",
    "\n",
    "# Jeśli odpowiedź jest poprawna, wykonaj webscraping\n",
    "if response.status_code == 200:\n",
    "    soup = BeautifulSoup(response.content, \"html.parser\")\n",
    "\n",
    "    # Pobieranie ofert mieszkań\n",
    "    titles = [h2.a.text.strip() for h2 in soup.find_all(\"h2\", class_=\"title\") if h2.a]\n",
    "    prices = [p.text.replace(\"\\xa0\", \" \").strip() for p in soup.find_all(\"span\", class_=\"price\")]\n",
    "\n",
    "    print(\"Titles:\", titles)\n",
    "    print(len(titles))\n",
    "    print(\"Prices:\", prices)\n",
    "    print(len(prices))\n",
    "\n",
    "    df = pd.DataFrame({\"Title\": titles, \"Price\": prices})\n",
    "\n",
    "    # Dopisanie do pliku CSV\n",
    "    df.to_csv(\"scraped_data.csv\", mode='a', header=not os.path.exists('scraped_data.csv'), index=False)\n",
    "else:\n",
    "    print(\"Failed to retrieve data.\")\n"
   ]
  }
 ],
 "metadata": {
  "colab": {
   "provenance": []
  },
  "kernelspec": {
   "display_name": "Python 3",
   "name": "python3"
  },
  "language_info": {
   "codemirror_mode": {
    "name": "ipython",
    "version": 3
   },
   "file_extension": ".py",
   "mimetype": "text/x-python",
   "name": "python",
   "nbconvert_exporter": "python",
   "pygments_lexer": "ipython3",
   "version": "3.9.23"
  },
  "papermill": {
   "default_parameters": {},
   "duration": 3.570661,
   "end_time": "2025-09-19T13:22:24.511307",
   "environment_variables": {},
   "exception": null,
   "input_path": "nb.ipynb",
   "output_path": "nbo.ipynb",
   "parameters": {},
   "start_time": "2025-09-19T13:22:20.940646",
   "version": "2.6.0"
  }
 },
 "nbformat": 4,
 "nbformat_minor": 5
}