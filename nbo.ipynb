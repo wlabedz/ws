{
 "cells": [
  {
   "cell_type": "code",
   "execution_count": 1,
   "id": "70a395ba",
   "metadata": {
    "colab": {
     "base_uri": "https://localhost:8080/"
    },
    "execution": {
     "iopub.execute_input": "2025-06-14T11:59:23.953596Z",
     "iopub.status.busy": "2025-06-14T11:59:23.953300Z",
     "iopub.status.idle": "2025-06-14T11:59:26.437522Z",
     "shell.execute_reply": "2025-06-14T11:59:26.436797Z"
    },
    "id": "5pYh4c8j1w43",
    "outputId": "8a0dca73-64e5-4f0d-c493-2c5b38392363",
    "papermill": {
     "duration": 2.487937,
     "end_time": "2025-06-14T11:59:26.438683",
     "exception": false,
     "start_time": "2025-06-14T11:59:23.950746",
     "status": "completed"
    },
    "tags": []
   },
   "outputs": [
    {
     "name": "stdout",
     "output_type": "stream",
     "text": [
      "Status Code: 200\n",
      "Response Headers: {'Server': 'nginx', 'Date': 'Sat, 14 Jun 2025 11:59:26 GMT', 'Content-Type': 'text/html; charset=UTF-8', 'Transfer-Encoding': 'chunked', 'Vary': 'Accept-Encoding, User-Agent', 'Set-Cookie': 'FRSPSID=qibas2i7rpsk1jnh59d2jgo406; path=/; domain=.sprzedajemy.pl; secure; HttpOnly, _items_per_page__offer_list=60; expires=Mon, 14-Jul-2025 11:59:25 GMT; Max-Age=2592000; path=/; domain=.sprzedajemy.pl; secure; httponly, observed_id=1912671143684d641e087684201191570739134902; expires=Thu, 14-Jun-2125 12:59:26 GMT; Max-Age=3155677200; path=/; domain=.sprzedajemy.pl; secure; httponly', 'Expires': 'Thu, 19 Nov 1981 08:52:00 GMT', 'Cache-Control': 'no-store, no-cache, must-revalidate, post-check=0, pre-check=0', 'Pragma': 'no-cache', 'Content-Encoding': 'gzip'}\n",
      "Response Text (first 2000 chars): <!DOCTYPE html><html xmlns=\"http://www.w3.org/1999/xhtml\" xml:lang=\"pl\" lang=\"pl\" class=\"no-js\" >\n",
      "<head>\n",
      "\t\t\t<!-- Google Tag Manager -->\n",
      "\t\t\t<script>(function(w,d,s,l,i){w[l]=w[l]||[];w[l].push({'gtm.start':\n",
      "\t\t\t\t\t\tnew Date().getTime(),event:'gtm.js'});var f=d.getElementsByTagName(s)[0],\n",
      "\t\t\t\t\tj=d.createElement(s),dl=l!='dataLayer'?'&l='+l:'';j.async=true;j.src=\n",
      "\t\t\t\t\t'https://www.googletagmanager.com/gtm.js?id='+i+dl\n",
      "\t\t\t\t\t\t\t\t\t    ;f.parentNode.insertBefore(j,f);\n",
      "\t\t\t\t    })(window,document,'script','dataLayer','GTM-P3S238');</script>\n",
      "\t\t\t<!-- End Google Tag Manager -->\n",
      "\t<title>Mieszkania Kraków na sprzedaż, wynajem - Sprzedajemy.pl</title><meta http-equiv=\"Content-Type\" content=\"text/html; charset=UTF-8\" >\n",
      "<meta http-equiv=\"X-UA-Compatible\" content=\"IE=edge\" >\n",
      "<meta name=\"description\" content=\"Ogłoszenia o tematyce:  w kategorii Mieszkania - Kupuj i sprzedawaj rzeczy używane i nowe w kategorii Mieszkania na Sprzedajemy.pl\" >\n",
      "<meta property=\"og:title\" content=\"Mieszkania Kraków na sprzedaż, wynajem - Sprzedajemy.pl\" >\n",
      "<meta property=\"og:type\" content=\"website\" >\n",
      "<meta property=\"og:image\" content=\"https://thumbs.img-sprzedajemy.pl/facebook/sprzedajemy.pl.png\" >\n",
      "<meta property=\"og:image:width\" content=\"200\" >\n",
      "<meta property=\"og:image:height\" content=\"200\" >\n",
      "<meta property=\"og:url\" content=\"https://sprzedajemy.pl/krakow/nieruchomosci/mieszkania\" >\n",
      "<meta property=\"og:site_name\" content=\"Sprzedajemy.pl\" >\n",
      "<meta property=\"fb:app_id\" content=\"173258269367442\" >\n",
      "<meta property=\"og:description\" content=\"Ogłoszenia o tematyce:  w kategorii Mieszkania - Kupuj i sprzedawaj rzeczy używane i nowe w kategorii Mieszkania na Sprzedajemy.pl\" >\n",
      "<meta name=\"robots\" content=\"noindex, follow\" >\t\t<script  async=\"async\" src=\"https://static.criteo.net/js/ld/publishertag.js\"></script>\n",
      "        <script  async=\"async\" src=\"https://ap.lijit.com/www/sovrn_beacon_standalone/sovrn_standalone_beacon.js?iid=13417409&amp;uid=sprzedajemy\" id=\"sBeacon\"></script>\n",
      "\t\t<script  async=\"async\" src=\"https://securepuba\n",
      "Titles: ['Wyjątkowe mieszkanie z widokiem na klasztor w Tyńcu i panoramę Tatr', 'Stylowy apartament z widokiem na panoramę Krakowa - od właściciela', 'Nowoczesny apartament z panoramicznym widokiem - od właściciela', 'Mieszkanie na sprzedaż/zamiana 39m2', '2 lub 3 pokoje,62m2,balkon, Widok na Wawel', 'Nowe mieszkanie na sprzedaż 2-pokoje 38,6 m2 | Krowodrza - Kraków', 'Mieszkanie 4-pokoje Kraków - wolne od 1 Lipca 2025 r.', 'Mieszkanie 2 pokojowe', 'Stare Miasto 61,5 m2 KLIMA Wawel wykończone Kazimierz wysokie ROI', 'Stare Miasto 32m2 KLIMA Wawel wykończone Kazimierz wysokie ROI', 'Strych do adaptacji, Błonia, ul. Filarecka', 'Sprzedaż mieszkania Kraków 45.26m 2 pok', 'Mieszkanie 63.44m2 3 pok Kraków Józefa Łepkowskiego', 'Mieszkanie na sprzedaż 71.15m2 3-pok Kraków Józefa Łepkowskiego', 'Mieszkanie Kraków 69.86m2 3 pokoje', 'Oferta sprzedaży mieszkania Kraków 58.68m2 3-pokojowe', 'Do sprzedaży mieszkanie Kraków Józefa Łepkowskiego 64.46m2 3 pok', 'Sprzedaż mieszkania 45.02 metry 2 pokoje Kraków zabłocie', 'Do sprzedaży mieszkanie Kraków os. Piastów 36.83 metry 2-pokojowe', 'Mieszkanie Kraków os. Piastów 36.83m2 2-pokojowe', 'Oferta sprzedaży mieszkania 63.43m2 3 pokoje Kraków Józefa Łepkowskiego', 'Mieszkanie 54m2 2 pokojowe Kraków Grzegórzecka', 'Oferta sprzedaży mieszkania Kraków Józefa Łepkowskiego 49.35m2', 'Mieszkanie 54.5m2 2 pok Kraków oś. Spółdzielcze', 'Mieszkanie 45.44m2 2 pokojowe Kraków zabłocie', 'Oferta sprzedaży mieszkania Kraków 60.35m2 3-pokojowe', 'Kraków – 3 pokojowy apartament na sprzedaż na kameralnym osiedlu – 59,5 m2', 'Mieszkanie Kraków 38m2 2 pokoje', 'Mieszkanie z ogródkiem Zakrzówek bezczynszowe', 'Mieszkanie Kraków Józefa Łepkowskiego 63.43m2', 'Mieszkanie Kraków Wita Stwosza 109.86m2 1 pokojowe', 'Sprzedaż mieszkania 45.26m2 2-pokojowe Kraków', 'Sprzedam mieszkanie 48.74m2 2-pokojowe Kraków', 'Mieszkanie 54.4m2 3 pokojowe Kraków Bunscha', 'Mieszkanie Kraków 47m2 2-pokojowe', 'Mieszkanie Kraków os. Piastów 63.12m2 3 pokojowe', 'Mieszkanie Kraków zabłocie 39.15m2 2 pokoje', 'Sprzedam mieszkanie 45.26m2 2 pok Kraków', 'Oferta sprzedaży mieszkania 45.55m2 2-pokojowe Kraków zabłocie', 'Mieszkanie 42.88m2 2-pok Kraków Józefa Łepkowskiego', 'Sprzedam mieszkanie 54.51m2 3 pokojowe Kraków', 'Mieszkanie na sprzedaż ul. Wróblewskiego, Kraków, Stare Miasto _ 16 000zl/…', 'Mieszkanie Kraków Józefa Łepkowskiego 47m2 2 pokoje', 'Mieszkanie na sprzedaż 45.26m2 2 pokoje Kraków zabłocie', 'Mieszkanie Kraków zabłocie 45.26 metrów 2-pokojowe', 'Oferta sprzedaży mieszkania Kraków Św. Jacka 36m2 1 pokój', 'Mieszkanie do sprzedania 42.88m2 2-pokojowe Kraków', 'Mieszkanie 42.87m2 2-pokojowe Kraków', 'Mieszkanie 38.76m2 2-pokojowe Kraków Józefa Łepkowskiego', 'Mieszkanie Kraków os. Kalinowe 24m2', 'Mieszkanie 63.43m2 Kraków', 'Mieszkanie 47m2 3 pokoje Kraków os. Piastów', 'Mieszkanie sprzedam Kraków Józefa Łepkowskiego 38.76m2 2 pokoje', 'Mieszkanie 32.63m2 2-pokojowe Kraków Józefa Łepkowskiego', 'Mieszkanie Kraków Józefa Łepkowskiego 45.4m 2 pokoje', 'Mieszkanie do sprzedania Kraków 50.58m2 2-pokojowe', 'Ogłoszenie mieszkanie Kraków 54.27m2 3 pokoje', 'Mieszkanie 39.14m2 2 pokoje Kraków zabłocie', 'Oferta wynajmu mieszkania Kraków Jerozolimska 52m2 2 pokojowe', 'Mieszkanie 77.24m2 3 pokojowe Kraków Krakowska']\n",
      "60\n",
      "Prices: ['779 000 zł', '897 000 zł', '997 000 zł', '548 000 zł', '1 490 000 zł', '799 000 zł', '4 800 zł', '489 000 zł', '1 782 885 zł', '989 000 zł', '379 999 zł', '859 912 zł', '1 034 072 zł', '1 173 975 zł', '810 362 zł', '733 500 zł', '1 153 834 zł', '838 120 zł', '611 378 zł', '611 378 zł', '1 008 537 zł', '3 000 zł', '873 495 zł', '650 000 zł', '845 848 zł', '754 375 zł', '999 000 zł', '680 000 zł', '437 000 zł', '995 851 zł', '1 153 530 zł', '887 221 zł', '690 000 zł', '844 253 zł', '756 700 zł', '789 000 zł', '770 445 zł', '840 696 zł', '854 484 zł', '733 248 zł', '928 000 zł', '1 968 000 zł', '766 100 zł', '875 136 zł', '867 350 zł', '650 000 zł', '741 824 zł', '647 292 zł', '662 796 zł', '409 000 zł', '1 033 909 zł', '2 700 zł', '670 548 zł', '544 921 zł', '794 500 zł', '790 000 zł', '735 000 zł', '779 135 zł', '3 500 zł', '1 250 000 zł']\n",
      "60\n"
     ]
    }
   ],
   "source": [
    "import requests\n",
    "from bs4 import BeautifulSoup\n",
    "import pandas as pd\n",
    "import os\n",
    "\n",
    "url = \"https://sprzedajemy.pl/krakow/nieruchomosci/mieszkania?offset=0&items_per_page=60\"\n",
    "\n",
    "headers = {\n",
    "    \"User-Agent\": \"Mozilla/5.0 (Windows NT 10.0; Win64; x64) AppleWebKit/537.36 (KHTML, like Gecko) Chrome/58.0.3029.110 Safari/537.36\",\n",
    "    \"Accept\": \"text/html,application/xhtml+xml,application/xml;q=0.9,image/webp,image/apng,*/*;q=0.8\",\n",
    "    \"Accept-Encoding\": \"gzip, deflate, br\",\n",
    "    \"Accept-Language\": \"en-US,en;q=0.9,pl;q=0.8\",\n",
    "    \"Connection\": \"keep-alive\"\n",
    "}\n",
    "\n",
    "response = requests.get(url, headers=headers)\n",
    "response = requests.get(url, headers=headers)\n",
    "\n",
    "# Debugowanie odpowiedzi\n",
    "print(f\"Status Code: {response.status_code}\")\n",
    "print(f\"Response Headers: {response.headers}\")\n",
    "print(f\"Response Text (first 2000 chars): {response.text[:2000]}\")\n",
    "\n",
    "# Jeśli odpowiedź jest poprawna, wykonaj webscraping\n",
    "if response.status_code == 200:\n",
    "    soup = BeautifulSoup(response.content, \"html.parser\")\n",
    "\n",
    "    # Pobieranie ofert mieszkań\n",
    "    titles = [h2.a.text.strip() for h2 in soup.find_all(\"h2\", class_=\"title\") if h2.a]\n",
    "    prices = [p.text.replace(\"\\xa0\", \" \").strip() for p in soup.find_all(\"span\", class_=\"price\")]\n",
    "\n",
    "    print(\"Titles:\", titles)\n",
    "    print(len(titles))\n",
    "    print(\"Prices:\", prices)\n",
    "    print(len(prices))\n",
    "\n",
    "    df = pd.DataFrame({\"Title\": titles, \"Price\": prices})\n",
    "\n",
    "    # Dopisanie do pliku CSV\n",
    "    df.to_csv(\"scraped_data.csv\", mode='a', header=not os.path.exists('scraped_data.csv'), index=False)\n",
    "else:\n",
    "    print(\"Failed to retrieve data.\")\n"
   ]
  }
 ],
 "metadata": {
  "colab": {
   "provenance": []
  },
  "kernelspec": {
   "display_name": "Python 3",
   "name": "python3"
  },
  "language_info": {
   "codemirror_mode": {
    "name": "ipython",
    "version": 3
   },
   "file_extension": ".py",
   "mimetype": "text/x-python",
   "name": "python",
   "nbconvert_exporter": "python",
   "pygments_lexer": "ipython3",
   "version": "3.9.22"
  },
  "papermill": {
   "default_parameters": {},
   "duration": 3.639614,
   "end_time": "2025-06-14T11:59:26.656007",
   "environment_variables": {},
   "exception": null,
   "input_path": "nb.ipynb",
   "output_path": "nbo.ipynb",
   "parameters": {},
   "start_time": "2025-06-14T11:59:23.016393",
   "version": "2.6.0"
  }
 },
 "nbformat": 4,
 "nbformat_minor": 5
}