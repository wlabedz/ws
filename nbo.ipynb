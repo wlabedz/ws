{
 "cells": [
  {
   "cell_type": "code",
   "execution_count": 1,
   "id": "0308bce8",
   "metadata": {
    "colab": {
     "base_uri": "https://localhost:8080/"
    },
    "execution": {
     "iopub.execute_input": "2025-08-14T06:21:17.419448Z",
     "iopub.status.busy": "2025-08-14T06:21:17.419213Z",
     "iopub.status.idle": "2025-08-14T06:21:19.368010Z",
     "shell.execute_reply": "2025-08-14T06:21:19.367320Z"
    },
    "id": "5pYh4c8j1w43",
    "outputId": "8a0dca73-64e5-4f0d-c493-2c5b38392363",
    "papermill": {
     "duration": 1.952078,
     "end_time": "2025-08-14T06:21:19.369190",
     "exception": false,
     "start_time": "2025-08-14T06:21:17.417112",
     "status": "completed"
    },
    "tags": []
   },
   "outputs": [
    {
     "name": "stdout",
     "output_type": "stream",
     "text": [
      "Status Code: 200\n",
      "Response Headers: {'Server': 'nginx', 'Date': 'Thu, 14 Aug 2025 06:21:19 GMT', 'Content-Type': 'text/html; charset=UTF-8', 'Transfer-Encoding': 'chunked', 'Vary': 'Accept-Encoding, User-Agent', 'Set-Cookie': 'FRSPSID=2bu0d2m59bqpteaqn3mip73o22; path=/; domain=.sprzedajemy.pl; secure; HttpOnly, _items_per_page__offer_list=60; expires=Sat, 13-Sep-2025 06:21:18 GMT; Max-Age=2592000; path=/; domain=.sprzedajemy.pl; secure; httponly, observed_id=86419625689d805eec1fb460465155003933503; expires=Tue, 14-Aug-2125 07:21:18 GMT; Max-Age=3155677200; path=/; domain=.sprzedajemy.pl; secure; httponly', 'Expires': 'Thu, 19 Nov 1981 08:52:00 GMT', 'Cache-Control': 'no-store, no-cache, must-revalidate, post-check=0, pre-check=0', 'Pragma': 'no-cache', 'Content-Encoding': 'gzip'}\n",
      "Response Text (first 2000 chars): <!DOCTYPE html><html xmlns=\"http://www.w3.org/1999/xhtml\" xml:lang=\"pl\" lang=\"pl\" class=\"no-js\" >\n",
      "<head>\n",
      "\t\t\t<!-- Google Tag Manager -->\n",
      "\t\t\t<script>(function(w,d,s,l,i){w[l]=w[l]||[];w[l].push({'gtm.start':\n",
      "\t\t\t\t\t\tnew Date().getTime(),event:'gtm.js'});var f=d.getElementsByTagName(s)[0],\n",
      "\t\t\t\t\tj=d.createElement(s),dl=l!='dataLayer'?'&l='+l:'';j.async=true;j.src=\n",
      "\t\t\t\t\t'https://www.googletagmanager.com/gtm.js?id='+i+dl\n",
      "\t\t\t\t\t\t\t\t\t    ;f.parentNode.insertBefore(j,f);\n",
      "\t\t\t\t    })(window,document,'script','dataLayer','GTM-P3S238');</script>\n",
      "\t\t\t<!-- End Google Tag Manager -->\n",
      "\t<title>Mieszkania Kraków na sprzedaż, wynajem - Sprzedajemy.pl</title><meta http-equiv=\"Content-Type\" content=\"text/html; charset=UTF-8\" >\n",
      "<meta http-equiv=\"X-UA-Compatible\" content=\"IE=edge\" >\n",
      "<meta name=\"description\" content=\"Ogłoszenia o tematyce:  w kategorii Mieszkania - Kupuj i sprzedawaj rzeczy używane i nowe w kategorii Mieszkania na Sprzedajemy.pl\" >\n",
      "<meta property=\"og:title\" content=\"Mieszkania Kraków na sprzedaż, wynajem - Sprzedajemy.pl\" >\n",
      "<meta property=\"og:type\" content=\"website\" >\n",
      "<meta property=\"og:image\" content=\"https://thumbs.img-sprzedajemy.pl/facebook/sprzedajemy.pl.png\" >\n",
      "<meta property=\"og:image:width\" content=\"200\" >\n",
      "<meta property=\"og:image:height\" content=\"200\" >\n",
      "<meta property=\"og:url\" content=\"https://sprzedajemy.pl/krakow/nieruchomosci/mieszkania\" >\n",
      "<meta property=\"og:site_name\" content=\"Sprzedajemy.pl\" >\n",
      "<meta property=\"fb:app_id\" content=\"173258269367442\" >\n",
      "<meta property=\"og:description\" content=\"Ogłoszenia o tematyce:  w kategorii Mieszkania - Kupuj i sprzedawaj rzeczy używane i nowe w kategorii Mieszkania na Sprzedajemy.pl\" >\n",
      "<meta name=\"robots\" content=\"noindex, follow\" >\t\t<script  async=\"async\" src=\"https://static.criteo.net/js/ld/publishertag.js\"></script>\n",
      "        <script  async=\"async\" src=\"https://ap.lijit.com/www/sovrn_beacon_standalone/sovrn_standalone_beacon.js?iid=13417409&amp;uid=sprzedajemy\" id=\"sBeacon\"></script>\n",
      "\t\t<script  async=\"async\" src=\"https://securepuba\n",
      "Titles: ['3 niezależne lokale z KW– inwestycja z potencjałem', 'Mieszkanie na sprzedaż/zamiana 39m2', 'Kraków, Stare Miasto sprzedaż/zamiana', 'Mieszkanie 3-pokojowe. Duży balkon. Dobra komunikacja, Od właściciela', 'Dom - Kraków Tonie - Zielona okolica - 123 m2 | 5 - pok. | Ogród | Taras |…', 'Wynajmę mieszkanie w Krakowie Bronowicach', '2 pokojowe Konfederacka / Rondo Grunwaldzkie, ICE', '3 pokojowe Rakowcka 22C', 'Sprzedamy wyjątkowe mieszkanie na urokliwym osiedlu Kliny. :)', 'Mieszkanie 55.75m2 Kraków 29 listopada - okolice', 'Przytulne mieszkanie 38 m² z balkonem – Osiedle Złotego Wieku', 'Mieszkanie do sprzedania Kraków 50.12m2 2 pokoje', 'Nowe I Wykończone I 4-pok. I Bez PCC i Prowizji', 'Do wynajęcia mieszkanie 67m2 3-pokojowe Kraków', '42m2 z miejscem parkingowym OSIEDLE WIELICZKA PARK', 'Mieszkanie 45.69 metrów 2 pokojowe Kraków', 'Apartament, 2 pokoje, jadalnia, garaż,Krowodrza', 'Wynajmę mieszkanie Kraków 55.8m2 3-pokojowe', 'Mieszkanie przy ul. Sołtysowskiej, 2 pokoje 42 m2', 'Mieszkanie 48.5m2 2 pokojowe Kraków Szuwarowa', 'Mieszkanie 80m 4 pokoje Kraków', 'Mieszkanie Kraków 50m2 3 pokoje', 'Mieszkanie Kraków 38.53 metry 2 pokojowe', 'Sprzedam mieszkanie Kraków 52m2 2-pokojowe', 'Mieszkanie Kraków 46.8m2 3-pok', 'Oferta sprzedaży mieszkania Kraków os. Na Lotnisku 37.12m2 2 pokojowe', 'Mieszkanie 46.23m2 2 pokoje Kraków Jana Kantego Federowicza', 'Do wynajęcia 3 pok mieszkanie Krakow rezerwacja', 'Sprzedam mieszkanie po remoncie na os. Hutniczym', 'Mieszkanie 46m2 2 pokoje Kraków os. Górali', 'Mieszkanie 59.17m2 3-pokojowe Kraków Bieżanów', 'Mieszkanie sprzedam Kraków 58.69m2 3 pok', 'Oferta sprzedaży mieszkania 49m2 3-pokojowe Kraków', 'Oferta sprzedaży mieszkania Kraków os. Złotego Wieku 49m2 3 pok', 'Mieszkanie Kraków 48m2', 'Oferta sprzedaży mieszkania Kraków 42.14m 2 pokoje', 'Mieszkanie Kraków Westerplatte 41m2 1 pokój', 'Wynajmę mieszkanie 36m2 Kraków  Nowy Bieżanów', 'Oferta wynajmu mieszkania Kraków 49.32m2 2 pokoje', 'Mieszkanie, w Kamienicy po remoncie na rogu ul. Jana Sobieskiego', 'Do wynajęcia mieszkanie jednopokojowe 36m', 'Mieszkanie-Podgórze', 'Apartament 45 m2, Kraków Ruczaj HSBC SHELL MOTOROLA', '2-pokojowe mieszkanie na Zabłociu – ciche, świetna lokalizacja! [Wirtualny…', 'Wyjątkowe 3 pokoje 60 m² w Krakowie-Bronowicach | Premium | Gotowe!', 'Mieszkanie na wynajem', 'Mieszkanie Os. Avia Kraków, widok na góry', 'Mieszkanie do wynajęcia Kraków Trynitarska 70.5m2', 'Funkcjonalne, eleganckie 57,75 m2 z ogródkiem', 'Ogłoszenie mieszkanie 57.62m2 4 pokoje Kraków', 'Mieszkanie Kraków Rydlówka 42.88m2 3-pokojowe', 'Mieszkanie Luxusowe - Podgórze Duchackie', 'Mieszkanie 24.74m2 1 pokój Kraków', '4pokoje 68m2 balkon KLIMA Śródmieście BEZ PROWIZJI od właściciela', 'Stare Miasto 32m2 KLIMA Wawel wykończone Kazimierz wysokie ROI', 'Kraków Stare Miasto 62 m2 KLIMA Wawel wykończone Kazimierz INWESTYCYJNE', 'Mieszkanie do sprzedania Kraków Prandoty 98m2', 'Bieńczyce - 3 pokoje, balkon, jasna kuchnia', 'Pet Friendly - mieszkanie do wynajęcia na Czyżynach 30m² od zaraz', 'Oferta wynajmu mieszkania 70m2 3 pokojowe Kraków Dąbska']\n",
      "60\n",
      "Prices: ['265 000 zł', '526 000 zł', '2 153 000 zł', '3 500 zł', '2 275 000 zł', '3 000 zł', '3 000 zł', '4 300 zł', '689 000 zł', '756 514 zł', '512 000 zł', '744 840 zł', '969 000 zł', '2 450 zł', '550 000 zł', '639 000 zł', '3 800 zł', '3 000 zł', '700 000 zł', '2 900 zł', '1 120 000 zł', '719 000 zł', '649 000 zł', '750 000 zł', '695 000 zł', '488 000 zł', '779 000 zł', '3 000 zł', '595 000 zł', '529 000 zł', '780 000 zł', '789 000 zł', '640 000 zł', '590 000 zł', '572 000 zł', '611 030 zł', '2 800 zł', '2 000 zł', '2 250 zł', '886 000 zł', '2 000 zł', '628 000 zł', '3 100 zł', '499 000 zł', '1 220 000 zł', '2 500 zł', '998 000 zł', '4 300 zł', '989 000 zł', '1 194 174 zł', '1 000 176 zł', '628 000 zł', '482 000 zł', '1 850 000 zł', '989 000 zł', '1 828 000 zł', '1 565 000 zł', '745 000 zł', '2 050 zł', '4 000 zł']\n",
      "60\n"
     ]
    }
   ],
   "source": [
    "import requests\n",
    "from bs4 import BeautifulSoup\n",
    "import pandas as pd\n",
    "import os\n",
    "\n",
    "url = \"https://sprzedajemy.pl/krakow/nieruchomosci/mieszkania?offset=0&items_per_page=60\"\n",
    "\n",
    "headers = {\n",
    "    \"User-Agent\": \"Mozilla/5.0 (Windows NT 10.0; Win64; x64) AppleWebKit/537.36 (KHTML, like Gecko) Chrome/58.0.3029.110 Safari/537.36\",\n",
    "    \"Accept\": \"text/html,application/xhtml+xml,application/xml;q=0.9,image/webp,image/apng,*/*;q=0.8\",\n",
    "    \"Accept-Encoding\": \"gzip, deflate, br\",\n",
    "    \"Accept-Language\": \"en-US,en;q=0.9,pl;q=0.8\",\n",
    "    \"Connection\": \"keep-alive\"\n",
    "}\n",
    "\n",
    "response = requests.get(url, headers=headers)\n",
    "response = requests.get(url, headers=headers)\n",
    "\n",
    "# Debugowanie odpowiedzi\n",
    "print(f\"Status Code: {response.status_code}\")\n",
    "print(f\"Response Headers: {response.headers}\")\n",
    "print(f\"Response Text (first 2000 chars): {response.text[:2000]}\")\n",
    "\n",
    "# Jeśli odpowiedź jest poprawna, wykonaj webscraping\n",
    "if response.status_code == 200:\n",
    "    soup = BeautifulSoup(response.content, \"html.parser\")\n",
    "\n",
    "    # Pobieranie ofert mieszkań\n",
    "    titles = [h2.a.text.strip() for h2 in soup.find_all(\"h2\", class_=\"title\") if h2.a]\n",
    "    prices = [p.text.replace(\"\\xa0\", \" \").strip() for p in soup.find_all(\"span\", class_=\"price\")]\n",
    "\n",
    "    print(\"Titles:\", titles)\n",
    "    print(len(titles))\n",
    "    print(\"Prices:\", prices)\n",
    "    print(len(prices))\n",
    "\n",
    "    df = pd.DataFrame({\"Title\": titles, \"Price\": prices})\n",
    "\n",
    "    # Dopisanie do pliku CSV\n",
    "    df.to_csv(\"scraped_data.csv\", mode='a', header=not os.path.exists('scraped_data.csv'), index=False)\n",
    "else:\n",
    "    print(\"Failed to retrieve data.\")\n"
   ]
  }
 ],
 "metadata": {
  "colab": {
   "provenance": []
  },
  "kernelspec": {
   "display_name": "Python 3",
   "name": "python3"
  },
  "language_info": {
   "codemirror_mode": {
    "name": "ipython",
    "version": 3
   },
   "file_extension": ".py",
   "mimetype": "text/x-python",
   "name": "python",
   "nbconvert_exporter": "python",
   "pygments_lexer": "ipython3",
   "version": "3.9.23"
  },
  "papermill": {
   "default_parameters": {},
   "duration": 3.040106,
   "end_time": "2025-08-14T06:21:19.587330",
   "environment_variables": {},
   "exception": null,
   "input_path": "nb.ipynb",
   "output_path": "nbo.ipynb",
   "parameters": {},
   "start_time": "2025-08-14T06:21:16.547224",
   "version": "2.6.0"
  }
 },
 "nbformat": 4,
 "nbformat_minor": 5
}