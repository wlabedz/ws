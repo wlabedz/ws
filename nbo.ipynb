{
 "cells": [
  {
   "cell_type": "code",
   "execution_count": 1,
   "id": "5fedc97a",
   "metadata": {
    "colab": {
     "base_uri": "https://localhost:8080/"
    },
    "execution": {
     "iopub.execute_input": "2025-07-25T13:57:48.956959Z",
     "iopub.status.busy": "2025-07-25T13:57:48.956654Z",
     "iopub.status.idle": "2025-07-25T13:57:50.862825Z",
     "shell.execute_reply": "2025-07-25T13:57:50.862119Z"
    },
    "id": "5pYh4c8j1w43",
    "outputId": "8a0dca73-64e5-4f0d-c493-2c5b38392363",
    "papermill": {
     "duration": 1.909953,
     "end_time": "2025-07-25T13:57:50.864032",
     "exception": false,
     "start_time": "2025-07-25T13:57:48.954079",
     "status": "completed"
    },
    "tags": []
   },
   "outputs": [
    {
     "name": "stdout",
     "output_type": "stream",
     "text": [
      "Status Code: 200\n",
      "Response Headers: {'Server': 'nginx', 'Date': 'Fri, 25 Jul 2025 13:57:50 GMT', 'Content-Type': 'text/html; charset=UTF-8', 'Transfer-Encoding': 'chunked', 'Vary': 'Accept-Encoding, User-Agent', 'Set-Cookie': 'FRSPSID=5n3mbj3h14snns704u2bmjja44; path=/; domain=.sprzedajemy.pl; secure; HttpOnly, _items_per_page__offer_list=60; expires=Sun, 24-Aug-2025 13:57:50 GMT; Max-Age=2592000; path=/; domain=.sprzedajemy.pl; secure; httponly, observed_id=38926363368838d5e715fb810045070222585127; expires=Wed, 25-Jul-2125 14:57:50 GMT; Max-Age=3155677200; path=/; domain=.sprzedajemy.pl; secure; httponly', 'Expires': 'Thu, 19 Nov 1981 08:52:00 GMT', 'Cache-Control': 'no-store, no-cache, must-revalidate, post-check=0, pre-check=0', 'Pragma': 'no-cache', 'Content-Encoding': 'gzip'}\n",
      "Response Text (first 2000 chars): <!DOCTYPE html><html xmlns=\"http://www.w3.org/1999/xhtml\" xml:lang=\"pl\" lang=\"pl\" class=\"no-js\" >\n",
      "<head>\n",
      "\t\t\t<!-- Google Tag Manager -->\n",
      "\t\t\t<script>(function(w,d,s,l,i){w[l]=w[l]||[];w[l].push({'gtm.start':\n",
      "\t\t\t\t\t\tnew Date().getTime(),event:'gtm.js'});var f=d.getElementsByTagName(s)[0],\n",
      "\t\t\t\t\tj=d.createElement(s),dl=l!='dataLayer'?'&l='+l:'';j.async=true;j.src=\n",
      "\t\t\t\t\t'https://www.googletagmanager.com/gtm.js?id='+i+dl\n",
      "\t\t\t\t\t\t\t\t\t    ;f.parentNode.insertBefore(j,f);\n",
      "\t\t\t\t    })(window,document,'script','dataLayer','GTM-P3S238');</script>\n",
      "\t\t\t<!-- End Google Tag Manager -->\n",
      "\t<title>Mieszkania Kraków na sprzedaż, wynajem - Sprzedajemy.pl</title><meta http-equiv=\"Content-Type\" content=\"text/html; charset=UTF-8\" >\n",
      "<meta http-equiv=\"X-UA-Compatible\" content=\"IE=edge\" >\n",
      "<meta name=\"description\" content=\"Ogłoszenia o tematyce:  w kategorii Mieszkania - Kupuj i sprzedawaj rzeczy używane i nowe w kategorii Mieszkania na Sprzedajemy.pl\" >\n",
      "<meta property=\"og:title\" content=\"Mieszkania Kraków na sprzedaż, wynajem - Sprzedajemy.pl\" >\n",
      "<meta property=\"og:type\" content=\"website\" >\n",
      "<meta property=\"og:image\" content=\"https://thumbs.img-sprzedajemy.pl/facebook/sprzedajemy.pl.png\" >\n",
      "<meta property=\"og:image:width\" content=\"200\" >\n",
      "<meta property=\"og:image:height\" content=\"200\" >\n",
      "<meta property=\"og:url\" content=\"https://sprzedajemy.pl/krakow/nieruchomosci/mieszkania\" >\n",
      "<meta property=\"og:site_name\" content=\"Sprzedajemy.pl\" >\n",
      "<meta property=\"fb:app_id\" content=\"173258269367442\" >\n",
      "<meta property=\"og:description\" content=\"Ogłoszenia o tematyce:  w kategorii Mieszkania - Kupuj i sprzedawaj rzeczy używane i nowe w kategorii Mieszkania na Sprzedajemy.pl\" >\n",
      "<meta name=\"robots\" content=\"noindex, follow\" >\t\t<script  async=\"async\" src=\"https://static.criteo.net/js/ld/publishertag.js\"></script>\n",
      "        <script  async=\"async\" src=\"https://ap.lijit.com/www/sovrn_beacon_standalone/sovrn_standalone_beacon.js?iid=13417409&amp;uid=sprzedajemy\" id=\"sBeacon\"></script>\n",
      "\t\t<script  async=\"async\" src=\"https://securepuba\n",
      "Titles: ['Mieszkanie na sprzedaż/zamiana 39m2', 'Mieszkanie Wola Justowska /Bielany 36m2', 'Nowoczesny apartament z panoramicznym widokiem - od właściciela', 'Wyjątkowe mieszkanie z widokiem na klasztor w Tyńcu i panoramę Tatr', 'Stylowy apartament z widokiem na panoramę Krakowa - od właściciela', 'Kraków, Stare Miasto sprzedaż/zamiana', '2-pokojowe mieszkanie na Zabłociu – ciche, świetna lokalizacja! [Wirtualny…', '4pokoje 68m2 balkon KLIMA Śródmieście BEZ PROWIZJI od właściciela', 'Dom - Kraków Tonie - Zielona okolica - 123 m2 | 5 - pok. | Ogród | Taras |…', 'Mieszkanie Kraków Na Błonie 52.24m2 2 pokoje', 'Mieszkanie na sprzedaż 37.41m2 2 pokoje Kraków', 'Mieszkanie 50.95m2 2 pokoje Kraków Wadowicka', 'Do sprzedaży mieszkanie Kraków 41.64 metry 2 pokojowe', 'Sprzedam mieszkanie Kraków 54.45m2 2 pokojowe', 'Mieszkanie 49.76 metrów 2 pokojowe Kraków', 'Mieszkanie 69.31m2 3 pokojowe Kraków Wadowicka', 'Mieszkanie Kraków 50.64m2 3-pok', 'Mieszkanie 49.63m2 3 pokojowe Kraków', 'Sprzedaż mieszkania 31m2 1-pokojowe Kraków Ruczaj', 'Mieszkanie 52.32m2 3 pokojowe Kraków', 'Mieszkanie Kraków Pękowicka 40.37m2 2-pok', 'Mieszkanie sprzedam Kraków Pękowicka 53.6m2 4-pokojowe', 'Oferta sprzedaży mieszkania 37.8m2 2 pokoje Kraków Na Błonie', 'Mieszkanie Kraków 37.06m 2 pokoje', 'Ogłoszenie mieszkanie Kraków 27.38m2 1 pok', 'Oferta sprzedaży mieszkania Kraków 29 listopada - okolice 37.85m2 2 pokoje', 'Mieszkanie 51m2 2 pokoje Kraków', 'Mieszkanie 35.25m2 2 pokoje Kraków 29 listopada - okolice', 'Oferta sprzedaży mieszkania Kraków Babińskiego 31.74m2 1 pokój', 'Ogłoszenie mieszkanie Kraków 56.09m2 3 pokoje', 'Mieszkanie Kraków 26m2 1 pokój', 'Mieszkanie 35.26m2 Kraków', 'Do sprzedaży mieszkanie Kraków Olszanicka 151.83m2 7-pokojowe', 'Mieszkanie Kraków Babińskiego 59.85m2 3 pokojowe', 'Oferta sprzedaży mieszkania Kraków 27.28m2 1 pokojowe', 'Mieszkanie Kraków Grzegórzki 29.97m2 1-pok', 'Mieszkanie Kraków Wadowicka 66.11m2 3 pokoje', 'Mieszkanie Kraków Pękowicka 43.13m2', 'Mieszkanie Kraków Babińskiego 70.88m2 3 pokoje', 'Mieszkanie na sprzedaż Kraków Pękowicka 38.44m2 2 pokoje', 'Mieszkanie 60.05m2 4 pokoje Kraków', 'Mieszkanie Kraków Pękowicka 33.98m2 2 pokoje', 'Oferta sprzedaży mieszkania 51.53m2 3-pokojowe Kraków Pękowicka', 'Do sprzedaży mieszkanie 54.9m2 3-pokojowe Kraków Dąbrowskiego', 'Mieszkanie 51.42m2 Kraków Pękowicka', 'Mieszkanie do sprzedania Kraków 72.4m2 3 pokoje', 'Mieszkanie Kraków 52.26m2 3 pokoje', 'Mieszkanie 77.01m2 4 pokoje Kraków Reduta', 'Mieszkanie 64.26m2 3 pok Kraków Wadowicka', 'Mieszkanie Kraków Kantrowicka 34.79 metrów', 'Oferta sprzedaży mieszkania 26.03m2 Kraków Pękowicka', 'Oferta sprzedaży mieszkania Kraków Piasta Kołodzieja 48.59m2 3-pok', 'Mieszkanie 65.16m2 4-pokojowe Kraków Kantrowicka', 'Mieszkanie do sprzedania 82.03m2 4-pokojowe Kraków', 'Mieszkanie Kraków 60.51 metrów 3 pok', 'Mieszkanie do sprzedania Kraków 70.6m2 3 pokojowe', 'Sprzedam mieszkanie 77.4m2 3 pokojowe Kraków os. Wolfganga Amadeusa Mozarta', 'Mieszkanie 42.3m2 2-pokojowe Kraków Wadowicka', 'Mieszkanie Kraków Pękowicka 62.4m2 4-pokojowe', 'Sprzedaż mieszkania 62.46m2 3 pokoje Kraków Wadowicka']\n",
      "60\n",
      "Prices: ['526 000 zł', '487 000 zł', '997 000 zł', '779 000 zł', '897 000 zł', '2 153 000 zł', '499 000 zł', '1 850 000 zł', '2 275 000 zł', '895 393 zł', '776 070 zł', '876 340 zł', '722 454 zł', '855 000 zł', '699 000 zł', '1 150 546 zł', '843 156 zł', '699 783 zł', '535 000 zł', '855 432 zł', '682 253 zł', '873 680 zł', '756 529 zł', '633 726 zł', '469 000 zł', '646 141 zł', '779 000 zł', '672 124 zł', '615 756 zł', '729 170 zł', '499 000 zł', '657 206 zł', '2 383 737 zł', '1 029 420 zł', '474 672 zł', '749 000 zł', '1 077 593 zł', '711 645 zł', '1 268 752 zł', '653 480 zł', '984 820 zł', '581 058 zł', '847 668 zł', '1 107 714 zł', '848 430 zł', '1 158 400 zł', '857 064 zł', '1 370 000 zł', '1 098 846 zł', '504 455 zł', '449 017 zł', '733 709 zł', '814 500 zł', '1 350 000 zł', '1 096 199 zł', '1 307 747 zł', '1 330 000 zł', '765 630 zł', '1 004 640 zł', '1 068 066 zł']\n",
      "60\n"
     ]
    }
   ],
   "source": [
    "import requests\n",
    "from bs4 import BeautifulSoup\n",
    "import pandas as pd\n",
    "import os\n",
    "\n",
    "url = \"https://sprzedajemy.pl/krakow/nieruchomosci/mieszkania?offset=0&items_per_page=60\"\n",
    "\n",
    "headers = {\n",
    "    \"User-Agent\": \"Mozilla/5.0 (Windows NT 10.0; Win64; x64) AppleWebKit/537.36 (KHTML, like Gecko) Chrome/58.0.3029.110 Safari/537.36\",\n",
    "    \"Accept\": \"text/html,application/xhtml+xml,application/xml;q=0.9,image/webp,image/apng,*/*;q=0.8\",\n",
    "    \"Accept-Encoding\": \"gzip, deflate, br\",\n",
    "    \"Accept-Language\": \"en-US,en;q=0.9,pl;q=0.8\",\n",
    "    \"Connection\": \"keep-alive\"\n",
    "}\n",
    "\n",
    "response = requests.get(url, headers=headers)\n",
    "response = requests.get(url, headers=headers)\n",
    "\n",
    "# Debugowanie odpowiedzi\n",
    "print(f\"Status Code: {response.status_code}\")\n",
    "print(f\"Response Headers: {response.headers}\")\n",
    "print(f\"Response Text (first 2000 chars): {response.text[:2000]}\")\n",
    "\n",
    "# Jeśli odpowiedź jest poprawna, wykonaj webscraping\n",
    "if response.status_code == 200:\n",
    "    soup = BeautifulSoup(response.content, \"html.parser\")\n",
    "\n",
    "    # Pobieranie ofert mieszkań\n",
    "    titles = [h2.a.text.strip() for h2 in soup.find_all(\"h2\", class_=\"title\") if h2.a]\n",
    "    prices = [p.text.replace(\"\\xa0\", \" \").strip() for p in soup.find_all(\"span\", class_=\"price\")]\n",
    "\n",
    "    print(\"Titles:\", titles)\n",
    "    print(len(titles))\n",
    "    print(\"Prices:\", prices)\n",
    "    print(len(prices))\n",
    "\n",
    "    df = pd.DataFrame({\"Title\": titles, \"Price\": prices})\n",
    "\n",
    "    # Dopisanie do pliku CSV\n",
    "    df.to_csv(\"scraped_data.csv\", mode='a', header=not os.path.exists('scraped_data.csv'), index=False)\n",
    "else:\n",
    "    print(\"Failed to retrieve data.\")\n"
   ]
  }
 ],
 "metadata": {
  "colab": {
   "provenance": []
  },
  "kernelspec": {
   "display_name": "Python 3",
   "name": "python3"
  },
  "language_info": {
   "codemirror_mode": {
    "name": "ipython",
    "version": 3
   },
   "file_extension": ".py",
   "mimetype": "text/x-python",
   "name": "python",
   "nbconvert_exporter": "python",
   "pygments_lexer": "ipython3",
   "version": "3.9.23"
  },
  "papermill": {
   "default_parameters": {},
   "duration": 3.044877,
   "end_time": "2025-07-25T13:57:51.081198",
   "environment_variables": {},
   "exception": null,
   "input_path": "nb.ipynb",
   "output_path": "nbo.ipynb",
   "parameters": {},
   "start_time": "2025-07-25T13:57:48.036321",
   "version": "2.6.0"
  }
 },
 "nbformat": 4,
 "nbformat_minor": 5
}