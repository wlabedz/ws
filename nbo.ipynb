{
 "cells": [
  {
   "cell_type": "code",
   "execution_count": 1,
   "id": "2c1dd6d9",
   "metadata": {
    "colab": {
     "base_uri": "https://localhost:8080/"
    },
    "execution": {
     "iopub.execute_input": "2025-05-30T16:23:12.156498Z",
     "iopub.status.busy": "2025-05-30T16:23:12.155953Z",
     "iopub.status.idle": "2025-05-30T16:23:14.291810Z",
     "shell.execute_reply": "2025-05-30T16:23:14.291125Z"
    },
    "id": "5pYh4c8j1w43",
    "outputId": "8a0dca73-64e5-4f0d-c493-2c5b38392363",
    "papermill": {
     "duration": 2.13965,
     "end_time": "2025-05-30T16:23:14.293007",
     "exception": false,
     "start_time": "2025-05-30T16:23:12.153357",
     "status": "completed"
    },
    "tags": []
   },
   "outputs": [
    {
     "name": "stdout",
     "output_type": "stream",
     "text": [
      "Status Code: 200\n",
      "Response Headers: {'Server': 'nginx', 'Date': 'Fri, 30 May 2025 16:23:13 GMT', 'Content-Type': 'text/html; charset=UTF-8', 'Transfer-Encoding': 'chunked', 'Vary': 'Accept-Encoding, User-Agent', 'Set-Cookie': 'FRSPSID=ic20j38k914jfssh4lc9ju9av0; path=/; domain=.sprzedajemy.pl; secure; HttpOnly, _items_per_page__offer_list=60; expires=Sun, 29-Jun-2025 16:23:13 GMT; Max-Age=2592000; path=/; domain=.sprzedajemy.pl; secure; httponly, observed_id=14786802776839db71d1170910035489688997219; expires=Wed, 30-May-2125 17:23:13 GMT; Max-Age=3155677200; path=/; domain=.sprzedajemy.pl; secure; httponly', 'Expires': 'Thu, 19 Nov 1981 08:52:00 GMT', 'Cache-Control': 'no-store, no-cache, must-revalidate, post-check=0, pre-check=0', 'Pragma': 'no-cache', 'Content-Encoding': 'gzip'}\n",
      "Response Text (first 2000 chars): <!DOCTYPE html><html xmlns=\"http://www.w3.org/1999/xhtml\" xml:lang=\"pl\" lang=\"pl\" class=\"no-js\" >\n",
      "<head>\n",
      "\t\t\t<!-- Google Tag Manager -->\n",
      "\t\t\t<script>(function(w,d,s,l,i){w[l]=w[l]||[];w[l].push({'gtm.start':\n",
      "\t\t\t\t\t\tnew Date().getTime(),event:'gtm.js'});var f=d.getElementsByTagName(s)[0],\n",
      "\t\t\t\t\tj=d.createElement(s),dl=l!='dataLayer'?'&l='+l:'';j.async=true;j.src=\n",
      "\t\t\t\t\t'https://www.googletagmanager.com/gtm.js?id='+i+dl\n",
      "\t\t\t\t\t\t\t\t\t    ;f.parentNode.insertBefore(j,f);\n",
      "\t\t\t\t    })(window,document,'script','dataLayer','GTM-P3S238');</script>\n",
      "\t\t\t<!-- End Google Tag Manager -->\n",
      "\t<title>Mieszkania Kraków na sprzedaż, wynajem - Sprzedajemy.pl</title><meta http-equiv=\"Content-Type\" content=\"text/html; charset=UTF-8\" >\n",
      "<meta http-equiv=\"X-UA-Compatible\" content=\"IE=edge\" >\n",
      "<meta name=\"description\" content=\"Ogłoszenia o tematyce:  w kategorii Mieszkania - Kupuj i sprzedawaj rzeczy używane i nowe w kategorii Mieszkania na Sprzedajemy.pl\" >\n",
      "<meta property=\"og:title\" content=\"Mieszkania Kraków na sprzedaż, wynajem - Sprzedajemy.pl\" >\n",
      "<meta property=\"og:type\" content=\"website\" >\n",
      "<meta property=\"og:image\" content=\"https://thumbs.img-sprzedajemy.pl/facebook/sprzedajemy.pl.png\" >\n",
      "<meta property=\"og:image:width\" content=\"200\" >\n",
      "<meta property=\"og:image:height\" content=\"200\" >\n",
      "<meta property=\"og:url\" content=\"https://sprzedajemy.pl/krakow/nieruchomosci/mieszkania\" >\n",
      "<meta property=\"og:site_name\" content=\"Sprzedajemy.pl\" >\n",
      "<meta property=\"fb:app_id\" content=\"173258269367442\" >\n",
      "<meta property=\"og:description\" content=\"Ogłoszenia o tematyce:  w kategorii Mieszkania - Kupuj i sprzedawaj rzeczy używane i nowe w kategorii Mieszkania na Sprzedajemy.pl\" >\n",
      "<meta name=\"robots\" content=\"noindex, follow\" >\t\t<script  async=\"async\" src=\"https://static.criteo.net/js/ld/publishertag.js\"></script>\n",
      "        <script  async=\"async\" src=\"https://ap.lijit.com/www/sovrn_beacon_standalone/sovrn_standalone_beacon.js?iid=13417409&amp;uid=sprzedajemy\" id=\"sBeacon\"></script>\n",
      "\t\t<script  async=\"async\" src=\"https://securepuba\n",
      "Titles: ['2 pok,oddzielna kuchnia,klima,parking, Wrocławska', 'Strych do adaptacji, Błonia, ul. Filarecka', 'Nowe mieszkanie na sprzedaż 2-pokoje 38,6 m2 | Krowodrza - Kraków', 'Mieszkanie 4-pokoje Kraków - wolne od 1 Lipca 2025 r.', '2 lub 3 pokoje,62m2,balkon, Widok na Wawel', 'Kraków, Stare Miasto sprzedaż/zamiana', 'Nowoczesny apartament z panoramicznym widokiem - od właściciela', 'Stylowy apartament z widokiem na panoramę Krakowa - od właściciela', 'Wyjątkowe mieszkanie z widokiem na klasztor w Tyńcu i panoramę Tatr', 'Kraków Bronowice Stawowa 168 / 60m2 3 POK/ 22,5 m2 taras/ BEZ POŚREDNIKÓW', 'Mieszkanie dwupokojowe Kraków', 'Mieszkanie 37.89m2 2 pokojowe Kraków os. Piastów', 'Oferta sprzedaży mieszkania Kraków os. Piastów 41.73m2 2 pokoje', 'Mieszkanie sprzedam Kraków 38m2 2 pok', 'Mieszkanie 34.55m2 2 pokoje Kraków os. Piastów', 'Mieszkanie do sprzedania 52.5m2 2 pokoje Kraków', 'Górka Narodowa - trzypokojowe mieszkanie z garażem', 'Mieszkanie 48.5m2 2-pokojowe Kraków', 'Mieszkanie sprzedam 41.73m2 2 pokoje Kraków os. Piastów', 'Mieszkanie 37.89m2 2 pok Kraków', 'Mieszkanie 57.88 metrów 2 pokojowe Kraków', 'Mieszkanie 36.96m2 2 pokojowe Kraków os. Piastów', 'Mieszkanie na sprzedaż 44m2 2 pokoje Kraków Krowoderskich Zuchów', 'Mieszkanie Kraków 27.42m2 4 pokoje', 'Mieszkanie 46.85 metrów 2 pokojowe Kraków', 'Mieszkanie sprzedam 43m2 2-pok Kraków', 'Mieszkanie Kraków Batorego 167.59m2 5 pokojowe', 'Mieszkanie 36.96m2 2 pok Kraków os. Piastów', 'Sprzedam mieszkanie 41.59m2 2 pokoje Kraków Na Błonie', 'Sprzedaż mieszkania 48m2 2-pokojowe Kraków', 'Mieszkanie 46.99m2 2-pok Kraków Marii i Bolesława Wysłouchów', 'Mieszkanie Kraków Kombatantów 35.49 metrów 2 pokojowe', 'Mieszkanie 47m Kraków', 'Mieszkanie Kraków Józefa Dwernickiego 45.7m2 2 pokoje', 'Oferta sprzedaży mieszkania 76.89m2 4 pokoje Kraków os. Piastów', 'Mieszkanie 46m2 2 pokoje Kraków', 'Mieszkanie 45.65m2 2 pokoje Kraków Kwartowa', 'Oferta sprzedaży mieszkania Kraków 74.7m2 3 pok', 'Mieszkanie Kraków Dworcowa 43.28m 2-pokojowe', 'Mieszkanie 30m 1 pokój Kraków', 'Ogłoszenie mieszkanie Kraków Krowoderskich Zuchów 46m2 4-pok', 'Mieszkanie Kraków Majowa 66.15 metrów', 'Mieszkanie 53m2 2 pokojowe Kraków os. Sportowe', 'Mieszkanie Kraków 48m2 3-pok', 'Mieszkanie Kraków Klemensa Janickiego 29.44m2 1 pokojowe', 'Sprzedam mieszkanie Kraków Kawiory 38.07 metrów 2 pok', 'Mieszkanie Kraków 26.32m', 'Mieszkanie 76.3m2 4 pokojowe Kraków Balicka', 'Mieszkanie 32m2 1 pokojowe Kraków Obozowa', 'Wynajmę mieszkanie Kraków Litewska 32.37 metrów 1 pokojowe', 'Mieszkanie Kraków Jerzego Szablowskiego 47m2 1-pokojowe', 'Mieszkanie 167.59m2 5-pok Kraków', 'Oferta sprzedaży mieszkania Kraków 60.66m2 2 pokojowe', 'Oferta sprzedaży mieszkania 78.3m2 3-pok Kraków', 'Mieszkanie Kraków 27.42m2 4-pok', 'Mieszkanie Kraków 53.04m2 3 pokoje', 'Mieszkanie 27.42m2 3 pokojowe Kraków Rydlówka', 'Mieszkanie 34m2 2 pok Kraków Armii Krajowej', 'Oferta sprzedaży mieszkania 36m2 2 pokoje Kraków os. Teatralne', 'DWUPOZIOMOWE | 4 POKOJE | KLIMATYZACJA | MOŻLIWOŚĆ PODZIAŁU | GARAŻ | PIWN…']\n",
      "60\n",
      "Prices: ['3 200 zł', '379 999 zł', '799 000 zł', '4 800 zł', '1 490 000 zł', '2 243 000 zł', '997 000 zł', '897 000 zł', '790 000 zł', '1 137 500 zł', '720 000 zł', '621 396 zł', '630 123 zł', '649 000 zł', '573 530 zł', '850 000 zł', '800 000 zł', '940 000 zł', '630 123 zł', '632 763 zł', '982 224 zł', '613 536 zł', '919 000 zł', '1 037 160 zł', '2 600 zł', '595 000 zł', '12 000 zł', '613 536 zł', '645 000 zł', '599 000 zł', '669 000 zł', '495 000 zł', '699 000 zł', '850 000 zł', '899 613 zł', '650 000 zł', '699 000 zł', '1 100 000 zł', '559 000 zł', '2 000 zł', '945 000 zł', '2 600 zł', '635 000 zł', '617 000 zł', '569 000 zł', '829 000 zł', '499 000 zł', '3 600 zł', '498 000 zł', '2 150 zł', '2 850 zł', '4 100 000 zł', '795 000 zł', '1 390 000 zł', '1 043 280 zł', '1 050 000 zł', '1 102 513 zł', '570 000 zł', '449 000 zł', '860 000 zł']\n",
      "60\n"
     ]
    }
   ],
   "source": [
    "import requests\n",
    "from bs4 import BeautifulSoup\n",
    "import pandas as pd\n",
    "import os\n",
    "\n",
    "url = \"https://sprzedajemy.pl/krakow/nieruchomosci/mieszkania?offset=0&items_per_page=60\"\n",
    "\n",
    "headers = {\n",
    "    \"User-Agent\": \"Mozilla/5.0 (Windows NT 10.0; Win64; x64) AppleWebKit/537.36 (KHTML, like Gecko) Chrome/58.0.3029.110 Safari/537.36\",\n",
    "    \"Accept\": \"text/html,application/xhtml+xml,application/xml;q=0.9,image/webp,image/apng,*/*;q=0.8\",\n",
    "    \"Accept-Encoding\": \"gzip, deflate, br\",\n",
    "    \"Accept-Language\": \"en-US,en;q=0.9,pl;q=0.8\",\n",
    "    \"Connection\": \"keep-alive\"\n",
    "}\n",
    "\n",
    "response = requests.get(url, headers=headers)\n",
    "response = requests.get(url, headers=headers)\n",
    "\n",
    "# Debugowanie odpowiedzi\n",
    "print(f\"Status Code: {response.status_code}\")\n",
    "print(f\"Response Headers: {response.headers}\")\n",
    "print(f\"Response Text (first 2000 chars): {response.text[:2000]}\")\n",
    "\n",
    "# Jeśli odpowiedź jest poprawna, wykonaj webscraping\n",
    "if response.status_code == 200:\n",
    "    soup = BeautifulSoup(response.content, \"html.parser\")\n",
    "\n",
    "    # Pobieranie ofert mieszkań\n",
    "    titles = [h2.a.text.strip() for h2 in soup.find_all(\"h2\", class_=\"title\") if h2.a]\n",
    "    prices = [p.text.replace(\"\\xa0\", \" \").strip() for p in soup.find_all(\"span\", class_=\"price\")]\n",
    "\n",
    "    print(\"Titles:\", titles)\n",
    "    print(len(titles))\n",
    "    print(\"Prices:\", prices)\n",
    "    print(len(prices))\n",
    "\n",
    "    df = pd.DataFrame({\"Title\": titles, \"Price\": prices})\n",
    "\n",
    "    # Dopisanie do pliku CSV\n",
    "    df.to_csv(\"scraped_data.csv\", mode='a', header=not os.path.exists('scraped_data.csv'), index=False)\n",
    "else:\n",
    "    print(\"Failed to retrieve data.\")\n"
   ]
  }
 ],
 "metadata": {
  "colab": {
   "provenance": []
  },
  "kernelspec": {
   "display_name": "Python 3",
   "name": "python3"
  },
  "language_info": {
   "codemirror_mode": {
    "name": "ipython",
    "version": 3
   },
   "file_extension": ".py",
   "mimetype": "text/x-python",
   "name": "python",
   "nbconvert_exporter": "python",
   "pygments_lexer": "ipython3",
   "version": "3.9.22"
  },
  "papermill": {
   "default_parameters": {},
   "duration": 3.279536,
   "end_time": "2025-05-30T16:23:14.510530",
   "environment_variables": {},
   "exception": null,
   "input_path": "nb.ipynb",
   "output_path": "nbo.ipynb",
   "parameters": {},
   "start_time": "2025-05-30T16:23:11.230994",
   "version": "2.6.0"
  }
 },
 "nbformat": 4,
 "nbformat_minor": 5
}