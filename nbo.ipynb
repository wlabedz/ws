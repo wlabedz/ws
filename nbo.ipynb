{
 "cells": [
  {
   "cell_type": "code",
   "execution_count": 1,
   "id": "ea70740c",
   "metadata": {
    "colab": {
     "base_uri": "https://localhost:8080/"
    },
    "execution": {
     "iopub.execute_input": "2025-06-30T14:33:41.764410Z",
     "iopub.status.busy": "2025-06-30T14:33:41.764093Z",
     "iopub.status.idle": "2025-06-30T14:33:43.746537Z",
     "shell.execute_reply": "2025-06-30T14:33:43.745807Z"
    },
    "id": "5pYh4c8j1w43",
    "outputId": "8a0dca73-64e5-4f0d-c493-2c5b38392363",
    "papermill": {
     "duration": 1.986285,
     "end_time": "2025-06-30T14:33:43.747756",
     "exception": false,
     "start_time": "2025-06-30T14:33:41.761471",
     "status": "completed"
    },
    "tags": []
   },
   "outputs": [
    {
     "name": "stdout",
     "output_type": "stream",
     "text": [
      "Status Code: 200\n",
      "Response Headers: {'Server': 'nginx', 'Date': 'Mon, 30 Jun 2025 14:33:43 GMT', 'Content-Type': 'text/html; charset=UTF-8', 'Transfer-Encoding': 'chunked', 'Vary': 'Accept-Encoding, User-Agent', 'Set-Cookie': 'FRSPSID=sqnh3rdp6pvfa4juuvvn8q2fs5; path=/; domain=.sprzedajemy.pl; secure; HttpOnly, _items_per_page__offer_list=60; expires=Wed, 30-Jul-2025 14:33:43 GMT; Max-Age=2592000; path=/; domain=.sprzedajemy.pl; secure; httponly, observed_id=6281542076862a047515b9596089098301239158; expires=Sat, 30-Jun-2125 15:33:43 GMT; Max-Age=3155677200; path=/; domain=.sprzedajemy.pl; secure; httponly', 'Expires': 'Thu, 19 Nov 1981 08:52:00 GMT', 'Cache-Control': 'no-store, no-cache, must-revalidate, post-check=0, pre-check=0', 'Pragma': 'no-cache', 'Content-Encoding': 'gzip'}\n",
      "Response Text (first 2000 chars): <!DOCTYPE html><html xmlns=\"http://www.w3.org/1999/xhtml\" xml:lang=\"pl\" lang=\"pl\" class=\"no-js\" >\n",
      "<head>\n",
      "\t\t\t<!-- Google Tag Manager -->\n",
      "\t\t\t<script>(function(w,d,s,l,i){w[l]=w[l]||[];w[l].push({'gtm.start':\n",
      "\t\t\t\t\t\tnew Date().getTime(),event:'gtm.js'});var f=d.getElementsByTagName(s)[0],\n",
      "\t\t\t\t\tj=d.createElement(s),dl=l!='dataLayer'?'&l='+l:'';j.async=true;j.src=\n",
      "\t\t\t\t\t'https://www.googletagmanager.com/gtm.js?id='+i+dl\n",
      "\t\t\t\t\t\t\t\t\t    ;f.parentNode.insertBefore(j,f);\n",
      "\t\t\t\t    })(window,document,'script','dataLayer','GTM-P3S238');</script>\n",
      "\t\t\t<!-- End Google Tag Manager -->\n",
      "\t<title>Mieszkania Kraków na sprzedaż, wynajem - Sprzedajemy.pl</title><meta http-equiv=\"Content-Type\" content=\"text/html; charset=UTF-8\" >\n",
      "<meta http-equiv=\"X-UA-Compatible\" content=\"IE=edge\" >\n",
      "<meta name=\"description\" content=\"Ogłoszenia o tematyce:  w kategorii Mieszkania - Kupuj i sprzedawaj rzeczy używane i nowe w kategorii Mieszkania na Sprzedajemy.pl\" >\n",
      "<meta property=\"og:title\" content=\"Mieszkania Kraków na sprzedaż, wynajem - Sprzedajemy.pl\" >\n",
      "<meta property=\"og:type\" content=\"website\" >\n",
      "<meta property=\"og:image\" content=\"https://thumbs.img-sprzedajemy.pl/facebook/sprzedajemy.pl.png\" >\n",
      "<meta property=\"og:image:width\" content=\"200\" >\n",
      "<meta property=\"og:image:height\" content=\"200\" >\n",
      "<meta property=\"og:url\" content=\"https://sprzedajemy.pl/krakow/nieruchomosci/mieszkania\" >\n",
      "<meta property=\"og:site_name\" content=\"Sprzedajemy.pl\" >\n",
      "<meta property=\"fb:app_id\" content=\"173258269367442\" >\n",
      "<meta property=\"og:description\" content=\"Ogłoszenia o tematyce:  w kategorii Mieszkania - Kupuj i sprzedawaj rzeczy używane i nowe w kategorii Mieszkania na Sprzedajemy.pl\" >\n",
      "<meta name=\"robots\" content=\"noindex, follow\" >\t\t<script  async=\"async\" src=\"https://static.criteo.net/js/ld/publishertag.js\"></script>\n",
      "        <script  async=\"async\" src=\"https://ap.lijit.com/www/sovrn_beacon_standalone/sovrn_standalone_beacon.js?iid=13417409&amp;uid=sprzedajemy\" id=\"sBeacon\"></script>\n",
      "\t\t<script  async=\"async\" src=\"https://securepuba\n",
      "Titles: ['Mieszkanie na sprzedaż/zamiana 39m2', 'Stare Miasto 61,5 m2 KLIMA Wawel wykończone Kazimierz wysokie ROI', 'Stare Miasto 32m2 KLIMA Wawel wykończone Kazimierz wysokie ROI', 'wykończone 27,56 m², balkon, Kniaźnina, TRAMWAJ, Prądnik Czerwony/Huta', 'Stylowy apartament z widokiem na panoramę Krakowa - od właściciela', 'Nowoczesny apartament z panoramicznym widokiem - od właściciela', 'Wyjątkowe mieszkanie z widokiem na klasztor w Tyńcu i panoramę Tatr', 'Do wynajęcia mieszkanie Kraków Tadeusza Makowskiego 36m2 2 pok', 'Mieszkanie Kraków 27m2 2 pokoje', 'Mieszkanie 54.86m 3 pokoje Kraków os. Oświecenia', 'Apartament 3 pokoje w inwestycji Grzegórzki Park', 'Mieszkanie 39m2 2 pokoje Kraków os. Bohaterów Września', 'Mieszkanie 23m2 1 pokój Kraków', 'Mieszkanie Kraków Radzikowskiego 73m2 3 pokojowe', 'Mieszkanie Ruczaj Bobrzynskiego', 'Oferta sprzedaży mieszkania 49m2 3 pokojowe Kraków', 'Mieszkanie 39m2 2 pokojowe Kraków Dąbska', 'Mieszkanie do sprzedania 38.93m2 1 pokojowe Kraków', 'Mieszkanie Kraków 46.6m 2 pok', 'Ogłoszenie mieszkanie 46.02m2 2 pokojowe Kraków os. Avia', 'Oferta sprzedaży mieszkania Kraków 70.19m2 3 pokojowe', 'Mieszkanie na sprzedaż 32m2, Kraków os. Gotyk', 'Bezpośrednio wynajmę 2-pokojowe ul.Batorego po remoncie.', 'Mieszkanie 38 metrów kwadratowych sprzedam bezpośrednio', 'Mieszkanie Kraków 43m2 2 pokojowe', 'Kawalerka dla studenta/studentki, Kraków - Prokocim', 'Bezpośrednio sprzedam mieszkanie Kraków ul. Batorego', 'Mieszkanie Kraków 56.5m2 2 pokoje', 'Do wynajęcia 3 pok mieszkanie Krakow', '24 m2 | os. Kalinowe | po remoncie | bez pośredników', '2 pokoje 41m2 blisko Aquaparku wkrótce tramwaj!', 'Odkryj ekskluzywny kompleks mieszkaniowy Lomas de Campoamor', 'Mieszkanie Kraków Mirosława Krzyżańskiego 122m 4 pokoje', 'Mieszkanie przy Rynku Głównym! Centrum Krakowa', 'Mieszkanie Kraków Władysława Taklińskiego 57m2 3 pokoje', 'Mieszkanie Kraków Mirosława Krzyżańskiego 122m2 4-pokojowe', 'Mieszkanie do sprzedania Kraków 55m2 3 pokoje', 'Sprzedam mieszkanie w systemie TBS', 'Sprzedaż BEZPOŚREDNIA od właściciela - 40,20 m2', 'Mieszkanie sprzedam 41m2 Kraków os. Piastów', 'Mieszkanie 80m2 3 pokojowe Kraków Zygmunta Augusta', 'Bezpośrednio wynajmę 2-pokojowe ul.Batorego po remoncie.', 'Strych, Błonia, ul. Filarecka, Rezerwacja', 'Duża kawalerka - Kraków – Salwator – ul. Kościuszki – 2 pokoje – 35 m²', 'Kraków – Prądnik Biały – ul. Pachońskiego – 2 pokoje – 36 m² – BALKON', '5 min do centrum - 2-pokojowe mieszkanie 48 m² – wysoki standard', 'Sprzedam mieszkanie 3 pokojowe słoneczne 2 Pulku Lotniczego', 'Mieszkanie 53.46m2 3 pokoje Kraków', 'Mieszkanie Kraków 53m2 3 pokoje', 'Mieszkanie Kraków 103m2', 'Mieszkanie 58.4m2 Kraków Śliczna', 'Mieszkanie Kraków Rydlówka 36.95m2', 'Oferta wynajmu mieszkania 33m2 2 pokoje Kraków Cieszyńska', 'Mieszkanie 45 metrów Kraków', 'Mieszkanie Kraków os. Zielone 67m2', 'Mieszkanie Kraków 38.69m2 2 pokoje', 'Sprzedaż mieszkania 90.48m2 4-pokojowe Kraków', 'Mieszkanie do sprzedania 36.05m2 2 pokoje Kraków Imbramowska', 'Mieszkanie 28.75m2 Kraków', 'Oferta wynajmu mieszkania Kraków 51.8m2 3 pok']\n",
      "60\n",
      "Prices: ['539 000 zł', '1 748 885 zł', '959 000 zł', '569 000 zł', '897 000 zł', '997 000 zł', '779 000 zł', '3 000 zł', '2 200 zł', '729 000 zł', '1 799 000 zł', '560 000 zł', '410 000 zł', '797 000 zł', '580 000 zł', '640 000 zł', '3 000 zł', '729 000 zł', '3 200 zł', '809 000 zł', '489 000 zł', '480 000 zł', '3 850 zł', '550 000 zł', '534 700 zł', '2 400 zł', '1 650 000 zł', '6 500 zł', '2 900 zł', '429 000 zł', '710 000 zł', '1 000 000 zł', '1 150 000 zł', '1 400 000 zł', '3 000 zł', '1 299 000 zł', '609 000 zł', '180 000 zł', '650 000 zł', '610 000 zł', '5 000 zł', '3 850 zł', '389 999 zł', '2 800 zł', '2 800 zł', '3 550 zł', '949 000 zł', '739 000 zł', '679 000 zł', '2 500 000 zł', '959 000 zł', '880 000 zł', '3 700 zł', '615 000 zł', '759 000 zł', '833 286 zł', '1 481 941 zł', '499 000 zł', '808 954 zł', '2 200 zł']\n",
      "60\n"
     ]
    }
   ],
   "source": [
    "import requests\n",
    "from bs4 import BeautifulSoup\n",
    "import pandas as pd\n",
    "import os\n",
    "\n",
    "url = \"https://sprzedajemy.pl/krakow/nieruchomosci/mieszkania?offset=0&items_per_page=60\"\n",
    "\n",
    "headers = {\n",
    "    \"User-Agent\": \"Mozilla/5.0 (Windows NT 10.0; Win64; x64) AppleWebKit/537.36 (KHTML, like Gecko) Chrome/58.0.3029.110 Safari/537.36\",\n",
    "    \"Accept\": \"text/html,application/xhtml+xml,application/xml;q=0.9,image/webp,image/apng,*/*;q=0.8\",\n",
    "    \"Accept-Encoding\": \"gzip, deflate, br\",\n",
    "    \"Accept-Language\": \"en-US,en;q=0.9,pl;q=0.8\",\n",
    "    \"Connection\": \"keep-alive\"\n",
    "}\n",
    "\n",
    "response = requests.get(url, headers=headers)\n",
    "response = requests.get(url, headers=headers)\n",
    "\n",
    "# Debugowanie odpowiedzi\n",
    "print(f\"Status Code: {response.status_code}\")\n",
    "print(f\"Response Headers: {response.headers}\")\n",
    "print(f\"Response Text (first 2000 chars): {response.text[:2000]}\")\n",
    "\n",
    "# Jeśli odpowiedź jest poprawna, wykonaj webscraping\n",
    "if response.status_code == 200:\n",
    "    soup = BeautifulSoup(response.content, \"html.parser\")\n",
    "\n",
    "    # Pobieranie ofert mieszkań\n",
    "    titles = [h2.a.text.strip() for h2 in soup.find_all(\"h2\", class_=\"title\") if h2.a]\n",
    "    prices = [p.text.replace(\"\\xa0\", \" \").strip() for p in soup.find_all(\"span\", class_=\"price\")]\n",
    "\n",
    "    print(\"Titles:\", titles)\n",
    "    print(len(titles))\n",
    "    print(\"Prices:\", prices)\n",
    "    print(len(prices))\n",
    "\n",
    "    df = pd.DataFrame({\"Title\": titles, \"Price\": prices})\n",
    "\n",
    "    # Dopisanie do pliku CSV\n",
    "    df.to_csv(\"scraped_data.csv\", mode='a', header=not os.path.exists('scraped_data.csv'), index=False)\n",
    "else:\n",
    "    print(\"Failed to retrieve data.\")\n"
   ]
  }
 ],
 "metadata": {
  "colab": {
   "provenance": []
  },
  "kernelspec": {
   "display_name": "Python 3",
   "name": "python3"
  },
  "language_info": {
   "codemirror_mode": {
    "name": "ipython",
    "version": 3
   },
   "file_extension": ".py",
   "mimetype": "text/x-python",
   "name": "python",
   "nbconvert_exporter": "python",
   "pygments_lexer": "ipython3",
   "version": "3.9.23"
  },
  "papermill": {
   "default_parameters": {},
   "duration": 3.207799,
   "end_time": "2025-06-30T14:33:43.965998",
   "environment_variables": {},
   "exception": null,
   "input_path": "nb.ipynb",
   "output_path": "nbo.ipynb",
   "parameters": {},
   "start_time": "2025-06-30T14:33:40.758199",
   "version": "2.6.0"
  }
 },
 "nbformat": 4,
 "nbformat_minor": 5
}