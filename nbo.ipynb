{
 "cells": [
  {
   "cell_type": "code",
   "execution_count": 1,
   "id": "0c226314",
   "metadata": {
    "colab": {
     "base_uri": "https://localhost:8080/"
    },
    "execution": {
     "iopub.execute_input": "2025-10-09T11:50:21.389404Z",
     "iopub.status.busy": "2025-10-09T11:50:21.389188Z",
     "iopub.status.idle": "2025-10-09T11:50:23.621260Z",
     "shell.execute_reply": "2025-10-09T11:50:23.620564Z"
    },
    "id": "5pYh4c8j1w43",
    "outputId": "8a0dca73-64e5-4f0d-c493-2c5b38392363",
    "papermill": {
     "duration": 2.23531,
     "end_time": "2025-10-09T11:50:23.622434",
     "exception": false,
     "start_time": "2025-10-09T11:50:21.387124",
     "status": "completed"
    },
    "tags": []
   },
   "outputs": [
    {
     "name": "stdout",
     "output_type": "stream",
     "text": [
      "Status Code: 200\n",
      "Response Headers: {'Server': 'nginx', 'Date': 'Thu, 09 Oct 2025 11:50:23 GMT', 'Content-Type': 'text/html; charset=UTF-8', 'Transfer-Encoding': 'chunked', 'Vary': 'Accept-Encoding, User-Agent', 'Set-Cookie': 'FRSPSID=u5cmedsj5fesu063928mh6j2b3; path=/; domain=.sprzedajemy.pl; secure; HttpOnly, _items_per_page__offer_list=60; expires=Sat, 08-Nov-2025 11:50:23 GMT; Max-Age=2592000; path=/; domain=.sprzedajemy.pl; secure; httponly, observed_id=50982046768e7a17f2deb08126082128403086157; expires=Tue, 09-Oct-2125 12:50:23 GMT; Max-Age=3155677200; path=/; domain=.sprzedajemy.pl; secure; httponly', 'Expires': 'Thu, 19 Nov 1981 08:52:00 GMT', 'Cache-Control': 'no-store, no-cache, must-revalidate, post-check=0, pre-check=0', 'Pragma': 'no-cache', 'Content-Encoding': 'gzip'}\n",
      "Response Text (first 2000 chars): <!DOCTYPE html><html xmlns=\"http://www.w3.org/1999/xhtml\" xml:lang=\"pl\" lang=\"pl\" class=\"no-js\" >\n",
      "<head>\n",
      "\t\t\t<!-- Google Tag Manager -->\n",
      "\t\t\t<script>(function(w,d,s,l,i){w[l]=w[l]||[];w[l].push({'gtm.start':\n",
      "\t\t\t\t\t\tnew Date().getTime(),event:'gtm.js'});var f=d.getElementsByTagName(s)[0],\n",
      "\t\t\t\t\tj=d.createElement(s),dl=l!='dataLayer'?'&l='+l:'';j.async=true;j.src=\n",
      "\t\t\t\t\t'https://www.googletagmanager.com/gtm.js?id='+i+dl\n",
      "\t\t\t\t\t\t\t\t\t    ;f.parentNode.insertBefore(j,f);\n",
      "\t\t\t\t    })(window,document,'script','dataLayer','GTM-P3S238');</script>\n",
      "\t\t\t<!-- End Google Tag Manager -->\n",
      "\t<title>Mieszkania Kraków na sprzedaż, wynajem - Sprzedajemy.pl</title><meta http-equiv=\"Content-Type\" content=\"text/html; charset=UTF-8\" >\n",
      "<meta http-equiv=\"X-UA-Compatible\" content=\"IE=edge\" >\n",
      "<meta name=\"description\" content=\"Ogłoszenia o tematyce:  w kategorii Mieszkania - Kupuj i sprzedawaj rzeczy używane i nowe w kategorii Mieszkania na Sprzedajemy.pl\" >\n",
      "<meta property=\"og:title\" content=\"Mieszkania Kraków na sprzedaż, wynajem - Sprzedajemy.pl\" >\n",
      "<meta property=\"og:type\" content=\"website\" >\n",
      "<meta property=\"og:image\" content=\"https://thumbs.img-sprzedajemy.pl/facebook/sprzedajemy.pl.png\" >\n",
      "<meta property=\"og:image:width\" content=\"200\" >\n",
      "<meta property=\"og:image:height\" content=\"200\" >\n",
      "<meta property=\"og:url\" content=\"https://sprzedajemy.pl/krakow/nieruchomosci/mieszkania\" >\n",
      "<meta property=\"og:site_name\" content=\"Sprzedajemy.pl\" >\n",
      "<meta property=\"fb:app_id\" content=\"173258269367442\" >\n",
      "<meta property=\"og:description\" content=\"Ogłoszenia o tematyce:  w kategorii Mieszkania - Kupuj i sprzedawaj rzeczy używane i nowe w kategorii Mieszkania na Sprzedajemy.pl\" >\n",
      "<meta name=\"robots\" content=\"noindex, follow\" >\t\t<script  async=\"async\" src=\"https://static.criteo.net/js/ld/publishertag.js\"></script>\n",
      "        <script  async=\"async\" src=\"https://ap.lijit.com/www/sovrn_beacon_standalone/sovrn_standalone_beacon.js?iid=13417409&amp;uid=sprzedajemy\" id=\"sBeacon\"></script>\n",
      "\t\t<script  async=\"async\" src=\"https://securepuba\n",
      "Titles: ['Mieszkanie 3-pokojowe Zakrzówek Ruczaj wynajem na 9 miesięcy', 'Mieszkanie z widokiem na góry', 'Podedworze 13', 'Kraków, Stare Miasto sprzedaż/zamiana', '3-pokojowe mieszkanie 70m2 z klimatyzacją, 2 balkony - Wiślane Tarasy', 'Sprzedam dwupokojowe mieszkanie os. Dywizjonu 303, 19C Kraków', 'Mieszkanie Wzgórza Krzesławickie bez prowizji.', 'Cudowne z ogródkiem - mieszkanie 3-pokojowe na Grzegórzkach w Krakowie', 'Piękny 4 pokojowy apartament na BRONOWICACH', 'Oferta wynajmu mieszkania Kraków 43m 2-pok', 'Mieszkanie 71.8m 4-pokojowe Kraków', 'Syndyk ogłasza konkurs na sprzedaż 1/2 nieruchomości.', 'Piękne 2 pokojowe mieszkanie w Centrum', '3 pokojowe mieszkanie w NOWYM bloku', 'Sprzedam mieszkanie Kraków Dobrego Pasterza 66.35m2', 'Oferta sprzedaży mieszkania 80.33m2 4-pokojowe Kraków', '4 pokoje,balkon,klimatyzacja ul.Rostworowskiego 16', 'Nowe 2 pokoje z ogródkiem | Zakątek Dąbie | miejsce parkingowe w prezencie', '2 lub 3 pokoje,62m2,balkon,widok na Wawel', 'Zamienię mieszkanie komunalne', 'Apartamentowiec 73m na Woli Justowskiej', 'Pokój dla studentów', 'Mieszkanie 55.75m2 Kraków 29 listopada - okolice', 'Mieszkanie do sprzedania Kraków 50.12m2 2 pokoje', 'Mieszkanie 45.69 metrów 2 pokojowe Kraków', 'Nowoczesne 3 pokoje, Banacha, Prądnik Biały', 'Mieszkanie Kraków 70.5m2 3 pokoje', 'Oferta sprzedaży mieszkania Kraków 48m2 2-pok', 'Kawalerka na osiedlu Spółdzielczym na sprzedaż!', 'WYNAJMĘ od zaraz mieszkanie 3 pokojowe-Krowodrza - Prądnik Biały-49 m2', 'Oferta wynajmu mieszkania Kraków pl. Wolnica 12m2 5 pokoi', 'Mieszkanie sprzedam 54.5m2 2 pokoje Kraków Szlak', 'Sprzedam mieszkanie Kraków 52m2 2-pokojowe', 'Mieszkanie 80m 4 pokoje Kraków', 'Mieszkanie Kraków 51.96m2 2-pok', 'Mieszkanie 46.23m2 2 pokoje Kraków Jana Kantego Federowicza', 'Sprzedam mieszkanie Kraków Bociana 44.13m2 2 pokoje', 'Mieszkanie 46m2 3-pok Kraków Rusznikarska', 'Mieszkanie Kraków dr. Jana Piltza 47.9m2 2-pok', 'Kraków- 4 pokoje taras, miejsce postojow', 'Mieszkanie 35m2 1 pokojowe Kraków Na Barciach', 'Mieszkanie z ogródkiem 50 m² – Banacha Kraków', 'Krowodrza Górka - 2 pokoje z wyjsciem do ogródka', 'Żabiniec - 2 pokoje, 2 balkony, garaż', 'Mieszkanie 59.17m2 3-pokojowe Kraków Bieżanów', 'Oferta sprzedaży mieszkania 50.02m2 3 pokojowe Kraków Odrzańska', 'wynajem mieszkania', 'Mieszkanie 64m2 3-pokojowe Kraków Wandy', 'Mieszkanie wynajmę 72.26m2 3 pokoje Kraków Modrzejewskiej', 'Mieszkanie 53.44m2 2 pokoje Kraków Młyńska', 'Ogłoszenie mieszkanie Kraków 28m2 1 pokojowe', '4-pok. Apartament, ul. Śliczna, Kraków, ustawny, jasny.', 'Sprzedam mieszkanie Kraków 89.57m2 5-pokojowe', 'Mieszkanie 48m2 2 pokoje Kraków Kołowa', 'Mieszkanie Kraków Niebyła 51.03m2 3 pokoje', 'Mieszkanie na sprzedaż 33.3m2 2 pokoje Kraków Serbska', 'Ogłoszenie mieszkanie Kraków Hoffmanowej 72.78m2 3 pokojowe', 'Oferta sprzedaży mieszkania 46.71m2 2-pokojowe Kraków Bohaterów Września', 'Mieszkanie Kraków Westerplatte 41m2 1 pokój', 'Oferta sprzedaży mieszkania Kraków 42.14m 2 pokoje']\n",
      "60\n",
      "Prices: ['2 900 zł', '265 000 zł', '542 000 zł', '2 015 000 zł', '5 900 zł', '620 000 zł', '670 000 zł', '4 600 zł', '2 199 000 zł', '2 500 zł', '880 000 zł', '175 125 zł', '759 900 zł', '1 099 000 zł', '1 250 000 zł', '945 000 zł', '2 999 zł', '899 900 zł', '1 490 000 zł', '11 111 zł', '1 750 000 zł', '850 zł', '756 514 zł', '744 840 zł', '639 000 zł', '1 299 000 zł', '1 099 000 zł', '598 000 zł', '440 000 zł', '3 300 zł', '1 550 zł', '950 000 zł', '699 000 zł', '1 120 000 zł', '811 000 zł', '779 000 zł', '650 000 zł', '699 000 zł', '718 000 zł', '1 040 000 zł', '2 300 zł', '1 115 000 zł', '625 000 zł', '2 400 zł', '780 000 zł', '759 000 zł', '4 300 zł', '865 000 zł', '3 800 zł', '620 000 zł', '1 750 zł', '5 600 zł', '2 248 207 zł', '3 000 zł', '730 000 zł', '575 000 zł', '1 428 000 zł', '699 000 zł', '2 800 zł', '611 030 zł']\n",
      "60\n"
     ]
    }
   ],
   "source": [
    "import requests\n",
    "from bs4 import BeautifulSoup\n",
    "import pandas as pd\n",
    "import os\n",
    "\n",
    "url = \"https://sprzedajemy.pl/krakow/nieruchomosci/mieszkania?offset=0&items_per_page=60\"\n",
    "\n",
    "headers = {\n",
    "    \"User-Agent\": \"Mozilla/5.0 (Windows NT 10.0; Win64; x64) AppleWebKit/537.36 (KHTML, like Gecko) Chrome/58.0.3029.110 Safari/537.36\",\n",
    "    \"Accept\": \"text/html,application/xhtml+xml,application/xml;q=0.9,image/webp,image/apng,*/*;q=0.8\",\n",
    "    \"Accept-Encoding\": \"gzip, deflate, br\",\n",
    "    \"Accept-Language\": \"en-US,en;q=0.9,pl;q=0.8\",\n",
    "    \"Connection\": \"keep-alive\"\n",
    "}\n",
    "\n",
    "response = requests.get(url, headers=headers)\n",
    "response = requests.get(url, headers=headers)\n",
    "\n",
    "# Debugowanie odpowiedzi\n",
    "print(f\"Status Code: {response.status_code}\")\n",
    "print(f\"Response Headers: {response.headers}\")\n",
    "print(f\"Response Text (first 2000 chars): {response.text[:2000]}\")\n",
    "\n",
    "# Jeśli odpowiedź jest poprawna, wykonaj webscraping\n",
    "if response.status_code == 200:\n",
    "    soup = BeautifulSoup(response.content, \"html.parser\")\n",
    "\n",
    "    # Pobieranie ofert mieszkań\n",
    "    titles = [h2.a.text.strip() for h2 in soup.find_all(\"h2\", class_=\"title\") if h2.a]\n",
    "    prices = [p.text.replace(\"\\xa0\", \" \").strip() for p in soup.find_all(\"span\", class_=\"price\")]\n",
    "\n",
    "    print(\"Titles:\", titles)\n",
    "    print(len(titles))\n",
    "    print(\"Prices:\", prices)\n",
    "    print(len(prices))\n",
    "\n",
    "    df = pd.DataFrame({\"Title\": titles, \"Price\": prices})\n",
    "\n",
    "    # Dopisanie do pliku CSV\n",
    "    df.to_csv(\"scraped_data.csv\", mode='a', header=not os.path.exists('scraped_data.csv'), index=False)\n",
    "else:\n",
    "    print(\"Failed to retrieve data.\")\n"
   ]
  }
 ],
 "metadata": {
  "colab": {
   "provenance": []
  },
  "kernelspec": {
   "display_name": "Python 3",
   "name": "python3"
  },
  "language_info": {
   "codemirror_mode": {
    "name": "ipython",
    "version": 3
   },
   "file_extension": ".py",
   "mimetype": "text/x-python",
   "name": "python",
   "nbconvert_exporter": "python",
   "pygments_lexer": "ipython3",
   "version": "3.9.23"
  },
  "papermill": {
   "default_parameters": {},
   "duration": 3.423574,
   "end_time": "2025-10-09T11:50:23.838902",
   "environment_variables": {},
   "exception": null,
   "input_path": "nb.ipynb",
   "output_path": "nbo.ipynb",
   "parameters": {},
   "start_time": "2025-10-09T11:50:20.415328",
   "version": "2.6.0"
  }
 },
 "nbformat": 4,
 "nbformat_minor": 5
}