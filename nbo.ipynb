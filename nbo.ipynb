{
 "cells": [
  {
   "cell_type": "code",
   "execution_count": 1,
   "id": "ee3a6ec9",
   "metadata": {
    "colab": {
     "base_uri": "https://localhost:8080/"
    },
    "execution": {
     "iopub.execute_input": "2025-07-11T13:46:35.229680Z",
     "iopub.status.busy": "2025-07-11T13:46:35.229011Z",
     "iopub.status.idle": "2025-07-11T13:46:37.332072Z",
     "shell.execute_reply": "2025-07-11T13:46:37.331402Z"
    },
    "id": "5pYh4c8j1w43",
    "outputId": "8a0dca73-64e5-4f0d-c493-2c5b38392363",
    "papermill": {
     "duration": 2.106706,
     "end_time": "2025-07-11T13:46:37.333171",
     "exception": false,
     "start_time": "2025-07-11T13:46:35.226465",
     "status": "completed"
    },
    "tags": []
   },
   "outputs": [
    {
     "name": "stdout",
     "output_type": "stream",
     "text": [
      "Status Code: 200\n",
      "Response Headers: {'Server': 'nginx', 'Date': 'Fri, 11 Jul 2025 13:46:36 GMT', 'Content-Type': 'text/html; charset=UTF-8', 'Transfer-Encoding': 'chunked', 'Vary': 'Accept-Encoding, User-Agent', 'Set-Cookie': 'FRSPSID=nf8qv0vvpl6dcnj3g2rbo86mq6; path=/; domain=.sprzedajemy.pl; secure; HttpOnly, _items_per_page__offer_list=60; expires=Sun, 10-Aug-2025 13:46:36 GMT; Max-Age=2592000; path=/; domain=.sprzedajemy.pl; secure; httponly, observed_id=670605713687115bce282c6714670802275202; expires=Wed, 11-Jul-2125 14:46:36 GMT; Max-Age=3155677200; path=/; domain=.sprzedajemy.pl; secure; httponly', 'Expires': 'Thu, 19 Nov 1981 08:52:00 GMT', 'Cache-Control': 'no-store, no-cache, must-revalidate, post-check=0, pre-check=0', 'Pragma': 'no-cache', 'Content-Encoding': 'gzip'}\n",
      "Response Text (first 2000 chars): <!DOCTYPE html><html xmlns=\"http://www.w3.org/1999/xhtml\" xml:lang=\"pl\" lang=\"pl\" class=\"no-js\" >\n",
      "<head>\n",
      "\t\t\t<!-- Google Tag Manager -->\n",
      "\t\t\t<script>(function(w,d,s,l,i){w[l]=w[l]||[];w[l].push({'gtm.start':\n",
      "\t\t\t\t\t\tnew Date().getTime(),event:'gtm.js'});var f=d.getElementsByTagName(s)[0],\n",
      "\t\t\t\t\tj=d.createElement(s),dl=l!='dataLayer'?'&l='+l:'';j.async=true;j.src=\n",
      "\t\t\t\t\t'https://www.googletagmanager.com/gtm.js?id='+i+dl\n",
      "\t\t\t\t\t\t\t\t\t    ;f.parentNode.insertBefore(j,f);\n",
      "\t\t\t\t    })(window,document,'script','dataLayer','GTM-P3S238');</script>\n",
      "\t\t\t<!-- End Google Tag Manager -->\n",
      "\t<title>Mieszkania Kraków na sprzedaż, wynajem - Sprzedajemy.pl</title><meta http-equiv=\"Content-Type\" content=\"text/html; charset=UTF-8\" >\n",
      "<meta http-equiv=\"X-UA-Compatible\" content=\"IE=edge\" >\n",
      "<meta name=\"description\" content=\"Ogłoszenia o tematyce:  w kategorii Mieszkania - Kupuj i sprzedawaj rzeczy używane i nowe w kategorii Mieszkania na Sprzedajemy.pl\" >\n",
      "<meta property=\"og:title\" content=\"Mieszkania Kraków na sprzedaż, wynajem - Sprzedajemy.pl\" >\n",
      "<meta property=\"og:type\" content=\"website\" >\n",
      "<meta property=\"og:image\" content=\"https://thumbs.img-sprzedajemy.pl/facebook/sprzedajemy.pl.png\" >\n",
      "<meta property=\"og:image:width\" content=\"200\" >\n",
      "<meta property=\"og:image:height\" content=\"200\" >\n",
      "<meta property=\"og:url\" content=\"https://sprzedajemy.pl/krakow/nieruchomosci/mieszkania\" >\n",
      "<meta property=\"og:site_name\" content=\"Sprzedajemy.pl\" >\n",
      "<meta property=\"fb:app_id\" content=\"173258269367442\" >\n",
      "<meta property=\"og:description\" content=\"Ogłoszenia o tematyce:  w kategorii Mieszkania - Kupuj i sprzedawaj rzeczy używane i nowe w kategorii Mieszkania na Sprzedajemy.pl\" >\n",
      "<meta name=\"robots\" content=\"noindex, follow\" >\t\t<script  async=\"async\" src=\"https://static.criteo.net/js/ld/publishertag.js\"></script>\n",
      "        <script  async=\"async\" src=\"https://ap.lijit.com/www/sovrn_beacon_standalone/sovrn_standalone_beacon.js?iid=13417409&amp;uid=sprzedajemy\" id=\"sBeacon\"></script>\n",
      "\t\t<script  async=\"async\" src=\"https://securepuba\n",
      "Titles: ['Super lokalizacja! TRAMWAJ, kawalerka do wejścia! Prądnik Czerwony/Huta', '2-pokojowe mieszkanie na Zabłociu – ciche, świetna lokalizacja!', 'Mieszkanie na sprzedaż/zamiana 39m2', 'Wyjątkowe mieszkanie z widokiem na klasztor w Tyńcu i panoramę Tatr', 'Stylowy apartament z widokiem na panoramę Krakowa - od właściciela', 'Nowoczesny apartament z panoramicznym widokiem - od właściciela', 'Kraków, Stare Miasto sprzedaż/zamiana', 'Ogłoszenie mieszkanie Kraków Hoffmanowej 34.41m2 1 pokój', 'Sprzedam mieszkanie 35.26m2 2-pok Kraków 29 listopada - okolice', 'Oferta sprzedaży mieszkania Kraków Wadowicka 43.35m2 2-pok', 'Mieszkanie Kraków Dąbrowskiego 58.2m2 3 pokoje', 'Oferta sprzedaży mieszkania Kraków 71.79m2 4-pokojowe', 'Oferta sprzedaży mieszkania 65.16m2 4 pokoje Kraków Kantrowicka', 'Mieszkanie 65.46m2 3-pok Kraków Wadowicka', 'Do sprzedaży mieszkanie Kraków Olszanicka 151.83m2 7-pokojowe', 'Sprzedaż mieszkania 38.16m2 2-pokojowe Kraków Na Błonie', 'Mieszkanie Kraków Pękowicka 51.64m2 3-pokojowe', 'Mieszkanie do sprzedania 58.27 metrów 2 pokoje Kraków', 'Oferta sprzedaży mieszkania Kraków Pękowicka 62.77m2 4 pokojowe', 'Sprzedaż mieszkania 31m2 1-pokojowe Kraków Ruczaj', 'Ogłoszenie mieszkanie 37.85m2 2 pok Kraków Pękowicka', 'Mieszkanie 81.22m 4-pok Kraków Tomickiego', 'Mieszkanie Kraków 65.46m2 3-pokojowe', 'Mieszkanie 36.16m2 2-pokojowe Kraków', 'Ogłoszenie mieszkanie 49.63m2 3 pokojowe Kraków Piasta Kołodzieja', 'Mieszkanie 69.46m2 4 pokoje Kraków', 'Do sprzedaży mieszkanie 54.9m2 3-pokojowe Kraków Dąbrowskiego', 'Mieszkanie na sprzedaż Kraków Reduta 76.84m2 3 pok', 'Mieszkanie 66m2 3-pok Kraków Komuny Paryskiej', 'Mieszkanie 42.21m2 2-pok Kraków', 'Mieszkanie 65m2 3 pok Kraków', 'Mieszkanie 49.63m2 3 pokoje Kraków', 'Mieszkanie 51.66m2 2-pokojowe Kraków Grzegórzki', 'Oferta sprzedaży mieszkania 53.24m2 2 pokoje Kraków Pękowicka', 'Sprzedaż mieszkania 59.31m2 4 pokoje Kraków Kantrowicka', 'Sprzedam mieszkanie Kraków 62.46m2 3 pokoje', 'Sprzedaż mieszkania 42.08 metrów 2 pokoje Kraków', 'Mieszkanie Kraków 56.19m2 3-pokojowe', 'Mieszkanie 124.37m2 4 pokoje Kraków Podłużna - okolice', 'Mieszkanie 33.6m2 Kraków', 'Oferta sprzedaży mieszkania Kraków 79.3m2 3 pok', 'Mieszkanie do sprzedania 46.66 metrów 2 pokojowe Kraków Babińskiego', 'Mieszkanie Kraków Piasta Kołodzieja 71.45m2 4 pok', 'Mieszkanie 40.49m2 2-pokojowe Kraków', 'Mieszkanie sprzedam Kraków Dąbrowskiego 41.3m2 2-pokojowe', 'Mieszkanie Kraków 37.17m2 2 pokoje', 'Mieszkanie 83.66m2 5 pokoi Kraków Wadowicka', 'Mieszkanie 59.31m2 4 pokoje Kraków', 'Mieszkanie Kraków Na Błonie 52.24m2 2 pokoje', 'Oferta sprzedaży mieszkania 77.12m2 3-pokojowe Kraków Reduta', 'Mieszkanie do sprzedania 50.6m2 2 pokojowe Kraków', 'Mieszkanie Kraków Na Błonie 26.73m2 1-pokojowe', 'Mieszkanie 45.57m2 2-pokojowe Kraków', 'Sprzedaż mieszkania 66.5m 3 pokojowe Kraków Wadowicka', 'Mieszkanie sprzedam 80.38m2 Kraków', 'Wynajmę mieszkanie Kraków Bronowicka 64m2 3 pokoje', 'Oferta sprzedaży mieszkania 35.12m2 2-pokojowe Kraków', 'Mieszkanie 56.92m 3 pokoje Kraków', 'Mieszkanie 72.4m2 Kraków Babińskiego', 'Mieszkanie Kraków Pękowicka 43.45m2 2 pokoje']\n",
      "60\n",
      "Prices: ['565 000 zł', '519 000 zł', '526 000 zł', '779 000 zł', '897 000 zł', '997 000 zł', '2 200 000 zł', '898 000 zł', '645 875 zł', '806 310 zł', '1 123 888 zł', '1 152 229 zł', '814 500 zł', '1 099 728 zł', '2 383 737 zł', '770 030 zł', '852 060 zł', '664 734 zł', '1 013 735 zł', '535 000 zł', '658 590 zł', '990 000 zł', '1 184 826 zł', '612 912 zł', '709 709 zł', '861 304 zł', '1 107 714 zł', '1 335 000 zł', '1 045 000 zł', '702 796 zł', '1 099 000 zł', '714 672 zł', '1 291 500 zł', '859 826 zł', '800 685 zł', '1 093 050 zł', '1 030 960 zł', '764 184 zł', '2 176 475 zł', '495 000 zł', '1 308 450 zł', '835 214 zł', '871 690 zł', '700 477 zł', '969 189 zł', '633 748 zł', '1 321 828 zł', '859 995 zł', '895 393 zł', '1 342 000 zł', '988 785 zł', '565 045 zł', '699 000 zł', '1 004 150 zł', '1 210 000 zł', '3 990 zł', '600 552 zł', '1 043 059 zł', '1 194 600 zł', '712 580 zł']\n",
      "60\n"
     ]
    }
   ],
   "source": [
    "import requests\n",
    "from bs4 import BeautifulSoup\n",
    "import pandas as pd\n",
    "import os\n",
    "\n",
    "url = \"https://sprzedajemy.pl/krakow/nieruchomosci/mieszkania?offset=0&items_per_page=60\"\n",
    "\n",
    "headers = {\n",
    "    \"User-Agent\": \"Mozilla/5.0 (Windows NT 10.0; Win64; x64) AppleWebKit/537.36 (KHTML, like Gecko) Chrome/58.0.3029.110 Safari/537.36\",\n",
    "    \"Accept\": \"text/html,application/xhtml+xml,application/xml;q=0.9,image/webp,image/apng,*/*;q=0.8\",\n",
    "    \"Accept-Encoding\": \"gzip, deflate, br\",\n",
    "    \"Accept-Language\": \"en-US,en;q=0.9,pl;q=0.8\",\n",
    "    \"Connection\": \"keep-alive\"\n",
    "}\n",
    "\n",
    "response = requests.get(url, headers=headers)\n",
    "response = requests.get(url, headers=headers)\n",
    "\n",
    "# Debugowanie odpowiedzi\n",
    "print(f\"Status Code: {response.status_code}\")\n",
    "print(f\"Response Headers: {response.headers}\")\n",
    "print(f\"Response Text (first 2000 chars): {response.text[:2000]}\")\n",
    "\n",
    "# Jeśli odpowiedź jest poprawna, wykonaj webscraping\n",
    "if response.status_code == 200:\n",
    "    soup = BeautifulSoup(response.content, \"html.parser\")\n",
    "\n",
    "    # Pobieranie ofert mieszkań\n",
    "    titles = [h2.a.text.strip() for h2 in soup.find_all(\"h2\", class_=\"title\") if h2.a]\n",
    "    prices = [p.text.replace(\"\\xa0\", \" \").strip() for p in soup.find_all(\"span\", class_=\"price\")]\n",
    "\n",
    "    print(\"Titles:\", titles)\n",
    "    print(len(titles))\n",
    "    print(\"Prices:\", prices)\n",
    "    print(len(prices))\n",
    "\n",
    "    df = pd.DataFrame({\"Title\": titles, \"Price\": prices})\n",
    "\n",
    "    # Dopisanie do pliku CSV\n",
    "    df.to_csv(\"scraped_data.csv\", mode='a', header=not os.path.exists('scraped_data.csv'), index=False)\n",
    "else:\n",
    "    print(\"Failed to retrieve data.\")\n"
   ]
  }
 ],
 "metadata": {
  "colab": {
   "provenance": []
  },
  "kernelspec": {
   "display_name": "Python 3",
   "name": "python3"
  },
  "language_info": {
   "codemirror_mode": {
    "name": "ipython",
    "version": 3
   },
   "file_extension": ".py",
   "mimetype": "text/x-python",
   "name": "python",
   "nbconvert_exporter": "python",
   "pygments_lexer": "ipython3",
   "version": "3.9.23"
  },
  "papermill": {
   "default_parameters": {},
   "duration": 3.190887,
   "end_time": "2025-07-11T13:46:37.550059",
   "environment_variables": {},
   "exception": null,
   "input_path": "nb.ipynb",
   "output_path": "nbo.ipynb",
   "parameters": {},
   "start_time": "2025-07-11T13:46:34.359172",
   "version": "2.6.0"
  }
 },
 "nbformat": 4,
 "nbformat_minor": 5
}