{
 "cells": [
  {
   "cell_type": "code",
   "execution_count": 1,
   "id": "85206996",
   "metadata": {
    "colab": {
     "base_uri": "https://localhost:8080/"
    },
    "execution": {
     "iopub.execute_input": "2025-04-14T23:43:20.103186Z",
     "iopub.status.busy": "2025-04-14T23:43:20.102922Z",
     "iopub.status.idle": "2025-04-14T23:43:22.569920Z",
     "shell.execute_reply": "2025-04-14T23:43:22.568993Z"
    },
    "id": "5pYh4c8j1w43",
    "outputId": "8a0dca73-64e5-4f0d-c493-2c5b38392363",
    "papermill": {
     "duration": 2.470515,
     "end_time": "2025-04-14T23:43:22.571081",
     "exception": false,
     "start_time": "2025-04-14T23:43:20.100566",
     "status": "completed"
    },
    "tags": []
   },
   "outputs": [
    {
     "name": "stdout",
     "output_type": "stream",
     "text": [
      "Status Code: 200\n",
      "Response Headers: {'Server': 'nginx', 'Date': 'Mon, 14 Apr 2025 23:43:22 GMT', 'Content-Type': 'text/html; charset=UTF-8', 'Transfer-Encoding': 'chunked', 'Vary': 'Accept-Encoding, User-Agent', 'Set-Cookie': 'FRSPSID=l72q0kghj4rqs2t5niag2gnvo0; path=/; domain=.sprzedajemy.pl; secure; HttpOnly, _items_per_page__offer_list=60; expires=Wed, 14-May-2025 23:43:21 GMT; Max-Age=2592000; path=/; domain=.sprzedajemy.pl; secure; httponly, observed_id=48536015167fd9d9a28d62667818010629017751; expires=Sun, 15-Apr-2125 00:43:22 GMT; Max-Age=3155677200; path=/; domain=.sprzedajemy.pl; secure; httponly', 'Expires': 'Thu, 19 Nov 1981 08:52:00 GMT', 'Cache-Control': 'no-store, no-cache, must-revalidate, post-check=0, pre-check=0', 'Pragma': 'no-cache', 'Content-Encoding': 'gzip'}\n",
      "Response Text (first 2000 chars): <!DOCTYPE html><html xmlns=\"http://www.w3.org/1999/xhtml\" xml:lang=\"pl\" lang=\"pl\" class=\"no-js\" >\n",
      "<head>\n",
      "\t\t\t<!-- Google Tag Manager -->\n",
      "\t\t\t<script>(function(w,d,s,l,i){w[l]=w[l]||[];w[l].push({'gtm.start':\n",
      "\t\t\t\t\t\tnew Date().getTime(),event:'gtm.js'});var f=d.getElementsByTagName(s)[0],\n",
      "\t\t\t\t\tj=d.createElement(s),dl=l!='dataLayer'?'&l='+l:'';j.async=true;j.src=\n",
      "\t\t\t\t\t'https://www.googletagmanager.com/gtm.js?id='+i+dl\n",
      "\t\t\t\t\t\t\t\t\t    ;f.parentNode.insertBefore(j,f);\n",
      "\t\t\t\t    })(window,document,'script','dataLayer','GTM-P3S238');</script>\n",
      "\t\t\t<!-- End Google Tag Manager -->\n",
      "\t<title>Mieszkania Kraków na sprzedaż, wynajem - Sprzedajemy.pl</title><meta http-equiv=\"Content-Type\" content=\"text/html; charset=UTF-8\" >\n",
      "<meta http-equiv=\"X-UA-Compatible\" content=\"IE=edge\" >\n",
      "<meta name=\"description\" content=\"Ogłoszenia o tematyce:  w kategorii Mieszkania - Kupuj i sprzedawaj rzeczy używane i nowe w kategorii Mieszkania na Sprzedajemy.pl\" >\n",
      "<meta property=\"og:title\" content=\"Mieszkania Kraków na sprzedaż, wynajem - Sprzedajemy.pl\" >\n",
      "<meta property=\"og:type\" content=\"website\" >\n",
      "<meta property=\"og:image\" content=\"https://thumbs.img-sprzedajemy.pl/facebook/sprzedajemy.pl.png\" >\n",
      "<meta property=\"og:image:width\" content=\"200\" >\n",
      "<meta property=\"og:image:height\" content=\"200\" >\n",
      "<meta property=\"og:url\" content=\"https://sprzedajemy.pl/krakow/nieruchomosci/mieszkania\" >\n",
      "<meta property=\"og:site_name\" content=\"Sprzedajemy.pl\" >\n",
      "<meta property=\"fb:app_id\" content=\"173258269367442\" >\n",
      "<meta property=\"og:description\" content=\"Ogłoszenia o tematyce:  w kategorii Mieszkania - Kupuj i sprzedawaj rzeczy używane i nowe w kategorii Mieszkania na Sprzedajemy.pl\" >\n",
      "<meta name=\"robots\" content=\"noindex, follow\" >\t\t<script  async=\"async\" src=\"https://static.criteo.net/js/ld/publishertag.js\"></script>\n",
      "        <script  async=\"async\" src=\"https://ap.lijit.com/www/sovrn_beacon_standalone/sovrn_standalone_beacon.js?iid=13417409&amp;uid=sprzedajemy\" id=\"sBeacon\"></script>\n",
      "\t\t<script  async=\"async\" src=\"https://securepuba\n",
      "Titles: ['Kraków Bronowice Stawowa 168 / 60m2 3 POK/ 22,5 m2 taras/ BEZ POŚREDNIKÓW', 'Wyjątkowe 2 mieszkania w 1, gotowe do wprowadzenia, po remoncie', 'Apartament, 2 pokoje, jadalnia, garaż,Krowodrza', '2 pokoje,garaż,wysoki standard,ul.Rakowicka,ENG', 'Mieszkanie na sprzedaż/zamiana 39m2', 'Nowoczesne, wykończone, z garażem i balkonem', '2 lub 3 pokoje,62m2,balkon, Widok na Wawel', 'Mieszkanie z ogródkiem Zakrzówek bezczynszowe', 'Strych do adaptacji, Błonia, ul. Filarecka', '2 pokoje 41m2 blisko Aquaparku wkrótce tramwaj!', 'Mieszkanie przy Parku Rzecznym Tonie', 'Kraków, Stare Miasto sprzedaż/zamiana', 'Mieszkanie na sprzedaż 47.53m2 2 pokojowe Kraków', 'Mieszkanie 56.38m2 3 pok Kraków', 'Oferta wynajmu mieszkania Kraków 33m2 1 pokój', 'Mieszkanie 53.66m2 Kraków Bieżanów', 'Mieszkanie 50.74 metry 2-pok Kraków Radzikowskiego', 'Mieszkanie na Złocieniu! Super cena i GRATIS', 'Mieszkanie na wynajem', 'Mieszkanie Kraków 45.44m2 2-pok', 'Ogłoszenie mieszkanie 57.62m2 4 pokoje Kraków', 'Mieszkanie Kraków Rydlówka 42.88m2 3-pokojowe', '3 pokoje, na Kazimierzu w Super Cenie!', 'Mieszkanie 3p w kamienicy w pobliżu Salwatoru', 'Mieszkanie Os. Avia Kraków, widok na góry', 'Mieszkanie wynajmę Kraków 75m2', 'Wynajmę 1-pokojowe mieszkanie w Borku Fałęckim', '4 pokoje, Błonia, Wisła, Salwator, ul. Filarecka', '4p mieszkanie z ogródkiem w pięknej szeregówce', 'Oferta sprzedaży mieszkania Kraków 54.53m2 4 pokoje', 'Mieszkanie Kraków 60.77m2 3 pokojowe', 'Do sprzedaży mieszkanie 48m 3-pokojowe Kraków', 'Mieszkanie Kraków Bukowa 57.19m 3 pokojowe', 'WŁAŚCICIEL Na sprzedaż – trzypokojowe mieszkanie w znakomitej lokalizacji!', 'Mieszkanie Kraków Zgody 61.11m2 3-pokojowe', 'Mieszkanie 57.19m Kraków', 'Mieszkanie na sprzedaż, Kraków, Prądnik Biały, , 635000.00 PLN', 'Z ogrodem Biały Prądnik 25 m2 all.2800 zł', 'Mieszkanie 63.3 metry 3 pokoje Kraków Aleja Pokoju', 'Sprzedam dwupokojowe mieszkanie ul. Prądnicka Kraków', 'M2 dwustronne Bieńczyce dostępne do 19 kwietnia', 'Sprzedam piękne mieszkanie Kraków borek Fałecki', 'Mieszkanie do wynajęcia 46m2 2 pokoje Kraków Zwierzyniecka', 'Słoneczne mieszkanko z dużym balkonem', 'Do wejścia | wysoki standard | loggia | garaż', 'Mieszkanie 114m2 4 pokojowe Kraków Macieja Dębskiego', 'Mieszkanie do wynajęcia Kraków Stawowa 51.87m2 2 pokoje', 'Mieszkanie 50m2 3 pokoje Kraków', 'Do sprzedanie poddasze zaadoptowane na dwa mieszkania w centrum Krakowa', '2 pokojowe mieszkanie z tarasem', '2 pokoje z kuchnią po generalnym remoncie', 'Mieszkanie, Kraków os. Tysiąclecia 1 - 20 m 2', 'Sprzedam mieszkanie Kraków 123m2 3-pokojowe', '? 2-pokojowe mieszkanie z balkonem – Kraków, ul. Nad Potokiem', 'Mieszkanie Kraków 62m2 3 pokoje', '2 pokojowe mieszkanie z balkonem - bezpośrednio ,bez prowizji', 'Mieszkanie 74.57m2 4 pokoje Kraków Henryka Pachońskiego', 'Mieszkanie 74.57m2 3-pokojowe Kraków', 'Mieszkanie Kraków 74.57m 3 pokoje', 'Mieszkanie 3 pokojowe 64m2 z 2 balkonamk']\n",
      "60\n",
      "Prices: ['1 137 500 zł', '1 090 000 zł', '3 800 zł', '3 000 zł', '548 000 zł', '990 000 zł', '1 590 000 zł', '460 000 zł', '379 999 zł', '710 000 zł', '550 000 zł', '2 254 000 zł', '659 000 zł', '799 000 zł', '2 000 zł', '746 200 zł', '789 000 zł', '648 000 zł', '2 500 zł', '681 600 zł', '1 194 174 zł', '1 000 176 zł', '880 000 zł', '799 000 zł', '998 000 zł', '5 700 zł', '2 400 zł', '1 335 000 zł', '999 000 zł', '699 000 zł', '729 000 zł', '624 000 zł', '651 966 zł', '710 000 zł', '749 800 zł', '651 966 zł', '635 000 zł', '2 300 zł', '799 999 zł', '542 000 zł', '605 000 zł', '639 000 zł', '2 700 zł', '699 000 zł', '920 000 zł', '1 049 000 zł', '2 750 zł', '790 000 zł', '1 750 000 zł', '600 000 zł', '709 999 zł', '363 000 zł', '2 600 000 zł', '2 200 zł', '4 000 zł', '580 000 zł', '816 102 zł', '767 659 zł', '772 156 zł', '999 999 zł']\n",
      "60\n"
     ]
    }
   ],
   "source": [
    "import requests\n",
    "from bs4 import BeautifulSoup\n",
    "import pandas as pd\n",
    "import os\n",
    "\n",
    "url = \"https://sprzedajemy.pl/krakow/nieruchomosci/mieszkania?offset=0&items_per_page=60\"\n",
    "\n",
    "headers = {\n",
    "    \"User-Agent\": \"Mozilla/5.0 (Windows NT 10.0; Win64; x64) AppleWebKit/537.36 (KHTML, like Gecko) Chrome/58.0.3029.110 Safari/537.36\",\n",
    "    \"Accept\": \"text/html,application/xhtml+xml,application/xml;q=0.9,image/webp,image/apng,*/*;q=0.8\",\n",
    "    \"Accept-Encoding\": \"gzip, deflate, br\",\n",
    "    \"Accept-Language\": \"en-US,en;q=0.9,pl;q=0.8\",\n",
    "    \"Connection\": \"keep-alive\"\n",
    "}\n",
    "\n",
    "response = requests.get(url, headers=headers)\n",
    "response = requests.get(url, headers=headers)\n",
    "\n",
    "# Debugowanie odpowiedzi\n",
    "print(f\"Status Code: {response.status_code}\")\n",
    "print(f\"Response Headers: {response.headers}\")\n",
    "print(f\"Response Text (first 2000 chars): {response.text[:2000]}\")\n",
    "\n",
    "# Jeśli odpowiedź jest poprawna, wykonaj webscraping\n",
    "if response.status_code == 200:\n",
    "    soup = BeautifulSoup(response.content, \"html.parser\")\n",
    "\n",
    "    # Pobieranie ofert mieszkań\n",
    "    titles = [h2.a.text.strip() for h2 in soup.find_all(\"h2\", class_=\"title\") if h2.a]\n",
    "    prices = [p.text.replace(\"\\xa0\", \" \").strip() for p in soup.find_all(\"span\", class_=\"price\")]\n",
    "\n",
    "    print(\"Titles:\", titles)\n",
    "    print(len(titles))\n",
    "    print(\"Prices:\", prices)\n",
    "    print(len(prices))\n",
    "\n",
    "    df = pd.DataFrame({\"Title\": titles, \"Price\": prices})\n",
    "\n",
    "    # Dopisanie do pliku CSV\n",
    "    df.to_csv(\"scraped_data.csv\", mode='a', header=not os.path.exists('scraped_data.csv'), index=False)\n",
    "else:\n",
    "    print(\"Failed to retrieve data.\")\n"
   ]
  }
 ],
 "metadata": {
  "colab": {
   "provenance": []
  },
  "kernelspec": {
   "display_name": "Python 3",
   "name": "python3"
  },
  "language_info": {
   "codemirror_mode": {
    "name": "ipython",
    "version": 3
   },
   "file_extension": ".py",
   "mimetype": "text/x-python",
   "name": "python",
   "nbconvert_exporter": "python",
   "pygments_lexer": "ipython3",
   "version": "3.9.21"
  },
  "papermill": {
   "default_parameters": {},
   "duration": 3.564837,
   "end_time": "2025-04-14T23:43:22.788088",
   "environment_variables": {},
   "exception": null,
   "input_path": "nb.ipynb",
   "output_path": "nbo.ipynb",
   "parameters": {},
   "start_time": "2025-04-14T23:43:19.223251",
   "version": "2.6.0"
  }
 },
 "nbformat": 4,
 "nbformat_minor": 5
}