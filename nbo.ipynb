{
 "cells": [
  {
   "cell_type": "code",
   "execution_count": 1,
   "id": "2b1e6f26",
   "metadata": {
    "colab": {
     "base_uri": "https://localhost:8080/"
    },
    "execution": {
     "iopub.execute_input": "2025-10-01T16:53:20.762774Z",
     "iopub.status.busy": "2025-10-01T16:53:20.762576Z",
     "iopub.status.idle": "2025-10-01T16:53:22.616047Z",
     "shell.execute_reply": "2025-10-01T16:53:22.615334Z"
    },
    "id": "5pYh4c8j1w43",
    "outputId": "8a0dca73-64e5-4f0d-c493-2c5b38392363",
    "papermill": {
     "duration": 1.856877,
     "end_time": "2025-10-01T16:53:22.617181",
     "exception": false,
     "start_time": "2025-10-01T16:53:20.760304",
     "status": "completed"
    },
    "tags": []
   },
   "outputs": [
    {
     "name": "stdout",
     "output_type": "stream",
     "text": [
      "Status Code: 200\n",
      "Response Headers: {'Server': 'nginx', 'Date': 'Wed, 01 Oct 2025 16:53:22 GMT', 'Content-Type': 'text/html; charset=UTF-8', 'Transfer-Encoding': 'chunked', 'Vary': 'Accept-Encoding, User-Agent', 'Set-Cookie': 'FRSPSID=nlmcgilp6tfe3dlipok3ao0gm4; path=/; domain=.sprzedajemy.pl; secure; HttpOnly, _items_per_page__offer_list=60; expires=Fri, 31-Oct-2025 16:53:22 GMT; Max-Age=2592000; path=/; domain=.sprzedajemy.pl; secure; httponly, observed_id=117854857368dd5c8234a24745612875583989300; expires=Mon, 01-Oct-2125 17:53:22 GMT; Max-Age=3155677200; path=/; domain=.sprzedajemy.pl; secure; httponly', 'Expires': 'Thu, 19 Nov 1981 08:52:00 GMT', 'Cache-Control': 'no-store, no-cache, must-revalidate, post-check=0, pre-check=0', 'Pragma': 'no-cache', 'Content-Encoding': 'gzip'}\n",
      "Response Text (first 2000 chars): <!DOCTYPE html><html xmlns=\"http://www.w3.org/1999/xhtml\" xml:lang=\"pl\" lang=\"pl\" class=\"no-js\" >\n",
      "<head>\n",
      "\t\t\t<!-- Google Tag Manager -->\n",
      "\t\t\t<script>(function(w,d,s,l,i){w[l]=w[l]||[];w[l].push({'gtm.start':\n",
      "\t\t\t\t\t\tnew Date().getTime(),event:'gtm.js'});var f=d.getElementsByTagName(s)[0],\n",
      "\t\t\t\t\tj=d.createElement(s),dl=l!='dataLayer'?'&l='+l:'';j.async=true;j.src=\n",
      "\t\t\t\t\t'https://www.googletagmanager.com/gtm.js?id='+i+dl\n",
      "\t\t\t\t\t\t\t\t\t    ;f.parentNode.insertBefore(j,f);\n",
      "\t\t\t\t    })(window,document,'script','dataLayer','GTM-P3S238');</script>\n",
      "\t\t\t<!-- End Google Tag Manager -->\n",
      "\t<title>Mieszkania Kraków na sprzedaż, wynajem - Sprzedajemy.pl</title><meta http-equiv=\"Content-Type\" content=\"text/html; charset=UTF-8\" >\n",
      "<meta http-equiv=\"X-UA-Compatible\" content=\"IE=edge\" >\n",
      "<meta name=\"description\" content=\"Ogłoszenia o tematyce:  w kategorii Mieszkania - Kupuj i sprzedawaj rzeczy używane i nowe w kategorii Mieszkania na Sprzedajemy.pl\" >\n",
      "<meta property=\"og:title\" content=\"Mieszkania Kraków na sprzedaż, wynajem - Sprzedajemy.pl\" >\n",
      "<meta property=\"og:type\" content=\"website\" >\n",
      "<meta property=\"og:image\" content=\"https://thumbs.img-sprzedajemy.pl/facebook/sprzedajemy.pl.png\" >\n",
      "<meta property=\"og:image:width\" content=\"200\" >\n",
      "<meta property=\"og:image:height\" content=\"200\" >\n",
      "<meta property=\"og:url\" content=\"https://sprzedajemy.pl/krakow/nieruchomosci/mieszkania\" >\n",
      "<meta property=\"og:site_name\" content=\"Sprzedajemy.pl\" >\n",
      "<meta property=\"fb:app_id\" content=\"173258269367442\" >\n",
      "<meta property=\"og:description\" content=\"Ogłoszenia o tematyce:  w kategorii Mieszkania - Kupuj i sprzedawaj rzeczy używane i nowe w kategorii Mieszkania na Sprzedajemy.pl\" >\n",
      "<meta name=\"robots\" content=\"noindex, follow\" >\t\t<script  async=\"async\" src=\"https://static.criteo.net/js/ld/publishertag.js\"></script>\n",
      "        <script  async=\"async\" src=\"https://ap.lijit.com/www/sovrn_beacon_standalone/sovrn_standalone_beacon.js?iid=13417409&amp;uid=sprzedajemy\" id=\"sBeacon\"></script>\n",
      "\t\t<script  async=\"async\" src=\"https://securepuba\n",
      "Titles: ['Mieszkanie z widokiem na góry', 'Podedworze 13', 'Wyjątkowe mieszkanie z widokiem na klasztor w Tyńcu i panoramę Tatr', 'Nowoczesny apartament z panoramicznym widokiem - od właściciela', 'Stylowy apartament z widokiem na panoramę Krakowa - od właściciela', 'Mieszkanie 3-pokojowe Zakrzówek Ruczaj wynajem na 9 miesięcy', 'Wyjątkowy lokal przy ul. Krowoderskiej z widokiem na stronę ogrodową', 'Dwa pokoje - stare miasto - Do wejścia - Własność', 'Kraków, Stare Miasto sprzedaż/zamiana', 'Sprzedam dwupokojowe mieszkanie os. Dywizjonu 303, 19C Kraków', 'Mieszkanie Wzgórza Krzesławickie bez prowizji.', 'Ogłoszenie mieszkanie 51.67m2 2 pok Kraków', 'Mieszkanie Kraków 211.89m2 5 pokoi', 'Mieszkanie Kraków 65.62m2 3 pokojowe', 'Mieszkanie 49.52m2 2-pokojowe Kraków', 'Mieszkanie Kraków Imbramowska 65.62m2 3 pokojowe', 'Ogłoszenie mieszkanie 49.18m2 2 pokoje Kraków', 'Mieszkanie 48.39m2 2-pok Kraków Imbramowska', 'Oferta sprzedaży mieszkania Kraków Imbramowska 47.39 metrów 2 pokoje', 'Nowoczesne dwupoziomowe mieszkanie', 'Mieszkanie 66.62m2 3 pokoje Kraków', 'Oferta sprzedaży mieszkania 66.62 metry 3-pokojowe Kraków Imbramowska', 'Mieszkanie do sprzedania Kraków 47m2 2 pokojowe', 'Oferta sprzedaży mieszkania 33.1m2 2 pokoje Kraków Kombatantów', '12 600zł/m2 w nowym budownictwie - bez prowizji!', 'Mieszkanie Kraków 46.03m 3 pokoje', 'Mieszkanie Kraków Imbramowska 65.62m2 3 pokoje', 'Mieszkanie 48.39m2 2 pok Kraków Imbramowska', 'Mieszkanie Kraków os. Kazimierzowskie 24.14m2 1 pokój', 'Mieszkanie 61.15m2 3 pokoje Kraków Sebastiana Klonowica', 'Nowoczesne dwupoziomowe mieszkanie', '2- pokojowe mieszkanie | K. Kołłątajowskiej | 57m2', 'duże 2-pokojowe mieszkanie Z 2024r - 53m2 z balkonem APARTAMENT', 'Przestronne 3-pokojowe mieszkanie 59m2 z balkonem i piwnicą Bieńczyce', 'MIESZKANIE KRAKÓW UL. ŁUŻYCKA 53 PIASKI NOWE', 'Wynajmę mieszkanie 2 pokojowe+ogródek Kraków, ul. Żabiniec', 'Ruczaj - 2 pokojowe mieszkanie z ogródkiem', 'Nowa Huta - dwupokojowe z jasną kuchnią, balkon', 'Mieszkanie Kraków 54m2', 'Oferta sprzedaży mieszkania Kraków 58m2 4-pokojowe', 'Mieszkanie na sprzedaż 71.15m2 3-pok Kraków Józefa Łepkowskiego', 'Mieszkanie 40.84m2 2-pok Kraków', 'Mieszkanie 32.02m2 2-pokojowe Lusina Krakowska', 'Mieszkanie 130m2 Kraków ul. Bielańska 16/2 wynajem', '2-pokojowe 45m2 pod Lasem Borkowskim', 'Mieszkanie Kraków Karmelicka 57m2', 'Oferta wynajmu mieszkania Kraków 35m2 2-pok', 'Do sprzedaży mieszkanie 57m2 4 pok Kraków Srebrnych Orłów', 'Mieszkanie z potencjałem – 1 pokój + kuchnia, Kraków', 'Sprzedaż mieszkania Kraków Barbary 49m2 2 pokoje', 'Ogłoszenie mieszkanie 46m2 2 pokoje Kraków Bukowa', 'Mieszkanie 86m2 3 pokoje Kraków Kocmyrzowska', 'Mieszkanie 48.17m2 Kraków', 'Mieszkanie 47.83m2 2 pokoje Kraków', 'UKR/ENG Luxury Design,  2 poziomowe, ogródek, garaż, przy Galerii Bronowice', 'Mieszkanie na sprzedaż Kraków Halszki 35 metrów 1 pokój', 'Mieszkanie 103.89m2 3 pokoje Kraków Smocza', 'Oferta sprzedaży mieszkania 68.3m 3 pokojowe Kraków', 'Mieszkanie Kraków os. Piastów 51.59m2 3 pokoje', 'Do sprzedaży mieszkanie 53.77m Kraków']\n",
      "60\n",
      "Prices: ['265 000 zł', '542 000 zł', '779 000 zł', '997 000 zł', '890 000 zł', '3 100 zł', '1 340 000 zł', '715 155 zł', '2 083 000 zł', '620 000 zł', '719 000 zł', '649 000 zł', '7 416 150 zł', '885 870 zł', '639 000 zł', '898 994 zł', '938 000 zł', '706 494 zł', '710 850 zł', '4 200 zł', '879 384 zł', '899 370 zł', '705 000 zł', '525 000 zł', '630 000 zł', '3 800 zł', '885 870 zł', '706 494 zł', '315 000 zł', '988 000 zł', '4 200 zł', '645 000 zł', '1 135 000 zł', '720 000 zł', '730 000 zł', '3 300 zł', '890 000 zł', '600 000 zł', '700 000 zł', '650 000 zł', '1 131 285 zł', '599 000 zł', '570 000 zł', '3 950 zł', '4 100 zł', '4 900 zł', '2 200 zł', '684 000 zł', '431 000 zł', '560 000 zł', '570 524 zł', '998 900 zł', '750 000 zł', '810 000 zł', '7 500 zł', '460 000 zł', '6 300 zł', '899 000 zł', '840 000 zł', '824 000 zł']\n",
      "60\n"
     ]
    }
   ],
   "source": [
    "import requests\n",
    "from bs4 import BeautifulSoup\n",
    "import pandas as pd\n",
    "import os\n",
    "\n",
    "url = \"https://sprzedajemy.pl/krakow/nieruchomosci/mieszkania?offset=0&items_per_page=60\"\n",
    "\n",
    "headers = {\n",
    "    \"User-Agent\": \"Mozilla/5.0 (Windows NT 10.0; Win64; x64) AppleWebKit/537.36 (KHTML, like Gecko) Chrome/58.0.3029.110 Safari/537.36\",\n",
    "    \"Accept\": \"text/html,application/xhtml+xml,application/xml;q=0.9,image/webp,image/apng,*/*;q=0.8\",\n",
    "    \"Accept-Encoding\": \"gzip, deflate, br\",\n",
    "    \"Accept-Language\": \"en-US,en;q=0.9,pl;q=0.8\",\n",
    "    \"Connection\": \"keep-alive\"\n",
    "}\n",
    "\n",
    "response = requests.get(url, headers=headers)\n",
    "response = requests.get(url, headers=headers)\n",
    "\n",
    "# Debugowanie odpowiedzi\n",
    "print(f\"Status Code: {response.status_code}\")\n",
    "print(f\"Response Headers: {response.headers}\")\n",
    "print(f\"Response Text (first 2000 chars): {response.text[:2000]}\")\n",
    "\n",
    "# Jeśli odpowiedź jest poprawna, wykonaj webscraping\n",
    "if response.status_code == 200:\n",
    "    soup = BeautifulSoup(response.content, \"html.parser\")\n",
    "\n",
    "    # Pobieranie ofert mieszkań\n",
    "    titles = [h2.a.text.strip() for h2 in soup.find_all(\"h2\", class_=\"title\") if h2.a]\n",
    "    prices = [p.text.replace(\"\\xa0\", \" \").strip() for p in soup.find_all(\"span\", class_=\"price\")]\n",
    "\n",
    "    print(\"Titles:\", titles)\n",
    "    print(len(titles))\n",
    "    print(\"Prices:\", prices)\n",
    "    print(len(prices))\n",
    "\n",
    "    df = pd.DataFrame({\"Title\": titles, \"Price\": prices})\n",
    "\n",
    "    # Dopisanie do pliku CSV\n",
    "    df.to_csv(\"scraped_data.csv\", mode='a', header=not os.path.exists('scraped_data.csv'), index=False)\n",
    "else:\n",
    "    print(\"Failed to retrieve data.\")\n"
   ]
  }
 ],
 "metadata": {
  "colab": {
   "provenance": []
  },
  "kernelspec": {
   "display_name": "Python 3",
   "name": "python3"
  },
  "language_info": {
   "codemirror_mode": {
    "name": "ipython",
    "version": 3
   },
   "file_extension": ".py",
   "mimetype": "text/x-python",
   "name": "python",
   "nbconvert_exporter": "python",
   "pygments_lexer": "ipython3",
   "version": "3.9.23"
  },
  "papermill": {
   "default_parameters": {},
   "duration": 2.966581,
   "end_time": "2025-10-01T16:53:22.833793",
   "environment_variables": {},
   "exception": null,
   "input_path": "nb.ipynb",
   "output_path": "nbo.ipynb",
   "parameters": {},
   "start_time": "2025-10-01T16:53:19.867212",
   "version": "2.6.0"
  }
 },
 "nbformat": 4,
 "nbformat_minor": 5
}