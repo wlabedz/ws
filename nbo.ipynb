{
 "cells": [
  {
   "cell_type": "code",
   "execution_count": 1,
   "id": "0a9b1839",
   "metadata": {
    "colab": {
     "base_uri": "https://localhost:8080/"
    },
    "execution": {
     "iopub.execute_input": "2025-08-08T17:50:56.815887Z",
     "iopub.status.busy": "2025-08-08T17:50:56.815666Z",
     "iopub.status.idle": "2025-08-08T17:50:58.759268Z",
     "shell.execute_reply": "2025-08-08T17:50:58.758570Z"
    },
    "id": "5pYh4c8j1w43",
    "outputId": "8a0dca73-64e5-4f0d-c493-2c5b38392363",
    "papermill": {
     "duration": 1.946962,
     "end_time": "2025-08-08T17:50:58.760413",
     "exception": false,
     "start_time": "2025-08-08T17:50:56.813451",
     "status": "completed"
    },
    "tags": []
   },
   "outputs": [
    {
     "name": "stdout",
     "output_type": "stream",
     "text": [
      "Status Code: 200\n",
      "Response Headers: {'Server': 'nginx', 'Date': 'Fri, 08 Aug 2025 17:50:58 GMT', 'Content-Type': 'text/html; charset=UTF-8', 'Transfer-Encoding': 'chunked', 'Vary': 'Accept-Encoding, User-Agent', 'Set-Cookie': 'FRSPSID=b6v4790smugfm0hh316ckv0ju3; path=/; domain=.sprzedajemy.pl; secure; HttpOnly, _items_per_page__offer_list=60; expires=Sun, 07-Sep-2025 17:50:58 GMT; Max-Age=2592000; path=/; domain=.sprzedajemy.pl; secure; httponly, observed_id=1720571107689639025414a9119533121375728379; expires=Wed, 08-Aug-2125 18:50:58 GMT; Max-Age=3155677200; path=/; domain=.sprzedajemy.pl; secure; httponly', 'Expires': 'Thu, 19 Nov 1981 08:52:00 GMT', 'Cache-Control': 'no-store, no-cache, must-revalidate, post-check=0, pre-check=0', 'Pragma': 'no-cache', 'Content-Encoding': 'gzip'}\n",
      "Response Text (first 2000 chars): <!DOCTYPE html><html xmlns=\"http://www.w3.org/1999/xhtml\" xml:lang=\"pl\" lang=\"pl\" class=\"no-js\" >\n",
      "<head>\n",
      "\t\t\t<!-- Google Tag Manager -->\n",
      "\t\t\t<script>(function(w,d,s,l,i){w[l]=w[l]||[];w[l].push({'gtm.start':\n",
      "\t\t\t\t\t\tnew Date().getTime(),event:'gtm.js'});var f=d.getElementsByTagName(s)[0],\n",
      "\t\t\t\t\tj=d.createElement(s),dl=l!='dataLayer'?'&l='+l:'';j.async=true;j.src=\n",
      "\t\t\t\t\t'https://www.googletagmanager.com/gtm.js?id='+i+dl\n",
      "\t\t\t\t\t\t\t\t\t    ;f.parentNode.insertBefore(j,f);\n",
      "\t\t\t\t    })(window,document,'script','dataLayer','GTM-P3S238');</script>\n",
      "\t\t\t<!-- End Google Tag Manager -->\n",
      "\t<title>Mieszkania Kraków na sprzedaż, wynajem - Sprzedajemy.pl</title><meta http-equiv=\"Content-Type\" content=\"text/html; charset=UTF-8\" >\n",
      "<meta http-equiv=\"X-UA-Compatible\" content=\"IE=edge\" >\n",
      "<meta name=\"description\" content=\"Ogłoszenia o tematyce:  w kategorii Mieszkania - Kupuj i sprzedawaj rzeczy używane i nowe w kategorii Mieszkania na Sprzedajemy.pl\" >\n",
      "<meta property=\"og:title\" content=\"Mieszkania Kraków na sprzedaż, wynajem - Sprzedajemy.pl\" >\n",
      "<meta property=\"og:type\" content=\"website\" >\n",
      "<meta property=\"og:image\" content=\"https://thumbs.img-sprzedajemy.pl/facebook/sprzedajemy.pl.png\" >\n",
      "<meta property=\"og:image:width\" content=\"200\" >\n",
      "<meta property=\"og:image:height\" content=\"200\" >\n",
      "<meta property=\"og:url\" content=\"https://sprzedajemy.pl/krakow/nieruchomosci/mieszkania\" >\n",
      "<meta property=\"og:site_name\" content=\"Sprzedajemy.pl\" >\n",
      "<meta property=\"fb:app_id\" content=\"173258269367442\" >\n",
      "<meta property=\"og:description\" content=\"Ogłoszenia o tematyce:  w kategorii Mieszkania - Kupuj i sprzedawaj rzeczy używane i nowe w kategorii Mieszkania na Sprzedajemy.pl\" >\n",
      "<meta name=\"robots\" content=\"noindex, follow\" >\t\t<script  async=\"async\" src=\"https://static.criteo.net/js/ld/publishertag.js\"></script>\n",
      "        <script  async=\"async\" src=\"https://ap.lijit.com/www/sovrn_beacon_standalone/sovrn_standalone_beacon.js?iid=13417409&amp;uid=sprzedajemy\" id=\"sBeacon\"></script>\n",
      "\t\t<script  async=\"async\" src=\"https://securepuba\n",
      "Titles: ['Dom - Kraków Tonie - Zielona okolica - 123 m2 | 5 - pok. | Ogród | Taras |…', 'Mieszkanie 3-pokojowe. Duży balkon. Dobra komunikacja, Od właściciela', '3 niezależne lokale z KW– inwestycja z potencjałem', 'Mieszkanie na sprzedaż/zamiana 39m2', 'Mieszkanie Wola Justowska /Bielany 36m2', '4pokoje 68m2 balkon KLIMA Śródmieście BEZ PROWIZJI od właściciela', 'Oferta sprzedaży mieszkania 38.69m2 2-pokojowe Kraków Imbramowska', 'Mieszkanie Kraków Jasnogórska 62.19m2 3-pokojowe', 'Do wynajęcia mieszkanie 53m2 2 pokoje Kraków Chmieleniec', 'Mieszkanie na sprzedaż 63.64m2 4 pokoje Kraków Krowoderskich Zuchów', 'Mieszkanie 105m2 4 pokoje Kraków', 'Mieszkanie Kraków 36.07m2 2 pokoje', 'Do wynajęcia mieszkanie Kraków Romanowicza 35.84m2 2 pokojowe', '55m², 3-pokojowe, w bloku na Starym Mieście, Kraków, ul. Wielopole', 'Mieszkanie Kraków Romanowicza 35.94m2', 'Mieszkanie 62.7m2 3 pokojowe Kraków Dywizjonu 303', 'Mieszkanie 50.23m2 3 pokoje Kraków', 'Mieszkanie na sprzedaż 96.96m2 3-pok Kraków Na Błonie', 'Mieszkanie sprzedam 57.14m2 3 pok Kraków Chełmońskiego', 'Mieszkanie 72.4m2 Kraków Babińskiego', 'Mieszkanie Kraków Pękowicka 43.45m2 2 pokoje', 'Mieszkanie Kraków Kantrowicka 35.05m2', 'Mieszkanie do sprzedania 35.05m2 Kraków 29 listopada - okolice', 'Mieszkanie Kraków Kantrowicka 51.41m 3-pokojowe', 'Mieszkanie Kraków Pękowicka 35.37m2 2 pokoje', 'Mieszkanie 72.4m2 3-pok Kraków Babińskiego', 'Mieszkanie Kraków Na Błonie 40.71 metrów 2 pokojowe', 'Mieszkanie Kraków 35.97m2', 'Mieszkanie do sprzedania Kraków 39.43m2 2 pokoje', 'Mieszkanie 45.57m2 2-pokojowe Kraków', 'Mieszkanie 36.09m2 2 pokoje Kraków', 'Mieszkanie 75.19m2 4 pokojowe Kraków Wadowicka', 'Mieszkanie Kraków Pękowicka 36.17m2 2-pok', 'Mieszkanie na sprzedaż 67.37 metrów 3-pokojowe Kraków Borowego', 'Mieszkanie do sprzedania Kraków 34.79m2 2-pok', 'Mieszkanie Kraków Na Błonie 41.12m2 1 pokój', 'Mieszkanie 26.07m2 Kraków Skałeczna', 'Sprzedaż mieszkania 60.03m2 3-pokojowe Kraków', 'Mieszkanie do sprzedania 46.66 metrów 2 pokojowe Kraków Babińskiego', 'Mieszkanie 62.88m2 3 pokojowe Kraków', 'Mieszkanie do sprzedania 42.61m2 2 pokoje Kraków Wadowicka', 'Mieszkanie sprzedam Kraków Dąbrowskiego 41.3m2 2-pokojowe', 'Mieszkanie 69.31m2 3-pokojowe Kraków Wadowicka', 'Mieszkanie sprzedam 38.51m2 2 pok Kraków Na Błonie', 'Mieszkanie 81.22m 4-pok Kraków Tomickiego', 'Ogłoszenie mieszkanie 39.67 metrów 2 pokoje Kraków Pękowicka', 'Mieszkanie 48.59 metrów 3 pokojowe Kraków Piasta Kołodzieja', 'Ogłoszenie mieszkanie Kraków 43.42m2', 'Mieszkanie 66m2 3-pok Kraków Komuny Paryskiej', 'Oferta sprzedaży mieszkania Kraków Wadowicka 43.35m2 2-pok', 'Mieszkanie Kraków 56.19m2 3-pokojowe', 'Oferta sprzedaży mieszkania Kraków Pękowicka 38.79m2 2-pokojowe', 'Oferta sprzedaży mieszkania 43.35m2 2 pokojowe Kraków', 'Oferta sprzedaży mieszkania Kraków Kantrowicka 36.09m2 2 pokojowe', 'Oferta sprzedaży mieszkania Kraków 58.95m2 3 pokojowe', 'Mieszkanie Kraków 37.47 metrów 2 pokojowe', 'Mieszkanie 49.63m2 3 pokoje Kraków', 'Mieszkanie 70.96m2 3 pokoje Kraków Walerego Sławka', 'Mieszkanie Kraków Pękowicka 40.06m2 2-pok', 'Mieszkanie Kraków Piasta Kołodzieja 50.23m2 3 pokoje']\n",
      "60\n",
      "Prices: ['2 275 000 zł', '3 500 zł', '279 000 zł', '526 000 zł', '487 000 zł', '1 850 000 zł', '707 078 zł', '858 222 zł', '2 800 zł', '819 000 zł', '1 700 000 zł', '2 800 zł', '3 020 zł', '4 900 zł', '3 030 zł', '3 000 zł', '708 243 zł', '1 639 981 zł', '912 000 zł', '1 194 600 zł', '712 580 zł', '499 462 zł', '653 292 zł', '634 913 zł', '601 290 zł', '1 245 280 zł', '774 914 zł', '642 859 zł', '670 310 zł', '699 000 zł', '497 139 zł', '1 270 711 zł', '613 081 zł', '1 379 000 zł', '479 232 zł', '768 203 zł', '614 000 zł', '750 000 zł', '835 214 zł', '987 216 zł', '798 937 zł', '969 189 zł', '1 164 408 zł', '768 158 zł', '990 000 zł', '672 406 zł', '699 696 zł', '700 000 zł', '1 045 000 zł', '806 310 zł', '764 184 zł', '657 490 zł', '788 970 zł', '479 997 zł', '1 055 912 zł', '777 315 zł', '714 672 zł', '1 419 000 zł', '681 020 zł', '728 335 zł']\n",
      "60\n"
     ]
    }
   ],
   "source": [
    "import requests\n",
    "from bs4 import BeautifulSoup\n",
    "import pandas as pd\n",
    "import os\n",
    "\n",
    "url = \"https://sprzedajemy.pl/krakow/nieruchomosci/mieszkania?offset=0&items_per_page=60\"\n",
    "\n",
    "headers = {\n",
    "    \"User-Agent\": \"Mozilla/5.0 (Windows NT 10.0; Win64; x64) AppleWebKit/537.36 (KHTML, like Gecko) Chrome/58.0.3029.110 Safari/537.36\",\n",
    "    \"Accept\": \"text/html,application/xhtml+xml,application/xml;q=0.9,image/webp,image/apng,*/*;q=0.8\",\n",
    "    \"Accept-Encoding\": \"gzip, deflate, br\",\n",
    "    \"Accept-Language\": \"en-US,en;q=0.9,pl;q=0.8\",\n",
    "    \"Connection\": \"keep-alive\"\n",
    "}\n",
    "\n",
    "response = requests.get(url, headers=headers)\n",
    "response = requests.get(url, headers=headers)\n",
    "\n",
    "# Debugowanie odpowiedzi\n",
    "print(f\"Status Code: {response.status_code}\")\n",
    "print(f\"Response Headers: {response.headers}\")\n",
    "print(f\"Response Text (first 2000 chars): {response.text[:2000]}\")\n",
    "\n",
    "# Jeśli odpowiedź jest poprawna, wykonaj webscraping\n",
    "if response.status_code == 200:\n",
    "    soup = BeautifulSoup(response.content, \"html.parser\")\n",
    "\n",
    "    # Pobieranie ofert mieszkań\n",
    "    titles = [h2.a.text.strip() for h2 in soup.find_all(\"h2\", class_=\"title\") if h2.a]\n",
    "    prices = [p.text.replace(\"\\xa0\", \" \").strip() for p in soup.find_all(\"span\", class_=\"price\")]\n",
    "\n",
    "    print(\"Titles:\", titles)\n",
    "    print(len(titles))\n",
    "    print(\"Prices:\", prices)\n",
    "    print(len(prices))\n",
    "\n",
    "    df = pd.DataFrame({\"Title\": titles, \"Price\": prices})\n",
    "\n",
    "    # Dopisanie do pliku CSV\n",
    "    df.to_csv(\"scraped_data.csv\", mode='a', header=not os.path.exists('scraped_data.csv'), index=False)\n",
    "else:\n",
    "    print(\"Failed to retrieve data.\")\n"
   ]
  }
 ],
 "metadata": {
  "colab": {
   "provenance": []
  },
  "kernelspec": {
   "display_name": "Python 3",
   "name": "python3"
  },
  "language_info": {
   "codemirror_mode": {
    "name": "ipython",
    "version": 3
   },
   "file_extension": ".py",
   "mimetype": "text/x-python",
   "name": "python",
   "nbconvert_exporter": "python",
   "pygments_lexer": "ipython3",
   "version": "3.9.23"
  },
  "papermill": {
   "default_parameters": {},
   "duration": 3.03166,
   "end_time": "2025-08-08T17:50:58.977281",
   "environment_variables": {},
   "exception": null,
   "input_path": "nb.ipynb",
   "output_path": "nbo.ipynb",
   "parameters": {},
   "start_time": "2025-08-08T17:50:55.945621",
   "version": "2.6.0"
  }
 },
 "nbformat": 4,
 "nbformat_minor": 5
}