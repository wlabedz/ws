{
 "cells": [
  {
   "cell_type": "code",
   "execution_count": 1,
   "id": "fb442712",
   "metadata": {
    "colab": {
     "base_uri": "https://localhost:8080/"
    },
    "execution": {
     "iopub.execute_input": "2025-04-11T18:44:06.852914Z",
     "iopub.status.busy": "2025-04-11T18:44:06.852620Z",
     "iopub.status.idle": "2025-04-11T18:44:08.813139Z",
     "shell.execute_reply": "2025-04-11T18:44:08.812396Z"
    },
    "id": "5pYh4c8j1w43",
    "outputId": "8a0dca73-64e5-4f0d-c493-2c5b38392363",
    "papermill": {
     "duration": 1.964261,
     "end_time": "2025-04-11T18:44:08.814342",
     "exception": false,
     "start_time": "2025-04-11T18:44:06.850081",
     "status": "completed"
    },
    "tags": []
   },
   "outputs": [
    {
     "name": "stdout",
     "output_type": "stream",
     "text": [
      "Status Code: 200\n",
      "Response Headers: {'Server': 'nginx', 'Date': 'Fri, 11 Apr 2025 18:44:08 GMT', 'Content-Type': 'text/html; charset=UTF-8', 'Transfer-Encoding': 'chunked', 'Vary': 'Accept-Encoding, User-Agent', 'Set-Cookie': 'FRSPSID=t6glq2t9hfqna91l7j1f09pu21; path=/; domain=.sprzedajemy.pl; secure; HttpOnly, _items_per_page__offer_list=60; expires=Sun, 11-May-2025 18:44:08 GMT; Max-Age=2592000; path=/; domain=.sprzedajemy.pl; secure; httponly, observed_id=99656339567f962f8685e6668653270480748413; expires=Wed, 11-Apr-2125 19:44:08 GMT; Max-Age=3155677200; path=/; domain=.sprzedajemy.pl; secure; httponly', 'Expires': 'Thu, 19 Nov 1981 08:52:00 GMT', 'Cache-Control': 'no-store, no-cache, must-revalidate, post-check=0, pre-check=0', 'Pragma': 'no-cache', 'Content-Encoding': 'gzip'}\n",
      "Response Text (first 2000 chars): <!DOCTYPE html><html xmlns=\"http://www.w3.org/1999/xhtml\" xml:lang=\"pl\" lang=\"pl\" class=\"no-js\" >\n",
      "<head>\n",
      "\t\t\t<!-- Google Tag Manager -->\n",
      "\t\t\t<script>(function(w,d,s,l,i){w[l]=w[l]||[];w[l].push({'gtm.start':\n",
      "\t\t\t\t\t\tnew Date().getTime(),event:'gtm.js'});var f=d.getElementsByTagName(s)[0],\n",
      "\t\t\t\t\tj=d.createElement(s),dl=l!='dataLayer'?'&l='+l:'';j.async=true;j.src=\n",
      "\t\t\t\t\t'https://www.googletagmanager.com/gtm.js?id='+i+dl\n",
      "\t\t\t\t\t\t\t\t\t    ;f.parentNode.insertBefore(j,f);\n",
      "\t\t\t\t    })(window,document,'script','dataLayer','GTM-P3S238');</script>\n",
      "\t\t\t<!-- End Google Tag Manager -->\n",
      "\t<title>Mieszkania Kraków na sprzedaż, wynajem - Sprzedajemy.pl</title><meta http-equiv=\"Content-Type\" content=\"text/html; charset=UTF-8\" >\n",
      "<meta http-equiv=\"X-UA-Compatible\" content=\"IE=edge\" >\n",
      "<meta name=\"description\" content=\"Ogłoszenia o tematyce:  w kategorii Mieszkania - Kupuj i sprzedawaj rzeczy używane i nowe w kategorii Mieszkania na Sprzedajemy.pl\" >\n",
      "<meta property=\"og:title\" content=\"Mieszkania Kraków na sprzedaż, wynajem - Sprzedajemy.pl\" >\n",
      "<meta property=\"og:type\" content=\"website\" >\n",
      "<meta property=\"og:image\" content=\"https://thumbs.img-sprzedajemy.pl/facebook/sprzedajemy.pl.png\" >\n",
      "<meta property=\"og:image:width\" content=\"200\" >\n",
      "<meta property=\"og:image:height\" content=\"200\" >\n",
      "<meta property=\"og:url\" content=\"https://sprzedajemy.pl/krakow/nieruchomosci/mieszkania\" >\n",
      "<meta property=\"og:site_name\" content=\"Sprzedajemy.pl\" >\n",
      "<meta property=\"fb:app_id\" content=\"173258269367442\" >\n",
      "<meta property=\"og:description\" content=\"Ogłoszenia o tematyce:  w kategorii Mieszkania - Kupuj i sprzedawaj rzeczy używane i nowe w kategorii Mieszkania na Sprzedajemy.pl\" >\n",
      "<meta name=\"robots\" content=\"noindex, follow\" >\t\t<script  async=\"async\" src=\"https://static.criteo.net/js/ld/publishertag.js\"></script>\n",
      "        <script  async=\"async\" src=\"https://ap.lijit.com/www/sovrn_beacon_standalone/sovrn_standalone_beacon.js?iid=13417409&amp;uid=sprzedajemy\" id=\"sBeacon\"></script>\n",
      "\t\t<script  async=\"async\" src=\"https://securepuba\n",
      "Titles: ['Kraków Bronowice Stawowa 168 / 60m2 3 POK/ 22,5 m2 taras/ BEZ POŚREDNIKÓW', 'Wyjątkowe 2 mieszkania w 1, gotowe do wprowadzenia, po remoncie', 'Mieszkanie z ogródkiem Zakrzówek', 'Strych do adaptacji, Błonia, ul. Filarecka', '2 lub 3 pokoje,62m2,balkon, Widok na Wawel', '2 pokoje 41m2 blisko Aquaparku wkrótce tramwaj!', 'Mieszkanie przy Parku Rzecznym Tonie', 'Kraków, Stare Miasto sprzedaż/zamiana', 'Apartament, 2 pokoje, jadalnia, garaż,Krowodrza', '2 pokoje,garaż,wysoki standard,ul.Rakowicka,ENG', 'Nowoczesne, wykończone, z garażem i balkonem', 'Mieszkanie Kraków 68.51m2 3-pokojowe', 'Mieszkanie 40.4m2 2 pok Kraków', 'WYNAJEM OD ZARAZ KAWALERKA KRAKÓW NOWA', '3 pokoje +balkon, OD ZARAZ | 3 rooms +balcony, NOW', 'Mieszkanie do sprzedania 36.07m2 2 pok Kraków', 'Trzy pokojowe mieszkanie w Krakowie', 'Mieszkanie Kraków 41.32 metry 2 pokojowe', 'Mieszkanie 38m2 1 pokój Kraków', 'Mieszkanie Kraków Armii Kraków 43m2 3-pokojowe', 'Bezpośrednio wynajmę 2-pokojowe ul.Batorego po remoncie.', 'Mieszkanie 58.57m2 3-pokojowe Kraków', 'Kawalerka  na sprzedaż', 'Mieszkanie 57m2 2 pokojowe Kraków prof. Michała Bobrzyńskiego', 'Mieszkanie 2 pokojowe wynajmę Kraków Królewska', 'Oferta sprzedaży mieszkania 49.08m2 2-pokojowe Kraków', 'Nowa Huta - 45 m2, mieszkanie dwupokojowe', 'Mieszkanie 139m2 4 pok Kraków Krowoderska', 'Piękne mieszkanie z widokami Kraków | Bronowice', 'Mieszkanie do wynajęcia 36m2 1-pokojowe Kraków', 'Do sprzedaży mieszkanie 42.53m2 Kraków Paulińska', 'Oferta sprzedaży mieszkania Kraków Bieżanów 45.18m2 2 pokoje', 'Sprzedam mieszkanie 69.92m 3 pokoje Kraków Płaszów', 'Mieszkanie 46.14m2 2 pokoje Kraków zabłocie', 'Oferta sprzedaży mieszkania Kraków Bieżanów 39.48m2 2 pokoje', 'Mieszkanie Kraków Bieżanów 71.4m2 3-pokojowe', 'Mieszkanie Kraków Płaszów 69.87m2 3-pokojowe', 'Mieszkanie 45.89 metrów 2 pok Kraków zabłocie', 'Oferta sprzedaży mieszkania Kraków Bieżanów 35.22m2 2 pokoje', 'Mieszkanie na sprzedaż/zamiana 39m2', 'Mieszkanie 64.78m2 Kraków', 'Mieszkanie sprzedam 31.62m2 2-pok Kraków', 'Sprzedam mieszkanie Kraków 64.79m2 3 pok', 'Mieszkanie sprzedam 45.89m2 2-pokojowe Kraków zabłocie', 'Sprzedam mieszkanie 31.54 metry 2 pok Kraków Bieżanów', 'Sprzedam mieszkanie 31.58m2 2 pokoje Kraków Bieżanów', 'Ogłoszenie mieszkanie 44.71m2 2 pokoje Kraków Bieżanów', 'Mieszkanie Kraków 35.25m2', 'Mieszkanie do sprzedania Kraków Bieżanów 35.22 metry 2 pok', 'Sprzedam mieszkanie Kraków 45.56 metrów', 'Mieszkanie 44.63m2 2 pokoje Kraków', 'Mieszkanie 45.89m2 2 pokoje Kraków zabłocie', 'Oferta sprzedaży mieszkania 53.66m2 2-pok Kraków', 'Mieszkanie Kraków 46.38m2 2 pokojowe', 'Mieszkanie 45.89m2 2-pokojowe Kraków zabłocie', 'Mieszkanie 39.62 metry 2 pok Kraków Bieżanów', 'Oferta sprzedaży mieszkania Kraków 123 metry 3-pokojowe', 'Mieszkanie 31.52m2 2-pokojowe Kraków', 'Mieszkanie 45.17m2 2-pokojowe Kraków', 'Mieszkanie Kraków Bieżanów 51.93m2 2-pok']\n",
      "60\n",
      "Prices: ['1 137 500 zł', '1 185 000 zł', '470 000 zł', '379 999 zł', '1 590 000 zł', '710 000 zł', '550 000 zł', '2 254 000 zł', '3 800 zł', '3 000 zł', '990 000 zł', '815 269 zł', '517 000 zł', '2 150 zł', '2 800 zł', '799 000 zł', '834 000 zł', '630 000 zł', '569 000 zł', '2 800 zł', '3 800 zł', '1 138 893 zł', '595 000 zł', '3 100 zł', '2 900 zł', '886 766 zł', '570 000 zł', '1 749 000 zł', '3 500 zł', '2 600 zł', '930 000 zł', '632 520 zł', '994 949 zł', '838 120 zł', '572 460 zł', '892 500 zł', '950 232 zł', '898 414 zł', '521 256 zł', '548 000 zł', '906 920 zł', '467 976 zł', '874 665 zł', '854 864 zł', '482 562 zł', '483 174 zł', '648 295 zł', '521 700 zł', '521 256 zł', '849 150 zł', '624 820 zł', '881 790 zł', '750 680 zł', '639 000 zł', '888 384 zł', '594 300 zł', '2 600 000 zł', '498 016 zł', '632 380 zł', '701 055 zł']\n",
      "60\n"
     ]
    }
   ],
   "source": [
    "import requests\n",
    "from bs4 import BeautifulSoup\n",
    "import pandas as pd\n",
    "import os\n",
    "\n",
    "url = \"https://sprzedajemy.pl/krakow/nieruchomosci/mieszkania?offset=0&items_per_page=60\"\n",
    "\n",
    "headers = {\n",
    "    \"User-Agent\": \"Mozilla/5.0 (Windows NT 10.0; Win64; x64) AppleWebKit/537.36 (KHTML, like Gecko) Chrome/58.0.3029.110 Safari/537.36\",\n",
    "    \"Accept\": \"text/html,application/xhtml+xml,application/xml;q=0.9,image/webp,image/apng,*/*;q=0.8\",\n",
    "    \"Accept-Encoding\": \"gzip, deflate, br\",\n",
    "    \"Accept-Language\": \"en-US,en;q=0.9,pl;q=0.8\",\n",
    "    \"Connection\": \"keep-alive\"\n",
    "}\n",
    "\n",
    "response = requests.get(url, headers=headers)\n",
    "response = requests.get(url, headers=headers)\n",
    "\n",
    "# Debugowanie odpowiedzi\n",
    "print(f\"Status Code: {response.status_code}\")\n",
    "print(f\"Response Headers: {response.headers}\")\n",
    "print(f\"Response Text (first 2000 chars): {response.text[:2000]}\")\n",
    "\n",
    "# Jeśli odpowiedź jest poprawna, wykonaj webscraping\n",
    "if response.status_code == 200:\n",
    "    soup = BeautifulSoup(response.content, \"html.parser\")\n",
    "\n",
    "    # Pobieranie ofert mieszkań\n",
    "    titles = [h2.a.text.strip() for h2 in soup.find_all(\"h2\", class_=\"title\") if h2.a]\n",
    "    prices = [p.text.replace(\"\\xa0\", \" \").strip() for p in soup.find_all(\"span\", class_=\"price\")]\n",
    "\n",
    "    print(\"Titles:\", titles)\n",
    "    print(len(titles))\n",
    "    print(\"Prices:\", prices)\n",
    "    print(len(prices))\n",
    "\n",
    "    df = pd.DataFrame({\"Title\": titles, \"Price\": prices})\n",
    "\n",
    "    # Dopisanie do pliku CSV\n",
    "    df.to_csv(\"scraped_data.csv\", mode='a', header=not os.path.exists('scraped_data.csv'), index=False)\n",
    "else:\n",
    "    print(\"Failed to retrieve data.\")\n"
   ]
  }
 ],
 "metadata": {
  "colab": {
   "provenance": []
  },
  "kernelspec": {
   "display_name": "Python 3",
   "name": "python3"
  },
  "language_info": {
   "codemirror_mode": {
    "name": "ipython",
    "version": 3
   },
   "file_extension": ".py",
   "mimetype": "text/x-python",
   "name": "python",
   "nbconvert_exporter": "python",
   "pygments_lexer": "ipython3",
   "version": "3.9.21"
  },
  "papermill": {
   "default_parameters": {},
   "duration": 3.065294,
   "end_time": "2025-04-11T18:44:09.031702",
   "environment_variables": {},
   "exception": null,
   "input_path": "nb.ipynb",
   "output_path": "nbo.ipynb",
   "parameters": {},
   "start_time": "2025-04-11T18:44:05.966408",
   "version": "2.6.0"
  }
 },
 "nbformat": 4,
 "nbformat_minor": 5
}