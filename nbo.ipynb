{
 "cells": [
  {
   "cell_type": "code",
   "execution_count": 1,
   "id": "ac89cc5d",
   "metadata": {
    "colab": {
     "base_uri": "https://localhost:8080/"
    },
    "execution": {
     "iopub.execute_input": "2025-07-25T13:44:46.549365Z",
     "iopub.status.busy": "2025-07-25T13:44:46.549099Z",
     "iopub.status.idle": "2025-07-25T13:44:49.528529Z",
     "shell.execute_reply": "2025-07-25T13:44:49.527825Z"
    },
    "id": "5pYh4c8j1w43",
    "outputId": "8a0dca73-64e5-4f0d-c493-2c5b38392363",
    "papermill": {
     "duration": 2.982986,
     "end_time": "2025-07-25T13:44:49.529663",
     "exception": false,
     "start_time": "2025-07-25T13:44:46.546677",
     "status": "completed"
    },
    "tags": []
   },
   "outputs": [
    {
     "name": "stdout",
     "output_type": "stream",
     "text": [
      "Status Code: 200\n",
      "Response Headers: {'Server': 'nginx', 'Date': 'Fri, 25 Jul 2025 13:44:49 GMT', 'Content-Type': 'text/html; charset=UTF-8', 'Transfer-Encoding': 'chunked', 'Vary': 'Accept-Encoding, User-Agent', 'Set-Cookie': 'FRSPSID=srme5birobed9c690euc9q1go0; path=/; domain=.sprzedajemy.pl; secure; HttpOnly, _items_per_page__offer_list=60; expires=Sun, 24-Aug-2025 13:44:48 GMT; Max-Age=2592000; path=/; domain=.sprzedajemy.pl; secure; httponly, observed_id=125370892268838a51022f2773430137748014334; expires=Wed, 25-Jul-2125 14:44:49 GMT; Max-Age=3155677200; path=/; domain=.sprzedajemy.pl; secure; httponly', 'Expires': 'Thu, 19 Nov 1981 08:52:00 GMT', 'Cache-Control': 'no-store, no-cache, must-revalidate, post-check=0, pre-check=0', 'Pragma': 'no-cache', 'Content-Encoding': 'gzip'}\n",
      "Response Text (first 2000 chars): <!DOCTYPE html><html xmlns=\"http://www.w3.org/1999/xhtml\" xml:lang=\"pl\" lang=\"pl\" class=\"no-js\" >\n",
      "<head>\n",
      "\t\t\t<!-- Google Tag Manager -->\n",
      "\t\t\t<script>(function(w,d,s,l,i){w[l]=w[l]||[];w[l].push({'gtm.start':\n",
      "\t\t\t\t\t\tnew Date().getTime(),event:'gtm.js'});var f=d.getElementsByTagName(s)[0],\n",
      "\t\t\t\t\tj=d.createElement(s),dl=l!='dataLayer'?'&l='+l:'';j.async=true;j.src=\n",
      "\t\t\t\t\t'https://www.googletagmanager.com/gtm.js?id='+i+dl\n",
      "\t\t\t\t\t\t\t\t\t    ;f.parentNode.insertBefore(j,f);\n",
      "\t\t\t\t    })(window,document,'script','dataLayer','GTM-P3S238');</script>\n",
      "\t\t\t<!-- End Google Tag Manager -->\n",
      "\t<title>Mieszkania Kraków na sprzedaż, wynajem - Sprzedajemy.pl</title><meta http-equiv=\"Content-Type\" content=\"text/html; charset=UTF-8\" >\n",
      "<meta http-equiv=\"X-UA-Compatible\" content=\"IE=edge\" >\n",
      "<meta name=\"description\" content=\"Ogłoszenia o tematyce:  w kategorii Mieszkania - Kupuj i sprzedawaj rzeczy używane i nowe w kategorii Mieszkania na Sprzedajemy.pl\" >\n",
      "<meta property=\"og:title\" content=\"Mieszkania Kraków na sprzedaż, wynajem - Sprzedajemy.pl\" >\n",
      "<meta property=\"og:type\" content=\"website\" >\n",
      "<meta property=\"og:image\" content=\"https://thumbs.img-sprzedajemy.pl/facebook/sprzedajemy.pl.png\" >\n",
      "<meta property=\"og:image:width\" content=\"200\" >\n",
      "<meta property=\"og:image:height\" content=\"200\" >\n",
      "<meta property=\"og:url\" content=\"https://sprzedajemy.pl/krakow/nieruchomosci/mieszkania\" >\n",
      "<meta property=\"og:site_name\" content=\"Sprzedajemy.pl\" >\n",
      "<meta property=\"fb:app_id\" content=\"173258269367442\" >\n",
      "<meta property=\"og:description\" content=\"Ogłoszenia o tematyce:  w kategorii Mieszkania - Kupuj i sprzedawaj rzeczy używane i nowe w kategorii Mieszkania na Sprzedajemy.pl\" >\n",
      "<meta name=\"robots\" content=\"noindex, follow\" >\t\t<script  async=\"async\" src=\"https://static.criteo.net/js/ld/publishertag.js\"></script>\n",
      "        <script  async=\"async\" src=\"https://ap.lijit.com/www/sovrn_beacon_standalone/sovrn_standalone_beacon.js?iid=13417409&amp;uid=sprzedajemy\" id=\"sBeacon\"></script>\n",
      "\t\t<script  async=\"async\" src=\"https://securepuba\n",
      "Titles: ['Mieszkanie na sprzedaż/zamiana 39m2', 'Mieszkanie Wola Justowska /Bielany 36m2', 'Nowoczesny apartament z panoramicznym widokiem - od właściciela', 'Wyjątkowe mieszkanie z widokiem na klasztor w Tyńcu i panoramę Tatr', 'Stylowy apartament z widokiem na panoramę Krakowa - od właściciela', 'Kraków, Stare Miasto sprzedaż/zamiana', '2-pokojowe mieszkanie na Zabłociu – ciche, świetna lokalizacja! [Wirtualny…', '4pokoje 68m2 balkon KLIMA Śródmieście BEZ PROWIZJI od właściciela', 'Dom - Kraków Tonie - Zielona okolica - 123 m2 | 5 - pok. | Ogród | Taras |…', 'Mieszkanie 48.28m2 3 pok Kraków Pękowicka', 'Oferta sprzedaży mieszkania Kraków Pękowicka 40m2 2 pokojowe', 'Mieszkanie 57.07m2 Kraków', 'Mieszkanie 46.66m2 2 pokoje Kraków Babińskiego', 'Ogłoszenie mieszkanie 43.56m 3 pokoje Kraków', 'Mieszkanie 114.76m2 5-pokojowe Kraków', 'Oferta sprzedaży mieszkania Kraków 35.79m2 2 pokoje', 'Mieszkanie na sprzedaż 66.11m2 3 pokojowe Kraków', 'Mieszkanie Kraków Bukowa 57.19 metrów 3 pokoje', 'Sprzedam mieszkanie Kraków Aleja Jurajska 118.87m2 4 pokoje', 'Mieszkanie 70.88m2 3-pokojowe Kraków', 'Mieszkanie Kraków Erazma Jerzmanowskiego 35.74m2 1-pok', 'Oferta sprzedaży mieszkania 94.61m2 4 pokoje Kraków', 'Mieszkanie 27.42m2 Kraków', 'Mieszkanie 51.43m2 Kraków Babińskiego', 'Mieszkanie Kraków 118.87m2', 'Mieszkanie Kraków Babińskiego 72.4m2 3-pok', 'Mieszkanie 65.16m2 4 pokoje Kraków Kantrowicka', 'Mieszkanie 42.61m2 2 pokojowe Kraków Wadowicka', 'Mieszkanie Kraków 71.23m2 4-pokojowe', 'Mieszkanie 50.5m 2-pokojowe Kraków Dąbrowskiego', 'Ogłoszenie mieszkanie 42.21m2 Kraków Grzegórzki', 'Oferta sprzedaży mieszkania 57.1m2 3-pokojowe Kraków Na Błonie', 'Mieszkanie sprzedam Kraków 64.14m2 4-pokojowe', 'Oferta sprzedaży mieszkania 69.13 metry 3 pok Kraków', 'Mieszkanie 38.65 metrów 2 pokoje Kraków Na Błonie', 'Mieszkanie Kraków Grzegórzki 51.79m2', 'Ogłoszenie mieszkanie Kraków Babińskiego 72.4m2 3 pok', 'Sprzedaż mieszkania 66.5m 3 pokojowe Kraków Wadowicka', 'Mieszkanie na sprzedaż Kraków 35.8m2 2 pokojowe', 'Mieszkanie Kraków Krowoderska 74.7m2 3 pokojowe', 'Mieszkanie Kraków 36.09m2', 'Mieszkanie Kraków 37.5 metrów 2-pokojowe', 'Do sprzedaży mieszkanie Kraków 42.2m2 2-pokojowe', 'Ogłoszenie mieszkanie Kraków 39.56 metrów 2-pokojowe', 'Oferta sprzedaży mieszkania Kraków Henryka i Karola Czeczów 62.62m 3-pokojowe', 'Mieszkanie 60.68m2 2-pokojowe Kraków', 'Oferta sprzedaży mieszkania Kraków Babińskiego 50.39m', 'Sprzedaż mieszkania 42.3m2 Kraków', 'Sprzedam mieszkanie Kraków Orzeszkowej 79m2 3-pok', 'Do sprzedaży mieszkanie Kraków Na Błonie 57.11m2 3-pokojowe', 'Mieszkanie Kraków 49.63m2 3 pokoje', 'Mieszkanie 65.16m2 4 pokoje Kraków', 'Mieszkanie Kraków Piasta Kołodzieja 71.45m2 4 pok', 'Ogłoszenie mieszkanie 64.69m2 3-pokojowe Kraków Na Błonie', 'Do sprzedaży mieszkanie 41.06 metrów Kraków Na Błonie', 'Mieszkanie 31.74m2 1 pokój Kraków Babińskiego', 'Ogłoszenie mieszkanie Kraków ul. Opatkowicka 44m2 3-pokojowe', 'Mieszkanie 44m2 2 pokoje Kraków', 'Mieszkanie Kraków 29 listopada - okolice 35.26m2 2 pokoje', 'Oferta sprzedaży mieszkania 67.57m2 Kraków Pękowicka']\n",
      "60\n",
      "Prices: ['526 000 zł', '487 000 zł', '997 000 zł', '779 000 zł', '897 000 zł', '2 153 000 zł', '499 000 zł', '1 850 000 zł', '2 275 000 zł', '796 620 zł', '680 000 zł', '1 036 391 zł', '881 874 zł', '749 000 zł', '1 732 876 zł', '613 798 zł', '991 650 zł', '657 685 zł', '850 000 zł', '1 169 520 zł', '2 950 zł', '1 386 032 zł', '472 995 zł', '889 739 zł', '798 000 zł', '1 245 280 zł', '879 660 zł', '790 415 zł', '897 498 zł', '1 044 551 zł', '924 399 zł', '1 054 637 zł', '1 032 654 zł', '1 109 743 zł', '779 918 zł', '1 294 750 zł', '1 194 600 zł', '1 004 150 zł', '859 200 zł', '1 418 000 zł', '505 260 zł', '729 000 zł', '776 480 zł', '672 520 zł', '978 000 zł', '807 177 zł', '901 981 zł', '706 410 zł', '1 450 000 zł', '1 058 305 zł', '699 783 zł', '879 660 zł', '871 690 zł', '1 103 999 zł', '789 214 zł', '615 756 zł', '749 000 zł', '829 400 zł', '657 206 zł', '1 084 498 zł']\n",
      "60\n"
     ]
    }
   ],
   "source": [
    "import requests\n",
    "from bs4 import BeautifulSoup\n",
    "import pandas as pd\n",
    "import os\n",
    "\n",
    "url = \"https://sprzedajemy.pl/krakow/nieruchomosci/mieszkania?offset=0&items_per_page=60\"\n",
    "\n",
    "headers = {\n",
    "    \"User-Agent\": \"Mozilla/5.0 (Windows NT 10.0; Win64; x64) AppleWebKit/537.36 (KHTML, like Gecko) Chrome/58.0.3029.110 Safari/537.36\",\n",
    "    \"Accept\": \"text/html,application/xhtml+xml,application/xml;q=0.9,image/webp,image/apng,*/*;q=0.8\",\n",
    "    \"Accept-Encoding\": \"gzip, deflate, br\",\n",
    "    \"Accept-Language\": \"en-US,en;q=0.9,pl;q=0.8\",\n",
    "    \"Connection\": \"keep-alive\"\n",
    "}\n",
    "\n",
    "response = requests.get(url, headers=headers)\n",
    "response = requests.get(url, headers=headers)\n",
    "\n",
    "# Debugowanie odpowiedzi\n",
    "print(f\"Status Code: {response.status_code}\")\n",
    "print(f\"Response Headers: {response.headers}\")\n",
    "print(f\"Response Text (first 2000 chars): {response.text[:2000]}\")\n",
    "\n",
    "# Jeśli odpowiedź jest poprawna, wykonaj webscraping\n",
    "if response.status_code == 200:\n",
    "    soup = BeautifulSoup(response.content, \"html.parser\")\n",
    "\n",
    "    # Pobieranie ofert mieszkań\n",
    "    titles = [h2.a.text.strip() for h2 in soup.find_all(\"h2\", class_=\"title\") if h2.a]\n",
    "    prices = [p.text.replace(\"\\xa0\", \" \").strip() for p in soup.find_all(\"span\", class_=\"price\")]\n",
    "\n",
    "    print(\"Titles:\", titles)\n",
    "    print(len(titles))\n",
    "    print(\"Prices:\", prices)\n",
    "    print(len(prices))\n",
    "\n",
    "    df = pd.DataFrame({\"Title\": titles, \"Price\": prices})\n",
    "\n",
    "    # Dopisanie do pliku CSV\n",
    "    df.to_csv(\"scraped_data.csv\", mode='a', header=not os.path.exists('scraped_data.csv'), index=False)\n",
    "else:\n",
    "    print(\"Failed to retrieve data.\")\n"
   ]
  }
 ],
 "metadata": {
  "colab": {
   "provenance": []
  },
  "kernelspec": {
   "display_name": "Python 3",
   "name": "python3"
  },
  "language_info": {
   "codemirror_mode": {
    "name": "ipython",
    "version": 3
   },
   "file_extension": ".py",
   "mimetype": "text/x-python",
   "name": "python",
   "nbconvert_exporter": "python",
   "pygments_lexer": "ipython3",
   "version": "3.9.23"
  },
  "papermill": {
   "default_parameters": {},
   "duration": 4.145349,
   "end_time": "2025-07-25T13:44:49.746689",
   "environment_variables": {},
   "exception": null,
   "input_path": "nb.ipynb",
   "output_path": "nbo.ipynb",
   "parameters": {},
   "start_time": "2025-07-25T13:44:45.601340",
   "version": "2.6.0"
  }
 },
 "nbformat": 4,
 "nbformat_minor": 5
}