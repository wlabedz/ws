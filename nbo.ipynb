{
 "cells": [
  {
   "cell_type": "code",
   "execution_count": 1,
   "id": "f35e96bb",
   "metadata": {
    "colab": {
     "base_uri": "https://localhost:8080/"
    },
    "execution": {
     "iopub.execute_input": "2025-04-23T17:42:08.767074Z",
     "iopub.status.busy": "2025-04-23T17:42:08.766678Z",
     "iopub.status.idle": "2025-04-23T17:42:10.799211Z",
     "shell.execute_reply": "2025-04-23T17:42:10.798469Z"
    },
    "id": "5pYh4c8j1w43",
    "outputId": "8a0dca73-64e5-4f0d-c493-2c5b38392363",
    "papermill": {
     "duration": 2.036515,
     "end_time": "2025-04-23T17:42:10.800344",
     "exception": false,
     "start_time": "2025-04-23T17:42:08.763829",
     "status": "completed"
    },
    "tags": []
   },
   "outputs": [
    {
     "name": "stdout",
     "output_type": "stream",
     "text": [
      "Status Code: 200\n",
      "Response Headers: {'Server': 'nginx', 'Date': 'Wed, 23 Apr 2025 17:42:10 GMT', 'Content-Type': 'text/html; charset=UTF-8', 'Transfer-Encoding': 'chunked', 'Vary': 'Accept-Encoding, User-Agent', 'Set-Cookie': 'FRSPSID=34ahd878k9r8k00f7k1u8ags57; path=/; domain=.sprzedajemy.pl; secure; HttpOnly, _items_per_page__offer_list=60; expires=Fri, 23-May-2025 17:42:10 GMT; Max-Age=2592000; path=/; domain=.sprzedajemy.pl; secure; httponly, observed_id=1266927085680926725d7251164917837604550340; expires=Mon, 23-Apr-2125 18:42:10 GMT; Max-Age=3155677200; path=/; domain=.sprzedajemy.pl; secure; httponly', 'Expires': 'Thu, 19 Nov 1981 08:52:00 GMT', 'Cache-Control': 'no-store, no-cache, must-revalidate, post-check=0, pre-check=0', 'Pragma': 'no-cache', 'Content-Encoding': 'gzip'}\n",
      "Response Text (first 2000 chars): <!DOCTYPE html><html xmlns=\"http://www.w3.org/1999/xhtml\" xml:lang=\"pl\" lang=\"pl\" class=\"no-js\" >\n",
      "<head>\n",
      "\t\t\t<!-- Google Tag Manager -->\n",
      "\t\t\t<script>(function(w,d,s,l,i){w[l]=w[l]||[];w[l].push({'gtm.start':\n",
      "\t\t\t\t\t\tnew Date().getTime(),event:'gtm.js'});var f=d.getElementsByTagName(s)[0],\n",
      "\t\t\t\t\tj=d.createElement(s),dl=l!='dataLayer'?'&l='+l:'';j.async=true;j.src=\n",
      "\t\t\t\t\t'https://www.googletagmanager.com/gtm.js?id='+i+dl\n",
      "\t\t\t\t\t\t\t\t\t    ;f.parentNode.insertBefore(j,f);\n",
      "\t\t\t\t    })(window,document,'script','dataLayer','GTM-P3S238');</script>\n",
      "\t\t\t<!-- End Google Tag Manager -->\n",
      "\t<title>Mieszkania Kraków na sprzedaż, wynajem - Sprzedajemy.pl</title><meta http-equiv=\"Content-Type\" content=\"text/html; charset=UTF-8\" >\n",
      "<meta http-equiv=\"X-UA-Compatible\" content=\"IE=edge\" >\n",
      "<meta name=\"description\" content=\"Ogłoszenia o tematyce:  w kategorii Mieszkania - Kupuj i sprzedawaj rzeczy używane i nowe w kategorii Mieszkania na Sprzedajemy.pl\" >\n",
      "<meta property=\"og:title\" content=\"Mieszkania Kraków na sprzedaż, wynajem - Sprzedajemy.pl\" >\n",
      "<meta property=\"og:type\" content=\"website\" >\n",
      "<meta property=\"og:image\" content=\"https://thumbs.img-sprzedajemy.pl/facebook/sprzedajemy.pl.png\" >\n",
      "<meta property=\"og:image:width\" content=\"200\" >\n",
      "<meta property=\"og:image:height\" content=\"200\" >\n",
      "<meta property=\"og:url\" content=\"https://sprzedajemy.pl/krakow/nieruchomosci/mieszkania\" >\n",
      "<meta property=\"og:site_name\" content=\"Sprzedajemy.pl\" >\n",
      "<meta property=\"fb:app_id\" content=\"173258269367442\" >\n",
      "<meta property=\"og:description\" content=\"Ogłoszenia o tematyce:  w kategorii Mieszkania - Kupuj i sprzedawaj rzeczy używane i nowe w kategorii Mieszkania na Sprzedajemy.pl\" >\n",
      "<meta name=\"robots\" content=\"noindex, follow\" >\t\t<script  async=\"async\" src=\"https://static.criteo.net/js/ld/publishertag.js\"></script>\n",
      "        <script  async=\"async\" src=\"https://ap.lijit.com/www/sovrn_beacon_standalone/sovrn_standalone_beacon.js?iid=13417409&amp;uid=sprzedajemy\" id=\"sBeacon\"></script>\n",
      "\t\t<script  async=\"async\" src=\"https://securepuba\n",
      "Titles: ['2 pokoje 41m2 blisko Aquaparku wkrótce tramwaj!', 'Mieszkanie przy Parku Rzecznym Tonie', 'Kraków, Stare Miasto sprzedaż/zamiana', 'Nowoczesne, wykończone, z garażem i balkonem', 'Mieszkanie na sprzedaż/zamiana 39m2', 'Mieszkanie z ogródkiem Zakrzówek bezczynszowe', 'Mieszkanie 95.88m2 4 pokoje Kraków Stare Wiślisko', 'Sprzedaż mieszkania Kraków Wincentego Witosa 67.02m2 3 pokojowe', 'Mieszkanie Kraków/Piekary 80m2 / 2-pokojowe', 'Wynajem mieszkania Kraków Mitery 45m2 3 pokoje', 'Mieszkanie na wynajem Kraków Plac Matejki 42m2', 'Kawalerka z widokiem, po remoncie, ul. Racławicka', 'Sprzedam mieszkanie 137m2 4 pok Kraków Morelowa', 'Żabiniec 2 pok.taras m.post w cenie bez prowizji', 'Oferta sprzedaży mieszkania 38.07m2 Kraków Kawiory', 'Mieszkanie 37.4m2 2 pokoje Kraków Glogera', 'Mieszkanie 65m 3-pokojowe Kraków Widna', 'Mieszkanie 67.57m2 3 pokojowe Kraków Wincentego Witosa', 'Oferta sprzedaży mieszkania 52m2 3 pok Kraków', 'NOWE Mieszkanie Centrum Krakowa Rakowicka NOVUM', 'Oferta sprzedaży mieszkania Kraków 42m2 2 pokoje', 'Ogłoszenie mieszkanie Kraków 46m2 2-pokojowe', 'Sprzedam mieszkanie 3 pokojowe słoneczne 2 Pulku Lotniczego', 'Oferta sprzedaży mieszkania 64.59m2 2 pokoje Kraków', 'Mieszkanie do sprzedania 37.35m2 2 pokoje Kraków', 'Wynajmę mieszkanie Kraków 30m2', 'Mieszkanie Kraków 108 metrów 4 pok', 'Sprzedaż mieszkania 67.08m2 4 pokojowe Kraków zabłocie', 'Mieszkanie Kraków 108m2 4 pokoje', 'Oferta wynajmu mieszkania Kraków Szuwarowa 34.3m 1-pokojowe', 'Mieszkanie Kraków 41m2', 'Mieszkanie 49.6m2 2-pokojowe Kraków', 'Mieszkanie sprzedam 32m2 1-pokojowe Kraków Św. Jacka', 'Oferta sprzedaży mieszkania Kraków 51.89m2 2 pokojowe', '2 pokoje ogródek miejsce postojowe cicha okolica', 'Ustawne mieszkanie 2 pokojowe, Os. Kazimierzowskie', 'Oferta sprzedaży mieszkania 108 metrów 4 pokojowe Kraków Pilotów', 'Mieszkanie do sprzedania Kraków Krowodrza 84m2 4-pokojowe', 'Mieszkanie 55.24m2 2-pokojowe Kraków Leona Petrażyckiego', 'Oferta sprzedaży mieszkania Kraków Henryka Pachońskiego 45.5m2 3-pokojowe', 'Mieszkanie na sprzedaż 44m2 2 pokoje Kraków', 'Mieszkanie Kraków Mieczysława Pszona 43.3m2 2 pok', 'Mieszkanie Kraków 57.77m2 3 pok', 'Oferta sprzedaży mieszkania 38.7m2 2 pok Kraków Pleszowska', 'Oferta sprzedaży mieszkania 47.9m2 2 pokoje Kraków Aleja Pokoju', 'Mieszkanie 60.91 metrów 3 pokojowe Kraków Domagały', '3 pokoje | 59,5 m2 | Orlińskiego AVIA | Kraków | BEZPOŚREDNIO', 'Sprzedam mieszkanie 55,9 m2 z ogródkiem, Wzgórza Krzesławickie, Kraków', 'Mieszkanie Kraków os. Albertyńskie 38m2 2 pokoje', 'Mieszkanie Kraków 52.99m2 3 pokojowe', 'Nowoczesne mieszkanie, 2 pokoje, balkon, garaż', 'Mieszkanie Kraków prof. Michała Bobrzyńskiego 60m2 3 pokojowe', '3 pokojowe mieszkanie z parkingiem ul. Bronowicka', 'Mieszkanie Kraków Wrocławska 27.86m2 1 pokój', 'Mieszkanie Kraków Reduta 77.12 metry 3 pokoje', 'Oferta sprzedaży mieszkania 54m 2 pok Kraków os. Kolorowe', 'Mieszkanie 51m2 Kraków', 'Atrakcyjne mieszkanie 3 pok.61,4 m2 Kraków ul. Młyńska', 'Mieszkanie 3 pokojowe 64m2 z 2 balkonamk', 'Oferta sprzedaży mieszkania 37m2 2-pok Kraków Dąbska']\n",
      "60\n",
      "Prices: ['710 000 zł', '535 000 zł', '2 254 000 zł', '990 000 zł', '548 000 zł', '460 000 zł', '1 109 980 zł', '931 578 zł', '259 000 zł', '2 800 zł', '2 400 zł', '468 000 zł', '2 000 000 zł', '650 000 zł', '829 000 zł', '660 000 zł', '365 000 zł', '948 640 zł', '629 900 zł', '3 920 zł', '725 000 zł', '3 100 zł', '939 000 zł', '939 000 zł', '690 000 zł', '2 300 zł', '859 000 zł', '1 213 620 zł', '859 000 zł', '1 900 zł', '1 800 zł', '800 000 zł', '567 000 zł', '670 000 zł', '584 000 zł', '520 000 zł', '859 000 zł', '1 350 000 zł', '760 000 zł', '620 000 zł', '799 000 zł', '649 000 zł', '860 000 zł', '553 000 zł', '839 000 zł', '940 000 zł', '950 000 zł', '769 000 zł', '470 000 zł', '4 300 zł', '2 500 zł', '1 050 000 zł', '3 500 zł', '567 000 zł', '1 342 000 zł', '660 000 zł', '864 500 zł', '940 000 zł', '999 999 zł', '665 000 zł']\n",
      "60\n"
     ]
    }
   ],
   "source": [
    "import requests\n",
    "from bs4 import BeautifulSoup\n",
    "import pandas as pd\n",
    "import os\n",
    "\n",
    "url = \"https://sprzedajemy.pl/krakow/nieruchomosci/mieszkania?offset=0&items_per_page=60\"\n",
    "\n",
    "headers = {\n",
    "    \"User-Agent\": \"Mozilla/5.0 (Windows NT 10.0; Win64; x64) AppleWebKit/537.36 (KHTML, like Gecko) Chrome/58.0.3029.110 Safari/537.36\",\n",
    "    \"Accept\": \"text/html,application/xhtml+xml,application/xml;q=0.9,image/webp,image/apng,*/*;q=0.8\",\n",
    "    \"Accept-Encoding\": \"gzip, deflate, br\",\n",
    "    \"Accept-Language\": \"en-US,en;q=0.9,pl;q=0.8\",\n",
    "    \"Connection\": \"keep-alive\"\n",
    "}\n",
    "\n",
    "response = requests.get(url, headers=headers)\n",
    "response = requests.get(url, headers=headers)\n",
    "\n",
    "# Debugowanie odpowiedzi\n",
    "print(f\"Status Code: {response.status_code}\")\n",
    "print(f\"Response Headers: {response.headers}\")\n",
    "print(f\"Response Text (first 2000 chars): {response.text[:2000]}\")\n",
    "\n",
    "# Jeśli odpowiedź jest poprawna, wykonaj webscraping\n",
    "if response.status_code == 200:\n",
    "    soup = BeautifulSoup(response.content, \"html.parser\")\n",
    "\n",
    "    # Pobieranie ofert mieszkań\n",
    "    titles = [h2.a.text.strip() for h2 in soup.find_all(\"h2\", class_=\"title\") if h2.a]\n",
    "    prices = [p.text.replace(\"\\xa0\", \" \").strip() for p in soup.find_all(\"span\", class_=\"price\")]\n",
    "\n",
    "    print(\"Titles:\", titles)\n",
    "    print(len(titles))\n",
    "    print(\"Prices:\", prices)\n",
    "    print(len(prices))\n",
    "\n",
    "    df = pd.DataFrame({\"Title\": titles, \"Price\": prices})\n",
    "\n",
    "    # Dopisanie do pliku CSV\n",
    "    df.to_csv(\"scraped_data.csv\", mode='a', header=not os.path.exists('scraped_data.csv'), index=False)\n",
    "else:\n",
    "    print(\"Failed to retrieve data.\")\n"
   ]
  }
 ],
 "metadata": {
  "colab": {
   "provenance": []
  },
  "kernelspec": {
   "display_name": "Python 3",
   "name": "python3"
  },
  "language_info": {
   "codemirror_mode": {
    "name": "ipython",
    "version": 3
   },
   "file_extension": ".py",
   "mimetype": "text/x-python",
   "name": "python",
   "nbconvert_exporter": "python",
   "pygments_lexer": "ipython3",
   "version": "3.9.22"
  },
  "papermill": {
   "default_parameters": {},
   "duration": 3.128151,
   "end_time": "2025-04-23T17:42:11.017587",
   "environment_variables": {},
   "exception": null,
   "input_path": "nb.ipynb",
   "output_path": "nbo.ipynb",
   "parameters": {},
   "start_time": "2025-04-23T17:42:07.889436",
   "version": "2.6.0"
  }
 },
 "nbformat": 4,
 "nbformat_minor": 5
}