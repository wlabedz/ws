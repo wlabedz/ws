{
 "cells": [
  {
   "cell_type": "code",
   "execution_count": 1,
   "id": "0e1f8975",
   "metadata": {
    "colab": {
     "base_uri": "https://localhost:8080/"
    },
    "execution": {
     "iopub.execute_input": "2025-04-18T22:32:54.031740Z",
     "iopub.status.busy": "2025-04-18T22:32:54.031478Z",
     "iopub.status.idle": "2025-04-18T22:32:56.112620Z",
     "shell.execute_reply": "2025-04-18T22:32:56.111929Z"
    },
    "id": "5pYh4c8j1w43",
    "outputId": "8a0dca73-64e5-4f0d-c493-2c5b38392363",
    "papermill": {
     "duration": 2.084853,
     "end_time": "2025-04-18T22:32:56.113705",
     "exception": false,
     "start_time": "2025-04-18T22:32:54.028852",
     "status": "completed"
    },
    "tags": []
   },
   "outputs": [
    {
     "name": "stdout",
     "output_type": "stream",
     "text": [
      "Status Code: 200\n",
      "Response Headers: {'Server': 'nginx', 'Date': 'Fri, 18 Apr 2025 22:32:55 GMT', 'Content-Type': 'text/html; charset=UTF-8', 'Transfer-Encoding': 'chunked', 'Vary': 'Accept-Encoding, User-Agent', 'Set-Cookie': 'FRSPSID=a8jruf0u740coq33dha0gesnf4; path=/; domain=.sprzedajemy.pl; secure; HttpOnly, _items_per_page__offer_list=60; expires=Sun, 18-May-2025 22:32:55 GMT; Max-Age=2592000; path=/; domain=.sprzedajemy.pl; secure; httponly, observed_id=10675214416802d317a8d51880997355852016847; expires=Wed, 18-Apr-2125 23:32:55 GMT; Max-Age=3155677200; path=/; domain=.sprzedajemy.pl; secure; httponly', 'Expires': 'Thu, 19 Nov 1981 08:52:00 GMT', 'Cache-Control': 'no-store, no-cache, must-revalidate, post-check=0, pre-check=0', 'Pragma': 'no-cache', 'Content-Encoding': 'gzip'}\n",
      "Response Text (first 2000 chars): <!DOCTYPE html><html xmlns=\"http://www.w3.org/1999/xhtml\" xml:lang=\"pl\" lang=\"pl\" class=\"no-js\" >\n",
      "<head>\n",
      "\t\t\t<!-- Google Tag Manager -->\n",
      "\t\t\t<script>(function(w,d,s,l,i){w[l]=w[l]||[];w[l].push({'gtm.start':\n",
      "\t\t\t\t\t\tnew Date().getTime(),event:'gtm.js'});var f=d.getElementsByTagName(s)[0],\n",
      "\t\t\t\t\tj=d.createElement(s),dl=l!='dataLayer'?'&l='+l:'';j.async=true;j.src=\n",
      "\t\t\t\t\t'https://www.googletagmanager.com/gtm.js?id='+i+dl\n",
      "\t\t\t\t\t\t\t\t\t    ;f.parentNode.insertBefore(j,f);\n",
      "\t\t\t\t    })(window,document,'script','dataLayer','GTM-P3S238');</script>\n",
      "\t\t\t<!-- End Google Tag Manager -->\n",
      "\t<title>Mieszkania Kraków na sprzedaż, wynajem - Sprzedajemy.pl</title><meta http-equiv=\"Content-Type\" content=\"text/html; charset=UTF-8\" >\n",
      "<meta http-equiv=\"X-UA-Compatible\" content=\"IE=edge\" >\n",
      "<meta name=\"description\" content=\"Ogłoszenia o tematyce:  w kategorii Mieszkania - Kupuj i sprzedawaj rzeczy używane i nowe w kategorii Mieszkania na Sprzedajemy.pl\" >\n",
      "<meta property=\"og:title\" content=\"Mieszkania Kraków na sprzedaż, wynajem - Sprzedajemy.pl\" >\n",
      "<meta property=\"og:type\" content=\"website\" >\n",
      "<meta property=\"og:image\" content=\"https://thumbs.img-sprzedajemy.pl/facebook/sprzedajemy.pl.png\" >\n",
      "<meta property=\"og:image:width\" content=\"200\" >\n",
      "<meta property=\"og:image:height\" content=\"200\" >\n",
      "<meta property=\"og:url\" content=\"https://sprzedajemy.pl/krakow/nieruchomosci/mieszkania\" >\n",
      "<meta property=\"og:site_name\" content=\"Sprzedajemy.pl\" >\n",
      "<meta property=\"fb:app_id\" content=\"173258269367442\" >\n",
      "<meta property=\"og:description\" content=\"Ogłoszenia o tematyce:  w kategorii Mieszkania - Kupuj i sprzedawaj rzeczy używane i nowe w kategorii Mieszkania na Sprzedajemy.pl\" >\n",
      "<meta name=\"robots\" content=\"noindex, follow\" >\t\t<script  async=\"async\" src=\"https://static.criteo.net/js/ld/publishertag.js\"></script>\n",
      "        <script  async=\"async\" src=\"https://ap.lijit.com/www/sovrn_beacon_standalone/sovrn_standalone_beacon.js?iid=13417409&amp;uid=sprzedajemy\" id=\"sBeacon\"></script>\n",
      "\t\t<script  async=\"async\" src=\"https://securepuba\n",
      "Titles: ['Mieszkanie z ogródkiem Zakrzówek bezczynszowe', '2 pokoje 41m2 blisko Aquaparku wkrótce tramwaj!', 'Mieszkanie przy Parku Rzecznym Tonie', 'Strych do adaptacji, Błonia, ul. Filarecka', 'Kraków, Stare Miasto sprzedaż/zamiana', 'Apartament, 2 pokoje, jadalnia, garaż,Krowodrza', '2 pokoje,garaż,wysoki standard,ul.Rakowicka,ENG', 'M2 dwustronne Bieńczyce dostępne do 25 kwietnia', 'Nowoczesne, wykończone, z garażem i balkonem', 'Mieszkanie na sprzedaż/zamiana 39m2', '2 lub 3 pokoje,62m2,balkon, Widok na Wawel', 'Mieszkanie 37 metrów 2 pokojowe Kraków Dąbska', 'Oferta sprzedaży mieszkania 49.89 metrów 3 pokojowe Kraków Romana Żelazowskiego', 'Do sprzedaży mieszkanie Kraków 57.06 metrów', 'Mieszkanie 64.97m2 3 pok Kraków', 'Mieszkanie 46.58m2 2 pokoje Kraków', 'Mieszkanie na sprzedaż Kraków os. Piastów 34.55m2 2 pokoje', 'Mieszkanie Kraków os. Piastów 36.95m2 2 pokoje', 'Oferta sprzedaży mieszkania Kraków 36.96m2 2-pokojowe', 'Mieszkanie 37.89m2 Kraków', 'Oferta sprzedaży mieszkania Kraków os. Piastów 36.96m2 2 pok', 'Mieszkanie 41.93m2 2 pok Kraków os. Piastów', 'Mieszkanie 86.23m2 3 pokoje Kraków os. Piastów', 'Mieszkanie Kraków os. Piastów 34.55m2 2-pok', 'Oferta sprzedaży mieszkania Kraków 63.64m2 3-pokojowe', 'Mieszkanie Kraków os. Piastów 36.96m2 2-pokojowe', 'Mieszkanie Kraków os. Piastów 37.89 metrów 2-pok', 'Mieszkanie Kraków os. Piastów 68.17m2 3 pokojowe', 'Oferta sprzedaży mieszkania Kraków os. Piastów 36.96m2 2-pokojowe', 'Oferta sprzedaży mieszkania Kraków 72m2 3 pok', 'Sprzedam mieszkanie Kraków os. Piastów 36.96m2 2 pok', 'Do sprzedaży mieszkanie Kraków os. Piastów 86.71m2 4 pokoje', 'Mieszkanie 86.23m2 3-pokojowe Kraków os. Piastów', 'Mieszkanie Kraków 37.89m2 2 pok', 'Mieszkanie 36.96m2 2 pokoje Kraków os. Piastów', 'Oferta sprzedaży mieszkania 37.58m2 2 pokoje Kraków os. Piastów', 'Sprzedaż mieszkania 36.96m2 2 pokoje Kraków', 'Oferta sprzedaży mieszkania Kraków 29 Listopada 19.1m2 1 pokój', 'Mieszkanie Kraków 76.89m2 4-pok', 'Mieszkanie Kraków os. Piastów 36.63m2 2-pokojowe', 'Mieszkanie Kraków os. Piastów 76.89m2 4-pok', 'Mieszkanie 54.97m2 3 pokoje Kraków os. Piastów', 'Mieszkanie 123.25m2 5 pokoi Kraków', 'Do sprzedaży mieszkanie 86.23m2 3-pok Kraków', 'Kawelarka na osiedlu Strusia - 25 m2 plus piwnica 1,73 m2 w cenie', 'Oferta sprzedaży mieszkania Kraków os. Piastów 41.73m2 2 pokoje', 'Mieszkanie 37.89m2 2 pok Kraków', 'Mieszkanie 36.96m2 2 pok Kraków os. Piastów', 'Mieszkanie 37.89m2 2 pokojowe Kraków os. Piastów', 'Mieszkanie sprzedam 41.73m2 2 pokoje Kraków os. Piastów', 'Mieszkanie 34.55m2 2 pokoje Kraków os. Piastów', 'Mieszkanie 36.96m2 2 pokojowe Kraków os. Piastów', 'Sprzedaż mieszkania 48m2 2-pokojowe Kraków', 'Mieszkanie sprzedam Kraków 38m2 2 pok', 'Mieszkanie 57.88 metrów 2 pokojowe Kraków', 'Jasne 3-pokojowe mieszkanie 70 m² Olsza', 'Mieszkanie 48.5m2 2-pokojowe Kraków', 'Oferta sprzedaży mieszkania 76.89m2 4 pokoje Kraków os. Piastów', 'Mieszkanie sprzedam 43m2 2-pok Kraków', 'Sprzedam mieszkanie 41.59m2 2 pokoje Kraków Na Błonie']\n",
      "60\n",
      "Prices: ['460 000 zł', '710 000 zł', '550 000 zł', '379 999 zł', '2 254 000 zł', '3 800 zł', '3 000 zł', '599 000 zł', '990 000 zł', '548 000 zł', '1 590 000 zł', '665 000 zł', '699 000 zł', '890 000 zł', '1 090 000 zł', '540 000 zł', '573 530 zł', '602 285 zł', '613 536 zł', '621 396 zł', '613 536 zł', '624 757 zł', '939 907 zł', '573 530 zł', '795 500 zł', '613 536 zł', '636 552 zł', '852 125 zł', '613 536 zł', '1 576 800 zł', '613 536 zł', '1 040 520 zł', '965 776 zł', '632 763 zł', '613 536 zł', '605 038 zł', '613 536 zł', '339 000 zł', '899 613 zł', '586 080 zł', '899 613 zł', '670 634 zł', '1 503 650 zł', '965 776 zł', '339 000 zł', '630 123 zł', '632 763 zł', '613 536 zł', '621 396 zł', '630 123 zł', '573 530 zł', '613 536 zł', '599 000 zł', '649 000 zł', '982 224 zł', '1 120 000 zł', '940 000 zł', '899 613 zł', '595 000 zł', '648 000 zł']\n",
      "60\n"
     ]
    }
   ],
   "source": [
    "import requests\n",
    "from bs4 import BeautifulSoup\n",
    "import pandas as pd\n",
    "import os\n",
    "\n",
    "url = \"https://sprzedajemy.pl/krakow/nieruchomosci/mieszkania?offset=0&items_per_page=60\"\n",
    "\n",
    "headers = {\n",
    "    \"User-Agent\": \"Mozilla/5.0 (Windows NT 10.0; Win64; x64) AppleWebKit/537.36 (KHTML, like Gecko) Chrome/58.0.3029.110 Safari/537.36\",\n",
    "    \"Accept\": \"text/html,application/xhtml+xml,application/xml;q=0.9,image/webp,image/apng,*/*;q=0.8\",\n",
    "    \"Accept-Encoding\": \"gzip, deflate, br\",\n",
    "    \"Accept-Language\": \"en-US,en;q=0.9,pl;q=0.8\",\n",
    "    \"Connection\": \"keep-alive\"\n",
    "}\n",
    "\n",
    "response = requests.get(url, headers=headers)\n",
    "response = requests.get(url, headers=headers)\n",
    "\n",
    "# Debugowanie odpowiedzi\n",
    "print(f\"Status Code: {response.status_code}\")\n",
    "print(f\"Response Headers: {response.headers}\")\n",
    "print(f\"Response Text (first 2000 chars): {response.text[:2000]}\")\n",
    "\n",
    "# Jeśli odpowiedź jest poprawna, wykonaj webscraping\n",
    "if response.status_code == 200:\n",
    "    soup = BeautifulSoup(response.content, \"html.parser\")\n",
    "\n",
    "    # Pobieranie ofert mieszkań\n",
    "    titles = [h2.a.text.strip() for h2 in soup.find_all(\"h2\", class_=\"title\") if h2.a]\n",
    "    prices = [p.text.replace(\"\\xa0\", \" \").strip() for p in soup.find_all(\"span\", class_=\"price\")]\n",
    "\n",
    "    print(\"Titles:\", titles)\n",
    "    print(len(titles))\n",
    "    print(\"Prices:\", prices)\n",
    "    print(len(prices))\n",
    "\n",
    "    df = pd.DataFrame({\"Title\": titles, \"Price\": prices})\n",
    "\n",
    "    # Dopisanie do pliku CSV\n",
    "    df.to_csv(\"scraped_data.csv\", mode='a', header=not os.path.exists('scraped_data.csv'), index=False)\n",
    "else:\n",
    "    print(\"Failed to retrieve data.\")\n"
   ]
  }
 ],
 "metadata": {
  "colab": {
   "provenance": []
  },
  "kernelspec": {
   "display_name": "Python 3",
   "name": "python3"
  },
  "language_info": {
   "codemirror_mode": {
    "name": "ipython",
    "version": 3
   },
   "file_extension": ".py",
   "mimetype": "text/x-python",
   "name": "python",
   "nbconvert_exporter": "python",
   "pygments_lexer": "ipython3",
   "version": "3.9.22"
  },
  "papermill": {
   "default_parameters": {},
   "duration": 3.246367,
   "end_time": "2025-04-18T22:32:56.330686",
   "environment_variables": {},
   "exception": null,
   "input_path": "nb.ipynb",
   "output_path": "nbo.ipynb",
   "parameters": {},
   "start_time": "2025-04-18T22:32:53.084319",
   "version": "2.6.0"
  }
 },
 "nbformat": 4,
 "nbformat_minor": 5
}