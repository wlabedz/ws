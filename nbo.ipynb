{
 "cells": [
  {
   "cell_type": "code",
   "execution_count": 1,
   "id": "f93e4634",
   "metadata": {
    "colab": {
     "base_uri": "https://localhost:8080/"
    },
    "execution": {
     "iopub.execute_input": "2025-10-03T15:51:23.316767Z",
     "iopub.status.busy": "2025-10-03T15:51:23.316495Z",
     "iopub.status.idle": "2025-10-03T15:51:26.095882Z",
     "shell.execute_reply": "2025-10-03T15:51:26.095293Z"
    },
    "id": "5pYh4c8j1w43",
    "outputId": "8a0dca73-64e5-4f0d-c493-2c5b38392363",
    "papermill": {
     "duration": 2.783183,
     "end_time": "2025-10-03T15:51:26.097070",
     "exception": false,
     "start_time": "2025-10-03T15:51:23.313887",
     "status": "completed"
    },
    "tags": []
   },
   "outputs": [
    {
     "name": "stdout",
     "output_type": "stream",
     "text": [
      "Status Code: 200\n",
      "Response Headers: {'Server': 'nginx', 'Date': 'Fri, 03 Oct 2025 15:51:25 GMT', 'Content-Type': 'text/html; charset=UTF-8', 'Transfer-Encoding': 'chunked', 'Vary': 'Accept-Encoding, User-Agent', 'Set-Cookie': 'FRSPSID=s67t3vtrdvhvgmv039mfgcsi21; path=/; domain=.sprzedajemy.pl; secure; HttpOnly, _items_per_page__offer_list=60; expires=Sun, 02-Nov-2025 15:51:25 GMT; Max-Age=2592000; path=/; domain=.sprzedajemy.pl; secure; httponly, observed_id=90375339068dff0fd91c834127241581951161961; expires=Wed, 03-Oct-2125 16:51:25 GMT; Max-Age=3155677200; path=/; domain=.sprzedajemy.pl; secure; httponly', 'Expires': 'Thu, 19 Nov 1981 08:52:00 GMT', 'Cache-Control': 'no-store, no-cache, must-revalidate, post-check=0, pre-check=0', 'Pragma': 'no-cache', 'Content-Encoding': 'gzip'}\n",
      "Response Text (first 2000 chars): <!DOCTYPE html><html xmlns=\"http://www.w3.org/1999/xhtml\" xml:lang=\"pl\" lang=\"pl\" class=\"no-js\" >\n",
      "<head>\n",
      "\t\t\t<!-- Google Tag Manager -->\n",
      "\t\t\t<script>(function(w,d,s,l,i){w[l]=w[l]||[];w[l].push({'gtm.start':\n",
      "\t\t\t\t\t\tnew Date().getTime(),event:'gtm.js'});var f=d.getElementsByTagName(s)[0],\n",
      "\t\t\t\t\tj=d.createElement(s),dl=l!='dataLayer'?'&l='+l:'';j.async=true;j.src=\n",
      "\t\t\t\t\t'https://www.googletagmanager.com/gtm.js?id='+i+dl\n",
      "\t\t\t\t\t\t\t\t\t    ;f.parentNode.insertBefore(j,f);\n",
      "\t\t\t\t    })(window,document,'script','dataLayer','GTM-P3S238');</script>\n",
      "\t\t\t<!-- End Google Tag Manager -->\n",
      "\t<title>Mieszkania Kraków na sprzedaż, wynajem - Sprzedajemy.pl</title><meta http-equiv=\"Content-Type\" content=\"text/html; charset=UTF-8\" >\n",
      "<meta http-equiv=\"X-UA-Compatible\" content=\"IE=edge\" >\n",
      "<meta name=\"description\" content=\"Ogłoszenia o tematyce:  w kategorii Mieszkania - Kupuj i sprzedawaj rzeczy używane i nowe w kategorii Mieszkania na Sprzedajemy.pl\" >\n",
      "<meta property=\"og:title\" content=\"Mieszkania Kraków na sprzedaż, wynajem - Sprzedajemy.pl\" >\n",
      "<meta property=\"og:type\" content=\"website\" >\n",
      "<meta property=\"og:image\" content=\"https://thumbs.img-sprzedajemy.pl/facebook/sprzedajemy.pl.png\" >\n",
      "<meta property=\"og:image:width\" content=\"200\" >\n",
      "<meta property=\"og:image:height\" content=\"200\" >\n",
      "<meta property=\"og:url\" content=\"https://sprzedajemy.pl/krakow/nieruchomosci/mieszkania\" >\n",
      "<meta property=\"og:site_name\" content=\"Sprzedajemy.pl\" >\n",
      "<meta property=\"fb:app_id\" content=\"173258269367442\" >\n",
      "<meta property=\"og:description\" content=\"Ogłoszenia o tematyce:  w kategorii Mieszkania - Kupuj i sprzedawaj rzeczy używane i nowe w kategorii Mieszkania na Sprzedajemy.pl\" >\n",
      "<meta name=\"robots\" content=\"noindex, follow\" >\t\t<script  async=\"async\" src=\"https://static.criteo.net/js/ld/publishertag.js\"></script>\n",
      "        <script  async=\"async\" src=\"https://ap.lijit.com/www/sovrn_beacon_standalone/sovrn_standalone_beacon.js?iid=13417409&amp;uid=sprzedajemy\" id=\"sBeacon\"></script>\n",
      "\t\t<script  async=\"async\" src=\"https://securepuba\n",
      "Titles: ['Sprzedam dwupokojowe mieszkanie os. Dywizjonu 303, 19C Kraków', 'Mieszkanie Wzgórza Krzesławickie bez prowizji.', 'Kraków – Bieńczyce, os. Kazimierzowskie', 'Mieszkanie z widokiem na góry', 'Podedworze 13', 'Mieszkanie 3-pokojowe Zakrzówek Ruczaj wynajem na 9 miesięcy', 'Wyjątkowy lokal przy ul. Krowoderskiej z widokiem na stronę ogrodową', 'Dwa pokoje - stare miasto - Do wejścia - Własność', 'Kraków, Stare Miasto sprzedaż/zamiana', 'Sprzedam mieszkanie 37.64m2 2 pokoje Kraków', 'Mieszkanie do sprzedania 46.46 metrów 2-pok Kraków', 'Mieszkanie Kraków 64.74m2 4 pokoje', 'Mieszkanie do sprzedania Kraków Pękowicka 63.11m2 4 pok', 'Mieszkanie 52.15 metrów 3 pok Kraków Pękowicka', 'Mieszkanie 59.85m 3 pokojowe Kraków', 'Mieszkanie Kraków Piasta Kołodzieja 71.2m2 4-pokojowe', 'Mieszkanie 71.45m2 4 pokoje Kraków Piasta Kołodzieja', 'Sprzedaż mieszkania 42.3m2 Kraków', 'Oferta sprzedaży mieszkania Kraków 30.2m2 1 pokój', 'Oferta sprzedaży mieszkania Kraków Jana Kantego Federowicza 48.6m 3 pokoje', 'Oferta sprzedaży mieszkania Kraków 62.19m2 3 pokojowe', 'Mieszkanie Kraków 63.83m2 4-pokojowe', 'Mieszkanie 42.8m2 2-pokojowe Kraków Macieja Słomczyńskiego', 'Mieszkanie Kraków 35.45m2 2 pokoje', 'Mieszkanie 70m2 3-pokojowe Kraków Chełmońskiego', 'Mieszkanie Kraków Pękowicka 27.42 metry 1 pokojowe', 'Mieszkanie Kraków 38.19m2 2 pokoje', 'Ogłoszenie mieszkanie Kraków 70.36m2 3-pokojowe', 'Mieszkanie Kraków Babińskiego 70.88m2 3 pokoje', 'Mieszkanie 50.23m2 3 pokojowe Kraków Piasta Kołodzieja', 'Mieszkanie sprzedam 44.25m2 2-pok Kraków Wadowicka', 'Oferta sprzedaży mieszkania Kraków Babińskiego 70.88m2 3-pokojowe', 'Mieszkanie Kraków 36.09m2 2 pok', 'Mieszkanie 59.31m2 4 pokoje Kraków', 'Mieszkanie Kraków Pękowicka 38.08m2 2 pokoje', 'Mieszkanie do sprzedania 65.46m2 3-pok Kraków Wadowicka', 'Mieszkanie Kraków 29 listopada - okolice 35.26m2 2 pok', 'Sprzedam mieszkanie 43.35m2 2 pokoje Kraków', 'Mieszkanie 46.32 metry 2 pokojowe Kraków', 'Do sprzedaży mieszkanie Kraków 74.74m2 3 pokojowe', 'Ogłoszenie mieszkanie 39.88m2 2 pokoje Kraków', 'Mieszkanie 65.16m2 4 pokoje Kraków', 'Oferta sprzedaży mieszkania Kraków Pękowicka 37.75m2 2-pok', 'Oferta sprzedaży mieszkania Kraków Na Błonie 38.1m2', 'Sprzedam mieszkanie 64.42m2 3-pokojowe Kraków', 'Oferta sprzedaży mieszkania Kraków 38.52m2 2-pok', 'Mieszkanie Kraków 44.28m2 2-pokojowe', 'Mieszkanie Kraków Na Błonie 81.85m2', 'Mieszkanie Kraków 26.11m2 1-pok', 'Mieszkanie do sprzedania 33.87m2 2 pokojowe Kraków Pękowicka', 'Mieszkanie 45.02 metry 2 pokoje Kraków Śliczna', 'Oferta sprzedaży mieszkania Kraków Babińskiego 31.74m2 1-pok', 'Oferta sprzedaży mieszkania Kraków 35.06m2 2 pokoje', 'Mieszkanie sprzedam Kraków Na Błonie 58.53m2 3 pokoje', 'Mieszkanie Kraków 29 listopada - okolice 35.26m2 2 pokoje', 'Sprzedaż mieszkania 60.38m2 3-pokojowe Kraków Babińskiego', 'Mieszkanie Kraków Pękowicka 41.33m2 2 pokojowe', 'Mieszkanie Kraków 50.64m2 3-pok', 'Oferta sprzedaży mieszkania 66.75m 4 pokoje Kraków', 'Mieszkanie Kraków 35.02m2 2 pokojowe']\n",
      "60\n",
      "Prices: ['620 000 zł', '719 000 zł', '579 000 zł', '265 000 zł', '542 000 zł', '3 100 zł', '1 340 000 zł', '715 155 zł', '2 015 000 zł', '656 818 zł', '854 864 zł', '1 045 551 zł', '1 094 958 zł', '852 652 zł', '987 525 zł', '904 240 zł', '907 415 zł', '706 410 zł', '785 200 zł', '890 000 zł', '885 586 zł', '1 034 046 zł', '684 000 zł', '633 157 zł', '3 900 zł', '478 479 zł', '656 868 zł', '1 150 000 zł', '1 268 752 zł', '718 289 zł', '743 400 zł', '1 219 136 zł', '479 997 zł', '859 995 zł', '641 648 zł', '1 112 820 zł', '672 315 zł', '758 625 zł', '847 656 zł', '1 240 684 zł', '675 966 zł', '879 660 zł', '658 737 zł', '762 533 zł', '1 114 466 zł', '737 624 zł', '677 484 zł', '1 407 410 zł', '453 008 zł', '580 870 zł', '839 520 zł', '615 756 zł', '725 400 zł', '1 084 619 zł', '657 206 zł', '1 080 802 zł', '698 477 zł', '843 156 zł', '895 000 zł', '600 593 zł']\n",
      "60\n"
     ]
    }
   ],
   "source": [
    "import requests\n",
    "from bs4 import BeautifulSoup\n",
    "import pandas as pd\n",
    "import os\n",
    "\n",
    "url = \"https://sprzedajemy.pl/krakow/nieruchomosci/mieszkania?offset=0&items_per_page=60\"\n",
    "\n",
    "headers = {\n",
    "    \"User-Agent\": \"Mozilla/5.0 (Windows NT 10.0; Win64; x64) AppleWebKit/537.36 (KHTML, like Gecko) Chrome/58.0.3029.110 Safari/537.36\",\n",
    "    \"Accept\": \"text/html,application/xhtml+xml,application/xml;q=0.9,image/webp,image/apng,*/*;q=0.8\",\n",
    "    \"Accept-Encoding\": \"gzip, deflate, br\",\n",
    "    \"Accept-Language\": \"en-US,en;q=0.9,pl;q=0.8\",\n",
    "    \"Connection\": \"keep-alive\"\n",
    "}\n",
    "\n",
    "response = requests.get(url, headers=headers)\n",
    "response = requests.get(url, headers=headers)\n",
    "\n",
    "# Debugowanie odpowiedzi\n",
    "print(f\"Status Code: {response.status_code}\")\n",
    "print(f\"Response Headers: {response.headers}\")\n",
    "print(f\"Response Text (first 2000 chars): {response.text[:2000]}\")\n",
    "\n",
    "# Jeśli odpowiedź jest poprawna, wykonaj webscraping\n",
    "if response.status_code == 200:\n",
    "    soup = BeautifulSoup(response.content, \"html.parser\")\n",
    "\n",
    "    # Pobieranie ofert mieszkań\n",
    "    titles = [h2.a.text.strip() for h2 in soup.find_all(\"h2\", class_=\"title\") if h2.a]\n",
    "    prices = [p.text.replace(\"\\xa0\", \" \").strip() for p in soup.find_all(\"span\", class_=\"price\")]\n",
    "\n",
    "    print(\"Titles:\", titles)\n",
    "    print(len(titles))\n",
    "    print(\"Prices:\", prices)\n",
    "    print(len(prices))\n",
    "\n",
    "    df = pd.DataFrame({\"Title\": titles, \"Price\": prices})\n",
    "\n",
    "    # Dopisanie do pliku CSV\n",
    "    df.to_csv(\"scraped_data.csv\", mode='a', header=not os.path.exists('scraped_data.csv'), index=False)\n",
    "else:\n",
    "    print(\"Failed to retrieve data.\")\n"
   ]
  }
 ],
 "metadata": {
  "colab": {
   "provenance": []
  },
  "kernelspec": {
   "display_name": "Python 3",
   "name": "python3"
  },
  "language_info": {
   "codemirror_mode": {
    "name": "ipython",
    "version": 3
   },
   "file_extension": ".py",
   "mimetype": "text/x-python",
   "name": "python",
   "nbconvert_exporter": "python",
   "pygments_lexer": "ipython3",
   "version": "3.9.23"
  },
  "papermill": {
   "default_parameters": {},
   "duration": 3.990212,
   "end_time": "2025-10-03T15:51:26.414704",
   "environment_variables": {},
   "exception": null,
   "input_path": "nb.ipynb",
   "output_path": "nbo.ipynb",
   "parameters": {},
   "start_time": "2025-10-03T15:51:22.424492",
   "version": "2.6.0"
  }
 },
 "nbformat": 4,
 "nbformat_minor": 5
}