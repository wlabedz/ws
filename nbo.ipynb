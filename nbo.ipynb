{
 "cells": [
  {
   "cell_type": "code",
   "execution_count": 1,
   "id": "191b4855",
   "metadata": {
    "colab": {
     "base_uri": "https://localhost:8080/"
    },
    "execution": {
     "iopub.execute_input": "2025-06-01T20:43:38.563873Z",
     "iopub.status.busy": "2025-06-01T20:43:38.563628Z",
     "iopub.status.idle": "2025-06-01T20:43:40.605113Z",
     "shell.execute_reply": "2025-06-01T20:43:40.604403Z"
    },
    "id": "5pYh4c8j1w43",
    "outputId": "8a0dca73-64e5-4f0d-c493-2c5b38392363",
    "papermill": {
     "duration": 2.045075,
     "end_time": "2025-06-01T20:43:40.606214",
     "exception": false,
     "start_time": "2025-06-01T20:43:38.561139",
     "status": "completed"
    },
    "tags": []
   },
   "outputs": [
    {
     "name": "stdout",
     "output_type": "stream",
     "text": [
      "Status Code: 200\n",
      "Response Headers: {'Server': 'nginx', 'Date': 'Sun, 01 Jun 2025 20:43:40 GMT', 'Content-Type': 'text/html; charset=UTF-8', 'Transfer-Encoding': 'chunked', 'Vary': 'Accept-Encoding, User-Agent', 'Set-Cookie': 'FRSPSID=c7tes0tets13qo4o5srffi6uv1; path=/; domain=.sprzedajemy.pl; secure; HttpOnly, _items_per_page__offer_list=60; expires=Tue, 01-Jul-2025 20:43:40 GMT; Max-Age=2592000; path=/; domain=.sprzedajemy.pl; secure; httponly, observed_id=2115189112683cbb7c355eb5214585052426445282; expires=Fri, 01-Jun-2125 21:43:40 GMT; Max-Age=3155677200; path=/; domain=.sprzedajemy.pl; secure; httponly', 'Expires': 'Thu, 19 Nov 1981 08:52:00 GMT', 'Cache-Control': 'no-store, no-cache, must-revalidate, post-check=0, pre-check=0', 'Pragma': 'no-cache', 'Content-Encoding': 'gzip'}\n",
      "Response Text (first 2000 chars): <!DOCTYPE html><html xmlns=\"http://www.w3.org/1999/xhtml\" xml:lang=\"pl\" lang=\"pl\" class=\"no-js\" >\n",
      "<head>\n",
      "\t\t\t<!-- Google Tag Manager -->\n",
      "\t\t\t<script>(function(w,d,s,l,i){w[l]=w[l]||[];w[l].push({'gtm.start':\n",
      "\t\t\t\t\t\tnew Date().getTime(),event:'gtm.js'});var f=d.getElementsByTagName(s)[0],\n",
      "\t\t\t\t\tj=d.createElement(s),dl=l!='dataLayer'?'&l='+l:'';j.async=true;j.src=\n",
      "\t\t\t\t\t'https://www.googletagmanager.com/gtm.js?id='+i+dl\n",
      "\t\t\t\t\t\t\t\t\t    ;f.parentNode.insertBefore(j,f);\n",
      "\t\t\t\t    })(window,document,'script','dataLayer','GTM-P3S238');</script>\n",
      "\t\t\t<!-- End Google Tag Manager -->\n",
      "\t<title>Mieszkania Kraków na sprzedaż, wynajem - Sprzedajemy.pl</title><meta http-equiv=\"Content-Type\" content=\"text/html; charset=UTF-8\" >\n",
      "<meta http-equiv=\"X-UA-Compatible\" content=\"IE=edge\" >\n",
      "<meta name=\"description\" content=\"Ogłoszenia o tematyce:  w kategorii Mieszkania - Kupuj i sprzedawaj rzeczy używane i nowe w kategorii Mieszkania na Sprzedajemy.pl\" >\n",
      "<meta property=\"og:title\" content=\"Mieszkania Kraków na sprzedaż, wynajem - Sprzedajemy.pl\" >\n",
      "<meta property=\"og:type\" content=\"website\" >\n",
      "<meta property=\"og:image\" content=\"https://thumbs.img-sprzedajemy.pl/facebook/sprzedajemy.pl.png\" >\n",
      "<meta property=\"og:image:width\" content=\"200\" >\n",
      "<meta property=\"og:image:height\" content=\"200\" >\n",
      "<meta property=\"og:url\" content=\"https://sprzedajemy.pl/krakow/nieruchomosci/mieszkania\" >\n",
      "<meta property=\"og:site_name\" content=\"Sprzedajemy.pl\" >\n",
      "<meta property=\"fb:app_id\" content=\"173258269367442\" >\n",
      "<meta property=\"og:description\" content=\"Ogłoszenia o tematyce:  w kategorii Mieszkania - Kupuj i sprzedawaj rzeczy używane i nowe w kategorii Mieszkania na Sprzedajemy.pl\" >\n",
      "<meta name=\"robots\" content=\"noindex, follow\" >\t\t<script  async=\"async\" src=\"https://static.criteo.net/js/ld/publishertag.js\"></script>\n",
      "        <script  async=\"async\" src=\"https://ap.lijit.com/www/sovrn_beacon_standalone/sovrn_standalone_beacon.js?iid=13417409&amp;uid=sprzedajemy\" id=\"sBeacon\"></script>\n",
      "\t\t<script  async=\"async\" src=\"https://securepuba\n",
      "Titles: ['2 lub 3 pokoje,62m2,balkon, Widok na Wawel', 'Mieszkanie 56.89m2 2 pokoje Kraków', 'Kraków Bronowice Stawowa 168 / 60m2 3 POK/ 22,5 m2 taras/ BEZ POŚREDNIKÓW', 'Nowe mieszkanie na sprzedaż 2-pokoje 38,6 m2 | Krowodrza - Kraków', 'Mieszkanie 4-pokoje Kraków - wolne od 1 Lipca 2025 r.', '2 pok,oddzielna kuchnia,klima,parking, Wrocławska', 'Strych do adaptacji, Błonia, ul. Filarecka', 'Kraków, Stare Miasto sprzedaż/zamiana', 'Nowoczesny apartament z panoramicznym widokiem - od właściciela', 'Stylowy apartament z widokiem na panoramę Krakowa - od właściciela', 'Wyjątkowe mieszkanie z widokiem na klasztor w Tyńcu i panoramę Tatr', 'Mieszkanie na sprzedaż bez pośrednika', 'Bezpośrednio sprzedam mieszkanie Kraków ul. Batorego', 'Mieszkanie Kraków 95.24m 2 pokoje', 'Mieszkanie Kraków Wita Stwosza 18.63m2 1 pokojowe', 'Mieszkanie 16.03m2 Kraków', 'Oferta sprzedaży mieszkania 120.73m2 4-pokojowe Kraków Reduta', 'Oferta sprzedaży mieszkania Kraków 21.71m2 1-pok', 'Oferta sprzedaży mieszkania Kraków Dąbska 37m2 2-pokojowe', 'Sprzedam mieszkanie 137.1m2 5-pok Kraków Reduta', 'Mieszkanie Kraków 16.03m2 1 pokój', 'Mieszkanie Kraków Kluczborska 47.12m2 2 pok', 'Mieszkanie Kraków Wita Stwosza 18.04m2 1 pokojowe', 'Sprzedaż mieszkania 77.03m2 3 pokojowe Kraków', 'Mieszkanie Kraków 77.04m 3 pokojowe', 'Mieszkanie Kraków 74.79 metrów 4-pok', 'Mieszkanie 89.93 metry Kraków Reduta', 'Ogłoszenie mieszkanie Kraków Wita Stwosza 17.24m2 1 pokojowe', 'Mieszkanie sprzedam 92.18m2 4-pokojowe Kraków os. Piastów', 'Mieszkanie Kraków Kraszewskiego 114m2 4 pokojowe', 'Mieszkanie 16.56m2 1 pokojowe Kraków Wita Stwosza', 'Mieszkanie na sprzedaż Kraków 18.63 metrów', 'Mieszkanie 18.04m2 1 pokój Kraków Wita Stwosza', 'Mieszkanie 77.27m2 3-pok Kraków Reduta', 'Mieszkanie 137.1m2 5-pokojowe Kraków', 'Mieszkanie 89.93m2 Kraków', 'Ogłoszenie mieszkanie 16.56m2 1-pokojowe Kraków Wita Stwosza', 'Mieszkanie na sprzedaż/zamiana 39m2', 'Sprzedam mieszkanie Kraków Przewóz - okolice 65.61m2 3 pokojowe', 'Mieszkanie Kraków 45.55m2 2 pokojowe', 'Mieszkanie 57.25m2 2 pokoje Kraków Reduta', 'Mieszkanie Kraków Bałuckiego 63.9m2 3-pok', 'Oferta sprzedaży mieszkania 74.36m2 4 pokoje Kraków', 'Sprzedaż mieszkania Kraków Reduta 74.96m2', 'Ogłoszenie mieszkanie 17.24m2 Kraków Wita Stwosza', 'Mieszkanie Kraków Wita Stwosza 18.63m2 1 pokój', 'Sprzedam mieszkanie 74.33m2 4 pokojowe Kraków Reduta', 'Sprzedam mieszkanie bez pośredników', 'Mieszkanie Kraków 17.51m2 1-pok', 'Oferta sprzedaży mieszkania Kraków Reduta 90.17m2 3-pok', 'Oferta sprzedaży mieszkania 66.52 metry 3 pokoje Kraków Przewóz - okolice', 'Mieszkanie Kraków 74.3m2', 'Mieszkanie Kraków 90.62m2 4-pok', 'Sprzedam mieszkanie Kraków 16.52m2', 'Mieszkanie Kraków Bałuckiego 47.79 metrów 2 pokoje', 'Mieszkanie Kraków 21.62m2 1 pokój', 'Mieszkanie 63.9m2 3 pokoje Kraków Bałuckiego', 'Srzedam mieszkanie, 50m3 Kraków, Bez pośredników', 'Do sprzedaży mieszkanie 53.4m2 Kraków', 'Mieszkanie do wynajęcia jednopokojowe 36m']\n",
      "60\n",
      "Prices: ['1 490 000 zł', '950 000 zł', '1 137 500 zł', '799 000 zł', '4 800 zł', '3 200 zł', '379 999 zł', '2 243 000 zł', '997 000 zł', '897 000 zł', '790 000 zł', '723 000 zł', '1 650 000 zł', '3 500 zł', '405 202 zł', '356 667 zł', '2 049 180 zł', '417 917 zł', '661 000 zł', '2 368 370 zł', '372 697 zł', '3 300 zł', '468 750 zł', '1 600 000 zł', '1 329 332 zł', '1 157 385 zł', '1 305 725 zł', '383 590 zł', '940 236 zł', '1 799 000 zł', '376 740 zł', '409 860 zł', '419 430 zł', '1 334 176 zł', '2 368 370 zł', '1 305 725 zł', '368 460 zł', '548 000 zł', '726 791 zł', '765 240 zł', '859 800 zł', '1 200 000 zł', '803 757 zł', '1 156 920 zł', '392 210 zł', '428 490 zł', '1 128 600 zł', '655 000 zł', '407 107 zł', '1 308 625 zł', '731 622 zł', '810 761 zł', '924 120 zł', '351 050 zł', '1 050 000 zł', '410 780 zł', '1 200 000 zł', '745 000 zł', '472 590 zł', '2 000 zł']\n",
      "60\n"
     ]
    }
   ],
   "source": [
    "import requests\n",
    "from bs4 import BeautifulSoup\n",
    "import pandas as pd\n",
    "import os\n",
    "\n",
    "url = \"https://sprzedajemy.pl/krakow/nieruchomosci/mieszkania?offset=0&items_per_page=60\"\n",
    "\n",
    "headers = {\n",
    "    \"User-Agent\": \"Mozilla/5.0 (Windows NT 10.0; Win64; x64) AppleWebKit/537.36 (KHTML, like Gecko) Chrome/58.0.3029.110 Safari/537.36\",\n",
    "    \"Accept\": \"text/html,application/xhtml+xml,application/xml;q=0.9,image/webp,image/apng,*/*;q=0.8\",\n",
    "    \"Accept-Encoding\": \"gzip, deflate, br\",\n",
    "    \"Accept-Language\": \"en-US,en;q=0.9,pl;q=0.8\",\n",
    "    \"Connection\": \"keep-alive\"\n",
    "}\n",
    "\n",
    "response = requests.get(url, headers=headers)\n",
    "response = requests.get(url, headers=headers)\n",
    "\n",
    "# Debugowanie odpowiedzi\n",
    "print(f\"Status Code: {response.status_code}\")\n",
    "print(f\"Response Headers: {response.headers}\")\n",
    "print(f\"Response Text (first 2000 chars): {response.text[:2000]}\")\n",
    "\n",
    "# Jeśli odpowiedź jest poprawna, wykonaj webscraping\n",
    "if response.status_code == 200:\n",
    "    soup = BeautifulSoup(response.content, \"html.parser\")\n",
    "\n",
    "    # Pobieranie ofert mieszkań\n",
    "    titles = [h2.a.text.strip() for h2 in soup.find_all(\"h2\", class_=\"title\") if h2.a]\n",
    "    prices = [p.text.replace(\"\\xa0\", \" \").strip() for p in soup.find_all(\"span\", class_=\"price\")]\n",
    "\n",
    "    print(\"Titles:\", titles)\n",
    "    print(len(titles))\n",
    "    print(\"Prices:\", prices)\n",
    "    print(len(prices))\n",
    "\n",
    "    df = pd.DataFrame({\"Title\": titles, \"Price\": prices})\n",
    "\n",
    "    # Dopisanie do pliku CSV\n",
    "    df.to_csv(\"scraped_data.csv\", mode='a', header=not os.path.exists('scraped_data.csv'), index=False)\n",
    "else:\n",
    "    print(\"Failed to retrieve data.\")\n"
   ]
  }
 ],
 "metadata": {
  "colab": {
   "provenance": []
  },
  "kernelspec": {
   "display_name": "Python 3",
   "name": "python3"
  },
  "language_info": {
   "codemirror_mode": {
    "name": "ipython",
    "version": 3
   },
   "file_extension": ".py",
   "mimetype": "text/x-python",
   "name": "python",
   "nbconvert_exporter": "python",
   "pygments_lexer": "ipython3",
   "version": "3.9.22"
  },
  "papermill": {
   "default_parameters": {},
   "duration": 3.1737,
   "end_time": "2025-06-01T20:43:40.823672",
   "environment_variables": {},
   "exception": null,
   "input_path": "nb.ipynb",
   "output_path": "nbo.ipynb",
   "parameters": {},
   "start_time": "2025-06-01T20:43:37.649972",
   "version": "2.6.0"
  }
 },
 "nbformat": 4,
 "nbformat_minor": 5
}