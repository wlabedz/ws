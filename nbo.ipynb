{
 "cells": [
  {
   "cell_type": "code",
   "execution_count": 1,
   "id": "3c664468",
   "metadata": {
    "colab": {
     "base_uri": "https://localhost:8080/"
    },
    "execution": {
     "iopub.execute_input": "2025-10-23T23:39:53.085845Z",
     "iopub.status.busy": "2025-10-23T23:39:53.085584Z",
     "iopub.status.idle": "2025-10-23T23:39:55.231871Z",
     "shell.execute_reply": "2025-10-23T23:39:55.231124Z"
    },
    "id": "5pYh4c8j1w43",
    "outputId": "8a0dca73-64e5-4f0d-c493-2c5b38392363",
    "papermill": {
     "duration": 2.149922,
     "end_time": "2025-10-23T23:39:55.233082",
     "exception": false,
     "start_time": "2025-10-23T23:39:53.083160",
     "status": "completed"
    },
    "tags": []
   },
   "outputs": [
    {
     "name": "stdout",
     "output_type": "stream",
     "text": [
      "Status Code: 200\n",
      "Response Headers: {'Server': 'nginx', 'Date': 'Thu, 23 Oct 2025 23:39:54 GMT', 'Content-Type': 'text/html; charset=UTF-8', 'Transfer-Encoding': 'chunked', 'Vary': 'Accept-Encoding, User-Agent', 'Set-Cookie': 'FRSPSID=ir1fdjibuces57kg59mfhb7ie5; path=/; domain=.sprzedajemy.pl; secure; HttpOnly, _items_per_page__offer_list=60; expires=Sat, 22-Nov-2025 23:39:54 GMT; Max-Age=2592000; path=/; domain=.sprzedajemy.pl; secure; httponly, observed_id=78767535868fabccace2828124726388421928258; expires=Wed, 24-Oct-2125 00:39:54 GMT; Max-Age=3155677200; path=/; domain=.sprzedajemy.pl; secure; httponly', 'Expires': 'Thu, 19 Nov 1981 08:52:00 GMT', 'Cache-Control': 'no-store, no-cache, must-revalidate, post-check=0, pre-check=0', 'Pragma': 'no-cache', 'Content-Encoding': 'gzip'}\n",
      "Response Text (first 2000 chars): <!DOCTYPE html><html xmlns=\"http://www.w3.org/1999/xhtml\" xml:lang=\"pl\" lang=\"pl\" class=\"no-js\" >\n",
      "<head>\n",
      "\t\t\t<!-- Google Tag Manager -->\n",
      "\t\t\t<script>(function(w,d,s,l,i){w[l]=w[l]||[];w[l].push({'gtm.start':\n",
      "\t\t\t\t\t\tnew Date().getTime(),event:'gtm.js'});var f=d.getElementsByTagName(s)[0],\n",
      "\t\t\t\t\tj=d.createElement(s),dl=l!='dataLayer'?'&l='+l:'';j.async=true;j.src=\n",
      "\t\t\t\t\t'https://www.googletagmanager.com/gtm.js?id='+i+dl\n",
      "\t\t\t\t\t\t\t\t\t    ;f.parentNode.insertBefore(j,f);\n",
      "\t\t\t\t    })(window,document,'script','dataLayer','GTM-P3S238');</script>\n",
      "\t\t\t<!-- End Google Tag Manager -->\n",
      "\t<title>Mieszkania Kraków na sprzedaż, wynajem - Sprzedajemy.pl</title><meta http-equiv=\"Content-Type\" content=\"text/html; charset=UTF-8\" >\n",
      "<meta http-equiv=\"X-UA-Compatible\" content=\"IE=edge\" >\n",
      "<meta name=\"description\" content=\"Ogłoszenia o tematyce:  w kategorii Mieszkania - Kupuj i sprzedawaj rzeczy używane i nowe w kategorii Mieszkania na Sprzedajemy.pl\" >\n",
      "<meta property=\"og:title\" content=\"Mieszkania Kraków na sprzedaż, wynajem - Sprzedajemy.pl\" >\n",
      "<meta property=\"og:type\" content=\"website\" >\n",
      "<meta property=\"og:image\" content=\"https://thumbs.img-sprzedajemy.pl/facebook/sprzedajemy.pl.png\" >\n",
      "<meta property=\"og:image:width\" content=\"200\" >\n",
      "<meta property=\"og:image:height\" content=\"200\" >\n",
      "<meta property=\"og:url\" content=\"https://sprzedajemy.pl/krakow/nieruchomosci/mieszkania\" >\n",
      "<meta property=\"og:site_name\" content=\"Sprzedajemy.pl\" >\n",
      "<meta property=\"fb:app_id\" content=\"173258269367442\" >\n",
      "<meta property=\"og:description\" content=\"Ogłoszenia o tematyce:  w kategorii Mieszkania - Kupuj i sprzedawaj rzeczy używane i nowe w kategorii Mieszkania na Sprzedajemy.pl\" >\n",
      "<meta name=\"robots\" content=\"noindex, follow\" >\t\t<script  async=\"async\" src=\"https://static.criteo.net/js/ld/publishertag.js\"></script>\n",
      "        <script  async=\"async\" src=\"https://ap.lijit.com/www/sovrn_beacon_standalone/sovrn_standalone_beacon.js?iid=13417409&amp;uid=sprzedajemy\" id=\"sBeacon\"></script>\n",
      "\t\t<script  async=\"async\" src=\"https://securepuba\n",
      "Titles: ['Mieszkanie Wzgórza Krzesławickie bez prowizji.', 'Sprzedam dwupokojowe mieszkanie (balkon, piwnica) os. Dywizjonu 303, 19C K…', 'Mieszkanie 3-pokojowe Zakrzówek Ruczaj ul. Pychowicka wynajem od właścicie…', 'Mieszkanie z widokiem na góry', 'Grzegorzki mieszkanie na sprzedaż 30 m', 'Mieszkanie Kraków 70m2 3-pokojowe', 'Mieszkanie Kraków 42.88m2 2 pok', 'Sprzedamy wyjątkowe mieszkanie na urokliwym osiedlu Kliny. :)', 'Mieszkanie 43.08m2 Kraków Wadowicka', 'Sprzedaż mieszkania Kraków 47.36 metrów 2-pokojowe', 'Mieszkanie Kraków 75.4m2 4 pok', 'Mieszkanie Kraków 42m2 2 pokoje', 'Mieszkanie Kraków Bonerowska 64m2 2-pokojowe', 'Mieszkanie Kraków 73.8m2 2 pokojowe', 'Mieszkanie 40 metrów 2-pok Kraków Naukowców', 'Mieszkanie sprzedam Kraków 49.49m 2 pokojowe', 'Mieszkanie Kraków 53m2 2 pokojowe', 'Mieszkanie Kraków 44m2 3 pokojowe', 'Mieszkanie 50m2 2 pokoje Kraków Heleny', 'Sprzedam mieszkanie Kraków 25.72m2 1-pokojowe', 'Ogłoszenie mieszkanie Kraków Lubostroń 36.91m2 2-pokojowe', 'Mieszkanie 49.37m2 3 pok Kraków Macieja Dębskiego', 'Sprzedam mieszkanie Kraków 48.24m2 2 pokojowe', 'Mieszkanie 45.78m 3 pokojowe Kraków Agatowa', 'Wynajem mieszkania Kraków Gabrieli Zapolskiej 55.05m2 2 pokojowe', 'Mieszkanie 45.89m 3-pokojowe Kraków Agatowa', 'Mieszkanie 74.03m2 3 pokoje Kraków Augustiańska', 'Mieszkanie Kraków 37m2 2 pokoje', 'Mieszkanie 39.35m2 2 pok Kraków', 'Sprzedam mieszkanie Kraków Skałeczna 26.07m2 1-pok', 'Mieszkanie na wynajem Kraków 49.8m2', 'Mieszkanie 48.25m2 3 pokoje Kraków', 'Mieszkanie sprzedam Kraków Drukarska 34m2 1 pokój', 'Mieszkanie Kraków Prądnicka 31.8m2 1 pokój', 'Oferta sprzedaży mieszkania 37.5m2 2 pokoje Kraków', 'Mieszkanie Kraków 37.35m2 2-pok', 'Mieszkanie sprzedam Kraków 25.5 metrów 1-pokojowe', 'Lokal z możliwością mieszkania – Zakrzówek', 'Oferta sprzedaży mieszkania 36m 2 pokoje Kraków', 'Mieszkanie 61.63m2 3-pokojowe Kraków Gryczana', 'Sprzedaż mieszkania 64.31 metrów 3 pokojowe Kraków Agatowa', 'Oferta sprzedaży mieszkania 50m2 Kraków prof. Michała Bobrzyńskiego', 'Mieszkanie 65m2 Kraków ul. Borkowska', 'Mieszkanie sprzedam Kraków Wandy 63.5m2 3 pok', 'Mieszkanie na wynajem Kraków 35m2 2 pokojowe', 'Oferta sprzedaży mieszkania 69.99m 3 pokoje Kraków Długa', 'Mieszkanie 74m2 3 pokoje Kraków dr. Jana Piltza', 'Sprzedaż mieszkania 30.19m2 1 pok Kraków Agatowa', 'Mieszkanie Kraków Przemiarki 48m2 3 pokoje', 'Mieszkanie Kraków 107m2 2 pokojowe', 'Mieszkanie Kraków Kalwaryjska 56.4m2 2 pokoje', 'Mieszkanie 54m2 2 pokoje Kraków', 'Oferta sprzedaży mieszkania Kraków Lubelska 51.36m2 3 pokojowe', 'Mieszkanie do wynajęcia 40m2 1-pokojowe Kraków', 'Mieszkanie 76.21m2 3 pokoje Kraków Armii Krajowej', 'Mieszkanie 51m2 2 pokoje Kraków', 'Oferta wynajmu mieszkania Kraków Górników 40.41 metrów 2 pokojowe', 'Oferta sprzedaży mieszkania Kraków 66m2 3 pokojowe', 'Pokój do wynajęcia Kurczaba po remoncie', 'Oferta sprzedaży mieszkania Kraków Aleja Kijowska 41.39m2 2 pokoje']\n",
      "60\n",
      "Prices: ['670 000 zł', '600 000 zł', '3 000 zł', '265 000 zł', '549 000 zł', '890 000 zł', '1 000 176 zł', '679 000 zł', '749 592 zł', '829 000 zł', '999 900 zł', '948 000 zł', '1 130 000 zł', '785 000 zł', '785 000 zł', '599 000 zł', '1 135 000 zł', '660 000 zł', '660 000 zł', '399 000 zł', '599 000 zł', '655 000 zł', '820 000 zł', '589 000 zł', '2 500 zł', '589 000 zł', '1 698 000 zł', '790 000 zł', '529 000 zł', '614 000 zł', '2 900 zł', '629 000 zł', '529 000 zł', '2 150 zł', '729 000 zł', '897 000 zł', '489 000 zł', '503 000 zł', '625 000 zł', '799 900 zł', '699 000 zł', '720 000 zł', '890 000 zł', '855 000 zł', '2 500 zł', '1 199 000 zł', '1 360 000 zł', '419 000 zł', '3 200 zł', '4 000 zł', '849 000 zł', '1 098 000 zł', '1 195 000 zł', '2 600 zł', '1 340 000 zł', '779 000 zł', '3 000 zł', '1 150 000 zł', '850 zł', '939 511 zł']\n",
      "60\n"
     ]
    }
   ],
   "source": [
    "import requests\n",
    "from bs4 import BeautifulSoup\n",
    "import pandas as pd\n",
    "import os\n",
    "\n",
    "url = \"https://sprzedajemy.pl/krakow/nieruchomosci/mieszkania?offset=0&items_per_page=60\"\n",
    "\n",
    "headers = {\n",
    "    \"User-Agent\": \"Mozilla/5.0 (Windows NT 10.0; Win64; x64) AppleWebKit/537.36 (KHTML, like Gecko) Chrome/58.0.3029.110 Safari/537.36\",\n",
    "    \"Accept\": \"text/html,application/xhtml+xml,application/xml;q=0.9,image/webp,image/apng,*/*;q=0.8\",\n",
    "    \"Accept-Encoding\": \"gzip, deflate, br\",\n",
    "    \"Accept-Language\": \"en-US,en;q=0.9,pl;q=0.8\",\n",
    "    \"Connection\": \"keep-alive\"\n",
    "}\n",
    "\n",
    "response = requests.get(url, headers=headers)\n",
    "response = requests.get(url, headers=headers)\n",
    "\n",
    "# Debugowanie odpowiedzi\n",
    "print(f\"Status Code: {response.status_code}\")\n",
    "print(f\"Response Headers: {response.headers}\")\n",
    "print(f\"Response Text (first 2000 chars): {response.text[:2000]}\")\n",
    "\n",
    "# Jeśli odpowiedź jest poprawna, wykonaj webscraping\n",
    "if response.status_code == 200:\n",
    "    soup = BeautifulSoup(response.content, \"html.parser\")\n",
    "\n",
    "    # Pobieranie ofert mieszkań\n",
    "    titles = [h2.a.text.strip() for h2 in soup.find_all(\"h2\", class_=\"title\") if h2.a]\n",
    "    prices = [p.text.replace(\"\\xa0\", \" \").strip() for p in soup.find_all(\"span\", class_=\"price\")]\n",
    "\n",
    "    print(\"Titles:\", titles)\n",
    "    print(len(titles))\n",
    "    print(\"Prices:\", prices)\n",
    "    print(len(prices))\n",
    "\n",
    "    df = pd.DataFrame({\"Title\": titles, \"Price\": prices})\n",
    "\n",
    "    # Dopisanie do pliku CSV\n",
    "    df.to_csv(\"scraped_data.csv\", mode='a', header=not os.path.exists('scraped_data.csv'), index=False)\n",
    "else:\n",
    "    print(\"Failed to retrieve data.\")\n"
   ]
  }
 ],
 "metadata": {
  "colab": {
   "provenance": []
  },
  "kernelspec": {
   "display_name": "Python 3",
   "name": "python3"
  },
  "language_info": {
   "codemirror_mode": {
    "name": "ipython",
    "version": 3
   },
   "file_extension": ".py",
   "mimetype": "text/x-python",
   "name": "python",
   "nbconvert_exporter": "python",
   "pygments_lexer": "ipython3",
   "version": "3.9.23"
  },
  "papermill": {
   "default_parameters": {},
   "duration": 3.375282,
   "end_time": "2025-10-23T23:39:55.449915",
   "environment_variables": {},
   "exception": null,
   "input_path": "nb.ipynb",
   "output_path": "nbo.ipynb",
   "parameters": {},
   "start_time": "2025-10-23T23:39:52.074633",
   "version": "2.6.0"
  }
 },
 "nbformat": 4,
 "nbformat_minor": 5
}