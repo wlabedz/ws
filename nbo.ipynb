{
 "cells": [
  {
   "cell_type": "code",
   "execution_count": 1,
   "id": "a9093deb",
   "metadata": {
    "colab": {
     "base_uri": "https://localhost:8080/"
    },
    "execution": {
     "iopub.execute_input": "2025-08-30T15:54:12.788770Z",
     "iopub.status.busy": "2025-08-30T15:54:12.788566Z",
     "iopub.status.idle": "2025-08-30T15:54:14.914628Z",
     "shell.execute_reply": "2025-08-30T15:54:14.913856Z"
    },
    "id": "5pYh4c8j1w43",
    "outputId": "8a0dca73-64e5-4f0d-c493-2c5b38392363",
    "papermill": {
     "duration": 2.129348,
     "end_time": "2025-08-30T15:54:14.915764",
     "exception": false,
     "start_time": "2025-08-30T15:54:12.786416",
     "status": "completed"
    },
    "tags": []
   },
   "outputs": [
    {
     "name": "stdout",
     "output_type": "stream",
     "text": [
      "Status Code: 200\n",
      "Response Headers: {'Server': 'nginx', 'Date': 'Sat, 30 Aug 2025 15:54:14 GMT', 'Content-Type': 'text/html; charset=UTF-8', 'Transfer-Encoding': 'chunked', 'Vary': 'Accept-Encoding, User-Agent', 'Set-Cookie': 'FRSPSID=ubgbqqbs9kcnsaaa1p4h67jba2; path=/; domain=.sprzedajemy.pl; secure; HttpOnly, _items_per_page__offer_list=60; expires=Mon, 29-Sep-2025 15:54:14 GMT; Max-Age=2592000; path=/; domain=.sprzedajemy.pl; secure; httponly, observed_id=150446719768b31ea67c5b0990707696734221994; expires=Thu, 30-Aug-2125 16:54:14 GMT; Max-Age=3155677200; path=/; domain=.sprzedajemy.pl; secure; httponly', 'Expires': 'Thu, 19 Nov 1981 08:52:00 GMT', 'Cache-Control': 'no-store, no-cache, must-revalidate, post-check=0, pre-check=0', 'Pragma': 'no-cache', 'Content-Encoding': 'gzip'}\n",
      "Response Text (first 2000 chars): <!DOCTYPE html><html xmlns=\"http://www.w3.org/1999/xhtml\" xml:lang=\"pl\" lang=\"pl\" class=\"no-js\" >\n",
      "<head>\n",
      "\t\t\t<!-- Google Tag Manager -->\n",
      "\t\t\t<script>(function(w,d,s,l,i){w[l]=w[l]||[];w[l].push({'gtm.start':\n",
      "\t\t\t\t\t\tnew Date().getTime(),event:'gtm.js'});var f=d.getElementsByTagName(s)[0],\n",
      "\t\t\t\t\tj=d.createElement(s),dl=l!='dataLayer'?'&l='+l:'';j.async=true;j.src=\n",
      "\t\t\t\t\t'https://www.googletagmanager.com/gtm.js?id='+i+dl\n",
      "\t\t\t\t\t\t\t\t\t    ;f.parentNode.insertBefore(j,f);\n",
      "\t\t\t\t    })(window,document,'script','dataLayer','GTM-P3S238');</script>\n",
      "\t\t\t<!-- End Google Tag Manager -->\n",
      "\t<title>Mieszkania Kraków na sprzedaż, wynajem - Sprzedajemy.pl</title><meta http-equiv=\"Content-Type\" content=\"text/html; charset=UTF-8\" >\n",
      "<meta http-equiv=\"X-UA-Compatible\" content=\"IE=edge\" >\n",
      "<meta name=\"description\" content=\"Ogłoszenia o tematyce:  w kategorii Mieszkania - Kupuj i sprzedawaj rzeczy używane i nowe w kategorii Mieszkania na Sprzedajemy.pl\" >\n",
      "<meta property=\"og:title\" content=\"Mieszkania Kraków na sprzedaż, wynajem - Sprzedajemy.pl\" >\n",
      "<meta property=\"og:type\" content=\"website\" >\n",
      "<meta property=\"og:image\" content=\"https://thumbs.img-sprzedajemy.pl/facebook/sprzedajemy.pl.png\" >\n",
      "<meta property=\"og:image:width\" content=\"200\" >\n",
      "<meta property=\"og:image:height\" content=\"200\" >\n",
      "<meta property=\"og:url\" content=\"https://sprzedajemy.pl/krakow/nieruchomosci/mieszkania\" >\n",
      "<meta property=\"og:site_name\" content=\"Sprzedajemy.pl\" >\n",
      "<meta property=\"fb:app_id\" content=\"173258269367442\" >\n",
      "<meta property=\"og:description\" content=\"Ogłoszenia o tematyce:  w kategorii Mieszkania - Kupuj i sprzedawaj rzeczy używane i nowe w kategorii Mieszkania na Sprzedajemy.pl\" >\n",
      "<meta name=\"robots\" content=\"noindex, follow\" >\t\t<script  async=\"async\" src=\"https://static.criteo.net/js/ld/publishertag.js\"></script>\n",
      "        <script  async=\"async\" src=\"https://ap.lijit.com/www/sovrn_beacon_standalone/sovrn_standalone_beacon.js?iid=13417409&amp;uid=sprzedajemy\" id=\"sBeacon\"></script>\n",
      "\t\t<script  async=\"async\" src=\"https://securepuba\n",
      "Titles: ['Oferta wynajmu mieszkania 35.84m2 2 pokoje Kraków Romanowicza', 'Mieszkanie Kraków 24.3m 1-pokojowe', 'Mieszkanie na sprzedaż/zamiana 39m2', '2-pokojowe mieszkanie po remoncie | PROMOCJA | ul Bronowicka', 'Kraków, Stare Miasto sprzedaż/zamiana', '3 niezależne lokale z KW– inwestycja z potencjałem', 'Mieszkanie 63m2 3 pokoje Kraków', '3-pokojowe mieszkanie z miejscem parkingowym', 'Mieszkanie w stanie deweloperskim Mistrzejowice', 'Mieszkanie 50m 2 pokoje Kraków', 'Jasne mieszkanie w kamienicy Salwator', 'Kawalerka w kamienicy Salwator', 'Mieszkanie 69m2 3 pokoje Kraków', 'Mieszkanie Ruczaj Bobrzynskiego', 'Nowe 2 pokoje z ogródkiem | Zakątek Dąbie | miejsce parkingowe w prezencie', '2 lub 3 pokoje,62m2,balkon,widok na Wawel', 'Nowoczesny 2-pokojowy apartament Kazimierz Kraków!', 'Nowe mieszkanie 2 pokoje Kraków Prokocim', 'Sprzedam mieszkanie Kraków 2pokoje Jerzmanowskiego', 'Na sprzedaż mieszkanie | Wiślane Tarasy | 44,3 m²', 'Mieszkanie Kraków Bartosza Głowackiego 34.11m2 1 pokój', 'Mieszkanie Kraków 61.9m2 3 pokojowe', 'Mieszkanie Kraków Krupnicza 32m2 1 pokojowe', 'Oferta sprzedaży mieszkania Kraków Macieja Dębskiego 49.93 metry 3-pokojowe', 'Mieszkanie 45m2 2-pokojowe Kraków', 'Sprzedam mieszkanie 58m2 3-pokojowe Kraków Fatimska', 'Mieszkanie Kraków 51.71m2 3 pokojowe', 'Mieszkanie 98 metrów 3 pokoje Kraków Bolesława Komorowskiego', 'Mieszkanie 38.4m2 2 pokojowe Kraków', 'Mieszkanie 51.71m2 3 pokoje Kraków al. 29 Listopada', 'Mieszkanie Kraków Borkowska 50m2', 'Mieszkanie Kraków 51.92m2 2 pokojowe', 'Oferta sprzedaży mieszkania 182.9m2 4-pokojowe Kraków', 'Mieszkanie Kraków 57.13m2 4-pokojowe', 'Oferta wynajmu mieszkania 40m2 2 pokoje Kraków Na Kozłówce', 'Mieszkanie 3 pokojowe (77,7m2) w centrum Krakowa', 'Mieszkanie 59.3m2 2 pok Kraków Kotlarska', 'Po remoncie 2 pokoje Przy Bulwarach Nowa cena', 'Mieszkanie Kraków 64.3m2 3 pokoje', 'Mieszkanie 23m2 1 pokój Kraków', 'Mieszkanie przy ul. Piusa Welońskiego - Kraków', '4-pok. Apartament, ul. Śliczna, Kraków, ustawny, jasny.', 'Centrum Krakowa - 3 oddzielne pokoje / biura - po generalnym remoncie', 'Mieszkanie do wynajęcia jednopokojowe 36m', 'Piękne mieszkanie na wynajem krótkoterminowy', 'Sprzedam piękne mieszkanie na Osiedlu Uroczym', 'Oferta sprzedaży mieszkania 59.42m2 Kraków', 'Oferta sprzedaży mieszkania Kraków 70.19m2 3 pokojowe', 'Mieszkanie Kraków 70m2 3-pokojowe', 'Mieszkanie 38 metrów kwadratowych sprzedam bezpośrednio', 'Ogłoszenie mieszkanie 58 metrów 3 pokoje Kraków Nullo', 'Mieszkanie Kraków 43m2 2 pokojowe', 'Mieszkanie Kraków Banacha 47.54m2 2-pokojowe', 'Mieszkanie 32.2m2 2 pokojowe Kraków', 'Mieszkanie Kraków 42m2 2 pokoje', 'Mieszkanie Kraków Powstańców 46.95m2 3 pokoje', 'Mieszkanie Kraków 73.4m2 3 pokoje', 'Mieszkanie 81m2 4 pok Kraków Kobierzyńska', 'Mieszkanie Kraków Żmujdzka 67.86m2 4-pokojowe', 'Mieszkanie 76.21m2 3 pokoje Kraków Armii Krajowej']\n",
      "60\n",
      "Prices: ['3 005 zł', '429 000 zł', '526 000 zł', '710 000 zł', '2 083 000 zł', '265 000 zł', '4 000 zł', '799 000 zł', '590 000 zł', '710 000 zł', '3 300 zł', '2 300 zł', '2 500 zł', '580 000 zł', '899 900 zł', '1 490 000 zł', '819 000 zł', '799 000 zł', '779 000 zł', '999 000 zł', '648 000 zł', '780 000 zł', '2 700 zł', '639 000 zł', '1 150 000 zł', '753 000 zł', '3 500 zł', '5 800 zł', '2 900 zł', '925 000 zł', '699 000 zł', '3 000 zł', '3 900 000 zł', '920 000 zł', '3 500 zł', '1 450 000 zł', '799 000 zł', '980 000 zł', '775 000 zł', '389 000 zł', '1 138 000 zł', '5 600 zł', '1 199 000 zł', '2 000 zł', '4 100 zł', '730 000 zł', '985 000 zł', '489 000 zł', '890 000 zł', '470 000 zł', '1 449 000 zł', '534 700 zł', '728 000 zł', '690 000 zł', '998 000 zł', '2 900 zł', '5 500 zł', '899 000 zł', '1 219 000 zł', '1 340 000 zł']\n",
      "60\n"
     ]
    }
   ],
   "source": [
    "import requests\n",
    "from bs4 import BeautifulSoup\n",
    "import pandas as pd\n",
    "import os\n",
    "\n",
    "url = \"https://sprzedajemy.pl/krakow/nieruchomosci/mieszkania?offset=0&items_per_page=60\"\n",
    "\n",
    "headers = {\n",
    "    \"User-Agent\": \"Mozilla/5.0 (Windows NT 10.0; Win64; x64) AppleWebKit/537.36 (KHTML, like Gecko) Chrome/58.0.3029.110 Safari/537.36\",\n",
    "    \"Accept\": \"text/html,application/xhtml+xml,application/xml;q=0.9,image/webp,image/apng,*/*;q=0.8\",\n",
    "    \"Accept-Encoding\": \"gzip, deflate, br\",\n",
    "    \"Accept-Language\": \"en-US,en;q=0.9,pl;q=0.8\",\n",
    "    \"Connection\": \"keep-alive\"\n",
    "}\n",
    "\n",
    "response = requests.get(url, headers=headers)\n",
    "response = requests.get(url, headers=headers)\n",
    "\n",
    "# Debugowanie odpowiedzi\n",
    "print(f\"Status Code: {response.status_code}\")\n",
    "print(f\"Response Headers: {response.headers}\")\n",
    "print(f\"Response Text (first 2000 chars): {response.text[:2000]}\")\n",
    "\n",
    "# Jeśli odpowiedź jest poprawna, wykonaj webscraping\n",
    "if response.status_code == 200:\n",
    "    soup = BeautifulSoup(response.content, \"html.parser\")\n",
    "\n",
    "    # Pobieranie ofert mieszkań\n",
    "    titles = [h2.a.text.strip() for h2 in soup.find_all(\"h2\", class_=\"title\") if h2.a]\n",
    "    prices = [p.text.replace(\"\\xa0\", \" \").strip() for p in soup.find_all(\"span\", class_=\"price\")]\n",
    "\n",
    "    print(\"Titles:\", titles)\n",
    "    print(len(titles))\n",
    "    print(\"Prices:\", prices)\n",
    "    print(len(prices))\n",
    "\n",
    "    df = pd.DataFrame({\"Title\": titles, \"Price\": prices})\n",
    "\n",
    "    # Dopisanie do pliku CSV\n",
    "    df.to_csv(\"scraped_data.csv\", mode='a', header=not os.path.exists('scraped_data.csv'), index=False)\n",
    "else:\n",
    "    print(\"Failed to retrieve data.\")\n"
   ]
  }
 ],
 "metadata": {
  "colab": {
   "provenance": []
  },
  "kernelspec": {
   "display_name": "Python 3",
   "name": "python3"
  },
  "language_info": {
   "codemirror_mode": {
    "name": "ipython",
    "version": 3
   },
   "file_extension": ".py",
   "mimetype": "text/x-python",
   "name": "python",
   "nbconvert_exporter": "python",
   "pygments_lexer": "ipython3",
   "version": "3.9.23"
  },
  "papermill": {
   "default_parameters": {},
   "duration": 3.249804,
   "end_time": "2025-08-30T15:54:15.132474",
   "environment_variables": {},
   "exception": null,
   "input_path": "nb.ipynb",
   "output_path": "nbo.ipynb",
   "parameters": {},
   "start_time": "2025-08-30T15:54:11.882670",
   "version": "2.6.0"
  }
 },
 "nbformat": 4,
 "nbformat_minor": 5
}