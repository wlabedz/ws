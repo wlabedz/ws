{
 "cells": [
  {
   "cell_type": "code",
   "execution_count": 1,
   "id": "52914eec",
   "metadata": {
    "colab": {
     "base_uri": "https://localhost:8080/"
    },
    "execution": {
     "iopub.execute_input": "2025-10-31T18:43:26.738838Z",
     "iopub.status.busy": "2025-10-31T18:43:26.738573Z",
     "iopub.status.idle": "2025-10-31T18:43:29.189650Z",
     "shell.execute_reply": "2025-10-31T18:43:29.188907Z"
    },
    "id": "5pYh4c8j1w43",
    "outputId": "8a0dca73-64e5-4f0d-c493-2c5b38392363",
    "papermill": {
     "duration": 2.45472,
     "end_time": "2025-10-31T18:43:29.190876",
     "exception": false,
     "start_time": "2025-10-31T18:43:26.736156",
     "status": "completed"
    },
    "tags": []
   },
   "outputs": [
    {
     "name": "stdout",
     "output_type": "stream",
     "text": [
      "Status Code: 200\n",
      "Response Headers: {'Server': 'nginx', 'Date': 'Fri, 31 Oct 2025 18:43:28 GMT', 'Content-Type': 'text/html; charset=UTF-8', 'Transfer-Encoding': 'chunked', 'Vary': 'Accept-Encoding, User-Agent', 'Set-Cookie': 'FRSPSID=ql3cg8irmps7j6o7orikdtrom2; path=/; domain=.sprzedajemy.pl; secure; HttpOnly, _items_per_page__offer_list=60; expires=Sun, 30-Nov-2025 18:43:28 GMT; Max-Age=2592000; path=/; domain=.sprzedajemy.pl; secure; httponly, observed_id=211415279169050350b59a4950120694387826771; expires=Wed, 31-Oct-2125 18:43:28 GMT; Max-Age=3155673600; path=/; domain=.sprzedajemy.pl; secure; httponly', 'Expires': 'Thu, 19 Nov 1981 08:52:00 GMT', 'Cache-Control': 'no-store, no-cache, must-revalidate, post-check=0, pre-check=0', 'Pragma': 'no-cache', 'Content-Encoding': 'gzip'}\n",
      "Response Text (first 2000 chars): <!DOCTYPE html><html xmlns=\"http://www.w3.org/1999/xhtml\" xml:lang=\"pl\" lang=\"pl\" class=\"no-js\" >\n",
      "<head>\n",
      "\t\t\t<!-- Google Tag Manager -->\n",
      "\t\t\t<script>(function(w,d,s,l,i){w[l]=w[l]||[];w[l].push({'gtm.start':\n",
      "\t\t\t\t\t\tnew Date().getTime(),event:'gtm.js'});var f=d.getElementsByTagName(s)[0],\n",
      "\t\t\t\t\tj=d.createElement(s),dl=l!='dataLayer'?'&l='+l:'';j.async=true;j.src=\n",
      "\t\t\t\t\t'https://www.googletagmanager.com/gtm.js?id='+i+dl\n",
      "\t\t\t\t\t\t\t\t\t    ;f.parentNode.insertBefore(j,f);\n",
      "\t\t\t\t    })(window,document,'script','dataLayer','GTM-P3S238');</script>\n",
      "\t\t\t<!-- End Google Tag Manager -->\n",
      "\t<title>Mieszkania Kraków na sprzedaż, wynajem - Sprzedajemy.pl</title><meta http-equiv=\"Content-Type\" content=\"text/html; charset=UTF-8\" >\n",
      "<meta http-equiv=\"X-UA-Compatible\" content=\"IE=edge\" >\n",
      "<meta name=\"description\" content=\"Ogłoszenia o tematyce:  w kategorii Mieszkania - Kupuj i sprzedawaj rzeczy używane i nowe w kategorii Mieszkania na Sprzedajemy.pl\" >\n",
      "<meta property=\"og:title\" content=\"Mieszkania Kraków na sprzedaż, wynajem - Sprzedajemy.pl\" >\n",
      "<meta property=\"og:type\" content=\"website\" >\n",
      "<meta property=\"og:image\" content=\"https://thumbs.img-sprzedajemy.pl/facebook/sprzedajemy.pl.png\" >\n",
      "<meta property=\"og:image:width\" content=\"200\" >\n",
      "<meta property=\"og:image:height\" content=\"200\" >\n",
      "<meta property=\"og:url\" content=\"https://sprzedajemy.pl/krakow/nieruchomosci/mieszkania\" >\n",
      "<meta property=\"og:site_name\" content=\"Sprzedajemy.pl\" >\n",
      "<meta property=\"fb:app_id\" content=\"173258269367442\" >\n",
      "<meta property=\"og:description\" content=\"Ogłoszenia o tematyce:  w kategorii Mieszkania - Kupuj i sprzedawaj rzeczy używane i nowe w kategorii Mieszkania na Sprzedajemy.pl\" >\n",
      "<meta name=\"robots\" content=\"noindex, follow\" >\t\t<script  async=\"async\" src=\"https://static.criteo.net/js/ld/publishertag.js\"></script>\n",
      "        <script  async=\"async\" src=\"https://ap.lijit.com/www/sovrn_beacon_standalone/sovrn_standalone_beacon.js?iid=13417409&amp;uid=sprzedajemy\" id=\"sBeacon\"></script>\n",
      "\t\t<script  async=\"async\" src=\"https://securepuba\n",
      "Titles: ['PILNE dwupokojowe mieszkanie (balkon, piwnica) os. Dywizjonu 303, 19C Krak…', 'Mieszkanie z widokiem na góry', 'Grzegorzki mieszkanie na sprzedaż 30 m', 'Mieszkanie 51.41m2 Kraków', 'Ogłoszenie mieszkanie 39.67 metrów 2 pokoje Kraków Pękowicka', 'Mieszkanie Kraków 55.09m2 2 pokoje', 'Mieszkanie Kraków 35.97m2', 'Oferta sprzedaży mieszkania 51.55m2 3 pokoje Kraków Pękowicka', 'Sprzedam mieszkanie 80.41m2 4-pokojowe Kraków Na Błonie', 'Oferta sprzedaży mieszkania 51.75m2 2 pok Kraków Grzegórzki', 'Oferta sprzedaży mieszkania Kraków Babińskiego 31.74m2 1 pokój', 'Sprzedam mieszkanie Kraków Wadowicka 51.71 metrów 2 pokoje', 'Mieszkanie Kraków Krowoderska 108m2', 'Sprzedam mieszkanie Kraków Reduta 74.67 metrów 4 pokoje', 'Sprzedam mieszkanie 53.88m2 3 pokojowe Kraków', 'Mieszkanie sprzedam 44.25m2 2-pok Kraków Wadowicka', 'Oferta sprzedaży mieszkania 37.93 metry 2 pok Kraków Na Błonie', 'Mieszkanie Kraków Na Błonie 40.02m2 2-pokojowe', 'Mieszkanie sprzedam 36.09m2 Kraków', 'Ogłoszenie mieszkanie 50 metrów 2 pokoje Kraków Starego Dębu', 'Mieszkanie Kraków Wadowicka 44.95 metrów 2 pok', 'Oferta sprzedaży mieszkania 72.18m2 4-pokojowe Kraków Pękowicka', 'Do sprzedaży mieszkanie 54.62m2 3-pok Kraków', 'Mieszkanie Kraków 56.67m2', 'Mieszkanie Kraków Bukowa 57.19 metrów 3 pokoje', 'Mieszkanie Kraków Na Błonie 37.5 metrów 3 pokoje', 'Mieszkanie na sprzedaż Kraków Reduta 76.84m2 3 pok', 'Mieszkanie do sprzedania 52.45m2 Kraków Na Błonie', 'Mieszkanie sprzedam Kraków Pękowicka 53.6m2 4-pokojowe', 'Mieszkanie 50.23m2 3 pokoje Kraków', 'Mieszkanie sprzedam Kraków Pękowicka 51.42m2 3-pokojowe', 'Mieszkanie 71.99m2 Kraków Pękowicka', 'Mieszkanie 51.81m2 2 pok Kraków Na Błonie', 'Ogłoszenie mieszkanie Kraków Hoffmanowej 34.41m2 1 pokój', 'Mieszkanie Kraków Na Błonie 37.49m2 2 pokoje', 'Oferta sprzedaży mieszkania 43.35m2 2 pokojowe Kraków Wadowicka', 'Mieszkanie 43.35m2 2-pok Kraków Wadowicka', 'Oferta sprzedaży mieszkania Kraków Na Błonie 72.6m2 2 pokoje', 'Mieszkanie 79.3m2 2 pokoje Kraków Babińskiego', 'Mieszkanie 61.89m2 4-pokojowe Kraków', 'Mieszkanie 60.68m2 2-pokojowe Kraków', 'Mieszkanie na sprzedaż Kraków 34.79m2 2 pokoje', 'Mieszkanie Kraków Olszanicka 94.68m2 4 pokoje', 'Mieszkanie Kraków Podłużna - okolice 124.97m2 4 pokoje', 'Ogłoszenie mieszkanie 63.08m2 4-pok Kraków Pękowicka', 'Mieszkanie Kraków Reduta 74.64 metry 3-pok', 'Do sprzedaży mieszkanie Kraków 74.74m2 3 pokojowe', 'Mieszkanie Kraków Piasta Kołodzieja 50.23m2 3 pokoje', 'Mieszkanie Kraków Pękowicka 51.64m2 3-pokojowe', 'Mieszkanie 31.74m2 1 pokojowe Kraków', 'Sprzedam mieszkanie 59.85m2 3-pokojowe Kraków Babińskiego', 'Mieszkanie 65m2 3 pok Kraków', 'Oferta sprzedaży mieszkania Kraków Kantrowicka 35.05m2 2 pokoje', 'Mieszkanie do sprzedania 46.66 metrów 2 pokojowe Kraków Babińskiego', 'Mieszkanie 60.05m2 2 pokojowe Kraków', 'Ogłoszenie mieszkanie Kraków 27.38m2 1 pok', 'Mieszkanie Kraków Pękowicka 59.97m2 4 pokoje', 'Oferta sprzedaży mieszkania Kraków ks. Wincentego Turka 33.05m2 1 pokojowe', 'Mieszkanie 64.26m2 3-pok Kraków', 'Oferta sprzedaży mieszkania Kraków 44.27m2 2 pokoje']\n",
      "60\n",
      "Prices: ['590 000 zł', '265 000 zł', '549 000 zł', '694 035 zł', '631 744 zł', '930 919 zł', '642 859 zł', '743 608 zł', '1 354 265 zł', '1 060 000 zł', '615 756 zł', '889 754 zł', '1 740 000 zł', '1 177 000 zł', '770 484 zł', '743 400 zł', '726 326 zł', '721 820 zł', '541 350 zł', '850 000 zł', '822 585 zł', '1 006 911 zł', '781 066 zł', '849 000 zł', '657 685 zł', '733 860 zł', '1 335 000 zł', '834 701 zł', '766 480 zł', '708 243 zł', '743 019 zł', '1 013 259 zł', '877 117 zł', '898 000 zł', '690 609 zł', '806 310 zł', '736 950 zł', '1 229 408 zł', '1 308 450 zł', '999 523 zł', '807 177 zł', '487 060 zł', '1 387 058 zł', '2 186 975 zł', '875 235 zł', '1 200 000 zł', '1 240 684 zł', '728 335 zł', '746 198 zł', '615 756 zł', '957 600 zł', '889 000 zł', '499 462 zł', '835 214 zł', '1 134 945 zł', '410 152 zł', '986 506 zł', '445 000 zł', '1 124 550 zł', '743 736 zł']\n",
      "60\n"
     ]
    }
   ],
   "source": [
    "import requests\n",
    "from bs4 import BeautifulSoup\n",
    "import pandas as pd\n",
    "import os\n",
    "\n",
    "url = \"https://sprzedajemy.pl/krakow/nieruchomosci/mieszkania?offset=0&items_per_page=60\"\n",
    "\n",
    "headers = {\n",
    "    \"User-Agent\": \"Mozilla/5.0 (Windows NT 10.0; Win64; x64) AppleWebKit/537.36 (KHTML, like Gecko) Chrome/58.0.3029.110 Safari/537.36\",\n",
    "    \"Accept\": \"text/html,application/xhtml+xml,application/xml;q=0.9,image/webp,image/apng,*/*;q=0.8\",\n",
    "    \"Accept-Encoding\": \"gzip, deflate, br\",\n",
    "    \"Accept-Language\": \"en-US,en;q=0.9,pl;q=0.8\",\n",
    "    \"Connection\": \"keep-alive\"\n",
    "}\n",
    "\n",
    "response = requests.get(url, headers=headers)\n",
    "response = requests.get(url, headers=headers)\n",
    "\n",
    "# Debugowanie odpowiedzi\n",
    "print(f\"Status Code: {response.status_code}\")\n",
    "print(f\"Response Headers: {response.headers}\")\n",
    "print(f\"Response Text (first 2000 chars): {response.text[:2000]}\")\n",
    "\n",
    "# Jeśli odpowiedź jest poprawna, wykonaj webscraping\n",
    "if response.status_code == 200:\n",
    "    soup = BeautifulSoup(response.content, \"html.parser\")\n",
    "\n",
    "    # Pobieranie ofert mieszkań\n",
    "    titles = [h2.a.text.strip() for h2 in soup.find_all(\"h2\", class_=\"title\") if h2.a]\n",
    "    prices = [p.text.replace(\"\\xa0\", \" \").strip() for p in soup.find_all(\"span\", class_=\"price\")]\n",
    "\n",
    "    print(\"Titles:\", titles)\n",
    "    print(len(titles))\n",
    "    print(\"Prices:\", prices)\n",
    "    print(len(prices))\n",
    "\n",
    "    df = pd.DataFrame({\"Title\": titles, \"Price\": prices})\n",
    "\n",
    "    # Dopisanie do pliku CSV\n",
    "    df.to_csv(\"scraped_data.csv\", mode='a', header=not os.path.exists('scraped_data.csv'), index=False)\n",
    "else:\n",
    "    print(\"Failed to retrieve data.\")\n"
   ]
  }
 ],
 "metadata": {
  "colab": {
   "provenance": []
  },
  "kernelspec": {
   "display_name": "Python 3",
   "name": "python3"
  },
  "language_info": {
   "codemirror_mode": {
    "name": "ipython",
    "version": 3
   },
   "file_extension": ".py",
   "mimetype": "text/x-python",
   "name": "python",
   "nbconvert_exporter": "python",
   "pygments_lexer": "ipython3",
   "version": "3.9.24"
  },
  "papermill": {
   "default_parameters": {},
   "duration": 3.650913,
   "end_time": "2025-10-31T18:43:29.407431",
   "environment_variables": {},
   "exception": null,
   "input_path": "nb.ipynb",
   "output_path": "nbo.ipynb",
   "parameters": {},
   "start_time": "2025-10-31T18:43:25.756518",
   "version": "2.6.0"
  }
 },
 "nbformat": 4,
 "nbformat_minor": 5
}