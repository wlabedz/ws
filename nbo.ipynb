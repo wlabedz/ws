{
 "cells": [
  {
   "cell_type": "code",
   "execution_count": 1,
   "id": "cf366337",
   "metadata": {
    "colab": {
     "base_uri": "https://localhost:8080/"
    },
    "execution": {
     "iopub.execute_input": "2025-06-25T12:21:45.830049Z",
     "iopub.status.busy": "2025-06-25T12:21:45.829828Z",
     "iopub.status.idle": "2025-06-25T12:21:47.807532Z",
     "shell.execute_reply": "2025-06-25T12:21:47.806837Z"
    },
    "id": "5pYh4c8j1w43",
    "outputId": "8a0dca73-64e5-4f0d-c493-2c5b38392363",
    "papermill": {
     "duration": 1.981295,
     "end_time": "2025-06-25T12:21:47.808735",
     "exception": false,
     "start_time": "2025-06-25T12:21:45.827440",
     "status": "completed"
    },
    "tags": []
   },
   "outputs": [
    {
     "name": "stdout",
     "output_type": "stream",
     "text": [
      "Status Code: 200\n",
      "Response Headers: {'Server': 'nginx', 'Date': 'Wed, 25 Jun 2025 12:21:47 GMT', 'Content-Type': 'text/html; charset=UTF-8', 'Transfer-Encoding': 'chunked', 'Vary': 'Accept-Encoding, User-Agent', 'Set-Cookie': 'FRSPSID=m7igupne8m9dqqvr9u1mno3mi5; path=/; domain=.sprzedajemy.pl; secure; HttpOnly, _items_per_page__offer_list=60; expires=Fri, 25-Jul-2025 12:21:47 GMT; Max-Age=2592000; path=/; domain=.sprzedajemy.pl; secure; httponly, observed_id=1229334150685be9db6809a598087444592859680; expires=Mon, 25-Jun-2125 13:21:47 GMT; Max-Age=3155677200; path=/; domain=.sprzedajemy.pl; secure; httponly', 'Expires': 'Thu, 19 Nov 1981 08:52:00 GMT', 'Cache-Control': 'no-store, no-cache, must-revalidate, post-check=0, pre-check=0', 'Pragma': 'no-cache', 'Content-Encoding': 'gzip'}\n",
      "Response Text (first 2000 chars): <!DOCTYPE html><html xmlns=\"http://www.w3.org/1999/xhtml\" xml:lang=\"pl\" lang=\"pl\" class=\"no-js\" >\n",
      "<head>\n",
      "\t\t\t<!-- Google Tag Manager -->\n",
      "\t\t\t<script>(function(w,d,s,l,i){w[l]=w[l]||[];w[l].push({'gtm.start':\n",
      "\t\t\t\t\t\tnew Date().getTime(),event:'gtm.js'});var f=d.getElementsByTagName(s)[0],\n",
      "\t\t\t\t\tj=d.createElement(s),dl=l!='dataLayer'?'&l='+l:'';j.async=true;j.src=\n",
      "\t\t\t\t\t'https://www.googletagmanager.com/gtm.js?id='+i+dl\n",
      "\t\t\t\t\t\t\t\t\t    ;f.parentNode.insertBefore(j,f);\n",
      "\t\t\t\t    })(window,document,'script','dataLayer','GTM-P3S238');</script>\n",
      "\t\t\t<!-- End Google Tag Manager -->\n",
      "\t<title>Mieszkania Kraków na sprzedaż, wynajem - Sprzedajemy.pl</title><meta http-equiv=\"Content-Type\" content=\"text/html; charset=UTF-8\" >\n",
      "<meta http-equiv=\"X-UA-Compatible\" content=\"IE=edge\" >\n",
      "<meta name=\"description\" content=\"Ogłoszenia o tematyce:  w kategorii Mieszkania - Kupuj i sprzedawaj rzeczy używane i nowe w kategorii Mieszkania na Sprzedajemy.pl\" >\n",
      "<meta property=\"og:title\" content=\"Mieszkania Kraków na sprzedaż, wynajem - Sprzedajemy.pl\" >\n",
      "<meta property=\"og:type\" content=\"website\" >\n",
      "<meta property=\"og:image\" content=\"https://thumbs.img-sprzedajemy.pl/facebook/sprzedajemy.pl.png\" >\n",
      "<meta property=\"og:image:width\" content=\"200\" >\n",
      "<meta property=\"og:image:height\" content=\"200\" >\n",
      "<meta property=\"og:url\" content=\"https://sprzedajemy.pl/krakow/nieruchomosci/mieszkania\" >\n",
      "<meta property=\"og:site_name\" content=\"Sprzedajemy.pl\" >\n",
      "<meta property=\"fb:app_id\" content=\"173258269367442\" >\n",
      "<meta property=\"og:description\" content=\"Ogłoszenia o tematyce:  w kategorii Mieszkania - Kupuj i sprzedawaj rzeczy używane i nowe w kategorii Mieszkania na Sprzedajemy.pl\" >\n",
      "<meta name=\"robots\" content=\"noindex, follow\" >\t\t<script  async=\"async\" src=\"https://static.criteo.net/js/ld/publishertag.js\"></script>\n",
      "        <script  async=\"async\" src=\"https://ap.lijit.com/www/sovrn_beacon_standalone/sovrn_standalone_beacon.js?iid=13417409&amp;uid=sprzedajemy\" id=\"sBeacon\"></script>\n",
      "\t\t<script  async=\"async\" src=\"https://securepuba\n",
      "Titles: ['Stare Miasto 32m2 KLIMA Wawel wykończone Kazimierz wysokie ROI', '3-pok od właściciela, wyremontowane wyposażone, blisko centrum, zieleń', 'Stylowy apartament z widokiem na panoramę Krakowa - od właściciela', 'Wyjątkowe mieszkanie z widokiem na klasztor w Tyńcu i panoramę Tatr', 'Nowoczesny apartament z panoramicznym widokiem - od właściciela', 'Mieszkanie na sprzedaż/zamiana 39m2', 'Kraków, Stare Miasto sprzedaż/zamiana', 'wykończone 27,56 m², balkon, Kniaźnina, TRAMWAJ, Prądnik Czerwony/Huta', 'Stare Miasto 61,5 m2 KLIMA Wawel wykończone Kazimierz wysokie ROI', 'Mieszkanie 123.27m2 4-pokojowe Kraków', 'Oferta sprzedaży mieszkania Kraków Rydlówka 27.42 metry 3 pokoje', 'Mieszkanie 45m2 2 pokoje Kraków Jana Kantego Federowicza', 'Mieszkanie Kraków Grzegórzecka 65.26m2 2 pokojowe', 'Mieszkanie Kraków 27.42m2 1 pokój', 'Sprzedaż mieszkania Kraków Nawojki 47.8m2 3 pokojowe', 'Oferta sprzedaży mieszkania 27.42m2 Kraków', 'Sprzedaż mieszkania 27.42m2 1 pokój Kraków', 'Mieszkanie 27.42m2 3-pokojowe Kraków Rydlówka', 'Mieszkanie do sprzedania Kraków Rydlówka 27.42m2 3 pokojowe', 'Mieszkanie 27.42m2 3 pokoje Kraków Rydlówka', 'Mieszkanie Kraków 58m2 2-pok', 'Do sprzedaży mieszkanie Kraków Rydlówka 27.42 metry', 'Mieszkanie Kraków 27.42m2 4 pok', 'Do sprzedaży mieszkanie 27.42m2 3-pok Kraków Rydlówka', 'Ogłoszenie mieszkanie 83.1m 4 pokoje Kraków Armii Krajowej - okolice', 'Oferta sprzedaży mieszkania Kraków os. Avia 47.2m2 3 pok', 'Mieszkanie 27.42m2 3 pokoje Kraków', 'Mieszkanie do sprzedania Kraków 27.42m2 1-pokojowe', 'Mieszkanie 27.42m2 1 pok Kraków Rydlówka', 'Mieszkanie Kraków Pszczelna 58m2', 'Mieszkanie Kraków Rydlówka 27.42m2 2 pok', 'Mieszkanie do sprzedania 27.42m2 3 pokoje Kraków', 'Mieszkanie Kraków Rydlówka 27.42m2', 'Mieszkanie Kraków Rydlówka 27.42m2 3-pokojowe', 'Mieszkanie Kraków Rydlówka 27.42m2 3 pokoje', 'Mieszkanie 96.9m2 4 pokoje Kraków Armii Krajowej - okolice', 'Oferta sprzedaży mieszkania 27.42m2 3-pok Kraków', 'Ogłoszenie mieszkanie 27.42m2 3 pokoje Kraków Rydlówka', 'Ogłoszenie mieszkanie Kraków Rydlówka 27.42m2 2 pokoje', '2-POKOJOWE MIESZKANIE NA SPRZEDAŻ - KRAKÓW - 37 M2', 'Mieszkanie 67.32m2 4 pokojowe Kraków', 'Mieszkanie Kraków Armii Krajowej - okolice 99.07m2 4 pokojowe', 'Sprzedam mieszkanie Kraków Rydlówka 27.42m2 3 pokoje', 'Mieszkanie Kraków Nowohucka 33m2 2 pokojowe', 'Mieszkanie 27.42m2 3 pokoje Kraków Rydlówka', 'Ogłoszenie mieszkanie Kraków Armii Krajowej - okolice 67.99m2 3-pokojowe', 'Sprzedaż mieszkania 27.42m2 3 pokoje Kraków', 'Mieszkanie Kraków 84.55m2 4 pokoje', 'Mieszkanie 27.42m2 3 pokoje Kraków', 'Mieszkanie 27.42m2 3 pokoje Kraków', 'Mieszkanie Kraków 45.63m2 2-pok', 'Oferta sprzedaży mieszkania Kraków Rydlówka 27.42 metry 3-pokojowe', 'Oferta sprzedaży mieszkania Kraków Rydlówka 27.42m2 3-pok', 'Oferta sprzedaży mieszkania 27.42m2 2 pok Kraków Rydlówka', 'Mieszkanie Kraków Kamieńskiego - okolice 82.12m2 4-pokojowe', 'Mieszkanie Kraków Juliusza Lea 101.6m2 3 pokoje', 'Mieszkanie 27.42m2 3-pokojowe Kraków Rydlówka', 'Mieszkanie Kraków Rydlówka 27.42m2 2 pok', 'Mieszkanie 74.57m2 4 pok Kraków Henryka Pachońskiego', 'Oferta sprzedaży mieszkania 27.42m2 3 pokoje Kraków']\n",
      "60\n",
      "Prices: ['939 000 zł', '839 000 zł', '897 000 zł', '779 000 zł', '997 000 zł', '539 000 zł', '2 205 000 zł', '569 000 zł', '1 748 885 zł', '2 588 670 zł', '941 316 zł', '669 000 zł', '2 500 zł', '855 962 zł', '1 250 000 zł', '924 075 zł', '852 145 zł', '896 253 zł', '1 139 550 zł', '1 091 400 zł', '839 000 zł', '1 071 199 zł', '1 199 936 zł', '1 086 330 zł', '1 617 268 zł', '777 000 zł', '1 102 513 zł', '870 276 zł', '848 328 zł', '915 000 zł', '850 927 zł', '1 036 821 zł', '878 864 zł', '1 083 514 zł', '1 096 695 zł', '2 003 346 zł', '1 005 225 zł', '1 004 897 zł', '993 560 zł', '630 000 zł', '1 050 000 zł', '1 875 292 zł', '919 080 zł', '3 000 zł', '1 077 586 zł', '1 254 416 zł', '1 109 909 zł', '1 287 350 zł', '1 002 885 zł', '1 114 137 zł', '675 000 zł', '1 109 909 zł', '907 270 zł', '865 164 zł', '1 227 738 zł', '1 790 000 zł', '1 081 157 zł', '900 610 zł', '932 125 zł', '1 115 188 zł']\n",
      "60\n"
     ]
    }
   ],
   "source": [
    "import requests\n",
    "from bs4 import BeautifulSoup\n",
    "import pandas as pd\n",
    "import os\n",
    "\n",
    "url = \"https://sprzedajemy.pl/krakow/nieruchomosci/mieszkania?offset=0&items_per_page=60\"\n",
    "\n",
    "headers = {\n",
    "    \"User-Agent\": \"Mozilla/5.0 (Windows NT 10.0; Win64; x64) AppleWebKit/537.36 (KHTML, like Gecko) Chrome/58.0.3029.110 Safari/537.36\",\n",
    "    \"Accept\": \"text/html,application/xhtml+xml,application/xml;q=0.9,image/webp,image/apng,*/*;q=0.8\",\n",
    "    \"Accept-Encoding\": \"gzip, deflate, br\",\n",
    "    \"Accept-Language\": \"en-US,en;q=0.9,pl;q=0.8\",\n",
    "    \"Connection\": \"keep-alive\"\n",
    "}\n",
    "\n",
    "response = requests.get(url, headers=headers)\n",
    "response = requests.get(url, headers=headers)\n",
    "\n",
    "# Debugowanie odpowiedzi\n",
    "print(f\"Status Code: {response.status_code}\")\n",
    "print(f\"Response Headers: {response.headers}\")\n",
    "print(f\"Response Text (first 2000 chars): {response.text[:2000]}\")\n",
    "\n",
    "# Jeśli odpowiedź jest poprawna, wykonaj webscraping\n",
    "if response.status_code == 200:\n",
    "    soup = BeautifulSoup(response.content, \"html.parser\")\n",
    "\n",
    "    # Pobieranie ofert mieszkań\n",
    "    titles = [h2.a.text.strip() for h2 in soup.find_all(\"h2\", class_=\"title\") if h2.a]\n",
    "    prices = [p.text.replace(\"\\xa0\", \" \").strip() for p in soup.find_all(\"span\", class_=\"price\")]\n",
    "\n",
    "    print(\"Titles:\", titles)\n",
    "    print(len(titles))\n",
    "    print(\"Prices:\", prices)\n",
    "    print(len(prices))\n",
    "\n",
    "    df = pd.DataFrame({\"Title\": titles, \"Price\": prices})\n",
    "\n",
    "    # Dopisanie do pliku CSV\n",
    "    df.to_csv(\"scraped_data.csv\", mode='a', header=not os.path.exists('scraped_data.csv'), index=False)\n",
    "else:\n",
    "    print(\"Failed to retrieve data.\")\n"
   ]
  }
 ],
 "metadata": {
  "colab": {
   "provenance": []
  },
  "kernelspec": {
   "display_name": "Python 3",
   "name": "python3"
  },
  "language_info": {
   "codemirror_mode": {
    "name": "ipython",
    "version": 3
   },
   "file_extension": ".py",
   "mimetype": "text/x-python",
   "name": "python",
   "nbconvert_exporter": "python",
   "pygments_lexer": "ipython3",
   "version": "3.9.22"
  },
  "papermill": {
   "default_parameters": {},
   "duration": 3.091913,
   "end_time": "2025-06-25T12:21:48.026410",
   "environment_variables": {},
   "exception": null,
   "input_path": "nb.ipynb",
   "output_path": "nbo.ipynb",
   "parameters": {},
   "start_time": "2025-06-25T12:21:44.934497",
   "version": "2.6.0"
  }
 },
 "nbformat": 4,
 "nbformat_minor": 5
}