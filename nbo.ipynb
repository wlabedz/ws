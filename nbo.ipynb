{
 "cells": [
  {
   "cell_type": "code",
   "execution_count": 1,
   "id": "8f039d2c",
   "metadata": {
    "colab": {
     "base_uri": "https://localhost:8080/"
    },
    "execution": {
     "iopub.execute_input": "2025-07-12T10:54:19.891599Z",
     "iopub.status.busy": "2025-07-12T10:54:19.891059Z",
     "iopub.status.idle": "2025-07-12T10:54:22.473748Z",
     "shell.execute_reply": "2025-07-12T10:54:22.473038Z"
    },
    "id": "5pYh4c8j1w43",
    "outputId": "8a0dca73-64e5-4f0d-c493-2c5b38392363",
    "papermill": {
     "duration": 2.585953,
     "end_time": "2025-07-12T10:54:22.474876",
     "exception": false,
     "start_time": "2025-07-12T10:54:19.888923",
     "status": "completed"
    },
    "tags": []
   },
   "outputs": [
    {
     "name": "stdout",
     "output_type": "stream",
     "text": [
      "Status Code: 200\n",
      "Response Headers: {'Server': 'nginx', 'Date': 'Sat, 12 Jul 2025 10:54:22 GMT', 'Content-Type': 'text/html; charset=UTF-8', 'Transfer-Encoding': 'chunked', 'Vary': 'Accept-Encoding, User-Agent', 'Set-Cookie': 'FRSPSID=8690nvveovjilgft56bmmqal77; path=/; domain=.sprzedajemy.pl; secure; HttpOnly, _items_per_page__offer_list=60; expires=Mon, 11-Aug-2025 10:54:21 GMT; Max-Age=2592000; path=/; domain=.sprzedajemy.pl; secure; httponly, observed_id=153908335968723eddebe9e9121292146496183294; expires=Thu, 12-Jul-2125 11:54:21 GMT; Max-Age=3155677200; path=/; domain=.sprzedajemy.pl; secure; httponly', 'Expires': 'Thu, 19 Nov 1981 08:52:00 GMT', 'Cache-Control': 'no-store, no-cache, must-revalidate, post-check=0, pre-check=0', 'Pragma': 'no-cache', 'Content-Encoding': 'gzip'}\n",
      "Response Text (first 2000 chars): <!DOCTYPE html><html xmlns=\"http://www.w3.org/1999/xhtml\" xml:lang=\"pl\" lang=\"pl\" class=\"no-js\" >\n",
      "<head>\n",
      "\t\t\t<!-- Google Tag Manager -->\n",
      "\t\t\t<script>(function(w,d,s,l,i){w[l]=w[l]||[];w[l].push({'gtm.start':\n",
      "\t\t\t\t\t\tnew Date().getTime(),event:'gtm.js'});var f=d.getElementsByTagName(s)[0],\n",
      "\t\t\t\t\tj=d.createElement(s),dl=l!='dataLayer'?'&l='+l:'';j.async=true;j.src=\n",
      "\t\t\t\t\t'https://www.googletagmanager.com/gtm.js?id='+i+dl\n",
      "\t\t\t\t\t\t\t\t\t    ;f.parentNode.insertBefore(j,f);\n",
      "\t\t\t\t    })(window,document,'script','dataLayer','GTM-P3S238');</script>\n",
      "\t\t\t<!-- End Google Tag Manager -->\n",
      "\t<title>Mieszkania Kraków na sprzedaż, wynajem - Sprzedajemy.pl</title><meta http-equiv=\"Content-Type\" content=\"text/html; charset=UTF-8\" >\n",
      "<meta http-equiv=\"X-UA-Compatible\" content=\"IE=edge\" >\n",
      "<meta name=\"description\" content=\"Ogłoszenia o tematyce:  w kategorii Mieszkania - Kupuj i sprzedawaj rzeczy używane i nowe w kategorii Mieszkania na Sprzedajemy.pl\" >\n",
      "<meta property=\"og:title\" content=\"Mieszkania Kraków na sprzedaż, wynajem - Sprzedajemy.pl\" >\n",
      "<meta property=\"og:type\" content=\"website\" >\n",
      "<meta property=\"og:image\" content=\"https://thumbs.img-sprzedajemy.pl/facebook/sprzedajemy.pl.png\" >\n",
      "<meta property=\"og:image:width\" content=\"200\" >\n",
      "<meta property=\"og:image:height\" content=\"200\" >\n",
      "<meta property=\"og:url\" content=\"https://sprzedajemy.pl/krakow/nieruchomosci/mieszkania\" >\n",
      "<meta property=\"og:site_name\" content=\"Sprzedajemy.pl\" >\n",
      "<meta property=\"fb:app_id\" content=\"173258269367442\" >\n",
      "<meta property=\"og:description\" content=\"Ogłoszenia o tematyce:  w kategorii Mieszkania - Kupuj i sprzedawaj rzeczy używane i nowe w kategorii Mieszkania na Sprzedajemy.pl\" >\n",
      "<meta name=\"robots\" content=\"noindex, follow\" >\t\t<script  async=\"async\" src=\"https://static.criteo.net/js/ld/publishertag.js\"></script>\n",
      "        <script  async=\"async\" src=\"https://ap.lijit.com/www/sovrn_beacon_standalone/sovrn_standalone_beacon.js?iid=13417409&amp;uid=sprzedajemy\" id=\"sBeacon\"></script>\n",
      "\t\t<script  async=\"async\" src=\"https://securepuba\n",
      "Titles: ['Super lokalizacja! TRAMWAJ, kawalerka do wejścia! Prądnik Czerwony/Huta', '2-pokojowe mieszkanie na Zabłociu – ciche, świetna lokalizacja!', 'Wyjątkowe mieszkanie z widokiem na klasztor w Tyńcu i panoramę Tatr', 'Stylowy apartament z widokiem na panoramę Krakowa - od właściciela', 'Nowoczesny apartament z panoramicznym widokiem - od właściciela', 'Kraków, Stare Miasto sprzedaż/zamiana', 'Kraków – 2 pokojowy apartament w wysokim standardzie Piasta Towers', 'Mieszkanie, Kraków os. Tysiąclecia 1 - 20 m 2', 'Dom modułowy prefabrykowany Dubai Prestige', '4-pokojowe mieszkanie w nowo wybudowanym budynku', 'Sprzedam mieszkanie 3 pokojowe słoneczne 2 Pulku Lotniczego', 'Mieszkanie 53.46m2 3 pokoje Kraków', 'Blisko centrum i tramwaju | kawalerka 27m na Dąbiu', 'Mieszkanie Kraków 53m2 3 pokoje', 'PRYWATNIE//3 pok.// Wykończone//brak PCC', 'Bliźniak z ogródkiem i energią ze słońca–PRYWATNIE', 'Sprzedaż mieszkania Kraków Agatowa 44.48m2 2 pokoje', 'Kurdwanów - 52m2, dwupokojowe z jasną kuchnią', 'ul.Felińskiego, piękne 3 pokoje, garaż', 'BEZ PROWIZJI 2 niezależne, zamykane pokoje |osobna kuchnia z oknem | balko…', 'Mieszkanie Kraków 38.69m2 2 pokoje', 'Oferta wynajmu mieszkania Kraków Bosacka 59m 2 pokoje', 'Ogłoszenie mieszkanie Kraków Walerego Sławka 52.01 metrów', 'Mieszkanie do sprzedania 36.05m2 2 pokoje Kraków Imbramowska', 'Mieszkanie Kraków os. Strusia 36.6m2 2 pokoje', 'Mieszkanie sprzedam 38.69m2 2 pok Kraków Imbramowska', 'Sprzedam mieszkanie Kraków os. Albertyńskie 50m 3 pokoje', 'Oferta wynajmu mieszkania Kraków Urzędnicza 94m2 3 pok', 'Mieszkanie 35m2 2 pokoje Kraków', 'Mieszkanie Kraków Jasnogórska 62.19m2 3-pokojowe', 'Oferta sprzedaży mieszkania 38.69 metrów Kraków', 'Sprzedaż mieszkania 90.48m2 4-pokojowe Kraków', 'Oferta wynajmu mieszkania Kraków 51.8m2 3 pok', 'Oferta sprzedaży mieszkania Kraków Imbramowska 38.69m2 2 pokoje', 'Mieszkanie Kraków Krowoderska 105.9 metrów 3 pokoje', 'Sprzedam mieszkanie Kraków Borowego 80.2m2 4 pokoje', 'Oferta sprzedaży mieszkania Kraków 62.19m2 3 pokojowe', 'Mieszkanie 45 metrów Kraków', 'Mieszkanie Kraków os. Kazimierzowskie 37m2 2 pokojowe', 'Do sprzedaży mieszkanie 50.8m2 2-pokojowe Kraków', 'Mieszkanie do wynajęcia 61 metrów 2 pokojowe Kraków', 'Oferta sprzedaży mieszkania Kraków 50.74m2 2 pokojowe', 'Mieszkanie Kraków Bojki 61.4m2 3 pokojowe', 'Mieszkanie Kraków 62.19 metrów 2 pok', 'Ogłoszenie mieszkanie 47.37 metrów 1 pokój Kraków', 'Mieszkanie Kraków 47.8m2 3 pokojowe', 'Mieszkanie Kraków 47.31 metrów 2 pokoje', 'Oferta wynajmu mieszkania 37m2 1-pokojowe Kraków', 'Mieszkanie 56m2 3 pokojowe Kraków', 'Mieszkanie 40m2 2 pokojowe Kraków Bunscha', 'Mieszkanie 28.75m2 Kraków', 'Mieszkanie 120.46m2 3 pokoje Kraków Retoryka', 'Mieszkanie 53.9m2 Kraków', 'Mieszkanie Kraków os. Zielone 67m2', 'Mieszkanie 48.36m2 Kraków', '3 pokoje,widok na Wawel i Tatry,taras 35 m2', 'Mieszkanie 67.5m2 3-pok Kraków', 'Oferta sprzedaży mieszkania 51.83m2 2 pokojowe Kraków Królewska', 'Mieszkanie Kraków Rydlówka 36.95m2', 'Mieszkanie do sprzedania Kraków Królewska 92.5m2 4 pokoje']\n",
      "60\n",
      "Prices: ['565 000 zł', '519 000 zł', '779 000 zł', '897 000 zł', '997 000 zł', '2 200 000 zł', '799 000 zł', '339 000 zł', '580 000 zł', '846 000 zł', '929 000 zł', '739 000 zł', '581 000 zł', '679 000 zł', '1 049 000 zł', '1 849 000 zł', '667 000 zł', '599 000 zł', '800 000 zł', '639 000 zł', '742 295 zł', '3 200 zł', '2 800 zł', '499 000 zł', '590 000 zł', '673 920 zł', '750 000 zł', '5 500 zł', '875 000 zł', '858 222 zł', '1 068 760 zł', '1 481 941 zł', '2 200 zł', '794 252 zł', '8 900 zł', '1 720 000 zł', '858 222 zł', '630 000 zł', '599 000 zł', '1 025 000 zł', '2 500 zł', '730 000 zł', '769 000 zł', '870 660 zł', '3 200 zł', '598 000 zł', '520 000 zł', '2 200 zł', '800 000 zł', '799 000 zł', '808 954 zł', '3 210 461 zł', '849 000 zł', '759 000 zł', '1 295 000 zł', '1 960 000 zł', '1 249 501 zł', '740 000 zł', '880 000 zł', '1 340 000 zł']\n",
      "60\n"
     ]
    }
   ],
   "source": [
    "import requests\n",
    "from bs4 import BeautifulSoup\n",
    "import pandas as pd\n",
    "import os\n",
    "\n",
    "url = \"https://sprzedajemy.pl/krakow/nieruchomosci/mieszkania?offset=0&items_per_page=60\"\n",
    "\n",
    "headers = {\n",
    "    \"User-Agent\": \"Mozilla/5.0 (Windows NT 10.0; Win64; x64) AppleWebKit/537.36 (KHTML, like Gecko) Chrome/58.0.3029.110 Safari/537.36\",\n",
    "    \"Accept\": \"text/html,application/xhtml+xml,application/xml;q=0.9,image/webp,image/apng,*/*;q=0.8\",\n",
    "    \"Accept-Encoding\": \"gzip, deflate, br\",\n",
    "    \"Accept-Language\": \"en-US,en;q=0.9,pl;q=0.8\",\n",
    "    \"Connection\": \"keep-alive\"\n",
    "}\n",
    "\n",
    "response = requests.get(url, headers=headers)\n",
    "response = requests.get(url, headers=headers)\n",
    "\n",
    "# Debugowanie odpowiedzi\n",
    "print(f\"Status Code: {response.status_code}\")\n",
    "print(f\"Response Headers: {response.headers}\")\n",
    "print(f\"Response Text (first 2000 chars): {response.text[:2000]}\")\n",
    "\n",
    "# Jeśli odpowiedź jest poprawna, wykonaj webscraping\n",
    "if response.status_code == 200:\n",
    "    soup = BeautifulSoup(response.content, \"html.parser\")\n",
    "\n",
    "    # Pobieranie ofert mieszkań\n",
    "    titles = [h2.a.text.strip() for h2 in soup.find_all(\"h2\", class_=\"title\") if h2.a]\n",
    "    prices = [p.text.replace(\"\\xa0\", \" \").strip() for p in soup.find_all(\"span\", class_=\"price\")]\n",
    "\n",
    "    print(\"Titles:\", titles)\n",
    "    print(len(titles))\n",
    "    print(\"Prices:\", prices)\n",
    "    print(len(prices))\n",
    "\n",
    "    df = pd.DataFrame({\"Title\": titles, \"Price\": prices})\n",
    "\n",
    "    # Dopisanie do pliku CSV\n",
    "    df.to_csv(\"scraped_data.csv\", mode='a', header=not os.path.exists('scraped_data.csv'), index=False)\n",
    "else:\n",
    "    print(\"Failed to retrieve data.\")\n"
   ]
  }
 ],
 "metadata": {
  "colab": {
   "provenance": []
  },
  "kernelspec": {
   "display_name": "Python 3",
   "name": "python3"
  },
  "language_info": {
   "codemirror_mode": {
    "name": "ipython",
    "version": 3
   },
   "file_extension": ".py",
   "mimetype": "text/x-python",
   "name": "python",
   "nbconvert_exporter": "python",
   "pygments_lexer": "ipython3",
   "version": "3.9.23"
  },
  "papermill": {
   "default_parameters": {},
   "duration": 3.670707,
   "end_time": "2025-07-12T10:54:22.692161",
   "environment_variables": {},
   "exception": null,
   "input_path": "nb.ipynb",
   "output_path": "nbo.ipynb",
   "parameters": {},
   "start_time": "2025-07-12T10:54:19.021454",
   "version": "2.6.0"
  }
 },
 "nbformat": 4,
 "nbformat_minor": 5
}