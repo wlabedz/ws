{
 "cells": [
  {
   "cell_type": "code",
   "execution_count": 1,
   "id": "0dbbbbea",
   "metadata": {
    "colab": {
     "base_uri": "https://localhost:8080/"
    },
    "execution": {
     "iopub.execute_input": "2025-09-19T16:11:24.582985Z",
     "iopub.status.busy": "2025-09-19T16:11:24.582702Z",
     "iopub.status.idle": "2025-09-19T16:11:26.736860Z",
     "shell.execute_reply": "2025-09-19T16:11:26.736131Z"
    },
    "id": "5pYh4c8j1w43",
    "outputId": "8a0dca73-64e5-4f0d-c493-2c5b38392363",
    "papermill": {
     "duration": 2.157744,
     "end_time": "2025-09-19T16:11:26.738070",
     "exception": false,
     "start_time": "2025-09-19T16:11:24.580326",
     "status": "completed"
    },
    "tags": []
   },
   "outputs": [
    {
     "name": "stdout",
     "output_type": "stream",
     "text": [
      "Status Code: 200\n",
      "Response Headers: {'Server': 'nginx', 'Date': 'Fri, 19 Sep 2025 16:11:26 GMT', 'Content-Type': 'text/html; charset=UTF-8', 'Transfer-Encoding': 'chunked', 'Vary': 'Accept-Encoding, User-Agent', 'Set-Cookie': 'FRSPSID=c4pucgjvesrdi0rn97k25985f0; path=/; domain=.sprzedajemy.pl; secure; HttpOnly, _items_per_page__offer_list=60; expires=Sun, 19-Oct-2025 16:11:26 GMT; Max-Age=2592000; path=/; domain=.sprzedajemy.pl; secure; httponly, observed_id=104956748268cd80ae51b248201403081606287366; expires=Wed, 19-Sep-2125 17:11:26 GMT; Max-Age=3155677200; path=/; domain=.sprzedajemy.pl; secure; httponly', 'Expires': 'Thu, 19 Nov 1981 08:52:00 GMT', 'Cache-Control': 'no-store, no-cache, must-revalidate, post-check=0, pre-check=0', 'Pragma': 'no-cache', 'Content-Encoding': 'gzip'}\n",
      "Response Text (first 2000 chars): <!DOCTYPE html><html xmlns=\"http://www.w3.org/1999/xhtml\" xml:lang=\"pl\" lang=\"pl\" class=\"no-js\" >\n",
      "<head>\n",
      "\t\t\t<!-- Google Tag Manager -->\n",
      "\t\t\t<script>(function(w,d,s,l,i){w[l]=w[l]||[];w[l].push({'gtm.start':\n",
      "\t\t\t\t\t\tnew Date().getTime(),event:'gtm.js'});var f=d.getElementsByTagName(s)[0],\n",
      "\t\t\t\t\tj=d.createElement(s),dl=l!='dataLayer'?'&l='+l:'';j.async=true;j.src=\n",
      "\t\t\t\t\t'https://www.googletagmanager.com/gtm.js?id='+i+dl\n",
      "\t\t\t\t\t\t\t\t\t    ;f.parentNode.insertBefore(j,f);\n",
      "\t\t\t\t    })(window,document,'script','dataLayer','GTM-P3S238');</script>\n",
      "\t\t\t<!-- End Google Tag Manager -->\n",
      "\t<title>Mieszkania Kraków na sprzedaż, wynajem - Sprzedajemy.pl</title><meta http-equiv=\"Content-Type\" content=\"text/html; charset=UTF-8\" >\n",
      "<meta http-equiv=\"X-UA-Compatible\" content=\"IE=edge\" >\n",
      "<meta name=\"description\" content=\"Ogłoszenia o tematyce:  w kategorii Mieszkania - Kupuj i sprzedawaj rzeczy używane i nowe w kategorii Mieszkania na Sprzedajemy.pl\" >\n",
      "<meta property=\"og:title\" content=\"Mieszkania Kraków na sprzedaż, wynajem - Sprzedajemy.pl\" >\n",
      "<meta property=\"og:type\" content=\"website\" >\n",
      "<meta property=\"og:image\" content=\"https://thumbs.img-sprzedajemy.pl/facebook/sprzedajemy.pl.png\" >\n",
      "<meta property=\"og:image:width\" content=\"200\" >\n",
      "<meta property=\"og:image:height\" content=\"200\" >\n",
      "<meta property=\"og:url\" content=\"https://sprzedajemy.pl/krakow/nieruchomosci/mieszkania\" >\n",
      "<meta property=\"og:site_name\" content=\"Sprzedajemy.pl\" >\n",
      "<meta property=\"fb:app_id\" content=\"173258269367442\" >\n",
      "<meta property=\"og:description\" content=\"Ogłoszenia o tematyce:  w kategorii Mieszkania - Kupuj i sprzedawaj rzeczy używane i nowe w kategorii Mieszkania na Sprzedajemy.pl\" >\n",
      "<meta name=\"robots\" content=\"noindex, follow\" >\t\t<script  async=\"async\" src=\"https://static.criteo.net/js/ld/publishertag.js\"></script>\n",
      "        <script  async=\"async\" src=\"https://ap.lijit.com/www/sovrn_beacon_standalone/sovrn_standalone_beacon.js?iid=13417409&amp;uid=sprzedajemy\" id=\"sBeacon\"></script>\n",
      "\t\t<script  async=\"async\" src=\"https://securepuba\n",
      "Titles: ['Podedworze 13', 'Stylowy lokal na parterze przy Krowoderskiej', 'Wyjątkowy lokal przy ul. Krowoderskiej z widokiem na stronę ogrodową', 'Dwa pokoje - stare miasto - Do wejścia - Własność', '2-pokojowe mieszkanie po remoncie | PROMOCJA | ul Bronowicka', 'Sprzedam dwupokojowe mieszkanie os. Dywizjonu 303, 19C Kraków', 'Mieszkanie z widokiem na góry', 'Wyjątkowe mieszkanie z widokiem na klasztor w Tyńcu i panoramę Tatr', 'Stylowy apartament z widokiem na panoramę Krakowa - od właściciela', 'Nowoczesny apartament z panoramicznym widokiem - od właściciela', 'Mieszkanie 59.82m2 4 pokoje Kraków', 'Ogłoszenie mieszkanie 63.08m2 4-pok Kraków Pękowicka', 'Mieszkanie Kraków 72.4m2 2 pokoje', 'Mieszkanie 48.2m Kraków', 'Sprzedaż mieszkania Kraków Lubomirskiego 23.3 metry 1-pokojowe', 'Mieszkanie 56.09 metrów 3 pok Kraków', 'Mieszkanie 40.38m2 2 pokoje Kraków', 'Mieszkanie 27.49m2 Kraków', 'Mieszkanie Kraków 49.86m2 3-pokojowe', 'Mieszkanie 58m2 3-pokojowe Kraków dr. Jana Piltza', 'Wynajmę mieszkanie Kraków Wojciecha Bogusławskiego 45m2 2-pokojowe', 'Mieszkanie 57.09m2 3 pokoje Kraków Na Błonie', 'Mieszkanie 41.06m2 2 pok Kraków', 'Mieszkanie Kraków Kantrowicka 36.09m', 'Mieszkanie 26.07m2 Kraków Skałeczna', 'Sprzedam mieszkanie 102m2 Kraków', 'Mieszkanie 72.4m2 3 pokoje Kraków Babińskiego', 'Mieszkanie Kraków Olszanicka 94.68m2 4 pokoje', 'Mieszkanie 46.66m2 2-pok Kraków Babińskiego', 'Mieszkanie 37.98m2 2-pokojowe Kraków Pękowicka', 'Mieszkanie Kraków Reduta 74.64 metry 3-pok', 'Mieszkanie Kraków Pękowicka 43.13m2', 'Mieszkanie 31.74m2 1 pokojowe Kraków', 'Do sprzedaży mieszkanie 90.48m2 4-pokojowe Kraków Babińskiego', 'Mieszkanie Kraków Pękowicka 65.47m2 4 pokoje', 'Mieszkanie 51.81m2 2 pok Kraków Na Błonie', 'Mieszkanie Kraków 39.76m2', 'Mieszkanie Kraków Pękowicka 60.73m2 4-pokojowe', 'Sprzedam mieszkanie 51.54m2 3 pokoje Kraków', 'Mieszkanie na sprzedaż Kraków Reduta 76.84m2 3 pok', 'Mieszkanie 24.5m2 Kraków ul. Fatimska', 'Mieszkanie 42.1m2 2 pok Kraków Pękowicka', 'Mieszkanie 67.69m2 Kraków Pękowicka', 'Mieszkanie 59.31m2 4-pokojowe Kraków Kantrowicka', 'Oferta sprzedaży mieszkania 63.45m2 3-pokojowe Kraków Wadowicka', 'Mieszkanie 64.98m2 4 pokojowe Kraków', 'Mieszkanie Kraków Na Błonie 37.5 metrów 3 pokoje', 'Sprzedam mieszkanie Kraków 29 listopada - okolice 36.93m2 2 pokoje', 'Apartament nad Wisłą na Starym Podgórzu', 'Mieszkanie Kraków Kantrowicka 65.16m2 4 pokojowe', 'Mieszkanie 65.46m2 3-pok Kraków Wadowicka', 'Oferta sprzedaży mieszkania Kraków 44.27m2 2 pokoje', 'Oferta sprzedaży mieszkania 50.12m2 2 pok Kraków', 'Mieszkanie Kraków 73.99m2 3-pokojowe', 'Mieszkanie 79.28m2 Kraków Wadowicka', 'Do sprzedaży mieszkanie Kraków Wadowicka 44.08m2 2-pokojowe', 'Oferta sprzedaży mieszkania 32.79m2 Kraków', 'Mieszkanie 60.21m2 4-pokojowe Kraków Pękowicka', 'Mieszkanie Kraków 51.89m2 2 pokojowe', 'Oferta sprzedaży mieszkania 41.18m2 2-pokojowe Kraków Na Błonie']\n",
      "60\n",
      "Prices: ['542 000 zł', '1 890 000 zł', '1 340 000 zł', '715 155 zł', '710 000 zł', '635 000 zł', '265 000 zł', '779 000 zł', '890 000 zł', '997 000 zł', '969 084 zł', '1 075 514 zł', '1 194 600 zł', '797 710 zł', '518 000 zł', '1 061 110 zł', '722 802 zł', '475 577 zł', '703 026 zł', '1 049 000 zł', '4 200 zł', '1 057 763 zł', '786 011 zł', '541 350 zł', '614 000 zł', '1 725 000 zł', '1 194 600 zł', '1 387 058 zł', '835 214 zł', '653 256 zł', '1 200 000 zł', '711 645 zł', '615 756 zł', '1 465 776 zł', '1 050 793 zł', '895 017 zł', '671 944 zł', '986 862 zł', '695 790 zł', '1 335 000 zł', '450 000 zł', '688 335 zł', '1 083 040 zł', '816 995 zł', '1 053 270 zł', '1 052 676 zł', '764 437 zł', '640 163 zł', '1 049 000 zł', '773 775 zł', '1 099 728 zł', '743 736 zł', '830 000 zł', '1 560 000 zł', '1 339 832 zł', '806 664 zł', '619 731 zł', '969 381 zł', '906 725 zł', '779 784 zł']\n",
      "60\n"
     ]
    }
   ],
   "source": [
    "import requests\n",
    "from bs4 import BeautifulSoup\n",
    "import pandas as pd\n",
    "import os\n",
    "\n",
    "url = \"https://sprzedajemy.pl/krakow/nieruchomosci/mieszkania?offset=0&items_per_page=60\"\n",
    "\n",
    "headers = {\n",
    "    \"User-Agent\": \"Mozilla/5.0 (Windows NT 10.0; Win64; x64) AppleWebKit/537.36 (KHTML, like Gecko) Chrome/58.0.3029.110 Safari/537.36\",\n",
    "    \"Accept\": \"text/html,application/xhtml+xml,application/xml;q=0.9,image/webp,image/apng,*/*;q=0.8\",\n",
    "    \"Accept-Encoding\": \"gzip, deflate, br\",\n",
    "    \"Accept-Language\": \"en-US,en;q=0.9,pl;q=0.8\",\n",
    "    \"Connection\": \"keep-alive\"\n",
    "}\n",
    "\n",
    "response = requests.get(url, headers=headers)\n",
    "response = requests.get(url, headers=headers)\n",
    "\n",
    "# Debugowanie odpowiedzi\n",
    "print(f\"Status Code: {response.status_code}\")\n",
    "print(f\"Response Headers: {response.headers}\")\n",
    "print(f\"Response Text (first 2000 chars): {response.text[:2000]}\")\n",
    "\n",
    "# Jeśli odpowiedź jest poprawna, wykonaj webscraping\n",
    "if response.status_code == 200:\n",
    "    soup = BeautifulSoup(response.content, \"html.parser\")\n",
    "\n",
    "    # Pobieranie ofert mieszkań\n",
    "    titles = [h2.a.text.strip() for h2 in soup.find_all(\"h2\", class_=\"title\") if h2.a]\n",
    "    prices = [p.text.replace(\"\\xa0\", \" \").strip() for p in soup.find_all(\"span\", class_=\"price\")]\n",
    "\n",
    "    print(\"Titles:\", titles)\n",
    "    print(len(titles))\n",
    "    print(\"Prices:\", prices)\n",
    "    print(len(prices))\n",
    "\n",
    "    df = pd.DataFrame({\"Title\": titles, \"Price\": prices})\n",
    "\n",
    "    # Dopisanie do pliku CSV\n",
    "    df.to_csv(\"scraped_data.csv\", mode='a', header=not os.path.exists('scraped_data.csv'), index=False)\n",
    "else:\n",
    "    print(\"Failed to retrieve data.\")\n"
   ]
  }
 ],
 "metadata": {
  "colab": {
   "provenance": []
  },
  "kernelspec": {
   "display_name": "Python 3",
   "name": "python3"
  },
  "language_info": {
   "codemirror_mode": {
    "name": "ipython",
    "version": 3
   },
   "file_extension": ".py",
   "mimetype": "text/x-python",
   "name": "python",
   "nbconvert_exporter": "python",
   "pygments_lexer": "ipython3",
   "version": "3.9.23"
  },
  "papermill": {
   "default_parameters": {},
   "duration": 3.253526,
   "end_time": "2025-09-19T16:11:26.954753",
   "environment_variables": {},
   "exception": null,
   "input_path": "nb.ipynb",
   "output_path": "nbo.ipynb",
   "parameters": {},
   "start_time": "2025-09-19T16:11:23.701227",
   "version": "2.6.0"
  }
 },
 "nbformat": 4,
 "nbformat_minor": 5
}