{
 "cells": [
  {
   "cell_type": "code",
   "execution_count": 1,
   "id": "6cc6902d",
   "metadata": {
    "colab": {
     "base_uri": "https://localhost:8080/"
    },
    "execution": {
     "iopub.execute_input": "2025-10-31T16:56:23.454693Z",
     "iopub.status.busy": "2025-10-31T16:56:23.454427Z",
     "iopub.status.idle": "2025-10-31T16:56:25.847130Z",
     "shell.execute_reply": "2025-10-31T16:56:25.846351Z"
    },
    "id": "5pYh4c8j1w43",
    "outputId": "8a0dca73-64e5-4f0d-c493-2c5b38392363",
    "papermill": {
     "duration": 2.396297,
     "end_time": "2025-10-31T16:56:25.848359",
     "exception": false,
     "start_time": "2025-10-31T16:56:23.452062",
     "status": "completed"
    },
    "tags": []
   },
   "outputs": [
    {
     "name": "stdout",
     "output_type": "stream",
     "text": [
      "Status Code: 200\n",
      "Response Headers: {'Server': 'nginx', 'Date': 'Fri, 31 Oct 2025 16:56:25 GMT', 'Content-Type': 'text/html; charset=UTF-8', 'Transfer-Encoding': 'chunked', 'Vary': 'Accept-Encoding, User-Agent', 'Set-Cookie': 'FRSPSID=q0cmat0o1q6nueuntd0n2qllf2; path=/; domain=.sprzedajemy.pl; secure; HttpOnly, _items_per_page__offer_list=60; expires=Sun, 30-Nov-2025 16:56:25 GMT; Max-Age=2592000; path=/; domain=.sprzedajemy.pl; secure; httponly, observed_id=4245758566904ea396850e0189834548511736334; expires=Wed, 31-Oct-2125 16:56:25 GMT; Max-Age=3155673600; path=/; domain=.sprzedajemy.pl; secure; httponly', 'Expires': 'Thu, 19 Nov 1981 08:52:00 GMT', 'Cache-Control': 'no-store, no-cache, must-revalidate, post-check=0, pre-check=0', 'Pragma': 'no-cache', 'Content-Encoding': 'gzip'}\n",
      "Response Text (first 2000 chars): <!DOCTYPE html><html xmlns=\"http://www.w3.org/1999/xhtml\" xml:lang=\"pl\" lang=\"pl\" class=\"no-js\" >\n",
      "<head>\n",
      "\t\t\t<!-- Google Tag Manager -->\n",
      "\t\t\t<script>(function(w,d,s,l,i){w[l]=w[l]||[];w[l].push({'gtm.start':\n",
      "\t\t\t\t\t\tnew Date().getTime(),event:'gtm.js'});var f=d.getElementsByTagName(s)[0],\n",
      "\t\t\t\t\tj=d.createElement(s),dl=l!='dataLayer'?'&l='+l:'';j.async=true;j.src=\n",
      "\t\t\t\t\t'https://www.googletagmanager.com/gtm.js?id='+i+dl\n",
      "\t\t\t\t\t\t\t\t\t    ;f.parentNode.insertBefore(j,f);\n",
      "\t\t\t\t    })(window,document,'script','dataLayer','GTM-P3S238');</script>\n",
      "\t\t\t<!-- End Google Tag Manager -->\n",
      "\t<title>Mieszkania Kraków na sprzedaż, wynajem - Sprzedajemy.pl</title><meta http-equiv=\"Content-Type\" content=\"text/html; charset=UTF-8\" >\n",
      "<meta http-equiv=\"X-UA-Compatible\" content=\"IE=edge\" >\n",
      "<meta name=\"description\" content=\"Ogłoszenia o tematyce:  w kategorii Mieszkania - Kupuj i sprzedawaj rzeczy używane i nowe w kategorii Mieszkania na Sprzedajemy.pl\" >\n",
      "<meta property=\"og:title\" content=\"Mieszkania Kraków na sprzedaż, wynajem - Sprzedajemy.pl\" >\n",
      "<meta property=\"og:type\" content=\"website\" >\n",
      "<meta property=\"og:image\" content=\"https://thumbs.img-sprzedajemy.pl/facebook/sprzedajemy.pl.png\" >\n",
      "<meta property=\"og:image:width\" content=\"200\" >\n",
      "<meta property=\"og:image:height\" content=\"200\" >\n",
      "<meta property=\"og:url\" content=\"https://sprzedajemy.pl/krakow/nieruchomosci/mieszkania\" >\n",
      "<meta property=\"og:site_name\" content=\"Sprzedajemy.pl\" >\n",
      "<meta property=\"fb:app_id\" content=\"173258269367442\" >\n",
      "<meta property=\"og:description\" content=\"Ogłoszenia o tematyce:  w kategorii Mieszkania - Kupuj i sprzedawaj rzeczy używane i nowe w kategorii Mieszkania na Sprzedajemy.pl\" >\n",
      "<meta name=\"robots\" content=\"noindex, follow\" >\t\t<script  async=\"async\" src=\"https://static.criteo.net/js/ld/publishertag.js\"></script>\n",
      "        <script  async=\"async\" src=\"https://ap.lijit.com/www/sovrn_beacon_standalone/sovrn_standalone_beacon.js?iid=13417409&amp;uid=sprzedajemy\" id=\"sBeacon\"></script>\n",
      "\t\t<script  async=\"async\" src=\"https://securepuba\n",
      "Titles: ['PILNE dwupokojowe mieszkanie (balkon, piwnica) os. Dywizjonu 303, 19C Krak…', 'Mieszkanie z widokiem na góry', 'Grzegorzki mieszkanie na sprzedaż 30 m', 'duże 2-pokojowe mieszkanie Z 2024r - 53m2 z balkonem APARTAMENT', 'Mieszkanie do sprzedania Kraków Babińskiego 32.79m2 1 pokój', 'Sprzedam mieszkanie 64.89m2 4 pokoje Kraków Kantrowicka', 'Mieszkanie Kraków Babińskiego 70.88m2 3 pokoje', 'Wynajem mieszkania 48.61m2 2-pok Kraków', 'Sprzedam mieszkanie 31.74m2 1 pokój Kraków Babińskiego', 'Mieszkanie Kraków Ludwinowska 110m2 3 pokojowe', 'Mieszkanie Kraków 43.35m2 2 pokoje', 'Mieszkanie 73.62m2 Kraków', 'Mieszkanie 36.09m2 2 pokoje Kraków Kantrowicka', 'Do sprzedaży mieszkanie Kraków 44.29m2 2 pok', 'Mieszkanie 38.51m2 2-pokojowe Kraków', 'Mieszkanie Kraków 72.56m 2-pokojowe', 'Mieszkanie Kraków Kantrowicka 51.54m2 3-pokojowe', 'Oferta sprzedaży mieszkania 45.84m2 2 pokoje Kraków Wadowicka', 'Mieszkanie Kraków Kantrowicka 51.42 metry 3 pokoje', 'Mieszkanie 60.04m2 4 pokoje Kraków', 'Mieszkanie Kraków 37.52m2 2 pok', 'Mieszkanie Kraków 61.45m2 3 pokojowe', 'Mieszkanie Kraków Mirosława Krzyżańskiego 84.27 metrów 4 pok', 'Mieszkanie 40.1m 2-pokojowe Kraków Na Błonie', 'Mieszkanie Kraków Piasta Kołodzieja 70.96m2 4-pok', 'Mieszkanie 43.35m2 2 pokoje Kraków Wadowicka', 'Oferta sprzedaży mieszkania 20.81m2 1 pokojowe Kraków os. Hutnicze', 'Mieszkanie 36.91m2 2 pokoje Kraków 29 listopada - okolice', 'Mieszkanie Kraków Kantrowicka 51.54m2 3 pokoje', 'Oferta sprzedaży mieszkania 68.05m2 4-pokojowe Kraków Pękowicka', 'Mieszkanie 33.89m 1 pokojowe Kraków', 'Mieszkanie 38.19 metrów 2 pokoje Kraków Na Błonie', 'Mieszkanie 151.37m2 Kraków Olszanicka', 'Mieszkanie Kraków Pękowicka 39.09m2 2 pokojowe', 'Oferta sprzedaży mieszkania Kraków 37.68m2', 'Mieszkanie Kraków Wojciecha Bogusławskiego 55m2 3 pokoje', 'Mieszkanie Kraków 62.06m2 3 pok', 'Ogłoszenie mieszkanie 36.09m2 2-pokojowe Kraków', 'Mieszkanie 36.09m2 2-pok Kraków Kantrowicka', 'Mieszkanie na wynajem Kraków 53.2m2 2 pokojowe', 'Mieszkanie 43.35m2 2 pokoje Kraków Wadowicka', 'Mieszkanie 74.64m2 3-pokojowe Kraków', 'Mieszkanie 70.88m2 4 pokoje Kraków Wadowicka', 'Mieszkanie 64.84m2 4-pokojowe Kraków Pękowicka', 'Oferta wynajmu mieszkania 42m2 2-pok Kraków Składowa', 'Mieszkanie 103.1m2 4 pokojowe Kraków', 'Mieszkanie 63.3m2 3 pokoje Kraków', 'Mieszkanie Kraków Piasta Kołodzieja 53.19 metrów 3-pokojowe', 'Mieszkanie Kraków Wadowicka 74.74m2 3-pokojowe', 'Mieszkanie 114.76m2 5-pokojowe Kraków', 'Oferta sprzedaży mieszkania 50.23m2 3 pokojowe Kraków', 'Mieszkanie Kraków 39.34m2 2-pokojowe', 'Mieszkanie 37.56m2 2 pokoje Kraków', 'Mieszkanie 72.4m2 3 pokoje Kraków Babińskiego', 'Mieszkanie 52.04m2 2 pokojowe Kraków Na Błonie', 'Oferta sprzedaży mieszkania 72.4m 3 pokojowe Kraków Babińskiego', 'Mieszkanie Kraków 29 listopada - okolice 35.25m2 2-pokojowe', 'Oferta sprzedaży mieszkania Kraków Wadowicka 64.4m2 3 pokoje', 'Mieszkanie 31.74m2 1 pokój Kraków Babińskiego', 'Ogłoszenie mieszkanie Kraków 31.74m2']\n",
      "60\n",
      "Prices: ['590 000 zł', '265 000 zł', '549 000 zł', '1 135 000 zł', '619 731 zł', '811 125 zł', '1 169 520 zł', '2 800 zł', '599 886 zł', '10 000 zł', '762 960 zł', '1 133 748 zł', '514 282 zł', '668 779 zł', '729 817 zł', '1 226 264 zł', '734 445 zł', '857 208 zł', '635 987 zł', '981 654 zł', '739 798 zł', '669 805 zł', '969 105 zł', '723 609 zł', '879 904 zł', '819 315 zł', '479 000 zł', '641 918 zł', '670 020 zł', '952 700 zł', '640 521 zł', '714 396 zł', '1 952 673 zł', '619 576 zł', '696 905 zł', '6 000 zł', '1 061 226 zł', '497 139 zł', '505 260 zł', '3 300 zł', '814 980 zł', '1 200 000 zł', '1 176 608 zł', '914 244 zł', '3 000 zł', '2 015 000 zł', '790 000 zł', '744 660 zł', '1 240 684 zł', '1 732 876 zł', '703 220 zł', '629 440 zł', '733 159 zł', '1 295 960 zł', '854 441 zł', '1 158 400 zł', '823 383 zł', '1 114 120 zł', '599 886 zł', '599 886 zł']\n",
      "60\n"
     ]
    }
   ],
   "source": [
    "import requests\n",
    "from bs4 import BeautifulSoup\n",
    "import pandas as pd\n",
    "import os\n",
    "\n",
    "url = \"https://sprzedajemy.pl/krakow/nieruchomosci/mieszkania?offset=0&items_per_page=60\"\n",
    "\n",
    "headers = {\n",
    "    \"User-Agent\": \"Mozilla/5.0 (Windows NT 10.0; Win64; x64) AppleWebKit/537.36 (KHTML, like Gecko) Chrome/58.0.3029.110 Safari/537.36\",\n",
    "    \"Accept\": \"text/html,application/xhtml+xml,application/xml;q=0.9,image/webp,image/apng,*/*;q=0.8\",\n",
    "    \"Accept-Encoding\": \"gzip, deflate, br\",\n",
    "    \"Accept-Language\": \"en-US,en;q=0.9,pl;q=0.8\",\n",
    "    \"Connection\": \"keep-alive\"\n",
    "}\n",
    "\n",
    "response = requests.get(url, headers=headers)\n",
    "response = requests.get(url, headers=headers)\n",
    "\n",
    "# Debugowanie odpowiedzi\n",
    "print(f\"Status Code: {response.status_code}\")\n",
    "print(f\"Response Headers: {response.headers}\")\n",
    "print(f\"Response Text (first 2000 chars): {response.text[:2000]}\")\n",
    "\n",
    "# Jeśli odpowiedź jest poprawna, wykonaj webscraping\n",
    "if response.status_code == 200:\n",
    "    soup = BeautifulSoup(response.content, \"html.parser\")\n",
    "\n",
    "    # Pobieranie ofert mieszkań\n",
    "    titles = [h2.a.text.strip() for h2 in soup.find_all(\"h2\", class_=\"title\") if h2.a]\n",
    "    prices = [p.text.replace(\"\\xa0\", \" \").strip() for p in soup.find_all(\"span\", class_=\"price\")]\n",
    "\n",
    "    print(\"Titles:\", titles)\n",
    "    print(len(titles))\n",
    "    print(\"Prices:\", prices)\n",
    "    print(len(prices))\n",
    "\n",
    "    df = pd.DataFrame({\"Title\": titles, \"Price\": prices})\n",
    "\n",
    "    # Dopisanie do pliku CSV\n",
    "    df.to_csv(\"scraped_data.csv\", mode='a', header=not os.path.exists('scraped_data.csv'), index=False)\n",
    "else:\n",
    "    print(\"Failed to retrieve data.\")\n"
   ]
  }
 ],
 "metadata": {
  "colab": {
   "provenance": []
  },
  "kernelspec": {
   "display_name": "Python 3",
   "name": "python3"
  },
  "language_info": {
   "codemirror_mode": {
    "name": "ipython",
    "version": 3
   },
   "file_extension": ".py",
   "mimetype": "text/x-python",
   "name": "python",
   "nbconvert_exporter": "python",
   "pygments_lexer": "ipython3",
   "version": "3.9.24"
  },
  "papermill": {
   "default_parameters": {},
   "duration": 3.617285,
   "end_time": "2025-10-31T16:56:26.064785",
   "environment_variables": {},
   "exception": null,
   "input_path": "nb.ipynb",
   "output_path": "nbo.ipynb",
   "parameters": {},
   "start_time": "2025-10-31T16:56:22.447500",
   "version": "2.6.0"
  }
 },
 "nbformat": 4,
 "nbformat_minor": 5
}