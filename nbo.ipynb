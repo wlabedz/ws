{
 "cells": [
  {
   "cell_type": "code",
   "execution_count": 1,
   "id": "9193f57b",
   "metadata": {
    "colab": {
     "base_uri": "https://localhost:8080/"
    },
    "execution": {
     "iopub.execute_input": "2025-09-05T08:16:38.890859Z",
     "iopub.status.busy": "2025-09-05T08:16:38.890572Z",
     "iopub.status.idle": "2025-09-05T08:16:41.192460Z",
     "shell.execute_reply": "2025-09-05T08:16:41.191737Z"
    },
    "id": "5pYh4c8j1w43",
    "outputId": "8a0dca73-64e5-4f0d-c493-2c5b38392363",
    "papermill": {
     "duration": 2.305418,
     "end_time": "2025-09-05T08:16:41.193621",
     "exception": false,
     "start_time": "2025-09-05T08:16:38.888203",
     "status": "completed"
    },
    "tags": []
   },
   "outputs": [
    {
     "name": "stdout",
     "output_type": "stream",
     "text": [
      "Status Code: 200\n",
      "Response Headers: {'Server': 'nginx', 'Date': 'Fri, 05 Sep 2025 08:16:40 GMT', 'Content-Type': 'text/html; charset=UTF-8', 'Transfer-Encoding': 'chunked', 'Vary': 'Accept-Encoding, User-Agent', 'Set-Cookie': 'FRSPSID=a8djc2hlojd4o6030737r45984; path=/; domain=.sprzedajemy.pl; secure; HttpOnly, _items_per_page__offer_list=60; expires=Sun, 05-Oct-2025 08:16:40 GMT; Max-Age=2592000; path=/; domain=.sprzedajemy.pl; secure; httponly, observed_id=170637790368ba9c68c0803531335859888152786; expires=Wed, 05-Sep-2125 09:16:40 GMT; Max-Age=3155677200; path=/; domain=.sprzedajemy.pl; secure; httponly', 'Expires': 'Thu, 19 Nov 1981 08:52:00 GMT', 'Cache-Control': 'no-store, no-cache, must-revalidate, post-check=0, pre-check=0', 'Pragma': 'no-cache', 'Content-Encoding': 'gzip'}\n",
      "Response Text (first 2000 chars): <!DOCTYPE html><html xmlns=\"http://www.w3.org/1999/xhtml\" xml:lang=\"pl\" lang=\"pl\" class=\"no-js\" >\n",
      "<head>\n",
      "\t\t\t<!-- Google Tag Manager -->\n",
      "\t\t\t<script>(function(w,d,s,l,i){w[l]=w[l]||[];w[l].push({'gtm.start':\n",
      "\t\t\t\t\t\tnew Date().getTime(),event:'gtm.js'});var f=d.getElementsByTagName(s)[0],\n",
      "\t\t\t\t\tj=d.createElement(s),dl=l!='dataLayer'?'&l='+l:'';j.async=true;j.src=\n",
      "\t\t\t\t\t'https://www.googletagmanager.com/gtm.js?id='+i+dl\n",
      "\t\t\t\t\t\t\t\t\t    ;f.parentNode.insertBefore(j,f);\n",
      "\t\t\t\t    })(window,document,'script','dataLayer','GTM-P3S238');</script>\n",
      "\t\t\t<!-- End Google Tag Manager -->\n",
      "\t<title>Mieszkania Kraków na sprzedaż, wynajem - Sprzedajemy.pl</title><meta http-equiv=\"Content-Type\" content=\"text/html; charset=UTF-8\" >\n",
      "<meta http-equiv=\"X-UA-Compatible\" content=\"IE=edge\" >\n",
      "<meta name=\"description\" content=\"Ogłoszenia o tematyce:  w kategorii Mieszkania - Kupuj i sprzedawaj rzeczy używane i nowe w kategorii Mieszkania na Sprzedajemy.pl\" >\n",
      "<meta property=\"og:title\" content=\"Mieszkania Kraków na sprzedaż, wynajem - Sprzedajemy.pl\" >\n",
      "<meta property=\"og:type\" content=\"website\" >\n",
      "<meta property=\"og:image\" content=\"https://thumbs.img-sprzedajemy.pl/facebook/sprzedajemy.pl.png\" >\n",
      "<meta property=\"og:image:width\" content=\"200\" >\n",
      "<meta property=\"og:image:height\" content=\"200\" >\n",
      "<meta property=\"og:url\" content=\"https://sprzedajemy.pl/krakow/nieruchomosci/mieszkania\" >\n",
      "<meta property=\"og:site_name\" content=\"Sprzedajemy.pl\" >\n",
      "<meta property=\"fb:app_id\" content=\"173258269367442\" >\n",
      "<meta property=\"og:description\" content=\"Ogłoszenia o tematyce:  w kategorii Mieszkania - Kupuj i sprzedawaj rzeczy używane i nowe w kategorii Mieszkania na Sprzedajemy.pl\" >\n",
      "<meta name=\"robots\" content=\"noindex, follow\" >\t\t<script  async=\"async\" src=\"https://static.criteo.net/js/ld/publishertag.js\"></script>\n",
      "        <script  async=\"async\" src=\"https://ap.lijit.com/www/sovrn_beacon_standalone/sovrn_standalone_beacon.js?iid=13417409&amp;uid=sprzedajemy\" id=\"sBeacon\"></script>\n",
      "\t\t<script  async=\"async\" src=\"https://securepuba\n",
      "Titles: ['Mieszkanie z widokiem na góry', 'Wyjątkowe mieszkanie z widokiem na klasztor w Tyńcu i panoramę Tatr', 'Stylowy apartament z widokiem na panoramę Krakowa - od właściciela', 'Nowoczesny apartament z panoramicznym widokiem - od właściciela', 'Kraków, Stare Miasto sprzedaż/zamiana', 'Stylowy lokal na parterze przy Krowoderskiej', '2-pokojowe mieszkanie po remoncie | PROMOCJA | ul Bronowicka', 'Oferta wynajmu mieszkania 35.84m2 2 pokoje Kraków Romanowicza', 'Mieszkanie Kraków 24.3m 1-pokojowe', 'Gotowa Urządzona mikro kawalerka+balkon+ogród', 'Nowa Kameralna Inwestycja -od Dewelopera, Bieżanów', 'Kawalerka Salwator Centrum POD INWESTYCJE', '3 pokoje – 68,6 m2 – Prokocim Nowy – mieszkanie bezpośrednio od właściciela', 'Os. Botanika, apartament 4-5 pokoi, m. parkingowe', 'Kazimierz. Garsoniera po remoncie. Inwestycyjnie', 'Dla studenta lub na wynajem krótkoterminowy', 'Kawalerka do wynajęcia -Kraków Grzegórzki, Centrum', 'Sprzedam mieszkanie 43.6m2 2 pokoje Kraków', 'Mieszkanie Kraków Fabryczna 36.19m2', 'Apartament inwestycyjny w sercu Krakowa', 'Wynajem mieszkania 35.74m2 2 pok Kraków Romanowicza', 'Mieszkanie Kraków 36.19m2 2 pokojowe', 'Mieszkanie Kraków 26.32m', 'Mieszkanie 43m2 2 pokoje Kraków', 'Mieszkanie 26.93m2 1 pok Kraków Fabryczna', '2-pokojowe mieszkanie na sprzedaż  Bez pośrednika', 'Oferta sprzedaży mieszkania Kraków 58.4m2 5 pokoi', 'Mieszkanie 38.69m2 3 pokoje Kraków Imbramowska', 'Oferta wynajmu mieszkania 113m2 3-pokojowe Kraków Krowoderska', 'Mieszkanie 42m2 2 pokoje Kraków Śliczna', 'Ruczaj - 2 pokoje, balkon, jasna kuchnia, garaż', 'Mieszkanie Kraków Jerzego Szablowskiego 47m2 1-pokojowe', 'Na Stoku. Super 2-pokoje. Kuchnia, logia, piwnica', 'Do wynajęcia mieszkanie 70m2 3-pokojowe Kraków', 'Mieszkanie 45m2 2 pok Kraków Wiktora Heltmana', 'Wykończone//Prywatnie//3 pok./Nowe//Bez Pcc', 'Mieszkanie Kraków Czerwone Maki 57m2 3-pok', 'Mieszkanie Kraków Malachitowa 51.4m2 2 pokojowe', 'Mieszkanie 61.6m Kraków Jana Sas-Zubrzyckiego', 'Mieszkanie Kraków Komuny Paryskiej 78m2', 'Oferta sprzedaży mieszkania 95 metrów Kraków Fiołkowa', 'Mieszkanie Kraków Bohaterów Września 47m2 3-pok', 'Wybickiego - 2 pokoje, balkon, garaż, komórka', 'Sprzedaż mieszkania Kraków Bohaterów Września 60.03m2 3 pokoje', '2-pokojowe mieszkanie 49,52m2 z balkonem – Centralna Vita, Czyżyny', 'studio kawalerka Stare Podgórze', 'Mieszkanie Kraków os. Jagiellońskie 44m2 2-pok', 'Mieszkanie Kraków 26.88m2 1-pok', 'Mieszkanie 104m2 6 pokoi Kraków', 'Mieszkanie 70.4m2 3-pokojowe Kraków', 'Mieszkanie 51.59m2 3 pokoje Kraków os. Piastów', 'Sprzedam mieszkanie 42.97m² Złocień, z możliwością miejsca postojowego.', 'Oferta wynajmu mieszkania 51.87 metrów 2-pok Kraków', 'Wynajem 3-pokojowych mieszkań | Azory Kraków | Wyremontowane i umeblowane', 'Mieszkanie Kraków Piastów 47.38m2 2 pokoje', 'MIESZKANIE KRAKÓW BIEŃCZYCE', 'Oferta sprzedaży mieszkania 136.9m2 5 pokoi Kraków Reduta', 'Mieszkanie 24 metry 1 pokój Kraków Komandosów', 'Kaucja 1000 zł! 2-pokojowe mieszkanie 53 m², Prądnik Czerwony, Ugorek', 'Mieszkanie Kraków Tadeusza Śliwiaka 81.78m2 4 pokoje']\n",
      "60\n",
      "Prices: ['265 000 zł', '779 000 zł', '890 000 zł', '997 000 zł', '2 083 000 zł', '1 800 000 zł', '710 000 zł', '3 005 zł', '429 000 zł', '229 000 zł', '840 000 zł', '428 824 zł', '809 000 zł', '1 350 000 zł', '399 000 zł', '545 000 zł', '2 400 zł', '670 000 zł', '542 846 zł', '1 499 000 zł', '3 015 zł', '542 846 zł', '475 000 zł', '860 000 zł', '412 484 zł', '695 000 zł', '890 000 zł', '708 772 zł', '4 990 zł', '3 600 zł', '760 000 zł', '2 850 zł', '492 000 zł', '3 800 zł', '3 300 zł', '847 500 zł', '819 000 zł', '739 000 zł', '760 000 zł', '949 000 zł', '1 300 000 zł', '630 000 zł', '750 000 zł', '750 000 zł', '618 990,04 zł', '2 600 zł', '619 000 zł', '604 773 zł', '1 540 000 zł', '1 290 000 zł', '850 000 zł', '649 000 zł', '2 950 zł', '2 500 zł', '745 000 zł', '2 200 zł', '2 420 000 zł', '2 500 zł', '2 150 zł', '932 862 zł']\n",
      "60\n"
     ]
    }
   ],
   "source": [
    "import requests\n",
    "from bs4 import BeautifulSoup\n",
    "import pandas as pd\n",
    "import os\n",
    "\n",
    "url = \"https://sprzedajemy.pl/krakow/nieruchomosci/mieszkania?offset=0&items_per_page=60\"\n",
    "\n",
    "headers = {\n",
    "    \"User-Agent\": \"Mozilla/5.0 (Windows NT 10.0; Win64; x64) AppleWebKit/537.36 (KHTML, like Gecko) Chrome/58.0.3029.110 Safari/537.36\",\n",
    "    \"Accept\": \"text/html,application/xhtml+xml,application/xml;q=0.9,image/webp,image/apng,*/*;q=0.8\",\n",
    "    \"Accept-Encoding\": \"gzip, deflate, br\",\n",
    "    \"Accept-Language\": \"en-US,en;q=0.9,pl;q=0.8\",\n",
    "    \"Connection\": \"keep-alive\"\n",
    "}\n",
    "\n",
    "response = requests.get(url, headers=headers)\n",
    "response = requests.get(url, headers=headers)\n",
    "\n",
    "# Debugowanie odpowiedzi\n",
    "print(f\"Status Code: {response.status_code}\")\n",
    "print(f\"Response Headers: {response.headers}\")\n",
    "print(f\"Response Text (first 2000 chars): {response.text[:2000]}\")\n",
    "\n",
    "# Jeśli odpowiedź jest poprawna, wykonaj webscraping\n",
    "if response.status_code == 200:\n",
    "    soup = BeautifulSoup(response.content, \"html.parser\")\n",
    "\n",
    "    # Pobieranie ofert mieszkań\n",
    "    titles = [h2.a.text.strip() for h2 in soup.find_all(\"h2\", class_=\"title\") if h2.a]\n",
    "    prices = [p.text.replace(\"\\xa0\", \" \").strip() for p in soup.find_all(\"span\", class_=\"price\")]\n",
    "\n",
    "    print(\"Titles:\", titles)\n",
    "    print(len(titles))\n",
    "    print(\"Prices:\", prices)\n",
    "    print(len(prices))\n",
    "\n",
    "    df = pd.DataFrame({\"Title\": titles, \"Price\": prices})\n",
    "\n",
    "    # Dopisanie do pliku CSV\n",
    "    df.to_csv(\"scraped_data.csv\", mode='a', header=not os.path.exists('scraped_data.csv'), index=False)\n",
    "else:\n",
    "    print(\"Failed to retrieve data.\")\n"
   ]
  }
 ],
 "metadata": {
  "colab": {
   "provenance": []
  },
  "kernelspec": {
   "display_name": "Python 3",
   "name": "python3"
  },
  "language_info": {
   "codemirror_mode": {
    "name": "ipython",
    "version": 3
   },
   "file_extension": ".py",
   "mimetype": "text/x-python",
   "name": "python",
   "nbconvert_exporter": "python",
   "pygments_lexer": "ipython3",
   "version": "3.9.23"
  },
  "papermill": {
   "default_parameters": {},
   "duration": 3.507743,
   "end_time": "2025-09-05T08:16:41.411363",
   "environment_variables": {},
   "exception": null,
   "input_path": "nb.ipynb",
   "output_path": "nbo.ipynb",
   "parameters": {},
   "start_time": "2025-09-05T08:16:37.903620",
   "version": "2.6.0"
  }
 },
 "nbformat": 4,
 "nbformat_minor": 5
}