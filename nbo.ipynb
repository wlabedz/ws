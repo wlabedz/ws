{
 "cells": [
  {
   "cell_type": "code",
   "execution_count": 1,
   "id": "6dc4b066",
   "metadata": {
    "colab": {
     "base_uri": "https://localhost:8080/"
    },
    "execution": {
     "iopub.execute_input": "2025-10-07T09:44:03.335932Z",
     "iopub.status.busy": "2025-10-07T09:44:03.335673Z",
     "iopub.status.idle": "2025-10-07T09:44:06.168393Z",
     "shell.execute_reply": "2025-10-07T09:44:06.167693Z"
    },
    "id": "5pYh4c8j1w43",
    "outputId": "8a0dca73-64e5-4f0d-c493-2c5b38392363",
    "papermill": {
     "duration": 2.836123,
     "end_time": "2025-10-07T09:44:06.169507",
     "exception": false,
     "start_time": "2025-10-07T09:44:03.333384",
     "status": "completed"
    },
    "tags": []
   },
   "outputs": [
    {
     "name": "stdout",
     "output_type": "stream",
     "text": [
      "Status Code: 200\n",
      "Response Headers: {'Server': 'nginx', 'Date': 'Tue, 07 Oct 2025 09:44:05 GMT', 'Content-Type': 'text/html; charset=UTF-8', 'Transfer-Encoding': 'chunked', 'Vary': 'Accept-Encoding, User-Agent', 'Set-Cookie': 'FRSPSID=b17jti1spc1n58jqjm6acjfv95; path=/; domain=.sprzedajemy.pl; secure; HttpOnly, _items_per_page__offer_list=60; expires=Thu, 06-Nov-2025 09:44:05 GMT; Max-Age=2592000; path=/; domain=.sprzedajemy.pl; secure; httponly, observed_id=178984024468e4e0e59efbf2167498734365894125; expires=Sun, 07-Oct-2125 10:44:05 GMT; Max-Age=3155677200; path=/; domain=.sprzedajemy.pl; secure; httponly', 'Expires': 'Thu, 19 Nov 1981 08:52:00 GMT', 'Cache-Control': 'no-store, no-cache, must-revalidate, post-check=0, pre-check=0', 'Pragma': 'no-cache', 'Content-Encoding': 'gzip'}\n",
      "Response Text (first 2000 chars): <!DOCTYPE html><html xmlns=\"http://www.w3.org/1999/xhtml\" xml:lang=\"pl\" lang=\"pl\" class=\"no-js\" >\n",
      "<head>\n",
      "\t\t\t<!-- Google Tag Manager -->\n",
      "\t\t\t<script>(function(w,d,s,l,i){w[l]=w[l]||[];w[l].push({'gtm.start':\n",
      "\t\t\t\t\t\tnew Date().getTime(),event:'gtm.js'});var f=d.getElementsByTagName(s)[0],\n",
      "\t\t\t\t\tj=d.createElement(s),dl=l!='dataLayer'?'&l='+l:'';j.async=true;j.src=\n",
      "\t\t\t\t\t'https://www.googletagmanager.com/gtm.js?id='+i+dl\n",
      "\t\t\t\t\t\t\t\t\t    ;f.parentNode.insertBefore(j,f);\n",
      "\t\t\t\t    })(window,document,'script','dataLayer','GTM-P3S238');</script>\n",
      "\t\t\t<!-- End Google Tag Manager -->\n",
      "\t<title>Mieszkania Kraków na sprzedaż, wynajem - Sprzedajemy.pl</title><meta http-equiv=\"Content-Type\" content=\"text/html; charset=UTF-8\" >\n",
      "<meta http-equiv=\"X-UA-Compatible\" content=\"IE=edge\" >\n",
      "<meta name=\"description\" content=\"Ogłoszenia o tematyce:  w kategorii Mieszkania - Kupuj i sprzedawaj rzeczy używane i nowe w kategorii Mieszkania na Sprzedajemy.pl\" >\n",
      "<meta property=\"og:title\" content=\"Mieszkania Kraków na sprzedaż, wynajem - Sprzedajemy.pl\" >\n",
      "<meta property=\"og:type\" content=\"website\" >\n",
      "<meta property=\"og:image\" content=\"https://thumbs.img-sprzedajemy.pl/facebook/sprzedajemy.pl.png\" >\n",
      "<meta property=\"og:image:width\" content=\"200\" >\n",
      "<meta property=\"og:image:height\" content=\"200\" >\n",
      "<meta property=\"og:url\" content=\"https://sprzedajemy.pl/krakow/nieruchomosci/mieszkania\" >\n",
      "<meta property=\"og:site_name\" content=\"Sprzedajemy.pl\" >\n",
      "<meta property=\"fb:app_id\" content=\"173258269367442\" >\n",
      "<meta property=\"og:description\" content=\"Ogłoszenia o tematyce:  w kategorii Mieszkania - Kupuj i sprzedawaj rzeczy używane i nowe w kategorii Mieszkania na Sprzedajemy.pl\" >\n",
      "<meta name=\"robots\" content=\"noindex, follow\" >\t\t<script  async=\"async\" src=\"https://static.criteo.net/js/ld/publishertag.js\"></script>\n",
      "        <script  async=\"async\" src=\"https://ap.lijit.com/www/sovrn_beacon_standalone/sovrn_standalone_beacon.js?iid=13417409&amp;uid=sprzedajemy\" id=\"sBeacon\"></script>\n",
      "\t\t<script  async=\"async\" src=\"https://securepuba\n",
      "Titles: ['Mieszkanie 3-pokojowe Zakrzówek Ruczaj wynajem na 9 miesięcy', 'Sprzedam dwupokojowe mieszkanie os. Dywizjonu 303, 19C Kraków', '3-pokojowe mieszkanie 70m2 z klimatyzacją, 2 balkony - Wiślane Tarasy', 'Wyjątkowy lokal przy ul. Krowoderskiej z widokiem na stronę ogrodową', 'Mieszkanie Wzgórza Krzesławickie bez prowizji.', 'Kraków – Bieńczyce, os. Kazimierzowskie', 'Podedworze 13', 'Ogłoszenie mieszkanie Kraków Juliusza Lea 52m2 2 pokoje', 'Wynajmę', 'Sprzedam mieszkanie dwupokojowe 34m2', 'Mieszkanie Kraków os. Jagiellońskie 44m2 2-pokojowe', 'Mieszkanie Kraków os. Górali 46m2', 'Mieszkanie Kraków 34m2 2 pok', 'Apartament 54 m2, Kraków Ruczaj Właściciel', 'Oferta sprzedaży mieszkania 49m2 3 pokojowe Kraków os. Złotego Wieku', 'Jasne atrakcyjne mieszkanie 45m z tarasem 17m i ogrodem 33m taras parter', 'Wynajmę mieszkanie 30m2 Kraków Czyzyny', 'Sprzedam 2 pokojowe mieszkanie w atrakcyjnej okolicy', 'Mieszkanie 37m2 bez prowizji, w.standard, winda', 'Mieszkanie 3-pokojowe na sprzedaż', 'Sprzedaż mieszkania Kraków Pędzichów 39m2 2-pok', 'Mieszkanie Kraków Różana 47m2 2 pokoje', 'Mieszkanie 40.5m2 2 pokoje Kraków', 'Do wynajęcia mieszkanie 55m2 3-pok Kraków', 'Do wynajęcia mieszkanie jednopokojowe 36m', 'Mieszkanie Kraków 32.28m2 2 pokojowe', 'Mieszkanie sprzedam 38m 2-pokojowe Kraków Urbanistów', 'Mieszkanie sprzedam 54.98m2 3 pokoje Kraków Republiki Korczakowskiej', 'Mieszkanie do sprzedania 38.93m2 1 pokojowe Kraków', 'Mieszkanie 50m2 2-pok Kraków prof. Michała Bobrzyńskiego', 'Ogłoszenie mieszkanie 46.02m2 2 pokojowe Kraków os. Avia', 'Mieszkanie Kraków Krakowska 77.24m2 3 pokoje', 'Mieszkanie 91.1m2 4 pokojowe Kraków', 'Mieszkanie Kraków Kombatantów 35.49 metrów 2 pokojowe', 'Mieszkanie na wynajem Kraków 73.35 metrów 3 pokojowe', 'Mieszkanie 55.81 metrów 3-pokojowe Kraków Bolesława Orlińskiego', 'Na sprzedaż jasne, w pełni wyposażone mieszkanie', 'Mieszkanie 48.96 metrów 2 pokojowe Kraków', 'Mieszkanie do sprzedania Kraków Osiedle na Wzgórzach 34m2 1-pokojowe', 'Sprzedam mieszkanie 68.78m2 3 pokoje Kraków Dąbska', 'Mieszkanie 91.3m2 4 pokojowe Kraków', 'Mieszkanie Kraków Radzikowskiego 73m2 3 pokojowe', 'Mieszkanie Kraków 66m2 3 pokoje', 'Mieszkanie Kraków 31.3m2 1 pokój', 'Oferta wynajmu mieszkania Kraków os. Willowe 30.62m2', 'Mieszkanie 38.83m2 2 pokoje Kraków Jana Kantego Federowicza', '5 min do centrum - 2-pokojowe mieszkanie 48 m² – wysoki standard', 'Przestronne 3-pokojowe mieszkanie 59m2 z balkonem i piwnicą Bieńczyce', 'Kraków – Prądnik Biały – ul. Pachońskiego – 2 pokoje – 36 m² – BALKON', 'Przytulne 70m2 z 3 pokojami w centrum Krakowa – super lokalizacja Wisła', 'Duża kawalerka - Kraków – Salwator – ul. Kościuszki – 2 pokoje – 35 m²', 'Mieszkanie 53m2 z 2 pokojami – ul. Wysockiej, blisko AWF/Politechniki', 'Mieszkanie 68.1m2 3 pokoje Kraków Barska', 'Płaszów - dwa pokoje, jasna kuchnia, 1 piętro', 'Bronowice - bardzo ładne mieszkanie dwupokojowe', 'ul.Felińskiego, piękne 3 pokoje, garaż', 'Krowodrza Górka - 2 pokoje z wyjsciem do ogródka', 'Mieszkanie 26.32m2 1-pok Kraków Bratysławska', 'Mieszkanie Kraków 51m2 2 pokoje', 'Mieszkanie 3 pokojowe,  pow. 63.80 m2, os. Złotego Wieku']\n",
      "60\n",
      "Prices: ['3 000 zł', '620 000 zł', '5 900 zł', '1 340 000 zł', '670 000 zł', '579 000 zł', '542 000 zł', '980 000 zł', '3 500 zł', '420 000 zł', '599 900 zł', '529 000 zł', '2 500 zł', '3 400 zł', '555 000 zł', '860 000 zł', '2 300 zł', '650 000 zł', '595 000 zł', '758 000 zł', '700 000 zł', '1 300 zł', '599 zł', '5 500 zł', '2 000 zł', '290 000 zł', '485 000 zł', '780 000 zł', '709 000 zł', '729 000 zł', '779 000 zł', '1 250 000 zł', '1 190 000 zł', '465 000 zł', '3 200 zł', '899 000 zł', '715 000 zł', '750 849 zł', '430 000 zł', '1 590 000 zł', '1 450 000 zł', '699 000 zł', '750 000 zł', '2 400 zł', '2 100 zł', '594 252 zł', '3 550 zł', '720 000 zł', '2 800 zł', '4 299 zł', '2 800 zł', '2 500 zł', '1 450 000 zł', '790 000 zł', '599 000 zł', '770 000 zł', '625 000 zł', '469 000 zł', '859 000 zł', '769 000 zł']\n",
      "60\n"
     ]
    }
   ],
   "source": [
    "import requests\n",
    "from bs4 import BeautifulSoup\n",
    "import pandas as pd\n",
    "import os\n",
    "\n",
    "url = \"https://sprzedajemy.pl/krakow/nieruchomosci/mieszkania?offset=0&items_per_page=60\"\n",
    "\n",
    "headers = {\n",
    "    \"User-Agent\": \"Mozilla/5.0 (Windows NT 10.0; Win64; x64) AppleWebKit/537.36 (KHTML, like Gecko) Chrome/58.0.3029.110 Safari/537.36\",\n",
    "    \"Accept\": \"text/html,application/xhtml+xml,application/xml;q=0.9,image/webp,image/apng,*/*;q=0.8\",\n",
    "    \"Accept-Encoding\": \"gzip, deflate, br\",\n",
    "    \"Accept-Language\": \"en-US,en;q=0.9,pl;q=0.8\",\n",
    "    \"Connection\": \"keep-alive\"\n",
    "}\n",
    "\n",
    "response = requests.get(url, headers=headers)\n",
    "response = requests.get(url, headers=headers)\n",
    "\n",
    "# Debugowanie odpowiedzi\n",
    "print(f\"Status Code: {response.status_code}\")\n",
    "print(f\"Response Headers: {response.headers}\")\n",
    "print(f\"Response Text (first 2000 chars): {response.text[:2000]}\")\n",
    "\n",
    "# Jeśli odpowiedź jest poprawna, wykonaj webscraping\n",
    "if response.status_code == 200:\n",
    "    soup = BeautifulSoup(response.content, \"html.parser\")\n",
    "\n",
    "    # Pobieranie ofert mieszkań\n",
    "    titles = [h2.a.text.strip() for h2 in soup.find_all(\"h2\", class_=\"title\") if h2.a]\n",
    "    prices = [p.text.replace(\"\\xa0\", \" \").strip() for p in soup.find_all(\"span\", class_=\"price\")]\n",
    "\n",
    "    print(\"Titles:\", titles)\n",
    "    print(len(titles))\n",
    "    print(\"Prices:\", prices)\n",
    "    print(len(prices))\n",
    "\n",
    "    df = pd.DataFrame({\"Title\": titles, \"Price\": prices})\n",
    "\n",
    "    # Dopisanie do pliku CSV\n",
    "    df.to_csv(\"scraped_data.csv\", mode='a', header=not os.path.exists('scraped_data.csv'), index=False)\n",
    "else:\n",
    "    print(\"Failed to retrieve data.\")\n"
   ]
  }
 ],
 "metadata": {
  "colab": {
   "provenance": []
  },
  "kernelspec": {
   "display_name": "Python 3",
   "name": "python3"
  },
  "language_info": {
   "codemirror_mode": {
    "name": "ipython",
    "version": 3
   },
   "file_extension": ".py",
   "mimetype": "text/x-python",
   "name": "python",
   "nbconvert_exporter": "python",
   "pygments_lexer": "ipython3",
   "version": "3.9.23"
  },
  "papermill": {
   "default_parameters": {},
   "duration": 4.018801,
   "end_time": "2025-10-07T09:44:06.386837",
   "environment_variables": {},
   "exception": null,
   "input_path": "nb.ipynb",
   "output_path": "nbo.ipynb",
   "parameters": {},
   "start_time": "2025-10-07T09:44:02.368036",
   "version": "2.6.0"
  }
 },
 "nbformat": 4,
 "nbformat_minor": 5
}