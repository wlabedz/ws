{
 "cells": [
  {
   "cell_type": "code",
   "execution_count": 1,
   "id": "843520e4",
   "metadata": {
    "colab": {
     "base_uri": "https://localhost:8080/"
    },
    "execution": {
     "iopub.execute_input": "2025-06-18T09:56:14.845671Z",
     "iopub.status.busy": "2025-06-18T09:56:14.845197Z",
     "iopub.status.idle": "2025-06-18T09:56:16.880729Z",
     "shell.execute_reply": "2025-06-18T09:56:16.880039Z"
    },
    "id": "5pYh4c8j1w43",
    "outputId": "8a0dca73-64e5-4f0d-c493-2c5b38392363",
    "papermill": {
     "duration": 2.039385,
     "end_time": "2025-06-18T09:56:16.881881",
     "exception": false,
     "start_time": "2025-06-18T09:56:14.842496",
     "status": "completed"
    },
    "tags": []
   },
   "outputs": [
    {
     "name": "stdout",
     "output_type": "stream",
     "text": [
      "Status Code: 200\n",
      "Response Headers: {'Server': 'nginx', 'Date': 'Wed, 18 Jun 2025 09:56:16 GMT', 'Content-Type': 'text/html; charset=UTF-8', 'Transfer-Encoding': 'chunked', 'Vary': 'Accept-Encoding, User-Agent', 'Set-Cookie': 'FRSPSID=rllmf515lr9fvl6dd83upeq084; path=/; domain=.sprzedajemy.pl; secure; HttpOnly, _items_per_page__offer_list=60; expires=Fri, 18-Jul-2025 09:56:16 GMT; Max-Age=2592000; path=/; domain=.sprzedajemy.pl; secure; httponly, observed_id=211489219268528d407073f342211040116446220; expires=Mon, 18-Jun-2125 10:56:16 GMT; Max-Age=3155677200; path=/; domain=.sprzedajemy.pl; secure; httponly', 'Expires': 'Thu, 19 Nov 1981 08:52:00 GMT', 'Cache-Control': 'no-store, no-cache, must-revalidate, post-check=0, pre-check=0', 'Pragma': 'no-cache', 'Content-Encoding': 'gzip'}\n",
      "Response Text (first 2000 chars): <!DOCTYPE html><html xmlns=\"http://www.w3.org/1999/xhtml\" xml:lang=\"pl\" lang=\"pl\" class=\"no-js\" >\n",
      "<head>\n",
      "\t\t\t<!-- Google Tag Manager -->\n",
      "\t\t\t<script>(function(w,d,s,l,i){w[l]=w[l]||[];w[l].push({'gtm.start':\n",
      "\t\t\t\t\t\tnew Date().getTime(),event:'gtm.js'});var f=d.getElementsByTagName(s)[0],\n",
      "\t\t\t\t\tj=d.createElement(s),dl=l!='dataLayer'?'&l='+l:'';j.async=true;j.src=\n",
      "\t\t\t\t\t'https://www.googletagmanager.com/gtm.js?id='+i+dl\n",
      "\t\t\t\t\t\t\t\t\t    ;f.parentNode.insertBefore(j,f);\n",
      "\t\t\t\t    })(window,document,'script','dataLayer','GTM-P3S238');</script>\n",
      "\t\t\t<!-- End Google Tag Manager -->\n",
      "\t<title>Mieszkania Kraków na sprzedaż, wynajem - Sprzedajemy.pl</title><meta http-equiv=\"Content-Type\" content=\"text/html; charset=UTF-8\" >\n",
      "<meta http-equiv=\"X-UA-Compatible\" content=\"IE=edge\" >\n",
      "<meta name=\"description\" content=\"Ogłoszenia o tematyce:  w kategorii Mieszkania - Kupuj i sprzedawaj rzeczy używane i nowe w kategorii Mieszkania na Sprzedajemy.pl\" >\n",
      "<meta property=\"og:title\" content=\"Mieszkania Kraków na sprzedaż, wynajem - Sprzedajemy.pl\" >\n",
      "<meta property=\"og:type\" content=\"website\" >\n",
      "<meta property=\"og:image\" content=\"https://thumbs.img-sprzedajemy.pl/facebook/sprzedajemy.pl.png\" >\n",
      "<meta property=\"og:image:width\" content=\"200\" >\n",
      "<meta property=\"og:image:height\" content=\"200\" >\n",
      "<meta property=\"og:url\" content=\"https://sprzedajemy.pl/krakow/nieruchomosci/mieszkania\" >\n",
      "<meta property=\"og:site_name\" content=\"Sprzedajemy.pl\" >\n",
      "<meta property=\"fb:app_id\" content=\"173258269367442\" >\n",
      "<meta property=\"og:description\" content=\"Ogłoszenia o tematyce:  w kategorii Mieszkania - Kupuj i sprzedawaj rzeczy używane i nowe w kategorii Mieszkania na Sprzedajemy.pl\" >\n",
      "<meta name=\"robots\" content=\"noindex, follow\" >\t\t<script  async=\"async\" src=\"https://static.criteo.net/js/ld/publishertag.js\"></script>\n",
      "        <script  async=\"async\" src=\"https://ap.lijit.com/www/sovrn_beacon_standalone/sovrn_standalone_beacon.js?iid=13417409&amp;uid=sprzedajemy\" id=\"sBeacon\"></script>\n",
      "\t\t<script  async=\"async\" src=\"https://securepuba\n",
      "Titles: ['3-pok od właściciela, wyremontowane wyposażone, blisko centrum, zieleń', 'Nowe mieszkanie na sprzedaż 2-pokoje 38,6 m2 | Krowodrza - Kraków', 'Mieszkanie 4-pokoje Kraków - wolne od 1 Lipca 2025 r.', 'Mieszkanie 2 pokojowe', 'Stare Miasto 61,5 m2 KLIMA Wawel wykończone Kazimierz wysokie ROI', 'Stare Miasto 32m2 KLIMA Wawel wykończone Kazimierz wysokie ROI', 'Stylowy apartament z widokiem na panoramę Krakowa - od właściciela', 'Wyjątkowe mieszkanie z widokiem na klasztor w Tyńcu i panoramę Tatr', 'Nowoczesny apartament z panoramicznym widokiem - od właściciela', 'Mieszkanie na sprzedaż/zamiana 39m2', 'Wynajmie 3pok.mieszkanie z ogródkiem Krakow Glogera', 'Mieszkanie do sprzedania 37.35m2 2 pokoje Kraków', 'Do sprzedaży mieszkanie Kraków Kobierzyńska 49m2 2 pokojowe', 'Mieszkanie Kraków Jasnogórska 62.19m2', 'Mieszkanie Kraków 45m2 2 pok', 'Mieszkanie 34m2 1 pokój Kraków Kalwaryjska', 'Mieszkanie Kraków 37m 2 pokojowe', 'Stare Miasto | Taras z ogrodem 42 m² | Nowoczesne w centrum | WITA', 'Wykończone | 3 pokoje | Ruczaj | Ostatnie piętro', 'Wynajmę mieszkanie Kraków 30m2', 'Mieszkanie 50.31 metrów 2 pokoje Kraków Przybyszewskiego', 'Duża kawalerka - Kraków – Salwator – ul. Kościuszki – 2 pokoje – 35 m²', 'Mieszkanie Kraków Batalionu Skała AK 48m2 3 pokojowe', 'Mieszkanie 45.82m2 2 pokoje Kraków', 'Kraków – Prądnik Biały – ul. Pachońskiego – 2 pokoje – 36 m² – BALKON', '5 min do centrum - 2-pokojowe mieszkanie 48 m² – wysoki standard', 'Mieszkanie Kraków 108m2 4 pokoje', 'Sprzedaż mieszkania 67.08m2 4 pokojowe Kraków zabłocie', 'Mieszkanie sprzedam 32m2 1-pokojowe Kraków Św. Jacka', 'Mieszkanie Kraków 41m2', 'Oferta wynajmu mieszkania Kraków Szuwarowa 34.3m 1-pokojowe', 'Mieszkanie Kraków 108 metrów 4 pok', 'Mieszkanie do wynajęcia jednopokojowe 36m', 'Mieszkanie 49.6m2 2-pokojowe Kraków', 'Oferta sprzedaży mieszkania 108 metrów 4 pokojowe Kraków Pilotów', 'Nieruchomość która Cię zachwyci!', 'Oferta sprzedaży mieszkania Kraków 51.89m2 2 pokojowe', 'Apartament w sercu Kazimierza w Krakowie', 'Mieszkanie do sprzedania Kraków Krowodrza 84m2 4-pokojowe', 'Mieszkanie 3 pokojowe, oddzielna kuchnia, balkon', 'Oferta sprzedaży mieszkania Kraków Henryka Pachońskiego 45.5m2 3-pokojowe', 'Mieszkanie 55.24m2 2-pokojowe Kraków Leona Petrażyckiego', 'Mieszkanie na sprzedaż 44m2 2 pokoje Kraków', 'Oferta sprzedaży mieszkania 38.7m2 2 pok Kraków Pleszowska', 'Mieszkanie na sprzedaż 71m2 3 pok Kraków', 'Oferta sprzedaży mieszkania 47.9m2 2 pokoje Kraków Aleja Pokoju', 'Mieszkanie Kraków Mieczysława Pszona 43.3m2 2 pok', 'Mieszkanie 60.91 metrów 3 pokojowe Kraków Domagały', 'Mieszkanie na Złocieniu! Super cena i GRATIS', '3 pokoje, na Kazimierzu w Super Cenie!', 'Mieszkanie Kraków os. Albertyńskie 38m2 2 pokoje', 'Mieszkanie wynajmę Kraków 66m2 4 pokojowe', 'Mieszkanie Kraków Reduta 77.12 metry 3 pokoje', 'Oferta sprzedaży mieszkania 67.14m2 3 pok Kraków', 'Mieszkanie 67.14m2 4 pok Kraków Gałczyńskiego', 'Mieszkanie sprzedam Kraków 57.77m2 3 pokojowe', 'Piękne mieszkanie |2 pokoje + kuchnia| DO WEJŚCIA', 'Mieszkanie Kraków 64m2 3 pokoje', 'Atrakcyjne mieszkanie 3 pok.61,4 m2 Kraków ul. Młyńska', 'Mieszkanie Kraków Wrocławska 27.86m2 1 pokój']\n",
      "60\n",
      "Prices: ['839 000 zł', '799 000 zł', '4 800 zł', '489 000 zł', '1 782 885 zł', '989 000 zł', '897 000 zł', '779 000 zł', '997 000 zł', '539 000 zł', '3 500 zł', '690 000 zł', '695 000 zł', '870 660 zł', '690 000 zł', '599 000 zł', '650 000 zł', '778 000 zł', '859 000 zł', '2 300 zł', '879 000 zł', '2 800 zł', '2 900 zł', '870 000 zł', '2 800 zł', '3 550 zł', '859 000 zł', '1 213 620 zł', '567 000 zł', '1 800 zł', '1 900 zł', '859 000 zł', '2 000 zł', '800 000 zł', '859 000 zł', '1 790 000 zł', '670 000 zł', '2 450 000 zł', '1 350 000 zł', '825 000 zł', '620 000 zł', '760 000 zł', '799 000 zł', '553 000 zł', '1 065 000 zł', '839 000 zł', '649 000 zł', '940 000 zł', '648 000 zł', '880 000 zł', '470 000 zł', '4 900 zł', '1 342 000 zł', '1 170 413 zł', '1 143 552 zł', '830 000 zł', '549 900 zł', '949 000 zł', '915 000 zł', '567 000 zł']\n",
      "60\n"
     ]
    }
   ],
   "source": [
    "import requests\n",
    "from bs4 import BeautifulSoup\n",
    "import pandas as pd\n",
    "import os\n",
    "\n",
    "url = \"https://sprzedajemy.pl/krakow/nieruchomosci/mieszkania?offset=0&items_per_page=60\"\n",
    "\n",
    "headers = {\n",
    "    \"User-Agent\": \"Mozilla/5.0 (Windows NT 10.0; Win64; x64) AppleWebKit/537.36 (KHTML, like Gecko) Chrome/58.0.3029.110 Safari/537.36\",\n",
    "    \"Accept\": \"text/html,application/xhtml+xml,application/xml;q=0.9,image/webp,image/apng,*/*;q=0.8\",\n",
    "    \"Accept-Encoding\": \"gzip, deflate, br\",\n",
    "    \"Accept-Language\": \"en-US,en;q=0.9,pl;q=0.8\",\n",
    "    \"Connection\": \"keep-alive\"\n",
    "}\n",
    "\n",
    "response = requests.get(url, headers=headers)\n",
    "response = requests.get(url, headers=headers)\n",
    "\n",
    "# Debugowanie odpowiedzi\n",
    "print(f\"Status Code: {response.status_code}\")\n",
    "print(f\"Response Headers: {response.headers}\")\n",
    "print(f\"Response Text (first 2000 chars): {response.text[:2000]}\")\n",
    "\n",
    "# Jeśli odpowiedź jest poprawna, wykonaj webscraping\n",
    "if response.status_code == 200:\n",
    "    soup = BeautifulSoup(response.content, \"html.parser\")\n",
    "\n",
    "    # Pobieranie ofert mieszkań\n",
    "    titles = [h2.a.text.strip() for h2 in soup.find_all(\"h2\", class_=\"title\") if h2.a]\n",
    "    prices = [p.text.replace(\"\\xa0\", \" \").strip() for p in soup.find_all(\"span\", class_=\"price\")]\n",
    "\n",
    "    print(\"Titles:\", titles)\n",
    "    print(len(titles))\n",
    "    print(\"Prices:\", prices)\n",
    "    print(len(prices))\n",
    "\n",
    "    df = pd.DataFrame({\"Title\": titles, \"Price\": prices})\n",
    "\n",
    "    # Dopisanie do pliku CSV\n",
    "    df.to_csv(\"scraped_data.csv\", mode='a', header=not os.path.exists('scraped_data.csv'), index=False)\n",
    "else:\n",
    "    print(\"Failed to retrieve data.\")\n"
   ]
  }
 ],
 "metadata": {
  "colab": {
   "provenance": []
  },
  "kernelspec": {
   "display_name": "Python 3",
   "name": "python3"
  },
  "language_info": {
   "codemirror_mode": {
    "name": "ipython",
    "version": 3
   },
   "file_extension": ".py",
   "mimetype": "text/x-python",
   "name": "python",
   "nbconvert_exporter": "python",
   "pygments_lexer": "ipython3",
   "version": "3.9.22"
  },
  "papermill": {
   "default_parameters": {},
   "duration": 3.146166,
   "end_time": "2025-06-18T09:56:17.099075",
   "environment_variables": {},
   "exception": null,
   "input_path": "nb.ipynb",
   "output_path": "nbo.ipynb",
   "parameters": {},
   "start_time": "2025-06-18T09:56:13.952909",
   "version": "2.6.0"
  }
 },
 "nbformat": 4,
 "nbformat_minor": 5
}