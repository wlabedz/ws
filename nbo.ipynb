{
 "cells": [
  {
   "cell_type": "code",
   "execution_count": 1,
   "id": "156b7fd0",
   "metadata": {
    "colab": {
     "base_uri": "https://localhost:8080/"
    },
    "execution": {
     "iopub.execute_input": "2025-10-09T17:53:28.353504Z",
     "iopub.status.busy": "2025-10-09T17:53:28.353232Z",
     "iopub.status.idle": "2025-10-09T17:53:30.980640Z",
     "shell.execute_reply": "2025-10-09T17:53:30.979915Z"
    },
    "id": "5pYh4c8j1w43",
    "outputId": "8a0dca73-64e5-4f0d-c493-2c5b38392363",
    "papermill": {
     "duration": 2.630819,
     "end_time": "2025-10-09T17:53:30.981814",
     "exception": false,
     "start_time": "2025-10-09T17:53:28.350995",
     "status": "completed"
    },
    "tags": []
   },
   "outputs": [
    {
     "name": "stdout",
     "output_type": "stream",
     "text": [
      "Status Code: 200\n",
      "Response Headers: {'Server': 'nginx', 'Date': 'Thu, 09 Oct 2025 17:53:30 GMT', 'Content-Type': 'text/html; charset=UTF-8', 'Transfer-Encoding': 'chunked', 'Vary': 'Accept-Encoding, User-Agent', 'Set-Cookie': 'FRSPSID=kvj7k19v1nj79du5o7bn4tr7h6; path=/; domain=.sprzedajemy.pl; secure; HttpOnly, _items_per_page__offer_list=60; expires=Sat, 08-Nov-2025 17:53:30 GMT; Max-Age=2592000; path=/; domain=.sprzedajemy.pl; secure; httponly, observed_id=191436553568e7f69a6f500982778948696285580; expires=Tue, 09-Oct-2125 18:53:30 GMT; Max-Age=3155677200; path=/; domain=.sprzedajemy.pl; secure; httponly', 'Expires': 'Thu, 19 Nov 1981 08:52:00 GMT', 'Cache-Control': 'no-store, no-cache, must-revalidate, post-check=0, pre-check=0', 'Pragma': 'no-cache', 'Content-Encoding': 'gzip'}\n",
      "Response Text (first 2000 chars): <!DOCTYPE html><html xmlns=\"http://www.w3.org/1999/xhtml\" xml:lang=\"pl\" lang=\"pl\" class=\"no-js\" >\n",
      "<head>\n",
      "\t\t\t<!-- Google Tag Manager -->\n",
      "\t\t\t<script>(function(w,d,s,l,i){w[l]=w[l]||[];w[l].push({'gtm.start':\n",
      "\t\t\t\t\t\tnew Date().getTime(),event:'gtm.js'});var f=d.getElementsByTagName(s)[0],\n",
      "\t\t\t\t\tj=d.createElement(s),dl=l!='dataLayer'?'&l='+l:'';j.async=true;j.src=\n",
      "\t\t\t\t\t'https://www.googletagmanager.com/gtm.js?id='+i+dl\n",
      "\t\t\t\t\t\t\t\t\t    ;f.parentNode.insertBefore(j,f);\n",
      "\t\t\t\t    })(window,document,'script','dataLayer','GTM-P3S238');</script>\n",
      "\t\t\t<!-- End Google Tag Manager -->\n",
      "\t<title>Mieszkania Kraków na sprzedaż, wynajem - Sprzedajemy.pl</title><meta http-equiv=\"Content-Type\" content=\"text/html; charset=UTF-8\" >\n",
      "<meta http-equiv=\"X-UA-Compatible\" content=\"IE=edge\" >\n",
      "<meta name=\"description\" content=\"Ogłoszenia o tematyce:  w kategorii Mieszkania - Kupuj i sprzedawaj rzeczy używane i nowe w kategorii Mieszkania na Sprzedajemy.pl\" >\n",
      "<meta property=\"og:title\" content=\"Mieszkania Kraków na sprzedaż, wynajem - Sprzedajemy.pl\" >\n",
      "<meta property=\"og:type\" content=\"website\" >\n",
      "<meta property=\"og:image\" content=\"https://thumbs.img-sprzedajemy.pl/facebook/sprzedajemy.pl.png\" >\n",
      "<meta property=\"og:image:width\" content=\"200\" >\n",
      "<meta property=\"og:image:height\" content=\"200\" >\n",
      "<meta property=\"og:url\" content=\"https://sprzedajemy.pl/krakow/nieruchomosci/mieszkania\" >\n",
      "<meta property=\"og:site_name\" content=\"Sprzedajemy.pl\" >\n",
      "<meta property=\"fb:app_id\" content=\"173258269367442\" >\n",
      "<meta property=\"og:description\" content=\"Ogłoszenia o tematyce:  w kategorii Mieszkania - Kupuj i sprzedawaj rzeczy używane i nowe w kategorii Mieszkania na Sprzedajemy.pl\" >\n",
      "<meta name=\"robots\" content=\"noindex, follow\" >\t\t<script  async=\"async\" src=\"https://static.criteo.net/js/ld/publishertag.js\"></script>\n",
      "        <script  async=\"async\" src=\"https://ap.lijit.com/www/sovrn_beacon_standalone/sovrn_standalone_beacon.js?iid=13417409&amp;uid=sprzedajemy\" id=\"sBeacon\"></script>\n",
      "\t\t<script  async=\"async\" src=\"https://securepuba\n",
      "Titles: ['Mieszkanie 3-pokojowe Zakrzówek Ruczaj wynajem na 9 miesięcy', 'Mieszkanie z widokiem na góry', 'Podedworze 13', 'Kraków, Stare Miasto sprzedaż/zamiana', '3-pokojowe mieszkanie 70m2 z klimatyzacją, 2 balkony - Wiślane Tarasy', 'Sprzedam dwupokojowe mieszkanie os. Dywizjonu 303, 19C Kraków', 'Mieszkanie Wzgórza Krzesławickie bez prowizji.', 'Mieszkanie Kraków Krokusowa 39.72m2 2 pokoje', 'Oferta sprzedaży mieszkania Kraków Aleja Kijowska 41.39m2 2 pokoje', 'Mieszkanie 55.5m2 3-pokojowe Kraków Ossowskiego', 'Ogłoszenie mieszkanie 46.5m2 3 pokojowe Kraków Lucjana Rydla', 'Mieszkanie Kraków 41.04m2 2-pokojowe', 'Oferta sprzedaży mieszkania Kraków Obozowa 60m2 3-pokojowe', 'Mieszkanie Kraków Borkowska 65.29m2 4 pok', 'Do sprzedaży mieszkanie Kraków 57.07m2 2-pokojowe', 'Oferta sprzedaży mieszkania 82 metry 3 pokoje Kraków', 'Mieszkanie do sprzedania Kraków 48.3 metry 2 pok', 'Mieszkanie 39.67m2 2 pokoje Kraków Pana Tadeusza', 'Mieszkanie Kraków Seweryna 44m2', 'Ogłoszenie mieszkanie Kraków os. Ogrodowe 20.6m2 1 pokój', 'Mieszkanie Kraków ul. Dzielskiego 52 metry 3-pok', 'Mieszkanie 71.8m 4-pokojowe Kraków', 'Mieszkanie Kraków 63.4m2 3 pokoje', 'Mieszkanie Kraków 34.6m2 2-pokojowe', 'Mieszkanie 58.7 metrów 2 pokojowe Kraków Kobierzyńska', 'Mieszkanie Kraków Myczkowskiego 61 metrów', 'Sprzedaż mieszkania Kraków 46.19m2 2 pokoje', 'Oferta sprzedaży mieszkania Kraków 41.1m2 1 pokój', 'Mieszkanie Kraków 64m2 3 pokoje', 'Mieszkanie Kraków Pana Tadeusza 56.97m 3 pokoje', 'Mieszkanie do sprzedania Kraków bp. Albina Małysiaka 41.07m2 2-pokojowe', 'Mieszkanie 37.79m2 2 pokoje Kraków Lubelska', 'Mieszkanie 44.91m2 2 pokoje Kraków', 'Oferta sprzedaży mieszkania Kraków 50m2 3 pokojowe', 'Mieszkanie sprzedam 40 metrów Kraków', 'Oferta sprzedaży mieszkania Kraków Aleja Kijowska 41.4m2 2 pokoje', 'BEZPOŚREDNIO Mieszkanie ul. Kielecka /Rondo Mogilskie', 'Mieszkanie Kraków 48.78m2 2 pok', 'Mieszkanie 66.9m2 3-pokojowe Kraków Makowa', 'Sprzedam mieszkanie 49.77m2 2 pokoje Kraków os. Stalowe', 'Wynajmę mieszkanie Kraków Zabłocie klimeckiego', 'Mieszkanie Kraków Niezapominajek 51.54m2 2 pokoje', 'Mieszkanie 55.98m2 2-pok Kraków', 'Mieszkanie 52m2 Kraków Ugorek', 'Oferta wynajmu mieszkania 35.84m2 2 pokoje Kraków Romanowicza', 'Mieszkanie 53.38 metrów 3 pokoje Kraków Bohomolca', 'Kawalerka koło CH Bonarka 30m2 apartment for sell next to CH Bonarka', 'Jasne mieszkanie w kamienicy Salwator', 'Bronowice - bardzo ładne mieszkanie dwupokojowe', 'Cudowne z ogródkiem - mieszkanie 3-pokojowe na Grzegórzkach w Krakowie', 'Piękny 4 pokojowy apartament na BRONOWICACH', 'Oferta wynajmu mieszkania Kraków 43m 2-pok', 'Syndyk ogłasza konkurs na sprzedaż 1/2 nieruchomości.', 'Piękne 2 pokojowe mieszkanie w Centrum', '3 pokojowe mieszkanie w NOWYM bloku', 'Sprzedam mieszkanie Kraków Dobrego Pasterza 66.35m2', 'Oferta sprzedaży mieszkania 80.33m2 4-pokojowe Kraków', '4 pokoje,balkon,klimatyzacja ul.Rostworowskiego 16', 'Nowe 2 pokoje z ogródkiem | Zakątek Dąbie | miejsce parkingowe w prezencie', '2 lub 3 pokoje,62m2,balkon,widok na Wawel']\n",
      "60\n",
      "Prices: ['2 900 zł', '265 000 zł', '542 000 zł', '2 015 000 zł', '5 900 zł', '620 000 zł', '670 000 zł', '660 000 zł', '922 955 zł', '976 000 zł', '760 000 zł', '902 838 zł', '880 000 zł', '960 000 zł', '798 000 zł', '995 000 zł', '695 000 zł', '875 000 zł', '678 000 zł', '360 000 zł', '719 000 zł', '880 000 zł', '820 000 zł', '700 000 zł', '860 000 zł', '870 000 zł', '670 000 zł', '540 000 zł', '920 000 zł', '1 249 000 zł', '649 000 zł', '1 690 000 zł', '996 957 zł', '628 000 zł', '799 000 zł', '931 458 zł', '1 995 zł', '799 000 zł', '3 300 zł', '746 500 zł', '2 900 zł', '1 200 000 zł', '850 000 zł', '620 000 zł', '3 005 zł', '3 700 zł', '450 000 zł', '3 100 zł', '599 000 zł', '4 600 zł', '2 199 000 zł', '2 500 zł', '175 125 zł', '759 900 zł', '1 099 000 zł', '1 250 000 zł', '945 000 zł', '2 999 zł', '899 900 zł', '1 490 000 zł']\n",
      "60\n"
     ]
    }
   ],
   "source": [
    "import requests\n",
    "from bs4 import BeautifulSoup\n",
    "import pandas as pd\n",
    "import os\n",
    "\n",
    "url = \"https://sprzedajemy.pl/krakow/nieruchomosci/mieszkania?offset=0&items_per_page=60\"\n",
    "\n",
    "headers = {\n",
    "    \"User-Agent\": \"Mozilla/5.0 (Windows NT 10.0; Win64; x64) AppleWebKit/537.36 (KHTML, like Gecko) Chrome/58.0.3029.110 Safari/537.36\",\n",
    "    \"Accept\": \"text/html,application/xhtml+xml,application/xml;q=0.9,image/webp,image/apng,*/*;q=0.8\",\n",
    "    \"Accept-Encoding\": \"gzip, deflate, br\",\n",
    "    \"Accept-Language\": \"en-US,en;q=0.9,pl;q=0.8\",\n",
    "    \"Connection\": \"keep-alive\"\n",
    "}\n",
    "\n",
    "response = requests.get(url, headers=headers)\n",
    "response = requests.get(url, headers=headers)\n",
    "\n",
    "# Debugowanie odpowiedzi\n",
    "print(f\"Status Code: {response.status_code}\")\n",
    "print(f\"Response Headers: {response.headers}\")\n",
    "print(f\"Response Text (first 2000 chars): {response.text[:2000]}\")\n",
    "\n",
    "# Jeśli odpowiedź jest poprawna, wykonaj webscraping\n",
    "if response.status_code == 200:\n",
    "    soup = BeautifulSoup(response.content, \"html.parser\")\n",
    "\n",
    "    # Pobieranie ofert mieszkań\n",
    "    titles = [h2.a.text.strip() for h2 in soup.find_all(\"h2\", class_=\"title\") if h2.a]\n",
    "    prices = [p.text.replace(\"\\xa0\", \" \").strip() for p in soup.find_all(\"span\", class_=\"price\")]\n",
    "\n",
    "    print(\"Titles:\", titles)\n",
    "    print(len(titles))\n",
    "    print(\"Prices:\", prices)\n",
    "    print(len(prices))\n",
    "\n",
    "    df = pd.DataFrame({\"Title\": titles, \"Price\": prices})\n",
    "\n",
    "    # Dopisanie do pliku CSV\n",
    "    df.to_csv(\"scraped_data.csv\", mode='a', header=not os.path.exists('scraped_data.csv'), index=False)\n",
    "else:\n",
    "    print(\"Failed to retrieve data.\")\n"
   ]
  }
 ],
 "metadata": {
  "colab": {
   "provenance": []
  },
  "kernelspec": {
   "display_name": "Python 3",
   "name": "python3"
  },
  "language_info": {
   "codemirror_mode": {
    "name": "ipython",
    "version": 3
   },
   "file_extension": ".py",
   "mimetype": "text/x-python",
   "name": "python",
   "nbconvert_exporter": "python",
   "pygments_lexer": "ipython3",
   "version": "3.9.23"
  },
  "papermill": {
   "default_parameters": {},
   "duration": 3.825942,
   "end_time": "2025-10-09T17:53:31.199907",
   "environment_variables": {},
   "exception": null,
   "input_path": "nb.ipynb",
   "output_path": "nbo.ipynb",
   "parameters": {},
   "start_time": "2025-10-09T17:53:27.373965",
   "version": "2.6.0"
  }
 },
 "nbformat": 4,
 "nbformat_minor": 5
}