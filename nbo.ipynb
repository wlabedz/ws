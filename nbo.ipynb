{
 "cells": [
  {
   "cell_type": "code",
   "execution_count": 1,
   "id": "93df04bd",
   "metadata": {
    "colab": {
     "base_uri": "https://localhost:8080/"
    },
    "execution": {
     "iopub.execute_input": "2025-05-10T06:25:50.398932Z",
     "iopub.status.busy": "2025-05-10T06:25:50.398447Z",
     "iopub.status.idle": "2025-05-10T06:25:52.496545Z",
     "shell.execute_reply": "2025-05-10T06:25:52.495670Z"
    },
    "id": "5pYh4c8j1w43",
    "outputId": "8a0dca73-64e5-4f0d-c493-2c5b38392363",
    "papermill": {
     "duration": 2.102002,
     "end_time": "2025-05-10T06:25:52.497760",
     "exception": false,
     "start_time": "2025-05-10T06:25:50.395758",
     "status": "completed"
    },
    "tags": []
   },
   "outputs": [
    {
     "name": "stdout",
     "output_type": "stream",
     "text": [
      "Status Code: 200\n",
      "Response Headers: {'Server': 'nginx', 'Date': 'Sat, 10 May 2025 06:25:52 GMT', 'Content-Type': 'text/html; charset=UTF-8', 'Transfer-Encoding': 'chunked', 'Vary': 'Accept-Encoding, User-Agent', 'Set-Cookie': 'FRSPSID=cjor0lshknutaoo8ed5l7hmbs5; path=/; domain=.sprzedajemy.pl; secure; HttpOnly, _items_per_page__offer_list=60; expires=Mon, 09-Jun-2025 06:25:51 GMT; Max-Age=2592000; path=/; domain=.sprzedajemy.pl; secure; httponly, observed_id=24559010681ef170116736104449610640386553; expires=Thu, 10-May-2125 07:25:52 GMT; Max-Age=3155677200; path=/; domain=.sprzedajemy.pl; secure; httponly', 'Expires': 'Thu, 19 Nov 1981 08:52:00 GMT', 'Cache-Control': 'no-store, no-cache, must-revalidate, post-check=0, pre-check=0', 'Pragma': 'no-cache', 'Content-Encoding': 'gzip'}\n",
      "Response Text (first 2000 chars): <!DOCTYPE html><html xmlns=\"http://www.w3.org/1999/xhtml\" xml:lang=\"pl\" lang=\"pl\" class=\"no-js\" >\n",
      "<head>\n",
      "\t\t\t<!-- Google Tag Manager -->\n",
      "\t\t\t<script>(function(w,d,s,l,i){w[l]=w[l]||[];w[l].push({'gtm.start':\n",
      "\t\t\t\t\t\tnew Date().getTime(),event:'gtm.js'});var f=d.getElementsByTagName(s)[0],\n",
      "\t\t\t\t\tj=d.createElement(s),dl=l!='dataLayer'?'&l='+l:'';j.async=true;j.src=\n",
      "\t\t\t\t\t'https://www.googletagmanager.com/gtm.js?id='+i+dl\n",
      "\t\t\t\t\t\t\t\t\t    ;f.parentNode.insertBefore(j,f);\n",
      "\t\t\t\t    })(window,document,'script','dataLayer','GTM-P3S238');</script>\n",
      "\t\t\t<!-- End Google Tag Manager -->\n",
      "\t<title>Mieszkania Kraków na sprzedaż, wynajem - Sprzedajemy.pl</title><meta http-equiv=\"Content-Type\" content=\"text/html; charset=UTF-8\" >\n",
      "<meta http-equiv=\"X-UA-Compatible\" content=\"IE=edge\" >\n",
      "<meta name=\"description\" content=\"Ogłoszenia o tematyce:  w kategorii Mieszkania - Kupuj i sprzedawaj rzeczy używane i nowe w kategorii Mieszkania na Sprzedajemy.pl\" >\n",
      "<meta property=\"og:title\" content=\"Mieszkania Kraków na sprzedaż, wynajem - Sprzedajemy.pl\" >\n",
      "<meta property=\"og:type\" content=\"website\" >\n",
      "<meta property=\"og:image\" content=\"https://thumbs.img-sprzedajemy.pl/facebook/sprzedajemy.pl.png\" >\n",
      "<meta property=\"og:image:width\" content=\"200\" >\n",
      "<meta property=\"og:image:height\" content=\"200\" >\n",
      "<meta property=\"og:url\" content=\"https://sprzedajemy.pl/krakow/nieruchomosci/mieszkania\" >\n",
      "<meta property=\"og:site_name\" content=\"Sprzedajemy.pl\" >\n",
      "<meta property=\"fb:app_id\" content=\"173258269367442\" >\n",
      "<meta property=\"og:description\" content=\"Ogłoszenia o tematyce:  w kategorii Mieszkania - Kupuj i sprzedawaj rzeczy używane i nowe w kategorii Mieszkania na Sprzedajemy.pl\" >\n",
      "<meta name=\"robots\" content=\"noindex, follow\" >\t\t<script  async=\"async\" src=\"https://static.criteo.net/js/ld/publishertag.js\"></script>\n",
      "        <script  async=\"async\" src=\"https://ap.lijit.com/www/sovrn_beacon_standalone/sovrn_standalone_beacon.js?iid=13417409&amp;uid=sprzedajemy\" id=\"sBeacon\"></script>\n",
      "\t\t<script  async=\"async\" src=\"https://securepuba\n",
      "Titles: ['Mieszkanie na sprzedaż/zamiana 39m2', 'Nowoczesny apartament z panoramicznym widokiem - od właściciela', 'Stylowy apartament z widokiem na panoramę Krakowa - od właściciela', 'Wyjątkowe mieszkanie z widokiem na klasztor w Tyńcu i panoramę Tatr', 'Sprzedam mieszkanie/kawalerke', 'Mieszkanie Kraków 52.21m2 2-pokojowe', 'Mieszkanie 74.57m2 2-pok Kraków', 'Ogłoszenie mieszkanie Kraków Wielicka 57.76m2 3 pokojowe', 'Oferta sprzedaży mieszkania Kraków 74.57m2 1-pokojowe', 'Mieszkanie Kraków 74.57m2 2 pokoje', 'Mieszkanie na sprzedaż 46.2 metry 2 pokojowe Kraków', 'Oferta wynajmu mieszkania 52m2 2 pokoje Kraków Szlak', 'Mieszkanie na wynajem 30.5m 1-pok Kraków Gen. L. Okulickiego', 'Mieszkanie do sprzedania Kraków mrj.Łupaszki 65.53m2 3-pok', 'Do sprzedaży mieszkanie Kraków 56.26m2 2 pokoje', 'Mieszkanie 87m2 4 pokoje Kraków', 'UNIKALNY nowy PREMIUM umeblowany BAGRY bez PCC', 'Ogłoszenie mieszkanie 82.03m2 3-pokojowe Kraków', 'Mieszkanie Kraków 54.46 metrów 3 pokojowe', 'Mieszkanie 37.31m2 2 pokoje Kraków os. Jagiellońskie', 'Mieszkanie Kraków os. Teatralne 57m2', 'Mieszkanie Kraków Erazma Jerzmanowskiego 39.2m2 2 pokoje', 'Oferta sprzedaży mieszkania 61.6m2 3 pokoje Kraków Jana Sas-Zubrzyckiego', 'Mieszkanie 41.8m2 Kraków Kalwaryjska', 'Mieszkanie Kraków 66.68m2 3 pok', 'Mieszkanie Kraków Fredry 40m2 2-pok', 'Mieszkanie Kraków 68.51m2 3-pokojowe', 'Mieszkanie 2-pokojowe na wynajem', 'Ogłoszenie mieszkanie 45.1 metrów 2 pokoje Kraków', 'Mieszkanie Kraków Armii Kraków 43m2 3-pokojowe', 'Mieszkanie 48.18m2 2 pokoje Kraków Nowa', 'Mieszkanie 58.57m2 3-pokojowe Kraków', 'Oferta sprzedaży mieszkania 49.08m2 2-pokojowe Kraków', 'Mieszkanie 2 pokojowe wynajmę Kraków Królewska', 'Mieszkanie 57m2 2 pokojowe Kraków prof. Michała Bobrzyńskiego', 'os.Tysiaclecia, 2-pokojowe z balkonem przy parku', 'Mieszkanie 139m2 4 pok Kraków Krowoderska', 'Mieszkanie 38.83m2 2 pokoje Kraków Jana Kantego Federowicza', 'Do sprzedaży mieszkanie 42.53m2 Kraków Paulińska', 'Mieszkanie 46.14m2 2 pokoje Kraków zabłocie', 'Mieszkanie do wynajęcia 36m2 1-pokojowe Kraków', 'Mieszkanie Kraków Bieżanów 71.4m2 3-pokojowe', 'Oferta sprzedaży mieszkania Kraków Bieżanów 45.18m2 2 pokoje', 'Oferta sprzedaży mieszkania Kraków Bieżanów 39.48m2 2 pokoje', 'Mieszkanie Kraków Płaszów 69.87m2 3-pokojowe', 'Sprzedam mieszkanie 69.92m 3 pokoje Kraków Płaszów', 'Mistrzejowice - dwupokojowe z jasną kuchnią,balkon', 'Oferta sprzedaży mieszkania Kraków Bieżanów 35.22m2 2 pokoje', '2 pok,oddzielna kuchnia,klima,parking, Wrocławska', 'Mieszkanie 64.78m2 Kraków', 'Apartament 45 m2, Kraków Ruczaj Łagiewniki', 'Mieszkanie sprzedam 31.62m2 2-pok Kraków', 'Mieszkanie 45.89m2 2 pokoje Kraków zabłocie', 'Sprzedam mieszkanie Kraków 64.79m2 3 pok', 'Mieszkanie do sprzedania Kraków Bieżanów 35.22 metry 2 pok', 'Mieszkanie 45.89 metrów 2 pok Kraków zabłocie', 'Oferta sprzedaży mieszkania 53.66m2 2-pok Kraków', 'Sprzedam mieszkanie 31.58m2 2 pokoje Kraków Bieżanów', 'Sprzedam mieszkanie Kraków 45.56 metrów', 'Mieszkanie Kraków 35.25m2']\n",
      "60\n",
      "Prices: ['548 000 zł', '997 000 zł', '897 000 zł', '790 000 zł', '449 000 zł', '806 801 zł', '609 316 zł', '948 000 zł', '532 897 zł', '656 277 zł', '930 000 zł', '4 000 zł', '2 400 zł', '868 000 zł', '1 200 000 zł', '1 350 000 zł', '965 000 zł', '1 350 000 zł', '795 000 zł', '469 000 zł', '799 000 zł', '649 000 zł', '750 000 zł', '3 200 zł', '813 496 zł', '2 950 zł', '815 269 zł', '2 400 zł', '519 000 zł', '2 600 zł', '1 150 000 zł', '1 138 893 zł', '886 766 zł', '2 900 zł', '3 100 zł', '650 000 zł', '1 749 000 zł', '594 252 zł', '930 000 zł', '838 120 zł', '2 600 zł', '892 500 zł', '632 520 zł', '572 460 zł', '950 232 zł', '994 949 zł', '585 000 zł', '521 256 zł', '3 200 zł', '906 920 zł', '2 900 zł', '467 976 zł', '881 790 zł', '874 665 zł', '521 256 zł', '898 414 zł', '750 680 zł', '483 174 zł', '849 150 zł', '521 700 zł']\n",
      "60\n"
     ]
    }
   ],
   "source": [
    "import requests\n",
    "from bs4 import BeautifulSoup\n",
    "import pandas as pd\n",
    "import os\n",
    "\n",
    "url = \"https://sprzedajemy.pl/krakow/nieruchomosci/mieszkania?offset=0&items_per_page=60\"\n",
    "\n",
    "headers = {\n",
    "    \"User-Agent\": \"Mozilla/5.0 (Windows NT 10.0; Win64; x64) AppleWebKit/537.36 (KHTML, like Gecko) Chrome/58.0.3029.110 Safari/537.36\",\n",
    "    \"Accept\": \"text/html,application/xhtml+xml,application/xml;q=0.9,image/webp,image/apng,*/*;q=0.8\",\n",
    "    \"Accept-Encoding\": \"gzip, deflate, br\",\n",
    "    \"Accept-Language\": \"en-US,en;q=0.9,pl;q=0.8\",\n",
    "    \"Connection\": \"keep-alive\"\n",
    "}\n",
    "\n",
    "response = requests.get(url, headers=headers)\n",
    "response = requests.get(url, headers=headers)\n",
    "\n",
    "# Debugowanie odpowiedzi\n",
    "print(f\"Status Code: {response.status_code}\")\n",
    "print(f\"Response Headers: {response.headers}\")\n",
    "print(f\"Response Text (first 2000 chars): {response.text[:2000]}\")\n",
    "\n",
    "# Jeśli odpowiedź jest poprawna, wykonaj webscraping\n",
    "if response.status_code == 200:\n",
    "    soup = BeautifulSoup(response.content, \"html.parser\")\n",
    "\n",
    "    # Pobieranie ofert mieszkań\n",
    "    titles = [h2.a.text.strip() for h2 in soup.find_all(\"h2\", class_=\"title\") if h2.a]\n",
    "    prices = [p.text.replace(\"\\xa0\", \" \").strip() for p in soup.find_all(\"span\", class_=\"price\")]\n",
    "\n",
    "    print(\"Titles:\", titles)\n",
    "    print(len(titles))\n",
    "    print(\"Prices:\", prices)\n",
    "    print(len(prices))\n",
    "\n",
    "    df = pd.DataFrame({\"Title\": titles, \"Price\": prices})\n",
    "\n",
    "    # Dopisanie do pliku CSV\n",
    "    df.to_csv(\"scraped_data.csv\", mode='a', header=not os.path.exists('scraped_data.csv'), index=False)\n",
    "else:\n",
    "    print(\"Failed to retrieve data.\")\n"
   ]
  }
 ],
 "metadata": {
  "colab": {
   "provenance": []
  },
  "kernelspec": {
   "display_name": "Python 3",
   "name": "python3"
  },
  "language_info": {
   "codemirror_mode": {
    "name": "ipython",
    "version": 3
   },
   "file_extension": ".py",
   "mimetype": "text/x-python",
   "name": "python",
   "nbconvert_exporter": "python",
   "pygments_lexer": "ipython3",
   "version": "3.9.22"
  },
  "papermill": {
   "default_parameters": {},
   "duration": 3.210505,
   "end_time": "2025-05-10T06:25:52.715385",
   "environment_variables": {},
   "exception": null,
   "input_path": "nb.ipynb",
   "output_path": "nbo.ipynb",
   "parameters": {},
   "start_time": "2025-05-10T06:25:49.504880",
   "version": "2.6.0"
  }
 },
 "nbformat": 4,
 "nbformat_minor": 5
}