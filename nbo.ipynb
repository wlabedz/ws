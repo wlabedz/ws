{
 "cells": [
  {
   "cell_type": "code",
   "execution_count": 1,
   "id": "7a2557b3",
   "metadata": {
    "colab": {
     "base_uri": "https://localhost:8080/"
    },
    "execution": {
     "iopub.execute_input": "2025-09-12T20:51:25.811200Z",
     "iopub.status.busy": "2025-09-12T20:51:25.810904Z",
     "iopub.status.idle": "2025-09-12T20:51:28.229412Z",
     "shell.execute_reply": "2025-09-12T20:51:28.228705Z"
    },
    "id": "5pYh4c8j1w43",
    "outputId": "8a0dca73-64e5-4f0d-c493-2c5b38392363",
    "papermill": {
     "duration": 2.422212,
     "end_time": "2025-09-12T20:51:28.230600",
     "exception": false,
     "start_time": "2025-09-12T20:51:25.808388",
     "status": "completed"
    },
    "tags": []
   },
   "outputs": [
    {
     "name": "stdout",
     "output_type": "stream",
     "text": [
      "Status Code: 200\n",
      "Response Headers: {'Server': 'nginx', 'Date': 'Fri, 12 Sep 2025 20:51:27 GMT', 'Content-Type': 'text/html; charset=UTF-8', 'Transfer-Encoding': 'chunked', 'Vary': 'Accept-Encoding, User-Agent', 'Set-Cookie': 'FRSPSID=rps4agblqlbdfv7q7d4t544uu3; path=/; domain=.sprzedajemy.pl; secure; HttpOnly, _items_per_page__offer_list=60; expires=Sun, 12-Oct-2025 20:51:27 GMT; Max-Age=2592000; path=/; domain=.sprzedajemy.pl; secure; httponly, observed_id=154788027868c487cfc6c046128279728884359984; expires=Wed, 12-Sep-2125 21:51:27 GMT; Max-Age=3155677200; path=/; domain=.sprzedajemy.pl; secure; httponly', 'Expires': 'Thu, 19 Nov 1981 08:52:00 GMT', 'Cache-Control': 'no-store, no-cache, must-revalidate, post-check=0, pre-check=0', 'Pragma': 'no-cache', 'Content-Encoding': 'gzip'}\n",
      "Response Text (first 2000 chars): <!DOCTYPE html><html xmlns=\"http://www.w3.org/1999/xhtml\" xml:lang=\"pl\" lang=\"pl\" class=\"no-js\" >\n",
      "<head>\n",
      "\t\t\t<!-- Google Tag Manager -->\n",
      "\t\t\t<script>(function(w,d,s,l,i){w[l]=w[l]||[];w[l].push({'gtm.start':\n",
      "\t\t\t\t\t\tnew Date().getTime(),event:'gtm.js'});var f=d.getElementsByTagName(s)[0],\n",
      "\t\t\t\t\tj=d.createElement(s),dl=l!='dataLayer'?'&l='+l:'';j.async=true;j.src=\n",
      "\t\t\t\t\t'https://www.googletagmanager.com/gtm.js?id='+i+dl\n",
      "\t\t\t\t\t\t\t\t\t    ;f.parentNode.insertBefore(j,f);\n",
      "\t\t\t\t    })(window,document,'script','dataLayer','GTM-P3S238');</script>\n",
      "\t\t\t<!-- End Google Tag Manager -->\n",
      "\t<title>Mieszkania Kraków na sprzedaż, wynajem - Sprzedajemy.pl</title><meta http-equiv=\"Content-Type\" content=\"text/html; charset=UTF-8\" >\n",
      "<meta http-equiv=\"X-UA-Compatible\" content=\"IE=edge\" >\n",
      "<meta name=\"description\" content=\"Ogłoszenia o tematyce:  w kategorii Mieszkania - Kupuj i sprzedawaj rzeczy używane i nowe w kategorii Mieszkania na Sprzedajemy.pl\" >\n",
      "<meta property=\"og:title\" content=\"Mieszkania Kraków na sprzedaż, wynajem - Sprzedajemy.pl\" >\n",
      "<meta property=\"og:type\" content=\"website\" >\n",
      "<meta property=\"og:image\" content=\"https://thumbs.img-sprzedajemy.pl/facebook/sprzedajemy.pl.png\" >\n",
      "<meta property=\"og:image:width\" content=\"200\" >\n",
      "<meta property=\"og:image:height\" content=\"200\" >\n",
      "<meta property=\"og:url\" content=\"https://sprzedajemy.pl/krakow/nieruchomosci/mieszkania\" >\n",
      "<meta property=\"og:site_name\" content=\"Sprzedajemy.pl\" >\n",
      "<meta property=\"fb:app_id\" content=\"173258269367442\" >\n",
      "<meta property=\"og:description\" content=\"Ogłoszenia o tematyce:  w kategorii Mieszkania - Kupuj i sprzedawaj rzeczy używane i nowe w kategorii Mieszkania na Sprzedajemy.pl\" >\n",
      "<meta name=\"robots\" content=\"noindex, follow\" >\t\t<script  async=\"async\" src=\"https://static.criteo.net/js/ld/publishertag.js\"></script>\n",
      "        <script  async=\"async\" src=\"https://ap.lijit.com/www/sovrn_beacon_standalone/sovrn_standalone_beacon.js?iid=13417409&amp;uid=sprzedajemy\" id=\"sBeacon\"></script>\n",
      "\t\t<script  async=\"async\" src=\"https://securepuba\n"
     ]
    },
    {
     "name": "stdout",
     "output_type": "stream",
     "text": [
      "Titles: ['Mieszkanie z widokiem na góry', 'Podedworze 13', 'Piękne, 2-pokojowe, po remoncie', 'Stylowy lokal na parterze przy Krowoderskiej', 'Stylowy apartament z widokiem na panoramę Krakowa - od właściciela', 'Wyjątkowe mieszkanie z widokiem na klasztor w Tyńcu i panoramę Tatr', 'Nowoczesny apartament z panoramicznym widokiem - od właściciela', '2-pokojowe mieszkanie po remoncie | PROMOCJA | ul Bronowicka', 'Wyjątkowy lokal przy ul. Krowoderskiej z widokiem na stronę ogrodową', 'Dwa pokoje - stare miasto - Do wejścia - Własność', 'Mieszkanie z garażem i komórką lokatorską', 'Sprzedam mieszkanie 58m2 3-pokojowe Kraków Fatimska', 'Przytulne Mieszkanie od właściciela Piaski Nowe Kraków', 'Mieszkanie dwupokojowe 52,7m2 na Lipińskiego, Ruczaj-Zaborze Kraków, od wł…', 'Mieszkanie 98 metrów 3 pokoje Kraków Bolesława Komorowskiego', 'Mieszkanie 38.4m2 2 pokojowe Kraków', 'Mieszkanie Kraków Borkowska 50m2', 'Mieszkanie Kraków 51.92m2 2 pokojowe', 'Oferta wynajmu mieszkania 40m2 2 pokoje Kraków Na Kozłówce', 'Mieszkanie Kraków 57.13m2 4-pokojowe', 'Mieszkanie 59.3m2 2 pok Kraków Kotlarska', 'Mieszkanie 3 pokojowe (77,7m2) w centrum Krakowa', 'Po remoncie 2 pokoje Przy Bulwarach Nowa cena', 'Mieszkanie Kraków 64.3m2 3 pokoje', 'Mieszkanie Kraków 24.3m 1-pokojowe', 'Mieszkanie przy ul. Piusa Welońskiego - Kraków', 'Oferta sprzedaży mieszkania 49m2 3-pokojowe Kraków', 'Lublanska 22 / 2 pok / BEZPOŚREDNIO', 'Mieszkanie-Podgórze', 'Mieszkanie na wynajem', 'Wynajmę', 'Mieszkanie Os. Avia Kraków, widok na góry', 'Oferta sprzedaży mieszkania 59.42m2 Kraków', 'Ogłoszenie mieszkanie 57.62m2 4 pokoje Kraków', 'Mieszkanie Kraków Rydlówka 42.88m2 3-pokojowe', 'Mieszkanie Kraków 70m2 3-pokojowe', 'Ogłoszenie mieszkanie 58 metrów 3 pokoje Kraków Nullo', 'Mieszkanie 32.2m2 2 pokojowe Kraków', 'Mieszkanie Kraków 42m2 2 pokoje', 'Mieszkanie Kraków Powstańców 46.95m2 3 pokoje', 'Mieszkanie 51m2 2 pokoje Kraków', 'Mieszkanie Kraków Fredry 47m2 2-pokojowe', 'Mieszkanie 61.63m2 3-pokojowe Kraków Gryczana', 'Mieszkanie 76.21m2 3 pokoje Kraków Armii Krajowej', 'Oferta sprzedaży mieszkania Kraków Zielińska 45.5m2 3-pokojowe', 'Pet Friendly - mieszkanie do wynajęcia na Czyżynach 30m² od zaraz', 'Mieszkanie Kraków Żmujdzka 67.86m2 4-pokojowe', 'Mieszkanie do sprzedania 50 metrów 2 pok Kraków mjr. Ryszarda Nuszkiewicza', 'Wynajem mieszkania Kraków Gabrieli Zapolskiej 55.05m2 2 pokojowe', 'Oferta sprzedaży mieszkania Kraków 66m2 3 pokojowe', '2 POKOJE z klimatem | Dąbska | TAURON Arena | Balkon', 'Mieszkanie Kraków Krokusowa 39.72m2 2 pokoje', 'Nowoczesne 3-pokojowe mieszkanie 48 m² – Pachońskiego / od zaraz', 'Bieńczyce - 3 pokoje, balkon, jasna kuchnia', 'Oferta wynajmu mieszkania Kraków Górników 40.41 metrów 2 pokojowe', 'Bezpośrednio Jasne 2 pokojowe Mieszkanie Centrum Ogrzewanie Centralne Park…', 'Mieszkanie Kraków 41.04m2 2-pokojowe', 'Do wynajęcia mieszkanie 2 pokojowe+balkon Kraków ul. Rusznikarska', 'Bezpośrednio Jasne 2 pokoje Mieszkanie Centrum Ogrzewanie Parking Komunika…', 'Oferta sprzedaży mieszkania Kraków Mirosława Krzyżańskiego 122m2 4 pokoje']\n",
      "60\n",
      "Prices: ['265 000 zł', '542 000 zł', '719 000 zł', '1 800 000 zł', '890 000 zł', '779 000 zł', '997 000 zł', '710 000 zł', '1 350 000 zł', '739 455 zł', '2 100 zł', '753 000 zł', '585 000 zł', '3 000 zł', '5 800 zł', '2 900 zł', '699 000 zł', '3 000 zł', '2 980 zł', '920 000 zł', '799 000 zł', '1 450 000 zł', '980 000 zł', '775 000 zł', '399 000 zł', '1 138 000 zł', '639 000 zł', '2 950 zł', '628 000 zł', '2 500 zł', '2 620 zł', '998 000 zł', '985 000 zł', '1 194 174 zł', '1 000 176 zł', '890 000 zł', '1 449 000 zł', '690 000 zł', '975 000 zł', '2 800 zł', '779 000 zł', '2 800 zł', '829 000 zł', '1 340 000 zł', '640 000 zł', '2 050 zł', '1 219 000 zł', '799 000 zł', '3 000 zł', '1 150 000 zł', '3 700 zł', '699 000 zł', '3 500 zł', '745 000 zł', '3 000 zł', '849 000 zł', '902 838 zł', '3 000 zł', '3 600 zł', '1 299 000 zł']\n",
      "60\n"
     ]
    }
   ],
   "source": [
    "import requests\n",
    "from bs4 import BeautifulSoup\n",
    "import pandas as pd\n",
    "import os\n",
    "\n",
    "url = \"https://sprzedajemy.pl/krakow/nieruchomosci/mieszkania?offset=0&items_per_page=60\"\n",
    "\n",
    "headers = {\n",
    "    \"User-Agent\": \"Mozilla/5.0 (Windows NT 10.0; Win64; x64) AppleWebKit/537.36 (KHTML, like Gecko) Chrome/58.0.3029.110 Safari/537.36\",\n",
    "    \"Accept\": \"text/html,application/xhtml+xml,application/xml;q=0.9,image/webp,image/apng,*/*;q=0.8\",\n",
    "    \"Accept-Encoding\": \"gzip, deflate, br\",\n",
    "    \"Accept-Language\": \"en-US,en;q=0.9,pl;q=0.8\",\n",
    "    \"Connection\": \"keep-alive\"\n",
    "}\n",
    "\n",
    "response = requests.get(url, headers=headers)\n",
    "response = requests.get(url, headers=headers)\n",
    "\n",
    "# Debugowanie odpowiedzi\n",
    "print(f\"Status Code: {response.status_code}\")\n",
    "print(f\"Response Headers: {response.headers}\")\n",
    "print(f\"Response Text (first 2000 chars): {response.text[:2000]}\")\n",
    "\n",
    "# Jeśli odpowiedź jest poprawna, wykonaj webscraping\n",
    "if response.status_code == 200:\n",
    "    soup = BeautifulSoup(response.content, \"html.parser\")\n",
    "\n",
    "    # Pobieranie ofert mieszkań\n",
    "    titles = [h2.a.text.strip() for h2 in soup.find_all(\"h2\", class_=\"title\") if h2.a]\n",
    "    prices = [p.text.replace(\"\\xa0\", \" \").strip() for p in soup.find_all(\"span\", class_=\"price\")]\n",
    "\n",
    "    print(\"Titles:\", titles)\n",
    "    print(len(titles))\n",
    "    print(\"Prices:\", prices)\n",
    "    print(len(prices))\n",
    "\n",
    "    df = pd.DataFrame({\"Title\": titles, \"Price\": prices})\n",
    "\n",
    "    # Dopisanie do pliku CSV\n",
    "    df.to_csv(\"scraped_data.csv\", mode='a', header=not os.path.exists('scraped_data.csv'), index=False)\n",
    "else:\n",
    "    print(\"Failed to retrieve data.\")\n"
   ]
  }
 ],
 "metadata": {
  "colab": {
   "provenance": []
  },
  "kernelspec": {
   "display_name": "Python 3",
   "name": "python3"
  },
  "language_info": {
   "codemirror_mode": {
    "name": "ipython",
    "version": 3
   },
   "file_extension": ".py",
   "mimetype": "text/x-python",
   "name": "python",
   "nbconvert_exporter": "python",
   "pygments_lexer": "ipython3",
   "version": "3.9.23"
  },
  "papermill": {
   "default_parameters": {},
   "duration": 3.66524,
   "end_time": "2025-09-12T20:51:28.547874",
   "environment_variables": {},
   "exception": null,
   "input_path": "nb.ipynb",
   "output_path": "nbo.ipynb",
   "parameters": {},
   "start_time": "2025-09-12T20:51:24.882634",
   "version": "2.6.0"
  }
 },
 "nbformat": 4,
 "nbformat_minor": 5
}