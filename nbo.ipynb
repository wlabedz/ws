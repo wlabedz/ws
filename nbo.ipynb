{
 "cells": [
  {
   "cell_type": "code",
   "execution_count": 1,
   "id": "f1ca32bf",
   "metadata": {
    "colab": {
     "base_uri": "https://localhost:8080/"
    },
    "execution": {
     "iopub.execute_input": "2025-05-02T16:14:10.352035Z",
     "iopub.status.busy": "2025-05-02T16:14:10.351744Z",
     "iopub.status.idle": "2025-05-02T16:14:13.523036Z",
     "shell.execute_reply": "2025-05-02T16:14:13.522314Z"
    },
    "id": "5pYh4c8j1w43",
    "outputId": "8a0dca73-64e5-4f0d-c493-2c5b38392363",
    "papermill": {
     "duration": 3.175084,
     "end_time": "2025-05-02T16:14:13.524256",
     "exception": false,
     "start_time": "2025-05-02T16:14:10.349172",
     "status": "completed"
    },
    "tags": []
   },
   "outputs": [
    {
     "name": "stdout",
     "output_type": "stream",
     "text": [
      "Status Code: 200\n",
      "Response Headers: {'Server': 'nginx', 'Date': 'Fri, 02 May 2025 16:14:13 GMT', 'Content-Type': 'text/html; charset=UTF-8', 'Transfer-Encoding': 'chunked', 'Vary': 'Accept-Encoding, User-Agent', 'Set-Cookie': 'FRSPSID=l6suu3e4jqsb17i4likcq59bs5; path=/; domain=.sprzedajemy.pl; secure; HttpOnly, _items_per_page__offer_list=60; expires=Sun, 01-Jun-2025 16:14:12 GMT; Max-Age=2592000; path=/; domain=.sprzedajemy.pl; secure; httponly, observed_id=6423415596814ef54f025e683955442775481458; expires=Wed, 02-May-2125 17:14:12 GMT; Max-Age=3155677200; path=/; domain=.sprzedajemy.pl; secure; httponly', 'Expires': 'Thu, 19 Nov 1981 08:52:00 GMT', 'Cache-Control': 'no-store, no-cache, must-revalidate, post-check=0, pre-check=0', 'Pragma': 'no-cache', 'Content-Encoding': 'gzip'}\n",
      "Response Text (first 2000 chars): <!DOCTYPE html><html xmlns=\"http://www.w3.org/1999/xhtml\" xml:lang=\"pl\" lang=\"pl\" class=\"no-js\" >\n",
      "<head>\n",
      "\t\t\t<!-- Google Tag Manager -->\n",
      "\t\t\t<script>(function(w,d,s,l,i){w[l]=w[l]||[];w[l].push({'gtm.start':\n",
      "\t\t\t\t\t\tnew Date().getTime(),event:'gtm.js'});var f=d.getElementsByTagName(s)[0],\n",
      "\t\t\t\t\tj=d.createElement(s),dl=l!='dataLayer'?'&l='+l:'';j.async=true;j.src=\n",
      "\t\t\t\t\t'https://www.googletagmanager.com/gtm.js?id='+i+dl\n",
      "\t\t\t\t\t\t\t\t\t    ;f.parentNode.insertBefore(j,f);\n",
      "\t\t\t\t    })(window,document,'script','dataLayer','GTM-P3S238');</script>\n",
      "\t\t\t<!-- End Google Tag Manager -->\n",
      "\t<title>Mieszkania Kraków na sprzedaż, wynajem - Sprzedajemy.pl</title><meta http-equiv=\"Content-Type\" content=\"text/html; charset=UTF-8\" >\n",
      "<meta http-equiv=\"X-UA-Compatible\" content=\"IE=edge\" >\n",
      "<meta name=\"description\" content=\"Ogłoszenia o tematyce:  w kategorii Mieszkania - Kupuj i sprzedawaj rzeczy używane i nowe w kategorii Mieszkania na Sprzedajemy.pl\" >\n",
      "<meta property=\"og:title\" content=\"Mieszkania Kraków na sprzedaż, wynajem - Sprzedajemy.pl\" >\n",
      "<meta property=\"og:type\" content=\"website\" >\n",
      "<meta property=\"og:image\" content=\"https://thumbs.img-sprzedajemy.pl/facebook/sprzedajemy.pl.png\" >\n",
      "<meta property=\"og:image:width\" content=\"200\" >\n",
      "<meta property=\"og:image:height\" content=\"200\" >\n",
      "<meta property=\"og:url\" content=\"https://sprzedajemy.pl/krakow/nieruchomosci/mieszkania\" >\n",
      "<meta property=\"og:site_name\" content=\"Sprzedajemy.pl\" >\n",
      "<meta property=\"fb:app_id\" content=\"173258269367442\" >\n",
      "<meta property=\"og:description\" content=\"Ogłoszenia o tematyce:  w kategorii Mieszkania - Kupuj i sprzedawaj rzeczy używane i nowe w kategorii Mieszkania na Sprzedajemy.pl\" >\n",
      "<meta name=\"robots\" content=\"noindex, follow\" >\t\t<script  async=\"async\" src=\"https://static.criteo.net/js/ld/publishertag.js\"></script>\n",
      "        <script  async=\"async\" src=\"https://ap.lijit.com/www/sovrn_beacon_standalone/sovrn_standalone_beacon.js?iid=13417409&amp;uid=sprzedajemy\" id=\"sBeacon\"></script>\n",
      "\t\t<script  async=\"async\" src=\"https://securepuba\n",
      "Titles: ['Mieszkanie na sprzedaż/zamiana 39m2', '2 pokoje 41m2 blisko Aquaparku wkrótce tramwaj!', 'Mieszkanie przy Parku Rzecznym Tonie', 'Kraków, Stare Miasto sprzedaż/zamiana', 'Mieszkanie Kraków os. Piastów 36.63m2 2-pokojowe', 'Mieszkanie Kraków 76.89m2 4-pok', 'Mieszkanie 123.25m2 5 pokoi Kraków', 'Sprzedam mieszkanie Kraków ulica Wawelska 8', 'Do sprzedaży mieszkanie 86.23m2 3-pok Kraków', 'Mieszkanie Kraków os. Piastów 76.89m2 4-pok', 'Mieszkanie Kraków 122m 4 pokoje', 'Mieszkanie 54.97m2 3 pokoje Kraków os. Piastów', 'Oferta sprzedaży mieszkania Kraków os. Piastów 41.73m2 2 pokoje', 'Mieszkanie 34.55m2 2 pokoje Kraków os. Piastów', 'Mieszkanie sprzedam Kraków 38m2 2 pok', 'Mieszkanie sprzedam 41.73m2 2 pokoje Kraków os. Piastów', 'Mieszkanie 37.89m2 2 pok Kraków', 'Mieszkanie 36.96m2 2 pok Kraków os. Piastów', 'Mieszkanie 37.89m2 2 pokojowe Kraków os. Piastów', 'Mieszkanie 48.5m2 2-pokojowe Kraków', 'Mieszkanie 36.96m2 2 pokojowe Kraków os. Piastów', 'Sprzedaż mieszkania 48m2 2-pokojowe Kraków', 'Mieszkanie sprzedam 43m2 2-pok Kraków', 'Mieszkanie 122m2 4 pokoje Kraków Mirosława Krzyżańskiego', 'Mieszkanie Kraków 27.42m2 4 pokoje', 'Mieszkanie 57.88 metrów 2 pokojowe Kraków', 'Mieszkanie Kraków Batorego 167.59m2 5 pokojowe', 'Mieszkanie 46.85 metrów 2 pokojowe Kraków', 'Mieszkanie na sprzedaż 44m2 2 pokoje Kraków Krowoderskich Zuchów', 'Sprzedam mieszkanie 41.59m2 2 pokoje Kraków Na Błonie', 'Oferta sprzedaży mieszkania 76.89m2 4 pokoje Kraków os. Piastów', 'Mieszkanie 46.99m2 2-pok Kraków Marii i Bolesława Wysłouchów', 'Oferta sprzedaży mieszkania Kraków 60.66m2 2 pokojowe', 'Mieszkanie Kraków 27.42m2 4-pok', 'Mieszkanie 167.59m2 5-pok Kraków', 'Oferta sprzedaży mieszkania 78.3m2 3-pok Kraków', 'Mieszkanie 34m2 2 pok Kraków Armii Krajowej', 'Mieszkanie Kraków 53.04m2 3 pokoje', 'Mieszkanie 27.42m2 3 pokojowe Kraków Rydlówka', 'Do sprzedaży mieszkanie 32m2 1 pokój Kraków', 'Mieszkanie do sprzedania 27.42m2 3 pokojowe Kraków Rydlówka', 'Oferta sprzedaży mieszkania 47.5m2 2 pokoje Kraków 29 listopada - okolice', 'Mieszkanie Kraków 29 listopada - okolice 60.62m2 2-pok', 'Mieszkanie na sprzedaż 45.5m2 3 pok Kraków', 'Oferta sprzedaży mieszkania Kraków 27.42m2 3-pokojowe', 'Do sprzedaży mieszkanie 55.75 metrów 2 pokoje Kraków 29 listopada - okolice', 'Mieszkanie Kraków 29 listopada - okolice 60.68m2 2 pokojowe', 'Oferta wynajmu mieszkania Kraków św.Bronisławy 147.51m2 4 pok', 'Ogłoszenie mieszkanie 45.51m2 2 pok Kraków', 'Mieszkanie 27.42m2 3 pokoje Kraków', 'Mieszkanie Kraków Starowiślna 30.69m2 2 pokoje', 'Mieszkanie 27.42 metry 4-pokojowe Kraków Rydlówka', 'Sprzedam mieszkanie Kraków Rakowicka 77 metrów 3 pok', 'Wynajem mieszkania Kraków 31m2 1 pokojowe', 'Mieszkanie 36.58m2 2-pok Kraków Jana Kantego Federowicza', 'Mieszkanie 53.25m2 2 pokojowe Kraków Cieszyńska', 'Komfortowe mieszkanie na sprzedaż', 'Żabiniec Prądnik 30m2 winda balkon klimatyzacja', 'Mieszkanie na sprzedaż 50.15m2 2-pokojowe Kraków', 'Mieszkanie Kraków 119.45m2 4 pokoje']\n",
      "60\n",
      "Prices: ['548 000 zł', '710 000 zł', '535 000 zł', '2 254 000 zł', '586 080 zł', '899 613 zł', '1 503 650 zł', '1 099 000 zł', '965 776 zł', '899 613 zł', '1 299 000 zł', '670 634 zł', '630 123 zł', '573 530 zł', '649 000 zł', '630 123 zł', '632 763 zł', '613 536 zł', '621 396 zł', '940 000 zł', '613 536 zł', '599 000 zł', '595 000 zł', '1 150 000 zł', '1 037 160 zł', '982 224 zł', '12 000 zł', '2 600 zł', '919 000 zł', '648 000 zł', '899 613 zł', '669 000 zł', '795 000 zł', '1 043 280 zł', '4 100 000 zł', '1 390 000 zł', '570 000 zł', '1 050 000 zł', '1 102 513 zł', '539 000 zł', '1 016 421 zł', '739 148 zł', '828 904 zł', '615 000 zł', '1 114 137 zł', '756 514 zł', '817 794 zł', '15 000 zł', '3 100 zł', '1 017 705 zł', '769 000 zł', '1 085 575 zł', '1 399 000 zł', '2 000 zł', '650 000 zł', '1 150 000 zł', '999 900 zł', '549 450 zł', '711 976 zł', '1 350 000 zł']\n",
      "60\n"
     ]
    }
   ],
   "source": [
    "import requests\n",
    "from bs4 import BeautifulSoup\n",
    "import pandas as pd\n",
    "import os\n",
    "\n",
    "url = \"https://sprzedajemy.pl/krakow/nieruchomosci/mieszkania?offset=0&items_per_page=60\"\n",
    "\n",
    "headers = {\n",
    "    \"User-Agent\": \"Mozilla/5.0 (Windows NT 10.0; Win64; x64) AppleWebKit/537.36 (KHTML, like Gecko) Chrome/58.0.3029.110 Safari/537.36\",\n",
    "    \"Accept\": \"text/html,application/xhtml+xml,application/xml;q=0.9,image/webp,image/apng,*/*;q=0.8\",\n",
    "    \"Accept-Encoding\": \"gzip, deflate, br\",\n",
    "    \"Accept-Language\": \"en-US,en;q=0.9,pl;q=0.8\",\n",
    "    \"Connection\": \"keep-alive\"\n",
    "}\n",
    "\n",
    "response = requests.get(url, headers=headers)\n",
    "response = requests.get(url, headers=headers)\n",
    "\n",
    "# Debugowanie odpowiedzi\n",
    "print(f\"Status Code: {response.status_code}\")\n",
    "print(f\"Response Headers: {response.headers}\")\n",
    "print(f\"Response Text (first 2000 chars): {response.text[:2000]}\")\n",
    "\n",
    "# Jeśli odpowiedź jest poprawna, wykonaj webscraping\n",
    "if response.status_code == 200:\n",
    "    soup = BeautifulSoup(response.content, \"html.parser\")\n",
    "\n",
    "    # Pobieranie ofert mieszkań\n",
    "    titles = [h2.a.text.strip() for h2 in soup.find_all(\"h2\", class_=\"title\") if h2.a]\n",
    "    prices = [p.text.replace(\"\\xa0\", \" \").strip() for p in soup.find_all(\"span\", class_=\"price\")]\n",
    "\n",
    "    print(\"Titles:\", titles)\n",
    "    print(len(titles))\n",
    "    print(\"Prices:\", prices)\n",
    "    print(len(prices))\n",
    "\n",
    "    df = pd.DataFrame({\"Title\": titles, \"Price\": prices})\n",
    "\n",
    "    # Dopisanie do pliku CSV\n",
    "    df.to_csv(\"scraped_data.csv\", mode='a', header=not os.path.exists('scraped_data.csv'), index=False)\n",
    "else:\n",
    "    print(\"Failed to retrieve data.\")\n"
   ]
  }
 ],
 "metadata": {
  "colab": {
   "provenance": []
  },
  "kernelspec": {
   "display_name": "Python 3",
   "name": "python3"
  },
  "language_info": {
   "codemirror_mode": {
    "name": "ipython",
    "version": 3
   },
   "file_extension": ".py",
   "mimetype": "text/x-python",
   "name": "python",
   "nbconvert_exporter": "python",
   "pygments_lexer": "ipython3",
   "version": "3.9.22"
  },
  "papermill": {
   "default_parameters": {},
   "duration": 4.367303,
   "end_time": "2025-05-02T16:14:13.741232",
   "environment_variables": {},
   "exception": null,
   "input_path": "nb.ipynb",
   "output_path": "nbo.ipynb",
   "parameters": {},
   "start_time": "2025-05-02T16:14:09.373929",
   "version": "2.6.0"
  }
 },
 "nbformat": 4,
 "nbformat_minor": 5
}