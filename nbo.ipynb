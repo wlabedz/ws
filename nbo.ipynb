{
 "cells": [
  {
   "cell_type": "code",
   "execution_count": 1,
   "id": "10a5101b",
   "metadata": {
    "colab": {
     "base_uri": "https://localhost:8080/"
    },
    "execution": {
     "iopub.execute_input": "2025-10-25T10:54:19.283127Z",
     "iopub.status.busy": "2025-10-25T10:54:19.282844Z",
     "iopub.status.idle": "2025-10-25T10:54:21.214721Z",
     "shell.execute_reply": "2025-10-25T10:54:21.213981Z"
    },
    "id": "5pYh4c8j1w43",
    "outputId": "8a0dca73-64e5-4f0d-c493-2c5b38392363",
    "papermill": {
     "duration": 1.935344,
     "end_time": "2025-10-25T10:54:21.215904",
     "exception": false,
     "start_time": "2025-10-25T10:54:19.280560",
     "status": "completed"
    },
    "tags": []
   },
   "outputs": [
    {
     "name": "stdout",
     "output_type": "stream",
     "text": [
      "Status Code: 200\n",
      "Response Headers: {'Server': 'nginx', 'Date': 'Sat, 25 Oct 2025 10:54:20 GMT', 'Content-Type': 'text/html; charset=UTF-8', 'Transfer-Encoding': 'chunked', 'Vary': 'Accept-Encoding, User-Agent', 'Set-Cookie': 'FRSPSID=b1092mppg6jbnd57u7o0frg9r3; path=/; domain=.sprzedajemy.pl; secure; HttpOnly, _items_per_page__offer_list=60; expires=Mon, 24-Nov-2025 10:54:20 GMT; Max-Age=2592000; path=/; domain=.sprzedajemy.pl; secure; httponly, observed_id=177421160068fcac5cc7ffc230341329509388237; expires=Thu, 25-Oct-2125 11:54:20 GMT; Max-Age=3155677200; path=/; domain=.sprzedajemy.pl; secure; httponly', 'Expires': 'Thu, 19 Nov 1981 08:52:00 GMT', 'Cache-Control': 'no-store, no-cache, must-revalidate, post-check=0, pre-check=0', 'Pragma': 'no-cache', 'Content-Encoding': 'gzip'}\n",
      "Response Text (first 2000 chars): <!DOCTYPE html><html xmlns=\"http://www.w3.org/1999/xhtml\" xml:lang=\"pl\" lang=\"pl\" class=\"no-js\" >\n",
      "<head>\n",
      "\t\t\t<!-- Google Tag Manager -->\n",
      "\t\t\t<script>(function(w,d,s,l,i){w[l]=w[l]||[];w[l].push({'gtm.start':\n",
      "\t\t\t\t\t\tnew Date().getTime(),event:'gtm.js'});var f=d.getElementsByTagName(s)[0],\n",
      "\t\t\t\t\tj=d.createElement(s),dl=l!='dataLayer'?'&l='+l:'';j.async=true;j.src=\n",
      "\t\t\t\t\t'https://www.googletagmanager.com/gtm.js?id='+i+dl\n",
      "\t\t\t\t\t\t\t\t\t    ;f.parentNode.insertBefore(j,f);\n",
      "\t\t\t\t    })(window,document,'script','dataLayer','GTM-P3S238');</script>\n",
      "\t\t\t<!-- End Google Tag Manager -->\n",
      "\t<title>Mieszkania Kraków na sprzedaż, wynajem - Sprzedajemy.pl</title><meta http-equiv=\"Content-Type\" content=\"text/html; charset=UTF-8\" >\n",
      "<meta http-equiv=\"X-UA-Compatible\" content=\"IE=edge\" >\n",
      "<meta name=\"description\" content=\"Ogłoszenia o tematyce:  w kategorii Mieszkania - Kupuj i sprzedawaj rzeczy używane i nowe w kategorii Mieszkania na Sprzedajemy.pl\" >\n",
      "<meta property=\"og:title\" content=\"Mieszkania Kraków na sprzedaż, wynajem - Sprzedajemy.pl\" >\n",
      "<meta property=\"og:type\" content=\"website\" >\n",
      "<meta property=\"og:image\" content=\"https://thumbs.img-sprzedajemy.pl/facebook/sprzedajemy.pl.png\" >\n",
      "<meta property=\"og:image:width\" content=\"200\" >\n",
      "<meta property=\"og:image:height\" content=\"200\" >\n",
      "<meta property=\"og:url\" content=\"https://sprzedajemy.pl/krakow/nieruchomosci/mieszkania\" >\n",
      "<meta property=\"og:site_name\" content=\"Sprzedajemy.pl\" >\n",
      "<meta property=\"fb:app_id\" content=\"173258269367442\" >\n",
      "<meta property=\"og:description\" content=\"Ogłoszenia o tematyce:  w kategorii Mieszkania - Kupuj i sprzedawaj rzeczy używane i nowe w kategorii Mieszkania na Sprzedajemy.pl\" >\n",
      "<meta name=\"robots\" content=\"noindex, follow\" >\t\t<script  async=\"async\" src=\"https://static.criteo.net/js/ld/publishertag.js\"></script>\n",
      "        <script  async=\"async\" src=\"https://ap.lijit.com/www/sovrn_beacon_standalone/sovrn_standalone_beacon.js?iid=13417409&amp;uid=sprzedajemy\" id=\"sBeacon\"></script>\n",
      "\t\t<script  async=\"async\" src=\"https://securepuba\n",
      "Titles: ['ul.Felińskiego, piękne 3 pokoje, garaż', 'Żabiniec - 2 pokje, 2 balkony, garaż, komórka', 'Bronowice: 3 pokoje +3 balkony, miejsce parkingowe', 'Mieszkanie z widokiem na góry', 'Grzegorzki mieszkanie na sprzedaż 30 m', '3-pokoje osobne - Ugorek, pet friendly', 'Mieszkanie Wzgórza Krzesławickie bez prowizji.', 'Sprzedam dwupokojowe mieszkanie (balkon, piwnica) os. Dywizjonu 303, 19C K…', 'Ostatnie piętro z widokiem na Wawel – ul. Nullo, loggia', '3 pokoje, Os Piastów, bezpośrednio', 'Dla studenta lub na wynajem krótkoterminowy', 'Sprzedam mieszkanie 58m2 3-pokojowe Kraków Fatimska', 'Mieszkanie 98 metrów 3 pokoje Kraków Bolesława Komorowskiego', 'Oferta sprzedaży mieszkania Kraków 32.9 metrów 2 pokoje', 'Oferta wynajmu mieszkania Kraków os. 2 Pułku Lotniczego 37m2 1-pokojowe', 'Mieszkanie na wynajem Kraków ul. Bunscha Czerwone Maki', 'Mieszkanie Kraków Wandy 30.15m 1 pokojowe', 'Mieszkanie 45m2 2 pokoje Kraków', 'Czyżyny - 1 pokojowe z dużym blakonem, 2018 r', 'Mieszkanie Kraków 43.56m2 3 pokoje', 'Mieszkanie Kraków 54.4m2 3-pokojowe', 'Mieszkanie Kraków 57.13m2 4-pokojowe', 'Mieszkanie 39m2 Kraków Czyżewskiego', 'Mieszkanie Kraków 64.3m2 3 pokoje', '2-pokojowe mieszkanie 49,52m2 z balkonem – Centralna Vita, Czyżyny', 'Mieszkanie Kraków 24.3m 1-pokojowe', 'Mieszkanie 59.3m2 2 pok Kraków Kotlarska', 'Mieszkanie 34.6m2 2 pokoje Kraków', 'Mieszkanie 24m2 1 pokój Kraków os. Kalinowe', 'Oferta sprzedaży mieszkania 65m2 3 pokojowe Kraków', 'Oferta sprzedaży mieszkania Kraków 70.02m2 3 pokojowe', 'Garsoniera do wynajęcia os. Tysiąclecia 1, Kraków', 'Mieszkanie 22.6m2 1-pokojowe Kraków', 'Mieszkanie Kraków Wita Stwosza 18.63m2 1 pokój', 'Wynajmę kawalerkę Kraków Chodkiewicza', 'Mieszkanie 101.65m2 Kraków Lenartowicza', 'Mieszkanie 59m2 3-pok Kraków Fieldorfa-Nila', 'Mieszkanie Kraków 70m2 3-pokojowe', 'Mieszkanie Kraków 42.88m2 2 pok', 'Sprzedamy wyjątkowe mieszkanie na urokliwym osiedlu Kliny. :)', 'Mieszkanie 43.08m2 Kraków Wadowicka', 'Sprzedaż mieszkania Kraków 47.36 metrów 2-pokojowe', 'Mieszkanie Kraków 75.4m2 4 pok', 'Mieszkanie Kraków 42m2 2 pokoje', 'Mieszkanie Kraków Bonerowska 64m2 2-pokojowe', 'Mieszkanie Kraków 73.8m2 2 pokojowe', 'Mieszkanie 40 metrów 2-pok Kraków Naukowców', 'Mieszkanie sprzedam Kraków 49.49m 2 pokojowe', 'Mieszkanie Kraków 53m2 2 pokojowe', 'Mieszkanie Kraków 44m2 3 pokojowe', 'Mieszkanie 50m2 2 pokoje Kraków Heleny', 'Sprzedam mieszkanie Kraków 25.72m2 1-pokojowe', 'Ogłoszenie mieszkanie Kraków Lubostroń 36.91m2 2-pokojowe', 'Mieszkanie 49.37m2 3 pok Kraków Macieja Dębskiego', 'Sprzedam mieszkanie Kraków 48.24m2 2 pokojowe', 'Mieszkanie 45.78m 3 pokojowe Kraków Agatowa', 'Wynajem mieszkania Kraków Gabrieli Zapolskiej 55.05m2 2 pokojowe', 'Mieszkanie 45.89m 3-pokojowe Kraków Agatowa', 'Mieszkanie 74.03m2 3 pokoje Kraków Augustiańska', 'Mieszkanie Kraków 37m2 2 pokoje']\n",
      "60\n",
      "Prices: ['770 000 zł', '750 000 zł', '985 000 zł', '265 000 zł', '549 000 zł', '3 400 zł', '670 000 zł', '600 000 zł', '1 430 000 zł', '830 000 zł', '545 000 zł', '733 000 zł', '5 800 zł', '525 000 zł', '2 100 zł', '2 700 zł', '394 000 zł', '719 000 zł', '605 000 zł', '699 000 zł', '765 000 zł', '920 000 zł', '479 265 zł', '765 000 zł', '618 990,04 zł', '399 000 zł', '765 000 zł', '700 000 zł', '398 000 zł', '870 000 zł', '904 797 zł', '1 400 zł', '447 000 zł', '428 490 zł', '2 300 zł', '1 590 000 zł', '899 000 zł', '890 000 zł', '1 000 176 zł', '679 000 zł', '749 592 zł', '829 000 zł', '999 900 zł', '948 000 zł', '1 130 000 zł', '785 000 zł', '785 000 zł', '599 000 zł', '1 135 000 zł', '660 000 zł', '660 000 zł', '399 000 zł', '599 000 zł', '655 000 zł', '820 000 zł', '589 000 zł', '2 500 zł', '589 000 zł', '1 698 000 zł', '790 000 zł']\n",
      "60\n"
     ]
    }
   ],
   "source": [
    "import requests\n",
    "from bs4 import BeautifulSoup\n",
    "import pandas as pd\n",
    "import os\n",
    "\n",
    "url = \"https://sprzedajemy.pl/krakow/nieruchomosci/mieszkania?offset=0&items_per_page=60\"\n",
    "\n",
    "headers = {\n",
    "    \"User-Agent\": \"Mozilla/5.0 (Windows NT 10.0; Win64; x64) AppleWebKit/537.36 (KHTML, like Gecko) Chrome/58.0.3029.110 Safari/537.36\",\n",
    "    \"Accept\": \"text/html,application/xhtml+xml,application/xml;q=0.9,image/webp,image/apng,*/*;q=0.8\",\n",
    "    \"Accept-Encoding\": \"gzip, deflate, br\",\n",
    "    \"Accept-Language\": \"en-US,en;q=0.9,pl;q=0.8\",\n",
    "    \"Connection\": \"keep-alive\"\n",
    "}\n",
    "\n",
    "response = requests.get(url, headers=headers)\n",
    "response = requests.get(url, headers=headers)\n",
    "\n",
    "# Debugowanie odpowiedzi\n",
    "print(f\"Status Code: {response.status_code}\")\n",
    "print(f\"Response Headers: {response.headers}\")\n",
    "print(f\"Response Text (first 2000 chars): {response.text[:2000]}\")\n",
    "\n",
    "# Jeśli odpowiedź jest poprawna, wykonaj webscraping\n",
    "if response.status_code == 200:\n",
    "    soup = BeautifulSoup(response.content, \"html.parser\")\n",
    "\n",
    "    # Pobieranie ofert mieszkań\n",
    "    titles = [h2.a.text.strip() for h2 in soup.find_all(\"h2\", class_=\"title\") if h2.a]\n",
    "    prices = [p.text.replace(\"\\xa0\", \" \").strip() for p in soup.find_all(\"span\", class_=\"price\")]\n",
    "\n",
    "    print(\"Titles:\", titles)\n",
    "    print(len(titles))\n",
    "    print(\"Prices:\", prices)\n",
    "    print(len(prices))\n",
    "\n",
    "    df = pd.DataFrame({\"Title\": titles, \"Price\": prices})\n",
    "\n",
    "    # Dopisanie do pliku CSV\n",
    "    df.to_csv(\"scraped_data.csv\", mode='a', header=not os.path.exists('scraped_data.csv'), index=False)\n",
    "else:\n",
    "    print(\"Failed to retrieve data.\")\n"
   ]
  }
 ],
 "metadata": {
  "colab": {
   "provenance": []
  },
  "kernelspec": {
   "display_name": "Python 3",
   "name": "python3"
  },
  "language_info": {
   "codemirror_mode": {
    "name": "ipython",
    "version": 3
   },
   "file_extension": ".py",
   "mimetype": "text/x-python",
   "name": "python",
   "nbconvert_exporter": "python",
   "pygments_lexer": "ipython3",
   "version": "3.9.23"
  },
  "papermill": {
   "default_parameters": {},
   "duration": 3.118418,
   "end_time": "2025-10-25T10:54:21.434087",
   "environment_variables": {},
   "exception": null,
   "input_path": "nb.ipynb",
   "output_path": "nbo.ipynb",
   "parameters": {},
   "start_time": "2025-10-25T10:54:18.315669",
   "version": "2.6.0"
  }
 },
 "nbformat": 4,
 "nbformat_minor": 5
}