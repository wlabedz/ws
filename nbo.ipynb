{
 "cells": [
  {
   "cell_type": "code",
   "execution_count": 1,
   "id": "79021875",
   "metadata": {
    "colab": {
     "base_uri": "https://localhost:8080/"
    },
    "execution": {
     "iopub.execute_input": "2025-08-12T19:57:07.539798Z",
     "iopub.status.busy": "2025-08-12T19:57:07.539527Z",
     "iopub.status.idle": "2025-08-12T19:57:09.744796Z",
     "shell.execute_reply": "2025-08-12T19:57:09.744057Z"
    },
    "id": "5pYh4c8j1w43",
    "outputId": "8a0dca73-64e5-4f0d-c493-2c5b38392363",
    "papermill": {
     "duration": 2.208817,
     "end_time": "2025-08-12T19:57:09.745972",
     "exception": false,
     "start_time": "2025-08-12T19:57:07.537155",
     "status": "completed"
    },
    "tags": []
   },
   "outputs": [
    {
     "name": "stdout",
     "output_type": "stream",
     "text": [
      "Status Code: 200\n",
      "Response Headers: {'Server': 'nginx', 'Date': 'Tue, 12 Aug 2025 19:57:09 GMT', 'Content-Type': 'text/html; charset=UTF-8', 'Transfer-Encoding': 'chunked', 'Vary': 'Accept-Encoding, User-Agent', 'Set-Cookie': 'FRSPSID=32tvmts9j8r613vpmcrk1rij07; path=/; domain=.sprzedajemy.pl; secure; HttpOnly, _items_per_page__offer_list=60; expires=Thu, 11-Sep-2025 19:57:09 GMT; Max-Age=2592000; path=/; domain=.sprzedajemy.pl; secure; httponly, observed_id=1184370396689b9c9545bc9980652065278550590; expires=Sun, 12-Aug-2125 20:57:09 GMT; Max-Age=3155677200; path=/; domain=.sprzedajemy.pl; secure; httponly', 'Expires': 'Thu, 19 Nov 1981 08:52:00 GMT', 'Cache-Control': 'no-store, no-cache, must-revalidate, post-check=0, pre-check=0', 'Pragma': 'no-cache', 'Content-Encoding': 'gzip'}\n",
      "Response Text (first 2000 chars): <!DOCTYPE html><html xmlns=\"http://www.w3.org/1999/xhtml\" xml:lang=\"pl\" lang=\"pl\" class=\"no-js\" >\n",
      "<head>\n",
      "\t\t\t<!-- Google Tag Manager -->\n",
      "\t\t\t<script>(function(w,d,s,l,i){w[l]=w[l]||[];w[l].push({'gtm.start':\n",
      "\t\t\t\t\t\tnew Date().getTime(),event:'gtm.js'});var f=d.getElementsByTagName(s)[0],\n",
      "\t\t\t\t\tj=d.createElement(s),dl=l!='dataLayer'?'&l='+l:'';j.async=true;j.src=\n",
      "\t\t\t\t\t'https://www.googletagmanager.com/gtm.js?id='+i+dl\n",
      "\t\t\t\t\t\t\t\t\t    ;f.parentNode.insertBefore(j,f);\n",
      "\t\t\t\t    })(window,document,'script','dataLayer','GTM-P3S238');</script>\n",
      "\t\t\t<!-- End Google Tag Manager -->\n",
      "\t<title>Mieszkania Kraków na sprzedaż, wynajem - Sprzedajemy.pl</title><meta http-equiv=\"Content-Type\" content=\"text/html; charset=UTF-8\" >\n",
      "<meta http-equiv=\"X-UA-Compatible\" content=\"IE=edge\" >\n",
      "<meta name=\"description\" content=\"Ogłoszenia o tematyce:  w kategorii Mieszkania - Kupuj i sprzedawaj rzeczy używane i nowe w kategorii Mieszkania na Sprzedajemy.pl\" >\n",
      "<meta property=\"og:title\" content=\"Mieszkania Kraków na sprzedaż, wynajem - Sprzedajemy.pl\" >\n",
      "<meta property=\"og:type\" content=\"website\" >\n",
      "<meta property=\"og:image\" content=\"https://thumbs.img-sprzedajemy.pl/facebook/sprzedajemy.pl.png\" >\n",
      "<meta property=\"og:image:width\" content=\"200\" >\n",
      "<meta property=\"og:image:height\" content=\"200\" >\n",
      "<meta property=\"og:url\" content=\"https://sprzedajemy.pl/krakow/nieruchomosci/mieszkania\" >\n",
      "<meta property=\"og:site_name\" content=\"Sprzedajemy.pl\" >\n",
      "<meta property=\"fb:app_id\" content=\"173258269367442\" >\n",
      "<meta property=\"og:description\" content=\"Ogłoszenia o tematyce:  w kategorii Mieszkania - Kupuj i sprzedawaj rzeczy używane i nowe w kategorii Mieszkania na Sprzedajemy.pl\" >\n",
      "<meta name=\"robots\" content=\"noindex, follow\" >\t\t<script  async=\"async\" src=\"https://static.criteo.net/js/ld/publishertag.js\"></script>\n",
      "        <script  async=\"async\" src=\"https://ap.lijit.com/www/sovrn_beacon_standalone/sovrn_standalone_beacon.js?iid=13417409&amp;uid=sprzedajemy\" id=\"sBeacon\"></script>\n",
      "\t\t<script  async=\"async\" src=\"https://securepuba\n",
      "Titles: ['4pokoje 68m2 balkon KLIMA Śródmieście BEZ PROWIZJI od właściciela', '3 niezależne lokale z KW– inwestycja z potencjałem', 'Mieszkanie na sprzedaż/zamiana 39m2', 'Mieszkanie Wola Justowska /Bielany 36m2', 'Kraków, Stare Miasto sprzedaż/zamiana', 'Mieszkanie 3-pokojowe. Duży balkon. Dobra komunikacja, Od właściciela', 'Dom - Kraków Tonie - Zielona okolica - 123 m2 | 5 - pok. | Ogród | Taras |…', 'Mieszkanie 24.74m2 1 pokój Kraków', 'Stare Miasto 32m2 KLIMA Wawel wykończone Kazimierz wysokie ROI', 'Kraków Stare Miasto 62 m2 KLIMA Wawel wykończone Kazimierz INWESTYCYJNE', 'Mieszkanie do sprzedania Kraków Prandoty 98m2', 'Bieńczyce - 3 pokoje, balkon, jasna kuchnia', 'Pet Friendly - mieszkanie do wynajęcia na Czyżynach 30m² od zaraz', 'Oferta wynajmu mieszkania 70m2 3 pokojowe Kraków Dąbska', 'Mieszkanie 63.5m2 3 pokojowe Kraków', 'Mieszkanie 47m2 Kraków', '2 POKOJE z klimatem | Dąbska | TAURON Arena | Balkon', 'Oferta sprzedaży mieszkania 131.4m2 4-pok Kraków', 'Nowoczesne 3-pokojowe mieszkanie 48 m² – Pachońskiego / od zaraz', 'Mieszkanie Kraków Macieja Dębskiego 40m2 2-pokojowe', 'Mieszkanie 36.34m2 2 pok Kraków Romanowicza', 'Sprzedam mieszkanie Kraków Osiedle na Wzgórzach 57.13m2 3-pokojowe', 'Mieszkanie wynajmę Kraków 36.34m2 2 pokoje', 'Mieszkanie Kraków 72.9m 4-pokojowe', 'Bezpośrednio Jasne 2 pokoje Mieszkanie Centrum Ogrzewanie Parking Komunika…', 'Oferta sprzedaży mieszkania Kraków Mirosława Krzyżańskiego 122m2 4 pokoje', 'Mieszkanie 2-pokojowe 44,4 m2 Kraków- Bronowice !', 'Bezpośrednio Jasne 2 pokojowe Mieszkanie Centrum Ogrzewanie Parking PROMOC…', 'Mieszkanie sprzedam Kraków Mirosława Krzyżańskiego 122 metry 4 pokoje', 'Mieszkanie Kraków Młyńska 36.2m2 2-pokojowe', 'Mieszkanie 23.65m2 Kraków Kobierzyńska', '2 pokoje z garderobą - bez barier - bez prowizji!', 'Bezpośrednio wynajmę 2-pokojowe ul.Batorego po remoncie.', '2- pokojowe mieszkanie | K. Kołłątajowskiej | 57m2', 'Przytulne mieszkanie 2 pokoje balkon Czyżyny, Dywizjonu 303', 'Mieszkanie na wynajem 37m2 2-pokojowe Kraków Celarowska', 'Mieszkanie 2 pok Kraków Łobzowska Wynajem', 'Mieszkanie Kraków 60.9m 3-pok', 'Piękne 3 pokojowe mieszkanie z widokiem na Park Orlińskiego / Avia', 'Mieszkanie 3 pokojowe, Galicyjska Kraków Czyżyny, 61m2', 'Sprzedam kawalerkę Spółdzielców Kraków PO REMONCIe', 'Bezpośrednio sprzedam mieszkanie Kraków ul. Batorego', 'wynajme 2 pok z aneksem 34m, os Dywizjonu 303 , od wlasciciela', 'Dwupokojowe z balkonem', 'Mieszkanie Kraków 71.81m2 3 pok', 'Oddzielna kuchnia,balkon,piwnica,Rezerwacja', 'Mieszkanie 3 pokojowe /64,3 m2 / w  super lokalizacji - od właściciela', 'Kawalerka dla studenta/studentki, Kraków - Prokocim', 'Mieszkanie, Kraków os. Tysiąclecia 1 - 20 m 2', 'Dom modułowy prefabrykowany Dubai Prestige', 'Do wynajęcia mieszkanie 55m2 3-pok Kraków', 'Do wynajęcia mieszkanie Kraków Tadeusza Makowskiego 36m2 2 pok', 'Mieszkanie Kraków Polonijna 38m2 2 pokoje', 'Mieszkanie 54.86m 3 pokoje Kraków os. Oświecenia', 'Mieszkanie 50m2 2-pok Kraków prof. Michała Bobrzyńskiego', 'Mieszkanie sprzedam 54.98m2 3 pokoje Kraków Republiki Korczakowskiej', 'Mieszkanie do sprzedania 38.93m2 1 pokojowe Kraków', 'Mieszkanie Kraków 27m2 2 pokoje', 'Ogłoszenie mieszkanie 46.02m2 2 pokojowe Kraków os. Avia', 'Mieszkanie 46m2 2 pokojowe Kraków']\n",
      "60\n",
      "Prices: ['1 850 000 zł', '265 000 zł', '526 000 zł', '487 000 zł', '2 153 000 zł', '3 500 zł', '2 275 000 zł', '482 000 zł', '989 000 zł', '1 828 000 zł', '1 565 000 zł', '745 000 zł', '2 050 zł', '4 000 zł', '1 190 000 zł', '730 000 zł', '3 700 zł', '1 980 000 zł', '3 500 zł', '2 500 zł', '2 990 zł', '690 000 zł', '2 990 zł', '970 000 zł', '3 600 zł', '1 299 000 zł', '600 000 zł', '849 000 zł', '1 150 000 zł', '485 000 zł', '430 000 zł', '630 000 zł', '3 800 zł', '645 000 zł', '3 000 zł', '2 400 zł', '3 500 zł', '725 000 zł', '3 500 zł', '1 067 500 zł', '419 999 zł', '1 650 000 zł', '2 200 zł', '2 800 zł', '8 200 zł', '358 000 zł', '997 000 zł', '2 275 zł', '339 000 zł', '580 000 zł', '5 500 zł', '3 000 zł', '585 000 zł', '729 000 zł', '749 000 zł', '780 000 zł', '709 000 zł', '2 200 zł', '799 000 zł', '2 700 zł']\n",
      "60\n"
     ]
    }
   ],
   "source": [
    "import requests\n",
    "from bs4 import BeautifulSoup\n",
    "import pandas as pd\n",
    "import os\n",
    "\n",
    "url = \"https://sprzedajemy.pl/krakow/nieruchomosci/mieszkania?offset=0&items_per_page=60\"\n",
    "\n",
    "headers = {\n",
    "    \"User-Agent\": \"Mozilla/5.0 (Windows NT 10.0; Win64; x64) AppleWebKit/537.36 (KHTML, like Gecko) Chrome/58.0.3029.110 Safari/537.36\",\n",
    "    \"Accept\": \"text/html,application/xhtml+xml,application/xml;q=0.9,image/webp,image/apng,*/*;q=0.8\",\n",
    "    \"Accept-Encoding\": \"gzip, deflate, br\",\n",
    "    \"Accept-Language\": \"en-US,en;q=0.9,pl;q=0.8\",\n",
    "    \"Connection\": \"keep-alive\"\n",
    "}\n",
    "\n",
    "response = requests.get(url, headers=headers)\n",
    "response = requests.get(url, headers=headers)\n",
    "\n",
    "# Debugowanie odpowiedzi\n",
    "print(f\"Status Code: {response.status_code}\")\n",
    "print(f\"Response Headers: {response.headers}\")\n",
    "print(f\"Response Text (first 2000 chars): {response.text[:2000]}\")\n",
    "\n",
    "# Jeśli odpowiedź jest poprawna, wykonaj webscraping\n",
    "if response.status_code == 200:\n",
    "    soup = BeautifulSoup(response.content, \"html.parser\")\n",
    "\n",
    "    # Pobieranie ofert mieszkań\n",
    "    titles = [h2.a.text.strip() for h2 in soup.find_all(\"h2\", class_=\"title\") if h2.a]\n",
    "    prices = [p.text.replace(\"\\xa0\", \" \").strip() for p in soup.find_all(\"span\", class_=\"price\")]\n",
    "\n",
    "    print(\"Titles:\", titles)\n",
    "    print(len(titles))\n",
    "    print(\"Prices:\", prices)\n",
    "    print(len(prices))\n",
    "\n",
    "    df = pd.DataFrame({\"Title\": titles, \"Price\": prices})\n",
    "\n",
    "    # Dopisanie do pliku CSV\n",
    "    df.to_csv(\"scraped_data.csv\", mode='a', header=not os.path.exists('scraped_data.csv'), index=False)\n",
    "else:\n",
    "    print(\"Failed to retrieve data.\")\n"
   ]
  }
 ],
 "metadata": {
  "colab": {
   "provenance": []
  },
  "kernelspec": {
   "display_name": "Python 3",
   "name": "python3"
  },
  "language_info": {
   "codemirror_mode": {
    "name": "ipython",
    "version": 3
   },
   "file_extension": ".py",
   "mimetype": "text/x-python",
   "name": "python",
   "nbconvert_exporter": "python",
   "pygments_lexer": "ipython3",
   "version": "3.9.23"
  },
  "papermill": {
   "default_parameters": {},
   "duration": 3.302022,
   "end_time": "2025-08-12T19:57:09.962592",
   "environment_variables": {},
   "exception": null,
   "input_path": "nb.ipynb",
   "output_path": "nbo.ipynb",
   "parameters": {},
   "start_time": "2025-08-12T19:57:06.660570",
   "version": "2.6.0"
  }
 },
 "nbformat": 4,
 "nbformat_minor": 5
}