{
 "cells": [
  {
   "cell_type": "code",
   "execution_count": 1,
   "id": "432bda50",
   "metadata": {
    "colab": {
     "base_uri": "https://localhost:8080/"
    },
    "execution": {
     "iopub.execute_input": "2025-10-28T16:12:34.368451Z",
     "iopub.status.busy": "2025-10-28T16:12:34.368169Z",
     "iopub.status.idle": "2025-10-28T16:12:37.206508Z",
     "shell.execute_reply": "2025-10-28T16:12:37.205779Z"
    },
    "id": "5pYh4c8j1w43",
    "outputId": "8a0dca73-64e5-4f0d-c493-2c5b38392363",
    "papermill": {
     "duration": 2.841759,
     "end_time": "2025-10-28T16:12:37.207642",
     "exception": false,
     "start_time": "2025-10-28T16:12:34.365883",
     "status": "completed"
    },
    "tags": []
   },
   "outputs": [
    {
     "name": "stdout",
     "output_type": "stream",
     "text": [
      "Status Code: 200\n",
      "Response Headers: {'Server': 'nginx', 'Date': 'Tue, 28 Oct 2025 16:12:36 GMT', 'Content-Type': 'text/html; charset=UTF-8', 'Transfer-Encoding': 'chunked', 'Vary': 'Accept-Encoding, User-Agent', 'Set-Cookie': 'FRSPSID=dndpr44akpv4sj24020rrp3kj0; path=/; domain=.sprzedajemy.pl; secure; HttpOnly, _items_per_page__offer_list=60; expires=Thu, 27-Nov-2025 16:12:36 GMT; Max-Age=2592000; path=/; domain=.sprzedajemy.pl; secure; httponly, observed_id=16981359426900eb74adbee5101915917077848385; expires=Sun, 28-Oct-2125 16:12:36 GMT; Max-Age=3155673600; path=/; domain=.sprzedajemy.pl; secure; httponly', 'Expires': 'Thu, 19 Nov 1981 08:52:00 GMT', 'Cache-Control': 'no-store, no-cache, must-revalidate, post-check=0, pre-check=0', 'Pragma': 'no-cache', 'Content-Encoding': 'gzip'}\n",
      "Response Text (first 2000 chars): <!DOCTYPE html><html xmlns=\"http://www.w3.org/1999/xhtml\" xml:lang=\"pl\" lang=\"pl\" class=\"no-js\" >\n",
      "<head>\n",
      "\t\t\t<!-- Google Tag Manager -->\n",
      "\t\t\t<script>(function(w,d,s,l,i){w[l]=w[l]||[];w[l].push({'gtm.start':\n",
      "\t\t\t\t\t\tnew Date().getTime(),event:'gtm.js'});var f=d.getElementsByTagName(s)[0],\n",
      "\t\t\t\t\tj=d.createElement(s),dl=l!='dataLayer'?'&l='+l:'';j.async=true;j.src=\n",
      "\t\t\t\t\t'https://www.googletagmanager.com/gtm.js?id='+i+dl\n",
      "\t\t\t\t\t\t\t\t\t    ;f.parentNode.insertBefore(j,f);\n",
      "\t\t\t\t    })(window,document,'script','dataLayer','GTM-P3S238');</script>\n",
      "\t\t\t<!-- End Google Tag Manager -->\n",
      "\t<title>Mieszkania Kraków na sprzedaż, wynajem - Sprzedajemy.pl</title><meta http-equiv=\"Content-Type\" content=\"text/html; charset=UTF-8\" >\n",
      "<meta http-equiv=\"X-UA-Compatible\" content=\"IE=edge\" >\n",
      "<meta name=\"description\" content=\"Ogłoszenia o tematyce:  w kategorii Mieszkania - Kupuj i sprzedawaj rzeczy używane i nowe w kategorii Mieszkania na Sprzedajemy.pl\" >\n",
      "<meta property=\"og:title\" content=\"Mieszkania Kraków na sprzedaż, wynajem - Sprzedajemy.pl\" >\n",
      "<meta property=\"og:type\" content=\"website\" >\n",
      "<meta property=\"og:image\" content=\"https://thumbs.img-sprzedajemy.pl/facebook/sprzedajemy.pl.png\" >\n",
      "<meta property=\"og:image:width\" content=\"200\" >\n",
      "<meta property=\"og:image:height\" content=\"200\" >\n",
      "<meta property=\"og:url\" content=\"https://sprzedajemy.pl/krakow/nieruchomosci/mieszkania\" >\n",
      "<meta property=\"og:site_name\" content=\"Sprzedajemy.pl\" >\n",
      "<meta property=\"fb:app_id\" content=\"173258269367442\" >\n",
      "<meta property=\"og:description\" content=\"Ogłoszenia o tematyce:  w kategorii Mieszkania - Kupuj i sprzedawaj rzeczy używane i nowe w kategorii Mieszkania na Sprzedajemy.pl\" >\n",
      "<meta name=\"robots\" content=\"noindex, follow\" >\t\t<script  async=\"async\" src=\"https://static.criteo.net/js/ld/publishertag.js\"></script>\n",
      "        <script  async=\"async\" src=\"https://ap.lijit.com/www/sovrn_beacon_standalone/sovrn_standalone_beacon.js?iid=13417409&amp;uid=sprzedajemy\" id=\"sBeacon\"></script>\n",
      "\t\t<script  async=\"async\" src=\"https://securepuba\n",
      "Titles: ['Sprzedam dwupokojowe mieszkanie (balkon, piwnica) os. Dywizjonu 303, 19C K…', 'Mieszkanie z widokiem na góry', 'Grzegorzki mieszkanie na sprzedaż 30 m', 'ul.Felińskiego, piękne 3 pokoje, garaż', 'Żabiniec - 2 pokoje, 2 balkony, garaż, komórka', 'Bronowice: 3 pokoje +3 balkony, miejsce parkingowe', '3-pokoje osobne - Ugorek, pet friendly', 'Mieszkanie Kraków Józefa Łepkowskiego 47m2 2 pokoje', 'Sprzedaż mieszkania 62.63m2 4 pokoje Kraków os. Krakowiaków', 'Mieszkanie na wynajem Kraków Nowohucka 40.5m2 2 pokojowe', 'Oferta wynajmu mieszkania Kraków 36.29m2 1 pokój', 'Mieszkanie Kraków 47m2 2-pokojowe', 'Mieszkanie Kraków Babińskiego 31.74m2 1 pok', 'Mieszkanie Kraków Bajeczna 41.64m2', 'Sprzedam mieszkanie Kraków Szlak 28.18m2 1-pokojowe', 'Oferta sprzedaży mieszkania 54.72m2 3 pokoje Kraków', 'Mieszkanie z widokiem!', 'Oferta sprzedaży mieszkania 67.37m2 3-pok Kraków Królowej Jadwigi', 'Mieszkanie sprzedam 67m2 4 pokoje Kraków Józefa Łepkowskiego', 'Ogłoszenie mieszkanie Kraków Złocieniowa 65.7m2 3 pok', 'Mieszkanie Kraków 46m2 2-pok', 'Pokój w domu wolnostojącym cena z mediami blisko UR i UEK i Lasu Wolskiego', 'Mieszkanie Kraków os. Szkolne 64m2 3 pokojowe', 'DWUPOKOJOWE ul.Rakowicka', 'Kraków, Stare Miasto sprzedaż/zamiana', 'Mieszkanie Kraków os. Kolorowe 57.54 metry', 'Do wynajęcia Kawalerka (20m) na ul.Mazowieckiej', 'WYNAJMĘ od zaraz mieszkanie 3 pokojowe-Krowodrza - Prądnik Biały-49 m2', 'Mieszkanie Kraków Sosnowiecka 42m2 2-pokojowe', 'Ogłoszenie mieszkanie Kraków Agatowa 64.43m2 3 pokoje', 'Sprzedaż mieszkania Kraków 64.33 metry 3 pokoje', 'Oferta sprzedaży mieszkania Kraków 47m2 3 pokoje', 'Mieszkanie Kraków Profesora Tadeusza Seweryna 125m2 4 pokoje', 'Mieszkanie Kraków 43m2 2 pokojowe', 'Sprzedaż mieszkania Kraków os. Tysiąclecia 63.5m2 3-pok', 'Mieszkanie do sprzedania Kraków os. Osiedle Piastów 33.95 metrów 1 pokojowe', 'Mieszkanie 32m2 1 pokojowe Kraków', 'Mieszkanie 42.54m2 2 pokojowe Kraków', '1-pokojowe mieszkanie z balkonem blisko centrum!', 'Unikalny dwupoziomowy apartament 76m2 z parkingiem', 'Przytulne 2-pokojowe mieszkanie z jasnym salonem', 'Ogłoszenie mieszkanie 181.88m2 7-pok Kraków', 'Mieszkanie Kraków 56m2 3 pokoje', 'Piękne 4-pokojowe mieszkanie 62m2 przy lesie', 'Pet Friendly 2-pokojowe mieszkanie z balkonem', 'Wygodna inwestycja! Wyposażone mieszkanie dwupokojowe na Grzegórzkach', 'Mieszkanie 53.5m2 2 pok Kraków', 'Mieszkanie Kraków Prof. Wł. Szafera 66.1 metrów 3-pok', 'Ogłoszenie mieszkanie Kraków Juliusza Lea 29.02m2 1 pokojowe', 'Mieszkanie Kraków 58.16m2 2 pokojowe', 'Ogłoszenie mieszkanie 44.27m2 3-pok Kraków', 'Ogłoszenie mieszkanie 50m2 2 pokojowe Kraków Chocimska', 'Kawalerka 27m2 w kamienicy z parkingiem – Prądnik Czerwony, inwestycja', 'Oferta wynajmu mieszkania 120m2 4 pokoje Kraków Przedwiośnie', 'Mieszkanie Kraków 56.5m2 2 pokoje', 'Przestronne 3-pokojowe mieszkanie 59m2 z balkonem', '3-pokojowe mieszkanie 70m2 z klimatyzacją, 2 balkony - Wiślane Tarasy', 'Wynajmę', 'Mieszkanie na sprzedaż Kraków 54m2 2-pokojowe', 'Mieszkanie na sprzedaż 34.6m 2-pokojowe Kraków']\n",
      "60\n",
      "Prices: ['600 000 zł', '265 000 zł', '549 000 zł', '770 000 zł', '750 000 zł', '985 000 zł', '3 400 zł', '723 800 zł', '709 000 zł', '2 500 zł', '2 300 zł', '709 700 zł', '580 842 zł', '875 000 zł', '730 000 zł', '799 000 zł', '670 000 zł', '1 715 000 zł', '998 300 zł', '749 000 zł', '529 000 zł', '1 800 zł', '695 000 zł', '2 400 zł', '2 015 000 zł', '699 000 zł', '1 930 zł', '3 300 zł', '720 000 zł', '789 000 zł', '769 000 zł', '650 000 zł', '1 370 000 zł', '534 700 zł', '750 000 zł', '550 000 zł', '599 000 zł', '609 000 zł', '1 990 zł', '3 290 zł', '2 600 zł', '4 900 000 zł', '988 000 zł', '3 300 zł', '3 000 zł', '749 000 zł', '1 100 000 zł', '1 199 000 zł', '549 000 zł', '929 000 zł', '549 000 zł', '2 700 zł', '369 000 zł', '7 100 zł', '6 500 zł', '720 000 zł', '5 500 zł', '3 500 zł', '750 000 zł', '599 000 zł']\n",
      "60\n"
     ]
    }
   ],
   "source": [
    "import requests\n",
    "from bs4 import BeautifulSoup\n",
    "import pandas as pd\n",
    "import os\n",
    "\n",
    "url = \"https://sprzedajemy.pl/krakow/nieruchomosci/mieszkania?offset=0&items_per_page=60\"\n",
    "\n",
    "headers = {\n",
    "    \"User-Agent\": \"Mozilla/5.0 (Windows NT 10.0; Win64; x64) AppleWebKit/537.36 (KHTML, like Gecko) Chrome/58.0.3029.110 Safari/537.36\",\n",
    "    \"Accept\": \"text/html,application/xhtml+xml,application/xml;q=0.9,image/webp,image/apng,*/*;q=0.8\",\n",
    "    \"Accept-Encoding\": \"gzip, deflate, br\",\n",
    "    \"Accept-Language\": \"en-US,en;q=0.9,pl;q=0.8\",\n",
    "    \"Connection\": \"keep-alive\"\n",
    "}\n",
    "\n",
    "response = requests.get(url, headers=headers)\n",
    "response = requests.get(url, headers=headers)\n",
    "\n",
    "# Debugowanie odpowiedzi\n",
    "print(f\"Status Code: {response.status_code}\")\n",
    "print(f\"Response Headers: {response.headers}\")\n",
    "print(f\"Response Text (first 2000 chars): {response.text[:2000]}\")\n",
    "\n",
    "# Jeśli odpowiedź jest poprawna, wykonaj webscraping\n",
    "if response.status_code == 200:\n",
    "    soup = BeautifulSoup(response.content, \"html.parser\")\n",
    "\n",
    "    # Pobieranie ofert mieszkań\n",
    "    titles = [h2.a.text.strip() for h2 in soup.find_all(\"h2\", class_=\"title\") if h2.a]\n",
    "    prices = [p.text.replace(\"\\xa0\", \" \").strip() for p in soup.find_all(\"span\", class_=\"price\")]\n",
    "\n",
    "    print(\"Titles:\", titles)\n",
    "    print(len(titles))\n",
    "    print(\"Prices:\", prices)\n",
    "    print(len(prices))\n",
    "\n",
    "    df = pd.DataFrame({\"Title\": titles, \"Price\": prices})\n",
    "\n",
    "    # Dopisanie do pliku CSV\n",
    "    df.to_csv(\"scraped_data.csv\", mode='a', header=not os.path.exists('scraped_data.csv'), index=False)\n",
    "else:\n",
    "    print(\"Failed to retrieve data.\")\n"
   ]
  }
 ],
 "metadata": {
  "colab": {
   "provenance": []
  },
  "kernelspec": {
   "display_name": "Python 3",
   "name": "python3"
  },
  "language_info": {
   "codemirror_mode": {
    "name": "ipython",
    "version": 3
   },
   "file_extension": ".py",
   "mimetype": "text/x-python",
   "name": "python",
   "nbconvert_exporter": "python",
   "pygments_lexer": "ipython3",
   "version": "3.9.23"
  },
  "papermill": {
   "default_parameters": {},
   "duration": 3.99797,
   "end_time": "2025-10-28T16:12:37.424910",
   "environment_variables": {},
   "exception": null,
   "input_path": "nb.ipynb",
   "output_path": "nbo.ipynb",
   "parameters": {},
   "start_time": "2025-10-28T16:12:33.426940",
   "version": "2.6.0"
  }
 },
 "nbformat": 4,
 "nbformat_minor": 5
}