{
 "cells": [
  {
   "cell_type": "code",
   "execution_count": 1,
   "id": "30a61444",
   "metadata": {
    "colab": {
     "base_uri": "https://localhost:8080/"
    },
    "execution": {
     "iopub.execute_input": "2025-07-01T23:50:41.297282Z",
     "iopub.status.busy": "2025-07-01T23:50:41.297000Z",
     "iopub.status.idle": "2025-07-01T23:50:44.005291Z",
     "shell.execute_reply": "2025-07-01T23:50:44.004541Z"
    },
    "id": "5pYh4c8j1w43",
    "outputId": "8a0dca73-64e5-4f0d-c493-2c5b38392363",
    "papermill": {
     "duration": 2.712057,
     "end_time": "2025-07-01T23:50:44.006471",
     "exception": false,
     "start_time": "2025-07-01T23:50:41.294414",
     "status": "completed"
    },
    "tags": []
   },
   "outputs": [
    {
     "name": "stdout",
     "output_type": "stream",
     "text": [
      "Status Code: 200\n",
      "Response Headers: {'Server': 'nginx', 'Date': 'Tue, 01 Jul 2025 23:50:43 GMT', 'Content-Type': 'text/html; charset=UTF-8', 'Transfer-Encoding': 'chunked', 'Vary': 'Accept-Encoding, User-Agent', 'Set-Cookie': 'FRSPSID=7dfn64ilr75u49tkdjpbhnk607; path=/; domain=.sprzedajemy.pl; secure; HttpOnly, _items_per_page__offer_list=60; expires=Thu, 31-Jul-2025 23:50:43 GMT; Max-Age=2592000; path=/; domain=.sprzedajemy.pl; secure; httponly, observed_id=14788375466864745379f9f5125241598317204165; expires=Mon, 02-Jul-2125 00:50:43 GMT; Max-Age=3155677200; path=/; domain=.sprzedajemy.pl; secure; httponly', 'Expires': 'Thu, 19 Nov 1981 08:52:00 GMT', 'Cache-Control': 'no-store, no-cache, must-revalidate, post-check=0, pre-check=0', 'Pragma': 'no-cache', 'Content-Encoding': 'gzip'}\n",
      "Response Text (first 2000 chars): <!DOCTYPE html><html xmlns=\"http://www.w3.org/1999/xhtml\" xml:lang=\"pl\" lang=\"pl\" class=\"no-js\" >\n",
      "<head>\n",
      "\t\t\t<!-- Google Tag Manager -->\n",
      "\t\t\t<script>(function(w,d,s,l,i){w[l]=w[l]||[];w[l].push({'gtm.start':\n",
      "\t\t\t\t\t\tnew Date().getTime(),event:'gtm.js'});var f=d.getElementsByTagName(s)[0],\n",
      "\t\t\t\t\tj=d.createElement(s),dl=l!='dataLayer'?'&l='+l:'';j.async=true;j.src=\n",
      "\t\t\t\t\t'https://www.googletagmanager.com/gtm.js?id='+i+dl\n",
      "\t\t\t\t\t\t\t\t\t    ;f.parentNode.insertBefore(j,f);\n",
      "\t\t\t\t    })(window,document,'script','dataLayer','GTM-P3S238');</script>\n",
      "\t\t\t<!-- End Google Tag Manager -->\n",
      "\t<title>Mieszkania Kraków na sprzedaż, wynajem - Sprzedajemy.pl</title><meta http-equiv=\"Content-Type\" content=\"text/html; charset=UTF-8\" >\n",
      "<meta http-equiv=\"X-UA-Compatible\" content=\"IE=edge\" >\n",
      "<meta name=\"description\" content=\"Ogłoszenia o tematyce:  w kategorii Mieszkania - Kupuj i sprzedawaj rzeczy używane i nowe w kategorii Mieszkania na Sprzedajemy.pl\" >\n",
      "<meta property=\"og:title\" content=\"Mieszkania Kraków na sprzedaż, wynajem - Sprzedajemy.pl\" >\n",
      "<meta property=\"og:type\" content=\"website\" >\n",
      "<meta property=\"og:image\" content=\"https://thumbs.img-sprzedajemy.pl/facebook/sprzedajemy.pl.png\" >\n",
      "<meta property=\"og:image:width\" content=\"200\" >\n",
      "<meta property=\"og:image:height\" content=\"200\" >\n",
      "<meta property=\"og:url\" content=\"https://sprzedajemy.pl/krakow/nieruchomosci/mieszkania\" >\n",
      "<meta property=\"og:site_name\" content=\"Sprzedajemy.pl\" >\n",
      "<meta property=\"fb:app_id\" content=\"173258269367442\" >\n",
      "<meta property=\"og:description\" content=\"Ogłoszenia o tematyce:  w kategorii Mieszkania - Kupuj i sprzedawaj rzeczy używane i nowe w kategorii Mieszkania na Sprzedajemy.pl\" >\n",
      "<meta name=\"robots\" content=\"noindex, follow\" >\t\t<script  async=\"async\" src=\"https://static.criteo.net/js/ld/publishertag.js\"></script>\n",
      "        <script  async=\"async\" src=\"https://ap.lijit.com/www/sovrn_beacon_standalone/sovrn_standalone_beacon.js?iid=13417409&amp;uid=sprzedajemy\" id=\"sBeacon\"></script>\n",
      "\t\t<script  async=\"async\" src=\"https://securepuba\n",
      "Titles: ['Mieszkanie na sprzedaż/zamiana 39m2', 'Stare Miasto 61,5 m2 KLIMA Wawel wykończone Kazimierz INWESTYCYJNE', 'Stare Miasto 32m2 KLIMA Wawel wykończone Kazimierz wysokie ROI', 'wykończone 27,56 m², balkon, Kniaźnina, TRAMWAJ, Prądnik Czerwony/Huta', 'Stylowy apartament z widokiem na panoramę Krakowa - od właściciela', 'Nowoczesny apartament z panoramicznym widokiem - od właściciela', 'Wyjątkowe mieszkanie z widokiem na klasztor w Tyńcu i panoramę Tatr', 'Mieszkanie Kraków Przewóz 59.35m2 3 pok', 'Mieszkanie Kraków 35.45m2 2 pokoje', 'Atrakcyjne mieszkanie 3 pok.61,4 m2 Kraków ul. Młyńska', 'BEZ PROWIZJI 2 niezależne, zamykane pokoje |osobna kuchnia z oknem | balko…', 'Piękne mieszkanie |2 pokoje + kuchnia| DO WEJŚCIA', 'Mieszkanie Kraków Przewóz 30.6m2 1-pokojowe', '3 pokoje,widok na Wawel i Tatry,taras 35 m2', 'Mieszkanie Kraków 95.24m 2 pokoje', 'Umeblowana kawalerka 33m2- Dębniki', 'Oferta wynajmu mieszkania 45.74m2 3-pok Kraków Zygmunta Glogera', 'Mieszkanie Kraków Osiedle Piastów 56.4m2 3-pok', 'Mieszkanie Kraków 53m2 3-pok', 'Mieszkanie Kraków os. Spółdzielcze 55m2 3 pokoje', 'Mieszkanie do sprzedania 48m2 3 pokoje Kraków Bohaterów Września', 'Sprzedam mieszkanie', 'Sprzedaż mieszkania 47.11m2 3-pokojowe Kraków', '3 pokojowe mieszkanie ul. Bonerowska- Stare Miasto', 'Mieszkanie 23.65m2 Kraków Kobierzyńska', 'Mieszkanie Kraków Młyńska 36.2m2 2-pokojowe', 'Mieszkanie do sprzedania Kraków os. Górali 46m2 2 pokojowe', 'Mieszkanie Kraków os. Kalinowe 37m2 2-pok', 'Mieszkanie Kraków os. Złotego Wieku 49 metrów 3 pokoje', 'Sprzedam mieszkanie 50,8 m2 w Nowej Hucie – Krzesławice', 'Mieszkanie', 'Mieszkanie na wynajem 37m2 2-pokojowe Kraków Celarowska', 'Oferta wynajmu mieszkania Kraków Dąbska 39m2 2 pokoje', 'OKAZJA ŁOBZÓW, UL. LITEWSKA KRAKÓW, KAWALERKA BEZPOŚR.', '2 lub 3 pokoje,62m2,balkon,widok na Wawel', 'Syndyk sprzeda udział 1/6 w lokalu mieszkalnym w Krakowie', 'Ogłoszenie mieszkanie Kraków prof. Michała Bobrzyńskiego 50.56m2 2 pokojowe', 'Apartament 3 pokoje w inwestycji Grzegórzki Park', 'Jordanowska Prądnik Biały parking w cenie', 'Mieszkanie 45m2 2-pokojowe Kraków', 'TBS Rżąka Rydygiera 1 pokój 33 m2 parter ogródek', 'Do wynajęcia mieszkanie Kraków Tadeusza Makowskiego 36m2 2 pok', 'Mieszkanie sprzedam 54.98m2 3 pokoje Kraków Republiki Korczakowskiej', 'Do wynajęcia mieszkanie 55m2 3-pok Kraków', 'Mieszkanie do sprzedania 38.93m2 1 pokojowe Kraków', 'Nowe mieszkanie na sprzedaż 2-pokoje 38,6 m2 | Krowodrza - Kraków', 'Ogłoszenie mieszkanie 46.02m2 2 pokojowe Kraków os. Avia', 'Mieszkanie Kraków 27m2 2 pokoje', 'Mieszkanie 54.86m 3 pokoje Kraków os. Oświecenia', 'Mieszkanie Kraków 36m2 2-pokojowe', 'Mieszkanie 50m2 2-pok Kraków prof. Michała Bobrzyńskiego', 'Mieszkanie 39m2 2 pokoje Kraków os. Bohaterów Września', 'Mieszkanie 23m2 1 pokój Kraków', 'Mieszkanie Kraków Radzikowskiego 73m2 3 pokojowe', 'Mieszkanie Ruczaj Bobrzynskiego', 'Oferta sprzedaży mieszkania 49m2 3 pokojowe Kraków', 'Mieszkanie Kraków 46.6m 2 pok', 'Oferta sprzedaży mieszkania Kraków 70.19m2 3 pokojowe', 'Mieszkanie na sprzedaż 32m2, Kraków os. Gotyk', 'Bezpośrednio wynajmę 2-pokojowe ul.Batorego po remoncie.']\n",
      "60\n",
      "Prices: ['539 000 zł', '1 828 000 zł', '959 000 zł', '569 000 zł', '897 000 zł', '997 000 zł', '779 000 zł', '938 000 zł', '649 000 zł', '915 000 zł', '639 000 zł', '549 900 zł', '573 000 zł', '1 960 000 zł', '3 500 zł', '550 000 zł', '3 800 zł', '759 900 zł', '679 000 zł', '609 000 zł', '624 000 zł', '635 000 zł', '529 000 zł', '3 650 zł', '430 000 zł', '499 800 zł', '529 000 zł', '485 000 zł', '590 000 zł', '660 000 zł', '610 000 zł', '2 600 zł', '3 000 zł', '1 600 zł', '1 490 000 zł', '66 500 zł', '2 600 zł', '1 799 000 zł', '699 000 zł', '1 150 000 zł', '195 000 zł', '3 000 zł', '780 000 zł', '5 500 zł', '729 000 zł', '799 000 zł', '799 000 zł', '2 200 zł', '729 000 zł', '449 000 zł', '749 000 zł', '560 000 zł', '410 000 zł', '797 000 zł', '580 000 zł', '640 000 zł', '3 200 zł', '489 000 zł', '480 000 zł', '3 850 zł']\n",
      "60\n"
     ]
    }
   ],
   "source": [
    "import requests\n",
    "from bs4 import BeautifulSoup\n",
    "import pandas as pd\n",
    "import os\n",
    "\n",
    "url = \"https://sprzedajemy.pl/krakow/nieruchomosci/mieszkania?offset=0&items_per_page=60\"\n",
    "\n",
    "headers = {\n",
    "    \"User-Agent\": \"Mozilla/5.0 (Windows NT 10.0; Win64; x64) AppleWebKit/537.36 (KHTML, like Gecko) Chrome/58.0.3029.110 Safari/537.36\",\n",
    "    \"Accept\": \"text/html,application/xhtml+xml,application/xml;q=0.9,image/webp,image/apng,*/*;q=0.8\",\n",
    "    \"Accept-Encoding\": \"gzip, deflate, br\",\n",
    "    \"Accept-Language\": \"en-US,en;q=0.9,pl;q=0.8\",\n",
    "    \"Connection\": \"keep-alive\"\n",
    "}\n",
    "\n",
    "response = requests.get(url, headers=headers)\n",
    "response = requests.get(url, headers=headers)\n",
    "\n",
    "# Debugowanie odpowiedzi\n",
    "print(f\"Status Code: {response.status_code}\")\n",
    "print(f\"Response Headers: {response.headers}\")\n",
    "print(f\"Response Text (first 2000 chars): {response.text[:2000]}\")\n",
    "\n",
    "# Jeśli odpowiedź jest poprawna, wykonaj webscraping\n",
    "if response.status_code == 200:\n",
    "    soup = BeautifulSoup(response.content, \"html.parser\")\n",
    "\n",
    "    # Pobieranie ofert mieszkań\n",
    "    titles = [h2.a.text.strip() for h2 in soup.find_all(\"h2\", class_=\"title\") if h2.a]\n",
    "    prices = [p.text.replace(\"\\xa0\", \" \").strip() for p in soup.find_all(\"span\", class_=\"price\")]\n",
    "\n",
    "    print(\"Titles:\", titles)\n",
    "    print(len(titles))\n",
    "    print(\"Prices:\", prices)\n",
    "    print(len(prices))\n",
    "\n",
    "    df = pd.DataFrame({\"Title\": titles, \"Price\": prices})\n",
    "\n",
    "    # Dopisanie do pliku CSV\n",
    "    df.to_csv(\"scraped_data.csv\", mode='a', header=not os.path.exists('scraped_data.csv'), index=False)\n",
    "else:\n",
    "    print(\"Failed to retrieve data.\")\n"
   ]
  }
 ],
 "metadata": {
  "colab": {
   "provenance": []
  },
  "kernelspec": {
   "display_name": "Python 3",
   "name": "python3"
  },
  "language_info": {
   "codemirror_mode": {
    "name": "ipython",
    "version": 3
   },
   "file_extension": ".py",
   "mimetype": "text/x-python",
   "name": "python",
   "nbconvert_exporter": "python",
   "pygments_lexer": "ipython3",
   "version": "3.9.23"
  },
  "papermill": {
   "default_parameters": {},
   "duration": 3.840649,
   "end_time": "2025-07-01T23:50:44.222846",
   "environment_variables": {},
   "exception": null,
   "input_path": "nb.ipynb",
   "output_path": "nbo.ipynb",
   "parameters": {},
   "start_time": "2025-07-01T23:50:40.382197",
   "version": "2.6.0"
  }
 },
 "nbformat": 4,
 "nbformat_minor": 5
}