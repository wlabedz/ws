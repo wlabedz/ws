{
 "cells": [
  {
   "cell_type": "code",
   "execution_count": 1,
   "id": "67553b74",
   "metadata": {
    "colab": {
     "base_uri": "https://localhost:8080/"
    },
    "execution": {
     "iopub.execute_input": "2025-07-25T13:05:53.203312Z",
     "iopub.status.busy": "2025-07-25T13:05:53.203048Z",
     "iopub.status.idle": "2025-07-25T13:05:55.177875Z",
     "shell.execute_reply": "2025-07-25T13:05:55.177138Z"
    },
    "id": "5pYh4c8j1w43",
    "outputId": "8a0dca73-64e5-4f0d-c493-2c5b38392363",
    "papermill": {
     "duration": 1.978275,
     "end_time": "2025-07-25T13:05:55.179012",
     "exception": false,
     "start_time": "2025-07-25T13:05:53.200737",
     "status": "completed"
    },
    "tags": []
   },
   "outputs": [
    {
     "name": "stdout",
     "output_type": "stream",
     "text": [
      "Status Code: 200\n",
      "Response Headers: {'Server': 'nginx', 'Date': 'Fri, 25 Jul 2025 13:05:54 GMT', 'Content-Type': 'text/html; charset=UTF-8', 'Transfer-Encoding': 'chunked', 'Vary': 'Accept-Encoding, User-Agent', 'Set-Cookie': 'FRSPSID=1ms0megd3k93u0ihavbjpflvj6; path=/; domain=.sprzedajemy.pl; secure; HttpOnly, _items_per_page__offer_list=60; expires=Sun, 24-Aug-2025 13:05:54 GMT; Max-Age=2592000; path=/; domain=.sprzedajemy.pl; secure; httponly, observed_id=73146671868838132beddd846397849542403652; expires=Wed, 25-Jul-2125 14:05:54 GMT; Max-Age=3155677200; path=/; domain=.sprzedajemy.pl; secure; httponly', 'Expires': 'Thu, 19 Nov 1981 08:52:00 GMT', 'Cache-Control': 'no-store, no-cache, must-revalidate, post-check=0, pre-check=0', 'Pragma': 'no-cache', 'Content-Encoding': 'gzip'}\n",
      "Response Text (first 2000 chars): <!DOCTYPE html><html xmlns=\"http://www.w3.org/1999/xhtml\" xml:lang=\"pl\" lang=\"pl\" class=\"no-js\" >\n",
      "<head>\n",
      "\t\t\t<!-- Google Tag Manager -->\n",
      "\t\t\t<script>(function(w,d,s,l,i){w[l]=w[l]||[];w[l].push({'gtm.start':\n",
      "\t\t\t\t\t\tnew Date().getTime(),event:'gtm.js'});var f=d.getElementsByTagName(s)[0],\n",
      "\t\t\t\t\tj=d.createElement(s),dl=l!='dataLayer'?'&l='+l:'';j.async=true;j.src=\n",
      "\t\t\t\t\t'https://www.googletagmanager.com/gtm.js?id='+i+dl\n",
      "\t\t\t\t\t\t\t\t\t    ;f.parentNode.insertBefore(j,f);\n",
      "\t\t\t\t    })(window,document,'script','dataLayer','GTM-P3S238');</script>\n",
      "\t\t\t<!-- End Google Tag Manager -->\n",
      "\t<title>Mieszkania Kraków na sprzedaż, wynajem - Sprzedajemy.pl</title><meta http-equiv=\"Content-Type\" content=\"text/html; charset=UTF-8\" >\n",
      "<meta http-equiv=\"X-UA-Compatible\" content=\"IE=edge\" >\n",
      "<meta name=\"description\" content=\"Ogłoszenia o tematyce:  w kategorii Mieszkania - Kupuj i sprzedawaj rzeczy używane i nowe w kategorii Mieszkania na Sprzedajemy.pl\" >\n",
      "<meta property=\"og:title\" content=\"Mieszkania Kraków na sprzedaż, wynajem - Sprzedajemy.pl\" >\n",
      "<meta property=\"og:type\" content=\"website\" >\n",
      "<meta property=\"og:image\" content=\"https://thumbs.img-sprzedajemy.pl/facebook/sprzedajemy.pl.png\" >\n",
      "<meta property=\"og:image:width\" content=\"200\" >\n",
      "<meta property=\"og:image:height\" content=\"200\" >\n",
      "<meta property=\"og:url\" content=\"https://sprzedajemy.pl/krakow/nieruchomosci/mieszkania\" >\n",
      "<meta property=\"og:site_name\" content=\"Sprzedajemy.pl\" >\n",
      "<meta property=\"fb:app_id\" content=\"173258269367442\" >\n",
      "<meta property=\"og:description\" content=\"Ogłoszenia o tematyce:  w kategorii Mieszkania - Kupuj i sprzedawaj rzeczy używane i nowe w kategorii Mieszkania na Sprzedajemy.pl\" >\n",
      "<meta name=\"robots\" content=\"noindex, follow\" >\t\t<script  async=\"async\" src=\"https://static.criteo.net/js/ld/publishertag.js\"></script>\n",
      "        <script  async=\"async\" src=\"https://ap.lijit.com/www/sovrn_beacon_standalone/sovrn_standalone_beacon.js?iid=13417409&amp;uid=sprzedajemy\" id=\"sBeacon\"></script>\n",
      "\t\t<script  async=\"async\" src=\"https://securepuba\n",
      "Titles: ['Mieszkanie na sprzedaż/zamiana 39m2', 'Mieszkanie Wola Justowska /Bielany 36m2', 'Nowoczesny apartament z panoramicznym widokiem - od właściciela', 'Wyjątkowe mieszkanie z widokiem na klasztor w Tyńcu i panoramę Tatr', 'Stylowy apartament z widokiem na panoramę Krakowa - od właściciela', 'Kraków, Stare Miasto sprzedaż/zamiana', '2-pokojowe mieszkanie na Zabłociu – ciche, świetna lokalizacja! [Wirtualny…', '4pokoje 68m2 balkon KLIMA Śródmieście BEZ PROWIZJI od właściciela', 'Dom - Kraków Tonie - Zielona okolica - 123 m2 | 5 - pok. | Ogród | Taras |…', 'Mieszkanie Kraków Babińskiego 72.4m2 3 pokoje', 'Mieszkanie sprzedam 74.74m2 3 pokoje Kraków', 'Mieszkanie Kraków Pękowicka 39.05m2', 'Ogłoszenie mieszkanie Kraków 39.05m2 2 pokojowe', 'Mieszkanie 34.97m2 1 pokój Kraków ul. Aleksandry', 'Mieszkanie 48.18m2 2 pok Kraków Nowa', 'Mieszkanie Kraków Dąbrowskiego 47.8 metrów 2 pok', 'Mieszkanie 54m2 3-pokojowe Kraków Librowszczyzna', 'Oferta sprzedaży mieszkania Kraków Olszanicka 151.37m2', 'Mieszkanie 59.85m 3 pokojowe Kraków', 'Mieszkanie Kraków Kantrowicka 59.31m2 4 pok', 'Mieszkanie 74.03m2 3 pokojowe Kraków', 'Mieszkanie na sprzedaż 47.61m2 Kraków Grzegórzki', 'Ogłoszenie mieszkanie Kraków 31.74m2', 'Sprzedam mieszkanie 40.96m2 2 pokoje Kraków', 'Mieszkanie Kraków 35.05m2', 'Mieszkanie Kraków 51.67m2 3-pok', 'Mieszkanie 36.8m2 2 pokojowe Kraków Estery', 'Mieszkanie Kraków Wadowicka 40.38m2 2 pokoje', 'Mieszkanie Kraków 72.4m2 3 pokojowe', 'Mieszkanie Kraków 45.84m2 2 pokojowe', 'Mieszkanie 52.15 metrów 3 pok Kraków Pękowicka', 'Sprzedaż mieszkania 90.48m2 4-pok Kraków', 'Mieszkanie 72.12m2 Kraków', 'Mieszkanie 70m2 3-pokojowe Kraków Chełmońskiego', 'Ogłoszenie mieszkanie 58 metrów 3 pok Kraków ul. Fatimska', 'Mieszkanie Kraków Pękowicka 41.41m2 2 pokojowe', 'Mieszkanie na sprzedaż Kraków Pękowicka 51.82m2 3 pok', 'Sprzedam mieszkanie 38.07m2 2 pokoje Kraków Na Błonie', 'Mieszkanie Kraków Pękowicka 38.84m2 2 pokojowe', 'Ogłoszenie mieszkanie 39.88m2 2 pokoje Kraków', 'Oferta sprzedaży mieszkania 51.75m2 2 pok Kraków Grzegórzki', 'Mieszkanie Kraków Wadowicka 74.74m2 3-pokojowe', 'Mieszkanie 40.15m2 2 pokoje Kraków Pękowicka', 'Do sprzedaży mieszkanie Kraków 44.29m2 2 pok', 'Mieszkanie Kraków 70.88m2 4 pokojowe', 'Mieszkanie 71.45m2 4 pokoje Kraków Piasta Kołodzieja', 'Mieszkanie Kraków 35 metrów 1 pokojowe', 'Mieszkanie 37.8m2 2 pokoje Kraków Na Błonie', 'Mieszkanie sprzedam 118.87m2 4 pokoje Kraków', 'Mieszkanie sprzedam 45.84m2 2 pokojowe Kraków', 'Mieszkanie Kraków 61.7m2 3 pokoje', 'Ogłoszenie mieszkanie Kraków 69.35m2 3 pokoje', 'Mieszkanie Kraków 29 listopada - okolice 35.26m2 2-pokojowe', 'Mieszkanie Kraków Pękowicka 59.97m2 4 pokoje', 'Mieszkanie Kraków 72.15m2 3 pokojowe', 'Sprzedam mieszkanie 64.89m2 4 pokoje Kraków Kantrowicka', 'Mieszkanie Kraków Praska 138.7m2 5 pokojowe', 'Mieszkanie do sprzedania Kraków Piasta Kołodzieja 71.45m2 4 pokoje', 'Mieszkanie 65.16m2 4 pokoje Kraków Kantrowicka', 'Mieszkanie Kraków 40.73m2 2 pokoje']\n",
      "60\n",
      "Prices: ['526 000 zł', '487 000 zł', '997 000 zł', '779 000 zł', '897 000 zł', '2 153 000 zł', '499 000 zł', '1 850 000 zł', '2 275 000 zł', '1 245 280 zł', '1 225 736 zł', '663 850 zł', '663 850 zł', '525 000 zł', '1 150 000 zł', '954 499 zł', '3 300 zł', '2 138 088 zł', '987 525 zł', '741 375 zł', '1 698 000 zł', '1 099 000 zł', '599 886 zł', '696 320 zł', '508 225 zł', '1 091 528 zł', '1 232 800 zł', '722 802 zł', '1 194 600 zł', '848 040 zł', '852 652 zł', '1 420 536 zł', '1 132 000 zł', '3 900 zł', '729 000 zł', '697 758 zł', '852 439 zł', '759 382 zł', '662 222 zł', '675 966 zł', '1 164 375 zł', '1 240 684 zł', '680 542 zł', '668 779 zł', '1 162 432 zł', '907 415 zł', '2 200 zł', '762 766 zł', '798 000 zł', '820 536 zł', '860 000 zł', '1 240 000 zł', '657 206 zł', '986 506 zł', '1 060 605 zł', '811 125 zł', '2 798 000 zł', '900 270 zł', '944 820 zł', '692 410 zł']\n",
      "60\n"
     ]
    }
   ],
   "source": [
    "import requests\n",
    "from bs4 import BeautifulSoup\n",
    "import pandas as pd\n",
    "import os\n",
    "\n",
    "url = \"https://sprzedajemy.pl/krakow/nieruchomosci/mieszkania?offset=0&items_per_page=60\"\n",
    "\n",
    "headers = {\n",
    "    \"User-Agent\": \"Mozilla/5.0 (Windows NT 10.0; Win64; x64) AppleWebKit/537.36 (KHTML, like Gecko) Chrome/58.0.3029.110 Safari/537.36\",\n",
    "    \"Accept\": \"text/html,application/xhtml+xml,application/xml;q=0.9,image/webp,image/apng,*/*;q=0.8\",\n",
    "    \"Accept-Encoding\": \"gzip, deflate, br\",\n",
    "    \"Accept-Language\": \"en-US,en;q=0.9,pl;q=0.8\",\n",
    "    \"Connection\": \"keep-alive\"\n",
    "}\n",
    "\n",
    "response = requests.get(url, headers=headers)\n",
    "response = requests.get(url, headers=headers)\n",
    "\n",
    "# Debugowanie odpowiedzi\n",
    "print(f\"Status Code: {response.status_code}\")\n",
    "print(f\"Response Headers: {response.headers}\")\n",
    "print(f\"Response Text (first 2000 chars): {response.text[:2000]}\")\n",
    "\n",
    "# Jeśli odpowiedź jest poprawna, wykonaj webscraping\n",
    "if response.status_code == 200:\n",
    "    soup = BeautifulSoup(response.content, \"html.parser\")\n",
    "\n",
    "    # Pobieranie ofert mieszkań\n",
    "    titles = [h2.a.text.strip() for h2 in soup.find_all(\"h2\", class_=\"title\") if h2.a]\n",
    "    prices = [p.text.replace(\"\\xa0\", \" \").strip() for p in soup.find_all(\"span\", class_=\"price\")]\n",
    "\n",
    "    print(\"Titles:\", titles)\n",
    "    print(len(titles))\n",
    "    print(\"Prices:\", prices)\n",
    "    print(len(prices))\n",
    "\n",
    "    df = pd.DataFrame({\"Title\": titles, \"Price\": prices})\n",
    "\n",
    "    # Dopisanie do pliku CSV\n",
    "    df.to_csv(\"scraped_data.csv\", mode='a', header=not os.path.exists('scraped_data.csv'), index=False)\n",
    "else:\n",
    "    print(\"Failed to retrieve data.\")\n"
   ]
  }
 ],
 "metadata": {
  "colab": {
   "provenance": []
  },
  "kernelspec": {
   "display_name": "Python 3",
   "name": "python3"
  },
  "language_info": {
   "codemirror_mode": {
    "name": "ipython",
    "version": 3
   },
   "file_extension": ".py",
   "mimetype": "text/x-python",
   "name": "python",
   "nbconvert_exporter": "python",
   "pygments_lexer": "ipython3",
   "version": "3.9.23"
  },
  "papermill": {
   "default_parameters": {},
   "duration": 3.069641,
   "end_time": "2025-07-25T13:05:55.396677",
   "environment_variables": {},
   "exception": null,
   "input_path": "nb.ipynb",
   "output_path": "nbo.ipynb",
   "parameters": {},
   "start_time": "2025-07-25T13:05:52.327036",
   "version": "2.6.0"
  }
 },
 "nbformat": 4,
 "nbformat_minor": 5
}