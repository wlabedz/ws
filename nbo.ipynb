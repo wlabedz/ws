{
 "cells": [
  {
   "cell_type": "code",
   "execution_count": 1,
   "id": "e6d8e690",
   "metadata": {
    "colab": {
     "base_uri": "https://localhost:8080/"
    },
    "execution": {
     "iopub.execute_input": "2025-04-07T13:53:46.129592Z",
     "iopub.status.busy": "2025-04-07T13:53:46.129369Z",
     "iopub.status.idle": "2025-04-07T13:53:48.036094Z",
     "shell.execute_reply": "2025-04-07T13:53:48.035400Z"
    },
    "id": "5pYh4c8j1w43",
    "outputId": "8a0dca73-64e5-4f0d-c493-2c5b38392363",
    "papermill": {
     "duration": 1.90988,
     "end_time": "2025-04-07T13:53:48.037201",
     "exception": false,
     "start_time": "2025-04-07T13:53:46.127321",
     "status": "completed"
    },
    "tags": []
   },
   "outputs": [
    {
     "name": "stdout",
     "output_type": "stream",
     "text": [
      "Status Code: 200\n",
      "Response Headers: {'Server': 'nginx', 'Date': 'Mon, 07 Apr 2025 13:53:47 GMT', 'Content-Type': 'text/html; charset=UTF-8', 'Transfer-Encoding': 'chunked', 'Vary': 'Accept-Encoding, User-Agent', 'Set-Cookie': 'FRSPSID=r8sjtvnqf7nno8nken9uh07qt3; path=/; domain=.sprzedajemy.pl; secure; HttpOnly, _items_per_page__offer_list=60; expires=Wed, 07-May-2025 13:53:47 GMT; Max-Age=2592000; path=/; domain=.sprzedajemy.pl; secure; httponly, observed_id=122095911667f3d8eb9c58a34492866737409180; expires=Sat, 07-Apr-2125 14:53:47 GMT; Max-Age=3155677200; path=/; domain=.sprzedajemy.pl; secure; httponly', 'Expires': 'Thu, 19 Nov 1981 08:52:00 GMT', 'Cache-Control': 'no-store, no-cache, must-revalidate, post-check=0, pre-check=0', 'Pragma': 'no-cache', 'Content-Encoding': 'gzip'}\n",
      "Response Text (first 2000 chars): <!DOCTYPE html><html xmlns=\"http://www.w3.org/1999/xhtml\" xml:lang=\"pl\" lang=\"pl\" class=\"no-js\" >\n",
      "<head>\n",
      "\t\t\t<!-- Google Tag Manager -->\n",
      "\t\t\t<script>(function(w,d,s,l,i){w[l]=w[l]||[];w[l].push({'gtm.start':\n",
      "\t\t\t\t\t\tnew Date().getTime(),event:'gtm.js'});var f=d.getElementsByTagName(s)[0],\n",
      "\t\t\t\t\tj=d.createElement(s),dl=l!='dataLayer'?'&l='+l:'';j.async=true;j.src=\n",
      "\t\t\t\t\t'https://www.googletagmanager.com/gtm.js?id='+i+dl\n",
      "\t\t\t\t\t\t\t\t\t    ;f.parentNode.insertBefore(j,f);\n",
      "\t\t\t\t    })(window,document,'script','dataLayer','GTM-P3S238');</script>\n",
      "\t\t\t<!-- End Google Tag Manager -->\n",
      "\t<title>Mieszkania Kraków na sprzedaż, wynajem - Sprzedajemy.pl</title><meta http-equiv=\"Content-Type\" content=\"text/html; charset=UTF-8\" >\n",
      "<meta http-equiv=\"X-UA-Compatible\" content=\"IE=edge\" >\n",
      "<meta name=\"description\" content=\"Ogłoszenia o tematyce:  w kategorii Mieszkania - Kupuj i sprzedawaj rzeczy używane i nowe w kategorii Mieszkania na Sprzedajemy.pl\" >\n",
      "<meta property=\"og:title\" content=\"Mieszkania Kraków na sprzedaż, wynajem - Sprzedajemy.pl\" >\n",
      "<meta property=\"og:type\" content=\"website\" >\n",
      "<meta property=\"og:image\" content=\"https://thumbs.img-sprzedajemy.pl/facebook/sprzedajemy.pl.png\" >\n",
      "<meta property=\"og:image:width\" content=\"200\" >\n",
      "<meta property=\"og:image:height\" content=\"200\" >\n",
      "<meta property=\"og:url\" content=\"https://sprzedajemy.pl/krakow/nieruchomosci/mieszkania\" >\n",
      "<meta property=\"og:site_name\" content=\"Sprzedajemy.pl\" >\n",
      "<meta property=\"fb:app_id\" content=\"173258269367442\" >\n",
      "<meta property=\"og:description\" content=\"Ogłoszenia o tematyce:  w kategorii Mieszkania - Kupuj i sprzedawaj rzeczy używane i nowe w kategorii Mieszkania na Sprzedajemy.pl\" >\n",
      "<meta name=\"robots\" content=\"noindex, follow\" >\t\t<script  async=\"async\" src=\"https://static.criteo.net/js/ld/publishertag.js\"></script>\n",
      "        <script  async=\"async\" src=\"https://ap.lijit.com/www/sovrn_beacon_standalone/sovrn_standalone_beacon.js?iid=13417409&amp;uid=sprzedajemy\" id=\"sBeacon\"></script>\n",
      "\t\t<script  async=\"async\" src=\"https://securepuba\n",
      "Titles: ['Strych do adaptacji, Błonia, ul. Filarecka', 'Apartament, 2 pokoje, jadalnia, garaż,Krowodrza', '2 pokoje,garaż,wysoki standard,ul.Rakowicka,ENG', 'Nowoczesne, wykończone, z garażem i balkonem', 'Kraków Bronowice Stawowa 168 / 60m2 3 POK/ 22,5 m2 taras/ BEZ POŚREDNIKÓW', 'Wyjątkowe 2 mieszkania w 1, gotowe do wprowadzenia, po remoncie', '2 lub 3 pokoje,62m2,balkon, Widok na Wawel', 'Mieszkanie z ogródkiem Zakrzówek', 'Powierzchnia do wynajęcia pod działalność biurową', 'Mieszkanie Kraków Stare Miasto Grodzka', 'Kawalerka  na sprzedaż', 'Sprzedam 2pokojowe Mieszkanie os. Kalinowe, do wejścia, 3piętro, winda', 'Oferta sprzedaży mieszkania Kraków Olszanicka 151.83m2 7 pokojowe', 'Mieszkanie Kraków os. Tysiąclecia 28.2m2 1-pokojowe', 'Ogłoszenie mieszkanie 49.9m2 2 pok Kraków Szlak', 'Do sprzedaży mieszkanie 61.99m2 4 pok Kraków Cegielniana', 'Mieszkanie 57.77 metrów 3-pokojowe Kraków', 'Mieszkanie Kraków 41.3m2 2-pok', 'Mieszkanie 52m2 2-pok Kraków prof. Michała Bobrzyńskiego', 'Sprzedam mieszkanie w systemie TBS', '2 pokoje | osobna kuchnia | os. Przy Arce, Kraków', '2 pokoje 41m2 blisko Aquaparku wkrótce tramwaj!', 'Mieszkanie 56m2 3-pokojowe Kraków', 'Sprzedam mieszkanie Kraków ulica Wawelska 8', 'Mieszkanie przy Parku Rzecznym Tonie', 'Mieszkanie z potencjałem od właściciela, Nowa Huta Os. Na Skarpie, jasne i…', 'Mieszkanie Kraków Wita Stwosza 18.63m2 1 pokojowe', 'Mieszkanie Kraków Reduta 74.33m2', 'Mieszkanie Krowodrz Górka 40m2', 'Oferta sprzedaży mieszkania 120.73m2 4-pokojowe Kraków Reduta', 'Oferta sprzedaży mieszkania Kraków 21.71m2 1-pok', 'Mieszkanie 16.03m2 Kraków', 'Mieszkanie Kraków Wita Stwosza 18.04m2 1 pokojowe', 'Mieszkanie 47.6m2 2 pokojowe Kraków Filipa - okolice', 'Sprzedam mieszkanie 137.1m2 5-pok Kraków Reduta', 'Mieszkanie na sprzedaż Kraków 18.63 metrów', 'Mieszkanie Kraków 74.79 metrów 4-pok', 'Mieszkanie 89.93 metry Kraków Reduta', 'Sprzedaż mieszkania 77.03m2 3 pokojowe Kraków', 'Ogłoszenie mieszkanie Kraków Wita Stwosza 17.24m2 1 pokojowe', 'Mieszkanie sprzedam 92.18m2 4-pokojowe Kraków os. Piastów', 'Mieszkanie 77.27m2 3-pok Kraków Reduta', 'Mieszkanie Kraków 77.04m 3 pokojowe', 'Mieszkanie Kraków Kluczborska 47.12m2 2 pok', 'Ogłoszenie mieszkanie 16.56m2 1-pokojowe Kraków Wita Stwosza', 'Mieszkanie 137.1m2 5-pokojowe Kraków', 'Mieszkanie 25.01m 1 pokój Kraków Św. Sebastiana - okolice', 'Mieszkanie Kraków 16.03m2 1 pokój', 'Sprzedam mieszkanie Kraków Przewóz - okolice 65.61m2 3 pokojowe', 'Mieszkanie Kraków Kraszewskiego 114m2 4 pokojowe', 'Mieszkanie sprzedam 92.18m2 4 pokojowe Kraków os. Piastów', 'Mieszkanie Kraków 45.55m2 2 pokojowe', 'Mieszkanie 16.56m2 1 pokojowe Kraków Wita Stwosza', 'Mieszkanie 18.04m2 1 pokój Kraków Wita Stwosza', 'Mieszkanie 89.93m2 Kraków', 'Sprzedam mieszkanie Kraków Św. Sebastiana - okolice 30.19m2', 'Mieszkanie sprzedam Kraków al. 29 Listopada 16.13m2 1-pokojowe', 'Mieszkanie Kraków Bałuckiego 63.9m2 3-pok', 'Mieszkanie 57.25m2 2 pokoje Kraków Reduta', 'Mieszkanie Kraków Reduta 45.55m2 2 pokoje']\n",
      "60\n",
      "Prices: ['379 999 zł', '3 800 zł', '3 000 zł', '990 000 zł', '1 137 500 zł', '1 185 000 zł', '1 590 000 zł', '470 000 zł', '3 750 zł', '1 483 000 zł', '595 000 zł', '575 000 zł', '2 383 737 zł', '499 000 zł', '3 200 zł', '990 000 zł', '880 000 zł', '650 000 zł', '749 000 zł', '200 000 zł', '630 000 zł', '710 000 zł', '749 000 zł', '999 900 zł', '550 000 zł', '480 000 zł', '405 202 zł', '1 134 000 zł', '2 800 zł', '2 049 180 zł', '417 917 zł', '356 667 zł', '468 750 zł', '1 128 970 zł', '2 368 370 zł', '409 860 zł', '1 157 385 zł', '1 305 725 zł', '1 600 000 zł', '383 590 zł', '940 236 zł', '1 334 176 zł', '1 329 332 zł', '3 300 zł', '368 460 zł', '2 368 370 zł', '1 000 400 zł', '372 697 zł', '726 791 zł', '1 799 000 zł', '940 236 zł', '765 240 zł', '376 740 zł', '419 430 zł', '1 305 725 zł', '1 207 600 zł', '314 535 zł', '1 200 000 zł', '859 800 zł', '778 000 zł']\n",
      "60\n"
     ]
    }
   ],
   "source": [
    "import requests\n",
    "from bs4 import BeautifulSoup\n",
    "import pandas as pd\n",
    "import os\n",
    "\n",
    "url = \"https://sprzedajemy.pl/krakow/nieruchomosci/mieszkania?offset=0&items_per_page=60\"\n",
    "\n",
    "headers = {\n",
    "    \"User-Agent\": \"Mozilla/5.0 (Windows NT 10.0; Win64; x64) AppleWebKit/537.36 (KHTML, like Gecko) Chrome/58.0.3029.110 Safari/537.36\",\n",
    "    \"Accept\": \"text/html,application/xhtml+xml,application/xml;q=0.9,image/webp,image/apng,*/*;q=0.8\",\n",
    "    \"Accept-Encoding\": \"gzip, deflate, br\",\n",
    "    \"Accept-Language\": \"en-US,en;q=0.9,pl;q=0.8\",\n",
    "    \"Connection\": \"keep-alive\"\n",
    "}\n",
    "\n",
    "response = requests.get(url, headers=headers)\n",
    "response = requests.get(url, headers=headers)\n",
    "\n",
    "# Debugowanie odpowiedzi\n",
    "print(f\"Status Code: {response.status_code}\")\n",
    "print(f\"Response Headers: {response.headers}\")\n",
    "print(f\"Response Text (first 2000 chars): {response.text[:2000]}\")\n",
    "\n",
    "# Jeśli odpowiedź jest poprawna, wykonaj webscraping\n",
    "if response.status_code == 200:\n",
    "    soup = BeautifulSoup(response.content, \"html.parser\")\n",
    "\n",
    "    # Pobieranie ofert mieszkań\n",
    "    titles = [h2.a.text.strip() for h2 in soup.find_all(\"h2\", class_=\"title\") if h2.a]\n",
    "    prices = [p.text.replace(\"\\xa0\", \" \").strip() for p in soup.find_all(\"span\", class_=\"price\")]\n",
    "\n",
    "    print(\"Titles:\", titles)\n",
    "    print(len(titles))\n",
    "    print(\"Prices:\", prices)\n",
    "    print(len(prices))\n",
    "\n",
    "    df = pd.DataFrame({\"Title\": titles, \"Price\": prices})\n",
    "\n",
    "    # Dopisanie do pliku CSV\n",
    "    df.to_csv(\"scraped_data.csv\", mode='a', header=not os.path.exists('scraped_data.csv'), index=False)\n",
    "else:\n",
    "    print(\"Failed to retrieve data.\")\n"
   ]
  }
 ],
 "metadata": {
  "colab": {
   "provenance": []
  },
  "kernelspec": {
   "display_name": "Python 3",
   "name": "python3"
  },
  "language_info": {
   "codemirror_mode": {
    "name": "ipython",
    "version": 3
   },
   "file_extension": ".py",
   "mimetype": "text/x-python",
   "name": "python",
   "nbconvert_exporter": "python",
   "pygments_lexer": "ipython3",
   "version": "3.9.21"
  },
  "papermill": {
   "default_parameters": {},
   "duration": 3.019308,
   "end_time": "2025-04-07T13:53:48.254565",
   "environment_variables": {},
   "exception": null,
   "input_path": "nb.ipynb",
   "output_path": "nbo.ipynb",
   "parameters": {},
   "start_time": "2025-04-07T13:53:45.235257",
   "version": "2.6.0"
  }
 },
 "nbformat": 4,
 "nbformat_minor": 5
}