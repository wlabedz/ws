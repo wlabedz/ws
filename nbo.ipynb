{
 "cells": [
  {
   "cell_type": "code",
   "execution_count": 1,
   "id": "789691cb",
   "metadata": {
    "colab": {
     "base_uri": "https://localhost:8080/"
    },
    "execution": {
     "iopub.execute_input": "2025-04-25T05:12:56.456042Z",
     "iopub.status.busy": "2025-04-25T05:12:56.455438Z",
     "iopub.status.idle": "2025-04-25T05:12:58.582404Z",
     "shell.execute_reply": "2025-04-25T05:12:58.581715Z"
    },
    "id": "5pYh4c8j1w43",
    "outputId": "8a0dca73-64e5-4f0d-c493-2c5b38392363",
    "papermill": {
     "duration": 2.130748,
     "end_time": "2025-04-25T05:12:58.583576",
     "exception": false,
     "start_time": "2025-04-25T05:12:56.452828",
     "status": "completed"
    },
    "tags": []
   },
   "outputs": [
    {
     "name": "stdout",
     "output_type": "stream",
     "text": [
      "Status Code: 200\n",
      "Response Headers: {'Server': 'nginx', 'Date': 'Fri, 25 Apr 2025 05:12:58 GMT', 'Content-Type': 'text/html; charset=UTF-8', 'Transfer-Encoding': 'chunked', 'Vary': 'Accept-Encoding, User-Agent', 'Set-Cookie': 'FRSPSID=d3696rjc566begoucs6utla8f2; path=/; domain=.sprzedajemy.pl; secure; HttpOnly, _items_per_page__offer_list=60; expires=Sun, 25-May-2025 05:12:58 GMT; Max-Age=2592000; path=/; domain=.sprzedajemy.pl; secure; httponly, observed_id=1932324820680b19da1fbad2181750079432653019; expires=Wed, 25-Apr-2125 06:12:58 GMT; Max-Age=3155677200; path=/; domain=.sprzedajemy.pl; secure; httponly', 'Expires': 'Thu, 19 Nov 1981 08:52:00 GMT', 'Cache-Control': 'no-store, no-cache, must-revalidate, post-check=0, pre-check=0', 'Pragma': 'no-cache', 'Content-Encoding': 'gzip'}\n",
      "Response Text (first 2000 chars): <!DOCTYPE html><html xmlns=\"http://www.w3.org/1999/xhtml\" xml:lang=\"pl\" lang=\"pl\" class=\"no-js\" >\n",
      "<head>\n",
      "\t\t\t<!-- Google Tag Manager -->\n",
      "\t\t\t<script>(function(w,d,s,l,i){w[l]=w[l]||[];w[l].push({'gtm.start':\n",
      "\t\t\t\t\t\tnew Date().getTime(),event:'gtm.js'});var f=d.getElementsByTagName(s)[0],\n",
      "\t\t\t\t\tj=d.createElement(s),dl=l!='dataLayer'?'&l='+l:'';j.async=true;j.src=\n",
      "\t\t\t\t\t'https://www.googletagmanager.com/gtm.js?id='+i+dl\n",
      "\t\t\t\t\t\t\t\t\t    ;f.parentNode.insertBefore(j,f);\n",
      "\t\t\t\t    })(window,document,'script','dataLayer','GTM-P3S238');</script>\n",
      "\t\t\t<!-- End Google Tag Manager -->\n",
      "\t<title>Mieszkania Kraków na sprzedaż, wynajem - Sprzedajemy.pl</title><meta http-equiv=\"Content-Type\" content=\"text/html; charset=UTF-8\" >\n",
      "<meta http-equiv=\"X-UA-Compatible\" content=\"IE=edge\" >\n",
      "<meta name=\"description\" content=\"Ogłoszenia o tematyce:  w kategorii Mieszkania - Kupuj i sprzedawaj rzeczy używane i nowe w kategorii Mieszkania na Sprzedajemy.pl\" >\n",
      "<meta property=\"og:title\" content=\"Mieszkania Kraków na sprzedaż, wynajem - Sprzedajemy.pl\" >\n",
      "<meta property=\"og:type\" content=\"website\" >\n",
      "<meta property=\"og:image\" content=\"https://thumbs.img-sprzedajemy.pl/facebook/sprzedajemy.pl.png\" >\n",
      "<meta property=\"og:image:width\" content=\"200\" >\n",
      "<meta property=\"og:image:height\" content=\"200\" >\n",
      "<meta property=\"og:url\" content=\"https://sprzedajemy.pl/krakow/nieruchomosci/mieszkania\" >\n",
      "<meta property=\"og:site_name\" content=\"Sprzedajemy.pl\" >\n",
      "<meta property=\"fb:app_id\" content=\"173258269367442\" >\n",
      "<meta property=\"og:description\" content=\"Ogłoszenia o tematyce:  w kategorii Mieszkania - Kupuj i sprzedawaj rzeczy używane i nowe w kategorii Mieszkania na Sprzedajemy.pl\" >\n",
      "<meta name=\"robots\" content=\"noindex, follow\" >\t\t<script  async=\"async\" src=\"https://static.criteo.net/js/ld/publishertag.js\"></script>\n",
      "        <script  async=\"async\" src=\"https://ap.lijit.com/www/sovrn_beacon_standalone/sovrn_standalone_beacon.js?iid=13417409&amp;uid=sprzedajemy\" id=\"sBeacon\"></script>\n",
      "\t\t<script  async=\"async\" src=\"https://securepuba\n",
      "Titles: ['2 pokoje 41m2 blisko Aquaparku wkrótce tramwaj!', 'Mieszkanie przy Parku Rzecznym Tonie', 'Kraków, Stare Miasto sprzedaż/zamiana', 'Mieszkanie na sprzedaż/zamiana 39m2', 'Mieszkanie z ogródkiem Zakrzówek bezczynszowe', 'Mieszkanie 72m2 3 pokoje Kraków', 'Oferta sprzedaży mieszkania Kraków 31.51m2 2 pok', 'Mieszkanie 46.6m2 2 pokoje Kraków', 'Mieszkanie 39.15m2 Kraków Bunscha', 'Sprzedam mieszkanie 65.16m2 3 pokoje Kraków Zyblikiewicza', 'Mieszkanie Kraków Podskale 34.5m2', 'Mieszkanie Kraków 41.96m2 2-pok', 'Sprzedam mieszkanie 43m2 2 pokojowe Kraków Bartla', 'Mieszkanie Kraków Kuźnicy Kołłątajowskiej 31.3 metry 1 pokój', 'Mieszkanie 43.75m2 2-pokojowe Kraków Bunscha', 'Mieszkanie 33.74m2 1 pokojowe Kraków', 'Mieszkanie 39.09m2 2-pokojowe Kraków', 'Mieszkanie Kraków 40.12m2 2 pok', 'Mieszkanie 80.2m2 Kraków Józefa Friedleina', 'Mieszkanie Kraków Bunscha 43.46m2 2-pok', 'Mieszkanie Kraków Bunscha 52.06m2 2 pokoje', 'Mieszkanie Kraków 52.37m2 2-pok', 'Oferta sprzedaży mieszkania Kraków Bunscha 51.9m2', 'Mieszkanie Kraków Bunscha 41.07m2 2 pok', 'Mieszkanie Kraków Bunscha 58.7m2', 'Mieszkanie 52.24m2 2 pokojowe Kraków Bunscha', 'Mieszkanie 52.12m2 2 pokoje Kraków Bunscha', 'Ogłoszenie mieszkanie 98m2 4 pokoje Kraków Prandoty', 'Oferta sprzedaży mieszkania Kraków Laskowa 135m2 4 pokoje', 'Mieszkanie Kraków Bunscha 41.97m2 2 pokoje', 'Sprzedaż mieszkania 52.27m2 2 pokoje Kraków', 'Mieszkanie Kraków 51.84m2 2 pokoje', 'Sprzedaż mieszkania 52.2m2 2 pokoje Kraków Bunscha', 'Mieszkanie Kraków Bunscha 51.72 metry 2-pok', 'Mieszkanie Kraków 52.35m2 2 pokojowe', 'Mieszkanie 43.67m2 2 pok Kraków Bunscha', 'Oferta sprzedaży mieszkania Kraków Podeworze 45m2 2-pok', 'Mieszkanie 43.45m2 2-pok Kraków Bunscha', 'Sprzedaż mieszkania Kraków 59.49m2 3-pok', 'Mieszkanie Kraków Bunscha 58.7 metrów 3 pokoje', 'Oferta sprzedaży mieszkania Kraków Bunscha 43.33m2 2 pokojowe', 'Mieszkanie 40.09m2 2-pokojowe Kraków Bunscha', 'Mieszkanie sprzedam 52.24m2 2 pokoje Kraków Bunscha', 'Mieszkanie 39.19 metrów 2-pokojowe Kraków Bunscha', 'Mieszkanie Kraków Bunscha 43.62m2 2 pokoje', 'Oferta sprzedaży mieszkania 41.12m2 2 pokojowe Kraków', 'Mieszkanie Kraków Krowoderska 74.7m2', 'Mieszkanie Kraków Złota Podkowa 57.5m2 3 pokojowe', 'Mieszkanie Kraków Na Wzgórzach 33.78m2 2 pokoje', 'Mieszkanie sprzedam 33.7m2 1-pokojowe Kraków Bunscha', 'Sprzedam mieszkanie Kraków Bunscha 52.26m2 2 pokojowe', 'Sprzedam mieszkanie Kraków Bunscha 42.93 metry', 'Wynajmę mieszkanie 62.01m2 3 pokoje Kraków Czeczów', 'Sprzedaż mieszkania Kraków Bunscha 51.72 metry 2-pokojowe', 'Oferta sprzedaży mieszkania Kraków Bunscha 41.93m2 2 pokoje', 'Ogłoszenie mieszkanie 44m2 2 pokoje Kraków Przyjaźni Polsko-Węgierskiej', 'Mieszkanie 51.8m2 2 pok Kraków', 'Mieszkanie Kraków Przyjaźni Polsko-Węgierskiej 44m2 2 pokojowe', 'Mieszkanie Kraków 43.3m2 2 pokoje', 'Mieszkanie Kraków 39.19m2 2-pokojowe']\n",
      "60\n",
      "Prices: ['710 000 zł', '535 000 zł', '2 254 000 zł', '548 000 zł', '460 000 zł', '3 700 zł', '482 103 zł', '2 500 zł', '652 904 zł', '1 449 000 zł', '768 000 zł', '697 626 zł', '669 000 zł', '2 100 zł', '720 654 zł', '545 802 zł', '651 903 zł', '666 902 zł', '1 545 000 zł', '700 888 zł', '798 384 zł', '792 767 zł', '777 338 zł', '682 829 zł', '907 091 zł', '798 552 zł', '788 983 zł', '1 959 000 zł', '834 000 zł', '691 371 zł', '807 728 zł', '799 703 zł', '782 447 zł', '822 459 zł', '808 964 zł', '697 794 zł', '600 000 zł', '729 047 zł', '889 576 zł', '916 072 zł', '692 316 zł', '666 536 zł', '790 799 zł', '659 567 zł', '709 942 zł', '689 952 zł', '1 418 000 zł', '919 000 zł', '699 000 zł', '567 171 zł', '783 346 zł', '698 712 zł', '3 200 zł', '822 459 zł', '690 712 zł', '2 690 zł', '791 826 zł', '2 690 zł', '712 762 zł', '659 567 zł']\n",
      "60\n"
     ]
    }
   ],
   "source": [
    "import requests\n",
    "from bs4 import BeautifulSoup\n",
    "import pandas as pd\n",
    "import os\n",
    "\n",
    "url = \"https://sprzedajemy.pl/krakow/nieruchomosci/mieszkania?offset=0&items_per_page=60\"\n",
    "\n",
    "headers = {\n",
    "    \"User-Agent\": \"Mozilla/5.0 (Windows NT 10.0; Win64; x64) AppleWebKit/537.36 (KHTML, like Gecko) Chrome/58.0.3029.110 Safari/537.36\",\n",
    "    \"Accept\": \"text/html,application/xhtml+xml,application/xml;q=0.9,image/webp,image/apng,*/*;q=0.8\",\n",
    "    \"Accept-Encoding\": \"gzip, deflate, br\",\n",
    "    \"Accept-Language\": \"en-US,en;q=0.9,pl;q=0.8\",\n",
    "    \"Connection\": \"keep-alive\"\n",
    "}\n",
    "\n",
    "response = requests.get(url, headers=headers)\n",
    "response = requests.get(url, headers=headers)\n",
    "\n",
    "# Debugowanie odpowiedzi\n",
    "print(f\"Status Code: {response.status_code}\")\n",
    "print(f\"Response Headers: {response.headers}\")\n",
    "print(f\"Response Text (first 2000 chars): {response.text[:2000]}\")\n",
    "\n",
    "# Jeśli odpowiedź jest poprawna, wykonaj webscraping\n",
    "if response.status_code == 200:\n",
    "    soup = BeautifulSoup(response.content, \"html.parser\")\n",
    "\n",
    "    # Pobieranie ofert mieszkań\n",
    "    titles = [h2.a.text.strip() for h2 in soup.find_all(\"h2\", class_=\"title\") if h2.a]\n",
    "    prices = [p.text.replace(\"\\xa0\", \" \").strip() for p in soup.find_all(\"span\", class_=\"price\")]\n",
    "\n",
    "    print(\"Titles:\", titles)\n",
    "    print(len(titles))\n",
    "    print(\"Prices:\", prices)\n",
    "    print(len(prices))\n",
    "\n",
    "    df = pd.DataFrame({\"Title\": titles, \"Price\": prices})\n",
    "\n",
    "    # Dopisanie do pliku CSV\n",
    "    df.to_csv(\"scraped_data.csv\", mode='a', header=not os.path.exists('scraped_data.csv'), index=False)\n",
    "else:\n",
    "    print(\"Failed to retrieve data.\")\n"
   ]
  }
 ],
 "metadata": {
  "colab": {
   "provenance": []
  },
  "kernelspec": {
   "display_name": "Python 3",
   "name": "python3"
  },
  "language_info": {
   "codemirror_mode": {
    "name": "ipython",
    "version": 3
   },
   "file_extension": ".py",
   "mimetype": "text/x-python",
   "name": "python",
   "nbconvert_exporter": "python",
   "pygments_lexer": "ipython3",
   "version": "3.9.22"
  },
  "papermill": {
   "default_parameters": {},
   "duration": 3.243817,
   "end_time": "2025-04-25T05:12:58.800676",
   "environment_variables": {},
   "exception": null,
   "input_path": "nb.ipynb",
   "output_path": "nbo.ipynb",
   "parameters": {},
   "start_time": "2025-04-25T05:12:55.556859",
   "version": "2.6.0"
  }
 },
 "nbformat": 4,
 "nbformat_minor": 5
}