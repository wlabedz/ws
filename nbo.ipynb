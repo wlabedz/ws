{
 "cells": [
  {
   "cell_type": "code",
   "execution_count": 1,
   "id": "5327f2f2",
   "metadata": {
    "colab": {
     "base_uri": "https://localhost:8080/"
    },
    "execution": {
     "iopub.execute_input": "2025-09-28T23:24:31.473038Z",
     "iopub.status.busy": "2025-09-28T23:24:31.472734Z",
     "iopub.status.idle": "2025-09-28T23:24:34.040490Z",
     "shell.execute_reply": "2025-09-28T23:24:34.039745Z"
    },
    "id": "5pYh4c8j1w43",
    "outputId": "8a0dca73-64e5-4f0d-c493-2c5b38392363",
    "papermill": {
     "duration": 2.571391,
     "end_time": "2025-09-28T23:24:34.041684",
     "exception": false,
     "start_time": "2025-09-28T23:24:31.470293",
     "status": "completed"
    },
    "tags": []
   },
   "outputs": [
    {
     "name": "stdout",
     "output_type": "stream",
     "text": [
      "Status Code: 200\n",
      "Response Headers: {'Server': 'nginx', 'Date': 'Sun, 28 Sep 2025 23:24:33 GMT', 'Content-Type': 'text/html; charset=UTF-8', 'Transfer-Encoding': 'chunked', 'Vary': 'Accept-Encoding, User-Agent', 'Set-Cookie': 'FRSPSID=7faq7qa1pb8s5mprsd573dvsa0; path=/; domain=.sprzedajemy.pl; secure; HttpOnly, _items_per_page__offer_list=60; expires=Tue, 28-Oct-2025 23:24:33 GMT; Max-Age=2592000; path=/; domain=.sprzedajemy.pl; secure; httponly, observed_id=108383005668d9c3b1961f9033062362799821857; expires=Sat, 29-Sep-2125 00:24:33 GMT; Max-Age=3155677200; path=/; domain=.sprzedajemy.pl; secure; httponly', 'Expires': 'Thu, 19 Nov 1981 08:52:00 GMT', 'Cache-Control': 'no-store, no-cache, must-revalidate, post-check=0, pre-check=0', 'Pragma': 'no-cache', 'Content-Encoding': 'gzip'}\n",
      "Response Text (first 2000 chars): <!DOCTYPE html><html xmlns=\"http://www.w3.org/1999/xhtml\" xml:lang=\"pl\" lang=\"pl\" class=\"no-js\" >\n",
      "<head>\n",
      "\t\t\t<!-- Google Tag Manager -->\n",
      "\t\t\t<script>(function(w,d,s,l,i){w[l]=w[l]||[];w[l].push({'gtm.start':\n",
      "\t\t\t\t\t\tnew Date().getTime(),event:'gtm.js'});var f=d.getElementsByTagName(s)[0],\n",
      "\t\t\t\t\tj=d.createElement(s),dl=l!='dataLayer'?'&l='+l:'';j.async=true;j.src=\n",
      "\t\t\t\t\t'https://www.googletagmanager.com/gtm.js?id='+i+dl\n",
      "\t\t\t\t\t\t\t\t\t    ;f.parentNode.insertBefore(j,f);\n",
      "\t\t\t\t    })(window,document,'script','dataLayer','GTM-P3S238');</script>\n",
      "\t\t\t<!-- End Google Tag Manager -->\n",
      "\t<title>Mieszkania Kraków na sprzedaż, wynajem - Sprzedajemy.pl</title><meta http-equiv=\"Content-Type\" content=\"text/html; charset=UTF-8\" >\n",
      "<meta http-equiv=\"X-UA-Compatible\" content=\"IE=edge\" >\n",
      "<meta name=\"description\" content=\"Ogłoszenia o tematyce:  w kategorii Mieszkania - Kupuj i sprzedawaj rzeczy używane i nowe w kategorii Mieszkania na Sprzedajemy.pl\" >\n",
      "<meta property=\"og:title\" content=\"Mieszkania Kraków na sprzedaż, wynajem - Sprzedajemy.pl\" >\n",
      "<meta property=\"og:type\" content=\"website\" >\n",
      "<meta property=\"og:image\" content=\"https://thumbs.img-sprzedajemy.pl/facebook/sprzedajemy.pl.png\" >\n",
      "<meta property=\"og:image:width\" content=\"200\" >\n",
      "<meta property=\"og:image:height\" content=\"200\" >\n",
      "<meta property=\"og:url\" content=\"https://sprzedajemy.pl/krakow/nieruchomosci/mieszkania\" >\n",
      "<meta property=\"og:site_name\" content=\"Sprzedajemy.pl\" >\n",
      "<meta property=\"fb:app_id\" content=\"173258269367442\" >\n",
      "<meta property=\"og:description\" content=\"Ogłoszenia o tematyce:  w kategorii Mieszkania - Kupuj i sprzedawaj rzeczy używane i nowe w kategorii Mieszkania na Sprzedajemy.pl\" >\n",
      "<meta name=\"robots\" content=\"noindex, follow\" >\t\t<script  async=\"async\" src=\"https://static.criteo.net/js/ld/publishertag.js\"></script>\n",
      "        <script  async=\"async\" src=\"https://ap.lijit.com/www/sovrn_beacon_standalone/sovrn_standalone_beacon.js?iid=13417409&amp;uid=sprzedajemy\" id=\"sBeacon\"></script>\n",
      "\t\t<script  async=\"async\" src=\"https://securepuba\n",
      "Titles: ['Stylowy lokal na parterze przy Krowoderskiej', 'Podedworze 13', 'Wyjątkowy lokal przy ul. Krowoderskiej z widokiem na stronę ogrodową', 'Dwa pokoje - stare miasto - Do wejścia - Własność', 'Kraków, Stare Miasto sprzedaż/zamiana', 'Sprzedam dwupokojowe mieszkanie os. Dywizjonu 303, 19C Kraków', 'Mieszkanie Wzgórza Krzesławickie bez prowizji.', 'Mieszkanie z widokiem na góry', 'Wyjątkowe mieszkanie z widokiem na klasztor w Tyńcu i panoramę Tatr', 'Nowoczesny apartament z panoramicznym widokiem - od właściciela', 'Stylowy apartament z widokiem na panoramę Krakowa - od właściciela', 'Mieszkanie Kraków Jana Kurczaba 68.6m2 3-pokojowe', 'Mieszkanie 45m2 2-pokojowe Kraków', 'Mieszkanie w zielonej okolicy Krakowa w domu jednorodzinym i 2 m.postojowe', 'Przestronne 3-pokojowe mieszkanie 59m2 z balkonem i piwnicą Bieńczyce', 'Mieszkanie 23m2 1 pokój Kraków', '4-pok. Apartament, ul. Śliczna, Kraków, ustawny, jasny.', '2 POKOJOWE 40 mkw na Bunscha na sprzedaż!', 'Mieszkanie 3 pokojowe os. Na Wzgórzach', 'Mieszkanie z widokiem!', 'Mieszkanie 59m2 do wynajęcia ul. Wincentego Danka', 'Mieszkanie 71.27m2 4 pokoje Kraków Stefana Banacha', 'Mieszkanie 38 metrów kwadratowych sprzedam bezpośrednio', 'Oferta sprzedaży mieszkania Kraków 70.19m2 3 pokojowe', 'Mieszkanie Kraków 43m2 2 pokojowe', 'sprzedam mieszkanie w Krakowie', 'Mieszkanie 2 pok Kraków Łobzowska Wynajem', 'Wygodna inwestycja! Wyposażone mieszkanie dwupokojowe na Grzegórzkach', 'Mieszkanie 50m 2 pokoje Kraków', 'Mieszkanie Kraków 56.5m2 2 pokoje', '3-pokojowe mieszkanie 70m2 z klimatyzacją, 2 balkony - Wiślane Tarasy', 'DOBREGO PASTERZA, Prądnik Czerwony, 4 Pok, Parter', 'Kawalerka 27m2 w kamienicy z parkingiem – Prądnik Czerwony, inwestycja', 'Lublanska 22 / 2 pok / BEZPOŚREDNIO', 'DOSTĘPNE JUŻ\\xa04-pokojowe mieszkanie w nowo wybudowanym budynku', 'Mieszkanie 86.36m2 3-pok Kraków', 'Mieszkanie 49.63m2 2-pokojowe Kraków Barbary', 'Mieszkanie, Kraków os. Tysiąclecia 1 - 20 m 2', 'Mieszkanie na sprzedaż trzy pokojowe 57 metrów Kraków osiedle Jagiellońskie', 'wynajmę mieszkanie dwupokojowe', '4-pok. na Ruczaju na sprzedaż!', 'Mieszkanie Kraków 61.9m2 3 pokojowe', 'Mieszkanie Kraków Bartosza Głowackiego 34.11m2 1 pokój', 'Mieszkanie Kraków Krupnicza 32m2 1 pokojowe', 'Sprzedam mieszkanie 58m2 3-pokojowe Kraków Fatimska', 'Mieszkanie ul. Grodzka | 90m od Rynku Głównego!', 'Mieszkanie 98 metrów 3 pokoje Kraków Bolesława Komorowskiego', 'Mieszkanie na sprzedaż 53.5m2 2 pokoje Kraków', 'mieszkanie 2 pokojow dla 1-2 osób od października', 'Mieszkanie 38.4m2 2 pokojowe Kraków', 'Oferta sprzedaży mieszkania Kraków Macieja Dębskiego 53.69m2 3 pokoje', 'Oferta sprzedaży mieszkania Kraków 32.9 metrów 2 pokoje', 'Mieszkanie Kraków 57.13m2 4-pokojowe', 'Oferta wynajmu mieszkania 40m2 2 pokoje Kraków Na Kozłówce', 'Mieszkanie Kraków 58.7m2 3 pokojowe', 'Mieszkanie 59.3m2 2 pok Kraków Kotlarska', 'Mieszkanie Kraków 24.3m 1-pokojowe', 'Mieszkanie Kraków 64.3m2 3 pokoje', 'Po remoncie 2 pokoje Przy Bulwarach Nowa cena', '5 min do centrum - 2-pokojowe mieszkanie 48 m² – wysoki standard']\n",
      "60\n",
      "Prices: ['1 890 000 zł', '542 000 zł', '1 340 000 zł', '715 155 zł', '2 083 000 zł', '620 000 zł', '719 000 zł', '265 000 zł', '779 000 zł', '997 000 zł', '890 000 zł', '899 000 zł', '1 150 000 zł', '2 275 000 zł', '720 000 zł', '375 000 zł', '5 600 zł', '710 000 zł', '670 000 zł', '670 000 zł', '3 100 zł', '1 299 000 zł', '470 000 zł', '489 000 zł', '534 700 zł', '1 500 000 zł', '3 500 zł', '749 000 zł', '710 000 zł', '6 500 zł', '6 200 zł', '748 000 zł', '369 000 zł', '2 950 zł', '850 000 zł', '1 049 999 zł', '579 000 zł', '336 000 zł', '665 000 zł', '2 800 zł', '899 000 zł', '780 000 zł', '629 000 zł', '2 500 zł', '733 000 zł', '1 270 000 zł', '5 800 zł', '1 049 000 zł', '3 000 zł', '2 900 zł', '729 000 zł', '525 000 zł', '920 000 zł', '2 980 zł', '830 000 zł', '799 000 zł', '399 000 zł', '775 000 zł', '980 000 zł', '3 550 zł']\n",
      "60\n"
     ]
    }
   ],
   "source": [
    "import requests\n",
    "from bs4 import BeautifulSoup\n",
    "import pandas as pd\n",
    "import os\n",
    "\n",
    "url = \"https://sprzedajemy.pl/krakow/nieruchomosci/mieszkania?offset=0&items_per_page=60\"\n",
    "\n",
    "headers = {\n",
    "    \"User-Agent\": \"Mozilla/5.0 (Windows NT 10.0; Win64; x64) AppleWebKit/537.36 (KHTML, like Gecko) Chrome/58.0.3029.110 Safari/537.36\",\n",
    "    \"Accept\": \"text/html,application/xhtml+xml,application/xml;q=0.9,image/webp,image/apng,*/*;q=0.8\",\n",
    "    \"Accept-Encoding\": \"gzip, deflate, br\",\n",
    "    \"Accept-Language\": \"en-US,en;q=0.9,pl;q=0.8\",\n",
    "    \"Connection\": \"keep-alive\"\n",
    "}\n",
    "\n",
    "response = requests.get(url, headers=headers)\n",
    "response = requests.get(url, headers=headers)\n",
    "\n",
    "# Debugowanie odpowiedzi\n",
    "print(f\"Status Code: {response.status_code}\")\n",
    "print(f\"Response Headers: {response.headers}\")\n",
    "print(f\"Response Text (first 2000 chars): {response.text[:2000]}\")\n",
    "\n",
    "# Jeśli odpowiedź jest poprawna, wykonaj webscraping\n",
    "if response.status_code == 200:\n",
    "    soup = BeautifulSoup(response.content, \"html.parser\")\n",
    "\n",
    "    # Pobieranie ofert mieszkań\n",
    "    titles = [h2.a.text.strip() for h2 in soup.find_all(\"h2\", class_=\"title\") if h2.a]\n",
    "    prices = [p.text.replace(\"\\xa0\", \" \").strip() for p in soup.find_all(\"span\", class_=\"price\")]\n",
    "\n",
    "    print(\"Titles:\", titles)\n",
    "    print(len(titles))\n",
    "    print(\"Prices:\", prices)\n",
    "    print(len(prices))\n",
    "\n",
    "    df = pd.DataFrame({\"Title\": titles, \"Price\": prices})\n",
    "\n",
    "    # Dopisanie do pliku CSV\n",
    "    df.to_csv(\"scraped_data.csv\", mode='a', header=not os.path.exists('scraped_data.csv'), index=False)\n",
    "else:\n",
    "    print(\"Failed to retrieve data.\")\n"
   ]
  }
 ],
 "metadata": {
  "colab": {
   "provenance": []
  },
  "kernelspec": {
   "display_name": "Python 3",
   "name": "python3"
  },
  "language_info": {
   "codemirror_mode": {
    "name": "ipython",
    "version": 3
   },
   "file_extension": ".py",
   "mimetype": "text/x-python",
   "name": "python",
   "nbconvert_exporter": "python",
   "pygments_lexer": "ipython3",
   "version": "3.9.23"
  },
  "papermill": {
   "default_parameters": {},
   "duration": 3.700774,
   "end_time": "2025-09-28T23:24:34.259990",
   "environment_variables": {},
   "exception": null,
   "input_path": "nb.ipynb",
   "output_path": "nbo.ipynb",
   "parameters": {},
   "start_time": "2025-09-28T23:24:30.559216",
   "version": "2.6.0"
  }
 },
 "nbformat": 4,
 "nbformat_minor": 5
}