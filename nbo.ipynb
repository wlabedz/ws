{
 "cells": [
  {
   "cell_type": "code",
   "execution_count": 1,
   "id": "3dd07db7",
   "metadata": {
    "colab": {
     "base_uri": "https://localhost:8080/"
    },
    "execution": {
     "iopub.execute_input": "2025-09-05T14:55:12.504354Z",
     "iopub.status.busy": "2025-09-05T14:55:12.504056Z",
     "iopub.status.idle": "2025-09-05T14:55:14.858981Z",
     "shell.execute_reply": "2025-09-05T14:55:14.858286Z"
    },
    "id": "5pYh4c8j1w43",
    "outputId": "8a0dca73-64e5-4f0d-c493-2c5b38392363",
    "papermill": {
     "duration": 2.358443,
     "end_time": "2025-09-05T14:55:14.860204",
     "exception": false,
     "start_time": "2025-09-05T14:55:12.501761",
     "status": "completed"
    },
    "tags": []
   },
   "outputs": [
    {
     "name": "stdout",
     "output_type": "stream",
     "text": [
      "Status Code: 200\n",
      "Response Headers: {'Server': 'nginx', 'Date': 'Fri, 05 Sep 2025 14:55:14 GMT', 'Content-Type': 'text/html; charset=UTF-8', 'Transfer-Encoding': 'chunked', 'Vary': 'Accept-Encoding, User-Agent', 'Set-Cookie': 'FRSPSID=vdffg4itrih51lcpnk6vsrjp34; path=/; domain=.sprzedajemy.pl; secure; HttpOnly, _items_per_page__offer_list=60; expires=Sun, 05-Oct-2025 14:55:14 GMT; Max-Age=2592000; path=/; domain=.sprzedajemy.pl; secure; httponly, observed_id=3331305968baf9d269a4c250795249478847532; expires=Wed, 05-Sep-2125 15:55:14 GMT; Max-Age=3155677200; path=/; domain=.sprzedajemy.pl; secure; httponly', 'Expires': 'Thu, 19 Nov 1981 08:52:00 GMT', 'Cache-Control': 'no-store, no-cache, must-revalidate, post-check=0, pre-check=0', 'Pragma': 'no-cache', 'Content-Encoding': 'gzip'}\n",
      "Response Text (first 2000 chars): <!DOCTYPE html><html xmlns=\"http://www.w3.org/1999/xhtml\" xml:lang=\"pl\" lang=\"pl\" class=\"no-js\" >\n",
      "<head>\n",
      "\t\t\t<!-- Google Tag Manager -->\n",
      "\t\t\t<script>(function(w,d,s,l,i){w[l]=w[l]||[];w[l].push({'gtm.start':\n",
      "\t\t\t\t\t\tnew Date().getTime(),event:'gtm.js'});var f=d.getElementsByTagName(s)[0],\n",
      "\t\t\t\t\tj=d.createElement(s),dl=l!='dataLayer'?'&l='+l:'';j.async=true;j.src=\n",
      "\t\t\t\t\t'https://www.googletagmanager.com/gtm.js?id='+i+dl\n",
      "\t\t\t\t\t\t\t\t\t    ;f.parentNode.insertBefore(j,f);\n",
      "\t\t\t\t    })(window,document,'script','dataLayer','GTM-P3S238');</script>\n",
      "\t\t\t<!-- End Google Tag Manager -->\n",
      "\t<title>Mieszkania Kraków na sprzedaż, wynajem - Sprzedajemy.pl</title><meta http-equiv=\"Content-Type\" content=\"text/html; charset=UTF-8\" >\n",
      "<meta http-equiv=\"X-UA-Compatible\" content=\"IE=edge\" >\n",
      "<meta name=\"description\" content=\"Ogłoszenia o tematyce:  w kategorii Mieszkania - Kupuj i sprzedawaj rzeczy używane i nowe w kategorii Mieszkania na Sprzedajemy.pl\" >\n",
      "<meta property=\"og:title\" content=\"Mieszkania Kraków na sprzedaż, wynajem - Sprzedajemy.pl\" >\n",
      "<meta property=\"og:type\" content=\"website\" >\n",
      "<meta property=\"og:image\" content=\"https://thumbs.img-sprzedajemy.pl/facebook/sprzedajemy.pl.png\" >\n",
      "<meta property=\"og:image:width\" content=\"200\" >\n",
      "<meta property=\"og:image:height\" content=\"200\" >\n",
      "<meta property=\"og:url\" content=\"https://sprzedajemy.pl/krakow/nieruchomosci/mieszkania\" >\n",
      "<meta property=\"og:site_name\" content=\"Sprzedajemy.pl\" >\n",
      "<meta property=\"fb:app_id\" content=\"173258269367442\" >\n",
      "<meta property=\"og:description\" content=\"Ogłoszenia o tematyce:  w kategorii Mieszkania - Kupuj i sprzedawaj rzeczy używane i nowe w kategorii Mieszkania na Sprzedajemy.pl\" >\n",
      "<meta name=\"robots\" content=\"noindex, follow\" >\t\t<script  async=\"async\" src=\"https://static.criteo.net/js/ld/publishertag.js\"></script>\n",
      "        <script  async=\"async\" src=\"https://ap.lijit.com/www/sovrn_beacon_standalone/sovrn_standalone_beacon.js?iid=13417409&amp;uid=sprzedajemy\" id=\"sBeacon\"></script>\n",
      "\t\t<script  async=\"async\" src=\"https://securepuba\n",
      "Titles: ['Mieszkanie z widokiem na góry', 'Wyjątkowe mieszkanie z widokiem na klasztor w Tyńcu i panoramę Tatr', 'Stylowy apartament z widokiem na panoramę Krakowa - od właściciela', 'Nowoczesny apartament z panoramicznym widokiem - od właściciela', 'Kraków, Stare Miasto sprzedaż/zamiana', 'Stylowy lokal na parterze przy Krowoderskiej', '2-pokojowe mieszkanie po remoncie | PROMOCJA | ul Bronowicka', 'Oferta wynajmu mieszkania 35.84m2 2 pokoje Kraków Romanowicza', 'Mieszkanie Kraków 24.3m 1-pokojowe', 'Mieszkanie Kraków 73.62m2 3 pokoje', 'Mieszkanie Kraków 29 listopada - okolice 35.26m2 2-pokojowe', 'Mieszkanie 31.74 metry 1 pokój Kraków', 'Mieszkanie 65.13m2 4-pokojowe Kraków Pękowicka', 'Mieszkanie Kraków 72.56m 2-pokojowe', 'Mieszkanie 37.49 metrów 2 pok Kraków', 'Mieszkanie Kraków Bukowa 57.19 metrów 3 pokoje', 'Oferta sprzedaży mieszkania 62.06m2 3 pokoje Kraków Wadowicka', 'Mieszkanie sprzedam Kraków 64.14m2 4-pokojowe', 'Sprzedam mieszkanie 60m2 3 pokoje Kraków prof. Michała Bobrzyńskiego', 'Mieszkanie 36.8m2 2 pokojowe Kraków Estery', 'Mieszkanie Kraków 51.54m2 3 pokojowe', 'Mieszkanie sprzedam Kraków Wadowicka 46.32m2', 'Mieszkanie Kraków Wadowicka 45.27m 2-pok', 'Do sprzedaży mieszkanie Kraków 65.31m2 4 pokoje', 'Mieszkanie Kraków 38.19m2 2 pokoje', 'Mieszkanie na sprzedaż Kraków Pękowicka 51.82m2 3 pok', 'Mieszkanie Kraków 51.53m2 2 pokoje', 'Mieszkanie Kraków 50.63m 3 pokojowe', 'Oferta sprzedaży mieszkania Kraków Wadowicka 46.32m2 2 pokoje', 'Mieszkanie 45.84m2 2 pokojowe Kraków Wadowicka', 'Sprzedam mieszkanie 64.89m2 4 pokoje Kraków Kantrowicka', 'Mieszkanie do sprzedania Kraków Piasta Kołodzieja 44.28m2 2 pokoje', 'Mieszkanie Kraków 72.4m2 3 pokojowe', 'Mieszkanie sprzedam 36.09m2 Kraków', 'Mieszkanie Kraków Wadowicka 68.88m2 4 pokoje', 'Mieszkanie Kraków Pękowicka 37.75m2', 'Oferta sprzedaży mieszkania Kraków Kantrowicka 35.05m2 2 pokoje', 'Mieszkanie 73.62m2 Kraków', 'Mieszkanie Kraków 63.83m2 4-pokojowe', 'Mieszkanie 58m2 3-pok Kraków ul. dr. Jana Piltza', 'Mieszkanie Kraków 37.5 metrów 2-pokojowe', 'Mieszkanie 38.01m2 Kraków', 'Oferta sprzedaży mieszkania Kraków Babińskiego 51.53m2 2 pokoje', 'Oferta sprzedaży mieszkania Kraków Na Błonie 38.1m2', 'Mieszkanie Kraków Bosacka 59m2 2 pokojowe', 'Mieszkanie 79.3m2 2 pokoje Kraków Babińskiego', 'Mieszkanie 65.94m2 3-pok Kraków', 'Mieszkanie 37.83m2 2 pokojowe Kraków', 'Mieszkanie do sprzedania 33.87m2 2 pokojowe Kraków Pękowicka', 'Mieszkanie 38.17m2 2 pokojowe Kraków', 'Mieszkanie Kraków Kantrowicka 59.31m2 4 pok', 'Sprzedaż mieszkania 70.88m2 3 pok Kraków', 'Mieszkanie 65.16m2 4 pokoje Kraków', 'Mieszkanie Kraków 26.11m2 1-pok', 'Mieszkanie 50.23m2 3 pokojowe Kraków Piasta Kołodzieja', 'Oferta sprzedaży mieszkania Kraków 56.19m2', 'Do sprzedaży mieszkanie Kraków 74.74m2 3 pokojowe', 'Mieszkanie 46.32 metry 2 pokojowe Kraków', 'Mieszkanie 72.4 metry 4 pokoje Kraków', 'Mieszkanie Kraków Wadowicka 68.78m2 3-pokojowe']\n",
      "60\n",
      "Prices: ['265 000 zł', '779 000 zł', '890 000 zł', '997 000 zł', '2 083 000 zł', '1 800 000 zł', '710 000 zł', '3 005 zł', '399 000 zł', '1 163 196 zł', '657 206 zł', '631 626 zł', '1 045 336 zł', '1 226 264 zł', '771 956 zł', '657 685 zł', '1 073 638 zł', '1 032 654 zł', '1 050 000 zł', '1 232 800 zł', '661 000 zł', '866 184 zł', '846 549 zł', '1 051 491 zł', '656 868 zł', '852 439 zł', '922 387 zł', '848 052 zł', '856 920 zł', '829 704 zł', '770 568 zł', '673 056 zł', '1 194 600 zł', '514 282 zł', '1 046 976 zł', '658 737 zł', '499 462 zł', '1 133 748 zł', '1 034 046 zł', '1 049 000 zł', '729 000 zł', '655 672 zł', '922 387 zł', '762 533 zł', '1 250 000 zł', '1 308 450 zł', '919 000 zł', '645 001 zł', '580 870 zł', '783 973 zł', '704 306 zł', '1 119 904 zł', '835 677 zł', '453 008 zł', '718 289 zł', '769 803 zł', '1 240 684 zł', '847 656 zł', '1 245 280 zł', '1 127 992 zł']\n",
      "60\n"
     ]
    }
   ],
   "source": [
    "import requests\n",
    "from bs4 import BeautifulSoup\n",
    "import pandas as pd\n",
    "import os\n",
    "\n",
    "url = \"https://sprzedajemy.pl/krakow/nieruchomosci/mieszkania?offset=0&items_per_page=60\"\n",
    "\n",
    "headers = {\n",
    "    \"User-Agent\": \"Mozilla/5.0 (Windows NT 10.0; Win64; x64) AppleWebKit/537.36 (KHTML, like Gecko) Chrome/58.0.3029.110 Safari/537.36\",\n",
    "    \"Accept\": \"text/html,application/xhtml+xml,application/xml;q=0.9,image/webp,image/apng,*/*;q=0.8\",\n",
    "    \"Accept-Encoding\": \"gzip, deflate, br\",\n",
    "    \"Accept-Language\": \"en-US,en;q=0.9,pl;q=0.8\",\n",
    "    \"Connection\": \"keep-alive\"\n",
    "}\n",
    "\n",
    "response = requests.get(url, headers=headers)\n",
    "response = requests.get(url, headers=headers)\n",
    "\n",
    "# Debugowanie odpowiedzi\n",
    "print(f\"Status Code: {response.status_code}\")\n",
    "print(f\"Response Headers: {response.headers}\")\n",
    "print(f\"Response Text (first 2000 chars): {response.text[:2000]}\")\n",
    "\n",
    "# Jeśli odpowiedź jest poprawna, wykonaj webscraping\n",
    "if response.status_code == 200:\n",
    "    soup = BeautifulSoup(response.content, \"html.parser\")\n",
    "\n",
    "    # Pobieranie ofert mieszkań\n",
    "    titles = [h2.a.text.strip() for h2 in soup.find_all(\"h2\", class_=\"title\") if h2.a]\n",
    "    prices = [p.text.replace(\"\\xa0\", \" \").strip() for p in soup.find_all(\"span\", class_=\"price\")]\n",
    "\n",
    "    print(\"Titles:\", titles)\n",
    "    print(len(titles))\n",
    "    print(\"Prices:\", prices)\n",
    "    print(len(prices))\n",
    "\n",
    "    df = pd.DataFrame({\"Title\": titles, \"Price\": prices})\n",
    "\n",
    "    # Dopisanie do pliku CSV\n",
    "    df.to_csv(\"scraped_data.csv\", mode='a', header=not os.path.exists('scraped_data.csv'), index=False)\n",
    "else:\n",
    "    print(\"Failed to retrieve data.\")\n"
   ]
  }
 ],
 "metadata": {
  "colab": {
   "provenance": []
  },
  "kernelspec": {
   "display_name": "Python 3",
   "name": "python3"
  },
  "language_info": {
   "codemirror_mode": {
    "name": "ipython",
    "version": 3
   },
   "file_extension": ".py",
   "mimetype": "text/x-python",
   "name": "python",
   "nbconvert_exporter": "python",
   "pygments_lexer": "ipython3",
   "version": "3.9.23"
  },
  "papermill": {
   "default_parameters": {},
   "duration": 3.46337,
   "end_time": "2025-09-05T14:55:15.077189",
   "environment_variables": {},
   "exception": null,
   "input_path": "nb.ipynb",
   "output_path": "nbo.ipynb",
   "parameters": {},
   "start_time": "2025-09-05T14:55:11.613819",
   "version": "2.6.0"
  }
 },
 "nbformat": 4,
 "nbformat_minor": 5
}