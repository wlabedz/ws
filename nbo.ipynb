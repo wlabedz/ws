{
 "cells": [
  {
   "cell_type": "code",
   "execution_count": 1,
   "id": "acd4e622",
   "metadata": {
    "colab": {
     "base_uri": "https://localhost:8080/"
    },
    "execution": {
     "iopub.execute_input": "2025-10-10T13:16:17.659487Z",
     "iopub.status.busy": "2025-10-10T13:16:17.659210Z",
     "iopub.status.idle": "2025-10-10T13:16:19.980784Z",
     "shell.execute_reply": "2025-10-10T13:16:19.980101Z"
    },
    "id": "5pYh4c8j1w43",
    "outputId": "8a0dca73-64e5-4f0d-c493-2c5b38392363",
    "papermill": {
     "duration": 2.325126,
     "end_time": "2025-10-10T13:16:19.981986",
     "exception": false,
     "start_time": "2025-10-10T13:16:17.656860",
     "status": "completed"
    },
    "tags": []
   },
   "outputs": [
    {
     "name": "stdout",
     "output_type": "stream",
     "text": [
      "Status Code: 200\n",
      "Response Headers: {'Server': 'nginx', 'Date': 'Fri, 10 Oct 2025 13:16:19 GMT', 'Content-Type': 'text/html; charset=UTF-8', 'Transfer-Encoding': 'chunked', 'Vary': 'Accept-Encoding, User-Agent', 'Set-Cookie': 'FRSPSID=63431e1pfs8i3b13s0jutkkdk7; path=/; domain=.sprzedajemy.pl; secure; HttpOnly, _items_per_page__offer_list=60; expires=Sun, 09-Nov-2025 13:16:19 GMT; Max-Age=2592000; path=/; domain=.sprzedajemy.pl; secure; httponly, observed_id=8627726168e90723836528173255078078639342; expires=Wed, 10-Oct-2125 14:16:19 GMT; Max-Age=3155677200; path=/; domain=.sprzedajemy.pl; secure; httponly', 'Expires': 'Thu, 19 Nov 1981 08:52:00 GMT', 'Cache-Control': 'no-store, no-cache, must-revalidate, post-check=0, pre-check=0', 'Pragma': 'no-cache', 'Content-Encoding': 'gzip'}\n",
      "Response Text (first 2000 chars): <!DOCTYPE html><html xmlns=\"http://www.w3.org/1999/xhtml\" xml:lang=\"pl\" lang=\"pl\" class=\"no-js\" >\n",
      "<head>\n",
      "\t\t\t<!-- Google Tag Manager -->\n",
      "\t\t\t<script>(function(w,d,s,l,i){w[l]=w[l]||[];w[l].push({'gtm.start':\n",
      "\t\t\t\t\t\tnew Date().getTime(),event:'gtm.js'});var f=d.getElementsByTagName(s)[0],\n",
      "\t\t\t\t\tj=d.createElement(s),dl=l!='dataLayer'?'&l='+l:'';j.async=true;j.src=\n",
      "\t\t\t\t\t'https://www.googletagmanager.com/gtm.js?id='+i+dl\n",
      "\t\t\t\t\t\t\t\t\t    ;f.parentNode.insertBefore(j,f);\n",
      "\t\t\t\t    })(window,document,'script','dataLayer','GTM-P3S238');</script>\n",
      "\t\t\t<!-- End Google Tag Manager -->\n",
      "\t<title>Mieszkania Kraków na sprzedaż, wynajem - Sprzedajemy.pl</title><meta http-equiv=\"Content-Type\" content=\"text/html; charset=UTF-8\" >\n",
      "<meta http-equiv=\"X-UA-Compatible\" content=\"IE=edge\" >\n",
      "<meta name=\"description\" content=\"Ogłoszenia o tematyce:  w kategorii Mieszkania - Kupuj i sprzedawaj rzeczy używane i nowe w kategorii Mieszkania na Sprzedajemy.pl\" >\n",
      "<meta property=\"og:title\" content=\"Mieszkania Kraków na sprzedaż, wynajem - Sprzedajemy.pl\" >\n",
      "<meta property=\"og:type\" content=\"website\" >\n",
      "<meta property=\"og:image\" content=\"https://thumbs.img-sprzedajemy.pl/facebook/sprzedajemy.pl.png\" >\n",
      "<meta property=\"og:image:width\" content=\"200\" >\n",
      "<meta property=\"og:image:height\" content=\"200\" >\n",
      "<meta property=\"og:url\" content=\"https://sprzedajemy.pl/krakow/nieruchomosci/mieszkania\" >\n",
      "<meta property=\"og:site_name\" content=\"Sprzedajemy.pl\" >\n",
      "<meta property=\"fb:app_id\" content=\"173258269367442\" >\n",
      "<meta property=\"og:description\" content=\"Ogłoszenia o tematyce:  w kategorii Mieszkania - Kupuj i sprzedawaj rzeczy używane i nowe w kategorii Mieszkania na Sprzedajemy.pl\" >\n",
      "<meta name=\"robots\" content=\"noindex, follow\" >\t\t<script  async=\"async\" src=\"https://static.criteo.net/js/ld/publishertag.js\"></script>\n",
      "        <script  async=\"async\" src=\"https://ap.lijit.com/www/sovrn_beacon_standalone/sovrn_standalone_beacon.js?iid=13417409&amp;uid=sprzedajemy\" id=\"sBeacon\"></script>\n",
      "\t\t<script  async=\"async\" src=\"https://securepuba\n"
     ]
    },
    {
     "name": "stdout",
     "output_type": "stream",
     "text": [
      "Titles: ['Mieszkanie 3-pokojowe Zakrzówek Ruczaj wynajem na 9 miesięcy', 'Mieszkanie z widokiem na góry', 'Podedworze 13', 'Kraków, Stare Miasto sprzedaż/zamiana', '3-pokojowe mieszkanie 70m2 z klimatyzacją, 2 balkony - Wiślane Tarasy', 'Sprzedam dwupokojowe mieszkanie os. Dywizjonu 303, 19C Kraków', 'Mieszkanie Wzgórza Krzesławickie bez prowizji.', 'Mieszkanie Kraków 54.4m2 3-pokojowe', 'Oferta sprzedaży mieszkania 65m2 3 pokojowe Kraków', 'Mieszkanie Kraków 43.36m2 3-pokojowe', 'Kawalerka 27m na Dąbiu | Pętla tramwajowa', 'Mieszkanie 101.65m2 Kraków Lenartowicza', '2 pokojowe mieszkanie z balkonem, ul. Bartla 19E, 43m2', 'Nowe umeblowane 2 pokoje z dużym balkonem - Park Bagry - Bez prowizji', 'Mieszkanie 4-pok. 73m2 z ogródkiem 130m2, Ruczaj, Federowicza Bunscha', 'Mieszkanie 59m2 3-pok Kraków Fieldorfa-Nila', 'Mieszkanie Kraków 70m2 3-pokojowe', 'WYNAJMĘ od zaraz mieszkanie 3 pokojowe-Krowodrza - Prądnik Biały-49 m2', 'Ogłoszenie mieszkanie 58 metrów 3 pokoje Kraków Nullo', 'Sprzedamy wyjątkowe mieszkanie na urokliwym osiedlu Kliny. :)', 'Sprzedaż mieszkania Kraków 47.36 metrów 2-pokojowe', 'Mieszkanie Kraków 75.4m2 4 pok', 'Mieszkanie Kraków 42m2 2 pokoje', 'Mieszkanie 43.08m2 Kraków Wadowicka', 'Mieszkanie sprzedam Kraków 25.5 metrów 1-pokojowe', 'Mieszkanie 61.63m2 3-pokojowe Kraków Gryczana', 'Mieszkanie Kraków Bonerowska 64m2 2-pokojowe', 'Wynajem mieszkania Kraków Gabrieli Zapolskiej 55.05m2 2 pokojowe', 'Mieszkanie 76.21m2 3 pokoje Kraków Armii Krajowej', 'Mieszkanie 51m2 2 pokoje Kraków', 'Oferta wynajmu mieszkania Kraków Górników 40.41 metrów 2 pokojowe', 'Oferta sprzedaży mieszkania Kraków 66m2 3 pokojowe', 'Mieszkanie do sprzedania 50 metrów 2 pok Kraków mjr. Ryszarda Nuszkiewicza', 'Mieszkanie Kraków Krokusowa 39.72m2 2 pokoje', 'Oferta sprzedaży mieszkania Kraków Aleja Kijowska 41.39m2 2 pokoje', 'Mieszkanie 55.5m2 3-pokojowe Kraków Ossowskiego', 'Ogłoszenie mieszkanie 46.5m2 3 pokojowe Kraków Lucjana Rydla', 'Mieszkanie Kraków 41.04m2 2-pokojowe', 'Oferta sprzedaży mieszkania Kraków Obozowa 60m2 3-pokojowe', 'Mieszkanie Kraków Borkowska 65.29m2 4 pok', 'Do sprzedaży mieszkanie Kraków 57.07m2 2-pokojowe', 'Oferta sprzedaży mieszkania 82 metry 3 pokoje Kraków', 'Mieszkanie do sprzedania Kraków 48.3 metry 2 pok', 'Mieszkanie 39.67m2 2 pokoje Kraków Pana Tadeusza', 'Mieszkanie Kraków Seweryna 44m2', 'Ogłoszenie mieszkanie Kraków os. Ogrodowe 20.6m2 1 pokój', 'Mieszkanie Kraków ul. Dzielskiego 52 metry 3-pok', 'Mieszkanie 71.8m 4-pokojowe Kraków', 'Mieszkanie Kraków 63.4m2 3 pokoje', 'Mieszkanie Kraków 34.6m2 2-pokojowe', 'Mieszkanie 58.7 metrów 2 pokojowe Kraków Kobierzyńska', 'Mieszkanie Kraków Myczkowskiego 61 metrów', 'Sprzedaż mieszkania Kraków 46.19m2 2 pokoje', 'Oferta sprzedaży mieszkania Kraków 41.1m2 1 pokój', 'Mieszkanie Kraków 64m2 3 pokoje', 'Mieszkanie Kraków Pana Tadeusza 56.97m 3 pokoje', 'Mieszkanie do sprzedania Kraków bp. Albina Małysiaka 41.07m2 2-pokojowe', 'Mieszkanie 37.79m2 2 pokoje Kraków Lubelska', 'Mieszkanie 44.91m2 2 pokoje Kraków', 'Oferta sprzedaży mieszkania Kraków 50m2 3 pokojowe']\n",
      "60\n",
      "Prices: ['2 900 zł', '265 000 zł', '542 000 zł', '2 015 000 zł', '5 900 zł', '620 000 zł', '670 000 zł', '765 000 zł', '920 000 zł', '520 000 zł', '581 000 zł', '1 590 000 zł', '620 000 zł', '784 000 zł', '1 033 000 zł', '899 000 zł', '890 000 zł', '3 300 zł', '1 449 000 zł', '679 000 zł', '829 000 zł', '999 900 zł', '948 000 zł', '749 592 zł', '489 000 zł', '799 900 zł', '1 130 000 zł', '3 000 zł', '1 340 000 zł', '779 000 zł', '3 000 zł', '1 150 000 zł', '799 000 zł', '660 000 zł', '922 955 zł', '976 000 zł', '760 000 zł', '902 838 zł', '880 000 zł', '960 000 zł', '798 000 zł', '995 000 zł', '695 000 zł', '875 000 zł', '678 000 zł', '360 000 zł', '719 000 zł', '880 000 zł', '820 000 zł', '700 000 zł', '860 000 zł', '870 000 zł', '670 000 zł', '540 000 zł', '920 000 zł', '1 249 000 zł', '649 000 zł', '1 690 000 zł', '996 957 zł', '628 000 zł']\n",
      "60\n"
     ]
    }
   ],
   "source": [
    "import requests\n",
    "from bs4 import BeautifulSoup\n",
    "import pandas as pd\n",
    "import os\n",
    "\n",
    "url = \"https://sprzedajemy.pl/krakow/nieruchomosci/mieszkania?offset=0&items_per_page=60\"\n",
    "\n",
    "headers = {\n",
    "    \"User-Agent\": \"Mozilla/5.0 (Windows NT 10.0; Win64; x64) AppleWebKit/537.36 (KHTML, like Gecko) Chrome/58.0.3029.110 Safari/537.36\",\n",
    "    \"Accept\": \"text/html,application/xhtml+xml,application/xml;q=0.9,image/webp,image/apng,*/*;q=0.8\",\n",
    "    \"Accept-Encoding\": \"gzip, deflate, br\",\n",
    "    \"Accept-Language\": \"en-US,en;q=0.9,pl;q=0.8\",\n",
    "    \"Connection\": \"keep-alive\"\n",
    "}\n",
    "\n",
    "response = requests.get(url, headers=headers)\n",
    "response = requests.get(url, headers=headers)\n",
    "\n",
    "# Debugowanie odpowiedzi\n",
    "print(f\"Status Code: {response.status_code}\")\n",
    "print(f\"Response Headers: {response.headers}\")\n",
    "print(f\"Response Text (first 2000 chars): {response.text[:2000]}\")\n",
    "\n",
    "# Jeśli odpowiedź jest poprawna, wykonaj webscraping\n",
    "if response.status_code == 200:\n",
    "    soup = BeautifulSoup(response.content, \"html.parser\")\n",
    "\n",
    "    # Pobieranie ofert mieszkań\n",
    "    titles = [h2.a.text.strip() for h2 in soup.find_all(\"h2\", class_=\"title\") if h2.a]\n",
    "    prices = [p.text.replace(\"\\xa0\", \" \").strip() for p in soup.find_all(\"span\", class_=\"price\")]\n",
    "\n",
    "    print(\"Titles:\", titles)\n",
    "    print(len(titles))\n",
    "    print(\"Prices:\", prices)\n",
    "    print(len(prices))\n",
    "\n",
    "    df = pd.DataFrame({\"Title\": titles, \"Price\": prices})\n",
    "\n",
    "    # Dopisanie do pliku CSV\n",
    "    df.to_csv(\"scraped_data.csv\", mode='a', header=not os.path.exists('scraped_data.csv'), index=False)\n",
    "else:\n",
    "    print(\"Failed to retrieve data.\")\n"
   ]
  }
 ],
 "metadata": {
  "colab": {
   "provenance": []
  },
  "kernelspec": {
   "display_name": "Python 3",
   "name": "python3"
  },
  "language_info": {
   "codemirror_mode": {
    "name": "ipython",
    "version": 3
   },
   "file_extension": ".py",
   "mimetype": "text/x-python",
   "name": "python",
   "nbconvert_exporter": "python",
   "pygments_lexer": "ipython3",
   "version": "3.9.23"
  },
  "papermill": {
   "default_parameters": {},
   "duration": 3.748245,
   "end_time": "2025-10-10T13:16:20.300303",
   "environment_variables": {},
   "exception": null,
   "input_path": "nb.ipynb",
   "output_path": "nbo.ipynb",
   "parameters": {},
   "start_time": "2025-10-10T13:16:16.552058",
   "version": "2.6.0"
  }
 },
 "nbformat": 4,
 "nbformat_minor": 5
}