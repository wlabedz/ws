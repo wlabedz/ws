{
 "cells": [
  {
   "cell_type": "code",
   "execution_count": 1,
   "id": "5f5846d8",
   "metadata": {
    "colab": {
     "base_uri": "https://localhost:8080/"
    },
    "execution": {
     "iopub.execute_input": "2025-10-21T12:26:41.392822Z",
     "iopub.status.busy": "2025-10-21T12:26:41.392531Z",
     "iopub.status.idle": "2025-10-21T12:26:43.951432Z",
     "shell.execute_reply": "2025-10-21T12:26:43.950866Z"
    },
    "id": "5pYh4c8j1w43",
    "outputId": "8a0dca73-64e5-4f0d-c493-2c5b38392363",
    "papermill": {
     "duration": 2.562328,
     "end_time": "2025-10-21T12:26:43.952539",
     "exception": false,
     "start_time": "2025-10-21T12:26:41.390211",
     "status": "completed"
    },
    "tags": []
   },
   "outputs": [
    {
     "name": "stdout",
     "output_type": "stream",
     "text": [
      "Status Code: 200\n",
      "Response Headers: {'Server': 'nginx', 'Date': 'Tue, 21 Oct 2025 12:26:43 GMT', 'Content-Type': 'text/html; charset=UTF-8', 'Transfer-Encoding': 'chunked', 'Vary': 'Accept-Encoding, User-Agent', 'Set-Cookie': 'FRSPSID=lq199qgkjuv1piuple6kherg46; path=/; domain=.sprzedajemy.pl; secure; HttpOnly, _items_per_page__offer_list=60; expires=Thu, 20-Nov-2025 12:26:43 GMT; Max-Age=2592000; path=/; domain=.sprzedajemy.pl; secure; httponly, observed_id=131831724768f77c037da674179228591238831565; expires=Sun, 21-Oct-2125 13:26:43 GMT; Max-Age=3155677200; path=/; domain=.sprzedajemy.pl; secure; httponly', 'Expires': 'Thu, 19 Nov 1981 08:52:00 GMT', 'Cache-Control': 'no-store, no-cache, must-revalidate, post-check=0, pre-check=0', 'Pragma': 'no-cache', 'Content-Encoding': 'gzip'}\n",
      "Response Text (first 2000 chars): <!DOCTYPE html><html xmlns=\"http://www.w3.org/1999/xhtml\" xml:lang=\"pl\" lang=\"pl\" class=\"no-js\" >\n",
      "<head>\n",
      "\t\t\t<!-- Google Tag Manager -->\n",
      "\t\t\t<script>(function(w,d,s,l,i){w[l]=w[l]||[];w[l].push({'gtm.start':\n",
      "\t\t\t\t\t\tnew Date().getTime(),event:'gtm.js'});var f=d.getElementsByTagName(s)[0],\n",
      "\t\t\t\t\tj=d.createElement(s),dl=l!='dataLayer'?'&l='+l:'';j.async=true;j.src=\n",
      "\t\t\t\t\t'https://www.googletagmanager.com/gtm.js?id='+i+dl\n",
      "\t\t\t\t\t\t\t\t\t    ;f.parentNode.insertBefore(j,f);\n",
      "\t\t\t\t    })(window,document,'script','dataLayer','GTM-P3S238');</script>\n",
      "\t\t\t<!-- End Google Tag Manager -->\n",
      "\t<title>Mieszkania Kraków na sprzedaż, wynajem - Sprzedajemy.pl</title><meta http-equiv=\"Content-Type\" content=\"text/html; charset=UTF-8\" >\n",
      "<meta http-equiv=\"X-UA-Compatible\" content=\"IE=edge\" >\n",
      "<meta name=\"description\" content=\"Ogłoszenia o tematyce:  w kategorii Mieszkania - Kupuj i sprzedawaj rzeczy używane i nowe w kategorii Mieszkania na Sprzedajemy.pl\" >\n",
      "<meta property=\"og:title\" content=\"Mieszkania Kraków na sprzedaż, wynajem - Sprzedajemy.pl\" >\n",
      "<meta property=\"og:type\" content=\"website\" >\n",
      "<meta property=\"og:image\" content=\"https://thumbs.img-sprzedajemy.pl/facebook/sprzedajemy.pl.png\" >\n",
      "<meta property=\"og:image:width\" content=\"200\" >\n",
      "<meta property=\"og:image:height\" content=\"200\" >\n",
      "<meta property=\"og:url\" content=\"https://sprzedajemy.pl/krakow/nieruchomosci/mieszkania\" >\n",
      "<meta property=\"og:site_name\" content=\"Sprzedajemy.pl\" >\n",
      "<meta property=\"fb:app_id\" content=\"173258269367442\" >\n",
      "<meta property=\"og:description\" content=\"Ogłoszenia o tematyce:  w kategorii Mieszkania - Kupuj i sprzedawaj rzeczy używane i nowe w kategorii Mieszkania na Sprzedajemy.pl\" >\n",
      "<meta name=\"robots\" content=\"noindex, follow\" >\t\t<script  async=\"async\" src=\"https://static.criteo.net/js/ld/publishertag.js\"></script>\n",
      "        <script  async=\"async\" src=\"https://ap.lijit.com/www/sovrn_beacon_standalone/sovrn_standalone_beacon.js?iid=13417409&amp;uid=sprzedajemy\" id=\"sBeacon\"></script>\n",
      "\t\t<script  async=\"async\" src=\"https://securepuba\n",
      "Titles: ['Mieszkanie Wzgórza Krzesławickie bez prowizji.', 'Sprzedam dwupokojowe mieszkanie (balkon, piwnica) os. Dywizjonu 303, 19C K…', 'Mieszkanie 3-pokojowe Zakrzówek Ruczaj ul. Pychowicka wynajem od właścicie…', 'Kraków, Stare Miasto sprzedaż/zamiana', 'Mieszkanie z widokiem na góry', 'Grzegorzki mieszkanie na sprzedaż 30 m', 'Oferta wynajmu mieszkania 46.79m2 2 pokojowe Kraków Litewska', 'Sprzedam dom Kraków Swoszowice Opatkowice południe', 'Mieszkanie 68.6m2 3 pok Kraków ks. Piotra Ściegiennego', 'Mieszkanie 20m2 1 pok Kraków', 'Podedworze 13', 'Mieszkanie sprzedam 47.62m2 Kraków Józefa Chełmońskiego', 'Ogłoszenie mieszkanie Kraków Juliusza Lea 52m2 2 pokoje', 'Mieszkanie 130m2 Kraków ul. Bielańska 16/2 wynajem', '3 osobne pokoje - Grzegórzecka centrum 5 min', 'Mieszkanie Kraków os. Jagiellońskie 44m2 2-pokojowe', 'Mieszkanie Kraków os. Górali 46m2', '2-pokojowe 45m2 pod Lasem Borkowskim', 'Mieszkanie z potencjałem – 1 pokój + kuchnia, Kraków', 'Mieszkanie 56m2 | Rynek Główny | ul. Grodzka', 'Sprzedaż mieszkania Kraków Pędzichów 39m2 2-pok', 'Mieszkanie Kraków Różana 47m2 2 pokoje', 'Do wynajęcia mieszkanie 55m2 3-pok Kraków', 'Bezpośrednio sprzedam mieszkanie Kraków ul. Batorego', 'Mieszkanie do sprzedania 38.93m2 1 pokojowe Kraków', 'Kraków – 3 pokojowy apartament na sprzedaż na kameralnym osiedlu', 'Mieszkanie Kraków Krakowska 77.24m2 3 pokoje', 'Mieszkanie 48.96 metrów 2 pokojowe Kraków', 'Ogłoszenie mieszkanie 46.02m2 2 pokojowe Kraków os. Avia', 'Mieszkanie 55.81 metrów 3-pokojowe Kraków Bolesława Orlińskiego', 'Mieszkanie 91.1m2 4 pokojowe Kraków', 'Mieszkanie na wynajem Kraków 73.35 metrów 3 pokojowe', 'Mieszkanie 91.3m2 4 pokojowe Kraków', 'Mieszkanie Kraków Radzikowskiego 73m2 3 pokojowe', 'Kraków – 2 pokojowy apartament w wysokim standardzie Piasta Towers', 'Wynajmę pokój z kuchnią blisko centrum, ul. Cieszyńska', 'Mieszkanie Kraków 66m2 3 pokoje', 'Mieszkanie Kraków 31.3m2 1 pokój', 'Mieszkanie na sprzedaż ul. Wróblewskiego, Kraków, Stare Miasto _ 16 000zl/…', 'Mieszkanie 2-pokojowe Z Jasną Kuchnią Kraków-Krowodrza, Umeblowane', 'Żabiniec - dwupokojowe mieszkanie z garażem', 'Bezpośrednio Mieszkanie zadbane 3 pok 63m2 ogródek klima parking', 'Mieszkanie 2 pokoje ul. Gustawa Morcinka Kraków', 'Mieszkanie 68.1m2 3 pokoje Kraków Barska', 'Mieszkanie Kraków 40m2', 'Wynajmę mieszkanie Kraków Walerego Sławka 71.04 metry 3 pokoje', 'Mieszkanie 80m2 4-pokojowe Kraków', 'Mieszkanie Kraków 51m2 2 pokoje', 'Kawalerka 27m na Dąbiu | Pętla tramwajowa', 'Zamienię mieszkanie komunalne', 'Mieszkanie Kraków 54m2 2 pokojowe', '2 pokojowe mieszkanie z balkonem, ul. Bartla 19E, 43m2', 'Nowe umeblowane 2 pokoje z dużym balkonem - Park Bagry - Bez prowizji', 'Mieszkanie 4-pok. 73m2 z ogródkiem 130m2, Ruczaj, Federowicza Bunscha', 'Ogłoszenie mieszkanie 36.34m 2 pokoje Kraków Romanowicza', 'Oferta sprzedaży mieszkania Kraków Przewóz 43m2 2 pokoje', 'Ogłoszenie mieszkanie 36.34m2 3 pokojowe Kraków', 'Mieszkanie Kraków 36.34m2 2-pokojowe', 'Mieszkanie Kraków 65.5m2 3-pokojowe', 'Mieszkanie 25.1m2 1 pokój Kraków Romanowicza']\n",
      "60\n",
      "Prices: ['670 000 zł', '600 000 zł', '3 000 zł', '2 015 000 zł', '265 000 zł', '549 000 zł', '2 400 zł', '1 495 000 zł', '809 000 zł', '1 700 zł', '542 000 zł', '759 000 zł', '980 000 zł', '3 950 zł', '3 900 zł', '599 900 zł', '529 000 zł', '4 100 zł', '431 000 zł', '1 060 000 zł', '700 000 zł', '1 300 zł', '5 500 zł', '1 650 000 zł', '685 000 zł', '939 000 zł', '1 250 000 zł', '750 849 zł', '779 000 zł', '899 000 zł', '1 190 000 zł', '3 200 zł', '1 450 000 zł', '699 000 zł', '799 000 zł', '1 800 zł', '750 000 zł', '2 400 zł', '1 968 000 zł', '2 100 zł', '750 000 zł', '4 000 zł', '2 200 zł', '1 350 000 zł', '630 000 zł', '3 600 zł', '989 000 zł', '859 000 zł', '581 000 zł', '11 111 zł', '700 000 zł', '620 000 zł', '784 000 zł', '1 033 000 zł', '2 990 zł', '570 000 zł', '2 990 zł', '2 990 zł', '5 400 zł', '2 290 zł']\n",
      "60\n"
     ]
    }
   ],
   "source": [
    "import requests\n",
    "from bs4 import BeautifulSoup\n",
    "import pandas as pd\n",
    "import os\n",
    "\n",
    "url = \"https://sprzedajemy.pl/krakow/nieruchomosci/mieszkania?offset=0&items_per_page=60\"\n",
    "\n",
    "headers = {\n",
    "    \"User-Agent\": \"Mozilla/5.0 (Windows NT 10.0; Win64; x64) AppleWebKit/537.36 (KHTML, like Gecko) Chrome/58.0.3029.110 Safari/537.36\",\n",
    "    \"Accept\": \"text/html,application/xhtml+xml,application/xml;q=0.9,image/webp,image/apng,*/*;q=0.8\",\n",
    "    \"Accept-Encoding\": \"gzip, deflate, br\",\n",
    "    \"Accept-Language\": \"en-US,en;q=0.9,pl;q=0.8\",\n",
    "    \"Connection\": \"keep-alive\"\n",
    "}\n",
    "\n",
    "response = requests.get(url, headers=headers)\n",
    "response = requests.get(url, headers=headers)\n",
    "\n",
    "# Debugowanie odpowiedzi\n",
    "print(f\"Status Code: {response.status_code}\")\n",
    "print(f\"Response Headers: {response.headers}\")\n",
    "print(f\"Response Text (first 2000 chars): {response.text[:2000]}\")\n",
    "\n",
    "# Jeśli odpowiedź jest poprawna, wykonaj webscraping\n",
    "if response.status_code == 200:\n",
    "    soup = BeautifulSoup(response.content, \"html.parser\")\n",
    "\n",
    "    # Pobieranie ofert mieszkań\n",
    "    titles = [h2.a.text.strip() for h2 in soup.find_all(\"h2\", class_=\"title\") if h2.a]\n",
    "    prices = [p.text.replace(\"\\xa0\", \" \").strip() for p in soup.find_all(\"span\", class_=\"price\")]\n",
    "\n",
    "    print(\"Titles:\", titles)\n",
    "    print(len(titles))\n",
    "    print(\"Prices:\", prices)\n",
    "    print(len(prices))\n",
    "\n",
    "    df = pd.DataFrame({\"Title\": titles, \"Price\": prices})\n",
    "\n",
    "    # Dopisanie do pliku CSV\n",
    "    df.to_csv(\"scraped_data.csv\", mode='a', header=not os.path.exists('scraped_data.csv'), index=False)\n",
    "else:\n",
    "    print(\"Failed to retrieve data.\")\n"
   ]
  }
 ],
 "metadata": {
  "colab": {
   "provenance": []
  },
  "kernelspec": {
   "display_name": "Python 3",
   "name": "python3"
  },
  "language_info": {
   "codemirror_mode": {
    "name": "ipython",
    "version": 3
   },
   "file_extension": ".py",
   "mimetype": "text/x-python",
   "name": "python",
   "nbconvert_exporter": "python",
   "pygments_lexer": "ipython3",
   "version": "3.9.23"
  },
  "papermill": {
   "default_parameters": {},
   "duration": 3.760492,
   "end_time": "2025-10-21T12:26:44.169087",
   "environment_variables": {},
   "exception": null,
   "input_path": "nb.ipynb",
   "output_path": "nbo.ipynb",
   "parameters": {},
   "start_time": "2025-10-21T12:26:40.408595",
   "version": "2.6.0"
  }
 },
 "nbformat": 4,
 "nbformat_minor": 5
}