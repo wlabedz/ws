{
 "cells": [
  {
   "cell_type": "code",
   "execution_count": 1,
   "id": "96d5c273",
   "metadata": {
    "colab": {
     "base_uri": "https://localhost:8080/"
    },
    "execution": {
     "iopub.execute_input": "2025-09-19T15:17:37.084148Z",
     "iopub.status.busy": "2025-09-19T15:17:37.083874Z",
     "iopub.status.idle": "2025-09-19T15:17:39.384372Z",
     "shell.execute_reply": "2025-09-19T15:17:39.383650Z"
    },
    "id": "5pYh4c8j1w43",
    "outputId": "8a0dca73-64e5-4f0d-c493-2c5b38392363",
    "papermill": {
     "duration": 2.304388,
     "end_time": "2025-09-19T15:17:39.385639",
     "exception": false,
     "start_time": "2025-09-19T15:17:37.081251",
     "status": "completed"
    },
    "tags": []
   },
   "outputs": [
    {
     "name": "stdout",
     "output_type": "stream",
     "text": [
      "Status Code: 200\n",
      "Response Headers: {'Server': 'nginx', 'Date': 'Fri, 19 Sep 2025 15:17:38 GMT', 'Content-Type': 'text/html; charset=UTF-8', 'Transfer-Encoding': 'chunked', 'Vary': 'Accept-Encoding, User-Agent', 'Set-Cookie': 'FRSPSID=mre1jvri0n0uan4brc8veh4v61; path=/; domain=.sprzedajemy.pl; secure; HttpOnly, _items_per_page__offer_list=60; expires=Sun, 19-Oct-2025 15:17:38 GMT; Max-Age=2592000; path=/; domain=.sprzedajemy.pl; secure; httponly, observed_id=136244684768cd7412e399f4132761393438468589; expires=Wed, 19-Sep-2125 16:17:38 GMT; Max-Age=3155677200; path=/; domain=.sprzedajemy.pl; secure; httponly', 'Expires': 'Thu, 19 Nov 1981 08:52:00 GMT', 'Cache-Control': 'no-store, no-cache, must-revalidate, post-check=0, pre-check=0', 'Pragma': 'no-cache', 'Content-Encoding': 'gzip'}\n",
      "Response Text (first 2000 chars): <!DOCTYPE html><html xmlns=\"http://www.w3.org/1999/xhtml\" xml:lang=\"pl\" lang=\"pl\" class=\"no-js\" >\n",
      "<head>\n",
      "\t\t\t<!-- Google Tag Manager -->\n",
      "\t\t\t<script>(function(w,d,s,l,i){w[l]=w[l]||[];w[l].push({'gtm.start':\n",
      "\t\t\t\t\t\tnew Date().getTime(),event:'gtm.js'});var f=d.getElementsByTagName(s)[0],\n",
      "\t\t\t\t\tj=d.createElement(s),dl=l!='dataLayer'?'&l='+l:'';j.async=true;j.src=\n",
      "\t\t\t\t\t'https://www.googletagmanager.com/gtm.js?id='+i+dl\n",
      "\t\t\t\t\t\t\t\t\t    ;f.parentNode.insertBefore(j,f);\n",
      "\t\t\t\t    })(window,document,'script','dataLayer','GTM-P3S238');</script>\n",
      "\t\t\t<!-- End Google Tag Manager -->\n",
      "\t<title>Mieszkania Kraków na sprzedaż, wynajem - Sprzedajemy.pl</title><meta http-equiv=\"Content-Type\" content=\"text/html; charset=UTF-8\" >\n",
      "<meta http-equiv=\"X-UA-Compatible\" content=\"IE=edge\" >\n",
      "<meta name=\"description\" content=\"Ogłoszenia o tematyce:  w kategorii Mieszkania - Kupuj i sprzedawaj rzeczy używane i nowe w kategorii Mieszkania na Sprzedajemy.pl\" >\n",
      "<meta property=\"og:title\" content=\"Mieszkania Kraków na sprzedaż, wynajem - Sprzedajemy.pl\" >\n",
      "<meta property=\"og:type\" content=\"website\" >\n",
      "<meta property=\"og:image\" content=\"https://thumbs.img-sprzedajemy.pl/facebook/sprzedajemy.pl.png\" >\n",
      "<meta property=\"og:image:width\" content=\"200\" >\n",
      "<meta property=\"og:image:height\" content=\"200\" >\n",
      "<meta property=\"og:url\" content=\"https://sprzedajemy.pl/krakow/nieruchomosci/mieszkania\" >\n",
      "<meta property=\"og:site_name\" content=\"Sprzedajemy.pl\" >\n",
      "<meta property=\"fb:app_id\" content=\"173258269367442\" >\n",
      "<meta property=\"og:description\" content=\"Ogłoszenia o tematyce:  w kategorii Mieszkania - Kupuj i sprzedawaj rzeczy używane i nowe w kategorii Mieszkania na Sprzedajemy.pl\" >\n",
      "<meta name=\"robots\" content=\"noindex, follow\" >\t\t<script  async=\"async\" src=\"https://static.criteo.net/js/ld/publishertag.js\"></script>\n",
      "        <script  async=\"async\" src=\"https://ap.lijit.com/www/sovrn_beacon_standalone/sovrn_standalone_beacon.js?iid=13417409&amp;uid=sprzedajemy\" id=\"sBeacon\"></script>\n",
      "\t\t<script  async=\"async\" src=\"https://securepuba\n"
     ]
    },
    {
     "name": "stdout",
     "output_type": "stream",
     "text": [
      "Titles: ['Podedworze 13', 'Stylowy lokal na parterze przy Krowoderskiej', 'Wyjątkowy lokal przy ul. Krowoderskiej z widokiem na stronę ogrodową', 'Dwa pokoje - stare miasto - Do wejścia - Własność', '2-pokojowe mieszkanie po remoncie | PROMOCJA | ul Bronowicka', 'Sprzedam dwupokojowe mieszkanie os. Dywizjonu 303, 19C Kraków', 'Mieszkanie z widokiem na góry', 'Wyjątkowe mieszkanie z widokiem na klasztor w Tyńcu i panoramę Tatr', 'Stylowy apartament z widokiem na panoramę Krakowa - od właściciela', 'Nowoczesny apartament z panoramicznym widokiem - od właściciela', 'Mieszkanie 50.23m2 3 pokojowe Kraków Piasta Kołodzieja', 'Mieszkanie do sprzedania Kraków Erazma Jerzmanowskiego 39.2m2 2 pokoje', 'Oferta sprzedaży mieszkania 90.38m2 4 pokojowe Kraków', 'Mieszkanie Kraków Pękowicka 59.97m2 4 pokoje', 'Mieszkanie 52.14m 3 pokojowe Kraków Pękowicka', 'Mieszkanie Kraków 50.63m 3 pokojowe', 'Mieszkanie Kraków Wadowicka 64.42m', 'Sprzedaż mieszkania Kraków 45.75m2', 'Mieszkanie do sprzedania 56.09m2 Kraków', 'Oferta sprzedaży mieszkania Kraków Babińskiego 70.88m2 3-pokojowe', 'Mieszkanie Kraków 29 listopada - okolice 36.77m2', 'Oferta sprzedaży mieszkania Kraków Bukowa 46.21 metrów 2-pok', 'Sprzedam mieszkanie 70.88m2 3 pokoje Kraków Babińskiego', 'Mieszkanie 53.68m2 2 pokoje Kraków', 'Oferta sprzedaży mieszkania Kraków Myczkowskiego 35.31m2', 'Oferta sprzedaży mieszkania Kraków 71.79m2 4-pokojowe', 'Mieszkanie Kraków Pękowicka 40.96m2 3 pok', 'Mieszkanie 41.42m2 2 pokoje Kraków', 'Mieszkanie 117m2 5 pokoi Kraków Olszanicka', 'BEZPOŚREDNIO Mieszkanie ul. Kielecka /Rondo Mogilskie', 'Mieszkanie Kraków Na Błonie 41.41m2 2-pokojowe', 'Mieszkanie 93.14 metry 4-pokojowe Kraków', 'Sprzedam mieszkanie Kraków 72.4m2 3 pokojowe', 'Mieszkanie Kraków Zdzisława Przebindowskiego 113.08m2', 'Mieszkanie Kraków Pękowicka 37.75m2', 'Mieszkanie 75.19m2 Kraków', 'Sprzedaż mieszkania 42.3m2 Kraków', 'Ogłoszenie mieszkanie Kraków Pękowicka 51.72 metry 3 pokoje', 'Mieszkanie 60.55m2 3-pokojowe Kraków Wadowicka', 'Mieszkanie 38.13m2 2 pok Kraków Na Błonie', 'Mieszkanie do sprzedania 33.87m2 2 pokojowe Kraków Pękowicka', 'Mieszkanie 47.99m2 3-pokojowe Kraków Pękowicka', 'Mieszkanie Kraków Piasta Kołodzieja 56.19m 3 pokoje', 'Mieszkanie 41.13m2 2 pokojowe Kraków Pękowicka', 'Sprzedaż mieszkania 51.79m2 3-pokojowe Kraków Pękowicka', 'Mieszkanie 52.15 metrów 3 pok Kraków Pękowicka', 'Mieszkanie Kraków Babińskiego 72.4m2', 'Mieszkanie 65.94m2 3-pok Kraków', 'Mieszkanie 36.8m2 2 pokojowe Kraków Estery', 'Mieszkanie 38.09m2 2 pokoje Kraków', 'Mieszkanie 79.3m2 3 pokoje Kraków Babińskiego', 'Mieszkanie na sprzedaż Kraków 71.46m 3 pokoje', 'Mieszkanie Kraków 35.45m2 2 pokoje', 'Mieszkanie Kraków 43.35m2 2 pokojowe', 'Mieszkanie Kraków Wadowicka 50.95m2 2 pokoje', 'Mieszkanie 33.25m2 1-pokojowe Kraków', 'Oferta sprzedaży mieszkania Kraków Pękowicka 40m2 2 pokojowe', 'Mieszkanie 70m2 3-pokojowe Kraków Chełmońskiego', 'Mieszkanie Kraków Bosacka 59m2 2 pokojowe', 'Do sprzedaży mieszkanie Kraków Kantrowicka 51.41m2 3 pokoje']\n",
      "60\n",
      "Prices: ['542 000 zł', '1 890 000 zł', '1 340 000 zł', '715 155 zł', '710 000 zł', '635 000 zł', '265 000 zł', '779 000 zł', '890 000 zł', '997 000 zł', '718 289 zł', '585 000 zł', '1 418 966 zł', '986 506 zł', '855 096 zł', '848 052 zł', '1 140 234 zł', '699 000 zł', '729 170 zł', '1 219 136 zł', '634 797 zł', '554 520 zł', '1 219 136 zł', '923 296 zł', '640 000 zł', '1 152 229 zł', '696 320 zł', '803 009 zł', '1 591 185 zł', '2 150 zł', '794 243 zł', '1 350 530 zł', '1 245 280 zł', '1 895 801 zł', '658 737 zł', '1 285 749 zł', '706 410 zł', '855 966 zł', '938 525 zł', '774 229 zł', '580 870 zł', '796 634 zł', '741 708 zł', '697 153 zł', '914 093 zł', '852 652 zł', '1 245 280 zł', '919 000 zł', '1 232 800 zł', '655 148 zł', '1 276 730 zł', '1 177 017 zł', '633 157 zł', '767 295 zł', '855 960 zł', '608 475 zł', '680 000 zł', '3 900 zł', '1 250 000 zł', '771 150 zł']\n",
      "60\n"
     ]
    }
   ],
   "source": [
    "import requests\n",
    "from bs4 import BeautifulSoup\n",
    "import pandas as pd\n",
    "import os\n",
    "\n",
    "url = \"https://sprzedajemy.pl/krakow/nieruchomosci/mieszkania?offset=0&items_per_page=60\"\n",
    "\n",
    "headers = {\n",
    "    \"User-Agent\": \"Mozilla/5.0 (Windows NT 10.0; Win64; x64) AppleWebKit/537.36 (KHTML, like Gecko) Chrome/58.0.3029.110 Safari/537.36\",\n",
    "    \"Accept\": \"text/html,application/xhtml+xml,application/xml;q=0.9,image/webp,image/apng,*/*;q=0.8\",\n",
    "    \"Accept-Encoding\": \"gzip, deflate, br\",\n",
    "    \"Accept-Language\": \"en-US,en;q=0.9,pl;q=0.8\",\n",
    "    \"Connection\": \"keep-alive\"\n",
    "}\n",
    "\n",
    "response = requests.get(url, headers=headers)\n",
    "response = requests.get(url, headers=headers)\n",
    "\n",
    "# Debugowanie odpowiedzi\n",
    "print(f\"Status Code: {response.status_code}\")\n",
    "print(f\"Response Headers: {response.headers}\")\n",
    "print(f\"Response Text (first 2000 chars): {response.text[:2000]}\")\n",
    "\n",
    "# Jeśli odpowiedź jest poprawna, wykonaj webscraping\n",
    "if response.status_code == 200:\n",
    "    soup = BeautifulSoup(response.content, \"html.parser\")\n",
    "\n",
    "    # Pobieranie ofert mieszkań\n",
    "    titles = [h2.a.text.strip() for h2 in soup.find_all(\"h2\", class_=\"title\") if h2.a]\n",
    "    prices = [p.text.replace(\"\\xa0\", \" \").strip() for p in soup.find_all(\"span\", class_=\"price\")]\n",
    "\n",
    "    print(\"Titles:\", titles)\n",
    "    print(len(titles))\n",
    "    print(\"Prices:\", prices)\n",
    "    print(len(prices))\n",
    "\n",
    "    df = pd.DataFrame({\"Title\": titles, \"Price\": prices})\n",
    "\n",
    "    # Dopisanie do pliku CSV\n",
    "    df.to_csv(\"scraped_data.csv\", mode='a', header=not os.path.exists('scraped_data.csv'), index=False)\n",
    "else:\n",
    "    print(\"Failed to retrieve data.\")\n"
   ]
  }
 ],
 "metadata": {
  "colab": {
   "provenance": []
  },
  "kernelspec": {
   "display_name": "Python 3",
   "name": "python3"
  },
  "language_info": {
   "codemirror_mode": {
    "name": "ipython",
    "version": 3
   },
   "file_extension": ".py",
   "mimetype": "text/x-python",
   "name": "python",
   "nbconvert_exporter": "python",
   "pygments_lexer": "ipython3",
   "version": "3.9.23"
  },
  "papermill": {
   "default_parameters": {},
   "duration": 3.440663,
   "end_time": "2025-09-19T15:17:39.604140",
   "environment_variables": {},
   "exception": null,
   "input_path": "nb.ipynb",
   "output_path": "nbo.ipynb",
   "parameters": {},
   "start_time": "2025-09-19T15:17:36.163477",
   "version": "2.6.0"
  }
 },
 "nbformat": 4,
 "nbformat_minor": 5
}