{
 "cells": [
  {
   "cell_type": "code",
   "execution_count": 1,
   "id": "32d1686e",
   "metadata": {
    "colab": {
     "base_uri": "https://localhost:8080/"
    },
    "execution": {
     "iopub.execute_input": "2025-04-01T05:31:43.734939Z",
     "iopub.status.busy": "2025-04-01T05:31:43.734721Z",
     "iopub.status.idle": "2025-04-01T05:31:46.147929Z",
     "shell.execute_reply": "2025-04-01T05:31:46.147241Z"
    },
    "id": "5pYh4c8j1w43",
    "outputId": "8a0dca73-64e5-4f0d-c493-2c5b38392363",
    "papermill": {
     "duration": 2.416266,
     "end_time": "2025-04-01T05:31:46.149060",
     "exception": false,
     "start_time": "2025-04-01T05:31:43.732794",
     "status": "completed"
    },
    "tags": []
   },
   "outputs": [
    {
     "name": "stdout",
     "output_type": "stream",
     "text": [
      "Status Code: 200\n",
      "Response Headers: {'Server': 'nginx', 'Date': 'Tue, 01 Apr 2025 05:31:45 GMT', 'Content-Type': 'text/html; charset=UTF-8', 'Transfer-Encoding': 'chunked', 'Vary': 'Accept-Encoding, User-Agent', 'Set-Cookie': 'FRSPSID=cmlnn8qlu29c2vm30fsadbsto4; path=/; domain=.sprzedajemy.pl; secure; HttpOnly, _items_per_page__offer_list=60; expires=Thu, 01-May-2025 05:31:45 GMT; Max-Age=2592000; path=/; domain=.sprzedajemy.pl; secure; httponly, observed_id=39078353467eb7a41a76885153505132120033238; expires=Sun, 01-Apr-2125 06:31:45 GMT; Max-Age=3155677200; path=/; domain=.sprzedajemy.pl; secure; httponly', 'Expires': 'Thu, 19 Nov 1981 08:52:00 GMT', 'Cache-Control': 'no-store, no-cache, must-revalidate, post-check=0, pre-check=0', 'Pragma': 'no-cache', 'Content-Encoding': 'gzip'}\n",
      "Response Text (first 2000 chars): <!DOCTYPE html><html xmlns=\"http://www.w3.org/1999/xhtml\" xml:lang=\"pl\" lang=\"pl\" class=\"no-js\" >\n",
      "<head>\n",
      "\t\t\t<!-- Google Tag Manager -->\n",
      "\t\t\t<script>(function(w,d,s,l,i){w[l]=w[l]||[];w[l].push({'gtm.start':\n",
      "\t\t\t\t\t\tnew Date().getTime(),event:'gtm.js'});var f=d.getElementsByTagName(s)[0],\n",
      "\t\t\t\t\tj=d.createElement(s),dl=l!='dataLayer'?'&l='+l:'';j.async=true;j.src=\n",
      "\t\t\t\t\t'https://www.googletagmanager.com/gtm.js?id='+i+dl\n",
      "\t\t\t\t\t\t\t\t\t    ;f.parentNode.insertBefore(j,f);\n",
      "\t\t\t\t    })(window,document,'script','dataLayer','GTM-P3S238');</script>\n",
      "\t\t\t<!-- End Google Tag Manager -->\n",
      "\t<title>Mieszkania Kraków na sprzedaż, wynajem - Sprzedajemy.pl</title><meta http-equiv=\"Content-Type\" content=\"text/html; charset=UTF-8\" >\n",
      "<meta http-equiv=\"X-UA-Compatible\" content=\"IE=edge\" >\n",
      "<meta name=\"description\" content=\"Ogłoszenia o tematyce:  w kategorii Mieszkania - Kupuj i sprzedawaj rzeczy używane i nowe w kategorii Mieszkania na Sprzedajemy.pl\" >\n",
      "<meta property=\"og:title\" content=\"Mieszkania Kraków na sprzedaż, wynajem - Sprzedajemy.pl\" >\n",
      "<meta property=\"og:type\" content=\"website\" >\n",
      "<meta property=\"og:image\" content=\"https://thumbs.img-sprzedajemy.pl/facebook/sprzedajemy.pl.png\" >\n",
      "<meta property=\"og:image:width\" content=\"200\" >\n",
      "<meta property=\"og:image:height\" content=\"200\" >\n",
      "<meta property=\"og:url\" content=\"https://sprzedajemy.pl/krakow/nieruchomosci/mieszkania\" >\n",
      "<meta property=\"og:site_name\" content=\"Sprzedajemy.pl\" >\n",
      "<meta property=\"fb:app_id\" content=\"173258269367442\" >\n",
      "<meta property=\"og:description\" content=\"Ogłoszenia o tematyce:  w kategorii Mieszkania - Kupuj i sprzedawaj rzeczy używane i nowe w kategorii Mieszkania na Sprzedajemy.pl\" >\n",
      "<meta name=\"robots\" content=\"noindex, follow\" >\t\t<script  async=\"async\" src=\"https://static.criteo.net/js/ld/publishertag.js\"></script>\n",
      "        <script  async=\"async\" src=\"https://ap.lijit.com/www/sovrn_beacon_standalone/sovrn_standalone_beacon.js?iid=13417409&amp;uid=sprzedajemy\" id=\"sBeacon\"></script>\n",
      "\t\t<script  async=\"async\" src=\"https://securepuba\n",
      "Titles: ['Wyjątkowe 2 mieszkania w 1, gotowe do wprowadzenia, po remoncie', 'Mieszkanie z ogródkiem Zakrzówek', 'Strych do adaptacji, Błonia, ul. Filarecka', '2 lub 3 pokoje,62m2,balkon, Widok na Wawel', 'Mistrzejowice - dwupokojowe z jasną kuchnią,balkon', 'Mieszkanie 1 pokojowe z balkonem, blok 2000r', 'Ruczaj - dwupokojowe z aneksem kuchennym, 2002r.', 'Olsza - 62 m2 + 2 tarasy, blisko centrum', 'Apartament, 2 pokoje, jadalnia, garaż,Krowodrza', '2 pokoje,garaż,wysoki standard,ul.Rakowicka,ENG', 'Nowoczesne, wykończone, z garażem i balkonem', 'Kraków Bronowice Stawowa 168 / 60m2 3 POK/ 22,5 m2 taras/ BEZ POŚREDNIKÓW', 'Kraków, Stare Miasto sprzedaż/zamiana', 'Mieszkanie Kraków 56.65m2 3 pokoje', 'Mieszkanie Kraków 63.32 metry 3-pok', 'Mieszkanie Kraków 35.31m2', 'Oferta sprzedaży mieszkania Kraków Bieżanów 44.63m2 2-pok', 'Mieszkanie 26.65m2 1-pokojowe Kraków Krowoderska', 'Do sprzedaży mieszkanie Kraków Bieżanów 31.8 metrów 2-pok', 'Mieszkanie 45.33m2 2 pokoje Kraków', 'Mieszkanie 45.44m2 2-pok Kraków', 'Mieszkanie 53.57 metrów 2 pokojowe Kraków Bieżanów', 'Mieszkanie 47.11m2 3 pokojowe Kraków', 'Mieszkanie 35.56m2 2 pokoje Kraków Bieżanów', 'Mieszkanie 64.78m2 Kraków Bieżanów', 'Mieszkanie Kraków Bieżanów 51.93m2 2 pokoje', 'Mieszkanie do sprzedania 44.71m2 2-pok Kraków Bieżanów', 'Mieszkanie Kraków 44.62m2 2 pokojowe', 'Oferta sprzedaży mieszkania 53.66m2 2 pokoje Kraków Bieżanów', 'Oferta sprzedaży mieszkania Kraków Bieżanów 53.57m2 2-pok', 'Oferta sprzedaży mieszkania Kraków Bieżanów 53.66m2 2 pokoje', 'Mieszkanie 45.36m Kraków', 'Mieszkanie 39.48m2 2 pokojowe Kraków', 'Mieszkanie na sprzedaż Kraków Bieżanów 39.48m2 2-pokojowe', 'Oferta sprzedaży mieszkania Kraków 45.44m2 2 pokojowe', 'Mieszkanie Kraków 90.52m2 5 pokoi', 'Oferta sprzedaży mieszkania Kraków 46.4m2 2-pok', 'Sprzedam mieszkanie Kraków Bieżanów 31.54m2 2 pokojowe', 'Mieszkanie Kraków Bieżanów 52.92m2 3 pokojowe', 'Mieszkanie sprzedam Kraków 42.14m2 2 pokoje', 'Mieszkanie 31.62m2 Kraków Bieżanów', 'Oferta sprzedaży mieszkania 53.66m2 2 pokojowe Kraków', 'Prądnik Biały | Białoprądnicka | 67m2 |ENG', 'Mieszkanie 35.56m2 Kraków', 'Mieszkanie Kraków Bieżanów 62.9m2 3 pokojowe', 'Mieszkanie Kraków Agatowa 47.11m2 3 pokojowe', 'Mieszkanie sprzedam 63.07m2 3 pokojowe Kraków Bieżanów', 'Oferta sprzedaży mieszkania 71.4m2 3 pokoje Kraków', 'Mieszkanie Kraków Bieżanów 71.66m2 4 pokojowe', 'Mieszkanie Kraków Bieżanów 45.16m2 2 pokoje', 'Mieszkanie na sprzedaż 64.33m2 3 pokoje Kraków', 'Mieszkanie 45.16m2 2 pokoje Kraków Bieżanów', 'Mieszkanie Kraków Bieżanów 63.36m2 3 pok', 'Sprzedam mieszkanie Kraków Bieżanów 62.89m2 3 pokoje', 'Mieszkanie Kraków Bieżanów 35.31m2 2 pokoje', 'Mieszkanie Kraków 35.25m2 2 pok', 'Ogłoszenie mieszkanie 50.2m2 2 pokoje Kraków', 'Oferta sprzedaży mieszkania 35.22m2 2-pok Kraków Bieżanów', 'Oferta sprzedaży mieszkania 53.66m2 2 pokoje Kraków', 'Sprzedam mieszkanie Kraków Bieżanów 48.44 metry 2-pok']\n",
      "60\n",
      "Prices: ['1 185 000 zł', '470 000 zł', '379 999 zł', '1 590 000 zł', '599 000 zł', '435 000 zł', '669 000 zł', '819 000 zł', '3 800 zł', '3 000 zł', '990 000 zł', '1 137 500 zł', '2 254 000 zł', '679 000 zł', '886 480 zł', '540 243 zł', '624 820 zł', '399 000 zł', '502 440 zł', '634 620 zł', '681 600 zł', '696 410 zł', '609 000 zł', '561 848 zł', '906 920 zł', '701 055 zł', '648 295 zł', '624 680 zł', '751 240 zł', '696 410 zł', '697 580 zł', '680 400 zł', '572 460 zł', '572 460 zł', '636 160 zł', '1 600 000 zł', '558 000 zł', '482 562 zł', '687 960 zł', '611 030 zł', '467 976 zł', '697 580 zł', '799 000 zł', '544 068 zł', '817 700 zł', '609 000 zł', '819 910 zł', '892 500 zł', '895 750 zł', '632 240 zł', '836 290 zł', '632 240 zł', '887 040 zł', '817 570 zł', '540 243 zł', '521 700 zł', '746 029 zł', '521 256 zł', '692 900 zł', '678 160 zł']\n",
      "60\n"
     ]
    }
   ],
   "source": [
    "import requests\n",
    "from bs4 import BeautifulSoup\n",
    "import pandas as pd\n",
    "import os\n",
    "\n",
    "url = \"https://sprzedajemy.pl/krakow/nieruchomosci/mieszkania?offset=0&items_per_page=60\"\n",
    "\n",
    "headers = {\n",
    "    \"User-Agent\": \"Mozilla/5.0 (Windows NT 10.0; Win64; x64) AppleWebKit/537.36 (KHTML, like Gecko) Chrome/58.0.3029.110 Safari/537.36\",\n",
    "    \"Accept\": \"text/html,application/xhtml+xml,application/xml;q=0.9,image/webp,image/apng,*/*;q=0.8\",\n",
    "    \"Accept-Encoding\": \"gzip, deflate, br\",\n",
    "    \"Accept-Language\": \"en-US,en;q=0.9,pl;q=0.8\",\n",
    "    \"Connection\": \"keep-alive\"\n",
    "}\n",
    "\n",
    "response = requests.get(url, headers=headers)\n",
    "response = requests.get(url, headers=headers)\n",
    "\n",
    "# Debugowanie odpowiedzi\n",
    "print(f\"Status Code: {response.status_code}\")\n",
    "print(f\"Response Headers: {response.headers}\")\n",
    "print(f\"Response Text (first 2000 chars): {response.text[:2000]}\")\n",
    "\n",
    "# Jeśli odpowiedź jest poprawna, wykonaj webscraping\n",
    "if response.status_code == 200:\n",
    "    soup = BeautifulSoup(response.content, \"html.parser\")\n",
    "\n",
    "    # Pobieranie ofert mieszkań\n",
    "    titles = [h2.a.text.strip() for h2 in soup.find_all(\"h2\", class_=\"title\") if h2.a]\n",
    "    prices = [p.text.replace(\"\\xa0\", \" \").strip() for p in soup.find_all(\"span\", class_=\"price\")]\n",
    "\n",
    "    print(\"Titles:\", titles)\n",
    "    print(len(titles))\n",
    "    print(\"Prices:\", prices)\n",
    "    print(len(prices))\n",
    "\n",
    "    df = pd.DataFrame({\"Title\": titles, \"Price\": prices})\n",
    "\n",
    "    # Dopisanie do pliku CSV\n",
    "    df.to_csv(\"scraped_data.csv\", mode='a', header=not os.path.exists('scraped_data.csv'), index=False)\n",
    "else:\n",
    "    print(\"Failed to retrieve data.\")\n"
   ]
  }
 ],
 "metadata": {
  "colab": {
   "provenance": []
  },
  "kernelspec": {
   "display_name": "Python 3",
   "name": "python3"
  },
  "language_info": {
   "codemirror_mode": {
    "name": "ipython",
    "version": 3
   },
   "file_extension": ".py",
   "mimetype": "text/x-python",
   "name": "python",
   "nbconvert_exporter": "python",
   "pygments_lexer": "ipython3",
   "version": "3.9.21"
  },
  "papermill": {
   "default_parameters": {},
   "duration": 3.495338,
   "end_time": "2025-04-01T05:31:46.366273",
   "environment_variables": {},
   "exception": null,
   "input_path": "nb.ipynb",
   "output_path": "nbo.ipynb",
   "parameters": {},
   "start_time": "2025-04-01T05:31:42.870935",
   "version": "2.6.0"
  }
 },
 "nbformat": 4,
 "nbformat_minor": 5
}