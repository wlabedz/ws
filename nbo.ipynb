{
 "cells": [
  {
   "cell_type": "code",
   "execution_count": 1,
   "id": "e5d76292",
   "metadata": {
    "colab": {
     "base_uri": "https://localhost:8080/"
    },
    "execution": {
     "iopub.execute_input": "2025-07-05T07:36:43.034388Z",
     "iopub.status.busy": "2025-07-05T07:36:43.034189Z",
     "iopub.status.idle": "2025-07-05T07:36:44.864169Z",
     "shell.execute_reply": "2025-07-05T07:36:44.863418Z"
    },
    "id": "5pYh4c8j1w43",
    "outputId": "8a0dca73-64e5-4f0d-c493-2c5b38392363",
    "papermill": {
     "duration": 1.833432,
     "end_time": "2025-07-05T07:36:44.865299",
     "exception": false,
     "start_time": "2025-07-05T07:36:43.031867",
     "status": "completed"
    },
    "tags": []
   },
   "outputs": [
    {
     "name": "stdout",
     "output_type": "stream",
     "text": [
      "Status Code: 200\n",
      "Response Headers: {'Server': 'nginx', 'Date': 'Sat, 05 Jul 2025 07:36:44 GMT', 'Content-Type': 'text/html; charset=UTF-8', 'Transfer-Encoding': 'chunked', 'Vary': 'Accept-Encoding, User-Agent', 'Set-Cookie': 'FRSPSID=2aul4g9br3f4f6mjvbmdt7rv70; path=/; domain=.sprzedajemy.pl; secure; HttpOnly, _items_per_page__offer_list=60; expires=Mon, 04-Aug-2025 07:36:44 GMT; Max-Age=2592000; path=/; domain=.sprzedajemy.pl; secure; httponly, observed_id=3020517526868d60c7303a16922157172061474; expires=Thu, 05-Jul-2125 08:36:44 GMT; Max-Age=3155677200; path=/; domain=.sprzedajemy.pl; secure; httponly', 'Expires': 'Thu, 19 Nov 1981 08:52:00 GMT', 'Cache-Control': 'no-store, no-cache, must-revalidate, post-check=0, pre-check=0', 'Pragma': 'no-cache', 'Content-Encoding': 'gzip'}\n",
      "Response Text (first 2000 chars): <!DOCTYPE html><html xmlns=\"http://www.w3.org/1999/xhtml\" xml:lang=\"pl\" lang=\"pl\" class=\"no-js\" >\n",
      "<head>\n",
      "\t\t\t<!-- Google Tag Manager -->\n",
      "\t\t\t<script>(function(w,d,s,l,i){w[l]=w[l]||[];w[l].push({'gtm.start':\n",
      "\t\t\t\t\t\tnew Date().getTime(),event:'gtm.js'});var f=d.getElementsByTagName(s)[0],\n",
      "\t\t\t\t\tj=d.createElement(s),dl=l!='dataLayer'?'&l='+l:'';j.async=true;j.src=\n",
      "\t\t\t\t\t'https://www.googletagmanager.com/gtm.js?id='+i+dl\n",
      "\t\t\t\t\t\t\t\t\t    ;f.parentNode.insertBefore(j,f);\n",
      "\t\t\t\t    })(window,document,'script','dataLayer','GTM-P3S238');</script>\n",
      "\t\t\t<!-- End Google Tag Manager -->\n",
      "\t<title>Mieszkania Kraków na sprzedaż, wynajem - Sprzedajemy.pl</title><meta http-equiv=\"Content-Type\" content=\"text/html; charset=UTF-8\" >\n",
      "<meta http-equiv=\"X-UA-Compatible\" content=\"IE=edge\" >\n",
      "<meta name=\"description\" content=\"Ogłoszenia o tematyce:  w kategorii Mieszkania - Kupuj i sprzedawaj rzeczy używane i nowe w kategorii Mieszkania na Sprzedajemy.pl\" >\n",
      "<meta property=\"og:title\" content=\"Mieszkania Kraków na sprzedaż, wynajem - Sprzedajemy.pl\" >\n",
      "<meta property=\"og:type\" content=\"website\" >\n",
      "<meta property=\"og:image\" content=\"https://thumbs.img-sprzedajemy.pl/facebook/sprzedajemy.pl.png\" >\n",
      "<meta property=\"og:image:width\" content=\"200\" >\n",
      "<meta property=\"og:image:height\" content=\"200\" >\n",
      "<meta property=\"og:url\" content=\"https://sprzedajemy.pl/krakow/nieruchomosci/mieszkania\" >\n",
      "<meta property=\"og:site_name\" content=\"Sprzedajemy.pl\" >\n",
      "<meta property=\"fb:app_id\" content=\"173258269367442\" >\n",
      "<meta property=\"og:description\" content=\"Ogłoszenia o tematyce:  w kategorii Mieszkania - Kupuj i sprzedawaj rzeczy używane i nowe w kategorii Mieszkania na Sprzedajemy.pl\" >\n",
      "<meta name=\"robots\" content=\"noindex, follow\" >\t\t<script  async=\"async\" src=\"https://static.criteo.net/js/ld/publishertag.js\"></script>\n",
      "        <script  async=\"async\" src=\"https://ap.lijit.com/www/sovrn_beacon_standalone/sovrn_standalone_beacon.js?iid=13417409&amp;uid=sprzedajemy\" id=\"sBeacon\"></script>\n",
      "\t\t<script  async=\"async\" src=\"https://securepuba\n",
      "Titles: ['Super lokalizacja! TRAMWAJ, kawalerka do wejścia! Prądnik Czerwony/Huta', '2-pokojowe mieszkanie na Zabłociu – ciche, świetna lokalizacja!', 'Sprzedam mieszkanie', 'Stylowy apartament z widokiem na panoramę Krakowa - od właściciela', 'Nowoczesny apartament z panoramicznym widokiem - od właściciela', 'Wyjątkowe mieszkanie z widokiem na klasztor w Tyńcu i panoramę Tatr', 'Mieszkanie na sprzedaż/zamiana 39m2', 'Stare Miasto 61,5 m2 KLIMA Wawel wykończone Kazimierz INWESTYCYJNE', 'Stare Miasto 32m2 KLIMA Wawel wykończone Kazimierz wysokie ROI', '49m2, 3 pokoje, świeżo po remoncie, OD WŁAŚCICIELA', 'ŚWIETNIE SKOMUNIKOWANE, Z KLIMATEM, DODATKOWY METRAŻ', 'Mieszkanie 64.89m2 3-pokojowe Kraków', 'Na sprzedaż mieszkanie | Wiślane Tarasy | 44,3 m²', 'Apartament, 2 pokoje, jadalnia, garaż,Krowodrza', 'Mieszkanie, os. Na Stoku, 3 pokoje+kuchnia+GRATIS', 'Mieszkanie Kraków Bartosza Głowackiego 34.11m2 1 pokój', 'Bezczynszowe 3-pokojowe mieszkanie w szeregówce', 'WŁAŚCICIEL Na sprzedaż – trzypokojowe mieszkanie w znakomitej lokalizacji!', '3 pokoje os. Oświecnia w stanie bardzo dobrym', 'Mieszkanie Złocień + piwnica ( winda,klimatyzacja)', 'Mieszkanie z ogródkiem Zakrzówek bezczynszowe', 'Mieszkanie na sprzedaż ul. Wróblewskiego, Kraków, Stare Miasto _ 16 000zl/…', 'Mieszkanie, na rogu ul. Stefana Batorego z Sobieskiego', 'Wyjątkowe 3 pokoje 60 m² w Krakowie-Bronowicach | Premium | Gotowe!', 'Mieszkanie na wynajem', 'Mieszkanie Os. Avia Kraków, widok na góry', '4p mieszkanie z ogródkiem w pięknej szeregówce', 'Kawalerka | Uniwersytet Ekonomiczny | Grzegórzki', 'Mieszkanie na wynajem Kraków Dobrego Pasterza 41.9m2 2 pokojowe', 'Ogłoszenie mieszkanie 58 metrów 3 pokoje Kraków Nullo', 'Mieszkanie Kraków 70m2 3-pokojowe', 'Mieszkanie 3p w kamienicy w pobliżu Salwatoru', 'Ogłoszenie mieszkanie 52m2 2 pokojowe Kraków', '2 POKOJE z klimatem | Dąbska | TAURON Arena | Balkon | aż 55 m²!', 'Pet Friendly - mieszkanie do wynajęcia na Czyżynach 30m² od zaraz', 'Mieszkanie Kraków 86.36 metrów 3 pokojowe', 'Oferta sprzedaży mieszkania Kraków 49.63m', 'Nowoczesne 3-pokojowe mieszkanie 48 m² – Pachońskiego / od zaraz', 'Słoneczne mieszkanko z dużym balkonem', 'Oferta sprzedaży mieszkania Kraków Aleja Kijowska 41.39m2 2 pokoje', '2 POKOJE z klimatem | Dąbska | TAURON Arena | Balkon', 'Mieszkanie Kraków 41.04m2 2-pokojowe', 'Wynajmę mieszkanie na Starym Mieście', 'Oferta sprzedaży mieszkania Kraków Aleja Kijowska 41.4m2 2 pokoje', 'Mieszkanie 44.91m2 2 pokoje Kraków', 'Sprzedam piękne mieszkanie Kraków borek Fałecki', '2 pokoje z garderobą - bez barier - bez prowizji!', 'Żabiniec - dwupokojowe z miejscem parkingowym', 'Mieszkanie 45 metrów 2 pokojowe Kraków', 'Górka Narodowa | 2 pokoje, balkon i widok | 56,7m2', 'Wyjątkowe 2-pokojowe poddasze Stare Podgórze – gotowe do zamieszkania', 'Mieszkanie 3 pokojowe, Galicyjska Kraków Czyżyny, 61m2', 'Mieszkanie 45.69 metrów 2 pokojowe Kraków', 'Mieszkanie 48.5m2 2 pokojowe Kraków Szuwarowa', 'Mieszkanie przy ul. Sołtysowskiej, 2 pokoje 42 m2', 'Mieszkanie Kraków 50.02m2 3 pokoje', 'Nowoczesna kawalerka 29m2 - klimatyzacja + ogródek', '2-pok. z duzym balkonem ul.Rozdroze /ul.Kapelanka', 'Mieszkanie 55.7m2 3-pok Kraków Łużycka', 'Bieńczyce. 3-pok.+ kuchnia+ loggia + piwnica. II p']\n",
      "60\n",
      "Prices: ['565 000 zł', '519 000 zł', '635 000 zł', '897 000 zł', '997 000 zł', '779 000 zł', '539 000 zł', '1 828 000 zł', '989 000 zł', '669 000 zł', '599 000 zł', '1 250 000 zł', '999 000 zł', '3 800 zł', '648 000 zł', '648 000 zł', '850 000 zł', '650 000 zł', '859 000 zł', '667 000 zł', '437 000 zł', '1 968 000 zł', '870 000 zł', '1 220 000 zł', '2 500 zł', '998 000 zł', '850 000 zł', '560 000 zł', '3 000 zł', '1 449 000 zł', '890 000 zł', '799 000 zł', '875 000 zł', '3 700 zł', '2 050 zł', '1 049 990 zł', '589 000 zł', '3 500 zł', '699 000 zł', '922 955 zł', '3 700 zł', '902 838 zł', '3 100 zł', '931 458 zł', '996 957 zł', '599 000 zł', '630 000 zł', '2 600 zł', '2 850 zł', '695 000 zł', '839 000 zł', '1 067 500 zł', '639 000 zł', '2 900 zł', '690 000 zł', '799 000 zł', '2 100 zł', '2 950 zł', '668 000 zł', '673 000 zł']\n",
      "60\n"
     ]
    }
   ],
   "source": [
    "import requests\n",
    "from bs4 import BeautifulSoup\n",
    "import pandas as pd\n",
    "import os\n",
    "\n",
    "url = \"https://sprzedajemy.pl/krakow/nieruchomosci/mieszkania?offset=0&items_per_page=60\"\n",
    "\n",
    "headers = {\n",
    "    \"User-Agent\": \"Mozilla/5.0 (Windows NT 10.0; Win64; x64) AppleWebKit/537.36 (KHTML, like Gecko) Chrome/58.0.3029.110 Safari/537.36\",\n",
    "    \"Accept\": \"text/html,application/xhtml+xml,application/xml;q=0.9,image/webp,image/apng,*/*;q=0.8\",\n",
    "    \"Accept-Encoding\": \"gzip, deflate, br\",\n",
    "    \"Accept-Language\": \"en-US,en;q=0.9,pl;q=0.8\",\n",
    "    \"Connection\": \"keep-alive\"\n",
    "}\n",
    "\n",
    "response = requests.get(url, headers=headers)\n",
    "response = requests.get(url, headers=headers)\n",
    "\n",
    "# Debugowanie odpowiedzi\n",
    "print(f\"Status Code: {response.status_code}\")\n",
    "print(f\"Response Headers: {response.headers}\")\n",
    "print(f\"Response Text (first 2000 chars): {response.text[:2000]}\")\n",
    "\n",
    "# Jeśli odpowiedź jest poprawna, wykonaj webscraping\n",
    "if response.status_code == 200:\n",
    "    soup = BeautifulSoup(response.content, \"html.parser\")\n",
    "\n",
    "    # Pobieranie ofert mieszkań\n",
    "    titles = [h2.a.text.strip() for h2 in soup.find_all(\"h2\", class_=\"title\") if h2.a]\n",
    "    prices = [p.text.replace(\"\\xa0\", \" \").strip() for p in soup.find_all(\"span\", class_=\"price\")]\n",
    "\n",
    "    print(\"Titles:\", titles)\n",
    "    print(len(titles))\n",
    "    print(\"Prices:\", prices)\n",
    "    print(len(prices))\n",
    "\n",
    "    df = pd.DataFrame({\"Title\": titles, \"Price\": prices})\n",
    "\n",
    "    # Dopisanie do pliku CSV\n",
    "    df.to_csv(\"scraped_data.csv\", mode='a', header=not os.path.exists('scraped_data.csv'), index=False)\n",
    "else:\n",
    "    print(\"Failed to retrieve data.\")\n"
   ]
  }
 ],
 "metadata": {
  "colab": {
   "provenance": []
  },
  "kernelspec": {
   "display_name": "Python 3",
   "name": "python3"
  },
  "language_info": {
   "codemirror_mode": {
    "name": "ipython",
    "version": 3
   },
   "file_extension": ".py",
   "mimetype": "text/x-python",
   "name": "python",
   "nbconvert_exporter": "python",
   "pygments_lexer": "ipython3",
   "version": "3.9.23"
  },
  "papermill": {
   "default_parameters": {},
   "duration": 2.961051,
   "end_time": "2025-07-05T07:36:45.082844",
   "environment_variables": {},
   "exception": null,
   "input_path": "nb.ipynb",
   "output_path": "nbo.ipynb",
   "parameters": {},
   "start_time": "2025-07-05T07:36:42.121793",
   "version": "2.6.0"
  }
 },
 "nbformat": 4,
 "nbformat_minor": 5
}