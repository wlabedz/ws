{
 "cells": [
  {
   "cell_type": "code",
   "execution_count": 1,
   "id": "e1865b87",
   "metadata": {
    "colab": {
     "base_uri": "https://localhost:8080/"
    },
    "execution": {
     "iopub.execute_input": "2025-10-01T00:55:53.236373Z",
     "iopub.status.busy": "2025-10-01T00:55:53.236071Z",
     "iopub.status.idle": "2025-10-01T00:55:55.987477Z",
     "shell.execute_reply": "2025-10-01T00:55:55.986781Z"
    },
    "id": "5pYh4c8j1w43",
    "outputId": "8a0dca73-64e5-4f0d-c493-2c5b38392363",
    "papermill": {
     "duration": 2.75499,
     "end_time": "2025-10-01T00:55:55.988562",
     "exception": false,
     "start_time": "2025-10-01T00:55:53.233572",
     "status": "completed"
    },
    "tags": []
   },
   "outputs": [
    {
     "name": "stdout",
     "output_type": "stream",
     "text": [
      "Status Code: 200\n",
      "Response Headers: {'Server': 'nginx', 'Date': 'Wed, 01 Oct 2025 00:55:55 GMT', 'Content-Type': 'text/html; charset=UTF-8', 'Transfer-Encoding': 'chunked', 'Vary': 'Accept-Encoding, User-Agent', 'Set-Cookie': 'FRSPSID=sedivau93ljggrrl9uaap6b0f6; path=/; domain=.sprzedajemy.pl; secure; HttpOnly, _items_per_page__offer_list=60; expires=Fri, 31-Oct-2025 00:55:55 GMT; Max-Age=2592000; path=/; domain=.sprzedajemy.pl; secure; httponly, observed_id=196939526068dc7c1b774188192151531533063312; expires=Mon, 01-Oct-2125 01:55:55 GMT; Max-Age=3155677200; path=/; domain=.sprzedajemy.pl; secure; httponly', 'Expires': 'Thu, 19 Nov 1981 08:52:00 GMT', 'Cache-Control': 'no-store, no-cache, must-revalidate, post-check=0, pre-check=0', 'Pragma': 'no-cache', 'Content-Encoding': 'gzip'}\n",
      "Response Text (first 2000 chars): <!DOCTYPE html><html xmlns=\"http://www.w3.org/1999/xhtml\" xml:lang=\"pl\" lang=\"pl\" class=\"no-js\" >\n",
      "<head>\n",
      "\t\t\t<!-- Google Tag Manager -->\n",
      "\t\t\t<script>(function(w,d,s,l,i){w[l]=w[l]||[];w[l].push({'gtm.start':\n",
      "\t\t\t\t\t\tnew Date().getTime(),event:'gtm.js'});var f=d.getElementsByTagName(s)[0],\n",
      "\t\t\t\t\tj=d.createElement(s),dl=l!='dataLayer'?'&l='+l:'';j.async=true;j.src=\n",
      "\t\t\t\t\t'https://www.googletagmanager.com/gtm.js?id='+i+dl\n",
      "\t\t\t\t\t\t\t\t\t    ;f.parentNode.insertBefore(j,f);\n",
      "\t\t\t\t    })(window,document,'script','dataLayer','GTM-P3S238');</script>\n",
      "\t\t\t<!-- End Google Tag Manager -->\n",
      "\t<title>Mieszkania Kraków na sprzedaż, wynajem - Sprzedajemy.pl</title><meta http-equiv=\"Content-Type\" content=\"text/html; charset=UTF-8\" >\n",
      "<meta http-equiv=\"X-UA-Compatible\" content=\"IE=edge\" >\n",
      "<meta name=\"description\" content=\"Ogłoszenia o tematyce:  w kategorii Mieszkania - Kupuj i sprzedawaj rzeczy używane i nowe w kategorii Mieszkania na Sprzedajemy.pl\" >\n",
      "<meta property=\"og:title\" content=\"Mieszkania Kraków na sprzedaż, wynajem - Sprzedajemy.pl\" >\n",
      "<meta property=\"og:type\" content=\"website\" >\n",
      "<meta property=\"og:image\" content=\"https://thumbs.img-sprzedajemy.pl/facebook/sprzedajemy.pl.png\" >\n",
      "<meta property=\"og:image:width\" content=\"200\" >\n",
      "<meta property=\"og:image:height\" content=\"200\" >\n",
      "<meta property=\"og:url\" content=\"https://sprzedajemy.pl/krakow/nieruchomosci/mieszkania\" >\n",
      "<meta property=\"og:site_name\" content=\"Sprzedajemy.pl\" >\n",
      "<meta property=\"fb:app_id\" content=\"173258269367442\" >\n",
      "<meta property=\"og:description\" content=\"Ogłoszenia o tematyce:  w kategorii Mieszkania - Kupuj i sprzedawaj rzeczy używane i nowe w kategorii Mieszkania na Sprzedajemy.pl\" >\n",
      "<meta name=\"robots\" content=\"noindex, follow\" >\t\t<script  async=\"async\" src=\"https://static.criteo.net/js/ld/publishertag.js\"></script>\n",
      "        <script  async=\"async\" src=\"https://ap.lijit.com/www/sovrn_beacon_standalone/sovrn_standalone_beacon.js?iid=13417409&amp;uid=sprzedajemy\" id=\"sBeacon\"></script>\n",
      "\t\t<script  async=\"async\" src=\"https://securepuba\n",
      "Titles: ['Mieszkanie 3-pokojowe Zakrzówek Ruczaj wynajem na 9 miesięcy', 'Stylowy lokal na parterze przy Krowoderskiej', 'Podedworze 13', 'Wyjątkowy lokal przy ul. Krowoderskiej z widokiem na stronę ogrodową', 'Dwa pokoje - stare miasto - Do wejścia - Własność', 'Kraków, Stare Miasto sprzedaż/zamiana', 'Sprzedam dwupokojowe mieszkanie os. Dywizjonu 303, 19C Kraków', 'Mieszkanie Wzgórza Krzesławickie bez prowizji.', 'Mieszkanie z widokiem na góry', 'Wyjątkowe mieszkanie z widokiem na klasztor w Tyńcu i panoramę Tatr', 'Nowoczesny apartament z panoramicznym widokiem - od właściciela', 'Stylowy apartament z widokiem na panoramę Krakowa - od właściciela', 'Mieszkanie 47.83m2 2 pokoje Kraków', 'UKR/ENG Luxury Design,  2 poziomowe, ogródek, garaż, przy Galerii Bronowice', 'Mieszkanie na sprzedaż Kraków Halszki 35 metrów 1 pokój', 'Mieszkanie 48.17m2 Kraków', 'Mieszkanie 103.89m2 3 pokoje Kraków Smocza', 'Oferta sprzedaży mieszkania 68.3m 3 pokojowe Kraków', 'Mieszkanie Kraków os. Piastów 51.59m2 3 pokoje', 'Do sprzedaży mieszkanie 53.77m Kraków', 'Oferta sprzedaży mieszkania Kraków 65.62m2 3-pokojowe', 'Mieszkanie 65.62 metry 2 pokojowe Kraków Imbramowska', 'Mieszkanie 70.88m2 3 pokoje Kraków Babińskiego', 'Mieszkanie na sprzedaż 44.7m2 2 pokoje Kraków Drukarska', 'Mieszkanie 72.4m2 3 pokoje Kraków Babińskiego', 'Oferta sprzedaży mieszkania Kraków 48.39 metrów 2-pokojowe', 'Oferta sprzedaży mieszkania 72.4m2 3-pokojowe Kraków Babińskiego', 'Mieszkanie Kraków 47m2 2-pok', 'Mieszkanie sprzedam Kraków 50m2 2 pokoje', 'Mieszkanie Kraków 77m2 4 pokojowe', 'Sprzedam mieszkanie 42.44m2 2 pok Kraków Odrzańska', 'Sprzedam mieszkanie Kraków os. Osiedle Urocze 33.99m2 1 pokojowe', 'Ogłoszenie mieszkanie 37m2 2-pokojowe Kraków Zubrzyckiego', 'Ogłoszenie mieszkanie Kraków 61.7m2 3-pok', 'Mieszkanie Kraków Lubomirskiego 33.16m2 2-pokojowe', 'Mieszkanie Kraków Vetulaniego 56.9 metrów 3 pokojowe', 'Mieszkanie 34.3m2 Kraków Starowiślna', 'Ogłoszenie mieszkanie 52.79 metrów 3 pok Kraków Rydlówka', 'Mieszkanie 90m2 3 pokoje Kraków Juliusza Lea', 'Mieszkanie w zielonej okolicy Krakowa w domu jednorodzinym i 2 m.postojowe', 'Sprzedam mieszkanie w systemie TBS', 'Kraków – 3 pokojowy apartament na sprzedaż na kameralnym osiedlu', 'Mieszkanie 55.7m2 Kraków Łużycka', 'Kraków – 2 pokojowy apartament w wysokim standardzie Piasta Towers', 'Mieszkanie Kraków Cieszyńska 43.21m2', 'Mieszkanie 50 metrów 2 pokoje Kraków os. Szkolne', 'Mieszkanie Kraków os. Kazimierzowskie 24.76 metrów 1 pokój', 'Mieszkanie 45.65m2 2 pokoje Kraków Kwartowa', 'Oferta sprzedaży mieszkania 48.39m2 2 pokojowe Kraków', 'Rydlówka | 2 pokoje | balkon | nowy budynek', 'Mieszkanie sprzedam 36.6m2 2-pok Kraków', 'Wynajmę pokój z kuchnią blisko centrum, ul. Cieszyńska', 'Oferta sprzedaży mieszkania 66.62m2 3 pokoje Kraków Imbramowska', '2pok|44,38m²|kom.lokatorska|piwnica-Os.Wandy', 'Mieszkanie 19.15 metrów 1 pokojowe Kraków Kazimierza Wielkiego', 'Mieszkanie Kraków 51m2 2-pok', 'Mieszkanie Kraków Imbramowska 66.62m2 3-pokojowe', 'Ogłoszenie mieszkanie Kraków Zawodzie 74m2 3-pok', 'Oferta wynajmu mieszkania Kraków 38 metrów 2 pokoje', 'Mieszkanie na sprzedaż ul. Wróblewskiego, Kraków, Stare Miasto _ 16 000zl/…']\n",
      "60\n",
      "Prices: ['3 200 zł', '1 890 000 zł', '542 000 zł', '1 340 000 zł', '715 155 zł', '2 083 000 zł', '620 000 zł', '719 000 zł', '265 000 zł', '779 000 zł', '997 000 zł', '890 000 zł', '810 000 zł', '7 500 zł', '460 000 zł', '750 000 zł', '6 300 zł', '899 000 zł', '840 000 zł', '824 000 zł', '859 622 zł', '677 460 zł', '1 219 136 zł', '615 000 zł', '1 158 400 zł', '687 138 zł', '1 143 920 zł', '686 200 zł', '600 000 zł', '898 000 zł', '590 000 zł', '410 000 zł', '600 000 zł', '660 000 zł', '630 000 zł', '1 100 000 zł', '680 000 zł', '1 050 000 zł', '6 900 zł', '2 275 000 zł', '173 000 zł', '939 000 zł', '670 000 zł', '799 000 zł', '3 900 zł', '2 400 zł', '399 000 zł', '699 000 zł', '687 138 zł', '740 000 zł', '495 000 zł', '1 800 zł', '872 722 zł', '675 000 zł', '529 999 zł', '670 000 zł', '872 722 zł', '998 000 zł', '3 000 zł', '1 968 000 zł']\n",
      "60\n"
     ]
    }
   ],
   "source": [
    "import requests\n",
    "from bs4 import BeautifulSoup\n",
    "import pandas as pd\n",
    "import os\n",
    "\n",
    "url = \"https://sprzedajemy.pl/krakow/nieruchomosci/mieszkania?offset=0&items_per_page=60\"\n",
    "\n",
    "headers = {\n",
    "    \"User-Agent\": \"Mozilla/5.0 (Windows NT 10.0; Win64; x64) AppleWebKit/537.36 (KHTML, like Gecko) Chrome/58.0.3029.110 Safari/537.36\",\n",
    "    \"Accept\": \"text/html,application/xhtml+xml,application/xml;q=0.9,image/webp,image/apng,*/*;q=0.8\",\n",
    "    \"Accept-Encoding\": \"gzip, deflate, br\",\n",
    "    \"Accept-Language\": \"en-US,en;q=0.9,pl;q=0.8\",\n",
    "    \"Connection\": \"keep-alive\"\n",
    "}\n",
    "\n",
    "response = requests.get(url, headers=headers)\n",
    "response = requests.get(url, headers=headers)\n",
    "\n",
    "# Debugowanie odpowiedzi\n",
    "print(f\"Status Code: {response.status_code}\")\n",
    "print(f\"Response Headers: {response.headers}\")\n",
    "print(f\"Response Text (first 2000 chars): {response.text[:2000]}\")\n",
    "\n",
    "# Jeśli odpowiedź jest poprawna, wykonaj webscraping\n",
    "if response.status_code == 200:\n",
    "    soup = BeautifulSoup(response.content, \"html.parser\")\n",
    "\n",
    "    # Pobieranie ofert mieszkań\n",
    "    titles = [h2.a.text.strip() for h2 in soup.find_all(\"h2\", class_=\"title\") if h2.a]\n",
    "    prices = [p.text.replace(\"\\xa0\", \" \").strip() for p in soup.find_all(\"span\", class_=\"price\")]\n",
    "\n",
    "    print(\"Titles:\", titles)\n",
    "    print(len(titles))\n",
    "    print(\"Prices:\", prices)\n",
    "    print(len(prices))\n",
    "\n",
    "    df = pd.DataFrame({\"Title\": titles, \"Price\": prices})\n",
    "\n",
    "    # Dopisanie do pliku CSV\n",
    "    df.to_csv(\"scraped_data.csv\", mode='a', header=not os.path.exists('scraped_data.csv'), index=False)\n",
    "else:\n",
    "    print(\"Failed to retrieve data.\")\n"
   ]
  }
 ],
 "metadata": {
  "colab": {
   "provenance": []
  },
  "kernelspec": {
   "display_name": "Python 3",
   "name": "python3"
  },
  "language_info": {
   "codemirror_mode": {
    "name": "ipython",
    "version": 3
   },
   "file_extension": ".py",
   "mimetype": "text/x-python",
   "name": "python",
   "nbconvert_exporter": "python",
   "pygments_lexer": "ipython3",
   "version": "3.9.23"
  },
  "papermill": {
   "default_parameters": {},
   "duration": 3.866464,
   "end_time": "2025-10-01T00:55:56.205404",
   "environment_variables": {},
   "exception": null,
   "input_path": "nb.ipynb",
   "output_path": "nbo.ipynb",
   "parameters": {},
   "start_time": "2025-10-01T00:55:52.338940",
   "version": "2.6.0"
  }
 },
 "nbformat": 4,
 "nbformat_minor": 5
}