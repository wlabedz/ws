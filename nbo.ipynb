{
 "cells": [
  {
   "cell_type": "code",
   "execution_count": 1,
   "id": "9a7e2e9a",
   "metadata": {
    "colab": {
     "base_uri": "https://localhost:8080/"
    },
    "execution": {
     "iopub.execute_input": "2025-08-22T14:53:41.736603Z",
     "iopub.status.busy": "2025-08-22T14:53:41.736330Z",
     "iopub.status.idle": "2025-08-22T14:53:44.295951Z",
     "shell.execute_reply": "2025-08-22T14:53:44.295218Z"
    },
    "id": "5pYh4c8j1w43",
    "outputId": "8a0dca73-64e5-4f0d-c493-2c5b38392363",
    "papermill": {
     "duration": 2.56314,
     "end_time": "2025-08-22T14:53:44.297040",
     "exception": false,
     "start_time": "2025-08-22T14:53:41.733900",
     "status": "completed"
    },
    "tags": []
   },
   "outputs": [
    {
     "name": "stdout",
     "output_type": "stream",
     "text": [
      "Status Code: 200\n",
      "Response Headers: {'Server': 'nginx', 'Date': 'Fri, 22 Aug 2025 14:53:43 GMT', 'Content-Type': 'text/html; charset=UTF-8', 'Transfer-Encoding': 'chunked', 'Vary': 'Accept-Encoding, User-Agent', 'Set-Cookie': 'FRSPSID=rlk4c1bn0o0icrd5m11rajami6; path=/; domain=.sprzedajemy.pl; secure; HttpOnly, _items_per_page__offer_list=60; expires=Sun, 21-Sep-2025 14:53:43 GMT; Max-Age=2592000; path=/; domain=.sprzedajemy.pl; secure; httponly, observed_id=60510929068a88477c53848135910601879125517; expires=Wed, 22-Aug-2125 15:53:43 GMT; Max-Age=3155677200; path=/; domain=.sprzedajemy.pl; secure; httponly', 'Expires': 'Thu, 19 Nov 1981 08:52:00 GMT', 'Cache-Control': 'no-store, no-cache, must-revalidate, post-check=0, pre-check=0', 'Pragma': 'no-cache', 'Content-Encoding': 'gzip'}\n",
      "Response Text (first 2000 chars): <!DOCTYPE html><html xmlns=\"http://www.w3.org/1999/xhtml\" xml:lang=\"pl\" lang=\"pl\" class=\"no-js\" >\n",
      "<head>\n",
      "\t\t\t<!-- Google Tag Manager -->\n",
      "\t\t\t<script>(function(w,d,s,l,i){w[l]=w[l]||[];w[l].push({'gtm.start':\n",
      "\t\t\t\t\t\tnew Date().getTime(),event:'gtm.js'});var f=d.getElementsByTagName(s)[0],\n",
      "\t\t\t\t\tj=d.createElement(s),dl=l!='dataLayer'?'&l='+l:'';j.async=true;j.src=\n",
      "\t\t\t\t\t'https://www.googletagmanager.com/gtm.js?id='+i+dl\n",
      "\t\t\t\t\t\t\t\t\t    ;f.parentNode.insertBefore(j,f);\n",
      "\t\t\t\t    })(window,document,'script','dataLayer','GTM-P3S238');</script>\n",
      "\t\t\t<!-- End Google Tag Manager -->\n",
      "\t<title>Mieszkania Kraków na sprzedaż, wynajem - Sprzedajemy.pl</title><meta http-equiv=\"Content-Type\" content=\"text/html; charset=UTF-8\" >\n",
      "<meta http-equiv=\"X-UA-Compatible\" content=\"IE=edge\" >\n",
      "<meta name=\"description\" content=\"Ogłoszenia o tematyce:  w kategorii Mieszkania - Kupuj i sprzedawaj rzeczy używane i nowe w kategorii Mieszkania na Sprzedajemy.pl\" >\n",
      "<meta property=\"og:title\" content=\"Mieszkania Kraków na sprzedaż, wynajem - Sprzedajemy.pl\" >\n",
      "<meta property=\"og:type\" content=\"website\" >\n",
      "<meta property=\"og:image\" content=\"https://thumbs.img-sprzedajemy.pl/facebook/sprzedajemy.pl.png\" >\n",
      "<meta property=\"og:image:width\" content=\"200\" >\n",
      "<meta property=\"og:image:height\" content=\"200\" >\n",
      "<meta property=\"og:url\" content=\"https://sprzedajemy.pl/krakow/nieruchomosci/mieszkania\" >\n",
      "<meta property=\"og:site_name\" content=\"Sprzedajemy.pl\" >\n",
      "<meta property=\"fb:app_id\" content=\"173258269367442\" >\n",
      "<meta property=\"og:description\" content=\"Ogłoszenia o tematyce:  w kategorii Mieszkania - Kupuj i sprzedawaj rzeczy używane i nowe w kategorii Mieszkania na Sprzedajemy.pl\" >\n",
      "<meta name=\"robots\" content=\"noindex, follow\" >\t\t<script  async=\"async\" src=\"https://static.criteo.net/js/ld/publishertag.js\"></script>\n",
      "        <script  async=\"async\" src=\"https://ap.lijit.com/www/sovrn_beacon_standalone/sovrn_standalone_beacon.js?iid=13417409&amp;uid=sprzedajemy\" id=\"sBeacon\"></script>\n",
      "\t\t<script  async=\"async\" src=\"https://securepuba\n",
      "Titles: ['2-pokojowe mieszkanie po remoncie | PROMOCJA | ul Bronowicka', '3 niezależne lokale z KW– inwestycja z potencjałem', 'Kawalerka Salwator Centrum POD INWESTYCJE', 'Mieszkanie na sprzedaż/zamiana 39m2', 'Kraków, Stare Miasto sprzedaż/zamiana', 'Mieszkanie 46.66m2 2-pok Kraków Babińskiego', 'Oferta sprzedaży mieszkania 62.46m2 3 pokoje Kraków Wadowicka', 'Mieszkanie 70.88m2 Kraków', 'Oferta sprzedaży mieszkania 43.35m2 2 pokojowe Kraków Wadowicka', 'Mieszkanie Kraków Kantrowicka 36.09m', 'Mieszkanie Kraków Wadowicka 75.19 metrów 4 pok', 'Oferta sprzedaży mieszkania Kraków 61.1m2 3 pokoje', 'Do sprzedaży mieszkanie Kraków 41.64 metry 2 pokojowe', 'Mieszkanie 49.63m2 3 pokojowe Kraków', 'Mieszkanie 27.42m2 1 pokojowe Kraków Pękowicka', 'Mieszkanie Kraków Piasta Kołodzieja 71.45m2 4 pok', 'Mieszkanie na sprzedaż Kraków 34.79m2 2 pokoje', 'Mieszkanie Kraków 50.48m2 3-pokojowe', 'Mieszkanie Kraków Pękowicka 60.73m2 4-pokojowe', 'Mieszkanie 70.88m2 3-pokojowe Kraków', 'Oferta sprzedaży mieszkania Kraków Babińskiego 33.25m2 1-pokojowe', 'Mieszkanie Kraków Krowoderska 74.7m2 3 pokojowe', 'Ogłoszenie mieszkanie 33.25m 1 pokój Kraków Babińskiego', 'Ogłoszenie mieszkanie Kraków 27.38m2 1 pok', 'Sprzedaż mieszkania Kraków Lubomirskiego 23.3 metry 1-pokojowe', 'Oferta sprzedaży mieszkania Kraków 35.26 metrów 2 pokoje', 'Mieszkanie Kraków 70.67m2 4 pokoje', 'Mieszkanie Kraków Grzegórzki 29.97m2 1-pok', 'Mieszkanie 50.39 metrów 2 pokoje Kraków', 'Mieszkanie Kraków 64.65m2 3 pokoje', 'Mieszkanie 60.68m2 2-pokojowe Kraków', 'Oferta sprzedaży mieszkania 59.52 metry 3 pokojowe Kraków Babińskiego', 'Mieszkanie Kraków Wadowicka 43.35m2 3 pokoje', 'Mieszkanie Kraków 37.17m2 2 pokoje', 'Mieszkanie 38.65 metrów 2 pokoje Kraków Na Błonie', 'Mieszkanie 50.46m2 2-pokojowe Kraków Stefana Banacha', 'Mieszkanie Kraków Na Błonie 52.24m2 2 pokoje', 'Mieszkanie Kraków 40.38m2 2 pokojowe', 'Do sprzedaży mieszkanie Kraków 42.2m2 2-pokojowe', 'Mieszkanie Kraków 63.83m2 4-pokojowe', 'Oferta sprzedaży mieszkania 54.77m2 3 pokoje Kraków Pękowicka', 'Mieszkanie 56.09 metrów 3 pok Kraków', 'Oferta sprzedaży mieszkania 57.09m2 3 pokoje Kraków', 'Mieszkanie 117m2 5 pokoi Kraków Olszanicka', 'Oferta sprzedaży mieszkania Kraków 40.61m2 1-pokojowe', 'Mieszkanie na sprzedaż Kraków Pękowicka 38.44m2 2 pokoje', 'Ogłoszenie mieszkanie 64.69m2 3-pokojowe Kraków Na Błonie', 'Mieszkanie 59.85m2 3 pokoje Kraków Babińskiego', 'Mieszkanie 50.95m2 2 pokoje Kraków Wadowicka', 'Mieszkanie 38.17m2 2 pokojowe Kraków', 'Sprzedam mieszkanie 73.19m2 3 pokojowe Kraków', 'Oferta sprzedaży mieszkania 66.75m 4 pokoje Kraków', 'Sprzedam mieszkanie 43.35m2 2-pok Kraków', 'Mieszkanie 37.93 metry 2 pokoje Kraków Pękowicka', 'Mieszkanie Kraków 72.4m2 3 pokojowe', 'Sprzedam mieszkanie Kraków 25.88m2 1-pok', 'Mieszkanie Kraków 51.89m2 2 pokojowe', 'Mieszkanie do sprzedania Kraków 116.81m2 4 pokojowe', 'Ogłoszenie mieszkanie 43.56m 3 pokoje Kraków', 'Oferta sprzedaży mieszkania Kraków 62.19m2 3 pokojowe']\n",
      "60\n",
      "Prices: ['710 000 zł', '265 000 zł', '428 824 zł', '526 000 zł', '2 083 000 zł', '835 214 zł', '1 055 574 zł', '1 219 136 zł', '806 310 zł', '514 282 zł', '1 300 787 zł', '870 000 zł', '722 454 zł', '699 783 zł', '472 995 zł', '871 690 zł', '462 707 zł', '848 064 zł', '986 862 zł', '1 169 520 zł', '628 425 zł', '1 418 000 zł', '628 425 zł', '469 000 zł', '518 000 zł', '645 875 zł', '1 173 122 zł', '689 000 zł', '901 981 zł', '4 000 zł', '807 177 zł', '982 080 zł', '801 975 zł', '633 748 zł', '779 918 zł', '799 000 zł', '895 393 zł', '771 258 zł', '776 480 zł', '1 034 046 zł', '890 012 zł', '1 061 110 zł', '1 054 966 zł', '1 591 185 zł', '686 309 zł', '653 480 zł', '1 103 999 zł', '987 525 zł', '876 340 zł', '783 973 zł', '1 150 000 zł', '939 000 zł', '827 985 zł', '659 982 zł', '1 194 600 zł', '446 430 zł', '906 725 zł', '1 711 261 zł', '749 000 zł', '885 586 zł']\n",
      "60\n"
     ]
    }
   ],
   "source": [
    "import requests\n",
    "from bs4 import BeautifulSoup\n",
    "import pandas as pd\n",
    "import os\n",
    "\n",
    "url = \"https://sprzedajemy.pl/krakow/nieruchomosci/mieszkania?offset=0&items_per_page=60\"\n",
    "\n",
    "headers = {\n",
    "    \"User-Agent\": \"Mozilla/5.0 (Windows NT 10.0; Win64; x64) AppleWebKit/537.36 (KHTML, like Gecko) Chrome/58.0.3029.110 Safari/537.36\",\n",
    "    \"Accept\": \"text/html,application/xhtml+xml,application/xml;q=0.9,image/webp,image/apng,*/*;q=0.8\",\n",
    "    \"Accept-Encoding\": \"gzip, deflate, br\",\n",
    "    \"Accept-Language\": \"en-US,en;q=0.9,pl;q=0.8\",\n",
    "    \"Connection\": \"keep-alive\"\n",
    "}\n",
    "\n",
    "response = requests.get(url, headers=headers)\n",
    "response = requests.get(url, headers=headers)\n",
    "\n",
    "# Debugowanie odpowiedzi\n",
    "print(f\"Status Code: {response.status_code}\")\n",
    "print(f\"Response Headers: {response.headers}\")\n",
    "print(f\"Response Text (first 2000 chars): {response.text[:2000]}\")\n",
    "\n",
    "# Jeśli odpowiedź jest poprawna, wykonaj webscraping\n",
    "if response.status_code == 200:\n",
    "    soup = BeautifulSoup(response.content, \"html.parser\")\n",
    "\n",
    "    # Pobieranie ofert mieszkań\n",
    "    titles = [h2.a.text.strip() for h2 in soup.find_all(\"h2\", class_=\"title\") if h2.a]\n",
    "    prices = [p.text.replace(\"\\xa0\", \" \").strip() for p in soup.find_all(\"span\", class_=\"price\")]\n",
    "\n",
    "    print(\"Titles:\", titles)\n",
    "    print(len(titles))\n",
    "    print(\"Prices:\", prices)\n",
    "    print(len(prices))\n",
    "\n",
    "    df = pd.DataFrame({\"Title\": titles, \"Price\": prices})\n",
    "\n",
    "    # Dopisanie do pliku CSV\n",
    "    df.to_csv(\"scraped_data.csv\", mode='a', header=not os.path.exists('scraped_data.csv'), index=False)\n",
    "else:\n",
    "    print(\"Failed to retrieve data.\")\n"
   ]
  }
 ],
 "metadata": {
  "colab": {
   "provenance": []
  },
  "kernelspec": {
   "display_name": "Python 3",
   "name": "python3"
  },
  "language_info": {
   "codemirror_mode": {
    "name": "ipython",
    "version": 3
   },
   "file_extension": ".py",
   "mimetype": "text/x-python",
   "name": "python",
   "nbconvert_exporter": "python",
   "pygments_lexer": "ipython3",
   "version": "3.9.23"
  },
  "papermill": {
   "default_parameters": {},
   "duration": 3.668969,
   "end_time": "2025-08-22T14:53:44.513882",
   "environment_variables": {},
   "exception": null,
   "input_path": "nb.ipynb",
   "output_path": "nbo.ipynb",
   "parameters": {},
   "start_time": "2025-08-22T14:53:40.844913",
   "version": "2.6.0"
  }
 },
 "nbformat": 4,
 "nbformat_minor": 5
}