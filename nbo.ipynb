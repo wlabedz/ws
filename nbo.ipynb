{
 "cells": [
  {
   "cell_type": "code",
   "execution_count": 1,
   "id": "1b793f86",
   "metadata": {
    "colab": {
     "base_uri": "https://localhost:8080/"
    },
    "execution": {
     "iopub.execute_input": "2025-06-06T02:53:05.285517Z",
     "iopub.status.busy": "2025-06-06T02:53:05.285074Z",
     "iopub.status.idle": "2025-06-06T02:53:07.374698Z",
     "shell.execute_reply": "2025-06-06T02:53:07.373934Z"
    },
    "id": "5pYh4c8j1w43",
    "outputId": "8a0dca73-64e5-4f0d-c493-2c5b38392363",
    "papermill": {
     "duration": 2.09331,
     "end_time": "2025-06-06T02:53:07.375818",
     "exception": false,
     "start_time": "2025-06-06T02:53:05.282508",
     "status": "completed"
    },
    "tags": []
   },
   "outputs": [
    {
     "name": "stdout",
     "output_type": "stream",
     "text": [
      "Status Code: 200\n",
      "Response Headers: {'Server': 'nginx', 'Date': 'Fri, 06 Jun 2025 02:53:07 GMT', 'Content-Type': 'text/html; charset=UTF-8', 'Transfer-Encoding': 'chunked', 'Vary': 'Accept-Encoding, User-Agent', 'Set-Cookie': 'FRSPSID=9ufa65at029ig93olkqonrja22; path=/; domain=.sprzedajemy.pl; secure; HttpOnly, _items_per_page__offer_list=60; expires=Sun, 06-Jul-2025 02:53:06 GMT; Max-Age=2592000; path=/; domain=.sprzedajemy.pl; secure; httponly, observed_id=95910016168425812e6400585950071481841429; expires=Wed, 06-Jun-2125 03:53:06 GMT; Max-Age=3155677200; path=/; domain=.sprzedajemy.pl; secure; httponly', 'Expires': 'Thu, 19 Nov 1981 08:52:00 GMT', 'Cache-Control': 'no-store, no-cache, must-revalidate, post-check=0, pre-check=0', 'Pragma': 'no-cache', 'Content-Encoding': 'gzip'}\n",
      "Response Text (first 2000 chars): <!DOCTYPE html><html xmlns=\"http://www.w3.org/1999/xhtml\" xml:lang=\"pl\" lang=\"pl\" class=\"no-js\" >\n",
      "<head>\n",
      "\t\t\t<!-- Google Tag Manager -->\n",
      "\t\t\t<script>(function(w,d,s,l,i){w[l]=w[l]||[];w[l].push({'gtm.start':\n",
      "\t\t\t\t\t\tnew Date().getTime(),event:'gtm.js'});var f=d.getElementsByTagName(s)[0],\n",
      "\t\t\t\t\tj=d.createElement(s),dl=l!='dataLayer'?'&l='+l:'';j.async=true;j.src=\n",
      "\t\t\t\t\t'https://www.googletagmanager.com/gtm.js?id='+i+dl\n",
      "\t\t\t\t\t\t\t\t\t    ;f.parentNode.insertBefore(j,f);\n",
      "\t\t\t\t    })(window,document,'script','dataLayer','GTM-P3S238');</script>\n",
      "\t\t\t<!-- End Google Tag Manager -->\n",
      "\t<title>Mieszkania Kraków na sprzedaż, wynajem - Sprzedajemy.pl</title><meta http-equiv=\"Content-Type\" content=\"text/html; charset=UTF-8\" >\n",
      "<meta http-equiv=\"X-UA-Compatible\" content=\"IE=edge\" >\n",
      "<meta name=\"description\" content=\"Ogłoszenia o tematyce:  w kategorii Mieszkania - Kupuj i sprzedawaj rzeczy używane i nowe w kategorii Mieszkania na Sprzedajemy.pl\" >\n",
      "<meta property=\"og:title\" content=\"Mieszkania Kraków na sprzedaż, wynajem - Sprzedajemy.pl\" >\n",
      "<meta property=\"og:type\" content=\"website\" >\n",
      "<meta property=\"og:image\" content=\"https://thumbs.img-sprzedajemy.pl/facebook/sprzedajemy.pl.png\" >\n",
      "<meta property=\"og:image:width\" content=\"200\" >\n",
      "<meta property=\"og:image:height\" content=\"200\" >\n",
      "<meta property=\"og:url\" content=\"https://sprzedajemy.pl/krakow/nieruchomosci/mieszkania\" >\n",
      "<meta property=\"og:site_name\" content=\"Sprzedajemy.pl\" >\n",
      "<meta property=\"fb:app_id\" content=\"173258269367442\" >\n",
      "<meta property=\"og:description\" content=\"Ogłoszenia o tematyce:  w kategorii Mieszkania - Kupuj i sprzedawaj rzeczy używane i nowe w kategorii Mieszkania na Sprzedajemy.pl\" >\n",
      "<meta name=\"robots\" content=\"noindex, follow\" >\t\t<script  async=\"async\" src=\"https://static.criteo.net/js/ld/publishertag.js\"></script>\n",
      "        <script  async=\"async\" src=\"https://ap.lijit.com/www/sovrn_beacon_standalone/sovrn_standalone_beacon.js?iid=13417409&amp;uid=sprzedajemy\" id=\"sBeacon\"></script>\n",
      "\t\t<script  async=\"async\" src=\"https://securepuba\n",
      "Titles: ['2 pok,oddzielna kuchnia,klima,parking, Wrocławska', 'Strych do adaptacji, Błonia, ul. Filarecka', '4 pokoje 64m, hala garażowa, komórka lokatorska, duży balkon, wysoki stand…', 'Kraków Bronowice Stawowa 168 / 60m2 3 POK/ 22,5 m2 taras/ BEZ POŚREDNIKÓW', '2 lub 3 pokoje,62m2,balkon, Widok na Wawel', 'Mieszkanie 56.89m2 2 pokoje Kraków', 'Nowe mieszkanie na sprzedaż 2-pokoje 38,6 m2 | Krowodrza - Kraków', 'Mieszkanie 4-pokoje Kraków - wolne od 1 Lipca 2025 r.', 'Mieszkanie 39.19 metrów 2-pokojowe Kraków Bunscha', 'Sprzedam mieszkanie Kraków Bunscha 52.26m2 2 pokojowe', 'Sprzedaż mieszkania Kraków 59.49m2 3-pok', 'Mieszkanie Kraków Bunscha 43.62m2 2 pokoje', 'Oferta sprzedaży mieszkania Kraków 52.3m2 2-pok', 'Oferta sprzedaży mieszkania Kraków Bunscha 41.93m2 2 pokoje', 'Mieszkanie 43.22 metry 2 pokojowe Kraków Bunscha', 'Mieszkanie Kraków 43.3m2 2 pokoje', 'Mieszkanie sprzedam 52.24m2 2 pokoje Kraków Bunscha', 'Mieszkanie sprzedam 33.7m2 1-pokojowe Kraków Bunscha', 'Sprzedaż mieszkania Kraków Bunscha 51.72 metry 2-pokojowe', 'Oferta sprzedaży mieszkania 41.12m2 2 pokojowe Kraków', 'Sprzedaż mieszkania Kraków Bunscha 32.72m2 1-pokojowe', 'Mieszkanie 51.8m2 2 pok Kraków', 'Wynajmę mieszkanie 62.01m2 3 pokoje Kraków Czeczów', 'Mieszkanie Kraków Złota Podkowa 57.5m2 3 pokojowe', 'Ogłoszenie mieszkanie 44m2 2 pokoje Kraków Przyjaźni Polsko-Węgierskiej', 'Mieszkanie Kraków Przyjaźni Polsko-Węgierskiej 44m2 2 pokojowe', 'Mieszkanie Kraków 39.19m2 2-pokojowe', 'Sprzedam mieszkanie 52.18m2 2 pokoje Kraków Bunscha', 'Mieszkanie 39.98m2 2 pokoje Kraków Bunscha', 'Mieszkanie Kraków Na Wzgórzach 33.78m2 2 pokoje', 'Mieszkanie 51.96m2 2 pokojowe Kraków', 'Mieszkanie 43.59m2 2 pokoje Kraków Bunscha', 'Mieszkanie 51.1m2 3-pok Kraków Borkowska', 'Mieszkanie Kraków 43.56m2', 'Mieszkanie na sprzedaż Kraków 52.34m2 2 pok', 'Mieszkanie Kraków Bunscha 41.01m2 2 pokoje', 'Mieszkanie do sprzedania Kraków Bunscha 41.14m2 2 pokojowe', 'Sprzedaż mieszkania 52.09m2 2-pok Kraków', 'Mieszkanie Kraków 60.56m2 3 pokoje', 'Mieszkanie 43.18m 2-pokojowe Kraków Bunscha', 'Mieszkanie do sprzedania Kraków os. Złotego Wieku 56m2 4 pokoje', 'Mieszkanie Kraków 60.12m2 3 pokojowe', 'Oferta sprzedaży mieszkania 54.96m2 Kraków Czeczów', 'Oferta sprzedaży mieszkania 50.19m2 2 pokoje Kraków Bunscha', 'Mieszkanie Kraków Bunscha 38.22m2 2-pok', 'Oferta sprzedaży mieszkania 36.47m2 2 pokoje Kraków', 'Mieszkanie 55.7m2 3 pokoje Kraków', 'Mieszkanie 45.61m2 2-pokojowe Kraków Smętna', 'Oferta wynajmu mieszkania Kraków 50m2 2-pokojowe', 'Mieszkanie Kraków Grzegórzki 47.67m2 2 pokoje', 'Oferta sprzedaży mieszkania 48m2 3 pok Kraków Bohaterów Września', 'Mieszkanie 51m2 Kraków', 'Do sprzedaży mieszkanie Kraków 55.72m2 2 pokoje', 'Ogłoszenie mieszkanie 50 metrów 2 pokoje Kraków', 'Mieszkanie Kraków 44m2 2-pokojowe', 'Mieszkanie na wynajem 52m2 2 pokojowe Kraków Armii Krajowej', 'Oferta sprzedaży mieszkania 45.73 metry 2 pokojowe Kraków Niezapominajek', '1os Kawalerka 25m2 kilka przystanków od Centrum - Krowodrza Górka', 'Królewska 2 pokojowe słoneczne 2400zl', 'Sprzedam mieszkanie Kraków Korczynowa 52m2']\n",
      "60\n",
      "Prices: ['3 200 zł', '379 999 zł', '1 168 000 zł', '1 067 500 zł', '1 490 000 zł', '950 000 zł', '799 000 zł', '4 800 zł', '659 567 zł', '783 346 zł', '889 576 zł', '709 942 zł', '816 193 zł', '690 712 zł', '703 432 zł', '712 762 zł', '790 799 zł', '567 171 zł', '822 459 zł', '689 952 zł', '534 157 zł', '791 826 zł', '3 200 zł', '919 000 zł', '2 690 zł', '2 690 zł', '659 567 zł', '789 891 zł', '672 863 zł', '699 000 zł', '778 237 zł', '696 516 zł', '777 000 zł', '695 531 zł', '808 810 zł', '675 557 zł', '677 699 zł', '807 149 zł', '830 000 zł', '702 781 zł', '799 000 zł', '932 803 zł', '791 424 zł', '820 455 zł', '637 394 zł', '528 000 zł', '740 000 zł', '695 000 zł', '2 300 zł', '1 191 750 zł', '624 000 zł', '864 500 zł', '835 000 zł', '899 000 zł', '579 000 zł', '2 800 zł', '600 000 zł', '1 755 zł', '2 400 zł', '605 000 zł']\n",
      "60\n"
     ]
    }
   ],
   "source": [
    "import requests\n",
    "from bs4 import BeautifulSoup\n",
    "import pandas as pd\n",
    "import os\n",
    "\n",
    "url = \"https://sprzedajemy.pl/krakow/nieruchomosci/mieszkania?offset=0&items_per_page=60\"\n",
    "\n",
    "headers = {\n",
    "    \"User-Agent\": \"Mozilla/5.0 (Windows NT 10.0; Win64; x64) AppleWebKit/537.36 (KHTML, like Gecko) Chrome/58.0.3029.110 Safari/537.36\",\n",
    "    \"Accept\": \"text/html,application/xhtml+xml,application/xml;q=0.9,image/webp,image/apng,*/*;q=0.8\",\n",
    "    \"Accept-Encoding\": \"gzip, deflate, br\",\n",
    "    \"Accept-Language\": \"en-US,en;q=0.9,pl;q=0.8\",\n",
    "    \"Connection\": \"keep-alive\"\n",
    "}\n",
    "\n",
    "response = requests.get(url, headers=headers)\n",
    "response = requests.get(url, headers=headers)\n",
    "\n",
    "# Debugowanie odpowiedzi\n",
    "print(f\"Status Code: {response.status_code}\")\n",
    "print(f\"Response Headers: {response.headers}\")\n",
    "print(f\"Response Text (first 2000 chars): {response.text[:2000]}\")\n",
    "\n",
    "# Jeśli odpowiedź jest poprawna, wykonaj webscraping\n",
    "if response.status_code == 200:\n",
    "    soup = BeautifulSoup(response.content, \"html.parser\")\n",
    "\n",
    "    # Pobieranie ofert mieszkań\n",
    "    titles = [h2.a.text.strip() for h2 in soup.find_all(\"h2\", class_=\"title\") if h2.a]\n",
    "    prices = [p.text.replace(\"\\xa0\", \" \").strip() for p in soup.find_all(\"span\", class_=\"price\")]\n",
    "\n",
    "    print(\"Titles:\", titles)\n",
    "    print(len(titles))\n",
    "    print(\"Prices:\", prices)\n",
    "    print(len(prices))\n",
    "\n",
    "    df = pd.DataFrame({\"Title\": titles, \"Price\": prices})\n",
    "\n",
    "    # Dopisanie do pliku CSV\n",
    "    df.to_csv(\"scraped_data.csv\", mode='a', header=not os.path.exists('scraped_data.csv'), index=False)\n",
    "else:\n",
    "    print(\"Failed to retrieve data.\")\n"
   ]
  }
 ],
 "metadata": {
  "colab": {
   "provenance": []
  },
  "kernelspec": {
   "display_name": "Python 3",
   "name": "python3"
  },
  "language_info": {
   "codemirror_mode": {
    "name": "ipython",
    "version": 3
   },
   "file_extension": ".py",
   "mimetype": "text/x-python",
   "name": "python",
   "nbconvert_exporter": "python",
   "pygments_lexer": "ipython3",
   "version": "3.9.22"
  },
  "papermill": {
   "default_parameters": {},
   "duration": 3.202694,
   "end_time": "2025-06-06T02:53:07.592815",
   "environment_variables": {},
   "exception": null,
   "input_path": "nb.ipynb",
   "output_path": "nbo.ipynb",
   "parameters": {},
   "start_time": "2025-06-06T02:53:04.390121",
   "version": "2.6.0"
  }
 },
 "nbformat": 4,
 "nbformat_minor": 5
}