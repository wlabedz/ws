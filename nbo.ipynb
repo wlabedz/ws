{
 "cells": [
  {
   "cell_type": "code",
   "execution_count": 1,
   "id": "d3f6c72c",
   "metadata": {
    "colab": {
     "base_uri": "https://localhost:8080/"
    },
    "execution": {
     "iopub.execute_input": "2025-08-08T13:50:32.871506Z",
     "iopub.status.busy": "2025-08-08T13:50:32.871231Z",
     "iopub.status.idle": "2025-08-08T13:50:35.217762Z",
     "shell.execute_reply": "2025-08-08T13:50:35.217019Z"
    },
    "id": "5pYh4c8j1w43",
    "outputId": "8a0dca73-64e5-4f0d-c493-2c5b38392363",
    "papermill": {
     "duration": 2.350233,
     "end_time": "2025-08-08T13:50:35.218983",
     "exception": false,
     "start_time": "2025-08-08T13:50:32.868750",
     "status": "completed"
    },
    "tags": []
   },
   "outputs": [
    {
     "name": "stdout",
     "output_type": "stream",
     "text": [
      "Status Code: 200\n",
      "Response Headers: {'Server': 'nginx', 'Date': 'Fri, 08 Aug 2025 13:50:34 GMT', 'Content-Type': 'text/html; charset=UTF-8', 'Transfer-Encoding': 'chunked', 'Vary': 'Accept-Encoding, User-Agent', 'Set-Cookie': 'FRSPSID=q1sb2501mtkemkmcb1t5q3n482; path=/; domain=.sprzedajemy.pl; secure; HttpOnly, _items_per_page__offer_list=60; expires=Sun, 07-Sep-2025 13:50:34 GMT; Max-Age=2592000; path=/; domain=.sprzedajemy.pl; secure; httponly, observed_id=398210659689600aabfa428155093858725314560; expires=Wed, 08-Aug-2125 14:50:34 GMT; Max-Age=3155677200; path=/; domain=.sprzedajemy.pl; secure; httponly', 'Expires': 'Thu, 19 Nov 1981 08:52:00 GMT', 'Cache-Control': 'no-store, no-cache, must-revalidate, post-check=0, pre-check=0', 'Pragma': 'no-cache', 'Content-Encoding': 'gzip'}\n",
      "Response Text (first 2000 chars): <!DOCTYPE html><html xmlns=\"http://www.w3.org/1999/xhtml\" xml:lang=\"pl\" lang=\"pl\" class=\"no-js\" >\n",
      "<head>\n",
      "\t\t\t<!-- Google Tag Manager -->\n",
      "\t\t\t<script>(function(w,d,s,l,i){w[l]=w[l]||[];w[l].push({'gtm.start':\n",
      "\t\t\t\t\t\tnew Date().getTime(),event:'gtm.js'});var f=d.getElementsByTagName(s)[0],\n",
      "\t\t\t\t\tj=d.createElement(s),dl=l!='dataLayer'?'&l='+l:'';j.async=true;j.src=\n",
      "\t\t\t\t\t'https://www.googletagmanager.com/gtm.js?id='+i+dl\n",
      "\t\t\t\t\t\t\t\t\t    ;f.parentNode.insertBefore(j,f);\n",
      "\t\t\t\t    })(window,document,'script','dataLayer','GTM-P3S238');</script>\n",
      "\t\t\t<!-- End Google Tag Manager -->\n",
      "\t<title>Mieszkania Kraków na sprzedaż, wynajem - Sprzedajemy.pl</title><meta http-equiv=\"Content-Type\" content=\"text/html; charset=UTF-8\" >\n",
      "<meta http-equiv=\"X-UA-Compatible\" content=\"IE=edge\" >\n",
      "<meta name=\"description\" content=\"Ogłoszenia o tematyce:  w kategorii Mieszkania - Kupuj i sprzedawaj rzeczy używane i nowe w kategorii Mieszkania na Sprzedajemy.pl\" >\n",
      "<meta property=\"og:title\" content=\"Mieszkania Kraków na sprzedaż, wynajem - Sprzedajemy.pl\" >\n",
      "<meta property=\"og:type\" content=\"website\" >\n",
      "<meta property=\"og:image\" content=\"https://thumbs.img-sprzedajemy.pl/facebook/sprzedajemy.pl.png\" >\n",
      "<meta property=\"og:image:width\" content=\"200\" >\n",
      "<meta property=\"og:image:height\" content=\"200\" >\n",
      "<meta property=\"og:url\" content=\"https://sprzedajemy.pl/krakow/nieruchomosci/mieszkania\" >\n",
      "<meta property=\"og:site_name\" content=\"Sprzedajemy.pl\" >\n",
      "<meta property=\"fb:app_id\" content=\"173258269367442\" >\n",
      "<meta property=\"og:description\" content=\"Ogłoszenia o tematyce:  w kategorii Mieszkania - Kupuj i sprzedawaj rzeczy używane i nowe w kategorii Mieszkania na Sprzedajemy.pl\" >\n",
      "<meta name=\"robots\" content=\"noindex, follow\" >\t\t<script  async=\"async\" src=\"https://static.criteo.net/js/ld/publishertag.js\"></script>\n",
      "        <script  async=\"async\" src=\"https://ap.lijit.com/www/sovrn_beacon_standalone/sovrn_standalone_beacon.js?iid=13417409&amp;uid=sprzedajemy\" id=\"sBeacon\"></script>\n",
      "\t\t<script  async=\"async\" src=\"https://securepuba\n",
      "Titles: ['Dom - Kraków Tonie - Zielona okolica - 123 m2 | 5 - pok. | Ogród | Taras |…', 'Mieszkanie 3-pokojowe. Duży balkon. Dobra komunikacja, Od właściciela', '3 niezależne lokale z KW– inwestycja z potencjałem', 'Mieszkanie na sprzedaż/zamiana 39m2', 'Mieszkanie Wola Justowska /Bielany 36m2', '4pokoje 68m2 balkon KLIMA Śródmieście BEZ PROWIZJI od właściciela', 'Mieszkanie 42.8m2 2-pokojowe Kraków Macieja Słomczyńskiego', 'Mieszkanie Kraków 44m2 2 pokoje', 'Mieszkanie do sprzedania 35.26m 2 pokoje Kraków', 'Mieszkanie 51.65m2 3 pok Kraków', 'Oferta sprzedaży mieszkania 83.66m2 Kraków Wadowicka', 'Mieszkanie Kraków Piasta Kołodzieja 49.63m2 3 pokojowe', 'Sprzedam mieszkanie 54.28 metrów 3 pokoje Kraków Pękowicka', 'Ogłoszenie mieszkanie 42.21m2 Kraków Grzegórzki', 'Mieszkanie 72.4m2 3-pok Kraków', 'Mieszkanie 40.15m2 2 pokoje Kraków Pękowicka', 'Sprzedam mieszkanie 64.89m2 4 pokoje Kraków Kantrowicka', 'Oferta sprzedaży mieszkania Kraków 37.54m2 2 pokojowe', 'Mieszkanie Kraków 72.4m2 2 pokoje', 'Mieszkanie 83.1 metrów 4 pokoje Kraków Wadowicka', 'Mieszkanie 36.8m2 2 pokojowe Kraków Estery', 'Oferta sprzedaży mieszkania 52 metry 3 pokojowe Kraków os. Przy Arce', 'Mieszkanie Kraków 76.84 metry', 'Mieszkanie Kraków 53.81m2 4 pokoje', 'Do sprzedaży mieszkanie Kraków Kantrowicka 51.41m2 3 pokoje', 'Mieszkanie Kraków Pędzichów 82m2 3 pokojowe', 'Mieszkanie 65.46m2 3 pokoje Kraków Wadowicka', 'Mieszkanie 57.09m2 3 pokoje Kraków Na Błonie', 'Mieszkanie 70.96m2 4 pokojowe Kraków', 'Mieszkanie sprzedam 49 metrów Kraków Dąbrowskiego', 'Oferta sprzedaży mieszkania Kraków Olszanicka 151.83 metry 7 pokojowe', 'Mieszkanie 38.51m2 2-pokojowe Kraków', 'Mieszkanie Kraków Wadowicka 62.06m2 3-pokojowe', 'Mieszkanie 36.91m2 2 pokoje Kraków 29 listopada - okolice', 'Mieszkanie 57m2 Kraków', 'Mieszkanie Kraków 90.48m2 4 pokoje', 'Mieszkanie Kraków Wadowicka 69.31m2 2 pokoje', 'Mieszkanie 38.09m2 2 pokoje Kraków', 'Oferta sprzedaży mieszkania Kraków 50.86m2 2 pokoje', 'Mieszkanie 74.64m2 3-pokojowe Kraków', 'Do sprzedaży mieszkanie 62.01m2 4 pokoje Kraków', 'Mieszkanie Kraków Babińskiego 70.88m2 3 pokoje', 'Mieszkanie 52.15 metrów 3 pok Kraków Pękowicka', 'Ogłoszenie mieszkanie Kraków 31.74m2', 'Mieszkanie Kraków 35.01 metrów', 'Mieszkanie Kraków 62.06m2 3 pok', 'Mieszkanie 81.34m2 5 pokoi Kraków Wadowicka', 'Oferta sprzedaży mieszkania 90.38m2 4 pokojowe Kraków', 'Sprzedam mieszkanie Kraków 37.74m2 2-pok', 'Mieszkanie 32.79m2 1 pokojowe Kraków', 'Mieszkanie Kraków Szlak 54.5m2', 'Mieszkanie 37.8m2 2 pokoje Kraków Na Błonie', 'Mieszkanie 38.01m2 Kraków', 'Mieszkanie Kraków 40.73m2 2 pokoje', 'Sprzedam mieszkanie Kraków Dąbrowskiego 41.3m2 2 pokoje', 'Oferta sprzedaży mieszkania Kraków 44.27m2 2 pokoje', 'Mieszkanie Kraków 70.88m2 4 pokojowe', 'Oferta sprzedaży mieszkania Kraków Piasta Kołodzieja 50.23m2 3-pok', 'Mieszkanie Kraków Kantrowicka 34.79 metrów 2 pokoje', 'Mieszkanie 51.86m2 3 pokoje Kraków Pękowicka']\n",
      "60\n",
      "Prices: ['2 275 000 zł', '3 500 zł', '279 000 zł', '526 000 zł', '487 000 zł', '1 850 000 zł', '684 000 zł', '731 000 zł', '587 079 zł', '847 060 zł', '1 271 632 zł', '714 672 zł', '879 336 zł', '924 399 zł', '1 295 960 zł', '680 542 zł', '770 568 zł', '765 252 zł', '1 194 600 zł', '1 279 740 zł', '1 232 800 zł', '799 000 zł', '1 335 000 zł', '871 722 zł', '732 592 zł', '1 499 000 zł', '1 125 912 zł', '1 057 763 zł', '872 808 zł', '1 034 395 zł', '2 383 737 zł', '760 225 zł', '1 086 050 zł', '641 918 zł', '950 000 zł', '1 411 488 zł', '1 136 684 zł', '655 148 zł', '935 824 zł', '1 178 000 zł', '1 004 562 zł', '1 169 520 zł', '852 652 zł', '599 886 zł', '627 642 zł', '1 061 226 zł', '1 203 832 zł', '1 418 966 zł', '656 676 zł', '619 731 zł', '999 000 zł', '762 766 zł', '655 672 zł', '692 410 zł', '874 603 zł', '743 736 zł', '1 162 432 zł', '733 358 zł', '495 757 zł', '855 690 zł']\n",
      "60\n"
     ]
    }
   ],
   "source": [
    "import requests\n",
    "from bs4 import BeautifulSoup\n",
    "import pandas as pd\n",
    "import os\n",
    "\n",
    "url = \"https://sprzedajemy.pl/krakow/nieruchomosci/mieszkania?offset=0&items_per_page=60\"\n",
    "\n",
    "headers = {\n",
    "    \"User-Agent\": \"Mozilla/5.0 (Windows NT 10.0; Win64; x64) AppleWebKit/537.36 (KHTML, like Gecko) Chrome/58.0.3029.110 Safari/537.36\",\n",
    "    \"Accept\": \"text/html,application/xhtml+xml,application/xml;q=0.9,image/webp,image/apng,*/*;q=0.8\",\n",
    "    \"Accept-Encoding\": \"gzip, deflate, br\",\n",
    "    \"Accept-Language\": \"en-US,en;q=0.9,pl;q=0.8\",\n",
    "    \"Connection\": \"keep-alive\"\n",
    "}\n",
    "\n",
    "response = requests.get(url, headers=headers)\n",
    "response = requests.get(url, headers=headers)\n",
    "\n",
    "# Debugowanie odpowiedzi\n",
    "print(f\"Status Code: {response.status_code}\")\n",
    "print(f\"Response Headers: {response.headers}\")\n",
    "print(f\"Response Text (first 2000 chars): {response.text[:2000]}\")\n",
    "\n",
    "# Jeśli odpowiedź jest poprawna, wykonaj webscraping\n",
    "if response.status_code == 200:\n",
    "    soup = BeautifulSoup(response.content, \"html.parser\")\n",
    "\n",
    "    # Pobieranie ofert mieszkań\n",
    "    titles = [h2.a.text.strip() for h2 in soup.find_all(\"h2\", class_=\"title\") if h2.a]\n",
    "    prices = [p.text.replace(\"\\xa0\", \" \").strip() for p in soup.find_all(\"span\", class_=\"price\")]\n",
    "\n",
    "    print(\"Titles:\", titles)\n",
    "    print(len(titles))\n",
    "    print(\"Prices:\", prices)\n",
    "    print(len(prices))\n",
    "\n",
    "    df = pd.DataFrame({\"Title\": titles, \"Price\": prices})\n",
    "\n",
    "    # Dopisanie do pliku CSV\n",
    "    df.to_csv(\"scraped_data.csv\", mode='a', header=not os.path.exists('scraped_data.csv'), index=False)\n",
    "else:\n",
    "    print(\"Failed to retrieve data.\")\n"
   ]
  }
 ],
 "metadata": {
  "colab": {
   "provenance": []
  },
  "kernelspec": {
   "display_name": "Python 3",
   "name": "python3"
  },
  "language_info": {
   "codemirror_mode": {
    "name": "ipython",
    "version": 3
   },
   "file_extension": ".py",
   "mimetype": "text/x-python",
   "name": "python",
   "nbconvert_exporter": "python",
   "pygments_lexer": "ipython3",
   "version": "3.9.23"
  },
  "papermill": {
   "default_parameters": {},
   "duration": 3.545793,
   "end_time": "2025-08-08T13:50:35.436097",
   "environment_variables": {},
   "exception": null,
   "input_path": "nb.ipynb",
   "output_path": "nbo.ipynb",
   "parameters": {},
   "start_time": "2025-08-08T13:50:31.890304",
   "version": "2.6.0"
  }
 },
 "nbformat": 4,
 "nbformat_minor": 5
}