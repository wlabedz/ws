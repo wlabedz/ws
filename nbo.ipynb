{
 "cells": [
  {
   "cell_type": "code",
   "execution_count": 1,
   "id": "f5921526",
   "metadata": {
    "colab": {
     "base_uri": "https://localhost:8080/"
    },
    "execution": {
     "iopub.execute_input": "2025-04-09T18:53:01.824795Z",
     "iopub.status.busy": "2025-04-09T18:53:01.824500Z",
     "iopub.status.idle": "2025-04-09T18:53:03.843425Z",
     "shell.execute_reply": "2025-04-09T18:53:03.842705Z"
    },
    "id": "5pYh4c8j1w43",
    "outputId": "8a0dca73-64e5-4f0d-c493-2c5b38392363",
    "papermill": {
     "duration": 2.022624,
     "end_time": "2025-04-09T18:53:03.844642",
     "exception": false,
     "start_time": "2025-04-09T18:53:01.822018",
     "status": "completed"
    },
    "tags": []
   },
   "outputs": [
    {
     "name": "stdout",
     "output_type": "stream",
     "text": [
      "Status Code: 200\n",
      "Response Headers: {'Server': 'nginx', 'Date': 'Wed, 09 Apr 2025 18:53:03 GMT', 'Content-Type': 'text/html; charset=UTF-8', 'Transfer-Encoding': 'chunked', 'Vary': 'Accept-Encoding, User-Agent', 'Set-Cookie': 'FRSPSID=tdib44ns20hr0bn4aq9u7aib10; path=/; domain=.sprzedajemy.pl; secure; HttpOnly, _items_per_page__offer_list=60; expires=Fri, 09-May-2025 18:53:03 GMT; Max-Age=2592000; path=/; domain=.sprzedajemy.pl; secure; httponly, observed_id=89736018567f6c20f73f11462814411036103548; expires=Mon, 09-Apr-2125 19:53:03 GMT; Max-Age=3155677200; path=/; domain=.sprzedajemy.pl; secure; httponly', 'Expires': 'Thu, 19 Nov 1981 08:52:00 GMT', 'Cache-Control': 'no-store, no-cache, must-revalidate, post-check=0, pre-check=0', 'Pragma': 'no-cache', 'Content-Encoding': 'gzip'}\n",
      "Response Text (first 2000 chars): <!DOCTYPE html><html xmlns=\"http://www.w3.org/1999/xhtml\" xml:lang=\"pl\" lang=\"pl\" class=\"no-js\" >\n",
      "<head>\n",
      "\t\t\t<!-- Google Tag Manager -->\n",
      "\t\t\t<script>(function(w,d,s,l,i){w[l]=w[l]||[];w[l].push({'gtm.start':\n",
      "\t\t\t\t\t\tnew Date().getTime(),event:'gtm.js'});var f=d.getElementsByTagName(s)[0],\n",
      "\t\t\t\t\tj=d.createElement(s),dl=l!='dataLayer'?'&l='+l:'';j.async=true;j.src=\n",
      "\t\t\t\t\t'https://www.googletagmanager.com/gtm.js?id='+i+dl\n",
      "\t\t\t\t\t\t\t\t\t    ;f.parentNode.insertBefore(j,f);\n",
      "\t\t\t\t    })(window,document,'script','dataLayer','GTM-P3S238');</script>\n",
      "\t\t\t<!-- End Google Tag Manager -->\n",
      "\t<title>Mieszkania Kraków na sprzedaż, wynajem - Sprzedajemy.pl</title><meta http-equiv=\"Content-Type\" content=\"text/html; charset=UTF-8\" >\n",
      "<meta http-equiv=\"X-UA-Compatible\" content=\"IE=edge\" >\n",
      "<meta name=\"description\" content=\"Ogłoszenia o tematyce:  w kategorii Mieszkania - Kupuj i sprzedawaj rzeczy używane i nowe w kategorii Mieszkania na Sprzedajemy.pl\" >\n",
      "<meta property=\"og:title\" content=\"Mieszkania Kraków na sprzedaż, wynajem - Sprzedajemy.pl\" >\n",
      "<meta property=\"og:type\" content=\"website\" >\n",
      "<meta property=\"og:image\" content=\"https://thumbs.img-sprzedajemy.pl/facebook/sprzedajemy.pl.png\" >\n",
      "<meta property=\"og:image:width\" content=\"200\" >\n",
      "<meta property=\"og:image:height\" content=\"200\" >\n",
      "<meta property=\"og:url\" content=\"https://sprzedajemy.pl/krakow/nieruchomosci/mieszkania\" >\n",
      "<meta property=\"og:site_name\" content=\"Sprzedajemy.pl\" >\n",
      "<meta property=\"fb:app_id\" content=\"173258269367442\" >\n",
      "<meta property=\"og:description\" content=\"Ogłoszenia o tematyce:  w kategorii Mieszkania - Kupuj i sprzedawaj rzeczy używane i nowe w kategorii Mieszkania na Sprzedajemy.pl\" >\n",
      "<meta name=\"robots\" content=\"noindex, follow\" >\t\t<script  async=\"async\" src=\"https://static.criteo.net/js/ld/publishertag.js\"></script>\n",
      "        <script  async=\"async\" src=\"https://ap.lijit.com/www/sovrn_beacon_standalone/sovrn_standalone_beacon.js?iid=13417409&amp;uid=sprzedajemy\" id=\"sBeacon\"></script>\n",
      "\t\t<script  async=\"async\" src=\"https://securepuba\n",
      "Titles: ['Strych do adaptacji, Błonia, ul. Filarecka', '2 lub 3 pokoje,62m2,balkon, Widok na Wawel', '2 pokoje 41m2 blisko Aquaparku wkrótce tramwaj!', 'Mieszkanie przy Parku Rzecznym Tonie', 'Kraków, Stare Miasto sprzedaż/zamiana', 'Mieszkanie z ogródkiem Zakrzówek', 'Apartament, 2 pokoje, jadalnia, garaż,Krowodrza', '2 pokoje,garaż,wysoki standard,ul.Rakowicka,ENG', 'Nowoczesne, wykończone, z garażem i balkonem', 'Kraków Bronowice Stawowa 168 / 60m2 3 POK/ 22,5 m2 taras/ BEZ POŚREDNIKÓW', 'Wyjątkowe 2 mieszkania w 1, gotowe do wprowadzenia, po remoncie', 'Ogłoszenie mieszkanie 43.56m2 3 pok Kraków', 'Mieszkanie 26m2 2 pok Kraków Kokosowa', 'Mieszkanie na sprzedaż 40m2 3 pokoje Kraków os. Kościuszkowskie', 'Mieszkanie Kraków Konarskiego 37m2 2-pokojowe', 'Do sprzedaży mieszkanie 71m2 2 pok Kraków Wiosenna', 'Mieszkanie 58.66m2 Kraków Teligi', 'Mieszkanie Kraków 96.45m2 4 pokoje', 'Oferta sprzedaży mieszkania Kraków Łokietka 108m2 4 pokojowe', 'Mieszkanie 81m2 4 pok Kraków Kobierzyńska', 'Mieszkanie 95.88m2 4 pokoje Kraków Stare Wiślisko', 'Sprzedaż mieszkania Kraków Wincentego Witosa 67.02m2 3 pokojowe', 'Mieszkanie 2-pokojowe na wynajem', '3 pokoje na wynajem/mieszkanie, inwestycyjne 6%+ ROI', 'Wynajem mieszkania Kraków Mitery 45m2 3 pokoje', 'Sprzedam mieszkanie 137m2 4 pok Kraków Morelowa', 'Kawalerka z widokiem, po remoncie, ul. Racławicka', 'Żabiniec 2 pok.taras m.post w cenie bez prowizji', 'Kawalerka  na sprzedaż', 'Sprzedam mieszkanie/kawalerke', 'Mieszkanie 38.83m2 2 pokoje Kraków Jana Kantego Federowicza', 'Mieszkanie 37.4m2 2 pokoje Kraków Glogera', 'Mieszkanie 65m 3-pokojowe Kraków Widna', 'Mieszkanie 67.57m2 3 pokojowe Kraków Wincentego Witosa', 'Mieszkanie Kraków 55m2 2 pokoje', 'Oferta sprzedaży mieszkania Kraków 42m2 2 pokoje', 'Ogłoszenie mieszkanie Kraków 46m2 2-pokojowe', 'Mieszkanie-Podgórze', 'Bezpośrednio wynajmę 2-pokojowe ul.Batorego po remoncie.', 'Oferta sprzedaży mieszkania 64.59m2 2 pokoje Kraków', 'Mieszkanie do sprzedania 37.35m2 2 pokoje Kraków', 'Wynajmę mieszkanie Kraków 30m2', 'Oferta wynajmu mieszkania Kraków Szuwarowa 34.3m 1-pokojowe', 'Sprzedaż mieszkania 67.08m2 4 pokojowe Kraków zabłocie', 'Mieszkanie Kraków 41m2', 'Mieszkanie Kraków 108 metrów 4 pok', 'Iron Street 2.0 lokal mieszkalny w centrum Krakowa, ul. Kątowa', 'Mieszkanie Kraków 108m2 4 pokoje', 'Mieszkanie sprzedam 32m2 1-pokojowe Kraków Św. Jacka', 'Apartament 40 m2, Kraków Ruczaj Właściciel', 'Mieszkanie 49.6m2 2-pokojowe Kraków', '2 pokoje ogródek miejsce postojowe cicha okolica', 'Ustawne mieszkanie 2 pokojowe, Os. Kazimierzowskie', 'Oferta sprzedaży mieszkania Kraków 51.89m2 2 pokojowe', 'Oferta sprzedaży mieszkania 108 metrów 4 pokojowe Kraków Pilotów', 'Mieszkanie do sprzedania Kraków Krowodrza 84m2 4-pokojowe', 'Mieszkanie 55.24m2 2-pokojowe Kraków Leona Petrażyckiego', 'Oferta sprzedaży mieszkania Kraków Henryka Pachońskiego 45.5m2 3-pokojowe', 'Mieszkanie na sprzedaż 44m2 2 pokoje Kraków', 'Mieszkanie Kraków Mieczysława Pszona 43.3m2 2 pok']\n",
      "60\n",
      "Prices: ['379 999 zł', '1 590 000 zł', '710 000 zł', '550 000 zł', '2 254 000 zł', '470 000 zł', '3 800 zł', '3 000 zł', '990 000 zł', '1 137 500 zł', '1 185 000 zł', '749 000 zł', '355 000 zł', '659 999 zł', '2 500 zł', '1 416 000 zł', '699 000 zł', '1 140 623 zł', '1 450 000 zł', '899 000 zł', '1 109 980 zł', '931 578 zł', '2 600 zł', '675 000 zł', '2 800 zł', '2 000 000 zł', '468 000 zł', '650 000 zł', '595 000 zł', '449 000 zł', '594 252 zł', '660 000 zł', '365 000 zł', '948 640 zł', '609 000 zł', '725 000 zł', '3 100 zł', '660 000 zł', '3 850 zł', '939 000 zł', '690 000 zł', '2 300 zł', '1 900 zł', '1 213 620 zł', '1 800 zł', '859 000 zł', '410 000 zł', '859 000 zł', '567 000 zł', '3 200 zł', '800 000 zł', '584 000 zł', '520 000 zł', '670 000 zł', '859 000 zł', '1 350 000 zł', '760 000 zł', '620 000 zł', '799 000 zł', '649 000 zł']\n",
      "60\n"
     ]
    }
   ],
   "source": [
    "import requests\n",
    "from bs4 import BeautifulSoup\n",
    "import pandas as pd\n",
    "import os\n",
    "\n",
    "url = \"https://sprzedajemy.pl/krakow/nieruchomosci/mieszkania?offset=0&items_per_page=60\"\n",
    "\n",
    "headers = {\n",
    "    \"User-Agent\": \"Mozilla/5.0 (Windows NT 10.0; Win64; x64) AppleWebKit/537.36 (KHTML, like Gecko) Chrome/58.0.3029.110 Safari/537.36\",\n",
    "    \"Accept\": \"text/html,application/xhtml+xml,application/xml;q=0.9,image/webp,image/apng,*/*;q=0.8\",\n",
    "    \"Accept-Encoding\": \"gzip, deflate, br\",\n",
    "    \"Accept-Language\": \"en-US,en;q=0.9,pl;q=0.8\",\n",
    "    \"Connection\": \"keep-alive\"\n",
    "}\n",
    "\n",
    "response = requests.get(url, headers=headers)\n",
    "response = requests.get(url, headers=headers)\n",
    "\n",
    "# Debugowanie odpowiedzi\n",
    "print(f\"Status Code: {response.status_code}\")\n",
    "print(f\"Response Headers: {response.headers}\")\n",
    "print(f\"Response Text (first 2000 chars): {response.text[:2000]}\")\n",
    "\n",
    "# Jeśli odpowiedź jest poprawna, wykonaj webscraping\n",
    "if response.status_code == 200:\n",
    "    soup = BeautifulSoup(response.content, \"html.parser\")\n",
    "\n",
    "    # Pobieranie ofert mieszkań\n",
    "    titles = [h2.a.text.strip() for h2 in soup.find_all(\"h2\", class_=\"title\") if h2.a]\n",
    "    prices = [p.text.replace(\"\\xa0\", \" \").strip() for p in soup.find_all(\"span\", class_=\"price\")]\n",
    "\n",
    "    print(\"Titles:\", titles)\n",
    "    print(len(titles))\n",
    "    print(\"Prices:\", prices)\n",
    "    print(len(prices))\n",
    "\n",
    "    df = pd.DataFrame({\"Title\": titles, \"Price\": prices})\n",
    "\n",
    "    # Dopisanie do pliku CSV\n",
    "    df.to_csv(\"scraped_data.csv\", mode='a', header=not os.path.exists('scraped_data.csv'), index=False)\n",
    "else:\n",
    "    print(\"Failed to retrieve data.\")\n"
   ]
  }
 ],
 "metadata": {
  "colab": {
   "provenance": []
  },
  "kernelspec": {
   "display_name": "Python 3",
   "name": "python3"
  },
  "language_info": {
   "codemirror_mode": {
    "name": "ipython",
    "version": 3
   },
   "file_extension": ".py",
   "mimetype": "text/x-python",
   "name": "python",
   "nbconvert_exporter": "python",
   "pygments_lexer": "ipython3",
   "version": "3.9.21"
  },
  "papermill": {
   "default_parameters": {},
   "duration": 3.135675,
   "end_time": "2025-04-09T18:53:04.061351",
   "environment_variables": {},
   "exception": null,
   "input_path": "nb.ipynb",
   "output_path": "nbo.ipynb",
   "parameters": {},
   "start_time": "2025-04-09T18:53:00.925676",
   "version": "2.6.0"
  }
 },
 "nbformat": 4,
 "nbformat_minor": 5
}