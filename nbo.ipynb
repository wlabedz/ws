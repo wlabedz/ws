{
 "cells": [
  {
   "cell_type": "code",
   "execution_count": 1,
   "id": "a3162511",
   "metadata": {
    "colab": {
     "base_uri": "https://localhost:8080/"
    },
    "execution": {
     "iopub.execute_input": "2025-09-05T15:50:58.291165Z",
     "iopub.status.busy": "2025-09-05T15:50:58.290859Z",
     "iopub.status.idle": "2025-09-05T15:51:00.890046Z",
     "shell.execute_reply": "2025-09-05T15:51:00.889301Z"
    },
    "id": "5pYh4c8j1w43",
    "outputId": "8a0dca73-64e5-4f0d-c493-2c5b38392363",
    "papermill": {
     "duration": 2.602724,
     "end_time": "2025-09-05T15:51:00.891165",
     "exception": false,
     "start_time": "2025-09-05T15:50:58.288441",
     "status": "completed"
    },
    "tags": []
   },
   "outputs": [
    {
     "name": "stdout",
     "output_type": "stream",
     "text": [
      "Status Code: 200\n",
      "Response Headers: {'Server': 'nginx', 'Date': 'Fri, 05 Sep 2025 15:51:00 GMT', 'Content-Type': 'text/html; charset=UTF-8', 'Transfer-Encoding': 'chunked', 'Vary': 'Accept-Encoding, User-Agent', 'Set-Cookie': 'FRSPSID=fi8duq6hsh0oqo72p94d7odfd7; path=/; domain=.sprzedajemy.pl; secure; HttpOnly, _items_per_page__offer_list=60; expires=Sun, 05-Oct-2025 15:51:00 GMT; Max-Age=2592000; path=/; domain=.sprzedajemy.pl; secure; httponly, observed_id=157919507068bb06e45942b955028816125935293; expires=Wed, 05-Sep-2125 16:51:00 GMT; Max-Age=3155677200; path=/; domain=.sprzedajemy.pl; secure; httponly', 'Expires': 'Thu, 19 Nov 1981 08:52:00 GMT', 'Cache-Control': 'no-store, no-cache, must-revalidate, post-check=0, pre-check=0', 'Pragma': 'no-cache', 'Content-Encoding': 'gzip'}\n",
      "Response Text (first 2000 chars): <!DOCTYPE html><html xmlns=\"http://www.w3.org/1999/xhtml\" xml:lang=\"pl\" lang=\"pl\" class=\"no-js\" >\n",
      "<head>\n",
      "\t\t\t<!-- Google Tag Manager -->\n",
      "\t\t\t<script>(function(w,d,s,l,i){w[l]=w[l]||[];w[l].push({'gtm.start':\n",
      "\t\t\t\t\t\tnew Date().getTime(),event:'gtm.js'});var f=d.getElementsByTagName(s)[0],\n",
      "\t\t\t\t\tj=d.createElement(s),dl=l!='dataLayer'?'&l='+l:'';j.async=true;j.src=\n",
      "\t\t\t\t\t'https://www.googletagmanager.com/gtm.js?id='+i+dl\n",
      "\t\t\t\t\t\t\t\t\t    ;f.parentNode.insertBefore(j,f);\n",
      "\t\t\t\t    })(window,document,'script','dataLayer','GTM-P3S238');</script>\n",
      "\t\t\t<!-- End Google Tag Manager -->\n",
      "\t<title>Mieszkania Kraków na sprzedaż, wynajem - Sprzedajemy.pl</title><meta http-equiv=\"Content-Type\" content=\"text/html; charset=UTF-8\" >\n",
      "<meta http-equiv=\"X-UA-Compatible\" content=\"IE=edge\" >\n",
      "<meta name=\"description\" content=\"Ogłoszenia o tematyce:  w kategorii Mieszkania - Kupuj i sprzedawaj rzeczy używane i nowe w kategorii Mieszkania na Sprzedajemy.pl\" >\n",
      "<meta property=\"og:title\" content=\"Mieszkania Kraków na sprzedaż, wynajem - Sprzedajemy.pl\" >\n",
      "<meta property=\"og:type\" content=\"website\" >\n",
      "<meta property=\"og:image\" content=\"https://thumbs.img-sprzedajemy.pl/facebook/sprzedajemy.pl.png\" >\n",
      "<meta property=\"og:image:width\" content=\"200\" >\n",
      "<meta property=\"og:image:height\" content=\"200\" >\n",
      "<meta property=\"og:url\" content=\"https://sprzedajemy.pl/krakow/nieruchomosci/mieszkania\" >\n",
      "<meta property=\"og:site_name\" content=\"Sprzedajemy.pl\" >\n",
      "<meta property=\"fb:app_id\" content=\"173258269367442\" >\n",
      "<meta property=\"og:description\" content=\"Ogłoszenia o tematyce:  w kategorii Mieszkania - Kupuj i sprzedawaj rzeczy używane i nowe w kategorii Mieszkania na Sprzedajemy.pl\" >\n",
      "<meta name=\"robots\" content=\"noindex, follow\" >\t\t<script  async=\"async\" src=\"https://static.criteo.net/js/ld/publishertag.js\"></script>\n",
      "        <script  async=\"async\" src=\"https://ap.lijit.com/www/sovrn_beacon_standalone/sovrn_standalone_beacon.js?iid=13417409&amp;uid=sprzedajemy\" id=\"sBeacon\"></script>\n",
      "\t\t<script  async=\"async\" src=\"https://securepuba\n",
      "Titles: ['Mieszkanie z widokiem na góry', 'Wyjątkowe mieszkanie z widokiem na klasztor w Tyńcu i panoramę Tatr', 'Stylowy apartament z widokiem na panoramę Krakowa - od właściciela', 'Nowoczesny apartament z panoramicznym widokiem - od właściciela', 'Kraków, Stare Miasto sprzedaż/zamiana', 'Stylowy lokal na parterze przy Krowoderskiej', '2-pokojowe mieszkanie po remoncie | PROMOCJA | ul Bronowicka', 'Oferta wynajmu mieszkania 35.84m2 2 pokoje Kraków Romanowicza', 'Mieszkanie Kraków 24.3m 1-pokojowe', 'Ogłoszenie mieszkanie Kraków Pękowicka 52.07m 3 pokojowe', 'Mieszkanie Kraków os. Dywizjonu 303 73m2 3 pokojowe', 'Oferta sprzedaży mieszkania 63.45m2 3-pokojowe Kraków Wadowicka', 'Mieszkanie Kraków 36.09m2', 'Mieszkanie Kraków Pękowicka 51.64m2 3-pokojowe', 'Oferta sprzedaży mieszkania 41.18m2 2-pokojowe Kraków Na Błonie', 'Mieszkanie Kraków Wadowicka 83.1m2 4 pok', 'Mieszkanie Kraków Pękowicka 26.92m2 1 pokój', 'Mieszkanie Kraków 49.86m2 3-pokojowe', 'Mieszkanie 65.46m2 3-pok Kraków Wadowicka', 'Mieszkanie 50.46m2 2-pokojowe Kraków Stefana Banacha', 'Mieszkanie Kraków Na Błonie 52.24m2 2 pokoje', 'Mieszkanie Kraków Na Błonie 40.71 metrów 2 pokojowe', 'Do sprzedaży mieszkanie 55.11m2 3 pokoje Kraków Pękowicka', 'Mieszkanie Kraków Pękowicka 43.13m2', 'Oferta sprzedaży mieszkania 62.82m2 3 pokoje Kraków Pękowicka', 'Mieszkanie 64.33m2 3 pokojowe Kraków Wadowicka', 'Mieszkanie do sprzedania 42.61m2 2 pokoje Kraków Wadowicka', 'Mieszkanie Kraków Na Błonie 41.12m2 1 pokój', 'Oferta sprzedaży mieszkania Kraków 35.05m2 2 pok', 'Mieszkanie 41.16 metrów Kraków', 'Mieszkanie 58m2 3-pokojowe Kraków dr. Jana Piltza', 'Oferta sprzedaży mieszkania Kraków Pękowicka 38.79m2 2-pokojowe', 'Oferta sprzedaży mieszkania Kraków Wadowicka 80.83m2 4-pok', 'Oferta sprzedaży mieszkania 51.54m2 3 pokojowe Kraków Kantrowicka', 'Wynajmę mieszkanie Kraków Bronowicka 64m2 3 pokoje', 'Oferta sprzedaży mieszkania Kraków 58.95m2 3 pokojowe', 'Sprzedam mieszkanie Kraków 25.88m2 1-pok', 'Mieszkanie 24.5m2 Kraków ul. Fatimska', 'Oferta sprzedaży mieszkania 83.1m2 Kraków', 'Mieszkanie 59.82m2 4 pokoje Kraków', 'Sprzedam mieszkanie 73.19m2 3 pokojowe Kraków', 'Mieszkanie Kraków 36.76 metrów 2 pokojowe', 'Mieszkanie Kraków Babińskiego 51.53m2 2 pokojowe', 'Sprzedam mieszkanie 102m2 Kraków', 'Mieszkanie 70.88m2 3-pokojowe Kraków', 'Mieszkanie 124.37m2 4 pokoje Kraków Podłużna - okolice', 'Mieszkanie Kraków Pękowicka 56.34m2 3 pokoje', 'Mieszkanie Kraków Pękowicka 54.95m2 3 pokoje', 'Mieszkanie Kraków Augustiańska 37.35m2 2-pokojowe', 'Mieszkanie 42.1m2 2 pok Kraków Pękowicka', 'Mieszkanie Kraków 34.79m2 2-pok', 'Oferta sprzedaży mieszkania Kraków 50.3m2 3 pokojowe', 'Do sprzedaży mieszkanie Kraków 41.64 metry 2 pokojowe', 'Do sprzedaży mieszkanie Kraków Na Błonie 57.11m2 3-pokojowe', 'Mieszkanie Kraków 56.67m2', 'Mieszkanie 45.27m2 2 pokojowe Kraków Wadowicka', 'Mieszkanie Kraków 60.51 metrów 3 pok', 'Mieszkanie Kraków 50.95m2 2-pokojowe', 'Mieszkanie 39.87m2 2 pokoje Kraków Pękowicka', 'Mieszkanie 64.26m2 3 pokoje Kraków']\n",
      "60\n",
      "Prices: ['265 000 zł', '779 000 zł', '890 000 zł', '997 000 zł', '2 083 000 zł', '1 800 000 zł', '710 000 zł', '3 005 zł', '399 000 zł', '856 551 zł', '900 000 zł', '1 053 270 zł', '479 997 zł', '852 060 zł', '779 784 zł', '1 296 360 zł', '456 294 zł', '703 026 zł', '1 099 728 zł', '799 000 zł', '895 393 zł', '774 914 zł', '890 026 zł', '711 645 zł', '1 014 543 zł', '984 249 zł', '798 937 zł', '768 203 zł', '466 165 zł', '778 541 zł', '1 049 000 zł', '657 490 zł', '1 188 201 zł', '636 519 zł', '3 990 zł', '1 055 912 zł', '446 430 zł', '450 000 zł', '1 312 980 zł', '969 084 zł', '1 150 000 zł', '691 817 zł', '948 152 zł', '1 725 000 zł', '1 169 520 zł', '2 176 475 zł', '966 231 zł', '890 190 zł', '897 000 zł', '688 335 zł', '495 757 zł', '724 320 zł', '722 454 zł', '1 058 305 zł', '849 000 zł', '855 603 zł', '1 096 199 zł', '845 770 zł', '673 803 zł', '1 111 698 zł']\n",
      "60\n"
     ]
    }
   ],
   "source": [
    "import requests\n",
    "from bs4 import BeautifulSoup\n",
    "import pandas as pd\n",
    "import os\n",
    "\n",
    "url = \"https://sprzedajemy.pl/krakow/nieruchomosci/mieszkania?offset=0&items_per_page=60\"\n",
    "\n",
    "headers = {\n",
    "    \"User-Agent\": \"Mozilla/5.0 (Windows NT 10.0; Win64; x64) AppleWebKit/537.36 (KHTML, like Gecko) Chrome/58.0.3029.110 Safari/537.36\",\n",
    "    \"Accept\": \"text/html,application/xhtml+xml,application/xml;q=0.9,image/webp,image/apng,*/*;q=0.8\",\n",
    "    \"Accept-Encoding\": \"gzip, deflate, br\",\n",
    "    \"Accept-Language\": \"en-US,en;q=0.9,pl;q=0.8\",\n",
    "    \"Connection\": \"keep-alive\"\n",
    "}\n",
    "\n",
    "response = requests.get(url, headers=headers)\n",
    "response = requests.get(url, headers=headers)\n",
    "\n",
    "# Debugowanie odpowiedzi\n",
    "print(f\"Status Code: {response.status_code}\")\n",
    "print(f\"Response Headers: {response.headers}\")\n",
    "print(f\"Response Text (first 2000 chars): {response.text[:2000]}\")\n",
    "\n",
    "# Jeśli odpowiedź jest poprawna, wykonaj webscraping\n",
    "if response.status_code == 200:\n",
    "    soup = BeautifulSoup(response.content, \"html.parser\")\n",
    "\n",
    "    # Pobieranie ofert mieszkań\n",
    "    titles = [h2.a.text.strip() for h2 in soup.find_all(\"h2\", class_=\"title\") if h2.a]\n",
    "    prices = [p.text.replace(\"\\xa0\", \" \").strip() for p in soup.find_all(\"span\", class_=\"price\")]\n",
    "\n",
    "    print(\"Titles:\", titles)\n",
    "    print(len(titles))\n",
    "    print(\"Prices:\", prices)\n",
    "    print(len(prices))\n",
    "\n",
    "    df = pd.DataFrame({\"Title\": titles, \"Price\": prices})\n",
    "\n",
    "    # Dopisanie do pliku CSV\n",
    "    df.to_csv(\"scraped_data.csv\", mode='a', header=not os.path.exists('scraped_data.csv'), index=False)\n",
    "else:\n",
    "    print(\"Failed to retrieve data.\")\n"
   ]
  }
 ],
 "metadata": {
  "colab": {
   "provenance": []
  },
  "kernelspec": {
   "display_name": "Python 3",
   "name": "python3"
  },
  "language_info": {
   "codemirror_mode": {
    "name": "ipython",
    "version": 3
   },
   "file_extension": ".py",
   "mimetype": "text/x-python",
   "name": "python",
   "nbconvert_exporter": "python",
   "pygments_lexer": "ipython3",
   "version": "3.9.23"
  },
  "papermill": {
   "default_parameters": {},
   "duration": 3.702625,
   "end_time": "2025-09-05T15:51:01.108048",
   "environment_variables": {},
   "exception": null,
   "input_path": "nb.ipynb",
   "output_path": "nbo.ipynb",
   "parameters": {},
   "start_time": "2025-09-05T15:50:57.405423",
   "version": "2.6.0"
  }
 },
 "nbformat": 4,
 "nbformat_minor": 5
}