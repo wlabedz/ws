{
 "cells": [
  {
   "cell_type": "code",
   "execution_count": 1,
   "id": "df4cc625",
   "metadata": {
    "colab": {
     "base_uri": "https://localhost:8080/"
    },
    "execution": {
     "iopub.execute_input": "2025-08-28T19:49:40.744294Z",
     "iopub.status.busy": "2025-08-28T19:49:40.744095Z",
     "iopub.status.idle": "2025-08-28T19:49:42.925868Z",
     "shell.execute_reply": "2025-08-28T19:49:42.925101Z"
    },
    "id": "5pYh4c8j1w43",
    "outputId": "8a0dca73-64e5-4f0d-c493-2c5b38392363",
    "papermill": {
     "duration": 2.184988,
     "end_time": "2025-08-28T19:49:42.927043",
     "exception": false,
     "start_time": "2025-08-28T19:49:40.742055",
     "status": "completed"
    },
    "tags": []
   },
   "outputs": [
    {
     "name": "stdout",
     "output_type": "stream",
     "text": [
      "Status Code: 200\n",
      "Response Headers: {'Server': 'nginx', 'Date': 'Thu, 28 Aug 2025 19:49:42 GMT', 'Content-Type': 'text/html; charset=UTF-8', 'Transfer-Encoding': 'chunked', 'Vary': 'Accept-Encoding, User-Agent', 'Set-Cookie': 'FRSPSID=gtbjoli7laoofsb5o34g39s8h4; path=/; domain=.sprzedajemy.pl; secure; HttpOnly, _items_per_page__offer_list=60; expires=Sat, 27-Sep-2025 19:49:42 GMT; Max-Age=2592000; path=/; domain=.sprzedajemy.pl; secure; httponly, observed_id=148299025268b0b2d6790e70144478272774288425; expires=Tue, 28-Aug-2125 20:49:42 GMT; Max-Age=3155677200; path=/; domain=.sprzedajemy.pl; secure; httponly', 'Expires': 'Thu, 19 Nov 1981 08:52:00 GMT', 'Cache-Control': 'no-store, no-cache, must-revalidate, post-check=0, pre-check=0', 'Pragma': 'no-cache', 'Content-Encoding': 'gzip'}\n",
      "Response Text (first 2000 chars): <!DOCTYPE html><html xmlns=\"http://www.w3.org/1999/xhtml\" xml:lang=\"pl\" lang=\"pl\" class=\"no-js\" >\n",
      "<head>\n",
      "\t\t\t<!-- Google Tag Manager -->\n",
      "\t\t\t<script>(function(w,d,s,l,i){w[l]=w[l]||[];w[l].push({'gtm.start':\n",
      "\t\t\t\t\t\tnew Date().getTime(),event:'gtm.js'});var f=d.getElementsByTagName(s)[0],\n",
      "\t\t\t\t\tj=d.createElement(s),dl=l!='dataLayer'?'&l='+l:'';j.async=true;j.src=\n",
      "\t\t\t\t\t'https://www.googletagmanager.com/gtm.js?id='+i+dl\n",
      "\t\t\t\t\t\t\t\t\t    ;f.parentNode.insertBefore(j,f);\n",
      "\t\t\t\t    })(window,document,'script','dataLayer','GTM-P3S238');</script>\n",
      "\t\t\t<!-- End Google Tag Manager -->\n",
      "\t<title>Mieszkania Kraków na sprzedaż, wynajem - Sprzedajemy.pl</title><meta http-equiv=\"Content-Type\" content=\"text/html; charset=UTF-8\" >\n",
      "<meta http-equiv=\"X-UA-Compatible\" content=\"IE=edge\" >\n",
      "<meta name=\"description\" content=\"Ogłoszenia o tematyce:  w kategorii Mieszkania - Kupuj i sprzedawaj rzeczy używane i nowe w kategorii Mieszkania na Sprzedajemy.pl\" >\n",
      "<meta property=\"og:title\" content=\"Mieszkania Kraków na sprzedaż, wynajem - Sprzedajemy.pl\" >\n",
      "<meta property=\"og:type\" content=\"website\" >\n",
      "<meta property=\"og:image\" content=\"https://thumbs.img-sprzedajemy.pl/facebook/sprzedajemy.pl.png\" >\n",
      "<meta property=\"og:image:width\" content=\"200\" >\n",
      "<meta property=\"og:image:height\" content=\"200\" >\n",
      "<meta property=\"og:url\" content=\"https://sprzedajemy.pl/krakow/nieruchomosci/mieszkania\" >\n",
      "<meta property=\"og:site_name\" content=\"Sprzedajemy.pl\" >\n",
      "<meta property=\"fb:app_id\" content=\"173258269367442\" >\n",
      "<meta property=\"og:description\" content=\"Ogłoszenia o tematyce:  w kategorii Mieszkania - Kupuj i sprzedawaj rzeczy używane i nowe w kategorii Mieszkania na Sprzedajemy.pl\" >\n",
      "<meta name=\"robots\" content=\"noindex, follow\" >\t\t<script  async=\"async\" src=\"https://static.criteo.net/js/ld/publishertag.js\"></script>\n",
      "        <script  async=\"async\" src=\"https://ap.lijit.com/www/sovrn_beacon_standalone/sovrn_standalone_beacon.js?iid=13417409&amp;uid=sprzedajemy\" id=\"sBeacon\"></script>\n",
      "\t\t<script  async=\"async\" src=\"https://securepuba\n",
      "Titles: ['Kraków, Stare Miasto sprzedaż/zamiana', '3 niezależne lokale z KW– inwestycja z potencjałem', '2-pokojowe mieszkanie po remoncie | PROMOCJA | ul Bronowicka', 'Mieszkanie Kraków 43m2 2 pokojowe', 'Mieszkanie Kraków Banacha 47.54m2 2-pokojowe', 'Mieszkanie 32.2m2 2 pokojowe Kraków', 'Mieszkanie Kraków 42m2 2 pokoje', 'Mieszkanie Kraków Powstańców 46.95m2 3 pokoje', 'Mieszkanie Kraków 73.4m2 3 pokoje', 'Mieszkanie 81m2 4 pok Kraków Kobierzyńska', 'Mieszkanie Kraków Żmujdzka 67.86m2 4-pokojowe', 'Mieszkanie 76.21m2 3 pokoje Kraków Armii Krajowej', 'Mieszkanie Kraków Komuny Paryskiej 78m2 3-pokojowe', 'Mieszkanie do sprzedania 50 metrów 2 pok Kraków mjr. Ryszarda Nuszkiewicza', 'Oferta wynajmu mieszkania Kraków Górników 40.41 metrów 2 pokojowe', '55m², 3-pokojowe, w bloku na Starym Mieście, Kraków, ul. Wielopole', 'sprzedam mieszkanie w Krakowie', 'Mieszkanie Kraków 76.94m2 3 pokojowe', 'Oferta sprzedaży mieszkania Kraków Aleja Kijowska 41.39m2 2 pokoje', 'Mieszkanie Kraków 41.04m2 2-pokojowe', 'Mieszkanie 44.91m2 2 pokoje Kraków', 'Oferta sprzedaży mieszkania Kraków Aleja Kijowska 41.4m2 2 pokoje', 'Wygodna inwestycja! Wyposażone mieszkanie dwupokojowe na Grzegórzkach', 'Mieszkanie 66.9m2 3-pokojowe Kraków Makowa', 'NOWA CENA 3-pokojowy apartament 59,5m2 na kameralnym osiedlu - Bronowice', 'Mieszkanie Kraków 56.5m2 2 pokoje', 'Oferta wynajmu mieszkania 35.84m2 2 pokoje Kraków Romanowicza', 'Kraków – 2 pokojowy apartament w wysokim standardzie w inwestycji – Piasta…', 'Dom - Kraków Tonie - Zielona okolica - 123 m2 | 5 - pok. | Ogród | Taras |…', 'Kawalerka 27m2 w kamienicy z parkingiem – Prądnik Czerwony, inwestycja', 'Mieszkanie Kraków os. 2 Pułku Lotniczego 64m2 3 pokoje', 'Mieszkanie Luxusowe - Podgórze Duchackie', 'Mieszkanie 55.75m2 Kraków 29 listopada - okolice', 'Mieszkanie 72 M2 Kraków', 'Nowe I Wykończone I 4-pok. I Bez PCC i Prowizji', 'Mieszkanie do sprzedania Kraków 50.12m2 2 pokoje', '42m2 z miejscem parkingowym OSIEDLE WIELICZKA PARK', 'Mieszkanie 45.69 metrów 2 pokojowe Kraków', 'Mieszkanie 34.49m2+Loggia os. 2 Pułku Lotniczego', 'Mieszkanie 48.5m2 2 pokojowe Kraków Szuwarowa', 'Mieszkanie 80m 4 pokoje Kraków', 'Sprzedam mieszkanie Kraków 52m2 2-pokojowe', 'Oferta sprzedaży mieszkania Kraków os. Na Lotnisku 37.12m2 2 pokojowe', 'Mieszkanie ul. Grodzka | 90m od Rynku Głównego!', 'Mieszkanie 46.23m2 2 pokoje Kraków Jana Kantego Federowicza', 'Mieszkanie Kraków dr. Jana Piltza 36.89m2 2-pok', 'Mieszkanie Kraków 45m2 2-pokojowe', '4-pokojowe mieszkanie w nowo wybudowanym budynku', 'Mieszkanie na sprzedaż 53.5m2 2 pokoje Kraków', 'mieszkanie 2 pokojow dla 1-2 osób od października', 'Bezpośrednio wynajmę 2-pokojowe ul.Batorego po remoncie.', 'Sprzedam mieszkanie po remoncie na os. Hutniczym', 'Czyżyny - 1 pokojowe z dużym balkonem, 2018r', 'Mieszkanie 59.17m2 3-pokojowe Kraków Bieżanów', 'Strych, Błonia, ul. Filarecka, Rezerwacja', 'Oferta sprzedaży mieszkania Kraków 42.14m 2 pokoje', 'Kraków – Prądnik Biały – ul. Pachońskiego – 2 pokoje – 36 m² – BALKON', 'Duża kawalerka - Kraków – Salwator – ul. Kościuszki – 2 pokoje – 35 m²', '5 min do centrum - 2-pokojowe mieszkanie 48 m² – wysoki standard', 'Mieszkanie Kraków Westerplatte 41m2 1 pokój']\n",
      "60\n",
      "Prices: ['2 083 000 zł', '265 000 zł', '710 000 zł', '534 700 zł', '728 000 zł', '690 000 zł', '998 000 zł', '2 900 zł', '5 500 zł', '899 000 zł', '1 219 000 zł', '1 340 000 zł', '999 000 zł', '799 000 zł', '3 000 zł', '4 600 zł', '1 500 000 zł', '1 198 000 zł', '922 955 zł', '902 838 zł', '996 957 zł', '931 458 zł', '749 000 zł', '3 500 zł', '939 000 zł', '6 500 zł', '3 005 zł', '799 000 zł', '2 275 000 zł', '369 000 zł', '780 000 zł', '628 000 zł', '756 514 zł', '3 500 zł', '969 000 zł', '744 840 zł', '550 000 zł', '639 000 zł', '552 000 zł', '2 900 zł', '1 120 000 zł', '750 000 zł', '488 000 zł', '1 270 000 zł', '779 000 zł', '619 500 zł', '2 350 zł', '846 000 zł', '1 099 000 zł', '3 000 zł', '3 850 zł', '595 000 zł', '584 000 zł', '780 000 zł', '389 999 zł', '611 030 zł', '2 800 zł', '2 800 zł', '3 550 zł', '2 800 zł']\n",
      "60\n"
     ]
    }
   ],
   "source": [
    "import requests\n",
    "from bs4 import BeautifulSoup\n",
    "import pandas as pd\n",
    "import os\n",
    "\n",
    "url = \"https://sprzedajemy.pl/krakow/nieruchomosci/mieszkania?offset=0&items_per_page=60\"\n",
    "\n",
    "headers = {\n",
    "    \"User-Agent\": \"Mozilla/5.0 (Windows NT 10.0; Win64; x64) AppleWebKit/537.36 (KHTML, like Gecko) Chrome/58.0.3029.110 Safari/537.36\",\n",
    "    \"Accept\": \"text/html,application/xhtml+xml,application/xml;q=0.9,image/webp,image/apng,*/*;q=0.8\",\n",
    "    \"Accept-Encoding\": \"gzip, deflate, br\",\n",
    "    \"Accept-Language\": \"en-US,en;q=0.9,pl;q=0.8\",\n",
    "    \"Connection\": \"keep-alive\"\n",
    "}\n",
    "\n",
    "response = requests.get(url, headers=headers)\n",
    "response = requests.get(url, headers=headers)\n",
    "\n",
    "# Debugowanie odpowiedzi\n",
    "print(f\"Status Code: {response.status_code}\")\n",
    "print(f\"Response Headers: {response.headers}\")\n",
    "print(f\"Response Text (first 2000 chars): {response.text[:2000]}\")\n",
    "\n",
    "# Jeśli odpowiedź jest poprawna, wykonaj webscraping\n",
    "if response.status_code == 200:\n",
    "    soup = BeautifulSoup(response.content, \"html.parser\")\n",
    "\n",
    "    # Pobieranie ofert mieszkań\n",
    "    titles = [h2.a.text.strip() for h2 in soup.find_all(\"h2\", class_=\"title\") if h2.a]\n",
    "    prices = [p.text.replace(\"\\xa0\", \" \").strip() for p in soup.find_all(\"span\", class_=\"price\")]\n",
    "\n",
    "    print(\"Titles:\", titles)\n",
    "    print(len(titles))\n",
    "    print(\"Prices:\", prices)\n",
    "    print(len(prices))\n",
    "\n",
    "    df = pd.DataFrame({\"Title\": titles, \"Price\": prices})\n",
    "\n",
    "    # Dopisanie do pliku CSV\n",
    "    df.to_csv(\"scraped_data.csv\", mode='a', header=not os.path.exists('scraped_data.csv'), index=False)\n",
    "else:\n",
    "    print(\"Failed to retrieve data.\")\n"
   ]
  }
 ],
 "metadata": {
  "colab": {
   "provenance": []
  },
  "kernelspec": {
   "display_name": "Python 3",
   "name": "python3"
  },
  "language_info": {
   "codemirror_mode": {
    "name": "ipython",
    "version": 3
   },
   "file_extension": ".py",
   "mimetype": "text/x-python",
   "name": "python",
   "nbconvert_exporter": "python",
   "pygments_lexer": "ipython3",
   "version": "3.9.23"
  },
  "papermill": {
   "default_parameters": {},
   "duration": 3.314721,
   "end_time": "2025-08-28T19:49:43.143569",
   "environment_variables": {},
   "exception": null,
   "input_path": "nb.ipynb",
   "output_path": "nbo.ipynb",
   "parameters": {},
   "start_time": "2025-08-28T19:49:39.828848",
   "version": "2.6.0"
  }
 },
 "nbformat": 4,
 "nbformat_minor": 5
}