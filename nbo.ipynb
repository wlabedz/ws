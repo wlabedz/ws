{
 "cells": [
  {
   "cell_type": "code",
   "execution_count": 1,
   "id": "79d37b62",
   "metadata": {
    "colab": {
     "base_uri": "https://localhost:8080/"
    },
    "execution": {
     "iopub.execute_input": "2025-04-19T08:14:50.787115Z",
     "iopub.status.busy": "2025-04-19T08:14:50.786828Z",
     "iopub.status.idle": "2025-04-19T08:14:52.857749Z",
     "shell.execute_reply": "2025-04-19T08:14:52.857176Z"
    },
    "id": "5pYh4c8j1w43",
    "outputId": "8a0dca73-64e5-4f0d-c493-2c5b38392363",
    "papermill": {
     "duration": 2.074714,
     "end_time": "2025-04-19T08:14:52.858977",
     "exception": false,
     "start_time": "2025-04-19T08:14:50.784263",
     "status": "completed"
    },
    "tags": []
   },
   "outputs": [
    {
     "name": "stdout",
     "output_type": "stream",
     "text": [
      "Status Code: 200\n",
      "Response Headers: {'Server': 'nginx', 'Date': 'Sat, 19 Apr 2025 08:14:52 GMT', 'Content-Type': 'text/html; charset=UTF-8', 'Transfer-Encoding': 'chunked', 'Vary': 'Accept-Encoding, User-Agent', 'Set-Cookie': 'FRSPSID=c9dkj5lrrdkbk3hf738j4kghm2; path=/; domain=.sprzedajemy.pl; secure; HttpOnly, _items_per_page__offer_list=60; expires=Mon, 19-May-2025 08:14:52 GMT; Max-Age=2592000; path=/; domain=.sprzedajemy.pl; secure; httponly, observed_id=55478965268035b7c6bd870138879134142982740; expires=Thu, 19-Apr-2125 09:14:52 GMT; Max-Age=3155677200; path=/; domain=.sprzedajemy.pl; secure; httponly', 'Expires': 'Thu, 19 Nov 1981 08:52:00 GMT', 'Cache-Control': 'no-store, no-cache, must-revalidate, post-check=0, pre-check=0', 'Pragma': 'no-cache', 'Content-Encoding': 'gzip'}\n",
      "Response Text (first 2000 chars): <!DOCTYPE html><html xmlns=\"http://www.w3.org/1999/xhtml\" xml:lang=\"pl\" lang=\"pl\" class=\"no-js\" >\n",
      "<head>\n",
      "\t\t\t<!-- Google Tag Manager -->\n",
      "\t\t\t<script>(function(w,d,s,l,i){w[l]=w[l]||[];w[l].push({'gtm.start':\n",
      "\t\t\t\t\t\tnew Date().getTime(),event:'gtm.js'});var f=d.getElementsByTagName(s)[0],\n",
      "\t\t\t\t\tj=d.createElement(s),dl=l!='dataLayer'?'&l='+l:'';j.async=true;j.src=\n",
      "\t\t\t\t\t'https://www.googletagmanager.com/gtm.js?id='+i+dl\n",
      "\t\t\t\t\t\t\t\t\t    ;f.parentNode.insertBefore(j,f);\n",
      "\t\t\t\t    })(window,document,'script','dataLayer','GTM-P3S238');</script>\n",
      "\t\t\t<!-- End Google Tag Manager -->\n",
      "\t<title>Mieszkania Kraków na sprzedaż, wynajem - Sprzedajemy.pl</title><meta http-equiv=\"Content-Type\" content=\"text/html; charset=UTF-8\" >\n",
      "<meta http-equiv=\"X-UA-Compatible\" content=\"IE=edge\" >\n",
      "<meta name=\"description\" content=\"Ogłoszenia o tematyce:  w kategorii Mieszkania - Kupuj i sprzedawaj rzeczy używane i nowe w kategorii Mieszkania na Sprzedajemy.pl\" >\n",
      "<meta property=\"og:title\" content=\"Mieszkania Kraków na sprzedaż, wynajem - Sprzedajemy.pl\" >\n",
      "<meta property=\"og:type\" content=\"website\" >\n",
      "<meta property=\"og:image\" content=\"https://thumbs.img-sprzedajemy.pl/facebook/sprzedajemy.pl.png\" >\n",
      "<meta property=\"og:image:width\" content=\"200\" >\n",
      "<meta property=\"og:image:height\" content=\"200\" >\n",
      "<meta property=\"og:url\" content=\"https://sprzedajemy.pl/krakow/nieruchomosci/mieszkania\" >\n",
      "<meta property=\"og:site_name\" content=\"Sprzedajemy.pl\" >\n",
      "<meta property=\"fb:app_id\" content=\"173258269367442\" >\n",
      "<meta property=\"og:description\" content=\"Ogłoszenia o tematyce:  w kategorii Mieszkania - Kupuj i sprzedawaj rzeczy używane i nowe w kategorii Mieszkania na Sprzedajemy.pl\" >\n",
      "<meta name=\"robots\" content=\"noindex, follow\" >\t\t<script  async=\"async\" src=\"https://static.criteo.net/js/ld/publishertag.js\"></script>\n",
      "        <script  async=\"async\" src=\"https://ap.lijit.com/www/sovrn_beacon_standalone/sovrn_standalone_beacon.js?iid=13417409&amp;uid=sprzedajemy\" id=\"sBeacon\"></script>\n",
      "\t\t<script  async=\"async\" src=\"https://securepuba\n",
      "Titles: ['Strych do adaptacji, Błonia, ul. Filarecka', '2 lub 3 pokoje,62m2,balkon, Widok na Wawel', 'Mieszkanie z ogródkiem Zakrzówek bezczynszowe', '2 pokoje 41m2 blisko Aquaparku wkrótce tramwaj!', 'Mieszkanie przy Parku Rzecznym Tonie', 'Kraków, Stare Miasto sprzedaż/zamiana', 'Apartament, 2 pokoje, jadalnia, garaż,Krowodrza', '2 pokoje,garaż,wysoki standard,ul.Rakowicka,ENG', 'M2 dwustronne Bieńczyce dostępne do 25 kwietnia', 'Nowoczesne, wykończone, z garażem i balkonem', 'Mieszkanie na sprzedaż/zamiana 39m2', 'Sprzedam mieszkanie 45.26m2 2 pok Kraków', 'Sprzedam mieszkanie 48.74m2 2-pokojowe Kraków', 'Bezpośrednio wynajmę 2-pokojowe ul.Batorego po remoncie.', 'Sprzedaż mieszkania 45.26m2 2-pokojowe Kraków', 'Sprzedam mieszkanie 54.51m2 3 pokojowe Kraków', 'Mieszkanie Kraków zabłocie 39.15m2 2 pokoje', 'Mieszkanie Kraków zabłocie 45.26 metrów 2-pokojowe', 'Mieszkanie Kraków os. Piastów 63.12m2 3 pokojowe', 'Mieszkanie 42.88m2 2-pok Kraków Józefa Łepkowskiego', 'Mieszkanie 42.87m2 2-pokojowe Kraków', 'Mieszkanie Kraków Józefa Łepkowskiego 47m2 2 pokoje', 'Mieszkanie na sprzedaż 45.26m2 2 pokoje Kraków zabłocie', 'Mieszkanie 47m2 3 pokoje Kraków os. Piastów', 'Oferta sprzedaży mieszkania Kraków Św. Jacka 36m2 1 pokój', 'Mieszkanie 39.14m2 2 pokoje Kraków zabłocie', 'Mieszkanie 63.43m2 Kraków', 'Mieszkanie 38.76m2 2-pokojowe Kraków Józefa Łepkowskiego', 'Mieszkanie do sprzedania 42.88m2 2-pokojowe Kraków', 'Mieszkanie 77.24m2 3 pokojowe Kraków Krakowska', 'Mieszkanie sprzedam Kraków Józefa Łepkowskiego 38.76m2 2 pokoje', 'Iron Street 2.0 lokal mieszkalny w centrum Krakowa, ul. Kątowa', 'Mieszkanie 32.63m2 2-pokojowe Kraków Józefa Łepkowskiego', 'Mieszkanie Kraków os. Kalinowe 24m2', 'Mieszkanie do sprzedania Kraków 50.58m2 2-pokojowe', 'Mieszkanie Kraków Józefa Łepkowskiego 45.4m 2 pokoje', 'Do sprzedaży mieszkanie 43m2 2 pokoje Kraków Siewna', 'Mieszkanie Kraków Reduta 77.27 metrów 3 pok', 'Ogłoszenie mieszkanie Kraków 54.27m2 3 pokoje', 'Mieszkanie Kraków al. Kijowska 30.5m2 1 pokojowe', 'Oferta wynajmu mieszkania Kraków Jerozolimska 52m2 2 pokojowe', 'Mieszkanie Kraków bp. Albina Małysiaka 42.03m2 2-pokojowe', 'Oferta sprzedaży mieszkania Kraków Józefa Łepkowskiego 41.76m2 2-pok', 'Mieszkanie 37.24m2 2 pokoje Kraków Stachiewicza', 'Apartament 40 m2, Kraków Ruczaj Właściciel', 'Mieszkanie 53.61m2 2-pok Kraków Rozdroże', 'Mieszkanie Kraków Dobrego Pasterza 50.22m2 2 pokojowe', 'Mieszkanie Kraków Siewna 53m2 2-pokojowe', 'Mieszkanie 53.08 metrów 3 pokojowe Kraków', 'Mieszkanie 32.63m2 2 pokoje Kraków Józefa Łepkowskiego', 'Mieszkanie Kraków Józefa Łepkowskiego 38.76m2 2-pokojowe', 'Oferta sprzedaży mieszkania 35.44m2 2 pokojowe Kraków', 'Mieszkanie do sprzedania Kraków Józefa Łepkowskiego 41.7m2 2 pok', 'Mieszkanie 140 metrów 3 pok Kraków', 'Oferta sprzedaży mieszkania Kraków os. Piastów 66.72 metry 3-pokojowe', 'Mieszkanie sprzedam Kraków Józefa Łepkowskiego 38.76m2 2 pokojowe', 'Mieszkanie 39.5m2 2 pokojowe Kraków Teligi', 'Ogłoszenie mieszkanie 33 metry 1 pokojowe Kraków', 'Sprzedam mieszkanie 42.88m2 2 pokoje Kraków Józefa Łepkowskiego', 'Mieszkanie 56.89m2 2 pokoje Kraków']\n",
      "60\n",
      "Prices: ['379 999 zł', '1 590 000 zł', '460 000 zł', '710 000 zł', '550 000 zł', '2 254 000 zł', '3 800 zł', '3 000 zł', '599 000 zł', '990 000 zł', '548 000 zł', '840 696 zł', '690 000 zł', '3 850 zł', '887 221 zł', '928 000 zł', '770 445 zł', '867 350 zł', '789 000 zł', '733 248 zł', '647 292 zł', '766 100 zł', '875 136 zł', '2 700 zł', '650 000 zł', '779 135 zł', '1 033 909 zł', '662 796 zł', '741 824 zł', '1 250 000 zł', '670 548 zł', '410 000 zł', '544 921 zł', '409 000 zł', '790 000 zł', '794 500 zł', '750 000 zł', '1 334 176 zł', '735 000 zł', '798 000 zł', '3 500 zł', '684 000 zł', '680 688 zł', '550 000 zł', '3 200 zł', '820 000 zł', '780 000 zł', '699 000 zł', '669 000 zł', '544 921 zł', '647 292 zł', '650 000 zł', '696 390 zł', '9 000 zł', '834 000 zł', '678 300 zł', '2 400 zł', '1 850 zł', '716 096 zł', '990 000 zł']\n",
      "60\n"
     ]
    }
   ],
   "source": [
    "import requests\n",
    "from bs4 import BeautifulSoup\n",
    "import pandas as pd\n",
    "import os\n",
    "\n",
    "url = \"https://sprzedajemy.pl/krakow/nieruchomosci/mieszkania?offset=0&items_per_page=60\"\n",
    "\n",
    "headers = {\n",
    "    \"User-Agent\": \"Mozilla/5.0 (Windows NT 10.0; Win64; x64) AppleWebKit/537.36 (KHTML, like Gecko) Chrome/58.0.3029.110 Safari/537.36\",\n",
    "    \"Accept\": \"text/html,application/xhtml+xml,application/xml;q=0.9,image/webp,image/apng,*/*;q=0.8\",\n",
    "    \"Accept-Encoding\": \"gzip, deflate, br\",\n",
    "    \"Accept-Language\": \"en-US,en;q=0.9,pl;q=0.8\",\n",
    "    \"Connection\": \"keep-alive\"\n",
    "}\n",
    "\n",
    "response = requests.get(url, headers=headers)\n",
    "response = requests.get(url, headers=headers)\n",
    "\n",
    "# Debugowanie odpowiedzi\n",
    "print(f\"Status Code: {response.status_code}\")\n",
    "print(f\"Response Headers: {response.headers}\")\n",
    "print(f\"Response Text (first 2000 chars): {response.text[:2000]}\")\n",
    "\n",
    "# Jeśli odpowiedź jest poprawna, wykonaj webscraping\n",
    "if response.status_code == 200:\n",
    "    soup = BeautifulSoup(response.content, \"html.parser\")\n",
    "\n",
    "    # Pobieranie ofert mieszkań\n",
    "    titles = [h2.a.text.strip() for h2 in soup.find_all(\"h2\", class_=\"title\") if h2.a]\n",
    "    prices = [p.text.replace(\"\\xa0\", \" \").strip() for p in soup.find_all(\"span\", class_=\"price\")]\n",
    "\n",
    "    print(\"Titles:\", titles)\n",
    "    print(len(titles))\n",
    "    print(\"Prices:\", prices)\n",
    "    print(len(prices))\n",
    "\n",
    "    df = pd.DataFrame({\"Title\": titles, \"Price\": prices})\n",
    "\n",
    "    # Dopisanie do pliku CSV\n",
    "    df.to_csv(\"scraped_data.csv\", mode='a', header=not os.path.exists('scraped_data.csv'), index=False)\n",
    "else:\n",
    "    print(\"Failed to retrieve data.\")\n"
   ]
  }
 ],
 "metadata": {
  "colab": {
   "provenance": []
  },
  "kernelspec": {
   "display_name": "Python 3",
   "name": "python3"
  },
  "language_info": {
   "codemirror_mode": {
    "name": "ipython",
    "version": 3
   },
   "file_extension": ".py",
   "mimetype": "text/x-python",
   "name": "python",
   "nbconvert_exporter": "python",
   "pygments_lexer": "ipython3",
   "version": "3.9.22"
  },
  "papermill": {
   "default_parameters": {},
   "duration": 3.186921,
   "end_time": "2025-04-19T08:14:53.077268",
   "environment_variables": {},
   "exception": null,
   "input_path": "nb.ipynb",
   "output_path": "nbo.ipynb",
   "parameters": {},
   "start_time": "2025-04-19T08:14:49.890347",
   "version": "2.6.0"
  }
 },
 "nbformat": 4,
 "nbformat_minor": 5
}