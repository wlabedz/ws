{
 "cells": [
  {
   "cell_type": "code",
   "execution_count": 1,
   "id": "4071f0d8",
   "metadata": {
    "colab": {
     "base_uri": "https://localhost:8080/"
    },
    "execution": {
     "iopub.execute_input": "2025-06-10T22:33:58.115889Z",
     "iopub.status.busy": "2025-06-10T22:33:58.115501Z",
     "iopub.status.idle": "2025-06-10T22:34:00.838882Z",
     "shell.execute_reply": "2025-06-10T22:34:00.838351Z"
    },
    "id": "5pYh4c8j1w43",
    "outputId": "8a0dca73-64e5-4f0d-c493-2c5b38392363",
    "papermill": {
     "duration": 2.726579,
     "end_time": "2025-06-10T22:34:00.840016",
     "exception": false,
     "start_time": "2025-06-10T22:33:58.113437",
     "status": "completed"
    },
    "tags": []
   },
   "outputs": [
    {
     "name": "stdout",
     "output_type": "stream",
     "text": [
      "Status Code: 200\n",
      "Response Headers: {'Server': 'nginx', 'Date': 'Tue, 10 Jun 2025 22:34:00 GMT', 'Content-Type': 'text/html; charset=UTF-8', 'Transfer-Encoding': 'chunked', 'Vary': 'Accept-Encoding, User-Agent', 'Set-Cookie': 'FRSPSID=cb6q5ltk96rbu6ninuvl6qvpi2; path=/; domain=.sprzedajemy.pl; secure; HttpOnly, _items_per_page__offer_list=60; expires=Thu, 10-Jul-2025 22:34:00 GMT; Max-Age=2592000; path=/; domain=.sprzedajemy.pl; secure; httponly, observed_id=4745528396848b2d852edb911683198839919576; expires=Sun, 10-Jun-2125 23:34:00 GMT; Max-Age=3155677200; path=/; domain=.sprzedajemy.pl; secure; httponly', 'Expires': 'Thu, 19 Nov 1981 08:52:00 GMT', 'Cache-Control': 'no-store, no-cache, must-revalidate, post-check=0, pre-check=0', 'Pragma': 'no-cache', 'Content-Encoding': 'gzip'}\n",
      "Response Text (first 2000 chars): <!DOCTYPE html><html xmlns=\"http://www.w3.org/1999/xhtml\" xml:lang=\"pl\" lang=\"pl\" class=\"no-js\" >\n",
      "<head>\n",
      "\t\t\t<!-- Google Tag Manager -->\n",
      "\t\t\t<script>(function(w,d,s,l,i){w[l]=w[l]||[];w[l].push({'gtm.start':\n",
      "\t\t\t\t\t\tnew Date().getTime(),event:'gtm.js'});var f=d.getElementsByTagName(s)[0],\n",
      "\t\t\t\t\tj=d.createElement(s),dl=l!='dataLayer'?'&l='+l:'';j.async=true;j.src=\n",
      "\t\t\t\t\t'https://www.googletagmanager.com/gtm.js?id='+i+dl\n",
      "\t\t\t\t\t\t\t\t\t    ;f.parentNode.insertBefore(j,f);\n",
      "\t\t\t\t    })(window,document,'script','dataLayer','GTM-P3S238');</script>\n",
      "\t\t\t<!-- End Google Tag Manager -->\n",
      "\t<title>Mieszkania Kraków na sprzedaż, wynajem - Sprzedajemy.pl</title><meta http-equiv=\"Content-Type\" content=\"text/html; charset=UTF-8\" >\n",
      "<meta http-equiv=\"X-UA-Compatible\" content=\"IE=edge\" >\n",
      "<meta name=\"description\" content=\"Ogłoszenia o tematyce:  w kategorii Mieszkania - Kupuj i sprzedawaj rzeczy używane i nowe w kategorii Mieszkania na Sprzedajemy.pl\" >\n",
      "<meta property=\"og:title\" content=\"Mieszkania Kraków na sprzedaż, wynajem - Sprzedajemy.pl\" >\n",
      "<meta property=\"og:type\" content=\"website\" >\n",
      "<meta property=\"og:image\" content=\"https://thumbs.img-sprzedajemy.pl/facebook/sprzedajemy.pl.png\" >\n",
      "<meta property=\"og:image:width\" content=\"200\" >\n",
      "<meta property=\"og:image:height\" content=\"200\" >\n",
      "<meta property=\"og:url\" content=\"https://sprzedajemy.pl/krakow/nieruchomosci/mieszkania\" >\n",
      "<meta property=\"og:site_name\" content=\"Sprzedajemy.pl\" >\n",
      "<meta property=\"fb:app_id\" content=\"173258269367442\" >\n",
      "<meta property=\"og:description\" content=\"Ogłoszenia o tematyce:  w kategorii Mieszkania - Kupuj i sprzedawaj rzeczy używane i nowe w kategorii Mieszkania na Sprzedajemy.pl\" >\n",
      "<meta name=\"robots\" content=\"noindex, follow\" >\t\t<script  async=\"async\" src=\"https://static.criteo.net/js/ld/publishertag.js\"></script>\n",
      "        <script  async=\"async\" src=\"https://ap.lijit.com/www/sovrn_beacon_standalone/sovrn_standalone_beacon.js?iid=13417409&amp;uid=sprzedajemy\" id=\"sBeacon\"></script>\n",
      "\t\t<script  async=\"async\" src=\"https://securepuba\n",
      "Titles: ['Kraków Bronowice Stawowa 168 / 60m2 3 POK/ 22,5 m2 taras/ BEZ POŚREDNIKÓW', 'Nowe mieszkanie na sprzedaż 2-pokoje 38,6 m2 | Krowodrza - Kraków', 'Mieszkanie 4-pokoje Kraków - wolne od 1 Lipca 2025 r.', 'Mieszkanie 2 pokojowe', 'Stare Miasto 61,5 m2 KLIMA Wawel wykończone Kazimierz wysokie ROI', 'Stare Miasto 32m2 KLIMA Wawel wykończone Kazimierz wysokie ROI', '2 pok,oddzielna kuchnia,klima,parking, Wrocławska', 'Strych do adaptacji, Błonia, ul. Filarecka', '2 lub 3 pokoje,62m2,balkon, Widok na Wawel', 'Wyjątkowe mieszkanie z widokiem na klasztor w Tyńcu i panoramę Tatr', 'Stylowy apartament z widokiem na panoramę Krakowa - od właściciela', 'Nowoczesny apartament z panoramicznym widokiem - od właściciela', 'Kraków, Stare Miasto sprzedaż/zamiana', '4 pokoje 64m, hala garażowa, komórka lokatorska, duży balkon, wysoki stand…', 'Mieszkanie sprzedam Kraków Tadeusza Śliwiaka 65.57m2 3 pok', 'Sprzedaż mieszkania 65.57m2 3 pokoje Kraków Tadeusza Śliwiaka', 'Mieszkanie Kraków Kobierzyńska 91.1m2 4 pokoje', 'Oferta sprzedaży mieszkania 67m2 4-pokojowe Kraków', 'Mieszkanie 65.57 metrów 3-pok Kraków', 'Mieszkanie 65.57m 3 pok Kraków Tadeusza Śliwiaka', 'Mieszkanie Kraków Marii i Bolesława Wysłouchów 56m2 3 pokojowe', 'Ogłoszenie mieszkanie 46m2 2 pokoje Kraków Bukowa', 'Oferta wynajmu mieszkania 38.91m2 2 pokoje Kraków Konarskiego', 'Mieszkanie 65.57m2 3 pokoje Kraków Tadeusza Śliwiaka', 'Mieszkanie 43.08m2 Kraków Wadowicka', 'Mieszkanie 61.82m2 Kraków', 'Mieszkanie 51.71m2 2-pokojowe Kraków Wadowicka', 'Mieszkanie Kraków Śliczna 45m2 2-pok', 'Mieszkanie Kraków Tadeusza Śliwiaka 81.78m2 4 pokoje', 'Sprzedaż mieszkania Kraków Tadeusza Śliwiaka 82.34m2', 'Mieszkanie Kraków 62.06m2', 'Mieszkanie na sprzedaż 65.57m2 3 pokoje Kraków', 'Mieszkanie Kraków 38.76m2 2 pokojowe', 'Mieszkanie Kraków 74.79 metrów 4 pokoje', 'Mieszkanie Kraków 135m2 4 pokojowe', 'Ogłoszenie mieszkanie 59.31m2 3 pokojowe Kraków', 'Mieszkanie Kraków Papierni Prądnickich 34m2 2 pokojowe', 'Mieszkanie 74.96m2 Kraków', 'Oferta sprzedaży mieszkania 65.57m2 3 pokojowe Kraków', 'Mieszkanie Kraków 65.57m2 3 pok', 'Sprzedam mieszkanie 65.57 metrów 3-pok Kraków Tadeusza Śliwiaka', 'Mieszkanie na sprzedaż Kraków 59.83m2 3 pokoje', 'Ogłoszenie mieszkanie Kraków Tadeusza Śliwiaka 81.78m2 4 pok', 'Mieszkanie Kraków Reduta 77.04m2 3 pokojowe', 'Mieszkanie 65.57m2 3-pokojowe Kraków', 'Mieszkanie 65.57m2 3-pokojowe Kraków', 'Mieszkanie Kraków Bukowa 46.21m2 2 pokoje', 'Mieszkanie Kraków 82.34m2 4 pokoje', 'Mieszkanie 69.03m2 Kraków', 'Mieszkanie do sprzedania Kraków Imbramowska 38.69m2 3-pokojowe', 'Do sprzedaży mieszkanie 46.21m2 2 pok Kraków Bukowa', 'Mieszkanie 38.69 metrów Kraków Imbramowska', 'Mieszkanie na wynajem, 52m2, 2 pokoje - Kraków os. Europejskie Piltza', 'Sprzedaż mieszkania 82.34m2 4-pokojowe Kraków Tadeusza Śliwiaka', 'os.Tysiąclecia, 2-pokojowe z balkonem przy parku', 'Mieszkanie Kraków Fredry 47m2 2-pokojowe', 'Krowodrza Górka - 4 pokoje, jasna kuchnia, loggia', 'Do sprzedaży mieszkanie 60.85m2 4 pokoje Kraków', 'Sprzedam mieszkanie 42.44m2 2 pok Kraków Odrzańska', 'Mieszkanie 38.69m2 2 pokoje Kraków Imbramowska']\n",
      "60\n",
      "Prices: ['1 067 500 zł', '799 000 zł', '4 800 zł', '489 000 zł', '1 782 885 zł', '989 000 zł', '3 200 zł', '379 999 zł', '1 490 000 zł', '779 000 zł', '897 000 zł', '997 000 zł', '2 215 000 zł', '1 168 000 zł', '740 941 zł', '747 498 zł', '1 290 000 zł', '1 090 000 zł', '747 498 zł', '747 498 zł', '980 000 zł', '552 000 zł', '2 300 zł', '760 612 zł', '801 288 zł', '1 044 758 zł', '889 412 zł', '3 000 zł', '932 292 zł', '930 442 zł', '1 048 814 zł', '760 612 zł', '580 000 zł', '1 157 385 zł', '4 500 zł', '770 000 zł', '2 450 zł', '1 156 920 zł', '760 612 zł', '754 055 zł', '754 055 zł', '935 877 zł', '924 114 zł', '1 329 332 zł', '754 055 zł', '760 612 zł', '549 899 zł', '938 676 zł', '1 047 643 zł', '985 500 zł', '545 278 zł', '972 360 zł', '2 600 zł', '955 144 zł', '635 000 zł', '2 800 zł', '750 000 zł', '866 000 zł', '590 000 zł', '786 780 zł']\n",
      "60\n"
     ]
    }
   ],
   "source": [
    "import requests\n",
    "from bs4 import BeautifulSoup\n",
    "import pandas as pd\n",
    "import os\n",
    "\n",
    "url = \"https://sprzedajemy.pl/krakow/nieruchomosci/mieszkania?offset=0&items_per_page=60\"\n",
    "\n",
    "headers = {\n",
    "    \"User-Agent\": \"Mozilla/5.0 (Windows NT 10.0; Win64; x64) AppleWebKit/537.36 (KHTML, like Gecko) Chrome/58.0.3029.110 Safari/537.36\",\n",
    "    \"Accept\": \"text/html,application/xhtml+xml,application/xml;q=0.9,image/webp,image/apng,*/*;q=0.8\",\n",
    "    \"Accept-Encoding\": \"gzip, deflate, br\",\n",
    "    \"Accept-Language\": \"en-US,en;q=0.9,pl;q=0.8\",\n",
    "    \"Connection\": \"keep-alive\"\n",
    "}\n",
    "\n",
    "response = requests.get(url, headers=headers)\n",
    "response = requests.get(url, headers=headers)\n",
    "\n",
    "# Debugowanie odpowiedzi\n",
    "print(f\"Status Code: {response.status_code}\")\n",
    "print(f\"Response Headers: {response.headers}\")\n",
    "print(f\"Response Text (first 2000 chars): {response.text[:2000]}\")\n",
    "\n",
    "# Jeśli odpowiedź jest poprawna, wykonaj webscraping\n",
    "if response.status_code == 200:\n",
    "    soup = BeautifulSoup(response.content, \"html.parser\")\n",
    "\n",
    "    # Pobieranie ofert mieszkań\n",
    "    titles = [h2.a.text.strip() for h2 in soup.find_all(\"h2\", class_=\"title\") if h2.a]\n",
    "    prices = [p.text.replace(\"\\xa0\", \" \").strip() for p in soup.find_all(\"span\", class_=\"price\")]\n",
    "\n",
    "    print(\"Titles:\", titles)\n",
    "    print(len(titles))\n",
    "    print(\"Prices:\", prices)\n",
    "    print(len(prices))\n",
    "\n",
    "    df = pd.DataFrame({\"Title\": titles, \"Price\": prices})\n",
    "\n",
    "    # Dopisanie do pliku CSV\n",
    "    df.to_csv(\"scraped_data.csv\", mode='a', header=not os.path.exists('scraped_data.csv'), index=False)\n",
    "else:\n",
    "    print(\"Failed to retrieve data.\")\n"
   ]
  }
 ],
 "metadata": {
  "colab": {
   "provenance": []
  },
  "kernelspec": {
   "display_name": "Python 3",
   "name": "python3"
  },
  "language_info": {
   "codemirror_mode": {
    "name": "ipython",
    "version": 3
   },
   "file_extension": ".py",
   "mimetype": "text/x-python",
   "name": "python",
   "nbconvert_exporter": "python",
   "pygments_lexer": "ipython3",
   "version": "3.9.22"
  },
  "papermill": {
   "default_parameters": {},
   "duration": 3.838458,
   "end_time": "2025-06-10T22:34:01.056582",
   "environment_variables": {},
   "exception": null,
   "input_path": "nb.ipynb",
   "output_path": "nbo.ipynb",
   "parameters": {},
   "start_time": "2025-06-10T22:33:57.218124",
   "version": "2.6.0"
  }
 },
 "nbformat": 4,
 "nbformat_minor": 5
}