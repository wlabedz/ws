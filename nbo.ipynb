{
 "cells": [
  {
   "cell_type": "code",
   "execution_count": 1,
   "id": "fc9dcc62",
   "metadata": {
    "colab": {
     "base_uri": "https://localhost:8080/"
    },
    "execution": {
     "iopub.execute_input": "2025-06-27T07:18:36.449016Z",
     "iopub.status.busy": "2025-06-27T07:18:36.448802Z",
     "iopub.status.idle": "2025-06-27T07:18:38.565454Z",
     "shell.execute_reply": "2025-06-27T07:18:38.564756Z"
    },
    "id": "5pYh4c8j1w43",
    "outputId": "8a0dca73-64e5-4f0d-c493-2c5b38392363",
    "papermill": {
     "duration": 2.120121,
     "end_time": "2025-06-27T07:18:38.566603",
     "exception": false,
     "start_time": "2025-06-27T07:18:36.446482",
     "status": "completed"
    },
    "tags": []
   },
   "outputs": [
    {
     "name": "stdout",
     "output_type": "stream",
     "text": [
      "Status Code: 200\n",
      "Response Headers: {'Server': 'nginx', 'Date': 'Fri, 27 Jun 2025 07:18:38 GMT', 'Content-Type': 'text/html; charset=UTF-8', 'Transfer-Encoding': 'chunked', 'Vary': 'Accept-Encoding, User-Agent', 'Set-Cookie': 'FRSPSID=ci47irhjbp0l74ldoh4h2863m3; path=/; domain=.sprzedajemy.pl; secure; HttpOnly, _items_per_page__offer_list=60; expires=Sun, 27-Jul-2025 07:18:38 GMT; Max-Age=2592000; path=/; domain=.sprzedajemy.pl; secure; httponly, observed_id=2137037568685e45ce243ec2124050274103718474; expires=Wed, 27-Jun-2125 08:18:38 GMT; Max-Age=3155677200; path=/; domain=.sprzedajemy.pl; secure; httponly', 'Expires': 'Thu, 19 Nov 1981 08:52:00 GMT', 'Cache-Control': 'no-store, no-cache, must-revalidate, post-check=0, pre-check=0', 'Pragma': 'no-cache', 'Content-Encoding': 'gzip'}\n",
      "Response Text (first 2000 chars): <!DOCTYPE html><html xmlns=\"http://www.w3.org/1999/xhtml\" xml:lang=\"pl\" lang=\"pl\" class=\"no-js\" >\n",
      "<head>\n",
      "\t\t\t<!-- Google Tag Manager -->\n",
      "\t\t\t<script>(function(w,d,s,l,i){w[l]=w[l]||[];w[l].push({'gtm.start':\n",
      "\t\t\t\t\t\tnew Date().getTime(),event:'gtm.js'});var f=d.getElementsByTagName(s)[0],\n",
      "\t\t\t\t\tj=d.createElement(s),dl=l!='dataLayer'?'&l='+l:'';j.async=true;j.src=\n",
      "\t\t\t\t\t'https://www.googletagmanager.com/gtm.js?id='+i+dl\n",
      "\t\t\t\t\t\t\t\t\t    ;f.parentNode.insertBefore(j,f);\n",
      "\t\t\t\t    })(window,document,'script','dataLayer','GTM-P3S238');</script>\n",
      "\t\t\t<!-- End Google Tag Manager -->\n",
      "\t<title>Mieszkania Kraków na sprzedaż, wynajem - Sprzedajemy.pl</title><meta http-equiv=\"Content-Type\" content=\"text/html; charset=UTF-8\" >\n",
      "<meta http-equiv=\"X-UA-Compatible\" content=\"IE=edge\" >\n",
      "<meta name=\"description\" content=\"Ogłoszenia o tematyce:  w kategorii Mieszkania - Kupuj i sprzedawaj rzeczy używane i nowe w kategorii Mieszkania na Sprzedajemy.pl\" >\n",
      "<meta property=\"og:title\" content=\"Mieszkania Kraków na sprzedaż, wynajem - Sprzedajemy.pl\" >\n",
      "<meta property=\"og:type\" content=\"website\" >\n",
      "<meta property=\"og:image\" content=\"https://thumbs.img-sprzedajemy.pl/facebook/sprzedajemy.pl.png\" >\n",
      "<meta property=\"og:image:width\" content=\"200\" >\n",
      "<meta property=\"og:image:height\" content=\"200\" >\n",
      "<meta property=\"og:url\" content=\"https://sprzedajemy.pl/krakow/nieruchomosci/mieszkania\" >\n",
      "<meta property=\"og:site_name\" content=\"Sprzedajemy.pl\" >\n",
      "<meta property=\"fb:app_id\" content=\"173258269367442\" >\n",
      "<meta property=\"og:description\" content=\"Ogłoszenia o tematyce:  w kategorii Mieszkania - Kupuj i sprzedawaj rzeczy używane i nowe w kategorii Mieszkania na Sprzedajemy.pl\" >\n",
      "<meta name=\"robots\" content=\"noindex, follow\" >\t\t<script  async=\"async\" src=\"https://static.criteo.net/js/ld/publishertag.js\"></script>\n",
      "        <script  async=\"async\" src=\"https://ap.lijit.com/www/sovrn_beacon_standalone/sovrn_standalone_beacon.js?iid=13417409&amp;uid=sprzedajemy\" id=\"sBeacon\"></script>\n",
      "\t\t<script  async=\"async\" src=\"https://securepuba\n",
      "Titles: ['Kraków, Stare Miasto sprzedaż/zamiana', 'Stylowy apartament z widokiem na panoramę Krakowa - od właściciela', 'Nowoczesny apartament z panoramicznym widokiem - od właściciela', 'Wyjątkowe mieszkanie z widokiem na klasztor w Tyńcu i panoramę Tatr', 'Stare Miasto 61,5 m2 KLIMA Wawel wykończone Kazimierz wysokie ROI', 'Stare Miasto 32m2 KLIMA Wawel wykończone Kazimierz wysokie ROI', 'Mieszkanie na sprzedaż/zamiana 39m2', 'wykończone 27,56 m², balkon, Kniaźnina, TRAMWAJ, Prądnik Czerwony/Huta', 'Mieszkanie', 'Mieszkanie kawalerka do wynajęcia w Krakowie', 'Na sprzedaż – 2-pokojowe mieszkanie,', 'Kawalerka do wynajęcia -Kraków Grzegórzki', 'Bezczynszowe 3-pokojowe mieszkanie w szeregówce', 'Mieszkanie 2 pokojowe do wynajęcia Kraków', 'Kraków- 4 pokoje taras, miejsce postojow', 'Bezpośrednio od właściciela -mieszkanie sprzedam', 'Kraków – 2 pokojowy apartament w wysokim standardzie w inwestycji – Piasta…', '2 oddzielne pokoje,ul.Wrocławska 53A, od 1 lipca', 'Mieszkanie 26.9m2 1 pokojowe Kraków', 'Mieszkanie 43m 3 pok Kraków', 'Wyjątkowe 2-pokojowe poddasze Stare Podgórze – gotowe do zamieszkania', 'Mieszkanie 114m2 4 pokoje Kraków Macieja Dębskiego', 'Apartament centrum Krakowa ul. Rakowicka przy Galerii Krakowskiej', 'Apartament w ścisłym centrum Krakowa ul. Rakowicka Apartamenty Novum', 'Widokowe 2-pokojowe mieszkanie, 37 m2', 'Bezpośrednio wynajmę 2-pokojowe ul.Batorego po remoncie.', 'Mieszkanie Kraków 42.88m2 2 pok', 'Mieszkanie 38m2 2 pokoje Kraków', 'Wynajem Mieszkanie 36m2 Topolowa Krakow Centrum,Dworzec PKP, Od własciciela', 'Mieszkanie Centrum 3 pokoje 50m2 Kraków Kazimierz', 'Mieszkanie Kraków os. Krakowiaków 86.36m2 3 pokoje', 'Urokliwy apartament nad Wisłą na Starym Podgórzu', 'Mieszkanie 2-pokojowe 44,4 m2 Kraków- Bronowice !', 'Kaucja 1000 zł! 2-pokojowe mieszkanie 53 m², Prądnik Czerwony, Ugorek', 'Wzgórza Krzesławickie 5 pokoi, garaż', 'Ul. Bratysławska - 2 pokoje w apartamentowcu', 'Os. Centrum A - mieszkanie 2 pokoje, jasna kuchnia', 'os Kazimierzowskie - mieszkanie 2 pokojowe', 'Kurdwanów - 52m2, dwupokojowe z jasną kuchnią', 'Nowoczesne 3 pokojowe mieszkanie ul. Domagały', '2-POKOJOWE MIESZKANIE NA SPRZEDAŻ - KRAKÓW - 37 M2', '49m2, 3 pokoje, świeżo po remoncie, OD WŁAŚCICIELA', 'ŚWIETNIE SKOMUNIKOWANE, Z KLIMATEM, DODATKOWY METRAŻ', 'Ustawne mieszkanie 2 pokojowe, Os. Kazimierzowskie', 'Os. Botanika, apartament 4-5 pokoi, m. parkingowe', 'Apartament, 2 pokoje, jadalnia, garaż,Krowodrza', 'Mieszkanie, os. Na Stoku, 3 pokoje+kuchnia+GRATIS', '3 pokojowe mieszkanie św.Jana', '2 pokojowe mieszkanie ul. Gnieźnieńska (Azory)', 'Kawalerka 33m2 ul. Domagały', '2-pokojowe mieszkanie na Prądniku Białym (ul. Siewna). PL/EN', 'Kraków – 3 pokojowy apartament na sprzedaż na kameralnym osiedlu – 59,5 m2', 'Mieszkanie z ogródkiem Zakrzówek bezczynszowe', 'Słoneczne | 1 lub 2 pokoje | 7 piętro | Widokokowe | Balkon 8,5 m2', 'Sprzedam 3 pokoje | Bona - W. Sławka | Ost piętro', 'Mieszkanie na sprzedaż ul. Wróblewskiego, Kraków, Stare Miasto _ 16 000zl/…', 'Prądnik Biały | 0% prowizji | 67m2 |ENG', 'Mieszkanie, na rogu ul. Stefana Batorego z Sobieskiego', 'Mieszkanie 3-pokojowe 50m2 ul. Polonijna', 'Mieszkanie 150 metrów 6 pokojowe Kraków Wielopole']\n",
      "60\n",
      "Prices: ['2 205 000 zł', '897 000 zł', '997 000 zł', '779 000 zł', '1 748 885 zł', '959 000 zł', '539 000 zł', '569 000 zł', '2 500 zł', '2 100 zł', '650 000 zł', '2 400 zł', '999 000 zł', '2 900 zł', '1 040 000 zł', '490 000 zł', '799 000 zł', '3 200 zł', '1 900 zł', '3 500 zł', '839 000 zł', '1 019 000 zł', '730 000 zł', '730 000 zł', '579 000 zł', '3 800 zł', '1 000 176 zł', '499 999 zł', '2 200 zł', '699 000 zł', '1 049 990 zł', '1 049 000 zł', '600 000 zł', '2 150 zł', '1 199 000 zł', '2 700 zł', '695 000 zł', '515 000 zł', '599 000 zł', '2 800 zł', '630 000 zł', '669 000 zł', '599 000 zł', '499 000 zł', '1 500 000 zł', '3 800 zł', '648 000 zł', '3 700 zł', '2 000 zł', '2 200 zł', '863 900 zł', '999 000 zł', '437 000 zł', '579 000 zł', '949 000 zł', '1 968 000 zł', '799 000 zł', '870 000 zł', '3 500 zł', '1 950 000 zł']\n",
      "60\n"
     ]
    }
   ],
   "source": [
    "import requests\n",
    "from bs4 import BeautifulSoup\n",
    "import pandas as pd\n",
    "import os\n",
    "\n",
    "url = \"https://sprzedajemy.pl/krakow/nieruchomosci/mieszkania?offset=0&items_per_page=60\"\n",
    "\n",
    "headers = {\n",
    "    \"User-Agent\": \"Mozilla/5.0 (Windows NT 10.0; Win64; x64) AppleWebKit/537.36 (KHTML, like Gecko) Chrome/58.0.3029.110 Safari/537.36\",\n",
    "    \"Accept\": \"text/html,application/xhtml+xml,application/xml;q=0.9,image/webp,image/apng,*/*;q=0.8\",\n",
    "    \"Accept-Encoding\": \"gzip, deflate, br\",\n",
    "    \"Accept-Language\": \"en-US,en;q=0.9,pl;q=0.8\",\n",
    "    \"Connection\": \"keep-alive\"\n",
    "}\n",
    "\n",
    "response = requests.get(url, headers=headers)\n",
    "response = requests.get(url, headers=headers)\n",
    "\n",
    "# Debugowanie odpowiedzi\n",
    "print(f\"Status Code: {response.status_code}\")\n",
    "print(f\"Response Headers: {response.headers}\")\n",
    "print(f\"Response Text (first 2000 chars): {response.text[:2000]}\")\n",
    "\n",
    "# Jeśli odpowiedź jest poprawna, wykonaj webscraping\n",
    "if response.status_code == 200:\n",
    "    soup = BeautifulSoup(response.content, \"html.parser\")\n",
    "\n",
    "    # Pobieranie ofert mieszkań\n",
    "    titles = [h2.a.text.strip() for h2 in soup.find_all(\"h2\", class_=\"title\") if h2.a]\n",
    "    prices = [p.text.replace(\"\\xa0\", \" \").strip() for p in soup.find_all(\"span\", class_=\"price\")]\n",
    "\n",
    "    print(\"Titles:\", titles)\n",
    "    print(len(titles))\n",
    "    print(\"Prices:\", prices)\n",
    "    print(len(prices))\n",
    "\n",
    "    df = pd.DataFrame({\"Title\": titles, \"Price\": prices})\n",
    "\n",
    "    # Dopisanie do pliku CSV\n",
    "    df.to_csv(\"scraped_data.csv\", mode='a', header=not os.path.exists('scraped_data.csv'), index=False)\n",
    "else:\n",
    "    print(\"Failed to retrieve data.\")\n"
   ]
  }
 ],
 "metadata": {
  "colab": {
   "provenance": []
  },
  "kernelspec": {
   "display_name": "Python 3",
   "name": "python3"
  },
  "language_info": {
   "codemirror_mode": {
    "name": "ipython",
    "version": 3
   },
   "file_extension": ".py",
   "mimetype": "text/x-python",
   "name": "python",
   "nbconvert_exporter": "python",
   "pygments_lexer": "ipython3",
   "version": "3.9.23"
  },
  "papermill": {
   "default_parameters": {},
   "duration": 3.207727,
   "end_time": "2025-06-27T07:18:38.783769",
   "environment_variables": {},
   "exception": null,
   "input_path": "nb.ipynb",
   "output_path": "nbo.ipynb",
   "parameters": {},
   "start_time": "2025-06-27T07:18:35.576042",
   "version": "2.6.0"
  }
 },
 "nbformat": 4,
 "nbformat_minor": 5
}