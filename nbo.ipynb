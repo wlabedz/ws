{
 "cells": [
  {
   "cell_type": "code",
   "execution_count": 1,
   "id": "4273441c",
   "metadata": {
    "colab": {
     "base_uri": "https://localhost:8080/"
    },
    "execution": {
     "iopub.execute_input": "2025-06-08T22:49:18.695424Z",
     "iopub.status.busy": "2025-06-08T22:49:18.694998Z",
     "iopub.status.idle": "2025-06-08T22:49:21.169812Z",
     "shell.execute_reply": "2025-06-08T22:49:21.169165Z"
    },
    "id": "5pYh4c8j1w43",
    "outputId": "8a0dca73-64e5-4f0d-c493-2c5b38392363",
    "papermill": {
     "duration": 2.47822,
     "end_time": "2025-06-08T22:49:21.170925",
     "exception": false,
     "start_time": "2025-06-08T22:49:18.692705",
     "status": "completed"
    },
    "tags": []
   },
   "outputs": [
    {
     "name": "stdout",
     "output_type": "stream",
     "text": [
      "Status Code: 200\n",
      "Response Headers: {'Server': 'nginx', 'Date': 'Sun, 08 Jun 2025 22:49:20 GMT', 'Content-Type': 'text/html; charset=UTF-8', 'Transfer-Encoding': 'chunked', 'Vary': 'Accept-Encoding, User-Agent', 'Set-Cookie': 'FRSPSID=3lfc5jfapbhj3lpqg695l31vk2; path=/; domain=.sprzedajemy.pl; secure; HttpOnly, _items_per_page__offer_list=60; expires=Tue, 08-Jul-2025 22:49:20 GMT; Max-Age=2592000; path=/; domain=.sprzedajemy.pl; secure; httponly, observed_id=73550509968461370a46bb5139744833156690085; expires=Fri, 08-Jun-2125 23:49:20 GMT; Max-Age=3155677200; path=/; domain=.sprzedajemy.pl; secure; httponly', 'Expires': 'Thu, 19 Nov 1981 08:52:00 GMT', 'Cache-Control': 'no-store, no-cache, must-revalidate, post-check=0, pre-check=0', 'Pragma': 'no-cache', 'Content-Encoding': 'gzip'}\n",
      "Response Text (first 2000 chars): <!DOCTYPE html><html xmlns=\"http://www.w3.org/1999/xhtml\" xml:lang=\"pl\" lang=\"pl\" class=\"no-js\" >\n",
      "<head>\n",
      "\t\t\t<!-- Google Tag Manager -->\n",
      "\t\t\t<script>(function(w,d,s,l,i){w[l]=w[l]||[];w[l].push({'gtm.start':\n",
      "\t\t\t\t\t\tnew Date().getTime(),event:'gtm.js'});var f=d.getElementsByTagName(s)[0],\n",
      "\t\t\t\t\tj=d.createElement(s),dl=l!='dataLayer'?'&l='+l:'';j.async=true;j.src=\n",
      "\t\t\t\t\t'https://www.googletagmanager.com/gtm.js?id='+i+dl\n",
      "\t\t\t\t\t\t\t\t\t    ;f.parentNode.insertBefore(j,f);\n",
      "\t\t\t\t    })(window,document,'script','dataLayer','GTM-P3S238');</script>\n",
      "\t\t\t<!-- End Google Tag Manager -->\n",
      "\t<title>Mieszkania Kraków na sprzedaż, wynajem - Sprzedajemy.pl</title><meta http-equiv=\"Content-Type\" content=\"text/html; charset=UTF-8\" >\n",
      "<meta http-equiv=\"X-UA-Compatible\" content=\"IE=edge\" >\n",
      "<meta name=\"description\" content=\"Ogłoszenia o tematyce:  w kategorii Mieszkania - Kupuj i sprzedawaj rzeczy używane i nowe w kategorii Mieszkania na Sprzedajemy.pl\" >\n",
      "<meta property=\"og:title\" content=\"Mieszkania Kraków na sprzedaż, wynajem - Sprzedajemy.pl\" >\n",
      "<meta property=\"og:type\" content=\"website\" >\n",
      "<meta property=\"og:image\" content=\"https://thumbs.img-sprzedajemy.pl/facebook/sprzedajemy.pl.png\" >\n",
      "<meta property=\"og:image:width\" content=\"200\" >\n",
      "<meta property=\"og:image:height\" content=\"200\" >\n",
      "<meta property=\"og:url\" content=\"https://sprzedajemy.pl/krakow/nieruchomosci/mieszkania\" >\n",
      "<meta property=\"og:site_name\" content=\"Sprzedajemy.pl\" >\n",
      "<meta property=\"fb:app_id\" content=\"173258269367442\" >\n",
      "<meta property=\"og:description\" content=\"Ogłoszenia o tematyce:  w kategorii Mieszkania - Kupuj i sprzedawaj rzeczy używane i nowe w kategorii Mieszkania na Sprzedajemy.pl\" >\n",
      "<meta name=\"robots\" content=\"noindex, follow\" >\t\t<script  async=\"async\" src=\"https://static.criteo.net/js/ld/publishertag.js\"></script>\n",
      "        <script  async=\"async\" src=\"https://ap.lijit.com/www/sovrn_beacon_standalone/sovrn_standalone_beacon.js?iid=13417409&amp;uid=sprzedajemy\" id=\"sBeacon\"></script>\n",
      "\t\t<script  async=\"async\" src=\"https://securepuba\n"
     ]
    },
    {
     "name": "stdout",
     "output_type": "stream",
     "text": [
      "Titles: ['2 pok,oddzielna kuchnia,klima,parking, Wrocławska', 'Strych do adaptacji, Błonia, ul. Filarecka', '2 lub 3 pokoje,62m2,balkon, Widok na Wawel', 'Nowe mieszkanie na sprzedaż 2-pokoje 38,6 m2 | Krowodrza - Kraków', 'Mieszkanie 4-pokoje Kraków - wolne od 1 Lipca 2025 r.', 'Wyjątkowe mieszkanie z widokiem na klasztor w Tyńcu i panoramę Tatr', 'Stylowy apartament z widokiem na panoramę Krakowa - od właściciela', 'Nowoczesny apartament z panoramicznym widokiem - od właściciela', 'Kraków, Stare Miasto sprzedaż/zamiana', '4 pokoje 64m, hala garażowa, komórka lokatorska, duży balkon, wysoki stand…', 'Kraków Bronowice Stawowa 168 / 60m2 3 POK/ 22,5 m2 taras/ BEZ POŚREDNIKÓW', 'Mieszkanie na sprzedaż bez pośrednika', 'Sprzedam Mieszkanie', 'Czteropokojowy apartament, dwa miejsca postojowe', '3-Pokojowe Mieszkanie 55 m² | Bieńczyce', 'Mieszkanie 52.50m2 Kraków ul. Teligi (garaż + komórka - opcjonalnie)', 'mieszkanie jednopokojowe przy ul. Nefrytowej (BIEŻANÓW- ZŁOCIEŃ )', 'Do wynajęcia mieszkanie jednopokojowe 36m', 'Stare Miasto 61,5 m2 KLIMA Wawel wykończone Kazimierz wysokie ROI', 'Mieszkanie 38.83m2 2 pokoje Kraków Jana Kantego Federowicza', 'Jasne mieszkanie Myśliwska Płaszów', 'Mistrzejowice - dwupokojowe z jasną kuchnią,balkon', 'Stare Miasto 32m2 KLIMA Wawel wykończone Kazimierz wysokie ROI', 'Bezpośrednio wynajmę 2-pokojowe ul.Batorego po remoncie.', 'Apartament 36 m2, Kraków Ruczaj Czerwone Maki', 'Mieszkanie Kraków 62m2 3 pokoje', 'Apartament w sercu Kazimierza w Krakowie', '3 pok. Wieliczka Park, msc. post., wysoki standard', 'Mieszkanie na Złocieniu! Super cena i GRATIS', '3 pokoje, na Kazimierzu w Super Cenie!', 'Mieszkanie 74.57m2 3-pokojowe Kraków', 'Wynajem Mieszkanie 36m2 Topolowa Krakow Centrum,Dworzec PKP, Od własciciela', 'Mieszkanie 74.57m2 4 pokoje Kraków Henryka Pachońskiego', '☆OKAZJA☆Po remoncie 3 pokoje☆', '3-pokojowe na Republiki Korczakowskiej na sprzedaż!', 'Mieszkanie Kraków 74.57m 3 pokoje', 'Mieszkanie 74.57m2 3-pok Kraków Henryka Pachońskiego', 'Oferta sprzedaży mieszkania 74.57m2 4 pokoje Kraków Henryka Pachońskiego', 'Sprzedaż mieszkania 74.57m2 3 pokoje Kraków Henryka Pachońskiego', 'Mieszkanie 74.57m2 4-pokojowe Kraków Henryka Pachońskiego', 'Mieszkanie Kraków Henryka Pachońskiego 74.57 metrów 3 pokoje', 'Mieszkanie 74.57m2 4 pokojowe Kraków Henryka Pachońskiego', 'Oferta sprzedaży mieszkania Kraków 74.57m2 4 pokoje', 'Ogłoszenie mieszkanie 74.57 metrów 4-pokojowe Kraków', 'Mieszkanie na sprzedaż Kraków Aleja Pokoju 24m2 1-pok', 'Mieszkanie 74.57m2 4 pokoje Kraków Henryka Pachońskiego', 'Mieszkanie 46.2m2 2 pokojowe Kraków', 'Mieszkanie 44.52 metry Kraków', 'Mieszkanie Kraków Henryka Pachońskiego 74.57 metrów 4 pokoje', 'Mieszkanie 74.57m2 2 pok Kraków', 'Bezpośrednio Jasne 2 pokoje Mieszkanie Centrum Ogrzewanie Parking Komunika…', 'Sprzedaż mieszkania 36.22m2 1 pok Kraków Tuchowska', 'Mieszkanie 67.09m2 4 pokojowe Kraków zabłocie', 'Bezpośrednio Jasne 2 pokojowe Mieszkanie Centrum Ogrzewanie Parking PROMOC…', '3-pokojowe mieszkanie 63 m² z tarasem 22 m² | 8.P | Klima I Premium standa…', 'Oferta sprzedaży mieszkania Kraków 74.57m2 2-pok', 'Oferta sprzedaży mieszkania 41.7m2 Kraków', 'Sprzedam kawalerkę Spółdzielców Kraków po remoncie', 'Mieszkanie Kraków 39.19m2 2-pokojowe', 'Mieszkanie sprzedam Kraków 74.57m2 2 pokojowe']\n",
      "60\n",
      "Prices: ['3 200 zł', '379 999 zł', '1 490 000 zł', '799 000 zł', '4 800 zł', '779 000 zł', '897 000 zł', '997 000 zł', '2 215 000 zł', '1 168 000 zł', '1 067 500 zł', '723 000 zł', '859 000 zł', '1 200 000 zł', '638 000 zł', '807 000 zł', '349 000 zł', '2 000 zł', '1 782 885 zł', '594 252 zł', '995 610 zł', '575 000 zł', '989 000 zł', '3 850 zł', '2 800 zł', '4 000 zł', '2 450 000 zł', '840 000 zł', '648 000 zł', '880 000 zł', '767 659 zł', '2 200 zł', '816 102 zł', '730 000 zł', '900 000 zł', '772 156 zł', '772 156 zł', '855 848 zł', '767 659 zł', '855 724 zł', '767 659 zł', '805 014 zł', '855 848 zł', '816 102 zł', '490 000 zł', '816 102 zł', '743 680 zł', '699 000 zł', '815 976 zł', '615 976 zł', '3 200 zł', '550 000 zł', '1 281 042 zł', '849 000 zł', '4 750 zł', '615 976 zł', '597 000 zł', '430 000 zł', '658 722 zł', '702 270 zł']\n",
      "60\n"
     ]
    }
   ],
   "source": [
    "import requests\n",
    "from bs4 import BeautifulSoup\n",
    "import pandas as pd\n",
    "import os\n",
    "\n",
    "url = \"https://sprzedajemy.pl/krakow/nieruchomosci/mieszkania?offset=0&items_per_page=60\"\n",
    "\n",
    "headers = {\n",
    "    \"User-Agent\": \"Mozilla/5.0 (Windows NT 10.0; Win64; x64) AppleWebKit/537.36 (KHTML, like Gecko) Chrome/58.0.3029.110 Safari/537.36\",\n",
    "    \"Accept\": \"text/html,application/xhtml+xml,application/xml;q=0.9,image/webp,image/apng,*/*;q=0.8\",\n",
    "    \"Accept-Encoding\": \"gzip, deflate, br\",\n",
    "    \"Accept-Language\": \"en-US,en;q=0.9,pl;q=0.8\",\n",
    "    \"Connection\": \"keep-alive\"\n",
    "}\n",
    "\n",
    "response = requests.get(url, headers=headers)\n",
    "response = requests.get(url, headers=headers)\n",
    "\n",
    "# Debugowanie odpowiedzi\n",
    "print(f\"Status Code: {response.status_code}\")\n",
    "print(f\"Response Headers: {response.headers}\")\n",
    "print(f\"Response Text (first 2000 chars): {response.text[:2000]}\")\n",
    "\n",
    "# Jeśli odpowiedź jest poprawna, wykonaj webscraping\n",
    "if response.status_code == 200:\n",
    "    soup = BeautifulSoup(response.content, \"html.parser\")\n",
    "\n",
    "    # Pobieranie ofert mieszkań\n",
    "    titles = [h2.a.text.strip() for h2 in soup.find_all(\"h2\", class_=\"title\") if h2.a]\n",
    "    prices = [p.text.replace(\"\\xa0\", \" \").strip() for p in soup.find_all(\"span\", class_=\"price\")]\n",
    "\n",
    "    print(\"Titles:\", titles)\n",
    "    print(len(titles))\n",
    "    print(\"Prices:\", prices)\n",
    "    print(len(prices))\n",
    "\n",
    "    df = pd.DataFrame({\"Title\": titles, \"Price\": prices})\n",
    "\n",
    "    # Dopisanie do pliku CSV\n",
    "    df.to_csv(\"scraped_data.csv\", mode='a', header=not os.path.exists('scraped_data.csv'), index=False)\n",
    "else:\n",
    "    print(\"Failed to retrieve data.\")\n"
   ]
  }
 ],
 "metadata": {
  "colab": {
   "provenance": []
  },
  "kernelspec": {
   "display_name": "Python 3",
   "name": "python3"
  },
  "language_info": {
   "codemirror_mode": {
    "name": "ipython",
    "version": 3
   },
   "file_extension": ".py",
   "mimetype": "text/x-python",
   "name": "python",
   "nbconvert_exporter": "python",
   "pygments_lexer": "ipython3",
   "version": "3.9.22"
  },
  "papermill": {
   "default_parameters": {},
   "duration": 3.737938,
   "end_time": "2025-06-08T22:49:21.489108",
   "environment_variables": {},
   "exception": null,
   "input_path": "nb.ipynb",
   "output_path": "nbo.ipynb",
   "parameters": {},
   "start_time": "2025-06-08T22:49:17.751170",
   "version": "2.6.0"
  }
 },
 "nbformat": 4,
 "nbformat_minor": 5
}