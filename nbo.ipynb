{
 "cells": [
  {
   "cell_type": "code",
   "execution_count": 1,
   "id": "08bfe6be",
   "metadata": {
    "colab": {
     "base_uri": "https://localhost:8080/"
    },
    "execution": {
     "iopub.execute_input": "2025-08-22T15:56:37.909816Z",
     "iopub.status.busy": "2025-08-22T15:56:37.909535Z",
     "iopub.status.idle": "2025-08-22T15:56:40.003523Z",
     "shell.execute_reply": "2025-08-22T15:56:40.002792Z"
    },
    "id": "5pYh4c8j1w43",
    "outputId": "8a0dca73-64e5-4f0d-c493-2c5b38392363",
    "papermill": {
     "duration": 2.097688,
     "end_time": "2025-08-22T15:56:40.004707",
     "exception": false,
     "start_time": "2025-08-22T15:56:37.907019",
     "status": "completed"
    },
    "tags": []
   },
   "outputs": [
    {
     "name": "stdout",
     "output_type": "stream",
     "text": [
      "Status Code: 200\n",
      "Response Headers: {'Server': 'nginx', 'Date': 'Fri, 22 Aug 2025 15:56:39 GMT', 'Content-Type': 'text/html; charset=UTF-8', 'Transfer-Encoding': 'chunked', 'Vary': 'Accept-Encoding, User-Agent', 'Set-Cookie': 'FRSPSID=7ad45094md863l6pquj9naolk0; path=/; domain=.sprzedajemy.pl; secure; HttpOnly, _items_per_page__offer_list=60; expires=Sun, 21-Sep-2025 15:56:39 GMT; Max-Age=2592000; path=/; domain=.sprzedajemy.pl; secure; httponly, observed_id=43381283568a893379690f6136428455303469214; expires=Wed, 22-Aug-2125 16:56:39 GMT; Max-Age=3155677200; path=/; domain=.sprzedajemy.pl; secure; httponly', 'Expires': 'Thu, 19 Nov 1981 08:52:00 GMT', 'Cache-Control': 'no-store, no-cache, must-revalidate, post-check=0, pre-check=0', 'Pragma': 'no-cache', 'Content-Encoding': 'gzip'}\n",
      "Response Text (first 2000 chars): <!DOCTYPE html><html xmlns=\"http://www.w3.org/1999/xhtml\" xml:lang=\"pl\" lang=\"pl\" class=\"no-js\" >\n",
      "<head>\n",
      "\t\t\t<!-- Google Tag Manager -->\n",
      "\t\t\t<script>(function(w,d,s,l,i){w[l]=w[l]||[];w[l].push({'gtm.start':\n",
      "\t\t\t\t\t\tnew Date().getTime(),event:'gtm.js'});var f=d.getElementsByTagName(s)[0],\n",
      "\t\t\t\t\tj=d.createElement(s),dl=l!='dataLayer'?'&l='+l:'';j.async=true;j.src=\n",
      "\t\t\t\t\t'https://www.googletagmanager.com/gtm.js?id='+i+dl\n",
      "\t\t\t\t\t\t\t\t\t    ;f.parentNode.insertBefore(j,f);\n",
      "\t\t\t\t    })(window,document,'script','dataLayer','GTM-P3S238');</script>\n",
      "\t\t\t<!-- End Google Tag Manager -->\n",
      "\t<title>Mieszkania Kraków na sprzedaż, wynajem - Sprzedajemy.pl</title><meta http-equiv=\"Content-Type\" content=\"text/html; charset=UTF-8\" >\n",
      "<meta http-equiv=\"X-UA-Compatible\" content=\"IE=edge\" >\n",
      "<meta name=\"description\" content=\"Ogłoszenia o tematyce:  w kategorii Mieszkania - Kupuj i sprzedawaj rzeczy używane i nowe w kategorii Mieszkania na Sprzedajemy.pl\" >\n",
      "<meta property=\"og:title\" content=\"Mieszkania Kraków na sprzedaż, wynajem - Sprzedajemy.pl\" >\n",
      "<meta property=\"og:type\" content=\"website\" >\n",
      "<meta property=\"og:image\" content=\"https://thumbs.img-sprzedajemy.pl/facebook/sprzedajemy.pl.png\" >\n",
      "<meta property=\"og:image:width\" content=\"200\" >\n",
      "<meta property=\"og:image:height\" content=\"200\" >\n",
      "<meta property=\"og:url\" content=\"https://sprzedajemy.pl/krakow/nieruchomosci/mieszkania\" >\n",
      "<meta property=\"og:site_name\" content=\"Sprzedajemy.pl\" >\n",
      "<meta property=\"fb:app_id\" content=\"173258269367442\" >\n",
      "<meta property=\"og:description\" content=\"Ogłoszenia o tematyce:  w kategorii Mieszkania - Kupuj i sprzedawaj rzeczy używane i nowe w kategorii Mieszkania na Sprzedajemy.pl\" >\n",
      "<meta name=\"robots\" content=\"noindex, follow\" >\t\t<script  async=\"async\" src=\"https://static.criteo.net/js/ld/publishertag.js\"></script>\n",
      "        <script  async=\"async\" src=\"https://ap.lijit.com/www/sovrn_beacon_standalone/sovrn_standalone_beacon.js?iid=13417409&amp;uid=sprzedajemy\" id=\"sBeacon\"></script>\n",
      "\t\t<script  async=\"async\" src=\"https://securepuba\n",
      "Titles: ['2-pokojowe mieszkanie po remoncie | PROMOCJA | ul Bronowicka', '3 niezależne lokale z KW– inwestycja z potencjałem', 'Kawalerka Salwator Centrum POD INWESTYCJE', 'Mieszkanie na sprzedaż/zamiana 39m2', 'Kraków, Stare Miasto sprzedaż/zamiana', 'Mieszkanie do sprzedania Kraków 39.43m2 2 pokoje', 'Oferta sprzedaży mieszkania Kraków 79.3m2 3 pok', 'Oferta sprzedaży mieszkania Kraków Kantrowicka 36.09m2 2 pokojowe', 'Mieszkanie 51.42m2 3-pok Kraków Kantrowicka', 'Mieszkanie sprzedam 38.51m2 2 pok Kraków Na Błonie', 'Sprzedam mieszkanie Kraków 62.46m2 3 pokoje', 'Oferta sprzedaży mieszkania Kraków Wadowicka 43.35m2 2-pok', 'Sprzedaż mieszkania 79.3m2 Kraków Babińskiego', 'Mieszkanie Kraków Heleny 50m2', 'Mieszkanie 36.09m2 2 pokoje Kraków', 'Oferta sprzedaży mieszkania 34m2 2 pok Kraków os. Sportowe', 'Mieszkanie 55.72m2 2 pokoje Kraków Tuchowska', 'Mieszkanie 49.63m2 3 pokoje Kraków', 'Mieszkanie Kraków 26m2 1 pokój', 'Mieszkanie Kraków 56.19m2 3-pokojowe', 'Mieszkanie Kraków Na Błonie 26.73m2 1-pokojowe', 'Mieszkanie 63.68m2 4 pok Kraków', 'Oferta sprzedaży mieszkania Kraków Nałkowskiego 54.26m2 3 pokoje', 'Mieszkanie Kraków Cieszyńska 36m2 2-pokojowe', 'Oferta sprzedaży mieszkania Kraków 27.28m2 1 pokojowe', 'Mieszkanie 45.57m2 2-pokojowe Kraków', 'Sprzedam mieszkanie Kraków Wadowicka 51.71 metrów 2 pokoje', 'Mieszkanie na sprzedaż Kraków 59.73m2 4 pokoje', 'Mieszkanie 50.23m2 3 pokoje Kraków', 'Oferta sprzedaży mieszkania Kraków Pękowicka 62.77m2 4 pokojowe', 'Mieszkanie Kraków Piasta Kołodzieja 56.19m2 3-pok', 'Ogłoszenie mieszkanie 37.85m2 2 pok Kraków Pękowicka', 'Mieszkanie do sprzedania Kraków Na Błonie 26.52m2 1 pokojowe', 'Mieszkanie Kraków Pękowicka 62.4m2 4-pokojowe', 'Oferta sprzedaży mieszkania 51.54m2 3 pokojowe Kraków Kantrowicka', 'Oferta sprzedaży mieszkania Kraków Na Błonie 38.66m2 2 pokojowe', 'Mieszkanie 45.27m2 2 pokojowe Kraków Wadowicka', 'Oferta sprzedaży mieszkania 37.8m2 2 pokoje Kraków Na Błonie', 'Mieszkanie Kraków Piasta Kołodzieja 50.23m2 3-pokojowe', 'Mieszkanie Kraków Pękowicka 40.06m2 2-pok', 'Bezpośrednio Jasne 2 pokoje Mieszkanie Centrum Ogrzewanie Parking Komunika…', 'Do wynajęcia mieszkanie 2 pokojowe+balkon Kraków ul. Rusznikarska', 'Oferta sprzedaży mieszkania Kraków 58.95m2 3 pokojowe', 'Mieszkanie 75.19m2 4 pokojowe Kraków Wadowicka', 'Wynajmę mieszkanie 2 pokojowe+balkon+miejs park. Kraków, ul. Oś. Akademick…', 'Mieszkanie Kraków Na Błonie 38.07m2 2-pokojowe', 'Mieszkanie 81.22m 4-pok Kraków Tomickiego', 'Sprzedaż mieszkania 31m2 1-pokojowe Kraków Ruczaj', 'Oferta sprzedaży mieszkania 35.12m2 2-pokojowe Kraków', 'Mieszkanie do sprzedania 46.66 metrów 2 pokojowe Kraków Babińskiego', 'Mieszkanie 94.61 metrów 4 pokojowe Kraków Olszanicka', 'Mieszkanie Kraków 49.63m2 3 pokoje', 'Oferta sprzedaży mieszkania 77.12m2 3-pokojowe Kraków Reduta', 'Mieszkanie Kraków Na Błonie 41.12m2 1 pokój', 'Mieszkanie 65.46m2 3-pok Kraków Wadowicka', 'Oferta sprzedaży mieszkania 71.46m2 3 pok Kraków Na Błonie', 'Mieszkanie Kraków Na Błonie 40.71 metrów 2 pokojowe', 'Mieszkanie do sprzedania Kraków 34.79m2 2-pok', 'Mieszkanie 35.25m2 2 pokoje Kraków 29 listopada - okolice', 'Mieszkanie 60.05m2 4 pokoje Kraków']\n",
      "60\n",
      "Prices: ['710 000 zł', '265 000 zł', '428 824 zł', '526 000 zł', '2 083 000 zł', '670 310 zł', '1 308 450 zł', '479 997 zł', '635 987 zł', '768 158 zł', '1 093 050 zł', '806 310 zł', '1 308 450 zł', '660 000 zł', '497 139 zł', '410 000 zł', '770 000 zł', '714 672 zł', '499 000 zł', '764 184 zł', '565 045 zł', '1 034 800 zł', '999 000 zł', '895 000 zł', '474 672 zł', '699 000 zł', '889 754 zł', '985 545 zł', '708 243 zł', '1 013 735 zł', '758 565 zł', '658 590 zł', '554 294 zł', '1 004 640 zł', '636 519 zł', '780 120 zł', '855 603 zł', '756 529 zł', '743 404 zł', '681 020 zł', '3 600 zł', '3 000 zł', '1 055 912 zł', '1 270 711 zł', '3 300 zł', '767 224 zł', '990 000 zł', '535 000 zł', '600 552 zł', '835 214 zł', '1 336 358 zł', '709 709 zł', '1 342 000 zł', '768 203 zł', '1 099 728 zł', '1 188 022 zł', '774 914 zł', '479 232 zł', '670 057 zł', '984 820 zł']\n",
      "60\n"
     ]
    }
   ],
   "source": [
    "import requests\n",
    "from bs4 import BeautifulSoup\n",
    "import pandas as pd\n",
    "import os\n",
    "\n",
    "url = \"https://sprzedajemy.pl/krakow/nieruchomosci/mieszkania?offset=0&items_per_page=60\"\n",
    "\n",
    "headers = {\n",
    "    \"User-Agent\": \"Mozilla/5.0 (Windows NT 10.0; Win64; x64) AppleWebKit/537.36 (KHTML, like Gecko) Chrome/58.0.3029.110 Safari/537.36\",\n",
    "    \"Accept\": \"text/html,application/xhtml+xml,application/xml;q=0.9,image/webp,image/apng,*/*;q=0.8\",\n",
    "    \"Accept-Encoding\": \"gzip, deflate, br\",\n",
    "    \"Accept-Language\": \"en-US,en;q=0.9,pl;q=0.8\",\n",
    "    \"Connection\": \"keep-alive\"\n",
    "}\n",
    "\n",
    "response = requests.get(url, headers=headers)\n",
    "response = requests.get(url, headers=headers)\n",
    "\n",
    "# Debugowanie odpowiedzi\n",
    "print(f\"Status Code: {response.status_code}\")\n",
    "print(f\"Response Headers: {response.headers}\")\n",
    "print(f\"Response Text (first 2000 chars): {response.text[:2000]}\")\n",
    "\n",
    "# Jeśli odpowiedź jest poprawna, wykonaj webscraping\n",
    "if response.status_code == 200:\n",
    "    soup = BeautifulSoup(response.content, \"html.parser\")\n",
    "\n",
    "    # Pobieranie ofert mieszkań\n",
    "    titles = [h2.a.text.strip() for h2 in soup.find_all(\"h2\", class_=\"title\") if h2.a]\n",
    "    prices = [p.text.replace(\"\\xa0\", \" \").strip() for p in soup.find_all(\"span\", class_=\"price\")]\n",
    "\n",
    "    print(\"Titles:\", titles)\n",
    "    print(len(titles))\n",
    "    print(\"Prices:\", prices)\n",
    "    print(len(prices))\n",
    "\n",
    "    df = pd.DataFrame({\"Title\": titles, \"Price\": prices})\n",
    "\n",
    "    # Dopisanie do pliku CSV\n",
    "    df.to_csv(\"scraped_data.csv\", mode='a', header=not os.path.exists('scraped_data.csv'), index=False)\n",
    "else:\n",
    "    print(\"Failed to retrieve data.\")\n"
   ]
  }
 ],
 "metadata": {
  "colab": {
   "provenance": []
  },
  "kernelspec": {
   "display_name": "Python 3",
   "name": "python3"
  },
  "language_info": {
   "codemirror_mode": {
    "name": "ipython",
    "version": 3
   },
   "file_extension": ".py",
   "mimetype": "text/x-python",
   "name": "python",
   "nbconvert_exporter": "python",
   "pygments_lexer": "ipython3",
   "version": "3.9.23"
  },
  "papermill": {
   "default_parameters": {},
   "duration": 3.190085,
   "end_time": "2025-08-22T15:56:40.221597",
   "environment_variables": {},
   "exception": null,
   "input_path": "nb.ipynb",
   "output_path": "nbo.ipynb",
   "parameters": {},
   "start_time": "2025-08-22T15:56:37.031512",
   "version": "2.6.0"
  }
 },
 "nbformat": 4,
 "nbformat_minor": 5
}