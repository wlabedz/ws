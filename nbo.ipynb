{
 "cells": [
  {
   "cell_type": "code",
   "execution_count": 1,
   "id": "7e4094ba",
   "metadata": {
    "colab": {
     "base_uri": "https://localhost:8080/"
    },
    "execution": {
     "iopub.execute_input": "2025-07-25T14:39:02.923465Z",
     "iopub.status.busy": "2025-07-25T14:39:02.923191Z",
     "iopub.status.idle": "2025-07-25T14:39:04.917341Z",
     "shell.execute_reply": "2025-07-25T14:39:04.916590Z"
    },
    "id": "5pYh4c8j1w43",
    "outputId": "8a0dca73-64e5-4f0d-c493-2c5b38392363",
    "papermill": {
     "duration": 1.997706,
     "end_time": "2025-07-25T14:39:04.918461",
     "exception": false,
     "start_time": "2025-07-25T14:39:02.920755",
     "status": "completed"
    },
    "tags": []
   },
   "outputs": [
    {
     "name": "stdout",
     "output_type": "stream",
     "text": [
      "Status Code: 200\n",
      "Response Headers: {'Server': 'nginx', 'Date': 'Fri, 25 Jul 2025 14:39:04 GMT', 'Content-Type': 'text/html; charset=UTF-8', 'Transfer-Encoding': 'chunked', 'Vary': 'Accept-Encoding, User-Agent', 'Set-Cookie': 'FRSPSID=lba3ds6fikl7ldga7suvfr00s6; path=/; domain=.sprzedajemy.pl; secure; HttpOnly, _items_per_page__offer_list=60; expires=Sun, 24-Aug-2025 14:39:04 GMT; Max-Age=2592000; path=/; domain=.sprzedajemy.pl; secure; httponly, observed_id=500780037688397088120294210318173082739; expires=Wed, 25-Jul-2125 15:39:04 GMT; Max-Age=3155677200; path=/; domain=.sprzedajemy.pl; secure; httponly', 'Expires': 'Thu, 19 Nov 1981 08:52:00 GMT', 'Cache-Control': 'no-store, no-cache, must-revalidate, post-check=0, pre-check=0', 'Pragma': 'no-cache', 'Content-Encoding': 'gzip'}\n",
      "Response Text (first 2000 chars): <!DOCTYPE html><html xmlns=\"http://www.w3.org/1999/xhtml\" xml:lang=\"pl\" lang=\"pl\" class=\"no-js\" >\n",
      "<head>\n",
      "\t\t\t<!-- Google Tag Manager -->\n",
      "\t\t\t<script>(function(w,d,s,l,i){w[l]=w[l]||[];w[l].push({'gtm.start':\n",
      "\t\t\t\t\t\tnew Date().getTime(),event:'gtm.js'});var f=d.getElementsByTagName(s)[0],\n",
      "\t\t\t\t\tj=d.createElement(s),dl=l!='dataLayer'?'&l='+l:'';j.async=true;j.src=\n",
      "\t\t\t\t\t'https://www.googletagmanager.com/gtm.js?id='+i+dl\n",
      "\t\t\t\t\t\t\t\t\t    ;f.parentNode.insertBefore(j,f);\n",
      "\t\t\t\t    })(window,document,'script','dataLayer','GTM-P3S238');</script>\n",
      "\t\t\t<!-- End Google Tag Manager -->\n",
      "\t<title>Mieszkania Kraków na sprzedaż, wynajem - Sprzedajemy.pl</title><meta http-equiv=\"Content-Type\" content=\"text/html; charset=UTF-8\" >\n",
      "<meta http-equiv=\"X-UA-Compatible\" content=\"IE=edge\" >\n",
      "<meta name=\"description\" content=\"Ogłoszenia o tematyce:  w kategorii Mieszkania - Kupuj i sprzedawaj rzeczy używane i nowe w kategorii Mieszkania na Sprzedajemy.pl\" >\n",
      "<meta property=\"og:title\" content=\"Mieszkania Kraków na sprzedaż, wynajem - Sprzedajemy.pl\" >\n",
      "<meta property=\"og:type\" content=\"website\" >\n",
      "<meta property=\"og:image\" content=\"https://thumbs.img-sprzedajemy.pl/facebook/sprzedajemy.pl.png\" >\n",
      "<meta property=\"og:image:width\" content=\"200\" >\n",
      "<meta property=\"og:image:height\" content=\"200\" >\n",
      "<meta property=\"og:url\" content=\"https://sprzedajemy.pl/krakow/nieruchomosci/mieszkania\" >\n",
      "<meta property=\"og:site_name\" content=\"Sprzedajemy.pl\" >\n",
      "<meta property=\"fb:app_id\" content=\"173258269367442\" >\n",
      "<meta property=\"og:description\" content=\"Ogłoszenia o tematyce:  w kategorii Mieszkania - Kupuj i sprzedawaj rzeczy używane i nowe w kategorii Mieszkania na Sprzedajemy.pl\" >\n",
      "<meta name=\"robots\" content=\"noindex, follow\" >\t\t<script  async=\"async\" src=\"https://static.criteo.net/js/ld/publishertag.js\"></script>\n",
      "        <script  async=\"async\" src=\"https://ap.lijit.com/www/sovrn_beacon_standalone/sovrn_standalone_beacon.js?iid=13417409&amp;uid=sprzedajemy\" id=\"sBeacon\"></script>\n",
      "\t\t<script  async=\"async\" src=\"https://securepuba\n",
      "Titles: ['Mieszkanie na sprzedaż/zamiana 39m2', 'Mieszkanie Wola Justowska /Bielany 36m2', 'Nowoczesny apartament z panoramicznym widokiem - od właściciela', 'Wyjątkowe mieszkanie z widokiem na klasztor w Tyńcu i panoramę Tatr', 'Stylowy apartament z widokiem na panoramę Krakowa - od właściciela', 'Kraków, Stare Miasto sprzedaż/zamiana', '2-pokojowe mieszkanie na Zabłociu – ciche, świetna lokalizacja! [Wirtualny…', '4pokoje 68m2 balkon KLIMA Śródmieście BEZ PROWIZJI od właściciela', 'Dom - Kraków Tonie - Zielona okolica - 123 m2 | 5 - pok. | Ogród | Taras |…', 'Mieszkanie Kraków Na Błonie 26.73m2 1-pokojowe', 'Mieszkanie sprzedam Kraków Dąbrowskiego 41.3m2 2-pokojowe', 'Mieszkanie sprzedam 57.14m2 3 pok Kraków Chełmońskiego', 'Mieszkanie 72.4m2 3-pok Kraków Babińskiego', 'Mieszkanie Kraków Heleny 50m2', 'Mieszkanie do sprzedania Kraków 39.43m2 2 pokoje', 'Mieszkanie 56.92m 3 pokoje Kraków', 'Mieszkanie 66m2 3-pok Kraków Komuny Paryskiej', 'Oferta sprzedaży mieszkania Kraków Wadowicka 43.35m2 2-pok', 'Mieszkanie sprzedam 80.38m2 Kraków', 'Mieszkanie 51.42m2 3-pok Kraków Kantrowicka', 'Mieszkanie Kraków Pękowicka 43.45m2 2 pokoje', 'Mieszkanie 70.96m2 3 pokoje Kraków Walerego Sławka', 'Mieszkanie Kraków Dąbrowskiego 58.2m2 3 pokoje', 'Mieszkanie 45.57m2 2-pokojowe Kraków', 'Mieszkanie do sprzedania 35.05m2 Kraków 29 listopada - okolice', 'Mieszkanie Kraków Pękowicka 35.37m2 2 pokoje', 'Oferta sprzedaży mieszkania Kraków Babińskiego 33.25m2 1-pokojowe', 'Mieszkanie na wynajem Kraków 20.81m2 1 pok', 'Oferta sprzedaży mieszkania 36.21m2 2-pok Kraków', 'Mieszkanie 26.07m2 Kraków Skałeczna', 'Oferta sprzedaży mieszkania 43.35m2 2 pokojowe Kraków', 'Mieszkanie 72.4m2 Kraków Babińskiego', 'Mieszkanie 65m2 3 pok Kraków', 'Mieszkanie Kraków Wadowicka 44.95 metrów 2 pok', 'Sprzedaż mieszkania Kraków 72.4m2 3 pokoje', 'Oferta sprzedaży mieszkania 43.35m2 2 pokojowe Kraków Wadowicka', 'Mieszkanie do sprzedania Kraków 116.81m2 4 pokojowe', 'Mieszkanie na sprzedaż 67.37 metrów 3-pokojowe Kraków Borowego', 'Sprzedam mieszkanie 26.73m2 1 pokój Kraków', 'Mieszkanie 48.59 metrów 3 pokojowe Kraków Piasta Kołodzieja', 'Sprzedaż mieszkania 38.16m2 2-pokojowe Kraków Na Błonie', 'Oferta sprzedaży mieszkania 51.55m2 3 pokoje Kraków Pękowicka', 'Sprzedaż mieszkania Kraków Pękowicka 40m2 2 pokoje', 'Oferta sprzedaży mieszkania 38.55m2 Kraków Pękowicka', 'Oferta sprzedaży mieszkania 41.18m2 2-pokojowe Kraków Na Błonie', 'Mieszkanie Kraków Wadowicka 64.42m', 'Ogłoszenie mieszkanie Kraków Wadowicka 67.42m2 3 pokoje', 'Sprzedam mieszkanie Kraków 62.46m2 3 pokoje', 'Mieszkanie Kraków Olszanicka 94.68m2 4 pokoje', 'Do sprzedaży mieszkanie 54.62m2 3-pok Kraków', 'Ogłoszenie mieszkanie Kraków Pękowicka 52.07m 3 pokojowe', 'Mieszkanie 82m2 3 pok Kraków', 'Ogłoszenie mieszkanie Kraków 64.65m2 4 pokoje', 'Mieszkanie Kraków Gramatyka 47.8m2 3-pok', 'Oferta sprzedaży mieszkania 77.12m2 3-pokojowe Kraków Reduta', 'Mieszkanie 36.09m2 2 pokoje Kraków', 'Mieszkanie Kraków Kantrowicka 35.05m2', 'Ogłoszenie mieszkanie 65.16m 4-pokojowe Kraków Kantrowicka', 'Mieszkanie do sprzedania 46.66 metrów 2 pokojowe Kraków Babińskiego', 'Oferta sprzedaży mieszkania 32.79m2 Kraków']\n",
      "60\n",
      "Prices: ['526 000 zł', '487 000 zł', '997 000 zł', '779 000 zł', '897 000 zł', '2 153 000 zł', '499 000 zł', '1 850 000 zł', '2 275 000 zł', '565 045 zł', '969 189 zł', '912 000 zł', '1 245 280 zł', '660 000 zł', '670 310 zł', '1 043 059 zł', '1 045 000 zł', '806 310 zł', '1 210 000 zł', '668 460 zł', '712 580 zł', '1 419 000 zł', '1 123 888 zł', '699 000 zł', '653 292 zł', '601 290 zł', '628 425 zł', '2 600 zł', '615 570 zł', '614 000 zł', '788 970 zł', '1 194 600 zł', '1 099 000 zł', '822 585 zł', '1 295 960 zł', '806 310 zł', '1 711 261 zł', '1 379 000 zł', '565 045 zł', '699 696 zł', '770 030 zł', '847 997 zł', '786 000 zł', '653 422 zł', '779 784 zł', '1 140 234 zł', '1 092 204 zł', '1 093 050 zł', '1 387 058 zł', '890 306 zł', '856 551 zł', '1 049 000 zł', '1 047 330 zł', '940 000 zł', '1 342 000 zł', '523 305 zł', '525 750 zł', '879 660 zł', '835 214 zł', '619 731 zł']\n",
      "60\n"
     ]
    }
   ],
   "source": [
    "import requests\n",
    "from bs4 import BeautifulSoup\n",
    "import pandas as pd\n",
    "import os\n",
    "\n",
    "url = \"https://sprzedajemy.pl/krakow/nieruchomosci/mieszkania?offset=0&items_per_page=60\"\n",
    "\n",
    "headers = {\n",
    "    \"User-Agent\": \"Mozilla/5.0 (Windows NT 10.0; Win64; x64) AppleWebKit/537.36 (KHTML, like Gecko) Chrome/58.0.3029.110 Safari/537.36\",\n",
    "    \"Accept\": \"text/html,application/xhtml+xml,application/xml;q=0.9,image/webp,image/apng,*/*;q=0.8\",\n",
    "    \"Accept-Encoding\": \"gzip, deflate, br\",\n",
    "    \"Accept-Language\": \"en-US,en;q=0.9,pl;q=0.8\",\n",
    "    \"Connection\": \"keep-alive\"\n",
    "}\n",
    "\n",
    "response = requests.get(url, headers=headers)\n",
    "response = requests.get(url, headers=headers)\n",
    "\n",
    "# Debugowanie odpowiedzi\n",
    "print(f\"Status Code: {response.status_code}\")\n",
    "print(f\"Response Headers: {response.headers}\")\n",
    "print(f\"Response Text (first 2000 chars): {response.text[:2000]}\")\n",
    "\n",
    "# Jeśli odpowiedź jest poprawna, wykonaj webscraping\n",
    "if response.status_code == 200:\n",
    "    soup = BeautifulSoup(response.content, \"html.parser\")\n",
    "\n",
    "    # Pobieranie ofert mieszkań\n",
    "    titles = [h2.a.text.strip() for h2 in soup.find_all(\"h2\", class_=\"title\") if h2.a]\n",
    "    prices = [p.text.replace(\"\\xa0\", \" \").strip() for p in soup.find_all(\"span\", class_=\"price\")]\n",
    "\n",
    "    print(\"Titles:\", titles)\n",
    "    print(len(titles))\n",
    "    print(\"Prices:\", prices)\n",
    "    print(len(prices))\n",
    "\n",
    "    df = pd.DataFrame({\"Title\": titles, \"Price\": prices})\n",
    "\n",
    "    # Dopisanie do pliku CSV\n",
    "    df.to_csv(\"scraped_data.csv\", mode='a', header=not os.path.exists('scraped_data.csv'), index=False)\n",
    "else:\n",
    "    print(\"Failed to retrieve data.\")\n"
   ]
  }
 ],
 "metadata": {
  "colab": {
   "provenance": []
  },
  "kernelspec": {
   "display_name": "Python 3",
   "name": "python3"
  },
  "language_info": {
   "codemirror_mode": {
    "name": "ipython",
    "version": 3
   },
   "file_extension": ".py",
   "mimetype": "text/x-python",
   "name": "python",
   "nbconvert_exporter": "python",
   "pygments_lexer": "ipython3",
   "version": "3.9.23"
  },
  "papermill": {
   "default_parameters": {},
   "duration": 3.126765,
   "end_time": "2025-07-25T14:39:05.135264",
   "environment_variables": {},
   "exception": null,
   "input_path": "nb.ipynb",
   "output_path": "nbo.ipynb",
   "parameters": {},
   "start_time": "2025-07-25T14:39:02.008499",
   "version": "2.6.0"
  }
 },
 "nbformat": 4,
 "nbformat_minor": 5
}