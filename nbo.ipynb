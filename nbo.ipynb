{
 "cells": [
  {
   "cell_type": "code",
   "execution_count": 1,
   "id": "98c89e51",
   "metadata": {
    "colab": {
     "base_uri": "https://localhost:8080/"
    },
    "execution": {
     "iopub.execute_input": "2025-07-11T11:47:41.276261Z",
     "iopub.status.busy": "2025-07-11T11:47:41.275742Z",
     "iopub.status.idle": "2025-07-11T11:47:43.355315Z",
     "shell.execute_reply": "2025-07-11T11:47:43.354543Z"
    },
    "id": "5pYh4c8j1w43",
    "outputId": "8a0dca73-64e5-4f0d-c493-2c5b38392363",
    "papermill": {
     "duration": 2.083464,
     "end_time": "2025-07-11T11:47:43.356424",
     "exception": false,
     "start_time": "2025-07-11T11:47:41.272960",
     "status": "completed"
    },
    "tags": []
   },
   "outputs": [
    {
     "name": "stdout",
     "output_type": "stream",
     "text": [
      "Status Code: 200\n",
      "Response Headers: {'Server': 'nginx', 'Date': 'Fri, 11 Jul 2025 11:47:43 GMT', 'Content-Type': 'text/html; charset=UTF-8', 'Transfer-Encoding': 'chunked', 'Vary': 'Accept-Encoding, User-Agent', 'Set-Cookie': 'FRSPSID=q61u62k1bvvomcg9nkcpi90gq0; path=/; domain=.sprzedajemy.pl; secure; HttpOnly, _items_per_page__offer_list=60; expires=Sun, 10-Aug-2025 11:47:42 GMT; Max-Age=2592000; path=/; domain=.sprzedajemy.pl; secure; httponly, observed_id=1112189436870f9dede4df9148927481828229686; expires=Wed, 11-Jul-2125 12:47:42 GMT; Max-Age=3155677200; path=/; domain=.sprzedajemy.pl; secure; httponly', 'Expires': 'Thu, 19 Nov 1981 08:52:00 GMT', 'Cache-Control': 'no-store, no-cache, must-revalidate, post-check=0, pre-check=0', 'Pragma': 'no-cache', 'Content-Encoding': 'gzip'}\n",
      "Response Text (first 2000 chars): <!DOCTYPE html><html xmlns=\"http://www.w3.org/1999/xhtml\" xml:lang=\"pl\" lang=\"pl\" class=\"no-js\" >\n",
      "<head>\n",
      "\t\t\t<!-- Google Tag Manager -->\n",
      "\t\t\t<script>(function(w,d,s,l,i){w[l]=w[l]||[];w[l].push({'gtm.start':\n",
      "\t\t\t\t\t\tnew Date().getTime(),event:'gtm.js'});var f=d.getElementsByTagName(s)[0],\n",
      "\t\t\t\t\tj=d.createElement(s),dl=l!='dataLayer'?'&l='+l:'';j.async=true;j.src=\n",
      "\t\t\t\t\t'https://www.googletagmanager.com/gtm.js?id='+i+dl\n",
      "\t\t\t\t\t\t\t\t\t    ;f.parentNode.insertBefore(j,f);\n",
      "\t\t\t\t    })(window,document,'script','dataLayer','GTM-P3S238');</script>\n",
      "\t\t\t<!-- End Google Tag Manager -->\n",
      "\t<title>Mieszkania Kraków na sprzedaż, wynajem - Sprzedajemy.pl</title><meta http-equiv=\"Content-Type\" content=\"text/html; charset=UTF-8\" >\n",
      "<meta http-equiv=\"X-UA-Compatible\" content=\"IE=edge\" >\n",
      "<meta name=\"description\" content=\"Ogłoszenia o tematyce:  w kategorii Mieszkania - Kupuj i sprzedawaj rzeczy używane i nowe w kategorii Mieszkania na Sprzedajemy.pl\" >\n",
      "<meta property=\"og:title\" content=\"Mieszkania Kraków na sprzedaż, wynajem - Sprzedajemy.pl\" >\n",
      "<meta property=\"og:type\" content=\"website\" >\n",
      "<meta property=\"og:image\" content=\"https://thumbs.img-sprzedajemy.pl/facebook/sprzedajemy.pl.png\" >\n",
      "<meta property=\"og:image:width\" content=\"200\" >\n",
      "<meta property=\"og:image:height\" content=\"200\" >\n",
      "<meta property=\"og:url\" content=\"https://sprzedajemy.pl/krakow/nieruchomosci/mieszkania\" >\n",
      "<meta property=\"og:site_name\" content=\"Sprzedajemy.pl\" >\n",
      "<meta property=\"fb:app_id\" content=\"173258269367442\" >\n",
      "<meta property=\"og:description\" content=\"Ogłoszenia o tematyce:  w kategorii Mieszkania - Kupuj i sprzedawaj rzeczy używane i nowe w kategorii Mieszkania na Sprzedajemy.pl\" >\n",
      "<meta name=\"robots\" content=\"noindex, follow\" >\t\t<script  async=\"async\" src=\"https://static.criteo.net/js/ld/publishertag.js\"></script>\n",
      "        <script  async=\"async\" src=\"https://ap.lijit.com/www/sovrn_beacon_standalone/sovrn_standalone_beacon.js?iid=13417409&amp;uid=sprzedajemy\" id=\"sBeacon\"></script>\n",
      "\t\t<script  async=\"async\" src=\"https://securepuba\n",
      "Titles: ['Super lokalizacja! TRAMWAJ, kawalerka do wejścia! Prądnik Czerwony/Huta', '2-pokojowe mieszkanie na Zabłociu – ciche, świetna lokalizacja!', 'Mieszkanie na sprzedaż/zamiana 39m2', 'Wyjątkowe mieszkanie z widokiem na klasztor w Tyńcu i panoramę Tatr', 'Stylowy apartament z widokiem na panoramę Krakowa - od właściciela', 'Nowoczesny apartament z panoramicznym widokiem - od właściciela', 'Kraków, Stare Miasto sprzedaż/zamiana', 'wynajme 2 pok z aneksem 34m, os Dywizjonu 303 , od wlasciciela', 'Mieszkanie Kraków 77m2 3 pokoje', 'Mieszkanie', 'Sprzedam mieszkanie 50,8 m2 w Nowej Hucie – Krzesławice', 'Apartament centrum Krakowa ul. Rakowicka przy Galerii Krakowskiej', 'Apartament w ścisłym centrum Krakowa ul. Rakowicka Apartamenty Novum', 'Wynajmę Mieszkanie 2 pokoje Kraków Łagiewniki ul. Do Wilgi', '2 lub 3 pokoje,62m2,balkon,widok na Wawel', 'Na sprzedaż – 2-pokojowe mieszkanie,', 'Apartament inwestycyjny w sercu Krakowa', 'Do sprzedaży mieszkanie 65m2 4 pok Kraków', 'Grzegórzki| 2 łazienki, 2 tarasy| wysoki standard', 'Mieszkanie 38.69m2 3 pokoje Kraków Imbramowska', 'Kraków- 4 pokoje taras, miejsce postojow', 'Oferta sprzedaży mieszkania Kraków 58.4m2 5 pokoi', 'Nowe mieszkanie na sprzedaż 2-pokoje 38,6 m2 | Krowodrza - Kraków', 'Bieńczyce - 3 pokoje, balkon, jasna kuchnia', 'Jordanowska Prądnik Biały parking w cenie', 'Wynajmę mieszkanie 43m2 1 pokój Kraków', 'Sprzedam mieszkanie Kraków 89.57m2 5-pokojowe', 'Mieszkanie 26.9m2 1 pokojowe Kraków', 'Mieszkanie 73m2 Kraków Bandurskiego Władysława', 'Mieszkanie 43m 3 pok Kraków', 'Mieszkanie Kraków 46.6m 2 pok', 'Mieszkanie Kraków Bohaterów Września 47m2 3-pok', '3-pokojowe mieszkanie z ogrodem , Zwierzyniec', 'Mieszkanie Kraków 26.88m2 1-pok', 'Mieszkanie Kraków Barbary 49.63m2 2 pok', 'Bezpośrednio wynajmę 2-pokojowe ul.Batorego po remoncie.', 'Centrum Krakowa - 3 oddzielne pokoje / biura - po generalnym remoncie', 'Mieszkanie 49.63m2 2 pokoje Kraków Barbary', 'Bezpośrednio wynajmę 2-pokojowe ul.Batorego po remoncie.', 'Mieszkanie 38 metrów kwadratowych sprzedam bezpośrednio', 'Urokliwy apartament nad Wisłą na Starym Podgórzu', 'Sprzedam mieszkanie w systemie TBS', 'Krowodrza Górka - dwupokojowe mieszkanie, 2003r.', 'Os. Szkolne - dwupokojowe mieszkanie po remoncie', 'Oferta sprzedaży mieszkania 136.9m2 5 pokoi Kraków Reduta', 'Mieszkanie sprzedam 43m2 2-pok Kraków', 'Mieszkanie 32m2 1 pokojowe Kraków Obozowa', 'Sprzedaż mieszkania 65.57m2 3 pokoje Kraków Tadeusza Śliwiaka', 'Ogłoszenie mieszkanie Kraków Tadeusza Śliwiaka 81.78m2 4 pok', 'Mieszkanie Kraków Tadeusza Śliwiaka 81.78m2 4 pokoje', 'Ul. Bratysławska - 2 pokoje w apartamentowcu', 'Do sprzedaży mieszkanie 46.21m2 2 pok Kraków Bukowa', 'Sprzedaż mieszkania 60.03m2 3-pokojowe Kraków', '55m², 3-pokojowe, w bloku na Starym Mieście, Kraków, ul. Józefa Dietla', 'Do wynajęcia 3 pok mieszkanie Krakow', '24 m2 | os. Kalinowe | po remoncie | bez pośredników', 'Ogłoszenie mieszkanie Kraków Wielicka 57.76m2 3 pokojowe', 'Ogłoszenie mieszkanie 46m2 2 pokoje Kraków Bukowa', 'Mieszkanie Kraków 36m2 1-pokojowe', 'Mieszkanie Kraków 38.76m2 2 pokojowe']\n",
      "60\n",
      "Prices: ['565 000 zł', '519 000 zł', '526 000 zł', '779 000 zł', '897 000 zł', '997 000 zł', '2 200 000 zł', '2 400 zł', '1 580 000 zł', '610 000 zł', '660 000 zł', '730 000 zł', '730 000 zł', '2 700 zł', '1 490 000 zł', '650 000 zł', '1 499 000 zł', '650 000 zł', '1 799 000 zł', '708 772 zł', '1 040 000 zł', '890 000 zł', '799 000 zł', '745 000 zł', '699 000 zł', '2 400 zł', '2 248 207 zł', '1 900 zł', '3 400 zł', '3 500 zł', '3 200 zł', '630 000 zł', '1 280 000 zł', '604 773 zł', '589 000 zł', '3 800 zł', '1 199 000 zł', '589 000 zł', '3 850 zł', '500 000 zł', '1 049 000 zł', '180 000 zł', '650 000 zł', '580 000 zł', '2 420 000 zł', '595 000 zł', '470 000 zł', '746 586 zł', '924 679 zł', '932 862 zł', '2 700 zł', '572 912 zł', '750 000 zł', '4 999 zł', '2 900 zł', '429 000 zł', '948 000 zł', '570 524 zł', '425 000 zł', '580 000 zł']\n",
      "60\n"
     ]
    }
   ],
   "source": [
    "import requests\n",
    "from bs4 import BeautifulSoup\n",
    "import pandas as pd\n",
    "import os\n",
    "\n",
    "url = \"https://sprzedajemy.pl/krakow/nieruchomosci/mieszkania?offset=0&items_per_page=60\"\n",
    "\n",
    "headers = {\n",
    "    \"User-Agent\": \"Mozilla/5.0 (Windows NT 10.0; Win64; x64) AppleWebKit/537.36 (KHTML, like Gecko) Chrome/58.0.3029.110 Safari/537.36\",\n",
    "    \"Accept\": \"text/html,application/xhtml+xml,application/xml;q=0.9,image/webp,image/apng,*/*;q=0.8\",\n",
    "    \"Accept-Encoding\": \"gzip, deflate, br\",\n",
    "    \"Accept-Language\": \"en-US,en;q=0.9,pl;q=0.8\",\n",
    "    \"Connection\": \"keep-alive\"\n",
    "}\n",
    "\n",
    "response = requests.get(url, headers=headers)\n",
    "response = requests.get(url, headers=headers)\n",
    "\n",
    "# Debugowanie odpowiedzi\n",
    "print(f\"Status Code: {response.status_code}\")\n",
    "print(f\"Response Headers: {response.headers}\")\n",
    "print(f\"Response Text (first 2000 chars): {response.text[:2000]}\")\n",
    "\n",
    "# Jeśli odpowiedź jest poprawna, wykonaj webscraping\n",
    "if response.status_code == 200:\n",
    "    soup = BeautifulSoup(response.content, \"html.parser\")\n",
    "\n",
    "    # Pobieranie ofert mieszkań\n",
    "    titles = [h2.a.text.strip() for h2 in soup.find_all(\"h2\", class_=\"title\") if h2.a]\n",
    "    prices = [p.text.replace(\"\\xa0\", \" \").strip() for p in soup.find_all(\"span\", class_=\"price\")]\n",
    "\n",
    "    print(\"Titles:\", titles)\n",
    "    print(len(titles))\n",
    "    print(\"Prices:\", prices)\n",
    "    print(len(prices))\n",
    "\n",
    "    df = pd.DataFrame({\"Title\": titles, \"Price\": prices})\n",
    "\n",
    "    # Dopisanie do pliku CSV\n",
    "    df.to_csv(\"scraped_data.csv\", mode='a', header=not os.path.exists('scraped_data.csv'), index=False)\n",
    "else:\n",
    "    print(\"Failed to retrieve data.\")\n"
   ]
  }
 ],
 "metadata": {
  "colab": {
   "provenance": []
  },
  "kernelspec": {
   "display_name": "Python 3",
   "name": "python3"
  },
  "language_info": {
   "codemirror_mode": {
    "name": "ipython",
    "version": 3
   },
   "file_extension": ".py",
   "mimetype": "text/x-python",
   "name": "python",
   "nbconvert_exporter": "python",
   "pygments_lexer": "ipython3",
   "version": "3.9.23"
  },
  "papermill": {
   "default_parameters": {},
   "duration": 3.236724,
   "end_time": "2025-07-11T11:47:43.572913",
   "environment_variables": {},
   "exception": null,
   "input_path": "nb.ipynb",
   "output_path": "nbo.ipynb",
   "parameters": {},
   "start_time": "2025-07-11T11:47:40.336189",
   "version": "2.6.0"
  }
 },
 "nbformat": 4,
 "nbformat_minor": 5
}