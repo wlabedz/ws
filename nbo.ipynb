{
 "cells": [
  {
   "cell_type": "code",
   "execution_count": 1,
   "id": "5bd139e6",
   "metadata": {
    "colab": {
     "base_uri": "https://localhost:8080/"
    },
    "execution": {
     "iopub.execute_input": "2025-06-23T22:55:43.317988Z",
     "iopub.status.busy": "2025-06-23T22:55:43.317748Z",
     "iopub.status.idle": "2025-06-23T22:55:45.973673Z",
     "shell.execute_reply": "2025-06-23T22:55:45.972957Z"
    },
    "id": "5pYh4c8j1w43",
    "outputId": "8a0dca73-64e5-4f0d-c493-2c5b38392363",
    "papermill": {
     "duration": 2.659187,
     "end_time": "2025-06-23T22:55:45.974793",
     "exception": false,
     "start_time": "2025-06-23T22:55:43.315606",
     "status": "completed"
    },
    "tags": []
   },
   "outputs": [
    {
     "name": "stdout",
     "output_type": "stream",
     "text": [
      "Status Code: 200\n",
      "Response Headers: {'Server': 'nginx', 'Date': 'Mon, 23 Jun 2025 22:55:45 GMT', 'Content-Type': 'text/html; charset=UTF-8', 'Transfer-Encoding': 'chunked', 'Vary': 'Accept-Encoding, User-Agent', 'Set-Cookie': 'FRSPSID=43h5bt20c6kcjh5ntkk9di5kr4; path=/; domain=.sprzedajemy.pl; secure; HttpOnly, _items_per_page__offer_list=60; expires=Wed, 23-Jul-2025 22:55:45 GMT; Max-Age=2592000; path=/; domain=.sprzedajemy.pl; secure; httponly, observed_id=2777550706859db716f4008205991725508343046; expires=Sat, 23-Jun-2125 23:55:45 GMT; Max-Age=3155677200; path=/; domain=.sprzedajemy.pl; secure; httponly', 'Expires': 'Thu, 19 Nov 1981 08:52:00 GMT', 'Cache-Control': 'no-store, no-cache, must-revalidate, post-check=0, pre-check=0', 'Pragma': 'no-cache', 'Content-Encoding': 'gzip'}\n",
      "Response Text (first 2000 chars): <!DOCTYPE html><html xmlns=\"http://www.w3.org/1999/xhtml\" xml:lang=\"pl\" lang=\"pl\" class=\"no-js\" >\n",
      "<head>\n",
      "\t\t\t<!-- Google Tag Manager -->\n",
      "\t\t\t<script>(function(w,d,s,l,i){w[l]=w[l]||[];w[l].push({'gtm.start':\n",
      "\t\t\t\t\t\tnew Date().getTime(),event:'gtm.js'});var f=d.getElementsByTagName(s)[0],\n",
      "\t\t\t\t\tj=d.createElement(s),dl=l!='dataLayer'?'&l='+l:'';j.async=true;j.src=\n",
      "\t\t\t\t\t'https://www.googletagmanager.com/gtm.js?id='+i+dl\n",
      "\t\t\t\t\t\t\t\t\t    ;f.parentNode.insertBefore(j,f);\n",
      "\t\t\t\t    })(window,document,'script','dataLayer','GTM-P3S238');</script>\n",
      "\t\t\t<!-- End Google Tag Manager -->\n",
      "\t<title>Mieszkania Kraków na sprzedaż, wynajem - Sprzedajemy.pl</title><meta http-equiv=\"Content-Type\" content=\"text/html; charset=UTF-8\" >\n",
      "<meta http-equiv=\"X-UA-Compatible\" content=\"IE=edge\" >\n",
      "<meta name=\"description\" content=\"Ogłoszenia o tematyce:  w kategorii Mieszkania - Kupuj i sprzedawaj rzeczy używane i nowe w kategorii Mieszkania na Sprzedajemy.pl\" >\n",
      "<meta property=\"og:title\" content=\"Mieszkania Kraków na sprzedaż, wynajem - Sprzedajemy.pl\" >\n",
      "<meta property=\"og:type\" content=\"website\" >\n",
      "<meta property=\"og:image\" content=\"https://thumbs.img-sprzedajemy.pl/facebook/sprzedajemy.pl.png\" >\n",
      "<meta property=\"og:image:width\" content=\"200\" >\n",
      "<meta property=\"og:image:height\" content=\"200\" >\n",
      "<meta property=\"og:url\" content=\"https://sprzedajemy.pl/krakow/nieruchomosci/mieszkania\" >\n",
      "<meta property=\"og:site_name\" content=\"Sprzedajemy.pl\" >\n",
      "<meta property=\"fb:app_id\" content=\"173258269367442\" >\n",
      "<meta property=\"og:description\" content=\"Ogłoszenia o tematyce:  w kategorii Mieszkania - Kupuj i sprzedawaj rzeczy używane i nowe w kategorii Mieszkania na Sprzedajemy.pl\" >\n",
      "<meta name=\"robots\" content=\"noindex, follow\" >\t\t<script  async=\"async\" src=\"https://static.criteo.net/js/ld/publishertag.js\"></script>\n",
      "        <script  async=\"async\" src=\"https://ap.lijit.com/www/sovrn_beacon_standalone/sovrn_standalone_beacon.js?iid=13417409&amp;uid=sprzedajemy\" id=\"sBeacon\"></script>\n",
      "\t\t<script  async=\"async\" src=\"https://securepuba\n",
      "Titles: ['Stylowy apartament z widokiem na panoramę Krakowa - od właściciela', 'Wyjątkowe mieszkanie z widokiem na klasztor w Tyńcu i panoramę Tatr', 'Nowoczesny apartament z panoramicznym widokiem - od właściciela', 'Mieszkanie na sprzedaż/zamiana 39m2', 'Kraków, Stare Miasto sprzedaż/zamiana', 'wykończone 27,56 m², balkon, Kniaźnina, TRAMWAJ, Prądnik Czerwony/Huta', 'Mieszkanie 2 pokojowe', 'Stare Miasto 61,5 m2 KLIMA Wawel wykończone Kazimierz wysokie ROI', 'Stare Miasto 32m2 KLIMA Wawel wykończone Kazimierz wysokie ROI', '3-pok od właściciela, wyremontowane wyposażone, blisko centrum, zieleń', 'Mieszkanie Kraków Reduta 120.54m2 4-pokojowe', 'Oferta wynajmu mieszkania Kraków 50m2 2 pokoje', 'Oferta sprzedaży mieszkania Kraków 77.01m2 4 pokojowe', 'Syndyk sprzeda udział 1/6 w lokalu mieszkalnym w Krakowie', 'Mieszkanie 105m2 4 pokoje Kraków', 'Mieszkanie 100.2 metry 3 pokoje Kraków', 'Sprzedaż mieszkania 101.17m2 4 pok Kraków', 'Mieszkanie 76.94 metry 4 pok Kraków Reduta', 'Mieszkanie Kraków 45.49m2 2-pok', 'Mieszkanie 46m2 3-pok Kraków Rusznikarska', 'Oferta sprzedaży mieszkania Kraków 101.52m2 4-pokojowe', 'Mieszkanie Kraków Borkowska 44m2 2 pok', 'Mieszkanie 70.69m2 3-pokojowe Kraków', 'Mieszkanie Kraków 61.9m2 3 pokojowe', 'Mieszkanie 49.14m2 Kraków Juliusza Lea', 'Ogłoszenie mieszkanie Kraków 74.25m2 4 pok', 'Mieszkanie Kraków Szuwarowa 64.59m2 2 pokoje', 'Mieszkanie Kraków 76.94m2 3 pokojowe', 'Kawalerka | Uniwersytet Ekonomiczny | Grzegórzki', 'Mieszkanie do sprzedania Kraków 37.49m2 2-pok', 'Mieszkanie Kraków os. Wolfganga Amadeusa Mozarta 51.31m2 2-pokojowe', 'Mieszkanie Kraków os. Tysiąclecia 28.2m2 1 pokój', 'Oferta wynajmu mieszkania 47m2 3-pokojowe Kraków os. Piastów', 'Mieszkanie Kraków Reduta 90.25m2 3 pokoje', 'Mistrzejowice - 2 pokoje, jasna kuchnia, balkon', 'Oferta sprzedaży mieszkania 77.38m2 3-pokojowe Kraków', 'Mieszkanie na sprzedaż Kraków Halszki 35 metrów 1 pokój', '4p mieszkanie z ogródkiem w pięknej szeregówce', 'Mieszkanie Kraków Krakowska 77.24m2 3 pokoje', 'Ruczaj - dwupokojowe z aneksem kuchennym, 2002r.', 'Mieszkanie 3p w kamienicy w pobliżu Salwatoru', 'Oferta sprzedaży mieszkania Kraków Henryka Pachońskiego 52.5m2 3 pokojowe', 'Mieszkanie 66.9m2 3 pokoje Kraków Makowa', 'Do sprzedaży mieszkanie 57.07 metrów 3 pokojowe Kraków', '2 poziomowe, ogródek, garaż przy Galerii Bronowice', 'Mieszkanie Kraków Zgody 61.11m2 3-pokojowe', 'Sprzedaż mieszkania Kraków Bonerowska 64m2 2-pok', 'Mieszkanie do sprzedania Kraków dr. Jana Piltza 36.89m2', 'Oferta sprzedaży mieszkania Kraków 54.53m2 4 pokoje', 'Mieszkanie 57.19m Kraków', 'Mieszkanie 34.79m2 2-pokojowe Kraków Kantrowicka', 'Pet Friendly - mieszkanie do wynajęcia na Czyżynach 30m² od zaraz', 'Mieszkanie Kraków Bukowa 57.19m 3 pokojowe', 'Oferta sprzedaży mieszkania 51.41m2 3-pok Kraków', 'Słoneczne mieszkanko z dużym balkonem', 'Sprzedam piękne mieszkanie Kraków borek Fałecki', 'Wynajmie 3pok.mieszkanie z ogródkiem Krakow Glogera', 'Górka Narodowa | 2 pokoje, balkon i widok | 56,7m2', 'Mieszkanie 48.88m2 2-pok Kraków Młyńska', 'Mieszkanie do wynajęcia 46m2 2 pokoje Kraków Zwierzyniecka']\n",
      "60\n",
      "Prices: ['897 000 zł', '779 000 zł', '997 000 zł', '539 000 zł', '2 215 000 zł', '569 000 zł', '489 000 zł', '1 782 885 zł', '989 000 zł', '839 000 zł', '2 097 000 zł', '2 900 zł', '1 355 000 zł', '66 500 zł', '1 700 000 zł', '1 450 000 zł', '1 080 000 zł', '1 198 000 zł', '715 000 zł', '699 000 zł', '1 842 588 zł', '600 000 zł', '1 360 783 zł', '799 000 zł', '718 000 zł', '1 134 000 zł', '860 000 zł', '1 198 000 zł', '560 000 zł', '552 000 zł', '790 000 zł', '490 000 zł', '2 500 zł', '1 338 000 zł', '560 000 zł', '1 243 000 zł', '460 000 zł', '999 000 zł', '1 250 000 zł', '659 000 zł', '799 000 zł', '660 000 zł', '810 000 zł', '1 036 391 zł', '5 900 zł', '749 800 zł', '1 170 000 zł', '664 000 zł', '699 000 zł', '651 966 zł', '521 850 zł', '2 050 zł', '651 966 zł', '694 035 zł', '699 000 zł', '599 000 zł', '3 500 zł', '695 000 zł', '583 500 zł', '2 700 zł']\n",
      "60\n"
     ]
    }
   ],
   "source": [
    "import requests\n",
    "from bs4 import BeautifulSoup\n",
    "import pandas as pd\n",
    "import os\n",
    "\n",
    "url = \"https://sprzedajemy.pl/krakow/nieruchomosci/mieszkania?offset=0&items_per_page=60\"\n",
    "\n",
    "headers = {\n",
    "    \"User-Agent\": \"Mozilla/5.0 (Windows NT 10.0; Win64; x64) AppleWebKit/537.36 (KHTML, like Gecko) Chrome/58.0.3029.110 Safari/537.36\",\n",
    "    \"Accept\": \"text/html,application/xhtml+xml,application/xml;q=0.9,image/webp,image/apng,*/*;q=0.8\",\n",
    "    \"Accept-Encoding\": \"gzip, deflate, br\",\n",
    "    \"Accept-Language\": \"en-US,en;q=0.9,pl;q=0.8\",\n",
    "    \"Connection\": \"keep-alive\"\n",
    "}\n",
    "\n",
    "response = requests.get(url, headers=headers)\n",
    "response = requests.get(url, headers=headers)\n",
    "\n",
    "# Debugowanie odpowiedzi\n",
    "print(f\"Status Code: {response.status_code}\")\n",
    "print(f\"Response Headers: {response.headers}\")\n",
    "print(f\"Response Text (first 2000 chars): {response.text[:2000]}\")\n",
    "\n",
    "# Jeśli odpowiedź jest poprawna, wykonaj webscraping\n",
    "if response.status_code == 200:\n",
    "    soup = BeautifulSoup(response.content, \"html.parser\")\n",
    "\n",
    "    # Pobieranie ofert mieszkań\n",
    "    titles = [h2.a.text.strip() for h2 in soup.find_all(\"h2\", class_=\"title\") if h2.a]\n",
    "    prices = [p.text.replace(\"\\xa0\", \" \").strip() for p in soup.find_all(\"span\", class_=\"price\")]\n",
    "\n",
    "    print(\"Titles:\", titles)\n",
    "    print(len(titles))\n",
    "    print(\"Prices:\", prices)\n",
    "    print(len(prices))\n",
    "\n",
    "    df = pd.DataFrame({\"Title\": titles, \"Price\": prices})\n",
    "\n",
    "    # Dopisanie do pliku CSV\n",
    "    df.to_csv(\"scraped_data.csv\", mode='a', header=not os.path.exists('scraped_data.csv'), index=False)\n",
    "else:\n",
    "    print(\"Failed to retrieve data.\")\n"
   ]
  }
 ],
 "metadata": {
  "colab": {
   "provenance": []
  },
  "kernelspec": {
   "display_name": "Python 3",
   "name": "python3"
  },
  "language_info": {
   "codemirror_mode": {
    "name": "ipython",
    "version": 3
   },
   "file_extension": ".py",
   "mimetype": "text/x-python",
   "name": "python",
   "nbconvert_exporter": "python",
   "pygments_lexer": "ipython3",
   "version": "3.9.22"
  },
  "papermill": {
   "default_parameters": {},
   "duration": 3.813954,
   "end_time": "2025-06-23T22:55:46.192076",
   "environment_variables": {},
   "exception": null,
   "input_path": "nb.ipynb",
   "output_path": "nbo.ipynb",
   "parameters": {},
   "start_time": "2025-06-23T22:55:42.378122",
   "version": "2.6.0"
  }
 },
 "nbformat": 4,
 "nbformat_minor": 5
}