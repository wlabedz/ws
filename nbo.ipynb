{
 "cells": [
  {
   "cell_type": "code",
   "execution_count": 1,
   "id": "165fb4d5",
   "metadata": {
    "colab": {
     "base_uri": "https://localhost:8080/"
    },
    "execution": {
     "iopub.execute_input": "2025-07-25T18:23:43.002669Z",
     "iopub.status.busy": "2025-07-25T18:23:43.002353Z",
     "iopub.status.idle": "2025-07-25T18:23:45.028826Z",
     "shell.execute_reply": "2025-07-25T18:23:45.028065Z"
    },
    "id": "5pYh4c8j1w43",
    "outputId": "8a0dca73-64e5-4f0d-c493-2c5b38392363",
    "papermill": {
     "duration": 2.030151,
     "end_time": "2025-07-25T18:23:45.030036",
     "exception": false,
     "start_time": "2025-07-25T18:23:42.999885",
     "status": "completed"
    },
    "tags": []
   },
   "outputs": [
    {
     "name": "stdout",
     "output_type": "stream",
     "text": [
      "Status Code: 200\n",
      "Response Headers: {'Server': 'nginx', 'Date': 'Fri, 25 Jul 2025 18:23:44 GMT', 'Content-Type': 'text/html; charset=UTF-8', 'Transfer-Encoding': 'chunked', 'Vary': 'Accept-Encoding, User-Agent', 'Set-Cookie': 'FRSPSID=bnpsfcljc5i5cqakacp0jmeh61; path=/; domain=.sprzedajemy.pl; secure; HttpOnly, _items_per_page__offer_list=60; expires=Sun, 24-Aug-2025 18:23:44 GMT; Max-Age=2592000; path=/; domain=.sprzedajemy.pl; secure; httponly, observed_id=16948404336883cbb097303359929254388610823; expires=Wed, 25-Jul-2125 19:23:44 GMT; Max-Age=3155677200; path=/; domain=.sprzedajemy.pl; secure; httponly', 'Expires': 'Thu, 19 Nov 1981 08:52:00 GMT', 'Cache-Control': 'no-store, no-cache, must-revalidate, post-check=0, pre-check=0', 'Pragma': 'no-cache', 'Content-Encoding': 'gzip'}\n",
      "Response Text (first 2000 chars): <!DOCTYPE html><html xmlns=\"http://www.w3.org/1999/xhtml\" xml:lang=\"pl\" lang=\"pl\" class=\"no-js\" >\n",
      "<head>\n",
      "\t\t\t<!-- Google Tag Manager -->\n",
      "\t\t\t<script>(function(w,d,s,l,i){w[l]=w[l]||[];w[l].push({'gtm.start':\n",
      "\t\t\t\t\t\tnew Date().getTime(),event:'gtm.js'});var f=d.getElementsByTagName(s)[0],\n",
      "\t\t\t\t\tj=d.createElement(s),dl=l!='dataLayer'?'&l='+l:'';j.async=true;j.src=\n",
      "\t\t\t\t\t'https://www.googletagmanager.com/gtm.js?id='+i+dl\n",
      "\t\t\t\t\t\t\t\t\t    ;f.parentNode.insertBefore(j,f);\n",
      "\t\t\t\t    })(window,document,'script','dataLayer','GTM-P3S238');</script>\n",
      "\t\t\t<!-- End Google Tag Manager -->\n",
      "\t<title>Mieszkania Kraków na sprzedaż, wynajem - Sprzedajemy.pl</title><meta http-equiv=\"Content-Type\" content=\"text/html; charset=UTF-8\" >\n",
      "<meta http-equiv=\"X-UA-Compatible\" content=\"IE=edge\" >\n",
      "<meta name=\"description\" content=\"Ogłoszenia o tematyce:  w kategorii Mieszkania - Kupuj i sprzedawaj rzeczy używane i nowe w kategorii Mieszkania na Sprzedajemy.pl\" >\n",
      "<meta property=\"og:title\" content=\"Mieszkania Kraków na sprzedaż, wynajem - Sprzedajemy.pl\" >\n",
      "<meta property=\"og:type\" content=\"website\" >\n",
      "<meta property=\"og:image\" content=\"https://thumbs.img-sprzedajemy.pl/facebook/sprzedajemy.pl.png\" >\n",
      "<meta property=\"og:image:width\" content=\"200\" >\n",
      "<meta property=\"og:image:height\" content=\"200\" >\n",
      "<meta property=\"og:url\" content=\"https://sprzedajemy.pl/krakow/nieruchomosci/mieszkania\" >\n",
      "<meta property=\"og:site_name\" content=\"Sprzedajemy.pl\" >\n",
      "<meta property=\"fb:app_id\" content=\"173258269367442\" >\n",
      "<meta property=\"og:description\" content=\"Ogłoszenia o tematyce:  w kategorii Mieszkania - Kupuj i sprzedawaj rzeczy używane i nowe w kategorii Mieszkania na Sprzedajemy.pl\" >\n",
      "<meta name=\"robots\" content=\"noindex, follow\" >\t\t<script  async=\"async\" src=\"https://static.criteo.net/js/ld/publishertag.js\"></script>\n",
      "        <script  async=\"async\" src=\"https://ap.lijit.com/www/sovrn_beacon_standalone/sovrn_standalone_beacon.js?iid=13417409&amp;uid=sprzedajemy\" id=\"sBeacon\"></script>\n",
      "\t\t<script  async=\"async\" src=\"https://securepuba\n",
      "Titles: ['Mieszkanie na sprzedaż/zamiana 39m2', 'Mieszkanie Wola Justowska /Bielany 36m2', 'Nowoczesny apartament z panoramicznym widokiem - od właściciela', 'Wyjątkowe mieszkanie z widokiem na klasztor w Tyńcu i panoramę Tatr', 'Stylowy apartament z widokiem na panoramę Krakowa - od właściciela', 'Kraków, Stare Miasto sprzedaż/zamiana', '2-pokojowe mieszkanie na Zabłociu – ciche, świetna lokalizacja! [Wirtualny…', '4pokoje 68m2 balkon KLIMA Śródmieście BEZ PROWIZJI od właściciela', 'Dom - Kraków Tonie - Zielona okolica - 123 m2 | 5 - pok. | Ogród | Taras |…', 'Mieszkanie 49m2 Kraków', 'Mieszkanie 40m2 2 pokojowe Kraków Bunscha', 'Mieszkanie 38.69m2 4 pokoje Kraków', 'Mieszkanie 37m2 2 pokoje Kraków', 'Do wynajęcia mieszkanie Kraków 45m2 3 pokoje', 'Sprzedaż mieszkania Kraków Jasnogórska 62.19m2 3 pokoje', 'Mieszkanie Kraków 38.69m2 2 pokoje', 'Mieszkanie 55m2 3 pokoje Kraków os. Na Stoku', 'Mieszkanie 38.62m2 2 pokoje Kraków', 'Mieszkanie Kraków Przemysłowa 64m2 2 pokojowe', 'Mieszkanie Kraków Imbramowska 38.69m2 3 pokoje', 'Mieszkanie Kraków 49.69m2 2 pok', 'Do sprzedaży mieszkanie 45.53m2 2 pokojowe Kraków os. Teatralne', 'Mieszkanie 38.69 metrów 2 pokoje Kraków Imbramowska', 'Ogłoszenie mieszkanie 58.66m2 2 pokoje Kraków', 'Ogłoszenie mieszkanie Kraków dr. Jana Piltza 67.9m2 3-pok', 'Oferta wynajmu mieszkania Kraków Fredry 66m2 3-pok', 'Oferta sprzedaży mieszkania Kraków 122.05m2 3 pok', 'Mieszkanie Kraków Obozowa 75.6m2 3-pok', 'Mieszkanie Kraków Imbramowska 38.69 metrów 2 pok', 'Sprzedam mieszkanie Kraków Imbramowska 38.69m2 2 pokoje', 'Mieszkanie sprzedam 38.69m2 2 pokoje Kraków', 'Ogłoszenie mieszkanie 35.31m2 2 pokoje Kraków Mitery', 'Mieszkanie 73m 3 pokojowe Kraków', 'Mieszkanie 112m2 5 pokoi Kraków', 'Do sprzedaży mieszkanie Kraków Romana Żelazowskiego 55.07m2', 'Mieszkanie 33.3m2 2 pok Kraków', 'Sprzedam mieszkanie Kraków 108m2 4 pok', 'Wynajmę mieszkanie 51m2 2 pokojowe Kraków', 'Mieszkanie 51m2 2 pok Kraków', 'Mieszkanie Kraków 62.19m2 3 pokojowe', 'Mieszkanie 62.19m2 3 pok Kraków Jasnogórska', 'Mieszkanie Kraków Babińskiego 82.96m2 3-pokojowe', 'Mieszkanie 76m2 4-pok Kraków Głowackiego', 'Mieszkanie Kraków Strzelców 46.01m2 2 pok', 'Mieszkanie Kraków Jasnogórska 62.19m2 3-pokojowe', 'Oferta sprzedaży mieszkania 38.69m2 2-pokojowe Kraków Imbramowska', 'Mieszkanie Kraków Imbramowska 38.69m2 2 pok', 'Mieszkanie Kraków Podbrzezie 52m2 3 pokoje', 'Do sprzedaży mieszkanie Kraków Marii i Bolesława Wysłouchów 52m2 3 pokoje', 'Mieszkanie 573.12m2 2 pokoje Kraków Józefińska', 'Mieszkanie Kraków Jana Pawła II 32.54m2 1 pokój', 'Mieszkanie 38.69m2 3-pokojowe Kraków Imbramowska', 'Mieszkanie 44m2 Kraków', 'Mieszkanie na sprzedaż 63.64m2 4 pokoje Kraków Krowoderskich Zuchów', 'Kaucja 1000 zł! 2-pokojowe mieszkanie 53 m², Prądnik Czerwony, Ugorek', 'Do wynajęcia mieszkanie 53m2 2 pokoje Kraków Chmieleniec', 'Mieszkanie Kraków 45.3m2 2-pokojowe', 'Mieszkanie 105m2 4 pokoje Kraków', 'Mieszkanie Kraków Rusznikarska 69.5 metrów 3-pokojowe', 'Wzgórza Krzesławickie 5 pokoi, garaż']\n",
      "60\n",
      "Prices: ['526 000 zł', '487 000 zł', '997 000 zł', '779 000 zł', '897 000 zł', '2 153 000 zł', '499 000 zł', '1 850 000 zł', '2 275 000 zł', '865 000 zł', '799 000 zł', '687 706 zł', '2 800 zł', '3 993 zł', '858 222 zł', '727 928 zł', '730 000 zł', '459 000 zł', '4 000 zł', '886 950 zł', '2 500 zł', '538 000 zł', '741 096 zł', '978 000 zł', '1 100 000 zł', '4 500 zł', '3 782 574 zł', '1 150 000 zł', '730 944 zł', '823 310 zł', '718 350 zł', '689 000 zł', '3 500 zł', '2 190 000 zł', '590 000 zł', '790 000 zł', '1 450 000 zł', '4 000 zł', '1 699 000 zł', '870 660 zł', '870 660 zł', '1 484 984 zł', '3 800 zł', '780 000 zł', '858 222 zł', '707 078 zł', '700 488 zł', '5 300 zł', '709 000 zł', '8 000 000 zł', '640 000 zł', '873 810 zł', '2 900 zł', '795 000 zł', '2 150 zł', '2 800 zł', '2 500 zł', '1 700 000 zł', '3 000 zł', '1 199 000 zł']\n",
      "60\n"
     ]
    }
   ],
   "source": [
    "import requests\n",
    "from bs4 import BeautifulSoup\n",
    "import pandas as pd\n",
    "import os\n",
    "\n",
    "url = \"https://sprzedajemy.pl/krakow/nieruchomosci/mieszkania?offset=0&items_per_page=60\"\n",
    "\n",
    "headers = {\n",
    "    \"User-Agent\": \"Mozilla/5.0 (Windows NT 10.0; Win64; x64) AppleWebKit/537.36 (KHTML, like Gecko) Chrome/58.0.3029.110 Safari/537.36\",\n",
    "    \"Accept\": \"text/html,application/xhtml+xml,application/xml;q=0.9,image/webp,image/apng,*/*;q=0.8\",\n",
    "    \"Accept-Encoding\": \"gzip, deflate, br\",\n",
    "    \"Accept-Language\": \"en-US,en;q=0.9,pl;q=0.8\",\n",
    "    \"Connection\": \"keep-alive\"\n",
    "}\n",
    "\n",
    "response = requests.get(url, headers=headers)\n",
    "response = requests.get(url, headers=headers)\n",
    "\n",
    "# Debugowanie odpowiedzi\n",
    "print(f\"Status Code: {response.status_code}\")\n",
    "print(f\"Response Headers: {response.headers}\")\n",
    "print(f\"Response Text (first 2000 chars): {response.text[:2000]}\")\n",
    "\n",
    "# Jeśli odpowiedź jest poprawna, wykonaj webscraping\n",
    "if response.status_code == 200:\n",
    "    soup = BeautifulSoup(response.content, \"html.parser\")\n",
    "\n",
    "    # Pobieranie ofert mieszkań\n",
    "    titles = [h2.a.text.strip() for h2 in soup.find_all(\"h2\", class_=\"title\") if h2.a]\n",
    "    prices = [p.text.replace(\"\\xa0\", \" \").strip() for p in soup.find_all(\"span\", class_=\"price\")]\n",
    "\n",
    "    print(\"Titles:\", titles)\n",
    "    print(len(titles))\n",
    "    print(\"Prices:\", prices)\n",
    "    print(len(prices))\n",
    "\n",
    "    df = pd.DataFrame({\"Title\": titles, \"Price\": prices})\n",
    "\n",
    "    # Dopisanie do pliku CSV\n",
    "    df.to_csv(\"scraped_data.csv\", mode='a', header=not os.path.exists('scraped_data.csv'), index=False)\n",
    "else:\n",
    "    print(\"Failed to retrieve data.\")\n"
   ]
  }
 ],
 "metadata": {
  "colab": {
   "provenance": []
  },
  "kernelspec": {
   "display_name": "Python 3",
   "name": "python3"
  },
  "language_info": {
   "codemirror_mode": {
    "name": "ipython",
    "version": 3
   },
   "file_extension": ".py",
   "mimetype": "text/x-python",
   "name": "python",
   "nbconvert_exporter": "python",
   "pygments_lexer": "ipython3",
   "version": "3.9.23"
  },
  "papermill": {
   "default_parameters": {},
   "duration": 3.190929,
   "end_time": "2025-07-25T18:23:45.247750",
   "environment_variables": {},
   "exception": null,
   "input_path": "nb.ipynb",
   "output_path": "nbo.ipynb",
   "parameters": {},
   "start_time": "2025-07-25T18:23:42.056821",
   "version": "2.6.0"
  }
 },
 "nbformat": 4,
 "nbformat_minor": 5
}