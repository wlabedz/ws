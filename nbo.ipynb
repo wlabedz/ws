{
 "cells": [
  {
   "cell_type": "code",
   "execution_count": 1,
   "id": "f17e6469",
   "metadata": {
    "colab": {
     "base_uri": "https://localhost:8080/"
    },
    "execution": {
     "iopub.execute_input": "2025-05-20T05:54:04.332154Z",
     "iopub.status.busy": "2025-05-20T05:54:04.331892Z",
     "iopub.status.idle": "2025-05-20T05:54:06.565931Z",
     "shell.execute_reply": "2025-05-20T05:54:06.565345Z"
    },
    "id": "5pYh4c8j1w43",
    "outputId": "8a0dca73-64e5-4f0d-c493-2c5b38392363",
    "papermill": {
     "duration": 2.237685,
     "end_time": "2025-05-20T05:54:06.566991",
     "exception": false,
     "start_time": "2025-05-20T05:54:04.329306",
     "status": "completed"
    },
    "tags": []
   },
   "outputs": [
    {
     "name": "stdout",
     "output_type": "stream",
     "text": [
      "Status Code: 200\n",
      "Response Headers: {'Server': 'nginx', 'Date': 'Tue, 20 May 2025 05:54:06 GMT', 'Content-Type': 'text/html; charset=UTF-8', 'Transfer-Encoding': 'chunked', 'Vary': 'Accept-Encoding, User-Agent', 'Set-Cookie': 'FRSPSID=igbbnlc9d26b509au4se3odrl4; path=/; domain=.sprzedajemy.pl; secure; HttpOnly, _items_per_page__offer_list=60; expires=Thu, 19-Jun-2025 05:54:06 GMT; Max-Age=2592000; path=/; domain=.sprzedajemy.pl; secure; httponly, observed_id=497543452682c18fe257e58148821972721835024; expires=Sun, 20-May-2125 06:54:06 GMT; Max-Age=3155677200; path=/; domain=.sprzedajemy.pl; secure; httponly', 'Expires': 'Thu, 19 Nov 1981 08:52:00 GMT', 'Cache-Control': 'no-store, no-cache, must-revalidate, post-check=0, pre-check=0', 'Pragma': 'no-cache', 'Content-Encoding': 'gzip'}\n",
      "Response Text (first 2000 chars): <!DOCTYPE html><html xmlns=\"http://www.w3.org/1999/xhtml\" xml:lang=\"pl\" lang=\"pl\" class=\"no-js\" >\n",
      "<head>\n",
      "\t\t\t<!-- Google Tag Manager -->\n",
      "\t\t\t<script>(function(w,d,s,l,i){w[l]=w[l]||[];w[l].push({'gtm.start':\n",
      "\t\t\t\t\t\tnew Date().getTime(),event:'gtm.js'});var f=d.getElementsByTagName(s)[0],\n",
      "\t\t\t\t\tj=d.createElement(s),dl=l!='dataLayer'?'&l='+l:'';j.async=true;j.src=\n",
      "\t\t\t\t\t'https://www.googletagmanager.com/gtm.js?id='+i+dl\n",
      "\t\t\t\t\t\t\t\t\t    ;f.parentNode.insertBefore(j,f);\n",
      "\t\t\t\t    })(window,document,'script','dataLayer','GTM-P3S238');</script>\n",
      "\t\t\t<!-- End Google Tag Manager -->\n",
      "\t<title>Mieszkania Kraków na sprzedaż, wynajem - Sprzedajemy.pl</title><meta http-equiv=\"Content-Type\" content=\"text/html; charset=UTF-8\" >\n",
      "<meta http-equiv=\"X-UA-Compatible\" content=\"IE=edge\" >\n",
      "<meta name=\"description\" content=\"Ogłoszenia o tematyce:  w kategorii Mieszkania - Kupuj i sprzedawaj rzeczy używane i nowe w kategorii Mieszkania na Sprzedajemy.pl\" >\n",
      "<meta property=\"og:title\" content=\"Mieszkania Kraków na sprzedaż, wynajem - Sprzedajemy.pl\" >\n",
      "<meta property=\"og:type\" content=\"website\" >\n",
      "<meta property=\"og:image\" content=\"https://thumbs.img-sprzedajemy.pl/facebook/sprzedajemy.pl.png\" >\n",
      "<meta property=\"og:image:width\" content=\"200\" >\n",
      "<meta property=\"og:image:height\" content=\"200\" >\n",
      "<meta property=\"og:url\" content=\"https://sprzedajemy.pl/krakow/nieruchomosci/mieszkania\" >\n",
      "<meta property=\"og:site_name\" content=\"Sprzedajemy.pl\" >\n",
      "<meta property=\"fb:app_id\" content=\"173258269367442\" >\n",
      "<meta property=\"og:description\" content=\"Ogłoszenia o tematyce:  w kategorii Mieszkania - Kupuj i sprzedawaj rzeczy używane i nowe w kategorii Mieszkania na Sprzedajemy.pl\" >\n",
      "<meta name=\"robots\" content=\"noindex, follow\" >\t\t<script  async=\"async\" src=\"https://static.criteo.net/js/ld/publishertag.js\"></script>\n",
      "        <script  async=\"async\" src=\"https://ap.lijit.com/www/sovrn_beacon_standalone/sovrn_standalone_beacon.js?iid=13417409&amp;uid=sprzedajemy\" id=\"sBeacon\"></script>\n",
      "\t\t<script  async=\"async\" src=\"https://securepuba\n",
      "Titles: ['Strych do adaptacji, Błonia, ul. Filarecka', 'Kraków, Stare Miasto sprzedaż/zamiana', 'Stylowy apartament z widokiem na panoramę Krakowa - od właściciela', 'Nowoczesny apartament z panoramicznym widokiem - od właściciela', 'Wyjątkowe mieszkanie z widokiem na klasztor w Tyńcu i panoramę Tatr', '2 lub 3 pokoje,62m2,balkon, Widok na Wawel', 'Kraków Bronowice Stawowa 168 / 60m2 3 POK/ 22,5 m2 taras/ BEZ POŚREDNIKÓW', 'Mieszkanie do sprzedania Kraków Filipowicza 72m2 2 pokojowe', 'Mieszkanie 34m2 2 pokoje Kraków Na Wzgórzach', 'Mieszkanie Kraków os. Hutnicze 20.81m2 1 pokój', 'Wynajmę mieszkanie Kraków Kantora 36m2 1 pokój', 'Mieszkanie 30.45m2 1 pokojowe Kraków', 'Mieszkanie Kraków Chełmońskiego 64.14m2 3 pokoje', 'Mieszkanie 101.17m2 4 pokoje Kraków Dożynkowa', 'Sprzedaż mieszkania Kraków Podmiejska 74.7m2 3-pok', 'Oferta sprzedaży mieszkania 29.44m2 1-pokojowe Kraków', 'Mieszkanie Kraków Kazimierza Wielkiego 53m2 2 pokojowe', 'Sprzedam mieszkanie Kraków 66.9m2 3 pokoje', 'Mieszkanie 66.15m2 2 pok Kraków Majowa', 'Mieszkanie Kraków Balicka 76.3 metry', 'Oferta sprzedaży mieszkania Kraków Dworcowa 43.28m2 2 pokoje', 'Ogłoszenie mieszkanie Kraków 30 metrów 1 pokojowe', 'Mieszkanie 2-pokojowe na wynajem', 'TBS Rżąka Rydygiera 1 pokój 33 m2 parter ogródek', 'Stare Miasto mieszkanie na sprzedaż/zamiana', 'Mieszkanie na sprzedaż Kraków 57.76m2 3 pokoje', 'Jednopokojowe z oddzielną kuchnią', 'Wola Duchacka 2 pokoje + 2 komóki wliczone w cenę', 'Oferta sprzedaży mieszkania Kraków Olszanicka 151.83m2 7 pokojowe', 'Ogłoszenie mieszkanie 49.9m2 2 pok Kraków Szlak', '4-POKOJOWE MIESZKANIE - BEZPOŚREDNIO', '2 pokoje oddzielna kuchnia z jadalnią Przy parku', 'Mieszkanie Kraków os. Tysiąclecia 28.2m2 1-pokojowe', 'Do sprzedaży mieszkanie 61.99m2 4 pok Kraków Cegielniana', 'Jasne mieszkanie Myśliwska Płaszów', 'Sprzedam mieszkanie 26m oś Szkolne Kraków', 'Mieszkanie sprzedam 57.77m2 3-pokojowe Kraków', 'Oferta sprzedaży mieszkania Kraków 54.55m2 2 pokoje', '2 pok,oddzielna kuchnia,klima,parking, Wrocławska', 'Bezpośrednio wynajmę 2-pokojowe ul.Batorego po remoncie.', 'Mieszkanie Kraków Dąbska 37m2 2 pokoje', 'Sprzedam mieszkanie lub zamienię na dom', 'Do wynajęcia mieszkanie jednopokojowe 36m', 'Małe mieszkanie w dzielnicy Dąbie w Krakowie', 'Mieszkanie na sprzedaż 71m2 3 pok Kraków', 'Mieszkanie Kraków 41.3m2 2-pok', 'Mieszkanie na Złocieniu! Super cena i GRATIS', '3 pokoje, na Kazimierzu w Super Cenie!', '3-Pokojowe Mieszkanie 55 m² | Bieńczyce', 'Mieszkanie 52.50m2 Kraków ul. Teligi (garaż + komórka - opcjonalnie)', 'Bezpośrednio sprzedam mieszkanie Kraków ul. Batorego', 'Mieszkanie Kraków Wita Stwosza 18.63m2 1 pokojowe', 'Mieszkanie Kraków Reduta 74.33m2', 'Mieszkanie 16.03m2 Kraków', 'Oferta sprzedaży mieszkania 120.73m2 4-pokojowe Kraków Reduta', 'Oferta sprzedaży mieszkania Kraków 21.71m2 1-pok', 'Sprzedam mieszkanie 137.1m2 5-pok Kraków Reduta', 'Mieszkanie 47.6m2 2 pokojowe Kraków Filipa - okolice', 'Mieszkanie Luxusowe - Podgórze Duchackie', 'Mieszkanie Kraków 16.03m2 1 pokój']\n",
      "60\n",
      "Prices: ['379 999 zł', '2 243 000 zł', '897 000 zł', '997 000 zł', '790 000 zł', '1 490 000 zł', '1 137 500 zł', '849 000 zł', '1 850 zł', '499 000 zł', '1 900 zł', '850 000 zł', '3 800 zł', '1 080 000 zł', '1 159 000 zł', '569 000 zł', '739 000 zł', '999 999 zł', '2 600 zł', '3 600 zł', '559 000 zł', '1 950 zł', '2 400 zł', '195 000 zł', '2 243 000 zł', '855 000 zł', '2 000 zł', '680 000 zł', '2 383 737 zł', '3 200 zł', '880 000 zł', '510 000 zł', '499 000 zł', '990 000 zł', '995 610 zł', '390 000 zł', '860 000 zł', '830 000 zł', '3 200 zł', '3 850 zł', '665 000 zł', '469 000 zł', '2 000 zł', '500 000 zł', '1 065 000 zł', '610 000 zł', '648 000 zł', '880 000 zł', '649 000 zł', '807 000 zł', '1 650 000 zł', '405 202 zł', '1 134 000 zł', '356 667 zł', '2 049 180 zł', '417 917 zł', '2 368 370 zł', '1 128 970 zł', '660 000 zł', '372 697 zł']\n",
      "60\n"
     ]
    }
   ],
   "source": [
    "import requests\n",
    "from bs4 import BeautifulSoup\n",
    "import pandas as pd\n",
    "import os\n",
    "\n",
    "url = \"https://sprzedajemy.pl/krakow/nieruchomosci/mieszkania?offset=0&items_per_page=60\"\n",
    "\n",
    "headers = {\n",
    "    \"User-Agent\": \"Mozilla/5.0 (Windows NT 10.0; Win64; x64) AppleWebKit/537.36 (KHTML, like Gecko) Chrome/58.0.3029.110 Safari/537.36\",\n",
    "    \"Accept\": \"text/html,application/xhtml+xml,application/xml;q=0.9,image/webp,image/apng,*/*;q=0.8\",\n",
    "    \"Accept-Encoding\": \"gzip, deflate, br\",\n",
    "    \"Accept-Language\": \"en-US,en;q=0.9,pl;q=0.8\",\n",
    "    \"Connection\": \"keep-alive\"\n",
    "}\n",
    "\n",
    "response = requests.get(url, headers=headers)\n",
    "response = requests.get(url, headers=headers)\n",
    "\n",
    "# Debugowanie odpowiedzi\n",
    "print(f\"Status Code: {response.status_code}\")\n",
    "print(f\"Response Headers: {response.headers}\")\n",
    "print(f\"Response Text (first 2000 chars): {response.text[:2000]}\")\n",
    "\n",
    "# Jeśli odpowiedź jest poprawna, wykonaj webscraping\n",
    "if response.status_code == 200:\n",
    "    soup = BeautifulSoup(response.content, \"html.parser\")\n",
    "\n",
    "    # Pobieranie ofert mieszkań\n",
    "    titles = [h2.a.text.strip() for h2 in soup.find_all(\"h2\", class_=\"title\") if h2.a]\n",
    "    prices = [p.text.replace(\"\\xa0\", \" \").strip() for p in soup.find_all(\"span\", class_=\"price\")]\n",
    "\n",
    "    print(\"Titles:\", titles)\n",
    "    print(len(titles))\n",
    "    print(\"Prices:\", prices)\n",
    "    print(len(prices))\n",
    "\n",
    "    df = pd.DataFrame({\"Title\": titles, \"Price\": prices})\n",
    "\n",
    "    # Dopisanie do pliku CSV\n",
    "    df.to_csv(\"scraped_data.csv\", mode='a', header=not os.path.exists('scraped_data.csv'), index=False)\n",
    "else:\n",
    "    print(\"Failed to retrieve data.\")\n"
   ]
  }
 ],
 "metadata": {
  "colab": {
   "provenance": []
  },
  "kernelspec": {
   "display_name": "Python 3",
   "name": "python3"
  },
  "language_info": {
   "codemirror_mode": {
    "name": "ipython",
    "version": 3
   },
   "file_extension": ".py",
   "mimetype": "text/x-python",
   "name": "python",
   "nbconvert_exporter": "python",
   "pygments_lexer": "ipython3",
   "version": "3.9.22"
  },
  "papermill": {
   "default_parameters": {},
   "duration": 3.360688,
   "end_time": "2025-05-20T05:54:06.784316",
   "environment_variables": {},
   "exception": null,
   "input_path": "nb.ipynb",
   "output_path": "nbo.ipynb",
   "parameters": {},
   "start_time": "2025-05-20T05:54:03.423628",
   "version": "2.6.0"
  }
 },
 "nbformat": 4,
 "nbformat_minor": 5
}