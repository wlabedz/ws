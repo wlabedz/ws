{
 "cells": [
  {
   "cell_type": "code",
   "execution_count": 1,
   "id": "db45b0e4",
   "metadata": {
    "colab": {
     "base_uri": "https://localhost:8080/"
    },
    "execution": {
     "iopub.execute_input": "2025-04-04T08:39:52.677986Z",
     "iopub.status.busy": "2025-04-04T08:39:52.677423Z",
     "iopub.status.idle": "2025-04-04T08:39:54.609244Z",
     "shell.execute_reply": "2025-04-04T08:39:54.608528Z"
    },
    "id": "5pYh4c8j1w43",
    "outputId": "8a0dca73-64e5-4f0d-c493-2c5b38392363",
    "papermill": {
     "duration": 1.935644,
     "end_time": "2025-04-04T08:39:54.610426",
     "exception": false,
     "start_time": "2025-04-04T08:39:52.674782",
     "status": "completed"
    },
    "tags": []
   },
   "outputs": [
    {
     "name": "stdout",
     "output_type": "stream",
     "text": [
      "Status Code: 200\n",
      "Response Headers: {'Server': 'nginx', 'Date': 'Fri, 04 Apr 2025 08:39:54 GMT', 'Content-Type': 'text/html; charset=UTF-8', 'Transfer-Encoding': 'chunked', 'Vary': 'Accept-Encoding, User-Agent', 'Set-Cookie': 'FRSPSID=avepvcf4rosimhge78hmr24ij6; path=/; domain=.sprzedajemy.pl; secure; HttpOnly, _items_per_page__offer_list=60; expires=Sun, 04-May-2025 08:39:54 GMT; Max-Age=2592000; path=/; domain=.sprzedajemy.pl; secure; httponly, observed_id=165303859567ef9ada368be6208280912451718197; expires=Wed, 04-Apr-2125 09:39:54 GMT; Max-Age=3155677200; path=/; domain=.sprzedajemy.pl; secure; httponly', 'Expires': 'Thu, 19 Nov 1981 08:52:00 GMT', 'Cache-Control': 'no-store, no-cache, must-revalidate, post-check=0, pre-check=0', 'Pragma': 'no-cache', 'Content-Encoding': 'gzip'}\n",
      "Response Text (first 2000 chars): <!DOCTYPE html><html xmlns=\"http://www.w3.org/1999/xhtml\" xml:lang=\"pl\" lang=\"pl\" class=\"no-js\" >\n",
      "<head>\n",
      "\t\t\t<!-- Google Tag Manager -->\n",
      "\t\t\t<script>(function(w,d,s,l,i){w[l]=w[l]||[];w[l].push({'gtm.start':\n",
      "\t\t\t\t\t\tnew Date().getTime(),event:'gtm.js'});var f=d.getElementsByTagName(s)[0],\n",
      "\t\t\t\t\tj=d.createElement(s),dl=l!='dataLayer'?'&l='+l:'';j.async=true;j.src=\n",
      "\t\t\t\t\t'https://www.googletagmanager.com/gtm.js?id='+i+dl\n",
      "\t\t\t\t\t\t\t\t\t    ;f.parentNode.insertBefore(j,f);\n",
      "\t\t\t\t    })(window,document,'script','dataLayer','GTM-P3S238');</script>\n",
      "\t\t\t<!-- End Google Tag Manager -->\n",
      "\t<title>Mieszkania Kraków na sprzedaż, wynajem - Sprzedajemy.pl</title><meta http-equiv=\"Content-Type\" content=\"text/html; charset=UTF-8\" >\n",
      "<meta http-equiv=\"X-UA-Compatible\" content=\"IE=edge\" >\n",
      "<meta name=\"description\" content=\"Ogłoszenia o tematyce:  w kategorii Mieszkania - Kupuj i sprzedawaj rzeczy używane i nowe w kategorii Mieszkania na Sprzedajemy.pl\" >\n",
      "<meta property=\"og:title\" content=\"Mieszkania Kraków na sprzedaż, wynajem - Sprzedajemy.pl\" >\n",
      "<meta property=\"og:type\" content=\"website\" >\n",
      "<meta property=\"og:image\" content=\"https://thumbs.img-sprzedajemy.pl/facebook/sprzedajemy.pl.png\" >\n",
      "<meta property=\"og:image:width\" content=\"200\" >\n",
      "<meta property=\"og:image:height\" content=\"200\" >\n",
      "<meta property=\"og:url\" content=\"https://sprzedajemy.pl/krakow/nieruchomosci/mieszkania\" >\n",
      "<meta property=\"og:site_name\" content=\"Sprzedajemy.pl\" >\n",
      "<meta property=\"fb:app_id\" content=\"173258269367442\" >\n",
      "<meta property=\"og:description\" content=\"Ogłoszenia o tematyce:  w kategorii Mieszkania - Kupuj i sprzedawaj rzeczy używane i nowe w kategorii Mieszkania na Sprzedajemy.pl\" >\n",
      "<meta name=\"robots\" content=\"noindex, follow\" >\t\t<script  async=\"async\" src=\"https://static.criteo.net/js/ld/publishertag.js\"></script>\n",
      "        <script  async=\"async\" src=\"https://ap.lijit.com/www/sovrn_beacon_standalone/sovrn_standalone_beacon.js?iid=13417409&amp;uid=sprzedajemy\" id=\"sBeacon\"></script>\n",
      "\t\t<script  async=\"async\" src=\"https://securepuba\n",
      "Titles: ['Wyjątkowe 2 mieszkania w 1, gotowe do wprowadzenia, po remoncie', 'Apartament, 2 pokoje, jadalnia, garaż,Krowodrza', '2 pokoje,garaż,wysoki standard,ul.Rakowicka,ENG', 'Nowoczesne, wykończone, z garażem i balkonem', '2 lub 3 pokoje,62m2,balkon, Widok na Wawel', 'Kraków Bronowice Stawowa 168 / 60m2 3 POK/ 22,5 m2 taras/ BEZ POŚREDNIKÓW', 'Mieszkanie z ogródkiem Zakrzówek', 'Strych do adaptacji, Błonia, ul. Filarecka', 'Mistrzejowice - dwupokojowe z jasną kuchnią,balkon', 'Mieszkanie 1 pokojowe z balkonem, blok 2000r', 'Ruczaj - dwupokojowe z aneksem kuchennym, 2002r.', 'Olsza - 62 m2 + 2 tarasy, blisko centrum', 'Oferta sprzedaży mieszkania Kraków 27.42m2 3-pokojowe', 'Oferta sprzedaży mieszkania 47.5m2 2 pokoje Kraków 29 listopada - okolice', 'Mieszkanie Kraków 29 listopada - okolice 60.62m2 2-pok', 'Do sprzedaży mieszkanie 55.75 metrów 2 pokoje Kraków 29 listopada - okolice', 'Oferta wynajmu mieszkania Kraków św.Bronisławy 147.51m2 4 pok', 'Ogłoszenie mieszkanie 45.51m2 2 pok Kraków', 'Mieszkanie 27.42 metry 4-pokojowe Kraków Rydlówka', 'Sprzedam mieszkanie Kraków Rakowicka 77 metrów 3 pok', 'Mieszkanie 27.42m2 3 pokoje Kraków', 'Mieszkanie Kraków Starowiślna 30.69m2 2 pokoje', 'Mieszkanie Kraków 56.7m2', 'Żabiniec Prądnik 30m2 winda balkon klimatyzacja', 'Mieszkanie 36.58m2 2-pok Kraków Jana Kantego Federowicza', 'Mieszkanie na sprzedaż 50.15m2 2-pokojowe Kraków', 'Mieszkanie Kraków 119.45m2 4 pokoje', 'Wynajem mieszkania Kraków 31m2 1 pokojowe', 'Mieszkanie 53.25m2 2 pokojowe Kraków Cieszyńska', 'Mieszkanie', 'Oferta sprzedaży mieszkania Kraków 29 listopada - okolice 50.15m2 2 pok', 'Mieszkanie Kraków Rydlówka 27.42m2 4 pokoje', 'Mieszkanie Kraków 27.42m2 1 pokojowe', 'Mieszkanie na sprzedaż 61.3m2 3 pokoje Kraków 29 listopada - okolice', 'Mieszkanie 150m2 6 pokoi Kraków Zyblikiewicza', 'Mieszkanie sprzedam 54 metry 3-pok Kraków Kombatantów', 'Słoneczne mieszkanko z dużym balkonem', 'Oferta sprzedaży mieszkania 95.88 metrów 4-pokojowe Kraków', 'Mieszkanie Kraków 50.12m2 2 pokojowe', 'Mieszkanie Kraków 26.7 metrów 1-pokojowe', 'Mieszkanie Kraków Fredry 52.7m2 2-pokojowe', 'Mieszkanie Kraków 46m2 3 pokoje', 'Ogłoszenie mieszkanie Kraków 64.14m2 3-pokojowe', 'Mieszkanie 32.7m2 1 pokój Kraków Sołtysowska', 'Mieszkanie 46m2 2 pok Kraków', 'Mieszkanie Kraków 125.67m2 3 pokojowe', 'Mieszkanie 40.5m2 2 pokojowe Kraków os. Albertyńskie', 'Mieszkanie na wynajem 56m2 3-pokojowe Kraków Poznańska', 'Sprzedam mieszkanie Kraków Dywizjonu 303 50.1m2 2-pokojowe', 'Mieszkanie Kraków os. Osiedle Piastów 72.98m2', 'Mieszkanie Kraków 55.64m2 3 pok', 'Mieszkanie Kraków Filipa - okolice 39.84m2 2 pokoje', 'Mieszkanie Kraków 57.77m2 3 pokoje', 'Mieszkanie 42.51m2 2 pokoje Kraków Filipa - okolice', 'Mieszkanie do wynajęcia 26m2 1 pokój Kraków Mazowiecka', 'Mieszkanie Kraków Gen. Leopolda Okulickiego 29.96m2 1 pokojowe', 'Oferta sprzedaży mieszkania Kraków Filipa - okolice 57.45m2 2 pokojowe', 'Mieszkanie Kraków 49m2 3 pokoje', 'Sprzedaż mieszkania 65.7m2 3-pokojowe Kraków Montwiłła-Mireckiego', 'Sprzedam mieszkanie w systemie TBS']\n",
      "60\n",
      "Prices: ['1 185 000 zł', '3 800 zł', '3 000 zł', '990 000 zł', '1 590 000 zł', '1 137 500 zł', '470 000 zł', '379 999 zł', '599 000 zł', '435 000 zł', '669 000 zł', '819 000 zł', '1 114 137 zł', '739 148 zł', '828 904 zł', '756 514 zł', '15 000 zł', '3 100 zł', '1 085 575 zł', '1 399 000 zł', '1 017 705 zł', '769 000 zł', '850 000 zł', '549 450 zł', '650 000 zł', '711 976 zł', '1 350 000 zł', '2 000 zł', '1 150 000 zł', '630 000 zł', '733 265 zł', '1 003 832 zł', '793 936 zł', '778 689 zł', '1 950 000 zł', '720 000 zł', '699 000 zł', '1 109 980 zł', '744 840 zł', '1 850 zł', '730 000 zł', '660 900 zł', '4 000 zł', '2 000 zł', '905 000 zł', '1 680 000 zł', '660 000 zł', '3 900 zł', '699 000 zł', '868 462 zł', '933 000 zł', '1 155 360 zł', '880 000 zł', '1 232 790 zł', '1 800 zł', '499 000 zł', '1 723 500 zł', '799 000 zł', '1 175 000 zł', '200 000 zł']\n",
      "60\n"
     ]
    }
   ],
   "source": [
    "import requests\n",
    "from bs4 import BeautifulSoup\n",
    "import pandas as pd\n",
    "import os\n",
    "\n",
    "url = \"https://sprzedajemy.pl/krakow/nieruchomosci/mieszkania?offset=0&items_per_page=60\"\n",
    "\n",
    "headers = {\n",
    "    \"User-Agent\": \"Mozilla/5.0 (Windows NT 10.0; Win64; x64) AppleWebKit/537.36 (KHTML, like Gecko) Chrome/58.0.3029.110 Safari/537.36\",\n",
    "    \"Accept\": \"text/html,application/xhtml+xml,application/xml;q=0.9,image/webp,image/apng,*/*;q=0.8\",\n",
    "    \"Accept-Encoding\": \"gzip, deflate, br\",\n",
    "    \"Accept-Language\": \"en-US,en;q=0.9,pl;q=0.8\",\n",
    "    \"Connection\": \"keep-alive\"\n",
    "}\n",
    "\n",
    "response = requests.get(url, headers=headers)\n",
    "response = requests.get(url, headers=headers)\n",
    "\n",
    "# Debugowanie odpowiedzi\n",
    "print(f\"Status Code: {response.status_code}\")\n",
    "print(f\"Response Headers: {response.headers}\")\n",
    "print(f\"Response Text (first 2000 chars): {response.text[:2000]}\")\n",
    "\n",
    "# Jeśli odpowiedź jest poprawna, wykonaj webscraping\n",
    "if response.status_code == 200:\n",
    "    soup = BeautifulSoup(response.content, \"html.parser\")\n",
    "\n",
    "    # Pobieranie ofert mieszkań\n",
    "    titles = [h2.a.text.strip() for h2 in soup.find_all(\"h2\", class_=\"title\") if h2.a]\n",
    "    prices = [p.text.replace(\"\\xa0\", \" \").strip() for p in soup.find_all(\"span\", class_=\"price\")]\n",
    "\n",
    "    print(\"Titles:\", titles)\n",
    "    print(len(titles))\n",
    "    print(\"Prices:\", prices)\n",
    "    print(len(prices))\n",
    "\n",
    "    df = pd.DataFrame({\"Title\": titles, \"Price\": prices})\n",
    "\n",
    "    # Dopisanie do pliku CSV\n",
    "    df.to_csv(\"scraped_data.csv\", mode='a', header=not os.path.exists('scraped_data.csv'), index=False)\n",
    "else:\n",
    "    print(\"Failed to retrieve data.\")\n"
   ]
  }
 ],
 "metadata": {
  "colab": {
   "provenance": []
  },
  "kernelspec": {
   "display_name": "Python 3",
   "name": "python3"
  },
  "language_info": {
   "codemirror_mode": {
    "name": "ipython",
    "version": 3
   },
   "file_extension": ".py",
   "mimetype": "text/x-python",
   "name": "python",
   "nbconvert_exporter": "python",
   "pygments_lexer": "ipython3",
   "version": "3.9.21"
  },
  "papermill": {
   "default_parameters": {},
   "duration": 3.074138,
   "end_time": "2025-04-04T08:39:54.827157",
   "environment_variables": {},
   "exception": null,
   "input_path": "nb.ipynb",
   "output_path": "nbo.ipynb",
   "parameters": {},
   "start_time": "2025-04-04T08:39:51.753019",
   "version": "2.6.0"
  }
 },
 "nbformat": 4,
 "nbformat_minor": 5
}