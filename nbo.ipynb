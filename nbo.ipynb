{
 "cells": [
  {
   "cell_type": "code",
   "execution_count": 1,
   "id": "2507f727",
   "metadata": {
    "colab": {
     "base_uri": "https://localhost:8080/"
    },
    "execution": {
     "iopub.execute_input": "2025-04-22T03:48:42.950434Z",
     "iopub.status.busy": "2025-04-22T03:48:42.950152Z",
     "iopub.status.idle": "2025-04-22T03:48:45.754747Z",
     "shell.execute_reply": "2025-04-22T03:48:45.754150Z"
    },
    "id": "5pYh4c8j1w43",
    "outputId": "8a0dca73-64e5-4f0d-c493-2c5b38392363",
    "papermill": {
     "duration": 2.808333,
     "end_time": "2025-04-22T03:48:45.755939",
     "exception": false,
     "start_time": "2025-04-22T03:48:42.947606",
     "status": "completed"
    },
    "tags": []
   },
   "outputs": [
    {
     "name": "stdout",
     "output_type": "stream",
     "text": [
      "Status Code: 200\n",
      "Response Headers: {'Server': 'nginx', 'Date': 'Tue, 22 Apr 2025 03:48:45 GMT', 'Content-Type': 'text/html; charset=UTF-8', 'Transfer-Encoding': 'chunked', 'Vary': 'Accept-Encoding, User-Agent', 'Set-Cookie': 'FRSPSID=8g63sj1k21tfamhj7biu5c4761; path=/; domain=.sprzedajemy.pl; secure; HttpOnly, _items_per_page__offer_list=60; expires=Thu, 22-May-2025 03:48:45 GMT; Max-Age=2592000; path=/; domain=.sprzedajemy.pl; secure; httponly, observed_id=971195056807119d358f0893705767978979172; expires=Sun, 22-Apr-2125 04:48:45 GMT; Max-Age=3155677200; path=/; domain=.sprzedajemy.pl; secure; httponly', 'Expires': 'Thu, 19 Nov 1981 08:52:00 GMT', 'Cache-Control': 'no-store, no-cache, must-revalidate, post-check=0, pre-check=0', 'Pragma': 'no-cache', 'Content-Encoding': 'gzip'}\n",
      "Response Text (first 2000 chars): <!DOCTYPE html><html xmlns=\"http://www.w3.org/1999/xhtml\" xml:lang=\"pl\" lang=\"pl\" class=\"no-js\" >\n",
      "<head>\n",
      "\t\t\t<!-- Google Tag Manager -->\n",
      "\t\t\t<script>(function(w,d,s,l,i){w[l]=w[l]||[];w[l].push({'gtm.start':\n",
      "\t\t\t\t\t\tnew Date().getTime(),event:'gtm.js'});var f=d.getElementsByTagName(s)[0],\n",
      "\t\t\t\t\tj=d.createElement(s),dl=l!='dataLayer'?'&l='+l:'';j.async=true;j.src=\n",
      "\t\t\t\t\t'https://www.googletagmanager.com/gtm.js?id='+i+dl\n",
      "\t\t\t\t\t\t\t\t\t    ;f.parentNode.insertBefore(j,f);\n",
      "\t\t\t\t    })(window,document,'script','dataLayer','GTM-P3S238');</script>\n",
      "\t\t\t<!-- End Google Tag Manager -->\n",
      "\t<title>Mieszkania Kraków na sprzedaż, wynajem - Sprzedajemy.pl</title><meta http-equiv=\"Content-Type\" content=\"text/html; charset=UTF-8\" >\n",
      "<meta http-equiv=\"X-UA-Compatible\" content=\"IE=edge\" >\n",
      "<meta name=\"description\" content=\"Ogłoszenia o tematyce:  w kategorii Mieszkania - Kupuj i sprzedawaj rzeczy używane i nowe w kategorii Mieszkania na Sprzedajemy.pl\" >\n",
      "<meta property=\"og:title\" content=\"Mieszkania Kraków na sprzedaż, wynajem - Sprzedajemy.pl\" >\n",
      "<meta property=\"og:type\" content=\"website\" >\n",
      "<meta property=\"og:image\" content=\"https://thumbs.img-sprzedajemy.pl/facebook/sprzedajemy.pl.png\" >\n",
      "<meta property=\"og:image:width\" content=\"200\" >\n",
      "<meta property=\"og:image:height\" content=\"200\" >\n",
      "<meta property=\"og:url\" content=\"https://sprzedajemy.pl/krakow/nieruchomosci/mieszkania\" >\n",
      "<meta property=\"og:site_name\" content=\"Sprzedajemy.pl\" >\n",
      "<meta property=\"fb:app_id\" content=\"173258269367442\" >\n",
      "<meta property=\"og:description\" content=\"Ogłoszenia o tematyce:  w kategorii Mieszkania - Kupuj i sprzedawaj rzeczy używane i nowe w kategorii Mieszkania na Sprzedajemy.pl\" >\n",
      "<meta name=\"robots\" content=\"noindex, follow\" >\t\t<script  async=\"async\" src=\"https://static.criteo.net/js/ld/publishertag.js\"></script>\n",
      "        <script  async=\"async\" src=\"https://ap.lijit.com/www/sovrn_beacon_standalone/sovrn_standalone_beacon.js?iid=13417409&amp;uid=sprzedajemy\" id=\"sBeacon\"></script>\n",
      "\t\t<script  async=\"async\" src=\"https://securepuba\n"
     ]
    },
    {
     "name": "stdout",
     "output_type": "stream",
     "text": [
      "Titles: ['Mieszkanie na sprzedaż/zamiana 39m2', 'Mieszkanie z ogródkiem Zakrzówek bezczynszowe', '2 pokoje 41m2 blisko Aquaparku wkrótce tramwaj!', 'Mieszkanie przy Parku Rzecznym Tonie', 'Kraków, Stare Miasto sprzedaż/zamiana', 'M2 dwustronne Bieńczyce dostępne do 25 kwietnia', 'Nowoczesne, wykończone, z garażem i balkonem', 'Komfortowe mieszkanie na sprzedaż', 'Mieszkanie 34m2 2 pokoje Kraków Na Wzgórzach', 'Mieszkanie Kraków os. Hutnicze 20.81m2 1 pokój', 'Wynajmę mieszkanie Kraków Kantora 36m2 1 pokój', 'Mieszkanie do wynajęcia Górka Narodowa, 79m2', 'Mieszkanie 30.45m2 1 pokojowe Kraków', '2 lub 3 pokoje,62m2,balkon, Widok na Wawel', 'Mieszkanie 101.17m2 4 pokoje Kraków Dożynkowa', 'Mieszkanie Kraków Chełmońskiego 64.14m2 3 pokoje', 'Oferta sprzedaży mieszkania 29.44m2 1-pokojowe Kraków', 'Mieszkanie 66.15m2 2 pok Kraków Majowa', 'Mieszkanie Kraków 56.72m2 3 pokojowe', 'Sprzedaż mieszkania Kraków Podmiejska 74.7m2 3-pok', 'Mieszkanie Kraków Kazimierza Wielkiego 53m2 2 pokojowe', 'Sprzedam mieszkanie Kraków 66.9m2 3 pokoje', 'Mieszkanie sprzedam Kraków 45m2 3-pok', 'Mieszkanie Kraków Balicka 76.3 metry', 'BASEN Krótko/Długo Luksusowy Tarasy Verona Apartament Garaż Krowodrza', 'Oferta sprzedaży mieszkania Kraków Dworcowa 43.28m2 2 pokoje', 'Mieszkanie Kraków os. Krakowiaków 57m2 3-pokojowe', 'Ogłoszenie mieszkanie Kraków 30 metrów 1 pokojowe', 'WYNAJEM OD ZARAZ KAWALERKA KRAKÓW NOWA', 'Mieszkanie Kraków Snycerska 57.04m2 4-pok', 'TBS Rżąka Rydygiera 1 pokój 33 m2 parter ogródek', 'Oferta sprzedaży mieszkania Kraków Olszanicka 151.83m2 7 pokojowe', 'Wynajmę mieszkanie Kraków 8.8m2 1 pokojowe', 'Piękne mieszkanie z widokami Kraków | Bronowice', 'Mieszkanie Kraków os. Tysiąclecia 28.2m2 1-pokojowe', 'Ogłoszenie mieszkanie 49.9m2 2 pok Kraków Szlak', 'Do sprzedaży mieszkanie 61.99m2 4 pok Kraków Cegielniana', 'Sprzedam dwupokojowe mieszkanie ul. Prądnicka Kraków', 'Wynajmę stylowe mieszkanie', 'Mieszkanie Kraków 37m2 2 pokoje', 'Sprzedam mieszkanie 26m oś Szkolne Kraków', 'Mieszkanie Kraków 52m2 2 pokoje', 'Mieszkanie Kraków 41.3m2 2-pok', 'Bezpośrednio wynajmę 2-pokojowe ul.Batorego po remoncie.', 'Wola Justowska- dwupokojowe z ogródkiem wynajmę od zaraz', 'Sprzedam mieszkanie w systemie TBS', 'Mieszkanie 38 metrów kwadratowych sprzedam bezpośrednio', 'Mieszkanie Kraków Wita Stwosza 18.63m2 1 pokojowe', 'Mieszkanie Kraków Reduta 74.33m2', 'Mieszkanie 16.03m2 Kraków', 'Oferta sprzedaży mieszkania 120.73m2 4-pokojowe Kraków Reduta', 'Mieszkanie 54 m² tuż przy Rondzie Czyżyńskim', 'Oferta sprzedaży mieszkania Kraków 21.71m2 1-pok', 'Mieszkanie 89.93 metry Kraków Reduta', 'Mieszkanie Kraków Wita Stwosza 18.04m2 1 pokojowe', 'Sprzedam mieszkanie 137.1m2 5-pok Kraków Reduta', 'Mieszkanie 47.6m2 2 pokojowe Kraków Filipa - okolice', 'Ogłoszenie mieszkanie Kraków Wita Stwosza 17.24m2 1 pokojowe', 'Mieszkanie Kraków Kluczborska 47.12m2 2 pok', 'Sprzedaż mieszkania 77.03m2 3 pokojowe Kraków']\n",
      "60\n",
      "Prices: ['548 000 zł', '460 000 zł', '710 000 zł', '535 000 zł', '2 254 000 zł', '599 000 zł', '990 000 zł', '999 900 zł', '1 850 zł', '499 000 zł', '1 900 zł', '3 600 zł', '850 000 zł', '1 590 000 zł', '1 190 000 zł', '4 000 zł', '585 000 zł', '2 600 zł', '780 000 zł', '1 159 000 zł', '739 000 zł', '999 999 zł', '690 000 zł', '3 600 zł', '3 300 zł', '569 000 zł', '2 900 zł', '1 950 zł', '2 150 zł', '740 000 zł', '195 000 zł', '2 383 737 zł', '1 500 zł', '3 500 zł', '499 000 zł', '3 200 zł', '990 000 zł', '542 000 zł', '2 800 zł', '665 000 zł', '400 000 zł', '489 000 zł', '650 000 zł', '3 850 zł', '3 400 zł', '195 000 zł', '550 000 zł', '405 202 zł', '1 134 000 zł', '356 667 zł', '2 049 180 zł', '660 000 zł', '417 917 zł', '1 305 725 zł', '468 750 zł', '2 368 370 zł', '1 128 970 zł', '383 590 zł', '3 300 zł', '1 600 000 zł']\n",
      "60\n"
     ]
    }
   ],
   "source": [
    "import requests\n",
    "from bs4 import BeautifulSoup\n",
    "import pandas as pd\n",
    "import os\n",
    "\n",
    "url = \"https://sprzedajemy.pl/krakow/nieruchomosci/mieszkania?offset=0&items_per_page=60\"\n",
    "\n",
    "headers = {\n",
    "    \"User-Agent\": \"Mozilla/5.0 (Windows NT 10.0; Win64; x64) AppleWebKit/537.36 (KHTML, like Gecko) Chrome/58.0.3029.110 Safari/537.36\",\n",
    "    \"Accept\": \"text/html,application/xhtml+xml,application/xml;q=0.9,image/webp,image/apng,*/*;q=0.8\",\n",
    "    \"Accept-Encoding\": \"gzip, deflate, br\",\n",
    "    \"Accept-Language\": \"en-US,en;q=0.9,pl;q=0.8\",\n",
    "    \"Connection\": \"keep-alive\"\n",
    "}\n",
    "\n",
    "response = requests.get(url, headers=headers)\n",
    "response = requests.get(url, headers=headers)\n",
    "\n",
    "# Debugowanie odpowiedzi\n",
    "print(f\"Status Code: {response.status_code}\")\n",
    "print(f\"Response Headers: {response.headers}\")\n",
    "print(f\"Response Text (first 2000 chars): {response.text[:2000]}\")\n",
    "\n",
    "# Jeśli odpowiedź jest poprawna, wykonaj webscraping\n",
    "if response.status_code == 200:\n",
    "    soup = BeautifulSoup(response.content, \"html.parser\")\n",
    "\n",
    "    # Pobieranie ofert mieszkań\n",
    "    titles = [h2.a.text.strip() for h2 in soup.find_all(\"h2\", class_=\"title\") if h2.a]\n",
    "    prices = [p.text.replace(\"\\xa0\", \" \").strip() for p in soup.find_all(\"span\", class_=\"price\")]\n",
    "\n",
    "    print(\"Titles:\", titles)\n",
    "    print(len(titles))\n",
    "    print(\"Prices:\", prices)\n",
    "    print(len(prices))\n",
    "\n",
    "    df = pd.DataFrame({\"Title\": titles, \"Price\": prices})\n",
    "\n",
    "    # Dopisanie do pliku CSV\n",
    "    df.to_csv(\"scraped_data.csv\", mode='a', header=not os.path.exists('scraped_data.csv'), index=False)\n",
    "else:\n",
    "    print(\"Failed to retrieve data.\")\n"
   ]
  }
 ],
 "metadata": {
  "colab": {
   "provenance": []
  },
  "kernelspec": {
   "display_name": "Python 3",
   "name": "python3"
  },
  "language_info": {
   "codemirror_mode": {
    "name": "ipython",
    "version": 3
   },
   "file_extension": ".py",
   "mimetype": "text/x-python",
   "name": "python",
   "nbconvert_exporter": "python",
   "pygments_lexer": "ipython3",
   "version": "3.9.22"
  },
  "papermill": {
   "default_parameters": {},
   "duration": 4.005569,
   "end_time": "2025-04-22T03:48:45.973592",
   "environment_variables": {},
   "exception": null,
   "input_path": "nb.ipynb",
   "output_path": "nbo.ipynb",
   "parameters": {},
   "start_time": "2025-04-22T03:48:41.968023",
   "version": "2.6.0"
  }
 },
 "nbformat": 4,
 "nbformat_minor": 5
}