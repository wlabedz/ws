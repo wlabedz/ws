{
 "cells": [
  {
   "cell_type": "code",
   "execution_count": 1,
   "id": "a86de58d",
   "metadata": {
    "colab": {
     "base_uri": "https://localhost:8080/"
    },
    "execution": {
     "iopub.execute_input": "2025-06-27T17:41:31.540638Z",
     "iopub.status.busy": "2025-06-27T17:41:31.540320Z",
     "iopub.status.idle": "2025-06-27T17:41:34.311735Z",
     "shell.execute_reply": "2025-06-27T17:41:34.310994Z"
    },
    "id": "5pYh4c8j1w43",
    "outputId": "8a0dca73-64e5-4f0d-c493-2c5b38392363",
    "papermill": {
     "duration": 2.775083,
     "end_time": "2025-06-27T17:41:34.312873",
     "exception": false,
     "start_time": "2025-06-27T17:41:31.537790",
     "status": "completed"
    },
    "tags": []
   },
   "outputs": [
    {
     "name": "stdout",
     "output_type": "stream",
     "text": [
      "Status Code: 200\n",
      "Response Headers: {'Server': 'nginx', 'Date': 'Fri, 27 Jun 2025 17:41:33 GMT', 'Content-Type': 'text/html; charset=UTF-8', 'Transfer-Encoding': 'chunked', 'Vary': 'Accept-Encoding, User-Agent', 'Set-Cookie': 'FRSPSID=5n3us76t0c54jq5qh5d4ro0gn5; path=/; domain=.sprzedajemy.pl; secure; HttpOnly, _items_per_page__offer_list=60; expires=Sun, 27-Jul-2025 17:41:33 GMT; Max-Age=2592000; path=/; domain=.sprzedajemy.pl; secure; httponly, observed_id=1722712987685ed7cdbf4d5944824511863336605; expires=Wed, 27-Jun-2125 18:41:33 GMT; Max-Age=3155677200; path=/; domain=.sprzedajemy.pl; secure; httponly', 'Expires': 'Thu, 19 Nov 1981 08:52:00 GMT', 'Cache-Control': 'no-store, no-cache, must-revalidate, post-check=0, pre-check=0', 'Pragma': 'no-cache', 'Content-Encoding': 'gzip'}\n",
      "Response Text (first 2000 chars): <!DOCTYPE html><html xmlns=\"http://www.w3.org/1999/xhtml\" xml:lang=\"pl\" lang=\"pl\" class=\"no-js\" >\n",
      "<head>\n",
      "\t\t\t<!-- Google Tag Manager -->\n",
      "\t\t\t<script>(function(w,d,s,l,i){w[l]=w[l]||[];w[l].push({'gtm.start':\n",
      "\t\t\t\t\t\tnew Date().getTime(),event:'gtm.js'});var f=d.getElementsByTagName(s)[0],\n",
      "\t\t\t\t\tj=d.createElement(s),dl=l!='dataLayer'?'&l='+l:'';j.async=true;j.src=\n",
      "\t\t\t\t\t'https://www.googletagmanager.com/gtm.js?id='+i+dl\n",
      "\t\t\t\t\t\t\t\t\t    ;f.parentNode.insertBefore(j,f);\n",
      "\t\t\t\t    })(window,document,'script','dataLayer','GTM-P3S238');</script>\n",
      "\t\t\t<!-- End Google Tag Manager -->\n",
      "\t<title>Mieszkania Kraków na sprzedaż, wynajem - Sprzedajemy.pl</title><meta http-equiv=\"Content-Type\" content=\"text/html; charset=UTF-8\" >\n",
      "<meta http-equiv=\"X-UA-Compatible\" content=\"IE=edge\" >\n",
      "<meta name=\"description\" content=\"Ogłoszenia o tematyce:  w kategorii Mieszkania - Kupuj i sprzedawaj rzeczy używane i nowe w kategorii Mieszkania na Sprzedajemy.pl\" >\n",
      "<meta property=\"og:title\" content=\"Mieszkania Kraków na sprzedaż, wynajem - Sprzedajemy.pl\" >\n",
      "<meta property=\"og:type\" content=\"website\" >\n",
      "<meta property=\"og:image\" content=\"https://thumbs.img-sprzedajemy.pl/facebook/sprzedajemy.pl.png\" >\n",
      "<meta property=\"og:image:width\" content=\"200\" >\n",
      "<meta property=\"og:image:height\" content=\"200\" >\n",
      "<meta property=\"og:url\" content=\"https://sprzedajemy.pl/krakow/nieruchomosci/mieszkania\" >\n",
      "<meta property=\"og:site_name\" content=\"Sprzedajemy.pl\" >\n",
      "<meta property=\"fb:app_id\" content=\"173258269367442\" >\n",
      "<meta property=\"og:description\" content=\"Ogłoszenia o tematyce:  w kategorii Mieszkania - Kupuj i sprzedawaj rzeczy używane i nowe w kategorii Mieszkania na Sprzedajemy.pl\" >\n",
      "<meta name=\"robots\" content=\"noindex, follow\" >\t\t<script  async=\"async\" src=\"https://static.criteo.net/js/ld/publishertag.js\"></script>\n",
      "        <script  async=\"async\" src=\"https://ap.lijit.com/www/sovrn_beacon_standalone/sovrn_standalone_beacon.js?iid=13417409&amp;uid=sprzedajemy\" id=\"sBeacon\"></script>\n",
      "\t\t<script  async=\"async\" src=\"https://securepuba\n"
     ]
    },
    {
     "name": "stdout",
     "output_type": "stream",
     "text": [
      "Titles: ['wykończone 27,56 m², balkon, Kniaźnina, TRAMWAJ, Prądnik Czerwony/Huta', 'Stylowy apartament z widokiem na panoramę Krakowa - od właściciela', 'Nowoczesny apartament z panoramicznym widokiem - od właściciela', 'Wyjątkowe mieszkanie z widokiem na klasztor w Tyńcu i panoramę Tatr', 'Stare Miasto 61,5 m2 KLIMA Wawel wykończone Kazimierz wysokie ROI', 'Stare Miasto 32m2 KLIMA Wawel wykończone Kazimierz wysokie ROI', 'Mieszkanie na sprzedaż/zamiana 39m2', 'Mieszkanie Kraków Lema 64.15m2 3-pok', 'Oferta sprzedaży mieszkania Kraków Kombatantów 49.72m2 2 pokojowe', 'Mieszkanie 55.05m2 2-pokojowe Kraków', 'Mieszkanie 38.69m2 3-pokojowe Kraków Imbramowska', 'Wynajmę mieszkanie 51m2 2 pokojowe Kraków', 'Mieszkanie Kraków 73m2 3-pokojowe', 'Do wynajęcia mieszkanie Kraków 45m2 3 pokoje', 'Mieszkanie Kraków 47.8m2 3 pokojowe', 'Oferta sprzedaży mieszkania 38.69 metrów Kraków', 'Mieszkanie 48.36m2 Kraków', 'Mieszkanie 54.5m2 2-pokojowe Kraków os. Spółdzielcze', 'Mieszkanie Kraków Przemysłowa 64m2 2 pokojowe', 'Mieszkanie 49m2 Kraków', 'Mieszkanie Kraków św. Kingi 19.5m2', 'Oferta sprzedaży mieszkania Kraków 50.74m2 2 pokojowe', 'Mieszkanie Kraków Koszykarska 47 metrów 2 pokojowe', 'Mieszkanie Kraków os. Kazimierzowskie 37m2 2 pokojowe', 'Mieszkanie 41.97m2 1 pokojowe Kraków Kątowa', 'Mieszkanie 38.69m2 4 pokoje Kraków', 'Mieszkanie 51m2 2 pok Kraków', 'Sprzedaż mieszkania Kraków Lubomirskiego 103.1m2 4-pokojowe', 'Do sprzedaży mieszkanie Kraków Marii i Bolesława Wysłouchów 52m2 3 pokoje', 'Mieszkanie na sprzedaż Kraków Białoruska 56m2 3 pokojowe', 'Mieszkanie wynajmę 50m2 2 pokoje Kraków Meissnera', 'Mieszkanie 38.69m2 2 pokoje Kraków Imbramowska', 'Mieszkanie Kraków Bochenka 63.6m2', 'Sprzedam mieszkanie Kraków Macieja Dębskiego 49.5m2 3 pok', 'Mieszkanie 51.44m2 2 pokojowe Kraków os. Centrum C', 'Mieszkanie 40m2 2 pokojowe Kraków Bunscha', 'Mieszkanie do wynajęcia 61 metrów 2 pokojowe Kraków', 'Oferta wynajmu mieszkania Kraków Fredry 66m2 3-pok', 'Mieszkanie 67.5m2 3-pok Kraków', 'Oferta sprzedaży mieszkania 51.51m2 2 pok Kraków Żywiecka', 'Mieszkanie Kraków 83m2 3-pokojowe', 'Mieszkanie Kraków Jasnogórska 62.19m2 3-pokojowe', 'Do sprzedaży mieszkanie 50.8m2 2-pokojowe Kraków', 'Sprzedaż mieszkania Kraków 129.06m2 3-pokojowe', 'Oferta wynajmu mieszkania 37m2 1-pokojowe Kraków', 'Mieszkanie 63.3m2 3-pok Kraków Aleja Pokoju', 'Mieszkanie 38.69 metrów 2 pokoje Kraków Imbramowska', 'Mieszkanie Kraków 38m2 2 pok', 'Mieszkanie 38.69m2 3-pokojowe Kraków Imbramowska', 'Mieszkanie Kraków 42m2 2-pokojowe', 'Mieszkanie Kraków Bojki 61.4m2 3 pokojowe', 'Mieszkanie Kraków Babińskiego 82.96m2 3-pokojowe', 'Mieszkanie Kraków Obozowa 75.6m2 3-pok', 'Oferta sprzedaży mieszkania Kraków 122.05m2 3 pok', 'Mieszkanie Kraków 49.69m2 2 pok', 'Mieszkanie 33.3m2 2 pok Kraków', 'Mieszkanie do sprzedania Kraków Królewska 92.5m2 4 pokoje', 'Sprzedam mieszkanie Kraków Imbramowska 38.69m2 2 pokoje', 'Mieszkanie 55m2 3 pokoje Kraków os. Na Stoku', 'Mieszkanie 113.45m2 2-pokojowe Kraków']\n",
      "60\n",
      "Prices: ['569 000 zł', '897 000 zł', '997 000 zł', '779 000 zł', '1 748 885 zł', '959 000 zł', '539 000 zł', '1 190 000 zł', '612 000 zł', '880 000 zł', '1 044 630 zł', '4 000 zł', '3 800 zł', '3 993 zł', '620 000 zł', '1 198 538 zł', '1 295 000 zł', '609 000 zł', '4 000 zł', '865 000 zł', '379 000 zł', '749 000 zł', '2 500 zł', '599 000 zł', '970 000 zł', '1 122 198 zł', '1 699 000 zł', '2 215 000 zł', '709 000 zł', '629 000 zł', '2 600 zł', '794 252 zł', '920 000 zł', '770 000 zł', '620 000 zł', '799 000 zł', '2 500 zł', '4 500 zł', '1 249 501 zł', '669 000 zł', '1 040 000 zł', '858 222 zł', '1 100 000 zł', '3 999 828 zł', '2 200 zł', '1 099 000 zł', '847 692 zł', '2 400 zł', '1 011 780 zł', '590 000 zł', '769 000 zł', '1 484 984 zł', '1 150 000 zł', '3 782 574 zł', '2 500 zł', '790 000 zł', '1 340 000 zł', '823 310 zł', '730 000 zł', '3 516 042 zł']\n",
      "60\n"
     ]
    }
   ],
   "source": [
    "import requests\n",
    "from bs4 import BeautifulSoup\n",
    "import pandas as pd\n",
    "import os\n",
    "\n",
    "url = \"https://sprzedajemy.pl/krakow/nieruchomosci/mieszkania?offset=0&items_per_page=60\"\n",
    "\n",
    "headers = {\n",
    "    \"User-Agent\": \"Mozilla/5.0 (Windows NT 10.0; Win64; x64) AppleWebKit/537.36 (KHTML, like Gecko) Chrome/58.0.3029.110 Safari/537.36\",\n",
    "    \"Accept\": \"text/html,application/xhtml+xml,application/xml;q=0.9,image/webp,image/apng,*/*;q=0.8\",\n",
    "    \"Accept-Encoding\": \"gzip, deflate, br\",\n",
    "    \"Accept-Language\": \"en-US,en;q=0.9,pl;q=0.8\",\n",
    "    \"Connection\": \"keep-alive\"\n",
    "}\n",
    "\n",
    "response = requests.get(url, headers=headers)\n",
    "response = requests.get(url, headers=headers)\n",
    "\n",
    "# Debugowanie odpowiedzi\n",
    "print(f\"Status Code: {response.status_code}\")\n",
    "print(f\"Response Headers: {response.headers}\")\n",
    "print(f\"Response Text (first 2000 chars): {response.text[:2000]}\")\n",
    "\n",
    "# Jeśli odpowiedź jest poprawna, wykonaj webscraping\n",
    "if response.status_code == 200:\n",
    "    soup = BeautifulSoup(response.content, \"html.parser\")\n",
    "\n",
    "    # Pobieranie ofert mieszkań\n",
    "    titles = [h2.a.text.strip() for h2 in soup.find_all(\"h2\", class_=\"title\") if h2.a]\n",
    "    prices = [p.text.replace(\"\\xa0\", \" \").strip() for p in soup.find_all(\"span\", class_=\"price\")]\n",
    "\n",
    "    print(\"Titles:\", titles)\n",
    "    print(len(titles))\n",
    "    print(\"Prices:\", prices)\n",
    "    print(len(prices))\n",
    "\n",
    "    df = pd.DataFrame({\"Title\": titles, \"Price\": prices})\n",
    "\n",
    "    # Dopisanie do pliku CSV\n",
    "    df.to_csv(\"scraped_data.csv\", mode='a', header=not os.path.exists('scraped_data.csv'), index=False)\n",
    "else:\n",
    "    print(\"Failed to retrieve data.\")\n"
   ]
  }
 ],
 "metadata": {
  "colab": {
   "provenance": []
  },
  "kernelspec": {
   "display_name": "Python 3",
   "name": "python3"
  },
  "language_info": {
   "codemirror_mode": {
    "name": "ipython",
    "version": 3
   },
   "file_extension": ".py",
   "mimetype": "text/x-python",
   "name": "python",
   "nbconvert_exporter": "python",
   "pygments_lexer": "ipython3",
   "version": "3.9.23"
  },
  "papermill": {
   "default_parameters": {},
   "duration": 4.036675,
   "end_time": "2025-06-27T17:41:34.630909",
   "environment_variables": {},
   "exception": null,
   "input_path": "nb.ipynb",
   "output_path": "nbo.ipynb",
   "parameters": {},
   "start_time": "2025-06-27T17:41:30.594234",
   "version": "2.6.0"
  }
 },
 "nbformat": 4,
 "nbformat_minor": 5
}