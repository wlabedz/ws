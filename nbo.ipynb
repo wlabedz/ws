{
 "cells": [
  {
   "cell_type": "code",
   "execution_count": 1,
   "id": "ac21b50d",
   "metadata": {
    "colab": {
     "base_uri": "https://localhost:8080/"
    },
    "execution": {
     "iopub.execute_input": "2025-07-23T19:39:26.502218Z",
     "iopub.status.busy": "2025-07-23T19:39:26.501937Z",
     "iopub.status.idle": "2025-07-23T19:39:28.687888Z",
     "shell.execute_reply": "2025-07-23T19:39:28.687227Z"
    },
    "id": "5pYh4c8j1w43",
    "outputId": "8a0dca73-64e5-4f0d-c493-2c5b38392363",
    "papermill": {
     "duration": 2.189676,
     "end_time": "2025-07-23T19:39:28.689079",
     "exception": false,
     "start_time": "2025-07-23T19:39:26.499403",
     "status": "completed"
    },
    "tags": []
   },
   "outputs": [
    {
     "name": "stdout",
     "output_type": "stream",
     "text": [
      "Status Code: 200\n",
      "Response Headers: {'Server': 'nginx', 'Date': 'Wed, 23 Jul 2025 19:39:28 GMT', 'Content-Type': 'text/html; charset=UTF-8', 'Transfer-Encoding': 'chunked', 'Vary': 'Accept-Encoding, User-Agent', 'Set-Cookie': 'FRSPSID=b86gsjapujpgbdgmeg91b7tjk7; path=/; domain=.sprzedajemy.pl; secure; HttpOnly, _items_per_page__offer_list=60; expires=Fri, 22-Aug-2025 19:39:28 GMT; Max-Age=2592000; path=/; domain=.sprzedajemy.pl; secure; httponly, observed_id=105516418868813a703eff3266807500171280816; expires=Mon, 23-Jul-2125 20:39:28 GMT; Max-Age=3155677200; path=/; domain=.sprzedajemy.pl; secure; httponly', 'Expires': 'Thu, 19 Nov 1981 08:52:00 GMT', 'Cache-Control': 'no-store, no-cache, must-revalidate, post-check=0, pre-check=0', 'Pragma': 'no-cache', 'Content-Encoding': 'gzip'}\n",
      "Response Text (first 2000 chars): <!DOCTYPE html><html xmlns=\"http://www.w3.org/1999/xhtml\" xml:lang=\"pl\" lang=\"pl\" class=\"no-js\" >\n",
      "<head>\n",
      "\t\t\t<!-- Google Tag Manager -->\n",
      "\t\t\t<script>(function(w,d,s,l,i){w[l]=w[l]||[];w[l].push({'gtm.start':\n",
      "\t\t\t\t\t\tnew Date().getTime(),event:'gtm.js'});var f=d.getElementsByTagName(s)[0],\n",
      "\t\t\t\t\tj=d.createElement(s),dl=l!='dataLayer'?'&l='+l:'';j.async=true;j.src=\n",
      "\t\t\t\t\t'https://www.googletagmanager.com/gtm.js?id='+i+dl\n",
      "\t\t\t\t\t\t\t\t\t    ;f.parentNode.insertBefore(j,f);\n",
      "\t\t\t\t    })(window,document,'script','dataLayer','GTM-P3S238');</script>\n",
      "\t\t\t<!-- End Google Tag Manager -->\n",
      "\t<title>Mieszkania Kraków na sprzedaż, wynajem - Sprzedajemy.pl</title><meta http-equiv=\"Content-Type\" content=\"text/html; charset=UTF-8\" >\n",
      "<meta http-equiv=\"X-UA-Compatible\" content=\"IE=edge\" >\n",
      "<meta name=\"description\" content=\"Ogłoszenia o tematyce:  w kategorii Mieszkania - Kupuj i sprzedawaj rzeczy używane i nowe w kategorii Mieszkania na Sprzedajemy.pl\" >\n",
      "<meta property=\"og:title\" content=\"Mieszkania Kraków na sprzedaż, wynajem - Sprzedajemy.pl\" >\n",
      "<meta property=\"og:type\" content=\"website\" >\n",
      "<meta property=\"og:image\" content=\"https://thumbs.img-sprzedajemy.pl/facebook/sprzedajemy.pl.png\" >\n",
      "<meta property=\"og:image:width\" content=\"200\" >\n",
      "<meta property=\"og:image:height\" content=\"200\" >\n",
      "<meta property=\"og:url\" content=\"https://sprzedajemy.pl/krakow/nieruchomosci/mieszkania\" >\n",
      "<meta property=\"og:site_name\" content=\"Sprzedajemy.pl\" >\n",
      "<meta property=\"fb:app_id\" content=\"173258269367442\" >\n",
      "<meta property=\"og:description\" content=\"Ogłoszenia o tematyce:  w kategorii Mieszkania - Kupuj i sprzedawaj rzeczy używane i nowe w kategorii Mieszkania na Sprzedajemy.pl\" >\n",
      "<meta name=\"robots\" content=\"noindex, follow\" >\t\t<script  async=\"async\" src=\"https://static.criteo.net/js/ld/publishertag.js\"></script>\n",
      "        <script  async=\"async\" src=\"https://ap.lijit.com/www/sovrn_beacon_standalone/sovrn_standalone_beacon.js?iid=13417409&amp;uid=sprzedajemy\" id=\"sBeacon\"></script>\n",
      "\t\t<script  async=\"async\" src=\"https://securepuba\n"
     ]
    },
    {
     "name": "stdout",
     "output_type": "stream",
     "text": [
      "Titles: ['4pokoje 68m2 balkon KLIMA Śródmieście BEZ PROWIZJI od właściciela', 'Mieszkanie na sprzedaż/zamiana 39m2', 'Mieszkanie Wola Justowska /Bielany 36m2', 'Dom - Kraków Tonie - Zielona okolica - 123 m2 | 5 - pok. | Ogród | Taras |…', '2-pokojowe mieszkanie na Zabłociu – ciche, świetna lokalizacja!', 'Nowoczesny apartament z panoramicznym widokiem - od właściciela', 'Wyjątkowe mieszkanie z widokiem na klasztor w Tyńcu i panoramę Tatr', 'Stylowy apartament z widokiem na panoramę Krakowa - od właściciela', 'Kraków, Stare Miasto sprzedaż/zamiana', 'Mieszkanie Kraków 51.92m2 2 pokoje', 'Wynajmę mieszkanie 25m2 1 pok Kraków', 'Kraków Stare Miasto 62 m2 KLIMA Wawel wykończone Kazimierz INWESTYCYJNE', 'Oferta sprzedaży mieszkania 136.9m2 5 pokoi Kraków Reduta', 'Stare Miasto 32m2 KLIMA Wawel wykończone Kazimierz wysokie ROI', 'Os. Szkolne - dwupokojowe mieszkanie po remoncie', '2 POKOJE z klimatem | Dąbska | TAURON Arena | Balkon | aż 55 m²!', 'Ruczaj - dwupokojowe z aneksem kuchennym, 2002r.', 'Mieszkanie Kraków Imbramowska 37.02 metry', 'Mieszkanie sprzedam 43m2 2-pok Kraków', 'Ogłoszenie mieszkanie Kraków Tadeusza Śliwiaka 81.78m2 4 pok', 'Pet Friendly - mieszkanie do wynajęcia na Czyżynach 30m² od zaraz', 'Mieszkanie Kraków Tadeusza Śliwiaka 81.78m2 4 pokoje', 'Do sprzedaży mieszkanie 46.21m2 2 pok Kraków Bukowa', 'Sprzedaż mieszkania 65.57m2 3 pokoje Kraków Tadeusza Śliwiaka', 'Oferta wynajmu mieszkania 51.87 metrów 2-pok Kraków', 'Mieszkanie 32m2 1 pokojowe Kraków Obozowa', '2 POKOJE z klimatem | Dąbska | TAURON Arena | Balkon', 'Słoneczne mieszkanko z dużym balkonem', 'Mieszkanie do wynajęcia Kraków Jana Kantego Federowicza 100m2 5-pokojowe', 'Nowoczesne 3-pokojowe mieszkanie 48 m² – Pachońskiego / od zaraz', 'Ogłoszenie mieszkanie 51.67m2 2 pok Kraków', 'Mieszkanie 49.52m2 2-pokojowe Kraków', 'Mieszkanie Kraków 211.89m2 5 pokoi', 'Wynajmę mieszkanie na Starym Mieście', 'Sprzedam mieszkanie po remoncie na os. Hutniczym', '2 pokoje z garderobą - bez barier - bez prowizji!', '2- pokojowe mieszkanie | K. Kołłątajowskiej | 57m2', '3 pokoje I 47 m2 I Os. Złotego Wieku', 'Mieszkanie 32m2 2-pok Kraków', 'Piękne 2 pokojowe mieszkanie z widokiem na Park Orlińskiego / Avia', 'Do wynajęcia mieszkanie jednopokojowe 36m', 'Mieszkanie 3 pokojowe, Galicyjska Kraków Czyżyny, 61m2', 'Sprzedaż mieszkania 93m2 Kraków', '2-pokojowe mieszkanie po remoncie | PROMOCJA | ul Bronowicka', 'wynajme 2 pok z aneksem 34m, os Dywizjonu 303 , od wlasciciela', 'Ogłoszenie mieszkanie 46m2 2 pokoje Kraków Bukowa', 'Sprzedam mieszkanie 41mk', 'Oddzielna kuchnia,balkon,piwnica,Rezerwacja', 'Mieszkanie na sprzedaż Kraków Halszki 35 metrów 1 pokój', 'Mieszkanie 103.89m2 3 pokoje Kraków Smocza', 'Sprzedam mieszkanie na os. Złocień w Krakowie', 'Mieszkanie 52 metry 3-pok Kraków Korczynowa', 'Dom modułowy prefabrykowany Dubai Prestige', 'Mieszkanie na wynajem Kraków Plac Matejki 42m2', 'Kawalerka 33m2 ul. Domagały', 'Nowoczesna kawalerka 29m2 - klimatyzacja + ogródek', 'Kraków – 3 pokojowy apartament na sprzedaż na kameralnym osiedlu', 'Oferta wynajmu mieszkania Kraków Benedykta 46.5m2 2 pokojowe', 'Mieszkanie 55.7m2 Kraków Łużycka', 'Ogłoszenie mieszkanie Kraków Zawodzie 74m2 3-pok']\n",
      "60\n",
      "Prices: ['1 850 000 zł', '526 000 zł', '487 000 zł', '2 275 000 zł', '499 000 zł', '997 000 zł', '779 000 zł', '897 000 zł', '2 153 000 zł', '3 500 zł', '2 290 zł', '1 828 000 zł', '2 420 000 zł', '989 000 zł', '580 000 zł', '3 700 zł', '659 000 zł', '2 500 zł', '595 000 zł', '924 679 zł', '2 050 zł', '932 862 zł', '572 912 zł', '746 586 zł', '2 950 zł', '470 000 zł', '3 700 zł', '699 000 zł', '6 000 zł', '3 500 zł', '649 000 zł', '639 000 zł', '7 416 150 zł', '3 100 zł', '595 000 zł', '630 000 zł', '645 000 zł', '590 000 zł', '575 000 zł', '3 700 zł', '2 000 zł', '1 067 500 zł', '763 000 zł', '699 999 zł', '2 400 zł', '570 524 zł', '620 000 zł', '358 000 zł', '460 000 zł', '6 300 zł', '430 000 zł', '595 000 zł', '580 000 zł', '2 250 zł', '2 200 zł', '2 100 zł', '999 000 zł', '2 800 zł', '696 000 zł', '998 000 zł']\n",
      "60\n"
     ]
    }
   ],
   "source": [
    "import requests\n",
    "from bs4 import BeautifulSoup\n",
    "import pandas as pd\n",
    "import os\n",
    "\n",
    "url = \"https://sprzedajemy.pl/krakow/nieruchomosci/mieszkania?offset=0&items_per_page=60\"\n",
    "\n",
    "headers = {\n",
    "    \"User-Agent\": \"Mozilla/5.0 (Windows NT 10.0; Win64; x64) AppleWebKit/537.36 (KHTML, like Gecko) Chrome/58.0.3029.110 Safari/537.36\",\n",
    "    \"Accept\": \"text/html,application/xhtml+xml,application/xml;q=0.9,image/webp,image/apng,*/*;q=0.8\",\n",
    "    \"Accept-Encoding\": \"gzip, deflate, br\",\n",
    "    \"Accept-Language\": \"en-US,en;q=0.9,pl;q=0.8\",\n",
    "    \"Connection\": \"keep-alive\"\n",
    "}\n",
    "\n",
    "response = requests.get(url, headers=headers)\n",
    "response = requests.get(url, headers=headers)\n",
    "\n",
    "# Debugowanie odpowiedzi\n",
    "print(f\"Status Code: {response.status_code}\")\n",
    "print(f\"Response Headers: {response.headers}\")\n",
    "print(f\"Response Text (first 2000 chars): {response.text[:2000]}\")\n",
    "\n",
    "# Jeśli odpowiedź jest poprawna, wykonaj webscraping\n",
    "if response.status_code == 200:\n",
    "    soup = BeautifulSoup(response.content, \"html.parser\")\n",
    "\n",
    "    # Pobieranie ofert mieszkań\n",
    "    titles = [h2.a.text.strip() for h2 in soup.find_all(\"h2\", class_=\"title\") if h2.a]\n",
    "    prices = [p.text.replace(\"\\xa0\", \" \").strip() for p in soup.find_all(\"span\", class_=\"price\")]\n",
    "\n",
    "    print(\"Titles:\", titles)\n",
    "    print(len(titles))\n",
    "    print(\"Prices:\", prices)\n",
    "    print(len(prices))\n",
    "\n",
    "    df = pd.DataFrame({\"Title\": titles, \"Price\": prices})\n",
    "\n",
    "    # Dopisanie do pliku CSV\n",
    "    df.to_csv(\"scraped_data.csv\", mode='a', header=not os.path.exists('scraped_data.csv'), index=False)\n",
    "else:\n",
    "    print(\"Failed to retrieve data.\")\n"
   ]
  }
 ],
 "metadata": {
  "colab": {
   "provenance": []
  },
  "kernelspec": {
   "display_name": "Python 3",
   "name": "python3"
  },
  "language_info": {
   "codemirror_mode": {
    "name": "ipython",
    "version": 3
   },
   "file_extension": ".py",
   "mimetype": "text/x-python",
   "name": "python",
   "nbconvert_exporter": "python",
   "pygments_lexer": "ipython3",
   "version": "3.9.23"
  },
  "papermill": {
   "default_parameters": {},
   "duration": 3.499025,
   "end_time": "2025-07-23T19:39:29.006775",
   "environment_variables": {},
   "exception": null,
   "input_path": "nb.ipynb",
   "output_path": "nbo.ipynb",
   "parameters": {},
   "start_time": "2025-07-23T19:39:25.507750",
   "version": "2.6.0"
  }
 },
 "nbformat": 4,
 "nbformat_minor": 5
}