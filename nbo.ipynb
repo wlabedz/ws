{
 "cells": [
  {
   "cell_type": "code",
   "execution_count": 1,
   "id": "c6d69f4a",
   "metadata": {
    "colab": {
     "base_uri": "https://localhost:8080/"
    },
    "execution": {
     "iopub.execute_input": "2025-05-20T21:16:53.982517Z",
     "iopub.status.busy": "2025-05-20T21:16:53.982293Z",
     "iopub.status.idle": "2025-05-20T21:16:56.446943Z",
     "shell.execute_reply": "2025-05-20T21:16:56.446236Z"
    },
    "id": "5pYh4c8j1w43",
    "outputId": "8a0dca73-64e5-4f0d-c493-2c5b38392363",
    "papermill": {
     "duration": 2.467862,
     "end_time": "2025-05-20T21:16:56.448032",
     "exception": false,
     "start_time": "2025-05-20T21:16:53.980170",
     "status": "completed"
    },
    "tags": []
   },
   "outputs": [
    {
     "name": "stdout",
     "output_type": "stream",
     "text": [
      "Status Code: 200\n",
      "Response Headers: {'Server': 'nginx', 'Date': 'Tue, 20 May 2025 21:16:56 GMT', 'Content-Type': 'text/html; charset=UTF-8', 'Transfer-Encoding': 'chunked', 'Vary': 'Accept-Encoding, User-Agent', 'Set-Cookie': 'FRSPSID=e4gc6mvotl4164pbl9a6tl7ho0; path=/; domain=.sprzedajemy.pl; secure; HttpOnly, _items_per_page__offer_list=60; expires=Thu, 19-Jun-2025 21:16:55 GMT; Max-Age=2592000; path=/; domain=.sprzedajemy.pl; secure; httponly, observed_id=1112444370682cf147e99099202577391158398494; expires=Sun, 20-May-2125 22:16:55 GMT; Max-Age=3155677200; path=/; domain=.sprzedajemy.pl; secure; httponly', 'Expires': 'Thu, 19 Nov 1981 08:52:00 GMT', 'Cache-Control': 'no-store, no-cache, must-revalidate, post-check=0, pre-check=0', 'Pragma': 'no-cache', 'Content-Encoding': 'gzip'}\n",
      "Response Text (first 2000 chars): <!DOCTYPE html><html xmlns=\"http://www.w3.org/1999/xhtml\" xml:lang=\"pl\" lang=\"pl\" class=\"no-js\" >\n",
      "<head>\n",
      "\t\t\t<!-- Google Tag Manager -->\n",
      "\t\t\t<script>(function(w,d,s,l,i){w[l]=w[l]||[];w[l].push({'gtm.start':\n",
      "\t\t\t\t\t\tnew Date().getTime(),event:'gtm.js'});var f=d.getElementsByTagName(s)[0],\n",
      "\t\t\t\t\tj=d.createElement(s),dl=l!='dataLayer'?'&l='+l:'';j.async=true;j.src=\n",
      "\t\t\t\t\t'https://www.googletagmanager.com/gtm.js?id='+i+dl\n",
      "\t\t\t\t\t\t\t\t\t    ;f.parentNode.insertBefore(j,f);\n",
      "\t\t\t\t    })(window,document,'script','dataLayer','GTM-P3S238');</script>\n",
      "\t\t\t<!-- End Google Tag Manager -->\n",
      "\t<title>Mieszkania Kraków na sprzedaż, wynajem - Sprzedajemy.pl</title><meta http-equiv=\"Content-Type\" content=\"text/html; charset=UTF-8\" >\n",
      "<meta http-equiv=\"X-UA-Compatible\" content=\"IE=edge\" >\n",
      "<meta name=\"description\" content=\"Ogłoszenia o tematyce:  w kategorii Mieszkania - Kupuj i sprzedawaj rzeczy używane i nowe w kategorii Mieszkania na Sprzedajemy.pl\" >\n",
      "<meta property=\"og:title\" content=\"Mieszkania Kraków na sprzedaż, wynajem - Sprzedajemy.pl\" >\n",
      "<meta property=\"og:type\" content=\"website\" >\n",
      "<meta property=\"og:image\" content=\"https://thumbs.img-sprzedajemy.pl/facebook/sprzedajemy.pl.png\" >\n",
      "<meta property=\"og:image:width\" content=\"200\" >\n",
      "<meta property=\"og:image:height\" content=\"200\" >\n",
      "<meta property=\"og:url\" content=\"https://sprzedajemy.pl/krakow/nieruchomosci/mieszkania\" >\n",
      "<meta property=\"og:site_name\" content=\"Sprzedajemy.pl\" >\n",
      "<meta property=\"fb:app_id\" content=\"173258269367442\" >\n",
      "<meta property=\"og:description\" content=\"Ogłoszenia o tematyce:  w kategorii Mieszkania - Kupuj i sprzedawaj rzeczy używane i nowe w kategorii Mieszkania na Sprzedajemy.pl\" >\n",
      "<meta name=\"robots\" content=\"noindex, follow\" >\t\t<script  async=\"async\" src=\"https://static.criteo.net/js/ld/publishertag.js\"></script>\n",
      "        <script  async=\"async\" src=\"https://ap.lijit.com/www/sovrn_beacon_standalone/sovrn_standalone_beacon.js?iid=13417409&amp;uid=sprzedajemy\" id=\"sBeacon\"></script>\n",
      "\t\t<script  async=\"async\" src=\"https://securepuba\n",
      "Titles: ['Mieszkanie na sprzedaż/zamiana 39m2', 'Strych do adaptacji, Błonia, ul. Filarecka', 'Kraków, Stare Miasto sprzedaż/zamiana', 'Stylowy apartament z widokiem na panoramę Krakowa - od właściciela', 'Nowoczesny apartament z panoramicznym widokiem - od właściciela', 'Wyjątkowe mieszkanie z widokiem na klasztor w Tyńcu i panoramę Tatr', '2 lub 3 pokoje,62m2,balkon, Widok na Wawel', 'Kraków Bronowice Stawowa 168 / 60m2 3 POK/ 22,5 m2 taras/ BEZ POŚREDNIKÓW', 'Odkryj ekskluzywny kompleks mieszkaniowy Lomas de Campoamor', 'Mieszkanie Kraków os. Albertyńskie 38m2 2 pokoje', 'Mieszkanie Kraków prof. Michała Bobrzyńskiego 60m2 3 pokojowe', 'Wola Justowska- dwupokojowe z ogródkiem wynajmę od zaraz', 'Mieszkanie Kraków Wrocławska 27.86m2 1 pokój', 'Mieszkanie Kraków Reduta 77.12 metry 3 pokoje', 'Mieszkanie na sprzedaż 32m2, Kraków os. Gotyk', 'Mieszkanie Kraków 47.62m2 2 pokoje', 'Bezpośrednio wynajmę 2-pokojowe ul.Batorego po remoncie.', 'Mieszkanie 64m2 3 pokoje Kraków Grota Roweckiego', 'Piękne mieszkanie |2 pokoje + kuchnia| DO WEJ|ŚCIA', 'Mieszkanie wynajmę Kraków 66m2 4 pokojowe', 'Atrakcyjne mieszkanie 3 pok.61,4 m2 Kraków ul. Młyńska', 'Mieszkanie 38 metrów kwadratowych sprzedam bezpośrednio', 'Kawalerka,23 m2, Al. 29 Listopada 36, ENG,UA', 'Mieszkanie z ogródkiem Zakrzówek bezczynszowe', 'Mieszkanie Kraków os. Górali 46m2 2 pokoje', 'Mieszkanie 57m2 3 pokoje Kraków Władysława Taklińskiego', 'Oferta sprzedaży mieszkania Kraków 122m2 4 pokojowe', 'Mieszkanie na sprzedaż 52m2 3 pok Kraków Korczynowa', 'Mieszkanie 122m 4 pokoje Kraków', 'Ogłoszenie mieszkanie Kraków 36.11m 2-pok', 'Mieszkanie 41m2 3-pokojowe Kraków Karmelicka', 'Świeżo wykończone mieszkanie do wynajęcia', 'Oferta sprzedaży mieszkania Kraków 30.1m2 1 pokój', 'Mieszkanie Kraków Włoska 56m2 3 pokojowe', 'Mieszkanie Kraków Bratysławska 36.45m2 1 pok', 'DWUPOZIOMOWE | 4 POKOJE | KLIMATYZACJA | MOŻLIWOŚĆ PODZIAŁU | GARAŻ | PIWN…', 'Mieszkanie do sprzedania 38.7m2 2 pok Kraków Kamieńskiego - okolice', 'Mieszkanie Kraków Stanisława Przybyszewskiego 35m2 1 pok', 'Sprzedaż mieszkania 34.2m2 Kraków', 'Mieszkanie 41 metrów 2 pok Kraków Wawrzyńca', 'Oferta sprzedaży mieszkania 30m2 Kraków Krowoderskich Zuchów', 'Mieszkanie 20m2 1 pokój Kraków Juliusza Lea', 'Mieszkanie Kraków 46.76m2 2-pokojowe', 'Mieszkanie Kraków Starego Dębu 32m2', 'Mieszkanie-Podgórze', 'Mieszkanie 71.51m2 3 pokoje Kraków Przewóz', 'Mieszkanie 50.3 metry 4-pok Kraków Altanowa', 'Mieszkanie Kraków 29 listopada - okolice 103.86m2 2-pokojowe', 'Sprzedam mieszkanie/kawalerke', 'Mieszkanie Kraków Ludowa 58.51m2 3-pok', 'Mieszkanie 52m2 2 pokojowe Kraków Pszczelna', 'Mieszkanie 57m2 2 pokoje Kraków', 'Oferta sprzedaży mieszkania 39.36m2 2 pok Kraków', 'Mieszkanie do sprzedania Kraków Filipowicza 72m2 2 pokojowe', 'Mieszkanie 34m2 2 pokoje Kraków Na Wzgórzach', 'Mieszkanie Kraków os. Hutnicze 20.81m2 1 pokój', 'Wynajmę mieszkanie Kraków Kantora 36m2 1 pokój', 'Mieszkanie 30.45m2 1 pokojowe Kraków', 'Mieszkanie Kraków Chełmońskiego 64.14m2 3 pokoje', 'Mieszkanie 101.17m2 4 pokoje Kraków Dożynkowa']\n",
      "60\n",
      "Prices: ['548 000 zł', '379 999 zł', '2 243 000 zł', '897 000 zł', '997 000 zł', '790 000 zł', '1 490 000 zł', '1 137 500 zł', '1 000 000 zł', '470 000 zł', '1 050 000 zł', '3 400 zł', '567 000 zł', '1 342 000 zł', '480 000 zł', '3 500 zł', '3 850 zł', '849 000 zł', '566 000 zł', '4 900 zł', '915 000 zł', '550 000 zł', '1 650 zł', '460 000 zł', '529 000 zł', '3 000 zł', '1 150 000 zł', '629 900 zł', '1 299 000 zł', '530 000 zł', '2 600 zł', '2 700 zł', '425 000 zł', '649 000 zł', '656 000 zł', '860 000 zł', '683 294 zł', '2 500 zł', '499 000 zł', '750 000 zł', '539 000 zł', '2 000 zł', '1 100 000 zł', '615 000 zł', '660 000 zł', '1 065 000 zł', '1 395 000 zł', '1 713 690 zł', '449 000 zł', '829 000 zł', '3 000 zł', '3 000 zł', '599 000 zł', '849 000 zł', '1 850 zł', '499 000 zł', '1 900 zł', '850 000 zł', '3 800 zł', '1 080 000 zł']\n",
      "60\n"
     ]
    }
   ],
   "source": [
    "import requests\n",
    "from bs4 import BeautifulSoup\n",
    "import pandas as pd\n",
    "import os\n",
    "\n",
    "url = \"https://sprzedajemy.pl/krakow/nieruchomosci/mieszkania?offset=0&items_per_page=60\"\n",
    "\n",
    "headers = {\n",
    "    \"User-Agent\": \"Mozilla/5.0 (Windows NT 10.0; Win64; x64) AppleWebKit/537.36 (KHTML, like Gecko) Chrome/58.0.3029.110 Safari/537.36\",\n",
    "    \"Accept\": \"text/html,application/xhtml+xml,application/xml;q=0.9,image/webp,image/apng,*/*;q=0.8\",\n",
    "    \"Accept-Encoding\": \"gzip, deflate, br\",\n",
    "    \"Accept-Language\": \"en-US,en;q=0.9,pl;q=0.8\",\n",
    "    \"Connection\": \"keep-alive\"\n",
    "}\n",
    "\n",
    "response = requests.get(url, headers=headers)\n",
    "response = requests.get(url, headers=headers)\n",
    "\n",
    "# Debugowanie odpowiedzi\n",
    "print(f\"Status Code: {response.status_code}\")\n",
    "print(f\"Response Headers: {response.headers}\")\n",
    "print(f\"Response Text (first 2000 chars): {response.text[:2000]}\")\n",
    "\n",
    "# Jeśli odpowiedź jest poprawna, wykonaj webscraping\n",
    "if response.status_code == 200:\n",
    "    soup = BeautifulSoup(response.content, \"html.parser\")\n",
    "\n",
    "    # Pobieranie ofert mieszkań\n",
    "    titles = [h2.a.text.strip() for h2 in soup.find_all(\"h2\", class_=\"title\") if h2.a]\n",
    "    prices = [p.text.replace(\"\\xa0\", \" \").strip() for p in soup.find_all(\"span\", class_=\"price\")]\n",
    "\n",
    "    print(\"Titles:\", titles)\n",
    "    print(len(titles))\n",
    "    print(\"Prices:\", prices)\n",
    "    print(len(prices))\n",
    "\n",
    "    df = pd.DataFrame({\"Title\": titles, \"Price\": prices})\n",
    "\n",
    "    # Dopisanie do pliku CSV\n",
    "    df.to_csv(\"scraped_data.csv\", mode='a', header=not os.path.exists('scraped_data.csv'), index=False)\n",
    "else:\n",
    "    print(\"Failed to retrieve data.\")\n"
   ]
  }
 ],
 "metadata": {
  "colab": {
   "provenance": []
  },
  "kernelspec": {
   "display_name": "Python 3",
   "name": "python3"
  },
  "language_info": {
   "codemirror_mode": {
    "name": "ipython",
    "version": 3
   },
   "file_extension": ".py",
   "mimetype": "text/x-python",
   "name": "python",
   "nbconvert_exporter": "python",
   "pygments_lexer": "ipython3",
   "version": "3.9.22"
  },
  "papermill": {
   "default_parameters": {},
   "duration": 3.575076,
   "end_time": "2025-05-20T21:16:56.665187",
   "environment_variables": {},
   "exception": null,
   "input_path": "nb.ipynb",
   "output_path": "nbo.ipynb",
   "parameters": {},
   "start_time": "2025-05-20T21:16:53.090111",
   "version": "2.6.0"
  }
 },
 "nbformat": 4,
 "nbformat_minor": 5
}