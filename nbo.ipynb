{
 "cells": [
  {
   "cell_type": "code",
   "execution_count": 1,
   "id": "464d4d90",
   "metadata": {
    "colab": {
     "base_uri": "https://localhost:8080/"
    },
    "execution": {
     "iopub.execute_input": "2025-04-30T17:15:42.688327Z",
     "iopub.status.busy": "2025-04-30T17:15:42.688048Z",
     "iopub.status.idle": "2025-04-30T17:15:44.745164Z",
     "shell.execute_reply": "2025-04-30T17:15:44.744488Z"
    },
    "id": "5pYh4c8j1w43",
    "outputId": "8a0dca73-64e5-4f0d-c493-2c5b38392363",
    "papermill": {
     "duration": 2.060673,
     "end_time": "2025-04-30T17:15:44.746236",
     "exception": false,
     "start_time": "2025-04-30T17:15:42.685563",
     "status": "completed"
    },
    "tags": []
   },
   "outputs": [
    {
     "name": "stdout",
     "output_type": "stream",
     "text": [
      "Status Code: 200\n",
      "Response Headers: {'Server': 'nginx', 'Date': 'Wed, 30 Apr 2025 17:15:44 GMT', 'Content-Type': 'text/html; charset=UTF-8', 'Transfer-Encoding': 'chunked', 'Vary': 'Accept-Encoding, User-Agent', 'Set-Cookie': 'FRSPSID=kqmfrtccnr1mgu1h43inpcsir7; path=/; domain=.sprzedajemy.pl; secure; HttpOnly, _items_per_page__offer_list=60; expires=Fri, 30-May-2025 17:15:44 GMT; Max-Age=2592000; path=/; domain=.sprzedajemy.pl; secure; httponly, observed_id=172777286368125ac051c4b7210896096109011691; expires=Mon, 30-Apr-2125 18:15:44 GMT; Max-Age=3155677200; path=/; domain=.sprzedajemy.pl; secure; httponly', 'Expires': 'Thu, 19 Nov 1981 08:52:00 GMT', 'Cache-Control': 'no-store, no-cache, must-revalidate, post-check=0, pre-check=0', 'Pragma': 'no-cache', 'Content-Encoding': 'gzip'}\n",
      "Response Text (first 2000 chars): <!DOCTYPE html><html xmlns=\"http://www.w3.org/1999/xhtml\" xml:lang=\"pl\" lang=\"pl\" class=\"no-js\" >\n",
      "<head>\n",
      "\t\t\t<!-- Google Tag Manager -->\n",
      "\t\t\t<script>(function(w,d,s,l,i){w[l]=w[l]||[];w[l].push({'gtm.start':\n",
      "\t\t\t\t\t\tnew Date().getTime(),event:'gtm.js'});var f=d.getElementsByTagName(s)[0],\n",
      "\t\t\t\t\tj=d.createElement(s),dl=l!='dataLayer'?'&l='+l:'';j.async=true;j.src=\n",
      "\t\t\t\t\t'https://www.googletagmanager.com/gtm.js?id='+i+dl\n",
      "\t\t\t\t\t\t\t\t\t    ;f.parentNode.insertBefore(j,f);\n",
      "\t\t\t\t    })(window,document,'script','dataLayer','GTM-P3S238');</script>\n",
      "\t\t\t<!-- End Google Tag Manager -->\n",
      "\t<title>Mieszkania Kraków na sprzedaż, wynajem - Sprzedajemy.pl</title><meta http-equiv=\"Content-Type\" content=\"text/html; charset=UTF-8\" >\n",
      "<meta http-equiv=\"X-UA-Compatible\" content=\"IE=edge\" >\n",
      "<meta name=\"description\" content=\"Ogłoszenia o tematyce:  w kategorii Mieszkania - Kupuj i sprzedawaj rzeczy używane i nowe w kategorii Mieszkania na Sprzedajemy.pl\" >\n",
      "<meta property=\"og:title\" content=\"Mieszkania Kraków na sprzedaż, wynajem - Sprzedajemy.pl\" >\n",
      "<meta property=\"og:type\" content=\"website\" >\n",
      "<meta property=\"og:image\" content=\"https://thumbs.img-sprzedajemy.pl/facebook/sprzedajemy.pl.png\" >\n",
      "<meta property=\"og:image:width\" content=\"200\" >\n",
      "<meta property=\"og:image:height\" content=\"200\" >\n",
      "<meta property=\"og:url\" content=\"https://sprzedajemy.pl/krakow/nieruchomosci/mieszkania\" >\n",
      "<meta property=\"og:site_name\" content=\"Sprzedajemy.pl\" >\n",
      "<meta property=\"fb:app_id\" content=\"173258269367442\" >\n",
      "<meta property=\"og:description\" content=\"Ogłoszenia o tematyce:  w kategorii Mieszkania - Kupuj i sprzedawaj rzeczy używane i nowe w kategorii Mieszkania na Sprzedajemy.pl\" >\n",
      "<meta name=\"robots\" content=\"noindex, follow\" >\t\t<script  async=\"async\" src=\"https://static.criteo.net/js/ld/publishertag.js\"></script>\n",
      "        <script  async=\"async\" src=\"https://ap.lijit.com/www/sovrn_beacon_standalone/sovrn_standalone_beacon.js?iid=13417409&amp;uid=sprzedajemy\" id=\"sBeacon\"></script>\n",
      "\t\t<script  async=\"async\" src=\"https://securepuba\n",
      "Titles: ['Mieszkanie na sprzedaż/zamiana 39m2', '2 pokoje 41m2 blisko Aquaparku wkrótce tramwaj!', 'Mieszkanie przy Parku Rzecznym Tonie', 'Kraków, Stare Miasto sprzedaż/zamiana', 'Mieszkanie Kraków 43m2 2 pokojowe', 'Mieszkanie 2-pokojowe 44,4 m2 Kraków- Bronowice !', 'Bezpośrednio wynajmę 2-pokojowe ul.Batorego po remoncie.', 'Mieszkanie Kraków Reduta 90.05m2', 'Wola Justowska- dwupokojowe z ogródkiem wynajmę od zaraz', 'Mieszkanie sprzedam 120.54m2 Kraków Reduta', 'Oferta sprzedaży mieszkania Kraków 52.32m2 2-pokojowe', 'Mieszkanie Kraków Piasta Kołodzieja 44.25m2', 'Sprzedam mieszkanie 52.27m2 Kraków Czerwone Maki', 'Apartament nad Wisłą na Starym Podgórzu', 'Mieszkanie Kraków Dąbska 37m2 2-pokojowe', 'Mieszkanie na sprzedaż Kraków Gustawa Morcinka 48.28m2 2 pokoje', 'Mieszkanie 48.2 metry 2 pok Kraków Wysockiej', 'Mieszkanie 38 metrów kwadratowych sprzedam bezpośrednio', 'Mieszkanie Kraków Reduta 136.9m2 5 pokoi', 'Kawalerka,23 m2, Al. 29 Listopada 36, ENG,UA', 'Mieszkanie 38.5m2 2-pok Kraków', 'Sprzedam mieszkanie Kraków 33.87m2 3-pokojowe', 'Mieszkanie 60.45m2 3 pokojowe Kraków Wincentego Witosa', 'Mieszkanie 36m2 2 pokoje Kraków os. Teatralne', 'Na sprzedaż 2 pokojowe, stan - bardzo dobry', 'Olsza - 62 m2 + 2 tarasy, blisko centrum', 'Mieszkanie Kraków 90.25m2 3 pokoje', 'Mieszkanie 62.47m2 3 pokoje Kraków', 'Górka Narodowa - trzypokojowe mieszkanie z garażem', 'Mistrzejowice - dwupokojowe z jasną kuchnią,balkon', 'Mieszkanie 42.93m2 Kraków Czerwone Maki', 'Mieszkanie z ogródkiem Zakrzówek bezczynszowe', 'Oferta sprzedaży mieszkania 136.9m2 5 pokoi Kraków Reduta', 'Mieszkanie 52.22m2 2 pok Kraków Czerwone Maki', 'Sprzedaż mieszkania Kraków Wincentego Witosa 66.86m2', 'Ruczaj - 2 pokoje, balkon, jasna kuchnia, garaż', 'Bieńczyce - 3 pokoje, balkon, jasna kuchnia', 'Ruczaj - dwupokojowe z aneksem kuchennym, 2002r.', 'Ul. Bratysławska - 2 pokoje w apartamentowcu', 'Mieszkanie Kraków 41m 1 pok', 'Mieszkanie Kraków 27.42 metry 4-pokojowe', 'Oferta sprzedaży mieszkania Kraków Armii Krajowej - okolice 89.16m2 4-pokojowe', 'Mieszkanie na sprzedaż 77.26m2 3 pokojowe Kraków', 'Mieszkanie 27.42m2 Kraków', 'Ogłoszenie mieszkanie 89.16m2 4-pokojowe Kraków', 'Mieszkanie Kraków Rydlówka 27.42m2 3 pokoje', 'Mieszkanie Kraków Rydlówka 27.42m2', 'Mieszkanie Kraków 27.42m2 1-pokojowe', 'Mieszkanie Kraków Armii Krajowej - okolice 70.72m2 3-pokojowe', 'Mieszkanie Kraków Leonida Teligi 638 metrów', 'Oferta sprzedaży mieszkania Kraków Rydlówka 27.42m2 4 pokoje', 'Mieszkanie 96.9m2 4-pokojowe Kraków Armii Krajowej - okolice', 'Oferta sprzedaży mieszkania Kraków Rydlówka 27.42m2 3-pokojowe', 'Mieszkanie 51.82m2 3 pokoje Kraków Centralna', 'Mieszkanie sprzedam Kraków 51.82m2 3 pokoje', 'Mieszkanie 27.42m2 Kraków Rydlówka', 'Mieszkanie Kraków Rydlówka 27.42m2 3 pok', 'Mieszkanie Kraków 27.42m2 3 pokoje', 'Mieszkanie Kraków Rydlówka 27.42m2 3 pok', 'Mieszkanie Kraków Obozowa 115.2m2 4 pokoje']\n",
      "60\n",
      "Prices: ['548 000 zł', '710 000 zł', '535 000 zł', '2 254 000 zł', '534 700 zł', '600 000 zł', '3 850 zł', '1 338 000 zł', '3 400 zł', '2 097 000 zł', '784 245 zł', '663 750 zł', '799 011 zł', '1 049 000 zł', '665 000 zł', '728 000 zł', '758 000 zł', '550 000 zł', '2 418 000 zł', '1 650 zł', '2 000 zł', '519 000 zł', '871 056 zł', '449 000 zł', '699 999 zł', '819 000 zł', '1 338 000 zł', '960 000 zł', '800 000 zł', '599 000 zł', '698 712 zł', '460 000 zł', '2 418 000 zł', '790 496 zł', '912 696 zł', '760 000 zł', '7 450 000 zł', '659 000 zł', '2 700 zł', '2 400 zł', '1 198 496 zł', '1 638 914 zł', '1 348 885 zł', '1 036 821 zł', '1 726 600 zł', '1 078 683 zł', '852 145 zł', '852 145 zł', '1 360 783 zł', '650 000 zł', '1 149 640 zł', '2 120 809 zł', '969 190 zł', '710 000 zł', '710 000 zł', '1 091 400 zł', '914 085 zł', '1 096 750 zł', '960 778 zł', '1 367 000 zł']\n",
      "60\n"
     ]
    }
   ],
   "source": [
    "import requests\n",
    "from bs4 import BeautifulSoup\n",
    "import pandas as pd\n",
    "import os\n",
    "\n",
    "url = \"https://sprzedajemy.pl/krakow/nieruchomosci/mieszkania?offset=0&items_per_page=60\"\n",
    "\n",
    "headers = {\n",
    "    \"User-Agent\": \"Mozilla/5.0 (Windows NT 10.0; Win64; x64) AppleWebKit/537.36 (KHTML, like Gecko) Chrome/58.0.3029.110 Safari/537.36\",\n",
    "    \"Accept\": \"text/html,application/xhtml+xml,application/xml;q=0.9,image/webp,image/apng,*/*;q=0.8\",\n",
    "    \"Accept-Encoding\": \"gzip, deflate, br\",\n",
    "    \"Accept-Language\": \"en-US,en;q=0.9,pl;q=0.8\",\n",
    "    \"Connection\": \"keep-alive\"\n",
    "}\n",
    "\n",
    "response = requests.get(url, headers=headers)\n",
    "response = requests.get(url, headers=headers)\n",
    "\n",
    "# Debugowanie odpowiedzi\n",
    "print(f\"Status Code: {response.status_code}\")\n",
    "print(f\"Response Headers: {response.headers}\")\n",
    "print(f\"Response Text (first 2000 chars): {response.text[:2000]}\")\n",
    "\n",
    "# Jeśli odpowiedź jest poprawna, wykonaj webscraping\n",
    "if response.status_code == 200:\n",
    "    soup = BeautifulSoup(response.content, \"html.parser\")\n",
    "\n",
    "    # Pobieranie ofert mieszkań\n",
    "    titles = [h2.a.text.strip() for h2 in soup.find_all(\"h2\", class_=\"title\") if h2.a]\n",
    "    prices = [p.text.replace(\"\\xa0\", \" \").strip() for p in soup.find_all(\"span\", class_=\"price\")]\n",
    "\n",
    "    print(\"Titles:\", titles)\n",
    "    print(len(titles))\n",
    "    print(\"Prices:\", prices)\n",
    "    print(len(prices))\n",
    "\n",
    "    df = pd.DataFrame({\"Title\": titles, \"Price\": prices})\n",
    "\n",
    "    # Dopisanie do pliku CSV\n",
    "    df.to_csv(\"scraped_data.csv\", mode='a', header=not os.path.exists('scraped_data.csv'), index=False)\n",
    "else:\n",
    "    print(\"Failed to retrieve data.\")\n"
   ]
  }
 ],
 "metadata": {
  "colab": {
   "provenance": []
  },
  "kernelspec": {
   "display_name": "Python 3",
   "name": "python3"
  },
  "language_info": {
   "codemirror_mode": {
    "name": "ipython",
    "version": 3
   },
   "file_extension": ".py",
   "mimetype": "text/x-python",
   "name": "python",
   "nbconvert_exporter": "python",
   "pygments_lexer": "ipython3",
   "version": "3.9.22"
  },
  "papermill": {
   "default_parameters": {},
   "duration": 3.175329,
   "end_time": "2025-04-30T17:15:44.963233",
   "environment_variables": {},
   "exception": null,
   "input_path": "nb.ipynb",
   "output_path": "nbo.ipynb",
   "parameters": {},
   "start_time": "2025-04-30T17:15:41.787904",
   "version": "2.6.0"
  }
 },
 "nbformat": 4,
 "nbformat_minor": 5
}