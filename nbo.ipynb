{
 "cells": [
  {
   "cell_type": "code",
   "execution_count": 1,
   "id": "196d83cd",
   "metadata": {
    "colab": {
     "base_uri": "https://localhost:8080/"
    },
    "execution": {
     "iopub.execute_input": "2025-07-11T13:22:54.176762Z",
     "iopub.status.busy": "2025-07-11T13:22:54.176493Z",
     "iopub.status.idle": "2025-07-11T13:22:56.296601Z",
     "shell.execute_reply": "2025-07-11T13:22:56.295958Z"
    },
    "id": "5pYh4c8j1w43",
    "outputId": "8a0dca73-64e5-4f0d-c493-2c5b38392363",
    "papermill": {
     "duration": 2.123991,
     "end_time": "2025-07-11T13:22:56.297766",
     "exception": false,
     "start_time": "2025-07-11T13:22:54.173775",
     "status": "completed"
    },
    "tags": []
   },
   "outputs": [
    {
     "name": "stdout",
     "output_type": "stream",
     "text": [
      "Status Code: 200\n",
      "Response Headers: {'Server': 'nginx', 'Date': 'Fri, 11 Jul 2025 13:22:55 GMT', 'Content-Type': 'text/html; charset=UTF-8', 'Transfer-Encoding': 'chunked', 'Vary': 'Accept-Encoding, User-Agent', 'Set-Cookie': 'FRSPSID=b2lkec0mtr9gt3gjcqe0sm5370; path=/; domain=.sprzedajemy.pl; secure; HttpOnly, _items_per_page__offer_list=60; expires=Sun, 10-Aug-2025 13:22:55 GMT; Max-Age=2592000; path=/; domain=.sprzedajemy.pl; secure; httponly, observed_id=7073783496871102fd75a5856358282412904366; expires=Wed, 11-Jul-2125 14:22:55 GMT; Max-Age=3155677200; path=/; domain=.sprzedajemy.pl; secure; httponly', 'Expires': 'Thu, 19 Nov 1981 08:52:00 GMT', 'Cache-Control': 'no-store, no-cache, must-revalidate, post-check=0, pre-check=0', 'Pragma': 'no-cache', 'Content-Encoding': 'gzip'}\n",
      "Response Text (first 2000 chars): <!DOCTYPE html><html xmlns=\"http://www.w3.org/1999/xhtml\" xml:lang=\"pl\" lang=\"pl\" class=\"no-js\" >\n",
      "<head>\n",
      "\t\t\t<!-- Google Tag Manager -->\n",
      "\t\t\t<script>(function(w,d,s,l,i){w[l]=w[l]||[];w[l].push({'gtm.start':\n",
      "\t\t\t\t\t\tnew Date().getTime(),event:'gtm.js'});var f=d.getElementsByTagName(s)[0],\n",
      "\t\t\t\t\tj=d.createElement(s),dl=l!='dataLayer'?'&l='+l:'';j.async=true;j.src=\n",
      "\t\t\t\t\t'https://www.googletagmanager.com/gtm.js?id='+i+dl\n",
      "\t\t\t\t\t\t\t\t\t    ;f.parentNode.insertBefore(j,f);\n",
      "\t\t\t\t    })(window,document,'script','dataLayer','GTM-P3S238');</script>\n",
      "\t\t\t<!-- End Google Tag Manager -->\n",
      "\t<title>Mieszkania Kraków na sprzedaż, wynajem - Sprzedajemy.pl</title><meta http-equiv=\"Content-Type\" content=\"text/html; charset=UTF-8\" >\n",
      "<meta http-equiv=\"X-UA-Compatible\" content=\"IE=edge\" >\n",
      "<meta name=\"description\" content=\"Ogłoszenia o tematyce:  w kategorii Mieszkania - Kupuj i sprzedawaj rzeczy używane i nowe w kategorii Mieszkania na Sprzedajemy.pl\" >\n",
      "<meta property=\"og:title\" content=\"Mieszkania Kraków na sprzedaż, wynajem - Sprzedajemy.pl\" >\n",
      "<meta property=\"og:type\" content=\"website\" >\n",
      "<meta property=\"og:image\" content=\"https://thumbs.img-sprzedajemy.pl/facebook/sprzedajemy.pl.png\" >\n",
      "<meta property=\"og:image:width\" content=\"200\" >\n",
      "<meta property=\"og:image:height\" content=\"200\" >\n",
      "<meta property=\"og:url\" content=\"https://sprzedajemy.pl/krakow/nieruchomosci/mieszkania\" >\n",
      "<meta property=\"og:site_name\" content=\"Sprzedajemy.pl\" >\n",
      "<meta property=\"fb:app_id\" content=\"173258269367442\" >\n",
      "<meta property=\"og:description\" content=\"Ogłoszenia o tematyce:  w kategorii Mieszkania - Kupuj i sprzedawaj rzeczy używane i nowe w kategorii Mieszkania na Sprzedajemy.pl\" >\n",
      "<meta name=\"robots\" content=\"noindex, follow\" >\t\t<script  async=\"async\" src=\"https://static.criteo.net/js/ld/publishertag.js\"></script>\n",
      "        <script  async=\"async\" src=\"https://ap.lijit.com/www/sovrn_beacon_standalone/sovrn_standalone_beacon.js?iid=13417409&amp;uid=sprzedajemy\" id=\"sBeacon\"></script>\n",
      "\t\t<script  async=\"async\" src=\"https://securepuba\n",
      "Titles: ['Super lokalizacja! TRAMWAJ, kawalerka do wejścia! Prądnik Czerwony/Huta', '2-pokojowe mieszkanie na Zabłociu – ciche, świetna lokalizacja!', 'Mieszkanie na sprzedaż/zamiana 39m2', 'Wyjątkowe mieszkanie z widokiem na klasztor w Tyńcu i panoramę Tatr', 'Stylowy apartament z widokiem na panoramę Krakowa - od właściciela', 'Nowoczesny apartament z panoramicznym widokiem - od właściciela', 'Kraków, Stare Miasto sprzedaż/zamiana', 'Mieszkanie 72.4m2 3 pokoje Kraków Babińskiego', 'Mieszkanie 71.99m2 Kraków Pękowicka', 'Mieszkanie Kraków 90.48m2 4 pokoje', 'Mieszkanie sprzedam Kraków 90.38m2 4 pokoje', 'Do sprzedaży mieszkanie 55.81m2 Kraków', 'Mieszkanie Kraków 36.09m2 2-pokojowe', 'Oferta wynajmu mieszkania 50 metrów 2 pokoje Kraków', 'Mieszkanie 48.62m2 2 pokojowe Kraków', 'Mieszkanie 64.26m2 3 pok Kraków Wadowicka', 'Mieszkanie 63m2 4 pokoje Kraków', 'Mieszkanie Kraków Wadowicka 62.46m2 3-pokojowe', 'Mieszkanie Kraków Kantrowicka 65.16m2 4 pokojowe', 'Mieszkanie 59.85m2 3 pokoje Kraków Babińskiego', 'Mieszkanie Kraków 35.02m2 2 pokojowe', 'Mieszkanie Kraków 37.5 metrów 2-pokojowe', 'Mieszkanie 50.23m2 Kraków Piasta Kołodzieja', 'Mieszkanie Kraków 49.86m2 3-pokojowe', 'Mieszkanie Kraków Piasta Kołodzieja 50.23m2 3 pokoje', 'Mieszkanie 67.69m2 Kraków Pękowicka', 'Mieszkanie Kraków Gramatyka 47.8m2 3-pok', 'Mieszkanie Kraków Kantrowicka 51.54m2 3 pokoje', 'Mieszkanie Kraków Pękowicka 54.95m2 3 pokoje', 'Mieszkanie Kraków 58.2m2', 'Mieszkanie 63.68m2 4 pok Kraków', 'Mieszkanie 60.55m2 3-pokojowe Kraków Wadowicka', 'Mieszkanie 59.63 metry Kraków', 'Mieszkanie 118.87m2 3 pokoje Kraków Aleja Jurajska', 'Mieszkanie Kraków Markowskiego 44m2 2 pokojowe', 'Oferta sprzedaży mieszkania Kraków Zyblikiewicza 65.16 metrów 3-pokojowe', 'Oferta sprzedaży mieszkania Kraków 34m2 1 pok', 'Mieszkanie sprzedam Kraków Wadowicka 42.61m2 2 pokoje', 'Mieszkanie na sprzedaż Kraków 59.73m2 4 pokoje', 'Mieszkanie Kraków 65.46m2', 'Mieszkanie 128 metrów 3 pokojowe Kraków Aleja Jurajska', 'Mieszkanie Kraków 51.41m2 3-pok', 'Mieszkanie 64.33m2 3 pokojowe Kraków Wadowicka', 'Mieszkanie Kraków Pękowicka 40.96m2 3 pok', 'Mieszkanie 39.8m2 2 pok Kraków', 'Sprzedaż mieszkania Kraków Pękowicka 40.46m2 2-pok', 'Mieszkanie 58m2 3 pokoje Kraków dr. Jana Piltza', 'Oferta sprzedaży mieszkania Kraków 50.86m2 2 pokoje', 'Oferta sprzedaży mieszkania 90.38m2 4 pokojowe Kraków', 'Mieszkanie 41.06m2 2 pok Kraków', 'Mieszkanie 56.09 metrów 3 pok Kraków', 'Oferta sprzedaży mieszkania 57.1m2 3-pokojowe Kraków Na Błonie', 'Mieszkanie Kraków Obozowa 64m2 3 pok', 'Mieszkanie 79.28m2 Kraków Wadowicka', 'Mieszkanie do sprzedania Kraków Pękowicka 63.11m2 4 pok', 'Mieszkanie 50.95m2 2 pokoje Kraków Wadowicka', 'Mieszkanie Kraków Babińskiego 59.85m2 3 pokojowe', 'Mieszkanie Kraków Na Błonie 41.12m2 1 pokój', 'Do sprzedaży mieszkanie Kraków 47.8m2 2 pokojowe', 'Mieszkanie Kraków Pękowicka 33.98m2 2 pokoje']\n",
      "60\n",
      "Prices: ['565 000 zł', '519 000 zł', '526 000 zł', '779 000 zł', '897 000 zł', '997 000 zł', '2 200 000 zł', '1 194 600 zł', '1 151 840 zł', '1 411 488 zł', '1 464 156 zł', '892 960 zł', '505 260 zł', '3 000 zł', '874 602 zł', '1 098 846 zł', '1 014 300 zł', '1 055 574 zł', '814 500 zł', '987 525 zł', '600 593 zł', '729 000 zł', '713 266 zł', '703 026 zł', '728 335 zł', '1 083 040 zł', '940 000 zł', '695 790 zł', '890 190 zł', '1 144 263 zł', '1 034 800 zł', '938 525 zł', '986 876 zł', '869 000 zł', '979 000 zł', '1 449 000 zł', '529 000 zł', '807 459 zł', '985 545 zł', '1 139 004 zł', '859 000 zł', '771 150 zł', '984 249 zł', '696 320 zł', '684 560 zł', '681 751 zł', '1 049 000 zł', '910 394 zł', '1 418 966 zł', '786 011 zł', '1 061 110 zł', '1 054 637 zł', '828 000 zł', '1 339 832 zł', '1 094 958 zł', '876 340 zł', '1 029 420 zł', '768 203 zł', '954 499 zł', '581 058 zł']\n",
      "60\n"
     ]
    }
   ],
   "source": [
    "import requests\n",
    "from bs4 import BeautifulSoup\n",
    "import pandas as pd\n",
    "import os\n",
    "\n",
    "url = \"https://sprzedajemy.pl/krakow/nieruchomosci/mieszkania?offset=0&items_per_page=60\"\n",
    "\n",
    "headers = {\n",
    "    \"User-Agent\": \"Mozilla/5.0 (Windows NT 10.0; Win64; x64) AppleWebKit/537.36 (KHTML, like Gecko) Chrome/58.0.3029.110 Safari/537.36\",\n",
    "    \"Accept\": \"text/html,application/xhtml+xml,application/xml;q=0.9,image/webp,image/apng,*/*;q=0.8\",\n",
    "    \"Accept-Encoding\": \"gzip, deflate, br\",\n",
    "    \"Accept-Language\": \"en-US,en;q=0.9,pl;q=0.8\",\n",
    "    \"Connection\": \"keep-alive\"\n",
    "}\n",
    "\n",
    "response = requests.get(url, headers=headers)\n",
    "response = requests.get(url, headers=headers)\n",
    "\n",
    "# Debugowanie odpowiedzi\n",
    "print(f\"Status Code: {response.status_code}\")\n",
    "print(f\"Response Headers: {response.headers}\")\n",
    "print(f\"Response Text (first 2000 chars): {response.text[:2000]}\")\n",
    "\n",
    "# Jeśli odpowiedź jest poprawna, wykonaj webscraping\n",
    "if response.status_code == 200:\n",
    "    soup = BeautifulSoup(response.content, \"html.parser\")\n",
    "\n",
    "    # Pobieranie ofert mieszkań\n",
    "    titles = [h2.a.text.strip() for h2 in soup.find_all(\"h2\", class_=\"title\") if h2.a]\n",
    "    prices = [p.text.replace(\"\\xa0\", \" \").strip() for p in soup.find_all(\"span\", class_=\"price\")]\n",
    "\n",
    "    print(\"Titles:\", titles)\n",
    "    print(len(titles))\n",
    "    print(\"Prices:\", prices)\n",
    "    print(len(prices))\n",
    "\n",
    "    df = pd.DataFrame({\"Title\": titles, \"Price\": prices})\n",
    "\n",
    "    # Dopisanie do pliku CSV\n",
    "    df.to_csv(\"scraped_data.csv\", mode='a', header=not os.path.exists('scraped_data.csv'), index=False)\n",
    "else:\n",
    "    print(\"Failed to retrieve data.\")\n"
   ]
  }
 ],
 "metadata": {
  "colab": {
   "provenance": []
  },
  "kernelspec": {
   "display_name": "Python 3",
   "name": "python3"
  },
  "language_info": {
   "codemirror_mode": {
    "name": "ipython",
    "version": 3
   },
   "file_extension": ".py",
   "mimetype": "text/x-python",
   "name": "python",
   "nbconvert_exporter": "python",
   "pygments_lexer": "ipython3",
   "version": "3.9.23"
  },
  "papermill": {
   "default_parameters": {},
   "duration": 3.328374,
   "end_time": "2025-07-11T13:22:56.515794",
   "environment_variables": {},
   "exception": null,
   "input_path": "nb.ipynb",
   "output_path": "nbo.ipynb",
   "parameters": {},
   "start_time": "2025-07-11T13:22:53.187420",
   "version": "2.6.0"
  }
 },
 "nbformat": 4,
 "nbformat_minor": 5
}