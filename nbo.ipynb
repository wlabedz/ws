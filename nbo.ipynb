{
 "cells": [
  {
   "cell_type": "code",
   "execution_count": 1,
   "id": "54ba4f3e",
   "metadata": {
    "colab": {
     "base_uri": "https://localhost:8080/"
    },
    "execution": {
     "iopub.execute_input": "2025-04-29T07:29:24.281736Z",
     "iopub.status.busy": "2025-04-29T07:29:24.281474Z",
     "iopub.status.idle": "2025-04-29T07:29:26.521952Z",
     "shell.execute_reply": "2025-04-29T07:29:26.521391Z"
    },
    "id": "5pYh4c8j1w43",
    "outputId": "8a0dca73-64e5-4f0d-c493-2c5b38392363",
    "papermill": {
     "duration": 2.244186,
     "end_time": "2025-04-29T07:29:26.523098",
     "exception": false,
     "start_time": "2025-04-29T07:29:24.278912",
     "status": "completed"
    },
    "tags": []
   },
   "outputs": [
    {
     "name": "stdout",
     "output_type": "stream",
     "text": [
      "Status Code: 200\n",
      "Response Headers: {'Server': 'nginx', 'Date': 'Tue, 29 Apr 2025 07:29:26 GMT', 'Content-Type': 'text/html; charset=UTF-8', 'Transfer-Encoding': 'chunked', 'Vary': 'Accept-Encoding, User-Agent', 'Set-Cookie': 'FRSPSID=s4s573e7sbmfhb86vsklham525; path=/; domain=.sprzedajemy.pl; secure; HttpOnly, _items_per_page__offer_list=60; expires=Thu, 29-May-2025 07:29:26 GMT; Max-Age=2592000; path=/; domain=.sprzedajemy.pl; secure; httponly, observed_id=128549955468107fd6107be5101171751528524271; expires=Sun, 29-Apr-2125 08:29:26 GMT; Max-Age=3155677200; path=/; domain=.sprzedajemy.pl; secure; httponly', 'Expires': 'Thu, 19 Nov 1981 08:52:00 GMT', 'Cache-Control': 'no-store, no-cache, must-revalidate, post-check=0, pre-check=0', 'Pragma': 'no-cache', 'Content-Encoding': 'gzip'}\n",
      "Response Text (first 2000 chars): <!DOCTYPE html><html xmlns=\"http://www.w3.org/1999/xhtml\" xml:lang=\"pl\" lang=\"pl\" class=\"no-js\" >\n",
      "<head>\n",
      "\t\t\t<!-- Google Tag Manager -->\n",
      "\t\t\t<script>(function(w,d,s,l,i){w[l]=w[l]||[];w[l].push({'gtm.start':\n",
      "\t\t\t\t\t\tnew Date().getTime(),event:'gtm.js'});var f=d.getElementsByTagName(s)[0],\n",
      "\t\t\t\t\tj=d.createElement(s),dl=l!='dataLayer'?'&l='+l:'';j.async=true;j.src=\n",
      "\t\t\t\t\t'https://www.googletagmanager.com/gtm.js?id='+i+dl\n",
      "\t\t\t\t\t\t\t\t\t    ;f.parentNode.insertBefore(j,f);\n",
      "\t\t\t\t    })(window,document,'script','dataLayer','GTM-P3S238');</script>\n",
      "\t\t\t<!-- End Google Tag Manager -->\n",
      "\t<title>Mieszkania Kraków na sprzedaż, wynajem - Sprzedajemy.pl</title><meta http-equiv=\"Content-Type\" content=\"text/html; charset=UTF-8\" >\n",
      "<meta http-equiv=\"X-UA-Compatible\" content=\"IE=edge\" >\n",
      "<meta name=\"description\" content=\"Ogłoszenia o tematyce:  w kategorii Mieszkania - Kupuj i sprzedawaj rzeczy używane i nowe w kategorii Mieszkania na Sprzedajemy.pl\" >\n",
      "<meta property=\"og:title\" content=\"Mieszkania Kraków na sprzedaż, wynajem - Sprzedajemy.pl\" >\n",
      "<meta property=\"og:type\" content=\"website\" >\n",
      "<meta property=\"og:image\" content=\"https://thumbs.img-sprzedajemy.pl/facebook/sprzedajemy.pl.png\" >\n",
      "<meta property=\"og:image:width\" content=\"200\" >\n",
      "<meta property=\"og:image:height\" content=\"200\" >\n",
      "<meta property=\"og:url\" content=\"https://sprzedajemy.pl/krakow/nieruchomosci/mieszkania\" >\n",
      "<meta property=\"og:site_name\" content=\"Sprzedajemy.pl\" >\n",
      "<meta property=\"fb:app_id\" content=\"173258269367442\" >\n",
      "<meta property=\"og:description\" content=\"Ogłoszenia o tematyce:  w kategorii Mieszkania - Kupuj i sprzedawaj rzeczy używane i nowe w kategorii Mieszkania na Sprzedajemy.pl\" >\n",
      "<meta name=\"robots\" content=\"noindex, follow\" >\t\t<script  async=\"async\" src=\"https://static.criteo.net/js/ld/publishertag.js\"></script>\n",
      "        <script  async=\"async\" src=\"https://ap.lijit.com/www/sovrn_beacon_standalone/sovrn_standalone_beacon.js?iid=13417409&amp;uid=sprzedajemy\" id=\"sBeacon\"></script>\n",
      "\t\t<script  async=\"async\" src=\"https://securepuba\n",
      "Titles: ['Mieszkanie na sprzedaż/zamiana 39m2', 'Mieszkanie z ogródkiem Zakrzówek bezczynszowe', '2 pokoje 41m2 blisko Aquaparku wkrótce tramwaj!', 'Mieszkanie przy Parku Rzecznym Tonie', 'Kraków, Stare Miasto sprzedaż/zamiana', 'Mieszkanie sprzedam 35.22m2 2 pokoje Kraków', 'Mieszkanie Kraków 63.29 metrów', 'Sprzedaż mieszkania Kraków Bieżanów 35.06m2 2 pokojowe', 'Mieszkanie Kraków 46m2 2-pokojowe', 'Mieszkanie Kraków Bieżanów 44.71m2 2 pokoje', 'Mieszkanie Kraków Bieżanów 45.18m2 2 pokoje', 'Oferta sprzedaży mieszkania 35.05 metrów 2-pokojowe Kraków', 'Sprzedaż mieszkania 36.44 metry 2-pokojowe Kraków Przybyszewskiego', 'Oferta sprzedaży mieszkania Kraków Bieżanów 53.66m2 2 pokoje', 'Mieszkanie 35.56m2 2 pokoje Kraków Bieżanów', 'Mieszkanie 51.67m2 2 pokoje Kraków Bieżanów', 'Mieszkanie Kraków 35.31m2 2-pokojowe', 'Mieszkanie Kraków Bieżanów 35.25m2 2 pokoje', 'Ogłoszenie mieszkanie 45.44m2 2 pok Kraków Bieżanów', 'Mieszkanie Kraków Bieżanów 45.36m2 2 pokojowe', 'Sprzedam mieszkanie 63.11m2 4-pok Kraków', 'Do sprzedaży mieszkanie Kraków Bieżanów 31.8 metrów 2-pok', 'Mieszkanie Kraków Mirosława Dzielskiego 58m2 3-pokojowe', 'Mieszkanie Kraków 63.32 metry 3-pok', 'Mieszkanie 26.65m2 1-pokojowe Kraków Krowoderska', 'Mieszkanie 53.66m2 Kraków', 'Mieszkanie 45.44m2 2-pok Kraków', 'Mieszkanie 53.57 metrów 2 pokojowe Kraków Bieżanów', 'Mieszkanie 35.56m2 2 pokoje Kraków Bieżanów', 'Mieszkanie 45.33m2 2 pokoje Kraków', 'Mieszkanie Kraków 35.31m2', 'Mieszkanie 47.11m2 3 pokojowe Kraków', 'Oferta sprzedaży mieszkania 53.66m2 2 pokoje Kraków Bieżanów', 'Mieszkanie do sprzedania 44.71m2 2-pok Kraków Bieżanów', 'Mieszkanie 64.78m2 Kraków Bieżanów', 'Iron Street 2.0 lokal mieszkalny w centrum Krakowa, ul. Kątowa', 'Mieszkanie Kraków 56.65m2 3 pokoje', 'Mieszkanie sprzedam 63.07m2 3 pokojowe Kraków Bieżanów', 'Oferta sprzedaży mieszkania Kraków Bieżanów 44.63m2 2-pok', 'Mieszkanie 45.36m Kraków', 'Mieszkanie 31.62m2 Kraków Bieżanów', 'Oferta sprzedaży mieszkania Kraków 46.4m2 2-pok', 'Mieszkanie Kraków Agatowa 47.11m2 3 pokojowe', 'Mieszkanie 39.48m2 2 pokojowe Kraków', 'Oferta sprzedaży mieszkania 71.4m2 3 pokoje Kraków', 'Mieszkanie na sprzedaż Kraków Bieżanów 39.48m2 2-pokojowe', 'Mieszkanie 35.56m2 Kraków', 'Mieszkanie Kraków Bieżanów 52.92m2 3 pokojowe', 'Oferta sprzedaży mieszkania Kraków Bieżanów 53.57m2 2-pok', 'Mieszkanie Kraków Bieżanów 51.93m2 2 pokoje', 'Oferta sprzedaży mieszkania Kraków Bieżanów 53.66m2 2 pokoje', 'Mieszkanie Kraków 44.62m2 2 pokojowe', 'Oferta sprzedaży mieszkania Kraków 45.44m2 2 pokojowe', 'Mieszkanie Kraków 90.52m2 5 pokoi', 'Sprzedam mieszkanie Kraków Bieżanów 31.54m2 2 pokojowe', 'Prądnik Biały | 0% prowizji | 67m2 |ENG', 'Oferta sprzedaży mieszkania 53.66m2 2 pokojowe Kraków', 'Mieszkanie Kraków Bieżanów 71.66m2 4 pokojowe', 'Mieszkanie na sprzedaż 64.33m2 3 pokoje Kraków', 'Mieszkanie sprzedam Kraków 42.14m2 2 pokoje']\n",
      "60\n",
      "Prices: ['548 000 zł', '460 000 zł', '710 000 zł', '535 000 zł', '2 254 000 zł', '521 256 zł', '854 415 zł', '518 888 zł', '2 400 zł', '648 295 zł', '632 520 zł', '518 296 zł', '590 000 zł', '697 580 zł', '544 068 zł', '671 710 zł', '557 898 zł', '521 700 zł', '681 600 zł', '657 720 zł', '820 430 zł', '502 440 zł', '2 800 zł', '886 480 zł', '399 000 zł', '697 580 zł', '681 600 zł', '696 410 zł', '561 848 zł', '634 620 zł', '540 243 zł', '609 000 zł', '751 240 zł', '648 295 zł', '906 920 zł', '410 000 zł', '679 000 zł', '819 910 zł', '624 820 zł', '680 400 zł', '467 976 zł', '558 000 zł', '609 000 zł', '572 460 zł', '892 500 zł', '572 460 zł', '544 068 zł', '687 960 zł', '696 410 zł', '701 055 zł', '697 580 zł', '624 680 zł', '636 160 zł', '1 600 000 zł', '482 562 zł', '799 000 zł', '697 580 zł', '895 750 zł', '836 290 zł', '611 030 zł']\n",
      "60\n"
     ]
    }
   ],
   "source": [
    "import requests\n",
    "from bs4 import BeautifulSoup\n",
    "import pandas as pd\n",
    "import os\n",
    "\n",
    "url = \"https://sprzedajemy.pl/krakow/nieruchomosci/mieszkania?offset=0&items_per_page=60\"\n",
    "\n",
    "headers = {\n",
    "    \"User-Agent\": \"Mozilla/5.0 (Windows NT 10.0; Win64; x64) AppleWebKit/537.36 (KHTML, like Gecko) Chrome/58.0.3029.110 Safari/537.36\",\n",
    "    \"Accept\": \"text/html,application/xhtml+xml,application/xml;q=0.9,image/webp,image/apng,*/*;q=0.8\",\n",
    "    \"Accept-Encoding\": \"gzip, deflate, br\",\n",
    "    \"Accept-Language\": \"en-US,en;q=0.9,pl;q=0.8\",\n",
    "    \"Connection\": \"keep-alive\"\n",
    "}\n",
    "\n",
    "response = requests.get(url, headers=headers)\n",
    "response = requests.get(url, headers=headers)\n",
    "\n",
    "# Debugowanie odpowiedzi\n",
    "print(f\"Status Code: {response.status_code}\")\n",
    "print(f\"Response Headers: {response.headers}\")\n",
    "print(f\"Response Text (first 2000 chars): {response.text[:2000]}\")\n",
    "\n",
    "# Jeśli odpowiedź jest poprawna, wykonaj webscraping\n",
    "if response.status_code == 200:\n",
    "    soup = BeautifulSoup(response.content, \"html.parser\")\n",
    "\n",
    "    # Pobieranie ofert mieszkań\n",
    "    titles = [h2.a.text.strip() for h2 in soup.find_all(\"h2\", class_=\"title\") if h2.a]\n",
    "    prices = [p.text.replace(\"\\xa0\", \" \").strip() for p in soup.find_all(\"span\", class_=\"price\")]\n",
    "\n",
    "    print(\"Titles:\", titles)\n",
    "    print(len(titles))\n",
    "    print(\"Prices:\", prices)\n",
    "    print(len(prices))\n",
    "\n",
    "    df = pd.DataFrame({\"Title\": titles, \"Price\": prices})\n",
    "\n",
    "    # Dopisanie do pliku CSV\n",
    "    df.to_csv(\"scraped_data.csv\", mode='a', header=not os.path.exists('scraped_data.csv'), index=False)\n",
    "else:\n",
    "    print(\"Failed to retrieve data.\")\n"
   ]
  }
 ],
 "metadata": {
  "colab": {
   "provenance": []
  },
  "kernelspec": {
   "display_name": "Python 3",
   "name": "python3"
  },
  "language_info": {
   "codemirror_mode": {
    "name": "ipython",
    "version": 3
   },
   "file_extension": ".py",
   "mimetype": "text/x-python",
   "name": "python",
   "nbconvert_exporter": "python",
   "pygments_lexer": "ipython3",
   "version": "3.9.22"
  },
  "papermill": {
   "default_parameters": {},
   "duration": 3.348056,
   "end_time": "2025-04-29T07:29:26.740600",
   "environment_variables": {},
   "exception": null,
   "input_path": "nb.ipynb",
   "output_path": "nbo.ipynb",
   "parameters": {},
   "start_time": "2025-04-29T07:29:23.392544",
   "version": "2.6.0"
  }
 },
 "nbformat": 4,
 "nbformat_minor": 5
}