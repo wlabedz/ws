{
 "cells": [
  {
   "cell_type": "code",
   "execution_count": 1,
   "id": "045e5f1a",
   "metadata": {
    "colab": {
     "base_uri": "https://localhost:8080/"
    },
    "execution": {
     "iopub.execute_input": "2025-10-31T19:47:23.653008Z",
     "iopub.status.busy": "2025-10-31T19:47:23.652747Z",
     "iopub.status.idle": "2025-10-31T19:47:26.516918Z",
     "shell.execute_reply": "2025-10-31T19:47:26.516115Z"
    },
    "id": "5pYh4c8j1w43",
    "outputId": "8a0dca73-64e5-4f0d-c493-2c5b38392363",
    "papermill": {
     "duration": 2.867657,
     "end_time": "2025-10-31T19:47:26.518023",
     "exception": false,
     "start_time": "2025-10-31T19:47:23.650366",
     "status": "completed"
    },
    "tags": []
   },
   "outputs": [
    {
     "name": "stdout",
     "output_type": "stream",
     "text": [
      "Status Code: 200\n",
      "Response Headers: {'Server': 'nginx', 'Date': 'Fri, 31 Oct 2025 19:47:26 GMT', 'Content-Type': 'text/html; charset=UTF-8', 'Transfer-Encoding': 'chunked', 'Vary': 'Accept-Encoding, User-Agent', 'Set-Cookie': 'FRSPSID=64359h2ckd5duhdvkavobs3d50; path=/; domain=.sprzedajemy.pl; secure; HttpOnly, _items_per_page__offer_list=60; expires=Sun, 30-Nov-2025 19:47:25 GMT; Max-Age=2592000; path=/; domain=.sprzedajemy.pl; secure; httponly, observed_id=1640954976905124e00d45250904473439467130; expires=Wed, 31-Oct-2125 19:47:25 GMT; Max-Age=3155673600; path=/; domain=.sprzedajemy.pl; secure; httponly', 'Expires': 'Thu, 19 Nov 1981 08:52:00 GMT', 'Cache-Control': 'no-store, no-cache, must-revalidate, post-check=0, pre-check=0', 'Pragma': 'no-cache', 'Content-Encoding': 'gzip'}\n",
      "Response Text (first 2000 chars): <!DOCTYPE html><html xmlns=\"http://www.w3.org/1999/xhtml\" xml:lang=\"pl\" lang=\"pl\" class=\"no-js\" >\n",
      "<head>\n",
      "\t\t\t<!-- Google Tag Manager -->\n",
      "\t\t\t<script>(function(w,d,s,l,i){w[l]=w[l]||[];w[l].push({'gtm.start':\n",
      "\t\t\t\t\t\tnew Date().getTime(),event:'gtm.js'});var f=d.getElementsByTagName(s)[0],\n",
      "\t\t\t\t\tj=d.createElement(s),dl=l!='dataLayer'?'&l='+l:'';j.async=true;j.src=\n",
      "\t\t\t\t\t'https://www.googletagmanager.com/gtm.js?id='+i+dl\n",
      "\t\t\t\t\t\t\t\t\t    ;f.parentNode.insertBefore(j,f);\n",
      "\t\t\t\t    })(window,document,'script','dataLayer','GTM-P3S238');</script>\n",
      "\t\t\t<!-- End Google Tag Manager -->\n",
      "\t<title>Mieszkania Kraków na sprzedaż, wynajem - Sprzedajemy.pl</title><meta http-equiv=\"Content-Type\" content=\"text/html; charset=UTF-8\" >\n",
      "<meta http-equiv=\"X-UA-Compatible\" content=\"IE=edge\" >\n",
      "<meta name=\"description\" content=\"Ogłoszenia o tematyce:  w kategorii Mieszkania - Kupuj i sprzedawaj rzeczy używane i nowe w kategorii Mieszkania na Sprzedajemy.pl\" >\n",
      "<meta property=\"og:title\" content=\"Mieszkania Kraków na sprzedaż, wynajem - Sprzedajemy.pl\" >\n",
      "<meta property=\"og:type\" content=\"website\" >\n",
      "<meta property=\"og:image\" content=\"https://thumbs.img-sprzedajemy.pl/facebook/sprzedajemy.pl.png\" >\n",
      "<meta property=\"og:image:width\" content=\"200\" >\n",
      "<meta property=\"og:image:height\" content=\"200\" >\n",
      "<meta property=\"og:url\" content=\"https://sprzedajemy.pl/krakow/nieruchomosci/mieszkania\" >\n",
      "<meta property=\"og:site_name\" content=\"Sprzedajemy.pl\" >\n",
      "<meta property=\"fb:app_id\" content=\"173258269367442\" >\n",
      "<meta property=\"og:description\" content=\"Ogłoszenia o tematyce:  w kategorii Mieszkania - Kupuj i sprzedawaj rzeczy używane i nowe w kategorii Mieszkania na Sprzedajemy.pl\" >\n",
      "<meta name=\"robots\" content=\"noindex, follow\" >\t\t<script  async=\"async\" src=\"https://static.criteo.net/js/ld/publishertag.js\"></script>\n",
      "        <script  async=\"async\" src=\"https://ap.lijit.com/www/sovrn_beacon_standalone/sovrn_standalone_beacon.js?iid=13417409&amp;uid=sprzedajemy\" id=\"sBeacon\"></script>\n",
      "\t\t<script  async=\"async\" src=\"https://securepuba\n",
      "Titles: ['PILNE dwupokojowe mieszkanie (balkon, piwnica) os. Dywizjonu 303, 19C Krak…', 'Mieszkanie z widokiem na góry', 'Grzegorzki mieszkanie na sprzedaż 30 m', 'Oferta sprzedaży mieszkania 59.31m 4 pokoje Kraków', 'Mieszkanie Kraków Pękowicka 60.73m2 4-pokojowe', 'Mieszkanie 69.31m2 3-pokojowe Kraków Wadowicka', 'Mieszkanie Kraków 56.19m2 3-pokojowe', 'Mieszkanie 35.2m2 2 pokoje Kraków', 'Mieszkanie 94.61 metrów 4 pokojowe Kraków Olszanicka', 'Mieszkanie 36.09m2 2 pokoje Kraków', 'Sprzedam mieszkanie 35.26m2 2-pok Kraków 29 listopada - okolice', 'Mieszkanie 57.07m2 Kraków', 'Oferta sprzedaży mieszkania 53.24m2 2 pokoje Kraków Pękowicka', 'Oferta sprzedaży mieszkania 35.5m2 2 pokojowe Kraków Dunin-Wąsowicza', 'Oferta sprzedaży mieszkania 57.19m2 3 pokojowe Kraków', 'Do wynajęcia mieszkanie Kraków Romanowicza 35.84m2 2 pokojowe', 'Mieszkanie Kraków Kantrowicka 35.05m2', 'Do sprzedaży mieszkanie 55.11m2 3 pokoje Kraków Pękowicka', 'Mieszkanie Kraków Grzegórzki 47.67m2 2 pokoje', 'Mieszkanie 46.66m2 Kraków Babińskiego', 'Oferta sprzedaży mieszkania 51.54m2 3 pokojowe Kraków Kantrowicka', 'Mieszkanie Kraków Wadowicka 70.88m 4 pokoje', 'Oferta sprzedaży mieszkania Kraków 79.3m2 3 pok', 'Mieszkanie Kraków Romanowicza 35.94m2', 'Mieszkanie 63m2 4 pokoje Kraków', 'Mieszkanie 72.4m2 3-pok Kraków Babińskiego', 'Mieszkanie Kraków Wadowicka 51.71 metrów 2-pokojowe', 'Mieszkanie 69.31m2 3 pokojowe Kraków Wadowicka', 'Mieszkanie Kraków 45.27m2 2 pokoje', 'Mieszkanie 38.19m2 2-pok Kraków Pękowicka', 'Mieszkanie do sprzedania Kraków Na Błonie 26.52m2 1 pokojowe', 'Mieszkanie 56.3m2 3 pokojowe Kraków Pękowicka', 'Mieszkanie 27.42m2 1 pokojowe Kraków Pękowicka', 'Mieszkanie 57.09m2 3 pokoje Kraków Na Błonie', 'Mieszkanie 41.16 metrów Kraków', 'Mieszkanie Kraków 40.61m2 1 pokój', 'Do sprzedaży mieszkanie 55.81m2 Kraków', 'Mieszkanie 49.63m2 3 pokoje Kraków', 'Bezpośrednio Jasne 2 pokojowe Mieszkanie Centrum Ogrzewanie Centralne Park…', 'Mieszkanie do sprzedania Kraków 39.43m2 2 pokoje', 'Mieszkanie sprzedam Kraków Wadowicka 46.32m2', 'Mieszkanie Kraków 35.23 metry 2 pokojowe', 'Mieszkanie Kraków Babińskiego 72.4m2 3-pok', 'Sprzedaż mieszkania Kraków Pękowicka 53.68m2 4 pok', 'Mieszkanie 56.92m 3 pokoje Kraków', 'Mieszkanie Kraków Olszanicka 94.68m2 4-pokojowe', 'Mieszkanie 50.23m2 3 pokojowe Kraków', 'Mieszkanie 62.88m2 3 pokojowe Kraków', 'Mieszkanie Kraków Piasta Kołodzieja 50.23m2 3-pokojowe', 'Ogłoszenie mieszkanie 38.67m2 2 pok Kraków Na Błonie', 'Oferta sprzedaży mieszkania 60.92m2 4 pokojowe Kraków Pękowicka', 'Sprzedaż mieszkania 31m2 1-pokojowe Kraków Ruczaj', 'Oferta sprzedaży mieszkania 43.35m2 2 pokojowe Kraków', 'Oferta sprzedaży mieszkania 50.12m2 2 pok Kraków', 'Oferta sprzedaży mieszkania 65.16m2 4 pokoje Kraków Kantrowicka', 'Mieszkanie 35.25m2 2 pokoje Kraków 29 listopada - okolice', 'Oferta sprzedaży mieszkania Kraków 71.45m2 4 pokoje', 'Oferta sprzedaży mieszkania Kraków 58.95m2 3 pokojowe', 'Do sprzedaży mieszkanie 41.06 metrów Kraków Na Błonie', 'Mieszkanie 124.37m2 4 pokoje Kraków Podłużna - okolice']\n",
      "60\n",
      "Prices: ['590 000 zł', '265 000 zł', '549 000 zł', '760 650 zł', '865 402 zł', '1 164 408 zł', '764 184 zł', '2 300 zł', '1 336 358 zł', '523 305 zł', '645 875 zł', '1 036 391 zł', '754 677 zł', '669 000 zł', '657 685 zł', '3 020 zł', '525 750 zł', '781 184 zł', '1 096 000 zł', '858 544 zł', '670 020 zł', '1 204 960 zł', '1 308 450 zł', '3 030 zł', '891 450 zł', '1 245 280 zł', '879 070 zł', '1 150 546 zł', '837 495 zł', '613 904 zł', '554 294 zł', '788 200 zł', '484 648 zł', '1 057 763 zł', '747 400 zł', '621 333 zł', '785 525 zł', '714 672 zł', '849 000 zł', '629 894 zł', '866 184 zł', '2 800 zł', '1 245 280 zł', '764 940 zł', '1 043 059 zł', '1 387 058 zł', '723 312 zł', '987 216 zł', '743 404 zł', '749 109 zł', '866 587 zł', '499 000 zł', '788 970 zł', '830 000 zł', '773 775 zł', '670 057 zł', '885 980 zł', '1 055 912 zł', '757 646 zł', '2 176 475 zł']\n",
      "60\n"
     ]
    }
   ],
   "source": [
    "import requests\n",
    "from bs4 import BeautifulSoup\n",
    "import pandas as pd\n",
    "import os\n",
    "\n",
    "url = \"https://sprzedajemy.pl/krakow/nieruchomosci/mieszkania?offset=0&items_per_page=60\"\n",
    "\n",
    "headers = {\n",
    "    \"User-Agent\": \"Mozilla/5.0 (Windows NT 10.0; Win64; x64) AppleWebKit/537.36 (KHTML, like Gecko) Chrome/58.0.3029.110 Safari/537.36\",\n",
    "    \"Accept\": \"text/html,application/xhtml+xml,application/xml;q=0.9,image/webp,image/apng,*/*;q=0.8\",\n",
    "    \"Accept-Encoding\": \"gzip, deflate, br\",\n",
    "    \"Accept-Language\": \"en-US,en;q=0.9,pl;q=0.8\",\n",
    "    \"Connection\": \"keep-alive\"\n",
    "}\n",
    "\n",
    "response = requests.get(url, headers=headers)\n",
    "response = requests.get(url, headers=headers)\n",
    "\n",
    "# Debugowanie odpowiedzi\n",
    "print(f\"Status Code: {response.status_code}\")\n",
    "print(f\"Response Headers: {response.headers}\")\n",
    "print(f\"Response Text (first 2000 chars): {response.text[:2000]}\")\n",
    "\n",
    "# Jeśli odpowiedź jest poprawna, wykonaj webscraping\n",
    "if response.status_code == 200:\n",
    "    soup = BeautifulSoup(response.content, \"html.parser\")\n",
    "\n",
    "    # Pobieranie ofert mieszkań\n",
    "    titles = [h2.a.text.strip() for h2 in soup.find_all(\"h2\", class_=\"title\") if h2.a]\n",
    "    prices = [p.text.replace(\"\\xa0\", \" \").strip() for p in soup.find_all(\"span\", class_=\"price\")]\n",
    "\n",
    "    print(\"Titles:\", titles)\n",
    "    print(len(titles))\n",
    "    print(\"Prices:\", prices)\n",
    "    print(len(prices))\n",
    "\n",
    "    df = pd.DataFrame({\"Title\": titles, \"Price\": prices})\n",
    "\n",
    "    # Dopisanie do pliku CSV\n",
    "    df.to_csv(\"scraped_data.csv\", mode='a', header=not os.path.exists('scraped_data.csv'), index=False)\n",
    "else:\n",
    "    print(\"Failed to retrieve data.\")\n"
   ]
  }
 ],
 "metadata": {
  "colab": {
   "provenance": []
  },
  "kernelspec": {
   "display_name": "Python 3",
   "name": "python3"
  },
  "language_info": {
   "codemirror_mode": {
    "name": "ipython",
    "version": 3
   },
   "file_extension": ".py",
   "mimetype": "text/x-python",
   "name": "python",
   "nbconvert_exporter": "python",
   "pygments_lexer": "ipython3",
   "version": "3.9.24"
  },
  "papermill": {
   "default_parameters": {},
   "duration": 4.138752,
   "end_time": "2025-10-31T19:47:26.734681",
   "environment_variables": {},
   "exception": null,
   "input_path": "nb.ipynb",
   "output_path": "nbo.ipynb",
   "parameters": {},
   "start_time": "2025-10-31T19:47:22.595929",
   "version": "2.6.0"
  }
 },
 "nbformat": 4,
 "nbformat_minor": 5
}