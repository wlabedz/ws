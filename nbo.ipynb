{
 "cells": [
  {
   "cell_type": "code",
   "execution_count": 1,
   "id": "48a10200",
   "metadata": {
    "colab": {
     "base_uri": "https://localhost:8080/"
    },
    "execution": {
     "iopub.execute_input": "2025-10-17T16:56:19.184462Z",
     "iopub.status.busy": "2025-10-17T16:56:19.184169Z",
     "iopub.status.idle": "2025-10-17T16:56:21.467944Z",
     "shell.execute_reply": "2025-10-17T16:56:21.467187Z"
    },
    "id": "5pYh4c8j1w43",
    "outputId": "8a0dca73-64e5-4f0d-c493-2c5b38392363",
    "papermill": {
     "duration": 2.287314,
     "end_time": "2025-10-17T16:56:21.469105",
     "exception": false,
     "start_time": "2025-10-17T16:56:19.181791",
     "status": "completed"
    },
    "tags": []
   },
   "outputs": [
    {
     "name": "stdout",
     "output_type": "stream",
     "text": [
      "Status Code: 200\n",
      "Response Headers: {'Server': 'nginx', 'Date': 'Fri, 17 Oct 2025 16:56:21 GMT', 'Content-Type': 'text/html; charset=UTF-8', 'Transfer-Encoding': 'chunked', 'Vary': 'Accept-Encoding, User-Agent', 'Set-Cookie': 'FRSPSID=q8ph7bcblgusl102qv1626ovn4; path=/; domain=.sprzedajemy.pl; secure; HttpOnly, _items_per_page__offer_list=60; expires=Sun, 16-Nov-2025 16:56:20 GMT; Max-Age=2592000; path=/; domain=.sprzedajemy.pl; secure; httponly, observed_id=34319940468f275350b9b6512834194983633152; expires=Wed, 17-Oct-2125 17:56:21 GMT; Max-Age=3155677200; path=/; domain=.sprzedajemy.pl; secure; httponly', 'Expires': 'Thu, 19 Nov 1981 08:52:00 GMT', 'Cache-Control': 'no-store, no-cache, must-revalidate, post-check=0, pre-check=0', 'Pragma': 'no-cache', 'Content-Encoding': 'gzip'}\n",
      "Response Text (first 2000 chars): <!DOCTYPE html><html xmlns=\"http://www.w3.org/1999/xhtml\" xml:lang=\"pl\" lang=\"pl\" class=\"no-js\" >\n",
      "<head>\n",
      "\t\t\t<!-- Google Tag Manager -->\n",
      "\t\t\t<script>(function(w,d,s,l,i){w[l]=w[l]||[];w[l].push({'gtm.start':\n",
      "\t\t\t\t\t\tnew Date().getTime(),event:'gtm.js'});var f=d.getElementsByTagName(s)[0],\n",
      "\t\t\t\t\tj=d.createElement(s),dl=l!='dataLayer'?'&l='+l:'';j.async=true;j.src=\n",
      "\t\t\t\t\t'https://www.googletagmanager.com/gtm.js?id='+i+dl\n",
      "\t\t\t\t\t\t\t\t\t    ;f.parentNode.insertBefore(j,f);\n",
      "\t\t\t\t    })(window,document,'script','dataLayer','GTM-P3S238');</script>\n",
      "\t\t\t<!-- End Google Tag Manager -->\n",
      "\t<title>Mieszkania Kraków na sprzedaż, wynajem - Sprzedajemy.pl</title><meta http-equiv=\"Content-Type\" content=\"text/html; charset=UTF-8\" >\n",
      "<meta http-equiv=\"X-UA-Compatible\" content=\"IE=edge\" >\n",
      "<meta name=\"description\" content=\"Ogłoszenia o tematyce:  w kategorii Mieszkania - Kupuj i sprzedawaj rzeczy używane i nowe w kategorii Mieszkania na Sprzedajemy.pl\" >\n",
      "<meta property=\"og:title\" content=\"Mieszkania Kraków na sprzedaż, wynajem - Sprzedajemy.pl\" >\n",
      "<meta property=\"og:type\" content=\"website\" >\n",
      "<meta property=\"og:image\" content=\"https://thumbs.img-sprzedajemy.pl/facebook/sprzedajemy.pl.png\" >\n",
      "<meta property=\"og:image:width\" content=\"200\" >\n",
      "<meta property=\"og:image:height\" content=\"200\" >\n",
      "<meta property=\"og:url\" content=\"https://sprzedajemy.pl/krakow/nieruchomosci/mieszkania\" >\n",
      "<meta property=\"og:site_name\" content=\"Sprzedajemy.pl\" >\n",
      "<meta property=\"fb:app_id\" content=\"173258269367442\" >\n",
      "<meta property=\"og:description\" content=\"Ogłoszenia o tematyce:  w kategorii Mieszkania - Kupuj i sprzedawaj rzeczy używane i nowe w kategorii Mieszkania na Sprzedajemy.pl\" >\n",
      "<meta name=\"robots\" content=\"noindex, follow\" >\t\t<script  async=\"async\" src=\"https://static.criteo.net/js/ld/publishertag.js\"></script>\n",
      "        <script  async=\"async\" src=\"https://ap.lijit.com/www/sovrn_beacon_standalone/sovrn_standalone_beacon.js?iid=13417409&amp;uid=sprzedajemy\" id=\"sBeacon\"></script>\n",
      "\t\t<script  async=\"async\" src=\"https://securepuba\n",
      "Titles: ['Mieszkanie z widokiem na góry', 'Grzegorzki mieszkanie na sprzedaż 30 m', 'Mieszkanie 3-pokojowe Zakrzówek Ruczaj ul. Pychowicka wynajem od właścicie…', 'Kraków, Stare Miasto sprzedaż/zamiana', 'Mieszkanie Wzgórza Krzesławickie bez prowizji.', 'Piękne 2 pokojowe mieszkanie w Centrum', 'Mieszkanie 59.31m2 4-pokojowe Kraków Kantrowicka', 'Mieszkanie sprzedam 34.79m2 2 pokoje Kraków Kantrowicka', 'Mieszkanie Kraków 43.35m2 2 pokojowe', 'Mieszkanie 85.52m 4 pokojowe Kraków Biskupa Albina Małysiaka', 'Mieszkanie sprzedam Kraków Babińskiego 33.89m2 1-pok', 'Mieszkanie 46.46m2 2-pokojowe Kraków Babińskiego', 'Mieszkanie 60.68m2 2-pokojowe Kraków', 'Sprzedam mieszkanie 26.73m2 1 pokój Kraków', 'Mieszkanie Kraków Olszanicka 94.68m2 4 pokoje', 'Mieszkanie 79.3m2 2 pokoje Kraków Babińskiego', 'Mieszkanie Kraków 51.89m2 2 pokojowe', 'Mieszkanie 37.49 metrów 2 pok Kraków', 'Mieszkanie 65m2 3 pok Kraków', 'Mieszkanie sprzedam Kraków 90.38m2 4 pokoje', 'Mieszkanie Kraków 43.35m2 2 pokojowe', 'Oferta sprzedaży mieszkania 72.18m2 4-pokojowe Kraków Pękowicka', 'Oferta wynajmu mieszkania Kraków Krowoderskich Zuchów 45m2 2 pokojowe', 'Sprzedam mieszkanie 53.88m2 3 pokojowe Kraków', 'Oferta sprzedaży mieszkania Kraków Pękowicka 40m2 2 pokojowe', 'Mieszkanie na sprzedaż Kraków Pękowicka 51.82m2 3 pok', 'Mieszkanie sprzedam Kraków 64.14m2 4-pokojowe', 'Mieszkanie 56.09 metrów 3 pok Kraków', 'Mieszkanie 35.26m2 Kraków', 'Mieszkanie Kraków 36.76 metrów 2 pokojowe', 'Sprzedam mieszkanie 59.85m2 3-pokojowe Kraków Babińskiego', 'Ogłoszenie mieszkanie Kraków 39.18m2 2 pokoje', 'Mieszkanie Kraków 72.4m 3-pokojowe', 'Mieszkanie 26.07m2 Kraków Skałeczna', 'Mieszkanie Kraków 36.09m2 2-pokojowe', 'Mieszkanie 46.66m2 2-pok Kraków Babińskiego', 'Oferta sprzedaży mieszkania Kraków Wadowicka 73.62m2 3-pok', 'Mieszkanie do sprzedania Kraków 51.71m2 2 pokoje', 'Mieszkanie Kraków Na Błonie 51.89m 2 pokoje', 'Mieszkanie Kraków Pękowicka 39.66m2 2-pok', 'Sprzedaż mieszkania 66.5m 3 pokojowe Kraków Wadowicka', 'Mieszkanie na sprzedaż Kraków 34.79m2 2 pokoje', 'Mieszkanie Kraków 60.51 metrów 3 pok', 'Mieszkanie 59.85m2 3 pok Kraków', 'Ogłoszenie mieszkanie 64.69m2 3-pokojowe Kraków Na Błonie', 'Mieszkanie Kraków 39.76m2', 'Mieszkanie Kraków Wadowicka 50.95m2 2 pokoje', 'Mieszkanie Kraków Piasta Kołodzieja 50.29 metrów 3 pokojowe', 'Mieszkanie 45.27m2 2 pokojowe Kraków Wadowicka', 'Mieszkanie Kraków Pękowicka 40.37m2 2-pok', 'Sprzedaż mieszkania 40.09m2 Kraków Pękowicka', 'Oferta sprzedaży mieszkania Kraków ks. Wincentego Turka 33.05m2 1 pokojowe', 'Sprzedam mieszkanie 77.4m2 3 pokojowe Kraków os. Wolfganga Amadeusa Mozarta', 'Mieszkanie 69.46m2 4 pokoje Kraków', 'Oferta sprzedaży mieszkania Kraków 35.05m2 2 pok', 'Mieszkanie Kraków Piasta Kołodzieja 49.86m2 3 pokoje', 'Mieszkanie 60.05m2 2 pokojowe Kraków', 'Sprzedaż mieszkania Kraków Na Błonie 64.86m2', 'Mieszkanie Kraków Na Błonie 40.02m2 2-pokojowe', 'Oferta sprzedaży mieszkania 30.14m2 1 pok Kraków Grzegórzki']\n",
      "60\n",
      "Prices: ['265 000 zł', '549 000 zł', '3 000 zł', '2 015 000 zł', '670 000 zł', '759 900 zł', '816 995 zł', '487 060 zł', '767 295 zł', '1 490 000 zł', '620 187 zł', '878 094 zł', '807 177 zł', '565 045 zł', '1 387 058 zł', '1 308 450 zł', '888 591 zł', '741 078 zł', '889 000 zł', '1 464 156 zł', '741 285 zł', '1 006 911 zł', '2 800 zł', '770 484 zł', '639 000 zł', '747 503 zł', '907 581 zł', '1 061 110 zł', '657 206 zł', '691 817 zł', '957 600 zł', '622 962 zł', '1 165 640 zł', '614 000 zł', '479 997 zł', '835 214 zł', '1 177 920 zł', '858 386 zł', '885 540 zł', '628 611 zł', '1 004 150 zł', '487 060 zł', '1 096 199 zł', '987 525 zł', '1 104 000 zł', '632 184 zł', '855 960 zł', '714 118 zł', '855 603 zł', '682 253 zł', '613 377 zł', '445 000 zł', '1 330 000 zł', '868 250 zł', '490 700 zł', '698 040 zł', '1 134 945 zł', '1 126 229 zł', '721 820 zł', '688 720 zł']\n",
      "60\n"
     ]
    }
   ],
   "source": [
    "import requests\n",
    "from bs4 import BeautifulSoup\n",
    "import pandas as pd\n",
    "import os\n",
    "\n",
    "url = \"https://sprzedajemy.pl/krakow/nieruchomosci/mieszkania?offset=0&items_per_page=60\"\n",
    "\n",
    "headers = {\n",
    "    \"User-Agent\": \"Mozilla/5.0 (Windows NT 10.0; Win64; x64) AppleWebKit/537.36 (KHTML, like Gecko) Chrome/58.0.3029.110 Safari/537.36\",\n",
    "    \"Accept\": \"text/html,application/xhtml+xml,application/xml;q=0.9,image/webp,image/apng,*/*;q=0.8\",\n",
    "    \"Accept-Encoding\": \"gzip, deflate, br\",\n",
    "    \"Accept-Language\": \"en-US,en;q=0.9,pl;q=0.8\",\n",
    "    \"Connection\": \"keep-alive\"\n",
    "}\n",
    "\n",
    "response = requests.get(url, headers=headers)\n",
    "response = requests.get(url, headers=headers)\n",
    "\n",
    "# Debugowanie odpowiedzi\n",
    "print(f\"Status Code: {response.status_code}\")\n",
    "print(f\"Response Headers: {response.headers}\")\n",
    "print(f\"Response Text (first 2000 chars): {response.text[:2000]}\")\n",
    "\n",
    "# Jeśli odpowiedź jest poprawna, wykonaj webscraping\n",
    "if response.status_code == 200:\n",
    "    soup = BeautifulSoup(response.content, \"html.parser\")\n",
    "\n",
    "    # Pobieranie ofert mieszkań\n",
    "    titles = [h2.a.text.strip() for h2 in soup.find_all(\"h2\", class_=\"title\") if h2.a]\n",
    "    prices = [p.text.replace(\"\\xa0\", \" \").strip() for p in soup.find_all(\"span\", class_=\"price\")]\n",
    "\n",
    "    print(\"Titles:\", titles)\n",
    "    print(len(titles))\n",
    "    print(\"Prices:\", prices)\n",
    "    print(len(prices))\n",
    "\n",
    "    df = pd.DataFrame({\"Title\": titles, \"Price\": prices})\n",
    "\n",
    "    # Dopisanie do pliku CSV\n",
    "    df.to_csv(\"scraped_data.csv\", mode='a', header=not os.path.exists('scraped_data.csv'), index=False)\n",
    "else:\n",
    "    print(\"Failed to retrieve data.\")\n"
   ]
  }
 ],
 "metadata": {
  "colab": {
   "provenance": []
  },
  "kernelspec": {
   "display_name": "Python 3",
   "name": "python3"
  },
  "language_info": {
   "codemirror_mode": {
    "name": "ipython",
    "version": 3
   },
   "file_extension": ".py",
   "mimetype": "text/x-python",
   "name": "python",
   "nbconvert_exporter": "python",
   "pygments_lexer": "ipython3",
   "version": "3.9.24"
  },
  "papermill": {
   "default_parameters": {},
   "duration": 3.49362,
   "end_time": "2025-10-17T16:56:21.686303",
   "environment_variables": {},
   "exception": null,
   "input_path": "nb.ipynb",
   "output_path": "nbo.ipynb",
   "parameters": {},
   "start_time": "2025-10-17T16:56:18.192683",
   "version": "2.6.0"
  }
 },
 "nbformat": 4,
 "nbformat_minor": 5
}