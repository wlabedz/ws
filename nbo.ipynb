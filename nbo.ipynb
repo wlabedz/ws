{
 "cells": [
  {
   "cell_type": "code",
   "execution_count": 1,
   "id": "c9b53190",
   "metadata": {
    "colab": {
     "base_uri": "https://localhost:8080/"
    },
    "execution": {
     "iopub.execute_input": "2025-09-11T17:41:27.950094Z",
     "iopub.status.busy": "2025-09-11T17:41:27.949887Z",
     "iopub.status.idle": "2025-09-11T17:41:30.093303Z",
     "shell.execute_reply": "2025-09-11T17:41:30.092569Z"
    },
    "id": "5pYh4c8j1w43",
    "outputId": "8a0dca73-64e5-4f0d-c493-2c5b38392363",
    "papermill": {
     "duration": 2.146448,
     "end_time": "2025-09-11T17:41:30.094428",
     "exception": false,
     "start_time": "2025-09-11T17:41:27.947980",
     "status": "completed"
    },
    "tags": []
   },
   "outputs": [
    {
     "name": "stdout",
     "output_type": "stream",
     "text": [
      "Status Code: 200\n",
      "Response Headers: {'Server': 'nginx', 'Date': 'Thu, 11 Sep 2025 17:41:29 GMT', 'Content-Type': 'text/html; charset=UTF-8', 'Transfer-Encoding': 'chunked', 'Vary': 'Accept-Encoding, User-Agent', 'Set-Cookie': 'FRSPSID=jcj8j7mo96qsjfiic6fv0t3pk6; path=/; domain=.sprzedajemy.pl; secure; HttpOnly, _items_per_page__offer_list=60; expires=Sat, 11-Oct-2025 17:41:29 GMT; Max-Age=2592000; path=/; domain=.sprzedajemy.pl; secure; httponly, observed_id=98947311868c309c9ad564938177626343478401; expires=Tue, 11-Sep-2125 18:41:29 GMT; Max-Age=3155677200; path=/; domain=.sprzedajemy.pl; secure; httponly', 'Expires': 'Thu, 19 Nov 1981 08:52:00 GMT', 'Cache-Control': 'no-store, no-cache, must-revalidate, post-check=0, pre-check=0', 'Pragma': 'no-cache', 'Content-Encoding': 'gzip'}\n",
      "Response Text (first 2000 chars): <!DOCTYPE html><html xmlns=\"http://www.w3.org/1999/xhtml\" xml:lang=\"pl\" lang=\"pl\" class=\"no-js\" >\n",
      "<head>\n",
      "\t\t\t<!-- Google Tag Manager -->\n",
      "\t\t\t<script>(function(w,d,s,l,i){w[l]=w[l]||[];w[l].push({'gtm.start':\n",
      "\t\t\t\t\t\tnew Date().getTime(),event:'gtm.js'});var f=d.getElementsByTagName(s)[0],\n",
      "\t\t\t\t\tj=d.createElement(s),dl=l!='dataLayer'?'&l='+l:'';j.async=true;j.src=\n",
      "\t\t\t\t\t'https://www.googletagmanager.com/gtm.js?id='+i+dl\n",
      "\t\t\t\t\t\t\t\t\t    ;f.parentNode.insertBefore(j,f);\n",
      "\t\t\t\t    })(window,document,'script','dataLayer','GTM-P3S238');</script>\n",
      "\t\t\t<!-- End Google Tag Manager -->\n",
      "\t<title>Mieszkania Kraków na sprzedaż, wynajem - Sprzedajemy.pl</title><meta http-equiv=\"Content-Type\" content=\"text/html; charset=UTF-8\" >\n",
      "<meta http-equiv=\"X-UA-Compatible\" content=\"IE=edge\" >\n",
      "<meta name=\"description\" content=\"Ogłoszenia o tematyce:  w kategorii Mieszkania - Kupuj i sprzedawaj rzeczy używane i nowe w kategorii Mieszkania na Sprzedajemy.pl\" >\n",
      "<meta property=\"og:title\" content=\"Mieszkania Kraków na sprzedaż, wynajem - Sprzedajemy.pl\" >\n",
      "<meta property=\"og:type\" content=\"website\" >\n",
      "<meta property=\"og:image\" content=\"https://thumbs.img-sprzedajemy.pl/facebook/sprzedajemy.pl.png\" >\n",
      "<meta property=\"og:image:width\" content=\"200\" >\n",
      "<meta property=\"og:image:height\" content=\"200\" >\n",
      "<meta property=\"og:url\" content=\"https://sprzedajemy.pl/krakow/nieruchomosci/mieszkania\" >\n",
      "<meta property=\"og:site_name\" content=\"Sprzedajemy.pl\" >\n",
      "<meta property=\"fb:app_id\" content=\"173258269367442\" >\n",
      "<meta property=\"og:description\" content=\"Ogłoszenia o tematyce:  w kategorii Mieszkania - Kupuj i sprzedawaj rzeczy używane i nowe w kategorii Mieszkania na Sprzedajemy.pl\" >\n",
      "<meta name=\"robots\" content=\"noindex, follow\" >\t\t<script  async=\"async\" src=\"https://static.criteo.net/js/ld/publishertag.js\"></script>\n",
      "        <script  async=\"async\" src=\"https://ap.lijit.com/www/sovrn_beacon_standalone/sovrn_standalone_beacon.js?iid=13417409&amp;uid=sprzedajemy\" id=\"sBeacon\"></script>\n",
      "\t\t<script  async=\"async\" src=\"https://securepuba\n",
      "Titles: ['Stylowy lokal na parterze przy Krowoderskiej', 'Stylowy apartament z widokiem na panoramę Krakowa - od właściciela', 'Wyjątkowe mieszkanie z widokiem na klasztor w Tyńcu i panoramę Tatr', 'Nowoczesny apartament z panoramicznym widokiem - od właściciela', '2-pokojowe mieszkanie po remoncie | PROMOCJA | ul Bronowicka', 'Wyjątkowy lokal przy ul. Krowoderskiej z widokiem na stronę ogrodową', 'Dwa pokoje - stare miasto - Do wejścia - Własność', 'Mieszkanie z widokiem na góry', 'Mieszkanie Kraków Krokusowa 39.72m2 2 pokoje', 'Nowoczesne 3-pokojowe mieszkanie 48 m² – Pachońskiego / od zaraz', 'Bieńczyce - 3 pokoje, balkon, jasna kuchnia', 'Oferta wynajmu mieszkania Kraków Górników 40.41 metrów 2 pokojowe', 'Mieszkanie 61.63m2 3-pokojowe Kraków Gryczana', 'Bezpośrednio Jasne 2 pokojowe Mieszkanie Centrum Ogrzewanie Centralne Park…', 'Mieszkanie Kraków 41.04m2 2-pokojowe', 'Do wynajęcia mieszkanie 2 pokojowe+balkon Kraków ul. Rusznikarska', 'Bezpośrednio Jasne 2 pokoje Mieszkanie Centrum Ogrzewanie Parking Komunika…', 'Oferta sprzedaży mieszkania Kraków Mirosława Krzyżańskiego 122m2 4 pokoje', 'Oferta sprzedaży mieszkania Kraków Aleja Kijowska 41.39m2 2 pokoje', 'Mieszkanie 44.91m2 2 pokoje Kraków', '12 600zł/m2 w nowym budownictwie - bez prowizji!', 'Oferta sprzedaży mieszkania Kraków Aleja Kijowska 41.4m2 2 pokoje', 'Mieszkanie sprzedam Kraków Mirosława Krzyżańskiego 122 metry 4 pokoje', 'Mieszkanie 66.9m2 3-pokojowe Kraków Makowa', 'Oferta sprzedaży mieszkania Kraków Zielińska 45.5m2 3-pokojowe', 'Wynajme mieszkanie', 'Mieszkanie 53.38 metrów 3 pokoje Kraków Bohomolca', 'Wynajem mieszkania Kraków Gabrieli Zapolskiej 55.05m2 2 pokojowe', 'Oferta wynajmu mieszkania 35.84m2 2 pokoje Kraków Romanowicza', 'duże 2-pokojowe mieszkanie Z 2024r - 53m2 z balkonem APARTAMENT', 'Przytulne mieszkanie 2 pokoje balkon Czyżyny, Dywizjonu 303', '2- pokojowe mieszkanie | K. Kołłątajowskiej | 57m2', 'MIESZKANIE KRAKÓW UL. ŁUŻYCKA 53 PIASKI NOWE', 'Wynajmę mieszkanie 2 pokojowe+ogródek Kraków, ul. Żabiniec', 'Podedworze 13', 'Mieszkanie 130m2 Kraków ul. Bielańska 16/2 wynajem', 'Mieszkanie Kraków os. 2 Pułku Lotniczego 64m2 3 pokoje', 'wynajme 2 pok z aneksem 34m, os Dywizjonu 303 , od wlasciciela', '2-pokojowe 45m2 pod Lasem Borkowskim', 'Mieszkanie 55.75m2 Kraków 29 listopada - okolice', 'Mieszkanie do sprzedania Kraków 50.12m2 2 pokoje', 'Nowe I Wykończone I 4-pok. I Bez PCC i Prowizji', 'Mieszkanie 45.69 metrów 2 pokojowe Kraków', 'Mieszkanie Kraków 71.81m2 3 pok', 'Mieszkanie 34.49m2+Loggia os. 2 Pułku Lotniczego', 'MIESZKANIE KRAKÓW BIEŃCZYCE', 'Dom modułowy prefabrykowany Dubai Prestige', 'Mieszkanie 80m 4 pokoje Kraków', 'Sprzedam mieszkanie Kraków 52m2 2-pokojowe', 'Oferta sprzedaży mieszkania Kraków os. Na Lotnisku 37.12m2 2 pokojowe', 'Mieszkanie 46.23m2 2 pokoje Kraków Jana Kantego Federowicza', 'Mieszkanie Kraków dr. Jana Piltza 36.89m2 2-pok', 'Mieszkanie 35m2 1 pokojowe Kraków Na Barciach', 'Mieszkanie Kraków Kuźnicy Kołłątajowskiej 28m2 1 pok', 'Mieszkanie Kraków 45m2 2-pokojowe', 'Mieszkanie z ogródkiem 50 m² – Banacha Kraków', 'Kraków – 3 pokojowy apartament na sprzedaż na kameralnym osiedlu', 'Sprzedam mieszkanie po remoncie na os. Hutniczym', 'Wynajmę pokój z kuchnią blisko centrum, ul. Cieszyńska', 'Czyżyny - 1 pokojowe z dużym balkonem, 2018r']\n",
      "60\n",
      "Prices: ['1 800 000 zł', '890 000 zł', '779 000 zł', '997 000 zł', '710 000 zł', '1 350 000 zł', '739 455 zł', '265 000 zł', '699 000 zł', '3 500 zł', '745 000 zł', '3 000 zł', '829 000 zł', '849 000 zł', '902 838 zł', '3 000 zł', '3 600 zł', '1 299 000 zł', '922 955 zł', '996 957 zł', '630 000 zł', '931 458 zł', '1 150 000 zł', '3 300 zł', '640 000 zł', '3 000 zł', '4 200 zł', '3 000 zł', '3 005 zł', '1 135 000 zł', '3 000 zł', '645 000 zł', '730 000 zł', '3 400 zł', '542 000 zł', '3 950 zł', '780 000 zł', '2 200 zł', '4 100 zł', '756 514 zł', '744 840 zł', '969 000 zł', '639 000 zł', '8 200 zł', '552 000 zł', '2 200 zł', '580 000 zł', '1 120 000 zł', '750 000 zł', '488 000 zł', '779 000 zł', '619 500 zł', '2 400 zł', '1 900 zł', '2 150 zł', '1 090 000 zł', '939 000 zł', '595 000 zł', '2 000 zł', '584 000 zł']\n",
      "60\n"
     ]
    }
   ],
   "source": [
    "import requests\n",
    "from bs4 import BeautifulSoup\n",
    "import pandas as pd\n",
    "import os\n",
    "\n",
    "url = \"https://sprzedajemy.pl/krakow/nieruchomosci/mieszkania?offset=0&items_per_page=60\"\n",
    "\n",
    "headers = {\n",
    "    \"User-Agent\": \"Mozilla/5.0 (Windows NT 10.0; Win64; x64) AppleWebKit/537.36 (KHTML, like Gecko) Chrome/58.0.3029.110 Safari/537.36\",\n",
    "    \"Accept\": \"text/html,application/xhtml+xml,application/xml;q=0.9,image/webp,image/apng,*/*;q=0.8\",\n",
    "    \"Accept-Encoding\": \"gzip, deflate, br\",\n",
    "    \"Accept-Language\": \"en-US,en;q=0.9,pl;q=0.8\",\n",
    "    \"Connection\": \"keep-alive\"\n",
    "}\n",
    "\n",
    "response = requests.get(url, headers=headers)\n",
    "response = requests.get(url, headers=headers)\n",
    "\n",
    "# Debugowanie odpowiedzi\n",
    "print(f\"Status Code: {response.status_code}\")\n",
    "print(f\"Response Headers: {response.headers}\")\n",
    "print(f\"Response Text (first 2000 chars): {response.text[:2000]}\")\n",
    "\n",
    "# Jeśli odpowiedź jest poprawna, wykonaj webscraping\n",
    "if response.status_code == 200:\n",
    "    soup = BeautifulSoup(response.content, \"html.parser\")\n",
    "\n",
    "    # Pobieranie ofert mieszkań\n",
    "    titles = [h2.a.text.strip() for h2 in soup.find_all(\"h2\", class_=\"title\") if h2.a]\n",
    "    prices = [p.text.replace(\"\\xa0\", \" \").strip() for p in soup.find_all(\"span\", class_=\"price\")]\n",
    "\n",
    "    print(\"Titles:\", titles)\n",
    "    print(len(titles))\n",
    "    print(\"Prices:\", prices)\n",
    "    print(len(prices))\n",
    "\n",
    "    df = pd.DataFrame({\"Title\": titles, \"Price\": prices})\n",
    "\n",
    "    # Dopisanie do pliku CSV\n",
    "    df.to_csv(\"scraped_data.csv\", mode='a', header=not os.path.exists('scraped_data.csv'), index=False)\n",
    "else:\n",
    "    print(\"Failed to retrieve data.\")\n"
   ]
  }
 ],
 "metadata": {
  "colab": {
   "provenance": []
  },
  "kernelspec": {
   "display_name": "Python 3",
   "name": "python3"
  },
  "language_info": {
   "codemirror_mode": {
    "name": "ipython",
    "version": 3
   },
   "file_extension": ".py",
   "mimetype": "text/x-python",
   "name": "python",
   "nbconvert_exporter": "python",
   "pygments_lexer": "ipython3",
   "version": "3.9.23"
  },
  "papermill": {
   "default_parameters": {},
   "duration": 3.256852,
   "end_time": "2025-09-11T17:41:30.310718",
   "environment_variables": {},
   "exception": null,
   "input_path": "nb.ipynb",
   "output_path": "nbo.ipynb",
   "parameters": {},
   "start_time": "2025-09-11T17:41:27.053866",
   "version": "2.6.0"
  }
 },
 "nbformat": 4,
 "nbformat_minor": 5
}