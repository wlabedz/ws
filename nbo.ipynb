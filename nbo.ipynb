{
 "cells": [
  {
   "cell_type": "code",
   "execution_count": 1,
   "id": "b7647432",
   "metadata": {
    "colab": {
     "base_uri": "https://localhost:8080/"
    },
    "execution": {
     "iopub.execute_input": "2025-10-31T17:30:41.190616Z",
     "iopub.status.busy": "2025-10-31T17:30:41.190407Z",
     "iopub.status.idle": "2025-10-31T17:30:43.240739Z",
     "shell.execute_reply": "2025-10-31T17:30:43.240153Z"
    },
    "id": "5pYh4c8j1w43",
    "outputId": "8a0dca73-64e5-4f0d-c493-2c5b38392363",
    "papermill": {
     "duration": 2.053431,
     "end_time": "2025-10-31T17:30:43.241847",
     "exception": false,
     "start_time": "2025-10-31T17:30:41.188416",
     "status": "completed"
    },
    "tags": []
   },
   "outputs": [
    {
     "name": "stdout",
     "output_type": "stream",
     "text": [
      "Status Code: 200\n",
      "Response Headers: {'Server': 'nginx', 'Date': 'Fri, 31 Oct 2025 17:30:42 GMT', 'Content-Type': 'text/html; charset=UTF-8', 'Transfer-Encoding': 'chunked', 'Vary': 'Accept-Encoding, User-Agent', 'Set-Cookie': 'FRSPSID=b58o3ga0mskfb9mlcuif80f273; path=/; domain=.sprzedajemy.pl; secure; HttpOnly, _items_per_page__offer_list=60; expires=Sun, 30-Nov-2025 17:30:42 GMT; Max-Age=2592000; path=/; domain=.sprzedajemy.pl; secure; httponly, observed_id=18456572056904f242cba2c982423697426468554; expires=Wed, 31-Oct-2125 17:30:42 GMT; Max-Age=3155673600; path=/; domain=.sprzedajemy.pl; secure; httponly', 'Expires': 'Thu, 19 Nov 1981 08:52:00 GMT', 'Cache-Control': 'no-store, no-cache, must-revalidate, post-check=0, pre-check=0', 'Pragma': 'no-cache', 'Content-Encoding': 'gzip'}\n",
      "Response Text (first 2000 chars): <!DOCTYPE html><html xmlns=\"http://www.w3.org/1999/xhtml\" xml:lang=\"pl\" lang=\"pl\" class=\"no-js\" >\n",
      "<head>\n",
      "\t\t\t<!-- Google Tag Manager -->\n",
      "\t\t\t<script>(function(w,d,s,l,i){w[l]=w[l]||[];w[l].push({'gtm.start':\n",
      "\t\t\t\t\t\tnew Date().getTime(),event:'gtm.js'});var f=d.getElementsByTagName(s)[0],\n",
      "\t\t\t\t\tj=d.createElement(s),dl=l!='dataLayer'?'&l='+l:'';j.async=true;j.src=\n",
      "\t\t\t\t\t'https://www.googletagmanager.com/gtm.js?id='+i+dl\n",
      "\t\t\t\t\t\t\t\t\t    ;f.parentNode.insertBefore(j,f);\n",
      "\t\t\t\t    })(window,document,'script','dataLayer','GTM-P3S238');</script>\n",
      "\t\t\t<!-- End Google Tag Manager -->\n",
      "\t<title>Mieszkania Kraków na sprzedaż, wynajem - Sprzedajemy.pl</title><meta http-equiv=\"Content-Type\" content=\"text/html; charset=UTF-8\" >\n",
      "<meta http-equiv=\"X-UA-Compatible\" content=\"IE=edge\" >\n",
      "<meta name=\"description\" content=\"Ogłoszenia o tematyce:  w kategorii Mieszkania - Kupuj i sprzedawaj rzeczy używane i nowe w kategorii Mieszkania na Sprzedajemy.pl\" >\n",
      "<meta property=\"og:title\" content=\"Mieszkania Kraków na sprzedaż, wynajem - Sprzedajemy.pl\" >\n",
      "<meta property=\"og:type\" content=\"website\" >\n",
      "<meta property=\"og:image\" content=\"https://thumbs.img-sprzedajemy.pl/facebook/sprzedajemy.pl.png\" >\n",
      "<meta property=\"og:image:width\" content=\"200\" >\n",
      "<meta property=\"og:image:height\" content=\"200\" >\n",
      "<meta property=\"og:url\" content=\"https://sprzedajemy.pl/krakow/nieruchomosci/mieszkania\" >\n",
      "<meta property=\"og:site_name\" content=\"Sprzedajemy.pl\" >\n",
      "<meta property=\"fb:app_id\" content=\"173258269367442\" >\n",
      "<meta property=\"og:description\" content=\"Ogłoszenia o tematyce:  w kategorii Mieszkania - Kupuj i sprzedawaj rzeczy używane i nowe w kategorii Mieszkania na Sprzedajemy.pl\" >\n",
      "<meta name=\"robots\" content=\"noindex, follow\" >\t\t<script  async=\"async\" src=\"https://static.criteo.net/js/ld/publishertag.js\"></script>\n",
      "        <script  async=\"async\" src=\"https://ap.lijit.com/www/sovrn_beacon_standalone/sovrn_standalone_beacon.js?iid=13417409&amp;uid=sprzedajemy\" id=\"sBeacon\"></script>\n",
      "\t\t<script  async=\"async\" src=\"https://securepuba\n",
      "Titles: ['PILNE dwupokojowe mieszkanie (balkon, piwnica) os. Dywizjonu 303, 19C Krak…', 'Mieszkanie z widokiem na góry', 'Grzegorzki mieszkanie na sprzedaż 30 m', 'Mieszkanie Kraków 65.46m2', 'Ogłoszenie mieszkanie Kraków 69.35m2 3 pokoje', 'Mieszkanie 74.25m2 4-pok Kraków', 'Mieszkanie do sprzedania 56.09m2 Kraków', 'Mieszkanie Kraków Sołtysowska 30.76m2 1-pokojowe', 'Mieszkanie 52.15 metrów 3 pok Kraków Pękowicka', 'Do sprzedaży mieszkanie 60.07 metrów 4-pokojowe Kraków', 'Mieszkanie 51.88m2 3 pokojowe Kraków Pękowicka', 'Do sprzedaży mieszkanie 62.01m2 4 pokoje Kraków', 'Mieszkanie 36.8m2 2 pokojowe Kraków Estery', 'Mieszkanie Kraków 29 listopada - okolice 36.77m2', 'Mieszkanie Kraków 35.26m2 2 pokoje', 'Mieszkanie 65.16m2 4 pokoje Kraków', 'Mieszkanie 33.25m2 1-pokojowe Kraków', 'Mieszkanie 41.12m2 1 pok Kraków Na Błonie', 'Oferta sprzedaży mieszkania Kraków 51.43m2 3 pokoje', 'Sprzedam mieszkanie Kraków Pękowicka 38.85m2 2 pok', 'Mieszkanie Kraków 50.95m2 2-pokojowe', 'Mieszkanie 59.85m2 3 pokoje Kraków Babińskiego', 'Mieszkanie Kraków Babińskiego 82.79m2 3 pokojowe', 'Oferta sprzedaży mieszkania 83.66m2 Kraków Wadowicka', 'Mieszkanie 70.88m2 3 pokojowe Kraków Babińskiego', 'Mieszkanie Kraków Zdzisława Przebindowskiego 113.08m2', 'Mieszkanie Kraków Piasta Kołodzieja 49.63m2 3 pokojowe', 'Mieszkanie do sprzedania 46.46 metrów 2-pok Kraków', 'Mieszkanie 72.56m2 3-pokojowe Kraków Wadowicka', 'Mieszkanie 93.14 metry 4-pokojowe Kraków', 'Ogłoszenie mieszkanie 65.16m 4-pokojowe Kraków Kantrowicka', 'Mieszkanie 79.28m2 Kraków Wadowicka', 'Sprzedaż mieszkania Kraków 68.78m2 3 pokojowe', 'Mieszkanie na sprzedaż Kraków Na Błonie 38.09m2 2 pokojowe', 'Oferta sprzedaży mieszkania Kraków Babińskiego 83.9m2 3 pokoje', 'Mieszkanie 51.19m2 Kraków Pękowicka', 'Mieszkanie Kraków Na Błonie 41.12m2 1 pokój', 'Mieszkanie na sprzedaż Kraków 74.74 metry 3 pokojowe', 'Mieszkanie 51.65m2 3 pok Kraków', 'Mieszkanie 52.07m2 Kraków', 'Mieszkanie 72.4m2 3 pokoje Kraków Babińskiego', 'Oferta sprzedaży mieszkania Kraków Na Błonie 38.52m2 2-pokojowe', 'Mieszkanie 38.51m2 2 pokoje Kraków', 'Mieszkanie Kraków Piasta Kołodzieja 71.45m2 4 pok', 'Mieszkanie 45.38 metrów Kraków Wadowicka', 'Mieszkanie 68.78m2 3 pokojowe Kraków Wadowicka', 'Oferta sprzedaży mieszkania 100m2 3 pokoje Kraków Gustawa Ehrenberga', 'Mieszkanie 49.59m2 3 pokoje Kraków Piasta Kołodzieja', 'Ogłoszenie mieszkanie Kraków Babińskiego 72.4m2 3 pok', 'Mieszkanie do sprzedania 35.05m2 2-pokojowe Kraków', 'Mieszkanie Kraków 53.81m2 4 pokoje', 'Mieszkanie Kraków Wadowicka 43.35m2 3 pokoje', 'Mieszkanie 59.31m2 4 pokoje Kraków', 'Sprzedaż mieszkania 38.16m2 2-pokojowe Kraków Na Błonie', 'Oferta sprzedaży mieszkania 90.38m2 4 pokojowe Kraków', 'Mieszkanie 37.8m2 2 pokoje Kraków Na Błonie', 'Oferta sprzedaży mieszkania Kraków Piasta Kołodzieja 48.59m2 3-pok', 'Mieszkanie Kraków Pękowicka 55.99m2 3 pokojowe', 'Mieszkanie Kraków Piasta Kołodzieja 48.59m2 3-pok', 'Mieszkanie Kraków Wadowicka 64.42m']\n",
      "60\n",
      "Prices: ['590 000 zł', '265 000 zł', '549 000 zł', '1 139 004 zł', '1 240 000 zł', '1 134 000 zł', '729 170 zł', '707 000 zł', '748 352 zł', '851 492 zł', '858 614 zł', '882 092 zł', '1 232 800 zł', '634 797 zł', '632 124 zł', '879 660 zł', '608 475 zł', '737 476 zł', '743 163 zł', '615 772 zł', '845 770 zł', '987 525 zł', '1 481 941 zł', '1 271 632 zł', '1 268 752 zł', '1 895 801 zł', '714 672 zł', '854 864 zł', '1 255 288 zł', '1 350 530 zł', '835 677 zł', '1 339 832 zł', '1 086 724 zł', '754 804 zł', '1 334 010 zł', '739 695 zł', '737 476 zł', '1 195 840 zł', '742 468 zł', '866 772 zł', '1 194 600 zł', '730 006 zł', '737 433 zł', '871 690 zł', '821 378 zł', '1 114 236 zł', '1 497 000 zł', '694 260 zł', '1 194 600 zł', '508 225 zł', '765 447 zł', '749 955 zł', '859 995 zł', '708 428 zł', '1 418 966 zł', '732 256 zł', '733 709 zł', '785 259 zł', '723 991 zł', '1 140 234 zł']\n",
      "60\n"
     ]
    }
   ],
   "source": [
    "import requests\n",
    "from bs4 import BeautifulSoup\n",
    "import pandas as pd\n",
    "import os\n",
    "\n",
    "url = \"https://sprzedajemy.pl/krakow/nieruchomosci/mieszkania?offset=0&items_per_page=60\"\n",
    "\n",
    "headers = {\n",
    "    \"User-Agent\": \"Mozilla/5.0 (Windows NT 10.0; Win64; x64) AppleWebKit/537.36 (KHTML, like Gecko) Chrome/58.0.3029.110 Safari/537.36\",\n",
    "    \"Accept\": \"text/html,application/xhtml+xml,application/xml;q=0.9,image/webp,image/apng,*/*;q=0.8\",\n",
    "    \"Accept-Encoding\": \"gzip, deflate, br\",\n",
    "    \"Accept-Language\": \"en-US,en;q=0.9,pl;q=0.8\",\n",
    "    \"Connection\": \"keep-alive\"\n",
    "}\n",
    "\n",
    "response = requests.get(url, headers=headers)\n",
    "response = requests.get(url, headers=headers)\n",
    "\n",
    "# Debugowanie odpowiedzi\n",
    "print(f\"Status Code: {response.status_code}\")\n",
    "print(f\"Response Headers: {response.headers}\")\n",
    "print(f\"Response Text (first 2000 chars): {response.text[:2000]}\")\n",
    "\n",
    "# Jeśli odpowiedź jest poprawna, wykonaj webscraping\n",
    "if response.status_code == 200:\n",
    "    soup = BeautifulSoup(response.content, \"html.parser\")\n",
    "\n",
    "    # Pobieranie ofert mieszkań\n",
    "    titles = [h2.a.text.strip() for h2 in soup.find_all(\"h2\", class_=\"title\") if h2.a]\n",
    "    prices = [p.text.replace(\"\\xa0\", \" \").strip() for p in soup.find_all(\"span\", class_=\"price\")]\n",
    "\n",
    "    print(\"Titles:\", titles)\n",
    "    print(len(titles))\n",
    "    print(\"Prices:\", prices)\n",
    "    print(len(prices))\n",
    "\n",
    "    df = pd.DataFrame({\"Title\": titles, \"Price\": prices})\n",
    "\n",
    "    # Dopisanie do pliku CSV\n",
    "    df.to_csv(\"scraped_data.csv\", mode='a', header=not os.path.exists('scraped_data.csv'), index=False)\n",
    "else:\n",
    "    print(\"Failed to retrieve data.\")\n"
   ]
  }
 ],
 "metadata": {
  "colab": {
   "provenance": []
  },
  "kernelspec": {
   "display_name": "Python 3",
   "name": "python3"
  },
  "language_info": {
   "codemirror_mode": {
    "name": "ipython",
    "version": 3
   },
   "file_extension": ".py",
   "mimetype": "text/x-python",
   "name": "python",
   "nbconvert_exporter": "python",
   "pygments_lexer": "ipython3",
   "version": "3.9.24"
  },
  "papermill": {
   "default_parameters": {},
   "duration": 3.235495,
   "end_time": "2025-10-31T17:30:43.459000",
   "environment_variables": {},
   "exception": null,
   "input_path": "nb.ipynb",
   "output_path": "nbo.ipynb",
   "parameters": {},
   "start_time": "2025-10-31T17:30:40.223505",
   "version": "2.6.0"
  }
 },
 "nbformat": 4,
 "nbformat_minor": 5
}