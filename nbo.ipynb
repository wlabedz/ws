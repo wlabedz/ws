{
 "cells": [
  {
   "cell_type": "code",
   "execution_count": 1,
   "id": "3d54c366",
   "metadata": {
    "colab": {
     "base_uri": "https://localhost:8080/"
    },
    "execution": {
     "iopub.execute_input": "2025-05-08T11:47:34.052154Z",
     "iopub.status.busy": "2025-05-08T11:47:34.051754Z",
     "iopub.status.idle": "2025-05-08T11:47:36.032773Z",
     "shell.execute_reply": "2025-05-08T11:47:36.032061Z"
    },
    "id": "5pYh4c8j1w43",
    "outputId": "8a0dca73-64e5-4f0d-c493-2c5b38392363",
    "papermill": {
     "duration": 1.984213,
     "end_time": "2025-05-08T11:47:36.033865",
     "exception": false,
     "start_time": "2025-05-08T11:47:34.049652",
     "status": "completed"
    },
    "tags": []
   },
   "outputs": [
    {
     "name": "stdout",
     "output_type": "stream",
     "text": [
      "Status Code: 200\n",
      "Response Headers: {'Server': 'nginx', 'Date': 'Thu, 08 May 2025 11:47:35 GMT', 'Content-Type': 'text/html; charset=UTF-8', 'Transfer-Encoding': 'chunked', 'Vary': 'Accept-Encoding, User-Agent', 'Set-Cookie': 'FRSPSID=7c9ptj7t47nbmb3rorbfos7dc5; path=/; domain=.sprzedajemy.pl; secure; HttpOnly, _items_per_page__offer_list=60; expires=Sat, 07-Jun-2025 11:47:35 GMT; Max-Age=2592000; path=/; domain=.sprzedajemy.pl; secure; httponly, observed_id=2139106198681c99d79ae0c1154911358013629696; expires=Tue, 08-May-2125 12:47:35 GMT; Max-Age=3155677200; path=/; domain=.sprzedajemy.pl; secure; httponly', 'Expires': 'Thu, 19 Nov 1981 08:52:00 GMT', 'Cache-Control': 'no-store, no-cache, must-revalidate, post-check=0, pre-check=0', 'Pragma': 'no-cache', 'Content-Encoding': 'gzip'}\n",
      "Response Text (first 2000 chars): <!DOCTYPE html><html xmlns=\"http://www.w3.org/1999/xhtml\" xml:lang=\"pl\" lang=\"pl\" class=\"no-js\" >\n",
      "<head>\n",
      "\t\t\t<!-- Google Tag Manager -->\n",
      "\t\t\t<script>(function(w,d,s,l,i){w[l]=w[l]||[];w[l].push({'gtm.start':\n",
      "\t\t\t\t\t\tnew Date().getTime(),event:'gtm.js'});var f=d.getElementsByTagName(s)[0],\n",
      "\t\t\t\t\tj=d.createElement(s),dl=l!='dataLayer'?'&l='+l:'';j.async=true;j.src=\n",
      "\t\t\t\t\t'https://www.googletagmanager.com/gtm.js?id='+i+dl\n",
      "\t\t\t\t\t\t\t\t\t    ;f.parentNode.insertBefore(j,f);\n",
      "\t\t\t\t    })(window,document,'script','dataLayer','GTM-P3S238');</script>\n",
      "\t\t\t<!-- End Google Tag Manager -->\n",
      "\t<title>Mieszkania Kraków na sprzedaż, wynajem - Sprzedajemy.pl</title><meta http-equiv=\"Content-Type\" content=\"text/html; charset=UTF-8\" >\n",
      "<meta http-equiv=\"X-UA-Compatible\" content=\"IE=edge\" >\n",
      "<meta name=\"description\" content=\"Ogłoszenia o tematyce:  w kategorii Mieszkania - Kupuj i sprzedawaj rzeczy używane i nowe w kategorii Mieszkania na Sprzedajemy.pl\" >\n",
      "<meta property=\"og:title\" content=\"Mieszkania Kraków na sprzedaż, wynajem - Sprzedajemy.pl\" >\n",
      "<meta property=\"og:type\" content=\"website\" >\n",
      "<meta property=\"og:image\" content=\"https://thumbs.img-sprzedajemy.pl/facebook/sprzedajemy.pl.png\" >\n",
      "<meta property=\"og:image:width\" content=\"200\" >\n",
      "<meta property=\"og:image:height\" content=\"200\" >\n",
      "<meta property=\"og:url\" content=\"https://sprzedajemy.pl/krakow/nieruchomosci/mieszkania\" >\n",
      "<meta property=\"og:site_name\" content=\"Sprzedajemy.pl\" >\n",
      "<meta property=\"fb:app_id\" content=\"173258269367442\" >\n",
      "<meta property=\"og:description\" content=\"Ogłoszenia o tematyce:  w kategorii Mieszkania - Kupuj i sprzedawaj rzeczy używane i nowe w kategorii Mieszkania na Sprzedajemy.pl\" >\n",
      "<meta name=\"robots\" content=\"noindex, follow\" >\t\t<script  async=\"async\" src=\"https://static.criteo.net/js/ld/publishertag.js\"></script>\n",
      "        <script  async=\"async\" src=\"https://ap.lijit.com/www/sovrn_beacon_standalone/sovrn_standalone_beacon.js?iid=13417409&amp;uid=sprzedajemy\" id=\"sBeacon\"></script>\n",
      "\t\t<script  async=\"async\" src=\"https://securepuba\n",
      "Titles: ['Mieszkanie na sprzedaż/zamiana 39m2', '2 pokoje 41m2 blisko Aquaparku wkrótce tramwaj!', 'Nowoczesny apartament z panoramicznym widokiem - od właściciela', 'Stylowy apartament z widokiem na panoramę Krakowa - od właściciela', 'Wyjątkowe mieszkanie z widokiem na klasztor w Tyńcu i panoramę Tatr', 'Sprzedaż mieszkania 139m2 Kraków Komuny Paryskiej', 'Mieszkanie 63m2 3-pokojowe Kraków', 'Mieszkanie 41.5m2 2 pokoje Kraków', 'Oferta sprzedaży mieszkania 87.9m2 4 pokoje Kraków', 'Mieszkanie Kraków os. Albertyńskie 40.5m2', 'Oferta sprzedaży mieszkania Kraków os. Zielone 33.82m2 1 pokój', 'Mieszkanie Kraków 46.17m2 3 pokoje', 'Mieszkanie z zielonym ogródkiem 164 m². Blisko Zakrzówka. Ul. Ruczaj_ M2', 'Zielony ogródek 99 m² Ul. Ruczaj. Blisko Zakrzówka_ m14', 'Mieszkanie Kraków 31.9m2 2 pokojowe', 'Mieszkanie Kraków 81m2 4-pok', 'Sprzedaż mieszkania Kraków os. Sportowe 50.42m2', 'Mieszkanie 105m2 3 pokoje Kraków', 'Mieszkanie 30.2 metry 1 pokój Kraków Chełmońskiego', 'Mieszkanie Kraków 33m2', 'Oferta sprzedaży mieszkania Kraków Os. Słoneczne 47.2m2 2 pokoje', 'Przetarg - sprzedaż lokalu mieszkalnego - Kraków', 'Mieszkanie Kraków 25m2 1 pokój', 'Mieszkanie 50m2 Kraków Ostatnia', 'Oferta sprzedaży mieszkania Kraków Lublańska 80m2 4 pokoje', 'Oferta wynajmu mieszkania Kraków MOGILSKA 29.7 metrów 1 pokój', 'Mieszkanie 37.6m2 2 pokoje Kraków', 'Ogłoszenie mieszkanie Kraków 47m2 2 pokojowe', 'Wynajmę pokoik', '3 pokoje + kuchnia, bez prowizji od właściciela, 10 piętro widokowe', 'Mieszkanie 69.72m2 3 pokoje Kraków Teligi', 'Mieszkanie Kraków Stare Wiślisko 96.45m2 4 pokojowe', 'Oferta sprzedaży mieszkania Kraków 48.01m2 2-pokojowe', 'Mieszkanie 73.19m2 3-pok Kraków płk. Francesco Nullo', 'Mieszkanie 71.27m2 4 pokoje Kraków Stefana Banacha', 'Mieszkanie 63.83m2 3 pokoje Kraków Zdunów', '3 pokoje | 59,5 m2 | Orlińskiego AVIA | Kraków | BEZPOŚREDNIO', 'Ogłoszenie mieszkanie 43.56m2 3 pok Kraków', 'Oferta sprzedaży mieszkania Kraków Łokietka 108m2 4 pokojowe', 'Mieszkanie 26m2 2 pok Kraków Kokosowa', 'Mieszkanie 58.66m2 Kraków Teligi', 'Mieszkanie Kraków Konarskiego 37m2 2-pokojowe', 'Mieszkanie 81m2 4 pok Kraków Kobierzyńska', 'Mieszkanie Kraków 96.45m2 4 pokoje', 'Mieszkanie na sprzedaż 40m2 3 pokoje Kraków os. Kościuszkowskie', 'Do sprzedaży mieszkanie 71m2 2 pok Kraków Wiosenna', 'Mieszkanie 95.88m2 4 pokoje Kraków Stare Wiślisko', 'Sprzedaż mieszkania Kraków Wincentego Witosa 67.02m2 3 pokojowe', 'Kawalerka z widokiem, po remoncie, ul. Racławicka', 'Mieszkanie Kraków Stare Miasto Grodzka', 'Wynajem mieszkania Kraków Mitery 45m2 3 pokoje', 'Żabiniec 2 pok.taras m.post w cenie bez prowizji', 'Sprzedam mieszkanie 137m2 4 pok Kraków Morelowa', 'Nowoczesna, umeblowana kawalerka 33m2', 'Nowoczesne 3-pokojowe mieszkanie 52m z 2 balkonami', 'Oferta sprzedaży mieszkania 38.07m2 Kraków Kawiory', 'Mieszkanie Kraków Stefana Ziobrowskiego 27.16m2 2-pokojowe', 'Bezczynszowe 3-pokojowe mieszkanie w szeregówce', 'Sprzedam mieszkanie 49.77m2 2 pokoje Kraków os. Stalowe', 'Mieszkanie Kraków 40m2 2 pokojowe']\n",
      "60\n",
      "Prices: ['548 000 zł', '710 000 zł', '997 000 zł', '897 000 zł', '790 000 zł', '1 470 000 zł', '759 000 zł', '598 999 zł', '950 000 zł', '2 000 zł', '510 000 zł', '715 000 zł', '790 685 zł', '666 450 zł', '2 300 zł', '1 350 000 zł', '769 000 zł', '1 799 000 zł', '2 000 zł', '669 000 zł', '680 000 zł', '4 305 000 zł', '399 000 zł', '3 000 zł', '1 100 000 zł', '2 500 zł', '649 000 zł', '2 300 zł', '500 zł', '858 000 zł', '850 584 zł', '1 140 623 zł', '640 000 zł', '1 790 000 zł', '1 309 000 zł', '795 000 zł', '950 000 zł', '749 000 zł', '1 450 000 zł', '355 000 zł', '699 000 zł', '2 500 zł', '899 000 zł', '1 140 623 zł', '659 999 zł', '1 416 000 zł', '1 109 980 zł', '931 578 zł', '468 000 zł', '1 483 000 zł', '2 800 zł', '650 000 zł', '2 000 000 zł', '569 000 zł', '3 300 zł', '829 000 zł', '450 000 zł', '999 000 zł', '770 000 zł', '2 200 zł']\n",
      "60\n"
     ]
    }
   ],
   "source": [
    "import requests\n",
    "from bs4 import BeautifulSoup\n",
    "import pandas as pd\n",
    "import os\n",
    "\n",
    "url = \"https://sprzedajemy.pl/krakow/nieruchomosci/mieszkania?offset=0&items_per_page=60\"\n",
    "\n",
    "headers = {\n",
    "    \"User-Agent\": \"Mozilla/5.0 (Windows NT 10.0; Win64; x64) AppleWebKit/537.36 (KHTML, like Gecko) Chrome/58.0.3029.110 Safari/537.36\",\n",
    "    \"Accept\": \"text/html,application/xhtml+xml,application/xml;q=0.9,image/webp,image/apng,*/*;q=0.8\",\n",
    "    \"Accept-Encoding\": \"gzip, deflate, br\",\n",
    "    \"Accept-Language\": \"en-US,en;q=0.9,pl;q=0.8\",\n",
    "    \"Connection\": \"keep-alive\"\n",
    "}\n",
    "\n",
    "response = requests.get(url, headers=headers)\n",
    "response = requests.get(url, headers=headers)\n",
    "\n",
    "# Debugowanie odpowiedzi\n",
    "print(f\"Status Code: {response.status_code}\")\n",
    "print(f\"Response Headers: {response.headers}\")\n",
    "print(f\"Response Text (first 2000 chars): {response.text[:2000]}\")\n",
    "\n",
    "# Jeśli odpowiedź jest poprawna, wykonaj webscraping\n",
    "if response.status_code == 200:\n",
    "    soup = BeautifulSoup(response.content, \"html.parser\")\n",
    "\n",
    "    # Pobieranie ofert mieszkań\n",
    "    titles = [h2.a.text.strip() for h2 in soup.find_all(\"h2\", class_=\"title\") if h2.a]\n",
    "    prices = [p.text.replace(\"\\xa0\", \" \").strip() for p in soup.find_all(\"span\", class_=\"price\")]\n",
    "\n",
    "    print(\"Titles:\", titles)\n",
    "    print(len(titles))\n",
    "    print(\"Prices:\", prices)\n",
    "    print(len(prices))\n",
    "\n",
    "    df = pd.DataFrame({\"Title\": titles, \"Price\": prices})\n",
    "\n",
    "    # Dopisanie do pliku CSV\n",
    "    df.to_csv(\"scraped_data.csv\", mode='a', header=not os.path.exists('scraped_data.csv'), index=False)\n",
    "else:\n",
    "    print(\"Failed to retrieve data.\")\n"
   ]
  }
 ],
 "metadata": {
  "colab": {
   "provenance": []
  },
  "kernelspec": {
   "display_name": "Python 3",
   "name": "python3"
  },
  "language_info": {
   "codemirror_mode": {
    "name": "ipython",
    "version": 3
   },
   "file_extension": ".py",
   "mimetype": "text/x-python",
   "name": "python",
   "nbconvert_exporter": "python",
   "pygments_lexer": "ipython3",
   "version": "3.9.22"
  },
  "papermill": {
   "default_parameters": {},
   "duration": 3.124295,
   "end_time": "2025-05-08T11:47:36.251746",
   "environment_variables": {},
   "exception": null,
   "input_path": "nb.ipynb",
   "output_path": "nbo.ipynb",
   "parameters": {},
   "start_time": "2025-05-08T11:47:33.127451",
   "version": "2.6.0"
  }
 },
 "nbformat": 4,
 "nbformat_minor": 5
}