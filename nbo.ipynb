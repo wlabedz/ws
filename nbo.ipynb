{
 "cells": [
  {
   "cell_type": "code",
   "execution_count": 1,
   "id": "a0ec641d",
   "metadata": {
    "colab": {
     "base_uri": "https://localhost:8080/"
    },
    "execution": {
     "iopub.execute_input": "2025-06-17T06:59:04.964188Z",
     "iopub.status.busy": "2025-06-17T06:59:04.963835Z",
     "iopub.status.idle": "2025-06-17T06:59:07.126250Z",
     "shell.execute_reply": "2025-06-17T06:59:07.125544Z"
    },
    "id": "5pYh4c8j1w43",
    "outputId": "8a0dca73-64e5-4f0d-c493-2c5b38392363",
    "papermill": {
     "duration": 2.16615,
     "end_time": "2025-06-17T06:59:07.127402",
     "exception": false,
     "start_time": "2025-06-17T06:59:04.961252",
     "status": "completed"
    },
    "tags": []
   },
   "outputs": [
    {
     "name": "stdout",
     "output_type": "stream",
     "text": [
      "Status Code: 200\n",
      "Response Headers: {'Server': 'nginx', 'Date': 'Tue, 17 Jun 2025 06:59:06 GMT', 'Content-Type': 'text/html; charset=UTF-8', 'Transfer-Encoding': 'chunked', 'Vary': 'Accept-Encoding, User-Agent', 'Set-Cookie': 'FRSPSID=d6faiuvm4q72kl1b59mgsgk6t5; path=/; domain=.sprzedajemy.pl; secure; HttpOnly, _items_per_page__offer_list=60; expires=Thu, 17-Jul-2025 06:59:06 GMT; Max-Age=2592000; path=/; domain=.sprzedajemy.pl; secure; httponly, observed_id=20263748906851123aa53f69173989062190736047; expires=Sun, 17-Jun-2125 07:59:06 GMT; Max-Age=3155677200; path=/; domain=.sprzedajemy.pl; secure; httponly', 'Expires': 'Thu, 19 Nov 1981 08:52:00 GMT', 'Cache-Control': 'no-store, no-cache, must-revalidate, post-check=0, pre-check=0', 'Pragma': 'no-cache', 'Content-Encoding': 'gzip'}\n",
      "Response Text (first 2000 chars): <!DOCTYPE html><html xmlns=\"http://www.w3.org/1999/xhtml\" xml:lang=\"pl\" lang=\"pl\" class=\"no-js\" >\n",
      "<head>\n",
      "\t\t\t<!-- Google Tag Manager -->\n",
      "\t\t\t<script>(function(w,d,s,l,i){w[l]=w[l]||[];w[l].push({'gtm.start':\n",
      "\t\t\t\t\t\tnew Date().getTime(),event:'gtm.js'});var f=d.getElementsByTagName(s)[0],\n",
      "\t\t\t\t\tj=d.createElement(s),dl=l!='dataLayer'?'&l='+l:'';j.async=true;j.src=\n",
      "\t\t\t\t\t'https://www.googletagmanager.com/gtm.js?id='+i+dl\n",
      "\t\t\t\t\t\t\t\t\t    ;f.parentNode.insertBefore(j,f);\n",
      "\t\t\t\t    })(window,document,'script','dataLayer','GTM-P3S238');</script>\n",
      "\t\t\t<!-- End Google Tag Manager -->\n",
      "\t<title>Mieszkania Kraków na sprzedaż, wynajem - Sprzedajemy.pl</title><meta http-equiv=\"Content-Type\" content=\"text/html; charset=UTF-8\" >\n",
      "<meta http-equiv=\"X-UA-Compatible\" content=\"IE=edge\" >\n",
      "<meta name=\"description\" content=\"Ogłoszenia o tematyce:  w kategorii Mieszkania - Kupuj i sprzedawaj rzeczy używane i nowe w kategorii Mieszkania na Sprzedajemy.pl\" >\n",
      "<meta property=\"og:title\" content=\"Mieszkania Kraków na sprzedaż, wynajem - Sprzedajemy.pl\" >\n",
      "<meta property=\"og:type\" content=\"website\" >\n",
      "<meta property=\"og:image\" content=\"https://thumbs.img-sprzedajemy.pl/facebook/sprzedajemy.pl.png\" >\n",
      "<meta property=\"og:image:width\" content=\"200\" >\n",
      "<meta property=\"og:image:height\" content=\"200\" >\n",
      "<meta property=\"og:url\" content=\"https://sprzedajemy.pl/krakow/nieruchomosci/mieszkania\" >\n",
      "<meta property=\"og:site_name\" content=\"Sprzedajemy.pl\" >\n",
      "<meta property=\"fb:app_id\" content=\"173258269367442\" >\n",
      "<meta property=\"og:description\" content=\"Ogłoszenia o tematyce:  w kategorii Mieszkania - Kupuj i sprzedawaj rzeczy używane i nowe w kategorii Mieszkania na Sprzedajemy.pl\" >\n",
      "<meta name=\"robots\" content=\"noindex, follow\" >\t\t<script  async=\"async\" src=\"https://static.criteo.net/js/ld/publishertag.js\"></script>\n",
      "        <script  async=\"async\" src=\"https://ap.lijit.com/www/sovrn_beacon_standalone/sovrn_standalone_beacon.js?iid=13417409&amp;uid=sprzedajemy\" id=\"sBeacon\"></script>\n",
      "\t\t<script  async=\"async\" src=\"https://securepuba\n",
      "Titles: ['Mieszkanie 2 pokojowe', 'Stare Miasto 61,5 m2 KLIMA Wawel wykończone Kazimierz wysokie ROI', 'Stare Miasto 32m2 KLIMA Wawel wykończone Kazimierz wysokie ROI', 'Stylowy apartament z widokiem na panoramę Krakowa - od właściciela', 'Wyjątkowe mieszkanie z widokiem na klasztor w Tyńcu i panoramę Tatr', 'Nowoczesny apartament z panoramicznym widokiem - od właściciela', 'Mieszkanie na sprzedaż/zamiana 39m2', 'Nowe mieszkanie na sprzedaż 2-pokoje 38,6 m2 | Krowodrza - Kraków', 'Mieszkanie 4-pokoje Kraków - wolne od 1 Lipca 2025 r.', 'Sprzedam mieszkanie 26m oś Szkolne Kraków', 'Mieszkanie do sprzedania Kraków Filipowicza 72m2 2 pokojowe', 'Mieszkanie 34m2 2 pokoje Kraków Na Wzgórzach', 'Mieszkanie Kraków os. Hutnicze 20.81m2 1 pokój', 'Wynajmę mieszkanie Kraków Kantora 36m2 1 pokój', 'Mieszkanie 30.45m2 1 pokojowe Kraków', 'Mieszkanie', 'Mieszkanie kawalerka do wynajęcia w Krakowie', 'Mieszkanie, Kraków os. Tysiąclecia 1 - 20 m 2', 'Ogłoszenie mieszkanie Kraków 30 metrów 1 pokojowe', 'Stare Miasto mieszkanie na sprzedaż/zamiana', 'Mieszkanie na sprzedaż Kraków 57.76m2 3 pokoje', 'Jordanowska Prądnik Biały parking w cenie', 'Kawalerka do wynajęcia -Kraków Grzegórzki', 'Bezczynszowe 3-pokojowe mieszkanie w szeregówce', 'TBS Rżąka Rydygiera 1 pokój 33 m2 parter ogródek', 'Mieszkanie 2 pokojowe do wynajęcia Kraków', 'Oferta sprzedaży mieszkania Kraków Olszanicka 151.83m2 7 pokojowe', 'Ogłoszenie mieszkanie 49.9m2 2 pok Kraków Szlak', 'Bezpośrednio od właściciela -mieszkanie sprzedam', 'Do sprzedaży mieszkanie 61.99m2 4 pok Kraków Cegielniana', 'Sprzedam 46,5m2 ul Bochenka 25', 'Wynajem mieszkania Kraków Śmiała 80m2 3 pokojowe', 'Kraków – 2 pokojowy apartament w wysokim standardzie w inwestycji – Piasta…', '2 oddzielne pokoje,ul.Wrocławska 53A, od 1 lipca', 'Mieszkanie Kraków 66.91m2 4 pokoje', 'Mieszkanie sprzedam Kraków 42.5m2 2-pok', 'Mieszkanie Kraków Radzikowskiego 73m2 3 pokojowe', 'Mieszkanie Ruczaj Bobrzynskiego', 'Kawalerka 26m oś.Szkolne', 'Mieszkanie Kraków Świętokrzyska 85.3m2 4 pok', 'Sprzedam mieszkanie Kraków ulica Wawelska 8', 'Wynajmie 3pok.mieszkanie z ogródkiem Krakow Glogera', 'Kurdwanów - ul. Stojałowskiego I 3 pokoje, 62,5 m2', 'Kawalerka do wynajęcia', 'Kraków, Stare Miasto sprzedaż/zamiana', 'Widokowe 2-pokojowe mieszkanie, 37 m2', 'Mieszkanie Kraków 41.3m2 2-pok', 'Kawalerka dla studenta/studentki, Kraków - Prokocim', '1os Kawalerka 25m2 kilka przystanków od Centrum - Krowodrza Górka', 'Kaucja 1000 zł! 2-pokojowe mieszkanie 53 m², Prądnik Czerwony, Ugorek', 'Mieszkanie Kraków Wita Stwosza 18.63m2 1 pokojowe', 'Mieszkanie 16.03m2 Kraków', 'Sprzedam mieszkanie 137.1m2 5-pok Kraków Reduta', 'Oferta sprzedaży mieszkania Kraków 21.71m2 1-pok', 'Oferta sprzedaży mieszkania 120.73m2 4-pokojowe Kraków Reduta', 'Mieszkanie Kraków Wita Stwosza 18.04m2 1 pokojowe', 'Mieszkanie Kraków Kluczborska 47.12m2 2 pok', 'Mieszkanie Kraków 16.03m2 1 pokój', 'Mieszkanie 56m2 2-pok Kraków', 'Mieszkanie Kraków 77.04m 3 pokojowe']\n",
      "60\n",
      "Prices: ['489 000 zł', '1 782 885 zł', '989 000 zł', '897 000 zł', '779 000 zł', '997 000 zł', '539 000 zł', '799 000 zł', '4 800 zł', '380 000 zł', '849 000 zł', '1 850 zł', '499 000 zł', '1 900 zł', '850 000 zł', '2 500 zł', '2 100 zł', '349 000 zł', '1 950 zł', '2 243 000 zł', '797 000 zł', '699 000 zł', '2 400 zł', '999 000 zł', '195 000 zł', '2 900 zł', '2 383 737 zł', '3 200 zł', '490 000 zł', '990 000 zł', '659 000 zł', '4 800 zł', '799 000 zł', '3 200 zł', '1 065 000 zł', '485 000 zł', '797 000 zł', '580 000 zł', '380 000 zł', '3 600 zł', '1 099 000 zł', '3 500 zł', '799 000 zł', '1 900 zł', '2 215 000 zł', '579 000 zł', '610 000 zł', '2 400 zł', '1 755 zł', '2 150 zł', '405 202 zł', '356 667 zł', '2 368 370 zł', '417 917 zł', '2 049 180 zł', '468 750 zł', '3 300 zł', '372 697 zł', '3 300 zł', '1 329 332 zł']\n",
      "60\n"
     ]
    }
   ],
   "source": [
    "import requests\n",
    "from bs4 import BeautifulSoup\n",
    "import pandas as pd\n",
    "import os\n",
    "\n",
    "url = \"https://sprzedajemy.pl/krakow/nieruchomosci/mieszkania?offset=0&items_per_page=60\"\n",
    "\n",
    "headers = {\n",
    "    \"User-Agent\": \"Mozilla/5.0 (Windows NT 10.0; Win64; x64) AppleWebKit/537.36 (KHTML, like Gecko) Chrome/58.0.3029.110 Safari/537.36\",\n",
    "    \"Accept\": \"text/html,application/xhtml+xml,application/xml;q=0.9,image/webp,image/apng,*/*;q=0.8\",\n",
    "    \"Accept-Encoding\": \"gzip, deflate, br\",\n",
    "    \"Accept-Language\": \"en-US,en;q=0.9,pl;q=0.8\",\n",
    "    \"Connection\": \"keep-alive\"\n",
    "}\n",
    "\n",
    "response = requests.get(url, headers=headers)\n",
    "response = requests.get(url, headers=headers)\n",
    "\n",
    "# Debugowanie odpowiedzi\n",
    "print(f\"Status Code: {response.status_code}\")\n",
    "print(f\"Response Headers: {response.headers}\")\n",
    "print(f\"Response Text (first 2000 chars): {response.text[:2000]}\")\n",
    "\n",
    "# Jeśli odpowiedź jest poprawna, wykonaj webscraping\n",
    "if response.status_code == 200:\n",
    "    soup = BeautifulSoup(response.content, \"html.parser\")\n",
    "\n",
    "    # Pobieranie ofert mieszkań\n",
    "    titles = [h2.a.text.strip() for h2 in soup.find_all(\"h2\", class_=\"title\") if h2.a]\n",
    "    prices = [p.text.replace(\"\\xa0\", \" \").strip() for p in soup.find_all(\"span\", class_=\"price\")]\n",
    "\n",
    "    print(\"Titles:\", titles)\n",
    "    print(len(titles))\n",
    "    print(\"Prices:\", prices)\n",
    "    print(len(prices))\n",
    "\n",
    "    df = pd.DataFrame({\"Title\": titles, \"Price\": prices})\n",
    "\n",
    "    # Dopisanie do pliku CSV\n",
    "    df.to_csv(\"scraped_data.csv\", mode='a', header=not os.path.exists('scraped_data.csv'), index=False)\n",
    "else:\n",
    "    print(\"Failed to retrieve data.\")\n"
   ]
  }
 ],
 "metadata": {
  "colab": {
   "provenance": []
  },
  "kernelspec": {
   "display_name": "Python 3",
   "name": "python3"
  },
  "language_info": {
   "codemirror_mode": {
    "name": "ipython",
    "version": 3
   },
   "file_extension": ".py",
   "mimetype": "text/x-python",
   "name": "python",
   "nbconvert_exporter": "python",
   "pygments_lexer": "ipython3",
   "version": "3.9.22"
  },
  "papermill": {
   "default_parameters": {},
   "duration": 3.354836,
   "end_time": "2025-06-17T06:59:07.344020",
   "environment_variables": {},
   "exception": null,
   "input_path": "nb.ipynb",
   "output_path": "nbo.ipynb",
   "parameters": {},
   "start_time": "2025-06-17T06:59:03.989184",
   "version": "2.6.0"
  }
 },
 "nbformat": 4,
 "nbformat_minor": 5
}