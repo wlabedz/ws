{
 "cells": [
  {
   "cell_type": "code",
   "execution_count": 1,
   "id": "a7478041",
   "metadata": {
    "colab": {
     "base_uri": "https://localhost:8080/"
    },
    "execution": {
     "iopub.execute_input": "2025-10-30T20:21:45.223494Z",
     "iopub.status.busy": "2025-10-30T20:21:45.223225Z",
     "iopub.status.idle": "2025-10-30T20:21:48.432593Z",
     "shell.execute_reply": "2025-10-30T20:21:48.431832Z"
    },
    "id": "5pYh4c8j1w43",
    "outputId": "8a0dca73-64e5-4f0d-c493-2c5b38392363",
    "papermill": {
     "duration": 3.212871,
     "end_time": "2025-10-30T20:21:48.433752",
     "exception": false,
     "start_time": "2025-10-30T20:21:45.220881",
     "status": "completed"
    },
    "tags": []
   },
   "outputs": [
    {
     "name": "stdout",
     "output_type": "stream",
     "text": [
      "Status Code: 200\n",
      "Response Headers: {'Server': 'nginx', 'Date': 'Thu, 30 Oct 2025 20:21:48 GMT', 'Content-Type': 'text/html; charset=UTF-8', 'Transfer-Encoding': 'chunked', 'Vary': 'Accept-Encoding, User-Agent', 'Set-Cookie': 'FRSPSID=v70ugsg8ugti616ci4d01vii27; path=/; domain=.sprzedajemy.pl; secure; HttpOnly, _items_per_page__offer_list=60; expires=Sat, 29-Nov-2025 20:21:47 GMT; Max-Age=2592000; path=/; domain=.sprzedajemy.pl; secure; httponly, observed_id=14396312776903c8dbec95a2152095698911981274; expires=Tue, 30-Oct-2125 20:21:47 GMT; Max-Age=3155673600; path=/; domain=.sprzedajemy.pl; secure; httponly', 'Expires': 'Thu, 19 Nov 1981 08:52:00 GMT', 'Cache-Control': 'no-store, no-cache, must-revalidate, post-check=0, pre-check=0', 'Pragma': 'no-cache', 'Content-Encoding': 'gzip'}\n",
      "Response Text (first 2000 chars): <!DOCTYPE html><html xmlns=\"http://www.w3.org/1999/xhtml\" xml:lang=\"pl\" lang=\"pl\" class=\"no-js\" >\n",
      "<head>\n",
      "\t\t\t<!-- Google Tag Manager -->\n",
      "\t\t\t<script>(function(w,d,s,l,i){w[l]=w[l]||[];w[l].push({'gtm.start':\n",
      "\t\t\t\t\t\tnew Date().getTime(),event:'gtm.js'});var f=d.getElementsByTagName(s)[0],\n",
      "\t\t\t\t\tj=d.createElement(s),dl=l!='dataLayer'?'&l='+l:'';j.async=true;j.src=\n",
      "\t\t\t\t\t'https://www.googletagmanager.com/gtm.js?id='+i+dl\n",
      "\t\t\t\t\t\t\t\t\t    ;f.parentNode.insertBefore(j,f);\n",
      "\t\t\t\t    })(window,document,'script','dataLayer','GTM-P3S238');</script>\n",
      "\t\t\t<!-- End Google Tag Manager -->\n",
      "\t<title>Mieszkania Kraków na sprzedaż, wynajem - Sprzedajemy.pl</title><meta http-equiv=\"Content-Type\" content=\"text/html; charset=UTF-8\" >\n",
      "<meta http-equiv=\"X-UA-Compatible\" content=\"IE=edge\" >\n",
      "<meta name=\"description\" content=\"Ogłoszenia o tematyce:  w kategorii Mieszkania - Kupuj i sprzedawaj rzeczy używane i nowe w kategorii Mieszkania na Sprzedajemy.pl\" >\n",
      "<meta property=\"og:title\" content=\"Mieszkania Kraków na sprzedaż, wynajem - Sprzedajemy.pl\" >\n",
      "<meta property=\"og:type\" content=\"website\" >\n",
      "<meta property=\"og:image\" content=\"https://thumbs.img-sprzedajemy.pl/facebook/sprzedajemy.pl.png\" >\n",
      "<meta property=\"og:image:width\" content=\"200\" >\n",
      "<meta property=\"og:image:height\" content=\"200\" >\n",
      "<meta property=\"og:url\" content=\"https://sprzedajemy.pl/krakow/nieruchomosci/mieszkania\" >\n",
      "<meta property=\"og:site_name\" content=\"Sprzedajemy.pl\" >\n",
      "<meta property=\"fb:app_id\" content=\"173258269367442\" >\n",
      "<meta property=\"og:description\" content=\"Ogłoszenia o tematyce:  w kategorii Mieszkania - Kupuj i sprzedawaj rzeczy używane i nowe w kategorii Mieszkania na Sprzedajemy.pl\" >\n",
      "<meta name=\"robots\" content=\"noindex, follow\" >\t\t<script  async=\"async\" src=\"https://static.criteo.net/js/ld/publishertag.js\"></script>\n",
      "        <script  async=\"async\" src=\"https://ap.lijit.com/www/sovrn_beacon_standalone/sovrn_standalone_beacon.js?iid=13417409&amp;uid=sprzedajemy\" id=\"sBeacon\"></script>\n",
      "\t\t<script  async=\"async\" src=\"https://securepuba\n",
      "Titles: ['PILNE dwupokojowe mieszkanie (balkon, piwnica) os. Dywizjonu 303, 19C Krak…', 'Mieszkanie z widokiem na góry', 'Grzegorzki mieszkanie na sprzedaż 30 m', 'ul.Felińskiego, piękne 3 pokoje, garaż', 'Żabiniec - 2 pokoje, 2 balkony, garaż, komórka', 'Bronowice: 3 pokoje +3 balkony, miejsce parkingowe', '3-pokoje osobne - Ugorek, pet friendly', 'Mieszkanie Kraków 57.93m2 3 pokojowe', 'Mieszkanie 38.52m2 2 pokoje Kraków Zygmunta Glogera', 'Kraków – 3 pokojowy apartament na sprzedaż na kameralnym osiedlu', 'Mieszkanie 54.71m2 3 pokoje Kraków Zygmunta Glogera', 'Mieszkanie 57.93m2 3-pok Kraków', 'Ogłoszenie mieszkanie Kraków 74.25m2 4 pok', 'Mieszkanie 59.23m2 3 pokoje Kraków', 'Oferta sprzedaży mieszkania 59.23m2 3-pokojowe Kraków Zygmunta Glogera', 'Do sprzedaży mieszkanie Kraków prof. Michała Bobrzyńskiego 60m2 3 pokoje', 'Mieszkanie 48.46m2 3 pokoje Kraków', 'Mieszkanie Kraków Leona Petrażyckiego 74.74m2 3 pokojowe', 'Mieszkanie 57.93m2 3-pok Kraków Zygmunta Glogera', 'Mieszkanie 38.69 metrów Kraków Imbramowska', 'Mieszkanie Kraków Czerwone Maki 57m2 3-pok', 'Mieszkanie Kraków 58m2 3-pokojowe', 'Mieszkanie Kraków Reduta 120.54m2 4-pokojowe', 'Do sprzedaży mieszkanie Kraków 68.12m2', 'Mieszkanie Kraków Jerzego Szablowskiego 47m2 1-pokojowe', 'Mieszkanie 39.16m2 2 pokoje Kraków Zygmunta Glogera', 'Oferta sprzedaży mieszkania Kraków 77.01m2 4 pokojowe', 'Mieszkanie Kraków Reduta 90.25m2 3 pokoje', 'Luksusowy 2-poziomowy apartament 80m² z ogrodem', 'Oferta sprzedaży mieszkania 28.93m2 1 pokój Kraków Zygmunta Glogera', 'Mieszkanie 70.69m2 3-pokojowe Kraków', 'Mieszkanie Kraków Zygmunta Glogera 39.16m2 2 pokoje', 'Mieszkanie 54.71m2 Kraków Zygmunta Glogera', 'Mieszkanie 61.6m Kraków Jana Sas-Zubrzyckiego', 'Mieszkanie Kraków Zygmunta Glogera 68.12m 3 pok', 'Do sprzedaży mieszkanie 57.07 metrów 3 pokojowe Kraków', 'Oferta sprzedaży mieszkania 95 metrów Kraków Fiołkowa', 'Kraków – 2 pokojowy apartament w wysokim standardzie Piasta Towers', 'Mieszkanie Kraków Komuny Paryskiej 78m2', 'Ekskluzywny apartament 83,5m2 - do CENTRUM 1km', 'al. Karsińskiego - 3 pokoje, umeblowane', 'Mieszkanie Kraków 26.88m2 1-pok', 'Mieszkanie do sprzedania 74m2 2 pokoje Kraków Twardowskiego', 'Mieszkanie 40.63m2 2 pokoje Kraków', 'Mieszkanie do sprzedania Kraków 29.43m2 2 pokojowe', 'Mieszkanie Kraków Myśliwska 123.1m2 5 pok', 'Oferta sprzedaży mieszkania 54m2 3 pokoje Opatkowice', 'Mieszkanie 70.4m2 3-pokojowe Kraków', 'Czyżyny - 1 pokojowe z dużym blakonem, 2018 r', 'Ogłoszenie mieszkanie Kraków 36.11m 2-pok', 'Mieszkanie _Italia', 'Ogłoszenie mieszkanie 58 metrów 3 pokojowe Kraków Zygmunta Glogera', 'Apartament z ogródkiem, blisko Bonarki - 48m2', 'Kawalerka 27m na Dąbiu | Pętla tramwajowa', 'Mieszkanie 40m2 2 pok Kraków płk. Francesco Nullo', 'Czyżyny - mieszkanie z dużym balkonem, 2017 r.', 'Nowe umeblowane 2 pokoje z dużym balkonem - Park Bagry - Bez prowizji', 'Mieszkanie 4-pok. 73m2 z ogródkiem 130m2, Ruczaj, Federowicza Bunscha', '2-pokojowe od właściciela, Ruczaj (z dodatkowym wydzielonym miejscem do pr…', 'Mieszkanie Kraków Piastów 47.38m2 2 pokoje']\n",
      "60\n",
      "Prices: ['590 000 zł', '265 000 zł', '549 000 zł', '770 000 zł', '750 000 zł', '985 000 zł', '3 400 zł', '828 399 zł', '620 172 zł', '939 000 zł', '809 708 zł', '758 883 zł', '1 134 000 zł', '835 143 zł', '823 297 zł', '999 000 zł', '770 514 zł', '890 000 zł', '816 813 zł', '827 820 zł', '795 000 zł', '1 440 000 zł', '2 100 000 zł', '878 748 zł', '2 850 zł', '610 896 zł', '1 370 000 zł', '1 338 000 zł', '6 500 zł', '471 559 zł', '1 131 040 zł', '603 064 zł', '771 411 zł', '740 000 zł', '892 372 zł', '1 036 391 zł', '1 300 000 zł', '799 000 zł', '960 000 zł', '1 949 000 zł', '1 450 000 zł', '615 525 zł', '1 350 000 zł', '576 946 zł', '420 000 zł', '1 480 000 zł', '730 000 zł', '1 200 000 zł', '605 000 zł', '530 000 zł', '240 000 zł', '1 020 000 zł', '3 500 zł', '581 000 zł', '2 500 zł', '605 000 zł', '784 000 zł', '1 033 000 zł', '2 400 zł', '745 000 zł']\n",
      "60\n"
     ]
    }
   ],
   "source": [
    "import requests\n",
    "from bs4 import BeautifulSoup\n",
    "import pandas as pd\n",
    "import os\n",
    "\n",
    "url = \"https://sprzedajemy.pl/krakow/nieruchomosci/mieszkania?offset=0&items_per_page=60\"\n",
    "\n",
    "headers = {\n",
    "    \"User-Agent\": \"Mozilla/5.0 (Windows NT 10.0; Win64; x64) AppleWebKit/537.36 (KHTML, like Gecko) Chrome/58.0.3029.110 Safari/537.36\",\n",
    "    \"Accept\": \"text/html,application/xhtml+xml,application/xml;q=0.9,image/webp,image/apng,*/*;q=0.8\",\n",
    "    \"Accept-Encoding\": \"gzip, deflate, br\",\n",
    "    \"Accept-Language\": \"en-US,en;q=0.9,pl;q=0.8\",\n",
    "    \"Connection\": \"keep-alive\"\n",
    "}\n",
    "\n",
    "response = requests.get(url, headers=headers)\n",
    "response = requests.get(url, headers=headers)\n",
    "\n",
    "# Debugowanie odpowiedzi\n",
    "print(f\"Status Code: {response.status_code}\")\n",
    "print(f\"Response Headers: {response.headers}\")\n",
    "print(f\"Response Text (first 2000 chars): {response.text[:2000]}\")\n",
    "\n",
    "# Jeśli odpowiedź jest poprawna, wykonaj webscraping\n",
    "if response.status_code == 200:\n",
    "    soup = BeautifulSoup(response.content, \"html.parser\")\n",
    "\n",
    "    # Pobieranie ofert mieszkań\n",
    "    titles = [h2.a.text.strip() for h2 in soup.find_all(\"h2\", class_=\"title\") if h2.a]\n",
    "    prices = [p.text.replace(\"\\xa0\", \" \").strip() for p in soup.find_all(\"span\", class_=\"price\")]\n",
    "\n",
    "    print(\"Titles:\", titles)\n",
    "    print(len(titles))\n",
    "    print(\"Prices:\", prices)\n",
    "    print(len(prices))\n",
    "\n",
    "    df = pd.DataFrame({\"Title\": titles, \"Price\": prices})\n",
    "\n",
    "    # Dopisanie do pliku CSV\n",
    "    df.to_csv(\"scraped_data.csv\", mode='a', header=not os.path.exists('scraped_data.csv'), index=False)\n",
    "else:\n",
    "    print(\"Failed to retrieve data.\")\n"
   ]
  }
 ],
 "metadata": {
  "colab": {
   "provenance": []
  },
  "kernelspec": {
   "display_name": "Python 3",
   "name": "python3"
  },
  "language_info": {
   "codemirror_mode": {
    "name": "ipython",
    "version": 3
   },
   "file_extension": ".py",
   "mimetype": "text/x-python",
   "name": "python",
   "nbconvert_exporter": "python",
   "pygments_lexer": "ipython3",
   "version": "3.9.23"
  },
  "papermill": {
   "default_parameters": {},
   "duration": 4.458351,
   "end_time": "2025-10-30T20:21:48.650960",
   "environment_variables": {},
   "exception": null,
   "input_path": "nb.ipynb",
   "output_path": "nbo.ipynb",
   "parameters": {},
   "start_time": "2025-10-30T20:21:44.192609",
   "version": "2.6.0"
  }
 },
 "nbformat": 4,
 "nbformat_minor": 5
}