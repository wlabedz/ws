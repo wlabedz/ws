{
 "cells": [
  {
   "cell_type": "code",
   "execution_count": 1,
   "id": "845bf8d4",
   "metadata": {
    "colab": {
     "base_uri": "https://localhost:8080/"
    },
    "execution": {
     "iopub.execute_input": "2025-04-23T03:57:12.054442Z",
     "iopub.status.busy": "2025-04-23T03:57:12.053806Z",
     "iopub.status.idle": "2025-04-23T03:57:14.090358Z",
     "shell.execute_reply": "2025-04-23T03:57:14.089695Z"
    },
    "id": "5pYh4c8j1w43",
    "outputId": "8a0dca73-64e5-4f0d-c493-2c5b38392363",
    "papermill": {
     "duration": 2.040335,
     "end_time": "2025-04-23T03:57:14.091616",
     "exception": false,
     "start_time": "2025-04-23T03:57:12.051281",
     "status": "completed"
    },
    "tags": []
   },
   "outputs": [
    {
     "name": "stdout",
     "output_type": "stream",
     "text": [
      "Status Code: 200\n",
      "Response Headers: {'Server': 'nginx', 'Date': 'Wed, 23 Apr 2025 03:57:13 GMT', 'Content-Type': 'text/html; charset=UTF-8', 'Transfer-Encoding': 'chunked', 'Vary': 'Accept-Encoding, User-Agent', 'Set-Cookie': 'FRSPSID=cs2ak8mssd2d3fvg873hedncl7; path=/; domain=.sprzedajemy.pl; secure; HttpOnly, _items_per_page__offer_list=60; expires=Fri, 23-May-2025 03:57:13 GMT; Max-Age=2592000; path=/; domain=.sprzedajemy.pl; secure; httponly, observed_id=200591887768086519a080c968937247715639371; expires=Mon, 23-Apr-2125 04:57:13 GMT; Max-Age=3155677200; path=/; domain=.sprzedajemy.pl; secure; httponly', 'Expires': 'Thu, 19 Nov 1981 08:52:00 GMT', 'Cache-Control': 'no-store, no-cache, must-revalidate, post-check=0, pre-check=0', 'Pragma': 'no-cache', 'Content-Encoding': 'gzip'}\n",
      "Response Text (first 2000 chars): <!DOCTYPE html><html xmlns=\"http://www.w3.org/1999/xhtml\" xml:lang=\"pl\" lang=\"pl\" class=\"no-js\" >\n",
      "<head>\n",
      "\t\t\t<!-- Google Tag Manager -->\n",
      "\t\t\t<script>(function(w,d,s,l,i){w[l]=w[l]||[];w[l].push({'gtm.start':\n",
      "\t\t\t\t\t\tnew Date().getTime(),event:'gtm.js'});var f=d.getElementsByTagName(s)[0],\n",
      "\t\t\t\t\tj=d.createElement(s),dl=l!='dataLayer'?'&l='+l:'';j.async=true;j.src=\n",
      "\t\t\t\t\t'https://www.googletagmanager.com/gtm.js?id='+i+dl\n",
      "\t\t\t\t\t\t\t\t\t    ;f.parentNode.insertBefore(j,f);\n",
      "\t\t\t\t    })(window,document,'script','dataLayer','GTM-P3S238');</script>\n",
      "\t\t\t<!-- End Google Tag Manager -->\n",
      "\t<title>Mieszkania Kraków na sprzedaż, wynajem - Sprzedajemy.pl</title><meta http-equiv=\"Content-Type\" content=\"text/html; charset=UTF-8\" >\n",
      "<meta http-equiv=\"X-UA-Compatible\" content=\"IE=edge\" >\n",
      "<meta name=\"description\" content=\"Ogłoszenia o tematyce:  w kategorii Mieszkania - Kupuj i sprzedawaj rzeczy używane i nowe w kategorii Mieszkania na Sprzedajemy.pl\" >\n",
      "<meta property=\"og:title\" content=\"Mieszkania Kraków na sprzedaż, wynajem - Sprzedajemy.pl\" >\n",
      "<meta property=\"og:type\" content=\"website\" >\n",
      "<meta property=\"og:image\" content=\"https://thumbs.img-sprzedajemy.pl/facebook/sprzedajemy.pl.png\" >\n",
      "<meta property=\"og:image:width\" content=\"200\" >\n",
      "<meta property=\"og:image:height\" content=\"200\" >\n",
      "<meta property=\"og:url\" content=\"https://sprzedajemy.pl/krakow/nieruchomosci/mieszkania\" >\n",
      "<meta property=\"og:site_name\" content=\"Sprzedajemy.pl\" >\n",
      "<meta property=\"fb:app_id\" content=\"173258269367442\" >\n",
      "<meta property=\"og:description\" content=\"Ogłoszenia o tematyce:  w kategorii Mieszkania - Kupuj i sprzedawaj rzeczy używane i nowe w kategorii Mieszkania na Sprzedajemy.pl\" >\n",
      "<meta name=\"robots\" content=\"noindex, follow\" >\t\t<script  async=\"async\" src=\"https://static.criteo.net/js/ld/publishertag.js\"></script>\n",
      "        <script  async=\"async\" src=\"https://ap.lijit.com/www/sovrn_beacon_standalone/sovrn_standalone_beacon.js?iid=13417409&amp;uid=sprzedajemy\" id=\"sBeacon\"></script>\n",
      "\t\t<script  async=\"async\" src=\"https://securepuba\n",
      "Titles: ['Nowoczesne, wykończone, z garażem i balkonem', 'Mieszkanie na sprzedaż/zamiana 39m2', 'Mieszkanie z ogródkiem Zakrzówek bezczynszowe', '2 pokoje 41m2 blisko Aquaparku wkrótce tramwaj!', 'Mieszkanie przy Parku Rzecznym Tonie', 'Kraków, Stare Miasto sprzedaż/zamiana', 'Mieszkanie sprzedam 32m2 1-pokojowe Kraków Św. Jacka', 'Oferta sprzedaży mieszkania Kraków 51.89m2 2 pokojowe', '2 pokoje ogródek miejsce postojowe cicha okolica', 'Ustawne mieszkanie 2 pokojowe, Os. Kazimierzowskie', 'Oferta sprzedaży mieszkania 108 metrów 4 pokojowe Kraków Pilotów', 'Mieszkanie do sprzedania Kraków Krowodrza 84m2 4-pokojowe', 'Mieszkanie 55.24m2 2-pokojowe Kraków Leona Petrażyckiego', 'Oferta sprzedaży mieszkania Kraków Henryka Pachońskiego 45.5m2 3-pokojowe', 'Mieszkanie na sprzedaż 44m2 2 pokoje Kraków', 'Mieszkanie Kraków Mieczysława Pszona 43.3m2 2 pok', 'Mieszkanie Kraków 57.77m2 3 pok', 'Oferta sprzedaży mieszkania 38.7m2 2 pok Kraków Pleszowska', 'Oferta sprzedaży mieszkania 47.9m2 2 pokoje Kraków Aleja Pokoju', 'Mieszkanie 60.91 metrów 3 pokojowe Kraków Domagały', '3 pokoje | 59,5 m2 | Orlińskiego AVIA | Kraków | BEZPOŚREDNIO', 'Sprzedam mieszkanie 55,9 m2 z ogródkiem, Wzgórza Krzesławickie, Kraków', 'Mieszkanie Kraków os. Albertyńskie 38m2 2 pokoje', 'Mieszkanie Kraków 52.99m2 3 pokojowe', 'Nowoczesne mieszkanie, 2 pokoje, balkon, garaż', 'Mieszkanie Kraków prof. Michała Bobrzyńskiego 60m2 3 pokojowe', '3 pokojowe mieszkanie z parkingiem ul. Bronowicka', 'Mieszkanie Kraków Wrocławska 27.86m2 1 pokój', 'Mieszkanie Kraków Reduta 77.12 metry 3 pokoje', 'Oferta sprzedaży mieszkania 54m 2 pok Kraków os. Kolorowe', 'Mieszkanie 51m2 Kraków', 'Atrakcyjne mieszkanie 3 pok.61,4 m2 Kraków ul. Młyńska', 'Mieszkanie 3 pokojowe 64m2 z 2 balkonamk', 'Oferta sprzedaży mieszkania 37m2 2-pok Kraków Dąbska', 'Centrum Krakowa Sprzedam lub zamienię na mniejsze', 'Mieszkanie 46.2m2 2-pok Kraków', 'Świeżo wykończone mieszkanie do wynajęcia', 'Mieszkanie Kraków Włoska 56m2 3 pokojowe', 'Mieszkanie do sprzedania 38.7m2 2 pok Kraków Kamieńskiego - okolice', 'Mieszkanie Kraków Bratysławska 36.45m2 1 pok', 'Mieszkanie Kraków Stanisława Przybyszewskiego 35m2 1 pok', 'Oferta sprzedaży mieszkania 46m2 2-pokojowe Kraków', 'Sprzedaż mieszkania 34.2m2 Kraków', 'Unikatowy apartament w Krakowie nad Wisłą z widokiwm wprost na Wawel', 'Mieszkanie 41 metrów 2 pok Kraków Wawrzyńca', 'Oferta sprzedaży mieszkania 30m2 Kraków Krowoderskich Zuchów', 'Mieszkanie Kraków 46.76m2 2-pokojowe', 'Komfortowe mieszkanie na sprzedaż', 'Mieszkanie 20m2 1 pokój Kraków Juliusza Lea', 'Mieszkanie 71.51m2 3 pokoje Kraków Przewóz', 'Mieszkanie 52m2 2 pokojowe Kraków Pszczelna', 'Mieszkanie 50.3 metry 4-pok Kraków Altanowa', 'Mieszkanie Kraków Starego Dębu 32m2', 'Mieszkanie Kraków 29 listopada - okolice 103.86m2 2-pokojowe', 'Oferta sprzedaży mieszkania 39.36m2 2 pok Kraków', 'Mieszkanie 57m2 2 pokoje Kraków', 'Mieszkanie Kraków Ludowa 58.51m2 3-pok', 'Mieszkanie do sprzedania Kraków Filipowicza 72m2 2 pokojowe', 'Mieszkanie 34m2 2 pokoje Kraków Na Wzgórzach', 'Mieszkanie Kraków os. Hutnicze 20.81m2 1 pokój']\n",
      "60\n",
      "Prices: ['990 000 zł', '548 000 zł', '460 000 zł', '710 000 zł', '535 000 zł', '2 254 000 zł', '567 000 zł', '670 000 zł', '584 000 zł', '520 000 zł', '859 000 zł', '1 350 000 zł', '760 000 zł', '620 000 zł', '799 000 zł', '649 000 zł', '860 000 zł', '553 000 zł', '839 000 zł', '940 000 zł', '950 000 zł', '769 000 zł', '470 000 zł', '4 300 zł', '2 500 zł', '1 050 000 zł', '3 500 zł', '567 000 zł', '1 342 000 zł', '660 000 zł', '864 500 zł', '940 000 zł', '999 999 zł', '665 000 zł', '1 000 000 zł', '609 000 zł', '2 700 zł', '649 000 zł', '683 294 zł', '656 000 zł', '2 500 zł', '650 000 zł', '499 000 zł', '2 870 000 zł', '750 000 zł', '539 000 zł', '1 100 000 zł', '999 900 zł', '2 000 zł', '1 065 000 zł', '3 000 zł', '1 395 000 zł', '615 000 zł', '1 713 690 zł', '599 000 zł', '3 000 zł', '829 000 zł', '849 000 zł', '1 850 zł', '499 000 zł']\n",
      "60\n"
     ]
    }
   ],
   "source": [
    "import requests\n",
    "from bs4 import BeautifulSoup\n",
    "import pandas as pd\n",
    "import os\n",
    "\n",
    "url = \"https://sprzedajemy.pl/krakow/nieruchomosci/mieszkania?offset=0&items_per_page=60\"\n",
    "\n",
    "headers = {\n",
    "    \"User-Agent\": \"Mozilla/5.0 (Windows NT 10.0; Win64; x64) AppleWebKit/537.36 (KHTML, like Gecko) Chrome/58.0.3029.110 Safari/537.36\",\n",
    "    \"Accept\": \"text/html,application/xhtml+xml,application/xml;q=0.9,image/webp,image/apng,*/*;q=0.8\",\n",
    "    \"Accept-Encoding\": \"gzip, deflate, br\",\n",
    "    \"Accept-Language\": \"en-US,en;q=0.9,pl;q=0.8\",\n",
    "    \"Connection\": \"keep-alive\"\n",
    "}\n",
    "\n",
    "response = requests.get(url, headers=headers)\n",
    "response = requests.get(url, headers=headers)\n",
    "\n",
    "# Debugowanie odpowiedzi\n",
    "print(f\"Status Code: {response.status_code}\")\n",
    "print(f\"Response Headers: {response.headers}\")\n",
    "print(f\"Response Text (first 2000 chars): {response.text[:2000]}\")\n",
    "\n",
    "# Jeśli odpowiedź jest poprawna, wykonaj webscraping\n",
    "if response.status_code == 200:\n",
    "    soup = BeautifulSoup(response.content, \"html.parser\")\n",
    "\n",
    "    # Pobieranie ofert mieszkań\n",
    "    titles = [h2.a.text.strip() for h2 in soup.find_all(\"h2\", class_=\"title\") if h2.a]\n",
    "    prices = [p.text.replace(\"\\xa0\", \" \").strip() for p in soup.find_all(\"span\", class_=\"price\")]\n",
    "\n",
    "    print(\"Titles:\", titles)\n",
    "    print(len(titles))\n",
    "    print(\"Prices:\", prices)\n",
    "    print(len(prices))\n",
    "\n",
    "    df = pd.DataFrame({\"Title\": titles, \"Price\": prices})\n",
    "\n",
    "    # Dopisanie do pliku CSV\n",
    "    df.to_csv(\"scraped_data.csv\", mode='a', header=not os.path.exists('scraped_data.csv'), index=False)\n",
    "else:\n",
    "    print(\"Failed to retrieve data.\")\n"
   ]
  }
 ],
 "metadata": {
  "colab": {
   "provenance": []
  },
  "kernelspec": {
   "display_name": "Python 3",
   "name": "python3"
  },
  "language_info": {
   "codemirror_mode": {
    "name": "ipython",
    "version": 3
   },
   "file_extension": ".py",
   "mimetype": "text/x-python",
   "name": "python",
   "nbconvert_exporter": "python",
   "pygments_lexer": "ipython3",
   "version": "3.9.22"
  },
  "papermill": {
   "default_parameters": {},
   "duration": 3.393482,
   "end_time": "2025-04-23T03:57:14.409477",
   "environment_variables": {},
   "exception": null,
   "input_path": "nb.ipynb",
   "output_path": "nbo.ipynb",
   "parameters": {},
   "start_time": "2025-04-23T03:57:11.015995",
   "version": "2.6.0"
  }
 },
 "nbformat": 4,
 "nbformat_minor": 5
}