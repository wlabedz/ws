{
 "cells": [
  {
   "cell_type": "code",
   "execution_count": 1,
   "id": "c157f353",
   "metadata": {
    "colab": {
     "base_uri": "https://localhost:8080/"
    },
    "execution": {
     "iopub.execute_input": "2025-10-17T16:36:09.217006Z",
     "iopub.status.busy": "2025-10-17T16:36:09.216754Z",
     "iopub.status.idle": "2025-10-17T16:36:11.287049Z",
     "shell.execute_reply": "2025-10-17T16:36:11.286317Z"
    },
    "id": "5pYh4c8j1w43",
    "outputId": "8a0dca73-64e5-4f0d-c493-2c5b38392363",
    "papermill": {
     "duration": 2.073794,
     "end_time": "2025-10-17T16:36:11.288172",
     "exception": false,
     "start_time": "2025-10-17T16:36:09.214378",
     "status": "completed"
    },
    "tags": []
   },
   "outputs": [
    {
     "name": "stdout",
     "output_type": "stream",
     "text": [
      "Status Code: 200\n",
      "Response Headers: {'Server': 'nginx', 'Date': 'Fri, 17 Oct 2025 16:36:10 GMT', 'Content-Type': 'text/html; charset=UTF-8', 'Transfer-Encoding': 'chunked', 'Vary': 'Accept-Encoding, User-Agent', 'Set-Cookie': 'FRSPSID=vlb02ejejoe8ceh404fgcmhtr5; path=/; domain=.sprzedajemy.pl; secure; HttpOnly, _items_per_page__offer_list=60; expires=Sun, 16-Nov-2025 16:36:10 GMT; Max-Age=2592000; path=/; domain=.sprzedajemy.pl; secure; httponly, observed_id=145294980068f2707ad13d41464144531579130; expires=Wed, 17-Oct-2125 17:36:10 GMT; Max-Age=3155677200; path=/; domain=.sprzedajemy.pl; secure; httponly', 'Expires': 'Thu, 19 Nov 1981 08:52:00 GMT', 'Cache-Control': 'no-store, no-cache, must-revalidate, post-check=0, pre-check=0', 'Pragma': 'no-cache', 'Content-Encoding': 'gzip'}\n",
      "Response Text (first 2000 chars): <!DOCTYPE html><html xmlns=\"http://www.w3.org/1999/xhtml\" xml:lang=\"pl\" lang=\"pl\" class=\"no-js\" >\n",
      "<head>\n",
      "\t\t\t<!-- Google Tag Manager -->\n",
      "\t\t\t<script>(function(w,d,s,l,i){w[l]=w[l]||[];w[l].push({'gtm.start':\n",
      "\t\t\t\t\t\tnew Date().getTime(),event:'gtm.js'});var f=d.getElementsByTagName(s)[0],\n",
      "\t\t\t\t\tj=d.createElement(s),dl=l!='dataLayer'?'&l='+l:'';j.async=true;j.src=\n",
      "\t\t\t\t\t'https://www.googletagmanager.com/gtm.js?id='+i+dl\n",
      "\t\t\t\t\t\t\t\t\t    ;f.parentNode.insertBefore(j,f);\n",
      "\t\t\t\t    })(window,document,'script','dataLayer','GTM-P3S238');</script>\n",
      "\t\t\t<!-- End Google Tag Manager -->\n",
      "\t<title>Mieszkania Kraków na sprzedaż, wynajem - Sprzedajemy.pl</title><meta http-equiv=\"Content-Type\" content=\"text/html; charset=UTF-8\" >\n",
      "<meta http-equiv=\"X-UA-Compatible\" content=\"IE=edge\" >\n",
      "<meta name=\"description\" content=\"Ogłoszenia o tematyce:  w kategorii Mieszkania - Kupuj i sprzedawaj rzeczy używane i nowe w kategorii Mieszkania na Sprzedajemy.pl\" >\n",
      "<meta property=\"og:title\" content=\"Mieszkania Kraków na sprzedaż, wynajem - Sprzedajemy.pl\" >\n",
      "<meta property=\"og:type\" content=\"website\" >\n",
      "<meta property=\"og:image\" content=\"https://thumbs.img-sprzedajemy.pl/facebook/sprzedajemy.pl.png\" >\n",
      "<meta property=\"og:image:width\" content=\"200\" >\n",
      "<meta property=\"og:image:height\" content=\"200\" >\n",
      "<meta property=\"og:url\" content=\"https://sprzedajemy.pl/krakow/nieruchomosci/mieszkania\" >\n",
      "<meta property=\"og:site_name\" content=\"Sprzedajemy.pl\" >\n",
      "<meta property=\"fb:app_id\" content=\"173258269367442\" >\n",
      "<meta property=\"og:description\" content=\"Ogłoszenia o tematyce:  w kategorii Mieszkania - Kupuj i sprzedawaj rzeczy używane i nowe w kategorii Mieszkania na Sprzedajemy.pl\" >\n",
      "<meta name=\"robots\" content=\"noindex, follow\" >\t\t<script  async=\"async\" src=\"https://static.criteo.net/js/ld/publishertag.js\"></script>\n",
      "        <script  async=\"async\" src=\"https://ap.lijit.com/www/sovrn_beacon_standalone/sovrn_standalone_beacon.js?iid=13417409&amp;uid=sprzedajemy\" id=\"sBeacon\"></script>\n",
      "\t\t<script  async=\"async\" src=\"https://securepuba\n",
      "Titles: ['Mieszkanie z widokiem na góry', 'Grzegorzki mieszkanie na sprzedaż 30 m', 'Mieszkanie 3-pokojowe Zakrzówek Ruczaj ul. Pychowicka wynajem od właścicie…', 'Kraków, Stare Miasto sprzedaż/zamiana', 'Mieszkanie Wzgórza Krzesławickie bez prowizji.', 'Piękne 2 pokojowe mieszkanie w Centrum', 'Mieszkanie do sprzedania Kraków Pękowicka 63.11m2 4 pok', 'Mieszkanie Kraków Grzegórzki 29.97m2 1-pok', 'Mieszkanie 59.85m 3 pokojowe Kraków', 'Mieszkanie Kraków 44.28m2 2 pokoje', 'Mieszkanie sprzedam Kraków 57.16 metrów 3 pokojowe', 'Wynajmę mieszkanie Kraków Wojciecha Bogusławskiego 45m2 2-pokojowe', 'Mieszkanie 57.32m2 2-pokojowe Kraków', 'Oferta sprzedaży mieszkania Kraków 59.85m2 3 pokojowe', 'Mieszkanie 53.68m2 2 pokoje Kraków', 'Oferta sprzedaży mieszkania 65.05m2 4 pokoje Kraków', 'Mieszkanie sprzedam Kraków Na Błonie 26.64m2 1 pokój', 'Sprzedaż mieszkania 70.88m2 3 pok Kraków', 'Oferta sprzedaży mieszkania Kraków 38.52m2 2-pok', 'Mieszkanie na wynajem Kraków ul. Bunscha Czerwone Maki', 'Do sprzedaży mieszkanie Kraków 74.74m2 3 pokojowe', 'Mieszkanie 31.74m2 1 pokojowe Kraków', 'Mieszkanie Kraków Piasta Kołodzieja 71.45m2 4-pok', 'Sprzedam mieszkanie Kraków Babińskiego 31.74m2 1 pok', 'Mieszkanie na sprzedaż Kraków 35.27m2 2-pok', 'Mieszkanie Kraków 45m2 2-pokojowe', 'Mieszkanie Kraków 36.09m2 2 pok', 'Oferta sprzedaży mieszkania Kraków 49.63m2 3 pok', 'Mieszkanie Kraków Wadowicka 66.11m2 3 pokoje', 'Mieszkanie Kraków Piasta Kołodzieja 71.2m2 4-pokojowe', 'Mieszkanie Kraków 64.4 metry 3 pokoje', 'Ogłoszenie mieszkanie Kraków 39.56 metrów 2-pokojowe', 'Mieszkanie Kraków Pędzichów 82m2 3 pokojowe', 'Mieszkanie Kraków Na Błonie 52.49m2 2 pok', 'Oferta sprzedaży mieszkania Kraków Bukowa 46.21 metrów 2-pok', 'Mieszkanie 72.4 metry 4 pokoje Kraków', 'Oferta sprzedaży mieszkania 41.18m2 2-pokojowe Kraków Na Błonie', 'Mieszkanie Kraków Kantrowicka 51.41m2 3 pokoje', 'Mieszkanie na sprzedaż 37.41m2 2 pokoje Kraków', 'Mieszkanie Kraków 50.48m2 3-pokojowe', 'Mieszkanie Kraków Półłanki 48.6m2 2-pokojowe', 'Mieszkanie do sprzedania 70.67m2 4 pok Kraków', 'Mieszkanie Kraków Kantrowicka 59.31m2 4 pokoje', 'Mieszkanie na sprzedaż Kraków 35.8m2 2 pokojowe', 'Mieszkanie Kraków Wadowicka 61.82m2 2-pokojowe', 'Oferta sprzedaży mieszkania Kraków Na Błonie 38.66m2 2 pokojowe', 'Mieszkanie 41.42m2 2 pokoje Kraków', 'Mieszkanie 83.1 metrów 4 pokoje Kraków Wadowicka', 'Oferta sprzedaży mieszkania Kraków 29 listopada - okolice 38.37m2 2 pok', 'Mieszkanie Kraków Wadowicka 43.57m2 2 pokoje', 'Mieszkanie Kraków 64.65m2 3 pokoje', 'Ogłoszenie mieszkanie Kraków 39.05m2 2 pokojowe', 'Mieszkanie 50.23m2 3 pokojowe Kraków Piasta Kołodzieja', 'Ogłoszenie mieszkanie 39.88m2 2 pokoje Kraków', 'Oferta sprzedaży mieszkania Kraków Piasta Kołodzieja 50.23m2 3-pok', 'Mieszkanie Kraków Pękowicka 50.71m2 3 pok', 'Mieszkanie Kraków Wadowicka 62.06m2 3-pokojowe', 'Mieszkanie sprzedam 79.28m2 4 pokoje Kraków', 'Mieszkanie 79.3m2 3 pokoje Kraków Babińskiego', 'Mieszkanie 64.33m2 3 pokojowe Kraków Wadowicka']\n",
      "60\n",
      "Prices: ['265 000 zł', '549 000 zł', '3 000 zł', '2 015 000 zł', '670 000 zł', '759 900 zł', '889 851 zł', '689 000 zł', '987 525 zł', '650 916 zł', '840 000 zł', '4 200 zł', '878 000 zł', '957 600 zł', '923 296 zł', '922 083 zł', '567 245 zł', '1 119 904 zł', '737 624 zł', '2 700 zł', '1 240 684 zł', '615 756 zł', '893 125 zł', '615 756 zł', '642 280 zł', '4 000 zł', '479 997 zł', '704 746 zł', '1 077 593 zł', '904 240 zł', '1 088 360 zł', '631 971 zł', '1 190 000 zł', '847 272 zł', '554 520 zł', '1 245 280 zł', '748 593 zł', '771 150 zł', '745 028 zł', '848 064 zł', '569 000 zł', '1 180 189 zł', '704 306 zł', '859 200 zł', '1 032 394 zł', '748 915 zł', '738 769 zł', '1 279 740 zł', '650 448 zł', '797 331 zł', '4 000 zł', '623 823 zł', '718 289 zł', '635 089 zł', '733 358 zł', '740 366 zł', '1 086 050 zł', '1 308 120 zł', '1 276 730 zł', '984 249 zł']\n",
      "60\n"
     ]
    }
   ],
   "source": [
    "import requests\n",
    "from bs4 import BeautifulSoup\n",
    "import pandas as pd\n",
    "import os\n",
    "\n",
    "url = \"https://sprzedajemy.pl/krakow/nieruchomosci/mieszkania?offset=0&items_per_page=60\"\n",
    "\n",
    "headers = {\n",
    "    \"User-Agent\": \"Mozilla/5.0 (Windows NT 10.0; Win64; x64) AppleWebKit/537.36 (KHTML, like Gecko) Chrome/58.0.3029.110 Safari/537.36\",\n",
    "    \"Accept\": \"text/html,application/xhtml+xml,application/xml;q=0.9,image/webp,image/apng,*/*;q=0.8\",\n",
    "    \"Accept-Encoding\": \"gzip, deflate, br\",\n",
    "    \"Accept-Language\": \"en-US,en;q=0.9,pl;q=0.8\",\n",
    "    \"Connection\": \"keep-alive\"\n",
    "}\n",
    "\n",
    "response = requests.get(url, headers=headers)\n",
    "response = requests.get(url, headers=headers)\n",
    "\n",
    "# Debugowanie odpowiedzi\n",
    "print(f\"Status Code: {response.status_code}\")\n",
    "print(f\"Response Headers: {response.headers}\")\n",
    "print(f\"Response Text (first 2000 chars): {response.text[:2000]}\")\n",
    "\n",
    "# Jeśli odpowiedź jest poprawna, wykonaj webscraping\n",
    "if response.status_code == 200:\n",
    "    soup = BeautifulSoup(response.content, \"html.parser\")\n",
    "\n",
    "    # Pobieranie ofert mieszkań\n",
    "    titles = [h2.a.text.strip() for h2 in soup.find_all(\"h2\", class_=\"title\") if h2.a]\n",
    "    prices = [p.text.replace(\"\\xa0\", \" \").strip() for p in soup.find_all(\"span\", class_=\"price\")]\n",
    "\n",
    "    print(\"Titles:\", titles)\n",
    "    print(len(titles))\n",
    "    print(\"Prices:\", prices)\n",
    "    print(len(prices))\n",
    "\n",
    "    df = pd.DataFrame({\"Title\": titles, \"Price\": prices})\n",
    "\n",
    "    # Dopisanie do pliku CSV\n",
    "    df.to_csv(\"scraped_data.csv\", mode='a', header=not os.path.exists('scraped_data.csv'), index=False)\n",
    "else:\n",
    "    print(\"Failed to retrieve data.\")\n"
   ]
  }
 ],
 "metadata": {
  "colab": {
   "provenance": []
  },
  "kernelspec": {
   "display_name": "Python 3",
   "name": "python3"
  },
  "language_info": {
   "codemirror_mode": {
    "name": "ipython",
    "version": 3
   },
   "file_extension": ".py",
   "mimetype": "text/x-python",
   "name": "python",
   "nbconvert_exporter": "python",
   "pygments_lexer": "ipython3",
   "version": "3.9.24"
  },
  "papermill": {
   "default_parameters": {},
   "duration": 3.293487,
   "end_time": "2025-10-17T16:36:11.505510",
   "environment_variables": {},
   "exception": null,
   "input_path": "nb.ipynb",
   "output_path": "nbo.ipynb",
   "parameters": {},
   "start_time": "2025-10-17T16:36:08.212023",
   "version": "2.6.0"
  }
 },
 "nbformat": 4,
 "nbformat_minor": 5
}