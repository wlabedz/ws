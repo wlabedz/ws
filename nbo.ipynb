{
 "cells": [
  {
   "cell_type": "code",
   "execution_count": 1,
   "id": "1c5384ac",
   "metadata": {
    "colab": {
     "base_uri": "https://localhost:8080/"
    },
    "execution": {
     "iopub.execute_input": "2025-06-12T19:09:01.425222Z",
     "iopub.status.busy": "2025-06-12T19:09:01.424983Z",
     "iopub.status.idle": "2025-06-12T19:09:03.095178Z",
     "shell.execute_reply": "2025-06-12T19:09:03.094565Z"
    },
    "id": "5pYh4c8j1w43",
    "outputId": "8a0dca73-64e5-4f0d-c493-2c5b38392363",
    "papermill": {
     "duration": 1.673457,
     "end_time": "2025-06-12T19:09:03.096206",
     "exception": false,
     "start_time": "2025-06-12T19:09:01.422749",
     "status": "completed"
    },
    "tags": []
   },
   "outputs": [
    {
     "name": "stdout",
     "output_type": "stream",
     "text": [
      "Status Code: 500\n",
      "Response Headers: {'Server': 'nginx', 'Date': 'Thu, 12 Jun 2025 19:09:03 GMT', 'Content-Type': 'text/html; charset=UTF-8', 'Transfer-Encoding': 'chunked', 'Set-Cookie': 'FRSPSID=ub4fg1ftpcvbvncqbnfe11hhu4; path=/; domain=.sprzedajemy.pl; secure; HttpOnly, _items_per_page__offer_list=60; expires=Sat, 12-Jul-2025 19:09:02 GMT; Max-Age=2592000; path=/; domain=.sprzedajemy.pl; secure; httponly, observed_id=973127965684b25cf045c74152150614130857198; expires=Tue, 12-Jun-2125 20:09:03 GMT; Max-Age=3155677200; path=/; domain=.sprzedajemy.pl; secure; httponly', 'Expires': 'Thu, 19 Nov 1981 08:52:00 GMT', 'Cache-Control': 'no-store, no-cache, must-revalidate, post-check=0, pre-check=0', 'Pragma': 'no-cache', 'Vary': 'User-Agent, User-Agent'}\n",
      "Response Text (first 2000 chars): <!DOCTYPE html PUBLIC \"-//W3C//DTD XHTML 1.0 Transitional//EN\" \"http://www.w3.org/TR/xhtml1/DTD/xhtml1-transitional.dtd\">\n",
      "<html xmlns=\"http://www.w3.org/1999/xhtml\" xml:lang=\"pl\" lang=\"pl\">\n",
      "<head>\n",
      "<title>Błąd 500 - nieprawidłowe działanie systemu</title>\n",
      "<meta http-equiv=\"content-type\" content=\"text/html; charset=utf-8\" />\n",
      "<meta http-equiv=\"content-language\" content=\"pl\" />\n",
      "<meta name=\"robots\" content=\"noindex,nofollow\" />\n",
      "<link rel=\"icon\" type=\"image/png\" href=\"/favicon.png\" />\n",
      "<!--[if IE 9]><link href=\"https://sprstatic2.blob.core.windows.net/1388/css/component/ie9_fixes.css\" media=\"screen\" rel=\"stylesheet\" type=\"text/css\" ><![endif]-->\n",
      "<link href=\"https://sprstatic2.blob.core.windows.net/1388/css/error.css\" media=\"screen\" rel=\"stylesheet\" type=\"text/css\" ><meta name=\"viewport\" content=\"width=device-width\" /><meta name=\"format-detection\" content=\"telephone=no\" /></head>\n",
      "    <body>\n",
      "    \t<div id=\"cntErrorHeader\">\n",
      "    \t\t<div class=\"errorLogo\">\n",
      "                <a href=\"/\" title=\"kupuj i sprzedawaj z drugiej ręki, rzeczy używane i nowe w Twoim regionie\">\n",
      "\t\t\t\t\t<span class=\"logoImgWrp\">\n",
      "\t\t\t\t\t\t<img src=\"https://sprstatic2.blob.core.windows.net/1388/img/pro/logo.png\"\n",
      "                             srcset=\"https://sprstatic2.blob.core.windows.net/1388/img/pro/logo.png 1x,\n",
      "\t\t\t\t\t\t\t\t\t https://sprstatic2.blob.core.windows.net/1388/img/pro/logo@2x.png 2x\"\n",
      "                             alt=\"Wszystko kupisz. Wszystko sprzedasz.\" />\n",
      "\t\t\t\t\t</span>\n",
      "                </a>\n",
      "                <div class=\"subtitle\">Wszystko kupisz. Wszystko sprzedasz.</div>\n",
      "\t\t\t</div>\n",
      "    \t</div>\n",
      "    \t<div id=\"cntErrorBody\" class=\"code500\">\n",
      "    \t\t<h1>Błąd 500 - nieprawidłowe działanie systemu</h1>\n",
      "    \t</div>\n",
      "    \t\t\t\n",
      "\t\t\t\t\t\t<!-- (C) 2000-2009 Gemius SA - gemiusAudience / ver 11.1 / pp.sprzedajemy.pl / podstrony-->\n",
      "\t\t\t<script type=\"text/javascript\">\n",
      "\t\t\t<!--//--><![CDATA[//><!--\n",
      "\t\t\tvar pp_gemius_identifier ='B3.ldquwLZBZopZ6yx3tAnZ3nO81MXBGEaTsMamRZLv.Y7';\n",
      "\t\t\t//--><!]]>\n",
      "\t\t\t</script>\n",
      "\t\t\t<script type=\"text/javascript\" \n",
      "Failed to retrieve data.\n"
     ]
    }
   ],
   "source": [
    "import requests\n",
    "from bs4 import BeautifulSoup\n",
    "import pandas as pd\n",
    "import os\n",
    "\n",
    "url = \"https://sprzedajemy.pl/krakow/nieruchomosci/mieszkania?offset=0&items_per_page=60\"\n",
    "\n",
    "headers = {\n",
    "    \"User-Agent\": \"Mozilla/5.0 (Windows NT 10.0; Win64; x64) AppleWebKit/537.36 (KHTML, like Gecko) Chrome/58.0.3029.110 Safari/537.36\",\n",
    "    \"Accept\": \"text/html,application/xhtml+xml,application/xml;q=0.9,image/webp,image/apng,*/*;q=0.8\",\n",
    "    \"Accept-Encoding\": \"gzip, deflate, br\",\n",
    "    \"Accept-Language\": \"en-US,en;q=0.9,pl;q=0.8\",\n",
    "    \"Connection\": \"keep-alive\"\n",
    "}\n",
    "\n",
    "response = requests.get(url, headers=headers)\n",
    "response = requests.get(url, headers=headers)\n",
    "\n",
    "# Debugowanie odpowiedzi\n",
    "print(f\"Status Code: {response.status_code}\")\n",
    "print(f\"Response Headers: {response.headers}\")\n",
    "print(f\"Response Text (first 2000 chars): {response.text[:2000]}\")\n",
    "\n",
    "# Jeśli odpowiedź jest poprawna, wykonaj webscraping\n",
    "if response.status_code == 200:\n",
    "    soup = BeautifulSoup(response.content, \"html.parser\")\n",
    "\n",
    "    # Pobieranie ofert mieszkań\n",
    "    titles = [h2.a.text.strip() for h2 in soup.find_all(\"h2\", class_=\"title\") if h2.a]\n",
    "    prices = [p.text.replace(\"\\xa0\", \" \").strip() for p in soup.find_all(\"span\", class_=\"price\")]\n",
    "\n",
    "    print(\"Titles:\", titles)\n",
    "    print(len(titles))\n",
    "    print(\"Prices:\", prices)\n",
    "    print(len(prices))\n",
    "\n",
    "    df = pd.DataFrame({\"Title\": titles, \"Price\": prices})\n",
    "\n",
    "    # Dopisanie do pliku CSV\n",
    "    df.to_csv(\"scraped_data.csv\", mode='a', header=not os.path.exists('scraped_data.csv'), index=False)\n",
    "else:\n",
    "    print(\"Failed to retrieve data.\")\n"
   ]
  }
 ],
 "metadata": {
  "colab": {
   "provenance": []
  },
  "kernelspec": {
   "display_name": "Python 3",
   "name": "python3"
  },
  "language_info": {
   "codemirror_mode": {
    "name": "ipython",
    "version": 3
   },
   "file_extension": ".py",
   "mimetype": "text/x-python",
   "name": "python",
   "nbconvert_exporter": "python",
   "pygments_lexer": "ipython3",
   "version": "3.9.22"
  },
  "papermill": {
   "default_parameters": {},
   "duration": 2.771154,
   "end_time": "2025-06-12T19:09:03.314593",
   "environment_variables": {},
   "exception": null,
   "input_path": "nb.ipynb",
   "output_path": "nbo.ipynb",
   "parameters": {},
   "start_time": "2025-06-12T19:09:00.543439",
   "version": "2.6.0"
  }
 },
 "nbformat": 4,
 "nbformat_minor": 5
}