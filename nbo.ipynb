{
 "cells": [
  {
   "cell_type": "code",
   "execution_count": 1,
   "id": "373ae82d",
   "metadata": {
    "colab": {
     "base_uri": "https://localhost:8080/"
    },
    "execution": {
     "iopub.execute_input": "2025-07-17T05:42:49.263464Z",
     "iopub.status.busy": "2025-07-17T05:42:49.263192Z",
     "iopub.status.idle": "2025-07-17T05:42:51.294186Z",
     "shell.execute_reply": "2025-07-17T05:42:51.293454Z"
    },
    "id": "5pYh4c8j1w43",
    "outputId": "8a0dca73-64e5-4f0d-c493-2c5b38392363",
    "papermill": {
     "duration": 2.034776,
     "end_time": "2025-07-17T05:42:51.295289",
     "exception": false,
     "start_time": "2025-07-17T05:42:49.260513",
     "status": "completed"
    },
    "tags": []
   },
   "outputs": [
    {
     "name": "stdout",
     "output_type": "stream",
     "text": [
      "Status Code: 200\n",
      "Response Headers: {'Server': 'nginx', 'Date': 'Thu, 17 Jul 2025 05:42:50 GMT', 'Content-Type': 'text/html; charset=UTF-8', 'Transfer-Encoding': 'chunked', 'Vary': 'Accept-Encoding, User-Agent', 'Set-Cookie': 'FRSPSID=1u86nj3fgsge4ul2cblihopaa7; path=/; domain=.sprzedajemy.pl; secure; HttpOnly, _items_per_page__offer_list=60; expires=Sat, 16-Aug-2025 05:42:50 GMT; Max-Age=2592000; path=/; domain=.sprzedajemy.pl; secure; httponly, observed_id=53300920068788d5adacc6557971116788432427; expires=Tue, 17-Jul-2125 06:42:50 GMT; Max-Age=3155677200; path=/; domain=.sprzedajemy.pl; secure; httponly', 'Expires': 'Thu, 19 Nov 1981 08:52:00 GMT', 'Cache-Control': 'no-store, no-cache, must-revalidate, post-check=0, pre-check=0', 'Pragma': 'no-cache', 'Content-Encoding': 'gzip'}\n",
      "Response Text (first 2000 chars): <!DOCTYPE html><html xmlns=\"http://www.w3.org/1999/xhtml\" xml:lang=\"pl\" lang=\"pl\" class=\"no-js\" >\n",
      "<head>\n",
      "\t\t\t<!-- Google Tag Manager -->\n",
      "\t\t\t<script>(function(w,d,s,l,i){w[l]=w[l]||[];w[l].push({'gtm.start':\n",
      "\t\t\t\t\t\tnew Date().getTime(),event:'gtm.js'});var f=d.getElementsByTagName(s)[0],\n",
      "\t\t\t\t\tj=d.createElement(s),dl=l!='dataLayer'?'&l='+l:'';j.async=true;j.src=\n",
      "\t\t\t\t\t'https://www.googletagmanager.com/gtm.js?id='+i+dl\n",
      "\t\t\t\t\t\t\t\t\t    ;f.parentNode.insertBefore(j,f);\n",
      "\t\t\t\t    })(window,document,'script','dataLayer','GTM-P3S238');</script>\n",
      "\t\t\t<!-- End Google Tag Manager -->\n",
      "\t<title>Mieszkania Kraków na sprzedaż, wynajem - Sprzedajemy.pl</title><meta http-equiv=\"Content-Type\" content=\"text/html; charset=UTF-8\" >\n",
      "<meta http-equiv=\"X-UA-Compatible\" content=\"IE=edge\" >\n",
      "<meta name=\"description\" content=\"Ogłoszenia o tematyce:  w kategorii Mieszkania - Kupuj i sprzedawaj rzeczy używane i nowe w kategorii Mieszkania na Sprzedajemy.pl\" >\n",
      "<meta property=\"og:title\" content=\"Mieszkania Kraków na sprzedaż, wynajem - Sprzedajemy.pl\" >\n",
      "<meta property=\"og:type\" content=\"website\" >\n",
      "<meta property=\"og:image\" content=\"https://thumbs.img-sprzedajemy.pl/facebook/sprzedajemy.pl.png\" >\n",
      "<meta property=\"og:image:width\" content=\"200\" >\n",
      "<meta property=\"og:image:height\" content=\"200\" >\n",
      "<meta property=\"og:url\" content=\"https://sprzedajemy.pl/krakow/nieruchomosci/mieszkania\" >\n",
      "<meta property=\"og:site_name\" content=\"Sprzedajemy.pl\" >\n",
      "<meta property=\"fb:app_id\" content=\"173258269367442\" >\n",
      "<meta property=\"og:description\" content=\"Ogłoszenia o tematyce:  w kategorii Mieszkania - Kupuj i sprzedawaj rzeczy używane i nowe w kategorii Mieszkania na Sprzedajemy.pl\" >\n",
      "<meta name=\"robots\" content=\"noindex, follow\" >\t\t<script  async=\"async\" src=\"https://static.criteo.net/js/ld/publishertag.js\"></script>\n",
      "        <script  async=\"async\" src=\"https://ap.lijit.com/www/sovrn_beacon_standalone/sovrn_standalone_beacon.js?iid=13417409&amp;uid=sprzedajemy\" id=\"sBeacon\"></script>\n",
      "\t\t<script  async=\"async\" src=\"https://securepuba\n",
      "Titles: ['Wyjątkowe mieszkanie z widokiem na klasztor w Tyńcu i panoramę Tatr', 'Stylowy apartament z widokiem na panoramę Krakowa - od właściciela', 'Nowoczesny apartament z panoramicznym widokiem - od właściciela', 'Kraków, Stare Miasto sprzedaż/zamiana', 'Mieszkanie na sprzedaż/zamiana 39m2', 'Mieszkanie Wola Justowska /Bielany 36m2', '4pokoje 68m2 balkon KLIMA Śródmieście BEZ PROWIZJI od właściciela', '2-pokojowe mieszkanie na Zabłociu – ciche, świetna lokalizacja!', 'Super lokalizacja! TRAMWAJ, niski czynsz, balkon, Prądnik Czerwony/Huta', 'Nowe I Wykończone I 4-pok. I Bez PCC i Prowizji', 'Mieszkanie 45.69 metrów 2 pokojowe Kraków', 'Mieszkanie kawalerka do wynajęcia w Krakowie', 'Mieszkanie 34.49m2+Loggia os. 2 Pułku Lotniczego', 'Wynajmę mieszkanie Kraków 55.8m2 3-pokojowe', 'Kawalerka do wynajęcia -Kraków Grzegórzki', 'Sprzedam mieszkanie w systemie TBS', 'Mieszkanie 2 pokojowe do wynajęcia Kraków', 'Mieszkanie 48.5m2 2 pokojowe Kraków Szuwarowa', 'Mieszkanie 80m 4 pokoje Kraków', 'Mieszkanie 41.1m2 Kraków Śliwkowa', 'Mieszkanie przy ul. Sołtysowskiej, 2 pokoje 42 m2', 'Mieszkanie 55.7m2 3-pok Kraków Łużycka', 'Bieńczyce. 3-pok.+ kuchnia+ loggia + piwnica. II p', 'Mieszkanie 46.23m2 2 pokoje Kraków Jana Kantego Federowicza', 'Kraków – 2 pokojowy apartament w wysokim standardzie w inwestycji – Piasta…', '2 oddzielne pokoje,ul.Wrocławska 53A, Rezerwacja', 'Mieszkanie 72m2 3-pokojowe Kraków Chmieleniec', 'Czyżyny, Os. Dywizjony 303, ustawne z balkonem', '2 pokoje kuchnia. Blok pośród drzew. Parking', 'Mieszkanie 59m2 3 pokoje Kraków Lubostroń', 'Mieszkanie sprzedam Kraków 58.69m2 3 pok', 'Oferta wynajmu mieszkania 38.91m2 2 pokoje Kraków Konarskiego', 'Kraków Bieżanowska - malutka ale zgrabniutka kawalerka od właściciela', 'Mieszkanie Kraków Świętokrzyska 85.3m2 4 pok', 'Mieszkanie do wynajęcia jednopokojowe 36m', 'Mieszkanie 3 pokojowe, oddzielna kuchnia, balkon', 'Sprzedam mieszkanie 3 pokojowe w Krakowie-Podgórzu', 'Sprzedam mieszkanie 41mk', 'Mieszkanie 25m2 1 pokój Kraków', 'Mieszkanie Kraków Przewóz 59.35m2 3 pok', 'Mieszkanie Kraków 35.45m2 2 pokoje', 'Piękne mieszkanie |2 pokoje + kuchnia| DO WEJŚCIA', 'Mieszkanie Kraków Przewóz 30.6m2 1-pokojowe', 'Oferta wynajmu mieszkania 45.74m2 3-pok Kraków Zygmunta Glogera', 'Mieszkanie do sprzedania Kraków Prandoty 98m2', 'Kaucja 1000 zł! 2-pokojowe mieszkanie 53 m², Prądnik Czerwony, Ugorek', 'Mieszkanie 47m2 Kraków', 'Mieszkanie 63.5m2 3 pokojowe Kraków', 'Mieszkanie do sprzedania 48m2 3 pokoje Kraków Bohaterów Września', 'Ogłoszenie mieszkanie Kraków Korczynowa 52m2', 'Mieszkanie 54m2 2-pokojowe Kraków', 'Mieszkanie 56m2 2-pok Kraków', '3 pokojowe mieszkanie ul. Bonerowska- Stare Miasto', 'Mieszkanie Kraków Młyńska 36.2m2 2-pokojowe', 'Mieszkanie 23.65m2 Kraków Kobierzyńska', 'Mieszkanie do sprzedania Kraków os. Górali 46m2 2 pokojowe', 'Oferta wynajmu mieszkania Kraków 65m2 3 pokojowe', 'Wprowadź się od zaraz! Wyposażone mieszkanie 39m² na Grzegórzkach', 'Mieszkanie Kraków os. Złotego Wieku 49 metrów 3 pokoje', 'Mieszkanie 2 pok Kraków Łobzowska Wynajem']\n",
      "60\n",
      "Prices: ['779 000 zł', '897 000 zł', '997 000 zł', '2 153 000 zł', '526 000 zł', '487 000 zł', '1 850 000 zł', '519 000 zł', '549 900 zł', '969 000 zł', '639 000 zł', '2 100 zł', '579 000 zł', '3 000 zł', '2 400 zł', '180 000 zł', '2 600 zł', '2 900 zł', '1 120 000 zł', '560 000 zł', '690 000 zł', '668 000 zł', '673 000 zł', '779 000 zł', '799 000 zł', '3 200 zł', '3 700 zł', '499 000 zł', '660 000 zł', '899 000 zł', '789 000 zł', '2 100 zł', '199 000 zł', '3 600 zł', '2 000 zł', '825 000 zł', '777 000 zł', '620 000 zł', '485 000 zł', '938 000 zł', '649 000 zł', '535 000 zł', '573 000 zł', '3 800 zł', '1 565 000 zł', '2 150 zł', '730 000 zł', '1 190 000 zł', '624 000 zł', '595 000 zł', '670 000 zł', '3 300 zł', '3 650 zł', '499 800 zł', '430 000 zł', '529 000 zł', '3 990 zł', '749 000 zł', '590 000 zł', '3 500 zł']\n",
      "60\n"
     ]
    }
   ],
   "source": [
    "import requests\n",
    "from bs4 import BeautifulSoup\n",
    "import pandas as pd\n",
    "import os\n",
    "\n",
    "url = \"https://sprzedajemy.pl/krakow/nieruchomosci/mieszkania?offset=0&items_per_page=60\"\n",
    "\n",
    "headers = {\n",
    "    \"User-Agent\": \"Mozilla/5.0 (Windows NT 10.0; Win64; x64) AppleWebKit/537.36 (KHTML, like Gecko) Chrome/58.0.3029.110 Safari/537.36\",\n",
    "    \"Accept\": \"text/html,application/xhtml+xml,application/xml;q=0.9,image/webp,image/apng,*/*;q=0.8\",\n",
    "    \"Accept-Encoding\": \"gzip, deflate, br\",\n",
    "    \"Accept-Language\": \"en-US,en;q=0.9,pl;q=0.8\",\n",
    "    \"Connection\": \"keep-alive\"\n",
    "}\n",
    "\n",
    "response = requests.get(url, headers=headers)\n",
    "response = requests.get(url, headers=headers)\n",
    "\n",
    "# Debugowanie odpowiedzi\n",
    "print(f\"Status Code: {response.status_code}\")\n",
    "print(f\"Response Headers: {response.headers}\")\n",
    "print(f\"Response Text (first 2000 chars): {response.text[:2000]}\")\n",
    "\n",
    "# Jeśli odpowiedź jest poprawna, wykonaj webscraping\n",
    "if response.status_code == 200:\n",
    "    soup = BeautifulSoup(response.content, \"html.parser\")\n",
    "\n",
    "    # Pobieranie ofert mieszkań\n",
    "    titles = [h2.a.text.strip() for h2 in soup.find_all(\"h2\", class_=\"title\") if h2.a]\n",
    "    prices = [p.text.replace(\"\\xa0\", \" \").strip() for p in soup.find_all(\"span\", class_=\"price\")]\n",
    "\n",
    "    print(\"Titles:\", titles)\n",
    "    print(len(titles))\n",
    "    print(\"Prices:\", prices)\n",
    "    print(len(prices))\n",
    "\n",
    "    df = pd.DataFrame({\"Title\": titles, \"Price\": prices})\n",
    "\n",
    "    # Dopisanie do pliku CSV\n",
    "    df.to_csv(\"scraped_data.csv\", mode='a', header=not os.path.exists('scraped_data.csv'), index=False)\n",
    "else:\n",
    "    print(\"Failed to retrieve data.\")\n"
   ]
  }
 ],
 "metadata": {
  "colab": {
   "provenance": []
  },
  "kernelspec": {
   "display_name": "Python 3",
   "name": "python3"
  },
  "language_info": {
   "codemirror_mode": {
    "name": "ipython",
    "version": 3
   },
   "file_extension": ".py",
   "mimetype": "text/x-python",
   "name": "python",
   "nbconvert_exporter": "python",
   "pygments_lexer": "ipython3",
   "version": "3.9.23"
  },
  "papermill": {
   "default_parameters": {},
   "duration": 3.22543,
   "end_time": "2025-07-17T05:42:51.512753",
   "environment_variables": {},
   "exception": null,
   "input_path": "nb.ipynb",
   "output_path": "nbo.ipynb",
   "parameters": {},
   "start_time": "2025-07-17T05:42:48.287323",
   "version": "2.6.0"
  }
 },
 "nbformat": 4,
 "nbformat_minor": 5
}