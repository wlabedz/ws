{
 "cells": [
  {
   "cell_type": "code",
   "execution_count": 1,
   "id": "3e1a133d",
   "metadata": {
    "colab": {
     "base_uri": "https://localhost:8080/"
    },
    "execution": {
     "iopub.execute_input": "2025-10-03T15:38:40.836207Z",
     "iopub.status.busy": "2025-10-03T15:38:40.835947Z",
     "iopub.status.idle": "2025-10-03T15:38:43.191827Z",
     "shell.execute_reply": "2025-10-03T15:38:43.191091Z"
    },
    "id": "5pYh4c8j1w43",
    "outputId": "8a0dca73-64e5-4f0d-c493-2c5b38392363",
    "papermill": {
     "duration": 2.359437,
     "end_time": "2025-10-03T15:38:43.193006",
     "exception": false,
     "start_time": "2025-10-03T15:38:40.833569",
     "status": "completed"
    },
    "tags": []
   },
   "outputs": [
    {
     "name": "stdout",
     "output_type": "stream",
     "text": [
      "Status Code: 200\n",
      "Response Headers: {'Server': 'nginx', 'Date': 'Fri, 03 Oct 2025 15:38:42 GMT', 'Content-Type': 'text/html; charset=UTF-8', 'Transfer-Encoding': 'chunked', 'Vary': 'Accept-Encoding, User-Agent', 'Set-Cookie': 'FRSPSID=hi19q5jsg94h49kpcmrl36aum5; path=/; domain=.sprzedajemy.pl; secure; HttpOnly, _items_per_page__offer_list=60; expires=Sun, 02-Nov-2025 15:38:42 GMT; Max-Age=2592000; path=/; domain=.sprzedajemy.pl; secure; httponly, observed_id=101855311868dfee02b954b4151762528485849389; expires=Wed, 03-Oct-2125 16:38:42 GMT; Max-Age=3155677200; path=/; domain=.sprzedajemy.pl; secure; httponly', 'Expires': 'Thu, 19 Nov 1981 08:52:00 GMT', 'Cache-Control': 'no-store, no-cache, must-revalidate, post-check=0, pre-check=0', 'Pragma': 'no-cache', 'Content-Encoding': 'gzip'}\n",
      "Response Text (first 2000 chars): <!DOCTYPE html><html xmlns=\"http://www.w3.org/1999/xhtml\" xml:lang=\"pl\" lang=\"pl\" class=\"no-js\" >\n",
      "<head>\n",
      "\t\t\t<!-- Google Tag Manager -->\n",
      "\t\t\t<script>(function(w,d,s,l,i){w[l]=w[l]||[];w[l].push({'gtm.start':\n",
      "\t\t\t\t\t\tnew Date().getTime(),event:'gtm.js'});var f=d.getElementsByTagName(s)[0],\n",
      "\t\t\t\t\tj=d.createElement(s),dl=l!='dataLayer'?'&l='+l:'';j.async=true;j.src=\n",
      "\t\t\t\t\t'https://www.googletagmanager.com/gtm.js?id='+i+dl\n",
      "\t\t\t\t\t\t\t\t\t    ;f.parentNode.insertBefore(j,f);\n",
      "\t\t\t\t    })(window,document,'script','dataLayer','GTM-P3S238');</script>\n",
      "\t\t\t<!-- End Google Tag Manager -->\n",
      "\t<title>Mieszkania Kraków na sprzedaż, wynajem - Sprzedajemy.pl</title><meta http-equiv=\"Content-Type\" content=\"text/html; charset=UTF-8\" >\n",
      "<meta http-equiv=\"X-UA-Compatible\" content=\"IE=edge\" >\n",
      "<meta name=\"description\" content=\"Ogłoszenia o tematyce:  w kategorii Mieszkania - Kupuj i sprzedawaj rzeczy używane i nowe w kategorii Mieszkania na Sprzedajemy.pl\" >\n",
      "<meta property=\"og:title\" content=\"Mieszkania Kraków na sprzedaż, wynajem - Sprzedajemy.pl\" >\n",
      "<meta property=\"og:type\" content=\"website\" >\n",
      "<meta property=\"og:image\" content=\"https://thumbs.img-sprzedajemy.pl/facebook/sprzedajemy.pl.png\" >\n",
      "<meta property=\"og:image:width\" content=\"200\" >\n",
      "<meta property=\"og:image:height\" content=\"200\" >\n",
      "<meta property=\"og:url\" content=\"https://sprzedajemy.pl/krakow/nieruchomosci/mieszkania\" >\n",
      "<meta property=\"og:site_name\" content=\"Sprzedajemy.pl\" >\n",
      "<meta property=\"fb:app_id\" content=\"173258269367442\" >\n",
      "<meta property=\"og:description\" content=\"Ogłoszenia o tematyce:  w kategorii Mieszkania - Kupuj i sprzedawaj rzeczy używane i nowe w kategorii Mieszkania na Sprzedajemy.pl\" >\n",
      "<meta name=\"robots\" content=\"noindex, follow\" >\t\t<script  async=\"async\" src=\"https://static.criteo.net/js/ld/publishertag.js\"></script>\n",
      "        <script  async=\"async\" src=\"https://ap.lijit.com/www/sovrn_beacon_standalone/sovrn_standalone_beacon.js?iid=13417409&amp;uid=sprzedajemy\" id=\"sBeacon\"></script>\n",
      "\t\t<script  async=\"async\" src=\"https://securepuba\n",
      "Titles: ['Sprzedam dwupokojowe mieszkanie os. Dywizjonu 303, 19C Kraków', 'Mieszkanie Wzgórza Krzesławickie bez prowizji.', 'Kraków – Bieńczyce, os. Kazimierzowskie', 'Mieszkanie z widokiem na góry', 'Podedworze 13', 'Mieszkanie 3-pokojowe Zakrzówek Ruczaj wynajem na 9 miesięcy', 'Wyjątkowy lokal przy ul. Krowoderskiej z widokiem na stronę ogrodową', 'Dwa pokoje - stare miasto - Do wejścia - Własność', 'Kraków, Stare Miasto sprzedaż/zamiana', 'Sprzedam mieszkanie Kraków 71.2m2 4 pokojowe', 'Sprzedam mieszkanie 64.89m2 4 pokoje Kraków Kantrowicka', 'Mieszkanie Kraków Babińskiego 72.4m2', 'Mieszkanie 70.67m2 2-pokojowe Kraków Wadowicka', 'Mieszkanie 93.14 metry 4-pokojowe Kraków', 'Mieszkanie na sprzedaż 47.61m2 Kraków Grzegórzki', 'Mieszkanie Kraków 51.54m2 3 pokojowe', 'Mieszkanie do sprzedania 70.67m2 4 pok Kraków', 'Ogłoszenie mieszkanie 49.63m2 3 pokojowe Kraków Piasta Kołodzieja', 'Oferta sprzedaży mieszkania 41.06m2 2-pokojowe Kraków Na Błonie', 'Mieszkanie 38.94m2 2 pok Kraków Pękowicka', 'Mieszkanie Kraków Wadowicka 68.78m2 3-pokojowe', 'Mieszkanie na sprzedaż Kraków 35.27m2 2-pok', 'Mieszkanie Kraków Wadowicka 69.31m2 2 pokoje', 'Mieszkanie Kraków 65.46m2', 'Mieszkanie 48.28m2 3 pok Kraków Pękowicka', 'Mieszkanie 45.84m2 2 pokojowe Kraków Wadowicka', 'Mieszkanie 38.51m2 2-pokojowe Kraków', 'Mieszkanie 58m2 3-pok Kraków ul. dr. Jana Piltza', 'Mieszkanie 52.07m2 Kraków', 'Sprzedaż mieszkania 44.29 metrów 2 pok Kraków', 'Oferta sprzedaży mieszkania 51.53m2 3-pokojowe Kraków Pękowicka', 'Mieszkanie 33.25m2 1-pok Kraków', 'Mieszkanie 64.42m2 3 pokojowe Kraków Wadowicka', 'Mieszkanie 38.09m2 2 pokoje Kraków', 'Oferta sprzedaży mieszkania 62.46m2 3 pokoje Kraków Wadowicka', 'Sprzedam mieszkanie 31.74m2 1 pokój Kraków Babińskiego', 'Mieszkanie sprzedam 34.79m2 2 pokoje Kraków Kantrowicka', 'Mieszkanie Kraków 29 listopada - okolice 36.77m2', 'Mieszkanie Kraków 40.29m2', 'Mieszkanie 64.84m2 4-pokojowe Kraków Pękowicka', 'Mieszkanie Kraków Wadowicka 62.46m2 3-pokojowe', 'Sprzedam mieszkanie 60m2 3 pokoje Kraków prof. Michała Bobrzyńskiego', 'Mieszkanie 51.34m2 3 pokoje Kraków', 'Mieszkanie Kraków 76.84 metry', 'Wyjątkowy |Gotowy| Balkon| Bez PCC Bez Prowizji |', 'Oferta sprzedaży mieszkania Kraków Piasta Kołodzieja 50.23m2 3-pok', 'Mieszkanie Kraków Kantrowicka 51.54m2 3 pokoje', 'Mieszkanie Kraków Wadowicka 62.06m2 3-pokojowe', 'Ogłoszenie mieszkanie Kraków 39.05m2 2 pokojowe', 'Mieszkanie Kraków Bosacka 59m2 2 pokojowe', 'Mieszkanie 31.74 metry 1 pokój Kraków', 'Mieszkanie na sprzedaż Kraków 43.35m2 2-pokojowe', 'Oferta sprzedaży mieszkania 57.1m2 3-pokojowe Kraków Na Błonie', 'Mieszkanie Kraków 47.43m2 2-pok', 'Mieszkanie Kraków 37.06m 2 pokoje', 'Mieszkanie do sprzedania Kraków Piasta Kołodzieja 71.45m2 4 pokoje', 'Mieszkanie Kraków Praska 120.23m 4 pokoje', 'Mieszkanie Kraków Bukowa 47.73m2 2 pok', 'Mieszkanie na sprzedaż 37.41m2 2 pokoje Kraków', 'Oferta sprzedaży mieszkania Kraków Bukowa 46.21 metrów 2-pok']\n",
      "60\n",
      "Prices: ['620 000 zł', '719 000 zł', '579 000 zł', '265 000 zł', '542 000 zł', '3 100 zł', '1 340 000 zł', '715 155 zł', '2 015 000 zł', '890 000 zł', '811 125 zł', '1 245 280 zł', '1 158 988 zł', '1 350 530 zł', '1 003 780 zł', '695 790 zł', '1 180 189 zł', '709 709 zł', '753 743 zł', '661 980 zł', '1 127 992 zł', '642 280 zł', '1 136 684 zł', '1 139 004 zł', '796 620 zł', '829 704 zł', '729 817 zł', '1 049 000 zł', '866 772 zł', '664 350 zł', '847 668 zł', '611 800 zł', '1 088 698 zł', '655 148 zł', '1 055 574 zł', '599 886 zł', '479 232 zł', '634 797 zł', '680 901 zł', '1 040 682 zł', '1 055 574 zł', '1 050 000 zł', '844 543 zł', '1 335 000 zł', '954 336 zł', '733 358 zł', '695 790 zł', '1 086 050 zł', '663 850 zł', '1 250 000 zł', '631 626 zł', '806 310 zł', '1 054 637 zł', '929 628 zł', '633 726 zł', '900 270 zł', '3 000 000 zł', '577 533 zł', '745 028 zł', '554 520 zł']\n",
      "60\n"
     ]
    }
   ],
   "source": [
    "import requests\n",
    "from bs4 import BeautifulSoup\n",
    "import pandas as pd\n",
    "import os\n",
    "\n",
    "url = \"https://sprzedajemy.pl/krakow/nieruchomosci/mieszkania?offset=0&items_per_page=60\"\n",
    "\n",
    "headers = {\n",
    "    \"User-Agent\": \"Mozilla/5.0 (Windows NT 10.0; Win64; x64) AppleWebKit/537.36 (KHTML, like Gecko) Chrome/58.0.3029.110 Safari/537.36\",\n",
    "    \"Accept\": \"text/html,application/xhtml+xml,application/xml;q=0.9,image/webp,image/apng,*/*;q=0.8\",\n",
    "    \"Accept-Encoding\": \"gzip, deflate, br\",\n",
    "    \"Accept-Language\": \"en-US,en;q=0.9,pl;q=0.8\",\n",
    "    \"Connection\": \"keep-alive\"\n",
    "}\n",
    "\n",
    "response = requests.get(url, headers=headers)\n",
    "response = requests.get(url, headers=headers)\n",
    "\n",
    "# Debugowanie odpowiedzi\n",
    "print(f\"Status Code: {response.status_code}\")\n",
    "print(f\"Response Headers: {response.headers}\")\n",
    "print(f\"Response Text (first 2000 chars): {response.text[:2000]}\")\n",
    "\n",
    "# Jeśli odpowiedź jest poprawna, wykonaj webscraping\n",
    "if response.status_code == 200:\n",
    "    soup = BeautifulSoup(response.content, \"html.parser\")\n",
    "\n",
    "    # Pobieranie ofert mieszkań\n",
    "    titles = [h2.a.text.strip() for h2 in soup.find_all(\"h2\", class_=\"title\") if h2.a]\n",
    "    prices = [p.text.replace(\"\\xa0\", \" \").strip() for p in soup.find_all(\"span\", class_=\"price\")]\n",
    "\n",
    "    print(\"Titles:\", titles)\n",
    "    print(len(titles))\n",
    "    print(\"Prices:\", prices)\n",
    "    print(len(prices))\n",
    "\n",
    "    df = pd.DataFrame({\"Title\": titles, \"Price\": prices})\n",
    "\n",
    "    # Dopisanie do pliku CSV\n",
    "    df.to_csv(\"scraped_data.csv\", mode='a', header=not os.path.exists('scraped_data.csv'), index=False)\n",
    "else:\n",
    "    print(\"Failed to retrieve data.\")\n"
   ]
  }
 ],
 "metadata": {
  "colab": {
   "provenance": []
  },
  "kernelspec": {
   "display_name": "Python 3",
   "name": "python3"
  },
  "language_info": {
   "codemirror_mode": {
    "name": "ipython",
    "version": 3
   },
   "file_extension": ".py",
   "mimetype": "text/x-python",
   "name": "python",
   "nbconvert_exporter": "python",
   "pygments_lexer": "ipython3",
   "version": "3.9.23"
  },
  "papermill": {
   "default_parameters": {},
   "duration": 3.476416,
   "end_time": "2025-10-03T15:38:43.409597",
   "environment_variables": {},
   "exception": null,
   "input_path": "nb.ipynb",
   "output_path": "nbo.ipynb",
   "parameters": {},
   "start_time": "2025-10-03T15:38:39.933181",
   "version": "2.6.0"
  }
 },
 "nbformat": 4,
 "nbformat_minor": 5
}