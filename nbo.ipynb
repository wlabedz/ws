{
 "cells": [
  {
   "cell_type": "code",
   "execution_count": 1,
   "id": "ec4a5df4",
   "metadata": {
    "colab": {
     "base_uri": "https://localhost:8080/"
    },
    "execution": {
     "iopub.execute_input": "2025-10-03T15:29:07.607200Z",
     "iopub.status.busy": "2025-10-03T15:29:07.606942Z",
     "iopub.status.idle": "2025-10-03T15:29:09.861072Z",
     "shell.execute_reply": "2025-10-03T15:29:09.860355Z"
    },
    "id": "5pYh4c8j1w43",
    "outputId": "8a0dca73-64e5-4f0d-c493-2c5b38392363",
    "papermill": {
     "duration": 2.257728,
     "end_time": "2025-10-03T15:29:09.862222",
     "exception": false,
     "start_time": "2025-10-03T15:29:07.604494",
     "status": "completed"
    },
    "tags": []
   },
   "outputs": [
    {
     "name": "stdout",
     "output_type": "stream",
     "text": [
      "Status Code: 200\n",
      "Response Headers: {'Server': 'nginx', 'Date': 'Fri, 03 Oct 2025 15:29:09 GMT', 'Content-Type': 'text/html; charset=UTF-8', 'Transfer-Encoding': 'chunked', 'Vary': 'Accept-Encoding, User-Agent', 'Set-Cookie': 'FRSPSID=g5f1bj80e4e4km8st3e09l45o3; path=/; domain=.sprzedajemy.pl; secure; HttpOnly, _items_per_page__offer_list=60; expires=Sun, 02-Nov-2025 15:29:09 GMT; Max-Age=2592000; path=/; domain=.sprzedajemy.pl; secure; httponly, observed_id=38812719568dfebc565849028066869680345522; expires=Wed, 03-Oct-2125 16:29:09 GMT; Max-Age=3155677200; path=/; domain=.sprzedajemy.pl; secure; httponly', 'Expires': 'Thu, 19 Nov 1981 08:52:00 GMT', 'Cache-Control': 'no-store, no-cache, must-revalidate, post-check=0, pre-check=0', 'Pragma': 'no-cache', 'Content-Encoding': 'gzip'}\n",
      "Response Text (first 2000 chars): <!DOCTYPE html><html xmlns=\"http://www.w3.org/1999/xhtml\" xml:lang=\"pl\" lang=\"pl\" class=\"no-js\" >\n",
      "<head>\n",
      "\t\t\t<!-- Google Tag Manager -->\n",
      "\t\t\t<script>(function(w,d,s,l,i){w[l]=w[l]||[];w[l].push({'gtm.start':\n",
      "\t\t\t\t\t\tnew Date().getTime(),event:'gtm.js'});var f=d.getElementsByTagName(s)[0],\n",
      "\t\t\t\t\tj=d.createElement(s),dl=l!='dataLayer'?'&l='+l:'';j.async=true;j.src=\n",
      "\t\t\t\t\t'https://www.googletagmanager.com/gtm.js?id='+i+dl\n",
      "\t\t\t\t\t\t\t\t\t    ;f.parentNode.insertBefore(j,f);\n",
      "\t\t\t\t    })(window,document,'script','dataLayer','GTM-P3S238');</script>\n",
      "\t\t\t<!-- End Google Tag Manager -->\n",
      "\t<title>Mieszkania Kraków na sprzedaż, wynajem - Sprzedajemy.pl</title><meta http-equiv=\"Content-Type\" content=\"text/html; charset=UTF-8\" >\n",
      "<meta http-equiv=\"X-UA-Compatible\" content=\"IE=edge\" >\n",
      "<meta name=\"description\" content=\"Ogłoszenia o tematyce:  w kategorii Mieszkania - Kupuj i sprzedawaj rzeczy używane i nowe w kategorii Mieszkania na Sprzedajemy.pl\" >\n",
      "<meta property=\"og:title\" content=\"Mieszkania Kraków na sprzedaż, wynajem - Sprzedajemy.pl\" >\n",
      "<meta property=\"og:type\" content=\"website\" >\n",
      "<meta property=\"og:image\" content=\"https://thumbs.img-sprzedajemy.pl/facebook/sprzedajemy.pl.png\" >\n",
      "<meta property=\"og:image:width\" content=\"200\" >\n",
      "<meta property=\"og:image:height\" content=\"200\" >\n",
      "<meta property=\"og:url\" content=\"https://sprzedajemy.pl/krakow/nieruchomosci/mieszkania\" >\n",
      "<meta property=\"og:site_name\" content=\"Sprzedajemy.pl\" >\n",
      "<meta property=\"fb:app_id\" content=\"173258269367442\" >\n",
      "<meta property=\"og:description\" content=\"Ogłoszenia o tematyce:  w kategorii Mieszkania - Kupuj i sprzedawaj rzeczy używane i nowe w kategorii Mieszkania na Sprzedajemy.pl\" >\n",
      "<meta name=\"robots\" content=\"noindex, follow\" >\t\t<script  async=\"async\" src=\"https://static.criteo.net/js/ld/publishertag.js\"></script>\n",
      "        <script  async=\"async\" src=\"https://ap.lijit.com/www/sovrn_beacon_standalone/sovrn_standalone_beacon.js?iid=13417409&amp;uid=sprzedajemy\" id=\"sBeacon\"></script>\n",
      "\t\t<script  async=\"async\" src=\"https://securepuba\n",
      "Titles: ['Sprzedam dwupokojowe mieszkanie os. Dywizjonu 303, 19C Kraków', 'Mieszkanie Wzgórza Krzesławickie bez prowizji.', 'Kraków – Bieńczyce, os. Kazimierzowskie', 'Mieszkanie z widokiem na góry', 'Podedworze 13', 'Mieszkanie 3-pokojowe Zakrzówek Ruczaj wynajem na 9 miesięcy', 'Wyjątkowy lokal przy ul. Krowoderskiej z widokiem na stronę ogrodową', 'Dwa pokoje - stare miasto - Do wejścia - Własność', 'Kraków, Stare Miasto sprzedaż/zamiana', 'Mieszkanie 38.13m2 2 pok Kraków Na Błonie', 'Mieszkanie Kraków 53.81m2 4 pokoje', 'Oferta sprzedaży mieszkania 94.68m2 4 pokoje Kraków', 'Mieszkanie 41.12m2 1 pok Kraków Na Błonie', 'Mieszkanie Kraków 71.23m2 4-pokojowe', 'Oferta sprzedaży mieszkania 45.84m2 2 pokoje Kraków Wadowicka', 'Mieszkanie Kraków 33.25m2', 'Mieszkanie 51.86m2 3 pokoje Kraków Pękowicka', 'Mieszkanie 32.79m2 1 pokój Kraków', 'Oferta sprzedaży mieszkania Kraków Babińskiego 83.9m2 3 pokoje', 'Mieszkanie Kraków 50.63m 3 pokojowe', 'Mieszkanie Kraków Zdzisława Przebindowskiego 113.08m2', 'Mieszkanie Kraków 43.35m2 2 pokoje', 'Mieszkanie 60.55m2 3-pokojowe Kraków Wadowicka', 'Sprzedam mieszkanie Kraków Dąbrowskiego 41.3m2 2 pokoje', 'Mieszkanie 73.62m2 Kraków', 'Mieszkanie 59.63 metry Kraków', 'Mieszkanie Kraków 39.65m2 2-pokojowe', 'Do sprzedaży mieszkanie 62.01m2 4 pokoje Kraków', 'Mieszkanie do sprzedania Kraków Erazma Jerzmanowskiego 39.2m2 2 pokoje', 'Mieszkanie 73.62m2 Kraków', 'Mieszkanie sprzedam 45.84m2 2 pokojowe Kraków', 'Oferta sprzedaży mieszkania 45.84m2 2-pokojowe Kraków Wadowicka', 'Sprzedaż mieszkania 38.16m2 2-pokojowe Kraków Na Błonie', 'Sprzedam mieszkanie 54.28 metrów 3 pokoje Kraków Pękowicka', 'Mieszkanie na sprzedaż Kraków Na Błonie 38.09m2 2 pokojowe', 'Mieszkanie 49.59m2 3 pokoje Kraków Piasta Kołodzieja', 'Mieszkanie na sprzedaż Kraków 70.96m2 4 pokojowe', 'Do sprzedaży mieszkanie Kraków 44.29m2 2 pok', 'Mieszkanie 114.76m2 5-pokojowe Kraków', 'Mieszkanie Kraków 71.47m2 3 pok', 'Mieszkanie 51.42m2 Kraków Pękowicka', 'Mieszkanie Kraków 51.95m2 3-pok', 'Mieszkanie Kraków Babińskiego 31.74m2 1-pok', 'Mieszkanie Kraków 70.88m2 4 pokojowe', 'Oferta sprzedaży mieszkania 90.38m2 4 pokojowe Kraków', 'Mieszkanie 74.25m2 4-pok Kraków', 'Mieszkanie 38.65 metrów 2 pokoje Kraków Na Błonie', 'Mieszkanie Kraków Wadowicka 68.88m2 4 pokoje', 'Mieszkanie 65.13m2 4-pokojowe Kraków Pękowicka', 'Mieszkanie Kraków Wadowicka 64.42m', 'Mieszkanie Kraków Grzegórzki 29.96m2 1-pokojowe', 'Mieszkanie Kraków 61.13m2 4 pokoje', 'Mieszkanie Kraków Piasta Kołodzieja 56.19m 3 pokoje', 'Mieszkanie 45.38 metrów Kraków Wadowicka', 'Mieszkanie 36.91m2 2 pokoje Kraków 29 listopada - okolice', 'Mieszkanie Kraków Kantrowicka 51.42 metry 3 pokoje', 'Mieszkanie Kraków Pękowicka 64.92 metry 4 pokoje', 'Oferta sprzedaży mieszkania Kraków 51.43m2 3 pokoje', 'Mieszkanie Kraków 35.26m2 2 pokoje', 'Mieszkanie 39.1m2 2-pokojowe Kraków']\n",
      "60\n",
      "Prices: ['620 000 zł', '719 000 zł', '579 000 zł', '265 000 zł', '542 000 zł', '3 100 zł', '1 340 000 zł', '715 155 zł', '2 015 000 zł', '743 260 zł', '871 722 zł', '1 287 648 zł', '737 476 zł', '897 498 zł', '857 208 zł', '628 425 zł', '855 690 zł', '636 126 zł', '1 334 010 zł', '848 052 zł', '1 895 801 zł', '762 960 zł', '938 525 zł', '813 381 zł', '1 133 748 zł', '986 876 zł', '672 067 zł', '1 004 562 zł', '585 000 zł', '1 148 472 zł', '820 536 zł', '838 872 zł', '708 428 zł', '879 336 zł', '754 804 zł', '694 260 zł', '865 712 zł', '668 779 zł', '1 732 876 zł', '1 177 182 zł', '848 430 zł', '851 980 zł', '615 756 zł', '1 162 432 zł', '1 418 966 zł', '1 134 000 zł', '779 918 zł', '1 046 976 zł', '1 045 336 zł', '1 140 234 zł', '689 000 zł', '987 249 zł', '741 708 zł', '821 378 zł', '641 918 zł', '635 987 zł', '1 045 212 zł', '848 595 zł', '632 124 zł', '662 745 zł']\n",
      "60\n"
     ]
    }
   ],
   "source": [
    "import requests\n",
    "from bs4 import BeautifulSoup\n",
    "import pandas as pd\n",
    "import os\n",
    "\n",
    "url = \"https://sprzedajemy.pl/krakow/nieruchomosci/mieszkania?offset=0&items_per_page=60\"\n",
    "\n",
    "headers = {\n",
    "    \"User-Agent\": \"Mozilla/5.0 (Windows NT 10.0; Win64; x64) AppleWebKit/537.36 (KHTML, like Gecko) Chrome/58.0.3029.110 Safari/537.36\",\n",
    "    \"Accept\": \"text/html,application/xhtml+xml,application/xml;q=0.9,image/webp,image/apng,*/*;q=0.8\",\n",
    "    \"Accept-Encoding\": \"gzip, deflate, br\",\n",
    "    \"Accept-Language\": \"en-US,en;q=0.9,pl;q=0.8\",\n",
    "    \"Connection\": \"keep-alive\"\n",
    "}\n",
    "\n",
    "response = requests.get(url, headers=headers)\n",
    "response = requests.get(url, headers=headers)\n",
    "\n",
    "# Debugowanie odpowiedzi\n",
    "print(f\"Status Code: {response.status_code}\")\n",
    "print(f\"Response Headers: {response.headers}\")\n",
    "print(f\"Response Text (first 2000 chars): {response.text[:2000]}\")\n",
    "\n",
    "# Jeśli odpowiedź jest poprawna, wykonaj webscraping\n",
    "if response.status_code == 200:\n",
    "    soup = BeautifulSoup(response.content, \"html.parser\")\n",
    "\n",
    "    # Pobieranie ofert mieszkań\n",
    "    titles = [h2.a.text.strip() for h2 in soup.find_all(\"h2\", class_=\"title\") if h2.a]\n",
    "    prices = [p.text.replace(\"\\xa0\", \" \").strip() for p in soup.find_all(\"span\", class_=\"price\")]\n",
    "\n",
    "    print(\"Titles:\", titles)\n",
    "    print(len(titles))\n",
    "    print(\"Prices:\", prices)\n",
    "    print(len(prices))\n",
    "\n",
    "    df = pd.DataFrame({\"Title\": titles, \"Price\": prices})\n",
    "\n",
    "    # Dopisanie do pliku CSV\n",
    "    df.to_csv(\"scraped_data.csv\", mode='a', header=not os.path.exists('scraped_data.csv'), index=False)\n",
    "else:\n",
    "    print(\"Failed to retrieve data.\")\n"
   ]
  }
 ],
 "metadata": {
  "colab": {
   "provenance": []
  },
  "kernelspec": {
   "display_name": "Python 3",
   "name": "python3"
  },
  "language_info": {
   "codemirror_mode": {
    "name": "ipython",
    "version": 3
   },
   "file_extension": ".py",
   "mimetype": "text/x-python",
   "name": "python",
   "nbconvert_exporter": "python",
   "pygments_lexer": "ipython3",
   "version": "3.9.23"
  },
  "papermill": {
   "default_parameters": {},
   "duration": 3.356641,
   "end_time": "2025-10-03T15:29:10.079389",
   "environment_variables": {},
   "exception": null,
   "input_path": "nb.ipynb",
   "output_path": "nbo.ipynb",
   "parameters": {},
   "start_time": "2025-10-03T15:29:06.722748",
   "version": "2.6.0"
  }
 },
 "nbformat": 4,
 "nbformat_minor": 5
}