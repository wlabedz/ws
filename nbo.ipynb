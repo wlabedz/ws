{
 "cells": [
  {
   "cell_type": "code",
   "execution_count": 1,
   "id": "57821376",
   "metadata": {
    "colab": {
     "base_uri": "https://localhost:8080/"
    },
    "execution": {
     "iopub.execute_input": "2025-10-23T05:54:57.311104Z",
     "iopub.status.busy": "2025-10-23T05:54:57.310814Z",
     "iopub.status.idle": "2025-10-23T05:54:59.545480Z",
     "shell.execute_reply": "2025-10-23T05:54:59.544921Z"
    },
    "id": "5pYh4c8j1w43",
    "outputId": "8a0dca73-64e5-4f0d-c493-2c5b38392363",
    "papermill": {
     "duration": 2.238312,
     "end_time": "2025-10-23T05:54:59.546628",
     "exception": false,
     "start_time": "2025-10-23T05:54:57.308316",
     "status": "completed"
    },
    "tags": []
   },
   "outputs": [
    {
     "name": "stdout",
     "output_type": "stream",
     "text": [
      "Status Code: 200\n",
      "Response Headers: {'Server': 'nginx', 'Date': 'Thu, 23 Oct 2025 05:54:59 GMT', 'Content-Type': 'text/html; charset=UTF-8', 'Transfer-Encoding': 'chunked', 'Vary': 'Accept-Encoding, User-Agent', 'Set-Cookie': 'FRSPSID=vv8tl5o30fmi4q4s8eii7krhu1; path=/; domain=.sprzedajemy.pl; secure; HttpOnly, _items_per_page__offer_list=60; expires=Sat, 22-Nov-2025 05:54:58 GMT; Max-Age=2592000; path=/; domain=.sprzedajemy.pl; secure; httponly, observed_id=12567343368f9c3330c3da485995497333548522; expires=Tue, 23-Oct-2125 06:54:59 GMT; Max-Age=3155677200; path=/; domain=.sprzedajemy.pl; secure; httponly', 'Expires': 'Thu, 19 Nov 1981 08:52:00 GMT', 'Cache-Control': 'no-store, no-cache, must-revalidate, post-check=0, pre-check=0', 'Pragma': 'no-cache', 'Content-Encoding': 'gzip'}\n",
      "Response Text (first 2000 chars): <!DOCTYPE html><html xmlns=\"http://www.w3.org/1999/xhtml\" xml:lang=\"pl\" lang=\"pl\" class=\"no-js\" >\n",
      "<head>\n",
      "\t\t\t<!-- Google Tag Manager -->\n",
      "\t\t\t<script>(function(w,d,s,l,i){w[l]=w[l]||[];w[l].push({'gtm.start':\n",
      "\t\t\t\t\t\tnew Date().getTime(),event:'gtm.js'});var f=d.getElementsByTagName(s)[0],\n",
      "\t\t\t\t\tj=d.createElement(s),dl=l!='dataLayer'?'&l='+l:'';j.async=true;j.src=\n",
      "\t\t\t\t\t'https://www.googletagmanager.com/gtm.js?id='+i+dl\n",
      "\t\t\t\t\t\t\t\t\t    ;f.parentNode.insertBefore(j,f);\n",
      "\t\t\t\t    })(window,document,'script','dataLayer','GTM-P3S238');</script>\n",
      "\t\t\t<!-- End Google Tag Manager -->\n",
      "\t<title>Mieszkania Kraków na sprzedaż, wynajem - Sprzedajemy.pl</title><meta http-equiv=\"Content-Type\" content=\"text/html; charset=UTF-8\" >\n",
      "<meta http-equiv=\"X-UA-Compatible\" content=\"IE=edge\" >\n",
      "<meta name=\"description\" content=\"Ogłoszenia o tematyce:  w kategorii Mieszkania - Kupuj i sprzedawaj rzeczy używane i nowe w kategorii Mieszkania na Sprzedajemy.pl\" >\n",
      "<meta property=\"og:title\" content=\"Mieszkania Kraków na sprzedaż, wynajem - Sprzedajemy.pl\" >\n",
      "<meta property=\"og:type\" content=\"website\" >\n",
      "<meta property=\"og:image\" content=\"https://thumbs.img-sprzedajemy.pl/facebook/sprzedajemy.pl.png\" >\n",
      "<meta property=\"og:image:width\" content=\"200\" >\n",
      "<meta property=\"og:image:height\" content=\"200\" >\n",
      "<meta property=\"og:url\" content=\"https://sprzedajemy.pl/krakow/nieruchomosci/mieszkania\" >\n",
      "<meta property=\"og:site_name\" content=\"Sprzedajemy.pl\" >\n",
      "<meta property=\"fb:app_id\" content=\"173258269367442\" >\n",
      "<meta property=\"og:description\" content=\"Ogłoszenia o tematyce:  w kategorii Mieszkania - Kupuj i sprzedawaj rzeczy używane i nowe w kategorii Mieszkania na Sprzedajemy.pl\" >\n",
      "<meta name=\"robots\" content=\"noindex, follow\" >\t\t<script  async=\"async\" src=\"https://static.criteo.net/js/ld/publishertag.js\"></script>\n",
      "        <script  async=\"async\" src=\"https://ap.lijit.com/www/sovrn_beacon_standalone/sovrn_standalone_beacon.js?iid=13417409&amp;uid=sprzedajemy\" id=\"sBeacon\"></script>\n",
      "\t\t<script  async=\"async\" src=\"https://securepuba\n",
      "Titles: ['Mieszkanie Wzgórza Krzesławickie bez prowizji.', 'Sprzedam dwupokojowe mieszkanie (balkon, piwnica) os. Dywizjonu 303, 19C K…', 'Mieszkanie 3-pokojowe Zakrzówek Ruczaj ul. Pychowicka wynajem od właścicie…', 'Kraków, Stare Miasto sprzedaż/zamiana', 'Mieszkanie z widokiem na góry', 'Grzegorzki mieszkanie na sprzedaż 30 m', 'Apartament, 2 pokoje, jadalnia, garaż,Krowodrza', 'Mieszkanie do sprzedania Kraków 50.12m2 2 pokoje', 'Mieszkanie 55.75m2 Kraków 29 listopada - okolice', 'sprzedam kawalerkę w dobrej lokalizacji', 'Mieszkanie 45.69 metrów 2 pokojowe Kraków', 'Wynajmę dwupokojowe mieszkanie 35 m2 Kraków os. Na Wzgórzach.', 'Mieszkanie Kraków 70.5m2 3 pokoje', 'Mieszkanie 42.03m2 2 pokoje Kraków bp. Albina Małysiaka', 'Oferta sprzedaży mieszkania Kraków 48m2 2-pok', '2 pokoje i 38m2 | balkon i zieleń | Dębniki Kraków', '2 pokoje, do remontu, MPEC, os.Jagiellońskie', 'Mieszkanie 80m 4 pokoje Kraków', 'Mieszkanie sprzedam 54.5m2 2 pokoje Kraków Szlak', 'Sprzedam mieszkanie Kraków Bociana 44.13m2 2 pokoje', 'Mieszkanie 46.23m2 2 pokoje Kraków Jana Kantego Federowicza', 'Komfortowe mieszkanie na wynajem Kraków Telimeny Teligii Ćwiklińskiej Bież…', 'Mieszkanie 46m2 3-pok Kraków Rusznikarska', 'Mieszkanie 42m2 1 pokojowe Kraków', 'Wynajmę 2 pok / LUBLANSKA / okazja', 'Mieszkanie 35m2 1 pokojowe Kraków Na Barciach', 'Mieszkanie 59.17m2 3-pokojowe Kraków Bieżanów', 'Mieszkanie 2-pokojowe Z Jasną Kuchnią Kraków-Krowodrza, Umeblowane', 'Mieszkanie 47.32m2 2 pokojowe Kraków Aleja Kijowska', 'Ogłoszenie mieszkanie Kraków 28m2 1 pokojowe', 'Mieszkanie wynajmę 72.26m2 3 pokoje Kraków Modrzejewskiej', 'Oferta sprzedaży mieszkania 49.2m2 3 pokoje Kraków Borkowska', 'Mieszkanie 53.44m2 2 pokoje Kraków Młyńska', 'Duży pokój Kraków, J. Mackiewicza - Prądnik Biały', '3-pokoje osobne - Ugorek, pet friendly', 'Mieszkanie na sprzedaż 33.3m2 2 pokoje Kraków Serbska', 'Ogłoszenie mieszkanie Kraków Hoffmanowej 72.78m2 3 pokojowe', 'Mieszkanie 48m2 2 pokoje Kraków Kołowa', 'Oferta sprzedaży mieszkania 46.71m2 2-pokojowe Kraków Bohaterów Września', 'Mieszkanie Kraków Westerplatte 41m2 1 pokój', 'Mieszkanie 62.2m2 2-pokojowe Kraków Osiedle na Wzgórzach', 'Mieszkanie na sprzedaż Kraków Aleja Kijowska 56.4m2 3-pokojowe', 'Do wynajecia mieszkanie dwupokojowe 52 m Kapelanka 6a', '2pokoje, oddzielna kuchnia,os.Albertyńskie,Czyżyny', 'Mieszkanie 64.96m2 3-pokojowe Kraków', 'Mieszkanie do sprzedania Kraków 180m2 4 pokoje', 'Mieszkanie Kraków Piastów 65.07m2 3-pokojowe', 'Mieszkanie Kraków 45m 2-pok', 'Nowe i GOTOWE | 2-pokojowe |ostatnie piętro | Vetulaniego | 39m2', 'Mieszkanie sprzedam Kraków Jana Kantego Federowicza 28.37m2 1-pokojowe', 'Mieszkanie na wynajem', 'Mieszkanie Os. Avia Kraków, widok na góry', 'Kraków – Bieńczyce, os. Kazimierzowskie', 'Do wynajęcia 1-pokojowe mieszkanie os. Jagiellońskie Kraków Nowa Huta', 'Wynajmę mieszkanie z oddzielną kuchnią przy ul. Sarmackiej', 'Mieszkanie 24.74m2 1 pokój Kraków', 'Mieszkanie 31m2 2 pokoje Kraków', 'Oferta wynajmu mieszkania Kraków 49.42m2 2 pokoje', 'Mieszkanie do sprzedania Kraków Prandoty 98m2', 'Nowoczesne 3-pokojowe mieszkanie 48 m² – Pachońskiego / od zaraz']\n",
      "60\n",
      "Prices: ['670 000 zł', '600 000 zł', '3 000 zł', '2 015 000 zł', '265 000 zł', '549 000 zł', '3 800 zł', '744 840 zł', '756 514 zł', '590 000 zł', '639 000 zł', '2 100 zł', '1 099 000 zł', '3 200 zł', '598 000 zł', '515 000 zł', '435 000 zł', '1 120 000 zł', '950 000 zł', '650 000 zł', '779 000 zł', '2 600 zł', '699 000 zł', '2 600 zł', '2 800 zł', '2 300 zł', '780 000 zł', '2 100 zł', '1 031 528 zł', '1 750 zł', '3 500 zł', '675 000 zł', '620 000 zł', '1 350 zł', '3 400 zł', '575 000 zł', '1 428 000 zł', '3 000 zł', '699 000 zł', '2 800 zł', '864 000 zł', '1 240 743 zł', '3 500 zł', '639 999 zł', '730 000 zł', '2 800 000 zł', '795 000 zł', '4 000 zł', '745 000 zł', '498 000 zł', '2 500 zł', '998 000 zł', '579 000 zł', '1 900 zł', '2 200 zł', '449 000 zł', '3 200 zł', '2 700 zł', '1 565 000 zł', '3 500 zł']\n",
      "60\n"
     ]
    }
   ],
   "source": [
    "import requests\n",
    "from bs4 import BeautifulSoup\n",
    "import pandas as pd\n",
    "import os\n",
    "\n",
    "url = \"https://sprzedajemy.pl/krakow/nieruchomosci/mieszkania?offset=0&items_per_page=60\"\n",
    "\n",
    "headers = {\n",
    "    \"User-Agent\": \"Mozilla/5.0 (Windows NT 10.0; Win64; x64) AppleWebKit/537.36 (KHTML, like Gecko) Chrome/58.0.3029.110 Safari/537.36\",\n",
    "    \"Accept\": \"text/html,application/xhtml+xml,application/xml;q=0.9,image/webp,image/apng,*/*;q=0.8\",\n",
    "    \"Accept-Encoding\": \"gzip, deflate, br\",\n",
    "    \"Accept-Language\": \"en-US,en;q=0.9,pl;q=0.8\",\n",
    "    \"Connection\": \"keep-alive\"\n",
    "}\n",
    "\n",
    "response = requests.get(url, headers=headers)\n",
    "response = requests.get(url, headers=headers)\n",
    "\n",
    "# Debugowanie odpowiedzi\n",
    "print(f\"Status Code: {response.status_code}\")\n",
    "print(f\"Response Headers: {response.headers}\")\n",
    "print(f\"Response Text (first 2000 chars): {response.text[:2000]}\")\n",
    "\n",
    "# Jeśli odpowiedź jest poprawna, wykonaj webscraping\n",
    "if response.status_code == 200:\n",
    "    soup = BeautifulSoup(response.content, \"html.parser\")\n",
    "\n",
    "    # Pobieranie ofert mieszkań\n",
    "    titles = [h2.a.text.strip() for h2 in soup.find_all(\"h2\", class_=\"title\") if h2.a]\n",
    "    prices = [p.text.replace(\"\\xa0\", \" \").strip() for p in soup.find_all(\"span\", class_=\"price\")]\n",
    "\n",
    "    print(\"Titles:\", titles)\n",
    "    print(len(titles))\n",
    "    print(\"Prices:\", prices)\n",
    "    print(len(prices))\n",
    "\n",
    "    df = pd.DataFrame({\"Title\": titles, \"Price\": prices})\n",
    "\n",
    "    # Dopisanie do pliku CSV\n",
    "    df.to_csv(\"scraped_data.csv\", mode='a', header=not os.path.exists('scraped_data.csv'), index=False)\n",
    "else:\n",
    "    print(\"Failed to retrieve data.\")\n"
   ]
  }
 ],
 "metadata": {
  "colab": {
   "provenance": []
  },
  "kernelspec": {
   "display_name": "Python 3",
   "name": "python3"
  },
  "language_info": {
   "codemirror_mode": {
    "name": "ipython",
    "version": 3
   },
   "file_extension": ".py",
   "mimetype": "text/x-python",
   "name": "python",
   "nbconvert_exporter": "python",
   "pygments_lexer": "ipython3",
   "version": "3.9.23"
  },
  "papermill": {
   "default_parameters": {},
   "duration": 3.424254,
   "end_time": "2025-10-23T05:54:59.763408",
   "environment_variables": {},
   "exception": null,
   "input_path": "nb.ipynb",
   "output_path": "nbo.ipynb",
   "parameters": {},
   "start_time": "2025-10-23T05:54:56.339154",
   "version": "2.6.0"
  }
 },
 "nbformat": 4,
 "nbformat_minor": 5
}