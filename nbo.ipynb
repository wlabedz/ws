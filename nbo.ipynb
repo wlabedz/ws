{
 "cells": [
  {
   "cell_type": "code",
   "execution_count": 1,
   "id": "542e513f",
   "metadata": {
    "colab": {
     "base_uri": "https://localhost:8080/"
    },
    "execution": {
     "iopub.execute_input": "2025-10-18T23:14:36.003605Z",
     "iopub.status.busy": "2025-10-18T23:14:36.003375Z",
     "iopub.status.idle": "2025-10-18T23:14:38.254334Z",
     "shell.execute_reply": "2025-10-18T23:14:38.253591Z"
    },
    "id": "5pYh4c8j1w43",
    "outputId": "8a0dca73-64e5-4f0d-c493-2c5b38392363",
    "papermill": {
     "duration": 2.25408,
     "end_time": "2025-10-18T23:14:38.255430",
     "exception": false,
     "start_time": "2025-10-18T23:14:36.001350",
     "status": "completed"
    },
    "tags": []
   },
   "outputs": [
    {
     "name": "stdout",
     "output_type": "stream",
     "text": [
      "Status Code: 200\n",
      "Response Headers: {'Server': 'nginx', 'Date': 'Sat, 18 Oct 2025 23:14:37 GMT', 'Content-Type': 'text/html; charset=UTF-8', 'Transfer-Encoding': 'chunked', 'Vary': 'Accept-Encoding, User-Agent', 'Set-Cookie': 'FRSPSID=fiuap0q7bn5vpnivnj0eshu3n5; path=/; domain=.sprzedajemy.pl; secure; HttpOnly, _items_per_page__offer_list=60; expires=Mon, 17-Nov-2025 23:14:37 GMT; Max-Age=2592000; path=/; domain=.sprzedajemy.pl; secure; httponly, observed_id=159750606468f41f5dd073533968366636775070; expires=Fri, 19-Oct-2125 00:14:37 GMT; Max-Age=3155677200; path=/; domain=.sprzedajemy.pl; secure; httponly', 'Expires': 'Thu, 19 Nov 1981 08:52:00 GMT', 'Cache-Control': 'no-store, no-cache, must-revalidate, post-check=0, pre-check=0', 'Pragma': 'no-cache', 'Content-Encoding': 'gzip'}\n",
      "Response Text (first 2000 chars): <!DOCTYPE html><html xmlns=\"http://www.w3.org/1999/xhtml\" xml:lang=\"pl\" lang=\"pl\" class=\"no-js\" >\n",
      "<head>\n",
      "\t\t\t<!-- Google Tag Manager -->\n",
      "\t\t\t<script>(function(w,d,s,l,i){w[l]=w[l]||[];w[l].push({'gtm.start':\n",
      "\t\t\t\t\t\tnew Date().getTime(),event:'gtm.js'});var f=d.getElementsByTagName(s)[0],\n",
      "\t\t\t\t\tj=d.createElement(s),dl=l!='dataLayer'?'&l='+l:'';j.async=true;j.src=\n",
      "\t\t\t\t\t'https://www.googletagmanager.com/gtm.js?id='+i+dl\n",
      "\t\t\t\t\t\t\t\t\t    ;f.parentNode.insertBefore(j,f);\n",
      "\t\t\t\t    })(window,document,'script','dataLayer','GTM-P3S238');</script>\n",
      "\t\t\t<!-- End Google Tag Manager -->\n",
      "\t<title>Mieszkania Kraków na sprzedaż, wynajem - Sprzedajemy.pl</title><meta http-equiv=\"Content-Type\" content=\"text/html; charset=UTF-8\" >\n",
      "<meta http-equiv=\"X-UA-Compatible\" content=\"IE=edge\" >\n",
      "<meta name=\"description\" content=\"Ogłoszenia o tematyce:  w kategorii Mieszkania - Kupuj i sprzedawaj rzeczy używane i nowe w kategorii Mieszkania na Sprzedajemy.pl\" >\n",
      "<meta property=\"og:title\" content=\"Mieszkania Kraków na sprzedaż, wynajem - Sprzedajemy.pl\" >\n",
      "<meta property=\"og:type\" content=\"website\" >\n",
      "<meta property=\"og:image\" content=\"https://thumbs.img-sprzedajemy.pl/facebook/sprzedajemy.pl.png\" >\n",
      "<meta property=\"og:image:width\" content=\"200\" >\n",
      "<meta property=\"og:image:height\" content=\"200\" >\n",
      "<meta property=\"og:url\" content=\"https://sprzedajemy.pl/krakow/nieruchomosci/mieszkania\" >\n",
      "<meta property=\"og:site_name\" content=\"Sprzedajemy.pl\" >\n",
      "<meta property=\"fb:app_id\" content=\"173258269367442\" >\n",
      "<meta property=\"og:description\" content=\"Ogłoszenia o tematyce:  w kategorii Mieszkania - Kupuj i sprzedawaj rzeczy używane i nowe w kategorii Mieszkania na Sprzedajemy.pl\" >\n",
      "<meta name=\"robots\" content=\"noindex, follow\" >\t\t<script  async=\"async\" src=\"https://static.criteo.net/js/ld/publishertag.js\"></script>\n",
      "        <script  async=\"async\" src=\"https://ap.lijit.com/www/sovrn_beacon_standalone/sovrn_standalone_beacon.js?iid=13417409&amp;uid=sprzedajemy\" id=\"sBeacon\"></script>\n",
      "\t\t<script  async=\"async\" src=\"https://securepuba\n",
      "Titles: ['Kraków, Stare Miasto sprzedaż/zamiana', 'Mieszkanie z widokiem na góry', 'Grzegorzki mieszkanie na sprzedaż 30 m', 'Mieszkanie 3-pokojowe Zakrzówek Ruczaj ul. Pychowicka wynajem od właścicie…', 'Mieszkanie Wzgórza Krzesławickie bez prowizji.', 'Mieszkanie 51.04m2 2 pokoje Kraków Kazimierza Wielkiego', 'Apartament nad morzem od właściciela / Słoneczny Brzeg!', 'Wynajmę mieszkanie Kraków 8.8m2 1 pokojowe', 'Mieszkanie 2-pokojowe Z Jasną Kuchnią Kraków-Krowodrza, Umeblowane', 'Mieszkanie z garażem i komórką lokatorską', 'ul.Felińskiego, piękne 3 pokoje, garaż', 'Mieszkanie z widokiem!', 'Wynajmę mieszkanie', 'DWUPOKOJOWE ul.Rakowicka', 'Mieszkanie Kraków 52m2 2 pokoje', 'Do wynajęcia Kawalerka (20m) na ul.Mazowieckiej', 'Mieszkanie sprzedam 87.98m2 5 pokojowe Kraków', 'Do wynajęcia mieszkanie Kraków Walerego Sławka 32m2 1 pokój', 'WYNAJMĘ od zaraz mieszkanie 3 pokojowe-Krowodrza - Prądnik Biały-49 m2', 'Sprzedam dwupokojowe mieszkanie (balkon, piwnica) os. Dywizjonu 303, 19C K…', 'Mieszkanie 47.8m2 3 pokoje Kraków Nawojki', 'Mieszkanie do sprzedania 36.05m2 2 pokoje Kraków Imbramowska', 'Oferta wynajmu mieszkania Kraków Urzędnicza 94m2 3 pok', 'Oferta sprzedaży mieszkania 38.69 metrów Kraków', 'Oferta sprzedaży mieszkania 23.06m2 1 pokój Kraków Dietla', 'Mieszkanie Kraków Cieszyńska 36m2 2-pokojowe', 'Mieszkanie Kraków 27.25m2', 'Mieszkanie 35m2 2 pokoje Kraków', 'Mieszkanie Kraków Imbramowska 38.69m2 3 pokoje', 'Mieszkanie Kraków Jasnogórska 62.19m2 3-pokojowe', 'Sprzedaż mieszkania Kraków Lubomirskiego 103.1m2 4-pokojowe', 'Ogłoszenie mieszkanie Kraków Walerego Sławka 52.01 metrów', 'Oferta sprzedaży mieszkania Kraków Fabryczna 58.65m2 2 pokoje', 'Mieszkanie 120.46m2 3 pokoje Kraków Retoryka', 'Sprzedaż mieszkania Kraków 129.06m2 3-pokojowe', 'Mieszkanie Kraków os. Zielone 67m2', 'Mieszkanie Kraków Krowoderska 105.9 metrów 3 pokoje', 'Mieszkanie 48.36m2 Kraków', 'Mieszkanie sprzedam 38.69m2 2 pok Kraków Imbramowska', 'Mieszkanie Kraków św. Sebastiana 51.9m2 2 pokoje', 'Oferta sprzedaży mieszkania 51.51m2 2 pok Kraków Żywiecka', 'Sprzedaż mieszkania Kraków Jasnogórska 62.19m2 3 pokoje', 'Oferta sprzedaży mieszkania Kraków 83.4m2 3-pok', 'Ogłoszenie mieszkanie Kraków dr. Jana Piltza 67.9m2 3-pok', 'Oferta sprzedaży mieszkania Kraków Imbramowska 38.69m2 2 pokoje', 'Mieszkanie 67.5m2 3-pok Kraków', 'Ogłoszenie mieszkanie 35.31m2 2 pokoje Kraków Mitery', 'Mieszkanie 38.69m2 Kraków Imbramowska', 'Mieszkanie Kraków Rydlówka 36.95m2', 'Sprzedam mieszkanie Kraków Imbramowska 38.69 metrów 2 pokojowe', 'Mieszkanie Kraków 38.69m2 2 pokoje', 'Mieszkanie Kraków 62.19 metrów 2 pok', 'Mieszkanie 112m2 5 pokoi Kraków', 'Oferta wynajmu mieszkania Kraków Bosacka 59m 2 pokoje', 'Oferta sprzedaży mieszkania Kraków 55.27m2 3-pokojowe', 'Oferta sprzedaży mieszkania Kraków 122.05m2 3 pok', 'Sprzedaż mieszkania 90.48m2 4-pokojowe Kraków', 'Sprzedam mieszkanie Kraków Macieja Dębskiego 49.5m2 3 pok', 'Wynajmę mieszkanie 51m2 2 pokojowe Kraków', 'Mieszkanie 45 metrów Kraków']\n",
      "60\n",
      "Prices: ['2 015 000 zł', '265 000 zł', '549 000 zł', '3 000 zł', '670 000 zł', '969 000 zł', '277 700 zł', '1 500 zł', '2 300 zł', '2 100 zł', '770 000 zł', '670 000 zł', '2 500 zł', '2 400 zł', '489 000 zł', '1 930 zł', '1 499 000 zł', '2 000 zł', '3 300 zł', '600 000 zł', '1 250 000 zł', '499 000 zł', '5 500 zł', '1 068 760 zł', '480 000 zł', '919 000 zł', '435 764 zł', '875 000 zł', '886 950 zł', '858 222 zł', '2 083 000 zł', '2 800 zł', '914 559 zł', '3 210 461 zł', '3 999 828 zł', '759 000 zł', '8 500 zł', '1 199 500 zł', '673 920 zł', '1 599 000 zł', '669 000 zł', '858 222 zł', '1 599 000 zł', '1 100 000 zł', '794 252 zł', '1 199 875 zł', '689 000 zł', '678 020 zł', '790 000 zł', '879 384 zł', '742 295 zł', '870 660 zł', '2 190 000 zł', '3 200 zł', '880 000 zł', '3 782 574 zł', '1 511 016 zł', '770 000 zł', '4 000 zł', '650 000 zł']\n",
      "60\n"
     ]
    }
   ],
   "source": [
    "import requests\n",
    "from bs4 import BeautifulSoup\n",
    "import pandas as pd\n",
    "import os\n",
    "\n",
    "url = \"https://sprzedajemy.pl/krakow/nieruchomosci/mieszkania?offset=0&items_per_page=60\"\n",
    "\n",
    "headers = {\n",
    "    \"User-Agent\": \"Mozilla/5.0 (Windows NT 10.0; Win64; x64) AppleWebKit/537.36 (KHTML, like Gecko) Chrome/58.0.3029.110 Safari/537.36\",\n",
    "    \"Accept\": \"text/html,application/xhtml+xml,application/xml;q=0.9,image/webp,image/apng,*/*;q=0.8\",\n",
    "    \"Accept-Encoding\": \"gzip, deflate, br\",\n",
    "    \"Accept-Language\": \"en-US,en;q=0.9,pl;q=0.8\",\n",
    "    \"Connection\": \"keep-alive\"\n",
    "}\n",
    "\n",
    "response = requests.get(url, headers=headers)\n",
    "response = requests.get(url, headers=headers)\n",
    "\n",
    "# Debugowanie odpowiedzi\n",
    "print(f\"Status Code: {response.status_code}\")\n",
    "print(f\"Response Headers: {response.headers}\")\n",
    "print(f\"Response Text (first 2000 chars): {response.text[:2000]}\")\n",
    "\n",
    "# Jeśli odpowiedź jest poprawna, wykonaj webscraping\n",
    "if response.status_code == 200:\n",
    "    soup = BeautifulSoup(response.content, \"html.parser\")\n",
    "\n",
    "    # Pobieranie ofert mieszkań\n",
    "    titles = [h2.a.text.strip() for h2 in soup.find_all(\"h2\", class_=\"title\") if h2.a]\n",
    "    prices = [p.text.replace(\"\\xa0\", \" \").strip() for p in soup.find_all(\"span\", class_=\"price\")]\n",
    "\n",
    "    print(\"Titles:\", titles)\n",
    "    print(len(titles))\n",
    "    print(\"Prices:\", prices)\n",
    "    print(len(prices))\n",
    "\n",
    "    df = pd.DataFrame({\"Title\": titles, \"Price\": prices})\n",
    "\n",
    "    # Dopisanie do pliku CSV\n",
    "    df.to_csv(\"scraped_data.csv\", mode='a', header=not os.path.exists('scraped_data.csv'), index=False)\n",
    "else:\n",
    "    print(\"Failed to retrieve data.\")\n"
   ]
  }
 ],
 "metadata": {
  "colab": {
   "provenance": []
  },
  "kernelspec": {
   "display_name": "Python 3",
   "name": "python3"
  },
  "language_info": {
   "codemirror_mode": {
    "name": "ipython",
    "version": 3
   },
   "file_extension": ".py",
   "mimetype": "text/x-python",
   "name": "python",
   "nbconvert_exporter": "python",
   "pygments_lexer": "ipython3",
   "version": "3.9.24"
  },
  "papermill": {
   "default_parameters": {},
   "duration": 3.402412,
   "end_time": "2025-10-18T23:14:38.473741",
   "environment_variables": {},
   "exception": null,
   "input_path": "nb.ipynb",
   "output_path": "nbo.ipynb",
   "parameters": {},
   "start_time": "2025-10-18T23:14:35.071329",
   "version": "2.6.0"
  }
 },
 "nbformat": 4,
 "nbformat_minor": 5
}