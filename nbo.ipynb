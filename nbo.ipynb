{
 "cells": [
  {
   "cell_type": "code",
   "execution_count": 1,
   "id": "ed2b2395",
   "metadata": {
    "colab": {
     "base_uri": "https://localhost:8080/"
    },
    "execution": {
     "iopub.execute_input": "2025-10-17T17:44:23.673172Z",
     "iopub.status.busy": "2025-10-17T17:44:23.672898Z",
     "iopub.status.idle": "2025-10-17T17:44:25.862171Z",
     "shell.execute_reply": "2025-10-17T17:44:25.861470Z"
    },
    "id": "5pYh4c8j1w43",
    "outputId": "8a0dca73-64e5-4f0d-c493-2c5b38392363",
    "papermill": {
     "duration": 2.192983,
     "end_time": "2025-10-17T17:44:25.863349",
     "exception": false,
     "start_time": "2025-10-17T17:44:23.670366",
     "status": "completed"
    },
    "tags": []
   },
   "outputs": [
    {
     "name": "stdout",
     "output_type": "stream",
     "text": [
      "Status Code: 200\n",
      "Response Headers: {'Server': 'nginx', 'Date': 'Fri, 17 Oct 2025 17:44:25 GMT', 'Content-Type': 'text/html; charset=UTF-8', 'Transfer-Encoding': 'chunked', 'Vary': 'Accept-Encoding, User-Agent', 'Set-Cookie': 'FRSPSID=8kng8ii2cbqqb2u2hl13uh6jp2; path=/; domain=.sprzedajemy.pl; secure; HttpOnly, _items_per_page__offer_list=60; expires=Sun, 16-Nov-2025 17:44:25 GMT; Max-Age=2592000; path=/; domain=.sprzedajemy.pl; secure; httponly, observed_id=37136741968f280796dd32883503822316686944; expires=Wed, 17-Oct-2125 18:44:25 GMT; Max-Age=3155677200; path=/; domain=.sprzedajemy.pl; secure; httponly', 'Expires': 'Thu, 19 Nov 1981 08:52:00 GMT', 'Cache-Control': 'no-store, no-cache, must-revalidate, post-check=0, pre-check=0', 'Pragma': 'no-cache', 'Content-Encoding': 'gzip'}\n",
      "Response Text (first 2000 chars): <!DOCTYPE html><html xmlns=\"http://www.w3.org/1999/xhtml\" xml:lang=\"pl\" lang=\"pl\" class=\"no-js\" >\n",
      "<head>\n",
      "\t\t\t<!-- Google Tag Manager -->\n",
      "\t\t\t<script>(function(w,d,s,l,i){w[l]=w[l]||[];w[l].push({'gtm.start':\n",
      "\t\t\t\t\t\tnew Date().getTime(),event:'gtm.js'});var f=d.getElementsByTagName(s)[0],\n",
      "\t\t\t\t\tj=d.createElement(s),dl=l!='dataLayer'?'&l='+l:'';j.async=true;j.src=\n",
      "\t\t\t\t\t'https://www.googletagmanager.com/gtm.js?id='+i+dl\n",
      "\t\t\t\t\t\t\t\t\t    ;f.parentNode.insertBefore(j,f);\n",
      "\t\t\t\t    })(window,document,'script','dataLayer','GTM-P3S238');</script>\n",
      "\t\t\t<!-- End Google Tag Manager -->\n",
      "\t<title>Mieszkania Kraków na sprzedaż, wynajem - Sprzedajemy.pl</title><meta http-equiv=\"Content-Type\" content=\"text/html; charset=UTF-8\" >\n",
      "<meta http-equiv=\"X-UA-Compatible\" content=\"IE=edge\" >\n",
      "<meta name=\"description\" content=\"Ogłoszenia o tematyce:  w kategorii Mieszkania - Kupuj i sprzedawaj rzeczy używane i nowe w kategorii Mieszkania na Sprzedajemy.pl\" >\n",
      "<meta property=\"og:title\" content=\"Mieszkania Kraków na sprzedaż, wynajem - Sprzedajemy.pl\" >\n",
      "<meta property=\"og:type\" content=\"website\" >\n",
      "<meta property=\"og:image\" content=\"https://thumbs.img-sprzedajemy.pl/facebook/sprzedajemy.pl.png\" >\n",
      "<meta property=\"og:image:width\" content=\"200\" >\n",
      "<meta property=\"og:image:height\" content=\"200\" >\n",
      "<meta property=\"og:url\" content=\"https://sprzedajemy.pl/krakow/nieruchomosci/mieszkania\" >\n",
      "<meta property=\"og:site_name\" content=\"Sprzedajemy.pl\" >\n",
      "<meta property=\"fb:app_id\" content=\"173258269367442\" >\n",
      "<meta property=\"og:description\" content=\"Ogłoszenia o tematyce:  w kategorii Mieszkania - Kupuj i sprzedawaj rzeczy używane i nowe w kategorii Mieszkania na Sprzedajemy.pl\" >\n",
      "<meta name=\"robots\" content=\"noindex, follow\" >\t\t<script  async=\"async\" src=\"https://static.criteo.net/js/ld/publishertag.js\"></script>\n",
      "        <script  async=\"async\" src=\"https://ap.lijit.com/www/sovrn_beacon_standalone/sovrn_standalone_beacon.js?iid=13417409&amp;uid=sprzedajemy\" id=\"sBeacon\"></script>\n",
      "\t\t<script  async=\"async\" src=\"https://securepuba\n",
      "Titles: ['Mieszkanie z widokiem na góry', 'Grzegorzki mieszkanie na sprzedaż 30 m', 'Mieszkanie 3-pokojowe Zakrzówek Ruczaj ul. Pychowicka wynajem od właścicie…', 'Kraków, Stare Miasto sprzedaż/zamiana', 'Mieszkanie Wzgórza Krzesławickie bez prowizji.', 'Oferta sprzedaży mieszkania 57.19m2 3 pokojowe Kraków', 'Mieszkanie 41.16 metrów Kraków', 'Do sprzedaży mieszkanie 55.81m2 Kraków', 'Oferta sprzedaży mieszkania Kraków Henryka i Karola Czeczów 62.62m 3-pokojowe', 'Mieszkanie Kraków Na Błonie 52.24m2 2 pokoje', 'Mieszkanie Kraków 38.93m2 2 pok', 'Ogłoszenie mieszkanie 38.67m2 2 pok Kraków Na Błonie', 'Mieszkanie Kraków Romanowicza 35.94m2', 'Mieszkanie Kraków Wadowicka 70.88m 4 pokoje', 'Mieszkanie Kraków Pękowicka 56.34m2 3 pokoje', 'Mieszkanie Kraków Piasta Kołodzieja 50.23m2 3-pokojowe', 'Mieszkanie 63m2 4 pokoje Kraków', 'Mieszkanie Kraków Wadowicka 83.1m2 4 pok', 'Mieszkanie 69.31m2 3 pokojowe Kraków Wadowicka', 'Mieszkanie 57.09m2 3 pokoje Kraków Na Błonie', 'Do sprzedaży mieszkanie 90.48m2 4-pokojowe Kraków Babińskiego', 'Mieszkanie 38.19m2 2-pok Kraków Pękowicka', 'Mieszkanie Kraków 49.63m2 3 pokoje', 'Mieszkanie 27.42m2 1 pokojowe Kraków Pękowicka', 'Oferta sprzedaży mieszkania Kraków 58.95m2 3 pokojowe', 'Oferta sprzedaży mieszkania 51.54m2 3 pokojowe Kraków Kantrowicka', 'Oferta sprzedaży mieszkania 35.12m2 2-pokojowe Kraków', 'Mieszkanie Kraków Wadowicka 43.57m2 2 pokoje', 'Sprzedam mieszkanie Kraków Wadowicka 51.71 metrów 2 pokoje', 'Oferta sprzedaży mieszkania Kraków 65m2 3 pokoje', 'Mieszkanie 70.88m2 3-pokojowe Kraków', 'Mieszkanie do sprzedania Kraków 39.29m2 2 pok', 'Mieszkanie na sprzedaż 96.96m2 3-pok Kraków Na Błonie', 'Mieszkanie Kraków Kantrowicka 65.16m2 4 pokojowe', 'Oferta sprzedaży mieszkania Kraków Wadowicka 43.35m2 2-pok', 'Mieszkanie sprzedam 57.14m2 3 pok Kraków Chełmońskiego', 'Mieszkanie Kraków Augustiańska 37.35m2 2-pokojowe', 'Mieszkanie Kraków Wadowicka 51.71 metrów 2-pokojowe', 'Mieszkanie Kraków os. Dywizjonu 303 73m2 3 pokojowe', 'Sprzedam mieszkanie 80.41m2 4-pokojowe Kraków Na Błonie', 'Mieszkanie Kraków Babińskiego 59.85m2 3 pokojowe', 'Mieszkanie Kraków 40.61m2 1 pokój', 'Mieszkanie 50.23m2 3 pokoje Kraków', 'Mieszkanie do sprzedania 52.45m2 Kraków Na Błonie', 'Mieszkanie 65.46m2 3-pok Kraków Wadowicka', 'Mieszkanie 65.16m2 4 pokoje Kraków Kantrowicka', 'Do sprzedaży mieszkanie 54.62m2 3-pok Kraków', 'Mieszkanie Kraków 55.09m2 2 pokoje', 'Mieszkanie Kraków 51.54m2 3-pokojowe', 'Oferta sprzedaży mieszkania 43.35m2 2 pokojowe Kraków', 'Mieszkanie Kraków 35.97m2', 'Mieszkanie 56.3m2 3 pokojowe Kraków Pękowicka', 'Mieszkanie 74.03m2 3 pokojowe Kraków', 'Mieszkanie 36.09m2 2-pokojowe Kraków Kantrowicka', 'Mieszkanie 52.32m2 3 pokojowe Kraków', 'Mieszkanie Kraków 29 listopada - okolice 35.26m2 2-pokojowe', 'Mieszkanie Kraków Gramatyka 47.8m2 3-pok', 'Mieszkanie Kraków Wadowicka 44.95 metrów 2 pok', 'Mieszkanie 62.88m2 3 pokojowe Kraków', 'Mieszkanie sprzedam Kraków Wadowicka 46.32m2']\n",
      "60\n",
      "Prices: ['265 000 zł', '549 000 zł', '3 000 zł', '2 015 000 zł', '670 000 zł', '657 685 zł', '747 400 zł', '785 525 zł', '978 000 zł', '877 486 zł', '618 987 zł', '749 109 zł', '3 030 zł', '1 204 960 zł', '785 943 zł', '743 404 zł', '891 450 zł', '1 296 360 zł', '1 150 546 zł', '1 057 763 zł', '1 465 776 zł', '613 904 zł', '709 709 zł', '484 648 zł', '1 055 912 zł', '670 020 zł', '600 552 zł', '806 045 zł', '889 754 zł', '890 000 zł', '1 169 520 zł', '624 711 zł', '1 639 981 zł', '773 775 zł', '806 310 zł', '912 000 zł', '897 000 zł', '879 070 zł', '900 000 zł', '1 354 265 zł', '1 029 420 zł', '621 333 zł', '708 243 zł', '834 701 zł', '1 099 728 zł', '835 677 zł', '781 066 zł', '930 919 zł', '670 020 zł', '788 970 zł', '642 859 zł', '788 200 zł', '1 698 000 zł', '505 260 zł', '855 432 zł', '657 206 zł', '940 000 zł', '822 585 zł', '987 216 zł', '866 184 zł']\n",
      "60\n"
     ]
    }
   ],
   "source": [
    "import requests\n",
    "from bs4 import BeautifulSoup\n",
    "import pandas as pd\n",
    "import os\n",
    "\n",
    "url = \"https://sprzedajemy.pl/krakow/nieruchomosci/mieszkania?offset=0&items_per_page=60\"\n",
    "\n",
    "headers = {\n",
    "    \"User-Agent\": \"Mozilla/5.0 (Windows NT 10.0; Win64; x64) AppleWebKit/537.36 (KHTML, like Gecko) Chrome/58.0.3029.110 Safari/537.36\",\n",
    "    \"Accept\": \"text/html,application/xhtml+xml,application/xml;q=0.9,image/webp,image/apng,*/*;q=0.8\",\n",
    "    \"Accept-Encoding\": \"gzip, deflate, br\",\n",
    "    \"Accept-Language\": \"en-US,en;q=0.9,pl;q=0.8\",\n",
    "    \"Connection\": \"keep-alive\"\n",
    "}\n",
    "\n",
    "response = requests.get(url, headers=headers)\n",
    "response = requests.get(url, headers=headers)\n",
    "\n",
    "# Debugowanie odpowiedzi\n",
    "print(f\"Status Code: {response.status_code}\")\n",
    "print(f\"Response Headers: {response.headers}\")\n",
    "print(f\"Response Text (first 2000 chars): {response.text[:2000]}\")\n",
    "\n",
    "# Jeśli odpowiedź jest poprawna, wykonaj webscraping\n",
    "if response.status_code == 200:\n",
    "    soup = BeautifulSoup(response.content, \"html.parser\")\n",
    "\n",
    "    # Pobieranie ofert mieszkań\n",
    "    titles = [h2.a.text.strip() for h2 in soup.find_all(\"h2\", class_=\"title\") if h2.a]\n",
    "    prices = [p.text.replace(\"\\xa0\", \" \").strip() for p in soup.find_all(\"span\", class_=\"price\")]\n",
    "\n",
    "    print(\"Titles:\", titles)\n",
    "    print(len(titles))\n",
    "    print(\"Prices:\", prices)\n",
    "    print(len(prices))\n",
    "\n",
    "    df = pd.DataFrame({\"Title\": titles, \"Price\": prices})\n",
    "\n",
    "    # Dopisanie do pliku CSV\n",
    "    df.to_csv(\"scraped_data.csv\", mode='a', header=not os.path.exists('scraped_data.csv'), index=False)\n",
    "else:\n",
    "    print(\"Failed to retrieve data.\")\n"
   ]
  }
 ],
 "metadata": {
  "colab": {
   "provenance": []
  },
  "kernelspec": {
   "display_name": "Python 3",
   "name": "python3"
  },
  "language_info": {
   "codemirror_mode": {
    "name": "ipython",
    "version": 3
   },
   "file_extension": ".py",
   "mimetype": "text/x-python",
   "name": "python",
   "nbconvert_exporter": "python",
   "pygments_lexer": "ipython3",
   "version": "3.9.23"
  },
  "papermill": {
   "default_parameters": {},
   "duration": 3.391643,
   "end_time": "2025-10-17T17:44:26.081407",
   "environment_variables": {},
   "exception": null,
   "input_path": "nb.ipynb",
   "output_path": "nbo.ipynb",
   "parameters": {},
   "start_time": "2025-10-17T17:44:22.689764",
   "version": "2.6.0"
  }
 },
 "nbformat": 4,
 "nbformat_minor": 5
}