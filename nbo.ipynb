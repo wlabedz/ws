{
 "cells": [
  {
   "cell_type": "code",
   "execution_count": 1,
   "id": "f3763c99",
   "metadata": {
    "colab": {
     "base_uri": "https://localhost:8080/"
    },
    "execution": {
     "iopub.execute_input": "2025-10-17T17:27:50.151111Z",
     "iopub.status.busy": "2025-10-17T17:27:50.150834Z",
     "iopub.status.idle": "2025-10-17T17:27:52.750013Z",
     "shell.execute_reply": "2025-10-17T17:27:52.749279Z"
    },
    "id": "5pYh4c8j1w43",
    "outputId": "8a0dca73-64e5-4f0d-c493-2c5b38392363",
    "papermill": {
     "duration": 2.602529,
     "end_time": "2025-10-17T17:27:52.751148",
     "exception": false,
     "start_time": "2025-10-17T17:27:50.148619",
     "status": "completed"
    },
    "tags": []
   },
   "outputs": [
    {
     "name": "stdout",
     "output_type": "stream",
     "text": [
      "Status Code: 200\n",
      "Response Headers: {'Server': 'nginx', 'Date': 'Fri, 17 Oct 2025 17:27:52 GMT', 'Content-Type': 'text/html; charset=UTF-8', 'Transfer-Encoding': 'chunked', 'Vary': 'Accept-Encoding, User-Agent', 'Set-Cookie': 'FRSPSID=aefgqlhr6hugppl6oerm7ufea3; path=/; domain=.sprzedajemy.pl; secure; HttpOnly, _items_per_page__offer_list=60; expires=Sun, 16-Nov-2025 17:27:52 GMT; Max-Age=2592000; path=/; domain=.sprzedajemy.pl; secure; httponly, observed_id=53600225368f27c98445e6247342943212795675; expires=Wed, 17-Oct-2125 18:27:52 GMT; Max-Age=3155677200; path=/; domain=.sprzedajemy.pl; secure; httponly', 'Expires': 'Thu, 19 Nov 1981 08:52:00 GMT', 'Cache-Control': 'no-store, no-cache, must-revalidate, post-check=0, pre-check=0', 'Pragma': 'no-cache', 'Content-Encoding': 'gzip'}\n",
      "Response Text (first 2000 chars): <!DOCTYPE html><html xmlns=\"http://www.w3.org/1999/xhtml\" xml:lang=\"pl\" lang=\"pl\" class=\"no-js\" >\n",
      "<head>\n",
      "\t\t\t<!-- Google Tag Manager -->\n",
      "\t\t\t<script>(function(w,d,s,l,i){w[l]=w[l]||[];w[l].push({'gtm.start':\n",
      "\t\t\t\t\t\tnew Date().getTime(),event:'gtm.js'});var f=d.getElementsByTagName(s)[0],\n",
      "\t\t\t\t\tj=d.createElement(s),dl=l!='dataLayer'?'&l='+l:'';j.async=true;j.src=\n",
      "\t\t\t\t\t'https://www.googletagmanager.com/gtm.js?id='+i+dl\n",
      "\t\t\t\t\t\t\t\t\t    ;f.parentNode.insertBefore(j,f);\n",
      "\t\t\t\t    })(window,document,'script','dataLayer','GTM-P3S238');</script>\n",
      "\t\t\t<!-- End Google Tag Manager -->\n",
      "\t<title>Mieszkania Kraków na sprzedaż, wynajem - Sprzedajemy.pl</title><meta http-equiv=\"Content-Type\" content=\"text/html; charset=UTF-8\" >\n",
      "<meta http-equiv=\"X-UA-Compatible\" content=\"IE=edge\" >\n",
      "<meta name=\"description\" content=\"Ogłoszenia o tematyce:  w kategorii Mieszkania - Kupuj i sprzedawaj rzeczy używane i nowe w kategorii Mieszkania na Sprzedajemy.pl\" >\n",
      "<meta property=\"og:title\" content=\"Mieszkania Kraków na sprzedaż, wynajem - Sprzedajemy.pl\" >\n",
      "<meta property=\"og:type\" content=\"website\" >\n",
      "<meta property=\"og:image\" content=\"https://thumbs.img-sprzedajemy.pl/facebook/sprzedajemy.pl.png\" >\n",
      "<meta property=\"og:image:width\" content=\"200\" >\n",
      "<meta property=\"og:image:height\" content=\"200\" >\n",
      "<meta property=\"og:url\" content=\"https://sprzedajemy.pl/krakow/nieruchomosci/mieszkania\" >\n",
      "<meta property=\"og:site_name\" content=\"Sprzedajemy.pl\" >\n",
      "<meta property=\"fb:app_id\" content=\"173258269367442\" >\n",
      "<meta property=\"og:description\" content=\"Ogłoszenia o tematyce:  w kategorii Mieszkania - Kupuj i sprzedawaj rzeczy używane i nowe w kategorii Mieszkania na Sprzedajemy.pl\" >\n",
      "<meta name=\"robots\" content=\"noindex, follow\" >\t\t<script  async=\"async\" src=\"https://static.criteo.net/js/ld/publishertag.js\"></script>\n",
      "        <script  async=\"async\" src=\"https://ap.lijit.com/www/sovrn_beacon_standalone/sovrn_standalone_beacon.js?iid=13417409&amp;uid=sprzedajemy\" id=\"sBeacon\"></script>\n",
      "\t\t<script  async=\"async\" src=\"https://securepuba\n",
      "Titles: ['Mieszkanie z widokiem na góry', 'Grzegorzki mieszkanie na sprzedaż 30 m', 'Mieszkanie 3-pokojowe Zakrzówek Ruczaj ul. Pychowicka wynajem od właścicie…', 'Kraków, Stare Miasto sprzedaż/zamiana', 'Mieszkanie Wzgórza Krzesławickie bez prowizji.', 'Mieszkanie Kraków Wadowicka 44.95 metrów 2 pok', 'Mieszkanie 62.88m2 3 pokojowe Kraków', 'Mieszkanie sprzedam Kraków Wadowicka 46.32m2', 'Mieszkanie Kraków Na Błonie 40.71 metrów 2 pokojowe', 'Mieszkanie Kraków Na Błonie 37.5 metrów 3 pokoje', 'Mieszkanie Kraków Pękowicka 51.64m2 3-pokojowe', 'Oferta sprzedaży mieszkania Kraków 50.3m2 3 pokojowe', 'Mieszkanie Kraków Pękowicka 65.47m2 4 pokoje', 'Sprzedaż mieszkania Kraków Pękowicka 53.68m2 4 pok', 'Ogłoszenie mieszkanie 39.67 metrów 2 pokoje Kraków Pękowicka', 'Sprzedaż mieszkania 62.46m2 3 pokoje Kraków Wadowicka', 'Mieszkanie 48.2m Kraków', 'Mieszkanie na sprzedaż 38.1m2 2 pok Kraków Na Błonie', 'Mieszkanie 72.4m2 Kraków Babińskiego', 'Mieszkanie 50.46m2 2-pokojowe Kraków Stefana Banacha', 'Mieszkanie 41.06m2 2 pok Kraków', 'Oferta sprzedaży mieszkania 41.99m2 2 pokoje Kraków Wadowicka', 'Ogłoszenie mieszkanie Kraków 27.38m2 1 pok', 'Mieszkanie 72.4m2 3 pokoje Kraków Babińskiego', 'Mieszkanie 63.68m2 4 pok Kraków', 'Oferta sprzedaży mieszkania Kraków Babińskiego 33.25m2 1-pokojowe', 'Oferta sprzedaży mieszkania Kraków 71.45m2 4 pokoje', 'Mieszkanie Kraków Babińskiego 46.66 metrów 2-pokojowe', 'Oferta sprzedaży mieszkania Kraków Na Błonie 72.6m2 2 pokoje', 'Mieszkanie 59.82m2 4 pokoje Kraków', 'Mieszkanie Kraków Podłużna - okolice 124.97m2 4 pokoje', 'Mieszkanie Kraków Kantrowicka 36.09m', 'Ogłoszenie mieszkanie 50 metrów 2 pokoje Kraków Starego Dębu', 'Mieszkanie 83.1m2 4-pok Kraków Wadowicka', 'Mieszkanie 64.26m2 3 pokoje Kraków', 'Oferta sprzedaży mieszkania 62.82m2 3 pokoje Kraków Pękowicka', 'Sprzedaż mieszkania 90.48m2 4-pok Kraków', 'Mieszkanie 54.06m2 3 pokoje Kraków Pękowicka', 'Mieszkanie Kraków Pękowicka 26.92m2 1 pokój', 'Mieszkanie Kraków 52.26m2 3 pokoje', 'Sprzedaż mieszkania Kraków Lubomirskiego 23.3 metry 1-pokojowe', 'Sprzedaż mieszkania Kraków 72.4m2 3 pokoje', 'Mieszkanie 64.26m2 3 pok Kraków Wadowicka', 'Mieszkanie Kraków 37.17m2 2 pokoje', 'Mieszkanie Kraków 38.37m2 2 pok', 'Mieszkanie 68.78m2 3 pokoje Kraków Wadowicka', 'Ogłoszenie mieszkanie Kraków Pękowicka 52.07m 3 pokojowe', 'Mieszkanie Kraków 33.56m2 1 pokojowe', 'Mieszkanie 81.22m 4-pok Kraków Tomickiego', 'Oferta sprzedaży mieszkania 51.75m2 2 pok Kraków Grzegórzki', 'Mieszkanie Kraków Kantrowicka 34.79 metrów 2 pokoje', 'Mieszkanie Kraków 35.05m2 2 pokoje', 'Do sprzedaży mieszkanie Kraków Na Błonie 57.11m2 3-pokojowe', 'Ogłoszenie mieszkanie Kraków ul. Opatkowicka 44m2 3-pokojowe', 'Mieszkanie Kraków Kantrowicka 34.79 metrów', 'Mieszkanie 61.89m2 4-pokojowe Kraków', 'Mieszkanie 71.99m2 Kraków Pękowicka', 'Oferta sprzedaży mieszkania 69.13 metry 3 pok Kraków', 'Oferta sprzedaży mieszkania Kraków Wadowicka 80.83m2 4-pok', 'Mieszkanie Kraków Krowoderska 74.7m2 3 pokojowe']\n",
      "60\n",
      "Prices: ['265 000 zł', '549 000 zł', '3 000 zł', '2 015 000 zł', '670 000 zł', '822 585 zł', '987 216 zł', '866 184 zł', '712 922 zł', '733 860 zł', '746 198 zł', '724 320 zł', '923 127 zł', '764 940 zł', '631 744 zł', '1 068 066 zł', '706 130 zł', '738 067 zł', '1 194 600 zł', '799 000 zł', '754 571 zł', '705 432 zł', '410 152 zł', '1 245 280 zł', '907 440 zł', '628 425 zł', '885 980 zł', '858 544 zł', '1 229 408 zł', '850 939 zł', '2 186 975 zł', '541 350 zł', '850 000 zł', '1 312 980 zł', '1 111 698 zł', '890 473 zł', '1 420 536 zł', '770 355 zł', '469 754 zł', '751 237 zł', '518 000 zł', '1 295 960 zł', '1 098 846 zł', '598 902 zł', '646 457 zł', '1 100 480 zł', '856 551 zł', '731 880 zł', '990 000 zł', '1 060 000 zł', '495 757 zł', '482 813 zł', '1 058 305 zł', '749 000 zł', '504 455 zł', '999 523 zł', '1 013 259 zł', '1 109 743 zł', '1 188 201 zł', '1 418 000 zł']\n",
      "60\n"
     ]
    }
   ],
   "source": [
    "import requests\n",
    "from bs4 import BeautifulSoup\n",
    "import pandas as pd\n",
    "import os\n",
    "\n",
    "url = \"https://sprzedajemy.pl/krakow/nieruchomosci/mieszkania?offset=0&items_per_page=60\"\n",
    "\n",
    "headers = {\n",
    "    \"User-Agent\": \"Mozilla/5.0 (Windows NT 10.0; Win64; x64) AppleWebKit/537.36 (KHTML, like Gecko) Chrome/58.0.3029.110 Safari/537.36\",\n",
    "    \"Accept\": \"text/html,application/xhtml+xml,application/xml;q=0.9,image/webp,image/apng,*/*;q=0.8\",\n",
    "    \"Accept-Encoding\": \"gzip, deflate, br\",\n",
    "    \"Accept-Language\": \"en-US,en;q=0.9,pl;q=0.8\",\n",
    "    \"Connection\": \"keep-alive\"\n",
    "}\n",
    "\n",
    "response = requests.get(url, headers=headers)\n",
    "response = requests.get(url, headers=headers)\n",
    "\n",
    "# Debugowanie odpowiedzi\n",
    "print(f\"Status Code: {response.status_code}\")\n",
    "print(f\"Response Headers: {response.headers}\")\n",
    "print(f\"Response Text (first 2000 chars): {response.text[:2000]}\")\n",
    "\n",
    "# Jeśli odpowiedź jest poprawna, wykonaj webscraping\n",
    "if response.status_code == 200:\n",
    "    soup = BeautifulSoup(response.content, \"html.parser\")\n",
    "\n",
    "    # Pobieranie ofert mieszkań\n",
    "    titles = [h2.a.text.strip() for h2 in soup.find_all(\"h2\", class_=\"title\") if h2.a]\n",
    "    prices = [p.text.replace(\"\\xa0\", \" \").strip() for p in soup.find_all(\"span\", class_=\"price\")]\n",
    "\n",
    "    print(\"Titles:\", titles)\n",
    "    print(len(titles))\n",
    "    print(\"Prices:\", prices)\n",
    "    print(len(prices))\n",
    "\n",
    "    df = pd.DataFrame({\"Title\": titles, \"Price\": prices})\n",
    "\n",
    "    # Dopisanie do pliku CSV\n",
    "    df.to_csv(\"scraped_data.csv\", mode='a', header=not os.path.exists('scraped_data.csv'), index=False)\n",
    "else:\n",
    "    print(\"Failed to retrieve data.\")\n"
   ]
  }
 ],
 "metadata": {
  "colab": {
   "provenance": []
  },
  "kernelspec": {
   "display_name": "Python 3",
   "name": "python3"
  },
  "language_info": {
   "codemirror_mode": {
    "name": "ipython",
    "version": 3
   },
   "file_extension": ".py",
   "mimetype": "text/x-python",
   "name": "python",
   "nbconvert_exporter": "python",
   "pygments_lexer": "ipython3",
   "version": "3.9.24"
  },
  "papermill": {
   "default_parameters": {},
   "duration": 3.741108,
   "end_time": "2025-10-17T17:27:52.967873",
   "environment_variables": {},
   "exception": null,
   "input_path": "nb.ipynb",
   "output_path": "nbo.ipynb",
   "parameters": {},
   "start_time": "2025-10-17T17:27:49.226765",
   "version": "2.6.0"
  }
 },
 "nbformat": 4,
 "nbformat_minor": 5
}