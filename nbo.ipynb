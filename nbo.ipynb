{
 "cells": [
  {
   "cell_type": "code",
   "execution_count": 1,
   "id": "2f232d36",
   "metadata": {
    "colab": {
     "base_uri": "https://localhost:8080/"
    },
    "execution": {
     "iopub.execute_input": "2025-04-24T22:51:53.151268Z",
     "iopub.status.busy": "2025-04-24T22:51:53.151007Z",
     "iopub.status.idle": "2025-04-24T22:51:55.020747Z",
     "shell.execute_reply": "2025-04-24T22:51:55.020084Z"
    },
    "id": "5pYh4c8j1w43",
    "outputId": "8a0dca73-64e5-4f0d-c493-2c5b38392363",
    "papermill": {
     "duration": 1.873455,
     "end_time": "2025-04-24T22:51:55.021909",
     "exception": false,
     "start_time": "2025-04-24T22:51:53.148454",
     "status": "completed"
    },
    "tags": []
   },
   "outputs": [
    {
     "name": "stdout",
     "output_type": "stream",
     "text": [
      "Status Code: 200\n",
      "Response Headers: {'Server': 'nginx', 'Date': 'Thu, 24 Apr 2025 22:51:54 GMT', 'Content-Type': 'text/html; charset=UTF-8', 'Transfer-Encoding': 'chunked', 'Vary': 'Accept-Encoding, User-Agent', 'Set-Cookie': 'FRSPSID=2gi58c4cs870ahhg53r2e9r1b4; path=/; domain=.sprzedajemy.pl; secure; HttpOnly, _items_per_page__offer_list=60; expires=Sat, 24-May-2025 22:51:54 GMT; Max-Age=2592000; path=/; domain=.sprzedajemy.pl; secure; httponly, observed_id=2070607083680ac08a98b008206141251455481693; expires=Tue, 24-Apr-2125 23:51:54 GMT; Max-Age=3155677200; path=/; domain=.sprzedajemy.pl; secure; httponly', 'Expires': 'Thu, 19 Nov 1981 08:52:00 GMT', 'Cache-Control': 'no-store, no-cache, must-revalidate, post-check=0, pre-check=0', 'Pragma': 'no-cache', 'Content-Encoding': 'gzip'}\n",
      "Response Text (first 2000 chars): <!DOCTYPE html><html xmlns=\"http://www.w3.org/1999/xhtml\" xml:lang=\"pl\" lang=\"pl\" class=\"no-js\" >\n",
      "<head>\n",
      "\t\t\t<!-- Google Tag Manager -->\n",
      "\t\t\t<script>(function(w,d,s,l,i){w[l]=w[l]||[];w[l].push({'gtm.start':\n",
      "\t\t\t\t\t\tnew Date().getTime(),event:'gtm.js'});var f=d.getElementsByTagName(s)[0],\n",
      "\t\t\t\t\tj=d.createElement(s),dl=l!='dataLayer'?'&l='+l:'';j.async=true;j.src=\n",
      "\t\t\t\t\t'https://www.googletagmanager.com/gtm.js?id='+i+dl\n",
      "\t\t\t\t\t\t\t\t\t    ;f.parentNode.insertBefore(j,f);\n",
      "\t\t\t\t    })(window,document,'script','dataLayer','GTM-P3S238');</script>\n",
      "\t\t\t<!-- End Google Tag Manager -->\n",
      "\t<title>Mieszkania Kraków na sprzedaż, wynajem - Sprzedajemy.pl</title><meta http-equiv=\"Content-Type\" content=\"text/html; charset=UTF-8\" >\n",
      "<meta http-equiv=\"X-UA-Compatible\" content=\"IE=edge\" >\n",
      "<meta name=\"description\" content=\"Ogłoszenia o tematyce:  w kategorii Mieszkania - Kupuj i sprzedawaj rzeczy używane i nowe w kategorii Mieszkania na Sprzedajemy.pl\" >\n",
      "<meta property=\"og:title\" content=\"Mieszkania Kraków na sprzedaż, wynajem - Sprzedajemy.pl\" >\n",
      "<meta property=\"og:type\" content=\"website\" >\n",
      "<meta property=\"og:image\" content=\"https://thumbs.img-sprzedajemy.pl/facebook/sprzedajemy.pl.png\" >\n",
      "<meta property=\"og:image:width\" content=\"200\" >\n",
      "<meta property=\"og:image:height\" content=\"200\" >\n",
      "<meta property=\"og:url\" content=\"https://sprzedajemy.pl/krakow/nieruchomosci/mieszkania\" >\n",
      "<meta property=\"og:site_name\" content=\"Sprzedajemy.pl\" >\n",
      "<meta property=\"fb:app_id\" content=\"173258269367442\" >\n",
      "<meta property=\"og:description\" content=\"Ogłoszenia o tematyce:  w kategorii Mieszkania - Kupuj i sprzedawaj rzeczy używane i nowe w kategorii Mieszkania na Sprzedajemy.pl\" >\n",
      "<meta name=\"robots\" content=\"noindex, follow\" >\t\t<script  async=\"async\" src=\"https://static.criteo.net/js/ld/publishertag.js\"></script>\n",
      "        <script  async=\"async\" src=\"https://ap.lijit.com/www/sovrn_beacon_standalone/sovrn_standalone_beacon.js?iid=13417409&amp;uid=sprzedajemy\" id=\"sBeacon\"></script>\n",
      "\t\t<script  async=\"async\" src=\"https://securepuba\n",
      "Titles: ['2 pokoje 41m2 blisko Aquaparku wkrótce tramwaj!', 'Mieszkanie przy Parku Rzecznym Tonie', 'Kraków, Stare Miasto sprzedaż/zamiana', 'Nowoczesne, wykończone, z garażem i balkonem', 'Mieszkanie na sprzedaż/zamiana 39m2', 'Mieszkanie z ogródkiem Zakrzówek bezczynszowe', 'Mieszkanie Kraków 60.12m2 3 pokojowe', 'Sprzedaż mieszkania 52.09m2 2-pok Kraków', 'Mieszkanie na wynajem', 'Mieszkanie Kraków 60.56m2 3 pokoje', 'Ogłoszenie mieszkanie Kraków 33.68m2 1 pokój', 'Mieszkanie do sprzedania Kraków os. Złotego Wieku 56m2 4 pokoje', 'Oferta sprzedaży mieszkania 50.19m2 2 pokoje Kraków Bunscha', 'Mieszkanie 3p w kamienicy w pobliżu Salwatoru', 'Oferta sprzedaży mieszkania 54.96m2 Kraków Czeczów', 'Mieszkanie Kraków Bunscha 38.22m2 2-pok', '3 pokoje, na Kazimierzu w Super Cenie!', 'Oferta sprzedaży mieszkania 36.47m2 2 pokoje Kraków', 'Mieszkanie Os. Avia Kraków, widok na góry', 'Oferta sprzedaży mieszkania Kraków os. Kalinowe 37m', 'Mieszkanie na sprzedaż 34m2 1-pokojowe Kraków os. Kolorowe', 'Mieszkanie Kraków 71.59m2 3-pokojowe', 'Mieszkanie 45.61m2 2-pokojowe Kraków Smętna', '4 pokoje, Błonia, Wisła, Salwator, ul. Filarecka', 'Oferta wynajmu mieszkania Kraków 50m2 2-pokojowe', 'Mieszkanie Kraków os. Jagiellońskie 44m2 2 pokoje', 'Kraków Bronowice Stawowa 168 / 60m2 3 POK/ 22,5 m2 taras/ BEZ POŚREDNIKÓW', 'Mieszkanie Kraków Grzegórzki 47.67m2 2 pokoje', 'Mieszkanie Kraków Władysława Taklińskiego 57m2 3 pokojowe', '4p mieszkanie z ogródkiem w pięknej szeregówce', 'Ogłoszenie mieszkanie 50 metrów 2 pokoje Kraków', 'Do sprzedaży mieszkanie Kraków 55.72m2 2 pokoje', 'Sprzedamy apartament 65m2 z 2 ogródkami, ATAL Residence Zabłocie!', 'Mieszkanie Kraków 44m2 2-pokojowe', '3-pokojowe mieszkanie z balkonem | 58m2 | Fatimska', 'Mieszkanie Kraków os. Albertyńskie 39.88m2 2 pokojowe', 'WŁAŚCICIEL Na sprzedaż – trzypokojowe mieszkanie w znakomitej lokalizacji!', 'Oferta sprzedaży mieszkania 61m2 2-pokojowe Kraków Łokietka', 'Mieszkanie 32m2 1-pokojowe Kraków os. Szklane Domy', 'Mieszkanie Kraków 41m2 2 pokojowe', 'Oferta sprzedaży mieszkania Kraków Braci Czeczów 43m2 2 pokojowe', 'Sprzedam mieszkanie z antresolą', 'Sprzedaż mieszkania 139m2 Kraków Komuny Paryskiej', 'Mieszkanie 63m2 3-pokojowe Kraków', 'Sprzedam piękne mieszkanie Kraków borek Fałecki', 'M2 dwustronne Bieńczyce dostępne do 25 kwietnia', 'Mieszkanie Kraków os. Albertyńskie 40.5m2', 'Oferta sprzedaży mieszkania Kraków os. Zielone 33.82m2 1 pokój', 'Mieszkanie Kraków 46.17m2 3 pokoje', 'Mieszkanie Kraków 31.9m2 2 pokojowe', 'Mieszkanie Kraków 81m2 4-pok', 'Sprzedaż mieszkania Kraków os. Sportowe 50.42m2', 'Wyjątkowe 2 mieszkania w 1, gotowe do wprowadzenia, po remoncie', 'Mieszkanie 105m2 3 pokoje Kraków', 'Mieszkanie 30.2 metry 1 pokój Kraków Chełmońskiego', 'Mieszkanie Kraków 33m2', 'Słoneczne mieszkanko z dużym balkonem', 'Oferta sprzedaży mieszkania Kraków Os. Słoneczne 47.2m2 2 pokoje', 'Przetarg - sprzedaż lokalu mieszkalnego - Kraków', 'Mieszkanie Kraków 25m2 1 pokój']\n",
      "60\n",
      "Prices: ['710 000 zł', '535 000 zł', '2 254 000 zł', '990 000 zł', '548 000 zł', '460 000 zł', '932 803 zł', '807 149 zł', '2 500 zł', '830 000 zł', '549 829 zł', '799 000 zł', '820 455 zł', '799 000 zł', '791 424 zł', '637 394 zł', '880 000 zł', '528 000 zł', '998 000 zł', '485 000 zł', '529 000 zł', '1 360 000 zł', '695 000 zł', '1 335 000 zł', '2 300 zł', '619 000 zł', '1 137 500 zł', '1 191 750 zł', '3 000 zł', '999 000 zł', '899 000 zł', '835 000 zł', '1 390 000 zł', '579 000 zł', '779 000 zł', '619 000 zł', '710 000 zł', '1 020 000 zł', '450 000 zł', '545 000 zł', '629 000 zł', '560 000 zł', '1 470 000 zł', '759 000 zł', '639 000 zł', '599 000 zł', '2 000 zł', '510 000 zł', '715 000 zł', '2 300 zł', '1 350 000 zł', '769 000 zł', '1 090 000 zł', '1 799 000 zł', '2 000 zł', '669 000 zł', '699 000 zł', '680 000 zł', '4 305 000 zł', '399 000 zł']\n",
      "60\n"
     ]
    }
   ],
   "source": [
    "import requests\n",
    "from bs4 import BeautifulSoup\n",
    "import pandas as pd\n",
    "import os\n",
    "\n",
    "url = \"https://sprzedajemy.pl/krakow/nieruchomosci/mieszkania?offset=0&items_per_page=60\"\n",
    "\n",
    "headers = {\n",
    "    \"User-Agent\": \"Mozilla/5.0 (Windows NT 10.0; Win64; x64) AppleWebKit/537.36 (KHTML, like Gecko) Chrome/58.0.3029.110 Safari/537.36\",\n",
    "    \"Accept\": \"text/html,application/xhtml+xml,application/xml;q=0.9,image/webp,image/apng,*/*;q=0.8\",\n",
    "    \"Accept-Encoding\": \"gzip, deflate, br\",\n",
    "    \"Accept-Language\": \"en-US,en;q=0.9,pl;q=0.8\",\n",
    "    \"Connection\": \"keep-alive\"\n",
    "}\n",
    "\n",
    "response = requests.get(url, headers=headers)\n",
    "response = requests.get(url, headers=headers)\n",
    "\n",
    "# Debugowanie odpowiedzi\n",
    "print(f\"Status Code: {response.status_code}\")\n",
    "print(f\"Response Headers: {response.headers}\")\n",
    "print(f\"Response Text (first 2000 chars): {response.text[:2000]}\")\n",
    "\n",
    "# Jeśli odpowiedź jest poprawna, wykonaj webscraping\n",
    "if response.status_code == 200:\n",
    "    soup = BeautifulSoup(response.content, \"html.parser\")\n",
    "\n",
    "    # Pobieranie ofert mieszkań\n",
    "    titles = [h2.a.text.strip() for h2 in soup.find_all(\"h2\", class_=\"title\") if h2.a]\n",
    "    prices = [p.text.replace(\"\\xa0\", \" \").strip() for p in soup.find_all(\"span\", class_=\"price\")]\n",
    "\n",
    "    print(\"Titles:\", titles)\n",
    "    print(len(titles))\n",
    "    print(\"Prices:\", prices)\n",
    "    print(len(prices))\n",
    "\n",
    "    df = pd.DataFrame({\"Title\": titles, \"Price\": prices})\n",
    "\n",
    "    # Dopisanie do pliku CSV\n",
    "    df.to_csv(\"scraped_data.csv\", mode='a', header=not os.path.exists('scraped_data.csv'), index=False)\n",
    "else:\n",
    "    print(\"Failed to retrieve data.\")\n"
   ]
  }
 ],
 "metadata": {
  "colab": {
   "provenance": []
  },
  "kernelspec": {
   "display_name": "Python 3",
   "name": "python3"
  },
  "language_info": {
   "codemirror_mode": {
    "name": "ipython",
    "version": 3
   },
   "file_extension": ".py",
   "mimetype": "text/x-python",
   "name": "python",
   "nbconvert_exporter": "python",
   "pygments_lexer": "ipython3",
   "version": "3.9.22"
  },
  "papermill": {
   "default_parameters": {},
   "duration": 2.958865,
   "end_time": "2025-04-24T22:51:55.238636",
   "environment_variables": {},
   "exception": null,
   "input_path": "nb.ipynb",
   "output_path": "nbo.ipynb",
   "parameters": {},
   "start_time": "2025-04-24T22:51:52.279771",
   "version": "2.6.0"
  }
 },
 "nbformat": 4,
 "nbformat_minor": 5
}