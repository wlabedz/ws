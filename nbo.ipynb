{
 "cells": [
  {
   "cell_type": "code",
   "execution_count": 1,
   "id": "57eb6405",
   "metadata": {
    "colab": {
     "base_uri": "https://localhost:8080/"
    },
    "execution": {
     "iopub.execute_input": "2025-09-18T03:04:37.465381Z",
     "iopub.status.busy": "2025-09-18T03:04:37.465079Z",
     "iopub.status.idle": "2025-09-18T03:04:40.258386Z",
     "shell.execute_reply": "2025-09-18T03:04:40.257659Z"
    },
    "id": "5pYh4c8j1w43",
    "outputId": "8a0dca73-64e5-4f0d-c493-2c5b38392363",
    "papermill": {
     "duration": 2.796936,
     "end_time": "2025-09-18T03:04:40.259571",
     "exception": false,
     "start_time": "2025-09-18T03:04:37.462635",
     "status": "completed"
    },
    "tags": []
   },
   "outputs": [
    {
     "name": "stdout",
     "output_type": "stream",
     "text": [
      "Status Code: 200\n",
      "Response Headers: {'Server': 'nginx', 'Date': 'Thu, 18 Sep 2025 03:04:39 GMT', 'Content-Type': 'text/html; charset=UTF-8', 'Transfer-Encoding': 'chunked', 'Vary': 'Accept-Encoding, User-Agent', 'Set-Cookie': 'FRSPSID=16b2tn5hp6kjqi6686pp1diot2; path=/; domain=.sprzedajemy.pl; secure; HttpOnly, _items_per_page__offer_list=60; expires=Sat, 18-Oct-2025 03:04:39 GMT; Max-Age=2592000; path=/; domain=.sprzedajemy.pl; secure; httponly, observed_id=14204288368cb76c7cfb0a138251302099723048; expires=Tue, 18-Sep-2125 04:04:39 GMT; Max-Age=3155677200; path=/; domain=.sprzedajemy.pl; secure; httponly', 'Expires': 'Thu, 19 Nov 1981 08:52:00 GMT', 'Cache-Control': 'no-store, no-cache, must-revalidate, post-check=0, pre-check=0', 'Pragma': 'no-cache', 'Content-Encoding': 'gzip'}\n",
      "Response Text (first 2000 chars): <!DOCTYPE html><html xmlns=\"http://www.w3.org/1999/xhtml\" xml:lang=\"pl\" lang=\"pl\" class=\"no-js\" >\n",
      "<head>\n",
      "\t\t\t<!-- Google Tag Manager -->\n",
      "\t\t\t<script>(function(w,d,s,l,i){w[l]=w[l]||[];w[l].push({'gtm.start':\n",
      "\t\t\t\t\t\tnew Date().getTime(),event:'gtm.js'});var f=d.getElementsByTagName(s)[0],\n",
      "\t\t\t\t\tj=d.createElement(s),dl=l!='dataLayer'?'&l='+l:'';j.async=true;j.src=\n",
      "\t\t\t\t\t'https://www.googletagmanager.com/gtm.js?id='+i+dl\n",
      "\t\t\t\t\t\t\t\t\t    ;f.parentNode.insertBefore(j,f);\n",
      "\t\t\t\t    })(window,document,'script','dataLayer','GTM-P3S238');</script>\n",
      "\t\t\t<!-- End Google Tag Manager -->\n",
      "\t<title>Mieszkania Kraków na sprzedaż, wynajem - Sprzedajemy.pl</title><meta http-equiv=\"Content-Type\" content=\"text/html; charset=UTF-8\" >\n",
      "<meta http-equiv=\"X-UA-Compatible\" content=\"IE=edge\" >\n",
      "<meta name=\"description\" content=\"Ogłoszenia o tematyce:  w kategorii Mieszkania - Kupuj i sprzedawaj rzeczy używane i nowe w kategorii Mieszkania na Sprzedajemy.pl\" >\n",
      "<meta property=\"og:title\" content=\"Mieszkania Kraków na sprzedaż, wynajem - Sprzedajemy.pl\" >\n",
      "<meta property=\"og:type\" content=\"website\" >\n",
      "<meta property=\"og:image\" content=\"https://thumbs.img-sprzedajemy.pl/facebook/sprzedajemy.pl.png\" >\n",
      "<meta property=\"og:image:width\" content=\"200\" >\n",
      "<meta property=\"og:image:height\" content=\"200\" >\n",
      "<meta property=\"og:url\" content=\"https://sprzedajemy.pl/krakow/nieruchomosci/mieszkania\" >\n",
      "<meta property=\"og:site_name\" content=\"Sprzedajemy.pl\" >\n",
      "<meta property=\"fb:app_id\" content=\"173258269367442\" >\n",
      "<meta property=\"og:description\" content=\"Ogłoszenia o tematyce:  w kategorii Mieszkania - Kupuj i sprzedawaj rzeczy używane i nowe w kategorii Mieszkania na Sprzedajemy.pl\" >\n",
      "<meta name=\"robots\" content=\"noindex, follow\" >\t\t<script  async=\"async\" src=\"https://static.criteo.net/js/ld/publishertag.js\"></script>\n",
      "        <script  async=\"async\" src=\"https://ap.lijit.com/www/sovrn_beacon_standalone/sovrn_standalone_beacon.js?iid=13417409&amp;uid=sprzedajemy\" id=\"sBeacon\"></script>\n",
      "\t\t<script  async=\"async\" src=\"https://securepuba\n",
      "Titles: ['2-pokojowe mieszkanie po remoncie | PROMOCJA | ul Bronowicka', 'Sprzedam dwupokojowe mieszkanie os. Dywizjonu 303, 19C Kraków', 'Wyjątkowy lokal przy ul. Krowoderskiej z widokiem na stronę ogrodową', 'Dwa pokoje - stare miasto - Do wejścia - Własność', 'Mieszkanie z widokiem na góry', 'Wyjątkowe mieszkanie z widokiem na klasztor w Tyńcu i panoramę Tatr', 'Stylowy apartament z widokiem na panoramę Krakowa - od właściciela', 'Nowoczesny apartament z panoramicznym widokiem - od właściciela', 'Podedworze 13', 'Piękne, 2-pokojowe, po remoncie', 'Stylowy lokal na parterze przy Krowoderskiej', 'Mieszkanie Kraków 40.26m2 2 pok', 'W zieleni z zachodami słońca 2,5 pok. Radio Kraków', 'Oferta wynajmu mieszkania 51.87 metrów 2-pok Kraków', 'Mieszkanie 38 metrów kwadratowych sprzedam bezpośrednio', 'Mieszkanie Kraków Piastów 47.38m2 2 pokoje', 'Oferta sprzedaży mieszkania 136.9m2 5 pokoi Kraków Reduta', 'Mieszkanie 54.87m2 3 pok Kraków Felińskiego', 'Mieszkanie Kraków Armii Krajowej 69m2 3 pokojowe', 'Oferta sprzedaży mieszkania 36.05m2 2 pokoje Kraków Bronowicka', 'Mieszkanie Kraków Tadeusza Śliwiaka 81.78m2 4 pokoje', 'sprzedam mieszkanie w Krakowie', 'Ogłoszenie mieszkanie Kraków Tadeusza Śliwiaka 81.78m2 4 pok', 'Do sprzedaży mieszkanie 46.21m2 2 pok Kraków Bukowa', 'Sprzedaż mieszkania 65.57m2 3 pokoje Kraków Tadeusza Śliwiaka', 'Ogłoszenie mieszkanie 51.67m2 2 pok Kraków', 'Mieszkanie 49.52m2 2-pokojowe Kraków', 'Mieszkanie Kraków 211.89m2 5 pokoi', 'Wygodna inwestycja! Wyposażone mieszkanie dwupokojowe na Grzegórzkach', 'Mieszkanie 48.39m2 2-pok Kraków Imbramowska', 'Mieszkanie 30m2 2-pok Kraków Zgody', 'Mieszkanie 30m2 2 pokoje Kraków', 'Mieszkanie Kraków 65.62m2 3 pokojowe', 'Oferta sprzedaży mieszkania 66.62 metry 3-pokojowe Kraków Imbramowska', 'Oferta sprzedaży mieszkania Kraków Imbramowska 47.39 metrów 2 pokoje', 'Mieszkanie Kraków Imbramowska 65.62m2 3 pokojowe', 'Mieszkanie 50m2 3 pok Kraków Henryka i Karola Czeczów', 'Oferta wynajmu mieszkania 58.77m2 3-pokojowe Kraków Bochenka', 'Mieszkanie Kraków Imbramowska 65.62m2 3 pokoje', 'Mieszkanie Kraków 46.03m 3 pokoje', 'Mieszkanie do sprzedania Kraków 47m2 2 pokojowe', 'Mieszkanie 48.39m2 2 pok Kraków Imbramowska', 'Mieszkanie 55 metrów 2 pok Kraków', 'Oferta sprzedaży mieszkania 33.1m2 2 pokoje Kraków Kombatantów', 'Mieszkanie 66.62m2 3 pokoje Kraków', 'Mieszkanie Kraków os. Kazimierzowskie 24.14m2 1 pokój', 'Mieszkanie 61.15m2 3 pokoje Kraków Sebastiana Klonowica', 'Kraków, Stare Miasto sprzedaż/zamiana', '3-pokojowe mieszkanie 70m2 z klimatyzacją, 2 balkony - Wiślane Tarasy', 'Sprzedam mieszkanie 38m2 2-pokojowe Kraków', 'Kawalerka 27m2 w kamienicy z parkingiem – Prądnik Czerwony, inwestycja', 'Mieszkanie 32.02m2 2-pokojowe Lusina Krakowska', 'Mieszkanie na wynajem 42m2 2 pokoje Kraków', 'Mieszkanie Kraków Karmelicka 57m2', 'Nowoczesne mieszkanie 2 pokoje z balkonem w cenie kawalerki ul. Meiera 16 E', 'Ogłoszenie mieszkanie 46m2 2 pokoje Kraków Bukowa', 'Mieszkanie 47.83m2 2 pokoje Kraków', 'Mieszkanie na sprzedaż Kraków Halszki 35 metrów 1 pokój', 'Mieszkanie 103.89m2 3 pokoje Kraków Smocza', 'Mieszkanie 65.62 metry 2 pokojowe Kraków Imbramowska']\n",
      "60\n",
      "Prices: ['710 000 zł', '635 000 zł', '1 220 000 zł', '715 155 zł', '265 000 zł', '779 000 zł', '890 000 zł', '997 000 zł', '542 000 zł', '719 000 zł', '1 800 000 zł', '480 000 zł', '3 200 zł', '2 950 zł', '470 000 zł', '745 000 zł', '2 420 000 zł', '725 000 zł', '4 400 zł', '539 000 zł', '932 862 zł', '1 500 000 zł', '924 679 zł', '572 912 zł', '746 586 zł', '649 000 zł', '639 000 zł', '7 416 150 zł', '749 000 zł', '706 494 zł', '455 000 zł', '2 000 zł', '885 870 zł', '899 370 zł', '710 850 zł', '898 994 zł', '669 000 zł', '3 000 zł', '885 870 zł', '3 800 zł', '705 000 zł', '706 494 zł', '2 800 zł', '525 000 zł', '879 384 zł', '340 000 zł', '988 000 zł', '2 083 000 zł', '6 200 zł', '485 000 zł', '369 000 zł', '570 000 zł', '3 200 zł', '4 900 zł', '2 700 zł', '570 524 zł', '885 000 zł', '460 000 zł', '6 300 zł', '677 460 zł']\n",
      "60\n"
     ]
    }
   ],
   "source": [
    "import requests\n",
    "from bs4 import BeautifulSoup\n",
    "import pandas as pd\n",
    "import os\n",
    "\n",
    "url = \"https://sprzedajemy.pl/krakow/nieruchomosci/mieszkania?offset=0&items_per_page=60\"\n",
    "\n",
    "headers = {\n",
    "    \"User-Agent\": \"Mozilla/5.0 (Windows NT 10.0; Win64; x64) AppleWebKit/537.36 (KHTML, like Gecko) Chrome/58.0.3029.110 Safari/537.36\",\n",
    "    \"Accept\": \"text/html,application/xhtml+xml,application/xml;q=0.9,image/webp,image/apng,*/*;q=0.8\",\n",
    "    \"Accept-Encoding\": \"gzip, deflate, br\",\n",
    "    \"Accept-Language\": \"en-US,en;q=0.9,pl;q=0.8\",\n",
    "    \"Connection\": \"keep-alive\"\n",
    "}\n",
    "\n",
    "response = requests.get(url, headers=headers)\n",
    "response = requests.get(url, headers=headers)\n",
    "\n",
    "# Debugowanie odpowiedzi\n",
    "print(f\"Status Code: {response.status_code}\")\n",
    "print(f\"Response Headers: {response.headers}\")\n",
    "print(f\"Response Text (first 2000 chars): {response.text[:2000]}\")\n",
    "\n",
    "# Jeśli odpowiedź jest poprawna, wykonaj webscraping\n",
    "if response.status_code == 200:\n",
    "    soup = BeautifulSoup(response.content, \"html.parser\")\n",
    "\n",
    "    # Pobieranie ofert mieszkań\n",
    "    titles = [h2.a.text.strip() for h2 in soup.find_all(\"h2\", class_=\"title\") if h2.a]\n",
    "    prices = [p.text.replace(\"\\xa0\", \" \").strip() for p in soup.find_all(\"span\", class_=\"price\")]\n",
    "\n",
    "    print(\"Titles:\", titles)\n",
    "    print(len(titles))\n",
    "    print(\"Prices:\", prices)\n",
    "    print(len(prices))\n",
    "\n",
    "    df = pd.DataFrame({\"Title\": titles, \"Price\": prices})\n",
    "\n",
    "    # Dopisanie do pliku CSV\n",
    "    df.to_csv(\"scraped_data.csv\", mode='a', header=not os.path.exists('scraped_data.csv'), index=False)\n",
    "else:\n",
    "    print(\"Failed to retrieve data.\")\n"
   ]
  }
 ],
 "metadata": {
  "colab": {
   "provenance": []
  },
  "kernelspec": {
   "display_name": "Python 3",
   "name": "python3"
  },
  "language_info": {
   "codemirror_mode": {
    "name": "ipython",
    "version": 3
   },
   "file_extension": ".py",
   "mimetype": "text/x-python",
   "name": "python",
   "nbconvert_exporter": "python",
   "pygments_lexer": "ipython3",
   "version": "3.9.23"
  },
  "papermill": {
   "default_parameters": {},
   "duration": 3.93747,
   "end_time": "2025-09-18T03:04:40.476451",
   "environment_variables": {},
   "exception": null,
   "input_path": "nb.ipynb",
   "output_path": "nbo.ipynb",
   "parameters": {},
   "start_time": "2025-09-18T03:04:36.538981",
   "version": "2.6.0"
  }
 },
 "nbformat": 4,
 "nbformat_minor": 5
}