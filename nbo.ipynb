{
 "cells": [
  {
   "cell_type": "code",
   "execution_count": 1,
   "id": "e451fd2d",
   "metadata": {
    "colab": {
     "base_uri": "https://localhost:8080/"
    },
    "execution": {
     "iopub.execute_input": "2025-09-16T22:41:05.782982Z",
     "iopub.status.busy": "2025-09-16T22:41:05.782721Z",
     "iopub.status.idle": "2025-09-16T22:41:07.908114Z",
     "shell.execute_reply": "2025-09-16T22:41:07.907372Z"
    },
    "id": "5pYh4c8j1w43",
    "outputId": "8a0dca73-64e5-4f0d-c493-2c5b38392363",
    "papermill": {
     "duration": 2.129106,
     "end_time": "2025-09-16T22:41:07.909264",
     "exception": false,
     "start_time": "2025-09-16T22:41:05.780158",
     "status": "completed"
    },
    "tags": []
   },
   "outputs": [
    {
     "name": "stdout",
     "output_type": "stream",
     "text": [
      "Status Code: 200\n",
      "Response Headers: {'Server': 'nginx', 'Date': 'Tue, 16 Sep 2025 22:41:07 GMT', 'Content-Type': 'text/html; charset=UTF-8', 'Transfer-Encoding': 'chunked', 'Vary': 'Accept-Encoding, User-Agent', 'Set-Cookie': 'FRSPSID=srl21j67p5pe67479h6h27kcp0; path=/; domain=.sprzedajemy.pl; secure; HttpOnly, _items_per_page__offer_list=60; expires=Thu, 16-Oct-2025 22:41:07 GMT; Max-Age=2592000; path=/; domain=.sprzedajemy.pl; secure; httponly, observed_id=166216173368c9e7837b3e885493265558246457; expires=Sun, 16-Sep-2125 23:41:07 GMT; Max-Age=3155677200; path=/; domain=.sprzedajemy.pl; secure; httponly', 'Expires': 'Thu, 19 Nov 1981 08:52:00 GMT', 'Cache-Control': 'no-store, no-cache, must-revalidate, post-check=0, pre-check=0', 'Pragma': 'no-cache', 'Content-Encoding': 'gzip'}\n",
      "Response Text (first 2000 chars): <!DOCTYPE html><html xmlns=\"http://www.w3.org/1999/xhtml\" xml:lang=\"pl\" lang=\"pl\" class=\"no-js\" >\n",
      "<head>\n",
      "\t\t\t<!-- Google Tag Manager -->\n",
      "\t\t\t<script>(function(w,d,s,l,i){w[l]=w[l]||[];w[l].push({'gtm.start':\n",
      "\t\t\t\t\t\tnew Date().getTime(),event:'gtm.js'});var f=d.getElementsByTagName(s)[0],\n",
      "\t\t\t\t\tj=d.createElement(s),dl=l!='dataLayer'?'&l='+l:'';j.async=true;j.src=\n",
      "\t\t\t\t\t'https://www.googletagmanager.com/gtm.js?id='+i+dl\n",
      "\t\t\t\t\t\t\t\t\t    ;f.parentNode.insertBefore(j,f);\n",
      "\t\t\t\t    })(window,document,'script','dataLayer','GTM-P3S238');</script>\n",
      "\t\t\t<!-- End Google Tag Manager -->\n",
      "\t<title>Mieszkania Kraków na sprzedaż, wynajem - Sprzedajemy.pl</title><meta http-equiv=\"Content-Type\" content=\"text/html; charset=UTF-8\" >\n",
      "<meta http-equiv=\"X-UA-Compatible\" content=\"IE=edge\" >\n",
      "<meta name=\"description\" content=\"Ogłoszenia o tematyce:  w kategorii Mieszkania - Kupuj i sprzedawaj rzeczy używane i nowe w kategorii Mieszkania na Sprzedajemy.pl\" >\n",
      "<meta property=\"og:title\" content=\"Mieszkania Kraków na sprzedaż, wynajem - Sprzedajemy.pl\" >\n",
      "<meta property=\"og:type\" content=\"website\" >\n",
      "<meta property=\"og:image\" content=\"https://thumbs.img-sprzedajemy.pl/facebook/sprzedajemy.pl.png\" >\n",
      "<meta property=\"og:image:width\" content=\"200\" >\n",
      "<meta property=\"og:image:height\" content=\"200\" >\n",
      "<meta property=\"og:url\" content=\"https://sprzedajemy.pl/krakow/nieruchomosci/mieszkania\" >\n",
      "<meta property=\"og:site_name\" content=\"Sprzedajemy.pl\" >\n",
      "<meta property=\"fb:app_id\" content=\"173258269367442\" >\n",
      "<meta property=\"og:description\" content=\"Ogłoszenia o tematyce:  w kategorii Mieszkania - Kupuj i sprzedawaj rzeczy używane i nowe w kategorii Mieszkania na Sprzedajemy.pl\" >\n",
      "<meta name=\"robots\" content=\"noindex, follow\" >\t\t<script  async=\"async\" src=\"https://static.criteo.net/js/ld/publishertag.js\"></script>\n",
      "        <script  async=\"async\" src=\"https://ap.lijit.com/www/sovrn_beacon_standalone/sovrn_standalone_beacon.js?iid=13417409&amp;uid=sprzedajemy\" id=\"sBeacon\"></script>\n",
      "\t\t<script  async=\"async\" src=\"https://securepuba\n",
      "Titles: ['Wyjątkowy lokal przy ul. Krowoderskiej z widokiem na stronę ogrodową', 'Dwa pokoje - stare miasto - Do wejścia - Własność', 'Mieszkanie z widokiem na góry', 'Wyjątkowe mieszkanie z widokiem na klasztor w Tyńcu i panoramę Tatr', 'Stylowy apartament z widokiem na panoramę Krakowa - od właściciela', 'Nowoczesny apartament z panoramicznym widokiem - od właściciela', 'Podedworze 13', 'Piękne, 2-pokojowe, po remoncie', 'Stylowy lokal na parterze przy Krowoderskiej', '2-pokojowe mieszkanie po remoncie | PROMOCJA | ul Bronowicka', 'Mieszkanie na sprzedaż Kraków Halszki 35 metrów 1 pokój', 'Mieszkanie 103.89m2 3 pokoje Kraków Smocza', 'Mieszkanie 65.62 metry 2 pokojowe Kraków Imbramowska', 'Mieszkanie 70.88m2 3 pokoje Kraków Babińskiego', 'Mieszkanie 72.4m2 3 pokoje Kraków Babińskiego', 'Do sprzedaży mieszkanie 53.77m Kraków', 'Oferta sprzedaży mieszkania Kraków 48.39 metrów 2-pokojowe', 'Mieszkanie Kraków os. Piastów 51.59m2 3 pokoje', 'Oferta sprzedaży mieszkania Kraków 65.62m2 3-pokojowe', 'Oferta sprzedaży mieszkania 68.3m 3 pokojowe Kraków', 'Mieszkanie sprzedam Kraków 50m2 2 pokoje', 'Mieszkanie Kraków 47m2 2-pok', 'Sprzedam mieszkanie 42.44m2 2 pok Kraków Odrzańska', 'Sprzedam mieszkanie Kraków os. Osiedle Urocze 33.99m2 1 pokojowe', 'Oferta sprzedaży mieszkania 72.4m2 3-pokojowe Kraków Babińskiego', 'Mieszkanie Kraków 77m2 4 pokojowe', 'Ogłoszenie mieszkanie Kraków 61.7m2 3-pok', 'Mieszkanie na sprzedaż Kraków Osiedle Jagiellońskie', 'Ogłoszenie mieszkanie 64.93 metry 3-pokojowe Kraków Czerwone Maki', 'Ogłoszenie mieszkanie 37m2 2-pokojowe Kraków Zubrzyckiego', 'Mieszkanie ul. Grodzka | 90m od Rynku Głównego!', 'Ogłoszenie mieszkanie 52.79 metrów 3 pok Kraków Rydlówka', 'Mieszkanie Kraków Lubomirskiego 33.16m2 2-pokojowe', 'Mieszkanie 34.3m2 Kraków Starowiślna', 'Mieszkanie Kraków Vetulaniego 56.9 metrów 3 pokojowe', 'Sprzedam mieszkanie w systemie TBS', 'Mieszkanie 90m2 3 pokoje Kraków Juliusza Lea', 'Mieszkanie 74.41m 3 pokojowe Kraków', '4-pokojowe mieszkanie w nowo wybudowanym budynku', 'Mieszkanie na sprzedaż 53.5m2 2 pokoje Kraków', 'mieszkanie 2 pokojow dla 1-2 osób od października', 'Mieszkanie 55.7m2 Kraków Łużycka', 'Mieszkanie Kraków os. Kazimierzowskie 24.76 metrów 1 pokój', 'Oferta sprzedaży mieszkania 66.62m2 3 pokoje Kraków Imbramowska', 'Mieszkanie Kraków Imbramowska 66.62m2 3-pokojowe', 'Oferta sprzedaży mieszkania 48.39m2 2 pokojowe Kraków', 'Ogłoszenie mieszkanie Kraków Zawodzie 74m2 3-pok', 'Sprzedam mieszkanie 45.4m2 Kraków', 'Mieszkanie 50 metrów 2 pokoje Kraków os. Szkolne', 'Mieszkanie 33.12m2 2 pok Kraków', 'Mieszkanie sprzedam 36.6m2 2-pok Kraków', 'Mieszkanie Kraków Babińskiego 31.74m2 1 pok', 'Mieszkanie 31.74m2 2-pok Kraków Babińskiego', '2pok|44,38m²|kom.lokatorska|piwnica-Os.Wandy', 'Oferta wynajmu mieszkania Kraków 38 metrów 2 pokoje', 'Wynajem mieszkania 38.5m2 2 pokojowe Kraków Białoruska', 'Mieszkanie 43m2 2 pokoje Kraków Miłkowskiego', 'Mieszkanie Kraków 31.74m2', 'Sprzedaż mieszkania 36.9m2 1 pokojowe Kraków', 'Mieszkanie Kraków Babińskiego 31.74 metry 1 pokojowe']\n",
      "60\n",
      "Prices: ['1 220 000 zł', '715 155 zł', '265 000 zł', '779 000 zł', '890 000 zł', '997 000 zł', '542 000 zł', '719 000 zł', '1 800 000 zł', '710 000 zł', '460 000 zł', '6 300 zł', '677 460 zł', '1 219 136 zł', '1 158 400 zł', '824 000 zł', '687 138 zł', '840 000 zł', '859 622 zł', '899 000 zł', '600 000 zł', '686 200 zł', '590 000 zł', '410 000 zł', '1 143 920 zł', '898 000 zł', '660 000 zł', '659 000 zł', '3 000 zł', '600 000 zł', '1 270 000 zł', '1 050 000 zł', '630 000 zł', '680 000 zł', '1 100 000 zł', '175 000 zł', '6 900 zł', '1 175 000 zł', '846 000 zł', '1 099 000 zł', '3 000 zł', '670 000 zł', '399 000 zł', '872 722 zł', '872 722 zł', '687 138 zł', '998 000 zł', '699 000 zł', '2 500 zł', '795 000 zł', '495 000 zł', '580 842 zł', '615 756 zł', '675 000 zł', '3 300 zł', '2 300 zł', '2 800 zł', '580 842 zł', '518 000 zł', '599 886 zł']\n",
      "60\n"
     ]
    }
   ],
   "source": [
    "import requests\n",
    "from bs4 import BeautifulSoup\n",
    "import pandas as pd\n",
    "import os\n",
    "\n",
    "url = \"https://sprzedajemy.pl/krakow/nieruchomosci/mieszkania?offset=0&items_per_page=60\"\n",
    "\n",
    "headers = {\n",
    "    \"User-Agent\": \"Mozilla/5.0 (Windows NT 10.0; Win64; x64) AppleWebKit/537.36 (KHTML, like Gecko) Chrome/58.0.3029.110 Safari/537.36\",\n",
    "    \"Accept\": \"text/html,application/xhtml+xml,application/xml;q=0.9,image/webp,image/apng,*/*;q=0.8\",\n",
    "    \"Accept-Encoding\": \"gzip, deflate, br\",\n",
    "    \"Accept-Language\": \"en-US,en;q=0.9,pl;q=0.8\",\n",
    "    \"Connection\": \"keep-alive\"\n",
    "}\n",
    "\n",
    "response = requests.get(url, headers=headers)\n",
    "response = requests.get(url, headers=headers)\n",
    "\n",
    "# Debugowanie odpowiedzi\n",
    "print(f\"Status Code: {response.status_code}\")\n",
    "print(f\"Response Headers: {response.headers}\")\n",
    "print(f\"Response Text (first 2000 chars): {response.text[:2000]}\")\n",
    "\n",
    "# Jeśli odpowiedź jest poprawna, wykonaj webscraping\n",
    "if response.status_code == 200:\n",
    "    soup = BeautifulSoup(response.content, \"html.parser\")\n",
    "\n",
    "    # Pobieranie ofert mieszkań\n",
    "    titles = [h2.a.text.strip() for h2 in soup.find_all(\"h2\", class_=\"title\") if h2.a]\n",
    "    prices = [p.text.replace(\"\\xa0\", \" \").strip() for p in soup.find_all(\"span\", class_=\"price\")]\n",
    "\n",
    "    print(\"Titles:\", titles)\n",
    "    print(len(titles))\n",
    "    print(\"Prices:\", prices)\n",
    "    print(len(prices))\n",
    "\n",
    "    df = pd.DataFrame({\"Title\": titles, \"Price\": prices})\n",
    "\n",
    "    # Dopisanie do pliku CSV\n",
    "    df.to_csv(\"scraped_data.csv\", mode='a', header=not os.path.exists('scraped_data.csv'), index=False)\n",
    "else:\n",
    "    print(\"Failed to retrieve data.\")\n"
   ]
  }
 ],
 "metadata": {
  "colab": {
   "provenance": []
  },
  "kernelspec": {
   "display_name": "Python 3",
   "name": "python3"
  },
  "language_info": {
   "codemirror_mode": {
    "name": "ipython",
    "version": 3
   },
   "file_extension": ".py",
   "mimetype": "text/x-python",
   "name": "python",
   "nbconvert_exporter": "python",
   "pygments_lexer": "ipython3",
   "version": "3.9.23"
  },
  "papermill": {
   "default_parameters": {},
   "duration": 3.348991,
   "end_time": "2025-09-16T22:41:08.125415",
   "environment_variables": {},
   "exception": null,
   "input_path": "nb.ipynb",
   "output_path": "nbo.ipynb",
   "parameters": {},
   "start_time": "2025-09-16T22:41:04.776424",
   "version": "2.6.0"
  }
 },
 "nbformat": 4,
 "nbformat_minor": 5
}