{
 "cells": [
  {
   "cell_type": "code",
   "execution_count": 1,
   "id": "0fd62427",
   "metadata": {
    "colab": {
     "base_uri": "https://localhost:8080/"
    },
    "execution": {
     "iopub.execute_input": "2025-03-30T11:24:27.550025Z",
     "iopub.status.busy": "2025-03-30T11:24:27.549750Z",
     "iopub.status.idle": "2025-03-30T11:24:30.283511Z",
     "shell.execute_reply": "2025-03-30T11:24:30.282779Z"
    },
    "id": "5pYh4c8j1w43",
    "outputId": "8a0dca73-64e5-4f0d-c493-2c5b38392363",
    "papermill": {
     "duration": 2.737414,
     "end_time": "2025-03-30T11:24:30.284722",
     "exception": false,
     "start_time": "2025-03-30T11:24:27.547308",
     "status": "completed"
    },
    "tags": []
   },
   "outputs": [
    {
     "name": "stdout",
     "output_type": "stream",
     "text": [
      "Status Code: 200\n",
      "Response Headers: {'Server': 'nginx', 'Date': 'Sun, 30 Mar 2025 11:24:29 GMT', 'Content-Type': 'text/html; charset=UTF-8', 'Transfer-Encoding': 'chunked', 'Vary': 'Accept-Encoding, User-Agent', 'Set-Cookie': 'FRSPSID=n5hten6p0pjdgmikks8r4n1583; path=/; domain=.sprzedajemy.pl; secure; HttpOnly, _items_per_page__offer_list=60; expires=Tue, 29-Apr-2025 11:24:29 GMT; Max-Age=2592000; path=/; domain=.sprzedajemy.pl; secure; httponly, observed_id=111302209467e929edd462e048997124541003010; expires=Fri, 30-Mar-2125 12:24:29 GMT; Max-Age=3155677200; path=/; domain=.sprzedajemy.pl; secure; httponly', 'Expires': 'Thu, 19 Nov 1981 08:52:00 GMT', 'Cache-Control': 'no-store, no-cache, must-revalidate, post-check=0, pre-check=0', 'Pragma': 'no-cache', 'Content-Encoding': 'gzip'}\n",
      "Response Text (first 2000 chars): <!DOCTYPE html><html xmlns=\"http://www.w3.org/1999/xhtml\" xml:lang=\"pl\" lang=\"pl\" class=\"no-js\" >\n",
      "<head>\n",
      "\t\t\t<!-- Google Tag Manager -->\n",
      "\t\t\t<script>(function(w,d,s,l,i){w[l]=w[l]||[];w[l].push({'gtm.start':\n",
      "\t\t\t\t\t\tnew Date().getTime(),event:'gtm.js'});var f=d.getElementsByTagName(s)[0],\n",
      "\t\t\t\t\tj=d.createElement(s),dl=l!='dataLayer'?'&l='+l:'';j.async=true;j.src=\n",
      "\t\t\t\t\t'https://www.googletagmanager.com/gtm.js?id='+i+dl\n",
      "\t\t\t\t\t\t\t\t\t    ;f.parentNode.insertBefore(j,f);\n",
      "\t\t\t\t    })(window,document,'script','dataLayer','GTM-P3S238');</script>\n",
      "\t\t\t<!-- End Google Tag Manager -->\n",
      "\t<title>Mieszkania Kraków na sprzedaż, wynajem - Sprzedajemy.pl</title><meta http-equiv=\"Content-Type\" content=\"text/html; charset=UTF-8\" >\n",
      "<meta http-equiv=\"X-UA-Compatible\" content=\"IE=edge\" >\n",
      "<meta name=\"description\" content=\"Ogłoszenia o tematyce:  w kategorii Mieszkania - Kupuj i sprzedawaj rzeczy używane i nowe w kategorii Mieszkania na Sprzedajemy.pl\" >\n",
      "<meta property=\"og:title\" content=\"Mieszkania Kraków na sprzedaż, wynajem - Sprzedajemy.pl\" >\n",
      "<meta property=\"og:type\" content=\"website\" >\n",
      "<meta property=\"og:image\" content=\"https://thumbs.img-sprzedajemy.pl/facebook/sprzedajemy.pl.png\" >\n",
      "<meta property=\"og:image:width\" content=\"200\" >\n",
      "<meta property=\"og:image:height\" content=\"200\" >\n",
      "<meta property=\"og:url\" content=\"https://sprzedajemy.pl/krakow/nieruchomosci/mieszkania\" >\n",
      "<meta property=\"og:site_name\" content=\"Sprzedajemy.pl\" >\n",
      "<meta property=\"fb:app_id\" content=\"173258269367442\" >\n",
      "<meta property=\"og:description\" content=\"Ogłoszenia o tematyce:  w kategorii Mieszkania - Kupuj i sprzedawaj rzeczy używane i nowe w kategorii Mieszkania na Sprzedajemy.pl\" >\n",
      "<meta name=\"robots\" content=\"noindex, follow\" >\t\t<script  async=\"async\" src=\"https://static.criteo.net/js/ld/publishertag.js\"></script>\n",
      "        <script  async=\"async\" src=\"https://ap.lijit.com/www/sovrn_beacon_standalone/sovrn_standalone_beacon.js?iid=13417409&amp;uid=sprzedajemy\" id=\"sBeacon\"></script>\n",
      "\t\t<script  async=\"async\" src=\"https://securepuba\n",
      "Titles: ['Strych do adaptacji, Błonia, ul. Filarecka', '2 lub 3 pokoje,62m2,balkon, Widok na Wawel', 'Mieszkanie Kawalerka Studio Kazimierz Wawrzyńca', 'Mistrzejowice - dwupokojowe z jasną kuchnią,balkon', 'Mieszkanie 1 pokojowe z balkonem, blok 2000r', 'Ruczaj - dwupokojowe z aneksem kuchennym, 2002r.', 'Olsza - 62 m2 + 2 tarasy, blisko centrum', 'Apartament, 2 pokoje, jadalnia, garaż,Krowodrza', '2 pokoje,garaż,wysoki standard,ul.Rakowicka,ENG', 'Nowoczesne, wykończone, z garażem i balkonem', 'Kraków Bronowice Stawowa 168 / 60m2 3 POK/ 22,5 m2 taras/ BEZ POŚREDNIKÓW', 'Kraków, Stare Miasto sprzedaż/zamiana', 'Wyjątkowe 2 mieszkania w 1, gotowe do wprowadzenia, po remoncie', 'Świeżo po remoncie, z widokiem na Tatry', 'Właściciel wynajmie duże miejsce parkingowe garaż podziemnym Myśliwska 66', 'Iron Street 2.0 lokal mieszkalny w centrum Krakowa, ul. Kątowa', 'Apartament 40 m2, Kraków Ruczaj Właściciel', 'Mieszkanie Kraków 62m2 3 pokoje', 'Mieszkanie Kraków 103m2', 'Zablłcie Kraków apartament do wynajęcia bezpośrednio', 'Mieszkanie do sprzedania 48m2 3-pok Kraków Piastów', 'Mieszkanie 74.57m2 4 pokoje Kraków Henryka Pachońskiego', 'Mieszkanie, Kraków os. Tysiąclecia 1 - 20 m 2', 'Mieszkanie 74.57m2 3-pokojowe Kraków', 'Zadzwoń zaproponuj cenę Może właściciel zaakceptuje', 'Bezpośrednio|Po remoncie|3 Pok|Wyposażone|Okazja', 'Mieszkanie Kraków 51.85 metrów 2-pokojowe', 'Mieszkanie Kraków 74.57m 3 pokoje', 'Kawelarka plus piwnica w cenie', 'Oferta sprzedaży mieszkania 74.57m2 4 pokoje Kraków Henryka Pachońskiego', 'Oferta sprzedaży mieszkania Kraków 37m2 2-pok', 'Sprzedaż mieszkania 74.57m2 3 pokoje Kraków Henryka Pachońskiego', 'Mieszkanie 74.57m2 4 pokojowe Kraków Henryka Pachońskiego', 'Rezerwacja Czyżyny, 2 pokoje', 'Mieszkanie 74.57m2 3-pok Kraków Henryka Pachońskiego', 'Oferta sprzedaży mieszkania Kraków 74.57m2 4 pokoje', 'Mieszkanie 46.2m2 2 pokojowe Kraków', 'Mieszkanie 74.57m2 4-pokojowe Kraków Henryka Pachońskiego', 'Mieszkanie Kraków Henryka Pachońskiego 74.57 metrów 3 pokoje', 'Ogłoszenie mieszkanie 74.57 metrów 4-pokojowe Kraków', 'Mieszkanie 74.57m2 4 pokoje Kraków Henryka Pachońskiego', 'Lubostroń , Czerwone Maki , Bobrzyńskiego , Ruczaj', 'Mieszkanie 44.52 metry Kraków', 'Mieszkanie na sprzedaż Kraków Aleja Pokoju 24m2 1-pok', '2 pokojowe mieszkanie z tarasem', 'Mieszkanie-Podgórze', 'Mieszkanie 74.57m2 2 pok Kraków', 'Sprzedam mieszkanie/kawalerke', 'Mieszkanie Kraków Henryka Pachońskiego 74.57 metrów 4 pokoje', 'Mieszkanie 67.09m2 4 pokojowe Kraków zabłocie', 'Pokoik do wynajęcia', 'Oferta sprzedaży mieszkania Kraków 74.57m2 2-pok', 'Mieszkanie 74.57m2 3 pokoje Kraków Henryka Pachońskiego', 'Oferta sprzedaży mieszkania 41.7m2 Kraków', 'Mieszkanie 61.1m2 3 pokoje Kraków Włodkowica', 'Mieszkanie sprzedam Kraków 74.57m2 2 pokojowe', 'Mieszkanie Kraków 67.09m2', 'Mieszkanie do sprzedania 36m2 2 pokoje Kraków Praska', 'Os . Kazimierzowskie 3 pokoje bezpośrednio od właściciela', 'Mieszkanie Kraków Stańczyka 52m2 2-pokojowe']\n",
      "60\n",
      "Prices: ['379 999 zł', '1 590 000 zł', '420 000 zł', '599 000 zł', '435 000 zł', '669 000 zł', '819 000 zł', '3 800 zł', '3 000 zł', '990 000 zł', '1 137 500 zł', '2 254 000 zł', '1 185 000 zł', '790 000 zł', '250 zł', '410 000 zł', '3 200 zł', '4 000 zł', '2 500 000 zł', '2 700 zł', '599 000 zł', '816 102 zł', '336 000 zł', '767 659 zł', '699 000 zł', '764 490 zł', '899 000 zł', '772 156 zł', '355 000 zł', '855 848 zł', '740 000 zł', '767 659 zł', '805 014 zł', '509 000 zł', '772 156 zł', '855 848 zł', '743 680 zł', '855 724 zł', '767 659 zł', '816 102 zł', '816 102 zł', '2 600 zł', '699 000 zł', '490 000 zł', '600 000 zł', '669 000 zł', '615 976 zł', '449 000 zł', '815 976 zł', '1 281 042 zł', '500 zł', '615 976 zł', '739 102 zł', '597 000 zł', '850 000 zł', '702 270 zł', '1 237 263 zł', '660 000 zł', '2 500 zł', '965 000 zł']\n",
      "60\n"
     ]
    }
   ],
   "source": [
    "import requests\n",
    "from bs4 import BeautifulSoup\n",
    "import pandas as pd\n",
    "import os\n",
    "\n",
    "url = \"https://sprzedajemy.pl/krakow/nieruchomosci/mieszkania?offset=0&items_per_page=60\"\n",
    "\n",
    "headers = {\n",
    "    \"User-Agent\": \"Mozilla/5.0 (Windows NT 10.0; Win64; x64) AppleWebKit/537.36 (KHTML, like Gecko) Chrome/58.0.3029.110 Safari/537.36\",\n",
    "    \"Accept\": \"text/html,application/xhtml+xml,application/xml;q=0.9,image/webp,image/apng,*/*;q=0.8\",\n",
    "    \"Accept-Encoding\": \"gzip, deflate, br\",\n",
    "    \"Accept-Language\": \"en-US,en;q=0.9,pl;q=0.8\",\n",
    "    \"Connection\": \"keep-alive\"\n",
    "}\n",
    "\n",
    "response = requests.get(url, headers=headers)\n",
    "response = requests.get(url, headers=headers)\n",
    "\n",
    "# Debugowanie odpowiedzi\n",
    "print(f\"Status Code: {response.status_code}\")\n",
    "print(f\"Response Headers: {response.headers}\")\n",
    "print(f\"Response Text (first 2000 chars): {response.text[:2000]}\")\n",
    "\n",
    "# Jeśli odpowiedź jest poprawna, wykonaj webscraping\n",
    "if response.status_code == 200:\n",
    "    soup = BeautifulSoup(response.content, \"html.parser\")\n",
    "\n",
    "    # Pobieranie ofert mieszkań\n",
    "    titles = [h2.a.text.strip() for h2 in soup.find_all(\"h2\", class_=\"title\") if h2.a]\n",
    "    prices = [p.text.replace(\"\\xa0\", \" \").strip() for p in soup.find_all(\"span\", class_=\"price\")]\n",
    "\n",
    "    print(\"Titles:\", titles)\n",
    "    print(len(titles))\n",
    "    print(\"Prices:\", prices)\n",
    "    print(len(prices))\n",
    "\n",
    "    df = pd.DataFrame({\"Title\": titles, \"Price\": prices})\n",
    "\n",
    "    # Dopisanie do pliku CSV\n",
    "    df.to_csv(\"scraped_data.csv\", mode='a', header=not os.path.exists('scraped_data.csv'), index=False)\n",
    "else:\n",
    "    print(\"Failed to retrieve data.\")\n"
   ]
  }
 ],
 "metadata": {
  "colab": {
   "provenance": []
  },
  "kernelspec": {
   "display_name": "Python 3",
   "name": "python3"
  },
  "language_info": {
   "codemirror_mode": {
    "name": "ipython",
    "version": 3
   },
   "file_extension": ".py",
   "mimetype": "text/x-python",
   "name": "python",
   "nbconvert_exporter": "python",
   "pygments_lexer": "ipython3",
   "version": "3.9.21"
  },
  "papermill": {
   "default_parameters": {},
   "duration": 3.828131,
   "end_time": "2025-03-30T11:24:30.501755",
   "environment_variables": {},
   "exception": null,
   "input_path": "nb.ipynb",
   "output_path": "nbo.ipynb",
   "parameters": {},
   "start_time": "2025-03-30T11:24:26.673624",
   "version": "2.6.0"
  }
 },
 "nbformat": 4,
 "nbformat_minor": 5
}