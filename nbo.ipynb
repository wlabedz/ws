{
 "cells": [
  {
   "cell_type": "code",
   "execution_count": 1,
   "id": "d439a722",
   "metadata": {
    "colab": {
     "base_uri": "https://localhost:8080/"
    },
    "execution": {
     "iopub.execute_input": "2025-10-31T17:11:59.696557Z",
     "iopub.status.busy": "2025-10-31T17:11:59.696308Z",
     "iopub.status.idle": "2025-10-31T17:12:02.382274Z",
     "shell.execute_reply": "2025-10-31T17:12:02.381568Z"
    },
    "id": "5pYh4c8j1w43",
    "outputId": "8a0dca73-64e5-4f0d-c493-2c5b38392363",
    "papermill": {
     "duration": 2.689216,
     "end_time": "2025-10-31T17:12:02.383491",
     "exception": false,
     "start_time": "2025-10-31T17:11:59.694275",
     "status": "completed"
    },
    "tags": []
   },
   "outputs": [
    {
     "name": "stdout",
     "output_type": "stream",
     "text": [
      "Status Code: 200\n",
      "Response Headers: {'Server': 'nginx', 'Date': 'Fri, 31 Oct 2025 17:12:01 GMT', 'Content-Type': 'text/html; charset=UTF-8', 'Transfer-Encoding': 'chunked', 'Vary': 'Accept-Encoding, User-Agent', 'Set-Cookie': 'FRSPSID=ra9ibkmh5hmcvfb29rdl2a05r4; path=/; domain=.sprzedajemy.pl; secure; HttpOnly, _items_per_page__offer_list=60; expires=Sun, 30-Nov-2025 17:12:01 GMT; Max-Age=2592000; path=/; domain=.sprzedajemy.pl; secure; httponly, observed_id=233025606904ede1d91871133367566951126288; expires=Wed, 31-Oct-2125 17:12:01 GMT; Max-Age=3155673600; path=/; domain=.sprzedajemy.pl; secure; httponly', 'Expires': 'Thu, 19 Nov 1981 08:52:00 GMT', 'Cache-Control': 'no-store, no-cache, must-revalidate, post-check=0, pre-check=0', 'Pragma': 'no-cache', 'Content-Encoding': 'gzip'}\n",
      "Response Text (first 2000 chars): <!DOCTYPE html><html xmlns=\"http://www.w3.org/1999/xhtml\" xml:lang=\"pl\" lang=\"pl\" class=\"no-js\" >\n",
      "<head>\n",
      "\t\t\t<!-- Google Tag Manager -->\n",
      "\t\t\t<script>(function(w,d,s,l,i){w[l]=w[l]||[];w[l].push({'gtm.start':\n",
      "\t\t\t\t\t\tnew Date().getTime(),event:'gtm.js'});var f=d.getElementsByTagName(s)[0],\n",
      "\t\t\t\t\tj=d.createElement(s),dl=l!='dataLayer'?'&l='+l:'';j.async=true;j.src=\n",
      "\t\t\t\t\t'https://www.googletagmanager.com/gtm.js?id='+i+dl\n",
      "\t\t\t\t\t\t\t\t\t    ;f.parentNode.insertBefore(j,f);\n",
      "\t\t\t\t    })(window,document,'script','dataLayer','GTM-P3S238');</script>\n",
      "\t\t\t<!-- End Google Tag Manager -->\n",
      "\t<title>Mieszkania Kraków na sprzedaż, wynajem - Sprzedajemy.pl</title><meta http-equiv=\"Content-Type\" content=\"text/html; charset=UTF-8\" >\n",
      "<meta http-equiv=\"X-UA-Compatible\" content=\"IE=edge\" >\n",
      "<meta name=\"description\" content=\"Ogłoszenia o tematyce:  w kategorii Mieszkania - Kupuj i sprzedawaj rzeczy używane i nowe w kategorii Mieszkania na Sprzedajemy.pl\" >\n",
      "<meta property=\"og:title\" content=\"Mieszkania Kraków na sprzedaż, wynajem - Sprzedajemy.pl\" >\n",
      "<meta property=\"og:type\" content=\"website\" >\n",
      "<meta property=\"og:image\" content=\"https://thumbs.img-sprzedajemy.pl/facebook/sprzedajemy.pl.png\" >\n",
      "<meta property=\"og:image:width\" content=\"200\" >\n",
      "<meta property=\"og:image:height\" content=\"200\" >\n",
      "<meta property=\"og:url\" content=\"https://sprzedajemy.pl/krakow/nieruchomosci/mieszkania\" >\n",
      "<meta property=\"og:site_name\" content=\"Sprzedajemy.pl\" >\n",
      "<meta property=\"fb:app_id\" content=\"173258269367442\" >\n",
      "<meta property=\"og:description\" content=\"Ogłoszenia o tematyce:  w kategorii Mieszkania - Kupuj i sprzedawaj rzeczy używane i nowe w kategorii Mieszkania na Sprzedajemy.pl\" >\n",
      "<meta name=\"robots\" content=\"noindex, follow\" >\t\t<script  async=\"async\" src=\"https://static.criteo.net/js/ld/publishertag.js\"></script>\n",
      "        <script  async=\"async\" src=\"https://ap.lijit.com/www/sovrn_beacon_standalone/sovrn_standalone_beacon.js?iid=13417409&amp;uid=sprzedajemy\" id=\"sBeacon\"></script>\n",
      "\t\t<script  async=\"async\" src=\"https://securepuba\n",
      "Titles: ['PILNE dwupokojowe mieszkanie (balkon, piwnica) os. Dywizjonu 303, 19C Krak…', 'Mieszkanie z widokiem na góry', 'Grzegorzki mieszkanie na sprzedaż 30 m', 'Mieszkanie Kraków 59.31m2 4 pokoje', 'Mieszkanie sprzedam 62.46 metrów 3 pokojowe Kraków Wadowicka', 'Mieszkanie 48.28m2 3 pok Kraków Pękowicka', 'Mieszkanie Kraków 29 listopada - okolice 35.26m2 2 pok', 'Mieszkanie Kraków Na Błonie 41.41m2 2-pokojowe', 'Sprzedam mieszkanie Kraków Dąbrowskiego 41.3m2 2 pokoje', 'Oferta sprzedaży mieszkania Kraków Na Błonie 69.8m2 3 pokojowe', 'Mieszkanie 43.35m2 2-pok Kraków Wadowicka', 'Mieszkanie Kraków 37.51 metrów 2-pokojowe', 'Mieszkanie 40.61m2 1 pokój Kraków Wadowicka', 'Mieszkanie 71.45m2 4 pokoje Kraków Piasta Kołodzieja', 'Mieszkanie 52.13 metry 3-pokojowe Kraków Pękowicka', 'Mieszkanie Kraków 51.95m2 3-pok', 'Mieszkanie Kraków Wadowicka 62.46m2 3-pokojowe', 'Mieszkanie Kraków Praska 120.23m 4 pokoje', 'Mieszkanie Kraków 37.06m 2 pokoje', 'Mieszkanie 65.16m2 4-pokojowe Kraków Kantrowicka', 'Oferta sprzedaży mieszkania 67.57m2 Kraków Pękowicka', 'Mieszkanie Kraków Na Błonie 101.11m2', 'Mieszkanie 34m 1 pokój Kraków al. Mickiewicza', 'Sprzedaż mieszkania 42.3m2 Kraków', 'Oferta sprzedaży mieszkania Kraków Olszanicka 151.37m2', 'Oferta sprzedaży mieszkania 51.41m2 3-pokojowe Kraków Kantrowicka', 'Mieszkanie do sprzedania Kraków 37.45m2 2 pokojowe', 'Mieszkanie do sprzedania 70.88m2 3-pok Kraków Babińskiego', 'Mieszkanie sprzedam 34.79m2 2 pokoje Kraków Kantrowicka', 'Sprzedam mieszkanie Kraków 56.09m2 3 pokoje', 'Mieszkanie 38.65 metrów 2 pokoje Kraków Na Błonie', 'Mieszkanie 38.76m2 Kraków Pękowicka', 'Oferta sprzedaży mieszkania Kraków 47.88m2 3-pokojowe', 'Mieszkanie 63.82m2 3 pokojowe Kraków', 'Mieszkanie Kraków Wadowicka 45.27m 2-pok', 'Oferta sprzedaży mieszkania Kraków 41.16m2 2 pokoje', 'Mieszkanie Kraków Wadowicka 69.31m2 2 pokoje', 'Mieszkanie Kraków Babińskiego 31.74m2 1-pok', 'Mieszkanie Kraków Babińskiego 33.25 metrów 1 pok', 'Mieszkanie Kraków Pękowicka 64.92 metry 4 pokoje', 'duże 2-pokojowe mieszkanie Z 2024r - 53m2 z balkonem APARTAMENT', 'Mieszkanie do sprzedania Kraków Babińskiego 32.79m2 1 pokój', 'Sprzedam mieszkanie 64.89m2 4 pokoje Kraków Kantrowicka', 'Mieszkanie Kraków Babińskiego 70.88m2 3 pokoje', 'Wynajem mieszkania 48.61m2 2-pok Kraków', 'Sprzedam mieszkanie 31.74m2 1 pokój Kraków Babińskiego', 'Mieszkanie Kraków Ludwinowska 110m2 3 pokojowe', 'Mieszkanie Kraków 43.35m2 2 pokoje', 'Mieszkanie 73.62m2 Kraków', 'Mieszkanie 36.09m2 2 pokoje Kraków Kantrowicka', 'Do sprzedaży mieszkanie Kraków 44.29m2 2 pok', 'Mieszkanie 38.51m2 2-pokojowe Kraków', 'Mieszkanie Kraków 72.56m 2-pokojowe', 'Mieszkanie Kraków Kantrowicka 51.54m2 3-pokojowe', 'Oferta sprzedaży mieszkania 45.84m2 2 pokoje Kraków Wadowicka', 'Mieszkanie Kraków Kantrowicka 51.42 metry 3 pokoje', 'Mieszkanie 60.04m2 4 pokoje Kraków', 'Mieszkanie Kraków 37.52m2 2 pok', 'Mieszkanie Kraków 61.45m2 3 pokojowe', 'Mieszkanie Kraków Mirosława Krzyżańskiego 84.27 metrów 4 pok']\n",
      "60\n",
      "Prices: ['590 000 zł', '265 000 zł', '549 000 zł', '859 995 zł', '1 068 066 zł', '704 888 zł', '672 315 zł', '730 704 zł', '769 000 zł', '1 147 721 zł', '797 640 zł', '756 914 zł', '629 455 zł', '907 415 zł', '857 538 zł', '746 781 zł', '1 055 574 zł', '3 000 000 zł', '594 720 zł', '944 820 zł', '952 737 zł', '1 649 710 zł', '748 000 zł', '614 655 zł', '2 138 088 zł', '668 330 zł', '754 729 zł', '1 169 520 zł', '479 232 zł', '729 170 zł', '779 918 zł', '616 284 zł', '705 033 zł', '1 128 401 zł', '846 549 zł', '751 312 zł', '1 136 684 zł', '615 756 zł', '628 425 zł', '918 618 zł', '1 135 000 zł', '619 731 zł', '811 125 zł', '1 169 520 zł', '2 800 zł', '599 886 zł', '10 000 zł', '762 960 zł', '1 133 748 zł', '514 282 zł', '668 779 zł', '729 817 zł', '1 226 264 zł', '734 445 zł', '857 208 zł', '635 987 zł', '981 654 zł', '739 798 zł', '669 805 zł', '969 105 zł']\n",
      "60\n"
     ]
    }
   ],
   "source": [
    "import requests\n",
    "from bs4 import BeautifulSoup\n",
    "import pandas as pd\n",
    "import os\n",
    "\n",
    "url = \"https://sprzedajemy.pl/krakow/nieruchomosci/mieszkania?offset=0&items_per_page=60\"\n",
    "\n",
    "headers = {\n",
    "    \"User-Agent\": \"Mozilla/5.0 (Windows NT 10.0; Win64; x64) AppleWebKit/537.36 (KHTML, like Gecko) Chrome/58.0.3029.110 Safari/537.36\",\n",
    "    \"Accept\": \"text/html,application/xhtml+xml,application/xml;q=0.9,image/webp,image/apng,*/*;q=0.8\",\n",
    "    \"Accept-Encoding\": \"gzip, deflate, br\",\n",
    "    \"Accept-Language\": \"en-US,en;q=0.9,pl;q=0.8\",\n",
    "    \"Connection\": \"keep-alive\"\n",
    "}\n",
    "\n",
    "response = requests.get(url, headers=headers)\n",
    "response = requests.get(url, headers=headers)\n",
    "\n",
    "# Debugowanie odpowiedzi\n",
    "print(f\"Status Code: {response.status_code}\")\n",
    "print(f\"Response Headers: {response.headers}\")\n",
    "print(f\"Response Text (first 2000 chars): {response.text[:2000]}\")\n",
    "\n",
    "# Jeśli odpowiedź jest poprawna, wykonaj webscraping\n",
    "if response.status_code == 200:\n",
    "    soup = BeautifulSoup(response.content, \"html.parser\")\n",
    "\n",
    "    # Pobieranie ofert mieszkań\n",
    "    titles = [h2.a.text.strip() for h2 in soup.find_all(\"h2\", class_=\"title\") if h2.a]\n",
    "    prices = [p.text.replace(\"\\xa0\", \" \").strip() for p in soup.find_all(\"span\", class_=\"price\")]\n",
    "\n",
    "    print(\"Titles:\", titles)\n",
    "    print(len(titles))\n",
    "    print(\"Prices:\", prices)\n",
    "    print(len(prices))\n",
    "\n",
    "    df = pd.DataFrame({\"Title\": titles, \"Price\": prices})\n",
    "\n",
    "    # Dopisanie do pliku CSV\n",
    "    df.to_csv(\"scraped_data.csv\", mode='a', header=not os.path.exists('scraped_data.csv'), index=False)\n",
    "else:\n",
    "    print(\"Failed to retrieve data.\")\n"
   ]
  }
 ],
 "metadata": {
  "colab": {
   "provenance": []
  },
  "kernelspec": {
   "display_name": "Python 3",
   "name": "python3"
  },
  "language_info": {
   "codemirror_mode": {
    "name": "ipython",
    "version": 3
   },
   "file_extension": ".py",
   "mimetype": "text/x-python",
   "name": "python",
   "nbconvert_exporter": "python",
   "pygments_lexer": "ipython3",
   "version": "3.9.23"
  },
  "papermill": {
   "default_parameters": {},
   "duration": 3.848961,
   "end_time": "2025-10-31T17:12:02.600145",
   "environment_variables": {},
   "exception": null,
   "input_path": "nb.ipynb",
   "output_path": "nbo.ipynb",
   "parameters": {},
   "start_time": "2025-10-31T17:11:58.751184",
   "version": "2.6.0"
  }
 },
 "nbformat": 4,
 "nbformat_minor": 5
}