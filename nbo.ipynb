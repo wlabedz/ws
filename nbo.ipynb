{
 "cells": [
  {
   "cell_type": "code",
   "execution_count": 1,
   "id": "2585c2da",
   "metadata": {
    "colab": {
     "base_uri": "https://localhost:8080/"
    },
    "execution": {
     "iopub.execute_input": "2025-10-31T19:00:45.561935Z",
     "iopub.status.busy": "2025-10-31T19:00:45.561674Z",
     "iopub.status.idle": "2025-10-31T19:00:48.431984Z",
     "shell.execute_reply": "2025-10-31T19:00:48.431258Z"
    },
    "id": "5pYh4c8j1w43",
    "outputId": "8a0dca73-64e5-4f0d-c493-2c5b38392363",
    "papermill": {
     "duration": 2.873777,
     "end_time": "2025-10-31T19:00:48.433128",
     "exception": false,
     "start_time": "2025-10-31T19:00:45.559351",
     "status": "completed"
    },
    "tags": []
   },
   "outputs": [
    {
     "name": "stdout",
     "output_type": "stream",
     "text": [
      "Status Code: 200\n",
      "Response Headers: {'Server': 'nginx', 'Date': 'Fri, 31 Oct 2025 19:00:48 GMT', 'Content-Type': 'text/html; charset=UTF-8', 'Transfer-Encoding': 'chunked', 'Vary': 'Accept-Encoding, User-Agent', 'Set-Cookie': 'FRSPSID=g94nq4mh0uoet2d7e066pm88l2; path=/; domain=.sprzedajemy.pl; secure; HttpOnly, _items_per_page__offer_list=60; expires=Sun, 30-Nov-2025 19:00:47 GMT; Max-Age=2592000; path=/; domain=.sprzedajemy.pl; secure; httponly, observed_id=5005242606905075fe39c8158901273272113341; expires=Wed, 31-Oct-2125 19:00:47 GMT; Max-Age=3155673600; path=/; domain=.sprzedajemy.pl; secure; httponly', 'Expires': 'Thu, 19 Nov 1981 08:52:00 GMT', 'Cache-Control': 'no-store, no-cache, must-revalidate, post-check=0, pre-check=0', 'Pragma': 'no-cache', 'Content-Encoding': 'gzip'}\n",
      "Response Text (first 2000 chars): <!DOCTYPE html><html xmlns=\"http://www.w3.org/1999/xhtml\" xml:lang=\"pl\" lang=\"pl\" class=\"no-js\" >\n",
      "<head>\n",
      "\t\t\t<!-- Google Tag Manager -->\n",
      "\t\t\t<script>(function(w,d,s,l,i){w[l]=w[l]||[];w[l].push({'gtm.start':\n",
      "\t\t\t\t\t\tnew Date().getTime(),event:'gtm.js'});var f=d.getElementsByTagName(s)[0],\n",
      "\t\t\t\t\tj=d.createElement(s),dl=l!='dataLayer'?'&l='+l:'';j.async=true;j.src=\n",
      "\t\t\t\t\t'https://www.googletagmanager.com/gtm.js?id='+i+dl\n",
      "\t\t\t\t\t\t\t\t\t    ;f.parentNode.insertBefore(j,f);\n",
      "\t\t\t\t    })(window,document,'script','dataLayer','GTM-P3S238');</script>\n",
      "\t\t\t<!-- End Google Tag Manager -->\n",
      "\t<title>Mieszkania Kraków na sprzedaż, wynajem - Sprzedajemy.pl</title><meta http-equiv=\"Content-Type\" content=\"text/html; charset=UTF-8\" >\n",
      "<meta http-equiv=\"X-UA-Compatible\" content=\"IE=edge\" >\n",
      "<meta name=\"description\" content=\"Ogłoszenia o tematyce:  w kategorii Mieszkania - Kupuj i sprzedawaj rzeczy używane i nowe w kategorii Mieszkania na Sprzedajemy.pl\" >\n",
      "<meta property=\"og:title\" content=\"Mieszkania Kraków na sprzedaż, wynajem - Sprzedajemy.pl\" >\n",
      "<meta property=\"og:type\" content=\"website\" >\n",
      "<meta property=\"og:image\" content=\"https://thumbs.img-sprzedajemy.pl/facebook/sprzedajemy.pl.png\" >\n",
      "<meta property=\"og:image:width\" content=\"200\" >\n",
      "<meta property=\"og:image:height\" content=\"200\" >\n",
      "<meta property=\"og:url\" content=\"https://sprzedajemy.pl/krakow/nieruchomosci/mieszkania\" >\n",
      "<meta property=\"og:site_name\" content=\"Sprzedajemy.pl\" >\n",
      "<meta property=\"fb:app_id\" content=\"173258269367442\" >\n",
      "<meta property=\"og:description\" content=\"Ogłoszenia o tematyce:  w kategorii Mieszkania - Kupuj i sprzedawaj rzeczy używane i nowe w kategorii Mieszkania na Sprzedajemy.pl\" >\n",
      "<meta name=\"robots\" content=\"noindex, follow\" >\t\t<script  async=\"async\" src=\"https://static.criteo.net/js/ld/publishertag.js\"></script>\n",
      "        <script  async=\"async\" src=\"https://ap.lijit.com/www/sovrn_beacon_standalone/sovrn_standalone_beacon.js?iid=13417409&amp;uid=sprzedajemy\" id=\"sBeacon\"></script>\n",
      "\t\t<script  async=\"async\" src=\"https://securepuba\n",
      "Titles: ['PILNE dwupokojowe mieszkanie (balkon, piwnica) os. Dywizjonu 303, 19C Krak…', 'Mieszkanie z widokiem na góry', 'Grzegorzki mieszkanie na sprzedaż 30 m', 'Mieszkanie Kraków Kantrowicka 34.79 metrów', 'Oferta sprzedaży mieszkania Kraków Babińskiego 72.4m2 3-pokojowe', 'Mieszkanie Kraków Pękowicka 26.92m2 1 pokój', 'Mieszkanie Kraków Babińskiego 72.4m2 3 pokoje', 'Mieszkanie 50.46m2 2-pokojowe Kraków Stefana Banacha', 'Oferta sprzedaży mieszkania 32.79m2 Kraków', 'Oferta sprzedaży mieszkania 52.19m2 3-pokojowe Kraków', 'Mieszkanie 83.1m2 4-pok Kraków Wadowicka', 'Mieszkanie do sprzedania Kraków 39.29m2 2 pok', 'Mieszkanie sprzedam 37.49 metrów 2-pokojowe Kraków', 'Mieszkanie Kraków 38.37m2 2 pok', 'Mieszkanie 72.4m2 Kraków Babińskiego', 'Mieszkanie Kraków Kantrowicka 36.09m', 'Sprzedam mieszkanie 70.88m2 3 pokoje Kraków Babińskiego', 'Mieszkanie Kraków Babińskiego 59.85m2 3 pokojowe', 'Mieszkanie sprzedam 57.14m2 3 pok Kraków Chełmońskiego', 'Mieszkanie Kraków 37.17m2 2 pokoje', 'Mieszkanie Kraków Na Błonie 38.07m2 2-pokojowe', 'Mieszkanie Kraków Wadowicka 51.71m2 2 pokojowe', 'Oferta sprzedaży mieszkania Kraków Babińskiego 33.25m2 1-pokojowe', 'Mieszkanie Kraków os. Dywizjonu 303 73m2 3 pokojowe', 'Mieszkanie Kraków 35.05m2 2 pokoje', 'Mieszkanie 48.2m Kraków', 'Sprzedam mieszkanie Kraków 62.46m2 3 pokoje', 'Mieszkanie 54.06m2 3 pokoje Kraków Pękowicka', 'Mieszkanie 34.79m2 2-pok Kraków Kantrowicka', 'Mieszkanie 83.66m2 5 pokoi Kraków Wadowicka', 'Mieszkanie Kraków Wadowicka 43.57m2 2 pokoje', 'Mieszkanie 52.14m 3 pokojowe Kraków Pękowicka', 'Mieszkanie 65.37m2 3 pokoje Kraków Na Błonie', 'Mieszkanie na sprzedaż 66.11m2 3 pokojowe Kraków', 'Mieszkanie 70.88m2 3-pokojowe Kraków', 'Mieszkanie 85.52m 4 pokojowe Kraków Biskupa Albina Małysiaka', 'Ogłoszenie mieszkanie Kraków Wadowicka 67.42m2 3 pokoje', 'Mieszkanie 59.82m2 4 pokoje Kraków', 'Mieszkanie 70.88m2 Kraków', 'Mieszkanie 31.74m2 1 pokój Kraków Babińskiego', 'Mieszkanie na sprzedaż Kraków Pękowicka 51.82m2 3 pok', 'Mieszkanie Kraków 49.86m2 3-pokojowe', 'Oferta sprzedaży mieszkania Kraków 35.26 metrów 2 pokoje', 'Mieszkanie Kraków 33.56m2 1 pokojowe', 'Mieszkanie Kraków 49.63m2 3 pokoje', 'Sprzedam mieszkanie 51.97m2 3 pokoje Kraków', 'Oferta sprzedaży mieszkania 41.99m2 2 pokoje Kraków Wadowicka', 'Mieszkanie 42.1m2 2 pok Kraków Pękowicka', 'Mieszkanie Kraków Na Błonie 26.73m2 1-pokojowe', 'Mieszkanie Kraków Na Błonie 40.71 metrów 2 pokojowe', 'Mieszkanie Kraków 52.26m2 3 pokoje', 'Oferta sprzedaży mieszkania 69.13 metry 3 pok Kraków', 'Mieszkanie 65.46m2 3-pok Kraków Wadowicka', 'Mieszkanie na sprzedaż 38.1m2 2 pok Kraków Na Błonie', 'Mieszkanie Kraków 73.99m2 3-pokojowe', 'Mieszkanie Kraków Kantrowicka 65.16m2 4 pokojowe', 'Mieszkanie 45.27m2 2 pokojowe Kraków Wadowicka', 'Sprzedaż mieszkania Kraków Na Błonie 64.86m2', 'Mieszkanie 59.31m2 4-pokojowe Kraków Kantrowicka', 'Oferta sprzedaży mieszkania Kraków 29 listopada - okolice 37.85m2 2 pokoje']\n",
      "60\n",
      "Prices: ['590 000 zł', '265 000 zł', '549 000 zł', '504 455 zł', '1 194 600 zł', '469 754 zł', '1 245 280 zł', '799 000 zł', '619 731 zł', '748 926 zł', '1 312 980 zł', '624 711 zł', '595 754 zł', '646 457 zł', '1 194 600 zł', '541 350 zł', '1 219 136 zł', '1 029 420 zł', '912 000 zł', '598 902 zł', '736 536 zł', '868 728 zł', '628 425 zł', '900 000 zł', '482 813 zł', '706 130 zł', '1 093 050 zł', '770 355 zł', '521 850 zł', '1 321 828 zł', '806 045 zł', '855 096 zł', '1 127 240 zł', '991 650 zł', '1 169 520 zł', '1 490 000 zł', '1 092 204 zł', '850 939 zł', '1 219 136 zł', '615 756 zł', '747 503 zł', '703 026 zł', '645 875 zł', '731 880 zł', '709 709 zł', '750 966 zł', '705 432 zł', '618 280 zł', '565 045 zł', '712 922 zł', '751 237 zł', '1 109 743 zł', '1 099 728 zł', '738 067 zł', '1 560 000 zł', '773 775 zł', '855 603 zł', '1 126 229 zł', '816 995 zł', '646 141 zł']\n",
      "60\n"
     ]
    }
   ],
   "source": [
    "import requests\n",
    "from bs4 import BeautifulSoup\n",
    "import pandas as pd\n",
    "import os\n",
    "\n",
    "url = \"https://sprzedajemy.pl/krakow/nieruchomosci/mieszkania?offset=0&items_per_page=60\"\n",
    "\n",
    "headers = {\n",
    "    \"User-Agent\": \"Mozilla/5.0 (Windows NT 10.0; Win64; x64) AppleWebKit/537.36 (KHTML, like Gecko) Chrome/58.0.3029.110 Safari/537.36\",\n",
    "    \"Accept\": \"text/html,application/xhtml+xml,application/xml;q=0.9,image/webp,image/apng,*/*;q=0.8\",\n",
    "    \"Accept-Encoding\": \"gzip, deflate, br\",\n",
    "    \"Accept-Language\": \"en-US,en;q=0.9,pl;q=0.8\",\n",
    "    \"Connection\": \"keep-alive\"\n",
    "}\n",
    "\n",
    "response = requests.get(url, headers=headers)\n",
    "response = requests.get(url, headers=headers)\n",
    "\n",
    "# Debugowanie odpowiedzi\n",
    "print(f\"Status Code: {response.status_code}\")\n",
    "print(f\"Response Headers: {response.headers}\")\n",
    "print(f\"Response Text (first 2000 chars): {response.text[:2000]}\")\n",
    "\n",
    "# Jeśli odpowiedź jest poprawna, wykonaj webscraping\n",
    "if response.status_code == 200:\n",
    "    soup = BeautifulSoup(response.content, \"html.parser\")\n",
    "\n",
    "    # Pobieranie ofert mieszkań\n",
    "    titles = [h2.a.text.strip() for h2 in soup.find_all(\"h2\", class_=\"title\") if h2.a]\n",
    "    prices = [p.text.replace(\"\\xa0\", \" \").strip() for p in soup.find_all(\"span\", class_=\"price\")]\n",
    "\n",
    "    print(\"Titles:\", titles)\n",
    "    print(len(titles))\n",
    "    print(\"Prices:\", prices)\n",
    "    print(len(prices))\n",
    "\n",
    "    df = pd.DataFrame({\"Title\": titles, \"Price\": prices})\n",
    "\n",
    "    # Dopisanie do pliku CSV\n",
    "    df.to_csv(\"scraped_data.csv\", mode='a', header=not os.path.exists('scraped_data.csv'), index=False)\n",
    "else:\n",
    "    print(\"Failed to retrieve data.\")\n"
   ]
  }
 ],
 "metadata": {
  "colab": {
   "provenance": []
  },
  "kernelspec": {
   "display_name": "Python 3",
   "name": "python3"
  },
  "language_info": {
   "codemirror_mode": {
    "name": "ipython",
    "version": 3
   },
   "file_extension": ".py",
   "mimetype": "text/x-python",
   "name": "python",
   "nbconvert_exporter": "python",
   "pygments_lexer": "ipython3",
   "version": "3.9.24"
  },
  "papermill": {
   "default_parameters": {},
   "duration": 4.043862,
   "end_time": "2025-10-31T19:00:48.649567",
   "environment_variables": {},
   "exception": null,
   "input_path": "nb.ipynb",
   "output_path": "nbo.ipynb",
   "parameters": {},
   "start_time": "2025-10-31T19:00:44.605705",
   "version": "2.6.0"
  }
 },
 "nbformat": 4,
 "nbformat_minor": 5
}