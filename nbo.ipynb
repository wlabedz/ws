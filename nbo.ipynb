{
 "cells": [
  {
   "cell_type": "code",
   "execution_count": 1,
   "id": "58916d09",
   "metadata": {
    "colab": {
     "base_uri": "https://localhost:8080/"
    },
    "execution": {
     "iopub.execute_input": "2025-07-13T17:44:50.360798Z",
     "iopub.status.busy": "2025-07-13T17:44:50.360148Z",
     "iopub.status.idle": "2025-07-13T17:44:52.402509Z",
     "shell.execute_reply": "2025-07-13T17:44:52.401803Z"
    },
    "id": "5pYh4c8j1w43",
    "outputId": "8a0dca73-64e5-4f0d-c493-2c5b38392363",
    "papermill": {
     "duration": 2.046014,
     "end_time": "2025-07-13T17:44:52.403634",
     "exception": false,
     "start_time": "2025-07-13T17:44:50.357620",
     "status": "completed"
    },
    "tags": []
   },
   "outputs": [
    {
     "name": "stdout",
     "output_type": "stream",
     "text": [
      "Status Code: 200\n",
      "Response Headers: {'Server': 'nginx', 'Date': 'Sun, 13 Jul 2025 17:44:52 GMT', 'Content-Type': 'text/html; charset=UTF-8', 'Transfer-Encoding': 'chunked', 'Vary': 'Accept-Encoding, User-Agent', 'Set-Cookie': 'FRSPSID=v3ubp76na6dkebfsomm0gqta52; path=/; domain=.sprzedajemy.pl; secure; HttpOnly, _items_per_page__offer_list=60; expires=Tue, 12-Aug-2025 17:44:51 GMT; Max-Age=2592000; path=/; domain=.sprzedajemy.pl; secure; httponly, observed_id=14747269116873f09400f7e053961817068771115; expires=Fri, 13-Jul-2125 18:44:51 GMT; Max-Age=3155677200; path=/; domain=.sprzedajemy.pl; secure; httponly', 'Expires': 'Thu, 19 Nov 1981 08:52:00 GMT', 'Cache-Control': 'no-store, no-cache, must-revalidate, post-check=0, pre-check=0', 'Pragma': 'no-cache', 'Content-Encoding': 'gzip'}\n",
      "Response Text (first 2000 chars): <!DOCTYPE html><html xmlns=\"http://www.w3.org/1999/xhtml\" xml:lang=\"pl\" lang=\"pl\" class=\"no-js\" >\n",
      "<head>\n",
      "\t\t\t<!-- Google Tag Manager -->\n",
      "\t\t\t<script>(function(w,d,s,l,i){w[l]=w[l]||[];w[l].push({'gtm.start':\n",
      "\t\t\t\t\t\tnew Date().getTime(),event:'gtm.js'});var f=d.getElementsByTagName(s)[0],\n",
      "\t\t\t\t\tj=d.createElement(s),dl=l!='dataLayer'?'&l='+l:'';j.async=true;j.src=\n",
      "\t\t\t\t\t'https://www.googletagmanager.com/gtm.js?id='+i+dl\n",
      "\t\t\t\t\t\t\t\t\t    ;f.parentNode.insertBefore(j,f);\n",
      "\t\t\t\t    })(window,document,'script','dataLayer','GTM-P3S238');</script>\n",
      "\t\t\t<!-- End Google Tag Manager -->\n",
      "\t<title>Mieszkania Kraków na sprzedaż, wynajem - Sprzedajemy.pl</title><meta http-equiv=\"Content-Type\" content=\"text/html; charset=UTF-8\" >\n",
      "<meta http-equiv=\"X-UA-Compatible\" content=\"IE=edge\" >\n",
      "<meta name=\"description\" content=\"Ogłoszenia o tematyce:  w kategorii Mieszkania - Kupuj i sprzedawaj rzeczy używane i nowe w kategorii Mieszkania na Sprzedajemy.pl\" >\n",
      "<meta property=\"og:title\" content=\"Mieszkania Kraków na sprzedaż, wynajem - Sprzedajemy.pl\" >\n",
      "<meta property=\"og:type\" content=\"website\" >\n",
      "<meta property=\"og:image\" content=\"https://thumbs.img-sprzedajemy.pl/facebook/sprzedajemy.pl.png\" >\n",
      "<meta property=\"og:image:width\" content=\"200\" >\n",
      "<meta property=\"og:image:height\" content=\"200\" >\n",
      "<meta property=\"og:url\" content=\"https://sprzedajemy.pl/krakow/nieruchomosci/mieszkania\" >\n",
      "<meta property=\"og:site_name\" content=\"Sprzedajemy.pl\" >\n",
      "<meta property=\"fb:app_id\" content=\"173258269367442\" >\n",
      "<meta property=\"og:description\" content=\"Ogłoszenia o tematyce:  w kategorii Mieszkania - Kupuj i sprzedawaj rzeczy używane i nowe w kategorii Mieszkania na Sprzedajemy.pl\" >\n",
      "<meta name=\"robots\" content=\"noindex, follow\" >\t\t<script  async=\"async\" src=\"https://static.criteo.net/js/ld/publishertag.js\"></script>\n",
      "        <script  async=\"async\" src=\"https://ap.lijit.com/www/sovrn_beacon_standalone/sovrn_standalone_beacon.js?iid=13417409&amp;uid=sprzedajemy\" id=\"sBeacon\"></script>\n",
      "\t\t<script  async=\"async\" src=\"https://securepuba\n",
      "Titles: ['Super lokalizacja! TRAMWAJ, kawalerka do wejścia! Prądnik Czerwony/Huta', '2-pokojowe mieszkanie na Zabłociu – ciche, świetna lokalizacja!', 'Wyjątkowe mieszkanie z widokiem na klasztor w Tyńcu i panoramę Tatr', 'Stylowy apartament z widokiem na panoramę Krakowa - od właściciela', 'Nowoczesny apartament z panoramicznym widokiem - od właściciela', 'Kraków, Stare Miasto sprzedaż/zamiana', 'Mieszkanie 3p w kamienicy w pobliżu Salwatoru', '4pokoje 68m2 balkon KLIMA Śródmieście BEZ PROWIZJI od właściciela', 'Kawalerka dla studenta/studentki, Kraków - Prokocim', 'Stare Miasto 32m2 KLIMA Wawel wykończone Kazimierz wysokie ROI', 'Kraków Stare Miasto 62 m2 KLIMA Wawel wykończone Kazimierz INWESTYCYJNE', 'Bieńczyce - 3 pokoje, balkon, jasna kuchnia', '2 POKOJE z klimatem | Dąbska | TAURON Arena | Balkon | aż 55 m²!', 'Pet Friendly - mieszkanie do wynajęcia na Czyżynach 30m² od zaraz', 'Bezpośrednio sprzedam mieszkanie Kraków ul. Batorego', '2 POKOJE z klimatem | Dąbska | TAURON Arena | Balkon', 'Słoneczne mieszkanko z dużym balkonem', 'Nowoczesne 3-pokojowe mieszkanie 48 m² – Pachońskiego / od zaraz', 'Sprzedam piękne mieszkanie Kraków borek Fałecki', 'Wynajmę mieszkanie na Starym Mieście', '2 pokoje z garderobą - bez barier - bez prowizji!', '2- pokojowe mieszkanie | K. Kołłątajowskiej | 57m2', 'Mieszkanie 3 pokojowe, Galicyjska Kraków Czyżyny, 61m2', 'OKAZJA Kraków Centrum KAZIMIERZ 3 pokoje 50m2', '2-pokojowe mieszkanie po remoncie | PROMOCJA | ul Bronowicka', 'Bezczynszowe, bezpośrednio all ok.3100 zł, tramwaj', '4o pokojowe na Friedleina na sprzedaż!', '3-pokojowe na os.Kazimierzowskim na sprzedaż!', 'Mieszkanie Kraków 71.81m2 3 pok', 'Oddzielna kuchnia,balkon,piwnica,os.Złotego Wieku', 'Oferta sprzedaży mieszkania Kraków 59.96m2 2 pokojowe', 'Nowoczesna kawalerka 29m2 - klimatyzacja + ogródek', 'Mieszkanie 64m2 3-pokojowe Kraków os. Oświecenia', 'Mieszkanie sprzedam 41m2 Kraków os. Piastów', 'Sprzedaż BEZPOŚREDNIA od właściciela - 40,20 m2', 'Kraków – 3 pokojowy apartament na sprzedaż na kameralnym osiedlu', 'Sprzedam mieszkanie Kraków 38m 2-pokojowe', 'Mieszkanie 80m2 3 pokojowe Kraków Zygmunta Augusta', 'Kraków – 2 pokojowy apartament w wysokim standardzie Piasta Towers', 'Mieszkanie, Kraków os. Tysiąclecia 1 - 20 m 2', 'Dom modułowy prefabrykowany Dubai Prestige', '4-pokojowe mieszkanie w nowo wybudowanym budynku', 'Sprzedam mieszkanie 3 pokojowe słoneczne 2 Pulku Lotniczego', 'Mieszkanie 53.46m2 3 pokoje Kraków', 'Blisko centrum i tramwaju | kawalerka 27m na Dąbiu', 'Mieszkanie Kraków 53m2 3 pokoje', 'PRYWATNIE//3 pok.// Wykończone//brak PCC', 'Bliźniak z ogródkiem i energią ze słońca–PRYWATNIE', 'Sprzedaż mieszkania Kraków Agatowa 44.48m2 2 pokoje', 'Kurdwanów - 52m2, dwupokojowe z jasną kuchnią', 'ul.Felińskiego, piękne 3 pokoje, garaż', 'BEZ PROWIZJI 2 niezależne, zamykane pokoje |osobna kuchnia z oknem | balko…', 'Mieszkanie Kraków 38.69m2 2 pokoje', 'Oferta wynajmu mieszkania Kraków Bosacka 59m 2 pokoje', 'Ogłoszenie mieszkanie Kraków Walerego Sławka 52.01 metrów', 'Mieszkanie do sprzedania 36.05m2 2 pokoje Kraków Imbramowska', 'Mieszkanie Kraków os. Strusia 36.6m2 2 pokoje', 'Mieszkanie sprzedam 38.69m2 2 pok Kraków Imbramowska', 'Sprzedam mieszkanie Kraków os. Albertyńskie 50m 3 pokoje', 'Oferta wynajmu mieszkania Kraków Urzędnicza 94m2 3 pok']\n",
      "60\n",
      "Prices: ['565 000 zł', '519 000 zł', '779 000 zł', '897 000 zł', '997 000 zł', '2 200 000 zł', '799 000 zł', '1 850 000 zł', '2 400 zł', '989 000 zł', '1 828 000 zł', '745 000 zł', '3 700 zł', '2 050 zł', '1 650 000 zł', '3 700 zł', '699 000 zł', '3 500 zł', '599 000 zł', '3 100 zł', '630 000 zł', '645 000 zł', '1 067 500 zł', '659 000 zł', '699 999 zł', '2 600 zł', '990 000 zł', '480 000 zł', '8 200 zł', '358 000 zł', '737 500 zł', '2 100 zł', '849 000 zł', '610 000 zł', '650 000 zł', '999 000 zł', '480 000 zł', '5 000 zł', '799 000 zł', '339 000 zł', '580 000 zł', '846 000 zł', '929 000 zł', '739 000 zł', '581 000 zł', '679 000 zł', '1 049 000 zł', '1 849 000 zł', '667 000 zł', '599 000 zł', '800 000 zł', '639 000 zł', '742 295 zł', '3 200 zł', '2 800 zł', '499 000 zł', '590 000 zł', '673 920 zł', '750 000 zł', '5 500 zł']\n",
      "60\n"
     ]
    }
   ],
   "source": [
    "import requests\n",
    "from bs4 import BeautifulSoup\n",
    "import pandas as pd\n",
    "import os\n",
    "\n",
    "url = \"https://sprzedajemy.pl/krakow/nieruchomosci/mieszkania?offset=0&items_per_page=60\"\n",
    "\n",
    "headers = {\n",
    "    \"User-Agent\": \"Mozilla/5.0 (Windows NT 10.0; Win64; x64) AppleWebKit/537.36 (KHTML, like Gecko) Chrome/58.0.3029.110 Safari/537.36\",\n",
    "    \"Accept\": \"text/html,application/xhtml+xml,application/xml;q=0.9,image/webp,image/apng,*/*;q=0.8\",\n",
    "    \"Accept-Encoding\": \"gzip, deflate, br\",\n",
    "    \"Accept-Language\": \"en-US,en;q=0.9,pl;q=0.8\",\n",
    "    \"Connection\": \"keep-alive\"\n",
    "}\n",
    "\n",
    "response = requests.get(url, headers=headers)\n",
    "response = requests.get(url, headers=headers)\n",
    "\n",
    "# Debugowanie odpowiedzi\n",
    "print(f\"Status Code: {response.status_code}\")\n",
    "print(f\"Response Headers: {response.headers}\")\n",
    "print(f\"Response Text (first 2000 chars): {response.text[:2000]}\")\n",
    "\n",
    "# Jeśli odpowiedź jest poprawna, wykonaj webscraping\n",
    "if response.status_code == 200:\n",
    "    soup = BeautifulSoup(response.content, \"html.parser\")\n",
    "\n",
    "    # Pobieranie ofert mieszkań\n",
    "    titles = [h2.a.text.strip() for h2 in soup.find_all(\"h2\", class_=\"title\") if h2.a]\n",
    "    prices = [p.text.replace(\"\\xa0\", \" \").strip() for p in soup.find_all(\"span\", class_=\"price\")]\n",
    "\n",
    "    print(\"Titles:\", titles)\n",
    "    print(len(titles))\n",
    "    print(\"Prices:\", prices)\n",
    "    print(len(prices))\n",
    "\n",
    "    df = pd.DataFrame({\"Title\": titles, \"Price\": prices})\n",
    "\n",
    "    # Dopisanie do pliku CSV\n",
    "    df.to_csv(\"scraped_data.csv\", mode='a', header=not os.path.exists('scraped_data.csv'), index=False)\n",
    "else:\n",
    "    print(\"Failed to retrieve data.\")\n"
   ]
  }
 ],
 "metadata": {
  "colab": {
   "provenance": []
  },
  "kernelspec": {
   "display_name": "Python 3",
   "name": "python3"
  },
  "language_info": {
   "codemirror_mode": {
    "name": "ipython",
    "version": 3
   },
   "file_extension": ".py",
   "mimetype": "text/x-python",
   "name": "python",
   "nbconvert_exporter": "python",
   "pygments_lexer": "ipython3",
   "version": "3.9.23"
  },
  "papermill": {
   "default_parameters": {},
   "duration": 3.176272,
   "end_time": "2025-07-13T17:44:52.620835",
   "environment_variables": {},
   "exception": null,
   "input_path": "nb.ipynb",
   "output_path": "nbo.ipynb",
   "parameters": {},
   "start_time": "2025-07-13T17:44:49.444563",
   "version": "2.6.0"
  }
 },
 "nbformat": 4,
 "nbformat_minor": 5
}