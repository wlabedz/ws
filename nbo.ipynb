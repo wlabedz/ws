{
 "cells": [
  {
   "cell_type": "code",
   "execution_count": 1,
   "id": "263ea531",
   "metadata": {
    "colab": {
     "base_uri": "https://localhost:8080/"
    },
    "execution": {
     "iopub.execute_input": "2025-08-19T06:20:08.234226Z",
     "iopub.status.busy": "2025-08-19T06:20:08.233926Z",
     "iopub.status.idle": "2025-08-19T06:20:10.279494Z",
     "shell.execute_reply": "2025-08-19T06:20:10.278784Z"
    },
    "id": "5pYh4c8j1w43",
    "outputId": "8a0dca73-64e5-4f0d-c493-2c5b38392363",
    "papermill": {
     "duration": 2.049073,
     "end_time": "2025-08-19T06:20:10.280670",
     "exception": false,
     "start_time": "2025-08-19T06:20:08.231597",
     "status": "completed"
    },
    "tags": []
   },
   "outputs": [
    {
     "name": "stdout",
     "output_type": "stream",
     "text": [
      "Status Code: 200\n",
      "Response Headers: {'Server': 'nginx', 'Date': 'Tue, 19 Aug 2025 06:20:09 GMT', 'Content-Type': 'text/html; charset=UTF-8', 'Transfer-Encoding': 'chunked', 'Vary': 'Accept-Encoding, User-Agent', 'Set-Cookie': 'FRSPSID=82kf17mo8a3pmii27tohaprhm5; path=/; domain=.sprzedajemy.pl; secure; HttpOnly, _items_per_page__offer_list=60; expires=Thu, 18-Sep-2025 06:20:09 GMT; Max-Age=2592000; path=/; domain=.sprzedajemy.pl; secure; httponly, observed_id=148153190568a41799d505e9147578113831580938; expires=Sun, 19-Aug-2125 07:20:09 GMT; Max-Age=3155677200; path=/; domain=.sprzedajemy.pl; secure; httponly', 'Expires': 'Thu, 19 Nov 1981 08:52:00 GMT', 'Cache-Control': 'no-store, no-cache, must-revalidate, post-check=0, pre-check=0', 'Pragma': 'no-cache', 'Content-Encoding': 'gzip'}\n",
      "Response Text (first 2000 chars): <!DOCTYPE html><html xmlns=\"http://www.w3.org/1999/xhtml\" xml:lang=\"pl\" lang=\"pl\" class=\"no-js\" >\n",
      "<head>\n",
      "\t\t\t<!-- Google Tag Manager -->\n",
      "\t\t\t<script>(function(w,d,s,l,i){w[l]=w[l]||[];w[l].push({'gtm.start':\n",
      "\t\t\t\t\t\tnew Date().getTime(),event:'gtm.js'});var f=d.getElementsByTagName(s)[0],\n",
      "\t\t\t\t\tj=d.createElement(s),dl=l!='dataLayer'?'&l='+l:'';j.async=true;j.src=\n",
      "\t\t\t\t\t'https://www.googletagmanager.com/gtm.js?id='+i+dl\n",
      "\t\t\t\t\t\t\t\t\t    ;f.parentNode.insertBefore(j,f);\n",
      "\t\t\t\t    })(window,document,'script','dataLayer','GTM-P3S238');</script>\n",
      "\t\t\t<!-- End Google Tag Manager -->\n",
      "\t<title>Mieszkania Kraków na sprzedaż, wynajem - Sprzedajemy.pl</title><meta http-equiv=\"Content-Type\" content=\"text/html; charset=UTF-8\" >\n",
      "<meta http-equiv=\"X-UA-Compatible\" content=\"IE=edge\" >\n",
      "<meta name=\"description\" content=\"Ogłoszenia o tematyce:  w kategorii Mieszkania - Kupuj i sprzedawaj rzeczy używane i nowe w kategorii Mieszkania na Sprzedajemy.pl\" >\n",
      "<meta property=\"og:title\" content=\"Mieszkania Kraków na sprzedaż, wynajem - Sprzedajemy.pl\" >\n",
      "<meta property=\"og:type\" content=\"website\" >\n",
      "<meta property=\"og:image\" content=\"https://thumbs.img-sprzedajemy.pl/facebook/sprzedajemy.pl.png\" >\n",
      "<meta property=\"og:image:width\" content=\"200\" >\n",
      "<meta property=\"og:image:height\" content=\"200\" >\n",
      "<meta property=\"og:url\" content=\"https://sprzedajemy.pl/krakow/nieruchomosci/mieszkania\" >\n",
      "<meta property=\"og:site_name\" content=\"Sprzedajemy.pl\" >\n",
      "<meta property=\"fb:app_id\" content=\"173258269367442\" >\n",
      "<meta property=\"og:description\" content=\"Ogłoszenia o tematyce:  w kategorii Mieszkania - Kupuj i sprzedawaj rzeczy używane i nowe w kategorii Mieszkania na Sprzedajemy.pl\" >\n",
      "<meta name=\"robots\" content=\"noindex, follow\" >\t\t<script  async=\"async\" src=\"https://static.criteo.net/js/ld/publishertag.js\"></script>\n",
      "        <script  async=\"async\" src=\"https://ap.lijit.com/www/sovrn_beacon_standalone/sovrn_standalone_beacon.js?iid=13417409&amp;uid=sprzedajemy\" id=\"sBeacon\"></script>\n",
      "\t\t<script  async=\"async\" src=\"https://securepuba\n",
      "Titles: ['Dom - Kraków Tonie - Zielona okolica - 123 m2 | 5 - pok. | Ogród | Taras |…', 'Kawalerka Salwator Centrum POD INWESTYCJE', 'Przytulne mieszkanie 38 m² z balkonem – Osiedle Złotego Wieku', 'Mieszkanie na sprzedaż/zamiana 39m2', 'Kraków, Stare Miasto sprzedaż/zamiana', 'studio kawalerka Stare Podgórze', '3 niezależne lokale z KW– inwestycja z potencjałem', 'Mieszkanie z garażem i komórką lokatorską', 'Centrum Krakowa - 3 oddzielne pokoje / biura - po generalnym remoncie', 'Piękne mieszkanie na wynajem krótkoterminowy', 'Sprzedam piękne mieszkanie na Osiedlu Uroczym', 'Mieszkanie Kraków 40.26m2 2 pok', 'Mieszkanie Kraków 39m2 2 pokoje', 'Mieszkanie 38 metrów kwadratowych sprzedam bezpośrednio', 'Mieszkanie Kraków 64 metry 4 pokojowe', 'Mieszkanie Kraków Józefa Dwernickiego 45.7m2 2 pokoje', 'Mieszkanie 60 metrów 2 pokoje Kraków Teligi', 'Sprzedam przytulne mieszkanie w Krakowie, ul. Dobrego Pasterza', 'Sprzedaż mieszkania 36.22m2 1 pok Kraków Tuchowska', 'Ogłoszenie mieszkanie Kraków Agatowa 64.43m2 3 pokoje', 'Sprzedaż mieszkania Kraków 64.33 metry 3 pokoje', 'Mieszkanie do sprzedania Kraków dr. Jana Piltza 36.89m2', 'Mieszkanie Kraków 49.8 metrów 2 pokoje', 'Wynajmę mieszkanie Kraków Litewska 32.37 metrów 1 pokojowe', 'Do wynajęcia śliczny apartament z ogrodem', 'Oferta sprzedaży mieszkania 36.05m2 2 pokoje Kraków Bronowicka', 'sprzedam mieszkanie w Krakowie', '55m², 3-pokojowe, w bloku na Starym Mieście, Kraków, ul. Wielopole', 'Ruczaj. 2 pokoje odnowione w wysokim standardzie', 'Mieszkanie Kraków 49.32m2 2-pok', 'Mieszkanie 30m2 Kraków Fieldorfa-Nila', 'Mieszkanie 3 pokojowe /64,3 m2 / w  super lokalizacji - od właściciela', 'Wygodna inwestycja! Wyposażone mieszkanie dwupokojowe na Grzegórzkach', 'Ogłoszenie mieszkanie Kraków Juliusza Lea 29.02m2 1 pokojowe', 'Mieszkanie 38.53m2 Kraków os. Bohaterów Września', 'Mieszkanie 35m2 1 pokój Kraków Lubomirskiego', 'Funkcjonalne 3-pokoje/wysoki parter/duża łazienka', 'NOWA CENA 3-pokojowy apartament 59,5m2 na kameralnym osiedlu - Bronowice', 'Oferta wynajmu mieszkania 120m2 4 pokoje Kraków Przedwiośnie', 'Mieszkanie Kraków Felińskiego 54m 3-pok', 'Kraków – 2 pokojowy apartament w wysokim standardzie w inwestycji – Piasta…', 'Mieszkanie 54.3m2 3 pokojowe Kraków os. Strusia', 'Kawalerka 27m2 w kamienicy z parkingiem – Prądnik Czerwony, inwestycja', 'Mieszkanie 3 pokojowe, oddzielna kuchnia, balkon', 'Mieszkanie do wynajęcia', 'Jednopokojowe z oddzielną kuchnią', 'Mieszkanie 74.41m 3 pokojowe Kraków', 'Mieszkanie ul. Grodzka | 90m od Rynku Głównego!', 'Mieszkanie na sprzedaż 53.5m2 2 pokoje Kraków', 'Sprzedam mieszkanie w systemie TBS', 'mieszkanie 2 pokojow dla 1-2 osób od października', 'Bezpośrednio wynajmę 2-pokojowe ul.Batorego po remoncie.', 'Strych, Błonia, ul. Filarecka, Rezerwacja', 'Kraków – Prądnik Biały – ul. Pachońskiego – 2 pokoje – 36 m² – BALKON', '5 min do centrum - 2-pokojowe mieszkanie 48 m² – wysoki standard', 'Duża kawalerka - Kraków – Salwator – ul. Kościuszki – 2 pokoje – 35 m²', 'Mieszkanie 53m2 z 2 pokojami – ul. Wysockiej, blisko AWF/Politechniki', 'Przytulne 70m2 z 3 pokojami w centrum Krakowa – super lokalizacja Wisła', 'Apartament 42 m2, Kraków Ruczaj HSBC SHELL MOTOROLA', '3-pokojowe na Powstańców na sprzedaż!']\n",
      "60\n",
      "Prices: ['2 275 000 zł', '428 824 zł', '512 000 zł', '526 000 zł', '2 083 000 zł', '2 600 zł', '265 000 zł', '2 400 zł', '1 199 000 zł', '4 100 zł', '730 000 zł', '480 000 zł', '749 000 zł', '470 000 zł', '865 000 zł', '799 000 zł', '735 000 zł', '600 000 zł', '515 000 zł', '789 000 zł', '769 000 zł', '628 000 zł', '2 900 zł', '2 050 zł', '2 950 zł', '545 000 zł', '1 500 000 zł', '4 600 zł', '539 000 zł', '2 250 zł', '2 000 zł', '997 000 zł', '749 000 zł', '590 000 zł', '649 000 zł', '2 200 zł', '636 000 zł', '939 000 zł', '9 000 zł', '780 000 zł', '799 000 zł', '619 000 zł', '369 000 zł', '825 000 zł', '1 900 zł', '2 000 zł', '1 175 000 zł', '1 270 000 zł', '1 099 000 zł', '175 000 zł', '3 000 zł', '3 850 zł', '389 999 zł', '2 800 zł', '3 550 zł', '2 800 zł', '2 500 zł', '4 299 zł', '3 200 zł', '675 000 zł']\n",
      "60\n"
     ]
    }
   ],
   "source": [
    "import requests\n",
    "from bs4 import BeautifulSoup\n",
    "import pandas as pd\n",
    "import os\n",
    "\n",
    "url = \"https://sprzedajemy.pl/krakow/nieruchomosci/mieszkania?offset=0&items_per_page=60\"\n",
    "\n",
    "headers = {\n",
    "    \"User-Agent\": \"Mozilla/5.0 (Windows NT 10.0; Win64; x64) AppleWebKit/537.36 (KHTML, like Gecko) Chrome/58.0.3029.110 Safari/537.36\",\n",
    "    \"Accept\": \"text/html,application/xhtml+xml,application/xml;q=0.9,image/webp,image/apng,*/*;q=0.8\",\n",
    "    \"Accept-Encoding\": \"gzip, deflate, br\",\n",
    "    \"Accept-Language\": \"en-US,en;q=0.9,pl;q=0.8\",\n",
    "    \"Connection\": \"keep-alive\"\n",
    "}\n",
    "\n",
    "response = requests.get(url, headers=headers)\n",
    "response = requests.get(url, headers=headers)\n",
    "\n",
    "# Debugowanie odpowiedzi\n",
    "print(f\"Status Code: {response.status_code}\")\n",
    "print(f\"Response Headers: {response.headers}\")\n",
    "print(f\"Response Text (first 2000 chars): {response.text[:2000]}\")\n",
    "\n",
    "# Jeśli odpowiedź jest poprawna, wykonaj webscraping\n",
    "if response.status_code == 200:\n",
    "    soup = BeautifulSoup(response.content, \"html.parser\")\n",
    "\n",
    "    # Pobieranie ofert mieszkań\n",
    "    titles = [h2.a.text.strip() for h2 in soup.find_all(\"h2\", class_=\"title\") if h2.a]\n",
    "    prices = [p.text.replace(\"\\xa0\", \" \").strip() for p in soup.find_all(\"span\", class_=\"price\")]\n",
    "\n",
    "    print(\"Titles:\", titles)\n",
    "    print(len(titles))\n",
    "    print(\"Prices:\", prices)\n",
    "    print(len(prices))\n",
    "\n",
    "    df = pd.DataFrame({\"Title\": titles, \"Price\": prices})\n",
    "\n",
    "    # Dopisanie do pliku CSV\n",
    "    df.to_csv(\"scraped_data.csv\", mode='a', header=not os.path.exists('scraped_data.csv'), index=False)\n",
    "else:\n",
    "    print(\"Failed to retrieve data.\")\n"
   ]
  }
 ],
 "metadata": {
  "colab": {
   "provenance": []
  },
  "kernelspec": {
   "display_name": "Python 3",
   "name": "python3"
  },
  "language_info": {
   "codemirror_mode": {
    "name": "ipython",
    "version": 3
   },
   "file_extension": ".py",
   "mimetype": "text/x-python",
   "name": "python",
   "nbconvert_exporter": "python",
   "pygments_lexer": "ipython3",
   "version": "3.9.23"
  },
  "papermill": {
   "default_parameters": {},
   "duration": 3.142998,
   "end_time": "2025-08-19T06:20:10.497945",
   "environment_variables": {},
   "exception": null,
   "input_path": "nb.ipynb",
   "output_path": "nbo.ipynb",
   "parameters": {},
   "start_time": "2025-08-19T06:20:07.354947",
   "version": "2.6.0"
  }
 },
 "nbformat": 4,
 "nbformat_minor": 5
}