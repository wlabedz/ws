{
 "cells": [
  {
   "cell_type": "code",
   "execution_count": 1,
   "id": "d5075e7a",
   "metadata": {
    "colab": {
     "base_uri": "https://localhost:8080/"
    },
    "execution": {
     "iopub.execute_input": "2025-05-23T16:42:00.219020Z",
     "iopub.status.busy": "2025-05-23T16:42:00.218733Z",
     "iopub.status.idle": "2025-05-23T16:42:02.337919Z",
     "shell.execute_reply": "2025-05-23T16:42:02.337186Z"
    },
    "id": "5pYh4c8j1w43",
    "outputId": "8a0dca73-64e5-4f0d-c493-2c5b38392363",
    "papermill": {
     "duration": 2.1229,
     "end_time": "2025-05-23T16:42:02.339096",
     "exception": false,
     "start_time": "2025-05-23T16:42:00.216196",
     "status": "completed"
    },
    "tags": []
   },
   "outputs": [
    {
     "name": "stdout",
     "output_type": "stream",
     "text": [
      "Status Code: 200\n",
      "Response Headers: {'Server': 'nginx', 'Date': 'Fri, 23 May 2025 16:42:01 GMT', 'Content-Type': 'text/html; charset=UTF-8', 'Transfer-Encoding': 'chunked', 'Vary': 'Accept-Encoding, User-Agent', 'Set-Cookie': 'FRSPSID=9spogtfak2us8vuuc55b396jq7; path=/; domain=.sprzedajemy.pl; secure; HttpOnly, _items_per_page__offer_list=60; expires=Sun, 22-Jun-2025 16:42:01 GMT; Max-Age=2592000; path=/; domain=.sprzedajemy.pl; secure; httponly, observed_id=12101384626830a559dd364071632041424153629; expires=Wed, 23-May-2125 17:42:01 GMT; Max-Age=3155677200; path=/; domain=.sprzedajemy.pl; secure; httponly', 'Expires': 'Thu, 19 Nov 1981 08:52:00 GMT', 'Cache-Control': 'no-store, no-cache, must-revalidate, post-check=0, pre-check=0', 'Pragma': 'no-cache', 'Content-Encoding': 'gzip'}\n",
      "Response Text (first 2000 chars): <!DOCTYPE html><html xmlns=\"http://www.w3.org/1999/xhtml\" xml:lang=\"pl\" lang=\"pl\" class=\"no-js\" >\n",
      "<head>\n",
      "\t\t\t<!-- Google Tag Manager -->\n",
      "\t\t\t<script>(function(w,d,s,l,i){w[l]=w[l]||[];w[l].push({'gtm.start':\n",
      "\t\t\t\t\t\tnew Date().getTime(),event:'gtm.js'});var f=d.getElementsByTagName(s)[0],\n",
      "\t\t\t\t\tj=d.createElement(s),dl=l!='dataLayer'?'&l='+l:'';j.async=true;j.src=\n",
      "\t\t\t\t\t'https://www.googletagmanager.com/gtm.js?id='+i+dl\n",
      "\t\t\t\t\t\t\t\t\t    ;f.parentNode.insertBefore(j,f);\n",
      "\t\t\t\t    })(window,document,'script','dataLayer','GTM-P3S238');</script>\n",
      "\t\t\t<!-- End Google Tag Manager -->\n",
      "\t<title>Mieszkania Kraków na sprzedaż, wynajem - Sprzedajemy.pl</title><meta http-equiv=\"Content-Type\" content=\"text/html; charset=UTF-8\" >\n",
      "<meta http-equiv=\"X-UA-Compatible\" content=\"IE=edge\" >\n",
      "<meta name=\"description\" content=\"Ogłoszenia o tematyce:  w kategorii Mieszkania - Kupuj i sprzedawaj rzeczy używane i nowe w kategorii Mieszkania na Sprzedajemy.pl\" >\n",
      "<meta property=\"og:title\" content=\"Mieszkania Kraków na sprzedaż, wynajem - Sprzedajemy.pl\" >\n",
      "<meta property=\"og:type\" content=\"website\" >\n",
      "<meta property=\"og:image\" content=\"https://thumbs.img-sprzedajemy.pl/facebook/sprzedajemy.pl.png\" >\n",
      "<meta property=\"og:image:width\" content=\"200\" >\n",
      "<meta property=\"og:image:height\" content=\"200\" >\n",
      "<meta property=\"og:url\" content=\"https://sprzedajemy.pl/krakow/nieruchomosci/mieszkania\" >\n",
      "<meta property=\"og:site_name\" content=\"Sprzedajemy.pl\" >\n",
      "<meta property=\"fb:app_id\" content=\"173258269367442\" >\n",
      "<meta property=\"og:description\" content=\"Ogłoszenia o tematyce:  w kategorii Mieszkania - Kupuj i sprzedawaj rzeczy używane i nowe w kategorii Mieszkania na Sprzedajemy.pl\" >\n",
      "<meta name=\"robots\" content=\"noindex, follow\" >\t\t<script  async=\"async\" src=\"https://static.criteo.net/js/ld/publishertag.js\"></script>\n",
      "        <script  async=\"async\" src=\"https://ap.lijit.com/www/sovrn_beacon_standalone/sovrn_standalone_beacon.js?iid=13417409&amp;uid=sprzedajemy\" id=\"sBeacon\"></script>\n",
      "\t\t<script  async=\"async\" src=\"https://securepuba\n",
      "Titles: ['Kraków, Stare Miasto sprzedaż/zamiana', 'Stylowy apartament z widokiem na panoramę Krakowa - od właściciela', 'Nowoczesny apartament z panoramicznym widokiem - od właściciela', 'Wyjątkowe mieszkanie z widokiem na klasztor w Tyńcu i panoramę Tatr', 'Mieszkanie na sprzedaż/zamiana 39m2', 'Nowe mieszkanie na sprzedaż 2-pokoje 38,6 m2 | Krowodrza - Kraków', 'Mieszkanie 4-pokoje Kraków - wolne od 1 Lipca 2025 r.', '2 lub 3 pokoje,62m2,balkon, Widok na Wawel', 'Kraków Bronowice Stawowa 168 / 60m2 3 POK/ 22,5 m2 taras/ BEZ POŚREDNIKÓW', 'Strych do adaptacji, Błonia, ul. Filarecka', 'Ogłoszenie mieszkanie 45.1 metrów 2 pokoje Kraków', 'Mieszkanie Kraków Rozdroże 49.3m2 2 pokoje', 'Mieszkanie dwupokojowe Kraków', 'Oferta sprzedaży mieszkania 17m2 1 pokojowe Kraków Celna', 'Mieszkanie 58.57m2 3-pokojowe Kraków', 'Mieszkanie Kraków Armii Kraków 43m2 3-pokojowe', 'Mieszkanie Kraków/Piekary 80m2 / 2-pokojowe', 'Oferta sprzedaży mieszkania 49.08m2 2-pokojowe Kraków', 'Mieszkanie na wynajem Kraków Plac Matejki 42m2', 'Mieszkanie 48.18m2 2 pokoje Kraków Nowa', 'Mieszkanie 57m2 2 pokojowe Kraków prof. Michała Bobrzyńskiego', 'Mieszkanie 2 pokojowe wynajmę Kraków Królewska', 'Mieszkanie 139m2 4 pok Kraków Krowoderska', 'MORCINKA, Zesławice, Wzgórza, 36m2, 2 pokoje + kuchnia', 'Piękne mieszkanie 55m przy Parku Krakowskim OD CZERWCA', 'Do sprzedaży mieszkanie 42.53m2 Kraków Paulińska', 'Mieszkanie 46.14m2 2 pokoje Kraków zabłocie', 'Mieszkanie Kraków Bieżanów 71.4m2 3-pokojowe', 'Oferta sprzedaży mieszkania Kraków Bieżanów 39.48m2 2 pokoje', 'Mieszkanie do wynajęcia 36m2 1-pokojowe Kraków', 'Oferta sprzedaży mieszkania Kraków Bieżanów 45.18m2 2 pokoje', 'Sprzedam mieszkanie 69.92m 3 pokoje Kraków Płaszów', 'Mieszkanie Kraków Płaszów 69.87m2 3-pokojowe', 'Oferta sprzedaży mieszkania Kraków Bieżanów 35.22m2 2 pokoje', 'Mieszkanie sprzedam 31.62m2 2-pok Kraków', 'Mieszkanie 64.78m2 Kraków', 'Mieszkanie do sprzedania Kraków Bieżanów 35.22 metry 2 pok', 'Sprzedam mieszkanie Kraków 64.79m2 3 pok', 'Mieszkanie 45.89m2 2 pokoje Kraków zabłocie', 'Mieszkanie Kraków 35.25m2', 'Mieszkanie 45.89 metrów 2 pok Kraków zabłocie', 'Sprzedam mieszkanie 31.54 metry 2 pok Kraków Bieżanów', 'Oferta sprzedaży mieszkania 53.66m2 2-pok Kraków', 'Sprzedam mieszkanie 31.58m2 2 pokoje Kraków Bieżanów', 'Mieszkanie 44.63m2 2 pokoje Kraków', 'Mieszkanie 45.17m2 2-pokojowe Kraków', 'Mieszkanie Kraków Bieżanów 51.93m2 2-pok', 'Mieszkanie na sprzedaż', 'Ogłoszenie mieszkanie 44.71m2 2 pokoje Kraków Bieżanów', 'Mieszkanie 45.89m2 2-pokojowe Kraków zabłocie', 'Sprzedam mieszkanie Kraków 45.56 metrów', 'Mieszkanie sprzedam 45.89m2 2-pokojowe Kraków zabłocie', 'Kraków – 3 pokojowy apartament na sprzedaż na kameralnym osiedlu', 'Mieszkanie 31.73m2 2 pokoje Kraków Bieżanów', 'Kraków – 2 pokojowy apartament w wysokim standardzie Piasta Towers', 'Mieszkanie Kraków 35.05m2 2 pokoje', 'Oferta sprzedaży mieszkania Kraków 123 metry 3-pokojowe', 'Mieszkanie 48.04m2 3 pokoje Kraków Bieżanów', 'Mieszkanie Kraków Bieżanów 39.62 metry 2-pok', 'Mieszkanie Kraków 46.38m2 2 pokojowe']\n",
      "60\n",
      "Prices: ['2 243 000 zł', '897 000 zł', '997 000 zł', '790 000 zł', '548 000 zł', '799 000 zł', '4 800 zł', '1 490 000 zł', '1 137 500 zł', '379 999 zł', '509 000 zł', '790 000 zł', '720 000 zł', '360 000 zł', '1 138 893 zł', '2 600 zł', '259 000 zł', '886 766 zł', '2 400 zł', '1 150 000 zł', '3 100 zł', '2 900 zł', '1 749 000 zł', '2 220 zł', '2 900 zł', '930 000 zł', '838 120 zł', '892 500 zł', '572 460 zł', '2 600 zł', '632 520 zł', '994 949 zł', '950 232 zł', '521 256 zł', '467 976 zł', '906 920 zł', '521 256 zł', '874 665 zł', '881 790 zł', '521 700 zł', '898 414 zł', '482 562 zł', '750 680 zł', '483 174 zł', '624 820 zł', '632 380 zł', '701 055 zł', '669 000 zł', '648 295 zł', '888 384 zł', '849 150 zł', '854 864 zł', '999 000 zł', '501 334 zł', '799 000 zł', '518 296 zł', '2 600 000 zł', '672 560 zł', '594 300 zł', '639 000 zł']\n",
      "60\n"
     ]
    }
   ],
   "source": [
    "import requests\n",
    "from bs4 import BeautifulSoup\n",
    "import pandas as pd\n",
    "import os\n",
    "\n",
    "url = \"https://sprzedajemy.pl/krakow/nieruchomosci/mieszkania?offset=0&items_per_page=60\"\n",
    "\n",
    "headers = {\n",
    "    \"User-Agent\": \"Mozilla/5.0 (Windows NT 10.0; Win64; x64) AppleWebKit/537.36 (KHTML, like Gecko) Chrome/58.0.3029.110 Safari/537.36\",\n",
    "    \"Accept\": \"text/html,application/xhtml+xml,application/xml;q=0.9,image/webp,image/apng,*/*;q=0.8\",\n",
    "    \"Accept-Encoding\": \"gzip, deflate, br\",\n",
    "    \"Accept-Language\": \"en-US,en;q=0.9,pl;q=0.8\",\n",
    "    \"Connection\": \"keep-alive\"\n",
    "}\n",
    "\n",
    "response = requests.get(url, headers=headers)\n",
    "response = requests.get(url, headers=headers)\n",
    "\n",
    "# Debugowanie odpowiedzi\n",
    "print(f\"Status Code: {response.status_code}\")\n",
    "print(f\"Response Headers: {response.headers}\")\n",
    "print(f\"Response Text (first 2000 chars): {response.text[:2000]}\")\n",
    "\n",
    "# Jeśli odpowiedź jest poprawna, wykonaj webscraping\n",
    "if response.status_code == 200:\n",
    "    soup = BeautifulSoup(response.content, \"html.parser\")\n",
    "\n",
    "    # Pobieranie ofert mieszkań\n",
    "    titles = [h2.a.text.strip() for h2 in soup.find_all(\"h2\", class_=\"title\") if h2.a]\n",
    "    prices = [p.text.replace(\"\\xa0\", \" \").strip() for p in soup.find_all(\"span\", class_=\"price\")]\n",
    "\n",
    "    print(\"Titles:\", titles)\n",
    "    print(len(titles))\n",
    "    print(\"Prices:\", prices)\n",
    "    print(len(prices))\n",
    "\n",
    "    df = pd.DataFrame({\"Title\": titles, \"Price\": prices})\n",
    "\n",
    "    # Dopisanie do pliku CSV\n",
    "    df.to_csv(\"scraped_data.csv\", mode='a', header=not os.path.exists('scraped_data.csv'), index=False)\n",
    "else:\n",
    "    print(\"Failed to retrieve data.\")\n"
   ]
  }
 ],
 "metadata": {
  "colab": {
   "provenance": []
  },
  "kernelspec": {
   "display_name": "Python 3",
   "name": "python3"
  },
  "language_info": {
   "codemirror_mode": {
    "name": "ipython",
    "version": 3
   },
   "file_extension": ".py",
   "mimetype": "text/x-python",
   "name": "python",
   "nbconvert_exporter": "python",
   "pygments_lexer": "ipython3",
   "version": "3.9.22"
  },
  "papermill": {
   "default_parameters": {},
   "duration": 3.271073,
   "end_time": "2025-05-23T16:42:02.556330",
   "environment_variables": {},
   "exception": null,
   "input_path": "nb.ipynb",
   "output_path": "nbo.ipynb",
   "parameters": {},
   "start_time": "2025-05-23T16:41:59.285257",
   "version": "2.6.0"
  }
 },
 "nbformat": 4,
 "nbformat_minor": 5
}