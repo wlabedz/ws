{
 "cells": [
  {
   "cell_type": "code",
   "execution_count": 1,
   "id": "3250bd3f",
   "metadata": {
    "colab": {
     "base_uri": "https://localhost:8080/"
    },
    "execution": {
     "iopub.execute_input": "2025-04-06T07:37:59.112868Z",
     "iopub.status.busy": "2025-04-06T07:37:59.112663Z",
     "iopub.status.idle": "2025-04-06T07:38:00.841985Z",
     "shell.execute_reply": "2025-04-06T07:38:00.841254Z"
    },
    "id": "5pYh4c8j1w43",
    "outputId": "8a0dca73-64e5-4f0d-c493-2c5b38392363",
    "papermill": {
     "duration": 1.732437,
     "end_time": "2025-04-06T07:38:00.843100",
     "exception": false,
     "start_time": "2025-04-06T07:37:59.110663",
     "status": "completed"
    },
    "tags": []
   },
   "outputs": [
    {
     "name": "stdout",
     "output_type": "stream",
     "text": [
      "Status Code: 200\n",
      "Response Headers: {'Server': 'nginx', 'Date': 'Sun, 06 Apr 2025 07:38:00 GMT', 'Content-Type': 'text/html; charset=UTF-8', 'Transfer-Encoding': 'chunked', 'Vary': 'Accept-Encoding, User-Agent', 'Set-Cookie': 'FRSPSID=bha7rq2lp30g77cbo23591gus4; path=/; domain=.sprzedajemy.pl; secure; HttpOnly, _items_per_page__offer_list=60; expires=Tue, 06-May-2025 07:38:00 GMT; Max-Age=2592000; path=/; domain=.sprzedajemy.pl; secure; httponly, observed_id=9176028367f22f5874870591128623079814457; expires=Fri, 06-Apr-2125 08:38:00 GMT; Max-Age=3155677200; path=/; domain=.sprzedajemy.pl; secure; httponly', 'Expires': 'Thu, 19 Nov 1981 08:52:00 GMT', 'Cache-Control': 'no-store, no-cache, must-revalidate, post-check=0, pre-check=0', 'Pragma': 'no-cache', 'Content-Encoding': 'gzip'}\n",
      "Response Text (first 2000 chars): <!DOCTYPE html><html xmlns=\"http://www.w3.org/1999/xhtml\" xml:lang=\"pl\" lang=\"pl\" class=\"no-js\" >\n",
      "<head>\n",
      "\t\t\t<!-- Google Tag Manager -->\n",
      "\t\t\t<script>(function(w,d,s,l,i){w[l]=w[l]||[];w[l].push({'gtm.start':\n",
      "\t\t\t\t\t\tnew Date().getTime(),event:'gtm.js'});var f=d.getElementsByTagName(s)[0],\n",
      "\t\t\t\t\tj=d.createElement(s),dl=l!='dataLayer'?'&l='+l:'';j.async=true;j.src=\n",
      "\t\t\t\t\t'https://www.googletagmanager.com/gtm.js?id='+i+dl\n",
      "\t\t\t\t\t\t\t\t\t    ;f.parentNode.insertBefore(j,f);\n",
      "\t\t\t\t    })(window,document,'script','dataLayer','GTM-P3S238');</script>\n",
      "\t\t\t<!-- End Google Tag Manager -->\n",
      "\t<title>Mieszkania Kraków na sprzedaż, wynajem - Sprzedajemy.pl</title><meta http-equiv=\"Content-Type\" content=\"text/html; charset=UTF-8\" >\n",
      "<meta http-equiv=\"X-UA-Compatible\" content=\"IE=edge\" >\n",
      "<meta name=\"description\" content=\"Ogłoszenia o tematyce:  w kategorii Mieszkania - Kupuj i sprzedawaj rzeczy używane i nowe w kategorii Mieszkania na Sprzedajemy.pl\" >\n",
      "<meta property=\"og:title\" content=\"Mieszkania Kraków na sprzedaż, wynajem - Sprzedajemy.pl\" >\n",
      "<meta property=\"og:type\" content=\"website\" >\n",
      "<meta property=\"og:image\" content=\"https://thumbs.img-sprzedajemy.pl/facebook/sprzedajemy.pl.png\" >\n",
      "<meta property=\"og:image:width\" content=\"200\" >\n",
      "<meta property=\"og:image:height\" content=\"200\" >\n",
      "<meta property=\"og:url\" content=\"https://sprzedajemy.pl/krakow/nieruchomosci/mieszkania\" >\n",
      "<meta property=\"og:site_name\" content=\"Sprzedajemy.pl\" >\n",
      "<meta property=\"fb:app_id\" content=\"173258269367442\" >\n",
      "<meta property=\"og:description\" content=\"Ogłoszenia o tematyce:  w kategorii Mieszkania - Kupuj i sprzedawaj rzeczy używane i nowe w kategorii Mieszkania na Sprzedajemy.pl\" >\n",
      "<meta name=\"robots\" content=\"noindex, follow\" >\t\t<script  async=\"async\" src=\"https://static.criteo.net/js/ld/publishertag.js\"></script>\n",
      "        <script  async=\"async\" src=\"https://ap.lijit.com/www/sovrn_beacon_standalone/sovrn_standalone_beacon.js?iid=13417409&amp;uid=sprzedajemy\" id=\"sBeacon\"></script>\n",
      "\t\t<script  async=\"async\" src=\"https://securepuba\n",
      "Titles: ['Strych do adaptacji, Błonia, ul. Filarecka', 'Apartament, 2 pokoje, jadalnia, garaż,Krowodrza', '2 pokoje,garaż,wysoki standard,ul.Rakowicka,ENG', 'Nowoczesne, wykończone, z garażem i balkonem', 'Kraków Bronowice Stawowa 168 / 60m2 3 POK/ 22,5 m2 taras/ BEZ POŚREDNIKÓW', 'Wyjątkowe 2 mieszkania w 1, gotowe do wprowadzenia, po remoncie', '2 lub 3 pokoje,62m2,balkon, Widok na Wawel', 'Mieszkanie z ogródkiem Zakrzówek', 'Mieszkanie 27.5m2 1 pokój Kraków', 'Mieszkanie Kraków 74.3m2', 'Mieszkanie 90.17m2 3-pokojowe Kraków', 'Oferta sprzedaży mieszkania 66.52 metry 3 pokoje Kraków Przewóz - okolice', 'Mieszkanie Kraków 17.51m2 1-pok', 'Sprzedaż mieszkania Kraków Reduta 74.96m2', 'Mieszkanie Kraków Wita Stwosza 18.63m2 1 pokój', 'Mieszkanie Kraków Bałuckiego 47.79 metrów 2 pokoje', 'Ogłoszenie mieszkanie 17.24m2 Kraków Wita Stwosza', 'Mieszkanie Kraków 90.62m2 4-pok', 'Sprzedam mieszkanie 74.33m2 4 pokojowe Kraków Reduta', 'Oferta sprzedaży mieszkania Kraków Reduta 90.17m2 3-pok', 'Mieszkanie Kraków 77.22m2 4 pokoje', 'Mieszkanie 25.89m2 1 pok Kraków', 'Mieszkanie Kraków 21.62m2 1 pokój', 'Mieszkanie 120.73m 4 pokojowe Kraków Reduta', 'Mieszkanie Kraków al. 29 Listopada 15.76m2 1 pokój', 'Sprzedam mieszkanie Kraków 16.52m2', 'Do sprzedaży mieszkanie 53.4m2 Kraków', 'Mieszkanie 77.24m2 Kraków Reduta', 'Stan bardzo dobry – umeblowane, bez pośredników', 'Mieszkanie Kraków Bałuckiego 63.9 metrów 3 pok', 'Mieszkanie 63.9m2 3 pokoje Kraków Bałuckiego', 'Mieszkanie Kraków 21.62m2 1-pok', 'Sprzedaż mieszkania Kraków 77.03m2 3-pokojowe', 'Do sprzedaży mieszkanie 45.79m2 Kraków', 'Apartament VIVA PIAST', 'Sprzedam mieszkanie 59.69m2 3-pok Kraków', 'Kraków, Stare Miasto sprzedaż/zamiana', 'Mieszkanie na sprzedaż Kraków 95m2', 'Mieszkanie 66.69m2 3 pokoje Kraków Teligi', 'Mieszkanie Kraków Filipa - okolice 30.38m2 1 pokój', 'Oferta sprzedaży mieszkania 36.82 metry 1 pokój Kraków Św. Sebastiana - okolice', 'Mieszkanie 2 pokoje', 'Wynajmę mieszkanie 3-pokojowe Ruczaj Bobrzyńskiego', 'Sprzedam mieszkanie 30.21m2 Kraków Św. Sebastiana - okolice', 'Mieszkanie Kraków Wita Stwosza 21.62m2 1-pokojowe', '2 pokojowe mieszkanie z balkonem - bezpośrednio ,bez prowizji', 'Sprzedam kawalerkę TBS z Balkonem - Plac Centralny - Czyżyny', '4 pokoje + strych do adaptacji, ul. Filarecka 10', 'Mieszkanie 48.5m2 3-pok Kraków', 'Mieszkanie 92.76m2 4 pokoje Kraków', '2 pokojowe mieszkanie z balkonem - bezpośrednio ,bez prowizji', 'Do wynajęcia mieszkanie jednopokojowe 36m', 'Mieszkanie Kraków os. Piastów 92.69m2 4 pokoje', 'Oferta sprzedaży mieszkania Kraków os. Piastów 92.78m2', 'Mieszkanie na os. Na Stoku, 3 pokoje+kuchnia', 'Mieszkanie Kraków 60.35m2 3-pok', 'Sprzedaż mieszkania Kraków 60.35m2 3-pokojowe', 'Sprzedam mieszkanie w systemie TBS', 'Mieszkanie 63.12m2 3-pok Kraków', 'Mieszkanie 63.12m2 3 pok Kraków os. Piastów']\n",
      "60\n",
      "Prices: ['379 999 zł', '3 800 zł', '3 000 zł', '990 000 zł', '1 137 500 zł', '1 185 000 zł', '1 590 000 zł', '470 000 zł', '1 100 000 zł', '810 761 zł', '1 338 000 zł', '731 622 zł', '407 107 zł', '1 156 920 zł', '428 490 zł', '1 050 000 zł', '392 210 zł', '924 120 zł', '1 128 600 zł', '1 308 625 zł', '1 198 000 zł', '1 035 600 zł', '410 780 zł', '2 097 000 zł', '299 440 zł', '351 050 zł', '472 590 zł', '1 243 000 zł', '740 000 zł', '1 150 000 zł', '1 200 000 zł', '421 590 zł', '1 600 000 zł', '1 831 600 zł', '2 800 zł', '655 662 zł', '2 254 000 zł', '2 500 000 zł', '833 500 zł', '789 880 zł', '1 399 160 zł', '519 000 zł', '3 500 zł', '1 208 400 zł', '432 400 zł', '585 000 zł', '200 000 zł', '1 699 999 zł', '765 000 zł', '946 152 zł', '585 000 zł', '1 900 zł', '945 438 zł', '946 356 zł', '648 000 zł', '736 270 zł', '736 270 zł', '200 000 zł', '789 000 zł', '789 000 zł']\n",
      "60\n"
     ]
    }
   ],
   "source": [
    "import requests\n",
    "from bs4 import BeautifulSoup\n",
    "import pandas as pd\n",
    "import os\n",
    "\n",
    "url = \"https://sprzedajemy.pl/krakow/nieruchomosci/mieszkania?offset=0&items_per_page=60\"\n",
    "\n",
    "headers = {\n",
    "    \"User-Agent\": \"Mozilla/5.0 (Windows NT 10.0; Win64; x64) AppleWebKit/537.36 (KHTML, like Gecko) Chrome/58.0.3029.110 Safari/537.36\",\n",
    "    \"Accept\": \"text/html,application/xhtml+xml,application/xml;q=0.9,image/webp,image/apng,*/*;q=0.8\",\n",
    "    \"Accept-Encoding\": \"gzip, deflate, br\",\n",
    "    \"Accept-Language\": \"en-US,en;q=0.9,pl;q=0.8\",\n",
    "    \"Connection\": \"keep-alive\"\n",
    "}\n",
    "\n",
    "response = requests.get(url, headers=headers)\n",
    "response = requests.get(url, headers=headers)\n",
    "\n",
    "# Debugowanie odpowiedzi\n",
    "print(f\"Status Code: {response.status_code}\")\n",
    "print(f\"Response Headers: {response.headers}\")\n",
    "print(f\"Response Text (first 2000 chars): {response.text[:2000]}\")\n",
    "\n",
    "# Jeśli odpowiedź jest poprawna, wykonaj webscraping\n",
    "if response.status_code == 200:\n",
    "    soup = BeautifulSoup(response.content, \"html.parser\")\n",
    "\n",
    "    # Pobieranie ofert mieszkań\n",
    "    titles = [h2.a.text.strip() for h2 in soup.find_all(\"h2\", class_=\"title\") if h2.a]\n",
    "    prices = [p.text.replace(\"\\xa0\", \" \").strip() for p in soup.find_all(\"span\", class_=\"price\")]\n",
    "\n",
    "    print(\"Titles:\", titles)\n",
    "    print(len(titles))\n",
    "    print(\"Prices:\", prices)\n",
    "    print(len(prices))\n",
    "\n",
    "    df = pd.DataFrame({\"Title\": titles, \"Price\": prices})\n",
    "\n",
    "    # Dopisanie do pliku CSV\n",
    "    df.to_csv(\"scraped_data.csv\", mode='a', header=not os.path.exists('scraped_data.csv'), index=False)\n",
    "else:\n",
    "    print(\"Failed to retrieve data.\")\n"
   ]
  }
 ],
 "metadata": {
  "colab": {
   "provenance": []
  },
  "kernelspec": {
   "display_name": "Python 3",
   "name": "python3"
  },
  "language_info": {
   "codemirror_mode": {
    "name": "ipython",
    "version": 3
   },
   "file_extension": ".py",
   "mimetype": "text/x-python",
   "name": "python",
   "nbconvert_exporter": "python",
   "pygments_lexer": "ipython3",
   "version": "3.9.21"
  },
  "papermill": {
   "default_parameters": {},
   "duration": 2.856323,
   "end_time": "2025-04-06T07:38:01.060474",
   "environment_variables": {},
   "exception": null,
   "input_path": "nb.ipynb",
   "output_path": "nbo.ipynb",
   "parameters": {},
   "start_time": "2025-04-06T07:37:58.204151",
   "version": "2.6.0"
  }
 },
 "nbformat": 4,
 "nbformat_minor": 5
}