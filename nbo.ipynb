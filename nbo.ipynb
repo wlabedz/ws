{
 "cells": [
  {
   "cell_type": "code",
   "execution_count": 1,
   "id": "02327a85",
   "metadata": {
    "colab": {
     "base_uri": "https://localhost:8080/"
    },
    "execution": {
     "iopub.execute_input": "2025-06-17T20:39:31.588777Z",
     "iopub.status.busy": "2025-06-17T20:39:31.588516Z",
     "iopub.status.idle": "2025-06-17T20:39:34.274000Z",
     "shell.execute_reply": "2025-06-17T20:39:34.273115Z"
    },
    "id": "5pYh4c8j1w43",
    "outputId": "8a0dca73-64e5-4f0d-c493-2c5b38392363",
    "papermill": {
     "duration": 2.68943,
     "end_time": "2025-06-17T20:39:34.275212",
     "exception": false,
     "start_time": "2025-06-17T20:39:31.585782",
     "status": "completed"
    },
    "tags": []
   },
   "outputs": [
    {
     "name": "stdout",
     "output_type": "stream",
     "text": [
      "Status Code: 200\n",
      "Response Headers: {'Server': 'nginx', 'Date': 'Tue, 17 Jun 2025 20:39:33 GMT', 'Content-Type': 'text/html; charset=UTF-8', 'Transfer-Encoding': 'chunked', 'Vary': 'Accept-Encoding, User-Agent', 'Set-Cookie': 'FRSPSID=lhv965b69uvu6qlmps8rbc4p96; path=/; domain=.sprzedajemy.pl; secure; HttpOnly, _items_per_page__offer_list=60; expires=Thu, 17-Jul-2025 20:39:33 GMT; Max-Age=2592000; path=/; domain=.sprzedajemy.pl; secure; httponly, observed_id=13513091146851d285b249a8101609980869364990; expires=Sun, 17-Jun-2125 21:39:33 GMT; Max-Age=3155677200; path=/; domain=.sprzedajemy.pl; secure; httponly', 'Expires': 'Thu, 19 Nov 1981 08:52:00 GMT', 'Cache-Control': 'no-store, no-cache, must-revalidate, post-check=0, pre-check=0', 'Pragma': 'no-cache', 'Content-Encoding': 'gzip'}\n",
      "Response Text (first 2000 chars): <!DOCTYPE html><html xmlns=\"http://www.w3.org/1999/xhtml\" xml:lang=\"pl\" lang=\"pl\" class=\"no-js\" >\n",
      "<head>\n",
      "\t\t\t<!-- Google Tag Manager -->\n",
      "\t\t\t<script>(function(w,d,s,l,i){w[l]=w[l]||[];w[l].push({'gtm.start':\n",
      "\t\t\t\t\t\tnew Date().getTime(),event:'gtm.js'});var f=d.getElementsByTagName(s)[0],\n",
      "\t\t\t\t\tj=d.createElement(s),dl=l!='dataLayer'?'&l='+l:'';j.async=true;j.src=\n",
      "\t\t\t\t\t'https://www.googletagmanager.com/gtm.js?id='+i+dl\n",
      "\t\t\t\t\t\t\t\t\t    ;f.parentNode.insertBefore(j,f);\n",
      "\t\t\t\t    })(window,document,'script','dataLayer','GTM-P3S238');</script>\n",
      "\t\t\t<!-- End Google Tag Manager -->\n",
      "\t<title>Mieszkania Kraków na sprzedaż, wynajem - Sprzedajemy.pl</title><meta http-equiv=\"Content-Type\" content=\"text/html; charset=UTF-8\" >\n",
      "<meta http-equiv=\"X-UA-Compatible\" content=\"IE=edge\" >\n",
      "<meta name=\"description\" content=\"Ogłoszenia o tematyce:  w kategorii Mieszkania - Kupuj i sprzedawaj rzeczy używane i nowe w kategorii Mieszkania na Sprzedajemy.pl\" >\n",
      "<meta property=\"og:title\" content=\"Mieszkania Kraków na sprzedaż, wynajem - Sprzedajemy.pl\" >\n",
      "<meta property=\"og:type\" content=\"website\" >\n",
      "<meta property=\"og:image\" content=\"https://thumbs.img-sprzedajemy.pl/facebook/sprzedajemy.pl.png\" >\n",
      "<meta property=\"og:image:width\" content=\"200\" >\n",
      "<meta property=\"og:image:height\" content=\"200\" >\n",
      "<meta property=\"og:url\" content=\"https://sprzedajemy.pl/krakow/nieruchomosci/mieszkania\" >\n",
      "<meta property=\"og:site_name\" content=\"Sprzedajemy.pl\" >\n",
      "<meta property=\"fb:app_id\" content=\"173258269367442\" >\n",
      "<meta property=\"og:description\" content=\"Ogłoszenia o tematyce:  w kategorii Mieszkania - Kupuj i sprzedawaj rzeczy używane i nowe w kategorii Mieszkania na Sprzedajemy.pl\" >\n",
      "<meta name=\"robots\" content=\"noindex, follow\" >\t\t<script  async=\"async\" src=\"https://static.criteo.net/js/ld/publishertag.js\"></script>\n",
      "        <script  async=\"async\" src=\"https://ap.lijit.com/www/sovrn_beacon_standalone/sovrn_standalone_beacon.js?iid=13417409&amp;uid=sprzedajemy\" id=\"sBeacon\"></script>\n",
      "\t\t<script  async=\"async\" src=\"https://securepuba\n"
     ]
    },
    {
     "name": "stdout",
     "output_type": "stream",
     "text": [
      "Titles: ['Nowe mieszkanie na sprzedaż 2-pokoje 38,6 m2 | Krowodrza - Kraków', 'Mieszkanie 4-pokoje Kraków - wolne od 1 Lipca 2025 r.', 'Mieszkanie 2 pokojowe', 'Stare Miasto 61,5 m2 KLIMA Wawel wykończone Kazimierz wysokie ROI', 'Stare Miasto 32m2 KLIMA Wawel wykończone Kazimierz wysokie ROI', 'Stylowy apartament z widokiem na panoramę Krakowa - od właściciela', 'Wyjątkowe mieszkanie z widokiem na klasztor w Tyńcu i panoramę Tatr', 'Nowoczesny apartament z panoramicznym widokiem - od właściciela', 'Mieszkanie na sprzedaż/zamiana 39m2', 'Mieszkanie Kraków os. Albertyńskie 38m2 2 pokoje', 'Mieszkanie wynajmę Kraków 66m2 4 pokojowe', 'Mieszkanie Kraków Reduta 77.12 metry 3 pokoje', 'Oferta sprzedaży mieszkania 67.14m2 3 pok Kraków', 'Mieszkanie 67.14m2 4 pok Kraków Gałczyńskiego', 'Mieszkanie sprzedam Kraków 57.77m2 3 pokojowe', 'Piękne mieszkanie |2 pokoje + kuchnia| DO WEJŚCIA', 'Mieszkanie Kraków 64m2 3 pokoje', 'Atrakcyjne mieszkanie 3 pok.61,4 m2 Kraków ul. Młyńska', 'Mieszkanie Kraków Wrocławska 27.86m2 1 pokój', 'Mieszkanie 37.11m2 2 pokoje Kraków Spółdzielców', 'Sprzedaż mieszkania Kraków 80.28m2 5 pokojowe', 'Do sprzedaży mieszkanie Kraków 62.19 metrów 2 pokoje', 'Borkowska - 2 pokojowe mieszkanie z balkonem', 'ul.Felińskiego, piękne 3 pokoje, garaż', 'Wola Duchacka 2 pokoje + komórka w cenie', 'Mieszkanie 16.6m2 1-pokojowe Kraków Majora Pilota Stefana Janusa', 'Bezpośrednio Jasne 2 pokoje Mieszkanie Centrum Ogrzewanie Parking Komunika…', 'Mieszkanie na sprzedaż 58m 3 pokoje Kraków Starego Dębu', 'Mieszkanie Kraków Bratysławska 36.45m2 1 pok', 'Oferta sprzedaży mieszkania Kraków 66m2 3 pokojowe', '2 POKOJOWE 45MKW na Lilii Wenedy na sprzedaż!', 'Oferta sprzedaży mieszkania Kraków 30.1m2 1 pokój', 'Ogłoszenie mieszkanie Kraków 36.11m 2-pok', '3-pokojowe mieszkanie 63 m² z tarasem 22 m² | 8.P | Klima I Premium standa…', 'Bezpośrednio Jasne 2 pokojowe Mieszkanie Centrum Ogrzewanie Parking PROMOC…', 'Mieszkanie do sprzedania 38.7m2 2 pok Kraków Kamieńskiego - okolice', 'Mieszkanie Kraków Stanisława Przybyszewskiego 35m2 1 pok', 'Oferta sprzedaży mieszkania Kraków os. Jagiellońskie 44m2 2 pokoje', 'Wynajmie 3pok.mieszkanie z ogródkiem Krakow Glogera', 'Mieszkanie 41 metrów 2 pok Kraków Wawrzyńca', 'Mieszkanie 20m2 1 pokój Kraków Juliusza Lea', 'Wynajmę mieszkanie Kraków Marii i Bolesława Wysłouchów 40m2 2 pokojowe', 'Sprzedaż mieszkania 34.2m2 Kraków', 'Mieszkanie Kraków 46.76m2 2-pokojowe', 'Oferta sprzedaży mieszkania 30m2 Kraków Krowoderskich Zuchów', 'Ogłoszenie mieszkanie 23m2 2 pokoje Kraków', 'Mieszkanie Kraków Starego Dębu 32m2', 'Mieszkanie 50.3 metry 4-pok Kraków Altanowa', 'Mieszkanie Kraków 29 listopada - okolice 103.86m2 2-pokojowe', 'Mieszkanie 52m2 2 pokojowe Kraków Pszczelna', 'Mieszkanie 71.51m2 3 pokoje Kraków Przewóz', 'Oferta sprzedaży mieszkania 39.36m2 2 pok Kraków', 'Mieszkanie Kraków Ludowa 58.51m2 3-pok', 'Mieszkanie 57m2 2 pokoje Kraków', 'Sprzedam mieszkanie 26m oś Szkolne Kraków', 'Mieszkanie do sprzedania Kraków Filipowicza 72m2 2 pokojowe', 'Mieszkanie 34m2 2 pokoje Kraków Na Wzgórzach', 'Mieszkanie Kraków os. Hutnicze 20.81m2 1 pokój', 'Wynajmę mieszkanie Kraków Kantora 36m2 1 pokój', 'Mieszkanie 30.45m2 1 pokojowe Kraków']\n",
      "60\n",
      "Prices: ['799 000 zł', '4 800 zł', '489 000 zł', '1 782 885 zł', '989 000 zł', '897 000 zł', '779 000 zł', '997 000 zł', '539 000 zł', '470 000 zł', '4 900 zł', '1 342 000 zł', '1 170 413 zł', '1 143 552 zł', '830 000 zł', '549 900 zł', '949 000 zł', '915 000 zł', '567 000 zł', '558 000 zł', '1 653 350 zł', '858 222 zł', '600 000 zł', '800 000 zł', '670 000 zł', '399 000 zł', '3 200 zł', '900 000 zł', '656 000 zł', '1 150 000 zł', '525 000 zł', '425 000 zł', '530 000 zł', '4 750 zł', '849 000 zł', '683 294 zł', '2 500 zł', '619 000 zł', '3 500 zł', '750 000 zł', '2 000 zł', '2 200 zł', '499 000 zł', '1 100 000 zł', '539 000 zł', '410 000 zł', '615 000 zł', '1 395 000 zł', '1 713 690 zł', '3 000 zł', '1 065 000 zł', '599 000 zł', '829 000 zł', '3 000 zł', '380 000 zł', '849 000 zł', '1 850 zł', '499 000 zł', '1 900 zł', '850 000 zł']\n",
      "60\n"
     ]
    }
   ],
   "source": [
    "import requests\n",
    "from bs4 import BeautifulSoup\n",
    "import pandas as pd\n",
    "import os\n",
    "\n",
    "url = \"https://sprzedajemy.pl/krakow/nieruchomosci/mieszkania?offset=0&items_per_page=60\"\n",
    "\n",
    "headers = {\n",
    "    \"User-Agent\": \"Mozilla/5.0 (Windows NT 10.0; Win64; x64) AppleWebKit/537.36 (KHTML, like Gecko) Chrome/58.0.3029.110 Safari/537.36\",\n",
    "    \"Accept\": \"text/html,application/xhtml+xml,application/xml;q=0.9,image/webp,image/apng,*/*;q=0.8\",\n",
    "    \"Accept-Encoding\": \"gzip, deflate, br\",\n",
    "    \"Accept-Language\": \"en-US,en;q=0.9,pl;q=0.8\",\n",
    "    \"Connection\": \"keep-alive\"\n",
    "}\n",
    "\n",
    "response = requests.get(url, headers=headers)\n",
    "response = requests.get(url, headers=headers)\n",
    "\n",
    "# Debugowanie odpowiedzi\n",
    "print(f\"Status Code: {response.status_code}\")\n",
    "print(f\"Response Headers: {response.headers}\")\n",
    "print(f\"Response Text (first 2000 chars): {response.text[:2000]}\")\n",
    "\n",
    "# Jeśli odpowiedź jest poprawna, wykonaj webscraping\n",
    "if response.status_code == 200:\n",
    "    soup = BeautifulSoup(response.content, \"html.parser\")\n",
    "\n",
    "    # Pobieranie ofert mieszkań\n",
    "    titles = [h2.a.text.strip() for h2 in soup.find_all(\"h2\", class_=\"title\") if h2.a]\n",
    "    prices = [p.text.replace(\"\\xa0\", \" \").strip() for p in soup.find_all(\"span\", class_=\"price\")]\n",
    "\n",
    "    print(\"Titles:\", titles)\n",
    "    print(len(titles))\n",
    "    print(\"Prices:\", prices)\n",
    "    print(len(prices))\n",
    "\n",
    "    df = pd.DataFrame({\"Title\": titles, \"Price\": prices})\n",
    "\n",
    "    # Dopisanie do pliku CSV\n",
    "    df.to_csv(\"scraped_data.csv\", mode='a', header=not os.path.exists('scraped_data.csv'), index=False)\n",
    "else:\n",
    "    print(\"Failed to retrieve data.\")\n"
   ]
  }
 ],
 "metadata": {
  "colab": {
   "provenance": []
  },
  "kernelspec": {
   "display_name": "Python 3",
   "name": "python3"
  },
  "language_info": {
   "codemirror_mode": {
    "name": "ipython",
    "version": 3
   },
   "file_extension": ".py",
   "mimetype": "text/x-python",
   "name": "python",
   "nbconvert_exporter": "python",
   "pygments_lexer": "ipython3",
   "version": "3.9.22"
  },
  "papermill": {
   "default_parameters": {},
   "duration": 3.951838,
   "end_time": "2025-06-17T20:39:34.593195",
   "environment_variables": {},
   "exception": null,
   "input_path": "nb.ipynb",
   "output_path": "nbo.ipynb",
   "parameters": {},
   "start_time": "2025-06-17T20:39:30.641357",
   "version": "2.6.0"
  }
 },
 "nbformat": 4,
 "nbformat_minor": 5
}