{
 "cells": [
  {
   "cell_type": "code",
   "execution_count": 1,
   "id": "cd7f61e8",
   "metadata": {
    "colab": {
     "base_uri": "https://localhost:8080/"
    },
    "execution": {
     "iopub.execute_input": "2025-04-15T07:44:25.286313Z",
     "iopub.status.busy": "2025-04-15T07:44:25.286042Z",
     "iopub.status.idle": "2025-04-15T07:44:27.198842Z",
     "shell.execute_reply": "2025-04-15T07:44:27.198109Z"
    },
    "id": "5pYh4c8j1w43",
    "outputId": "8a0dca73-64e5-4f0d-c493-2c5b38392363",
    "papermill": {
     "duration": 1.916865,
     "end_time": "2025-04-15T07:44:27.199902",
     "exception": false,
     "start_time": "2025-04-15T07:44:25.283037",
     "status": "completed"
    },
    "tags": []
   },
   "outputs": [
    {
     "name": "stdout",
     "output_type": "stream",
     "text": [
      "Status Code: 200\n",
      "Response Headers: {'Server': 'nginx', 'Date': 'Tue, 15 Apr 2025 07:44:26 GMT', 'Content-Type': 'text/html; charset=UTF-8', 'Transfer-Encoding': 'chunked', 'Vary': 'Accept-Encoding, User-Agent', 'Set-Cookie': 'FRSPSID=rnhpd31i6k56as4b5kb5jdptn2; path=/; domain=.sprzedajemy.pl; secure; HttpOnly, _items_per_page__offer_list=60; expires=Thu, 15-May-2025 07:44:26 GMT; Max-Age=2592000; path=/; domain=.sprzedajemy.pl; secure; httponly, observed_id=203906802667fe0e5ac16b98123582954727133374; expires=Sun, 15-Apr-2125 08:44:26 GMT; Max-Age=3155677200; path=/; domain=.sprzedajemy.pl; secure; httponly', 'Expires': 'Thu, 19 Nov 1981 08:52:00 GMT', 'Cache-Control': 'no-store, no-cache, must-revalidate, post-check=0, pre-check=0', 'Pragma': 'no-cache', 'Content-Encoding': 'gzip'}\n",
      "Response Text (first 2000 chars): <!DOCTYPE html><html xmlns=\"http://www.w3.org/1999/xhtml\" xml:lang=\"pl\" lang=\"pl\" class=\"no-js\" >\n",
      "<head>\n",
      "\t\t\t<!-- Google Tag Manager -->\n",
      "\t\t\t<script>(function(w,d,s,l,i){w[l]=w[l]||[];w[l].push({'gtm.start':\n",
      "\t\t\t\t\t\tnew Date().getTime(),event:'gtm.js'});var f=d.getElementsByTagName(s)[0],\n",
      "\t\t\t\t\tj=d.createElement(s),dl=l!='dataLayer'?'&l='+l:'';j.async=true;j.src=\n",
      "\t\t\t\t\t'https://www.googletagmanager.com/gtm.js?id='+i+dl\n",
      "\t\t\t\t\t\t\t\t\t    ;f.parentNode.insertBefore(j,f);\n",
      "\t\t\t\t    })(window,document,'script','dataLayer','GTM-P3S238');</script>\n",
      "\t\t\t<!-- End Google Tag Manager -->\n",
      "\t<title>Mieszkania Kraków na sprzedaż, wynajem - Sprzedajemy.pl</title><meta http-equiv=\"Content-Type\" content=\"text/html; charset=UTF-8\" >\n",
      "<meta http-equiv=\"X-UA-Compatible\" content=\"IE=edge\" >\n",
      "<meta name=\"description\" content=\"Ogłoszenia o tematyce:  w kategorii Mieszkania - Kupuj i sprzedawaj rzeczy używane i nowe w kategorii Mieszkania na Sprzedajemy.pl\" >\n",
      "<meta property=\"og:title\" content=\"Mieszkania Kraków na sprzedaż, wynajem - Sprzedajemy.pl\" >\n",
      "<meta property=\"og:type\" content=\"website\" >\n",
      "<meta property=\"og:image\" content=\"https://thumbs.img-sprzedajemy.pl/facebook/sprzedajemy.pl.png\" >\n",
      "<meta property=\"og:image:width\" content=\"200\" >\n",
      "<meta property=\"og:image:height\" content=\"200\" >\n",
      "<meta property=\"og:url\" content=\"https://sprzedajemy.pl/krakow/nieruchomosci/mieszkania\" >\n",
      "<meta property=\"og:site_name\" content=\"Sprzedajemy.pl\" >\n",
      "<meta property=\"fb:app_id\" content=\"173258269367442\" >\n",
      "<meta property=\"og:description\" content=\"Ogłoszenia o tematyce:  w kategorii Mieszkania - Kupuj i sprzedawaj rzeczy używane i nowe w kategorii Mieszkania na Sprzedajemy.pl\" >\n",
      "<meta name=\"robots\" content=\"noindex, follow\" >\t\t<script  async=\"async\" src=\"https://static.criteo.net/js/ld/publishertag.js\"></script>\n",
      "        <script  async=\"async\" src=\"https://ap.lijit.com/www/sovrn_beacon_standalone/sovrn_standalone_beacon.js?iid=13417409&amp;uid=sprzedajemy\" id=\"sBeacon\"></script>\n",
      "\t\t<script  async=\"async\" src=\"https://securepuba\n",
      "Titles: ['Kraków, Stare Miasto sprzedaż/zamiana', 'Kraków Bronowice Stawowa 168 / 60m2 3 POK/ 22,5 m2 taras/ BEZ POŚREDNIKÓW', 'Wyjątkowe 2 mieszkania w 1, gotowe do wprowadzenia, po remoncie', 'Apartament, 2 pokoje, jadalnia, garaż,Krowodrza', '2 pokoje,garaż,wysoki standard,ul.Rakowicka,ENG', 'Mieszkanie na sprzedaż/zamiana 39m2', 'Nowoczesne, wykończone, z garażem i balkonem', '2 lub 3 pokoje,62m2,balkon, Widok na Wawel', 'Mieszkanie z ogródkiem Zakrzówek bezczynszowe', 'Strych do adaptacji, Błonia, ul. Filarecka', '2 pokoje 41m2 blisko Aquaparku wkrótce tramwaj!', 'Mieszkanie przy Parku Rzecznym Tonie', 'Sprzedaż mieszkania Kraków 31.54m2 2 pokoje', 'Mieszkanie Kraków Bieżanów 72.01m2 4 pokoje', 'Mieszkanie 45.44m2 2 pokoje Kraków', 'Sprzedaż mieszkania 42.14m2 Kraków', 'Mieszkanie na sprzedaż 38.07 metrów 1 pokój Kraków Stawowa', 'Mieszkanie Kraków Grzegórzecka 47.8m2', 'Mieszkanie 31.51m2 2 pokoje Kraków', 'Mieszkanie Kraków 53.66m2 2-pok', 'Oferta sprzedaży mieszkania Kraków 42.14m2 2 pokoje', 'Mieszkanie Kraków Bieżanów 53.66m2 2 pokoje', 'Oferta sprzedaży mieszkania 42.14m2 2-pokojowe Kraków Bieżanów', 'Mieszkanie Kraków 46m2 2-pokojowe', 'Mieszkanie 62m2 3 pokoje Kraków Filarecka', 'Mieszkanie Kraków 39.62m2 2-pokojowe', 'Mieszkanie sprzedam 35.22m2 2 pokoje Kraków', 'Oferta sprzedaży mieszkania Kraków Bieżanów 31.73m2 2 pokoje', 'Mieszkanie Kraków 63.36m2', 'Mieszkanie Kraków Bieżanów 44.71m2 2 pokoje', 'Mieszkanie Kraków Bieżanów 45.16 metrów 2-pok', 'Ogłoszenie mieszkanie Kraków Bieżanów 35.22m2', 'Oferta sprzedaży mieszkania Kraków Bieżanów 53.66m2 2 pokoje', 'Mieszkanie Kraków 63.37m2 3 pokojowe', 'Oferta sprzedaży mieszkania 35.05 metrów 2-pokojowe Kraków', 'Mieszkanie 35.56m2 2 pokoje Kraków Bieżanów', 'Sprzedaż mieszkania Kraków Bieżanów 35.06m2 2 pokojowe', 'Mieszkanie Kraków Bieżanów 45.18m2 2 pokoje', 'Mieszkanie Kraków 63.29 metrów', 'Mieszkanie Kraków 35.31m2 2-pokojowe', 'Mieszkanie 51.67m2 2 pokoje Kraków Bieżanów', 'Ogłoszenie mieszkanie 45.44m2 2 pok Kraków Bieżanów', 'Sprzedam mieszkanie 63.11m2 4-pok Kraków', 'Sprzedaż mieszkania 36.44 metry 2-pokojowe Kraków Przybyszewskiego', 'Mieszkanie Kraków Bieżanów 45.36m2 2 pokojowe', 'Mieszkanie 53.66m2 Kraków', 'Mieszkanie Kraków Bieżanów 35.25m2 2 pokoje', 'Mieszkanie Kraków 63.32 metry 3-pok', 'Mieszkanie 45.33m2 2 pokoje Kraków', 'Mieszkanie 26.65m2 1-pokojowe Kraków Krowoderska', 'Mieszkanie Kraków 35.31m2', 'Mieszkanie Kraków Mirosława Dzielskiego 58m2 3-pokojowe', 'Mieszkanie 45.44m2 2-pok Kraków', 'Do sprzedaży mieszkanie Kraków Bieżanów 31.8 metrów 2-pok', 'Mieszkanie Kraków 56.65m2 3 pokoje', 'Oferta sprzedaży mieszkania Kraków Bieżanów 44.63m2 2-pok', 'Mieszkanie 47.11m2 3 pokojowe Kraków', 'Mieszkanie 35.56m2 2 pokoje Kraków Bieżanów', 'Mieszkanie 53.57 metrów 2 pokojowe Kraków Bieżanów', 'Mieszkanie do sprzedania 44.71m2 2-pok Kraków Bieżanów']\n",
      "60\n",
      "Prices: ['2 254 000 zł', '1 137 500 zł', '1 090 000 zł', '3 800 zł', '3 000 zł', '548 000 zł', '990 000 zł', '1 590 000 zł', '460 000 zł', '379 999 zł', '710 000 zł', '550 000 zł', '482 562 zł', '936 130 zł', '658 880 zł', '611 030 zł', '599 000 zł', '950 000 zł', '482 103 zł', '751 240 zł', '611 030 zł', '724 410 zł', '611 030 zł', '2 400 zł', '4 000 zł', '594 300 zł', '521 256 zł', '501 334 zł', '823 680 zł', '648 295 zł', '632 240 zł', '521 256 zł', '697 580 zł', '855 495 zł', '518 296 zł', '544 068 zł', '518 888 zł', '632 520 zł', '854 415 zł', '557 898 zł', '671 710 zł', '681 600 zł', '820 430 zł', '590 000 zł', '657 720 zł', '697 580 zł', '521 700 zł', '886 480 zł', '634 620 zł', '399 000 zł', '540 243 zł', '2 800 zł', '681 600 zł', '502 440 zł', '679 000 zł', '624 820 zł', '609 000 zł', '561 848 zł', '696 410 zł', '648 295 zł']\n",
      "60\n"
     ]
    }
   ],
   "source": [
    "import requests\n",
    "from bs4 import BeautifulSoup\n",
    "import pandas as pd\n",
    "import os\n",
    "\n",
    "url = \"https://sprzedajemy.pl/krakow/nieruchomosci/mieszkania?offset=0&items_per_page=60\"\n",
    "\n",
    "headers = {\n",
    "    \"User-Agent\": \"Mozilla/5.0 (Windows NT 10.0; Win64; x64) AppleWebKit/537.36 (KHTML, like Gecko) Chrome/58.0.3029.110 Safari/537.36\",\n",
    "    \"Accept\": \"text/html,application/xhtml+xml,application/xml;q=0.9,image/webp,image/apng,*/*;q=0.8\",\n",
    "    \"Accept-Encoding\": \"gzip, deflate, br\",\n",
    "    \"Accept-Language\": \"en-US,en;q=0.9,pl;q=0.8\",\n",
    "    \"Connection\": \"keep-alive\"\n",
    "}\n",
    "\n",
    "response = requests.get(url, headers=headers)\n",
    "response = requests.get(url, headers=headers)\n",
    "\n",
    "# Debugowanie odpowiedzi\n",
    "print(f\"Status Code: {response.status_code}\")\n",
    "print(f\"Response Headers: {response.headers}\")\n",
    "print(f\"Response Text (first 2000 chars): {response.text[:2000]}\")\n",
    "\n",
    "# Jeśli odpowiedź jest poprawna, wykonaj webscraping\n",
    "if response.status_code == 200:\n",
    "    soup = BeautifulSoup(response.content, \"html.parser\")\n",
    "\n",
    "    # Pobieranie ofert mieszkań\n",
    "    titles = [h2.a.text.strip() for h2 in soup.find_all(\"h2\", class_=\"title\") if h2.a]\n",
    "    prices = [p.text.replace(\"\\xa0\", \" \").strip() for p in soup.find_all(\"span\", class_=\"price\")]\n",
    "\n",
    "    print(\"Titles:\", titles)\n",
    "    print(len(titles))\n",
    "    print(\"Prices:\", prices)\n",
    "    print(len(prices))\n",
    "\n",
    "    df = pd.DataFrame({\"Title\": titles, \"Price\": prices})\n",
    "\n",
    "    # Dopisanie do pliku CSV\n",
    "    df.to_csv(\"scraped_data.csv\", mode='a', header=not os.path.exists('scraped_data.csv'), index=False)\n",
    "else:\n",
    "    print(\"Failed to retrieve data.\")\n"
   ]
  }
 ],
 "metadata": {
  "colab": {
   "provenance": []
  },
  "kernelspec": {
   "display_name": "Python 3",
   "name": "python3"
  },
  "language_info": {
   "codemirror_mode": {
    "name": "ipython",
    "version": 3
   },
   "file_extension": ".py",
   "mimetype": "text/x-python",
   "name": "python",
   "nbconvert_exporter": "python",
   "pygments_lexer": "ipython3",
   "version": "3.9.21"
  },
  "papermill": {
   "default_parameters": {},
   "duration": 3.005214,
   "end_time": "2025-04-15T07:44:27.416933",
   "environment_variables": {},
   "exception": null,
   "input_path": "nb.ipynb",
   "output_path": "nbo.ipynb",
   "parameters": {},
   "start_time": "2025-04-15T07:44:24.411719",
   "version": "2.6.0"
  }
 },
 "nbformat": 4,
 "nbformat_minor": 5
}