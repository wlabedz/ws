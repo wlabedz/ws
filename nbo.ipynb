{
 "cells": [
  {
   "cell_type": "code",
   "execution_count": 1,
   "id": "fed94c34",
   "metadata": {
    "colab": {
     "base_uri": "https://localhost:8080/"
    },
    "execution": {
     "iopub.execute_input": "2025-09-10T15:29:55.465648Z",
     "iopub.status.busy": "2025-09-10T15:29:55.465348Z",
     "iopub.status.idle": "2025-09-10T15:29:57.928638Z",
     "shell.execute_reply": "2025-09-10T15:29:57.928052Z"
    },
    "id": "5pYh4c8j1w43",
    "outputId": "8a0dca73-64e5-4f0d-c493-2c5b38392363",
    "papermill": {
     "duration": 2.467078,
     "end_time": "2025-09-10T15:29:57.929754",
     "exception": false,
     "start_time": "2025-09-10T15:29:55.462676",
     "status": "completed"
    },
    "tags": []
   },
   "outputs": [
    {
     "name": "stdout",
     "output_type": "stream",
     "text": [
      "Status Code: 200\n",
      "Response Headers: {'Server': 'nginx', 'Date': 'Wed, 10 Sep 2025 15:29:57 GMT', 'Content-Type': 'text/html; charset=UTF-8', 'Transfer-Encoding': 'chunked', 'Vary': 'Accept-Encoding, User-Agent', 'Set-Cookie': 'FRSPSID=f0nhmme6jd5biudkkea06ph8g6; path=/; domain=.sprzedajemy.pl; secure; HttpOnly, _items_per_page__offer_list=60; expires=Fri, 10-Oct-2025 15:29:57 GMT; Max-Age=2592000; path=/; domain=.sprzedajemy.pl; secure; httponly, observed_id=184856313768c1997571fd47156172691813971236; expires=Mon, 10-Sep-2125 16:29:57 GMT; Max-Age=3155677200; path=/; domain=.sprzedajemy.pl; secure; httponly', 'Expires': 'Thu, 19 Nov 1981 08:52:00 GMT', 'Cache-Control': 'no-store, no-cache, must-revalidate, post-check=0, pre-check=0', 'Pragma': 'no-cache', 'Content-Encoding': 'gzip'}\n",
      "Response Text (first 2000 chars): <!DOCTYPE html><html xmlns=\"http://www.w3.org/1999/xhtml\" xml:lang=\"pl\" lang=\"pl\" class=\"no-js\" >\n",
      "<head>\n",
      "\t\t\t<!-- Google Tag Manager -->\n",
      "\t\t\t<script>(function(w,d,s,l,i){w[l]=w[l]||[];w[l].push({'gtm.start':\n",
      "\t\t\t\t\t\tnew Date().getTime(),event:'gtm.js'});var f=d.getElementsByTagName(s)[0],\n",
      "\t\t\t\t\tj=d.createElement(s),dl=l!='dataLayer'?'&l='+l:'';j.async=true;j.src=\n",
      "\t\t\t\t\t'https://www.googletagmanager.com/gtm.js?id='+i+dl\n",
      "\t\t\t\t\t\t\t\t\t    ;f.parentNode.insertBefore(j,f);\n",
      "\t\t\t\t    })(window,document,'script','dataLayer','GTM-P3S238');</script>\n",
      "\t\t\t<!-- End Google Tag Manager -->\n",
      "\t<title>Mieszkania Kraków na sprzedaż, wynajem - Sprzedajemy.pl</title><meta http-equiv=\"Content-Type\" content=\"text/html; charset=UTF-8\" >\n",
      "<meta http-equiv=\"X-UA-Compatible\" content=\"IE=edge\" >\n",
      "<meta name=\"description\" content=\"Ogłoszenia o tematyce:  w kategorii Mieszkania - Kupuj i sprzedawaj rzeczy używane i nowe w kategorii Mieszkania na Sprzedajemy.pl\" >\n",
      "<meta property=\"og:title\" content=\"Mieszkania Kraków na sprzedaż, wynajem - Sprzedajemy.pl\" >\n",
      "<meta property=\"og:type\" content=\"website\" >\n",
      "<meta property=\"og:image\" content=\"https://thumbs.img-sprzedajemy.pl/facebook/sprzedajemy.pl.png\" >\n",
      "<meta property=\"og:image:width\" content=\"200\" >\n",
      "<meta property=\"og:image:height\" content=\"200\" >\n",
      "<meta property=\"og:url\" content=\"https://sprzedajemy.pl/krakow/nieruchomosci/mieszkania\" >\n",
      "<meta property=\"og:site_name\" content=\"Sprzedajemy.pl\" >\n",
      "<meta property=\"fb:app_id\" content=\"173258269367442\" >\n",
      "<meta property=\"og:description\" content=\"Ogłoszenia o tematyce:  w kategorii Mieszkania - Kupuj i sprzedawaj rzeczy używane i nowe w kategorii Mieszkania na Sprzedajemy.pl\" >\n",
      "<meta name=\"robots\" content=\"noindex, follow\" >\t\t<script  async=\"async\" src=\"https://static.criteo.net/js/ld/publishertag.js\"></script>\n",
      "        <script  async=\"async\" src=\"https://ap.lijit.com/www/sovrn_beacon_standalone/sovrn_standalone_beacon.js?iid=13417409&amp;uid=sprzedajemy\" id=\"sBeacon\"></script>\n",
      "\t\t<script  async=\"async\" src=\"https://securepuba\n",
      "Titles: ['2-pokojowe mieszkanie po remoncie | PROMOCJA | ul Bronowicka', 'Stylowy lokal na parterze przy Krowoderskiej', 'Wyjątkowy lokal przy ul. Krowoderskiej z widokiem na stronę ogrodową', 'Dwa pokoje - stare miasto - Do wejścia - Własność', 'Mieszkanie z widokiem na góry', 'Wyjątkowe mieszkanie z widokiem na klasztor w Tyńcu i panoramę Tatr', 'Stylowy apartament z widokiem na panoramę Krakowa - od właściciela', 'Nowoczesny apartament z panoramicznym widokiem - od właściciela', 'Sprzedam mieszkanie po remoncie na os. Hutniczym', 'Wynajmę pokój z kuchnią blisko centrum, ul. Cieszyńska', 'Czyżyny - 1 pokojowe z dużym balkonem, 2018r', 'Kraków – 2 pokojowy apartament w wysokim standardzie Piasta Towers', 'Mieszkanie 59.17m2 3-pokojowe Kraków Bieżanów', 'Mieszkanie Kraków Kuźnicy Kołłątajowskiej 28m2 1 pok', 'Mieszkanie Kraków Niebyła 51.03m2 3 pokoje', 'Mieszkanie Kraków Westerplatte 41m2 1 pokój', 'Oferta sprzedaży mieszkania Kraków 42.14m 2 pokoje', 'Bezpośrednio Mieszkanie zadbane 3 pok 63m2 ogródek klima parking', 'Mieszkanie 64.96m2 3-pokojowe Kraków', 'Mieszkanie Kraków Bohaterów Września 66m2 3 pokoje', 'Mieszkanie do sprzedania Kraków 180m2 4 pokoje', 'Oferta sprzedaży mieszkania 49m2 3 pok Kraków', 'Mieszkanie 64m2 3 pokojowe Kraków Wandy', 'Piękne, 2-pokojowe, po remoncie', 'Mieszkanie sprzedam Kraków Jana Kantego Federowicza 28.37m2 1-pokojowe', 'Mieszkanie Kraków 45m 2-pok', 'Kawalerka 27m na Dąbiu | Pętla tramwajowa', 'Sprzedam mieszkanie Kraków os. Bohaterów Września 35.11m2 2 pokoje', 'Bezpośrednio sprzedam mieszkanie Kraków ul. Batorego', 'Mieszkanie, Kraków os. Tysiąclecia 1 - 20 m 2', '2 pokojowe mieszkanie z balkonem, ul. Bartla 19E, 43m2', 'Funkcjonalne, eleganckie 57,75 m2 z ogródkiem', 'BEZ PROWIZJI 2 niezależne, zamykane pokoje |osobna kuchnia z oknem | balko…', 'Mieszkanie 24.74m2 1 pokój Kraków', 'Mieszkanie 31m2 2 pokoje Kraków', 'Mieszkanie Kraków Ugorek 49.9m2 3-pokojowe', 'Wynajem mieszkania Kraków 88m2 4 pok', '2-pokojowe mieszkanie na sprzedaż  Bez pośrednika', 'Oferta sprzedaży mieszkania 24.76m 1-pok Kraków', '3-pokojowe mieszkanie z miejscem parkingowym', 'mieszkanie 38m² z widokiem na las | Borek Fałęcki', 'Kawalerka z ogródkiem w Krakowie na sprzedaż – Prądnik Czerwony.', 'Mieszkanie 63.5m2 3 pokojowe Kraków', 'Mieszkanie na sprzedaż Kraków 37m2 2-pokojowe', 'Mieszkanie Kraków 25.37m 1 pokój', 'Mieszkanie do sprzedania Kraków Prandoty 98m2', 'Mieszkanie 33m2 1 pokój Kraków Czerwone Maki', 'Sprzedam mieszkanie w systemie TBS', 'Mieszkanie 47m2 Kraków', 'Oferta wynajmu mieszkania Kraków Lubostroń 37.2m2 2 pokoje', 'Oferta sprzedaży mieszkania 131.4m2 4-pok Kraków', 'Mieszkanie Kraków 72.9m 4-pokojowe', 'Sprzedam mieszkanie Kraków Osiedle na Wzgórzach 57.13m2 3-pokojowe', 'Mieszkanie 48.88m2 2-pok Kraków Młyńska', 'Mieszkanie Kraków 51.84m2 2 pokoje', 'Oferta sprzedaży mieszkania Kraków Marii Dąbrowskiej 47.49m2 2-pokojowe', 'Mieszkanie 2-pokojowe 44,4 m2 Kraków- Bronowice !', 'BEZPOŚREDNIO Mieszkanie ul. Kielecka /Rondo Mogilskie', 'Mieszkanie 23.65m2 Kraków Kobierzyńska', 'Mieszkanie Kraków 40m2 2-pokojowe']\n",
      "60\n",
      "Prices: ['710 000 zł', '1 800 000 zł', '1 350 000 zł', '739 455 zł', '265 000 zł', '779 000 zł', '890 000 zł', '997 000 zł', '595 000 zł', '2 000 zł', '584 000 zł', '799 000 zł', '780 000 zł', '1 900 zł', '730 000 zł', '2 800 zł', '611 030 zł', '4 000 zł', '730 000 zł', '825 000 zł', '2 800 000 zł', '589 000 zł', '870 000 zł', '719 000 zł', '498 000 zł', '4 000 zł', '581 000 zł', '315 000 zł', '1 650 000 zł', '336 000 zł', '620 000 zł', '989 000 zł', '639 000 zł', '482 000 zł', '3 200 zł', '825 000 zł', '4 500 zł', '695 000 zł', '399 000 zł', '799 000 zł', '495 000 zł', '449 000 zł', '1 190 000 zł', '533 000 zł', '2 500 zł', '1 565 000 zł', '2 500 zł', '175 000 zł', '714 000 zł', '2 550 zł', '1 980 000 zł', '970 000 zł', '670 000 zł', '583 500 zł', '799 703 zł', '770 000 zł', '600 000 zł', '2 150 zł', '420 000 zł', '2 550 zł']\n",
      "60\n"
     ]
    }
   ],
   "source": [
    "import requests\n",
    "from bs4 import BeautifulSoup\n",
    "import pandas as pd\n",
    "import os\n",
    "\n",
    "url = \"https://sprzedajemy.pl/krakow/nieruchomosci/mieszkania?offset=0&items_per_page=60\"\n",
    "\n",
    "headers = {\n",
    "    \"User-Agent\": \"Mozilla/5.0 (Windows NT 10.0; Win64; x64) AppleWebKit/537.36 (KHTML, like Gecko) Chrome/58.0.3029.110 Safari/537.36\",\n",
    "    \"Accept\": \"text/html,application/xhtml+xml,application/xml;q=0.9,image/webp,image/apng,*/*;q=0.8\",\n",
    "    \"Accept-Encoding\": \"gzip, deflate, br\",\n",
    "    \"Accept-Language\": \"en-US,en;q=0.9,pl;q=0.8\",\n",
    "    \"Connection\": \"keep-alive\"\n",
    "}\n",
    "\n",
    "response = requests.get(url, headers=headers)\n",
    "response = requests.get(url, headers=headers)\n",
    "\n",
    "# Debugowanie odpowiedzi\n",
    "print(f\"Status Code: {response.status_code}\")\n",
    "print(f\"Response Headers: {response.headers}\")\n",
    "print(f\"Response Text (first 2000 chars): {response.text[:2000]}\")\n",
    "\n",
    "# Jeśli odpowiedź jest poprawna, wykonaj webscraping\n",
    "if response.status_code == 200:\n",
    "    soup = BeautifulSoup(response.content, \"html.parser\")\n",
    "\n",
    "    # Pobieranie ofert mieszkań\n",
    "    titles = [h2.a.text.strip() for h2 in soup.find_all(\"h2\", class_=\"title\") if h2.a]\n",
    "    prices = [p.text.replace(\"\\xa0\", \" \").strip() for p in soup.find_all(\"span\", class_=\"price\")]\n",
    "\n",
    "    print(\"Titles:\", titles)\n",
    "    print(len(titles))\n",
    "    print(\"Prices:\", prices)\n",
    "    print(len(prices))\n",
    "\n",
    "    df = pd.DataFrame({\"Title\": titles, \"Price\": prices})\n",
    "\n",
    "    # Dopisanie do pliku CSV\n",
    "    df.to_csv(\"scraped_data.csv\", mode='a', header=not os.path.exists('scraped_data.csv'), index=False)\n",
    "else:\n",
    "    print(\"Failed to retrieve data.\")\n"
   ]
  }
 ],
 "metadata": {
  "colab": {
   "provenance": []
  },
  "kernelspec": {
   "display_name": "Python 3",
   "name": "python3"
  },
  "language_info": {
   "codemirror_mode": {
    "name": "ipython",
    "version": 3
   },
   "file_extension": ".py",
   "mimetype": "text/x-python",
   "name": "python",
   "nbconvert_exporter": "python",
   "pygments_lexer": "ipython3",
   "version": "3.9.23"
  },
  "papermill": {
   "default_parameters": {},
   "duration": 3.58312,
   "end_time": "2025-09-10T15:29:58.146973",
   "environment_variables": {},
   "exception": null,
   "input_path": "nb.ipynb",
   "output_path": "nbo.ipynb",
   "parameters": {},
   "start_time": "2025-09-10T15:29:54.563853",
   "version": "2.6.0"
  }
 },
 "nbformat": 4,
 "nbformat_minor": 5
}