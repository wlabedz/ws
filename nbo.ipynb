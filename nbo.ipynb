{
 "cells": [
  {
   "cell_type": "code",
   "execution_count": 1,
   "id": "474677a8",
   "metadata": {
    "colab": {
     "base_uri": "https://localhost:8080/"
    },
    "execution": {
     "iopub.execute_input": "2025-05-17T14:32:58.452359Z",
     "iopub.status.busy": "2025-05-17T14:32:58.452091Z",
     "iopub.status.idle": "2025-05-17T14:33:01.172038Z",
     "shell.execute_reply": "2025-05-17T14:33:01.171360Z"
    },
    "id": "5pYh4c8j1w43",
    "outputId": "8a0dca73-64e5-4f0d-c493-2c5b38392363",
    "papermill": {
     "duration": 2.723552,
     "end_time": "2025-05-17T14:33:01.173142",
     "exception": false,
     "start_time": "2025-05-17T14:32:58.449590",
     "status": "completed"
    },
    "tags": []
   },
   "outputs": [
    {
     "name": "stdout",
     "output_type": "stream",
     "text": [
      "Status Code: 200\n",
      "Response Headers: {'Server': 'nginx', 'Date': 'Sat, 17 May 2025 14:33:00 GMT', 'Content-Type': 'text/html; charset=UTF-8', 'Transfer-Encoding': 'chunked', 'Vary': 'Accept-Encoding, User-Agent', 'Set-Cookie': 'FRSPSID=a2mhs8mdc850et5bj0eqdbddo2; path=/; domain=.sprzedajemy.pl; secure; HttpOnly, _items_per_page__offer_list=60; expires=Mon, 16-Jun-2025 14:33:00 GMT; Max-Age=2592000; path=/; domain=.sprzedajemy.pl; secure; httponly, observed_id=105360915068289e1c9cf700186098918074335381; expires=Thu, 17-May-2125 15:33:00 GMT; Max-Age=3155677200; path=/; domain=.sprzedajemy.pl; secure; httponly', 'Expires': 'Thu, 19 Nov 1981 08:52:00 GMT', 'Cache-Control': 'no-store, no-cache, must-revalidate, post-check=0, pre-check=0', 'Pragma': 'no-cache', 'Content-Encoding': 'gzip'}\n",
      "Response Text (first 2000 chars): <!DOCTYPE html><html xmlns=\"http://www.w3.org/1999/xhtml\" xml:lang=\"pl\" lang=\"pl\" class=\"no-js\" >\n",
      "<head>\n",
      "\t\t\t<!-- Google Tag Manager -->\n",
      "\t\t\t<script>(function(w,d,s,l,i){w[l]=w[l]||[];w[l].push({'gtm.start':\n",
      "\t\t\t\t\t\tnew Date().getTime(),event:'gtm.js'});var f=d.getElementsByTagName(s)[0],\n",
      "\t\t\t\t\tj=d.createElement(s),dl=l!='dataLayer'?'&l='+l:'';j.async=true;j.src=\n",
      "\t\t\t\t\t'https://www.googletagmanager.com/gtm.js?id='+i+dl\n",
      "\t\t\t\t\t\t\t\t\t    ;f.parentNode.insertBefore(j,f);\n",
      "\t\t\t\t    })(window,document,'script','dataLayer','GTM-P3S238');</script>\n",
      "\t\t\t<!-- End Google Tag Manager -->\n",
      "\t<title>Mieszkania Kraków na sprzedaż, wynajem - Sprzedajemy.pl</title><meta http-equiv=\"Content-Type\" content=\"text/html; charset=UTF-8\" >\n",
      "<meta http-equiv=\"X-UA-Compatible\" content=\"IE=edge\" >\n",
      "<meta name=\"description\" content=\"Ogłoszenia o tematyce:  w kategorii Mieszkania - Kupuj i sprzedawaj rzeczy używane i nowe w kategorii Mieszkania na Sprzedajemy.pl\" >\n",
      "<meta property=\"og:title\" content=\"Mieszkania Kraków na sprzedaż, wynajem - Sprzedajemy.pl\" >\n",
      "<meta property=\"og:type\" content=\"website\" >\n",
      "<meta property=\"og:image\" content=\"https://thumbs.img-sprzedajemy.pl/facebook/sprzedajemy.pl.png\" >\n",
      "<meta property=\"og:image:width\" content=\"200\" >\n",
      "<meta property=\"og:image:height\" content=\"200\" >\n",
      "<meta property=\"og:url\" content=\"https://sprzedajemy.pl/krakow/nieruchomosci/mieszkania\" >\n",
      "<meta property=\"og:site_name\" content=\"Sprzedajemy.pl\" >\n",
      "<meta property=\"fb:app_id\" content=\"173258269367442\" >\n",
      "<meta property=\"og:description\" content=\"Ogłoszenia o tematyce:  w kategorii Mieszkania - Kupuj i sprzedawaj rzeczy używane i nowe w kategorii Mieszkania na Sprzedajemy.pl\" >\n",
      "<meta name=\"robots\" content=\"noindex, follow\" >\t\t<script  async=\"async\" src=\"https://static.criteo.net/js/ld/publishertag.js\"></script>\n",
      "        <script  async=\"async\" src=\"https://ap.lijit.com/www/sovrn_beacon_standalone/sovrn_standalone_beacon.js?iid=13417409&amp;uid=sprzedajemy\" id=\"sBeacon\"></script>\n",
      "\t\t<script  async=\"async\" src=\"https://securepuba\n",
      "Titles: ['Kraków, Stare Miasto sprzedaż/zamiana', 'Stylowy apartament z widokiem na panoramę Krakowa - od właściciela', 'Nowoczesny apartament z panoramicznym widokiem - od właściciela', 'Wyjątkowe mieszkanie z widokiem na klasztor w Tyńcu i panoramę Tatr', 'Strych do adaptacji, Błonia, ul. Filarecka', '2 lub 3 pokoje,62m2,balkon, Widok na Wawel', 'Kraków Bronowice Stawowa 168 / 60m2 3 POK/ 22,5 m2 taras/ BEZ POŚREDNIKÓW', 'Mieszkanie Kraków os. Piastów 34.84m 2 pokoje', 'Bezczynszowe 3-pokojowe mieszkanie w szeregówce', 'Mieszkanie Kraków 77.16 metrów 3 pokoje', 'Mieszkanie Kraków 66.72m2', 'Mieszkanie 59.45m2 Kraków os. Piastów', 'Sprzedaż mieszkania 36.83m 2 pok Kraków', 'Mieszkanie 63.12m2 3-pokojowe Kraków', 'Mieszkanie 63.12 metry 3 pokoje Kraków', 'Sprzedaż mieszkania Kraków os. Piastów 34.84 metry 2 pokoje', 'Sprzedam mieszkanie Kraków os. Piastów 36.83m2 2-pokojowe', 'Mieszkanie Kraków os. Piastów 63.12m2 3-pokojowe', 'Mieszkanie Kraków os. Piastów 66.72m2 3-pok', 'Mieszkanie Kraków 58.68m2', 'Do sprzedaży mieszkanie 34.84m2 2-pok Kraków', 'Oferta sprzedaży mieszkania 51.69m2 3-pok Kraków Józefa Łepkowskiego', 'Mieszkanie Kraków os. Piastów 63.12m2 3 pok', 'Mieszkanie 36.83m2 2-pokojowe Kraków os. Piastów', 'Mieszkanie do sprzedania Kraków os. Piastów 60.35m2 3-pok', 'Oferta sprzedaży mieszkania Kraków płk. Francesco Nullo 58m2 2-pok', 'Mieszkanie 81.52m2 3-pokojowe Kraków Armii Krajowej - okolice', 'Mieszkanie Kraków 43.73m2 2-pokojowe', 'Mieszkanie do sprzedania 58.68m2 3 pokoje Kraków', 'Mieszkanie 36.83m2 2-pokojowe Kraków os. Piastów', 'Oferta sprzedaży mieszkania 72.4m2 3 pokoje Kraków', 'Mieszkanie 48.7m2 2 pokoje Kraków', 'Sprzedam mieszkanie w systemie TBS', 'Mieszkanie Kraków os. Piastów 60.35m2', 'Sprzedam mieszkanie 34.84m2 2-pokojowe Kraków', 'Sprzedam 46,5m2 ul Bochenka 25', 'Mieszkanie 49m2 2 pokoje Kraków Pszenna', 'Mieszkanie Kraków Armii Krajowej - okolice 93.92m2 4 pokoje', 'Mieszkanie 80.17m2 4-pokojowe Kraków Józefa Łepkowskiego', 'Mieszkanie 55.75m2 Kraków 29 listopada - okolice', 'Mieszkanie 63.43m2 3 pokoje Kraków Józefa Łepkowskiego', 'Mieszkanie do sprzedania Kraków 50.12m2 2 pokoje', 'Mieszkanie Kraków 27.29m2 2-pokojowe', 'Mieszkanie 36.83m2 2 pokoje Kraków os. Piastów', 'Mieszkanie Kraków os. Piastów 55.86m2 3 pokoje', 'Mieszkanie 63.44m2 3 pok Kraków Józefa Łepkowskiego', 'Mieszkanie Kraków os. Piastów 36.83m2 2-pokojowe', 'Mieszkanie na sprzedaż 71.15m2 3-pok Kraków Józefa Łepkowskiego', 'Mieszkanie 96.68m2 4-pok Kraków', 'Mieszkanie Kraków 69.86m2 3 pokoje', 'Oferta sprzedaży mieszkania Kraków 58.68m2 3-pokojowe', 'Sprzedaż mieszkania Kraków 45.26m 2 pok', 'Do sprzedaży mieszkanie Kraków os. Piastów 36.83 metry 2-pokojowe', 'Do sprzedaży mieszkanie Kraków Józefa Łepkowskiego 64.46m2 3 pok', 'Sprzedaż mieszkania 45.02 metry 2 pokoje Kraków zabłocie', 'Mieszkanie 45.44m2 2 pokojowe Kraków zabłocie', 'Mieszkanie 54m2 2 pokojowe Kraków Grzegórzecka', 'Oferta sprzedaży mieszkania 63.43m2 3 pokoje Kraków Józefa Łepkowskiego', 'Oferta sprzedaży mieszkania Kraków Józefa Łepkowskiego 49.35m2', 'Oferta sprzedaży mieszkania Kraków 60.35m2 3-pokojowe']\n",
      "60\n",
      "Prices: ['2 243 000 zł', '897 000 zł', '997 000 zł', '790 000 zł', '379 999 zł', '1 490 000 zł', '1 137 500 zł', '567 892 zł', '999 000 zł', '1 361 874 zł', '813 984 zł', '749 070 zł', '589 280 zł', '789 000 zł', '770 064 zł', '578 344 zł', '611 378 zł', '770 064 zł', '834 000 zł', '733 500 zł', '578 344 zł', '842 547 zł', '789 000 zł', '600 329 zł', '718 165 zł', '1 495 000 zł', '1 544 804 zł', '634 085 zł', '739 368 zł', '600 329 zł', '868 800 zł', '647 710 zł', '192 000 zł', '736 270 zł', '588 796 zł', '669 000 zł', '750 000 zł', '2 254 080 zł', '1 435 043 zł', '756 514 zł', '1 033 909 zł', '744 840 zł', '2 300 zł', '622 427 zł', '699 926 zł', '1 034 072 zł', '611 378 zł', '1 173 975 zł', '2 223 640 zł', '810 362 zł', '733 500 zł', '859 912 zł', '611 378 zł', '1 153 834 zł', '838 120 zł', '845 848 zł', '3 000 zł', '1 008 537 zł', '873 495 zł', '754 375 zł']\n",
      "60\n"
     ]
    }
   ],
   "source": [
    "import requests\n",
    "from bs4 import BeautifulSoup\n",
    "import pandas as pd\n",
    "import os\n",
    "\n",
    "url = \"https://sprzedajemy.pl/krakow/nieruchomosci/mieszkania?offset=0&items_per_page=60\"\n",
    "\n",
    "headers = {\n",
    "    \"User-Agent\": \"Mozilla/5.0 (Windows NT 10.0; Win64; x64) AppleWebKit/537.36 (KHTML, like Gecko) Chrome/58.0.3029.110 Safari/537.36\",\n",
    "    \"Accept\": \"text/html,application/xhtml+xml,application/xml;q=0.9,image/webp,image/apng,*/*;q=0.8\",\n",
    "    \"Accept-Encoding\": \"gzip, deflate, br\",\n",
    "    \"Accept-Language\": \"en-US,en;q=0.9,pl;q=0.8\",\n",
    "    \"Connection\": \"keep-alive\"\n",
    "}\n",
    "\n",
    "response = requests.get(url, headers=headers)\n",
    "response = requests.get(url, headers=headers)\n",
    "\n",
    "# Debugowanie odpowiedzi\n",
    "print(f\"Status Code: {response.status_code}\")\n",
    "print(f\"Response Headers: {response.headers}\")\n",
    "print(f\"Response Text (first 2000 chars): {response.text[:2000]}\")\n",
    "\n",
    "# Jeśli odpowiedź jest poprawna, wykonaj webscraping\n",
    "if response.status_code == 200:\n",
    "    soup = BeautifulSoup(response.content, \"html.parser\")\n",
    "\n",
    "    # Pobieranie ofert mieszkań\n",
    "    titles = [h2.a.text.strip() for h2 in soup.find_all(\"h2\", class_=\"title\") if h2.a]\n",
    "    prices = [p.text.replace(\"\\xa0\", \" \").strip() for p in soup.find_all(\"span\", class_=\"price\")]\n",
    "\n",
    "    print(\"Titles:\", titles)\n",
    "    print(len(titles))\n",
    "    print(\"Prices:\", prices)\n",
    "    print(len(prices))\n",
    "\n",
    "    df = pd.DataFrame({\"Title\": titles, \"Price\": prices})\n",
    "\n",
    "    # Dopisanie do pliku CSV\n",
    "    df.to_csv(\"scraped_data.csv\", mode='a', header=not os.path.exists('scraped_data.csv'), index=False)\n",
    "else:\n",
    "    print(\"Failed to retrieve data.\")\n"
   ]
  }
 ],
 "metadata": {
  "colab": {
   "provenance": []
  },
  "kernelspec": {
   "display_name": "Python 3",
   "name": "python3"
  },
  "language_info": {
   "codemirror_mode": {
    "name": "ipython",
    "version": 3
   },
   "file_extension": ".py",
   "mimetype": "text/x-python",
   "name": "python",
   "nbconvert_exporter": "python",
   "pygments_lexer": "ipython3",
   "version": "3.9.22"
  },
  "papermill": {
   "default_parameters": {},
   "duration": 3.816004,
   "end_time": "2025-05-17T14:33:01.390112",
   "environment_variables": {},
   "exception": null,
   "input_path": "nb.ipynb",
   "output_path": "nbo.ipynb",
   "parameters": {},
   "start_time": "2025-05-17T14:32:57.574108",
   "version": "2.6.0"
  }
 },
 "nbformat": 4,
 "nbformat_minor": 5
}