{
 "cells": [
  {
   "cell_type": "code",
   "execution_count": 1,
   "id": "d48fcf59",
   "metadata": {
    "colab": {
     "base_uri": "https://localhost:8080/"
    },
    "execution": {
     "iopub.execute_input": "2025-10-31T22:49:54.755820Z",
     "iopub.status.busy": "2025-10-31T22:49:54.755553Z",
     "iopub.status.idle": "2025-10-31T22:49:57.205200Z",
     "shell.execute_reply": "2025-10-31T22:49:57.204452Z"
    },
    "id": "5pYh4c8j1w43",
    "outputId": "8a0dca73-64e5-4f0d-c493-2c5b38392363",
    "papermill": {
     "duration": 2.453129,
     "end_time": "2025-10-31T22:49:57.206365",
     "exception": false,
     "start_time": "2025-10-31T22:49:54.753236",
     "status": "completed"
    },
    "tags": []
   },
   "outputs": [
    {
     "name": "stdout",
     "output_type": "stream",
     "text": [
      "Status Code: 200\n",
      "Response Headers: {'Server': 'nginx', 'Date': 'Fri, 31 Oct 2025 22:49:56 GMT', 'Content-Type': 'text/html; charset=UTF-8', 'Transfer-Encoding': 'chunked', 'Vary': 'Accept-Encoding, User-Agent', 'Set-Cookie': 'FRSPSID=f5l3a7nnpftv32rkmsjv70m6h5; path=/; domain=.sprzedajemy.pl; secure; HttpOnly, _items_per_page__offer_list=60; expires=Sun, 30-Nov-2025 22:49:56 GMT; Max-Age=2592000; path=/; domain=.sprzedajemy.pl; secure; httponly, observed_id=207698665869053d14ae635048176574056113472; expires=Wed, 31-Oct-2125 22:49:56 GMT; Max-Age=3155673600; path=/; domain=.sprzedajemy.pl; secure; httponly', 'Expires': 'Thu, 19 Nov 1981 08:52:00 GMT', 'Cache-Control': 'no-store, no-cache, must-revalidate, post-check=0, pre-check=0', 'Pragma': 'no-cache', 'Content-Encoding': 'gzip'}\n",
      "Response Text (first 2000 chars): <!DOCTYPE html><html xmlns=\"http://www.w3.org/1999/xhtml\" xml:lang=\"pl\" lang=\"pl\" class=\"no-js\" >\n",
      "<head>\n",
      "\t\t\t<!-- Google Tag Manager -->\n",
      "\t\t\t<script>(function(w,d,s,l,i){w[l]=w[l]||[];w[l].push({'gtm.start':\n",
      "\t\t\t\t\t\tnew Date().getTime(),event:'gtm.js'});var f=d.getElementsByTagName(s)[0],\n",
      "\t\t\t\t\tj=d.createElement(s),dl=l!='dataLayer'?'&l='+l:'';j.async=true;j.src=\n",
      "\t\t\t\t\t'https://www.googletagmanager.com/gtm.js?id='+i+dl\n",
      "\t\t\t\t\t\t\t\t\t    ;f.parentNode.insertBefore(j,f);\n",
      "\t\t\t\t    })(window,document,'script','dataLayer','GTM-P3S238');</script>\n",
      "\t\t\t<!-- End Google Tag Manager -->\n",
      "\t<title>Mieszkania Kraków na sprzedaż, wynajem - Sprzedajemy.pl</title><meta http-equiv=\"Content-Type\" content=\"text/html; charset=UTF-8\" >\n",
      "<meta http-equiv=\"X-UA-Compatible\" content=\"IE=edge\" >\n",
      "<meta name=\"description\" content=\"Ogłoszenia o tematyce:  w kategorii Mieszkania - Kupuj i sprzedawaj rzeczy używane i nowe w kategorii Mieszkania na Sprzedajemy.pl\" >\n",
      "<meta property=\"og:title\" content=\"Mieszkania Kraków na sprzedaż, wynajem - Sprzedajemy.pl\" >\n",
      "<meta property=\"og:type\" content=\"website\" >\n",
      "<meta property=\"og:image\" content=\"https://thumbs.img-sprzedajemy.pl/facebook/sprzedajemy.pl.png\" >\n",
      "<meta property=\"og:image:width\" content=\"200\" >\n",
      "<meta property=\"og:image:height\" content=\"200\" >\n",
      "<meta property=\"og:url\" content=\"https://sprzedajemy.pl/krakow/nieruchomosci/mieszkania\" >\n",
      "<meta property=\"og:site_name\" content=\"Sprzedajemy.pl\" >\n",
      "<meta property=\"fb:app_id\" content=\"173258269367442\" >\n",
      "<meta property=\"og:description\" content=\"Ogłoszenia o tematyce:  w kategorii Mieszkania - Kupuj i sprzedawaj rzeczy używane i nowe w kategorii Mieszkania na Sprzedajemy.pl\" >\n",
      "<meta name=\"robots\" content=\"noindex, follow\" >\t\t<script  async=\"async\" src=\"https://static.criteo.net/js/ld/publishertag.js\"></script>\n",
      "        <script  async=\"async\" src=\"https://ap.lijit.com/www/sovrn_beacon_standalone/sovrn_standalone_beacon.js?iid=13417409&amp;uid=sprzedajemy\" id=\"sBeacon\"></script>\n",
      "\t\t<script  async=\"async\" src=\"https://securepuba\n",
      "Titles: ['PILNE dwupokojowe mieszkanie (balkon, piwnica) os. Dywizjonu 303, 19C Krak…', 'Mieszkanie z widokiem na góry', 'Grzegorzki mieszkanie na sprzedaż 30 m', 'Mieszkanie 34m2 1 pok Kraków Topolowa', 'Mieszkanie sprzedam 38.69m2 2 pokoje Kraków', 'Sprzedam mieszkanie Kraków os. Albertyńskie 50m 3 pokoje', 'Ogłoszenie mieszkanie 58.66m2 2 pokoje Kraków', 'Sprzedam mieszkanie Kraków 108m2 4 pok', 'Mieszkanie na sprzedaż 63.64m2 4 pokoje Kraków Krowoderskich Zuchów', 'Mieszkanie 38.69 metrów 2 pokoje Kraków Imbramowska', 'Mieszkanie 62.19m2 3 pok Kraków Jasnogórska', 'Mieszkanie 54.5m2 2-pokojowe Kraków os. Spółdzielcze', 'Mieszkanie 53.9m2 Kraków', 'Oferta wynajmu mieszkania 33m2 2 pokoje Kraków Cieszyńska', 'Mieszkanie Kraków Imbramowska 38.69m2 2 pok', 'Mieszkanie Kraków Jasnogórska 62.19m2 3-pokojowe', 'Mieszkanie Kraków Imbramowska 38.69 metrów 2 pok', 'Mieszkanie 38.69m2 3-pokojowe Kraków Imbramowska', 'Mieszkanie 33.3m2 2 pok Kraków', 'Mieszkanie Kraków 62.19m2 3 pokojowe', 'Mieszkanie Kraków Imbramowska 38.69m2 4 pokoje', 'Mieszkanie Kraków Babińskiego 82.96m2 3-pokojowe', 'Mieszkanie Kraków Strzelców 46.01m2 2 pok', 'Oferta sprzedaży mieszkania Kraków 62.19m2 3 pokojowe', 'Mieszkanie 573.12m2 2 pokoje Kraków Józefińska', 'Mieszkanie 73m2 3-pok Kraków', 'Oferta sprzedaży mieszkania 38.69m2 2-pokojowe Kraków Imbramowska', 'Nowoczesne 3-pokojowe mieszkanie 48 m² – Pachońskiego / od zaraz', 'UKR/ENG Luxury Design,  2 poziomowe, ogródek, garaż, przy Galerii Bronowice', 'Mieszkanie 38.69m2 3-pokojowe Kraków Imbramowska', 'Mieszkanie 51m2 2 pok Kraków', 'Pet Friendly - mieszkanie do wynajęcia na Czyżynach 30m² od zaraz', '2 POKOJE z klimatem | Dąbska | TAURON Arena | Balkon', 'Mieszkanie Kraków os. Strusia 36.6m2 2 pokoje', 'Mieszkanie 24.6m2 Kraków Romanowicza', 'Do wynajęcia mieszkanie 2 pokojowe+balkon Kraków ul. Rusznikarska', 'Sprzedaż mieszkania 79.3m2 Kraków Babińskiego', 'Mieszkanie Kraków Obozowa 75.6m2 3-pok', 'Do wynajęcia mieszkanie 53m2 2 pokoje Kraków Chmieleniec', 'Mieszkanie Kraków Romanowicza 65m2 3 pokoje', 'Mieszkanie 105m2 4 pokoje Kraków', 'Mieszkanie 62.7m2 3 pokojowe Kraków Dywizjonu 303', 'Mieszkanie sprzedam 38.51m2 2 pok Kraków Na Błonie', 'Oferta wynajmu mieszkania 42m2 2-pok Kraków Składowa', 'Mieszkanie 75.19m2 4 pokojowe Kraków Wadowicka', 'Mieszkanie do sprzedania Kraków 34.79m2 2-pok', 'Mieszkanie Kraków Zdrowa 40.29m2 2 pokoje', 'Mieszkanie Kraków Mirosława Krzyżańskiego 84.27 metrów 4 pok', 'Oferta sprzedaży mieszkania Kraków Pękowicka 62.77m2 4 pokojowe', 'Mieszkanie Kraków 34.79m2 2-pok', 'Mieszkanie 28.96m2 1 pokój Kraków 29 listopada - okolice', 'Mieszkanie Kraków Na Błonie 40.56m2 2-pokojowe', 'Mieszkanie 35.84m2 2 pokojowe Kraków Romanowicza', 'Mieszkanie Kraków 61.45m2 3 pokojowe', 'Oferta sprzedaży mieszkania 77.12m2 3-pokojowe Kraków Reduta', 'Mieszkanie Kraków Wadowicka 44.9m2 2 pokojowe', 'Mieszkanie Kraków 49.63m', 'Mieszkanie Kraków Pękowicka 62.4m2 4-pokojowe', 'Mieszkanie Kraków Piasta Kołodzieja 56.19m2 3-pok', 'Mieszkanie Kraków Kantrowicka 51.41m 3-pokojowe']\n",
      "60\n",
      "Prices: ['590 000 zł', '265 000 zł', '549 000 zł', '525 000 zł', '718 350 zł', '699 000 zł', '978 000 zł', '1 450 000 zł', '819 000 zł', '741 096 zł', '870 660 zł', '609 000 zł', '849 000 zł', '3 700 zł', '700 488 zł', '858 222 zł', '730 944 zł', '900 090 zł', '760 000 zł', '870 660 zł', '1 000 054 zł', '1 484 268 zł', '780 000 zł', '858 222 zł', '8 000 000 zł', '1 140 000 zł', '707 078 zł', '3 500 zł', '7 500 zł', '873 810 zł', '1 490 000 zł', '2 050 zł', '3 700 zł', '590 000 zł', '1 995 zł', '2 300 zł', '1 308 450 zł', '1 150 000 zł', '2 500 zł', '5 430 zł', '1 700 000 zł', '3 000 zł', '737 433 zł', '3 000 zł', '1 270 711 zł', '504 455 zł', '688 000 zł', '969 105 zł', '889 764 zł', '521 850 zł', '645 816 zł', '701 600 zł', '2 930 zł', '669 805 zł', '1 350 000 zł', '794 730 zł', '724 598 zł', '882 960 zł', '758 565 zł', '668 330 zł']\n",
      "60\n"
     ]
    }
   ],
   "source": [
    "import requests\n",
    "from bs4 import BeautifulSoup\n",
    "import pandas as pd\n",
    "import os\n",
    "\n",
    "url = \"https://sprzedajemy.pl/krakow/nieruchomosci/mieszkania?offset=0&items_per_page=60\"\n",
    "\n",
    "headers = {\n",
    "    \"User-Agent\": \"Mozilla/5.0 (Windows NT 10.0; Win64; x64) AppleWebKit/537.36 (KHTML, like Gecko) Chrome/58.0.3029.110 Safari/537.36\",\n",
    "    \"Accept\": \"text/html,application/xhtml+xml,application/xml;q=0.9,image/webp,image/apng,*/*;q=0.8\",\n",
    "    \"Accept-Encoding\": \"gzip, deflate, br\",\n",
    "    \"Accept-Language\": \"en-US,en;q=0.9,pl;q=0.8\",\n",
    "    \"Connection\": \"keep-alive\"\n",
    "}\n",
    "\n",
    "response = requests.get(url, headers=headers)\n",
    "response = requests.get(url, headers=headers)\n",
    "\n",
    "# Debugowanie odpowiedzi\n",
    "print(f\"Status Code: {response.status_code}\")\n",
    "print(f\"Response Headers: {response.headers}\")\n",
    "print(f\"Response Text (first 2000 chars): {response.text[:2000]}\")\n",
    "\n",
    "# Jeśli odpowiedź jest poprawna, wykonaj webscraping\n",
    "if response.status_code == 200:\n",
    "    soup = BeautifulSoup(response.content, \"html.parser\")\n",
    "\n",
    "    # Pobieranie ofert mieszkań\n",
    "    titles = [h2.a.text.strip() for h2 in soup.find_all(\"h2\", class_=\"title\") if h2.a]\n",
    "    prices = [p.text.replace(\"\\xa0\", \" \").strip() for p in soup.find_all(\"span\", class_=\"price\")]\n",
    "\n",
    "    print(\"Titles:\", titles)\n",
    "    print(len(titles))\n",
    "    print(\"Prices:\", prices)\n",
    "    print(len(prices))\n",
    "\n",
    "    df = pd.DataFrame({\"Title\": titles, \"Price\": prices})\n",
    "\n",
    "    # Dopisanie do pliku CSV\n",
    "    df.to_csv(\"scraped_data.csv\", mode='a', header=not os.path.exists('scraped_data.csv'), index=False)\n",
    "else:\n",
    "    print(\"Failed to retrieve data.\")\n"
   ]
  }
 ],
 "metadata": {
  "colab": {
   "provenance": []
  },
  "kernelspec": {
   "display_name": "Python 3",
   "name": "python3"
  },
  "language_info": {
   "codemirror_mode": {
    "name": "ipython",
    "version": 3
   },
   "file_extension": ".py",
   "mimetype": "text/x-python",
   "name": "python",
   "nbconvert_exporter": "python",
   "pygments_lexer": "ipython3",
   "version": "3.9.24"
  },
  "papermill": {
   "default_parameters": {},
   "duration": 3.598347,
   "end_time": "2025-10-31T22:49:57.424216",
   "environment_variables": {},
   "exception": null,
   "input_path": "nb.ipynb",
   "output_path": "nbo.ipynb",
   "parameters": {},
   "start_time": "2025-10-31T22:49:53.825869",
   "version": "2.6.0"
  }
 },
 "nbformat": 4,
 "nbformat_minor": 5
}