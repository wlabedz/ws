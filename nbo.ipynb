{
 "cells": [
  {
   "cell_type": "code",
   "execution_count": 1,
   "id": "390534c1",
   "metadata": {
    "colab": {
     "base_uri": "https://localhost:8080/"
    },
    "execution": {
     "iopub.execute_input": "2025-05-15T17:40:53.391032Z",
     "iopub.status.busy": "2025-05-15T17:40:53.390787Z",
     "iopub.status.idle": "2025-05-15T17:40:55.238649Z",
     "shell.execute_reply": "2025-05-15T17:40:55.238109Z"
    },
    "id": "5pYh4c8j1w43",
    "outputId": "8a0dca73-64e5-4f0d-c493-2c5b38392363",
    "papermill": {
     "duration": 1.85102,
     "end_time": "2025-05-15T17:40:55.239808",
     "exception": false,
     "start_time": "2025-05-15T17:40:53.388788",
     "status": "completed"
    },
    "tags": []
   },
   "outputs": [
    {
     "name": "stdout",
     "output_type": "stream",
     "text": [
      "Status Code: 200\n",
      "Response Headers: {'Server': 'nginx', 'Date': 'Thu, 15 May 2025 17:40:54 GMT', 'Content-Type': 'text/html; charset=UTF-8', 'Transfer-Encoding': 'chunked', 'Vary': 'Accept-Encoding, User-Agent', 'Set-Cookie': 'FRSPSID=ihmoq57tlckavbf43bj8uh3836; path=/; domain=.sprzedajemy.pl; secure; HttpOnly, _items_per_page__offer_list=60; expires=Sat, 14-Jun-2025 17:40:54 GMT; Max-Age=2592000; path=/; domain=.sprzedajemy.pl; secure; httponly, observed_id=178528527468262726cae66837781972708429596; expires=Tue, 15-May-2125 18:40:54 GMT; Max-Age=3155677200; path=/; domain=.sprzedajemy.pl; secure; httponly', 'Expires': 'Thu, 19 Nov 1981 08:52:00 GMT', 'Cache-Control': 'no-store, no-cache, must-revalidate, post-check=0, pre-check=0', 'Pragma': 'no-cache', 'Content-Encoding': 'gzip'}\n",
      "Response Text (first 2000 chars): <!DOCTYPE html><html xmlns=\"http://www.w3.org/1999/xhtml\" xml:lang=\"pl\" lang=\"pl\" class=\"no-js\" >\n",
      "<head>\n",
      "\t\t\t<!-- Google Tag Manager -->\n",
      "\t\t\t<script>(function(w,d,s,l,i){w[l]=w[l]||[];w[l].push({'gtm.start':\n",
      "\t\t\t\t\t\tnew Date().getTime(),event:'gtm.js'});var f=d.getElementsByTagName(s)[0],\n",
      "\t\t\t\t\tj=d.createElement(s),dl=l!='dataLayer'?'&l='+l:'';j.async=true;j.src=\n",
      "\t\t\t\t\t'https://www.googletagmanager.com/gtm.js?id='+i+dl\n",
      "\t\t\t\t\t\t\t\t\t    ;f.parentNode.insertBefore(j,f);\n",
      "\t\t\t\t    })(window,document,'script','dataLayer','GTM-P3S238');</script>\n",
      "\t\t\t<!-- End Google Tag Manager -->\n",
      "\t<title>Mieszkania Kraków na sprzedaż, wynajem - Sprzedajemy.pl</title><meta http-equiv=\"Content-Type\" content=\"text/html; charset=UTF-8\" >\n",
      "<meta http-equiv=\"X-UA-Compatible\" content=\"IE=edge\" >\n",
      "<meta name=\"description\" content=\"Ogłoszenia o tematyce:  w kategorii Mieszkania - Kupuj i sprzedawaj rzeczy używane i nowe w kategorii Mieszkania na Sprzedajemy.pl\" >\n",
      "<meta property=\"og:title\" content=\"Mieszkania Kraków na sprzedaż, wynajem - Sprzedajemy.pl\" >\n",
      "<meta property=\"og:type\" content=\"website\" >\n",
      "<meta property=\"og:image\" content=\"https://thumbs.img-sprzedajemy.pl/facebook/sprzedajemy.pl.png\" >\n",
      "<meta property=\"og:image:width\" content=\"200\" >\n",
      "<meta property=\"og:image:height\" content=\"200\" >\n",
      "<meta property=\"og:url\" content=\"https://sprzedajemy.pl/krakow/nieruchomosci/mieszkania\" >\n",
      "<meta property=\"og:site_name\" content=\"Sprzedajemy.pl\" >\n",
      "<meta property=\"fb:app_id\" content=\"173258269367442\" >\n",
      "<meta property=\"og:description\" content=\"Ogłoszenia o tematyce:  w kategorii Mieszkania - Kupuj i sprzedawaj rzeczy używane i nowe w kategorii Mieszkania na Sprzedajemy.pl\" >\n",
      "<meta name=\"robots\" content=\"noindex, follow\" >\t\t<script  async=\"async\" src=\"https://static.criteo.net/js/ld/publishertag.js\"></script>\n",
      "        <script  async=\"async\" src=\"https://ap.lijit.com/www/sovrn_beacon_standalone/sovrn_standalone_beacon.js?iid=13417409&amp;uid=sprzedajemy\" id=\"sBeacon\"></script>\n",
      "\t\t<script  async=\"async\" src=\"https://securepuba\n",
      "Titles: ['Strych do adaptacji, Błonia, ul. Filarecka', '2 lub 3 pokoje,62m2,balkon, Widok na Wawel', 'Kraków Bronowice Stawowa 168 / 60m2 3 POK/ 22,5 m2 taras/ BEZ POŚREDNIKÓW', 'Stylowy apartament z widokiem na panoramę Krakowa - od właściciela', 'Nowoczesny apartament z panoramicznym widokiem - od właściciela', 'Wyjątkowe mieszkanie z widokiem na klasztor w Tyńcu i panoramę Tatr', 'Kraków, Stare Miasto sprzedaż/zamiana', 'Mieszkanie 38.92m2 2-pokojowe Kraków Centralna', 'Mieszkanie Kraków Filipa - okolice 83.43m2 2-pok', 'Sprzedaż mieszkania 65.7m2 3-pokojowe Kraków Montwiłła-Mireckiego', 'Oferta sprzedaży mieszkania Kraków Gustawa Ehrenberga 100m2 3 pokoje', 'Oferta sprzedaży mieszkania 56.7m2 2 pokoje Kraków', 'Mieszkanie przy Galerii Bronowice - Kraków', 'Oferta sprzedaży mieszkania Kraków 70.02m2 3 pokojowe', 'Mieszkanie 59.17m2 3-pokojowe Kraków Bieżanów', 'Oferta sprzedaży mieszkania 63.82m2 3 pokojowe Kraków Bieżanów', 'Mieszkanie 77.27m2 4 pokoje Kraków', 'Wynajmę mieszkanie Kraków Przemysłowa 64m2 2 pokoje', 'Mieszkanie Kraków płk. Francesco Nullo 38.36m2 1 pokojowe', 'Mieszkanie 27.3m2 1 pok Kraków al. Pokoju', 'Mieszkanie Kraków 77.27m2 4 pokojowe', 'Mieszkanie Kraków św. Jana 172m2 4 pokoje', 'Mieszkanie 59.17m2 3 pokojowe Kraków', 'Apartamentowiec 73m na Woli Justowskiej', 'Oferta sprzedaży mieszkania Kraków 27.38 metrów 1 pokój', 'Oferta sprzedaży mieszkania Kraków Lipska 50.07m 3 pokoje', 'Oferta sprzedaży mieszkania 32.73m2 1-pokojowe Kraków Rakowicka', 'Mieszkanie 63.82m 3-pokojowe Kraków', 'nowe 2- pokojowe Kraków/Dębniki/ Kapelanka/ Pychowicka', 'Sprzedam mieszkanie z antresolą', 'Oferta sprzedaży mieszkania 975000m2 Kraków 29 Listopada', 'Wynajmę, pokój jednoosobowy dla pracującego mężczyzny', '2-pokojowe mieszkanie na Prądniku Białym (ul. Siewna). PL/EN', 'Mieszkanie Kraków Syrokomli 25m2 1 pokój', 'Mieszkanie do sprzedania 50.78m2 2 pokoje Kraków', 'Mieszkanie Kraków Grodzka 130m2 3 pokoje', 'Sprzedam mieszkanie 72.05m2 3 pokoje Kraków Aleja Kasztanowa', 'M2 dwustronne | oddzielna kuchnia | po remoncie | BEZ PROWIZJI', 'Mieszkanie na sprzedaż ul. Wróblewskiego, Kraków, Stare Miasto _ 16 000zl/…', 'Mieszkanie na sprzedaż 40m2 2 pokojowe Kraków Osiedle na Stoku', 'Mieszkanie Kraków 29 listopada - okolice 67.5m2 3 pokoje', 'Mieszkanie 79m2 3-pokojowe Kraków', 'Mieszkanie 47.08m2 3 pokoje Kraków Na Błonie', 'Mieszkanie Kraków 74m2 3 pokoje', 'Sprzedam mieszkanie 40m2 1 pokój Kraków Macieja Słomczyńskiego', 'Mieszkanie Kraków Wielicka 47m2 2 pokoje', 'Mieszkanie Kraków Pasternik - okolice 127.99m2', 'Mieszkanie Kraków Batorego 47m 2-pokojowe', 'Mieszkanie Kraków Szlak 29m2', 'Mieszkanie na wynajem', 'Mieszkanie 3p w kamienicy w pobliżu Salwatoru', 'Ogłoszenie mieszkanie 57.62m2 4 pokoje Kraków', 'Pokój/mieszkanie do wynajęcia w nowym 2-pok. mieszkaniu przy Galerii Krakow', 'Mieszkanie Kraków Rydlówka 42.88m2 3-pokojowe', 'Mieszkanie Os. Avia Kraków, widok na góry', 'Mieszkanie 66.98m2 3 pokoje Kraków', 'Do sprzedaży mieszkanie 54.55m2 2 pokojowe Kraków', 'Oferta sprzedaży mieszkania Kraków Wincentego Witosa 67.57m2 3 pokoje', 'Oferta sprzedaży mieszkania 60.45m2 Kraków', 'Mieszkanie Kraków Wincentego Witosa 67.56m2 3 pokoje']\n",
      "60\n",
      "Prices: ['379 999 zł', '1 490 000 zł', '1 137 500 zł', '897 000 zł', '997 000 zł', '790 000 zł', '2 243 000 zł', '695 000 zł', '2 586 330 zł', '1 175 000 zł', '1 497 000 zł', '1 159 000 zł', '900 000 zł', '904 797 zł', '763 430 zł', '821 804 zł', '1 355 000 zł', '3 700 zł', '985 000 zł', '615 000 zł', '1 347 675 zł', '4 700 000 zł', '750 867 zł', '1 750 000 zł', '507 000 zł', '799 000 zł', '928 000 zł', '821 804 zł', '3 250 zł', '560 000 zł', '975 000 zł', '600 zł', '863 900 zł', '2 400 zł', '790 000 zł', '2 200 zł', '1 330 000 zł', '580 000 zł', '1 968 000 zł', '494 000 zł', '870 750 zł', '1 595 000 zł', '790 000 zł', '1 550 000 zł', '690 000 zł', '2 900 zł', '1 370 000 zł', '820 000 zł', '795 000 zł', '2 500 zł', '799 000 zł', '1 194 174 zł', '1 499,99 zł', '1 000 176 zł', '998 000 zł', '1 350 000 zł', '880 000 zł', '966 823 zł', '861 940 zł', '982 810 zł']\n",
      "60\n"
     ]
    }
   ],
   "source": [
    "import requests\n",
    "from bs4 import BeautifulSoup\n",
    "import pandas as pd\n",
    "import os\n",
    "\n",
    "url = \"https://sprzedajemy.pl/krakow/nieruchomosci/mieszkania?offset=0&items_per_page=60\"\n",
    "\n",
    "headers = {\n",
    "    \"User-Agent\": \"Mozilla/5.0 (Windows NT 10.0; Win64; x64) AppleWebKit/537.36 (KHTML, like Gecko) Chrome/58.0.3029.110 Safari/537.36\",\n",
    "    \"Accept\": \"text/html,application/xhtml+xml,application/xml;q=0.9,image/webp,image/apng,*/*;q=0.8\",\n",
    "    \"Accept-Encoding\": \"gzip, deflate, br\",\n",
    "    \"Accept-Language\": \"en-US,en;q=0.9,pl;q=0.8\",\n",
    "    \"Connection\": \"keep-alive\"\n",
    "}\n",
    "\n",
    "response = requests.get(url, headers=headers)\n",
    "response = requests.get(url, headers=headers)\n",
    "\n",
    "# Debugowanie odpowiedzi\n",
    "print(f\"Status Code: {response.status_code}\")\n",
    "print(f\"Response Headers: {response.headers}\")\n",
    "print(f\"Response Text (first 2000 chars): {response.text[:2000]}\")\n",
    "\n",
    "# Jeśli odpowiedź jest poprawna, wykonaj webscraping\n",
    "if response.status_code == 200:\n",
    "    soup = BeautifulSoup(response.content, \"html.parser\")\n",
    "\n",
    "    # Pobieranie ofert mieszkań\n",
    "    titles = [h2.a.text.strip() for h2 in soup.find_all(\"h2\", class_=\"title\") if h2.a]\n",
    "    prices = [p.text.replace(\"\\xa0\", \" \").strip() for p in soup.find_all(\"span\", class_=\"price\")]\n",
    "\n",
    "    print(\"Titles:\", titles)\n",
    "    print(len(titles))\n",
    "    print(\"Prices:\", prices)\n",
    "    print(len(prices))\n",
    "\n",
    "    df = pd.DataFrame({\"Title\": titles, \"Price\": prices})\n",
    "\n",
    "    # Dopisanie do pliku CSV\n",
    "    df.to_csv(\"scraped_data.csv\", mode='a', header=not os.path.exists('scraped_data.csv'), index=False)\n",
    "else:\n",
    "    print(\"Failed to retrieve data.\")\n"
   ]
  }
 ],
 "metadata": {
  "colab": {
   "provenance": []
  },
  "kernelspec": {
   "display_name": "Python 3",
   "name": "python3"
  },
  "language_info": {
   "codemirror_mode": {
    "name": "ipython",
    "version": 3
   },
   "file_extension": ".py",
   "mimetype": "text/x-python",
   "name": "python",
   "nbconvert_exporter": "python",
   "pygments_lexer": "ipython3",
   "version": "3.9.22"
  },
  "papermill": {
   "default_parameters": {},
   "duration": 3.012436,
   "end_time": "2025-05-15T17:40:55.456758",
   "environment_variables": {},
   "exception": null,
   "input_path": "nb.ipynb",
   "output_path": "nbo.ipynb",
   "parameters": {},
   "start_time": "2025-05-15T17:40:52.444322",
   "version": "2.6.0"
  }
 },
 "nbformat": 4,
 "nbformat_minor": 5
}