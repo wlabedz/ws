{
 "cells": [
  {
   "cell_type": "code",
   "execution_count": 1,
   "id": "cffe5495",
   "metadata": {
    "colab": {
     "base_uri": "https://localhost:8080/"
    },
    "execution": {
     "iopub.execute_input": "2025-09-05T15:10:10.284584Z",
     "iopub.status.busy": "2025-09-05T15:10:10.284262Z",
     "iopub.status.idle": "2025-09-05T15:10:13.029346Z",
     "shell.execute_reply": "2025-09-05T15:10:13.028628Z"
    },
    "id": "5pYh4c8j1w43",
    "outputId": "8a0dca73-64e5-4f0d-c493-2c5b38392363",
    "papermill": {
     "duration": 2.74895,
     "end_time": "2025-09-05T15:10:13.030510",
     "exception": false,
     "start_time": "2025-09-05T15:10:10.281560",
     "status": "completed"
    },
    "tags": []
   },
   "outputs": [
    {
     "name": "stdout",
     "output_type": "stream",
     "text": [
      "Status Code: 200\n",
      "Response Headers: {'Server': 'nginx', 'Date': 'Fri, 05 Sep 2025 15:10:12 GMT', 'Content-Type': 'text/html; charset=UTF-8', 'Transfer-Encoding': 'chunked', 'Vary': 'Accept-Encoding, User-Agent', 'Set-Cookie': 'FRSPSID=0hta6p9b9tp423ig5mnnq6f5t7; path=/; domain=.sprzedajemy.pl; secure; HttpOnly, _items_per_page__offer_list=60; expires=Sun, 05-Oct-2025 15:10:12 GMT; Max-Age=2592000; path=/; domain=.sprzedajemy.pl; secure; httponly, observed_id=190503668668bafd54798ce2168416055835064903; expires=Wed, 05-Sep-2125 16:10:12 GMT; Max-Age=3155677200; path=/; domain=.sprzedajemy.pl; secure; httponly', 'Expires': 'Thu, 19 Nov 1981 08:52:00 GMT', 'Cache-Control': 'no-store, no-cache, must-revalidate, post-check=0, pre-check=0', 'Pragma': 'no-cache', 'Content-Encoding': 'gzip'}\n",
      "Response Text (first 2000 chars): <!DOCTYPE html><html xmlns=\"http://www.w3.org/1999/xhtml\" xml:lang=\"pl\" lang=\"pl\" class=\"no-js\" >\n",
      "<head>\n",
      "\t\t\t<!-- Google Tag Manager -->\n",
      "\t\t\t<script>(function(w,d,s,l,i){w[l]=w[l]||[];w[l].push({'gtm.start':\n",
      "\t\t\t\t\t\tnew Date().getTime(),event:'gtm.js'});var f=d.getElementsByTagName(s)[0],\n",
      "\t\t\t\t\tj=d.createElement(s),dl=l!='dataLayer'?'&l='+l:'';j.async=true;j.src=\n",
      "\t\t\t\t\t'https://www.googletagmanager.com/gtm.js?id='+i+dl\n",
      "\t\t\t\t\t\t\t\t\t    ;f.parentNode.insertBefore(j,f);\n",
      "\t\t\t\t    })(window,document,'script','dataLayer','GTM-P3S238');</script>\n",
      "\t\t\t<!-- End Google Tag Manager -->\n",
      "\t<title>Mieszkania Kraków na sprzedaż, wynajem - Sprzedajemy.pl</title><meta http-equiv=\"Content-Type\" content=\"text/html; charset=UTF-8\" >\n",
      "<meta http-equiv=\"X-UA-Compatible\" content=\"IE=edge\" >\n",
      "<meta name=\"description\" content=\"Ogłoszenia o tematyce:  w kategorii Mieszkania - Kupuj i sprzedawaj rzeczy używane i nowe w kategorii Mieszkania na Sprzedajemy.pl\" >\n",
      "<meta property=\"og:title\" content=\"Mieszkania Kraków na sprzedaż, wynajem - Sprzedajemy.pl\" >\n",
      "<meta property=\"og:type\" content=\"website\" >\n",
      "<meta property=\"og:image\" content=\"https://thumbs.img-sprzedajemy.pl/facebook/sprzedajemy.pl.png\" >\n",
      "<meta property=\"og:image:width\" content=\"200\" >\n",
      "<meta property=\"og:image:height\" content=\"200\" >\n",
      "<meta property=\"og:url\" content=\"https://sprzedajemy.pl/krakow/nieruchomosci/mieszkania\" >\n",
      "<meta property=\"og:site_name\" content=\"Sprzedajemy.pl\" >\n",
      "<meta property=\"fb:app_id\" content=\"173258269367442\" >\n",
      "<meta property=\"og:description\" content=\"Ogłoszenia o tematyce:  w kategorii Mieszkania - Kupuj i sprzedawaj rzeczy używane i nowe w kategorii Mieszkania na Sprzedajemy.pl\" >\n",
      "<meta name=\"robots\" content=\"noindex, follow\" >\t\t<script  async=\"async\" src=\"https://static.criteo.net/js/ld/publishertag.js\"></script>\n",
      "        <script  async=\"async\" src=\"https://ap.lijit.com/www/sovrn_beacon_standalone/sovrn_standalone_beacon.js?iid=13417409&amp;uid=sprzedajemy\" id=\"sBeacon\"></script>\n",
      "\t\t<script  async=\"async\" src=\"https://securepuba\n"
     ]
    },
    {
     "name": "stdout",
     "output_type": "stream",
     "text": [
      "Titles: ['Mieszkanie z widokiem na góry', 'Wyjątkowe mieszkanie z widokiem na klasztor w Tyńcu i panoramę Tatr', 'Stylowy apartament z widokiem na panoramę Krakowa - od właściciela', 'Nowoczesny apartament z panoramicznym widokiem - od właściciela', 'Kraków, Stare Miasto sprzedaż/zamiana', 'Stylowy lokal na parterze przy Krowoderskiej', '2-pokojowe mieszkanie po remoncie | PROMOCJA | ul Bronowicka', 'Oferta wynajmu mieszkania 35.84m2 2 pokoje Kraków Romanowicza', 'Mieszkanie Kraków 24.3m 1-pokojowe', 'Ogłoszenie mieszkanie Kraków 39.18m2 2 pokoje', 'Ogłoszenie mieszkanie Kraków 56.09m2 3 pokoje', 'Mieszkanie Kraków 43.35m2 2 pokojowe', 'Mieszkanie 43.35m2 2-pok Kraków Wadowicka', 'Oferta sprzedaży mieszkania 32.79m2 Kraków', 'Mieszkanie do sprzedania Kraków Erazma Jerzmanowskiego 39.2m2 2 pokoje', 'Mieszkanie 114.76m2 5-pokojowe Kraków', 'Wyjątkowy |Gotowy| Balkon| Bez PCC Bez Prowizji |', 'Mieszkanie Kraków Na Błonie 52.49m2 2 pok', 'Mieszkanie 50.39 metrów 2 pokoje Kraków', 'Oferta sprzedaży mieszkania Kraków Pękowicka 39.72m2 2 pokoje', 'Oferta sprzedaży mieszkania 38.55m2 Kraków Pękowicka', 'Oferta sprzedaży mieszkania 69.13 metry 3 pok Kraków', 'Do sprzedaży mieszkanie Kraków Kantrowicka 51.41m2 3 pokoje', 'Oferta sprzedaży mieszkania Kraków Babińskiego 70.88m2 3-pokojowe', 'Mieszkanie na sprzedaż Kraków Pękowicka 38.44m2 2 pokoje', 'Mieszkanie 69.46m2 4 pokoje Kraków', 'Oferta sprzedaży mieszkania 51.55m2 3 pokoje Kraków Pękowicka', 'Ogłoszenie mieszkanie Kraków 27.38m2 1 pok', 'Mieszkanie Kraków Kantrowicka 51.54m2 3 pokoje', 'Sprzedaż mieszkania 38.16m2 2-pokojowe Kraków Na Błonie', 'Oferta sprzedaży mieszkania 68.05m2 4-pokojowe Kraków Pękowicka', 'Mieszkanie do sprzedania 46.46 metrów 2-pok Kraków', 'Mieszkanie Kraków 73.99m2 3-pokojowe', 'Mieszkanie na sprzedaż 42.61m2 2 pokojowe Kraków', 'Mieszkanie do sprzedania 58.27 metrów 2 pokoje Kraków', 'Mieszkanie Kraków 29 listopada - okolice 36.77m2', 'Mieszkanie Kraków 45m2 2-pokojowe', 'Mieszkanie 59.31m2 4 pokoje Kraków', 'Ogłoszenie mieszkanie Kraków Hoffmanowej 34.41m2 1 pokój', 'Mieszkanie na sprzedaż Kraków 71.46m 3 pokoje', 'Mieszkanie Kraków 40.29m2', 'Ogłoszenie mieszkanie Kraków Wadowicka 67.42m2 3 pokoje', 'Mieszkanie 35.46 metrów 2-pokojowe Kraków 29 listopada - okolice', 'Mieszkanie Kraków Wadowicka 61.82m2 2-pokojowe', 'Mieszkanie Kraków 37.17m2 2 pokoje', 'Mieszkanie sprzedam Kraków Babińskiego 33.89m2 1-pok', 'Mieszkanie 51.8m2 Kraków', 'Oferta sprzedaży mieszkania 54.77m2 3 pokoje Kraków Pękowicka', 'Oferta sprzedaży mieszkania Kraków 50.86m2 2 pokoje', 'Mieszkanie 36.16m2 2-pokojowe Kraków', 'Mieszkanie sprzedam Kraków Pękowicka 39.45m2 2-pokojowe', 'Oferta sprzedaży mieszkania 65.05m2 4 pokoje Kraków', 'Mieszkanie 85.52m 4 pokojowe Kraków Biskupa Albina Małysiaka', 'Mieszkanie 75.19m2 Kraków', 'Sprzedaż mieszkania 62.46m2 3 pokoje Kraków Wadowicka', 'Mieszkanie na sprzedaż Kraków 51.31 metrów 2 pokojowe', 'Mieszkanie 72.48m2 2 pokoje Kraków Na Błonie', 'Mieszkanie na sprzedaż 93.9m2 3 pokoje Kraków Na Błonie', 'Mieszkanie Kraków Babińskiego 82.79m2 3 pokojowe', 'Mieszkanie 49.76 metrów 2 pokojowe Kraków']\n",
      "60\n",
      "Prices: ['265 000 zł', '779 000 zł', '890 000 zł', '997 000 zł', '2 083 000 zł', '1 800 000 zł', '710 000 zł', '3 005 zł', '399 000 zł', '662 142 zł', '692 711 zł', '793 305 zł', '788 970 zł', '619 731 zł', '585 000 zł', '1 732 876 zł', '965 000 zł', '864 562 zł', '901 981 zł', '685 170 zł', '653 422 zł', '1 109 743 zł', '659 333 zł', '1 219 136 zł', '653 480 zł', '868 250 zł', '847 997 zł', '469 000 zł', '661 000 zł', '770 030 zł', '1 081 995 zł', '854 864 zł', '1 560 000 zł', '815 981 zł', '664 734 zł', '634 797 zł', '4 000 zł', '816 995 zł', '898 000 zł', '1 177 017 zł', '680 901 zł', '1 092 204 zł', '633 331 zł', '1 032 394 zł', '633 748 zł', '620 187 zł', '891 426 zł', '890 012 zł', '910 394 zł', '612 912 zł', '684 457 zł', '1 050 557 zł', '1 490 000 zł', '1 285 749 zł', '1 068 066 zł', '918 449 zł', '1 212 445 zł', '1 583 717 zł', '1 481 941 zł', '699 000 zł']\n",
      "60\n"
     ]
    }
   ],
   "source": [
    "import requests\n",
    "from bs4 import BeautifulSoup\n",
    "import pandas as pd\n",
    "import os\n",
    "\n",
    "url = \"https://sprzedajemy.pl/krakow/nieruchomosci/mieszkania?offset=0&items_per_page=60\"\n",
    "\n",
    "headers = {\n",
    "    \"User-Agent\": \"Mozilla/5.0 (Windows NT 10.0; Win64; x64) AppleWebKit/537.36 (KHTML, like Gecko) Chrome/58.0.3029.110 Safari/537.36\",\n",
    "    \"Accept\": \"text/html,application/xhtml+xml,application/xml;q=0.9,image/webp,image/apng,*/*;q=0.8\",\n",
    "    \"Accept-Encoding\": \"gzip, deflate, br\",\n",
    "    \"Accept-Language\": \"en-US,en;q=0.9,pl;q=0.8\",\n",
    "    \"Connection\": \"keep-alive\"\n",
    "}\n",
    "\n",
    "response = requests.get(url, headers=headers)\n",
    "response = requests.get(url, headers=headers)\n",
    "\n",
    "# Debugowanie odpowiedzi\n",
    "print(f\"Status Code: {response.status_code}\")\n",
    "print(f\"Response Headers: {response.headers}\")\n",
    "print(f\"Response Text (first 2000 chars): {response.text[:2000]}\")\n",
    "\n",
    "# Jeśli odpowiedź jest poprawna, wykonaj webscraping\n",
    "if response.status_code == 200:\n",
    "    soup = BeautifulSoup(response.content, \"html.parser\")\n",
    "\n",
    "    # Pobieranie ofert mieszkań\n",
    "    titles = [h2.a.text.strip() for h2 in soup.find_all(\"h2\", class_=\"title\") if h2.a]\n",
    "    prices = [p.text.replace(\"\\xa0\", \" \").strip() for p in soup.find_all(\"span\", class_=\"price\")]\n",
    "\n",
    "    print(\"Titles:\", titles)\n",
    "    print(len(titles))\n",
    "    print(\"Prices:\", prices)\n",
    "    print(len(prices))\n",
    "\n",
    "    df = pd.DataFrame({\"Title\": titles, \"Price\": prices})\n",
    "\n",
    "    # Dopisanie do pliku CSV\n",
    "    df.to_csv(\"scraped_data.csv\", mode='a', header=not os.path.exists('scraped_data.csv'), index=False)\n",
    "else:\n",
    "    print(\"Failed to retrieve data.\")\n"
   ]
  }
 ],
 "metadata": {
  "colab": {
   "provenance": []
  },
  "kernelspec": {
   "display_name": "Python 3",
   "name": "python3"
  },
  "language_info": {
   "codemirror_mode": {
    "name": "ipython",
    "version": 3
   },
   "file_extension": ".py",
   "mimetype": "text/x-python",
   "name": "python",
   "nbconvert_exporter": "python",
   "pygments_lexer": "ipython3",
   "version": "3.9.23"
  },
  "papermill": {
   "default_parameters": {},
   "duration": 3.995011,
   "end_time": "2025-09-05T15:10:13.348574",
   "environment_variables": {},
   "exception": null,
   "input_path": "nb.ipynb",
   "output_path": "nbo.ipynb",
   "parameters": {},
   "start_time": "2025-09-05T15:10:09.353563",
   "version": "2.6.0"
  }
 },
 "nbformat": 4,
 "nbformat_minor": 5
}