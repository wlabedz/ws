{
 "cells": [
  {
   "cell_type": "code",
   "execution_count": 1,
   "id": "37083673",
   "metadata": {
    "colab": {
     "base_uri": "https://localhost:8080/"
    },
    "execution": {
     "iopub.execute_input": "2025-07-29T11:49:34.608528Z",
     "iopub.status.busy": "2025-07-29T11:49:34.608330Z",
     "iopub.status.idle": "2025-07-29T11:49:36.466431Z",
     "shell.execute_reply": "2025-07-29T11:49:36.465719Z"
    },
    "id": "5pYh4c8j1w43",
    "outputId": "8a0dca73-64e5-4f0d-c493-2c5b38392363",
    "papermill": {
     "duration": 1.861265,
     "end_time": "2025-07-29T11:49:36.467552",
     "exception": false,
     "start_time": "2025-07-29T11:49:34.606287",
     "status": "completed"
    },
    "tags": []
   },
   "outputs": [
    {
     "name": "stdout",
     "output_type": "stream",
     "text": [
      "Status Code: 200\n",
      "Response Headers: {'Server': 'nginx', 'Date': 'Tue, 29 Jul 2025 11:49:36 GMT', 'Content-Type': 'text/html; charset=UTF-8', 'Transfer-Encoding': 'chunked', 'Vary': 'Accept-Encoding, User-Agent', 'Set-Cookie': 'FRSPSID=l6d53dian0h9cr4oii5ige84q0; path=/; domain=.sprzedajemy.pl; secure; HttpOnly, _items_per_page__offer_list=60; expires=Thu, 28-Aug-2025 11:49:36 GMT; Max-Age=2592000; path=/; domain=.sprzedajemy.pl; secure; httponly, observed_id=21007708456888b5501380f4156614614470869760; expires=Sun, 29-Jul-2125 12:49:36 GMT; Max-Age=3155677200; path=/; domain=.sprzedajemy.pl; secure; httponly', 'Expires': 'Thu, 19 Nov 1981 08:52:00 GMT', 'Cache-Control': 'no-store, no-cache, must-revalidate, post-check=0, pre-check=0', 'Pragma': 'no-cache', 'Content-Encoding': 'gzip'}\n",
      "Response Text (first 2000 chars): <!DOCTYPE html><html xmlns=\"http://www.w3.org/1999/xhtml\" xml:lang=\"pl\" lang=\"pl\" class=\"no-js\" >\n",
      "<head>\n",
      "\t\t\t<!-- Google Tag Manager -->\n",
      "\t\t\t<script>(function(w,d,s,l,i){w[l]=w[l]||[];w[l].push({'gtm.start':\n",
      "\t\t\t\t\t\tnew Date().getTime(),event:'gtm.js'});var f=d.getElementsByTagName(s)[0],\n",
      "\t\t\t\t\tj=d.createElement(s),dl=l!='dataLayer'?'&l='+l:'';j.async=true;j.src=\n",
      "\t\t\t\t\t'https://www.googletagmanager.com/gtm.js?id='+i+dl\n",
      "\t\t\t\t\t\t\t\t\t    ;f.parentNode.insertBefore(j,f);\n",
      "\t\t\t\t    })(window,document,'script','dataLayer','GTM-P3S238');</script>\n",
      "\t\t\t<!-- End Google Tag Manager -->\n",
      "\t<title>Mieszkania Kraków na sprzedaż, wynajem - Sprzedajemy.pl</title><meta http-equiv=\"Content-Type\" content=\"text/html; charset=UTF-8\" >\n",
      "<meta http-equiv=\"X-UA-Compatible\" content=\"IE=edge\" >\n",
      "<meta name=\"description\" content=\"Ogłoszenia o tematyce:  w kategorii Mieszkania - Kupuj i sprzedawaj rzeczy używane i nowe w kategorii Mieszkania na Sprzedajemy.pl\" >\n",
      "<meta property=\"og:title\" content=\"Mieszkania Kraków na sprzedaż, wynajem - Sprzedajemy.pl\" >\n",
      "<meta property=\"og:type\" content=\"website\" >\n",
      "<meta property=\"og:image\" content=\"https://thumbs.img-sprzedajemy.pl/facebook/sprzedajemy.pl.png\" >\n",
      "<meta property=\"og:image:width\" content=\"200\" >\n",
      "<meta property=\"og:image:height\" content=\"200\" >\n",
      "<meta property=\"og:url\" content=\"https://sprzedajemy.pl/krakow/nieruchomosci/mieszkania\" >\n",
      "<meta property=\"og:site_name\" content=\"Sprzedajemy.pl\" >\n",
      "<meta property=\"fb:app_id\" content=\"173258269367442\" >\n",
      "<meta property=\"og:description\" content=\"Ogłoszenia o tematyce:  w kategorii Mieszkania - Kupuj i sprzedawaj rzeczy używane i nowe w kategorii Mieszkania na Sprzedajemy.pl\" >\n",
      "<meta name=\"robots\" content=\"noindex, follow\" >\t\t<script  async=\"async\" src=\"https://static.criteo.net/js/ld/publishertag.js\"></script>\n",
      "        <script  async=\"async\" src=\"https://ap.lijit.com/www/sovrn_beacon_standalone/sovrn_standalone_beacon.js?iid=13417409&amp;uid=sprzedajemy\" id=\"sBeacon\"></script>\n",
      "\t\t<script  async=\"async\" src=\"https://securepuba\n",
      "Titles: ['Dom - Kraków Tonie - Zielona okolica - 123 m2 | 5 - pok. | Ogród | Taras |…', 'Nowoczesny apartament z panoramicznym widokiem - od właściciela', 'Wyjątkowe mieszkanie z widokiem na klasztor w Tyńcu i panoramę Tatr', 'Stylowy apartament z widokiem na panoramę Krakowa - od właściciela', 'Kraków, Stare Miasto sprzedaż/zamiana', 'Mieszkanie na sprzedaż/zamiana 39m2', 'Mieszkanie Wola Justowska /Bielany 36m2', '2-pokojowe mieszkanie na Zabłociu – ciche, świetna lokalizacja! [Wirtualny…', '4pokoje 68m2 balkon KLIMA Śródmieście BEZ PROWIZJI od właściciela', 'Mieszkanie wynajmę Kraków 36.34m2 2 pokoje', 'Mieszkanie 36.34m2 2 pok Kraków Romanowicza', 'Mieszkanie 2 pok Kraków Łobzowska Wynajem', 'Mieszkanie na wynajem 37m2 2-pokojowe Kraków Celarowska', 'Kawalerka 27m2 w kamienicy z parkingiem – Prądnik Czerwony, inwestycja', 'Sprzedam kawalerkę Spółdzielców Kraków PO REMONCIe', 'Ogłoszenie mieszkanie Kraków prof. Michała Bobrzyńskiego 50.56m2 2 pokojowe', 'Kawalerka 38m2 plus antresola od 01/09, PILOTÓW, klimatyzacja, parking', 'Kawalerka 35m2 z osobną kuchnią od 1.09/1.10, PILOTÓW, parking', 'Mieszkanie do wynajęcia po generalnym remoncie os Tysiąclecia Kraków', 'Do wynajęcia mieszkanie Kraków Tadeusza Makowskiego 36m2 2 pok', 'Do wynajęcia mieszkanie 55m2 3-pok Kraków', 'Mieszkanie sprzedam 54.98m2 3 pokoje Kraków Republiki Korczakowskiej', 'Mieszkanie 50m2 2-pok Kraków prof. Michała Bobrzyńskiego', 'Mieszkanie ul. Grodzka | 90m od Rynku Głównego!', 'Mieszkanie 54.86m 3 pokoje Kraków os. Oświecenia', 'Mieszkanie Kraków 27m2 2 pokoje', 'Mieszkanie Kraków Polonijna 38m2 2 pokoje', 'Mieszkanie Kraków Mirosława Krzyżańskiego 122m 4 pokoje', 'Mieszkanie do sprzedania 38.93m2 1 pokojowe Kraków', 'Ogłoszenie mieszkanie 46.02m2 2 pokojowe Kraków os. Avia', 'Mieszkanie Kraków Mirosława Krzyżańskiego 122m2 4-pokojowe', 'Mieszkanie Kraków Krakowska 77.24m2 3 pokoje', 'Mieszkanie 39m2 2 pokoje Kraków os. Bohaterów Września', 'Bezpośrednio sprzedam mieszkanie Kraków ul. Batorego', 'Mieszkanie Kraków Radzikowskiego 73m2 3 pokojowe', 'Nowe budownictwo. 2 pokoje ekskluzywnie odnowione', 'Strych, Błonia, ul. Filarecka, Rezerwacja', 'Bezpośrednio wynajmę 2-pokojowe ul.Batorego po remoncie.', 'Kraków – Prądnik Biały – ul. Pachońskiego – 2 pokoje – 36 m² – BALKON', '5 min do centrum - 2-pokojowe mieszkanie 48 m² – wysoki standard', 'Duża kawalerka - Kraków – Salwator – ul. Kościuszki – 2 pokoje – 35 m²', 'Mieszkanie 64m2 3 pokojowe Kraków', 'Mieszkanie sprzedam 38m2 Kraków os. Jagiellońskie', 'Apartament 40 m2, Kraków Ruczaj HSBC SHELL MOTOROLA', 'Mieszkanie Kraków 103m2', 'APARTAMENT DWUPOZIOMOWY KRAKÓW KAZIMIERZ', 'MIESZKANIE KRAKÓW ul. TELIGI 2', '✩SŁONECZNA KAWALERKA✩winda✩blok po renowacji✩', '✩ 4 pokoje ✩ PO REMONCIE ✩ wyposażone ✩', 'Apartament: 3 pokoje, 2 łazienki, garaż', 'Mieszkanie, Kraków os. Tysiąclecia 1 - 20 m 2', 'Bezpośrednio Jasne 2 pokoje Mieszkanie Centrum Ogrzewanie Parking Komunika…', 'Apartament 53 m2, Kraków Ruczaj Właściciel', 'Mieszkanie Kraków prof. Michała Bobrzyńskiego 52m2 2 pokoje', 'Mieszkanie 40m2, Kraków, Krowodrza, oś. Żabiniec', 'Mieszkanie', '3-pokojowe na os.Kazimierzowskim na sprzedaż!', '4o pokojowe na Friedleina na sprzedaż!', 'Dla studenta lub na wynajem krótkoterminowy', 'Kawalerka do wynajęcia -Kraków Grzegórzki']\n",
      "60\n",
      "Prices: ['2 275 000 zł', '997 000 zł', '779 000 zł', '897 000 zł', '2 153 000 zł', '526 000 zł', '487 000 zł', '499 000 zł', '1 850 000 zł', '2 990 zł', '2 990 zł', '3 500 zł', '2 600 zł', '369 000 zł', '420 000 zł', '2 600 zł', '2 200 zł', '2 200 zł', '3 000 zł', '3 000 zł', '5 500 zł', '780 000 zł', '749 000 zł', '1 270 000 zł', '729 000 zł', '2 200 zł', '599 000 zł', '1 150 000 zł', '709 000 zł', '799 000 zł', '1 299 000 zł', '1 250 000 zł', '560 000 zł', '1 650 000 zł', '797 000 zł', '539 000 zł', '389 999 zł', '3 850 zł', '2 800 zł', '3 550 zł', '2 800 zł', '815 000 zł', '475 000 zł', '3 000 zł', '2 500 000 zł', '1 890 000 zł', '690 000 zł', '459 000 zł', '728 000 zł', '3 700 000 zł', '339 000 zł', '3 200 zł', '3 500 zł', '749 000 zł', '646 350 zł', '2 500 zł', '480 000 zł', '990 000 zł', '545 000 zł', '2 400 zł']\n",
      "60\n"
     ]
    }
   ],
   "source": [
    "import requests\n",
    "from bs4 import BeautifulSoup\n",
    "import pandas as pd\n",
    "import os\n",
    "\n",
    "url = \"https://sprzedajemy.pl/krakow/nieruchomosci/mieszkania?offset=0&items_per_page=60\"\n",
    "\n",
    "headers = {\n",
    "    \"User-Agent\": \"Mozilla/5.0 (Windows NT 10.0; Win64; x64) AppleWebKit/537.36 (KHTML, like Gecko) Chrome/58.0.3029.110 Safari/537.36\",\n",
    "    \"Accept\": \"text/html,application/xhtml+xml,application/xml;q=0.9,image/webp,image/apng,*/*;q=0.8\",\n",
    "    \"Accept-Encoding\": \"gzip, deflate, br\",\n",
    "    \"Accept-Language\": \"en-US,en;q=0.9,pl;q=0.8\",\n",
    "    \"Connection\": \"keep-alive\"\n",
    "}\n",
    "\n",
    "response = requests.get(url, headers=headers)\n",
    "response = requests.get(url, headers=headers)\n",
    "\n",
    "# Debugowanie odpowiedzi\n",
    "print(f\"Status Code: {response.status_code}\")\n",
    "print(f\"Response Headers: {response.headers}\")\n",
    "print(f\"Response Text (first 2000 chars): {response.text[:2000]}\")\n",
    "\n",
    "# Jeśli odpowiedź jest poprawna, wykonaj webscraping\n",
    "if response.status_code == 200:\n",
    "    soup = BeautifulSoup(response.content, \"html.parser\")\n",
    "\n",
    "    # Pobieranie ofert mieszkań\n",
    "    titles = [h2.a.text.strip() for h2 in soup.find_all(\"h2\", class_=\"title\") if h2.a]\n",
    "    prices = [p.text.replace(\"\\xa0\", \" \").strip() for p in soup.find_all(\"span\", class_=\"price\")]\n",
    "\n",
    "    print(\"Titles:\", titles)\n",
    "    print(len(titles))\n",
    "    print(\"Prices:\", prices)\n",
    "    print(len(prices))\n",
    "\n",
    "    df = pd.DataFrame({\"Title\": titles, \"Price\": prices})\n",
    "\n",
    "    # Dopisanie do pliku CSV\n",
    "    df.to_csv(\"scraped_data.csv\", mode='a', header=not os.path.exists('scraped_data.csv'), index=False)\n",
    "else:\n",
    "    print(\"Failed to retrieve data.\")\n"
   ]
  }
 ],
 "metadata": {
  "colab": {
   "provenance": []
  },
  "kernelspec": {
   "display_name": "Python 3",
   "name": "python3"
  },
  "language_info": {
   "codemirror_mode": {
    "name": "ipython",
    "version": 3
   },
   "file_extension": ".py",
   "mimetype": "text/x-python",
   "name": "python",
   "nbconvert_exporter": "python",
   "pygments_lexer": "ipython3",
   "version": "3.9.23"
  },
  "papermill": {
   "default_parameters": {},
   "duration": 2.996601,
   "end_time": "2025-07-29T11:49:36.684887",
   "environment_variables": {},
   "exception": null,
   "input_path": "nb.ipynb",
   "output_path": "nbo.ipynb",
   "parameters": {},
   "start_time": "2025-07-29T11:49:33.688286",
   "version": "2.6.0"
  }
 },
 "nbformat": 4,
 "nbformat_minor": 5
}