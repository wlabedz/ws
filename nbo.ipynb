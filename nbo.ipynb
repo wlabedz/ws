{
 "cells": [
  {
   "cell_type": "code",
   "execution_count": 1,
   "id": "17e21913",
   "metadata": {
    "colab": {
     "base_uri": "https://localhost:8080/"
    },
    "execution": {
     "iopub.execute_input": "2025-08-08T13:12:44.909349Z",
     "iopub.status.busy": "2025-08-08T13:12:44.909084Z",
     "iopub.status.idle": "2025-08-08T13:12:47.230991Z",
     "shell.execute_reply": "2025-08-08T13:12:47.230390Z"
    },
    "id": "5pYh4c8j1w43",
    "outputId": "8a0dca73-64e5-4f0d-c493-2c5b38392363",
    "papermill": {
     "duration": 2.325465,
     "end_time": "2025-08-08T13:12:47.232156",
     "exception": false,
     "start_time": "2025-08-08T13:12:44.906691",
     "status": "completed"
    },
    "tags": []
   },
   "outputs": [
    {
     "name": "stdout",
     "output_type": "stream",
     "text": [
      "Status Code: 200\n",
      "Response Headers: {'Server': 'nginx', 'Date': 'Fri, 08 Aug 2025 13:12:46 GMT', 'Content-Type': 'text/html; charset=UTF-8', 'Transfer-Encoding': 'chunked', 'Vary': 'Accept-Encoding, User-Agent', 'Set-Cookie': 'FRSPSID=eb32aur3akri1vignbvhnn1vh0; path=/; domain=.sprzedajemy.pl; secure; HttpOnly, _items_per_page__offer_list=60; expires=Sun, 07-Sep-2025 13:12:46 GMT; Max-Age=2592000; path=/; domain=.sprzedajemy.pl; secure; httponly, observed_id=10013120576895f7ceb69c1066188538873740774; expires=Wed, 08-Aug-2125 14:12:46 GMT; Max-Age=3155677200; path=/; domain=.sprzedajemy.pl; secure; httponly', 'Expires': 'Thu, 19 Nov 1981 08:52:00 GMT', 'Cache-Control': 'no-store, no-cache, must-revalidate, post-check=0, pre-check=0', 'Pragma': 'no-cache', 'Content-Encoding': 'gzip'}\n",
      "Response Text (first 2000 chars): <!DOCTYPE html><html xmlns=\"http://www.w3.org/1999/xhtml\" xml:lang=\"pl\" lang=\"pl\" class=\"no-js\" >\n",
      "<head>\n",
      "\t\t\t<!-- Google Tag Manager -->\n",
      "\t\t\t<script>(function(w,d,s,l,i){w[l]=w[l]||[];w[l].push({'gtm.start':\n",
      "\t\t\t\t\t\tnew Date().getTime(),event:'gtm.js'});var f=d.getElementsByTagName(s)[0],\n",
      "\t\t\t\t\tj=d.createElement(s),dl=l!='dataLayer'?'&l='+l:'';j.async=true;j.src=\n",
      "\t\t\t\t\t'https://www.googletagmanager.com/gtm.js?id='+i+dl\n",
      "\t\t\t\t\t\t\t\t\t    ;f.parentNode.insertBefore(j,f);\n",
      "\t\t\t\t    })(window,document,'script','dataLayer','GTM-P3S238');</script>\n",
      "\t\t\t<!-- End Google Tag Manager -->\n",
      "\t<title>Mieszkania Kraków na sprzedaż, wynajem - Sprzedajemy.pl</title><meta http-equiv=\"Content-Type\" content=\"text/html; charset=UTF-8\" >\n",
      "<meta http-equiv=\"X-UA-Compatible\" content=\"IE=edge\" >\n",
      "<meta name=\"description\" content=\"Ogłoszenia o tematyce:  w kategorii Mieszkania - Kupuj i sprzedawaj rzeczy używane i nowe w kategorii Mieszkania na Sprzedajemy.pl\" >\n",
      "<meta property=\"og:title\" content=\"Mieszkania Kraków na sprzedaż, wynajem - Sprzedajemy.pl\" >\n",
      "<meta property=\"og:type\" content=\"website\" >\n",
      "<meta property=\"og:image\" content=\"https://thumbs.img-sprzedajemy.pl/facebook/sprzedajemy.pl.png\" >\n",
      "<meta property=\"og:image:width\" content=\"200\" >\n",
      "<meta property=\"og:image:height\" content=\"200\" >\n",
      "<meta property=\"og:url\" content=\"https://sprzedajemy.pl/krakow/nieruchomosci/mieszkania\" >\n",
      "<meta property=\"og:site_name\" content=\"Sprzedajemy.pl\" >\n",
      "<meta property=\"fb:app_id\" content=\"173258269367442\" >\n",
      "<meta property=\"og:description\" content=\"Ogłoszenia o tematyce:  w kategorii Mieszkania - Kupuj i sprzedawaj rzeczy używane i nowe w kategorii Mieszkania na Sprzedajemy.pl\" >\n",
      "<meta name=\"robots\" content=\"noindex, follow\" >\t\t<script  async=\"async\" src=\"https://static.criteo.net/js/ld/publishertag.js\"></script>\n",
      "        <script  async=\"async\" src=\"https://ap.lijit.com/www/sovrn_beacon_standalone/sovrn_standalone_beacon.js?iid=13417409&amp;uid=sprzedajemy\" id=\"sBeacon\"></script>\n",
      "\t\t<script  async=\"async\" src=\"https://securepuba\n"
     ]
    },
    {
     "name": "stdout",
     "output_type": "stream",
     "text": [
      "Titles: ['Dom - Kraków Tonie - Zielona okolica - 123 m2 | 5 - pok. | Ogród | Taras |…', 'Mieszkanie 3-pokojowe. Duży balkon. Dobra komunikacja, Od właściciela', '3 niezależne lokale z KW– inwestycja z potencjałem', 'Mieszkanie na sprzedaż/zamiana 39m2', 'Mieszkanie Wola Justowska /Bielany 36m2', '4pokoje 68m2 balkon KLIMA Śródmieście BEZ PROWIZJI od właściciela', 'Mieszkanie Kraków Kantrowicka 51.54m2 3 pokoje', 'Do sprzedaży mieszkanie 51m2 Kraków Królowej Jadwigi', 'Bezpośrednio wynajmę 2-pokojowe ul.Batorego po remoncie.', 'Mieszkanie Kraków 38.11m2 2-pok', 'Do sprzedaży mieszkanie 46.66m2 2 pokoje Kraków Babińskiego', 'Mieszkanie Kraków Pękowicka 48.01m2 3-pokojowe', 'Mieszkanie 63.9m2 3 pokoje Kraków Na Błonie', 'Mieszkanie 37.11m2 2 pokoje Kraków Spółdzielców', 'Mieszkanie 32.1m2 2 pokoje Kraków Klimeckiego', 'Mieszkanie na sprzedaż 35.25m2 Kraków', 'Mieszkanie 151.37m2 Kraków Olszanicka', 'Mieszkanie Kraków 64.89m2 4 pokojowe', 'Mieszkanie Kraków 37m2', 'Mieszkanie 58.07m2 3 pokoje Kraków Podskale', 'Mieszkanie Kraków Praska 120.23m 4 pokoje', 'Oferta sprzedaży mieszkania 51.04m 2-pokojowe Kraków', 'Mieszkanie Kraków Pękowicka 38.59m2 2-pok', 'Mieszkanie 34m 1 pokój Kraków al. Mickiewicza', 'Mieszkanie na sprzedaż Kraków Wadowicka 70.67m2 4 pokoje', 'Mieszkanie 50.95m2 Kraków Wadowicka', 'Mieszkanie Kraków 45.2 metry 3 pokoje', 'Mieszkanie Kraków 39.34m2 2-pokojowe', 'Mieszkanie Kraków 58.09m2 3-pokojowe', 'Mieszkanie 38.76m2 Kraków Pękowicka', 'Mieszkanie 62.62m2 4 pokojowe Kraków', 'Sprzedaż mieszkania Kraków 45.75m2', 'Oferta sprzedaży mieszkania 94.64m2 6 pokoi Kraków', 'Mieszkanie Kraków Wadowicka 62.46m2 5 pokoi', 'Mieszkanie Kraków Romanowicza 35.94m2', 'Do wynajęcia mieszkanie Kraków Romanowicza 35.84m2 2 pokojowe', 'NOWA CENA 3-pokojowy apartament 59,5m2 na kameralnym osiedlu - Bronowice', 'Mieszkanie Kraków Mistrzejowicka 51.36m2 3 pokoje', 'Mieszkanie Kraków 36.07m2 2 pokoje', 'Oferta sprzedaży mieszkania 48.1m2 2-pokojowe Kraków', 'Mistrzejowice - 2 pokoje, jasna kuchnia, balkon', 'Oferta sprzedaży mieszkania 58.35m2 Kraków Powstańców', 'Mieszkanie z garażem i komórką lokatorską', 'Kawalerka 27m2 w kamienicy z parkingiem – Prądnik Czerwony, inwestycja', 'Ogłoszenie mieszkanie Kraków Wielicka 57.76m2 3 pokojowe', 'Na sprzedaż – 3-pokojowe mieszkanie KRAKÓW', 'Nowa Kameralna Inwestycja -od Dewelopera, Bieżanów', 'Os. Botanika, apartament 4-5 pokoi, m. parkingowe', 'Kazimierz. Garsoniera po remoncie. Inwestycyjnie', 'Mieszkanie 59.3m2 3 pokojowe Kraków', 'Apartament inwestycyjny w sercu Krakowa', 'Oferta wynajmu mieszkania 63m2 Kraków Władysława Taklińskiego', 'Mieszkanie 3 pokojowe /64,3 m2 / w  super lokalizacji - od właściciela', 'Oferta sprzedaży mieszkania Kraków 58.4m2 5 pokoi', 'Mieszkanie 38.69m2 3 pokoje Kraków Imbramowska', 'Mieszkanie ul. Grodzka | 90m od Rynku Głównego!', 'Oferta wynajmu mieszkania 113m2 3-pokojowe Kraków Krowoderska', 'Oferta sprzedaży mieszkania Kraków 39.27m2', 'Mieszkanie Kraków Jerzego Szablowskiego 47m2 1-pokojowe', 'Mieszkanie 42m2 2 pokoje Kraków Śliczna']\n",
      "60\n",
      "Prices: ['2 275 000 zł', '3 500 zł', '279 000 zł', '526 000 zł', '487 000 zł', '1 850 000 zł', '636 519 zł', '785 000 zł', '3 800 zł', '776 872 zł', '825 882 zł', '775 361 zł', '1 142 979 zł', '550 000 zł', '749 000 zł', '631 945 zł', '1 952 673 zł', '811 125 zł', '795 000 zł', '1 080 000 zł', '3 000 000 zł', '913 616 zł', '656 030 zł', '748 000 zł', '1 187 256 zł', '886 530 zł', '743 540 zł', '670 747 zł', '1 076 233 zł', '655 044 zł', '1 014 444 zł', '699 000 zł', '1 950 000 zł', '1 093 050 zł', '3 030 zł', '3 020 zł', '939 000 zł', '598 000 zł', '2 800 zł', '650 000 zł', '560 000 zł', '789 000 zł', '2 400 zł', '369 000 zł', '928 000 zł', '1 090 000 zł', '840 000 zł', '1 350 000 zł', '399 000 zł', '1 180 000 zł', '1 499 000 zł', '4 000 zł', '997 000 zł', '890 000 zł', '708 772 zł', '1 270 000 zł', '5 500 zł', '655 000 zł', '2 850 zł', '3 600 zł']\n",
      "60\n"
     ]
    }
   ],
   "source": [
    "import requests\n",
    "from bs4 import BeautifulSoup\n",
    "import pandas as pd\n",
    "import os\n",
    "\n",
    "url = \"https://sprzedajemy.pl/krakow/nieruchomosci/mieszkania?offset=0&items_per_page=60\"\n",
    "\n",
    "headers = {\n",
    "    \"User-Agent\": \"Mozilla/5.0 (Windows NT 10.0; Win64; x64) AppleWebKit/537.36 (KHTML, like Gecko) Chrome/58.0.3029.110 Safari/537.36\",\n",
    "    \"Accept\": \"text/html,application/xhtml+xml,application/xml;q=0.9,image/webp,image/apng,*/*;q=0.8\",\n",
    "    \"Accept-Encoding\": \"gzip, deflate, br\",\n",
    "    \"Accept-Language\": \"en-US,en;q=0.9,pl;q=0.8\",\n",
    "    \"Connection\": \"keep-alive\"\n",
    "}\n",
    "\n",
    "response = requests.get(url, headers=headers)\n",
    "response = requests.get(url, headers=headers)\n",
    "\n",
    "# Debugowanie odpowiedzi\n",
    "print(f\"Status Code: {response.status_code}\")\n",
    "print(f\"Response Headers: {response.headers}\")\n",
    "print(f\"Response Text (first 2000 chars): {response.text[:2000]}\")\n",
    "\n",
    "# Jeśli odpowiedź jest poprawna, wykonaj webscraping\n",
    "if response.status_code == 200:\n",
    "    soup = BeautifulSoup(response.content, \"html.parser\")\n",
    "\n",
    "    # Pobieranie ofert mieszkań\n",
    "    titles = [h2.a.text.strip() for h2 in soup.find_all(\"h2\", class_=\"title\") if h2.a]\n",
    "    prices = [p.text.replace(\"\\xa0\", \" \").strip() for p in soup.find_all(\"span\", class_=\"price\")]\n",
    "\n",
    "    print(\"Titles:\", titles)\n",
    "    print(len(titles))\n",
    "    print(\"Prices:\", prices)\n",
    "    print(len(prices))\n",
    "\n",
    "    df = pd.DataFrame({\"Title\": titles, \"Price\": prices})\n",
    "\n",
    "    # Dopisanie do pliku CSV\n",
    "    df.to_csv(\"scraped_data.csv\", mode='a', header=not os.path.exists('scraped_data.csv'), index=False)\n",
    "else:\n",
    "    print(\"Failed to retrieve data.\")\n"
   ]
  }
 ],
 "metadata": {
  "colab": {
   "provenance": []
  },
  "kernelspec": {
   "display_name": "Python 3",
   "name": "python3"
  },
  "language_info": {
   "codemirror_mode": {
    "name": "ipython",
    "version": 3
   },
   "file_extension": ".py",
   "mimetype": "text/x-python",
   "name": "python",
   "nbconvert_exporter": "python",
   "pygments_lexer": "ipython3",
   "version": "3.9.23"
  },
  "papermill": {
   "default_parameters": {},
   "duration": 3.441834,
   "end_time": "2025-08-08T13:12:47.449289",
   "environment_variables": {},
   "exception": null,
   "input_path": "nb.ipynb",
   "output_path": "nbo.ipynb",
   "parameters": {},
   "start_time": "2025-08-08T13:12:44.007455",
   "version": "2.6.0"
  }
 },
 "nbformat": 4,
 "nbformat_minor": 5
}