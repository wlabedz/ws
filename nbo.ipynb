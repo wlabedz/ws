{
 "cells": [
  {
   "cell_type": "code",
   "execution_count": 1,
   "id": "28a07ca7",
   "metadata": {
    "colab": {
     "base_uri": "https://localhost:8080/"
    },
    "execution": {
     "iopub.execute_input": "2025-08-03T08:44:08.027001Z",
     "iopub.status.busy": "2025-08-03T08:44:08.026766Z",
     "iopub.status.idle": "2025-08-03T08:44:10.018951Z",
     "shell.execute_reply": "2025-08-03T08:44:10.018216Z"
    },
    "id": "5pYh4c8j1w43",
    "outputId": "8a0dca73-64e5-4f0d-c493-2c5b38392363",
    "papermill": {
     "duration": 1.995615,
     "end_time": "2025-08-03T08:44:10.020038",
     "exception": false,
     "start_time": "2025-08-03T08:44:08.024423",
     "status": "completed"
    },
    "tags": []
   },
   "outputs": [
    {
     "name": "stdout",
     "output_type": "stream",
     "text": [
      "Status Code: 200\n",
      "Response Headers: {'Server': 'nginx', 'Date': 'Sun, 03 Aug 2025 08:44:09 GMT', 'Content-Type': 'text/html; charset=UTF-8', 'Transfer-Encoding': 'chunked', 'Vary': 'Accept-Encoding, User-Agent', 'Set-Cookie': 'FRSPSID=e05nron9oa31udh4k1lp4fcjl3; path=/; domain=.sprzedajemy.pl; secure; HttpOnly, _items_per_page__offer_list=60; expires=Tue, 02-Sep-2025 08:44:09 GMT; Max-Age=2592000; path=/; domain=.sprzedajemy.pl; secure; httponly, observed_id=1390810710688f215994feb597658612400348414; expires=Fri, 03-Aug-2125 09:44:09 GMT; Max-Age=3155677200; path=/; domain=.sprzedajemy.pl; secure; httponly', 'Expires': 'Thu, 19 Nov 1981 08:52:00 GMT', 'Cache-Control': 'no-store, no-cache, must-revalidate, post-check=0, pre-check=0', 'Pragma': 'no-cache', 'Content-Encoding': 'gzip'}\n",
      "Response Text (first 2000 chars): <!DOCTYPE html><html xmlns=\"http://www.w3.org/1999/xhtml\" xml:lang=\"pl\" lang=\"pl\" class=\"no-js\" >\n",
      "<head>\n",
      "\t\t\t<!-- Google Tag Manager -->\n",
      "\t\t\t<script>(function(w,d,s,l,i){w[l]=w[l]||[];w[l].push({'gtm.start':\n",
      "\t\t\t\t\t\tnew Date().getTime(),event:'gtm.js'});var f=d.getElementsByTagName(s)[0],\n",
      "\t\t\t\t\tj=d.createElement(s),dl=l!='dataLayer'?'&l='+l:'';j.async=true;j.src=\n",
      "\t\t\t\t\t'https://www.googletagmanager.com/gtm.js?id='+i+dl\n",
      "\t\t\t\t\t\t\t\t\t    ;f.parentNode.insertBefore(j,f);\n",
      "\t\t\t\t    })(window,document,'script','dataLayer','GTM-P3S238');</script>\n",
      "\t\t\t<!-- End Google Tag Manager -->\n",
      "\t<title>Mieszkania Kraków na sprzedaż, wynajem - Sprzedajemy.pl</title><meta http-equiv=\"Content-Type\" content=\"text/html; charset=UTF-8\" >\n",
      "<meta http-equiv=\"X-UA-Compatible\" content=\"IE=edge\" >\n",
      "<meta name=\"description\" content=\"Ogłoszenia o tematyce:  w kategorii Mieszkania - Kupuj i sprzedawaj rzeczy używane i nowe w kategorii Mieszkania na Sprzedajemy.pl\" >\n",
      "<meta property=\"og:title\" content=\"Mieszkania Kraków na sprzedaż, wynajem - Sprzedajemy.pl\" >\n",
      "<meta property=\"og:type\" content=\"website\" >\n",
      "<meta property=\"og:image\" content=\"https://thumbs.img-sprzedajemy.pl/facebook/sprzedajemy.pl.png\" >\n",
      "<meta property=\"og:image:width\" content=\"200\" >\n",
      "<meta property=\"og:image:height\" content=\"200\" >\n",
      "<meta property=\"og:url\" content=\"https://sprzedajemy.pl/krakow/nieruchomosci/mieszkania\" >\n",
      "<meta property=\"og:site_name\" content=\"Sprzedajemy.pl\" >\n",
      "<meta property=\"fb:app_id\" content=\"173258269367442\" >\n",
      "<meta property=\"og:description\" content=\"Ogłoszenia o tematyce:  w kategorii Mieszkania - Kupuj i sprzedawaj rzeczy używane i nowe w kategorii Mieszkania na Sprzedajemy.pl\" >\n",
      "<meta name=\"robots\" content=\"noindex, follow\" >\t\t<script  async=\"async\" src=\"https://static.criteo.net/js/ld/publishertag.js\"></script>\n",
      "        <script  async=\"async\" src=\"https://ap.lijit.com/www/sovrn_beacon_standalone/sovrn_standalone_beacon.js?iid=13417409&amp;uid=sprzedajemy\" id=\"sBeacon\"></script>\n",
      "\t\t<script  async=\"async\" src=\"https://securepuba\n",
      "Titles: ['4pokoje 68m2 balkon KLIMA Śródmieście BEZ PROWIZJI od właściciela', 'Mieszkanie na sprzedaż/zamiana 39m2', 'Mieszkanie Wola Justowska /Bielany 36m2', 'Mieszkanie 3-pokojowe. Duży balkon. Dobra komunikacja, Od właściciela', 'Dom - Kraków Tonie - Zielona okolica - 123 m2 | 5 - pok. | Ogród | Taras |…', 'Nowoczesny apartament z panoramicznym widokiem - od właściciela', 'Wyjątkowe mieszkanie z widokiem na klasztor w Tyńcu i panoramę Tatr', 'Stylowy apartament z widokiem na panoramę Krakowa - od właściciela', 'Kraków, Stare Miasto sprzedaż/zamiana', '3-pokojowe na Powstańców na sprzedaż!', 'Mieszkanie, w Kamienicy po remoncie na rogu ul. Jana Sobieskiego', 'Wyjątkowe 3 pokoje 60 m² w Krakowie-Bronowicach | Premium | Gotowe!', '2-pokojowe mieszkanie na Zabłociu – ciche, świetna lokalizacja! [Wirtualny…', 'Apartament 45 m2, Kraków Ruczaj HSBC SHELL MOTOROLA', '3 pok. Wieliczka Park, msc. post., wysoki standard', 'Mieszkanie na wynajem', 'Mieszkanie Os. Avia Kraków, widok na góry', 'Mieszkanie 71.27m2 4 pokoje Kraków Stefana Banacha', 'Stare Miasto 32m2 KLIMA Wawel wykończone Kazimierz wysokie ROI', 'Kraków Stare Miasto 62 m2 KLIMA Wawel wykończone Kazimierz INWESTYCYJNE', 'Pet Friendly - mieszkanie do wynajęcia na Czyżynach 30m² od zaraz', '2 POKOJE z klimatem | Dąbska | TAURON Arena | Balkon', 'Nowoczesne 3-pokojowe mieszkanie 48 m² – Pachońskiego / od zaraz', 'Mieszkanie 54.87m2 Kraków', 'Mieszkanie 50m 2 pokoje Kraków', '2 pokoje z garderobą - bez barier - bez prowizji!', '2- pokojowe mieszkanie | K. Kołłątajowskiej | 57m2', 'Mieszkanie Ruczaj Bobrzynskiego', 'Piękne 3 pokojowe mieszkanie z widokiem na Park Orlińskiego / Avia', '2-pokojowe mieszkanie po remoncie | PROMOCJA | ul Bronowicka', 'Mieszkanie 3 pokojowe, Galicyjska Kraków Czyżyny, 61m2', 'Mieszkanie do sprzedania Kraków 20m2 1 pokojowe', 'wynajme 2 pok z aneksem 34m, os Dywizjonu 303 , od wlasciciela', 'Oferta wynajmu mieszkania Kraków 35m2 2-pok', 'Na sprzedaż mieszkanie | Wiślane Tarasy | 44,3 m²', 'Mieszkanie Kraków Dr. Piltza 45m2 2 pokoje', 'Oddzielna kuchnia,balkon,piwnica,Rezerwacja', 'Mieszkanie Kraków Bartosza Głowackiego 34.11m2 1 pokój', 'Mieszkanie 34m2 1 pokój Kraków Śliczna', 'Mieszkanie Kraków 61.9m2 3 pokojowe', 'Mieszkanie Kraków Krupnicza 32m2 1 pokojowe', 'Oferta sprzedaży mieszkania Kraków Macieja Dębskiego 49.93 metry 3-pokojowe', 'Dom modułowy prefabrykowany Dubai Prestige', 'Mieszkanie Kraków 50.02m2 3 pokoje', 'Mieszkanie Kraków 51.71m2 3 pokojowe', 'Oferta sprzedaży mieszkania Kraków Torfowa 60.85m2 4 pokoje', 'Mieszkanie 98 metrów 3 pokoje Kraków Bolesława Komorowskiego', 'Kraków – 3 pokojowy apartament na sprzedaż na kameralnym osiedlu', 'Mieszkanie 51.71m2 3 pokoje Kraków al. 29 Listopada', 'Mieszkanie 38.4m2 2 pokojowe Kraków', 'Mieszkanie 113m2 5-pok Kraków Kazimierza Pułaskiego', 'Mieszkanie Kraków 51.92m2 2 pokojowe', 'Oferta sprzedaży mieszkania 182.9m2 4-pokojowe Kraków', 'Mieszkanie 59.3m2 2 pok Kraków Kotlarska', 'Mieszkanie Kraków 57.13m2 4-pokojowe', '2 Pokoje aneks luksusowe Kazimierz blisko Bulwarów', 'Kraków – 2 pokojowy apartament w wysokim standardzie Piasta Towers', 'Mieszkanie 64m2 3 pokoje Kraków', 'Mieszkanie do wynajęcia', 'Mieszkanie Kraków Macieja Dębskiego 114 metry 4 pokoje']\n",
      "60\n",
      "Prices: ['1 850 000 zł', '526 000 zł', '487 000 zł', '3 500 zł', '2 275 000 zł', '997 000 zł', '779 000 zł', '897 000 zł', '2 153 000 zł', '675 000 zł', '886 000 zł', '1 220 000 zł', '499 000 zł', '3 100 zł', '840 000 zł', '2 500 zł', '998 000 zł', '1 299 000 zł', '989 000 zł', '1 828 000 zł', '2 050 zł', '3 700 zł', '3 500 zł', '819 000 zł', '710 000 zł', '630 000 zł', '645 000 zł', '580 000 zł', '3 700 zł', '699 999 zł', '1 067 500 zł', '319 000 zł', '2 200 zł', '2 000 zł', '999 000 zł', '3 600 zł', '358 000 zł', '648 000 zł', '1 800 zł', '780 000 zł', '2 700 zł', '649 000 zł', '580 000 zł', '785 000 zł', '3 500 zł', '819 000 zł', '6 300 zł', '999 000 zł', '925 000 zł', '2 900 zł', '1 810 000 zł', '3 500 zł', '3 900 000 zł', '859 000 zł', '920 000 zł', '999 000 zł', '799 000 zł', '786 643 zł', '2 500 zł', '990 000 zł']\n",
      "60\n"
     ]
    }
   ],
   "source": [
    "import requests\n",
    "from bs4 import BeautifulSoup\n",
    "import pandas as pd\n",
    "import os\n",
    "\n",
    "url = \"https://sprzedajemy.pl/krakow/nieruchomosci/mieszkania?offset=0&items_per_page=60\"\n",
    "\n",
    "headers = {\n",
    "    \"User-Agent\": \"Mozilla/5.0 (Windows NT 10.0; Win64; x64) AppleWebKit/537.36 (KHTML, like Gecko) Chrome/58.0.3029.110 Safari/537.36\",\n",
    "    \"Accept\": \"text/html,application/xhtml+xml,application/xml;q=0.9,image/webp,image/apng,*/*;q=0.8\",\n",
    "    \"Accept-Encoding\": \"gzip, deflate, br\",\n",
    "    \"Accept-Language\": \"en-US,en;q=0.9,pl;q=0.8\",\n",
    "    \"Connection\": \"keep-alive\"\n",
    "}\n",
    "\n",
    "response = requests.get(url, headers=headers)\n",
    "response = requests.get(url, headers=headers)\n",
    "\n",
    "# Debugowanie odpowiedzi\n",
    "print(f\"Status Code: {response.status_code}\")\n",
    "print(f\"Response Headers: {response.headers}\")\n",
    "print(f\"Response Text (first 2000 chars): {response.text[:2000]}\")\n",
    "\n",
    "# Jeśli odpowiedź jest poprawna, wykonaj webscraping\n",
    "if response.status_code == 200:\n",
    "    soup = BeautifulSoup(response.content, \"html.parser\")\n",
    "\n",
    "    # Pobieranie ofert mieszkań\n",
    "    titles = [h2.a.text.strip() for h2 in soup.find_all(\"h2\", class_=\"title\") if h2.a]\n",
    "    prices = [p.text.replace(\"\\xa0\", \" \").strip() for p in soup.find_all(\"span\", class_=\"price\")]\n",
    "\n",
    "    print(\"Titles:\", titles)\n",
    "    print(len(titles))\n",
    "    print(\"Prices:\", prices)\n",
    "    print(len(prices))\n",
    "\n",
    "    df = pd.DataFrame({\"Title\": titles, \"Price\": prices})\n",
    "\n",
    "    # Dopisanie do pliku CSV\n",
    "    df.to_csv(\"scraped_data.csv\", mode='a', header=not os.path.exists('scraped_data.csv'), index=False)\n",
    "else:\n",
    "    print(\"Failed to retrieve data.\")\n"
   ]
  }
 ],
 "metadata": {
  "colab": {
   "provenance": []
  },
  "kernelspec": {
   "display_name": "Python 3",
   "name": "python3"
  },
  "language_info": {
   "codemirror_mode": {
    "name": "ipython",
    "version": 3
   },
   "file_extension": ".py",
   "mimetype": "text/x-python",
   "name": "python",
   "nbconvert_exporter": "python",
   "pygments_lexer": "ipython3",
   "version": "3.9.23"
  },
  "papermill": {
   "default_parameters": {},
   "duration": 3.088619,
   "end_time": "2025-08-03T08:44:10.236501",
   "environment_variables": {},
   "exception": null,
   "input_path": "nb.ipynb",
   "output_path": "nbo.ipynb",
   "parameters": {},
   "start_time": "2025-08-03T08:44:07.147882",
   "version": "2.6.0"
  }
 },
 "nbformat": 4,
 "nbformat_minor": 5
}