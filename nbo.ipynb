{
 "cells": [
  {
   "cell_type": "code",
   "execution_count": 1,
   "id": "9aef9e8e",
   "metadata": {
    "colab": {
     "base_uri": "https://localhost:8080/"
    },
    "execution": {
     "iopub.execute_input": "2025-07-25T15:51:59.638496Z",
     "iopub.status.busy": "2025-07-25T15:51:59.638212Z",
     "iopub.status.idle": "2025-07-25T15:52:01.865933Z",
     "shell.execute_reply": "2025-07-25T15:52:01.865224Z"
    },
    "id": "5pYh4c8j1w43",
    "outputId": "8a0dca73-64e5-4f0d-c493-2c5b38392363",
    "papermill": {
     "duration": 2.231409,
     "end_time": "2025-07-25T15:52:01.867086",
     "exception": false,
     "start_time": "2025-07-25T15:51:59.635677",
     "status": "completed"
    },
    "tags": []
   },
   "outputs": [
    {
     "name": "stdout",
     "output_type": "stream",
     "text": [
      "Status Code: 200\n",
      "Response Headers: {'Server': 'nginx', 'Date': 'Fri, 25 Jul 2025 15:52:01 GMT', 'Content-Type': 'text/html; charset=UTF-8', 'Transfer-Encoding': 'chunked', 'Vary': 'Accept-Encoding, User-Agent', 'Set-Cookie': 'FRSPSID=99mlhe0o59ed81hq9jvudfno86; path=/; domain=.sprzedajemy.pl; secure; HttpOnly, _items_per_page__offer_list=60; expires=Sun, 24-Aug-2025 15:52:01 GMT; Max-Age=2592000; path=/; domain=.sprzedajemy.pl; secure; httponly, observed_id=11902084646883a8216178f4209119545427174048; expires=Wed, 25-Jul-2125 16:52:01 GMT; Max-Age=3155677200; path=/; domain=.sprzedajemy.pl; secure; httponly', 'Expires': 'Thu, 19 Nov 1981 08:52:00 GMT', 'Cache-Control': 'no-store, no-cache, must-revalidate, post-check=0, pre-check=0', 'Pragma': 'no-cache', 'Content-Encoding': 'gzip'}\n",
      "Response Text (first 2000 chars): <!DOCTYPE html><html xmlns=\"http://www.w3.org/1999/xhtml\" xml:lang=\"pl\" lang=\"pl\" class=\"no-js\" >\n",
      "<head>\n",
      "\t\t\t<!-- Google Tag Manager -->\n",
      "\t\t\t<script>(function(w,d,s,l,i){w[l]=w[l]||[];w[l].push({'gtm.start':\n",
      "\t\t\t\t\t\tnew Date().getTime(),event:'gtm.js'});var f=d.getElementsByTagName(s)[0],\n",
      "\t\t\t\t\tj=d.createElement(s),dl=l!='dataLayer'?'&l='+l:'';j.async=true;j.src=\n",
      "\t\t\t\t\t'https://www.googletagmanager.com/gtm.js?id='+i+dl\n",
      "\t\t\t\t\t\t\t\t\t    ;f.parentNode.insertBefore(j,f);\n",
      "\t\t\t\t    })(window,document,'script','dataLayer','GTM-P3S238');</script>\n",
      "\t\t\t<!-- End Google Tag Manager -->\n",
      "\t<title>Mieszkania Kraków na sprzedaż, wynajem - Sprzedajemy.pl</title><meta http-equiv=\"Content-Type\" content=\"text/html; charset=UTF-8\" >\n",
      "<meta http-equiv=\"X-UA-Compatible\" content=\"IE=edge\" >\n",
      "<meta name=\"description\" content=\"Ogłoszenia o tematyce:  w kategorii Mieszkania - Kupuj i sprzedawaj rzeczy używane i nowe w kategorii Mieszkania na Sprzedajemy.pl\" >\n",
      "<meta property=\"og:title\" content=\"Mieszkania Kraków na sprzedaż, wynajem - Sprzedajemy.pl\" >\n",
      "<meta property=\"og:type\" content=\"website\" >\n",
      "<meta property=\"og:image\" content=\"https://thumbs.img-sprzedajemy.pl/facebook/sprzedajemy.pl.png\" >\n",
      "<meta property=\"og:image:width\" content=\"200\" >\n",
      "<meta property=\"og:image:height\" content=\"200\" >\n",
      "<meta property=\"og:url\" content=\"https://sprzedajemy.pl/krakow/nieruchomosci/mieszkania\" >\n",
      "<meta property=\"og:site_name\" content=\"Sprzedajemy.pl\" >\n",
      "<meta property=\"fb:app_id\" content=\"173258269367442\" >\n",
      "<meta property=\"og:description\" content=\"Ogłoszenia o tematyce:  w kategorii Mieszkania - Kupuj i sprzedawaj rzeczy używane i nowe w kategorii Mieszkania na Sprzedajemy.pl\" >\n",
      "<meta name=\"robots\" content=\"noindex, follow\" >\t\t<script  async=\"async\" src=\"https://static.criteo.net/js/ld/publishertag.js\"></script>\n",
      "        <script  async=\"async\" src=\"https://ap.lijit.com/www/sovrn_beacon_standalone/sovrn_standalone_beacon.js?iid=13417409&amp;uid=sprzedajemy\" id=\"sBeacon\"></script>\n",
      "\t\t<script  async=\"async\" src=\"https://securepuba\n"
     ]
    },
    {
     "name": "stdout",
     "output_type": "stream",
     "text": [
      "Titles: ['Mieszkanie na sprzedaż/zamiana 39m2', 'Mieszkanie Wola Justowska /Bielany 36m2', 'Nowoczesny apartament z panoramicznym widokiem - od właściciela', 'Wyjątkowe mieszkanie z widokiem na klasztor w Tyńcu i panoramę Tatr', 'Stylowy apartament z widokiem na panoramę Krakowa - od właściciela', 'Kraków, Stare Miasto sprzedaż/zamiana', '2-pokojowe mieszkanie na Zabłociu – ciche, świetna lokalizacja! [Wirtualny…', '4pokoje 68m2 balkon KLIMA Śródmieście BEZ PROWIZJI od właściciela', 'Dom - Kraków Tonie - Zielona okolica - 123 m2 | 5 - pok. | Ogród | Taras |…', 'Wzgórza Krzesławickie 5 pokoi, garaż', 'CENTRUM_Pełne wyposażenie_Balkon_NOWE', 'Mieszkanie Kraków Rusznikarska 69.5 metrów 3-pokojowe', 'Os. Centrum A - mieszkanie 2 pokoje, jasna kuchnia', 'Ogłoszenie mieszkanie Kraków 43.42m2', 'Mieszkanie 94.61 metrów 4 pokojowe Kraków Olszanicka', 'Mieszkanie 62.7m2 3 pokojowe Kraków Dywizjonu 303', 'Mieszkanie 50.23m2 3 pokoje Kraków', 'Mieszkanie 48.2m Kraków', 'Mieszkanie do sprzedania Kraków 34.79m2 2-pok', 'Mieszkanie Kraków Pękowicka 51.64m2 3-pokojowe', 'Mieszkanie na sprzedaż 96.96m2 3-pok Kraków Na Błonie', 'Sprzedam mieszkanie 35.26m2 2-pok Kraków 29 listopada - okolice', 'Oferta sprzedaży mieszkania Kraków Pękowicka 62.77m2 4 pokojowe', 'Mieszkanie 124.37m2 4 pokoje Kraków Podłużna - okolice', 'Oferta sprzedaży mieszkania Kraków 79.3m2 3 pok', 'Mieszkanie Kraków Na Błonie 26.73m2 1-pokojowe', 'Mieszkanie sprzedam Kraków Dąbrowskiego 41.3m2 2-pokojowe', 'Mieszkanie sprzedam 57.14m2 3 pok Kraków Chełmońskiego', 'Mieszkanie 72.4m2 3-pok Kraków Babińskiego', 'Mieszkanie Kraków Heleny 50m2', 'Mieszkanie do sprzedania Kraków 39.43m2 2 pokoje', 'Mieszkanie 56.92m 3 pokoje Kraków', 'Mieszkanie 66m2 3-pok Kraków Komuny Paryskiej', 'Oferta sprzedaży mieszkania Kraków Wadowicka 43.35m2 2-pok', 'Mieszkanie sprzedam 80.38m2 Kraków', 'Mieszkanie 51.42m2 3-pok Kraków Kantrowicka', 'Mieszkanie Kraków Pękowicka 43.45m2 2 pokoje', 'Mieszkanie 70.96m2 3 pokoje Kraków Walerego Sławka', 'Mieszkanie Kraków Dąbrowskiego 58.2m2 3 pokoje', 'Mieszkanie 45.57m2 2-pokojowe Kraków', 'Mieszkanie do sprzedania 35.05m2 Kraków 29 listopada - okolice', 'Mieszkanie Kraków Pękowicka 35.37m2 2 pokoje', 'Oferta sprzedaży mieszkania Kraków Babińskiego 33.25m2 1-pokojowe', 'Mieszkanie na wynajem Kraków 20.81m2 1 pok', 'Oferta sprzedaży mieszkania 36.21m2 2-pok Kraków', 'Mieszkanie 26.07m2 Kraków Skałeczna', 'Oferta sprzedaży mieszkania 43.35m2 2 pokojowe Kraków', 'Mieszkanie 72.4m2 Kraków Babińskiego', 'Mieszkanie 65m2 3 pok Kraków', 'Mieszkanie Kraków Wadowicka 44.95 metrów 2 pok', 'Sprzedaż mieszkania Kraków 72.4m2 3 pokoje', 'Oferta sprzedaży mieszkania 43.35m2 2 pokojowe Kraków Wadowicka', 'Mieszkanie do sprzedania Kraków 116.81m2 4 pokojowe', 'Mieszkanie na sprzedaż 67.37 metrów 3-pokojowe Kraków Borowego', 'Sprzedam mieszkanie 26.73m2 1 pokój Kraków', 'Mieszkanie 48.59 metrów 3 pokojowe Kraków Piasta Kołodzieja', 'Sprzedaż mieszkania 38.16m2 2-pokojowe Kraków Na Błonie', 'Oferta sprzedaży mieszkania 51.55m2 3 pokoje Kraków Pękowicka', 'Sprzedaż mieszkania Kraków Pękowicka 40m2 2 pokoje', 'Oferta sprzedaży mieszkania 38.55m2 Kraków Pękowicka']\n",
      "60\n",
      "Prices: ['526 000 zł', '487 000 zł', '997 000 zł', '779 000 zł', '897 000 zł', '2 153 000 zł', '499 000 zł', '1 850 000 zł', '2 275 000 zł', '1 199 000 zł', '2 500 zł', '3 000 zł', '695 000 zł', '700 000 zł', '1 336 358 zł', '3 000 zł', '708 243 zł', '797 710 zł', '504 455 zł', '852 060 zł', '1 639 981 zł', '645 875 zł', '1 013 735 zł', '2 176 475 zł', '1 308 450 zł', '565 045 zł', '969 189 zł', '912 000 zł', '1 245 280 zł', '660 000 zł', '670 310 zł', '1 043 059 zł', '1 045 000 zł', '806 310 zł', '1 210 000 zł', '668 460 zł', '712 580 zł', '1 419 000 zł', '1 123 888 zł', '699 000 zł', '653 292 zł', '601 290 zł', '628 425 zł', '2 600 zł', '615 570 zł', '614 000 zł', '788 970 zł', '1 194 600 zł', '1 099 000 zł', '822 585 zł', '1 295 960 zł', '806 310 zł', '1 711 261 zł', '1 379 000 zł', '565 045 zł', '699 696 zł', '770 030 zł', '847 997 zł', '786 000 zł', '653 422 zł']\n",
      "60\n"
     ]
    }
   ],
   "source": [
    "import requests\n",
    "from bs4 import BeautifulSoup\n",
    "import pandas as pd\n",
    "import os\n",
    "\n",
    "url = \"https://sprzedajemy.pl/krakow/nieruchomosci/mieszkania?offset=0&items_per_page=60\"\n",
    "\n",
    "headers = {\n",
    "    \"User-Agent\": \"Mozilla/5.0 (Windows NT 10.0; Win64; x64) AppleWebKit/537.36 (KHTML, like Gecko) Chrome/58.0.3029.110 Safari/537.36\",\n",
    "    \"Accept\": \"text/html,application/xhtml+xml,application/xml;q=0.9,image/webp,image/apng,*/*;q=0.8\",\n",
    "    \"Accept-Encoding\": \"gzip, deflate, br\",\n",
    "    \"Accept-Language\": \"en-US,en;q=0.9,pl;q=0.8\",\n",
    "    \"Connection\": \"keep-alive\"\n",
    "}\n",
    "\n",
    "response = requests.get(url, headers=headers)\n",
    "response = requests.get(url, headers=headers)\n",
    "\n",
    "# Debugowanie odpowiedzi\n",
    "print(f\"Status Code: {response.status_code}\")\n",
    "print(f\"Response Headers: {response.headers}\")\n",
    "print(f\"Response Text (first 2000 chars): {response.text[:2000]}\")\n",
    "\n",
    "# Jeśli odpowiedź jest poprawna, wykonaj webscraping\n",
    "if response.status_code == 200:\n",
    "    soup = BeautifulSoup(response.content, \"html.parser\")\n",
    "\n",
    "    # Pobieranie ofert mieszkań\n",
    "    titles = [h2.a.text.strip() for h2 in soup.find_all(\"h2\", class_=\"title\") if h2.a]\n",
    "    prices = [p.text.replace(\"\\xa0\", \" \").strip() for p in soup.find_all(\"span\", class_=\"price\")]\n",
    "\n",
    "    print(\"Titles:\", titles)\n",
    "    print(len(titles))\n",
    "    print(\"Prices:\", prices)\n",
    "    print(len(prices))\n",
    "\n",
    "    df = pd.DataFrame({\"Title\": titles, \"Price\": prices})\n",
    "\n",
    "    # Dopisanie do pliku CSV\n",
    "    df.to_csv(\"scraped_data.csv\", mode='a', header=not os.path.exists('scraped_data.csv'), index=False)\n",
    "else:\n",
    "    print(\"Failed to retrieve data.\")\n"
   ]
  }
 ],
 "metadata": {
  "colab": {
   "provenance": []
  },
  "kernelspec": {
   "display_name": "Python 3",
   "name": "python3"
  },
  "language_info": {
   "codemirror_mode": {
    "name": "ipython",
    "version": 3
   },
   "file_extension": ".py",
   "mimetype": "text/x-python",
   "name": "python",
   "nbconvert_exporter": "python",
   "pygments_lexer": "ipython3",
   "version": "3.9.23"
  },
  "papermill": {
   "default_parameters": {},
   "duration": 3.330592,
   "end_time": "2025-07-25T15:52:02.083467",
   "environment_variables": {},
   "exception": null,
   "input_path": "nb.ipynb",
   "output_path": "nbo.ipynb",
   "parameters": {},
   "start_time": "2025-07-25T15:51:58.752875",
   "version": "2.6.0"
  }
 },
 "nbformat": 4,
 "nbformat_minor": 5
}