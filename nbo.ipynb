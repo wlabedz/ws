{
 "cells": [
  {
   "cell_type": "code",
   "execution_count": 1,
   "id": "c73ef851",
   "metadata": {
    "colab": {
     "base_uri": "https://localhost:8080/"
    },
    "execution": {
     "iopub.execute_input": "2025-09-05T19:29:06.000538Z",
     "iopub.status.busy": "2025-09-05T19:29:06.000217Z",
     "iopub.status.idle": "2025-09-05T19:29:08.352055Z",
     "shell.execute_reply": "2025-09-05T19:29:08.351293Z"
    },
    "id": "5pYh4c8j1w43",
    "outputId": "8a0dca73-64e5-4f0d-c493-2c5b38392363",
    "papermill": {
     "duration": 2.355342,
     "end_time": "2025-09-05T19:29:08.353187",
     "exception": false,
     "start_time": "2025-09-05T19:29:05.997845",
     "status": "completed"
    },
    "tags": []
   },
   "outputs": [
    {
     "name": "stdout",
     "output_type": "stream",
     "text": [
      "Status Code: 200\n",
      "Response Headers: {'Server': 'nginx', 'Date': 'Fri, 05 Sep 2025 19:29:08 GMT', 'Content-Type': 'text/html; charset=UTF-8', 'Transfer-Encoding': 'chunked', 'Vary': 'Accept-Encoding, User-Agent', 'Set-Cookie': 'FRSPSID=0dsklsivaqng6ts127j843ono5; path=/; domain=.sprzedajemy.pl; secure; HttpOnly, _items_per_page__offer_list=60; expires=Sun, 05-Oct-2025 19:29:07 GMT; Max-Age=2592000; path=/; domain=.sprzedajemy.pl; secure; httponly, observed_id=122032783968bb3a03e5fd8961643084393691721; expires=Wed, 05-Sep-2125 20:29:07 GMT; Max-Age=3155677200; path=/; domain=.sprzedajemy.pl; secure; httponly', 'Expires': 'Thu, 19 Nov 1981 08:52:00 GMT', 'Cache-Control': 'no-store, no-cache, must-revalidate, post-check=0, pre-check=0', 'Pragma': 'no-cache', 'Content-Encoding': 'gzip'}\n",
      "Response Text (first 2000 chars): <!DOCTYPE html><html xmlns=\"http://www.w3.org/1999/xhtml\" xml:lang=\"pl\" lang=\"pl\" class=\"no-js\" >\n",
      "<head>\n",
      "\t\t\t<!-- Google Tag Manager -->\n",
      "\t\t\t<script>(function(w,d,s,l,i){w[l]=w[l]||[];w[l].push({'gtm.start':\n",
      "\t\t\t\t\t\tnew Date().getTime(),event:'gtm.js'});var f=d.getElementsByTagName(s)[0],\n",
      "\t\t\t\t\tj=d.createElement(s),dl=l!='dataLayer'?'&l='+l:'';j.async=true;j.src=\n",
      "\t\t\t\t\t'https://www.googletagmanager.com/gtm.js?id='+i+dl\n",
      "\t\t\t\t\t\t\t\t\t    ;f.parentNode.insertBefore(j,f);\n",
      "\t\t\t\t    })(window,document,'script','dataLayer','GTM-P3S238');</script>\n",
      "\t\t\t<!-- End Google Tag Manager -->\n",
      "\t<title>Mieszkania Kraków na sprzedaż, wynajem - Sprzedajemy.pl</title><meta http-equiv=\"Content-Type\" content=\"text/html; charset=UTF-8\" >\n",
      "<meta http-equiv=\"X-UA-Compatible\" content=\"IE=edge\" >\n",
      "<meta name=\"description\" content=\"Ogłoszenia o tematyce:  w kategorii Mieszkania - Kupuj i sprzedawaj rzeczy używane i nowe w kategorii Mieszkania na Sprzedajemy.pl\" >\n",
      "<meta property=\"og:title\" content=\"Mieszkania Kraków na sprzedaż, wynajem - Sprzedajemy.pl\" >\n",
      "<meta property=\"og:type\" content=\"website\" >\n",
      "<meta property=\"og:image\" content=\"https://thumbs.img-sprzedajemy.pl/facebook/sprzedajemy.pl.png\" >\n",
      "<meta property=\"og:image:width\" content=\"200\" >\n",
      "<meta property=\"og:image:height\" content=\"200\" >\n",
      "<meta property=\"og:url\" content=\"https://sprzedajemy.pl/krakow/nieruchomosci/mieszkania\" >\n",
      "<meta property=\"og:site_name\" content=\"Sprzedajemy.pl\" >\n",
      "<meta property=\"fb:app_id\" content=\"173258269367442\" >\n",
      "<meta property=\"og:description\" content=\"Ogłoszenia o tematyce:  w kategorii Mieszkania - Kupuj i sprzedawaj rzeczy używane i nowe w kategorii Mieszkania na Sprzedajemy.pl\" >\n",
      "<meta name=\"robots\" content=\"noindex, follow\" >\t\t<script  async=\"async\" src=\"https://static.criteo.net/js/ld/publishertag.js\"></script>\n",
      "        <script  async=\"async\" src=\"https://ap.lijit.com/www/sovrn_beacon_standalone/sovrn_standalone_beacon.js?iid=13417409&amp;uid=sprzedajemy\" id=\"sBeacon\"></script>\n",
      "\t\t<script  async=\"async\" src=\"https://securepuba\n",
      "Titles: ['Mieszkanie z widokiem na góry', 'Wyjątkowe mieszkanie z widokiem na klasztor w Tyńcu i panoramę Tatr', 'Stylowy apartament z widokiem na panoramę Krakowa - od właściciela', 'Nowoczesny apartament z panoramicznym widokiem - od właściciela', 'Kraków, Stare Miasto sprzedaż/zamiana', 'Stylowy lokal na parterze przy Krowoderskiej', '2-pokojowe mieszkanie po remoncie | PROMOCJA | ul Bronowicka', 'Oferta sprzedaży mieszkania Kraków 62.19m2 3 pokojowe', 'Mieszkanie Kraków os. Strusia 36.6m2 2 pokoje', 'Mieszkanie 33.3m2 2 pok Kraków', 'Mieszkanie 62.19m2 3 pok Kraków Jasnogórska', 'Mieszkanie Kraków 62.19m2 3 pokojowe', 'Mieszkanie sprzedam 38.69m2 2 pokoje Kraków', 'Mieszkanie 51m2 2 pok Kraków', 'Mieszkanie 34m2 1 pok Kraków Topolowa', 'Mieszkanie 54.5m2 2-pokojowe Kraków os. Spółdzielcze', 'Mieszkanie 41.97m2 1 pokojowe Kraków Kątowa', 'Mieszkanie Kraków Jasnogórska 62.19m2 3-pokojowe', 'Mieszkanie Kraków Imbramowska 38.69m2 4 pokoje', 'Przytulne Mieszkanie od właściciela Piaski Nowe Kraków', 'Mieszkanie Kraków Obozowa 75.6m2 3-pok', 'Mieszkanie 55m2 3 pokoje Kraków os. Na Stoku', 'Mieszkanie 573.12m2 2 pokoje Kraków Józefińska', 'Oferta sprzedaży mieszkania 38.69m2 2-pokojowe Kraków Imbramowska', 'Mieszkanie na sprzedaż 63.64m2 4 pokoje Kraków Krowoderskich Zuchów', 'Mieszkanie Kraków Przemysłowa 64m2 2 pokojowe', 'Mieszkanie Kraków Babińskiego 82.96m2 3-pokojowe', 'Mieszkanie Kraków Strzelców 46.01m2 2 pok', 'Mieszkanie Kraków Jana Pawła II 32.54m2 1 pokój', 'Mieszkanie 44m2 Kraków', 'Mieszkanie 38.69m2 3-pokojowe Kraków Imbramowska', 'Do wynajęcia mieszkanie 53m2 2 pokoje Kraków Chmieleniec', 'Mieszkanie 105m2 4 pokoje Kraków', 'Mieszkanie Kraków Zdrowa 40.29m2 2 pokoje', 'Mieszkanie Kraków Odrzańska 46.36 metrów 3-pok', 'Mieszkanie 62.7m2 3 pokojowe Kraków Dywizjonu 303', 'Mieszkanie Kraków Pękowicka 35.37m2 2 pokoje', 'Mieszkanie 69.31m2 3-pokojowe Kraków Wadowicka', 'Do wynajęcia mieszkanie Kraków Romanowicza 35.84m2 2 pokojowe', 'Mieszkanie na sprzedaż 67.37 metrów 3-pokojowe Kraków Borowego', 'Mieszkanie Kraków Kantrowicka 35.05m2', 'Sprzedaż mieszkania 79.3m2 Kraków Babińskiego', 'Mieszkanie sprzedam 57.14m2 3 pok Kraków Chełmońskiego', 'Mieszkanie 51.42m2 3-pok Kraków Kantrowicka', 'Mieszkanie Kraków Romanowicza 35.94m2', 'Oferta sprzedaży mieszkania 34m2 2 pok Kraków os. Sportowe', 'Mieszkanie Kraków Pękowicka 43.45m2 2 pokoje', 'Mieszkanie do sprzedania Kraków 39.43m2 2 pokoje', 'Mieszkanie Kraków Pękowicka 62.4m2 4-pokojowe', 'Oferta sprzedaży mieszkania 77.12m2 3-pokojowe Kraków Reduta', 'Oferta sprzedaży mieszkania Kraków Wadowicka 43.35m2 2-pok', 'Mieszkanie do sprzedania 46.66 metrów 2 pokojowe Kraków Babińskiego', 'Mieszkanie 75.19m2 4 pokojowe Kraków Wadowicka', 'Oferta sprzedaży mieszkania Kraków Fabryczna 58.65m2 2 pokoje', 'Mieszkanie Kraków 27.25m2', 'Oferta sprzedaży mieszkania 37.8m2 2 pokoje Kraków Na Błonie', 'Mieszkanie 63.68m2 4 pok Kraków', 'Oferta sprzedaży mieszkania 53.24m2 2 pokoje Kraków Pękowicka', 'Sprzedam mieszkanie Kraków Wadowicka 51.71 metrów 2 pokoje', 'Mieszkanie 72.4m2 3-pok Kraków Babińskiego']\n",
      "60\n",
      "Prices: ['265 000 zł', '779 000 zł', '890 000 zł', '997 000 zł', '2 083 000 zł', '1 800 000 zł', '710 000 zł', '858 222 zł', '590 000 zł', '790 000 zł', '870 660 zł', '870 660 zł', '718 350 zł', '1 699 000 zł', '525 000 zł', '609 000 zł', '899 000 zł', '858 222 zł', '1 000 054 zł', '585 000 zł', '1 150 000 zł', '730 000 zł', '8 000 000 zł', '707 078 zł', '819 000 zł', '3 700 zł', '1 484 984 zł', '780 000 zł', '640 000 zł', '2 900 zł', '873 810 zł', '2 800 zł', '1 700 000 zł', '699 000 zł', '685 000 zł', '3 000 zł', '601 290 zł', '1 164 408 zł', '3 020 zł', '1 379 000 zł', '499 462 zł', '1 308 450 zł', '912 000 zł', '635 987 zł', '3 030 zł', '429 000 zł', '712 580 zł', '670 310 zł', '1 004 640 zł', '1 350 000 zł', '806 310 zł', '835 214 zł', '1 270 711 zł', '914 559 zł', '435 764 zł', '756 529 zł', '1 034 800 zł', '859 826 zł', '889 754 zł', '1 245 280 zł']\n",
      "60\n"
     ]
    }
   ],
   "source": [
    "import requests\n",
    "from bs4 import BeautifulSoup\n",
    "import pandas as pd\n",
    "import os\n",
    "\n",
    "url = \"https://sprzedajemy.pl/krakow/nieruchomosci/mieszkania?offset=0&items_per_page=60\"\n",
    "\n",
    "headers = {\n",
    "    \"User-Agent\": \"Mozilla/5.0 (Windows NT 10.0; Win64; x64) AppleWebKit/537.36 (KHTML, like Gecko) Chrome/58.0.3029.110 Safari/537.36\",\n",
    "    \"Accept\": \"text/html,application/xhtml+xml,application/xml;q=0.9,image/webp,image/apng,*/*;q=0.8\",\n",
    "    \"Accept-Encoding\": \"gzip, deflate, br\",\n",
    "    \"Accept-Language\": \"en-US,en;q=0.9,pl;q=0.8\",\n",
    "    \"Connection\": \"keep-alive\"\n",
    "}\n",
    "\n",
    "response = requests.get(url, headers=headers)\n",
    "response = requests.get(url, headers=headers)\n",
    "\n",
    "# Debugowanie odpowiedzi\n",
    "print(f\"Status Code: {response.status_code}\")\n",
    "print(f\"Response Headers: {response.headers}\")\n",
    "print(f\"Response Text (first 2000 chars): {response.text[:2000]}\")\n",
    "\n",
    "# Jeśli odpowiedź jest poprawna, wykonaj webscraping\n",
    "if response.status_code == 200:\n",
    "    soup = BeautifulSoup(response.content, \"html.parser\")\n",
    "\n",
    "    # Pobieranie ofert mieszkań\n",
    "    titles = [h2.a.text.strip() for h2 in soup.find_all(\"h2\", class_=\"title\") if h2.a]\n",
    "    prices = [p.text.replace(\"\\xa0\", \" \").strip() for p in soup.find_all(\"span\", class_=\"price\")]\n",
    "\n",
    "    print(\"Titles:\", titles)\n",
    "    print(len(titles))\n",
    "    print(\"Prices:\", prices)\n",
    "    print(len(prices))\n",
    "\n",
    "    df = pd.DataFrame({\"Title\": titles, \"Price\": prices})\n",
    "\n",
    "    # Dopisanie do pliku CSV\n",
    "    df.to_csv(\"scraped_data.csv\", mode='a', header=not os.path.exists('scraped_data.csv'), index=False)\n",
    "else:\n",
    "    print(\"Failed to retrieve data.\")\n"
   ]
  }
 ],
 "metadata": {
  "colab": {
   "provenance": []
  },
  "kernelspec": {
   "display_name": "Python 3",
   "name": "python3"
  },
  "language_info": {
   "codemirror_mode": {
    "name": "ipython",
    "version": 3
   },
   "file_extension": ".py",
   "mimetype": "text/x-python",
   "name": "python",
   "nbconvert_exporter": "python",
   "pygments_lexer": "ipython3",
   "version": "3.9.23"
  },
  "papermill": {
   "default_parameters": {},
   "duration": 3.55774,
   "end_time": "2025-09-05T19:29:08.571625",
   "environment_variables": {},
   "exception": null,
   "input_path": "nb.ipynb",
   "output_path": "nbo.ipynb",
   "parameters": {},
   "start_time": "2025-09-05T19:29:05.013885",
   "version": "2.6.0"
  }
 },
 "nbformat": 4,
 "nbformat_minor": 5
}