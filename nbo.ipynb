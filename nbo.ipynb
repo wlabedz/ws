{
 "cells": [
  {
   "cell_type": "code",
   "execution_count": 1,
   "id": "8dbc3890",
   "metadata": {
    "colab": {
     "base_uri": "https://localhost:8080/"
    },
    "execution": {
     "iopub.execute_input": "2025-04-19T15:25:50.742582Z",
     "iopub.status.busy": "2025-04-19T15:25:50.741969Z",
     "iopub.status.idle": "2025-04-19T15:25:53.116880Z",
     "shell.execute_reply": "2025-04-19T15:25:53.116180Z"
    },
    "id": "5pYh4c8j1w43",
    "outputId": "8a0dca73-64e5-4f0d-c493-2c5b38392363",
    "papermill": {
     "duration": 2.378592,
     "end_time": "2025-04-19T15:25:53.118004",
     "exception": false,
     "start_time": "2025-04-19T15:25:50.739412",
     "status": "completed"
    },
    "tags": []
   },
   "outputs": [
    {
     "name": "stdout",
     "output_type": "stream",
     "text": [
      "Status Code: 200\n",
      "Response Headers: {'Server': 'nginx', 'Date': 'Sat, 19 Apr 2025 15:25:52 GMT', 'Content-Type': 'text/html; charset=UTF-8', 'Transfer-Encoding': 'chunked', 'Vary': 'Accept-Encoding, User-Agent', 'Set-Cookie': 'FRSPSID=d62sval6hiv0v48tig0hp7knf7; path=/; domain=.sprzedajemy.pl; secure; HttpOnly, _items_per_page__offer_list=60; expires=Mon, 19-May-2025 15:25:52 GMT; Max-Age=2592000; path=/; domain=.sprzedajemy.pl; secure; httponly, observed_id=4663468426803c080a1bd2389453432508444021; expires=Thu, 19-Apr-2125 16:25:52 GMT; Max-Age=3155677200; path=/; domain=.sprzedajemy.pl; secure; httponly', 'Expires': 'Thu, 19 Nov 1981 08:52:00 GMT', 'Cache-Control': 'no-store, no-cache, must-revalidate, post-check=0, pre-check=0', 'Pragma': 'no-cache', 'Content-Encoding': 'gzip'}\n",
      "Response Text (first 2000 chars): <!DOCTYPE html><html xmlns=\"http://www.w3.org/1999/xhtml\" xml:lang=\"pl\" lang=\"pl\" class=\"no-js\" >\n",
      "<head>\n",
      "\t\t\t<!-- Google Tag Manager -->\n",
      "\t\t\t<script>(function(w,d,s,l,i){w[l]=w[l]||[];w[l].push({'gtm.start':\n",
      "\t\t\t\t\t\tnew Date().getTime(),event:'gtm.js'});var f=d.getElementsByTagName(s)[0],\n",
      "\t\t\t\t\tj=d.createElement(s),dl=l!='dataLayer'?'&l='+l:'';j.async=true;j.src=\n",
      "\t\t\t\t\t'https://www.googletagmanager.com/gtm.js?id='+i+dl\n",
      "\t\t\t\t\t\t\t\t\t    ;f.parentNode.insertBefore(j,f);\n",
      "\t\t\t\t    })(window,document,'script','dataLayer','GTM-P3S238');</script>\n",
      "\t\t\t<!-- End Google Tag Manager -->\n",
      "\t<title>Mieszkania Kraków na sprzedaż, wynajem - Sprzedajemy.pl</title><meta http-equiv=\"Content-Type\" content=\"text/html; charset=UTF-8\" >\n",
      "<meta http-equiv=\"X-UA-Compatible\" content=\"IE=edge\" >\n",
      "<meta name=\"description\" content=\"Ogłoszenia o tematyce:  w kategorii Mieszkania - Kupuj i sprzedawaj rzeczy używane i nowe w kategorii Mieszkania na Sprzedajemy.pl\" >\n",
      "<meta property=\"og:title\" content=\"Mieszkania Kraków na sprzedaż, wynajem - Sprzedajemy.pl\" >\n",
      "<meta property=\"og:type\" content=\"website\" >\n",
      "<meta property=\"og:image\" content=\"https://thumbs.img-sprzedajemy.pl/facebook/sprzedajemy.pl.png\" >\n",
      "<meta property=\"og:image:width\" content=\"200\" >\n",
      "<meta property=\"og:image:height\" content=\"200\" >\n",
      "<meta property=\"og:url\" content=\"https://sprzedajemy.pl/krakow/nieruchomosci/mieszkania\" >\n",
      "<meta property=\"og:site_name\" content=\"Sprzedajemy.pl\" >\n",
      "<meta property=\"fb:app_id\" content=\"173258269367442\" >\n",
      "<meta property=\"og:description\" content=\"Ogłoszenia o tematyce:  w kategorii Mieszkania - Kupuj i sprzedawaj rzeczy używane i nowe w kategorii Mieszkania na Sprzedajemy.pl\" >\n",
      "<meta name=\"robots\" content=\"noindex, follow\" >\t\t<script  async=\"async\" src=\"https://static.criteo.net/js/ld/publishertag.js\"></script>\n",
      "        <script  async=\"async\" src=\"https://ap.lijit.com/www/sovrn_beacon_standalone/sovrn_standalone_beacon.js?iid=13417409&amp;uid=sprzedajemy\" id=\"sBeacon\"></script>\n",
      "\t\t<script  async=\"async\" src=\"https://securepuba\n",
      "Titles: ['Mieszkanie na sprzedaż/zamiana 39m2', 'Strych do adaptacji, Błonia, ul. Filarecka', '2 lub 3 pokoje,62m2,balkon, Widok na Wawel', 'Mieszkanie z ogródkiem Zakrzówek bezczynszowe', '2 pokoje 41m2 blisko Aquaparku wkrótce tramwaj!', 'Mieszkanie przy Parku Rzecznym Tonie', 'Kraków, Stare Miasto sprzedaż/zamiana', 'Apartament, 2 pokoje, jadalnia, garaż,Krowodrza', '2 pokoje,garaż,wysoki standard,ul.Rakowicka,ENG', 'M2 dwustronne Bieńczyce dostępne do 25 kwietnia', 'Nowoczesne, wykończone, z garażem i balkonem', 'Mieszkanie 63.12m2 3 pok Kraków os. Piastów', 'Mieszkanie 66.72m2 3-pokojowe Kraków os. Piastów', 'Mieszkanie Kraków os. Piastów 63.12m2 3 pok', 'Mieszkanie Kraków Syrokomli 48m2 2 pok', 'Sprzedam mieszkanie/kawalerke', 'Mieszkanie 81.6m2 3-pok Kraków Armii Krajowej - okolice', 'Oferta sprzedaży mieszkania 70.75m2 3 pokojowe Kraków', 'Mieszkanie Kraków os. Piastów 34.84m 2 pokoje', 'Mieszkanie 63.12 metry 3 pokoje Kraków', 'Mieszkanie 59.45m2 Kraków os. Piastów', 'Sprzedaż mieszkania 36.83m 2 pok Kraków', 'Mieszkanie Kraków 77.16 metrów 3 pokoje', 'Mieszkanie 63.12m2 3-pokojowe Kraków', 'Sprzedaż mieszkania Kraków os. Piastów 34.84 metry 2 pokoje', 'Sprzedam mieszkanie Kraków os. Piastów 36.83m2 2-pokojowe', 'Mieszkanie Kraków os. Piastów 66.72m2 3-pok', 'Mieszkanie Kraków 66.72m2', 'Oferta sprzedaży mieszkania 51.69m2 3-pok Kraków Józefa Łepkowskiego', 'Mieszkanie do sprzedania 58.68m2 3 pokoje Kraków', 'Do sprzedaży mieszkanie 34.84m2 2-pok Kraków', 'Mieszkanie 81.52m2 3-pokojowe Kraków Armii Krajowej - okolice', 'Mieszkanie Kraków os. Piastów 63.12m2 3-pokojowe', 'Sprzedam mieszkanie 34.84m2 2-pokojowe Kraków', 'Oferta sprzedaży mieszkania 72.4m2 3 pokoje Kraków', 'Mieszkanie 36.83m2 2-pokojowe Kraków os. Piastów', 'Mieszkanie do sprzedania Kraków os. Piastów 60.35m2 3-pok', 'Mieszkanie 36.83m2 2-pokojowe Kraków os. Piastów', 'Mieszkanie 48.7m2 2 pokoje Kraków', 'Oferta sprzedaży mieszkania Kraków płk. Francesco Nullo 58m2 2-pok', 'Mieszkanie Kraków os. Piastów 63.12m2 3 pok', 'Mieszkanie Kraków 58.68m2', 'Mieszkanie Kraków os. Piastów 60.35m2', 'Mieszkanie Kraków 43.73m2 2-pokojowe', 'Mieszkanie 49m2 2 pokoje Kraków Pszenna', 'Mieszkanie 80.17m2 4-pokojowe Kraków Józefa Łepkowskiego', 'Mieszkanie Kraków os. Piastów 55.86m2 3 pokoje', 'Mieszkanie 36.83m2 2 pokoje Kraków os. Piastów', 'Mieszkanie 63.43m2 3 pokoje Kraków Józefa Łepkowskiego', 'Sprzedaż mieszkania Kraków 45.26m 2 pok', 'Oferta sprzedaży mieszkania Kraków 58.68m2 3-pokojowe', 'Mieszkanie 55.75m2 Kraków 29 listopada - okolice', 'Mieszkanie Kraków Armii Krajowej - okolice 93.92m2 4 pokoje', 'Mieszkanie Kraków 27.29m2 2-pokojowe', 'Mieszkanie 96.68m2 4-pok Kraków', 'Mieszkanie do sprzedania Kraków 50.12m2 2 pokoje', 'Mieszkanie na sprzedaż 71.15m2 3-pok Kraków Józefa Łepkowskiego', 'Mieszkanie Kraków os. Piastów 36.83m2 2-pokojowe', 'Mieszkanie 63.44m2 3 pok Kraków Józefa Łepkowskiego', 'Do sprzedaży mieszkanie Kraków Józefa Łepkowskiego 64.46m2 3 pok']\n",
      "60\n",
      "Prices: ['548 000 zł', '379 999 zł', '1 590 000 zł', '460 000 zł', '710 000 zł', '550 000 zł', '2 254 000 zł', '3 800 zł', '3 000 zł', '599 000 zł', '990 000 zł', '789 000 zł', '813 984 zł', '789 000 zł', '2 600 zł', '449 000 zł', '1 546 320 zł', '1 291 188 zł', '567 892 zł', '770 064 zł', '749 070 zł', '589 280 zł', '1 361 874 zł', '789 000 zł', '578 344 zł', '611 378 zł', '834 000 zł', '813 984 zł', '842 547 zł', '739 368 zł', '578 344 zł', '1 544 804 zł', '770 064 zł', '588 796 zł', '868 800 zł', '600 329 zł', '718 165 zł', '600 329 zł', '647 710 zł', '1 495 000 zł', '789 000 zł', '733 500 zł', '736 270 zł', '634 085 zł', '750 000 zł', '1 435 043 zł', '699 926 zł', '622 427 zł', '1 033 909 zł', '859 912 zł', '733 500 zł', '756 514 zł', '2 254 080 zł', '2 300 zł', '2 223 640 zł', '744 840 zł', '1 173 975 zł', '611 378 zł', '1 034 072 zł', '1 153 834 zł']\n",
      "60\n"
     ]
    }
   ],
   "source": [
    "import requests\n",
    "from bs4 import BeautifulSoup\n",
    "import pandas as pd\n",
    "import os\n",
    "\n",
    "url = \"https://sprzedajemy.pl/krakow/nieruchomosci/mieszkania?offset=0&items_per_page=60\"\n",
    "\n",
    "headers = {\n",
    "    \"User-Agent\": \"Mozilla/5.0 (Windows NT 10.0; Win64; x64) AppleWebKit/537.36 (KHTML, like Gecko) Chrome/58.0.3029.110 Safari/537.36\",\n",
    "    \"Accept\": \"text/html,application/xhtml+xml,application/xml;q=0.9,image/webp,image/apng,*/*;q=0.8\",\n",
    "    \"Accept-Encoding\": \"gzip, deflate, br\",\n",
    "    \"Accept-Language\": \"en-US,en;q=0.9,pl;q=0.8\",\n",
    "    \"Connection\": \"keep-alive\"\n",
    "}\n",
    "\n",
    "response = requests.get(url, headers=headers)\n",
    "response = requests.get(url, headers=headers)\n",
    "\n",
    "# Debugowanie odpowiedzi\n",
    "print(f\"Status Code: {response.status_code}\")\n",
    "print(f\"Response Headers: {response.headers}\")\n",
    "print(f\"Response Text (first 2000 chars): {response.text[:2000]}\")\n",
    "\n",
    "# Jeśli odpowiedź jest poprawna, wykonaj webscraping\n",
    "if response.status_code == 200:\n",
    "    soup = BeautifulSoup(response.content, \"html.parser\")\n",
    "\n",
    "    # Pobieranie ofert mieszkań\n",
    "    titles = [h2.a.text.strip() for h2 in soup.find_all(\"h2\", class_=\"title\") if h2.a]\n",
    "    prices = [p.text.replace(\"\\xa0\", \" \").strip() for p in soup.find_all(\"span\", class_=\"price\")]\n",
    "\n",
    "    print(\"Titles:\", titles)\n",
    "    print(len(titles))\n",
    "    print(\"Prices:\", prices)\n",
    "    print(len(prices))\n",
    "\n",
    "    df = pd.DataFrame({\"Title\": titles, \"Price\": prices})\n",
    "\n",
    "    # Dopisanie do pliku CSV\n",
    "    df.to_csv(\"scraped_data.csv\", mode='a', header=not os.path.exists('scraped_data.csv'), index=False)\n",
    "else:\n",
    "    print(\"Failed to retrieve data.\")\n"
   ]
  }
 ],
 "metadata": {
  "colab": {
   "provenance": []
  },
  "kernelspec": {
   "display_name": "Python 3",
   "name": "python3"
  },
  "language_info": {
   "codemirror_mode": {
    "name": "ipython",
    "version": 3
   },
   "file_extension": ".py",
   "mimetype": "text/x-python",
   "name": "python",
   "nbconvert_exporter": "python",
   "pygments_lexer": "ipython3",
   "version": "3.9.22"
  },
  "papermill": {
   "default_parameters": {},
   "duration": 3.464578,
   "end_time": "2025-04-19T15:25:53.334789",
   "environment_variables": {},
   "exception": null,
   "input_path": "nb.ipynb",
   "output_path": "nbo.ipynb",
   "parameters": {},
   "start_time": "2025-04-19T15:25:49.870211",
   "version": "2.6.0"
  }
 },
 "nbformat": 4,
 "nbformat_minor": 5
}